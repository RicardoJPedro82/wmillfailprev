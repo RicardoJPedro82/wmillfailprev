{
 "cells": [
  {
   "cell_type": "code",
   "execution_count": 1,
   "metadata": {
    "ExecuteTime": {
     "end_time": "2021-02-21T16:04:42.256851Z",
     "start_time": "2021-02-21T16:04:39.646585Z"
    },
    "scrolled": true
   },
   "outputs": [],
   "source": [
    "%load_ext autoreload\n",
    "%autoreload 2\n",
    "from b_get_data import *\n",
    "from c_model_related import CustomStandardScaler as Cscl\n",
    "from c_model_related import Trainer as tr\n",
    "from c_model_related import metrics_create_df\n",
    "from c_model_related import scaler_antigo\n",
    "import joblib\n",
    "from sklearn.preprocessing import StandardScaler"
   ]
  },
  {
   "cell_type": "code",
   "execution_count": 2,
   "metadata": {
    "ExecuteTime": {
     "end_time": "2021-02-21T16:04:42.396185Z",
     "start_time": "2021-02-21T16:04:42.262818Z"
    }
   },
   "outputs": [],
   "source": [
    "gen_features_drop = [\n",
    "    'Gen_RPM_Max', 'Gen_RPM_Min', 'Gen_Phase1_Temp_Avg', 'Gen_Phase3_Temp_Avg',\n",
    "    'Amb_WindSpeed_Est_Avg', 'Grd_RtrInvPhase1_Temp_Avg',\n",
    "    'Grd_RtrInvPhase3_Temp_Avg', 'Rtr_RPM_Max', 'Rtr_RPM_Min',\n",
    "    'Blds_PitchAngle_Max', 'Blds_PitchAngle_Min',\n",
    "    'Prod_LatestAvg_ReactPwrGen1', 'Cont_Hub_Temp_Avg', 'Spin_Temp_Avg',\n",
    "    'Rtr_RPM_Std', 'Rtr_RPM_Avg', 'Cont_VCP_Temp_Avg'\n",
    "]\n",
    "\n",
    "gen_bear_features_drop = [\n",
    "    'Gen_RPM_Max', 'Gen_RPM_Min', 'Gen_Phase1_Temp_Avg', 'Gen_Phase3_Temp_Avg',\n",
    "    'Amb_WindSpeed_Est_Avg', 'Grd_RtrInvPhase1_Temp_Avg',\n",
    "    'Grd_RtrInvPhase3_Temp_Avg', 'Rtr_RPM_Max', 'Rtr_RPM_Min',\n",
    "    'Blds_PitchAngle_Max', 'Blds_PitchAngle_Min',\n",
    "    'Prod_LatestAvg_ReactPwrGen1', 'Cont_Hub_Temp_Avg', 'Spin_Temp_Avg',\n",
    "    'Rtr_RPM_Std', 'Rtr_RPM_Avg', 'Cont_VCP_Temp_Avg'\n",
    "]\n",
    "\n",
    "hyd_features_drop = [\n",
    "    'Rtr_RPM_Max', 'Rtr_RPM_Min', 'Blds_PitchAngle_Max', 'Blds_PitchAngle_Min',\n",
    "    'Blds_PitchAngle_Max', 'Grd_RtrInvPhase3_Temp_Avg', 'Grd_Busbar_Temp_Avg',\n",
    "    'Amb_WindSpeed_Est_Avg', 'Spin_Temp_Avg', 'Cont_Hub_Temp_Avg',\n",
    "    'Grd_RtrInvPhase1_Temp_Avg', 'Cont_VCP_Temp_Avg'\n",
    "]\n",
    "\n",
    "gearbox_features_drop = [\n",
    "    'Rtr_RPM_Max', 'Rtr_RPM_Min', 'Grd_RtrInvPhase1_Temp_Avg',\n",
    "    'Grd_RtrInvPhase3_Temp_Avg', 'Blds_PitchAngle_Min', 'Blds_PitchAngle_Max',\n",
    "    'Cont_VCP_Temp_Avg', 'Grd_Busbar_Temp_Avg', 'Amb_WindSpeed_Est_Avg',\n",
    "    'Spin_Temp_Avg'\n",
    "]\n",
    "\n",
    "transf_features_drop = [\n",
    "    'HVTrafo_Phase1_Temp_Avg', 'HVTrafo_Phase3_Temp_Avg', 'Rtr_RPM_Max',\n",
    "    'Rtr_RPM_Min', 'Grd_RtrInvPhase1_Temp_Avg', 'Grd_RtrInvPhase3_Temp_Avg',\n",
    "    'Blds_PitchAngle_Min', 'Blds_PitchAngle_Max', 'Amb_WindSpeed_Est_Avg',\n",
    "    'Spin_Temp_Avg', 'Cont_VCP_Temp_Avg'\n",
    "]\n",
    "\n",
    "\n",
    "feat_drop_list = [\n",
    "    gen_features_drop, hyd_features_drop, gen_bear_features_drop,\n",
    "    transf_features_drop, gearbox_features_drop\n",
    "]"
   ]
  },
  {
   "cell_type": "markdown",
   "metadata": {},
   "source": [
    "# Obter os dataframes dos ficheiros"
   ]
  },
  {
   "cell_type": "code",
   "execution_count": 3,
   "metadata": {
    "ExecuteTime": {
     "end_time": "2021-02-21T16:05:22.175678Z",
     "start_time": "2021-02-21T16:04:42.402170Z"
    },
    "scrolled": true
   },
   "outputs": [],
   "source": [
    "# Obter o caminho dos ficheiros.\n",
    "root_dir = os.path.abspath('..')\n",
    "csv_path = os.path.join(root_dir, 'rawdata')\n",
    "# Importar o dataset de failures\n",
    "failures_path = os.path.join(csv_path, 'wind-farm-1-failures-training.csv')\n",
    "failures_df = get_data(failures_path)\n",
    "# Importar o dataset de signals\n",
    "signals_path = os.path.join(csv_path, 'wind-farm-1-signals-training.csv')\n",
    "signals_df = get_data(signals_path)\n",
    "# Cortar colunas que não têm valores\n",
    "cols_to_drop = ['Prod_LatestAvg_ActPwrGen2', 'Prod_LatestAvg_ReactPwrGen2']\n",
    "signals_df = signals_df.drop(columns=cols_to_drop)"
   ]
  },
  {
   "cell_type": "code",
   "execution_count": 4,
   "metadata": {
    "ExecuteTime": {
     "end_time": "2021-02-21T16:05:22.332704Z",
     "start_time": "2021-02-21T16:05:22.177605Z"
    }
   },
   "outputs": [],
   "source": [
    "# print('002 - Criar o dicionário com os Dataframes originais')\n",
    "df_dict = {'failures_df':failures_df, 'signals_df':signals_df}"
   ]
  },
  {
   "cell_type": "code",
   "execution_count": 5,
   "metadata": {
    "ExecuteTime": {
     "end_time": "2021-02-21T16:05:22.489795Z",
     "start_time": "2021-02-21T16:05:22.337693Z"
    }
   },
   "outputs": [
    {
     "data": {
      "text/plain": [
       "dict_keys(['failures_df', 'signals_df'])"
      ]
     },
     "execution_count": 5,
     "metadata": {},
     "output_type": "execute_result"
    }
   ],
   "source": [
    "df_dict.keys()"
   ]
  },
  {
   "cell_type": "markdown",
   "metadata": {},
   "source": [
    "# Criação de datasets de components"
   ]
  },
  {
   "cell_type": "code",
   "execution_count": 6,
   "metadata": {
    "ExecuteTime": {
     "end_time": "2021-02-21T16:05:22.989487Z",
     "start_time": "2021-02-21T16:05:22.493785Z"
    }
   },
   "outputs": [],
   "source": [
    "df_generator, df_gen_bear, df_transformer, df_hydraulic, df_gearbox = component_df_creation(\n",
    "    signals_df)"
   ]
  },
  {
   "cell_type": "code",
   "execution_count": 7,
   "metadata": {
    "ExecuteTime": {
     "end_time": "2021-02-21T16:05:23.131194Z",
     "start_time": "2021-02-21T16:05:22.992478Z"
    }
   },
   "outputs": [],
   "source": [
    "comp_df_dict = {\n",
    "    'df_generator': df_generator,\n",
    "    'df_hydraulic': df_hydraulic,\n",
    "    'df_gen_bear': df_gen_bear,\n",
    "    'df_transformer': df_transformer,\n",
    "    'df_gearbox': df_gearbox\n",
    "}"
   ]
  },
  {
   "cell_type": "code",
   "execution_count": 8,
   "metadata": {
    "ExecuteTime": {
     "end_time": "2021-02-21T16:05:23.272819Z",
     "start_time": "2021-02-21T16:05:23.137179Z"
    }
   },
   "outputs": [
    {
     "name": "stdout",
     "output_type": "stream",
     "text": [
      "(434145, 45)\n",
      "(434145, 34)\n",
      "(434145, 45)\n",
      "(434145, 36)\n",
      "(434145, 33)\n"
     ]
    }
   ],
   "source": [
    "for key in comp_df_dict:\n",
    "    print(comp_df_dict[key].shape)"
   ]
  },
  {
   "cell_type": "markdown",
   "metadata": {
    "ExecuteTime": {
     "end_time": "2021-02-20T16:38:29.701499Z",
     "start_time": "2021-02-20T16:38:29.593785Z"
    }
   },
   "source": [
    "# Cópia dos df para só carregar uma vez no ficheiro"
   ]
  },
  {
   "cell_type": "code",
   "execution_count": 9,
   "metadata": {
    "ExecuteTime": {
     "end_time": "2021-02-21T16:05:23.410480Z",
     "start_time": "2021-02-21T16:05:23.279796Z"
    }
   },
   "outputs": [],
   "source": [
    "comp_prep_df_dict = comp_df_dict.copy()"
   ]
  },
  {
   "cell_type": "markdown",
   "metadata": {},
   "source": [
    "# Merge dos DF com o DF de failures"
   ]
  },
  {
   "cell_type": "code",
   "execution_count": 10,
   "metadata": {
    "ExecuteTime": {
     "end_time": "2021-02-21T16:05:29.336487Z",
     "start_time": "2021-02-21T16:05:23.415467Z"
    }
   },
   "outputs": [],
   "source": [
    "component_list = [\n",
    "    'GENERATOR', 'HYDRAULIC_GROUP', 'GENERATOR_BEARING', 'TRANSFORMER',\n",
    "    'GEARBOX'\n",
    "]\n",
    "for i, key in enumerate(comp_prep_df_dict):\n",
    "    comp_prep_df_dict[key] = sig_fail_merge_dfs(sig_df=comp_prep_df_dict[key],\n",
    "                                                fail_df=failures_df,\n",
    "                                                component=component_list[i])"
   ]
  },
  {
   "cell_type": "code",
   "execution_count": 11,
   "metadata": {
    "ExecuteTime": {
     "end_time": "2021-02-21T16:05:29.461413Z",
     "start_time": "2021-02-21T16:05:29.338481Z"
    }
   },
   "outputs": [
    {
     "name": "stdout",
     "output_type": "stream",
     "text": [
      "(434147, 46)\n",
      "(434145, 35)\n",
      "(434145, 46)\n",
      "(434145, 37)\n",
      "(434145, 34)\n"
     ]
    }
   ],
   "source": [
    "for key in comp_prep_df_dict:\n",
    "    print(comp_prep_df_dict[key].shape)"
   ]
  },
  {
   "cell_type": "markdown",
   "metadata": {},
   "source": [
    "# Fillna by turbine"
   ]
  },
  {
   "cell_type": "code",
   "execution_count": 12,
   "metadata": {
    "ExecuteTime": {
     "end_time": "2021-02-21T16:05:40.276350Z",
     "start_time": "2021-02-21T16:05:29.465389Z"
    }
   },
   "outputs": [
    {
     "name": "stderr",
     "output_type": "stream",
     "text": [
      "C:\\Users\\ricar\\code\\RicardoJPedro82\\wmillfailprev\\wmillfailprev\\b_get_data.py:110: SettingWithCopyWarning: \n",
      "A value is trying to be set on a copy of a slice from a DataFrame.\n",
      "Try using .loc[row_indexer,col_indexer] = value instead\n",
      "\n",
      "See the caveats in the documentation: http://pandas.pydata.org/pandas-docs/stable/indexing.html#indexing-view-versus-copy\n",
      "  index['date'] = index['Timestamp']\n",
      "C:\\Users\\ricar\\code\\RicardoJPedro82\\wmillfailprev\\wmillfailprev\\b_get_data.py:128: FutureWarning: Sorting because non-concatenation axis is not aligned. A future version\n",
      "of pandas will change to not sort by default.\n",
      "\n",
      "To accept the future behavior, pass 'sort=False'.\n",
      "\n",
      "To retain the current behavior and silence the warning, pass 'sort=True'.\n",
      "\n",
      "  df_ = pd.concat([df_, df_final])\n",
      "C:\\Users\\ricar\\code\\RicardoJPedro82\\wmillfailprev\\wmillfailprev\\b_get_data.py:120: SettingWithCopyWarning: \n",
      "A value is trying to be set on a copy of a slice from a DataFrame.\n",
      "Try using .loc[row_indexer,col_indexer] = value instead\n",
      "\n",
      "See the caveats in the documentation: http://pandas.pydata.org/pandas-docs/stable/indexing.html#indexing-view-versus-copy\n",
      "  df_merged['date'] = df_merged['Timestamp']\n",
      "C:\\Users\\ricar\\code\\RicardoJPedro82\\wmillfailprev\\wmillfailprev\\b_get_data.py:121: SettingWithCopyWarning: \n",
      "A value is trying to be set on a copy of a slice from a DataFrame.\n",
      "Try using .loc[row_indexer,col_indexer] = value instead\n",
      "\n",
      "See the caveats in the documentation: http://pandas.pydata.org/pandas-docs/stable/indexing.html#indexing-view-versus-copy\n",
      "  df_merged['TTF'] = 0 # df_merged['date'] - df_merged['Timestamp']\n"
     ]
    }
   ],
   "source": [
    "turbine_list = ['T11', 'T06', 'T01', 'T09', 'T07']\n",
    "for i, key in enumerate(comp_prep_df_dict):\n",
    "    comp_prep_df_dict[key] = fill_na_by_turbine(comp_prep_df_dict[key],\n",
    "                                                turbine_list)"
   ]
  },
  {
   "cell_type": "code",
   "execution_count": 13,
   "metadata": {
    "ExecuteTime": {
     "end_time": "2021-02-21T16:05:40.399173Z",
     "start_time": "2021-02-21T16:05:40.279341Z"
    }
   },
   "outputs": [
    {
     "name": "stdout",
     "output_type": "stream",
     "text": [
      "(434147, 47)\n",
      "(434145, 36)\n",
      "(434145, 47)\n",
      "(434145, 38)\n",
      "(434145, 35)\n"
     ]
    }
   ],
   "source": [
    "for key in comp_prep_df_dict:\n",
    "    print(comp_prep_df_dict[key].shape)"
   ]
  },
  {
   "cell_type": "code",
   "execution_count": 14,
   "metadata": {
    "ExecuteTime": {
     "end_time": "2021-02-21T16:05:43.423895Z",
     "start_time": "2021-02-21T16:05:40.402166Z"
    }
   },
   "outputs": [
    {
     "name": "stdout",
     "output_type": "stream",
     "text": [
      "0    47\n",
      "dtype: int64 df_generator\n",
      "0    36\n",
      "dtype: int64 df_hydraulic\n",
      "0    47\n",
      "dtype: int64 df_gen_bear\n",
      "0    38\n",
      "dtype: int64 df_transformer\n",
      "0    35\n",
      "dtype: int64 df_gearbox\n"
     ]
    }
   ],
   "source": [
    "for key in comp_prep_df_dict:\n",
    "    print(comp_prep_df_dict[key].isna().sum().value_counts(), key)"
   ]
  },
  {
   "cell_type": "markdown",
   "metadata": {},
   "source": [
    "# Criação de Variável alvo"
   ]
  },
  {
   "cell_type": "code",
   "execution_count": 15,
   "metadata": {
    "ExecuteTime": {
     "end_time": "2021-02-21T16:06:36.517721Z",
     "start_time": "2021-02-21T16:05:43.426890Z"
    }
   },
   "outputs": [],
   "source": [
    "for key in comp_prep_df_dict:\n",
    "    comp_prep_df_dict[key] = aplic_var_target(comp_prep_df_dict[key], 60)"
   ]
  },
  {
   "cell_type": "code",
   "execution_count": 16,
   "metadata": {
    "ExecuteTime": {
     "end_time": "2021-02-21T16:06:36.689983Z",
     "start_time": "2021-02-21T16:06:36.519692Z"
    }
   },
   "outputs": [
    {
     "name": "stdout",
     "output_type": "stream",
     "text": [
      "(434147, 48) df_generator\n",
      "(434145, 37) df_hydraulic\n",
      "(434145, 48) df_gen_bear\n",
      "(434145, 39) df_transformer\n",
      "(434145, 36) df_gearbox\n"
     ]
    }
   ],
   "source": [
    "for key in comp_prep_df_dict:\n",
    "    print(comp_prep_df_dict[key].shape, key)"
   ]
  },
  {
   "cell_type": "markdown",
   "metadata": {},
   "source": [
    "# Feature selection"
   ]
  },
  {
   "cell_type": "code",
   "execution_count": 17,
   "metadata": {
    "ExecuteTime": {
     "end_time": "2021-02-21T16:06:37.376448Z",
     "start_time": "2021-02-21T16:06:36.692976Z"
    }
   },
   "outputs": [],
   "source": [
    "for i, key in enumerate(comp_prep_df_dict):\n",
    "    comp_prep_df_dict[key] = comp_prep_df_dict[key].drop(\n",
    "        columns=feat_drop_list[i])"
   ]
  },
  {
   "cell_type": "code",
   "execution_count": 18,
   "metadata": {
    "ExecuteTime": {
     "end_time": "2021-02-21T16:06:37.547208Z",
     "start_time": "2021-02-21T16:06:37.380439Z"
    }
   },
   "outputs": [
    {
     "name": "stdout",
     "output_type": "stream",
     "text": [
      "(434147, 31) df_generator\n",
      "(434145, 26) df_hydraulic\n",
      "(434145, 31) df_gen_bear\n",
      "(434145, 28) df_transformer\n",
      "(434145, 26) df_gearbox\n"
     ]
    }
   ],
   "source": [
    "for key in comp_prep_df_dict:\n",
    "    print(comp_prep_df_dict[key].shape, key)"
   ]
  },
  {
   "cell_type": "code",
   "execution_count": 19,
   "metadata": {
    "ExecuteTime": {
     "end_time": "2021-02-21T16:06:37.857896Z",
     "start_time": "2021-02-21T16:06:37.553194Z"
    }
   },
   "outputs": [
    {
     "data": {
      "text/plain": [
       "Index(['Amb_Temp_Avg', 'Amb_WindDir_Abs_Avg', 'Amb_WindDir_Relative_Avg', 'Amb_WindSpeed_Avg', 'Amb_WindSpeed_Max', 'Amb_WindSpeed_Min', 'Amb_WindSpeed_Std', 'Blds_PitchAngle_Avg',\n",
       "       'Blds_PitchAngle_Std', 'Component', 'Cont_Top_Temp_Avg', 'Cont_VCP_ChokcoilTemp_Avg', 'Cont_VCP_WtrTemp_Avg', 'Grd_Prod_VoltPhse1_Avg', 'Grd_Prod_VoltPhse2_Avg', 'Grd_Prod_VoltPhse3_Avg',\n",
       "       'Grd_RtrInvPhase2_Temp_Avg', 'Hyd_Oil_Temp_Avg', 'Nac_Direction_Avg', 'Nac_Temp_Avg', 'Rtr_RPM_Avg', 'Rtr_RPM_Std', 'TTF', 'Timestamp', 'Turbine_ID', '60_days'],\n",
       "      dtype='object')"
      ]
     },
     "execution_count": 19,
     "metadata": {},
     "output_type": "execute_result"
    }
   ],
   "source": [
    "comp_prep_df_dict['df_hydraulic'].columns"
   ]
  },
  {
   "cell_type": "markdown",
   "metadata": {
    "ExecuteTime": {
     "end_time": "2021-02-20T16:42:16.394352Z",
     "start_time": "2021-02-20T16:42:16.390562Z"
    }
   },
   "source": [
    "# Agrupar pela medida de tempo seleccionada."
   ]
  },
  {
   "cell_type": "code",
   "execution_count": 21,
   "metadata": {
    "ExecuteTime": {
     "end_time": "2021-02-21T16:03:13.231023Z",
     "start_time": "2021-02-21T16:03:10.709152Z"
    }
   },
   "outputs": [],
   "source": [
    "for key in comp_prep_df_dict:\n",
    "    comp_prep_df_dict[key] = group_por_frequency(comp_prep_df_dict[key],\n",
    "                                                 period='Dia')"
   ]
  },
  {
   "cell_type": "code",
   "execution_count": 22,
   "metadata": {
    "ExecuteTime": {
     "end_time": "2021-02-21T16:03:19.129651Z",
     "start_time": "2021-02-21T16:03:19.034772Z"
    }
   },
   "outputs": [
    {
     "data": {
      "text/plain": [
       "Index(['Turbine_ID', 'Date', 'Amb_WindDir_Abs_Avg', 'Amb_WindDir_Relative_Avg', 'Amb_WindSpeed_Avg', 'Amb_WindSpeed_Max', 'Amb_WindSpeed_Min', 'Amb_WindSpeed_Std', 'Blds_PitchAngle_Avg',\n",
       "       'Blds_PitchAngle_Std', 'Component', 'Grd_Prod_VoltPhse1_Avg', 'Grd_Prod_VoltPhse2_Avg', 'Grd_Prod_VoltPhse3_Avg', 'Nac_Direction_Avg', 'Rtr_RPM_Avg', 'Rtr_RPM_Std', 'TTF', '60_days'],\n",
       "      dtype='object')"
      ]
     },
     "execution_count": 22,
     "metadata": {},
     "output_type": "execute_result"
    }
   ],
   "source": [
    "comp_prep_df_dict['df_hydraulic'].columns"
   ]
  },
  {
   "cell_type": "code",
   "execution_count": 20,
   "metadata": {
    "ExecuteTime": {
     "end_time": "2021-02-20T17:41:31.525243Z",
     "start_time": "2021-02-20T17:41:31.357169Z"
    }
   },
   "outputs": [
    {
     "name": "stdout",
     "output_type": "stream",
     "text": [
      "(3042, 31) df_generator\n",
      "(3041, 19) df_hydraulic\n",
      "(3041, 18) df_gen_bear\n",
      "(3041, 19) df_transformer\n",
      "(3041, 16) df_gearbox\n"
     ]
    }
   ],
   "source": [
    "for key in comp_prep_df_dict:\n",
    "    print(comp_prep_df_dict[key].shape, key)"
   ]
  },
  {
   "cell_type": "markdown",
   "metadata": {},
   "source": [
    "# Adicionar as medidas de alisamento"
   ]
  },
  {
   "cell_type": "code",
   "execution_count": 21,
   "metadata": {
    "ExecuteTime": {
     "end_time": "2021-02-20T17:41:32.181889Z",
     "start_time": "2021-02-20T17:41:31.530230Z"
    }
   },
   "outputs": [],
   "source": [
    "for key in comp_prep_df_dict:\n",
    "    comp_prep_df_dict[key] = add_features(comp_prep_df_dict[key], rolling_win_size=10)"
   ]
  },
  {
   "cell_type": "code",
   "execution_count": 23,
   "metadata": {
    "ExecuteTime": {
     "end_time": "2021-02-20T17:41:34.058146Z",
     "start_time": "2021-02-20T17:41:33.921509Z"
    }
   },
   "outputs": [
    {
     "name": "stdout",
     "output_type": "stream",
     "text": [
      "(3042, 83) df_generator\n",
      "(3041, 47) df_hydraulic\n",
      "(3041, 44) df_gen_bear\n",
      "(3041, 47) df_transformer\n",
      "(3041, 38) df_gearbox\n"
     ]
    }
   ],
   "source": [
    "for key in comp_prep_df_dict:\n",
    "    print(comp_prep_df_dict[key].shape, key)"
   ]
  },
  {
   "cell_type": "markdown",
   "metadata": {},
   "source": [
    "# Train and test split"
   ]
  },
  {
   "cell_type": "code",
   "execution_count": 23,
   "metadata": {
    "ExecuteTime": {
     "end_time": "2021-02-20T17:20:03.363874Z",
     "start_time": "2021-02-20T17:20:03.199313Z"
    }
   },
   "outputs": [],
   "source": [
    "df_train_comp_dict = {}\n",
    "df_test_comp_dict = {}\n",
    "for key in comp_prep_df_dict:\n",
    "    df_train_comp_dict[key] = prepare_train_df(comp_prep_df_dict[key], meses = 3)\n",
    "    df_test_comp_dict[key] = prepare_test_df(comp_prep_df_dict[key], meses = 3)"
   ]
  },
  {
   "cell_type": "code",
   "execution_count": 24,
   "metadata": {
    "ExecuteTime": {
     "end_time": "2021-02-20T17:20:03.505495Z",
     "start_time": "2021-02-20T17:20:03.367864Z"
    }
   },
   "outputs": [
    {
     "name": "stdout",
     "output_type": "stream",
     "text": [
      "(2577, 85) df_generator\n",
      "(2576, 49) df_hydraulic\n",
      "(2576, 46) df_gen_bear\n",
      "(2576, 49) df_transformer\n",
      "(2576, 40) df_gearbox\n",
      "(465, 85) df_generator\n",
      "(465, 49) df_hydraulic\n",
      "(465, 46) df_gen_bear\n",
      "(465, 49) df_transformer\n",
      "(465, 40) df_gearbox\n"
     ]
    }
   ],
   "source": [
    "for key in df_train_comp_dict:\n",
    "    print(df_train_comp_dict[key].shape, key)\n",
    "for key in df_test_comp_dict:\n",
    "    print(df_test_comp_dict[key].shape, key)"
   ]
  },
  {
   "cell_type": "code",
   "execution_count": 25,
   "metadata": {
    "ExecuteTime": {
     "end_time": "2021-02-20T17:20:03.661074Z",
     "start_time": "2021-02-20T17:20:03.508483Z"
    }
   },
   "outputs": [
    {
     "name": "stdout",
     "output_type": "stream",
     "text": [
      "(2577, 85) df_generator\n",
      "(2576, 49) df_hydraulic\n",
      "(2576, 46) df_gen_bear\n",
      "(2576, 49) df_transformer\n",
      "(2576, 40) df_gearbox\n",
      "(465, 85) df_generator\n",
      "(465, 49) df_hydraulic\n",
      "(465, 46) df_gen_bear\n",
      "(465, 49) df_transformer\n",
      "(465, 40) df_gearbox\n"
     ]
    }
   ],
   "source": [
    "for key in df_train_comp_dict:\n",
    "    print(df_train_comp_dict[key].shape, key)\n",
    "for key in df_test_comp_dict:\n",
    "    print(df_test_comp_dict[key].shape, key)"
   ]
  },
  {
   "cell_type": "markdown",
   "metadata": {
    "ExecuteTime": {
     "end_time": "2021-02-20T16:43:29.646555Z",
     "start_time": "2021-02-20T16:43:29.633593Z"
    }
   },
   "source": [
    "# Criar o x_train, x_test, y_train e o y_test "
   ]
  },
  {
   "cell_type": "code",
   "execution_count": 26,
   "metadata": {
    "ExecuteTime": {
     "end_time": "2021-02-20T17:20:03.818655Z",
     "start_time": "2021-02-20T17:20:03.665065Z"
    }
   },
   "outputs": [
    {
     "name": "stdout",
     "output_type": "stream",
     "text": [
      "012 - separar entre x_train, x_test\n"
     ]
    }
   ],
   "source": [
    "print('012 - separar entre x_train, x_test')\n",
    "x_train = df_train_comp_dict.copy()\n",
    "y_train = df_train_comp_dict.copy()\n",
    "x_test = df_test_comp_dict.copy()\n",
    "y_test = df_test_comp_dict.copy()"
   ]
  },
  {
   "cell_type": "code",
   "execution_count": 27,
   "metadata": {
    "ExecuteTime": {
     "end_time": "2021-02-20T17:20:04.117280Z",
     "start_time": "2021-02-20T17:20:03.822647Z"
    }
   },
   "outputs": [
    {
     "name": "stdout",
     "output_type": "stream",
     "text": [
      "(2577, 85) df_generator 0    85\n",
      "dtype: int64\n",
      "(2576, 49) df_hydraulic 0    49\n",
      "dtype: int64\n",
      "(2576, 46) df_gen_bear 0    46\n",
      "dtype: int64\n",
      "(2576, 49) df_transformer 0    49\n",
      "dtype: int64\n",
      "(2576, 40) df_gearbox 0    40\n",
      "dtype: int64\n",
      "(465, 85) df_generator 0    85\n",
      "dtype: int64\n",
      "(465, 49) df_hydraulic 0    49\n",
      "dtype: int64\n",
      "(465, 46) df_gen_bear 0    46\n",
      "dtype: int64\n",
      "(465, 49) df_transformer 0    49\n",
      "dtype: int64\n",
      "(465, 40) df_gearbox 0    40\n",
      "dtype: int64\n",
      "(2577, 85) df_generator 0    85\n",
      "dtype: int64\n",
      "(2576, 49) df_hydraulic 0    49\n",
      "dtype: int64\n",
      "(2576, 46) df_gen_bear 0    46\n",
      "dtype: int64\n",
      "(2576, 49) df_transformer 0    49\n",
      "dtype: int64\n",
      "(2576, 40) df_gearbox 0    40\n",
      "dtype: int64\n",
      "(465, 85) df_generator 0    85\n",
      "dtype: int64\n",
      "(465, 49) df_hydraulic 0    49\n",
      "dtype: int64\n",
      "(465, 46) df_gen_bear 0    46\n",
      "dtype: int64\n",
      "(465, 49) df_transformer 0    49\n",
      "dtype: int64\n",
      "(465, 40) df_gearbox 0    40\n",
      "dtype: int64\n"
     ]
    }
   ],
   "source": [
    "for key in x_train:\n",
    "    print(x_train[key].shape, key, x_train[key].isna().sum().value_counts())\n",
    "for key in x_test:\n",
    "    print(x_test[key].shape, key, x_test[key].isna().sum().value_counts())\n",
    "for key in y_train:\n",
    "    print(y_train[key].shape, key, y_train[key].isna().sum().value_counts())\n",
    "for key in y_test:\n",
    "    print(y_test[key].shape, key, y_test[key].isna().sum().value_counts())"
   ]
  },
  {
   "cell_type": "code",
   "execution_count": null,
   "metadata": {
    "ExecuteTime": {
     "end_time": "2021-02-20T17:05:19.991756Z",
     "start_time": "2021-02-20T17:05:19.870085Z"
    }
   },
   "outputs": [],
   "source": []
  },
  {
   "cell_type": "code",
   "execution_count": 28,
   "metadata": {
    "ExecuteTime": {
     "end_time": "2021-02-20T17:20:04.287141Z",
     "start_time": "2021-02-20T17:20:04.122268Z"
    }
   },
   "outputs": [
    {
     "name": "stdout",
     "output_type": "stream",
     "text": [
      "(2577, 85) df_generator\n",
      "(2576, 49) df_hydraulic\n",
      "(2576, 46) df_gen_bear\n",
      "(2576, 49) df_transformer\n",
      "(2576, 40) df_gearbox\n",
      "(2577, 85) df_generator\n",
      "(2576, 49) df_hydraulic\n",
      "(2576, 46) df_gen_bear\n",
      "(2576, 49) df_transformer\n",
      "(2576, 40) df_gearbox\n",
      "(465, 85) df_generator\n",
      "(465, 49) df_hydraulic\n",
      "(465, 46) df_gen_bear\n",
      "(465, 49) df_transformer\n",
      "(465, 40) df_gearbox\n",
      "(465, 85) df_generator\n",
      "(465, 49) df_hydraulic\n",
      "(465, 46) df_gen_bear\n",
      "(465, 49) df_transformer\n",
      "(465, 40) df_gearbox\n"
     ]
    }
   ],
   "source": [
    "for key in x_train:\n",
    "    print(x_train[key].shape, key)\n",
    "for key in y_train:\n",
    "    print(y_train[key].shape, key)\n",
    "for key in x_test:\n",
    "    print(x_test[key].shape, key)\n",
    "for key in y_test:\n",
    "    print(y_test[key].shape, key)"
   ]
  },
  {
   "cell_type": "markdown",
   "metadata": {},
   "source": [
    "# Model training - variables preparation"
   ]
  },
  {
   "cell_type": "code",
   "execution_count": 29,
   "metadata": {
    "ExecuteTime": {
     "end_time": "2021-02-20T17:20:04.462669Z",
     "start_time": "2021-02-20T17:20:04.290160Z"
    }
   },
   "outputs": [
    {
     "name": "stdout",
     "output_type": "stream",
     "text": [
      "012 - separar entre x_train, x_test\n"
     ]
    }
   ],
   "source": [
    "print('012 - separar entre x_train, x_test')\n",
    "# retirar as colunas que não devem entrar no x\n",
    "cols_to_drop_train = ['Date', 'TTF', '60_days', 'Component']\n",
    "for key in x_train:\n",
    "    x_train[key] = x_train[key].drop(columns=cols_to_drop_train)\n",
    "    x_test[key] = x_test[key].drop(columns=cols_to_drop_train)"
   ]
  },
  {
   "cell_type": "code",
   "execution_count": 30,
   "metadata": {
    "ExecuteTime": {
     "end_time": "2021-02-20T17:20:04.654156Z",
     "start_time": "2021-02-20T17:20:04.466661Z"
    }
   },
   "outputs": [
    {
     "name": "stdout",
     "output_type": "stream",
     "text": [
      "012.1 - considerar no y set apenas as turbinas que tiveram falhas\n"
     ]
    }
   ],
   "source": [
    "print('012.1 - considerar no y set apenas as turbinas que tiveram falhas')\n",
    "train_turbines = {\n",
    "    'df_generator': ['T11', 'T06'],\n",
    "    'df_hydraulic': ['T06', 'T11'],\n",
    "    'df_gen_bear': ['T07', 'T09'],\n",
    "    'df_transformer': ['T07'],\n",
    "    'df_gearbox': ['T09']\n",
    "}\n",
    "for key in df_train_comp_dict:\n",
    "    y_train[key] = y_train[key][y_train[key]['Turbine_ID'].isin(train_turbines[key])]\n",
    "    x_train[key] = x_train[key][x_train[key]['Turbine_ID'].isin(train_turbines[key])]"
   ]
  },
  {
   "cell_type": "code",
   "execution_count": 31,
   "metadata": {
    "ExecuteTime": {
     "end_time": "2021-02-20T17:20:04.841656Z",
     "start_time": "2021-02-20T17:20:04.658147Z"
    }
   },
   "outputs": [
    {
     "name": "stdout",
     "output_type": "stream",
     "text": [
      "xxx - transformar o y de float para int\n"
     ]
    }
   ],
   "source": [
    "print('xxx - transformar o y de float para int')\n",
    "col_to_mantain_test = ['60_days']\n",
    "for key in y_train:\n",
    "    y_train[key] = y_train[key][col_to_mantain_test].to_numpy().astype(int)[:,0]\n",
    "    y_test[key] = y_test[key][col_to_mantain_test].to_numpy().astype(int)[:,0]"
   ]
  },
  {
   "cell_type": "code",
   "execution_count": 32,
   "metadata": {
    "ExecuteTime": {
     "end_time": "2021-02-20T17:20:05.014195Z",
     "start_time": "2021-02-20T17:20:04.846641Z"
    }
   },
   "outputs": [
    {
     "name": "stdout",
     "output_type": "stream",
     "text": [
      "(1026, 79) df_generator\n",
      "(1025, 43) df_hydraulic\n",
      "(1034, 40) df_gen_bear\n",
      "(517, 43) df_transformer\n",
      "(517, 34) df_gearbox\n",
      "(1026,) df_generator\n",
      "(1025,) df_hydraulic\n",
      "(1034,) df_gen_bear\n",
      "(517,) df_transformer\n",
      "(517,) df_gearbox\n",
      "(465, 79) df_generator\n",
      "(465, 43) df_hydraulic\n",
      "(465, 40) df_gen_bear\n",
      "(465, 43) df_transformer\n",
      "(465, 34) df_gearbox\n",
      "(465,) df_generator\n",
      "(465,) df_hydraulic\n",
      "(465,) df_gen_bear\n",
      "(465,) df_transformer\n",
      "(465,) df_gearbox\n"
     ]
    }
   ],
   "source": [
    "for key in x_train:\n",
    "    print(x_train[key].shape, key)\n",
    "for key in y_train:\n",
    "    print(y_train[key].shape, key)\n",
    "for key in x_test:\n",
    "    print(x_test[key].shape, key)\n",
    "for key in y_test:\n",
    "    print(y_test[key].shape, key)"
   ]
  },
  {
   "cell_type": "code",
   "execution_count": 34,
   "metadata": {
    "ExecuteTime": {
     "end_time": "2021-02-20T17:20:22.765452Z",
     "start_time": "2021-02-20T17:20:22.654721Z"
    }
   },
   "outputs": [
    {
     "name": "stdout",
     "output_type": "stream",
     "text": [
      "014 - fazer o fit do CustomTransfMiguel para cada componente à pedreiro\n",
      "014.1 - df_generator\n"
     ]
    },
    {
     "name": "stderr",
     "output_type": "stream",
     "text": [
      "C:\\Users\\ricar\\code\\RicardoJPedro82\\wmillfailprev\\wmillfailprev\\c_model_related.py:23: RuntimeWarning: Mean of empty slice.\n",
      "  self.mean_[turbine] = X_filter.mean(axis=0)\n",
      "c:\\users\\ricar\\.venvs\\lewagon\\lib\\site-packages\\numpy\\core\\_methods.py:154: RuntimeWarning: invalid value encountered in true_divide\n",
      "  ret, rcount, out=ret, casting='unsafe', subok=False)\n",
      "c:\\users\\ricar\\.venvs\\lewagon\\lib\\site-packages\\numpy\\core\\_methods.py:217: RuntimeWarning: Degrees of freedom <= 0 for slice\n",
      "  keepdims=keepdims)\n",
      "c:\\users\\ricar\\.venvs\\lewagon\\lib\\site-packages\\numpy\\core\\_methods.py:186: RuntimeWarning: invalid value encountered in true_divide\n",
      "  arrmean, rcount, out=arrmean, casting='unsafe', subok=False)\n",
      "c:\\users\\ricar\\.venvs\\lewagon\\lib\\site-packages\\numpy\\core\\_methods.py:207: RuntimeWarning: invalid value encountered in true_divide\n",
      "  ret, rcount, out=ret, casting='unsafe', subok=False)\n"
     ]
    },
    {
     "data": {
      "text/plain": [
       "CustomStandardScaler()"
      ]
     },
     "execution_count": 34,
     "metadata": {},
     "output_type": "execute_result"
    }
   ],
   "source": [
    "print('014 - fazer o fit do CustomTransfMiguel para cada componente à pedreiro')\n",
    "print('014.1 - df_generator')\n",
    "scaler_df_generator = Cscl()\n",
    "scaler_df_generator.fit(x_train['df_generator'])\n",
    "# # joblib.dump(scaler_df_generator, 'scaler_df_generator.joblib')\n",
    "# print('014.2 - df_hydraulic')\n",
    "# scaler_df_hydraulic = Cscl()\n",
    "# scaler_df_hydraulic.fit(x_train['df_hydraulic'])\n",
    "# # joblib.dump(scaler_df_hydraulic, 'scaler_df_hydraulic.joblib')\n",
    "# print('014.3 - df_gen_bear')\n",
    "# scaler_df_gen_bear = Cscl()\n",
    "# scaler_df_gen_bear.fit(x_train['df_gen_bear'])\n",
    "# # joblib.dump(scaler_df_gen_bear, 'scaler_df_gen_bear.joblib')\n",
    "# print('014.4 - df_transformer')\n",
    "# scaler_df_transformer = Cscl()\n",
    "# scaler_df_transformer.fit(x_train['df_transformer'])\n",
    "# # joblib.dump(scaler_df_transformer, 'scaler_df_transformer.joblib')\n",
    "# print('014.5 - df_gearbox')\n",
    "# scaler_df_gearbox = Cscl()\n",
    "# scaler_df_gearbox.fit(x_train['df_gearbox'])\n",
    "# # joblib.dump(scaler_df_gearbox, 'scaler_df_gearbox.joblib')"
   ]
  },
  {
   "cell_type": "markdown",
   "metadata": {
    "ExecuteTime": {
     "end_time": "2021-02-20T13:46:44.626479Z",
     "start_time": "2021-02-20T13:46:44.611988Z"
    }
   },
   "source": [
    "x_train['df_generator'].columns[9]"
   ]
  },
  {
   "cell_type": "markdown",
   "metadata": {
    "ExecuteTime": {
     "end_time": "2021-02-20T13:34:23.813742Z",
     "start_time": "2021-02-20T13:34:23.798780Z"
    }
   },
   "source": [
    "x_train['df_generator']['Blds_PitchAngle_Std'].isna().sum()"
   ]
  },
  {
   "cell_type": "code",
   "execution_count": null,
   "metadata": {},
   "outputs": [],
   "source": []
  },
  {
   "cell_type": "code",
   "execution_count": null,
   "metadata": {
    "ExecuteTime": {
     "end_time": "2021-02-20T15:17:02.084953Z",
     "start_time": "2021-02-20T15:17:01.999117Z"
    }
   },
   "outputs": [],
   "source": []
  },
  {
   "cell_type": "markdown",
   "metadata": {
    "ExecuteTime": {
     "end_time": "2021-02-20T13:34:27.053396Z",
     "start_time": "2021-02-20T13:34:27.041429Z"
    }
   },
   "source": [
    "x_train1 = {}\n",
    "x_test1 = {}"
   ]
  },
  {
   "cell_type": "code",
   "execution_count": null,
   "metadata": {
    "ExecuteTime": {
     "end_time": "2021-02-20T17:05:20.595162Z",
     "start_time": "2021-02-20T17:03:38.624Z"
    }
   },
   "outputs": [],
   "source": [
    "# def scale(X_train, X_test):\n",
    "#     X_train1 = X_train.loc[X_train['Turbine_ID']=='T01']\n",
    "#     X_test1 = X_test.loc[X_test['Turbine_ID']=='T01']\n",
    "#     X_train1 = X_train1.drop(columns='Turbine_ID')\n",
    "#     X_test1 = X_test1.drop(columns='Turbine_ID')\n",
    "    \n",
    "#     sc = StandardScaler()\n",
    "#     X_train1 = sc.fit_transform(X_train1)\n",
    "#     X_test1 = sc.transform(X_test1)\n",
    "#     turbines = ['T06', 'T07', 'T09', 'T11']\n",
    "#     for turbine in turbines:\n",
    "#         X_train_ = X_train.loc[X_train['Turbine_ID']==turbine]\n",
    "#         X_test_ = X_test.loc[X_test['Turbine_ID']==turbine]\n",
    "#         X_train_ = X_train_.drop(columns='Turbine_ID')\n",
    "#         X_test_ = X_test_.drop(columns='Turbine_ID')\n",
    "     \n",
    "#         sc = StandardScaler()\n",
    "#         X_train_ = sc.fit_transform(X_train_)\n",
    "#         X_test_ = sc.transform(X_test_)\n",
    "#         X_train1 = np.concatenate((X_train1, X_train_))\n",
    "#         X_test1 = np.concatenate((X_test1, X_test_))\n",
    "#     return X_train1, X_test1"
   ]
  },
  {
   "cell_type": "code",
   "execution_count": null,
   "metadata": {
    "ExecuteTime": {
     "end_time": "2021-02-20T17:05:20.597156Z",
     "start_time": "2021-02-20T17:03:38.631Z"
    }
   },
   "outputs": [],
   "source": [
    "# def scale(X_train, X_test):\n",
    "#     X_train1 = X_train.loc[X_train['Turbine_ID']=='T01']\n",
    "#     X_test1 = X_test.loc[X_test['Turbine_ID']=='T01']\n",
    "#     X_train1 = X_train1.drop(columns='Turbine_ID')\n",
    "#     X_test1 = X_test1.drop(columns='Turbine_ID')\n",
    "    \n",
    "#     sc = StandardScaler()\n",
    "#     X_train1 = sc.fit_transform(X_train1)\n",
    "#     X_test1 = sc.transform(X_test1)\n",
    "#     turbines = ['T06', 'T07', 'T09', 'T11']\n",
    "#     for turbine in turbines:\n",
    "#         X_train_ = X_train.loc[X_train['Turbine_ID']==turbine]\n",
    "#         X_test_ = X_test.loc[X_test['Turbine_ID']==turbine]\n",
    "#         X_train_ = X_train_.drop(columns='Turbine_ID')\n",
    "#         X_test_ = X_test_.drop(columns='Turbine_ID')\n",
    "     \n",
    "#         sc = StandardScaler()\n",
    "#         X_train_ = sc.fit_transform(X_train_)\n",
    "#         X_test_ = sc.transform(X_test_)\n",
    "#         X_train1 = np.concatenate((X_train1, X_train_))\n",
    "#         X_test1 = np.concatenate((X_test1, X_test_))\n",
    "#     return X_train1, X_test1"
   ]
  },
  {
   "cell_type": "code",
   "execution_count": null,
   "metadata": {},
   "outputs": [],
   "source": []
  },
  {
   "cell_type": "code",
   "execution_count": null,
   "metadata": {},
   "outputs": [],
   "source": []
  },
  {
   "cell_type": "markdown",
   "metadata": {
    "ExecuteTime": {
     "end_time": "2021-02-20T14:09:48.433633Z",
     "start_time": "2021-02-20T14:09:48.426652Z"
    }
   },
   "source": [
    "def fit2(X, y=None):\n",
    "    mean_ = {}\n",
    "    std_ = {}\n",
    "\n",
    "    for turbine in ['T01','T06','T07','T09','T11']:\n",
    "        X_filter = X[X['Turbine_ID']==turbine]\n",
    "        X_filter = X_filter.drop(columns='Turbine_ID').to_numpy()\n",
    "        mean_[turbine] = X_filter.mean(axis=0)\n",
    "        std_[turbine] = X_filter.std(axis=0)\n",
    "\n",
    "    return mean_,std_"
   ]
  },
  {
   "cell_type": "markdown",
   "metadata": {
    "ExecuteTime": {
     "end_time": "2021-02-20T14:09:52.361758Z",
     "start_time": "2021-02-20T14:09:52.345281Z"
    }
   },
   "source": [
    "def transform2(X, y=None):\n",
    "    X_turbine={}\n",
    "\n",
    "    for turbine in ['T01','T06','T07','T09','T11']:\n",
    "        if std_[turbine] == 0:\n",
    "            X_turbine[turbine] = (X[X['Turbine_ID']==turbine].drop(columns='Turbine_ID').to_numpy() - mean_[turbine]) / 1\n",
    "        else:\n",
    "            X_turbine[turbine] = (X[X['Turbine_ID']==turbine].drop(columns='Turbine_ID').to_numpy() - mean_[turbine]) / std_[turbine]\n",
    "\n",
    "    X_turbine_all=X_turbine['T01']\n",
    "\n",
    "    for turbine in ['T06','T07','T09','T11']:\n",
    "\n",
    "        X_turbine_all=np.concatenate([X_turbine_all,X_turbine[turbine]])\n",
    "\n",
    "    return X_turbine_all"
   ]
  },
  {
   "cell_type": "markdown",
   "metadata": {
    "ExecuteTime": {
     "end_time": "2021-02-20T14:09:57.970058Z",
     "start_time": "2021-02-20T14:09:57.920647Z"
    }
   },
   "source": [
    "mean_,std_ = fit2(x_train['df_generator'])"
   ]
  },
  {
   "cell_type": "markdown",
   "metadata": {
    "ExecuteTime": {
     "end_time": "2021-02-20T13:57:05.654116Z",
     "start_time": "2021-02-20T13:57:05.630151Z"
    }
   },
   "source": [
    "std_['T01']"
   ]
  },
  {
   "cell_type": "markdown",
   "metadata": {
    "ExecuteTime": {
     "end_time": "2021-02-20T13:38:56.819144Z",
     "start_time": "2021-02-20T13:38:56.790193Z"
    }
   },
   "source": [
    "transform(x_train['df_generator'])"
   ]
  },
  {
   "cell_type": "code",
   "execution_count": 38,
   "metadata": {
    "ExecuteTime": {
     "end_time": "2021-02-20T17:13:58.728814Z",
     "start_time": "2021-02-20T17:13:58.624094Z"
    }
   },
   "outputs": [
    {
     "name": "stdout",
     "output_type": "stream",
     "text": [
      "(1026, 79) (465, 79) (1026,) (465,)\n"
     ]
    }
   ],
   "source": [
    "print(x_train['df_generator'].shape, x_test['df_generator'].shape,\n",
    "      y_train['df_generator'].shape, y_test['df_generator'].shape)"
   ]
  },
  {
   "cell_type": "code",
   "execution_count": null,
   "metadata": {},
   "outputs": [],
   "source": [
    "print('016 - aplicar o scale com o fit efectuado no teste')\n",
    "x_train['df_generator'] = scaler_df_generator.transform(x_train['df_generator'])\n",
    "# x_train['df_hydraulic'] = scaler_df_hydraulic.transform(x_train['df_hydraulic'])\n",
    "# x_train['df_gen_bear'] = scaler_df_gen_bear.transform(x_train['df_gen_bear'])\n",
    "# x_train['df_transformer'] = scaler_df_transformer.transform(x_train['df_transformer'])\n",
    "# x_train['df_gearbox'] = scaler_df_gearbox.transform(x_train['df_gearbox'])"
   ]
  },
  {
   "cell_type": "code",
   "execution_count": 33,
   "metadata": {
    "ExecuteTime": {
     "end_time": "2021-02-20T17:20:10.636686Z",
     "start_time": "2021-02-20T17:20:10.414776Z"
    }
   },
   "outputs": [
    {
     "name": "stdout",
     "output_type": "stream",
     "text": [
      "016 - aplicar o scale com o fit efectuado no teste\n"
     ]
    },
    {
     "ename": "NameError",
     "evalue": "name 'scaler_df_generator' is not defined",
     "output_type": "error",
     "traceback": [
      "\u001b[1;31m---------------------------------------------------------------------------\u001b[0m",
      "\u001b[1;31mNameError\u001b[0m                                 Traceback (most recent call last)",
      "\u001b[1;32m<ipython-input-33-08d5b3748d18>\u001b[0m in \u001b[0;36m<module>\u001b[1;34m\u001b[0m\n\u001b[0;32m      1\u001b[0m \u001b[0mprint\u001b[0m\u001b[1;33m(\u001b[0m\u001b[1;34m'016 - aplicar o scale com o fit efectuado no teste'\u001b[0m\u001b[1;33m)\u001b[0m\u001b[1;33m\u001b[0m\u001b[1;33m\u001b[0m\u001b[0m\n\u001b[1;32m----> 2\u001b[1;33m \u001b[0mx_test\u001b[0m\u001b[1;33m[\u001b[0m\u001b[1;34m'df_generator'\u001b[0m\u001b[1;33m]\u001b[0m \u001b[1;33m=\u001b[0m \u001b[0mscaler_df_generator\u001b[0m\u001b[1;33m.\u001b[0m\u001b[0mtransform\u001b[0m\u001b[1;33m(\u001b[0m\u001b[0mx_test\u001b[0m\u001b[1;33m[\u001b[0m\u001b[1;34m'df_generator'\u001b[0m\u001b[1;33m]\u001b[0m\u001b[1;33m)\u001b[0m\u001b[1;33m\u001b[0m\u001b[1;33m\u001b[0m\u001b[0m\n\u001b[0m\u001b[0;32m      3\u001b[0m \u001b[1;31m# x_test['df_hydraulic'] = scaler_df_hydraulic.transform(x_test['df_hydraulic'])\u001b[0m\u001b[1;33m\u001b[0m\u001b[1;33m\u001b[0m\u001b[1;33m\u001b[0m\u001b[0m\n\u001b[0;32m      4\u001b[0m \u001b[1;31m# x_test['df_gen_bear'] = scaler_df_gen_bear.transform(x_test['df_gen_bear'])\u001b[0m\u001b[1;33m\u001b[0m\u001b[1;33m\u001b[0m\u001b[1;33m\u001b[0m\u001b[0m\n\u001b[0;32m      5\u001b[0m \u001b[1;31m# x_test['df_transformer'] = scaler_df_transformer.transform(x_test['df_transformer'])\u001b[0m\u001b[1;33m\u001b[0m\u001b[1;33m\u001b[0m\u001b[1;33m\u001b[0m\u001b[0m\n",
      "\u001b[1;31mNameError\u001b[0m: name 'scaler_df_generator' is not defined"
     ]
    }
   ],
   "source": [
    "print('016 - aplicar o scale com o fit efectuado no teste')\n",
    "x_test['df_generator'] = scaler_df_generator.transform(x_test['df_generator'])\n",
    "# x_test['df_hydraulic'] = scaler_df_hydraulic.transform(x_test['df_hydraulic'])\n",
    "# x_test['df_gen_bear'] = scaler_df_gen_bear.transform(x_test['df_gen_bear'])\n",
    "# x_test['df_transformer'] = scaler_df_transformer.transform(x_test['df_transformer'])\n",
    "# x_test['df_gearbox'] = scaler_df_gearbox.transform(x_test['df_gearbox'])"
   ]
  },
  {
   "cell_type": "code",
   "execution_count": 36,
   "metadata": {
    "ExecuteTime": {
     "end_time": "2021-02-20T17:26:05.932881Z",
     "start_time": "2021-02-20T17:26:05.823053Z"
    }
   },
   "outputs": [],
   "source": [
    "gen_scaler = StandardScaler() "
   ]
  },
  {
   "cell_type": "code",
   "execution_count": 39,
   "metadata": {
    "ExecuteTime": {
     "end_time": "2021-02-20T17:27:50.295515Z",
     "start_time": "2021-02-20T17:27:50.201217Z"
    }
   },
   "outputs": [],
   "source": [
    "x_train['df_generator'] = x_train['df_generator'].drop(columns=['Turbine_ID'])"
   ]
  },
  {
   "cell_type": "code",
   "execution_count": 40,
   "metadata": {
    "ExecuteTime": {
     "end_time": "2021-02-20T17:27:59.612795Z",
     "start_time": "2021-02-20T17:27:59.518155Z"
    }
   },
   "outputs": [
    {
     "data": {
      "text/plain": [
       "StandardScaler(copy=True, with_mean=True, with_std=True)"
      ]
     },
     "execution_count": 40,
     "metadata": {},
     "output_type": "execute_result"
    }
   ],
   "source": [
    "gen_scaler.fit(x_train['df_generator'])"
   ]
  },
  {
   "cell_type": "code",
   "execution_count": 41,
   "metadata": {
    "ExecuteTime": {
     "end_time": "2021-02-20T17:28:56.578791Z",
     "start_time": "2021-02-20T17:28:56.481388Z"
    }
   },
   "outputs": [
    {
     "data": {
      "text/plain": [
       "['gen_scaler.joblib']"
      ]
     },
     "execution_count": 41,
     "metadata": {},
     "output_type": "execute_result"
    }
   ],
   "source": [
    "joblib.dump(gen_scaler, 'gen_scaler.joblib')"
   ]
  },
  {
   "cell_type": "code",
   "execution_count": 42,
   "metadata": {
    "ExecuteTime": {
     "end_time": "2021-02-20T17:29:34.002895Z",
     "start_time": "2021-02-20T17:29:33.917147Z"
    }
   },
   "outputs": [],
   "source": [
    "x_train['df_generator'] = gen_scaler.transform(x_train['df_generator'])"
   ]
  },
  {
   "cell_type": "code",
   "execution_count": 44,
   "metadata": {
    "ExecuteTime": {
     "end_time": "2021-02-20T17:30:14.176240Z",
     "start_time": "2021-02-20T17:30:14.082875Z"
    }
   },
   "outputs": [],
   "source": [
    "x_test['df_generator'] = x_test['df_generator'].drop(columns=['Turbine_ID'])"
   ]
  },
  {
   "cell_type": "code",
   "execution_count": 45,
   "metadata": {
    "ExecuteTime": {
     "end_time": "2021-02-20T17:30:14.832623Z",
     "start_time": "2021-02-20T17:30:14.737877Z"
    }
   },
   "outputs": [],
   "source": [
    "x_test['df_generator'] = gen_scaler.transform(x_test['df_generator'])"
   ]
  },
  {
   "cell_type": "code",
   "execution_count": null,
   "metadata": {},
   "outputs": [],
   "source": []
  },
  {
   "cell_type": "code",
   "execution_count": null,
   "metadata": {},
   "outputs": [],
   "source": []
  },
  {
   "cell_type": "code",
   "execution_count": 40,
   "metadata": {
    "ExecuteTime": {
     "end_time": "2021-02-20T17:14:04.847768Z",
     "start_time": "2021-02-20T17:14:04.728533Z"
    }
   },
   "outputs": [],
   "source": [
    "for i in x_train:\n",
    "    x_train[i], x_test[i] = scaler_antigo(x_train[i], x_test[i])"
   ]
  },
  {
   "cell_type": "code",
   "execution_count": 46,
   "metadata": {
    "ExecuteTime": {
     "end_time": "2021-02-20T17:30:20.229035Z",
     "start_time": "2021-02-20T17:30:20.135287Z"
    }
   },
   "outputs": [
    {
     "name": "stdout",
     "output_type": "stream",
     "text": [
      "(1026, 78) df_generator\n",
      "(1025, 43) df_hydraulic\n",
      "(1034, 40) df_gen_bear\n",
      "(517, 43) df_transformer\n",
      "(517, 34) df_gearbox\n",
      "(465, 78) df_generator\n",
      "(465, 43) df_hydraulic\n",
      "(465, 40) df_gen_bear\n",
      "(465, 43) df_transformer\n",
      "(465, 34) df_gearbox\n"
     ]
    }
   ],
   "source": [
    "for key in x_train:\n",
    "    print(x_train[key].shape, key)\n",
    "for key in x_test:\n",
    "    print(x_test[key].shape, key)"
   ]
  },
  {
   "cell_type": "markdown",
   "metadata": {
    "ExecuteTime": {
     "end_time": "2021-02-20T13:24:13.122672Z",
     "start_time": "2021-02-20T13:24:13.093752Z"
    }
   },
   "source": [
    "exp1 = pd.DataFrame(x_test['df_generator'])"
   ]
  },
  {
   "cell_type": "markdown",
   "metadata": {
    "ExecuteTime": {
     "end_time": "2021-02-20T13:25:55.178195Z",
     "start_time": "2021-02-20T13:25:55.167594Z"
    }
   },
   "source": [
    "x_test['df_generator'][9]"
   ]
  },
  {
   "cell_type": "markdown",
   "metadata": {
    "ExecuteTime": {
     "end_time": "2021-02-20T13:25:39.083876Z",
     "start_time": "2021-02-20T13:25:39.072364Z"
    }
   },
   "source": [
    "exp1[9]"
   ]
  },
  {
   "cell_type": "code",
   "execution_count": 47,
   "metadata": {
    "ExecuteTime": {
     "end_time": "2021-02-20T17:30:31.612597Z",
     "start_time": "2021-02-20T17:30:31.513558Z"
    }
   },
   "outputs": [
    {
     "name": "stdout",
     "output_type": "stream",
     "text": [
      "017 - Instanciar e treinar o modelo correspondente\n"
     ]
    },
    {
     "data": {
      "text/plain": [
       "KNeighborsClassifier(algorithm='auto', leaf_size=30, metric='minkowski',\n",
       "           metric_params=None, n_jobs=None, n_neighbors=5, p=2,\n",
       "           weights='uniform')"
      ]
     },
     "execution_count": 47,
     "metadata": {},
     "output_type": "execute_result"
    }
   ],
   "source": [
    "print('017 - Instanciar e treinar o modelo correspondente')\n",
    "generator_model = tr(x_train=x_train['df_generator'],\n",
    "                     y_train=y_train['df_generator'],\n",
    "                     x_test=x_test['df_generator'],\n",
    "                     component='df_generator')\n",
    "generator_model.train()\n",
    "# joblib.dump(generator_model, 'generator_model.joblib')"
   ]
  },
  {
   "cell_type": "code",
   "execution_count": 48,
   "metadata": {
    "ExecuteTime": {
     "end_time": "2021-02-20T17:30:33.337594Z",
     "start_time": "2021-02-20T17:30:33.152060Z"
    }
   },
   "outputs": [
    {
     "name": "stdout",
     "output_type": "stream",
     "text": [
      "018 - Obter a previsão para a métrica de poupança\n"
     ]
    }
   ],
   "source": [
    "print('018 - Obter a previsão para a métrica de poupança')\n",
    "y_pred_generator = generator_model.predict()"
   ]
  },
  {
   "cell_type": "code",
   "execution_count": 49,
   "metadata": {
    "ExecuteTime": {
     "end_time": "2021-02-20T17:30:34.353021Z",
     "start_time": "2021-02-20T17:30:34.197068Z"
    }
   },
   "outputs": [
    {
     "name": "stdout",
     "output_type": "stream",
     "text": [
      "019 - poupanças\n",
      "20000.0 {'TP': 1, 'TN': 251, 'FP': 5, 'FN': 0} generator\n"
     ]
    }
   ],
   "source": [
    "print('019 - poupanças')\n",
    "poupancas_generator, cf_numbers_pred_gen, met_cre_df = metrics_create_df(\n",
    "    df_test_comp_dict['df_generator'],\n",
    "    y_test['df_generator'],\n",
    "    y_pred_generator,\n",
    "    'df_generator',\n",
    "    days=15)\n",
    "print(poupancas_generator, cf_numbers_pred_gen, 'generator')"
   ]
  },
  {
   "cell_type": "code",
   "execution_count": 50,
   "metadata": {
    "ExecuteTime": {
     "end_time": "2021-02-20T17:30:45.608337Z",
     "start_time": "2021-02-20T17:30:45.475666Z"
    }
   },
   "outputs": [
    {
     "data": {
      "text/html": [
       "<div>\n",
       "<style scoped>\n",
       "    .dataframe tbody tr th:only-of-type {\n",
       "        vertical-align: middle;\n",
       "    }\n",
       "\n",
       "    .dataframe tbody tr th {\n",
       "        vertical-align: top;\n",
       "    }\n",
       "\n",
       "    .dataframe thead th {\n",
       "        text-align: right;\n",
       "    }\n",
       "</style>\n",
       "<table border=\"1\" class=\"dataframe\">\n",
       "  <thead>\n",
       "    <tr style=\"text-align: right;\">\n",
       "      <th></th>\n",
       "      <th>Date</th>\n",
       "      <th>Turbine_ID</th>\n",
       "      <th>TTF</th>\n",
       "      <th>y_test</th>\n",
       "      <th>y_pred</th>\n",
       "      <th>TP</th>\n",
       "      <th>TN</th>\n",
       "      <th>FP</th>\n",
       "      <th>FN</th>\n",
       "      <th>new_FP</th>\n",
       "    </tr>\n",
       "  </thead>\n",
       "  <tbody>\n",
       "    <tr>\n",
       "      <th>186</th>\n",
       "      <td>2017-06-01</td>\n",
       "      <td>T07</td>\n",
       "      <td>82.0</td>\n",
       "      <td>0</td>\n",
       "      <td>0</td>\n",
       "      <td>0</td>\n",
       "      <td>1</td>\n",
       "      <td>0</td>\n",
       "      <td>0</td>\n",
       "      <td>7.0</td>\n",
       "    </tr>\n",
       "    <tr>\n",
       "      <th>187</th>\n",
       "      <td>2017-06-02</td>\n",
       "      <td>T07</td>\n",
       "      <td>81.0</td>\n",
       "      <td>0</td>\n",
       "      <td>0</td>\n",
       "      <td>0</td>\n",
       "      <td>1</td>\n",
       "      <td>0</td>\n",
       "      <td>0</td>\n",
       "      <td>6.0</td>\n",
       "    </tr>\n",
       "    <tr>\n",
       "      <th>188</th>\n",
       "      <td>2017-06-03</td>\n",
       "      <td>T07</td>\n",
       "      <td>80.0</td>\n",
       "      <td>0</td>\n",
       "      <td>1</td>\n",
       "      <td>0</td>\n",
       "      <td>0</td>\n",
       "      <td>1</td>\n",
       "      <td>0</td>\n",
       "      <td>7.0</td>\n",
       "    </tr>\n",
       "    <tr>\n",
       "      <th>189</th>\n",
       "      <td>2017-06-04</td>\n",
       "      <td>T07</td>\n",
       "      <td>79.0</td>\n",
       "      <td>0</td>\n",
       "      <td>0</td>\n",
       "      <td>0</td>\n",
       "      <td>1</td>\n",
       "      <td>0</td>\n",
       "      <td>0</td>\n",
       "      <td>7.0</td>\n",
       "    </tr>\n",
       "    <tr>\n",
       "      <th>190</th>\n",
       "      <td>2017-06-05</td>\n",
       "      <td>T07</td>\n",
       "      <td>78.0</td>\n",
       "      <td>0</td>\n",
       "      <td>0</td>\n",
       "      <td>0</td>\n",
       "      <td>1</td>\n",
       "      <td>0</td>\n",
       "      <td>0</td>\n",
       "      <td>7.0</td>\n",
       "    </tr>\n",
       "    <tr>\n",
       "      <th>191</th>\n",
       "      <td>2017-06-06</td>\n",
       "      <td>T07</td>\n",
       "      <td>77.0</td>\n",
       "      <td>0</td>\n",
       "      <td>1</td>\n",
       "      <td>0</td>\n",
       "      <td>0</td>\n",
       "      <td>1</td>\n",
       "      <td>0</td>\n",
       "      <td>7.0</td>\n",
       "    </tr>\n",
       "    <tr>\n",
       "      <th>192</th>\n",
       "      <td>2017-06-07</td>\n",
       "      <td>T07</td>\n",
       "      <td>76.0</td>\n",
       "      <td>0</td>\n",
       "      <td>0</td>\n",
       "      <td>0</td>\n",
       "      <td>1</td>\n",
       "      <td>0</td>\n",
       "      <td>0</td>\n",
       "      <td>7.0</td>\n",
       "    </tr>\n",
       "    <tr>\n",
       "      <th>193</th>\n",
       "      <td>2017-06-08</td>\n",
       "      <td>T07</td>\n",
       "      <td>75.0</td>\n",
       "      <td>0</td>\n",
       "      <td>0</td>\n",
       "      <td>0</td>\n",
       "      <td>1</td>\n",
       "      <td>0</td>\n",
       "      <td>0</td>\n",
       "      <td>7.0</td>\n",
       "    </tr>\n",
       "    <tr>\n",
       "      <th>194</th>\n",
       "      <td>2017-06-09</td>\n",
       "      <td>T07</td>\n",
       "      <td>74.0</td>\n",
       "      <td>0</td>\n",
       "      <td>0</td>\n",
       "      <td>0</td>\n",
       "      <td>1</td>\n",
       "      <td>0</td>\n",
       "      <td>0</td>\n",
       "      <td>7.0</td>\n",
       "    </tr>\n",
       "    <tr>\n",
       "      <th>195</th>\n",
       "      <td>2017-06-10</td>\n",
       "      <td>T07</td>\n",
       "      <td>73.0</td>\n",
       "      <td>0</td>\n",
       "      <td>0</td>\n",
       "      <td>0</td>\n",
       "      <td>1</td>\n",
       "      <td>0</td>\n",
       "      <td>0</td>\n",
       "      <td>7.0</td>\n",
       "    </tr>\n",
       "    <tr>\n",
       "      <th>196</th>\n",
       "      <td>2017-06-11</td>\n",
       "      <td>T07</td>\n",
       "      <td>72.0</td>\n",
       "      <td>0</td>\n",
       "      <td>1</td>\n",
       "      <td>0</td>\n",
       "      <td>0</td>\n",
       "      <td>1</td>\n",
       "      <td>0</td>\n",
       "      <td>7.0</td>\n",
       "    </tr>\n",
       "    <tr>\n",
       "      <th>197</th>\n",
       "      <td>2017-06-12</td>\n",
       "      <td>T07</td>\n",
       "      <td>71.0</td>\n",
       "      <td>0</td>\n",
       "      <td>0</td>\n",
       "      <td>0</td>\n",
       "      <td>1</td>\n",
       "      <td>0</td>\n",
       "      <td>0</td>\n",
       "      <td>6.0</td>\n",
       "    </tr>\n",
       "    <tr>\n",
       "      <th>198</th>\n",
       "      <td>2017-06-13</td>\n",
       "      <td>T07</td>\n",
       "      <td>70.0</td>\n",
       "      <td>0</td>\n",
       "      <td>0</td>\n",
       "      <td>0</td>\n",
       "      <td>1</td>\n",
       "      <td>0</td>\n",
       "      <td>0</td>\n",
       "      <td>5.0</td>\n",
       "    </tr>\n",
       "    <tr>\n",
       "      <th>199</th>\n",
       "      <td>2017-06-14</td>\n",
       "      <td>T07</td>\n",
       "      <td>69.0</td>\n",
       "      <td>0</td>\n",
       "      <td>0</td>\n",
       "      <td>0</td>\n",
       "      <td>1</td>\n",
       "      <td>0</td>\n",
       "      <td>0</td>\n",
       "      <td>4.0</td>\n",
       "    </tr>\n",
       "    <tr>\n",
       "      <th>200</th>\n",
       "      <td>2017-06-15</td>\n",
       "      <td>T07</td>\n",
       "      <td>68.0</td>\n",
       "      <td>0</td>\n",
       "      <td>1</td>\n",
       "      <td>0</td>\n",
       "      <td>0</td>\n",
       "      <td>1</td>\n",
       "      <td>0</td>\n",
       "      <td>4.0</td>\n",
       "    </tr>\n",
       "    <tr>\n",
       "      <th>201</th>\n",
       "      <td>2017-06-16</td>\n",
       "      <td>T07</td>\n",
       "      <td>67.0</td>\n",
       "      <td>0</td>\n",
       "      <td>1</td>\n",
       "      <td>0</td>\n",
       "      <td>0</td>\n",
       "      <td>1</td>\n",
       "      <td>0</td>\n",
       "      <td>5.0</td>\n",
       "    </tr>\n",
       "    <tr>\n",
       "      <th>202</th>\n",
       "      <td>2017-06-17</td>\n",
       "      <td>T07</td>\n",
       "      <td>66.0</td>\n",
       "      <td>0</td>\n",
       "      <td>1</td>\n",
       "      <td>0</td>\n",
       "      <td>0</td>\n",
       "      <td>1</td>\n",
       "      <td>0</td>\n",
       "      <td>6.0</td>\n",
       "    </tr>\n",
       "    <tr>\n",
       "      <th>203</th>\n",
       "      <td>2017-06-18</td>\n",
       "      <td>T07</td>\n",
       "      <td>65.0</td>\n",
       "      <td>0</td>\n",
       "      <td>1</td>\n",
       "      <td>0</td>\n",
       "      <td>0</td>\n",
       "      <td>1</td>\n",
       "      <td>0</td>\n",
       "      <td>6.0</td>\n",
       "    </tr>\n",
       "    <tr>\n",
       "      <th>204</th>\n",
       "      <td>2017-06-19</td>\n",
       "      <td>T07</td>\n",
       "      <td>64.0</td>\n",
       "      <td>0</td>\n",
       "      <td>1</td>\n",
       "      <td>0</td>\n",
       "      <td>0</td>\n",
       "      <td>1</td>\n",
       "      <td>0</td>\n",
       "      <td>7.0</td>\n",
       "    </tr>\n",
       "    <tr>\n",
       "      <th>205</th>\n",
       "      <td>2017-06-20</td>\n",
       "      <td>T07</td>\n",
       "      <td>63.0</td>\n",
       "      <td>0</td>\n",
       "      <td>1</td>\n",
       "      <td>0</td>\n",
       "      <td>0</td>\n",
       "      <td>1</td>\n",
       "      <td>0</td>\n",
       "      <td>8.0</td>\n",
       "    </tr>\n",
       "    <tr>\n",
       "      <th>206</th>\n",
       "      <td>2017-06-21</td>\n",
       "      <td>T07</td>\n",
       "      <td>62.0</td>\n",
       "      <td>0</td>\n",
       "      <td>1</td>\n",
       "      <td>0</td>\n",
       "      <td>0</td>\n",
       "      <td>1</td>\n",
       "      <td>0</td>\n",
       "      <td>8.0</td>\n",
       "    </tr>\n",
       "    <tr>\n",
       "      <th>207</th>\n",
       "      <td>2017-06-22</td>\n",
       "      <td>T07</td>\n",
       "      <td>61.0</td>\n",
       "      <td>0</td>\n",
       "      <td>1</td>\n",
       "      <td>0</td>\n",
       "      <td>0</td>\n",
       "      <td>1</td>\n",
       "      <td>0</td>\n",
       "      <td>9.0</td>\n",
       "    </tr>\n",
       "    <tr>\n",
       "      <th>208</th>\n",
       "      <td>2017-06-23</td>\n",
       "      <td>T07</td>\n",
       "      <td>60.0</td>\n",
       "      <td>1</td>\n",
       "      <td>1</td>\n",
       "      <td>1</td>\n",
       "      <td>0</td>\n",
       "      <td>0</td>\n",
       "      <td>0</td>\n",
       "      <td>9.0</td>\n",
       "    </tr>\n",
       "    <tr>\n",
       "      <th>209</th>\n",
       "      <td>2017-06-24</td>\n",
       "      <td>T07</td>\n",
       "      <td>59.0</td>\n",
       "      <td>1</td>\n",
       "      <td>1</td>\n",
       "      <td>1</td>\n",
       "      <td>0</td>\n",
       "      <td>0</td>\n",
       "      <td>0</td>\n",
       "      <td>9.0</td>\n",
       "    </tr>\n",
       "    <tr>\n",
       "      <th>210</th>\n",
       "      <td>2017-06-25</td>\n",
       "      <td>T07</td>\n",
       "      <td>58.0</td>\n",
       "      <td>1</td>\n",
       "      <td>1</td>\n",
       "      <td>1</td>\n",
       "      <td>0</td>\n",
       "      <td>0</td>\n",
       "      <td>0</td>\n",
       "      <td>9.0</td>\n",
       "    </tr>\n",
       "    <tr>\n",
       "      <th>211</th>\n",
       "      <td>2017-06-26</td>\n",
       "      <td>T07</td>\n",
       "      <td>57.0</td>\n",
       "      <td>1</td>\n",
       "      <td>1</td>\n",
       "      <td>1</td>\n",
       "      <td>0</td>\n",
       "      <td>0</td>\n",
       "      <td>0</td>\n",
       "      <td>8.0</td>\n",
       "    </tr>\n",
       "    <tr>\n",
       "      <th>212</th>\n",
       "      <td>2017-06-27</td>\n",
       "      <td>T07</td>\n",
       "      <td>56.0</td>\n",
       "      <td>1</td>\n",
       "      <td>0</td>\n",
       "      <td>0</td>\n",
       "      <td>0</td>\n",
       "      <td>0</td>\n",
       "      <td>1</td>\n",
       "      <td>8.0</td>\n",
       "    </tr>\n",
       "    <tr>\n",
       "      <th>213</th>\n",
       "      <td>2017-06-28</td>\n",
       "      <td>T07</td>\n",
       "      <td>55.0</td>\n",
       "      <td>1</td>\n",
       "      <td>0</td>\n",
       "      <td>0</td>\n",
       "      <td>0</td>\n",
       "      <td>0</td>\n",
       "      <td>1</td>\n",
       "      <td>8.0</td>\n",
       "    </tr>\n",
       "    <tr>\n",
       "      <th>214</th>\n",
       "      <td>2017-06-29</td>\n",
       "      <td>T07</td>\n",
       "      <td>54.0</td>\n",
       "      <td>1</td>\n",
       "      <td>0</td>\n",
       "      <td>0</td>\n",
       "      <td>0</td>\n",
       "      <td>0</td>\n",
       "      <td>1</td>\n",
       "      <td>8.0</td>\n",
       "    </tr>\n",
       "    <tr>\n",
       "      <th>215</th>\n",
       "      <td>2017-06-30</td>\n",
       "      <td>T07</td>\n",
       "      <td>53.0</td>\n",
       "      <td>1</td>\n",
       "      <td>0</td>\n",
       "      <td>0</td>\n",
       "      <td>0</td>\n",
       "      <td>0</td>\n",
       "      <td>1</td>\n",
       "      <td>7.0</td>\n",
       "    </tr>\n",
       "    <tr>\n",
       "      <th>...</th>\n",
       "      <td>...</td>\n",
       "      <td>...</td>\n",
       "      <td>...</td>\n",
       "      <td>...</td>\n",
       "      <td>...</td>\n",
       "      <td>...</td>\n",
       "      <td>...</td>\n",
       "      <td>...</td>\n",
       "      <td>...</td>\n",
       "      <td>...</td>\n",
       "    </tr>\n",
       "    <tr>\n",
       "      <th>238</th>\n",
       "      <td>2017-07-23</td>\n",
       "      <td>T07</td>\n",
       "      <td>30.0</td>\n",
       "      <td>1</td>\n",
       "      <td>1</td>\n",
       "      <td>1</td>\n",
       "      <td>0</td>\n",
       "      <td>0</td>\n",
       "      <td>0</td>\n",
       "      <td>0.0</td>\n",
       "    </tr>\n",
       "    <tr>\n",
       "      <th>239</th>\n",
       "      <td>2017-07-24</td>\n",
       "      <td>T07</td>\n",
       "      <td>29.0</td>\n",
       "      <td>1</td>\n",
       "      <td>1</td>\n",
       "      <td>1</td>\n",
       "      <td>0</td>\n",
       "      <td>0</td>\n",
       "      <td>0</td>\n",
       "      <td>0.0</td>\n",
       "    </tr>\n",
       "    <tr>\n",
       "      <th>240</th>\n",
       "      <td>2017-07-25</td>\n",
       "      <td>T07</td>\n",
       "      <td>28.0</td>\n",
       "      <td>1</td>\n",
       "      <td>1</td>\n",
       "      <td>1</td>\n",
       "      <td>0</td>\n",
       "      <td>0</td>\n",
       "      <td>0</td>\n",
       "      <td>0.0</td>\n",
       "    </tr>\n",
       "    <tr>\n",
       "      <th>241</th>\n",
       "      <td>2017-07-26</td>\n",
       "      <td>T07</td>\n",
       "      <td>27.0</td>\n",
       "      <td>1</td>\n",
       "      <td>1</td>\n",
       "      <td>1</td>\n",
       "      <td>0</td>\n",
       "      <td>0</td>\n",
       "      <td>0</td>\n",
       "      <td>0.0</td>\n",
       "    </tr>\n",
       "    <tr>\n",
       "      <th>242</th>\n",
       "      <td>2017-07-27</td>\n",
       "      <td>T07</td>\n",
       "      <td>26.0</td>\n",
       "      <td>1</td>\n",
       "      <td>1</td>\n",
       "      <td>1</td>\n",
       "      <td>0</td>\n",
       "      <td>0</td>\n",
       "      <td>0</td>\n",
       "      <td>0.0</td>\n",
       "    </tr>\n",
       "    <tr>\n",
       "      <th>243</th>\n",
       "      <td>2017-07-28</td>\n",
       "      <td>T07</td>\n",
       "      <td>25.0</td>\n",
       "      <td>1</td>\n",
       "      <td>1</td>\n",
       "      <td>1</td>\n",
       "      <td>0</td>\n",
       "      <td>0</td>\n",
       "      <td>0</td>\n",
       "      <td>0.0</td>\n",
       "    </tr>\n",
       "    <tr>\n",
       "      <th>244</th>\n",
       "      <td>2017-07-29</td>\n",
       "      <td>T07</td>\n",
       "      <td>24.0</td>\n",
       "      <td>1</td>\n",
       "      <td>1</td>\n",
       "      <td>1</td>\n",
       "      <td>0</td>\n",
       "      <td>0</td>\n",
       "      <td>0</td>\n",
       "      <td>0.0</td>\n",
       "    </tr>\n",
       "    <tr>\n",
       "      <th>245</th>\n",
       "      <td>2017-07-30</td>\n",
       "      <td>T07</td>\n",
       "      <td>23.0</td>\n",
       "      <td>1</td>\n",
       "      <td>1</td>\n",
       "      <td>1</td>\n",
       "      <td>0</td>\n",
       "      <td>0</td>\n",
       "      <td>0</td>\n",
       "      <td>0.0</td>\n",
       "    </tr>\n",
       "    <tr>\n",
       "      <th>246</th>\n",
       "      <td>2017-07-31</td>\n",
       "      <td>T07</td>\n",
       "      <td>22.0</td>\n",
       "      <td>1</td>\n",
       "      <td>1</td>\n",
       "      <td>1</td>\n",
       "      <td>0</td>\n",
       "      <td>0</td>\n",
       "      <td>0</td>\n",
       "      <td>0.0</td>\n",
       "    </tr>\n",
       "    <tr>\n",
       "      <th>247</th>\n",
       "      <td>2017-08-01</td>\n",
       "      <td>T07</td>\n",
       "      <td>21.0</td>\n",
       "      <td>1</td>\n",
       "      <td>1</td>\n",
       "      <td>1</td>\n",
       "      <td>0</td>\n",
       "      <td>0</td>\n",
       "      <td>0</td>\n",
       "      <td>0.0</td>\n",
       "    </tr>\n",
       "    <tr>\n",
       "      <th>248</th>\n",
       "      <td>2017-08-02</td>\n",
       "      <td>T07</td>\n",
       "      <td>20.0</td>\n",
       "      <td>1</td>\n",
       "      <td>1</td>\n",
       "      <td>1</td>\n",
       "      <td>0</td>\n",
       "      <td>0</td>\n",
       "      <td>0</td>\n",
       "      <td>0.0</td>\n",
       "    </tr>\n",
       "    <tr>\n",
       "      <th>249</th>\n",
       "      <td>2017-08-03</td>\n",
       "      <td>T07</td>\n",
       "      <td>19.0</td>\n",
       "      <td>1</td>\n",
       "      <td>1</td>\n",
       "      <td>1</td>\n",
       "      <td>0</td>\n",
       "      <td>0</td>\n",
       "      <td>0</td>\n",
       "      <td>0.0</td>\n",
       "    </tr>\n",
       "    <tr>\n",
       "      <th>250</th>\n",
       "      <td>2017-08-04</td>\n",
       "      <td>T07</td>\n",
       "      <td>18.0</td>\n",
       "      <td>1</td>\n",
       "      <td>1</td>\n",
       "      <td>1</td>\n",
       "      <td>0</td>\n",
       "      <td>0</td>\n",
       "      <td>0</td>\n",
       "      <td>0.0</td>\n",
       "    </tr>\n",
       "    <tr>\n",
       "      <th>251</th>\n",
       "      <td>2017-08-05</td>\n",
       "      <td>T07</td>\n",
       "      <td>17.0</td>\n",
       "      <td>1</td>\n",
       "      <td>1</td>\n",
       "      <td>1</td>\n",
       "      <td>0</td>\n",
       "      <td>0</td>\n",
       "      <td>0</td>\n",
       "      <td>0.0</td>\n",
       "    </tr>\n",
       "    <tr>\n",
       "      <th>252</th>\n",
       "      <td>2017-08-06</td>\n",
       "      <td>T07</td>\n",
       "      <td>16.0</td>\n",
       "      <td>1</td>\n",
       "      <td>1</td>\n",
       "      <td>1</td>\n",
       "      <td>0</td>\n",
       "      <td>0</td>\n",
       "      <td>0</td>\n",
       "      <td>0.0</td>\n",
       "    </tr>\n",
       "    <tr>\n",
       "      <th>253</th>\n",
       "      <td>2017-08-07</td>\n",
       "      <td>T07</td>\n",
       "      <td>15.0</td>\n",
       "      <td>1</td>\n",
       "      <td>1</td>\n",
       "      <td>1</td>\n",
       "      <td>0</td>\n",
       "      <td>0</td>\n",
       "      <td>0</td>\n",
       "      <td>0.0</td>\n",
       "    </tr>\n",
       "    <tr>\n",
       "      <th>254</th>\n",
       "      <td>2017-08-08</td>\n",
       "      <td>T07</td>\n",
       "      <td>14.0</td>\n",
       "      <td>1</td>\n",
       "      <td>1</td>\n",
       "      <td>1</td>\n",
       "      <td>0</td>\n",
       "      <td>0</td>\n",
       "      <td>0</td>\n",
       "      <td>0.0</td>\n",
       "    </tr>\n",
       "    <tr>\n",
       "      <th>255</th>\n",
       "      <td>2017-08-09</td>\n",
       "      <td>T07</td>\n",
       "      <td>13.0</td>\n",
       "      <td>1</td>\n",
       "      <td>1</td>\n",
       "      <td>1</td>\n",
       "      <td>0</td>\n",
       "      <td>0</td>\n",
       "      <td>0</td>\n",
       "      <td>0.0</td>\n",
       "    </tr>\n",
       "    <tr>\n",
       "      <th>256</th>\n",
       "      <td>2017-08-10</td>\n",
       "      <td>T07</td>\n",
       "      <td>12.0</td>\n",
       "      <td>1</td>\n",
       "      <td>1</td>\n",
       "      <td>1</td>\n",
       "      <td>0</td>\n",
       "      <td>0</td>\n",
       "      <td>0</td>\n",
       "      <td>0.0</td>\n",
       "    </tr>\n",
       "    <tr>\n",
       "      <th>257</th>\n",
       "      <td>2017-08-11</td>\n",
       "      <td>T07</td>\n",
       "      <td>11.0</td>\n",
       "      <td>1</td>\n",
       "      <td>1</td>\n",
       "      <td>1</td>\n",
       "      <td>0</td>\n",
       "      <td>0</td>\n",
       "      <td>0</td>\n",
       "      <td>0.0</td>\n",
       "    </tr>\n",
       "    <tr>\n",
       "      <th>258</th>\n",
       "      <td>2017-08-12</td>\n",
       "      <td>T07</td>\n",
       "      <td>10.0</td>\n",
       "      <td>1</td>\n",
       "      <td>1</td>\n",
       "      <td>1</td>\n",
       "      <td>0</td>\n",
       "      <td>0</td>\n",
       "      <td>0</td>\n",
       "      <td>0.0</td>\n",
       "    </tr>\n",
       "    <tr>\n",
       "      <th>259</th>\n",
       "      <td>2017-08-13</td>\n",
       "      <td>T07</td>\n",
       "      <td>9.0</td>\n",
       "      <td>1</td>\n",
       "      <td>1</td>\n",
       "      <td>1</td>\n",
       "      <td>0</td>\n",
       "      <td>0</td>\n",
       "      <td>0</td>\n",
       "      <td>0.0</td>\n",
       "    </tr>\n",
       "    <tr>\n",
       "      <th>260</th>\n",
       "      <td>2017-08-14</td>\n",
       "      <td>T07</td>\n",
       "      <td>8.0</td>\n",
       "      <td>1</td>\n",
       "      <td>1</td>\n",
       "      <td>1</td>\n",
       "      <td>0</td>\n",
       "      <td>0</td>\n",
       "      <td>0</td>\n",
       "      <td>0.0</td>\n",
       "    </tr>\n",
       "    <tr>\n",
       "      <th>261</th>\n",
       "      <td>2017-08-15</td>\n",
       "      <td>T07</td>\n",
       "      <td>7.0</td>\n",
       "      <td>1</td>\n",
       "      <td>1</td>\n",
       "      <td>1</td>\n",
       "      <td>0</td>\n",
       "      <td>0</td>\n",
       "      <td>0</td>\n",
       "      <td>0.0</td>\n",
       "    </tr>\n",
       "    <tr>\n",
       "      <th>262</th>\n",
       "      <td>2017-08-16</td>\n",
       "      <td>T07</td>\n",
       "      <td>6.0</td>\n",
       "      <td>1</td>\n",
       "      <td>1</td>\n",
       "      <td>1</td>\n",
       "      <td>0</td>\n",
       "      <td>0</td>\n",
       "      <td>0</td>\n",
       "      <td>0.0</td>\n",
       "    </tr>\n",
       "    <tr>\n",
       "      <th>263</th>\n",
       "      <td>2017-08-17</td>\n",
       "      <td>T07</td>\n",
       "      <td>5.0</td>\n",
       "      <td>1</td>\n",
       "      <td>1</td>\n",
       "      <td>1</td>\n",
       "      <td>0</td>\n",
       "      <td>0</td>\n",
       "      <td>0</td>\n",
       "      <td>0.0</td>\n",
       "    </tr>\n",
       "    <tr>\n",
       "      <th>264</th>\n",
       "      <td>2017-08-18</td>\n",
       "      <td>T07</td>\n",
       "      <td>4.0</td>\n",
       "      <td>1</td>\n",
       "      <td>1</td>\n",
       "      <td>1</td>\n",
       "      <td>0</td>\n",
       "      <td>0</td>\n",
       "      <td>0</td>\n",
       "      <td>0.0</td>\n",
       "    </tr>\n",
       "    <tr>\n",
       "      <th>265</th>\n",
       "      <td>2017-08-19</td>\n",
       "      <td>T07</td>\n",
       "      <td>3.0</td>\n",
       "      <td>1</td>\n",
       "      <td>1</td>\n",
       "      <td>1</td>\n",
       "      <td>0</td>\n",
       "      <td>0</td>\n",
       "      <td>0</td>\n",
       "      <td>0.0</td>\n",
       "    </tr>\n",
       "    <tr>\n",
       "      <th>266</th>\n",
       "      <td>2017-08-20</td>\n",
       "      <td>T07</td>\n",
       "      <td>2.0</td>\n",
       "      <td>0</td>\n",
       "      <td>1</td>\n",
       "      <td>0</td>\n",
       "      <td>0</td>\n",
       "      <td>1</td>\n",
       "      <td>0</td>\n",
       "      <td>1.0</td>\n",
       "    </tr>\n",
       "    <tr>\n",
       "      <th>267</th>\n",
       "      <td>2017-08-21</td>\n",
       "      <td>T07</td>\n",
       "      <td>1.0</td>\n",
       "      <td>0</td>\n",
       "      <td>0</td>\n",
       "      <td>0</td>\n",
       "      <td>1</td>\n",
       "      <td>0</td>\n",
       "      <td>0</td>\n",
       "      <td>1.0</td>\n",
       "    </tr>\n",
       "  </tbody>\n",
       "</table>\n",
       "<p>82 rows × 10 columns</p>\n",
       "</div>"
      ],
      "text/plain": [
       "          Date Turbine_ID   TTF  y_test  y_pred  TP  TN  FP  FN  new_FP\n",
       "186 2017-06-01        T07  82.0       0       0   0   1   0   0     7.0\n",
       "187 2017-06-02        T07  81.0       0       0   0   1   0   0     6.0\n",
       "188 2017-06-03        T07  80.0       0       1   0   0   1   0     7.0\n",
       "189 2017-06-04        T07  79.0       0       0   0   1   0   0     7.0\n",
       "190 2017-06-05        T07  78.0       0       0   0   1   0   0     7.0\n",
       "191 2017-06-06        T07  77.0       0       1   0   0   1   0     7.0\n",
       "192 2017-06-07        T07  76.0       0       0   0   1   0   0     7.0\n",
       "193 2017-06-08        T07  75.0       0       0   0   1   0   0     7.0\n",
       "194 2017-06-09        T07  74.0       0       0   0   1   0   0     7.0\n",
       "195 2017-06-10        T07  73.0       0       0   0   1   0   0     7.0\n",
       "196 2017-06-11        T07  72.0       0       1   0   0   1   0     7.0\n",
       "197 2017-06-12        T07  71.0       0       0   0   1   0   0     6.0\n",
       "198 2017-06-13        T07  70.0       0       0   0   1   0   0     5.0\n",
       "199 2017-06-14        T07  69.0       0       0   0   1   0   0     4.0\n",
       "200 2017-06-15        T07  68.0       0       1   0   0   1   0     4.0\n",
       "201 2017-06-16        T07  67.0       0       1   0   0   1   0     5.0\n",
       "202 2017-06-17        T07  66.0       0       1   0   0   1   0     6.0\n",
       "203 2017-06-18        T07  65.0       0       1   0   0   1   0     6.0\n",
       "204 2017-06-19        T07  64.0       0       1   0   0   1   0     7.0\n",
       "205 2017-06-20        T07  63.0       0       1   0   0   1   0     8.0\n",
       "206 2017-06-21        T07  62.0       0       1   0   0   1   0     8.0\n",
       "207 2017-06-22        T07  61.0       0       1   0   0   1   0     9.0\n",
       "208 2017-06-23        T07  60.0       1       1   1   0   0   0     9.0\n",
       "209 2017-06-24        T07  59.0       1       1   1   0   0   0     9.0\n",
       "210 2017-06-25        T07  58.0       1       1   1   0   0   0     9.0\n",
       "211 2017-06-26        T07  57.0       1       1   1   0   0   0     8.0\n",
       "212 2017-06-27        T07  56.0       1       0   0   0   0   1     8.0\n",
       "213 2017-06-28        T07  55.0       1       0   0   0   0   1     8.0\n",
       "214 2017-06-29        T07  54.0       1       0   0   0   0   1     8.0\n",
       "215 2017-06-30        T07  53.0       1       0   0   0   0   1     7.0\n",
       "..         ...        ...   ...     ...     ...  ..  ..  ..  ..     ...\n",
       "238 2017-07-23        T07  30.0       1       1   1   0   0   0     0.0\n",
       "239 2017-07-24        T07  29.0       1       1   1   0   0   0     0.0\n",
       "240 2017-07-25        T07  28.0       1       1   1   0   0   0     0.0\n",
       "241 2017-07-26        T07  27.0       1       1   1   0   0   0     0.0\n",
       "242 2017-07-27        T07  26.0       1       1   1   0   0   0     0.0\n",
       "243 2017-07-28        T07  25.0       1       1   1   0   0   0     0.0\n",
       "244 2017-07-29        T07  24.0       1       1   1   0   0   0     0.0\n",
       "245 2017-07-30        T07  23.0       1       1   1   0   0   0     0.0\n",
       "246 2017-07-31        T07  22.0       1       1   1   0   0   0     0.0\n",
       "247 2017-08-01        T07  21.0       1       1   1   0   0   0     0.0\n",
       "248 2017-08-02        T07  20.0       1       1   1   0   0   0     0.0\n",
       "249 2017-08-03        T07  19.0       1       1   1   0   0   0     0.0\n",
       "250 2017-08-04        T07  18.0       1       1   1   0   0   0     0.0\n",
       "251 2017-08-05        T07  17.0       1       1   1   0   0   0     0.0\n",
       "252 2017-08-06        T07  16.0       1       1   1   0   0   0     0.0\n",
       "253 2017-08-07        T07  15.0       1       1   1   0   0   0     0.0\n",
       "254 2017-08-08        T07  14.0       1       1   1   0   0   0     0.0\n",
       "255 2017-08-09        T07  13.0       1       1   1   0   0   0     0.0\n",
       "256 2017-08-10        T07  12.0       1       1   1   0   0   0     0.0\n",
       "257 2017-08-11        T07  11.0       1       1   1   0   0   0     0.0\n",
       "258 2017-08-12        T07  10.0       1       1   1   0   0   0     0.0\n",
       "259 2017-08-13        T07   9.0       1       1   1   0   0   0     0.0\n",
       "260 2017-08-14        T07   8.0       1       1   1   0   0   0     0.0\n",
       "261 2017-08-15        T07   7.0       1       1   1   0   0   0     0.0\n",
       "262 2017-08-16        T07   6.0       1       1   1   0   0   0     0.0\n",
       "263 2017-08-17        T07   5.0       1       1   1   0   0   0     0.0\n",
       "264 2017-08-18        T07   4.0       1       1   1   0   0   0     0.0\n",
       "265 2017-08-19        T07   3.0       1       1   1   0   0   0     0.0\n",
       "266 2017-08-20        T07   2.0       0       1   0   0   1   0     1.0\n",
       "267 2017-08-21        T07   1.0       0       0   0   1   0   0     1.0\n",
       "\n",
       "[82 rows x 10 columns]"
      ]
     },
     "execution_count": 50,
     "metadata": {},
     "output_type": "execute_result"
    }
   ],
   "source": [
    "met_cre_df[met_cre_df['TTF']!=0]"
   ]
  },
  {
   "cell_type": "code",
   "execution_count": 51,
   "metadata": {
    "ExecuteTime": {
     "end_time": "2021-02-20T17:30:49.802027Z",
     "start_time": "2021-02-20T17:30:49.716729Z"
    }
   },
   "outputs": [
    {
     "data": {
      "text/plain": [
       "array([1, 1, 1, 1, 0, 0, 0, 0, 0, 0, 0, 0, 0, 0, 0, 0, 0, 1, 1, 0, 1, 1,\n",
       "       1, 1, 1, 1, 1, 1, 1, 1, 1, 1, 1, 1, 1, 1, 1, 1, 1, 1, 1, 1, 1, 1,\n",
       "       1, 1, 1, 1, 1, 1, 1, 1, 1, 1, 1, 1, 1, 1, 1])"
      ]
     },
     "execution_count": 51,
     "metadata": {},
     "output_type": "execute_result"
    }
   ],
   "source": [
    "y_pred_generator[208:267]"
   ]
  },
  {
   "cell_type": "code",
   "execution_count": 52,
   "metadata": {
    "ExecuteTime": {
     "end_time": "2021-02-20T17:30:50.972709Z",
     "start_time": "2021-02-20T17:30:50.893356Z"
    }
   },
   "outputs": [
    {
     "data": {
      "text/plain": [
       "array([0, 0, 1, 0, 0, 0, 0, 0, 0, 0, 1, 0, 0, 1, 0, 0, 0, 0, 0, 0, 0, 0,\n",
       "       0, 0, 0, 0, 1, 0, 0, 0, 0, 0, 0, 0, 0, 0, 1, 0, 0, 0, 1, 0, 0, 0,\n",
       "       1, 0, 0, 0, 0, 0, 0, 0, 0, 1, 0, 0, 1, 1, 1, 1, 1, 1, 1, 1, 1, 1,\n",
       "       1, 1, 0, 0, 0, 0, 0, 0, 0, 0, 0, 0, 0, 0, 0, 0, 0, 0, 1, 0, 0, 0,\n",
       "       0, 0, 0, 0, 0, 0, 0, 1, 1, 1, 1, 0, 0, 1, 0, 0, 0, 1, 0, 0, 0, 1,\n",
       "       1, 0, 0, 1, 1, 1, 1, 1, 1, 1, 1, 0, 0, 0, 0, 1, 0, 1, 0, 0, 0, 0,\n",
       "       0, 0, 0, 0, 0, 1, 1, 0, 0, 1, 1, 1, 1, 1, 1, 1, 1, 1, 1, 1, 1, 1,\n",
       "       1, 1, 1, 1, 1, 1, 1, 1, 1, 1, 1, 1, 1, 1, 0, 1, 0, 0, 1, 0, 0, 0,\n",
       "       1, 0, 0, 0, 0, 1, 1, 1, 1, 1, 0, 0, 1, 0, 0, 1, 0, 0, 0, 0, 1, 0,\n",
       "       0, 0, 1, 1, 1, 1, 1, 1, 1, 1, 1, 1, 1, 1, 0, 0, 0, 0, 0, 0, 0, 0,\n",
       "       0, 0, 0, 0, 0, 1, 1, 0, 1, 1, 1, 1, 1, 1, 1, 1, 1, 1, 1, 1, 1, 1,\n",
       "       1, 1, 1, 1, 1, 1, 1, 1, 1, 1, 1, 1, 1, 1, 1, 1, 1, 1, 1, 1, 1, 1,\n",
       "       1, 1, 1, 0, 0, 0, 0, 0, 0, 0, 0, 0, 0, 0, 0, 0, 1, 1, 1, 1, 1, 1,\n",
       "       1, 1, 1, 1, 0, 1, 1, 1, 0, 0, 0, 0, 0, 0, 1, 1, 1, 1, 1, 1, 0, 1,\n",
       "       1, 1, 0, 0, 0, 0, 0, 0, 0, 0, 0, 1, 0, 1, 1, 1, 0, 0, 1, 1, 1, 1,\n",
       "       1, 1, 1, 1, 1, 1, 1, 1, 1, 1, 1, 1, 1, 1, 1, 1, 1, 1, 1, 1, 1, 1,\n",
       "       1, 1, 1, 1, 0, 0, 0, 0, 0, 0, 0, 0, 0, 0, 0, 0, 1, 1, 1, 1, 0, 0,\n",
       "       0, 0, 0, 0, 0, 0, 0, 0, 0, 0, 0, 0, 0, 0, 0, 0, 0, 0, 0, 0, 0, 0,\n",
       "       0, 0, 1, 0, 0, 0, 0, 0, 0, 0, 0, 0, 0, 0, 0, 0, 0, 0, 0, 0, 0, 0,\n",
       "       0, 0, 0, 0, 0, 0, 0, 0, 0, 0, 0, 0, 1, 0, 0, 1, 1, 0, 0, 1, 0, 0,\n",
       "       1, 1, 1, 0, 0, 0, 0, 0, 0, 0, 0, 0, 0, 0, 0, 0, 0, 0, 0, 0, 0, 0,\n",
       "       0, 0, 0])"
      ]
     },
     "execution_count": 52,
     "metadata": {},
     "output_type": "execute_result"
    }
   ],
   "source": [
    "y_pred_generator"
   ]
  },
  {
   "cell_type": "code",
   "execution_count": null,
   "metadata": {},
   "outputs": [],
   "source": []
  },
  {
   "cell_type": "code",
   "execution_count": null,
   "metadata": {},
   "outputs": [],
   "source": []
  },
  {
   "cell_type": "code",
   "execution_count": null,
   "metadata": {},
   "outputs": [],
   "source": []
  }
 ],
 "metadata": {
  "kernelspec": {
   "display_name": "Python 3",
   "language": "python",
   "name": "python3"
  },
  "language_info": {
   "codemirror_mode": {
    "name": "ipython",
    "version": 3
   },
   "file_extension": ".py",
   "mimetype": "text/x-python",
   "name": "python",
   "nbconvert_exporter": "python",
   "pygments_lexer": "ipython3",
   "version": "3.7.7"
  }
 },
 "nbformat": 4,
 "nbformat_minor": 4
}
