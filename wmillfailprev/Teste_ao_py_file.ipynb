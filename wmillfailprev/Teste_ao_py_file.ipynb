{
 "cells": [
  {
   "cell_type": "code",
   "execution_count": 1,
   "metadata": {
    "ExecuteTime": {
     "end_time": "2021-02-20T13:59:34.663530Z",
     "start_time": "2021-02-20T13:59:14.212546Z"
    }
   },
   "outputs": [],
   "source": [
    "from b_get_data import *\n",
    "from c_model_related import CustomStandardScaler as Cscl\n",
    "from c_model_related import Trainer as tr\n",
    "from c_model_related import metrics_create_df\n",
    "import joblib"
   ]
  },
  {
   "cell_type": "code",
   "execution_count": 2,
   "metadata": {
    "ExecuteTime": {
     "end_time": "2021-02-20T13:59:34.727365Z",
     "start_time": "2021-02-20T13:59:34.685474Z"
    }
   },
   "outputs": [],
   "source": [
    "gen_features_drop = [\n",
    "    'Gen_RPM_Max', 'Gen_RPM_Min', 'Gen_Phase1_Temp_Avg', 'Gen_Phase3_Temp_Avg',\n",
    "    'Amb_WindSpeed_Est_Avg', 'Grd_RtrInvPhase1_Temp_Avg',\n",
    "    'Grd_RtrInvPhase3_Temp_Avg', 'Rtr_RPM_Max', 'Rtr_RPM_Min',\n",
    "    'Blds_PitchAngle_Max', 'Blds_PitchAngle_Min',\n",
    "    'Prod_LatestAvg_ReactPwrGen1', 'Cont_Hub_Temp_Avg', 'Spin_Temp_Avg',\n",
    "    'Rtr_RPM_Std', 'Rtr_RPM_Avg', 'Cont_VCP_Temp_Avg'\n",
    "]\n",
    "\n",
    "gen_bear_features_drop = [\n",
    "    'Gen_RPM_Max', 'Gen_RPM_Min', 'Gen_Phase1_Temp_Avg', 'Gen_Phase3_Temp_Avg',\n",
    "    'Amb_WindSpeed_Est_Avg', 'Grd_RtrInvPhase1_Temp_Avg',\n",
    "    'Grd_RtrInvPhase3_Temp_Avg', 'Rtr_RPM_Max', 'Rtr_RPM_Min',\n",
    "    'Blds_PitchAngle_Max', 'Blds_PitchAngle_Min',\n",
    "    'Prod_LatestAvg_ReactPwrGen1', 'Cont_Hub_Temp_Avg', 'Spin_Temp_Avg',\n",
    "    'Rtr_RPM_Std', 'Rtr_RPM_Avg', 'Cont_VCP_Temp_Avg'\n",
    "]\n",
    "\n",
    "hyd_features_drop = [\n",
    "    'Rtr_RPM_Max', 'Rtr_RPM_Min', 'Blds_PitchAngle_Max', 'Blds_PitchAngle_Min',\n",
    "    'Blds_PitchAngle_Max', 'Grd_RtrInvPhase3_Temp_Avg', 'Grd_Busbar_Temp_Avg',\n",
    "    'Amb_WindSpeed_Est_Avg', 'Spin_Temp_Avg', 'Cont_Hub_Temp_Avg',\n",
    "    'Grd_RtrInvPhase1_Temp_Avg', 'Cont_VCP_Temp_Avg'\n",
    "]\n",
    "\n",
    "gearbox_features_drop = [\n",
    "    'Rtr_RPM_Max', 'Rtr_RPM_Min', 'Grd_RtrInvPhase1_Temp_Avg',\n",
    "    'Grd_RtrInvPhase3_Temp_Avg', 'Blds_PitchAngle_Min', 'Blds_PitchAngle_Max',\n",
    "    'Cont_VCP_Temp_Avg', 'Grd_Busbar_Temp_Avg', 'Amb_WindSpeed_Est_Avg',\n",
    "    'Spin_Temp_Avg'\n",
    "]\n",
    "\n",
    "transf_features_drop = [\n",
    "    'HVTrafo_Phase1_Temp_Avg', 'HVTrafo_Phase3_Temp_Avg', 'Rtr_RPM_Max',\n",
    "    'Rtr_RPM_Min', 'Grd_RtrInvPhase1_Temp_Avg', 'Grd_RtrInvPhase3_Temp_Avg',\n",
    "    'Blds_PitchAngle_Min', 'Blds_PitchAngle_Max', 'Amb_WindSpeed_Est_Avg',\n",
    "    'Spin_Temp_Avg', 'Cont_VCP_Temp_Avg'\n",
    "]\n",
    "\n",
    "\n",
    "feat_drop_list = [\n",
    "    gen_features_drop, hyd_features_drop, gen_bear_features_drop,\n",
    "    transf_features_drop, gearbox_features_drop\n",
    "]"
   ]
  },
  {
   "cell_type": "code",
   "execution_count": 3,
   "metadata": {
    "ExecuteTime": {
     "end_time": "2021-02-20T14:01:17.216690Z",
     "start_time": "2021-02-20T13:59:34.755285Z"
    }
   },
   "outputs": [
    {
     "data": {
      "text/html": [
       "<div>\n",
       "<style scoped>\n",
       "    .dataframe tbody tr th:only-of-type {\n",
       "        vertical-align: middle;\n",
       "    }\n",
       "\n",
       "    .dataframe tbody tr th {\n",
       "        vertical-align: top;\n",
       "    }\n",
       "\n",
       "    .dataframe thead th {\n",
       "        text-align: right;\n",
       "    }\n",
       "</style>\n",
       "<table border=\"1\" class=\"dataframe\">\n",
       "  <thead>\n",
       "    <tr style=\"text-align: right;\">\n",
       "      <th></th>\n",
       "      <th>Turbine_ID</th>\n",
       "      <th>Timestamp</th>\n",
       "      <th>Gen_RPM_Max</th>\n",
       "      <th>Gen_RPM_Min</th>\n",
       "      <th>Gen_RPM_Avg</th>\n",
       "      <th>Gen_RPM_Std</th>\n",
       "      <th>Gen_Bear_Temp_Avg</th>\n",
       "      <th>Gen_Phase1_Temp_Avg</th>\n",
       "      <th>Gen_Phase2_Temp_Avg</th>\n",
       "      <th>Gen_Phase3_Temp_Avg</th>\n",
       "      <th>...</th>\n",
       "      <th>Grd_Prod_PsbleInd_Avg</th>\n",
       "      <th>Grd_Prod_PsbleInd_Max</th>\n",
       "      <th>Grd_Prod_PsbleInd_Min</th>\n",
       "      <th>Grd_Prod_PsbleInd_Std</th>\n",
       "      <th>Grd_Prod_PsbleCap_Avg</th>\n",
       "      <th>Grd_Prod_PsbleCap_Max</th>\n",
       "      <th>Grd_Prod_PsbleCap_Min</th>\n",
       "      <th>Grd_Prod_PsbleCap_Std</th>\n",
       "      <th>Gen_Bear2_Temp_Avg</th>\n",
       "      <th>Nac_Direction_Avg</th>\n",
       "    </tr>\n",
       "  </thead>\n",
       "  <tbody>\n",
       "    <tr>\n",
       "      <th>0</th>\n",
       "      <td>T11</td>\n",
       "      <td>2016-01-01 00:00:00</td>\n",
       "      <td>1339.4</td>\n",
       "      <td>1233.3</td>\n",
       "      <td>1270.9</td>\n",
       "      <td>18.8</td>\n",
       "      <td>42.0</td>\n",
       "      <td>59</td>\n",
       "      <td>61</td>\n",
       "      <td>60</td>\n",
       "      <td>...</td>\n",
       "      <td>-973.4</td>\n",
       "      <td>-752.6</td>\n",
       "      <td>-1000.0</td>\n",
       "      <td>56.5</td>\n",
       "      <td>973.4</td>\n",
       "      <td>1000.0</td>\n",
       "      <td>752.6</td>\n",
       "      <td>56.5</td>\n",
       "      <td>38</td>\n",
       "      <td>206.9</td>\n",
       "    </tr>\n",
       "    <tr>\n",
       "      <th>1</th>\n",
       "      <td>T06</td>\n",
       "      <td>2016-01-01 00:00:00</td>\n",
       "      <td>1270.0</td>\n",
       "      <td>1232.8</td>\n",
       "      <td>1248.5</td>\n",
       "      <td>6.8</td>\n",
       "      <td>42.0</td>\n",
       "      <td>51</td>\n",
       "      <td>52</td>\n",
       "      <td>53</td>\n",
       "      <td>...</td>\n",
       "      <td>-307.1</td>\n",
       "      <td>0.0</td>\n",
       "      <td>-880.6</td>\n",
       "      <td>180.0</td>\n",
       "      <td>307.1</td>\n",
       "      <td>880.6</td>\n",
       "      <td>0.0</td>\n",
       "      <td>180.0</td>\n",
       "      <td>35</td>\n",
       "      <td>204.6</td>\n",
       "    </tr>\n",
       "    <tr>\n",
       "      <th>2</th>\n",
       "      <td>T01</td>\n",
       "      <td>2016-01-01 00:00:00</td>\n",
       "      <td>1277.4</td>\n",
       "      <td>1226.1</td>\n",
       "      <td>1249.0</td>\n",
       "      <td>9.0</td>\n",
       "      <td>41.0</td>\n",
       "      <td>58</td>\n",
       "      <td>59</td>\n",
       "      <td>58</td>\n",
       "      <td>...</td>\n",
       "      <td>-144.4</td>\n",
       "      <td>0.0</td>\n",
       "      <td>-584.5</td>\n",
       "      <td>157.1</td>\n",
       "      <td>144.4</td>\n",
       "      <td>584.5</td>\n",
       "      <td>0.0</td>\n",
       "      <td>157.1</td>\n",
       "      <td>37</td>\n",
       "      <td>218.5</td>\n",
       "    </tr>\n",
       "    <tr>\n",
       "      <th>3</th>\n",
       "      <td>T09</td>\n",
       "      <td>2016-01-01 00:00:00</td>\n",
       "      <td>1376.7</td>\n",
       "      <td>1234.3</td>\n",
       "      <td>1272.0</td>\n",
       "      <td>24.7</td>\n",
       "      <td>40.0</td>\n",
       "      <td>58</td>\n",
       "      <td>57</td>\n",
       "      <td>58</td>\n",
       "      <td>...</td>\n",
       "      <td>-861.6</td>\n",
       "      <td>-224.5</td>\n",
       "      <td>-1000.0</td>\n",
       "      <td>185.5</td>\n",
       "      <td>861.6</td>\n",
       "      <td>1000.0</td>\n",
       "      <td>224.5</td>\n",
       "      <td>185.5</td>\n",
       "      <td>33</td>\n",
       "      <td>214.0</td>\n",
       "    </tr>\n",
       "    <tr>\n",
       "      <th>4</th>\n",
       "      <td>T07</td>\n",
       "      <td>2016-01-01 00:00:00</td>\n",
       "      <td>1317.5</td>\n",
       "      <td>1229.5</td>\n",
       "      <td>1254.9</td>\n",
       "      <td>13.8</td>\n",
       "      <td>41.0</td>\n",
       "      <td>62</td>\n",
       "      <td>62</td>\n",
       "      <td>61</td>\n",
       "      <td>...</td>\n",
       "      <td>-536.5</td>\n",
       "      <td>0.0</td>\n",
       "      <td>-1000.0</td>\n",
       "      <td>338.9</td>\n",
       "      <td>536.5</td>\n",
       "      <td>1000.0</td>\n",
       "      <td>0.0</td>\n",
       "      <td>338.9</td>\n",
       "      <td>39</td>\n",
       "      <td>197.3</td>\n",
       "    </tr>\n",
       "    <tr>\n",
       "      <th>5</th>\n",
       "      <td>T09</td>\n",
       "      <td>2016-01-01 00:10:00</td>\n",
       "      <td>1485.0</td>\n",
       "      <td>1239.7</td>\n",
       "      <td>1321.4</td>\n",
       "      <td>50.4</td>\n",
       "      <td>40.0</td>\n",
       "      <td>58</td>\n",
       "      <td>57</td>\n",
       "      <td>58</td>\n",
       "      <td>...</td>\n",
       "      <td>-871.4</td>\n",
       "      <td>-293.3</td>\n",
       "      <td>-1000.0</td>\n",
       "      <td>227.4</td>\n",
       "      <td>871.4</td>\n",
       "      <td>1000.0</td>\n",
       "      <td>293.3</td>\n",
       "      <td>227.4</td>\n",
       "      <td>33</td>\n",
       "      <td>214.0</td>\n",
       "    </tr>\n",
       "    <tr>\n",
       "      <th>6</th>\n",
       "      <td>T07</td>\n",
       "      <td>2016-01-01 00:10:00</td>\n",
       "      <td>1271.1</td>\n",
       "      <td>1233.4</td>\n",
       "      <td>1251.9</td>\n",
       "      <td>7.1</td>\n",
       "      <td>42.0</td>\n",
       "      <td>62</td>\n",
       "      <td>62</td>\n",
       "      <td>62</td>\n",
       "      <td>...</td>\n",
       "      <td>-469.6</td>\n",
       "      <td>0.0</td>\n",
       "      <td>-763.5</td>\n",
       "      <td>180.8</td>\n",
       "      <td>469.6</td>\n",
       "      <td>763.5</td>\n",
       "      <td>0.0</td>\n",
       "      <td>180.8</td>\n",
       "      <td>39</td>\n",
       "      <td>203.9</td>\n",
       "    </tr>\n",
       "    <tr>\n",
       "      <th>7</th>\n",
       "      <td>T06</td>\n",
       "      <td>2016-01-01 00:10:00</td>\n",
       "      <td>1429.7</td>\n",
       "      <td>203.9</td>\n",
       "      <td>1154.1</td>\n",
       "      <td>271.7</td>\n",
       "      <td>42.0</td>\n",
       "      <td>51</td>\n",
       "      <td>52</td>\n",
       "      <td>52</td>\n",
       "      <td>...</td>\n",
       "      <td>-70.5</td>\n",
       "      <td>0.0</td>\n",
       "      <td>-1000.0</td>\n",
       "      <td>154.1</td>\n",
       "      <td>70.5</td>\n",
       "      <td>1000.0</td>\n",
       "      <td>0.0</td>\n",
       "      <td>154.1</td>\n",
       "      <td>35</td>\n",
       "      <td>210.5</td>\n",
       "    </tr>\n",
       "    <tr>\n",
       "      <th>8</th>\n",
       "      <td>T01</td>\n",
       "      <td>2016-01-01 00:10:00</td>\n",
       "      <td>1268.3</td>\n",
       "      <td>93.3</td>\n",
       "      <td>999.7</td>\n",
       "      <td>435.9</td>\n",
       "      <td>41.0</td>\n",
       "      <td>58</td>\n",
       "      <td>59</td>\n",
       "      <td>59</td>\n",
       "      <td>...</td>\n",
       "      <td>-79.6</td>\n",
       "      <td>0.0</td>\n",
       "      <td>-501.0</td>\n",
       "      <td>123.7</td>\n",
       "      <td>79.6</td>\n",
       "      <td>501.0</td>\n",
       "      <td>0.0</td>\n",
       "      <td>123.7</td>\n",
       "      <td>37</td>\n",
       "      <td>218.5</td>\n",
       "    </tr>\n",
       "    <tr>\n",
       "      <th>9</th>\n",
       "      <td>T11</td>\n",
       "      <td>2016-01-01 00:10:00</td>\n",
       "      <td>1400.5</td>\n",
       "      <td>1239.8</td>\n",
       "      <td>1303.6</td>\n",
       "      <td>40.2</td>\n",
       "      <td>43.0</td>\n",
       "      <td>59</td>\n",
       "      <td>61</td>\n",
       "      <td>60</td>\n",
       "      <td>...</td>\n",
       "      <td>-999.3</td>\n",
       "      <td>-931.3</td>\n",
       "      <td>-1000.0</td>\n",
       "      <td>5.8</td>\n",
       "      <td>999.3</td>\n",
       "      <td>1000.0</td>\n",
       "      <td>931.3</td>\n",
       "      <td>5.8</td>\n",
       "      <td>38</td>\n",
       "      <td>206.9</td>\n",
       "    </tr>\n",
       "    <tr>\n",
       "      <th>10</th>\n",
       "      <td>T11</td>\n",
       "      <td>2016-01-01 00:20:00</td>\n",
       "      <td>1423.6</td>\n",
       "      <td>1270.8</td>\n",
       "      <td>1344.3</td>\n",
       "      <td>27.2</td>\n",
       "      <td>43.0</td>\n",
       "      <td>60</td>\n",
       "      <td>61</td>\n",
       "      <td>61</td>\n",
       "      <td>...</td>\n",
       "      <td>-1000.0</td>\n",
       "      <td>-986.9</td>\n",
       "      <td>-1000.0</td>\n",
       "      <td>0.2</td>\n",
       "      <td>1000.0</td>\n",
       "      <td>1000.0</td>\n",
       "      <td>986.9</td>\n",
       "      <td>0.2</td>\n",
       "      <td>38</td>\n",
       "      <td>206.9</td>\n",
       "    </tr>\n",
       "    <tr>\n",
       "      <th>11</th>\n",
       "      <td>T09</td>\n",
       "      <td>2016-01-01 00:20:00</td>\n",
       "      <td>1441.0</td>\n",
       "      <td>1274.6</td>\n",
       "      <td>1363.4</td>\n",
       "      <td>31.0</td>\n",
       "      <td>40.0</td>\n",
       "      <td>58</td>\n",
       "      <td>57</td>\n",
       "      <td>58</td>\n",
       "      <td>...</td>\n",
       "      <td>-999.7</td>\n",
       "      <td>-904.9</td>\n",
       "      <td>-1000.0</td>\n",
       "      <td>4.2</td>\n",
       "      <td>999.7</td>\n",
       "      <td>1000.0</td>\n",
       "      <td>904.9</td>\n",
       "      <td>4.2</td>\n",
       "      <td>33</td>\n",
       "      <td>214.0</td>\n",
       "    </tr>\n",
       "    <tr>\n",
       "      <th>12</th>\n",
       "      <td>T06</td>\n",
       "      <td>2016-01-01 00:20:00</td>\n",
       "      <td>1360.5</td>\n",
       "      <td>250.3</td>\n",
       "      <td>1041.4</td>\n",
       "      <td>382.7</td>\n",
       "      <td>42.0</td>\n",
       "      <td>50</td>\n",
       "      <td>51</td>\n",
       "      <td>51</td>\n",
       "      <td>...</td>\n",
       "      <td>-57.5</td>\n",
       "      <td>0.0</td>\n",
       "      <td>-587.9</td>\n",
       "      <td>115.8</td>\n",
       "      <td>57.5</td>\n",
       "      <td>587.9</td>\n",
       "      <td>0.0</td>\n",
       "      <td>115.8</td>\n",
       "      <td>35</td>\n",
       "      <td>199.0</td>\n",
       "    </tr>\n",
       "    <tr>\n",
       "      <th>13</th>\n",
       "      <td>T01</td>\n",
       "      <td>2016-01-01 00:20:00</td>\n",
       "      <td>1394.4</td>\n",
       "      <td>220.3</td>\n",
       "      <td>774.0</td>\n",
       "      <td>486.1</td>\n",
       "      <td>41.0</td>\n",
       "      <td>57</td>\n",
       "      <td>57</td>\n",
       "      <td>57</td>\n",
       "      <td>...</td>\n",
       "      <td>-314.0</td>\n",
       "      <td>0.0</td>\n",
       "      <td>-1000.0</td>\n",
       "      <td>357.4</td>\n",
       "      <td>314.0</td>\n",
       "      <td>1000.0</td>\n",
       "      <td>0.0</td>\n",
       "      <td>357.4</td>\n",
       "      <td>37</td>\n",
       "      <td>213.3</td>\n",
       "    </tr>\n",
       "    <tr>\n",
       "      <th>14</th>\n",
       "      <td>T07</td>\n",
       "      <td>2016-01-01 00:20:00</td>\n",
       "      <td>1276.7</td>\n",
       "      <td>1229.1</td>\n",
       "      <td>1251.1</td>\n",
       "      <td>9.5</td>\n",
       "      <td>42.0</td>\n",
       "      <td>62</td>\n",
       "      <td>62</td>\n",
       "      <td>62</td>\n",
       "      <td>...</td>\n",
       "      <td>-503.5</td>\n",
       "      <td>-62.2</td>\n",
       "      <td>-1000.0</td>\n",
       "      <td>221.6</td>\n",
       "      <td>503.5</td>\n",
       "      <td>1000.0</td>\n",
       "      <td>62.2</td>\n",
       "      <td>221.6</td>\n",
       "      <td>39</td>\n",
       "      <td>197.0</td>\n",
       "    </tr>\n",
       "    <tr>\n",
       "      <th>15</th>\n",
       "      <td>T01</td>\n",
       "      <td>2016-01-01 00:30:00</td>\n",
       "      <td>1306.6</td>\n",
       "      <td>1212.4</td>\n",
       "      <td>1257.1</td>\n",
       "      <td>17.0</td>\n",
       "      <td>40.0</td>\n",
       "      <td>56</td>\n",
       "      <td>57</td>\n",
       "      <td>57</td>\n",
       "      <td>...</td>\n",
       "      <td>-654.0</td>\n",
       "      <td>0.0</td>\n",
       "      <td>-1000.0</td>\n",
       "      <td>245.8</td>\n",
       "      <td>654.0</td>\n",
       "      <td>1000.0</td>\n",
       "      <td>0.0</td>\n",
       "      <td>245.8</td>\n",
       "      <td>36</td>\n",
       "      <td>222.4</td>\n",
       "    </tr>\n",
       "    <tr>\n",
       "      <th>16</th>\n",
       "      <td>T07</td>\n",
       "      <td>2016-01-01 00:30:00</td>\n",
       "      <td>1408.5</td>\n",
       "      <td>1227.0</td>\n",
       "      <td>1259.9</td>\n",
       "      <td>25.4</td>\n",
       "      <td>42.0</td>\n",
       "      <td>63</td>\n",
       "      <td>62</td>\n",
       "      <td>62</td>\n",
       "      <td>...</td>\n",
       "      <td>-592.2</td>\n",
       "      <td>-147.7</td>\n",
       "      <td>-1000.0</td>\n",
       "      <td>229.1</td>\n",
       "      <td>592.2</td>\n",
       "      <td>1000.0</td>\n",
       "      <td>147.7</td>\n",
       "      <td>229.1</td>\n",
       "      <td>39</td>\n",
       "      <td>204.0</td>\n",
       "    </tr>\n",
       "    <tr>\n",
       "      <th>17</th>\n",
       "      <td>T11</td>\n",
       "      <td>2016-01-01 00:30:00</td>\n",
       "      <td>1470.1</td>\n",
       "      <td>1258.7</td>\n",
       "      <td>1377.5</td>\n",
       "      <td>48.9</td>\n",
       "      <td>43.0</td>\n",
       "      <td>60</td>\n",
       "      <td>62</td>\n",
       "      <td>61</td>\n",
       "      <td>...</td>\n",
       "      <td>-1000.0</td>\n",
       "      <td>-1000.0</td>\n",
       "      <td>-1000.0</td>\n",
       "      <td>0.0</td>\n",
       "      <td>1000.0</td>\n",
       "      <td>1000.0</td>\n",
       "      <td>1000.0</td>\n",
       "      <td>0.0</td>\n",
       "      <td>38</td>\n",
       "      <td>206.9</td>\n",
       "    </tr>\n",
       "    <tr>\n",
       "      <th>18</th>\n",
       "      <td>T09</td>\n",
       "      <td>2016-01-01 00:30:00</td>\n",
       "      <td>1549.4</td>\n",
       "      <td>1266.5</td>\n",
       "      <td>1379.7</td>\n",
       "      <td>76.8</td>\n",
       "      <td>41.0</td>\n",
       "      <td>59</td>\n",
       "      <td>58</td>\n",
       "      <td>59</td>\n",
       "      <td>...</td>\n",
       "      <td>-1000.0</td>\n",
       "      <td>-1000.0</td>\n",
       "      <td>-1000.0</td>\n",
       "      <td>0.0</td>\n",
       "      <td>1000.0</td>\n",
       "      <td>1000.0</td>\n",
       "      <td>1000.0</td>\n",
       "      <td>0.0</td>\n",
       "      <td>33</td>\n",
       "      <td>214.0</td>\n",
       "    </tr>\n",
       "    <tr>\n",
       "      <th>19</th>\n",
       "      <td>T06</td>\n",
       "      <td>2016-01-01 00:30:00</td>\n",
       "      <td>1399.2</td>\n",
       "      <td>1228.8</td>\n",
       "      <td>1252.5</td>\n",
       "      <td>16.5</td>\n",
       "      <td>42.0</td>\n",
       "      <td>49</td>\n",
       "      <td>50</td>\n",
       "      <td>50</td>\n",
       "      <td>...</td>\n",
       "      <td>-493.2</td>\n",
       "      <td>0.0</td>\n",
       "      <td>-1000.0</td>\n",
       "      <td>237.5</td>\n",
       "      <td>493.2</td>\n",
       "      <td>1000.0</td>\n",
       "      <td>0.0</td>\n",
       "      <td>237.5</td>\n",
       "      <td>35</td>\n",
       "      <td>205.6</td>\n",
       "    </tr>\n",
       "    <tr>\n",
       "      <th>20</th>\n",
       "      <td>T07</td>\n",
       "      <td>2016-01-01 00:40:00</td>\n",
       "      <td>1366.1</td>\n",
       "      <td>1236.5</td>\n",
       "      <td>1288.2</td>\n",
       "      <td>32.8</td>\n",
       "      <td>42.0</td>\n",
       "      <td>63</td>\n",
       "      <td>63</td>\n",
       "      <td>63</td>\n",
       "      <td>...</td>\n",
       "      <td>-997.1</td>\n",
       "      <td>-908.9</td>\n",
       "      <td>-1000.0</td>\n",
       "      <td>13.6</td>\n",
       "      <td>997.1</td>\n",
       "      <td>1000.0</td>\n",
       "      <td>908.9</td>\n",
       "      <td>13.6</td>\n",
       "      <td>40</td>\n",
       "      <td>203.9</td>\n",
       "    </tr>\n",
       "    <tr>\n",
       "      <th>21</th>\n",
       "      <td>T01</td>\n",
       "      <td>2016-01-01 00:40:00</td>\n",
       "      <td>1320.9</td>\n",
       "      <td>1224.1</td>\n",
       "      <td>1257.7</td>\n",
       "      <td>18.0</td>\n",
       "      <td>40.0</td>\n",
       "      <td>57</td>\n",
       "      <td>58</td>\n",
       "      <td>57</td>\n",
       "      <td>...</td>\n",
       "      <td>-496.1</td>\n",
       "      <td>0.0</td>\n",
       "      <td>-1000.0</td>\n",
       "      <td>302.7</td>\n",
       "      <td>496.1</td>\n",
       "      <td>1000.0</td>\n",
       "      <td>0.0</td>\n",
       "      <td>302.7</td>\n",
       "      <td>36</td>\n",
       "      <td>222.4</td>\n",
       "    </tr>\n",
       "    <tr>\n",
       "      <th>22</th>\n",
       "      <td>T11</td>\n",
       "      <td>2016-01-01 00:40:00</td>\n",
       "      <td>1539.1</td>\n",
       "      <td>1252.1</td>\n",
       "      <td>1396.2</td>\n",
       "      <td>66.8</td>\n",
       "      <td>43.0</td>\n",
       "      <td>61</td>\n",
       "      <td>62</td>\n",
       "      <td>61</td>\n",
       "      <td>...</td>\n",
       "      <td>-999.9</td>\n",
       "      <td>-945.9</td>\n",
       "      <td>-1000.0</td>\n",
       "      <td>1.7</td>\n",
       "      <td>999.9</td>\n",
       "      <td>1000.0</td>\n",
       "      <td>945.9</td>\n",
       "      <td>1.7</td>\n",
       "      <td>39</td>\n",
       "      <td>206.9</td>\n",
       "    </tr>\n",
       "    <tr>\n",
       "      <th>23</th>\n",
       "      <td>T09</td>\n",
       "      <td>2016-01-01 00:40:00</td>\n",
       "      <td>1536.5</td>\n",
       "      <td>1337.1</td>\n",
       "      <td>1426.9</td>\n",
       "      <td>42.0</td>\n",
       "      <td>41.0</td>\n",
       "      <td>59</td>\n",
       "      <td>58</td>\n",
       "      <td>59</td>\n",
       "      <td>...</td>\n",
       "      <td>-998.9</td>\n",
       "      <td>-730.8</td>\n",
       "      <td>-1000.0</td>\n",
       "      <td>13.9</td>\n",
       "      <td>998.9</td>\n",
       "      <td>1000.0</td>\n",
       "      <td>730.8</td>\n",
       "      <td>13.9</td>\n",
       "      <td>34</td>\n",
       "      <td>214.0</td>\n",
       "    </tr>\n",
       "    <tr>\n",
       "      <th>24</th>\n",
       "      <td>T06</td>\n",
       "      <td>2016-01-01 00:40:00</td>\n",
       "      <td>1302.7</td>\n",
       "      <td>1225.1</td>\n",
       "      <td>1257.6</td>\n",
       "      <td>13.4</td>\n",
       "      <td>41.0</td>\n",
       "      <td>50</td>\n",
       "      <td>50</td>\n",
       "      <td>51</td>\n",
       "      <td>...</td>\n",
       "      <td>-872.3</td>\n",
       "      <td>-556.0</td>\n",
       "      <td>-1000.0</td>\n",
       "      <td>150.9</td>\n",
       "      <td>872.3</td>\n",
       "      <td>1000.0</td>\n",
       "      <td>556.0</td>\n",
       "      <td>150.9</td>\n",
       "      <td>35</td>\n",
       "      <td>207.4</td>\n",
       "    </tr>\n",
       "    <tr>\n",
       "      <th>25</th>\n",
       "      <td>T11</td>\n",
       "      <td>2016-01-01 00:50:00</td>\n",
       "      <td>1492.1</td>\n",
       "      <td>1258.0</td>\n",
       "      <td>1363.7</td>\n",
       "      <td>51.5</td>\n",
       "      <td>44.0</td>\n",
       "      <td>61</td>\n",
       "      <td>62</td>\n",
       "      <td>61</td>\n",
       "      <td>...</td>\n",
       "      <td>-996.3</td>\n",
       "      <td>-564.8</td>\n",
       "      <td>-1000.0</td>\n",
       "      <td>29.5</td>\n",
       "      <td>996.3</td>\n",
       "      <td>1000.0</td>\n",
       "      <td>564.8</td>\n",
       "      <td>29.5</td>\n",
       "      <td>39</td>\n",
       "      <td>206.9</td>\n",
       "    </tr>\n",
       "    <tr>\n",
       "      <th>26</th>\n",
       "      <td>T06</td>\n",
       "      <td>2016-01-01 00:50:00</td>\n",
       "      <td>1298.7</td>\n",
       "      <td>1236.3</td>\n",
       "      <td>1257.9</td>\n",
       "      <td>10.8</td>\n",
       "      <td>41.0</td>\n",
       "      <td>50</td>\n",
       "      <td>51</td>\n",
       "      <td>51</td>\n",
       "      <td>...</td>\n",
       "      <td>-882.3</td>\n",
       "      <td>-456.6</td>\n",
       "      <td>-1000.0</td>\n",
       "      <td>166.8</td>\n",
       "      <td>882.3</td>\n",
       "      <td>1000.0</td>\n",
       "      <td>456.6</td>\n",
       "      <td>166.8</td>\n",
       "      <td>35</td>\n",
       "      <td>203.2</td>\n",
       "    </tr>\n",
       "    <tr>\n",
       "      <th>27</th>\n",
       "      <td>T01</td>\n",
       "      <td>2016-01-01 00:50:00</td>\n",
       "      <td>1462.6</td>\n",
       "      <td>1249.5</td>\n",
       "      <td>1328.5</td>\n",
       "      <td>48.3</td>\n",
       "      <td>40.0</td>\n",
       "      <td>58</td>\n",
       "      <td>59</td>\n",
       "      <td>58</td>\n",
       "      <td>...</td>\n",
       "      <td>-996.0</td>\n",
       "      <td>-714.7</td>\n",
       "      <td>-1000.0</td>\n",
       "      <td>27.4</td>\n",
       "      <td>996.0</td>\n",
       "      <td>1000.0</td>\n",
       "      <td>714.7</td>\n",
       "      <td>27.4</td>\n",
       "      <td>36</td>\n",
       "      <td>221.3</td>\n",
       "    </tr>\n",
       "    <tr>\n",
       "      <th>28</th>\n",
       "      <td>T09</td>\n",
       "      <td>2016-01-01 00:50:00</td>\n",
       "      <td>1568.6</td>\n",
       "      <td>1261.9</td>\n",
       "      <td>1451.6</td>\n",
       "      <td>65.9</td>\n",
       "      <td>42.0</td>\n",
       "      <td>60</td>\n",
       "      <td>58</td>\n",
       "      <td>60</td>\n",
       "      <td>...</td>\n",
       "      <td>-999.8</td>\n",
       "      <td>-937.4</td>\n",
       "      <td>-1000.0</td>\n",
       "      <td>2.9</td>\n",
       "      <td>999.8</td>\n",
       "      <td>1000.0</td>\n",
       "      <td>937.4</td>\n",
       "      <td>2.9</td>\n",
       "      <td>34</td>\n",
       "      <td>214.0</td>\n",
       "    </tr>\n",
       "    <tr>\n",
       "      <th>29</th>\n",
       "      <td>T07</td>\n",
       "      <td>2016-01-01 00:50:00</td>\n",
       "      <td>1389.5</td>\n",
       "      <td>1236.5</td>\n",
       "      <td>1284.1</td>\n",
       "      <td>29.7</td>\n",
       "      <td>42.0</td>\n",
       "      <td>64</td>\n",
       "      <td>64</td>\n",
       "      <td>63</td>\n",
       "      <td>...</td>\n",
       "      <td>-991.8</td>\n",
       "      <td>-792.8</td>\n",
       "      <td>-1000.0</td>\n",
       "      <td>33.9</td>\n",
       "      <td>991.8</td>\n",
       "      <td>1000.0</td>\n",
       "      <td>792.8</td>\n",
       "      <td>33.9</td>\n",
       "      <td>40</td>\n",
       "      <td>197.0</td>\n",
       "    </tr>\n",
       "    <tr>\n",
       "      <th>...</th>\n",
       "      <td>...</td>\n",
       "      <td>...</td>\n",
       "      <td>...</td>\n",
       "      <td>...</td>\n",
       "      <td>...</td>\n",
       "      <td>...</td>\n",
       "      <td>...</td>\n",
       "      <td>...</td>\n",
       "      <td>...</td>\n",
       "      <td>...</td>\n",
       "      <td>...</td>\n",
       "      <td>...</td>\n",
       "      <td>...</td>\n",
       "      <td>...</td>\n",
       "      <td>...</td>\n",
       "      <td>...</td>\n",
       "      <td>...</td>\n",
       "      <td>...</td>\n",
       "      <td>...</td>\n",
       "      <td>...</td>\n",
       "      <td>...</td>\n",
       "    </tr>\n",
       "    <tr>\n",
       "      <th>434115</th>\n",
       "      <td>T11</td>\n",
       "      <td>2017-08-31 23:10:00</td>\n",
       "      <td>1268.8</td>\n",
       "      <td>1240.0</td>\n",
       "      <td>1251.1</td>\n",
       "      <td>4.7</td>\n",
       "      <td>42.0</td>\n",
       "      <td>54</td>\n",
       "      <td>55</td>\n",
       "      <td>54</td>\n",
       "      <td>...</td>\n",
       "      <td>-771.8</td>\n",
       "      <td>-343.6</td>\n",
       "      <td>-1000.0</td>\n",
       "      <td>207.5</td>\n",
       "      <td>771.8</td>\n",
       "      <td>1000.0</td>\n",
       "      <td>343.6</td>\n",
       "      <td>207.5</td>\n",
       "      <td>41</td>\n",
       "      <td>116.1</td>\n",
       "    </tr>\n",
       "    <tr>\n",
       "      <th>434116</th>\n",
       "      <td>T09</td>\n",
       "      <td>2017-08-31 23:10:00</td>\n",
       "      <td>1258.3</td>\n",
       "      <td>1239.6</td>\n",
       "      <td>1250.3</td>\n",
       "      <td>3.0</td>\n",
       "      <td>41.0</td>\n",
       "      <td>58</td>\n",
       "      <td>58</td>\n",
       "      <td>58</td>\n",
       "      <td>...</td>\n",
       "      <td>-826.0</td>\n",
       "      <td>-588.2</td>\n",
       "      <td>-1000.0</td>\n",
       "      <td>130.2</td>\n",
       "      <td>826.0</td>\n",
       "      <td>1000.0</td>\n",
       "      <td>588.2</td>\n",
       "      <td>130.2</td>\n",
       "      <td>38</td>\n",
       "      <td>115.9</td>\n",
       "    </tr>\n",
       "    <tr>\n",
       "      <th>434117</th>\n",
       "      <td>T01</td>\n",
       "      <td>2017-08-31 23:10:00</td>\n",
       "      <td>1281.6</td>\n",
       "      <td>1219.5</td>\n",
       "      <td>1249.5</td>\n",
       "      <td>10.4</td>\n",
       "      <td>42.0</td>\n",
       "      <td>58</td>\n",
       "      <td>58</td>\n",
       "      <td>58</td>\n",
       "      <td>...</td>\n",
       "      <td>-630.2</td>\n",
       "      <td>-232.5</td>\n",
       "      <td>-1000.0</td>\n",
       "      <td>207.2</td>\n",
       "      <td>630.2</td>\n",
       "      <td>1000.0</td>\n",
       "      <td>232.5</td>\n",
       "      <td>207.2</td>\n",
       "      <td>42</td>\n",
       "      <td>117.6</td>\n",
       "    </tr>\n",
       "    <tr>\n",
       "      <th>434118</th>\n",
       "      <td>T06</td>\n",
       "      <td>2017-08-31 23:10:00</td>\n",
       "      <td>1453.5</td>\n",
       "      <td>1228.4</td>\n",
       "      <td>1309.9</td>\n",
       "      <td>55.6</td>\n",
       "      <td>47.0</td>\n",
       "      <td>59</td>\n",
       "      <td>60</td>\n",
       "      <td>60</td>\n",
       "      <td>...</td>\n",
       "      <td>-1000.0</td>\n",
       "      <td>-1000.0</td>\n",
       "      <td>-1000.0</td>\n",
       "      <td>0.0</td>\n",
       "      <td>1000.0</td>\n",
       "      <td>1000.0</td>\n",
       "      <td>1000.0</td>\n",
       "      <td>0.0</td>\n",
       "      <td>45</td>\n",
       "      <td>98.0</td>\n",
       "    </tr>\n",
       "    <tr>\n",
       "      <th>434119</th>\n",
       "      <td>T07</td>\n",
       "      <td>2017-08-31 23:10:00</td>\n",
       "      <td>1354.7</td>\n",
       "      <td>1233.2</td>\n",
       "      <td>1267.6</td>\n",
       "      <td>26.1</td>\n",
       "      <td>47.0</td>\n",
       "      <td>63</td>\n",
       "      <td>63</td>\n",
       "      <td>62</td>\n",
       "      <td>...</td>\n",
       "      <td>-999.7</td>\n",
       "      <td>-963.5</td>\n",
       "      <td>-1000.0</td>\n",
       "      <td>2.6</td>\n",
       "      <td>999.7</td>\n",
       "      <td>1000.0</td>\n",
       "      <td>963.5</td>\n",
       "      <td>2.6</td>\n",
       "      <td>43</td>\n",
       "      <td>103.4</td>\n",
       "    </tr>\n",
       "    <tr>\n",
       "      <th>434120</th>\n",
       "      <td>T09</td>\n",
       "      <td>2017-08-31 23:20:00</td>\n",
       "      <td>1262.6</td>\n",
       "      <td>1228.3</td>\n",
       "      <td>1249.6</td>\n",
       "      <td>3.8</td>\n",
       "      <td>42.0</td>\n",
       "      <td>60</td>\n",
       "      <td>59</td>\n",
       "      <td>60</td>\n",
       "      <td>...</td>\n",
       "      <td>-825.4</td>\n",
       "      <td>-318.9</td>\n",
       "      <td>-1000.0</td>\n",
       "      <td>208.7</td>\n",
       "      <td>825.4</td>\n",
       "      <td>1000.0</td>\n",
       "      <td>318.9</td>\n",
       "      <td>208.7</td>\n",
       "      <td>39</td>\n",
       "      <td>124.9</td>\n",
       "    </tr>\n",
       "    <tr>\n",
       "      <th>434121</th>\n",
       "      <td>T01</td>\n",
       "      <td>2017-08-31 23:20:00</td>\n",
       "      <td>1279.2</td>\n",
       "      <td>1226.6</td>\n",
       "      <td>1249.4</td>\n",
       "      <td>9.5</td>\n",
       "      <td>43.0</td>\n",
       "      <td>59</td>\n",
       "      <td>60</td>\n",
       "      <td>59</td>\n",
       "      <td>...</td>\n",
       "      <td>-512.8</td>\n",
       "      <td>0.0</td>\n",
       "      <td>-1000.0</td>\n",
       "      <td>308.7</td>\n",
       "      <td>512.8</td>\n",
       "      <td>1000.0</td>\n",
       "      <td>0.0</td>\n",
       "      <td>308.7</td>\n",
       "      <td>42</td>\n",
       "      <td>120.9</td>\n",
       "    </tr>\n",
       "    <tr>\n",
       "      <th>434122</th>\n",
       "      <td>T11</td>\n",
       "      <td>2017-08-31 23:20:00</td>\n",
       "      <td>1434.3</td>\n",
       "      <td>1243.1</td>\n",
       "      <td>1286.1</td>\n",
       "      <td>46.8</td>\n",
       "      <td>43.0</td>\n",
       "      <td>56</td>\n",
       "      <td>57</td>\n",
       "      <td>56</td>\n",
       "      <td>...</td>\n",
       "      <td>-992.9</td>\n",
       "      <td>-887.5</td>\n",
       "      <td>-1000.0</td>\n",
       "      <td>21.5</td>\n",
       "      <td>992.9</td>\n",
       "      <td>1000.0</td>\n",
       "      <td>887.5</td>\n",
       "      <td>21.5</td>\n",
       "      <td>42</td>\n",
       "      <td>117.5</td>\n",
       "    </tr>\n",
       "    <tr>\n",
       "      <th>434123</th>\n",
       "      <td>T07</td>\n",
       "      <td>2017-08-31 23:20:00</td>\n",
       "      <td>1277.9</td>\n",
       "      <td>1227.3</td>\n",
       "      <td>1250.0</td>\n",
       "      <td>8.6</td>\n",
       "      <td>48.0</td>\n",
       "      <td>64</td>\n",
       "      <td>64</td>\n",
       "      <td>64</td>\n",
       "      <td>...</td>\n",
       "      <td>-928.3</td>\n",
       "      <td>-729.1</td>\n",
       "      <td>-1000.0</td>\n",
       "      <td>78.8</td>\n",
       "      <td>928.3</td>\n",
       "      <td>1000.0</td>\n",
       "      <td>729.1</td>\n",
       "      <td>78.8</td>\n",
       "      <td>44</td>\n",
       "      <td>102.8</td>\n",
       "    </tr>\n",
       "    <tr>\n",
       "      <th>434124</th>\n",
       "      <td>T06</td>\n",
       "      <td>2017-08-31 23:20:00</td>\n",
       "      <td>1407.0</td>\n",
       "      <td>1233.1</td>\n",
       "      <td>1284.4</td>\n",
       "      <td>46.2</td>\n",
       "      <td>47.0</td>\n",
       "      <td>60</td>\n",
       "      <td>61</td>\n",
       "      <td>61</td>\n",
       "      <td>...</td>\n",
       "      <td>-999.3</td>\n",
       "      <td>-926.8</td>\n",
       "      <td>-1000.0</td>\n",
       "      <td>6.2</td>\n",
       "      <td>999.3</td>\n",
       "      <td>1000.0</td>\n",
       "      <td>926.8</td>\n",
       "      <td>6.2</td>\n",
       "      <td>45</td>\n",
       "      <td>97.3</td>\n",
       "    </tr>\n",
       "    <tr>\n",
       "      <th>434125</th>\n",
       "      <td>T06</td>\n",
       "      <td>2017-08-31 23:30:00</td>\n",
       "      <td>1322.3</td>\n",
       "      <td>1226.3</td>\n",
       "      <td>1258.8</td>\n",
       "      <td>18.8</td>\n",
       "      <td>48.0</td>\n",
       "      <td>61</td>\n",
       "      <td>62</td>\n",
       "      <td>62</td>\n",
       "      <td>...</td>\n",
       "      <td>-946.1</td>\n",
       "      <td>-588.6</td>\n",
       "      <td>-1000.0</td>\n",
       "      <td>102.3</td>\n",
       "      <td>946.1</td>\n",
       "      <td>1000.0</td>\n",
       "      <td>588.6</td>\n",
       "      <td>102.3</td>\n",
       "      <td>45</td>\n",
       "      <td>89.5</td>\n",
       "    </tr>\n",
       "    <tr>\n",
       "      <th>434126</th>\n",
       "      <td>T11</td>\n",
       "      <td>2017-08-31 23:30:00</td>\n",
       "      <td>1265.2</td>\n",
       "      <td>1238.6</td>\n",
       "      <td>1249.8</td>\n",
       "      <td>4.1</td>\n",
       "      <td>43.0</td>\n",
       "      <td>57</td>\n",
       "      <td>58</td>\n",
       "      <td>58</td>\n",
       "      <td>...</td>\n",
       "      <td>-731.1</td>\n",
       "      <td>-356.0</td>\n",
       "      <td>-971.3</td>\n",
       "      <td>142.4</td>\n",
       "      <td>731.1</td>\n",
       "      <td>971.3</td>\n",
       "      <td>356.0</td>\n",
       "      <td>142.4</td>\n",
       "      <td>42</td>\n",
       "      <td>117.5</td>\n",
       "    </tr>\n",
       "    <tr>\n",
       "      <th>434127</th>\n",
       "      <td>T07</td>\n",
       "      <td>2017-08-31 23:30:00</td>\n",
       "      <td>1276.7</td>\n",
       "      <td>1231.1</td>\n",
       "      <td>1251.8</td>\n",
       "      <td>8.0</td>\n",
       "      <td>48.0</td>\n",
       "      <td>65</td>\n",
       "      <td>65</td>\n",
       "      <td>65</td>\n",
       "      <td>...</td>\n",
       "      <td>-873.1</td>\n",
       "      <td>-514.5</td>\n",
       "      <td>-1000.0</td>\n",
       "      <td>147.3</td>\n",
       "      <td>873.1</td>\n",
       "      <td>1000.0</td>\n",
       "      <td>514.5</td>\n",
       "      <td>147.3</td>\n",
       "      <td>44</td>\n",
       "      <td>95.3</td>\n",
       "    </tr>\n",
       "    <tr>\n",
       "      <th>434128</th>\n",
       "      <td>T09</td>\n",
       "      <td>2017-08-31 23:30:00</td>\n",
       "      <td>1263.4</td>\n",
       "      <td>250.9</td>\n",
       "      <td>1146.3</td>\n",
       "      <td>290.2</td>\n",
       "      <td>43.0</td>\n",
       "      <td>61</td>\n",
       "      <td>60</td>\n",
       "      <td>61</td>\n",
       "      <td>...</td>\n",
       "      <td>-148.7</td>\n",
       "      <td>0.0</td>\n",
       "      <td>-471.4</td>\n",
       "      <td>143.8</td>\n",
       "      <td>148.7</td>\n",
       "      <td>471.4</td>\n",
       "      <td>0.0</td>\n",
       "      <td>143.8</td>\n",
       "      <td>39</td>\n",
       "      <td>114.5</td>\n",
       "    </tr>\n",
       "    <tr>\n",
       "      <th>434129</th>\n",
       "      <td>T01</td>\n",
       "      <td>2017-08-31 23:30:00</td>\n",
       "      <td>1277.0</td>\n",
       "      <td>1224.9</td>\n",
       "      <td>1249.2</td>\n",
       "      <td>10.1</td>\n",
       "      <td>43.0</td>\n",
       "      <td>61</td>\n",
       "      <td>61</td>\n",
       "      <td>61</td>\n",
       "      <td>...</td>\n",
       "      <td>-448.6</td>\n",
       "      <td>0.0</td>\n",
       "      <td>-1000.0</td>\n",
       "      <td>255.6</td>\n",
       "      <td>448.6</td>\n",
       "      <td>1000.0</td>\n",
       "      <td>0.0</td>\n",
       "      <td>255.6</td>\n",
       "      <td>43</td>\n",
       "      <td>115.7</td>\n",
       "    </tr>\n",
       "    <tr>\n",
       "      <th>434130</th>\n",
       "      <td>T07</td>\n",
       "      <td>2017-08-31 23:40:00</td>\n",
       "      <td>1275.5</td>\n",
       "      <td>1229.0</td>\n",
       "      <td>1250.7</td>\n",
       "      <td>7.9</td>\n",
       "      <td>48.0</td>\n",
       "      <td>65</td>\n",
       "      <td>65</td>\n",
       "      <td>65</td>\n",
       "      <td>...</td>\n",
       "      <td>-578.5</td>\n",
       "      <td>-99.6</td>\n",
       "      <td>-1000.0</td>\n",
       "      <td>241.4</td>\n",
       "      <td>578.5</td>\n",
       "      <td>1000.0</td>\n",
       "      <td>99.6</td>\n",
       "      <td>241.4</td>\n",
       "      <td>43</td>\n",
       "      <td>91.9</td>\n",
       "    </tr>\n",
       "    <tr>\n",
       "      <th>434131</th>\n",
       "      <td>T01</td>\n",
       "      <td>2017-08-31 23:40:00</td>\n",
       "      <td>1269.5</td>\n",
       "      <td>1237.2</td>\n",
       "      <td>1249.2</td>\n",
       "      <td>5.2</td>\n",
       "      <td>44.0</td>\n",
       "      <td>62</td>\n",
       "      <td>62</td>\n",
       "      <td>62</td>\n",
       "      <td>...</td>\n",
       "      <td>-337.8</td>\n",
       "      <td>0.0</td>\n",
       "      <td>-952.8</td>\n",
       "      <td>318.8</td>\n",
       "      <td>337.8</td>\n",
       "      <td>952.8</td>\n",
       "      <td>0.0</td>\n",
       "      <td>318.8</td>\n",
       "      <td>43</td>\n",
       "      <td>112.8</td>\n",
       "    </tr>\n",
       "    <tr>\n",
       "      <th>434132</th>\n",
       "      <td>T11</td>\n",
       "      <td>2017-08-31 23:40:00</td>\n",
       "      <td>1264.6</td>\n",
       "      <td>1235.1</td>\n",
       "      <td>1248.8</td>\n",
       "      <td>4.7</td>\n",
       "      <td>44.0</td>\n",
       "      <td>58</td>\n",
       "      <td>59</td>\n",
       "      <td>59</td>\n",
       "      <td>...</td>\n",
       "      <td>-404.4</td>\n",
       "      <td>-135.3</td>\n",
       "      <td>-705.0</td>\n",
       "      <td>135.7</td>\n",
       "      <td>404.4</td>\n",
       "      <td>705.0</td>\n",
       "      <td>135.3</td>\n",
       "      <td>135.7</td>\n",
       "      <td>43</td>\n",
       "      <td>116.0</td>\n",
       "    </tr>\n",
       "    <tr>\n",
       "      <th>434133</th>\n",
       "      <td>T09</td>\n",
       "      <td>2017-08-31 23:40:00</td>\n",
       "      <td>1393.6</td>\n",
       "      <td>303.1</td>\n",
       "      <td>1176.0</td>\n",
       "      <td>239.6</td>\n",
       "      <td>43.0</td>\n",
       "      <td>60</td>\n",
       "      <td>59</td>\n",
       "      <td>60</td>\n",
       "      <td>...</td>\n",
       "      <td>-123.8</td>\n",
       "      <td>0.0</td>\n",
       "      <td>-910.6</td>\n",
       "      <td>181.4</td>\n",
       "      <td>123.8</td>\n",
       "      <td>910.6</td>\n",
       "      <td>0.0</td>\n",
       "      <td>181.4</td>\n",
       "      <td>40</td>\n",
       "      <td>110.5</td>\n",
       "    </tr>\n",
       "    <tr>\n",
       "      <th>434134</th>\n",
       "      <td>T06</td>\n",
       "      <td>2017-08-31 23:40:00</td>\n",
       "      <td>1287.2</td>\n",
       "      <td>1228.4</td>\n",
       "      <td>1251.3</td>\n",
       "      <td>8.8</td>\n",
       "      <td>48.0</td>\n",
       "      <td>62</td>\n",
       "      <td>63</td>\n",
       "      <td>63</td>\n",
       "      <td>...</td>\n",
       "      <td>-855.7</td>\n",
       "      <td>-453.5</td>\n",
       "      <td>-1000.0</td>\n",
       "      <td>184.3</td>\n",
       "      <td>855.7</td>\n",
       "      <td>1000.0</td>\n",
       "      <td>453.5</td>\n",
       "      <td>184.3</td>\n",
       "      <td>45</td>\n",
       "      <td>90.2</td>\n",
       "    </tr>\n",
       "    <tr>\n",
       "      <th>434135</th>\n",
       "      <td>T11</td>\n",
       "      <td>2017-08-31 23:50:00</td>\n",
       "      <td>1281.4</td>\n",
       "      <td>1231.9</td>\n",
       "      <td>1250.5</td>\n",
       "      <td>6.3</td>\n",
       "      <td>45.0</td>\n",
       "      <td>59</td>\n",
       "      <td>60</td>\n",
       "      <td>60</td>\n",
       "      <td>...</td>\n",
       "      <td>-637.6</td>\n",
       "      <td>-243.3</td>\n",
       "      <td>-1000.0</td>\n",
       "      <td>160.9</td>\n",
       "      <td>637.6</td>\n",
       "      <td>1000.0</td>\n",
       "      <td>243.3</td>\n",
       "      <td>160.9</td>\n",
       "      <td>43</td>\n",
       "      <td>102.9</td>\n",
       "    </tr>\n",
       "    <tr>\n",
       "      <th>434136</th>\n",
       "      <td>T09</td>\n",
       "      <td>2017-08-31 23:50:00</td>\n",
       "      <td>1272.6</td>\n",
       "      <td>1231.3</td>\n",
       "      <td>1249.3</td>\n",
       "      <td>6.4</td>\n",
       "      <td>43.0</td>\n",
       "      <td>61</td>\n",
       "      <td>60</td>\n",
       "      <td>61</td>\n",
       "      <td>...</td>\n",
       "      <td>-325.5</td>\n",
       "      <td>0.0</td>\n",
       "      <td>-1000.0</td>\n",
       "      <td>214.6</td>\n",
       "      <td>325.5</td>\n",
       "      <td>1000.0</td>\n",
       "      <td>0.0</td>\n",
       "      <td>214.6</td>\n",
       "      <td>40</td>\n",
       "      <td>101.9</td>\n",
       "    </tr>\n",
       "    <tr>\n",
       "      <th>434137</th>\n",
       "      <td>T01</td>\n",
       "      <td>2017-08-31 23:50:00</td>\n",
       "      <td>1267.3</td>\n",
       "      <td>1230.6</td>\n",
       "      <td>1249.7</td>\n",
       "      <td>7.5</td>\n",
       "      <td>45.0</td>\n",
       "      <td>63</td>\n",
       "      <td>63</td>\n",
       "      <td>63</td>\n",
       "      <td>...</td>\n",
       "      <td>-436.2</td>\n",
       "      <td>-9.6</td>\n",
       "      <td>-927.5</td>\n",
       "      <td>204.7</td>\n",
       "      <td>436.2</td>\n",
       "      <td>927.5</td>\n",
       "      <td>9.6</td>\n",
       "      <td>204.7</td>\n",
       "      <td>43</td>\n",
       "      <td>107.6</td>\n",
       "    </tr>\n",
       "    <tr>\n",
       "      <th>434138</th>\n",
       "      <td>T06</td>\n",
       "      <td>2017-08-31 23:50:00</td>\n",
       "      <td>1273.5</td>\n",
       "      <td>1227.8</td>\n",
       "      <td>1249.7</td>\n",
       "      <td>8.8</td>\n",
       "      <td>49.0</td>\n",
       "      <td>62</td>\n",
       "      <td>64</td>\n",
       "      <td>64</td>\n",
       "      <td>...</td>\n",
       "      <td>-664.8</td>\n",
       "      <td>-133.6</td>\n",
       "      <td>-1000.0</td>\n",
       "      <td>261.4</td>\n",
       "      <td>664.8</td>\n",
       "      <td>1000.0</td>\n",
       "      <td>133.6</td>\n",
       "      <td>261.4</td>\n",
       "      <td>45</td>\n",
       "      <td>81.9</td>\n",
       "    </tr>\n",
       "    <tr>\n",
       "      <th>434139</th>\n",
       "      <td>T07</td>\n",
       "      <td>2017-08-31 23:50:00</td>\n",
       "      <td>1347.6</td>\n",
       "      <td>1233.0</td>\n",
       "      <td>1253.0</td>\n",
       "      <td>12.6</td>\n",
       "      <td>48.0</td>\n",
       "      <td>66</td>\n",
       "      <td>66</td>\n",
       "      <td>66</td>\n",
       "      <td>...</td>\n",
       "      <td>-902.8</td>\n",
       "      <td>-689.5</td>\n",
       "      <td>-1000.0</td>\n",
       "      <td>92.6</td>\n",
       "      <td>902.8</td>\n",
       "      <td>1000.0</td>\n",
       "      <td>689.5</td>\n",
       "      <td>92.6</td>\n",
       "      <td>43</td>\n",
       "      <td>87.2</td>\n",
       "    </tr>\n",
       "    <tr>\n",
       "      <th>434140</th>\n",
       "      <td>T11</td>\n",
       "      <td>2017-09-01 00:00:00</td>\n",
       "      <td>1266.3</td>\n",
       "      <td>1234.3</td>\n",
       "      <td>1250.6</td>\n",
       "      <td>5.1</td>\n",
       "      <td>46.0</td>\n",
       "      <td>60</td>\n",
       "      <td>61</td>\n",
       "      <td>61</td>\n",
       "      <td>...</td>\n",
       "      <td>-864.5</td>\n",
       "      <td>-524.4</td>\n",
       "      <td>-1000.0</td>\n",
       "      <td>109.1</td>\n",
       "      <td>864.5</td>\n",
       "      <td>1000.0</td>\n",
       "      <td>524.4</td>\n",
       "      <td>109.1</td>\n",
       "      <td>43</td>\n",
       "      <td>96.8</td>\n",
       "    </tr>\n",
       "    <tr>\n",
       "      <th>434141</th>\n",
       "      <td>T09</td>\n",
       "      <td>2017-09-01 00:00:00</td>\n",
       "      <td>1268.4</td>\n",
       "      <td>1240.1</td>\n",
       "      <td>1251.9</td>\n",
       "      <td>6.0</td>\n",
       "      <td>44.0</td>\n",
       "      <td>62</td>\n",
       "      <td>61</td>\n",
       "      <td>62</td>\n",
       "      <td>...</td>\n",
       "      <td>-900.6</td>\n",
       "      <td>-340.3</td>\n",
       "      <td>-1000.0</td>\n",
       "      <td>121.6</td>\n",
       "      <td>900.6</td>\n",
       "      <td>1000.0</td>\n",
       "      <td>340.3</td>\n",
       "      <td>121.6</td>\n",
       "      <td>40</td>\n",
       "      <td>105.0</td>\n",
       "    </tr>\n",
       "    <tr>\n",
       "      <th>434142</th>\n",
       "      <td>T06</td>\n",
       "      <td>2017-09-01 00:00:00</td>\n",
       "      <td>1284.2</td>\n",
       "      <td>1233.4</td>\n",
       "      <td>1252.4</td>\n",
       "      <td>8.8</td>\n",
       "      <td>49.0</td>\n",
       "      <td>63</td>\n",
       "      <td>64</td>\n",
       "      <td>65</td>\n",
       "      <td>...</td>\n",
       "      <td>-725.4</td>\n",
       "      <td>-171.8</td>\n",
       "      <td>-1000.0</td>\n",
       "      <td>272.2</td>\n",
       "      <td>725.4</td>\n",
       "      <td>1000.0</td>\n",
       "      <td>171.8</td>\n",
       "      <td>272.2</td>\n",
       "      <td>45</td>\n",
       "      <td>84.1</td>\n",
       "    </tr>\n",
       "    <tr>\n",
       "      <th>434143</th>\n",
       "      <td>T01</td>\n",
       "      <td>2017-09-01 00:00:00</td>\n",
       "      <td>1299.0</td>\n",
       "      <td>1222.1</td>\n",
       "      <td>1255.3</td>\n",
       "      <td>12.4</td>\n",
       "      <td>45.0</td>\n",
       "      <td>64</td>\n",
       "      <td>64</td>\n",
       "      <td>64</td>\n",
       "      <td>...</td>\n",
       "      <td>-822.6</td>\n",
       "      <td>-314.2</td>\n",
       "      <td>-1000.0</td>\n",
       "      <td>203.6</td>\n",
       "      <td>822.6</td>\n",
       "      <td>1000.0</td>\n",
       "      <td>314.2</td>\n",
       "      <td>203.6</td>\n",
       "      <td>44</td>\n",
       "      <td>109.5</td>\n",
       "    </tr>\n",
       "    <tr>\n",
       "      <th>434144</th>\n",
       "      <td>T07</td>\n",
       "      <td>2017-09-01 00:00:00</td>\n",
       "      <td>1292.0</td>\n",
       "      <td>1232.5</td>\n",
       "      <td>1251.9</td>\n",
       "      <td>9.6</td>\n",
       "      <td>48.0</td>\n",
       "      <td>66</td>\n",
       "      <td>67</td>\n",
       "      <td>66</td>\n",
       "      <td>...</td>\n",
       "      <td>-948.8</td>\n",
       "      <td>-745.0</td>\n",
       "      <td>-1000.0</td>\n",
       "      <td>74.2</td>\n",
       "      <td>948.8</td>\n",
       "      <td>1000.0</td>\n",
       "      <td>745.0</td>\n",
       "      <td>74.2</td>\n",
       "      <td>43</td>\n",
       "      <td>90.1</td>\n",
       "    </tr>\n",
       "  </tbody>\n",
       "</table>\n",
       "<p>434145 rows × 81 columns</p>\n",
       "</div>"
      ],
      "text/plain": [
       "       Turbine_ID           Timestamp  Gen_RPM_Max  Gen_RPM_Min  Gen_RPM_Avg  Gen_RPM_Std  Gen_Bear_Temp_Avg  Gen_Phase1_Temp_Avg  Gen_Phase2_Temp_Avg  Gen_Phase3_Temp_Avg  ...  \\\n",
       "0             T11 2016-01-01 00:00:00       1339.4       1233.3       1270.9         18.8               42.0                   59                   61                   60  ...   \n",
       "1             T06 2016-01-01 00:00:00       1270.0       1232.8       1248.5          6.8               42.0                   51                   52                   53  ...   \n",
       "2             T01 2016-01-01 00:00:00       1277.4       1226.1       1249.0          9.0               41.0                   58                   59                   58  ...   \n",
       "3             T09 2016-01-01 00:00:00       1376.7       1234.3       1272.0         24.7               40.0                   58                   57                   58  ...   \n",
       "4             T07 2016-01-01 00:00:00       1317.5       1229.5       1254.9         13.8               41.0                   62                   62                   61  ...   \n",
       "5             T09 2016-01-01 00:10:00       1485.0       1239.7       1321.4         50.4               40.0                   58                   57                   58  ...   \n",
       "6             T07 2016-01-01 00:10:00       1271.1       1233.4       1251.9          7.1               42.0                   62                   62                   62  ...   \n",
       "7             T06 2016-01-01 00:10:00       1429.7        203.9       1154.1        271.7               42.0                   51                   52                   52  ...   \n",
       "8             T01 2016-01-01 00:10:00       1268.3         93.3        999.7        435.9               41.0                   58                   59                   59  ...   \n",
       "9             T11 2016-01-01 00:10:00       1400.5       1239.8       1303.6         40.2               43.0                   59                   61                   60  ...   \n",
       "10            T11 2016-01-01 00:20:00       1423.6       1270.8       1344.3         27.2               43.0                   60                   61                   61  ...   \n",
       "11            T09 2016-01-01 00:20:00       1441.0       1274.6       1363.4         31.0               40.0                   58                   57                   58  ...   \n",
       "12            T06 2016-01-01 00:20:00       1360.5        250.3       1041.4        382.7               42.0                   50                   51                   51  ...   \n",
       "13            T01 2016-01-01 00:20:00       1394.4        220.3        774.0        486.1               41.0                   57                   57                   57  ...   \n",
       "14            T07 2016-01-01 00:20:00       1276.7       1229.1       1251.1          9.5               42.0                   62                   62                   62  ...   \n",
       "15            T01 2016-01-01 00:30:00       1306.6       1212.4       1257.1         17.0               40.0                   56                   57                   57  ...   \n",
       "16            T07 2016-01-01 00:30:00       1408.5       1227.0       1259.9         25.4               42.0                   63                   62                   62  ...   \n",
       "17            T11 2016-01-01 00:30:00       1470.1       1258.7       1377.5         48.9               43.0                   60                   62                   61  ...   \n",
       "18            T09 2016-01-01 00:30:00       1549.4       1266.5       1379.7         76.8               41.0                   59                   58                   59  ...   \n",
       "19            T06 2016-01-01 00:30:00       1399.2       1228.8       1252.5         16.5               42.0                   49                   50                   50  ...   \n",
       "20            T07 2016-01-01 00:40:00       1366.1       1236.5       1288.2         32.8               42.0                   63                   63                   63  ...   \n",
       "21            T01 2016-01-01 00:40:00       1320.9       1224.1       1257.7         18.0               40.0                   57                   58                   57  ...   \n",
       "22            T11 2016-01-01 00:40:00       1539.1       1252.1       1396.2         66.8               43.0                   61                   62                   61  ...   \n",
       "23            T09 2016-01-01 00:40:00       1536.5       1337.1       1426.9         42.0               41.0                   59                   58                   59  ...   \n",
       "24            T06 2016-01-01 00:40:00       1302.7       1225.1       1257.6         13.4               41.0                   50                   50                   51  ...   \n",
       "25            T11 2016-01-01 00:50:00       1492.1       1258.0       1363.7         51.5               44.0                   61                   62                   61  ...   \n",
       "26            T06 2016-01-01 00:50:00       1298.7       1236.3       1257.9         10.8               41.0                   50                   51                   51  ...   \n",
       "27            T01 2016-01-01 00:50:00       1462.6       1249.5       1328.5         48.3               40.0                   58                   59                   58  ...   \n",
       "28            T09 2016-01-01 00:50:00       1568.6       1261.9       1451.6         65.9               42.0                   60                   58                   60  ...   \n",
       "29            T07 2016-01-01 00:50:00       1389.5       1236.5       1284.1         29.7               42.0                   64                   64                   63  ...   \n",
       "...           ...                 ...          ...          ...          ...          ...                ...                  ...                  ...                  ...  ...   \n",
       "434115        T11 2017-08-31 23:10:00       1268.8       1240.0       1251.1          4.7               42.0                   54                   55                   54  ...   \n",
       "434116        T09 2017-08-31 23:10:00       1258.3       1239.6       1250.3          3.0               41.0                   58                   58                   58  ...   \n",
       "434117        T01 2017-08-31 23:10:00       1281.6       1219.5       1249.5         10.4               42.0                   58                   58                   58  ...   \n",
       "434118        T06 2017-08-31 23:10:00       1453.5       1228.4       1309.9         55.6               47.0                   59                   60                   60  ...   \n",
       "434119        T07 2017-08-31 23:10:00       1354.7       1233.2       1267.6         26.1               47.0                   63                   63                   62  ...   \n",
       "434120        T09 2017-08-31 23:20:00       1262.6       1228.3       1249.6          3.8               42.0                   60                   59                   60  ...   \n",
       "434121        T01 2017-08-31 23:20:00       1279.2       1226.6       1249.4          9.5               43.0                   59                   60                   59  ...   \n",
       "434122        T11 2017-08-31 23:20:00       1434.3       1243.1       1286.1         46.8               43.0                   56                   57                   56  ...   \n",
       "434123        T07 2017-08-31 23:20:00       1277.9       1227.3       1250.0          8.6               48.0                   64                   64                   64  ...   \n",
       "434124        T06 2017-08-31 23:20:00       1407.0       1233.1       1284.4         46.2               47.0                   60                   61                   61  ...   \n",
       "434125        T06 2017-08-31 23:30:00       1322.3       1226.3       1258.8         18.8               48.0                   61                   62                   62  ...   \n",
       "434126        T11 2017-08-31 23:30:00       1265.2       1238.6       1249.8          4.1               43.0                   57                   58                   58  ...   \n",
       "434127        T07 2017-08-31 23:30:00       1276.7       1231.1       1251.8          8.0               48.0                   65                   65                   65  ...   \n",
       "434128        T09 2017-08-31 23:30:00       1263.4        250.9       1146.3        290.2               43.0                   61                   60                   61  ...   \n",
       "434129        T01 2017-08-31 23:30:00       1277.0       1224.9       1249.2         10.1               43.0                   61                   61                   61  ...   \n",
       "434130        T07 2017-08-31 23:40:00       1275.5       1229.0       1250.7          7.9               48.0                   65                   65                   65  ...   \n",
       "434131        T01 2017-08-31 23:40:00       1269.5       1237.2       1249.2          5.2               44.0                   62                   62                   62  ...   \n",
       "434132        T11 2017-08-31 23:40:00       1264.6       1235.1       1248.8          4.7               44.0                   58                   59                   59  ...   \n",
       "434133        T09 2017-08-31 23:40:00       1393.6        303.1       1176.0        239.6               43.0                   60                   59                   60  ...   \n",
       "434134        T06 2017-08-31 23:40:00       1287.2       1228.4       1251.3          8.8               48.0                   62                   63                   63  ...   \n",
       "434135        T11 2017-08-31 23:50:00       1281.4       1231.9       1250.5          6.3               45.0                   59                   60                   60  ...   \n",
       "434136        T09 2017-08-31 23:50:00       1272.6       1231.3       1249.3          6.4               43.0                   61                   60                   61  ...   \n",
       "434137        T01 2017-08-31 23:50:00       1267.3       1230.6       1249.7          7.5               45.0                   63                   63                   63  ...   \n",
       "434138        T06 2017-08-31 23:50:00       1273.5       1227.8       1249.7          8.8               49.0                   62                   64                   64  ...   \n",
       "434139        T07 2017-08-31 23:50:00       1347.6       1233.0       1253.0         12.6               48.0                   66                   66                   66  ...   \n",
       "434140        T11 2017-09-01 00:00:00       1266.3       1234.3       1250.6          5.1               46.0                   60                   61                   61  ...   \n",
       "434141        T09 2017-09-01 00:00:00       1268.4       1240.1       1251.9          6.0               44.0                   62                   61                   62  ...   \n",
       "434142        T06 2017-09-01 00:00:00       1284.2       1233.4       1252.4          8.8               49.0                   63                   64                   65  ...   \n",
       "434143        T01 2017-09-01 00:00:00       1299.0       1222.1       1255.3         12.4               45.0                   64                   64                   64  ...   \n",
       "434144        T07 2017-09-01 00:00:00       1292.0       1232.5       1251.9          9.6               48.0                   66                   67                   66  ...   \n",
       "\n",
       "        Grd_Prod_PsbleInd_Avg  Grd_Prod_PsbleInd_Max  Grd_Prod_PsbleInd_Min  Grd_Prod_PsbleInd_Std  Grd_Prod_PsbleCap_Avg  Grd_Prod_PsbleCap_Max  Grd_Prod_PsbleCap_Min  Grd_Prod_PsbleCap_Std  \\\n",
       "0                      -973.4                 -752.6                -1000.0                   56.5                  973.4                 1000.0                  752.6                   56.5   \n",
       "1                      -307.1                    0.0                 -880.6                  180.0                  307.1                  880.6                    0.0                  180.0   \n",
       "2                      -144.4                    0.0                 -584.5                  157.1                  144.4                  584.5                    0.0                  157.1   \n",
       "3                      -861.6                 -224.5                -1000.0                  185.5                  861.6                 1000.0                  224.5                  185.5   \n",
       "4                      -536.5                    0.0                -1000.0                  338.9                  536.5                 1000.0                    0.0                  338.9   \n",
       "5                      -871.4                 -293.3                -1000.0                  227.4                  871.4                 1000.0                  293.3                  227.4   \n",
       "6                      -469.6                    0.0                 -763.5                  180.8                  469.6                  763.5                    0.0                  180.8   \n",
       "7                       -70.5                    0.0                -1000.0                  154.1                   70.5                 1000.0                    0.0                  154.1   \n",
       "8                       -79.6                    0.0                 -501.0                  123.7                   79.6                  501.0                    0.0                  123.7   \n",
       "9                      -999.3                 -931.3                -1000.0                    5.8                  999.3                 1000.0                  931.3                    5.8   \n",
       "10                    -1000.0                 -986.9                -1000.0                    0.2                 1000.0                 1000.0                  986.9                    0.2   \n",
       "11                     -999.7                 -904.9                -1000.0                    4.2                  999.7                 1000.0                  904.9                    4.2   \n",
       "12                      -57.5                    0.0                 -587.9                  115.8                   57.5                  587.9                    0.0                  115.8   \n",
       "13                     -314.0                    0.0                -1000.0                  357.4                  314.0                 1000.0                    0.0                  357.4   \n",
       "14                     -503.5                  -62.2                -1000.0                  221.6                  503.5                 1000.0                   62.2                  221.6   \n",
       "15                     -654.0                    0.0                -1000.0                  245.8                  654.0                 1000.0                    0.0                  245.8   \n",
       "16                     -592.2                 -147.7                -1000.0                  229.1                  592.2                 1000.0                  147.7                  229.1   \n",
       "17                    -1000.0                -1000.0                -1000.0                    0.0                 1000.0                 1000.0                 1000.0                    0.0   \n",
       "18                    -1000.0                -1000.0                -1000.0                    0.0                 1000.0                 1000.0                 1000.0                    0.0   \n",
       "19                     -493.2                    0.0                -1000.0                  237.5                  493.2                 1000.0                    0.0                  237.5   \n",
       "20                     -997.1                 -908.9                -1000.0                   13.6                  997.1                 1000.0                  908.9                   13.6   \n",
       "21                     -496.1                    0.0                -1000.0                  302.7                  496.1                 1000.0                    0.0                  302.7   \n",
       "22                     -999.9                 -945.9                -1000.0                    1.7                  999.9                 1000.0                  945.9                    1.7   \n",
       "23                     -998.9                 -730.8                -1000.0                   13.9                  998.9                 1000.0                  730.8                   13.9   \n",
       "24                     -872.3                 -556.0                -1000.0                  150.9                  872.3                 1000.0                  556.0                  150.9   \n",
       "25                     -996.3                 -564.8                -1000.0                   29.5                  996.3                 1000.0                  564.8                   29.5   \n",
       "26                     -882.3                 -456.6                -1000.0                  166.8                  882.3                 1000.0                  456.6                  166.8   \n",
       "27                     -996.0                 -714.7                -1000.0                   27.4                  996.0                 1000.0                  714.7                   27.4   \n",
       "28                     -999.8                 -937.4                -1000.0                    2.9                  999.8                 1000.0                  937.4                    2.9   \n",
       "29                     -991.8                 -792.8                -1000.0                   33.9                  991.8                 1000.0                  792.8                   33.9   \n",
       "...                       ...                    ...                    ...                    ...                    ...                    ...                    ...                    ...   \n",
       "434115                 -771.8                 -343.6                -1000.0                  207.5                  771.8                 1000.0                  343.6                  207.5   \n",
       "434116                 -826.0                 -588.2                -1000.0                  130.2                  826.0                 1000.0                  588.2                  130.2   \n",
       "434117                 -630.2                 -232.5                -1000.0                  207.2                  630.2                 1000.0                  232.5                  207.2   \n",
       "434118                -1000.0                -1000.0                -1000.0                    0.0                 1000.0                 1000.0                 1000.0                    0.0   \n",
       "434119                 -999.7                 -963.5                -1000.0                    2.6                  999.7                 1000.0                  963.5                    2.6   \n",
       "434120                 -825.4                 -318.9                -1000.0                  208.7                  825.4                 1000.0                  318.9                  208.7   \n",
       "434121                 -512.8                    0.0                -1000.0                  308.7                  512.8                 1000.0                    0.0                  308.7   \n",
       "434122                 -992.9                 -887.5                -1000.0                   21.5                  992.9                 1000.0                  887.5                   21.5   \n",
       "434123                 -928.3                 -729.1                -1000.0                   78.8                  928.3                 1000.0                  729.1                   78.8   \n",
       "434124                 -999.3                 -926.8                -1000.0                    6.2                  999.3                 1000.0                  926.8                    6.2   \n",
       "434125                 -946.1                 -588.6                -1000.0                  102.3                  946.1                 1000.0                  588.6                  102.3   \n",
       "434126                 -731.1                 -356.0                 -971.3                  142.4                  731.1                  971.3                  356.0                  142.4   \n",
       "434127                 -873.1                 -514.5                -1000.0                  147.3                  873.1                 1000.0                  514.5                  147.3   \n",
       "434128                 -148.7                    0.0                 -471.4                  143.8                  148.7                  471.4                    0.0                  143.8   \n",
       "434129                 -448.6                    0.0                -1000.0                  255.6                  448.6                 1000.0                    0.0                  255.6   \n",
       "434130                 -578.5                  -99.6                -1000.0                  241.4                  578.5                 1000.0                   99.6                  241.4   \n",
       "434131                 -337.8                    0.0                 -952.8                  318.8                  337.8                  952.8                    0.0                  318.8   \n",
       "434132                 -404.4                 -135.3                 -705.0                  135.7                  404.4                  705.0                  135.3                  135.7   \n",
       "434133                 -123.8                    0.0                 -910.6                  181.4                  123.8                  910.6                    0.0                  181.4   \n",
       "434134                 -855.7                 -453.5                -1000.0                  184.3                  855.7                 1000.0                  453.5                  184.3   \n",
       "434135                 -637.6                 -243.3                -1000.0                  160.9                  637.6                 1000.0                  243.3                  160.9   \n",
       "434136                 -325.5                    0.0                -1000.0                  214.6                  325.5                 1000.0                    0.0                  214.6   \n",
       "434137                 -436.2                   -9.6                 -927.5                  204.7                  436.2                  927.5                    9.6                  204.7   \n",
       "434138                 -664.8                 -133.6                -1000.0                  261.4                  664.8                 1000.0                  133.6                  261.4   \n",
       "434139                 -902.8                 -689.5                -1000.0                   92.6                  902.8                 1000.0                  689.5                   92.6   \n",
       "434140                 -864.5                 -524.4                -1000.0                  109.1                  864.5                 1000.0                  524.4                  109.1   \n",
       "434141                 -900.6                 -340.3                -1000.0                  121.6                  900.6                 1000.0                  340.3                  121.6   \n",
       "434142                 -725.4                 -171.8                -1000.0                  272.2                  725.4                 1000.0                  171.8                  272.2   \n",
       "434143                 -822.6                 -314.2                -1000.0                  203.6                  822.6                 1000.0                  314.2                  203.6   \n",
       "434144                 -948.8                 -745.0                -1000.0                   74.2                  948.8                 1000.0                  745.0                   74.2   \n",
       "\n",
       "        Gen_Bear2_Temp_Avg  Nac_Direction_Avg  \n",
       "0                       38              206.9  \n",
       "1                       35              204.6  \n",
       "2                       37              218.5  \n",
       "3                       33              214.0  \n",
       "4                       39              197.3  \n",
       "5                       33              214.0  \n",
       "6                       39              203.9  \n",
       "7                       35              210.5  \n",
       "8                       37              218.5  \n",
       "9                       38              206.9  \n",
       "10                      38              206.9  \n",
       "11                      33              214.0  \n",
       "12                      35              199.0  \n",
       "13                      37              213.3  \n",
       "14                      39              197.0  \n",
       "15                      36              222.4  \n",
       "16                      39              204.0  \n",
       "17                      38              206.9  \n",
       "18                      33              214.0  \n",
       "19                      35              205.6  \n",
       "20                      40              203.9  \n",
       "21                      36              222.4  \n",
       "22                      39              206.9  \n",
       "23                      34              214.0  \n",
       "24                      35              207.4  \n",
       "25                      39              206.9  \n",
       "26                      35              203.2  \n",
       "27                      36              221.3  \n",
       "28                      34              214.0  \n",
       "29                      40              197.0  \n",
       "...                    ...                ...  \n",
       "434115                  41              116.1  \n",
       "434116                  38              115.9  \n",
       "434117                  42              117.6  \n",
       "434118                  45               98.0  \n",
       "434119                  43              103.4  \n",
       "434120                  39              124.9  \n",
       "434121                  42              120.9  \n",
       "434122                  42              117.5  \n",
       "434123                  44              102.8  \n",
       "434124                  45               97.3  \n",
       "434125                  45               89.5  \n",
       "434126                  42              117.5  \n",
       "434127                  44               95.3  \n",
       "434128                  39              114.5  \n",
       "434129                  43              115.7  \n",
       "434130                  43               91.9  \n",
       "434131                  43              112.8  \n",
       "434132                  43              116.0  \n",
       "434133                  40              110.5  \n",
       "434134                  45               90.2  \n",
       "434135                  43              102.9  \n",
       "434136                  40              101.9  \n",
       "434137                  43              107.6  \n",
       "434138                  45               81.9  \n",
       "434139                  43               87.2  \n",
       "434140                  43               96.8  \n",
       "434141                  40              105.0  \n",
       "434142                  45               84.1  \n",
       "434143                  44              109.5  \n",
       "434144                  43               90.1  \n",
       "\n",
       "[434145 rows x 81 columns]"
      ]
     },
     "execution_count": 3,
     "metadata": {},
     "output_type": "execute_result"
    }
   ],
   "source": [
    "# Obter o caminho dos ficheiros.\n",
    "root_dir = os.path.abspath('..')\n",
    "csv_path = os.path.join(root_dir, 'rawdata')\n",
    "# Importar o dataset de failures\n",
    "failures_path = os.path.join(csv_path, 'wind-farm-1-failures-training.csv')\n",
    "failures_df = get_data(failures_path)\n",
    "# Importar o dataset de signals\n",
    "signals_path = os.path.join(csv_path, 'wind-farm-1-signals-training.csv')\n",
    "signals_df = get_data(signals_path)\n",
    "# Cortar colunas que não têm valores\n",
    "cols_to_drop = ['Prod_LatestAvg_ActPwrGen2', 'Prod_LatestAvg_ReactPwrGen2']\n",
    "signals_df = signals_df.drop(columns=cols_to_drop)\n",
    "signals_df"
   ]
  },
  {
   "cell_type": "code",
   "execution_count": 4,
   "metadata": {
    "ExecuteTime": {
     "end_time": "2021-02-20T14:01:17.248605Z",
     "start_time": "2021-02-20T14:01:17.225667Z"
    }
   },
   "outputs": [],
   "source": [
    "# print('002 - Criar o dicionário com os Dataframes originais')\n",
    "df_dict = {'failures_df':failures_df, 'signals_df':signals_df}"
   ]
  },
  {
   "cell_type": "code",
   "execution_count": 5,
   "metadata": {
    "ExecuteTime": {
     "end_time": "2021-02-20T14:01:17.264594Z",
     "start_time": "2021-02-20T14:01:17.253590Z"
    }
   },
   "outputs": [
    {
     "data": {
      "text/plain": [
       "dict_keys(['failures_df', 'signals_df'])"
      ]
     },
     "execution_count": 5,
     "metadata": {},
     "output_type": "execute_result"
    }
   ],
   "source": [
    "df_dict.keys()"
   ]
  },
  {
   "cell_type": "code",
   "execution_count": 6,
   "metadata": {
    "ExecuteTime": {
     "end_time": "2021-02-20T14:01:18.127434Z",
     "start_time": "2021-02-20T14:01:17.280519Z"
    }
   },
   "outputs": [],
   "source": [
    "df_generator, df_gen_bear, df_transformer, df_hydraulic, df_gearbox = component_df_creation(\n",
    "    signals_df)"
   ]
  },
  {
   "cell_type": "code",
   "execution_count": 7,
   "metadata": {
    "ExecuteTime": {
     "end_time": "2021-02-20T14:01:18.158316Z",
     "start_time": "2021-02-20T14:01:18.137373Z"
    }
   },
   "outputs": [],
   "source": [
    "comp_df_dict = {\n",
    "    'df_generator': df_generator,\n",
    "    'df_hydraulic': df_hydraulic,\n",
    "    'df_gen_bear': df_gen_bear,\n",
    "    'df_transformer': df_transformer,\n",
    "    'df_gearbox': df_gearbox\n",
    "}"
   ]
  },
  {
   "cell_type": "code",
   "execution_count": 8,
   "metadata": {
    "ExecuteTime": {
     "end_time": "2021-02-20T14:01:18.237830Z",
     "start_time": "2021-02-20T14:01:18.170285Z"
    }
   },
   "outputs": [
    {
     "name": "stdout",
     "output_type": "stream",
     "text": [
      "(434145, 45)\n",
      "(434145, 34)\n",
      "(434145, 45)\n",
      "(434145, 36)\n",
      "(434145, 33)\n"
     ]
    }
   ],
   "source": [
    "for key in comp_df_dict:\n",
    "    print(comp_df_dict[key].shape)"
   ]
  },
  {
   "cell_type": "code",
   "execution_count": 9,
   "metadata": {
    "ExecuteTime": {
     "end_time": "2021-02-20T14:01:18.283740Z",
     "start_time": "2021-02-20T14:01:18.248801Z"
    }
   },
   "outputs": [],
   "source": [
    "comp_prep_df_dict = comp_df_dict.copy()"
   ]
  },
  {
   "cell_type": "code",
   "execution_count": 10,
   "metadata": {
    "ExecuteTime": {
     "end_time": "2021-02-20T14:01:30.560023Z",
     "start_time": "2021-02-20T14:01:18.295675Z"
    }
   },
   "outputs": [],
   "source": [
    "component_list = [\n",
    "    'GENERATOR', 'HYDRAULIC_GROUP', 'GENERATOR_BEARING', 'TRANSFORMER',\n",
    "    'GEARBOX'\n",
    "]\n",
    "for i, key in enumerate(comp_prep_df_dict):\n",
    "    comp_prep_df_dict[key] = sig_fail_merge_dfs(sig_df=comp_prep_df_dict[key],\n",
    "                                                fail_df=failures_df,\n",
    "                                                component=component_list[i])"
   ]
  },
  {
   "cell_type": "code",
   "execution_count": 11,
   "metadata": {
    "ExecuteTime": {
     "end_time": "2021-02-20T14:01:30.591460Z",
     "start_time": "2021-02-20T14:01:30.565010Z"
    }
   },
   "outputs": [
    {
     "name": "stdout",
     "output_type": "stream",
     "text": [
      "(434147, 46)\n",
      "(434145, 35)\n",
      "(434145, 46)\n",
      "(434145, 37)\n",
      "(434145, 34)\n"
     ]
    }
   ],
   "source": [
    "for key in comp_prep_df_dict:\n",
    "    print(comp_prep_df_dict[key].shape)"
   ]
  },
  {
   "cell_type": "code",
   "execution_count": 12,
   "metadata": {
    "ExecuteTime": {
     "end_time": "2021-02-20T14:01:54.192818Z",
     "start_time": "2021-02-20T14:01:30.604426Z"
    }
   },
   "outputs": [
    {
     "name": "stderr",
     "output_type": "stream",
     "text": [
      "C:\\Users\\ricar\\code\\RicardoJPedro82\\wmillfailprev\\wmillfailprev\\b_get_data.py:110: SettingWithCopyWarning: \n",
      "A value is trying to be set on a copy of a slice from a DataFrame.\n",
      "Try using .loc[row_indexer,col_indexer] = value instead\n",
      "\n",
      "See the caveats in the documentation: http://pandas.pydata.org/pandas-docs/stable/indexing.html#indexing-view-versus-copy\n",
      "  index['date'] = index['Timestamp']\n",
      "C:\\Users\\ricar\\code\\RicardoJPedro82\\wmillfailprev\\wmillfailprev\\b_get_data.py:128: FutureWarning: Sorting because non-concatenation axis is not aligned. A future version\n",
      "of pandas will change to not sort by default.\n",
      "\n",
      "To accept the future behavior, pass 'sort=False'.\n",
      "\n",
      "To retain the current behavior and silence the warning, pass 'sort=True'.\n",
      "\n",
      "  df_ = pd.concat([df_, df_final])\n",
      "C:\\Users\\ricar\\code\\RicardoJPedro82\\wmillfailprev\\wmillfailprev\\b_get_data.py:120: SettingWithCopyWarning: \n",
      "A value is trying to be set on a copy of a slice from a DataFrame.\n",
      "Try using .loc[row_indexer,col_indexer] = value instead\n",
      "\n",
      "See the caveats in the documentation: http://pandas.pydata.org/pandas-docs/stable/indexing.html#indexing-view-versus-copy\n",
      "  df_merged['date'] = df_merged['Timestamp']\n",
      "C:\\Users\\ricar\\code\\RicardoJPedro82\\wmillfailprev\\wmillfailprev\\b_get_data.py:121: SettingWithCopyWarning: \n",
      "A value is trying to be set on a copy of a slice from a DataFrame.\n",
      "Try using .loc[row_indexer,col_indexer] = value instead\n",
      "\n",
      "See the caveats in the documentation: http://pandas.pydata.org/pandas-docs/stable/indexing.html#indexing-view-versus-copy\n",
      "  df_merged['TTF'] = 0 # df_merged['date'] - df_merged['Timestamp']\n"
     ]
    }
   ],
   "source": [
    "turbine_list = ['T11', 'T06', 'T01', 'T09', 'T07']\n",
    "for i, key in enumerate(comp_prep_df_dict):\n",
    "    comp_prep_df_dict[key] = fill_na_by_turbine(comp_prep_df_dict[key],\n",
    "                                                turbine_list)"
   ]
  },
  {
   "cell_type": "code",
   "execution_count": 13,
   "metadata": {
    "ExecuteTime": {
     "end_time": "2021-02-20T14:01:54.239240Z",
     "start_time": "2021-02-20T14:01:54.196809Z"
    }
   },
   "outputs": [
    {
     "name": "stdout",
     "output_type": "stream",
     "text": [
      "(434147, 47)\n",
      "(434145, 36)\n",
      "(434145, 47)\n",
      "(434145, 38)\n",
      "(434145, 35)\n"
     ]
    }
   ],
   "source": [
    "for key in comp_prep_df_dict:\n",
    "    print(comp_prep_df_dict[key].shape)"
   ]
  },
  {
   "cell_type": "code",
   "execution_count": 14,
   "metadata": {
    "ExecuteTime": {
     "end_time": "2021-02-20T14:01:59.837916Z",
     "start_time": "2021-02-20T14:01:54.253208Z"
    }
   },
   "outputs": [
    {
     "name": "stdout",
     "output_type": "stream",
     "text": [
      "0    47\n",
      "dtype: int64 df_generator\n",
      "0    36\n",
      "dtype: int64 df_hydraulic\n",
      "0    47\n",
      "dtype: int64 df_gen_bear\n",
      "0    38\n",
      "dtype: int64 df_transformer\n",
      "0    35\n",
      "dtype: int64 df_gearbox\n"
     ]
    }
   ],
   "source": [
    "for key in comp_prep_df_dict:\n",
    "    print(comp_prep_df_dict[key].isna().sum().value_counts(), key)"
   ]
  },
  {
   "cell_type": "code",
   "execution_count": 15,
   "metadata": {
    "ExecuteTime": {
     "end_time": "2021-02-20T14:03:54.608413Z",
     "start_time": "2021-02-20T14:01:59.846886Z"
    }
   },
   "outputs": [],
   "source": [
    "for key in comp_prep_df_dict:\n",
    "    comp_prep_df_dict[key] = aplic_var_target(comp_prep_df_dict[key], 60)"
   ]
  },
  {
   "cell_type": "code",
   "execution_count": 16,
   "metadata": {
    "ExecuteTime": {
     "end_time": "2021-02-20T14:03:54.623947Z",
     "start_time": "2021-02-20T14:03:54.615396Z"
    }
   },
   "outputs": [
    {
     "name": "stdout",
     "output_type": "stream",
     "text": [
      "(434147, 48) df_generator\n",
      "(434145, 37) df_hydraulic\n",
      "(434145, 48) df_gen_bear\n",
      "(434145, 39) df_transformer\n",
      "(434145, 36) df_gearbox\n"
     ]
    }
   ],
   "source": [
    "for key in comp_prep_df_dict:\n",
    "    print(comp_prep_df_dict[key].shape, key)"
   ]
  },
  {
   "cell_type": "code",
   "execution_count": 17,
   "metadata": {
    "ExecuteTime": {
     "end_time": "2021-02-20T14:03:55.804764Z",
     "start_time": "2021-02-20T14:03:54.629392Z"
    }
   },
   "outputs": [],
   "source": [
    "for i, key in enumerate(comp_prep_df_dict):\n",
    "    comp_prep_df_dict[key] = comp_prep_df_dict[key].drop(\n",
    "        columns=feat_drop_list[i])"
   ]
  },
  {
   "cell_type": "code",
   "execution_count": 18,
   "metadata": {
    "ExecuteTime": {
     "end_time": "2021-02-20T14:03:55.852639Z",
     "start_time": "2021-02-20T14:03:55.810749Z"
    }
   },
   "outputs": [
    {
     "name": "stdout",
     "output_type": "stream",
     "text": [
      "(434147, 31) df_generator\n",
      "(434145, 26) df_hydraulic\n",
      "(434145, 31) df_gen_bear\n",
      "(434145, 28) df_transformer\n",
      "(434145, 26) df_gearbox\n"
     ]
    }
   ],
   "source": [
    "for key in comp_prep_df_dict:\n",
    "    print(comp_prep_df_dict[key].shape, key)"
   ]
  },
  {
   "cell_type": "code",
   "execution_count": 19,
   "metadata": {
    "ExecuteTime": {
     "end_time": "2021-02-20T14:04:00.883367Z",
     "start_time": "2021-02-20T14:03:55.858619Z"
    }
   },
   "outputs": [],
   "source": [
    "for key in comp_prep_df_dict:\n",
    "    comp_prep_df_dict[key] = group_por_frequency(comp_prep_df_dict[key],\n",
    "                                                 period='Dia')"
   ]
  },
  {
   "cell_type": "code",
   "execution_count": 20,
   "metadata": {
    "ExecuteTime": {
     "end_time": "2021-02-20T14:04:00.941731Z",
     "start_time": "2021-02-20T14:04:00.904303Z"
    }
   },
   "outputs": [
    {
     "name": "stdout",
     "output_type": "stream",
     "text": [
      "(3042, 31) df_generator\n",
      "(3041, 19) df_hydraulic\n",
      "(3041, 18) df_gen_bear\n",
      "(3041, 19) df_transformer\n",
      "(3041, 16) df_gearbox\n"
     ]
    }
   ],
   "source": [
    "for key in comp_prep_df_dict:\n",
    "    print(comp_prep_df_dict[key].shape, key)"
   ]
  },
  {
   "cell_type": "code",
   "execution_count": 21,
   "metadata": {
    "ExecuteTime": {
     "end_time": "2021-02-20T14:04:00.972646Z",
     "start_time": "2021-02-20T14:04:00.951704Z"
    }
   },
   "outputs": [],
   "source": [
    "cols = ['Turbine_ID', 'Date', 'TTF', '60_days']"
   ]
  },
  {
   "cell_type": "code",
   "execution_count": 22,
   "metadata": {
    "ExecuteTime": {
     "end_time": "2021-02-20T14:04:01.047447Z",
     "start_time": "2021-02-20T14:04:00.989602Z"
    }
   },
   "outputs": [],
   "source": [
    "def add_features2(df_in, rolling_win_size=15):\n",
    "    \"\"\"Add rolling average and rolling standard deviation for sensors readings using fixed rolling window size.\n",
    "    \"\"\"\n",
    "    cols =['Turbine_ID', 'Date', 'TTF', '60_days']\n",
    "    other_cols = []\n",
    "    for i in df_in.columns:\n",
    "        if i not in cols:\n",
    "            other_cols.append(i)\n",
    "    all_cols = cols + other_cols\n",
    "    \n",
    "    df_in = df_in[all_cols]\n",
    "    \n",
    "    sensor_cols = []\n",
    "    for i in df_in.columns[4:]:\n",
    "        sensor_cols.append(i)\n",
    "\n",
    "    sensor_av_cols = [nm+'_av' for nm in sensor_cols]\n",
    "    sensor_sd_cols = [nm+'_sd' for nm in sensor_cols]\n",
    "\n",
    "    df_out = pd.DataFrame()\n",
    "\n",
    "    ws = rolling_win_size\n",
    "\n",
    "    #calculate rolling stats for each engine id\n",
    "\n",
    "    for m_id in pd.unique(df_in.Turbine_ID):\n",
    "\n",
    "        # get a subset for each engine sensors\n",
    "        df_engine = df_in[df_in['Turbine_ID'] == m_id]\n",
    "        df_sub = df_engine[sensor_cols]\n",
    "\n",
    "        # get rolling mean for the subset\n",
    "        av = df_sub.rolling(ws, min_periods=1).mean()\n",
    "        av.columns = sensor_av_cols\n",
    "\n",
    "        # get the rolling standard deviation for the subset\n",
    "        sd = df_sub.rolling(ws, min_periods=1).std().fillna(0)\n",
    "        sd.columns = sensor_sd_cols\n",
    "\n",
    "        # combine the two new subset dataframes columns to the engine subset\n",
    "        new_ftrs = pd.concat([df_engine,av,sd], axis=1)\n",
    "\n",
    "        # add the new features rows to the output dataframe\n",
    "        df_out = pd.concat([df_out,new_ftrs])\n",
    "    df_out = df_out.sort_values(by=['Turbine_ID', 'Date']   )\n",
    "    return df_out"
   ]
  },
  {
   "cell_type": "code",
   "execution_count": 23,
   "metadata": {
    "ExecuteTime": {
     "end_time": "2021-02-20T14:04:02.899275Z",
     "start_time": "2021-02-20T14:04:01.067396Z"
    }
   },
   "outputs": [],
   "source": [
    "for key in comp_prep_df_dict:\n",
    "    comp_prep_df_dict[key] = add_features2(comp_prep_df_dict[key], rolling_win_size=10)"
   ]
  },
  {
   "cell_type": "code",
   "execution_count": 24,
   "metadata": {
    "ExecuteTime": {
     "end_time": "2021-02-20T14:04:02.945690Z",
     "start_time": "2021-02-20T14:04:02.906255Z"
    }
   },
   "outputs": [
    {
     "name": "stdout",
     "output_type": "stream",
     "text": [
      "(3042, 85) df_generator\n",
      "(3041, 49) df_hydraulic\n",
      "(3041, 46) df_gen_bear\n",
      "(3041, 49) df_transformer\n",
      "(3041, 40) df_gearbox\n"
     ]
    }
   ],
   "source": [
    "for key in comp_prep_df_dict:\n",
    "    print(comp_prep_df_dict[key].shape, key)"
   ]
  },
  {
   "cell_type": "code",
   "execution_count": 25,
   "metadata": {
    "ExecuteTime": {
     "end_time": "2021-02-20T14:04:03.073357Z",
     "start_time": "2021-02-20T14:04:02.953667Z"
    }
   },
   "outputs": [],
   "source": [
    "df_train_comp_dict = {}\n",
    "df_test_comp_dict = {}\n",
    "for key in comp_prep_df_dict:\n",
    "    df_train_comp_dict[key] = prepare_train_df(comp_prep_df_dict[key], meses = 3)\n",
    "    df_test_comp_dict[key] = prepare_test_df(comp_prep_df_dict[key], meses = 3)"
   ]
  },
  {
   "cell_type": "code",
   "execution_count": 26,
   "metadata": {
    "ExecuteTime": {
     "end_time": "2021-02-20T14:04:03.120221Z",
     "start_time": "2021-02-20T14:04:03.095288Z"
    }
   },
   "outputs": [
    {
     "name": "stdout",
     "output_type": "stream",
     "text": [
      "(2577, 85) df_generator\n",
      "(2576, 49) df_hydraulic\n",
      "(2576, 46) df_gen_bear\n",
      "(2576, 49) df_transformer\n",
      "(2576, 40) df_gearbox\n",
      "(465, 85) df_generator\n",
      "(465, 49) df_hydraulic\n",
      "(465, 46) df_gen_bear\n",
      "(465, 49) df_transformer\n",
      "(465, 40) df_gearbox\n"
     ]
    }
   ],
   "source": [
    "for key in df_train_comp_dict:\n",
    "    print(df_train_comp_dict[key].shape, key)\n",
    "for key in df_test_comp_dict:\n",
    "    print(df_test_comp_dict[key].shape, key)"
   ]
  },
  {
   "cell_type": "code",
   "execution_count": null,
   "metadata": {
    "ExecuteTime": {
     "end_time": "2021-02-20T13:04:21.908587Z",
     "start_time": "2021-02-20T13:04:21.877598Z"
    }
   },
   "outputs": [],
   "source": []
  },
  {
   "cell_type": "code",
   "execution_count": 27,
   "metadata": {
    "ExecuteTime": {
     "end_time": "2021-02-20T14:04:03.183052Z",
     "start_time": "2021-02-20T14:04:03.140167Z"
    }
   },
   "outputs": [
    {
     "name": "stdout",
     "output_type": "stream",
     "text": [
      "(2577, 85) df_generator\n",
      "(2576, 49) df_hydraulic\n",
      "(2576, 46) df_gen_bear\n",
      "(2576, 49) df_transformer\n",
      "(2576, 40) df_gearbox\n",
      "(465, 85) df_generator\n",
      "(465, 49) df_hydraulic\n",
      "(465, 46) df_gen_bear\n",
      "(465, 49) df_transformer\n",
      "(465, 40) df_gearbox\n"
     ]
    }
   ],
   "source": [
    "for key in df_train_comp_dict:\n",
    "    print(df_train_comp_dict[key].shape, key)\n",
    "for key in df_test_comp_dict:\n",
    "    print(df_test_comp_dict[key].shape, key)"
   ]
  },
  {
   "cell_type": "code",
   "execution_count": 28,
   "metadata": {
    "ExecuteTime": {
     "end_time": "2021-02-20T14:04:03.230661Z",
     "start_time": "2021-02-20T14:04:03.194761Z"
    }
   },
   "outputs": [
    {
     "name": "stdout",
     "output_type": "stream",
     "text": [
      "012 - separar entre x_train, x_test\n"
     ]
    }
   ],
   "source": [
    "print('012 - separar entre x_train, x_test')\n",
    "x_train = df_train_comp_dict.copy()\n",
    "y_train = df_train_comp_dict.copy()\n",
    "x_test = df_test_comp_dict.copy()\n",
    "y_test = df_test_comp_dict.copy()"
   ]
  },
  {
   "cell_type": "code",
   "execution_count": 29,
   "metadata": {
    "ExecuteTime": {
     "end_time": "2021-02-20T14:04:03.306456Z",
     "start_time": "2021-02-20T14:04:03.238638Z"
    }
   },
   "outputs": [
    {
     "name": "stdout",
     "output_type": "stream",
     "text": [
      "xxx - transformar o y de float para int\n"
     ]
    }
   ],
   "source": [
    "print('xxx - transformar o y de float para int')\n",
    "col_to_mantain_test = ['60_days']\n",
    "for key in y_train:\n",
    "    y_train[key] = y_train[key][col_to_mantain_test].to_numpy().astype(int)[:,0]\n",
    "    y_test[key] = y_test[key][col_to_mantain_test].to_numpy().astype(int)[:,0]"
   ]
  },
  {
   "cell_type": "code",
   "execution_count": 30,
   "metadata": {
    "ExecuteTime": {
     "end_time": "2021-02-20T14:04:03.382253Z",
     "start_time": "2021-02-20T14:04:03.331391Z"
    }
   },
   "outputs": [
    {
     "name": "stdout",
     "output_type": "stream",
     "text": [
      "(2577, 85) df_generator\n",
      "(2576, 49) df_hydraulic\n",
      "(2576, 46) df_gen_bear\n",
      "(2576, 49) df_transformer\n",
      "(2576, 40) df_gearbox\n",
      "(2577,) df_generator\n",
      "(2576,) df_hydraulic\n",
      "(2576,) df_gen_bear\n",
      "(2576,) df_transformer\n",
      "(2576,) df_gearbox\n",
      "(465, 85) df_generator\n",
      "(465, 49) df_hydraulic\n",
      "(465, 46) df_gen_bear\n",
      "(465, 49) df_transformer\n",
      "(465, 40) df_gearbox\n",
      "(465,) df_generator\n",
      "(465,) df_hydraulic\n",
      "(465,) df_gen_bear\n",
      "(465,) df_transformer\n",
      "(465,) df_gearbox\n"
     ]
    }
   ],
   "source": [
    "for key in x_train:\n",
    "    print(x_train[key].shape, key)\n",
    "for key in y_train:\n",
    "    print(y_train[key].shape, key)\n",
    "for key in x_test:\n",
    "    print(x_test[key].shape, key)\n",
    "for key in y_test:\n",
    "    print(y_test[key].shape, key)"
   ]
  },
  {
   "cell_type": "code",
   "execution_count": 31,
   "metadata": {
    "ExecuteTime": {
     "end_time": "2021-02-20T14:04:03.463036Z",
     "start_time": "2021-02-20T14:04:03.388237Z"
    }
   },
   "outputs": [
    {
     "name": "stdout",
     "output_type": "stream",
     "text": [
      "012 - separar entre x_train, x_test\n"
     ]
    }
   ],
   "source": [
    "print('012 - separar entre x_train, x_test')\n",
    "# retirar as colunas que não devem entrar no x\n",
    "cols_to_drop_train = ['Date', 'TTF', '60_days']\n",
    "for key in x_train:\n",
    "    x_train[key] = x_train[key].drop(columns=cols_to_drop_train)\n",
    "    x_test[key] = x_test[key].drop(columns=cols_to_drop_train)"
   ]
  },
  {
   "cell_type": "code",
   "execution_count": 32,
   "metadata": {
    "ExecuteTime": {
     "end_time": "2021-02-20T14:04:03.586706Z",
     "start_time": "2021-02-20T14:04:03.473014Z"
    }
   },
   "outputs": [
    {
     "name": "stdout",
     "output_type": "stream",
     "text": [
      "(2577, 82) df_generator\n",
      "(2576, 46) df_hydraulic\n",
      "(2576, 43) df_gen_bear\n",
      "(2576, 46) df_transformer\n",
      "(2576, 37) df_gearbox\n",
      "(465, 82) df_generator\n",
      "(465, 46) df_hydraulic\n",
      "(465, 43) df_gen_bear\n",
      "(465, 46) df_transformer\n",
      "(465, 37) df_gearbox\n"
     ]
    }
   ],
   "source": [
    "for key in x_train:\n",
    "    print(x_train[key].shape, key)\n",
    "for key in x_test:\n",
    "    print(x_test[key].shape, key)"
   ]
  },
  {
   "cell_type": "code",
   "execution_count": 43,
   "metadata": {
    "ExecuteTime": {
     "end_time": "2021-02-20T14:07:06.626921Z",
     "start_time": "2021-02-20T14:07:06.604566Z"
    }
   },
   "outputs": [
    {
     "data": {
      "text/plain": [
       "0.8012785469822229"
      ]
     },
     "execution_count": 43,
     "metadata": {},
     "output_type": "execute_result"
    }
   ],
   "source": [
    "x_train['df_generator'][x_train['df_generator']['Turbine_ID']=='T01']['Blds_PitchAngle_Std'].std()"
   ]
  },
  {
   "cell_type": "code",
   "execution_count": 44,
   "metadata": {
    "ExecuteTime": {
     "end_time": "2021-02-20T14:07:33.114649Z",
     "start_time": "2021-02-20T14:07:32.938573Z"
    }
   },
   "outputs": [
    {
     "name": "stdout",
     "output_type": "stream",
     "text": [
      "014 - fazer o fit do CustomTransfMiguel para cada componente à pedreiro\n",
      "014.1 - df_generator\n",
      "014.2 - df_hydraulic\n",
      "014.3 - df_gen_bear\n",
      "014.4 - df_transformer\n",
      "014.5 - df_gearbox\n"
     ]
    },
    {
     "data": {
      "text/plain": [
       "CustomStandardScaler()"
      ]
     },
     "execution_count": 44,
     "metadata": {},
     "output_type": "execute_result"
    }
   ],
   "source": [
    "print('014 - fazer o fit do CustomTransfMiguel para cada componente à pedreiro')\n",
    "print('014.1 - df_generator')\n",
    "scaler_df_generator = Cscl()\n",
    "scaler_df_generator.fit(x_train['df_generator'])\n",
    "# joblib.dump(scaler_df_generator, 'scaler_df_generator.joblib')\n",
    "print('014.2 - df_hydraulic')\n",
    "scaler_df_hydraulic = Cscl()\n",
    "scaler_df_hydraulic.fit(x_train['df_hydraulic'])\n",
    "# joblib.dump(scaler_df_hydraulic, 'scaler_df_hydraulic.joblib')\n",
    "print('014.3 - df_gen_bear')\n",
    "scaler_df_gen_bear = Cscl()\n",
    "scaler_df_gen_bear.fit(x_train['df_gen_bear'])\n",
    "# joblib.dump(scaler_df_gen_bear, 'scaler_df_gen_bear.joblib')\n",
    "print('014.4 - df_transformer')\n",
    "scaler_df_transformer = Cscl()\n",
    "scaler_df_transformer.fit(x_train['df_transformer'])\n",
    "# joblib.dump(scaler_df_transformer, 'scaler_df_transformer.joblib')\n",
    "print('014.5 - df_gearbox')\n",
    "scaler_df_gearbox = Cscl()\n",
    "scaler_df_gearbox.fit(x_train['df_gearbox'])\n",
    "# joblib.dump(scaler_df_gearbox, 'scaler_df_gearbox.joblib')"
   ]
  },
  {
   "cell_type": "markdown",
   "metadata": {
    "ExecuteTime": {
     "end_time": "2021-02-20T13:46:44.626479Z",
     "start_time": "2021-02-20T13:46:44.611988Z"
    }
   },
   "source": [
    "x_train['df_generator'].columns[9]"
   ]
  },
  {
   "cell_type": "markdown",
   "metadata": {
    "ExecuteTime": {
     "end_time": "2021-02-20T13:34:23.813742Z",
     "start_time": "2021-02-20T13:34:23.798780Z"
    }
   },
   "source": [
    "x_train['df_generator']['Blds_PitchAngle_Std'].isna().sum()"
   ]
  },
  {
   "cell_type": "code",
   "execution_count": null,
   "metadata": {},
   "outputs": [],
   "source": []
  },
  {
   "cell_type": "code",
   "execution_count": 45,
   "metadata": {
    "ExecuteTime": {
     "end_time": "2021-02-20T14:07:35.638739Z",
     "start_time": "2021-02-20T14:07:35.596792Z"
    }
   },
   "outputs": [
    {
     "name": "stdout",
     "output_type": "stream",
     "text": [
      "012.1 - considerar no y set apenas as turbinas que tiveram falhas\n"
     ]
    }
   ],
   "source": [
    "print('012.1 - considerar no y set apenas as turbinas que tiveram falhas')\n",
    "train_turbines = {\n",
    "    'df_generator': ['T11', 'T06'],\n",
    "    'df_hydraulic': ['T06', 'T11'],\n",
    "    'df_gen_bear': ['T07', 'T09'],\n",
    "    'df_transformer': ['T07'],\n",
    "    'df_gearbox': ['T09']\n",
    "}\n",
    "for key in df_train_comp_dict:\n",
    "    df_train_comp_dict[key] = df_train_comp_dict[key][\n",
    "        df_train_comp_dict[key]['Turbine_ID'].isin(train_turbines[key])]"
   ]
  },
  {
   "cell_type": "markdown",
   "metadata": {
    "ExecuteTime": {
     "end_time": "2021-02-20T13:34:27.053396Z",
     "start_time": "2021-02-20T13:34:27.041429Z"
    }
   },
   "source": [
    "x_train1 = {}\n",
    "x_test1 = {}"
   ]
  },
  {
   "cell_type": "code",
   "execution_count": 53,
   "metadata": {
    "ExecuteTime": {
     "end_time": "2021-02-20T14:17:24.731253Z",
     "start_time": "2021-02-20T14:17:24.713295Z"
    }
   },
   "outputs": [],
   "source": [
    "def scale(X_train, X_test):\n",
    "    X_train1 = X_train.loc[X_train['Turbine_ID']=='T01']\n",
    "    X_test1 = X_test.loc[X_test['Turbine_ID']=='T01']\n",
    "    X_train1 = X_train1.drop(columns='Turbine_ID')\n",
    "    X_test1 = X_test1.drop(columns='Turbine_ID')\n",
    "    \n",
    "    sc = StandardScaler()\n",
    "    X_train1 = sc.fit_transform(X_train1)\n",
    "    X_test1 = sc.transform(X_test1)\n",
    "    turbines = ['T06', 'T07', 'T09', 'T11']\n",
    "    for turbine in turbines:\n",
    "        X_train_ = X_train.loc[X_train['Turbine_ID']==turbine]\n",
    "        X_test_ = X_test.loc[X_test['Turbine_ID']==turbine]\n",
    "        X_train_ = X_train_.drop(columns='Turbine_ID')\n",
    "        X_test_ = X_test_.drop(columns='Turbine_ID')\n",
    "     \n",
    "        sc = StandardScaler()\n",
    "        X_train_ = sc.fit_transform(X_train_)\n",
    "        X_test_ = sc.transform(X_test_)\n",
    "        X_train1 = np.concatenate((X_train1, X_train_))\n",
    "        X_test1 = np.concatenate((X_test1, X_test_))\n",
    "    return X_train1, X_test1"
   ]
  },
  {
   "cell_type": "code",
   "execution_count": null,
   "metadata": {},
   "outputs": [],
   "source": [
    "def scale(X_train, X_test):\n",
    "    X_train1 = X_train.loc[X_train['Turbine_ID']=='T01']\n",
    "    X_test1 = X_test.loc[X_test['Turbine_ID']=='T01']\n",
    "    X_train1 = X_train1.drop(columns='Turbine_ID')\n",
    "    X_test1 = X_test1.drop(columns='Turbine_ID')\n",
    "    \n",
    "    sc = StandardScaler()\n",
    "    X_train1 = sc.fit_transform(X_train1)\n",
    "    X_test1 = sc.transform(X_test1)\n",
    "    turbines = ['T06', 'T07', 'T09', 'T11']\n",
    "    for turbine in turbines:\n",
    "        X_train_ = X_train.loc[X_train['Turbine_ID']==turbine]\n",
    "        X_test_ = X_test.loc[X_test['Turbine_ID']==turbine]\n",
    "        X_train_ = X_train_.drop(columns='Turbine_ID')\n",
    "        X_test_ = X_test_.drop(columns='Turbine_ID')\n",
    "     \n",
    "        sc = StandardScaler()\n",
    "        X_train_ = sc.fit_transform(X_train_)\n",
    "        X_test_ = sc.transform(X_test_)\n",
    "        X_train1 = np.concatenate((X_train1, X_train_))\n",
    "        X_test1 = np.concatenate((X_test1, X_test_))\n",
    "    return X_train1, X_test1"
   ]
  },
  {
   "cell_type": "code",
   "execution_count": null,
   "metadata": {},
   "outputs": [],
   "source": []
  },
  {
   "cell_type": "code",
   "execution_count": null,
   "metadata": {},
   "outputs": [],
   "source": []
  },
  {
   "cell_type": "markdown",
   "metadata": {
    "ExecuteTime": {
     "end_time": "2021-02-20T14:09:48.433633Z",
     "start_time": "2021-02-20T14:09:48.426652Z"
    }
   },
   "source": [
    "def fit2(X, y=None):\n",
    "    mean_ = {}\n",
    "    std_ = {}\n",
    "\n",
    "    for turbine in ['T01','T06','T07','T09','T11']:\n",
    "        X_filter = X[X['Turbine_ID']==turbine]\n",
    "        X_filter = X_filter.drop(columns='Turbine_ID').to_numpy()\n",
    "        mean_[turbine] = X_filter.mean(axis=0)\n",
    "        std_[turbine] = X_filter.std(axis=0)\n",
    "\n",
    "    return mean_,std_"
   ]
  },
  {
   "cell_type": "markdown",
   "metadata": {
    "ExecuteTime": {
     "end_time": "2021-02-20T14:09:52.361758Z",
     "start_time": "2021-02-20T14:09:52.345281Z"
    }
   },
   "source": [
    "def transform2(X, y=None):\n",
    "    X_turbine={}\n",
    "\n",
    "    for turbine in ['T01','T06','T07','T09','T11']:\n",
    "        if std_[turbine] == 0:\n",
    "            X_turbine[turbine] = (X[X['Turbine_ID']==turbine].drop(columns='Turbine_ID').to_numpy() - mean_[turbine]) / 1\n",
    "        else:\n",
    "            X_turbine[turbine] = (X[X['Turbine_ID']==turbine].drop(columns='Turbine_ID').to_numpy() - mean_[turbine]) / std_[turbine]\n",
    "\n",
    "    X_turbine_all=X_turbine['T01']\n",
    "\n",
    "    for turbine in ['T06','T07','T09','T11']:\n",
    "\n",
    "        X_turbine_all=np.concatenate([X_turbine_all,X_turbine[turbine]])\n",
    "\n",
    "    return X_turbine_all"
   ]
  },
  {
   "cell_type": "markdown",
   "metadata": {
    "ExecuteTime": {
     "end_time": "2021-02-20T14:09:57.970058Z",
     "start_time": "2021-02-20T14:09:57.920647Z"
    }
   },
   "source": [
    "mean_,std_ = fit2(x_train['df_generator'])"
   ]
  },
  {
   "cell_type": "markdown",
   "metadata": {
    "ExecuteTime": {
     "end_time": "2021-02-20T13:57:05.654116Z",
     "start_time": "2021-02-20T13:57:05.630151Z"
    }
   },
   "source": [
    "std_['T01']"
   ]
  },
  {
   "cell_type": "markdown",
   "metadata": {
    "ExecuteTime": {
     "end_time": "2021-02-20T13:38:56.819144Z",
     "start_time": "2021-02-20T13:38:56.790193Z"
    }
   },
   "source": [
    "transform(x_train['df_generator'])"
   ]
  },
  {
   "cell_type": "code",
   "execution_count": null,
   "metadata": {},
   "outputs": [],
   "source": []
  },
  {
   "cell_type": "code",
   "execution_count": null,
   "metadata": {},
   "outputs": [],
   "source": []
  },
  {
   "cell_type": "code",
   "execution_count": 46,
   "metadata": {
    "ExecuteTime": {
     "end_time": "2021-02-20T14:07:40.874745Z",
     "start_time": "2021-02-20T14:07:40.722411Z"
    }
   },
   "outputs": [
    {
     "name": "stdout",
     "output_type": "stream",
     "text": [
      "016 - aplicar o scale com o fit efectuado no treino\n"
     ]
    },
    {
     "name": "stderr",
     "output_type": "stream",
     "text": [
      "C:\\Users\\ricar\\code\\RicardoJPedro82\\wmillfailprev\\wmillfailprev\\c_model_related.py:32: RuntimeWarning: invalid value encountered in true_divide\n",
      "  X_turbine[turbine] = (X[X['Turbine_ID']==turbine].drop(columns='Turbine_ID').to_numpy() - self.mean_[turbine]) / self.std_[turbine]\n"
     ]
    }
   ],
   "source": [
    "print('016 - aplicar o scale com o fit efectuado no treino')\n",
    "x_train['df_generator'] = scaler_df_generator.transform(x_train['df_generator'])\n",
    "x_train['df_hydraulic'] = scaler_df_hydraulic.transform(x_train['df_hydraulic'])\n",
    "x_train['df_gen_bear'] = scaler_df_gen_bear.transform(x_train['df_gen_bear'])\n",
    "x_train['df_transformer'] = scaler_df_transformer.transform(x_train['df_transformer'])\n",
    "x_train['df_gearbox'] = scaler_df_gearbox.transform(x_train['df_gearbox'])"
   ]
  },
  {
   "cell_type": "code",
   "execution_count": 47,
   "metadata": {
    "ExecuteTime": {
     "end_time": "2021-02-20T14:07:53.369292Z",
     "start_time": "2021-02-20T14:07:53.251088Z"
    }
   },
   "outputs": [
    {
     "name": "stdout",
     "output_type": "stream",
     "text": [
      "016 - aplicar o scale com o fit efectuado no teste\n"
     ]
    },
    {
     "name": "stderr",
     "output_type": "stream",
     "text": [
      "C:\\Users\\ricar\\code\\RicardoJPedro82\\wmillfailprev\\wmillfailprev\\c_model_related.py:32: RuntimeWarning: divide by zero encountered in true_divide\n",
      "  X_turbine[turbine] = (X[X['Turbine_ID']==turbine].drop(columns='Turbine_ID').to_numpy() - self.mean_[turbine]) / self.std_[turbine]\n"
     ]
    }
   ],
   "source": [
    "print('016 - aplicar o scale com o fit efectuado no teste')\n",
    "x_test['df_generator'] = scaler_df_generator.transform(x_test['df_generator'])\n",
    "x_test['df_hydraulic'] = scaler_df_hydraulic.transform(x_test['df_hydraulic'])\n",
    "x_test['df_gen_bear'] = scaler_df_gen_bear.transform(x_test['df_gen_bear'])\n",
    "x_test['df_transformer'] = scaler_df_transformer.transform(x_test['df_transformer'])\n",
    "x_test['df_gearbox'] = scaler_df_gearbox.transform(x_test['df_gearbox'])"
   ]
  },
  {
   "cell_type": "code",
   "execution_count": 48,
   "metadata": {
    "ExecuteTime": {
     "end_time": "2021-02-20T14:08:05.123090Z",
     "start_time": "2021-02-20T14:08:05.099620Z"
    }
   },
   "outputs": [
    {
     "name": "stdout",
     "output_type": "stream",
     "text": [
      "(2577, 81) df_generator\n",
      "(2576, 45) df_hydraulic\n",
      "(2576, 42) df_gen_bear\n",
      "(2576, 45) df_transformer\n",
      "(2576, 36) df_gearbox\n",
      "(465, 81) df_generator\n",
      "(465, 45) df_hydraulic\n",
      "(465, 42) df_gen_bear\n",
      "(465, 45) df_transformer\n",
      "(465, 36) df_gearbox\n"
     ]
    }
   ],
   "source": [
    "for key in x_train:\n",
    "    print(x_train[key].shape, key)\n",
    "for key in x_test:\n",
    "    print(x_test[key].shape, key)"
   ]
  },
  {
   "cell_type": "markdown",
   "metadata": {
    "ExecuteTime": {
     "end_time": "2021-02-20T13:24:13.122672Z",
     "start_time": "2021-02-20T13:24:13.093752Z"
    }
   },
   "source": [
    "exp1 = pd.DataFrame(x_test['df_generator'])"
   ]
  },
  {
   "cell_type": "markdown",
   "metadata": {
    "ExecuteTime": {
     "end_time": "2021-02-20T13:25:55.178195Z",
     "start_time": "2021-02-20T13:25:55.167594Z"
    }
   },
   "source": [
    "x_test['df_generator'][9]"
   ]
  },
  {
   "cell_type": "markdown",
   "metadata": {
    "ExecuteTime": {
     "end_time": "2021-02-20T13:25:39.083876Z",
     "start_time": "2021-02-20T13:25:39.072364Z"
    }
   },
   "source": [
    "exp1[9]"
   ]
  },
  {
   "cell_type": "code",
   "execution_count": null,
   "metadata": {},
   "outputs": [],
   "source": []
  },
  {
   "cell_type": "code",
   "execution_count": null,
   "metadata": {},
   "outputs": [],
   "source": []
  },
  {
   "cell_type": "code",
   "execution_count": 49,
   "metadata": {
    "ExecuteTime": {
     "end_time": "2021-02-20T14:08:08.008826Z",
     "start_time": "2021-02-20T14:08:07.897086Z"
    }
   },
   "outputs": [
    {
     "name": "stdout",
     "output_type": "stream",
     "text": [
      "017 - Instanciar e treinar o modelo correspondente\n"
     ]
    },
    {
     "ename": "ValueError",
     "evalue": "Input contains NaN, infinity or a value too large for dtype('float64').",
     "output_type": "error",
     "traceback": [
      "\u001b[1;31m---------------------------------------------------------------------------\u001b[0m",
      "\u001b[1;31mValueError\u001b[0m                                Traceback (most recent call last)",
      "\u001b[1;32m<ipython-input-49-907f0ee100e7>\u001b[0m in \u001b[0;36m<module>\u001b[1;34m\u001b[0m\n\u001b[0;32m      4\u001b[0m                      \u001b[0mx_test\u001b[0m\u001b[1;33m=\u001b[0m\u001b[0mx_test\u001b[0m\u001b[1;33m[\u001b[0m\u001b[1;34m'df_generator'\u001b[0m\u001b[1;33m]\u001b[0m\u001b[1;33m,\u001b[0m\u001b[1;33m\u001b[0m\u001b[1;33m\u001b[0m\u001b[0m\n\u001b[0;32m      5\u001b[0m                      component='df_generator')\n\u001b[1;32m----> 6\u001b[1;33m \u001b[0mgenerator_model\u001b[0m\u001b[1;33m.\u001b[0m\u001b[0mtrain\u001b[0m\u001b[1;33m(\u001b[0m\u001b[1;33m)\u001b[0m\u001b[1;33m\u001b[0m\u001b[1;33m\u001b[0m\u001b[0m\n\u001b[0m\u001b[0;32m      7\u001b[0m \u001b[1;31m# joblib.dump(generator_model, 'generator_model.joblib')\u001b[0m\u001b[1;33m\u001b[0m\u001b[1;33m\u001b[0m\u001b[1;33m\u001b[0m\u001b[0m\n",
      "\u001b[1;32m~\\code\\RicardoJPedro82\\wmillfailprev\\wmillfailprev\\c_model_related.py\u001b[0m in \u001b[0;36mtrain\u001b[1;34m(self)\u001b[0m\n\u001b[0;32m     84\u001b[0m         \u001b[1;34m\"\"\"train the selected model\"\"\"\u001b[0m\u001b[1;33m\u001b[0m\u001b[1;33m\u001b[0m\u001b[0m\n\u001b[0;32m     85\u001b[0m         \u001b[0mself\u001b[0m\u001b[1;33m.\u001b[0m\u001b[0mmodel\u001b[0m \u001b[1;33m=\u001b[0m \u001b[0mself\u001b[0m\u001b[1;33m.\u001b[0m\u001b[0mget_estimator\u001b[0m\u001b[1;33m(\u001b[0m\u001b[1;33m)\u001b[0m\u001b[1;33m\u001b[0m\u001b[1;33m\u001b[0m\u001b[0m\n\u001b[1;32m---> 86\u001b[1;33m         \u001b[0mself\u001b[0m\u001b[1;33m.\u001b[0m\u001b[0mmodel\u001b[0m\u001b[1;33m.\u001b[0m\u001b[0mfit\u001b[0m\u001b[1;33m(\u001b[0m\u001b[0mself\u001b[0m\u001b[1;33m.\u001b[0m\u001b[0mx_train\u001b[0m\u001b[1;33m,\u001b[0m \u001b[0mself\u001b[0m\u001b[1;33m.\u001b[0m\u001b[0my_train\u001b[0m\u001b[1;33m)\u001b[0m\u001b[1;33m\u001b[0m\u001b[1;33m\u001b[0m\u001b[0m\n\u001b[0m\u001b[0;32m     87\u001b[0m         \u001b[1;32mreturn\u001b[0m \u001b[0mself\u001b[0m\u001b[1;33m.\u001b[0m\u001b[0mmodel\u001b[0m\u001b[1;33m\u001b[0m\u001b[1;33m\u001b[0m\u001b[0m\n\u001b[0;32m     88\u001b[0m \u001b[1;33m\u001b[0m\u001b[0m\n",
      "\u001b[1;32mc:\\users\\ricar\\.venvs\\lewagon\\lib\\site-packages\\sklearn\\neighbors\\base.py\u001b[0m in \u001b[0;36mfit\u001b[1;34m(self, X, y)\u001b[0m\n\u001b[0;32m    889\u001b[0m         \"\"\"\n\u001b[0;32m    890\u001b[0m         \u001b[1;32mif\u001b[0m \u001b[1;32mnot\u001b[0m \u001b[0misinstance\u001b[0m\u001b[1;33m(\u001b[0m\u001b[0mX\u001b[0m\u001b[1;33m,\u001b[0m \u001b[1;33m(\u001b[0m\u001b[0mKDTree\u001b[0m\u001b[1;33m,\u001b[0m \u001b[0mBallTree\u001b[0m\u001b[1;33m)\u001b[0m\u001b[1;33m)\u001b[0m\u001b[1;33m:\u001b[0m\u001b[1;33m\u001b[0m\u001b[1;33m\u001b[0m\u001b[0m\n\u001b[1;32m--> 891\u001b[1;33m             \u001b[0mX\u001b[0m\u001b[1;33m,\u001b[0m \u001b[0my\u001b[0m \u001b[1;33m=\u001b[0m \u001b[0mcheck_X_y\u001b[0m\u001b[1;33m(\u001b[0m\u001b[0mX\u001b[0m\u001b[1;33m,\u001b[0m \u001b[0my\u001b[0m\u001b[1;33m,\u001b[0m \u001b[1;34m\"csr\"\u001b[0m\u001b[1;33m,\u001b[0m \u001b[0mmulti_output\u001b[0m\u001b[1;33m=\u001b[0m\u001b[1;32mTrue\u001b[0m\u001b[1;33m)\u001b[0m\u001b[1;33m\u001b[0m\u001b[1;33m\u001b[0m\u001b[0m\n\u001b[0m\u001b[0;32m    892\u001b[0m \u001b[1;33m\u001b[0m\u001b[0m\n\u001b[0;32m    893\u001b[0m         \u001b[1;32mif\u001b[0m \u001b[0my\u001b[0m\u001b[1;33m.\u001b[0m\u001b[0mndim\u001b[0m \u001b[1;33m==\u001b[0m \u001b[1;36m1\u001b[0m \u001b[1;32mor\u001b[0m \u001b[0my\u001b[0m\u001b[1;33m.\u001b[0m\u001b[0mndim\u001b[0m \u001b[1;33m==\u001b[0m \u001b[1;36m2\u001b[0m \u001b[1;32mand\u001b[0m \u001b[0my\u001b[0m\u001b[1;33m.\u001b[0m\u001b[0mshape\u001b[0m\u001b[1;33m[\u001b[0m\u001b[1;36m1\u001b[0m\u001b[1;33m]\u001b[0m \u001b[1;33m==\u001b[0m \u001b[1;36m1\u001b[0m\u001b[1;33m:\u001b[0m\u001b[1;33m\u001b[0m\u001b[1;33m\u001b[0m\u001b[0m\n",
      "\u001b[1;32mc:\\users\\ricar\\.venvs\\lewagon\\lib\\site-packages\\sklearn\\utils\\validation.py\u001b[0m in \u001b[0;36mcheck_X_y\u001b[1;34m(X, y, accept_sparse, accept_large_sparse, dtype, order, copy, force_all_finite, ensure_2d, allow_nd, multi_output, ensure_min_samples, ensure_min_features, y_numeric, warn_on_dtype, estimator)\u001b[0m\n\u001b[0;32m    754\u001b[0m                     \u001b[0mensure_min_features\u001b[0m\u001b[1;33m=\u001b[0m\u001b[0mensure_min_features\u001b[0m\u001b[1;33m,\u001b[0m\u001b[1;33m\u001b[0m\u001b[1;33m\u001b[0m\u001b[0m\n\u001b[0;32m    755\u001b[0m                     \u001b[0mwarn_on_dtype\u001b[0m\u001b[1;33m=\u001b[0m\u001b[0mwarn_on_dtype\u001b[0m\u001b[1;33m,\u001b[0m\u001b[1;33m\u001b[0m\u001b[1;33m\u001b[0m\u001b[0m\n\u001b[1;32m--> 756\u001b[1;33m                     estimator=estimator)\n\u001b[0m\u001b[0;32m    757\u001b[0m     \u001b[1;32mif\u001b[0m \u001b[0mmulti_output\u001b[0m\u001b[1;33m:\u001b[0m\u001b[1;33m\u001b[0m\u001b[1;33m\u001b[0m\u001b[0m\n\u001b[0;32m    758\u001b[0m         y = check_array(y, 'csr', force_all_finite=True, ensure_2d=False,\n",
      "\u001b[1;32mc:\\users\\ricar\\.venvs\\lewagon\\lib\\site-packages\\sklearn\\utils\\validation.py\u001b[0m in \u001b[0;36mcheck_array\u001b[1;34m(array, accept_sparse, accept_large_sparse, dtype, order, copy, force_all_finite, ensure_2d, allow_nd, ensure_min_samples, ensure_min_features, warn_on_dtype, estimator)\u001b[0m\n\u001b[0;32m    571\u001b[0m         \u001b[1;32mif\u001b[0m \u001b[0mforce_all_finite\u001b[0m\u001b[1;33m:\u001b[0m\u001b[1;33m\u001b[0m\u001b[1;33m\u001b[0m\u001b[0m\n\u001b[0;32m    572\u001b[0m             _assert_all_finite(array,\n\u001b[1;32m--> 573\u001b[1;33m                                allow_nan=force_all_finite == 'allow-nan')\n\u001b[0m\u001b[0;32m    574\u001b[0m \u001b[1;33m\u001b[0m\u001b[0m\n\u001b[0;32m    575\u001b[0m     \u001b[0mshape_repr\u001b[0m \u001b[1;33m=\u001b[0m \u001b[0m_shape_repr\u001b[0m\u001b[1;33m(\u001b[0m\u001b[0marray\u001b[0m\u001b[1;33m.\u001b[0m\u001b[0mshape\u001b[0m\u001b[1;33m)\u001b[0m\u001b[1;33m\u001b[0m\u001b[1;33m\u001b[0m\u001b[0m\n",
      "\u001b[1;32mc:\\users\\ricar\\.venvs\\lewagon\\lib\\site-packages\\sklearn\\utils\\validation.py\u001b[0m in \u001b[0;36m_assert_all_finite\u001b[1;34m(X, allow_nan)\u001b[0m\n\u001b[0;32m     54\u001b[0m                 not allow_nan and not np.isfinite(X).all()):\n\u001b[0;32m     55\u001b[0m             \u001b[0mtype_err\u001b[0m \u001b[1;33m=\u001b[0m \u001b[1;34m'infinity'\u001b[0m \u001b[1;32mif\u001b[0m \u001b[0mallow_nan\u001b[0m \u001b[1;32melse\u001b[0m \u001b[1;34m'NaN, infinity'\u001b[0m\u001b[1;33m\u001b[0m\u001b[1;33m\u001b[0m\u001b[0m\n\u001b[1;32m---> 56\u001b[1;33m             \u001b[1;32mraise\u001b[0m \u001b[0mValueError\u001b[0m\u001b[1;33m(\u001b[0m\u001b[0mmsg_err\u001b[0m\u001b[1;33m.\u001b[0m\u001b[0mformat\u001b[0m\u001b[1;33m(\u001b[0m\u001b[0mtype_err\u001b[0m\u001b[1;33m,\u001b[0m \u001b[0mX\u001b[0m\u001b[1;33m.\u001b[0m\u001b[0mdtype\u001b[0m\u001b[1;33m)\u001b[0m\u001b[1;33m)\u001b[0m\u001b[1;33m\u001b[0m\u001b[1;33m\u001b[0m\u001b[0m\n\u001b[0m\u001b[0;32m     57\u001b[0m \u001b[1;33m\u001b[0m\u001b[0m\n\u001b[0;32m     58\u001b[0m \u001b[1;33m\u001b[0m\u001b[0m\n",
      "\u001b[1;31mValueError\u001b[0m: Input contains NaN, infinity or a value too large for dtype('float64')."
     ]
    }
   ],
   "source": [
    "print('017 - Instanciar e treinar o modelo correspondente')\n",
    "generator_model = tr(x_train=x_train['df_generator'],\n",
    "                     y_train=y_train['df_generator'],\n",
    "                     x_test=x_test['df_generator'],\n",
    "                     component='df_generator')\n",
    "generator_model.train()\n",
    "# joblib.dump(generator_model, 'generator_model.joblib')"
   ]
  },
  {
   "cell_type": "code",
   "execution_count": null,
   "metadata": {
    "ExecuteTime": {
     "end_time": "2021-02-20T13:24:13.568808Z",
     "start_time": "2021-02-20T13:24:12.300Z"
    }
   },
   "outputs": [],
   "source": [
    "print('018 - Obter a previsão para a métrica de poupança')\n",
    "y_pred_generator = generator_model.predict()"
   ]
  },
  {
   "cell_type": "code",
   "execution_count": null,
   "metadata": {},
   "outputs": [],
   "source": []
  },
  {
   "cell_type": "code",
   "execution_count": null,
   "metadata": {},
   "outputs": [],
   "source": []
  },
  {
   "cell_type": "code",
   "execution_count": null,
   "metadata": {},
   "outputs": [],
   "source": []
  },
  {
   "cell_type": "code",
   "execution_count": null,
   "metadata": {},
   "outputs": [],
   "source": []
  },
  {
   "cell_type": "code",
   "execution_count": null,
   "metadata": {},
   "outputs": [],
   "source": []
  },
  {
   "cell_type": "code",
   "execution_count": null,
   "metadata": {},
   "outputs": [],
   "source": []
  },
  {
   "cell_type": "code",
   "execution_count": null,
   "metadata": {},
   "outputs": [],
   "source": []
  }
 ],
 "metadata": {
  "kernelspec": {
   "display_name": "Python 3",
   "language": "python",
   "name": "python3"
  },
  "language_info": {
   "codemirror_mode": {
    "name": "ipython",
    "version": 3
   },
   "file_extension": ".py",
   "mimetype": "text/x-python",
   "name": "python",
   "nbconvert_exporter": "python",
   "pygments_lexer": "ipython3",
   "version": "3.7.7"
  }
 },
 "nbformat": 4,
 "nbformat_minor": 4
}
