{
 "cells": [
  {
   "cell_type": "code",
   "execution_count": 1,
   "metadata": {
    "ExecuteTime": {
     "end_time": "2021-02-20T14:28:30.786239Z",
     "start_time": "2021-02-20T14:28:28.168437Z"
    }
   },
   "outputs": [],
   "source": [
    "from b_get_data import *\n",
    "from c_model_related import CustomStandardScaler as Cscl\n",
    "from c_model_related import Trainer as tr\n",
    "from c_model_related import metrics_create_df\n",
    "import joblib"
   ]
  },
  {
   "cell_type": "code",
   "execution_count": 2,
   "metadata": {
    "ExecuteTime": {
     "end_time": "2021-02-20T14:28:30.814045Z",
     "start_time": "2021-02-20T14:28:30.792048Z"
    }
   },
   "outputs": [],
   "source": [
    "gen_features_drop = [\n",
    "    'Gen_RPM_Max', 'Gen_RPM_Min', 'Gen_Phase1_Temp_Avg', 'Gen_Phase3_Temp_Avg',\n",
    "    'Amb_WindSpeed_Est_Avg', 'Grd_RtrInvPhase1_Temp_Avg',\n",
    "    'Grd_RtrInvPhase3_Temp_Avg', 'Rtr_RPM_Max', 'Rtr_RPM_Min',\n",
    "    'Blds_PitchAngle_Max', 'Blds_PitchAngle_Min',\n",
    "    'Prod_LatestAvg_ReactPwrGen1', 'Cont_Hub_Temp_Avg', 'Spin_Temp_Avg',\n",
    "    'Rtr_RPM_Std', 'Rtr_RPM_Avg', 'Cont_VCP_Temp_Avg'\n",
    "]\n",
    "\n",
    "gen_bear_features_drop = [\n",
    "    'Gen_RPM_Max', 'Gen_RPM_Min', 'Gen_Phase1_Temp_Avg', 'Gen_Phase3_Temp_Avg',\n",
    "    'Amb_WindSpeed_Est_Avg', 'Grd_RtrInvPhase1_Temp_Avg',\n",
    "    'Grd_RtrInvPhase3_Temp_Avg', 'Rtr_RPM_Max', 'Rtr_RPM_Min',\n",
    "    'Blds_PitchAngle_Max', 'Blds_PitchAngle_Min',\n",
    "    'Prod_LatestAvg_ReactPwrGen1', 'Cont_Hub_Temp_Avg', 'Spin_Temp_Avg',\n",
    "    'Rtr_RPM_Std', 'Rtr_RPM_Avg', 'Cont_VCP_Temp_Avg'\n",
    "]\n",
    "\n",
    "hyd_features_drop = [\n",
    "    'Rtr_RPM_Max', 'Rtr_RPM_Min', 'Blds_PitchAngle_Max', 'Blds_PitchAngle_Min',\n",
    "    'Blds_PitchAngle_Max', 'Grd_RtrInvPhase3_Temp_Avg', 'Grd_Busbar_Temp_Avg',\n",
    "    'Amb_WindSpeed_Est_Avg', 'Spin_Temp_Avg', 'Cont_Hub_Temp_Avg',\n",
    "    'Grd_RtrInvPhase1_Temp_Avg', 'Cont_VCP_Temp_Avg'\n",
    "]\n",
    "\n",
    "gearbox_features_drop = [\n",
    "    'Rtr_RPM_Max', 'Rtr_RPM_Min', 'Grd_RtrInvPhase1_Temp_Avg',\n",
    "    'Grd_RtrInvPhase3_Temp_Avg', 'Blds_PitchAngle_Min', 'Blds_PitchAngle_Max',\n",
    "    'Cont_VCP_Temp_Avg', 'Grd_Busbar_Temp_Avg', 'Amb_WindSpeed_Est_Avg',\n",
    "    'Spin_Temp_Avg'\n",
    "]\n",
    "\n",
    "transf_features_drop = [\n",
    "    'HVTrafo_Phase1_Temp_Avg', 'HVTrafo_Phase3_Temp_Avg', 'Rtr_RPM_Max',\n",
    "    'Rtr_RPM_Min', 'Grd_RtrInvPhase1_Temp_Avg', 'Grd_RtrInvPhase3_Temp_Avg',\n",
    "    'Blds_PitchAngle_Min', 'Blds_PitchAngle_Max', 'Amb_WindSpeed_Est_Avg',\n",
    "    'Spin_Temp_Avg', 'Cont_VCP_Temp_Avg'\n",
    "]\n",
    "\n",
    "\n",
    "feat_drop_list = [\n",
    "    gen_features_drop, hyd_features_drop, gen_bear_features_drop,\n",
    "    transf_features_drop, gearbox_features_drop\n",
    "]"
   ]
  },
  {
   "cell_type": "code",
   "execution_count": 3,
   "metadata": {
    "ExecuteTime": {
     "end_time": "2021-02-20T14:28:49.948539Z",
     "start_time": "2021-02-20T14:28:30.826718Z"
    }
   },
   "outputs": [
    {
     "data": {
      "text/html": [
       "<div>\n",
       "<style scoped>\n",
       "    .dataframe tbody tr th:only-of-type {\n",
       "        vertical-align: middle;\n",
       "    }\n",
       "\n",
       "    .dataframe tbody tr th {\n",
       "        vertical-align: top;\n",
       "    }\n",
       "\n",
       "    .dataframe thead th {\n",
       "        text-align: right;\n",
       "    }\n",
       "</style>\n",
       "<table border=\"1\" class=\"dataframe\">\n",
       "  <thead>\n",
       "    <tr style=\"text-align: right;\">\n",
       "      <th></th>\n",
       "      <th>Turbine_ID</th>\n",
       "      <th>Timestamp</th>\n",
       "      <th>Gen_RPM_Max</th>\n",
       "      <th>Gen_RPM_Min</th>\n",
       "      <th>Gen_RPM_Avg</th>\n",
       "      <th>Gen_RPM_Std</th>\n",
       "      <th>Gen_Bear_Temp_Avg</th>\n",
       "      <th>Gen_Phase1_Temp_Avg</th>\n",
       "      <th>Gen_Phase2_Temp_Avg</th>\n",
       "      <th>Gen_Phase3_Temp_Avg</th>\n",
       "      <th>...</th>\n",
       "      <th>Grd_Prod_PsbleInd_Avg</th>\n",
       "      <th>Grd_Prod_PsbleInd_Max</th>\n",
       "      <th>Grd_Prod_PsbleInd_Min</th>\n",
       "      <th>Grd_Prod_PsbleInd_Std</th>\n",
       "      <th>Grd_Prod_PsbleCap_Avg</th>\n",
       "      <th>Grd_Prod_PsbleCap_Max</th>\n",
       "      <th>Grd_Prod_PsbleCap_Min</th>\n",
       "      <th>Grd_Prod_PsbleCap_Std</th>\n",
       "      <th>Gen_Bear2_Temp_Avg</th>\n",
       "      <th>Nac_Direction_Avg</th>\n",
       "    </tr>\n",
       "  </thead>\n",
       "  <tbody>\n",
       "    <tr>\n",
       "      <th>0</th>\n",
       "      <td>T11</td>\n",
       "      <td>2016-01-01</td>\n",
       "      <td>1339.4</td>\n",
       "      <td>1233.3</td>\n",
       "      <td>1270.9</td>\n",
       "      <td>18.8</td>\n",
       "      <td>42.0</td>\n",
       "      <td>59</td>\n",
       "      <td>61</td>\n",
       "      <td>60</td>\n",
       "      <td>...</td>\n",
       "      <td>-973.4</td>\n",
       "      <td>-752.6</td>\n",
       "      <td>-1000.0</td>\n",
       "      <td>56.5</td>\n",
       "      <td>973.4</td>\n",
       "      <td>1000.0</td>\n",
       "      <td>752.6</td>\n",
       "      <td>56.5</td>\n",
       "      <td>38</td>\n",
       "      <td>206.9</td>\n",
       "    </tr>\n",
       "    <tr>\n",
       "      <th>1</th>\n",
       "      <td>T06</td>\n",
       "      <td>2016-01-01</td>\n",
       "      <td>1270.0</td>\n",
       "      <td>1232.8</td>\n",
       "      <td>1248.5</td>\n",
       "      <td>6.8</td>\n",
       "      <td>42.0</td>\n",
       "      <td>51</td>\n",
       "      <td>52</td>\n",
       "      <td>53</td>\n",
       "      <td>...</td>\n",
       "      <td>-307.1</td>\n",
       "      <td>0.0</td>\n",
       "      <td>-880.6</td>\n",
       "      <td>180.0</td>\n",
       "      <td>307.1</td>\n",
       "      <td>880.6</td>\n",
       "      <td>0.0</td>\n",
       "      <td>180.0</td>\n",
       "      <td>35</td>\n",
       "      <td>204.6</td>\n",
       "    </tr>\n",
       "    <tr>\n",
       "      <th>2</th>\n",
       "      <td>T01</td>\n",
       "      <td>2016-01-01</td>\n",
       "      <td>1277.4</td>\n",
       "      <td>1226.1</td>\n",
       "      <td>1249.0</td>\n",
       "      <td>9.0</td>\n",
       "      <td>41.0</td>\n",
       "      <td>58</td>\n",
       "      <td>59</td>\n",
       "      <td>58</td>\n",
       "      <td>...</td>\n",
       "      <td>-144.4</td>\n",
       "      <td>0.0</td>\n",
       "      <td>-584.5</td>\n",
       "      <td>157.1</td>\n",
       "      <td>144.4</td>\n",
       "      <td>584.5</td>\n",
       "      <td>0.0</td>\n",
       "      <td>157.1</td>\n",
       "      <td>37</td>\n",
       "      <td>218.5</td>\n",
       "    </tr>\n",
       "    <tr>\n",
       "      <th>3</th>\n",
       "      <td>T09</td>\n",
       "      <td>2016-01-01</td>\n",
       "      <td>1376.7</td>\n",
       "      <td>1234.3</td>\n",
       "      <td>1272.0</td>\n",
       "      <td>24.7</td>\n",
       "      <td>40.0</td>\n",
       "      <td>58</td>\n",
       "      <td>57</td>\n",
       "      <td>58</td>\n",
       "      <td>...</td>\n",
       "      <td>-861.6</td>\n",
       "      <td>-224.5</td>\n",
       "      <td>-1000.0</td>\n",
       "      <td>185.5</td>\n",
       "      <td>861.6</td>\n",
       "      <td>1000.0</td>\n",
       "      <td>224.5</td>\n",
       "      <td>185.5</td>\n",
       "      <td>33</td>\n",
       "      <td>214.0</td>\n",
       "    </tr>\n",
       "    <tr>\n",
       "      <th>4</th>\n",
       "      <td>T07</td>\n",
       "      <td>2016-01-01</td>\n",
       "      <td>1317.5</td>\n",
       "      <td>1229.5</td>\n",
       "      <td>1254.9</td>\n",
       "      <td>13.8</td>\n",
       "      <td>41.0</td>\n",
       "      <td>62</td>\n",
       "      <td>62</td>\n",
       "      <td>61</td>\n",
       "      <td>...</td>\n",
       "      <td>-536.5</td>\n",
       "      <td>0.0</td>\n",
       "      <td>-1000.0</td>\n",
       "      <td>338.9</td>\n",
       "      <td>536.5</td>\n",
       "      <td>1000.0</td>\n",
       "      <td>0.0</td>\n",
       "      <td>338.9</td>\n",
       "      <td>39</td>\n",
       "      <td>197.3</td>\n",
       "    </tr>\n",
       "    <tr>\n",
       "      <th>...</th>\n",
       "      <td>...</td>\n",
       "      <td>...</td>\n",
       "      <td>...</td>\n",
       "      <td>...</td>\n",
       "      <td>...</td>\n",
       "      <td>...</td>\n",
       "      <td>...</td>\n",
       "      <td>...</td>\n",
       "      <td>...</td>\n",
       "      <td>...</td>\n",
       "      <td>...</td>\n",
       "      <td>...</td>\n",
       "      <td>...</td>\n",
       "      <td>...</td>\n",
       "      <td>...</td>\n",
       "      <td>...</td>\n",
       "      <td>...</td>\n",
       "      <td>...</td>\n",
       "      <td>...</td>\n",
       "      <td>...</td>\n",
       "      <td>...</td>\n",
       "    </tr>\n",
       "    <tr>\n",
       "      <th>434140</th>\n",
       "      <td>T11</td>\n",
       "      <td>2017-09-01</td>\n",
       "      <td>1266.3</td>\n",
       "      <td>1234.3</td>\n",
       "      <td>1250.6</td>\n",
       "      <td>5.1</td>\n",
       "      <td>46.0</td>\n",
       "      <td>60</td>\n",
       "      <td>61</td>\n",
       "      <td>61</td>\n",
       "      <td>...</td>\n",
       "      <td>-864.5</td>\n",
       "      <td>-524.4</td>\n",
       "      <td>-1000.0</td>\n",
       "      <td>109.1</td>\n",
       "      <td>864.5</td>\n",
       "      <td>1000.0</td>\n",
       "      <td>524.4</td>\n",
       "      <td>109.1</td>\n",
       "      <td>43</td>\n",
       "      <td>96.8</td>\n",
       "    </tr>\n",
       "    <tr>\n",
       "      <th>434141</th>\n",
       "      <td>T09</td>\n",
       "      <td>2017-09-01</td>\n",
       "      <td>1268.4</td>\n",
       "      <td>1240.1</td>\n",
       "      <td>1251.9</td>\n",
       "      <td>6.0</td>\n",
       "      <td>44.0</td>\n",
       "      <td>62</td>\n",
       "      <td>61</td>\n",
       "      <td>62</td>\n",
       "      <td>...</td>\n",
       "      <td>-900.6</td>\n",
       "      <td>-340.3</td>\n",
       "      <td>-1000.0</td>\n",
       "      <td>121.6</td>\n",
       "      <td>900.6</td>\n",
       "      <td>1000.0</td>\n",
       "      <td>340.3</td>\n",
       "      <td>121.6</td>\n",
       "      <td>40</td>\n",
       "      <td>105.0</td>\n",
       "    </tr>\n",
       "    <tr>\n",
       "      <th>434142</th>\n",
       "      <td>T06</td>\n",
       "      <td>2017-09-01</td>\n",
       "      <td>1284.2</td>\n",
       "      <td>1233.4</td>\n",
       "      <td>1252.4</td>\n",
       "      <td>8.8</td>\n",
       "      <td>49.0</td>\n",
       "      <td>63</td>\n",
       "      <td>64</td>\n",
       "      <td>65</td>\n",
       "      <td>...</td>\n",
       "      <td>-725.4</td>\n",
       "      <td>-171.8</td>\n",
       "      <td>-1000.0</td>\n",
       "      <td>272.2</td>\n",
       "      <td>725.4</td>\n",
       "      <td>1000.0</td>\n",
       "      <td>171.8</td>\n",
       "      <td>272.2</td>\n",
       "      <td>45</td>\n",
       "      <td>84.1</td>\n",
       "    </tr>\n",
       "    <tr>\n",
       "      <th>434143</th>\n",
       "      <td>T01</td>\n",
       "      <td>2017-09-01</td>\n",
       "      <td>1299.0</td>\n",
       "      <td>1222.1</td>\n",
       "      <td>1255.3</td>\n",
       "      <td>12.4</td>\n",
       "      <td>45.0</td>\n",
       "      <td>64</td>\n",
       "      <td>64</td>\n",
       "      <td>64</td>\n",
       "      <td>...</td>\n",
       "      <td>-822.6</td>\n",
       "      <td>-314.2</td>\n",
       "      <td>-1000.0</td>\n",
       "      <td>203.6</td>\n",
       "      <td>822.6</td>\n",
       "      <td>1000.0</td>\n",
       "      <td>314.2</td>\n",
       "      <td>203.6</td>\n",
       "      <td>44</td>\n",
       "      <td>109.5</td>\n",
       "    </tr>\n",
       "    <tr>\n",
       "      <th>434144</th>\n",
       "      <td>T07</td>\n",
       "      <td>2017-09-01</td>\n",
       "      <td>1292.0</td>\n",
       "      <td>1232.5</td>\n",
       "      <td>1251.9</td>\n",
       "      <td>9.6</td>\n",
       "      <td>48.0</td>\n",
       "      <td>66</td>\n",
       "      <td>67</td>\n",
       "      <td>66</td>\n",
       "      <td>...</td>\n",
       "      <td>-948.8</td>\n",
       "      <td>-745.0</td>\n",
       "      <td>-1000.0</td>\n",
       "      <td>74.2</td>\n",
       "      <td>948.8</td>\n",
       "      <td>1000.0</td>\n",
       "      <td>745.0</td>\n",
       "      <td>74.2</td>\n",
       "      <td>43</td>\n",
       "      <td>90.1</td>\n",
       "    </tr>\n",
       "  </tbody>\n",
       "</table>\n",
       "<p>434145 rows × 81 columns</p>\n",
       "</div>"
      ],
      "text/plain": [
       "       Turbine_ID  Timestamp  Gen_RPM_Max  Gen_RPM_Min  Gen_RPM_Avg  Gen_RPM_Std  Gen_Bear_Temp_Avg  Gen_Phase1_Temp_Avg  Gen_Phase2_Temp_Avg  Gen_Phase3_Temp_Avg  ...  Grd_Prod_PsbleInd_Avg  \\\n",
       "0             T11 2016-01-01       1339.4       1233.3       1270.9         18.8               42.0                   59                   61                   60  ...                 -973.4   \n",
       "1             T06 2016-01-01       1270.0       1232.8       1248.5          6.8               42.0                   51                   52                   53  ...                 -307.1   \n",
       "2             T01 2016-01-01       1277.4       1226.1       1249.0          9.0               41.0                   58                   59                   58  ...                 -144.4   \n",
       "3             T09 2016-01-01       1376.7       1234.3       1272.0         24.7               40.0                   58                   57                   58  ...                 -861.6   \n",
       "4             T07 2016-01-01       1317.5       1229.5       1254.9         13.8               41.0                   62                   62                   61  ...                 -536.5   \n",
       "...           ...        ...          ...          ...          ...          ...                ...                  ...                  ...                  ...  ...                    ...   \n",
       "434140        T11 2017-09-01       1266.3       1234.3       1250.6          5.1               46.0                   60                   61                   61  ...                 -864.5   \n",
       "434141        T09 2017-09-01       1268.4       1240.1       1251.9          6.0               44.0                   62                   61                   62  ...                 -900.6   \n",
       "434142        T06 2017-09-01       1284.2       1233.4       1252.4          8.8               49.0                   63                   64                   65  ...                 -725.4   \n",
       "434143        T01 2017-09-01       1299.0       1222.1       1255.3         12.4               45.0                   64                   64                   64  ...                 -822.6   \n",
       "434144        T07 2017-09-01       1292.0       1232.5       1251.9          9.6               48.0                   66                   67                   66  ...                 -948.8   \n",
       "\n",
       "        Grd_Prod_PsbleInd_Max  Grd_Prod_PsbleInd_Min  Grd_Prod_PsbleInd_Std  Grd_Prod_PsbleCap_Avg  Grd_Prod_PsbleCap_Max  Grd_Prod_PsbleCap_Min  Grd_Prod_PsbleCap_Std  Gen_Bear2_Temp_Avg  \\\n",
       "0                      -752.6                -1000.0                   56.5                  973.4                 1000.0                  752.6                   56.5                  38   \n",
       "1                         0.0                 -880.6                  180.0                  307.1                  880.6                    0.0                  180.0                  35   \n",
       "2                         0.0                 -584.5                  157.1                  144.4                  584.5                    0.0                  157.1                  37   \n",
       "3                      -224.5                -1000.0                  185.5                  861.6                 1000.0                  224.5                  185.5                  33   \n",
       "4                         0.0                -1000.0                  338.9                  536.5                 1000.0                    0.0                  338.9                  39   \n",
       "...                       ...                    ...                    ...                    ...                    ...                    ...                    ...                 ...   \n",
       "434140                 -524.4                -1000.0                  109.1                  864.5                 1000.0                  524.4                  109.1                  43   \n",
       "434141                 -340.3                -1000.0                  121.6                  900.6                 1000.0                  340.3                  121.6                  40   \n",
       "434142                 -171.8                -1000.0                  272.2                  725.4                 1000.0                  171.8                  272.2                  45   \n",
       "434143                 -314.2                -1000.0                  203.6                  822.6                 1000.0                  314.2                  203.6                  44   \n",
       "434144                 -745.0                -1000.0                   74.2                  948.8                 1000.0                  745.0                   74.2                  43   \n",
       "\n",
       "        Nac_Direction_Avg  \n",
       "0                   206.9  \n",
       "1                   204.6  \n",
       "2                   218.5  \n",
       "3                   214.0  \n",
       "4                   197.3  \n",
       "...                   ...  \n",
       "434140               96.8  \n",
       "434141              105.0  \n",
       "434142               84.1  \n",
       "434143              109.5  \n",
       "434144               90.1  \n",
       "\n",
       "[434145 rows x 81 columns]"
      ]
     },
     "execution_count": 3,
     "metadata": {},
     "output_type": "execute_result"
    }
   ],
   "source": [
    "# Obter o caminho dos ficheiros.\n",
    "root_dir = os.path.abspath('..')\n",
    "csv_path = os.path.join(root_dir, 'rawdata')\n",
    "# Importar o dataset de failures\n",
    "failures_path = os.path.join(csv_path, 'wind-farm-1-failures-training.csv')\n",
    "failures_df = get_data(failures_path)\n",
    "# Importar o dataset de signals\n",
    "signals_path = os.path.join(csv_path, 'wind-farm-1-signals-training.csv')\n",
    "signals_df = get_data(signals_path)\n",
    "# Cortar colunas que não têm valores\n",
    "cols_to_drop = ['Prod_LatestAvg_ActPwrGen2', 'Prod_LatestAvg_ReactPwrGen2']\n",
    "signals_df = signals_df.drop(columns=cols_to_drop)\n",
    "signals_df"
   ]
  },
  {
   "cell_type": "code",
   "execution_count": 4,
   "metadata": {
    "ExecuteTime": {
     "end_time": "2021-02-20T14:28:49.954310Z",
     "start_time": "2021-02-20T14:28:49.951695Z"
    }
   },
   "outputs": [],
   "source": [
    "# print('002 - Criar o dicionário com os Dataframes originais')\n",
    "df_dict = {'failures_df':failures_df, 'signals_df':signals_df}"
   ]
  },
  {
   "cell_type": "code",
   "execution_count": 5,
   "metadata": {
    "ExecuteTime": {
     "end_time": "2021-02-20T14:28:49.962140Z",
     "start_time": "2021-02-20T14:28:49.957633Z"
    }
   },
   "outputs": [
    {
     "data": {
      "text/plain": [
       "dict_keys(['failures_df', 'signals_df'])"
      ]
     },
     "execution_count": 5,
     "metadata": {},
     "output_type": "execute_result"
    }
   ],
   "source": [
    "df_dict.keys()"
   ]
  },
  {
   "cell_type": "code",
   "execution_count": 6,
   "metadata": {
    "ExecuteTime": {
     "end_time": "2021-02-20T14:28:50.334126Z",
     "start_time": "2021-02-20T14:28:49.965489Z"
    }
   },
   "outputs": [],
   "source": [
    "df_generator, df_gen_bear, df_transformer, df_hydraulic, df_gearbox = component_df_creation(\n",
    "    signals_df)"
   ]
  },
  {
   "cell_type": "code",
   "execution_count": 7,
   "metadata": {
    "ExecuteTime": {
     "end_time": "2021-02-20T14:28:50.339214Z",
     "start_time": "2021-02-20T14:28:50.335920Z"
    }
   },
   "outputs": [],
   "source": [
    "comp_df_dict = {\n",
    "    'df_generator': df_generator,\n",
    "    'df_hydraulic': df_hydraulic,\n",
    "    'df_gen_bear': df_gen_bear,\n",
    "    'df_transformer': df_transformer,\n",
    "    'df_gearbox': df_gearbox\n",
    "}"
   ]
  },
  {
   "cell_type": "code",
   "execution_count": 8,
   "metadata": {
    "ExecuteTime": {
     "end_time": "2021-02-20T14:28:50.345828Z",
     "start_time": "2021-02-20T14:28:50.341546Z"
    }
   },
   "outputs": [
    {
     "name": "stdout",
     "output_type": "stream",
     "text": [
      "(434145, 45)\n",
      "(434145, 34)\n",
      "(434145, 45)\n",
      "(434145, 36)\n",
      "(434145, 33)\n"
     ]
    }
   ],
   "source": [
    "for key in comp_df_dict:\n",
    "    print(comp_df_dict[key].shape)"
   ]
  },
  {
   "cell_type": "code",
   "execution_count": 9,
   "metadata": {
    "ExecuteTime": {
     "end_time": "2021-02-20T14:28:50.355010Z",
     "start_time": "2021-02-20T14:28:50.348278Z"
    }
   },
   "outputs": [],
   "source": [
    "comp_prep_df_dict = comp_df_dict.copy()"
   ]
  },
  {
   "cell_type": "code",
   "execution_count": 10,
   "metadata": {
    "ExecuteTime": {
     "end_time": "2021-02-20T14:28:54.845922Z",
     "start_time": "2021-02-20T14:28:50.362039Z"
    }
   },
   "outputs": [],
   "source": [
    "component_list = [\n",
    "    'GENERATOR', 'HYDRAULIC_GROUP', 'GENERATOR_BEARING', 'TRANSFORMER',\n",
    "    'GEARBOX'\n",
    "]\n",
    "for i, key in enumerate(comp_prep_df_dict):\n",
    "    comp_prep_df_dict[key] = sig_fail_merge_dfs(sig_df=comp_prep_df_dict[key],\n",
    "                                                fail_df=failures_df,\n",
    "                                                component=component_list[i])"
   ]
  },
  {
   "cell_type": "code",
   "execution_count": 11,
   "metadata": {
    "ExecuteTime": {
     "end_time": "2021-02-20T14:28:54.854883Z",
     "start_time": "2021-02-20T14:28:54.849961Z"
    }
   },
   "outputs": [
    {
     "name": "stdout",
     "output_type": "stream",
     "text": [
      "(434147, 46)\n",
      "(434145, 35)\n",
      "(434145, 46)\n",
      "(434145, 37)\n",
      "(434145, 34)\n"
     ]
    }
   ],
   "source": [
    "for key in comp_prep_df_dict:\n",
    "    print(comp_prep_df_dict[key].shape)"
   ]
  },
  {
   "cell_type": "code",
   "execution_count": 12,
   "metadata": {
    "ExecuteTime": {
     "end_time": "2021-02-20T14:29:03.353159Z",
     "start_time": "2021-02-20T14:28:54.857244Z"
    }
   },
   "outputs": [
    {
     "name": "stderr",
     "output_type": "stream",
     "text": [
      "/Users/miguelamaro/code/miguelamaro4/Final_Project/wmillfailprev/wmillfailprev/b_get_data.py:110: SettingWithCopyWarning: \n",
      "A value is trying to be set on a copy of a slice from a DataFrame.\n",
      "Try using .loc[row_indexer,col_indexer] = value instead\n",
      "\n",
      "See the caveats in the documentation: https://pandas.pydata.org/pandas-docs/stable/user_guide/indexing.html#returning-a-view-versus-a-copy\n",
      "  index['date'] = index['Timestamp']\n",
      "/Users/miguelamaro/code/miguelamaro4/Final_Project/wmillfailprev/wmillfailprev/b_get_data.py:110: SettingWithCopyWarning: \n",
      "A value is trying to be set on a copy of a slice from a DataFrame.\n",
      "Try using .loc[row_indexer,col_indexer] = value instead\n",
      "\n",
      "See the caveats in the documentation: https://pandas.pydata.org/pandas-docs/stable/user_guide/indexing.html#returning-a-view-versus-a-copy\n",
      "  index['date'] = index['Timestamp']\n",
      "/Users/miguelamaro/code/miguelamaro4/Final_Project/wmillfailprev/wmillfailprev/b_get_data.py:120: SettingWithCopyWarning: \n",
      "A value is trying to be set on a copy of a slice from a DataFrame.\n",
      "Try using .loc[row_indexer,col_indexer] = value instead\n",
      "\n",
      "See the caveats in the documentation: https://pandas.pydata.org/pandas-docs/stable/user_guide/indexing.html#returning-a-view-versus-a-copy\n",
      "  df_merged['date'] = df_merged['Timestamp']\n",
      "/Users/miguelamaro/code/miguelamaro4/Final_Project/wmillfailprev/wmillfailprev/b_get_data.py:121: SettingWithCopyWarning: \n",
      "A value is trying to be set on a copy of a slice from a DataFrame.\n",
      "Try using .loc[row_indexer,col_indexer] = value instead\n",
      "\n",
      "See the caveats in the documentation: https://pandas.pydata.org/pandas-docs/stable/user_guide/indexing.html#returning-a-view-versus-a-copy\n",
      "  df_merged['TTF'] = 0 # df_merged['date'] - df_merged['Timestamp']\n",
      "/Users/miguelamaro/code/miguelamaro4/Final_Project/wmillfailprev/wmillfailprev/b_get_data.py:110: SettingWithCopyWarning: \n",
      "A value is trying to be set on a copy of a slice from a DataFrame.\n",
      "Try using .loc[row_indexer,col_indexer] = value instead\n",
      "\n",
      "See the caveats in the documentation: https://pandas.pydata.org/pandas-docs/stable/user_guide/indexing.html#returning-a-view-versus-a-copy\n",
      "  index['date'] = index['Timestamp']\n",
      "/Users/miguelamaro/code/miguelamaro4/Final_Project/wmillfailprev/wmillfailprev/b_get_data.py:110: SettingWithCopyWarning: \n",
      "A value is trying to be set on a copy of a slice from a DataFrame.\n",
      "Try using .loc[row_indexer,col_indexer] = value instead\n",
      "\n",
      "See the caveats in the documentation: https://pandas.pydata.org/pandas-docs/stable/user_guide/indexing.html#returning-a-view-versus-a-copy\n",
      "  index['date'] = index['Timestamp']\n",
      "/Users/miguelamaro/code/miguelamaro4/Final_Project/wmillfailprev/wmillfailprev/b_get_data.py:110: SettingWithCopyWarning: \n",
      "A value is trying to be set on a copy of a slice from a DataFrame.\n",
      "Try using .loc[row_indexer,col_indexer] = value instead\n",
      "\n",
      "See the caveats in the documentation: https://pandas.pydata.org/pandas-docs/stable/user_guide/indexing.html#returning-a-view-versus-a-copy\n",
      "  index['date'] = index['Timestamp']\n",
      "/Users/miguelamaro/code/miguelamaro4/Final_Project/wmillfailprev/wmillfailprev/b_get_data.py:120: SettingWithCopyWarning: \n",
      "A value is trying to be set on a copy of a slice from a DataFrame.\n",
      "Try using .loc[row_indexer,col_indexer] = value instead\n",
      "\n",
      "See the caveats in the documentation: https://pandas.pydata.org/pandas-docs/stable/user_guide/indexing.html#returning-a-view-versus-a-copy\n",
      "  df_merged['date'] = df_merged['Timestamp']\n",
      "/Users/miguelamaro/code/miguelamaro4/Final_Project/wmillfailprev/wmillfailprev/b_get_data.py:121: SettingWithCopyWarning: \n",
      "A value is trying to be set on a copy of a slice from a DataFrame.\n",
      "Try using .loc[row_indexer,col_indexer] = value instead\n",
      "\n",
      "See the caveats in the documentation: https://pandas.pydata.org/pandas-docs/stable/user_guide/indexing.html#returning-a-view-versus-a-copy\n",
      "  df_merged['TTF'] = 0 # df_merged['date'] - df_merged['Timestamp']\n",
      "/Users/miguelamaro/code/miguelamaro4/Final_Project/wmillfailprev/wmillfailprev/b_get_data.py:110: SettingWithCopyWarning: \n",
      "A value is trying to be set on a copy of a slice from a DataFrame.\n",
      "Try using .loc[row_indexer,col_indexer] = value instead\n",
      "\n",
      "See the caveats in the documentation: https://pandas.pydata.org/pandas-docs/stable/user_guide/indexing.html#returning-a-view-versus-a-copy\n",
      "  index['date'] = index['Timestamp']\n",
      "/Users/miguelamaro/code/miguelamaro4/Final_Project/wmillfailprev/wmillfailprev/b_get_data.py:120: SettingWithCopyWarning: \n",
      "A value is trying to be set on a copy of a slice from a DataFrame.\n",
      "Try using .loc[row_indexer,col_indexer] = value instead\n",
      "\n",
      "See the caveats in the documentation: https://pandas.pydata.org/pandas-docs/stable/user_guide/indexing.html#returning-a-view-versus-a-copy\n",
      "  df_merged['date'] = df_merged['Timestamp']\n",
      "/Users/miguelamaro/code/miguelamaro4/Final_Project/wmillfailprev/wmillfailprev/b_get_data.py:121: SettingWithCopyWarning: \n",
      "A value is trying to be set on a copy of a slice from a DataFrame.\n",
      "Try using .loc[row_indexer,col_indexer] = value instead\n",
      "\n",
      "See the caveats in the documentation: https://pandas.pydata.org/pandas-docs/stable/user_guide/indexing.html#returning-a-view-versus-a-copy\n",
      "  df_merged['TTF'] = 0 # df_merged['date'] - df_merged['Timestamp']\n",
      "/Users/miguelamaro/code/miguelamaro4/Final_Project/wmillfailprev/wmillfailprev/b_get_data.py:110: SettingWithCopyWarning: \n",
      "A value is trying to be set on a copy of a slice from a DataFrame.\n",
      "Try using .loc[row_indexer,col_indexer] = value instead\n",
      "\n",
      "See the caveats in the documentation: https://pandas.pydata.org/pandas-docs/stable/user_guide/indexing.html#returning-a-view-versus-a-copy\n",
      "  index['date'] = index['Timestamp']\n",
      "/Users/miguelamaro/code/miguelamaro4/Final_Project/wmillfailprev/wmillfailprev/b_get_data.py:110: SettingWithCopyWarning: \n",
      "A value is trying to be set on a copy of a slice from a DataFrame.\n",
      "Try using .loc[row_indexer,col_indexer] = value instead\n",
      "\n",
      "See the caveats in the documentation: https://pandas.pydata.org/pandas-docs/stable/user_guide/indexing.html#returning-a-view-versus-a-copy\n",
      "  index['date'] = index['Timestamp']\n",
      "/Users/miguelamaro/code/miguelamaro4/Final_Project/wmillfailprev/wmillfailprev/b_get_data.py:120: SettingWithCopyWarning: \n",
      "A value is trying to be set on a copy of a slice from a DataFrame.\n",
      "Try using .loc[row_indexer,col_indexer] = value instead\n",
      "\n",
      "See the caveats in the documentation: https://pandas.pydata.org/pandas-docs/stable/user_guide/indexing.html#returning-a-view-versus-a-copy\n",
      "  df_merged['date'] = df_merged['Timestamp']\n",
      "/Users/miguelamaro/code/miguelamaro4/Final_Project/wmillfailprev/wmillfailprev/b_get_data.py:121: SettingWithCopyWarning: \n",
      "A value is trying to be set on a copy of a slice from a DataFrame.\n",
      "Try using .loc[row_indexer,col_indexer] = value instead\n",
      "\n",
      "See the caveats in the documentation: https://pandas.pydata.org/pandas-docs/stable/user_guide/indexing.html#returning-a-view-versus-a-copy\n",
      "  df_merged['TTF'] = 0 # df_merged['date'] - df_merged['Timestamp']\n",
      "/Users/miguelamaro/code/miguelamaro4/Final_Project/wmillfailprev/wmillfailprev/b_get_data.py:110: SettingWithCopyWarning: \n",
      "A value is trying to be set on a copy of a slice from a DataFrame.\n",
      "Try using .loc[row_indexer,col_indexer] = value instead\n",
      "\n",
      "See the caveats in the documentation: https://pandas.pydata.org/pandas-docs/stable/user_guide/indexing.html#returning-a-view-versus-a-copy\n",
      "  index['date'] = index['Timestamp']\n",
      "/Users/miguelamaro/code/miguelamaro4/Final_Project/wmillfailprev/wmillfailprev/b_get_data.py:120: SettingWithCopyWarning: \n",
      "A value is trying to be set on a copy of a slice from a DataFrame.\n",
      "Try using .loc[row_indexer,col_indexer] = value instead\n",
      "\n",
      "See the caveats in the documentation: https://pandas.pydata.org/pandas-docs/stable/user_guide/indexing.html#returning-a-view-versus-a-copy\n",
      "  df_merged['date'] = df_merged['Timestamp']\n",
      "/Users/miguelamaro/code/miguelamaro4/Final_Project/wmillfailprev/wmillfailprev/b_get_data.py:121: SettingWithCopyWarning: \n",
      "A value is trying to be set on a copy of a slice from a DataFrame.\n",
      "Try using .loc[row_indexer,col_indexer] = value instead\n",
      "\n",
      "See the caveats in the documentation: https://pandas.pydata.org/pandas-docs/stable/user_guide/indexing.html#returning-a-view-versus-a-copy\n",
      "  df_merged['TTF'] = 0 # df_merged['date'] - df_merged['Timestamp']\n"
     ]
    },
    {
     "name": "stderr",
     "output_type": "stream",
     "text": [
      "/Users/miguelamaro/code/miguelamaro4/Final_Project/wmillfailprev/wmillfailprev/b_get_data.py:110: SettingWithCopyWarning: \n",
      "A value is trying to be set on a copy of a slice from a DataFrame.\n",
      "Try using .loc[row_indexer,col_indexer] = value instead\n",
      "\n",
      "See the caveats in the documentation: https://pandas.pydata.org/pandas-docs/stable/user_guide/indexing.html#returning-a-view-versus-a-copy\n",
      "  index['date'] = index['Timestamp']\n",
      "/Users/miguelamaro/code/miguelamaro4/Final_Project/wmillfailprev/wmillfailprev/b_get_data.py:120: SettingWithCopyWarning: \n",
      "A value is trying to be set on a copy of a slice from a DataFrame.\n",
      "Try using .loc[row_indexer,col_indexer] = value instead\n",
      "\n",
      "See the caveats in the documentation: https://pandas.pydata.org/pandas-docs/stable/user_guide/indexing.html#returning-a-view-versus-a-copy\n",
      "  df_merged['date'] = df_merged['Timestamp']\n",
      "/Users/miguelamaro/code/miguelamaro4/Final_Project/wmillfailprev/wmillfailprev/b_get_data.py:121: SettingWithCopyWarning: \n",
      "A value is trying to be set on a copy of a slice from a DataFrame.\n",
      "Try using .loc[row_indexer,col_indexer] = value instead\n",
      "\n",
      "See the caveats in the documentation: https://pandas.pydata.org/pandas-docs/stable/user_guide/indexing.html#returning-a-view-versus-a-copy\n",
      "  df_merged['TTF'] = 0 # df_merged['date'] - df_merged['Timestamp']\n",
      "/Users/miguelamaro/code/miguelamaro4/Final_Project/wmillfailprev/wmillfailprev/b_get_data.py:110: SettingWithCopyWarning: \n",
      "A value is trying to be set on a copy of a slice from a DataFrame.\n",
      "Try using .loc[row_indexer,col_indexer] = value instead\n",
      "\n",
      "See the caveats in the documentation: https://pandas.pydata.org/pandas-docs/stable/user_guide/indexing.html#returning-a-view-versus-a-copy\n",
      "  index['date'] = index['Timestamp']\n",
      "/Users/miguelamaro/code/miguelamaro4/Final_Project/wmillfailprev/wmillfailprev/b_get_data.py:110: SettingWithCopyWarning: \n",
      "A value is trying to be set on a copy of a slice from a DataFrame.\n",
      "Try using .loc[row_indexer,col_indexer] = value instead\n",
      "\n",
      "See the caveats in the documentation: https://pandas.pydata.org/pandas-docs/stable/user_guide/indexing.html#returning-a-view-versus-a-copy\n",
      "  index['date'] = index['Timestamp']\n",
      "/Users/miguelamaro/code/miguelamaro4/Final_Project/wmillfailprev/wmillfailprev/b_get_data.py:120: SettingWithCopyWarning: \n",
      "A value is trying to be set on a copy of a slice from a DataFrame.\n",
      "Try using .loc[row_indexer,col_indexer] = value instead\n",
      "\n",
      "See the caveats in the documentation: https://pandas.pydata.org/pandas-docs/stable/user_guide/indexing.html#returning-a-view-versus-a-copy\n",
      "  df_merged['date'] = df_merged['Timestamp']\n",
      "/Users/miguelamaro/code/miguelamaro4/Final_Project/wmillfailprev/wmillfailprev/b_get_data.py:121: SettingWithCopyWarning: \n",
      "A value is trying to be set on a copy of a slice from a DataFrame.\n",
      "Try using .loc[row_indexer,col_indexer] = value instead\n",
      "\n",
      "See the caveats in the documentation: https://pandas.pydata.org/pandas-docs/stable/user_guide/indexing.html#returning-a-view-versus-a-copy\n",
      "  df_merged['TTF'] = 0 # df_merged['date'] - df_merged['Timestamp']\n"
     ]
    }
   ],
   "source": [
    "turbine_list = ['T11', 'T06', 'T01', 'T09', 'T07']\n",
    "for i, key in enumerate(comp_prep_df_dict):\n",
    "    comp_prep_df_dict[key] = fill_na_by_turbine(comp_prep_df_dict[key],\n",
    "                                                turbine_list)"
   ]
  },
  {
   "cell_type": "code",
   "execution_count": 13,
   "metadata": {
    "ExecuteTime": {
     "end_time": "2021-02-20T14:29:03.363404Z",
     "start_time": "2021-02-20T14:29:03.354953Z"
    }
   },
   "outputs": [
    {
     "name": "stdout",
     "output_type": "stream",
     "text": [
      "(434147, 47)\n",
      "(434145, 36)\n",
      "(434145, 47)\n",
      "(434145, 38)\n",
      "(434145, 35)\n"
     ]
    }
   ],
   "source": [
    "for key in comp_prep_df_dict:\n",
    "    print(comp_prep_df_dict[key].shape)"
   ]
  },
  {
   "cell_type": "code",
   "execution_count": 14,
   "metadata": {
    "ExecuteTime": {
     "end_time": "2021-02-20T14:29:04.401179Z",
     "start_time": "2021-02-20T14:29:03.368521Z"
    }
   },
   "outputs": [
    {
     "name": "stdout",
     "output_type": "stream",
     "text": [
      "0    47\n",
      "dtype: int64 df_generator\n",
      "0    36\n",
      "dtype: int64 df_hydraulic\n",
      "0    47\n",
      "dtype: int64 df_gen_bear\n",
      "0    38\n",
      "dtype: int64 df_transformer\n",
      "0    35\n",
      "dtype: int64 df_gearbox\n"
     ]
    }
   ],
   "source": [
    "for key in comp_prep_df_dict:\n",
    "    print(comp_prep_df_dict[key].isna().sum().value_counts(), key)"
   ]
  },
  {
   "cell_type": "code",
   "execution_count": 15,
   "metadata": {
    "ExecuteTime": {
     "end_time": "2021-02-20T14:29:40.943434Z",
     "start_time": "2021-02-20T14:29:04.404041Z"
    }
   },
   "outputs": [],
   "source": [
    "for key in comp_prep_df_dict:\n",
    "    comp_prep_df_dict[key] = aplic_var_target(comp_prep_df_dict[key], 60)"
   ]
  },
  {
   "cell_type": "code",
   "execution_count": 16,
   "metadata": {
    "ExecuteTime": {
     "end_time": "2021-02-20T14:29:40.951655Z",
     "start_time": "2021-02-20T14:29:40.945534Z"
    }
   },
   "outputs": [
    {
     "name": "stdout",
     "output_type": "stream",
     "text": [
      "(434147, 48) df_generator\n",
      "(434145, 37) df_hydraulic\n",
      "(434145, 48) df_gen_bear\n",
      "(434145, 39) df_transformer\n",
      "(434145, 36) df_gearbox\n"
     ]
    }
   ],
   "source": [
    "for key in comp_prep_df_dict:\n",
    "    print(comp_prep_df_dict[key].shape, key)"
   ]
  },
  {
   "cell_type": "code",
   "execution_count": 17,
   "metadata": {
    "ExecuteTime": {
     "end_time": "2021-02-20T14:29:41.365314Z",
     "start_time": "2021-02-20T14:29:40.955399Z"
    }
   },
   "outputs": [],
   "source": [
    "for i, key in enumerate(comp_prep_df_dict):\n",
    "    comp_prep_df_dict[key] = comp_prep_df_dict[key].drop(\n",
    "        columns=feat_drop_list[i])"
   ]
  },
  {
   "cell_type": "code",
   "execution_count": 18,
   "metadata": {
    "ExecuteTime": {
     "end_time": "2021-02-20T14:29:41.371474Z",
     "start_time": "2021-02-20T14:29:41.367418Z"
    }
   },
   "outputs": [
    {
     "name": "stdout",
     "output_type": "stream",
     "text": [
      "(434147, 31) df_generator\n",
      "(434145, 26) df_hydraulic\n",
      "(434145, 31) df_gen_bear\n",
      "(434145, 28) df_transformer\n",
      "(434145, 26) df_gearbox\n"
     ]
    }
   ],
   "source": [
    "for key in comp_prep_df_dict:\n",
    "    print(comp_prep_df_dict[key].shape, key)"
   ]
  },
  {
   "cell_type": "code",
   "execution_count": 19,
   "metadata": {
    "ExecuteTime": {
     "end_time": "2021-02-20T14:29:43.507953Z",
     "start_time": "2021-02-20T14:29:41.373986Z"
    }
   },
   "outputs": [],
   "source": [
    "for key in comp_prep_df_dict:\n",
    "    comp_prep_df_dict[key] = group_por_frequency(comp_prep_df_dict[key],\n",
    "                                                 period='Dia')"
   ]
  },
  {
   "cell_type": "code",
   "execution_count": 20,
   "metadata": {
    "ExecuteTime": {
     "end_time": "2021-02-20T14:29:43.514679Z",
     "start_time": "2021-02-20T14:29:43.509855Z"
    }
   },
   "outputs": [
    {
     "name": "stdout",
     "output_type": "stream",
     "text": [
      "(3042, 31) df_generator\n",
      "(3041, 19) df_hydraulic\n",
      "(3041, 18) df_gen_bear\n",
      "(3041, 19) df_transformer\n",
      "(3041, 16) df_gearbox\n"
     ]
    }
   ],
   "source": [
    "for key in comp_prep_df_dict:\n",
    "    print(comp_prep_df_dict[key].shape, key)"
   ]
  },
  {
   "cell_type": "code",
   "execution_count": 21,
   "metadata": {
    "ExecuteTime": {
     "end_time": "2021-02-20T14:29:43.524592Z",
     "start_time": "2021-02-20T14:29:43.518157Z"
    }
   },
   "outputs": [],
   "source": [
    "cols = ['Turbine_ID', 'Date', 'TTF', '60_days']"
   ]
  },
  {
   "cell_type": "code",
   "execution_count": 22,
   "metadata": {
    "ExecuteTime": {
     "end_time": "2021-02-20T14:29:43.542226Z",
     "start_time": "2021-02-20T14:29:43.528984Z"
    }
   },
   "outputs": [],
   "source": [
    "def add_features2(df_in, rolling_win_size=15):\n",
    "    \"\"\"Add rolling average and rolling standard deviation for sensors readings using fixed rolling window size.\n",
    "    \"\"\"\n",
    "    cols =['Turbine_ID', 'Date', 'TTF', '60_days']\n",
    "    other_cols = []\n",
    "    for i in df_in.columns:\n",
    "        if i not in cols:\n",
    "            other_cols.append(i)\n",
    "    all_cols = cols + other_cols\n",
    "    \n",
    "    df_in = df_in[all_cols]\n",
    "    \n",
    "    sensor_cols = []\n",
    "    for i in df_in.columns[4:]:\n",
    "        sensor_cols.append(i)\n",
    "\n",
    "    sensor_av_cols = [nm+'_av' for nm in sensor_cols]\n",
    "    sensor_sd_cols = [nm+'_sd' for nm in sensor_cols]\n",
    "\n",
    "    df_out = pd.DataFrame()\n",
    "\n",
    "    ws = rolling_win_size\n",
    "\n",
    "    #calculate rolling stats for each engine id\n",
    "\n",
    "    for m_id in pd.unique(df_in.Turbine_ID):\n",
    "\n",
    "        # get a subset for each engine sensors\n",
    "        df_engine = df_in[df_in['Turbine_ID'] == m_id]\n",
    "        df_sub = df_engine[sensor_cols]\n",
    "\n",
    "        # get rolling mean for the subset\n",
    "        av = df_sub.rolling(ws, min_periods=1).mean()\n",
    "        av.columns = sensor_av_cols\n",
    "\n",
    "        # get the rolling standard deviation for the subset\n",
    "        sd = df_sub.rolling(ws, min_periods=1).std().fillna(0)\n",
    "        sd.columns = sensor_sd_cols\n",
    "\n",
    "        # combine the two new subset dataframes columns to the engine subset\n",
    "        new_ftrs = pd.concat([df_engine,av,sd], axis=1)\n",
    "\n",
    "        # add the new features rows to the output dataframe\n",
    "        df_out = pd.concat([df_out,new_ftrs])\n",
    "    df_out = df_out.sort_values(by=['Turbine_ID', 'Date']   )\n",
    "    return df_out"
   ]
  },
  {
   "cell_type": "code",
   "execution_count": 23,
   "metadata": {
    "ExecuteTime": {
     "end_time": "2021-02-20T14:29:43.895573Z",
     "start_time": "2021-02-20T14:29:43.545337Z"
    }
   },
   "outputs": [],
   "source": [
    "for key in comp_prep_df_dict:\n",
    "    comp_prep_df_dict[key] = add_features2(comp_prep_df_dict[key], rolling_win_size=10)"
   ]
  },
  {
   "cell_type": "code",
   "execution_count": 24,
   "metadata": {
    "ExecuteTime": {
     "end_time": "2021-02-20T14:29:43.907532Z",
     "start_time": "2021-02-20T14:29:43.903514Z"
    }
   },
   "outputs": [
    {
     "name": "stdout",
     "output_type": "stream",
     "text": [
      "(3042, 85) df_generator\n",
      "(3041, 49) df_hydraulic\n",
      "(3041, 46) df_gen_bear\n",
      "(3041, 49) df_transformer\n",
      "(3041, 40) df_gearbox\n"
     ]
    }
   ],
   "source": [
    "for key in comp_prep_df_dict:\n",
    "    print(comp_prep_df_dict[key].shape, key)"
   ]
  },
  {
   "cell_type": "code",
   "execution_count": 65,
   "metadata": {
    "ExecuteTime": {
     "end_time": "2021-02-20T16:00:35.990154Z",
     "start_time": "2021-02-20T16:00:35.943210Z"
    }
   },
   "outputs": [],
   "source": [
    "df_train_comp_dict = {}\n",
    "df_test_comp_dict = {}\n",
    "for key in comp_prep_df_dict:\n",
    "    df_train_comp_dict[key] = prepare_train_df(comp_prep_df_dict[key], meses = 3)\n",
    "    df_test_comp_dict[key] = prepare_test_df(comp_prep_df_dict[key], meses = 3)"
   ]
  },
  {
   "cell_type": "code",
   "execution_count": 66,
   "metadata": {
    "ExecuteTime": {
     "end_time": "2021-02-20T16:00:36.520065Z",
     "start_time": "2021-02-20T16:00:36.511708Z"
    }
   },
   "outputs": [
    {
     "name": "stdout",
     "output_type": "stream",
     "text": [
      "(2577, 85) df_generator\n",
      "(2576, 49) df_hydraulic\n",
      "(2576, 46) df_gen_bear\n",
      "(2576, 49) df_transformer\n",
      "(2576, 40) df_gearbox\n",
      "(465, 85) df_generator\n",
      "(465, 49) df_hydraulic\n",
      "(465, 46) df_gen_bear\n",
      "(465, 49) df_transformer\n",
      "(465, 40) df_gearbox\n"
     ]
    }
   ],
   "source": [
    "for key in df_train_comp_dict:\n",
    "    print(df_train_comp_dict[key].shape, key)\n",
    "for key in df_test_comp_dict:\n",
    "    print(df_test_comp_dict[key].shape, key)"
   ]
  },
  {
   "cell_type": "code",
   "execution_count": null,
   "metadata": {
    "ExecuteTime": {
     "end_time": "2021-02-20T13:04:21.908587Z",
     "start_time": "2021-02-20T13:04:21.877598Z"
    }
   },
   "outputs": [],
   "source": []
  },
  {
   "cell_type": "code",
   "execution_count": 67,
   "metadata": {
    "ExecuteTime": {
     "end_time": "2021-02-20T16:00:37.054727Z",
     "start_time": "2021-02-20T16:00:37.047546Z"
    }
   },
   "outputs": [
    {
     "name": "stdout",
     "output_type": "stream",
     "text": [
      "(2577, 85) df_generator\n",
      "(2576, 49) df_hydraulic\n",
      "(2576, 46) df_gen_bear\n",
      "(2576, 49) df_transformer\n",
      "(2576, 40) df_gearbox\n",
      "(465, 85) df_generator\n",
      "(465, 49) df_hydraulic\n",
      "(465, 46) df_gen_bear\n",
      "(465, 49) df_transformer\n",
      "(465, 40) df_gearbox\n"
     ]
    }
   ],
   "source": [
    "for key in df_train_comp_dict:\n",
    "    print(df_train_comp_dict[key].shape, key)\n",
    "for key in df_test_comp_dict:\n",
    "    print(df_test_comp_dict[key].shape, key)"
   ]
  },
  {
   "cell_type": "code",
   "execution_count": 68,
   "metadata": {
    "ExecuteTime": {
     "end_time": "2021-02-20T16:00:37.455489Z",
     "start_time": "2021-02-20T16:00:37.446785Z"
    }
   },
   "outputs": [
    {
     "name": "stdout",
     "output_type": "stream",
     "text": [
      "012 - separar entre x_train, x_test\n"
     ]
    }
   ],
   "source": [
    "print('012 - separar entre x_train, x_test')\n",
    "x_train = df_train_comp_dict.copy()\n",
    "y_train = df_train_comp_dict.copy()\n",
    "x_test = df_test_comp_dict.copy()\n",
    "y_test = df_test_comp_dict.copy()"
   ]
  },
  {
   "cell_type": "code",
   "execution_count": 69,
   "metadata": {
    "ExecuteTime": {
     "end_time": "2021-02-20T16:00:37.860102Z",
     "start_time": "2021-02-20T16:00:37.835007Z"
    }
   },
   "outputs": [
    {
     "name": "stdout",
     "output_type": "stream",
     "text": [
      "xxx - transformar o y de float para int\n"
     ]
    }
   ],
   "source": [
    "print('xxx - transformar o y de float para int')\n",
    "col_to_mantain_test = ['60_days']\n",
    "for key in y_train:\n",
    "    y_train[key] = y_train[key][col_to_mantain_test].to_numpy().astype(int)[:,0]\n",
    "    y_test[key] = y_test[key][col_to_mantain_test].to_numpy().astype(int)[:,0]"
   ]
  },
  {
   "cell_type": "code",
   "execution_count": 70,
   "metadata": {
    "ExecuteTime": {
     "end_time": "2021-02-20T16:00:38.339097Z",
     "start_time": "2021-02-20T16:00:38.326184Z"
    }
   },
   "outputs": [
    {
     "name": "stdout",
     "output_type": "stream",
     "text": [
      "(2577, 85) df_generator\n",
      "(2576, 49) df_hydraulic\n",
      "(2576, 46) df_gen_bear\n",
      "(2576, 49) df_transformer\n",
      "(2576, 40) df_gearbox\n",
      "(2577,) df_generator\n",
      "(2576,) df_hydraulic\n",
      "(2576,) df_gen_bear\n",
      "(2576,) df_transformer\n",
      "(2576,) df_gearbox\n",
      "(465, 85) df_generator\n",
      "(465, 49) df_hydraulic\n",
      "(465, 46) df_gen_bear\n",
      "(465, 49) df_transformer\n",
      "(465, 40) df_gearbox\n",
      "(465,) df_generator\n",
      "(465,) df_hydraulic\n",
      "(465,) df_gen_bear\n",
      "(465,) df_transformer\n",
      "(465,) df_gearbox\n"
     ]
    }
   ],
   "source": [
    "for key in x_train:\n",
    "    print(x_train[key].shape, key)\n",
    "for key in y_train:\n",
    "    print(y_train[key].shape, key)\n",
    "for key in x_test:\n",
    "    print(x_test[key].shape, key)\n",
    "for key in y_test:\n",
    "    print(y_test[key].shape, key)"
   ]
  },
  {
   "cell_type": "code",
   "execution_count": 71,
   "metadata": {
    "ExecuteTime": {
     "end_time": "2021-02-20T16:00:38.814385Z",
     "start_time": "2021-02-20T16:00:38.772768Z"
    }
   },
   "outputs": [
    {
     "name": "stdout",
     "output_type": "stream",
     "text": [
      "012 - separar entre x_train, x_test\n"
     ]
    }
   ],
   "source": [
    "print('012 - separar entre x_train, x_test')\n",
    "# retirar as colunas que não devem entrar no x\n",
    "cols_to_drop_train = ['Date', 'TTF', '60_days','Component','Component_av','Component_sd']\n",
    "for key in x_train:\n",
    "    x_train[key] = x_train[key].drop(columns=cols_to_drop_train)\n",
    "    x_test[key] = x_test[key].drop(columns=cols_to_drop_train)"
   ]
  },
  {
   "cell_type": "code",
   "execution_count": 72,
   "metadata": {
    "ExecuteTime": {
     "end_time": "2021-02-20T16:00:39.358479Z",
     "start_time": "2021-02-20T16:00:39.351032Z"
    }
   },
   "outputs": [
    {
     "name": "stdout",
     "output_type": "stream",
     "text": [
      "(2577, 79) df_generator\n",
      "(2576, 43) df_hydraulic\n",
      "(2576, 40) df_gen_bear\n",
      "(2576, 43) df_transformer\n",
      "(2576, 34) df_gearbox\n",
      "(465, 79) df_generator\n",
      "(465, 43) df_hydraulic\n",
      "(465, 40) df_gen_bear\n",
      "(465, 43) df_transformer\n",
      "(465, 34) df_gearbox\n"
     ]
    }
   ],
   "source": [
    "for key in x_train:\n",
    "    print(x_train[key].shape, key)\n",
    "for key in x_test:\n",
    "    print(x_test[key].shape, key)"
   ]
  },
  {
   "cell_type": "code",
   "execution_count": 73,
   "metadata": {
    "ExecuteTime": {
     "end_time": "2021-02-20T16:00:40.020397Z",
     "start_time": "2021-02-20T16:00:40.007083Z"
    }
   },
   "outputs": [
    {
     "data": {
      "text/plain": [
       "0.801278546982223"
      ]
     },
     "execution_count": 73,
     "metadata": {},
     "output_type": "execute_result"
    }
   ],
   "source": [
    "x_train['df_generator'][x_train['df_generator']['Turbine_ID']=='T01']['Blds_PitchAngle_Std'].std()"
   ]
  },
  {
   "cell_type": "code",
   "execution_count": 74,
   "metadata": {
    "ExecuteTime": {
     "end_time": "2021-02-20T16:00:42.973645Z",
     "start_time": "2021-02-20T16:00:42.886416Z"
    }
   },
   "outputs": [
    {
     "name": "stdout",
     "output_type": "stream",
     "text": [
      "014 - fazer o fit do CustomTransfMiguel para cada componente à pedreiro\n",
      "014.1 - df_generator\n",
      "014.2 - df_hydraulic\n",
      "014.3 - df_gen_bear\n",
      "014.4 - df_transformer\n",
      "014.5 - df_gearbox\n"
     ]
    },
    {
     "data": {
      "text/plain": [
       "CustomStandardScaler()"
      ]
     },
     "execution_count": 74,
     "metadata": {},
     "output_type": "execute_result"
    }
   ],
   "source": [
    "print('014 - fazer o fit do CustomTransfMiguel para cada componente à pedreiro')\n",
    "print('014.1 - df_generator')\n",
    "scaler_df_generator = Cscl()\n",
    "scaler_df_generator.fit(x_train['df_generator'])\n",
    "# joblib.dump(scaler_df_generator, 'scaler_df_generator.joblib')\n",
    "print('014.2 - df_hydraulic')\n",
    "scaler_df_hydraulic = Cscl()\n",
    "scaler_df_hydraulic.fit(x_train['df_hydraulic'])\n",
    "# joblib.dump(scaler_df_hydraulic, 'scaler_df_hydraulic.joblib')\n",
    "print('014.3 - df_gen_bear')\n",
    "scaler_df_gen_bear = Cscl()\n",
    "scaler_df_gen_bear.fit(x_train['df_gen_bear'])\n",
    "# joblib.dump(scaler_df_gen_bear, 'scaler_df_gen_bear.joblib')\n",
    "print('014.4 - df_transformer')\n",
    "scaler_df_transformer = Cscl()\n",
    "scaler_df_transformer.fit(x_train['df_transformer'])\n",
    "# joblib.dump(scaler_df_transformer, 'scaler_df_transformer.joblib')\n",
    "print('014.5 - df_gearbox')\n",
    "scaler_df_gearbox = Cscl()\n",
    "scaler_df_gearbox.fit(x_train['df_gearbox'])\n",
    "# joblib.dump(scaler_df_gearbox, 'scaler_df_gearbox.joblib')"
   ]
  },
  {
   "cell_type": "markdown",
   "metadata": {
    "ExecuteTime": {
     "end_time": "2021-02-20T13:46:44.626479Z",
     "start_time": "2021-02-20T13:46:44.611988Z"
    }
   },
   "source": [
    "x_train['df_generator'].columns[9]"
   ]
  },
  {
   "cell_type": "markdown",
   "metadata": {
    "ExecuteTime": {
     "end_time": "2021-02-20T13:34:23.813742Z",
     "start_time": "2021-02-20T13:34:23.798780Z"
    }
   },
   "source": [
    "x_train['df_generator']['Blds_PitchAngle_Std'].isna().sum()"
   ]
  },
  {
   "cell_type": "code",
   "execution_count": 75,
   "metadata": {
    "ExecuteTime": {
     "end_time": "2021-02-20T16:00:44.949927Z",
     "start_time": "2021-02-20T16:00:44.938098Z"
    }
   },
   "outputs": [
    {
     "data": {
      "text/plain": [
       "Index(['Turbine_ID', 'Gen_RPM_Avg', 'Gen_RPM_Std', 'Gen_Bear_Temp_Avg', 'Gen_Phase2_Temp_Avg', 'Prod_LatestAvg_ActPwrGen0', 'Prod_LatestAvg_ActPwrGen1', 'Prod_LatestAvg_ReactPwrGen0',\n",
       "       'Gen_SlipRing_Temp_Avg', 'Gen_Bear2_Temp_Avg', 'Grd_RtrInvPhase2_Temp_Avg', 'Amb_WindSpeed_Max', 'Amb_WindSpeed_Min', 'Amb_WindSpeed_Avg', 'Amb_WindSpeed_Std', 'Amb_WindDir_Relative_Avg',\n",
       "       'Amb_WindDir_Abs_Avg', 'Amb_Temp_Avg', 'Blds_PitchAngle_Avg', 'Blds_PitchAngle_Std', 'Cont_Top_Temp_Avg', 'Cont_VCP_ChokcoilTemp_Avg', 'Cont_VCP_WtrTemp_Avg', 'Nac_Temp_Avg',\n",
       "       'Nac_Direction_Avg', 'Grd_Busbar_Temp_Avg', 'Hyd_Oil_Temp_Avg', 'Gen_RPM_Avg_av', 'Gen_RPM_Std_av', 'Gen_Bear_Temp_Avg_av', 'Gen_Phase2_Temp_Avg_av', 'Prod_LatestAvg_ActPwrGen0_av',\n",
       "       'Prod_LatestAvg_ActPwrGen1_av', 'Prod_LatestAvg_ReactPwrGen0_av', 'Gen_SlipRing_Temp_Avg_av', 'Gen_Bear2_Temp_Avg_av', 'Grd_RtrInvPhase2_Temp_Avg_av', 'Amb_WindSpeed_Max_av',\n",
       "       'Amb_WindSpeed_Min_av', 'Amb_WindSpeed_Avg_av', 'Amb_WindSpeed_Std_av', 'Amb_WindDir_Relative_Avg_av', 'Amb_WindDir_Abs_Avg_av', 'Amb_Temp_Avg_av', 'Blds_PitchAngle_Avg_av',\n",
       "       'Blds_PitchAngle_Std_av', 'Cont_Top_Temp_Avg_av', 'Cont_VCP_ChokcoilTemp_Avg_av', 'Cont_VCP_WtrTemp_Avg_av', 'Nac_Temp_Avg_av', 'Nac_Direction_Avg_av', 'Grd_Busbar_Temp_Avg_av',\n",
       "       'Hyd_Oil_Temp_Avg_av', 'Gen_RPM_Avg_sd', 'Gen_RPM_Std_sd', 'Gen_Bear_Temp_Avg_sd', 'Gen_Phase2_Temp_Avg_sd', 'Prod_LatestAvg_ActPwrGen0_sd', 'Prod_LatestAvg_ActPwrGen1_sd',\n",
       "       'Prod_LatestAvg_ReactPwrGen0_sd', 'Gen_SlipRing_Temp_Avg_sd', 'Gen_Bear2_Temp_Avg_sd', 'Grd_RtrInvPhase2_Temp_Avg_sd', 'Amb_WindSpeed_Max_sd', 'Amb_WindSpeed_Min_sd', 'Amb_WindSpeed_Avg_sd',\n",
       "       'Amb_WindSpeed_Std_sd', 'Amb_WindDir_Relative_Avg_sd', 'Amb_WindDir_Abs_Avg_sd', 'Amb_Temp_Avg_sd', 'Blds_PitchAngle_Avg_sd', 'Blds_PitchAngle_Std_sd', 'Cont_Top_Temp_Avg_sd',\n",
       "       'Cont_VCP_ChokcoilTemp_Avg_sd', 'Cont_VCP_WtrTemp_Avg_sd', 'Nac_Temp_Avg_sd', 'Nac_Direction_Avg_sd', 'Grd_Busbar_Temp_Avg_sd', 'Hyd_Oil_Temp_Avg_sd'],\n",
       "      dtype='object')"
      ]
     },
     "execution_count": 75,
     "metadata": {},
     "output_type": "execute_result"
    }
   ],
   "source": [
    "x_train['df_generator'].columns"
   ]
  },
  {
   "cell_type": "code",
   "execution_count": 77,
   "metadata": {
    "ExecuteTime": {
     "end_time": "2021-02-20T16:00:53.500085Z",
     "start_time": "2021-02-20T16:00:53.457129Z"
    }
   },
   "outputs": [
    {
     "data": {
      "text/html": [
       "<div>\n",
       "<style scoped>\n",
       "    .dataframe tbody tr th:only-of-type {\n",
       "        vertical-align: middle;\n",
       "    }\n",
       "\n",
       "    .dataframe tbody tr th {\n",
       "        vertical-align: top;\n",
       "    }\n",
       "\n",
       "    .dataframe thead th {\n",
       "        text-align: right;\n",
       "    }\n",
       "</style>\n",
       "<table border=\"1\" class=\"dataframe\">\n",
       "  <thead>\n",
       "    <tr style=\"text-align: right;\">\n",
       "      <th></th>\n",
       "      <th>Turbine_ID</th>\n",
       "      <th>Gen_RPM_Avg</th>\n",
       "      <th>Gen_RPM_Std</th>\n",
       "      <th>Gen_Bear_Temp_Avg</th>\n",
       "      <th>Gen_Phase2_Temp_Avg</th>\n",
       "      <th>Prod_LatestAvg_ActPwrGen0</th>\n",
       "      <th>Prod_LatestAvg_ActPwrGen1</th>\n",
       "      <th>Prod_LatestAvg_ReactPwrGen0</th>\n",
       "      <th>Gen_SlipRing_Temp_Avg</th>\n",
       "      <th>Gen_Bear2_Temp_Avg</th>\n",
       "      <th>...</th>\n",
       "      <th>Amb_Temp_Avg_sd</th>\n",
       "      <th>Blds_PitchAngle_Avg_sd</th>\n",
       "      <th>Blds_PitchAngle_Std_sd</th>\n",
       "      <th>Cont_Top_Temp_Avg_sd</th>\n",
       "      <th>Cont_VCP_ChokcoilTemp_Avg_sd</th>\n",
       "      <th>Cont_VCP_WtrTemp_Avg_sd</th>\n",
       "      <th>Nac_Temp_Avg_sd</th>\n",
       "      <th>Nac_Direction_Avg_sd</th>\n",
       "      <th>Grd_Busbar_Temp_Avg_sd</th>\n",
       "      <th>Hyd_Oil_Temp_Avg_sd</th>\n",
       "    </tr>\n",
       "  </thead>\n",
       "  <tbody>\n",
       "    <tr>\n",
       "      <th>2944</th>\n",
       "      <td>T11</td>\n",
       "      <td>736.902778</td>\n",
       "      <td>75.672222</td>\n",
       "      <td>41.583333</td>\n",
       "      <td>46.652778</td>\n",
       "      <td>-429.750000</td>\n",
       "      <td>38042.041667</td>\n",
       "      <td>-397.395833</td>\n",
       "      <td>28.347222</td>\n",
       "      <td>35.430556</td>\n",
       "      <td>...</td>\n",
       "      <td>0.792944</td>\n",
       "      <td>5.576829</td>\n",
       "      <td>0.855285</td>\n",
       "      <td>4.448392</td>\n",
       "      <td>24.787123</td>\n",
       "      <td>3.341270</td>\n",
       "      <td>1.929151</td>\n",
       "      <td>49.152803</td>\n",
       "      <td>6.565248</td>\n",
       "      <td>6.511922</td>\n",
       "    </tr>\n",
       "    <tr>\n",
       "      <th>2945</th>\n",
       "      <td>T11</td>\n",
       "      <td>1074.609028</td>\n",
       "      <td>78.825694</td>\n",
       "      <td>48.145833</td>\n",
       "      <td>55.062500</td>\n",
       "      <td>-366.583333</td>\n",
       "      <td>36732.888889</td>\n",
       "      <td>-358.569444</td>\n",
       "      <td>28.638889</td>\n",
       "      <td>37.777778</td>\n",
       "      <td>...</td>\n",
       "      <td>0.757087</td>\n",
       "      <td>5.474136</td>\n",
       "      <td>0.780862</td>\n",
       "      <td>4.473815</td>\n",
       "      <td>24.921303</td>\n",
       "      <td>3.382057</td>\n",
       "      <td>1.935353</td>\n",
       "      <td>41.116348</td>\n",
       "      <td>6.597261</td>\n",
       "      <td>6.420388</td>\n",
       "    </tr>\n",
       "    <tr>\n",
       "      <th>2946</th>\n",
       "      <td>T11</td>\n",
       "      <td>1055.833333</td>\n",
       "      <td>73.314583</td>\n",
       "      <td>42.270833</td>\n",
       "      <td>55.222222</td>\n",
       "      <td>-326.173611</td>\n",
       "      <td>26352.833333</td>\n",
       "      <td>-340.187500</td>\n",
       "      <td>27.555556</td>\n",
       "      <td>36.750000</td>\n",
       "      <td>...</td>\n",
       "      <td>0.882564</td>\n",
       "      <td>5.503111</td>\n",
       "      <td>0.779894</td>\n",
       "      <td>4.472685</td>\n",
       "      <td>24.674543</td>\n",
       "      <td>3.341645</td>\n",
       "      <td>2.017797</td>\n",
       "      <td>53.292026</td>\n",
       "      <td>6.558152</td>\n",
       "      <td>6.591841</td>\n",
       "    </tr>\n",
       "    <tr>\n",
       "      <th>2947</th>\n",
       "      <td>T11</td>\n",
       "      <td>856.822917</td>\n",
       "      <td>77.147917</td>\n",
       "      <td>41.243056</td>\n",
       "      <td>51.465278</td>\n",
       "      <td>-574.263889</td>\n",
       "      <td>19875.548611</td>\n",
       "      <td>-655.173611</td>\n",
       "      <td>27.930556</td>\n",
       "      <td>36.020833</td>\n",
       "      <td>...</td>\n",
       "      <td>0.868627</td>\n",
       "      <td>5.374963</td>\n",
       "      <td>0.778958</td>\n",
       "      <td>4.444650</td>\n",
       "      <td>23.762752</td>\n",
       "      <td>3.260856</td>\n",
       "      <td>2.106135</td>\n",
       "      <td>59.387293</td>\n",
       "      <td>6.342728</td>\n",
       "      <td>6.763157</td>\n",
       "    </tr>\n",
       "    <tr>\n",
       "      <th>2948</th>\n",
       "      <td>T11</td>\n",
       "      <td>1520.355556</td>\n",
       "      <td>53.554167</td>\n",
       "      <td>66.020833</td>\n",
       "      <td>82.451389</td>\n",
       "      <td>-55.048611</td>\n",
       "      <td>174227.430556</td>\n",
       "      <td>-80.236111</td>\n",
       "      <td>36.743056</td>\n",
       "      <td>53.708333</td>\n",
       "      <td>...</td>\n",
       "      <td>0.886096</td>\n",
       "      <td>5.712690</td>\n",
       "      <td>0.687436</td>\n",
       "      <td>3.687723</td>\n",
       "      <td>20.784595</td>\n",
       "      <td>2.920003</td>\n",
       "      <td>1.776151</td>\n",
       "      <td>60.896827</td>\n",
       "      <td>5.065998</td>\n",
       "      <td>5.285825</td>\n",
       "    </tr>\n",
       "  </tbody>\n",
       "</table>\n",
       "<p>5 rows × 79 columns</p>\n",
       "</div>"
      ],
      "text/plain": [
       "     Turbine_ID  Gen_RPM_Avg  Gen_RPM_Std  Gen_Bear_Temp_Avg  Gen_Phase2_Temp_Avg  Prod_LatestAvg_ActPwrGen0  Prod_LatestAvg_ActPwrGen1  Prod_LatestAvg_ReactPwrGen0  Gen_SlipRing_Temp_Avg  \\\n",
       "2944        T11   736.902778    75.672222          41.583333            46.652778                -429.750000               38042.041667                  -397.395833              28.347222   \n",
       "2945        T11  1074.609028    78.825694          48.145833            55.062500                -366.583333               36732.888889                  -358.569444              28.638889   \n",
       "2946        T11  1055.833333    73.314583          42.270833            55.222222                -326.173611               26352.833333                  -340.187500              27.555556   \n",
       "2947        T11   856.822917    77.147917          41.243056            51.465278                -574.263889               19875.548611                  -655.173611              27.930556   \n",
       "2948        T11  1520.355556    53.554167          66.020833            82.451389                 -55.048611              174227.430556                   -80.236111              36.743056   \n",
       "\n",
       "      Gen_Bear2_Temp_Avg  ...  Amb_Temp_Avg_sd  Blds_PitchAngle_Avg_sd  Blds_PitchAngle_Std_sd  Cont_Top_Temp_Avg_sd  Cont_VCP_ChokcoilTemp_Avg_sd  Cont_VCP_WtrTemp_Avg_sd  Nac_Temp_Avg_sd  \\\n",
       "2944           35.430556  ...         0.792944                5.576829                0.855285              4.448392                     24.787123                 3.341270         1.929151   \n",
       "2945           37.777778  ...         0.757087                5.474136                0.780862              4.473815                     24.921303                 3.382057         1.935353   \n",
       "2946           36.750000  ...         0.882564                5.503111                0.779894              4.472685                     24.674543                 3.341645         2.017797   \n",
       "2947           36.020833  ...         0.868627                5.374963                0.778958              4.444650                     23.762752                 3.260856         2.106135   \n",
       "2948           53.708333  ...         0.886096                5.712690                0.687436              3.687723                     20.784595                 2.920003         1.776151   \n",
       "\n",
       "      Nac_Direction_Avg_sd  Grd_Busbar_Temp_Avg_sd  Hyd_Oil_Temp_Avg_sd  \n",
       "2944             49.152803                6.565248             6.511922  \n",
       "2945             41.116348                6.597261             6.420388  \n",
       "2946             53.292026                6.558152             6.591841  \n",
       "2947             59.387293                6.342728             6.763157  \n",
       "2948             60.896827                5.065998             5.285825  \n",
       "\n",
       "[5 rows x 79 columns]"
      ]
     },
     "execution_count": 77,
     "metadata": {},
     "output_type": "execute_result"
    }
   ],
   "source": [
    "x_train['df_generator'][x_train['df_generator']['Turbine_ID']=='T11'].tail()"
   ]
  },
  {
   "cell_type": "code",
   "execution_count": 78,
   "metadata": {
    "ExecuteTime": {
     "end_time": "2021-02-20T16:00:59.131942Z",
     "start_time": "2021-02-20T16:00:59.124088Z"
    }
   },
   "outputs": [
    {
     "data": {
      "text/plain": [
       "array([ 1.12805845e+03,  6.93712130e+01,  4.73977556e+01,  6.31287677e+01,\n",
       "       -2.91951271e+02,  9.50649182e+04, -1.80151076e+02,  2.94872432e+01,\n",
       "        4.16225137e+01,  3.99359172e+01,  1.34219658e+01,  1.52780732e+00,\n",
       "        6.06483790e+00,  1.23993700e+00,  3.86405758e-01,  1.82192790e+02,\n",
       "        1.90459900e+01,  6.55460444e+00,  1.74658945e+00,  3.98308083e+01,\n",
       "        7.84958025e+01,  3.73283006e+01,  2.80134676e+01,  1.87042206e+02,\n",
       "        3.77941695e+01,  3.34715502e+01,  1.12820458e+03,  6.92545188e+01,\n",
       "        4.73405656e+01,  6.31071943e+01, -2.91175832e+02,  9.52027971e+04,\n",
       "       -1.78490375e+02,  2.94483226e+01,  4.15973000e+01,  3.99267679e+01,\n",
       "        1.34264096e+01,  1.52623315e+00,  6.06637633e+00,  1.24043875e+00,\n",
       "        4.27455524e-01,  1.82606954e+02,  1.90033654e+01,  6.55032205e+00,\n",
       "        1.74101968e+00,  3.98131660e+01,  7.84895576e+01,  3.73139654e+01,\n",
       "        2.79853129e+01,  1.87503793e+02,  3.77729608e+01,  3.34307963e+01,\n",
       "        3.60896310e+02,  2.16403474e+01,  1.02097312e+01,  1.61233312e+01,\n",
       "        2.25236726e+02,  7.54537534e+04,  1.45964427e+02,  4.47112806e+00,\n",
       "        7.13628540e+00,  3.62669138e+00,  4.57954625e+00,  5.45725896e-01,\n",
       "        2.33341273e+00,  4.83782136e-01,  5.17350206e+00,  5.93656451e+01,\n",
       "        1.56982259e+00,  6.68473232e+00,  7.52471485e-01,  2.85780707e+00,\n",
       "        1.74606937e+01,  2.62351610e+00,  1.82664914e+00,  6.39471791e+01,\n",
       "        4.10424937e+00,  4.13104575e+00])"
      ]
     },
     "execution_count": 78,
     "metadata": {},
     "output_type": "execute_result"
    }
   ],
   "source": [
    "scaler_df_generator.mean_['T11']"
   ]
  },
  {
   "cell_type": "code",
   "execution_count": 79,
   "metadata": {
    "ExecuteTime": {
     "end_time": "2021-02-20T16:01:01.784286Z",
     "start_time": "2021-02-20T16:01:01.773254Z"
    }
   },
   "outputs": [
    {
     "data": {
      "text/plain": [
       "array([4.01775838e+02, 2.33755017e+01, 1.21939377e+01, 1.91487855e+01,\n",
       "       2.51051818e+02, 8.77971916e+04, 1.68043124e+02, 7.03443114e+00,\n",
       "       8.84986339e+00, 4.67712969e+00, 5.23330304e+00, 6.54551795e-01,\n",
       "       2.71914260e+00, 5.76405409e-01, 6.27907823e+00, 7.12822465e+01,\n",
       "       4.72323694e+00, 7.82956438e+00, 8.32997634e-01, 4.43259897e+00,\n",
       "       1.99458744e+01, 3.86203940e+00, 4.18697985e+00, 7.66568889e+01,\n",
       "       5.65793940e+00, 6.65616600e+00, 1.95256333e+02, 9.01351199e+00,\n",
       "       6.85250115e+00, 1.04096299e+01, 1.15365394e+02, 4.41412390e+04,\n",
       "       7.35881420e+01, 5.43384557e+00, 5.37603504e+00, 3.02592763e+00,\n",
       "       2.54492285e+00, 3.65169377e-01, 1.37828194e+00, 2.84621734e-01,\n",
       "       2.13863368e+00, 3.97844522e+01, 4.42549590e+00, 3.48849596e+00,\n",
       "       3.74076742e-01, 3.42025409e+00, 1.03964614e+01, 2.88453649e+00,\n",
       "       3.76061315e+00, 4.25935969e+01, 3.96320858e+00, 5.02042883e+00,\n",
       "       8.41074420e+01, 6.95981068e+00, 2.93860329e+00, 5.16154616e+00,\n",
       "       6.70390695e+01, 2.64081708e+04, 5.89349607e+01, 1.48202205e+00,\n",
       "       1.87029493e+00, 1.00258939e+00, 1.49754409e+00, 1.67177220e-01,\n",
       "       8.05227910e-01, 2.11959091e-01, 3.55039554e+00, 1.86584378e+01,\n",
       "       7.24271301e-01, 3.18586868e+00, 2.24539376e-01, 8.12781878e-01,\n",
       "       4.20625018e+00, 6.93203429e-01, 6.76778295e-01, 2.02479785e+01,\n",
       "       1.14163152e+00, 2.04732283e+00])"
      ]
     },
     "execution_count": 79,
     "metadata": {},
     "output_type": "execute_result"
    }
   ],
   "source": [
    "scaler_df_generator.std_['T11']"
   ]
  },
  {
   "cell_type": "code",
   "execution_count": 45,
   "metadata": {
    "ExecuteTime": {
     "end_time": "2021-02-20T14:07:35.638739Z",
     "start_time": "2021-02-20T14:07:35.596792Z"
    }
   },
   "outputs": [
    {
     "name": "stdout",
     "output_type": "stream",
     "text": [
      "012.1 - considerar no y set apenas as turbinas que tiveram falhas\n"
     ]
    }
   ],
   "source": [
    "print('012.1 - considerar no y set apenas as turbinas que tiveram falhas')\n",
    "train_turbines = {\n",
    "    'df_generator': ['T11', 'T06'],\n",
    "    'df_hydraulic': ['T06', 'T11'],\n",
    "    'df_gen_bear': ['T07', 'T09'],\n",
    "    'df_transformer': ['T07'],\n",
    "    'df_gearbox': ['T09']\n",
    "}\n",
    "for key in df_train_comp_dict:\n",
    "    df_train_comp_dict[key] = df_train_comp_dict[key][\n",
    "        df_train_comp_dict[key]['Turbine_ID'].isin(train_turbines[key])]"
   ]
  },
  {
   "cell_type": "markdown",
   "metadata": {
    "ExecuteTime": {
     "end_time": "2021-02-20T13:34:27.053396Z",
     "start_time": "2021-02-20T13:34:27.041429Z"
    }
   },
   "source": [
    "x_train1 = {}\n",
    "x_test1 = {}"
   ]
  },
  {
   "cell_type": "code",
   "execution_count": null,
   "metadata": {},
   "outputs": [],
   "source": []
  },
  {
   "cell_type": "code",
   "execution_count": null,
   "metadata": {},
   "outputs": [],
   "source": []
  },
  {
   "cell_type": "markdown",
   "metadata": {
    "ExecuteTime": {
     "end_time": "2021-02-20T14:09:48.433633Z",
     "start_time": "2021-02-20T14:09:48.426652Z"
    }
   },
   "source": [
    "def fit2(X, y=None):\n",
    "    mean_ = {}\n",
    "    std_ = {}\n",
    "\n",
    "    for turbine in ['T01','T06','T07','T09','T11']:\n",
    "        X_filter = X[X['Turbine_ID']==turbine]\n",
    "        X_filter = X_filter.drop(columns='Turbine_ID').to_numpy()\n",
    "        mean_[turbine] = X_filter.mean(axis=0)\n",
    "        std_[turbine] = X_filter.std(axis=0)\n",
    "\n",
    "    return mean_,std_"
   ]
  },
  {
   "cell_type": "markdown",
   "metadata": {
    "ExecuteTime": {
     "end_time": "2021-02-20T14:09:52.361758Z",
     "start_time": "2021-02-20T14:09:52.345281Z"
    }
   },
   "source": [
    "def transform2(X, y=None):\n",
    "    X_turbine={}\n",
    "\n",
    "    for turbine in ['T01','T06','T07','T09','T11']:\n",
    "        if std_[turbine] == 0:\n",
    "            X_turbine[turbine] = (X[X['Turbine_ID']==turbine].drop(columns='Turbine_ID').to_numpy() - mean_[turbine]) / 1\n",
    "        else:\n",
    "            X_turbine[turbine] = (X[X['Turbine_ID']==turbine].drop(columns='Turbine_ID').to_numpy() - mean_[turbine]) / std_[turbine]\n",
    "\n",
    "    X_turbine_all=X_turbine['T01']\n",
    "\n",
    "    for turbine in ['T06','T07','T09','T11']:\n",
    "\n",
    "        X_turbine_all=np.concatenate([X_turbine_all,X_turbine[turbine]])\n",
    "\n",
    "    return X_turbine_all"
   ]
  },
  {
   "cell_type": "markdown",
   "metadata": {
    "ExecuteTime": {
     "end_time": "2021-02-20T14:09:57.970058Z",
     "start_time": "2021-02-20T14:09:57.920647Z"
    }
   },
   "source": [
    "mean_,std_ = fit2(x_train['df_generator'])"
   ]
  },
  {
   "cell_type": "markdown",
   "metadata": {
    "ExecuteTime": {
     "end_time": "2021-02-20T13:57:05.654116Z",
     "start_time": "2021-02-20T13:57:05.630151Z"
    }
   },
   "source": [
    "std_['T01']"
   ]
  },
  {
   "cell_type": "markdown",
   "metadata": {
    "ExecuteTime": {
     "end_time": "2021-02-20T13:38:56.819144Z",
     "start_time": "2021-02-20T13:38:56.790193Z"
    }
   },
   "source": [
    "transform(x_train['df_generator'])"
   ]
  },
  {
   "cell_type": "code",
   "execution_count": null,
   "metadata": {},
   "outputs": [],
   "source": []
  },
  {
   "cell_type": "code",
   "execution_count": 82,
   "metadata": {
    "ExecuteTime": {
     "end_time": "2021-02-20T16:01:32.048744Z",
     "start_time": "2021-02-20T16:01:32.036132Z"
    }
   },
   "outputs": [
    {
     "data": {
      "text/plain": [
       "array([[ 0.16146634,  1.01910023, -0.45888491, ..., -3.39113176,\n",
       "        -3.91742406, -1.97517864],\n",
       "       [-1.05315435, -0.31099475, -0.87365452, ..., -0.82958484,\n",
       "        -1.06877728, -1.92384519],\n",
       "       [-0.4206826 , -1.009749  , -0.18873892, ..., -0.88807398,\n",
       "        -1.33082158, -1.69671974],\n",
       "       ...,\n",
       "       [-0.17976471,  0.16869672, -0.42044846, ..., -0.52623294,\n",
       "         2.14946983,  1.20195745],\n",
       "       [-0.6750917 ,  0.33268607, -0.50473442, ..., -0.22520202,\n",
       "         1.96077181,  1.28563547],\n",
       "       [ 0.97640791, -0.67665056,  1.52724068, ..., -0.15064969,\n",
       "         0.84243332,  0.56404373]])"
      ]
     },
     "execution_count": 82,
     "metadata": {},
     "output_type": "execute_result"
    }
   ],
   "source": [
    "x_train['df_generator'] "
   ]
  },
  {
   "cell_type": "code",
   "execution_count": 80,
   "metadata": {
    "ExecuteTime": {
     "end_time": "2021-02-20T16:01:28.048630Z",
     "start_time": "2021-02-20T16:01:27.971764Z"
    }
   },
   "outputs": [
    {
     "name": "stdout",
     "output_type": "stream",
     "text": [
      "016 - aplicar o scale com o fit efectuado no treino\n"
     ]
    }
   ],
   "source": [
    "print('016 - aplicar o scale com o fit efectuado no treino')\n",
    "x_train['df_generator'] = scaler_df_generator.transform(x_train['df_generator'])\n",
    "x_train['df_hydraulic'] = scaler_df_hydraulic.transform(x_train['df_hydraulic'])\n",
    "x_train['df_gen_bear'] = scaler_df_gen_bear.transform(x_train['df_gen_bear'])\n",
    "x_train['df_transformer'] = scaler_df_transformer.transform(x_train['df_transformer'])\n",
    "x_train['df_gearbox'] = scaler_df_gearbox.transform(x_train['df_gearbox'])"
   ]
  },
  {
   "cell_type": "code",
   "execution_count": 81,
   "metadata": {
    "ExecuteTime": {
     "end_time": "2021-02-20T16:01:28.401925Z",
     "start_time": "2021-02-20T16:01:28.349641Z"
    }
   },
   "outputs": [
    {
     "name": "stdout",
     "output_type": "stream",
     "text": [
      "016 - aplicar o scale com o fit efectuado no teste\n"
     ]
    }
   ],
   "source": [
    "print('016 - aplicar o scale com o fit efectuado no teste')\n",
    "x_test['df_generator'] = scaler_df_generator.transform(x_test['df_generator'])\n",
    "x_test['df_hydraulic'] = scaler_df_hydraulic.transform(x_test['df_hydraulic'])\n",
    "x_test['df_gen_bear'] = scaler_df_gen_bear.transform(x_test['df_gen_bear'])\n",
    "x_test['df_transformer'] = scaler_df_transformer.transform(x_test['df_transformer'])\n",
    "x_test['df_gearbox'] = scaler_df_gearbox.transform(x_test['df_gearbox'])"
   ]
  },
  {
   "cell_type": "code",
   "execution_count": 48,
   "metadata": {
    "ExecuteTime": {
     "end_time": "2021-02-20T14:08:05.123090Z",
     "start_time": "2021-02-20T14:08:05.099620Z"
    }
   },
   "outputs": [
    {
     "name": "stdout",
     "output_type": "stream",
     "text": [
      "(2577, 81) df_generator\n",
      "(2576, 45) df_hydraulic\n",
      "(2576, 42) df_gen_bear\n",
      "(2576, 45) df_transformer\n",
      "(2576, 36) df_gearbox\n",
      "(465, 81) df_generator\n",
      "(465, 45) df_hydraulic\n",
      "(465, 42) df_gen_bear\n",
      "(465, 45) df_transformer\n",
      "(465, 36) df_gearbox\n"
     ]
    }
   ],
   "source": [
    "for key in x_train:\n",
    "    print(x_train[key].shape, key)\n",
    "for key in x_test:\n",
    "    print(x_test[key].shape, key)"
   ]
  },
  {
   "cell_type": "markdown",
   "metadata": {
    "ExecuteTime": {
     "end_time": "2021-02-20T13:24:13.122672Z",
     "start_time": "2021-02-20T13:24:13.093752Z"
    }
   },
   "source": [
    "exp1 = pd.DataFrame(x_test['df_generator'])"
   ]
  },
  {
   "cell_type": "markdown",
   "metadata": {
    "ExecuteTime": {
     "end_time": "2021-02-20T13:25:55.178195Z",
     "start_time": "2021-02-20T13:25:55.167594Z"
    }
   },
   "source": [
    "x_test['df_generator'][9]"
   ]
  },
  {
   "cell_type": "markdown",
   "metadata": {
    "ExecuteTime": {
     "end_time": "2021-02-20T13:25:39.083876Z",
     "start_time": "2021-02-20T13:25:39.072364Z"
    }
   },
   "source": [
    "exp1[9]"
   ]
  },
  {
   "cell_type": "code",
   "execution_count": null,
   "metadata": {},
   "outputs": [],
   "source": []
  },
  {
   "cell_type": "code",
   "execution_count": null,
   "metadata": {},
   "outputs": [],
   "source": []
  },
  {
   "cell_type": "code",
   "execution_count": 49,
   "metadata": {
    "ExecuteTime": {
     "end_time": "2021-02-20T14:08:08.008826Z",
     "start_time": "2021-02-20T14:08:07.897086Z"
    }
   },
   "outputs": [
    {
     "name": "stdout",
     "output_type": "stream",
     "text": [
      "017 - Instanciar e treinar o modelo correspondente\n"
     ]
    },
    {
     "ename": "ValueError",
     "evalue": "Input contains NaN, infinity or a value too large for dtype('float64').",
     "output_type": "error",
     "traceback": [
      "\u001b[1;31m---------------------------------------------------------------------------\u001b[0m",
      "\u001b[1;31mValueError\u001b[0m                                Traceback (most recent call last)",
      "\u001b[1;32m<ipython-input-49-907f0ee100e7>\u001b[0m in \u001b[0;36m<module>\u001b[1;34m\u001b[0m\n\u001b[0;32m      4\u001b[0m                      \u001b[0mx_test\u001b[0m\u001b[1;33m=\u001b[0m\u001b[0mx_test\u001b[0m\u001b[1;33m[\u001b[0m\u001b[1;34m'df_generator'\u001b[0m\u001b[1;33m]\u001b[0m\u001b[1;33m,\u001b[0m\u001b[1;33m\u001b[0m\u001b[1;33m\u001b[0m\u001b[0m\n\u001b[0;32m      5\u001b[0m                      component='df_generator')\n\u001b[1;32m----> 6\u001b[1;33m \u001b[0mgenerator_model\u001b[0m\u001b[1;33m.\u001b[0m\u001b[0mtrain\u001b[0m\u001b[1;33m(\u001b[0m\u001b[1;33m)\u001b[0m\u001b[1;33m\u001b[0m\u001b[1;33m\u001b[0m\u001b[0m\n\u001b[0m\u001b[0;32m      7\u001b[0m \u001b[1;31m# joblib.dump(generator_model, 'generator_model.joblib')\u001b[0m\u001b[1;33m\u001b[0m\u001b[1;33m\u001b[0m\u001b[1;33m\u001b[0m\u001b[0m\n",
      "\u001b[1;32m~\\code\\RicardoJPedro82\\wmillfailprev\\wmillfailprev\\c_model_related.py\u001b[0m in \u001b[0;36mtrain\u001b[1;34m(self)\u001b[0m\n\u001b[0;32m     84\u001b[0m         \u001b[1;34m\"\"\"train the selected model\"\"\"\u001b[0m\u001b[1;33m\u001b[0m\u001b[1;33m\u001b[0m\u001b[0m\n\u001b[0;32m     85\u001b[0m         \u001b[0mself\u001b[0m\u001b[1;33m.\u001b[0m\u001b[0mmodel\u001b[0m \u001b[1;33m=\u001b[0m \u001b[0mself\u001b[0m\u001b[1;33m.\u001b[0m\u001b[0mget_estimator\u001b[0m\u001b[1;33m(\u001b[0m\u001b[1;33m)\u001b[0m\u001b[1;33m\u001b[0m\u001b[1;33m\u001b[0m\u001b[0m\n\u001b[1;32m---> 86\u001b[1;33m         \u001b[0mself\u001b[0m\u001b[1;33m.\u001b[0m\u001b[0mmodel\u001b[0m\u001b[1;33m.\u001b[0m\u001b[0mfit\u001b[0m\u001b[1;33m(\u001b[0m\u001b[0mself\u001b[0m\u001b[1;33m.\u001b[0m\u001b[0mx_train\u001b[0m\u001b[1;33m,\u001b[0m \u001b[0mself\u001b[0m\u001b[1;33m.\u001b[0m\u001b[0my_train\u001b[0m\u001b[1;33m)\u001b[0m\u001b[1;33m\u001b[0m\u001b[1;33m\u001b[0m\u001b[0m\n\u001b[0m\u001b[0;32m     87\u001b[0m         \u001b[1;32mreturn\u001b[0m \u001b[0mself\u001b[0m\u001b[1;33m.\u001b[0m\u001b[0mmodel\u001b[0m\u001b[1;33m\u001b[0m\u001b[1;33m\u001b[0m\u001b[0m\n\u001b[0;32m     88\u001b[0m \u001b[1;33m\u001b[0m\u001b[0m\n",
      "\u001b[1;32mc:\\users\\ricar\\.venvs\\lewagon\\lib\\site-packages\\sklearn\\neighbors\\base.py\u001b[0m in \u001b[0;36mfit\u001b[1;34m(self, X, y)\u001b[0m\n\u001b[0;32m    889\u001b[0m         \"\"\"\n\u001b[0;32m    890\u001b[0m         \u001b[1;32mif\u001b[0m \u001b[1;32mnot\u001b[0m \u001b[0misinstance\u001b[0m\u001b[1;33m(\u001b[0m\u001b[0mX\u001b[0m\u001b[1;33m,\u001b[0m \u001b[1;33m(\u001b[0m\u001b[0mKDTree\u001b[0m\u001b[1;33m,\u001b[0m \u001b[0mBallTree\u001b[0m\u001b[1;33m)\u001b[0m\u001b[1;33m)\u001b[0m\u001b[1;33m:\u001b[0m\u001b[1;33m\u001b[0m\u001b[1;33m\u001b[0m\u001b[0m\n\u001b[1;32m--> 891\u001b[1;33m             \u001b[0mX\u001b[0m\u001b[1;33m,\u001b[0m \u001b[0my\u001b[0m \u001b[1;33m=\u001b[0m \u001b[0mcheck_X_y\u001b[0m\u001b[1;33m(\u001b[0m\u001b[0mX\u001b[0m\u001b[1;33m,\u001b[0m \u001b[0my\u001b[0m\u001b[1;33m,\u001b[0m \u001b[1;34m\"csr\"\u001b[0m\u001b[1;33m,\u001b[0m \u001b[0mmulti_output\u001b[0m\u001b[1;33m=\u001b[0m\u001b[1;32mTrue\u001b[0m\u001b[1;33m)\u001b[0m\u001b[1;33m\u001b[0m\u001b[1;33m\u001b[0m\u001b[0m\n\u001b[0m\u001b[0;32m    892\u001b[0m \u001b[1;33m\u001b[0m\u001b[0m\n\u001b[0;32m    893\u001b[0m         \u001b[1;32mif\u001b[0m \u001b[0my\u001b[0m\u001b[1;33m.\u001b[0m\u001b[0mndim\u001b[0m \u001b[1;33m==\u001b[0m \u001b[1;36m1\u001b[0m \u001b[1;32mor\u001b[0m \u001b[0my\u001b[0m\u001b[1;33m.\u001b[0m\u001b[0mndim\u001b[0m \u001b[1;33m==\u001b[0m \u001b[1;36m2\u001b[0m \u001b[1;32mand\u001b[0m \u001b[0my\u001b[0m\u001b[1;33m.\u001b[0m\u001b[0mshape\u001b[0m\u001b[1;33m[\u001b[0m\u001b[1;36m1\u001b[0m\u001b[1;33m]\u001b[0m \u001b[1;33m==\u001b[0m \u001b[1;36m1\u001b[0m\u001b[1;33m:\u001b[0m\u001b[1;33m\u001b[0m\u001b[1;33m\u001b[0m\u001b[0m\n",
      "\u001b[1;32mc:\\users\\ricar\\.venvs\\lewagon\\lib\\site-packages\\sklearn\\utils\\validation.py\u001b[0m in \u001b[0;36mcheck_X_y\u001b[1;34m(X, y, accept_sparse, accept_large_sparse, dtype, order, copy, force_all_finite, ensure_2d, allow_nd, multi_output, ensure_min_samples, ensure_min_features, y_numeric, warn_on_dtype, estimator)\u001b[0m\n\u001b[0;32m    754\u001b[0m                     \u001b[0mensure_min_features\u001b[0m\u001b[1;33m=\u001b[0m\u001b[0mensure_min_features\u001b[0m\u001b[1;33m,\u001b[0m\u001b[1;33m\u001b[0m\u001b[1;33m\u001b[0m\u001b[0m\n\u001b[0;32m    755\u001b[0m                     \u001b[0mwarn_on_dtype\u001b[0m\u001b[1;33m=\u001b[0m\u001b[0mwarn_on_dtype\u001b[0m\u001b[1;33m,\u001b[0m\u001b[1;33m\u001b[0m\u001b[1;33m\u001b[0m\u001b[0m\n\u001b[1;32m--> 756\u001b[1;33m                     estimator=estimator)\n\u001b[0m\u001b[0;32m    757\u001b[0m     \u001b[1;32mif\u001b[0m \u001b[0mmulti_output\u001b[0m\u001b[1;33m:\u001b[0m\u001b[1;33m\u001b[0m\u001b[1;33m\u001b[0m\u001b[0m\n\u001b[0;32m    758\u001b[0m         y = check_array(y, 'csr', force_all_finite=True, ensure_2d=False,\n",
      "\u001b[1;32mc:\\users\\ricar\\.venvs\\lewagon\\lib\\site-packages\\sklearn\\utils\\validation.py\u001b[0m in \u001b[0;36mcheck_array\u001b[1;34m(array, accept_sparse, accept_large_sparse, dtype, order, copy, force_all_finite, ensure_2d, allow_nd, ensure_min_samples, ensure_min_features, warn_on_dtype, estimator)\u001b[0m\n\u001b[0;32m    571\u001b[0m         \u001b[1;32mif\u001b[0m \u001b[0mforce_all_finite\u001b[0m\u001b[1;33m:\u001b[0m\u001b[1;33m\u001b[0m\u001b[1;33m\u001b[0m\u001b[0m\n\u001b[0;32m    572\u001b[0m             _assert_all_finite(array,\n\u001b[1;32m--> 573\u001b[1;33m                                allow_nan=force_all_finite == 'allow-nan')\n\u001b[0m\u001b[0;32m    574\u001b[0m \u001b[1;33m\u001b[0m\u001b[0m\n\u001b[0;32m    575\u001b[0m     \u001b[0mshape_repr\u001b[0m \u001b[1;33m=\u001b[0m \u001b[0m_shape_repr\u001b[0m\u001b[1;33m(\u001b[0m\u001b[0marray\u001b[0m\u001b[1;33m.\u001b[0m\u001b[0mshape\u001b[0m\u001b[1;33m)\u001b[0m\u001b[1;33m\u001b[0m\u001b[1;33m\u001b[0m\u001b[0m\n",
      "\u001b[1;32mc:\\users\\ricar\\.venvs\\lewagon\\lib\\site-packages\\sklearn\\utils\\validation.py\u001b[0m in \u001b[0;36m_assert_all_finite\u001b[1;34m(X, allow_nan)\u001b[0m\n\u001b[0;32m     54\u001b[0m                 not allow_nan and not np.isfinite(X).all()):\n\u001b[0;32m     55\u001b[0m             \u001b[0mtype_err\u001b[0m \u001b[1;33m=\u001b[0m \u001b[1;34m'infinity'\u001b[0m \u001b[1;32mif\u001b[0m \u001b[0mallow_nan\u001b[0m \u001b[1;32melse\u001b[0m \u001b[1;34m'NaN, infinity'\u001b[0m\u001b[1;33m\u001b[0m\u001b[1;33m\u001b[0m\u001b[0m\n\u001b[1;32m---> 56\u001b[1;33m             \u001b[1;32mraise\u001b[0m \u001b[0mValueError\u001b[0m\u001b[1;33m(\u001b[0m\u001b[0mmsg_err\u001b[0m\u001b[1;33m.\u001b[0m\u001b[0mformat\u001b[0m\u001b[1;33m(\u001b[0m\u001b[0mtype_err\u001b[0m\u001b[1;33m,\u001b[0m \u001b[0mX\u001b[0m\u001b[1;33m.\u001b[0m\u001b[0mdtype\u001b[0m\u001b[1;33m)\u001b[0m\u001b[1;33m)\u001b[0m\u001b[1;33m\u001b[0m\u001b[1;33m\u001b[0m\u001b[0m\n\u001b[0m\u001b[0;32m     57\u001b[0m \u001b[1;33m\u001b[0m\u001b[0m\n\u001b[0;32m     58\u001b[0m \u001b[1;33m\u001b[0m\u001b[0m\n",
      "\u001b[1;31mValueError\u001b[0m: Input contains NaN, infinity or a value too large for dtype('float64')."
     ]
    }
   ],
   "source": [
    "print('017 - Instanciar e treinar o modelo correspondente')\n",
    "generator_model = tr(x_train=x_train['df_generator'],\n",
    "                     y_train=y_train['df_generator'],\n",
    "                     x_test=x_test['df_generator'],\n",
    "                     component='df_generator')\n",
    "generator_model.train()\n",
    "# joblib.dump(generator_model, 'generator_model.joblib')"
   ]
  },
  {
   "cell_type": "code",
   "execution_count": null,
   "metadata": {
    "ExecuteTime": {
     "end_time": "2021-02-20T13:24:13.568808Z",
     "start_time": "2021-02-20T13:24:12.300Z"
    }
   },
   "outputs": [],
   "source": [
    "print('018 - Obter a previsão para a métrica de poupança')\n",
    "y_pred_generator = generator_model.predict()"
   ]
  },
  {
   "cell_type": "code",
   "execution_count": null,
   "metadata": {},
   "outputs": [],
   "source": []
  },
  {
   "cell_type": "code",
   "execution_count": null,
   "metadata": {},
   "outputs": [],
   "source": []
  },
  {
   "cell_type": "code",
   "execution_count": null,
   "metadata": {},
   "outputs": [],
   "source": []
  },
  {
   "cell_type": "code",
   "execution_count": null,
   "metadata": {},
   "outputs": [],
   "source": []
  },
  {
   "cell_type": "code",
   "execution_count": null,
   "metadata": {},
   "outputs": [],
   "source": []
  },
  {
   "cell_type": "code",
   "execution_count": null,
   "metadata": {},
   "outputs": [],
   "source": []
  },
  {
   "cell_type": "code",
   "execution_count": null,
   "metadata": {},
   "outputs": [],
   "source": []
  }
 ],
 "metadata": {
  "kernelspec": {
   "display_name": "Python 3",
   "language": "python",
   "name": "python3"
  },
  "language_info": {
   "codemirror_mode": {
    "name": "ipython",
    "version": 3
   },
   "file_extension": ".py",
   "mimetype": "text/x-python",
   "name": "python",
   "nbconvert_exporter": "python",
   "pygments_lexer": "ipython3",
   "version": "3.8.5"
  }
 },
 "nbformat": 4,
 "nbformat_minor": 4
}
