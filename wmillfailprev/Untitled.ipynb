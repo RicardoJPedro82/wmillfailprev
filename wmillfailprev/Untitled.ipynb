{
 "cells": [
  {
   "cell_type": "code",
   "execution_count": 1,
   "metadata": {
    "ExecuteTime": {
     "end_time": "2021-02-21T18:38:50.406734Z",
     "start_time": "2021-02-21T18:38:47.646118Z"
    }
   },
   "outputs": [],
   "source": [
    "%load_ext autoreload\n",
    "%autoreload 2\n",
    "from b_get_data import *\n",
    "from c_model_related import CustomStandardScaler as Cscl\n",
    "from c_model_related import Trainer as tr\n",
    "from c_model_related import metrics_create_df\n",
    "import joblib\n",
    "from sklearn.preprocessing import StandardScaler\n",
    "\n",
    "gen_features_drop = [\n",
    "    'Gen_RPM_Max', 'Gen_RPM_Min', 'Gen_Phase1_Temp_Avg', 'Gen_Phase3_Temp_Avg',\n",
    "    'Amb_WindSpeed_Est_Avg', 'Grd_RtrInvPhase1_Temp_Avg',\n",
    "    'Grd_RtrInvPhase3_Temp_Avg', 'Rtr_RPM_Max', 'Rtr_RPM_Min',\n",
    "    'Blds_PitchAngle_Max', 'Blds_PitchAngle_Min',\n",
    "    'Prod_LatestAvg_ReactPwrGen1', 'Cont_Hub_Temp_Avg', 'Spin_Temp_Avg',\n",
    "    'Rtr_RPM_Std', 'Rtr_RPM_Avg', 'Cont_VCP_Temp_Avg'\n",
    "]\n",
    "\n",
    "gen_bear_features_drop = [\n",
    "    'Gen_RPM_Max', 'Gen_RPM_Min', 'Gen_Phase1_Temp_Avg', 'Gen_Phase3_Temp_Avg',\n",
    "    'Amb_WindSpeed_Est_Avg', 'Grd_RtrInvPhase1_Temp_Avg',\n",
    "    'Grd_RtrInvPhase3_Temp_Avg', 'Rtr_RPM_Max', 'Rtr_RPM_Min',\n",
    "    'Blds_PitchAngle_Max', 'Blds_PitchAngle_Min',\n",
    "    'Prod_LatestAvg_ReactPwrGen1', 'Cont_Hub_Temp_Avg', 'Spin_Temp_Avg',\n",
    "    'Rtr_RPM_Std', 'Rtr_RPM_Avg', 'Cont_VCP_Temp_Avg'\n",
    "]\n",
    "\n",
    "hyd_features_drop = [\n",
    "    'Rtr_RPM_Max', 'Rtr_RPM_Min', 'Blds_PitchAngle_Max', 'Blds_PitchAngle_Min',\n",
    "    'Blds_PitchAngle_Max', 'Grd_RtrInvPhase3_Temp_Avg', 'Grd_Busbar_Temp_Avg',\n",
    "    'Amb_WindSpeed_Est_Avg', 'Spin_Temp_Avg', 'Cont_Hub_Temp_Avg',\n",
    "    'Grd_RtrInvPhase1_Temp_Avg', 'Cont_VCP_Temp_Avg'\n",
    "]\n",
    "\n",
    "gearbox_features_drop = [\n",
    "    'Rtr_RPM_Max', 'Rtr_RPM_Min', 'Grd_RtrInvPhase1_Temp_Avg',\n",
    "    'Grd_RtrInvPhase3_Temp_Avg', 'Blds_PitchAngle_Min', 'Blds_PitchAngle_Max',\n",
    "    'Cont_VCP_Temp_Avg', 'Grd_Busbar_Temp_Avg', 'Amb_WindSpeed_Est_Avg',\n",
    "    'Spin_Temp_Avg'\n",
    "]\n",
    "\n",
    "transf_features_drop = [\n",
    "    'HVTrafo_Phase1_Temp_Avg', 'HVTrafo_Phase3_Temp_Avg', 'Rtr_RPM_Max',\n",
    "    'Rtr_RPM_Min', 'Grd_RtrInvPhase1_Temp_Avg', 'Grd_RtrInvPhase3_Temp_Avg',\n",
    "    'Blds_PitchAngle_Min', 'Blds_PitchAngle_Max', 'Amb_WindSpeed_Est_Avg',\n",
    "    'Spin_Temp_Avg', 'Cont_VCP_Temp_Avg'\n",
    "]"
   ]
  },
  {
   "cell_type": "code",
   "execution_count": 2,
   "metadata": {
    "ExecuteTime": {
     "end_time": "2021-02-21T18:38:50.561319Z",
     "start_time": "2021-02-21T18:38:50.410722Z"
    }
   },
   "outputs": [],
   "source": [
    "feat_drop_list = [\n",
    "    gen_features_drop, hyd_features_drop, gen_bear_features_drop,\n",
    "    transf_features_drop, gearbox_features_drop\n",
    "]"
   ]
  },
  {
   "cell_type": "code",
   "execution_count": 3,
   "metadata": {
    "ExecuteTime": {
     "end_time": "2021-02-21T18:39:01.207716Z",
     "start_time": "2021-02-21T18:38:50.567304Z"
    }
   },
   "outputs": [],
   "source": [
    "root_dir = os.path.abspath('..')\n",
    "csv_path = os.path.join(root_dir, 'rawdata')\n",
    "# Importar o dataset de failures\n",
    "signals_path = os.path.join(csv_path, 'wind-farm-1-signals-testing.csv')\n",
    "signals_df = get_data(signals_path)\n",
    "# Cortar colunas que não têm valores\n",
    "cols_to_drop = ['Prod_LatestAvg_ActPwrGen2', 'Prod_LatestAvg_ReactPwrGen2']\n",
    "signals_df = signals_df.drop(columns=cols_to_drop)"
   ]
  },
  {
   "cell_type": "code",
   "execution_count": 4,
   "metadata": {
    "ExecuteTime": {
     "end_time": "2021-02-21T18:39:01.349820Z",
     "start_time": "2021-02-21T18:39:01.214664Z"
    }
   },
   "outputs": [
    {
     "name": "stdout",
     "output_type": "stream",
     "text": [
      "002 - Criar o dicionário com os Dataframes originais\n"
     ]
    }
   ],
   "source": [
    "print('002 - Criar o dicionário com os Dataframes originais')\n",
    "df_dict = {'signals_df':signals_df}"
   ]
  },
  {
   "cell_type": "code",
   "execution_count": 5,
   "metadata": {
    "ExecuteTime": {
     "end_time": "2021-02-21T18:39:01.554345Z",
     "start_time": "2021-02-21T18:39:01.352811Z"
    }
   },
   "outputs": [
    {
     "name": "stdout",
     "output_type": "stream",
     "text": [
      "003 - Criar os datasets por componentes\n"
     ]
    }
   ],
   "source": [
    "print('003 - Criar os datasets por componentes')\n",
    "df_generator, df_gen_bear, df_transformer, df_hydraulic, df_gearbox = component_df_creation(signals_df)"
   ]
  },
  {
   "cell_type": "code",
   "execution_count": 6,
   "metadata": {
    "ExecuteTime": {
     "end_time": "2021-02-21T18:39:01.709930Z",
     "start_time": "2021-02-21T18:39:01.557339Z"
    }
   },
   "outputs": [
    {
     "name": "stdout",
     "output_type": "stream",
     "text": [
      "004 - Criar o dicionário de datasets por componentes\n"
     ]
    }
   ],
   "source": [
    "print('004 - Criar o dicionário de datasets por componentes')\n",
    "comp_df_dict = {\n",
    "    'df_generator': df_generator,\n",
    "    'df_hydraulic': df_hydraulic,\n",
    "    'df_gen_bear': df_gen_bear,\n",
    "    'df_transformer': df_transformer,\n",
    "    'df_gearbox': df_gearbox\n",
    "}"
   ]
  },
  {
   "cell_type": "code",
   "execution_count": 7,
   "metadata": {
    "ExecuteTime": {
     "end_time": "2021-02-21T18:39:01.835946Z",
     "start_time": "2021-02-21T18:39:01.713285Z"
    }
   },
   "outputs": [
    {
     "name": "stdout",
     "output_type": "stream",
     "text": [
      "(87639, 45)\n",
      "(87639, 34)\n",
      "(87639, 45)\n",
      "(87639, 36)\n",
      "(87639, 33)\n"
     ]
    }
   ],
   "source": [
    "for i in comp_df_dict:\n",
    "    print(comp_df_dict[i].shape)"
   ]
  },
  {
   "cell_type": "code",
   "execution_count": 8,
   "metadata": {
    "ExecuteTime": {
     "end_time": "2021-02-21T18:39:01.991569Z",
     "start_time": "2021-02-21T18:39:01.841930Z"
    }
   },
   "outputs": [
    {
     "data": {
      "text/plain": [
       "Timestamp                      datetime64[ns]\n",
       "Turbine_ID                             object\n",
       "Gen_RPM_Max                           float64\n",
       "Gen_RPM_Min                           float64\n",
       "Gen_RPM_Avg                           float64\n",
       "Gen_RPM_Std                           float64\n",
       "Gen_Bear_Temp_Avg                     float64\n",
       "Gen_Phase1_Temp_Avg                     int64\n",
       "Gen_Phase2_Temp_Avg                     int64\n",
       "Gen_Phase3_Temp_Avg                     int64\n",
       "Prod_LatestAvg_ActPwrGen0               int64\n",
       "Prod_LatestAvg_ActPwrGen1             float64\n",
       "Prod_LatestAvg_ReactPwrGen0             int64\n",
       "Prod_LatestAvg_ReactPwrGen1             int64\n",
       "Gen_SlipRing_Temp_Avg                   int64\n",
       "Gen_Bear2_Temp_Avg                      int64\n",
       "Rtr_RPM_Max                           float64\n",
       "Rtr_RPM_Min                           float64\n",
       "Rtr_RPM_Avg                           float64\n",
       "Grd_RtrInvPhase1_Temp_Avg               int64\n",
       "Grd_RtrInvPhase2_Temp_Avg               int64\n",
       "Grd_RtrInvPhase3_Temp_Avg               int64\n",
       "Rtr_RPM_Std                           float64\n",
       "Amb_WindSpeed_Max                     float64\n",
       "Amb_WindSpeed_Min                     float64\n",
       "Amb_WindSpeed_Avg                     float64\n",
       "Amb_WindSpeed_Std                     float64\n",
       "Amb_WindDir_Relative_Avg              float64\n",
       "Amb_WindDir_Abs_Avg                   float64\n",
       "Amb_Temp_Avg                            int64\n",
       "Amb_WindSpeed_Est_Avg                 float64\n",
       "Blds_PitchAngle_Min                   float64\n",
       "Blds_PitchAngle_Max                   float64\n",
       "Blds_PitchAngle_Avg                   float64\n",
       "Blds_PitchAngle_Std                   float64\n",
       "Cont_Top_Temp_Avg                       int64\n",
       "Cont_Hub_Temp_Avg                       int64\n",
       "Cont_VCP_Temp_Avg                       int64\n",
       "Cont_VCP_ChokcoilTemp_Avg               int64\n",
       "Cont_VCP_WtrTemp_Avg                    int64\n",
       "Nac_Temp_Avg                            int64\n",
       "Nac_Direction_Avg                     float64\n",
       "Spin_Temp_Avg                           int64\n",
       "Grd_Busbar_Temp_Avg                     int64\n",
       "Hyd_Oil_Temp_Avg                        int64\n",
       "dtype: object"
      ]
     },
     "execution_count": 8,
     "metadata": {},
     "output_type": "execute_result"
    }
   ],
   "source": [
    "comp_df_dict['df_generator'].dtypes"
   ]
  },
  {
   "cell_type": "code",
   "execution_count": 9,
   "metadata": {
    "ExecuteTime": {
     "end_time": "2021-02-21T18:39:02.134427Z",
     "start_time": "2021-02-21T18:39:01.997513Z"
    }
   },
   "outputs": [
    {
     "name": "stdout",
     "output_type": "stream",
     "text": [
      "005 - fazer cópia dos dataframes\n"
     ]
    }
   ],
   "source": [
    "print('005 - fazer cópia dos dataframes')\n",
    "comp_prep_df_dict = comp_df_dict.copy()"
   ]
  },
  {
   "cell_type": "code",
   "execution_count": 10,
   "metadata": {
    "ExecuteTime": {
     "end_time": "2021-02-21T18:39:02.651043Z",
     "start_time": "2021-02-21T18:39:02.136420Z"
    }
   },
   "outputs": [
    {
     "name": "stdout",
     "output_type": "stream",
     "text": [
      "0    45\n",
      "dtype: int64\n",
      "0    34\n",
      "dtype: int64\n",
      "0    45\n",
      "dtype: int64\n",
      "0    36\n",
      "dtype: int64\n",
      "0    33\n",
      "dtype: int64\n"
     ]
    }
   ],
   "source": [
    "for i in comp_prep_df_dict:\n",
    "    print(comp_prep_df_dict[i].isna().sum().value_counts())"
   ]
  },
  {
   "cell_type": "code",
   "execution_count": 11,
   "metadata": {
    "ExecuteTime": {
     "end_time": "2021-02-21T18:39:02.946786Z",
     "start_time": "2021-02-21T18:39:02.656030Z"
    }
   },
   "outputs": [
    {
     "name": "stdout",
     "output_type": "stream",
     "text": [
      "007 - Fillna by turbine\n"
     ]
    }
   ],
   "source": [
    "print('007 - Fillna by turbine')\n",
    "turbine_list = ['T11', 'T06', 'T01', 'T09', 'T07']\n",
    "for i, key in enumerate(comp_prep_df_dict):\n",
    "    comp_prep_df_dict[key] = fill_na_by_turb_predict(comp_prep_df_dict[key],turbine_list)"
   ]
  },
  {
   "cell_type": "code",
   "execution_count": 12,
   "metadata": {
    "ExecuteTime": {
     "end_time": "2021-02-21T18:39:03.104364Z",
     "start_time": "2021-02-21T18:39:02.949778Z"
    }
   },
   "outputs": [
    {
     "name": "stdout",
     "output_type": "stream",
     "text": [
      "Timestamp                      datetime64[ns]\n",
      "Turbine_ID                             object\n",
      "Gen_RPM_Max                           float64\n",
      "Gen_RPM_Min                           float64\n",
      "Gen_RPM_Avg                           float64\n",
      "Gen_RPM_Std                           float64\n",
      "Gen_Bear_Temp_Avg                     float64\n",
      "Gen_Phase1_Temp_Avg                     int64\n",
      "Gen_Phase2_Temp_Avg                     int64\n",
      "Gen_Phase3_Temp_Avg                     int64\n",
      "Prod_LatestAvg_ActPwrGen0               int64\n",
      "Prod_LatestAvg_ActPwrGen1             float64\n",
      "Prod_LatestAvg_ReactPwrGen0             int64\n",
      "Prod_LatestAvg_ReactPwrGen1             int64\n",
      "Gen_SlipRing_Temp_Avg                   int64\n",
      "Gen_Bear2_Temp_Avg                      int64\n",
      "Rtr_RPM_Max                           float64\n",
      "Rtr_RPM_Min                           float64\n",
      "Rtr_RPM_Avg                           float64\n",
      "Grd_RtrInvPhase1_Temp_Avg               int64\n",
      "Grd_RtrInvPhase2_Temp_Avg               int64\n",
      "Grd_RtrInvPhase3_Temp_Avg               int64\n",
      "Rtr_RPM_Std                           float64\n",
      "Amb_WindSpeed_Max                     float64\n",
      "Amb_WindSpeed_Min                     float64\n",
      "Amb_WindSpeed_Avg                     float64\n",
      "Amb_WindSpeed_Std                     float64\n",
      "Amb_WindDir_Relative_Avg              float64\n",
      "Amb_WindDir_Abs_Avg                   float64\n",
      "Amb_Temp_Avg                            int64\n",
      "Amb_WindSpeed_Est_Avg                 float64\n",
      "Blds_PitchAngle_Min                   float64\n",
      "Blds_PitchAngle_Max                   float64\n",
      "Blds_PitchAngle_Avg                   float64\n",
      "Blds_PitchAngle_Std                   float64\n",
      "Cont_Top_Temp_Avg                       int64\n",
      "Cont_Hub_Temp_Avg                       int64\n",
      "Cont_VCP_Temp_Avg                       int64\n",
      "Cont_VCP_ChokcoilTemp_Avg               int64\n",
      "Cont_VCP_WtrTemp_Avg                    int64\n",
      "Nac_Temp_Avg                            int64\n",
      "Nac_Direction_Avg                     float64\n",
      "Spin_Temp_Avg                           int64\n",
      "Grd_Busbar_Temp_Avg                     int64\n",
      "Hyd_Oil_Temp_Avg                        int64\n",
      "dtype: object\n",
      "Timestamp                    datetime64[ns]\n",
      "Turbine_ID                           object\n",
      "Hyd_Oil_Temp_Avg                      int64\n",
      "Rtr_RPM_Max                         float64\n",
      "Rtr_RPM_Min                         float64\n",
      "Rtr_RPM_Avg                         float64\n",
      "Grd_RtrInvPhase1_Temp_Avg             int64\n",
      "Grd_RtrInvPhase2_Temp_Avg             int64\n",
      "Grd_RtrInvPhase3_Temp_Avg             int64\n",
      "Rtr_RPM_Std                         float64\n",
      "Amb_WindSpeed_Max                   float64\n",
      "Amb_WindSpeed_Min                   float64\n",
      "Amb_WindSpeed_Avg                   float64\n",
      "Amb_WindSpeed_Std                   float64\n",
      "Amb_WindDir_Relative_Avg            float64\n",
      "Amb_WindDir_Abs_Avg                 float64\n",
      "Amb_Temp_Avg                          int64\n",
      "Amb_WindSpeed_Est_Avg               float64\n",
      "Blds_PitchAngle_Min                 float64\n",
      "Blds_PitchAngle_Max                 float64\n",
      "Blds_PitchAngle_Avg                 float64\n",
      "Blds_PitchAngle_Std                 float64\n",
      "Cont_Top_Temp_Avg                     int64\n",
      "Cont_Hub_Temp_Avg                     int64\n",
      "Cont_VCP_Temp_Avg                     int64\n",
      "Cont_VCP_ChokcoilTemp_Avg             int64\n",
      "Cont_VCP_WtrTemp_Avg                  int64\n",
      "Nac_Temp_Avg                          int64\n",
      "Nac_Direction_Avg                   float64\n",
      "Spin_Temp_Avg                         int64\n",
      "Grd_Busbar_Temp_Avg                   int64\n",
      "Grd_Prod_VoltPhse1_Avg              float64\n",
      "Grd_Prod_VoltPhse2_Avg              float64\n",
      "Grd_Prod_VoltPhse3_Avg              float64\n",
      "dtype: object\n",
      "Timestamp                      datetime64[ns]\n",
      "Turbine_ID                             object\n",
      "Gen_RPM_Max                           float64\n",
      "Gen_RPM_Min                           float64\n",
      "Gen_RPM_Avg                           float64\n",
      "Gen_RPM_Std                           float64\n",
      "Gen_Bear_Temp_Avg                     float64\n",
      "Gen_Phase1_Temp_Avg                     int64\n",
      "Gen_Phase2_Temp_Avg                     int64\n",
      "Gen_Phase3_Temp_Avg                     int64\n",
      "Prod_LatestAvg_ActPwrGen0               int64\n",
      "Prod_LatestAvg_ActPwrGen1             float64\n",
      "Prod_LatestAvg_ReactPwrGen0             int64\n",
      "Prod_LatestAvg_ReactPwrGen1             int64\n",
      "Gen_SlipRing_Temp_Avg                   int64\n",
      "Gen_Bear2_Temp_Avg                      int64\n",
      "Rtr_RPM_Max                           float64\n",
      "Rtr_RPM_Min                           float64\n",
      "Rtr_RPM_Avg                           float64\n",
      "Grd_RtrInvPhase1_Temp_Avg               int64\n",
      "Grd_RtrInvPhase2_Temp_Avg               int64\n",
      "Grd_RtrInvPhase3_Temp_Avg               int64\n",
      "Rtr_RPM_Std                           float64\n",
      "Amb_WindSpeed_Max                     float64\n",
      "Amb_WindSpeed_Min                     float64\n",
      "Amb_WindSpeed_Avg                     float64\n",
      "Amb_WindSpeed_Std                     float64\n",
      "Amb_WindDir_Relative_Avg              float64\n",
      "Amb_WindDir_Abs_Avg                   float64\n",
      "Amb_Temp_Avg                            int64\n",
      "Amb_WindSpeed_Est_Avg                 float64\n",
      "Blds_PitchAngle_Min                   float64\n",
      "Blds_PitchAngle_Max                   float64\n",
      "Blds_PitchAngle_Avg                   float64\n",
      "Blds_PitchAngle_Std                   float64\n",
      "Cont_Top_Temp_Avg                       int64\n",
      "Cont_Hub_Temp_Avg                       int64\n",
      "Cont_VCP_Temp_Avg                       int64\n",
      "Cont_VCP_ChokcoilTemp_Avg               int64\n",
      "Cont_VCP_WtrTemp_Avg                    int64\n",
      "Nac_Temp_Avg                            int64\n",
      "Nac_Direction_Avg                     float64\n",
      "Spin_Temp_Avg                           int64\n",
      "Grd_Busbar_Temp_Avg                     int64\n",
      "Hyd_Oil_Temp_Avg                        int64\n",
      "dtype: object\n",
      "Timestamp                    datetime64[ns]\n",
      "Turbine_ID                           object\n",
      "HVTrafo_Phase1_Temp_Avg               int64\n",
      "HVTrafo_Phase2_Temp_Avg               int64\n",
      "HVTrafo_Phase3_Temp_Avg               int64\n",
      "Rtr_RPM_Max                         float64\n",
      "Rtr_RPM_Min                         float64\n",
      "Rtr_RPM_Avg                         float64\n",
      "Grd_RtrInvPhase1_Temp_Avg             int64\n",
      "Grd_RtrInvPhase2_Temp_Avg             int64\n",
      "Grd_RtrInvPhase3_Temp_Avg             int64\n",
      "Rtr_RPM_Std                         float64\n",
      "Amb_WindSpeed_Max                   float64\n",
      "Amb_WindSpeed_Min                   float64\n",
      "Amb_WindSpeed_Avg                   float64\n",
      "Amb_WindSpeed_Std                   float64\n",
      "Amb_WindDir_Relative_Avg            float64\n",
      "Amb_WindDir_Abs_Avg                 float64\n",
      "Amb_Temp_Avg                          int64\n",
      "Amb_WindSpeed_Est_Avg               float64\n",
      "Blds_PitchAngle_Min                 float64\n",
      "Blds_PitchAngle_Max                 float64\n",
      "Blds_PitchAngle_Avg                 float64\n",
      "Blds_PitchAngle_Std                 float64\n",
      "Cont_Top_Temp_Avg                     int64\n",
      "Cont_Hub_Temp_Avg                     int64\n",
      "Cont_VCP_Temp_Avg                     int64\n",
      "Cont_VCP_ChokcoilTemp_Avg             int64\n",
      "Cont_VCP_WtrTemp_Avg                  int64\n",
      "Nac_Temp_Avg                          int64\n",
      "Nac_Direction_Avg                   float64\n",
      "Spin_Temp_Avg                         int64\n",
      "Grd_Busbar_Temp_Avg                   int64\n",
      "Grd_Prod_VoltPhse1_Avg              float64\n",
      "Grd_Prod_VoltPhse2_Avg              float64\n",
      "Grd_Prod_VoltPhse3_Avg              float64\n",
      "dtype: object\n",
      "Timestamp                    datetime64[ns]\n",
      "Turbine_ID                           object\n",
      "Gear_Oil_Temp_Avg                     int64\n",
      "Gear_Bear_Temp_Avg                    int64\n",
      "Rtr_RPM_Max                         float64\n",
      "Rtr_RPM_Min                         float64\n",
      "Rtr_RPM_Avg                         float64\n",
      "Grd_RtrInvPhase1_Temp_Avg             int64\n",
      "Grd_RtrInvPhase2_Temp_Avg             int64\n",
      "Grd_RtrInvPhase3_Temp_Avg             int64\n",
      "Rtr_RPM_Std                         float64\n",
      "Amb_WindSpeed_Max                   float64\n",
      "Amb_WindSpeed_Min                   float64\n",
      "Amb_WindSpeed_Avg                   float64\n",
      "Amb_WindSpeed_Std                   float64\n",
      "Amb_WindDir_Relative_Avg            float64\n",
      "Amb_WindDir_Abs_Avg                 float64\n",
      "Amb_Temp_Avg                          int64\n",
      "Amb_WindSpeed_Est_Avg               float64\n",
      "Blds_PitchAngle_Min                 float64\n",
      "Blds_PitchAngle_Max                 float64\n",
      "Blds_PitchAngle_Avg                 float64\n",
      "Blds_PitchAngle_Std                 float64\n",
      "Cont_Top_Temp_Avg                     int64\n",
      "Cont_Hub_Temp_Avg                     int64\n",
      "Cont_VCP_Temp_Avg                     int64\n",
      "Cont_VCP_ChokcoilTemp_Avg             int64\n",
      "Cont_VCP_WtrTemp_Avg                  int64\n",
      "Nac_Temp_Avg                          int64\n",
      "Nac_Direction_Avg                   float64\n",
      "Spin_Temp_Avg                         int64\n",
      "Grd_Busbar_Temp_Avg                   int64\n",
      "Hyd_Oil_Temp_Avg                      int64\n",
      "dtype: object\n"
     ]
    }
   ],
   "source": [
    "for i in comp_prep_df_dict:\n",
    "    print(comp_prep_df_dict[i].dtypes)"
   ]
  },
  {
   "cell_type": "code",
   "execution_count": 13,
   "metadata": {
    "ExecuteTime": {
     "end_time": "2021-02-21T18:39:03.259948Z",
     "start_time": "2021-02-21T18:39:03.108354Z"
    }
   },
   "outputs": [
    {
     "name": "stdout",
     "output_type": "stream",
     "text": [
      "(87639, 45)\n",
      "(87639, 34)\n",
      "(87639, 45)\n",
      "(87639, 36)\n",
      "(87639, 33)\n"
     ]
    }
   ],
   "source": [
    "for i in comp_prep_df_dict:\n",
    "    print(comp_prep_df_dict[i].shape)"
   ]
  },
  {
   "cell_type": "code",
   "execution_count": 14,
   "metadata": {
    "ExecuteTime": {
     "end_time": "2021-02-21T18:39:03.495174Z",
     "start_time": "2021-02-21T18:39:03.263938Z"
    }
   },
   "outputs": [
    {
     "name": "stdout",
     "output_type": "stream",
     "text": [
      "009 - retirar as colunas que não se relacionam com a variavel alvo\n"
     ]
    }
   ],
   "source": [
    "print('009 - retirar as colunas que não se relacionam com a variavel alvo')\n",
    "for i, key in enumerate(comp_prep_df_dict):\n",
    "    comp_prep_df_dict[key] = comp_prep_df_dict[key].drop(columns=feat_drop_list[i])"
   ]
  },
  {
   "cell_type": "code",
   "execution_count": 15,
   "metadata": {
    "ExecuteTime": {
     "end_time": "2021-02-21T18:39:03.650341Z",
     "start_time": "2021-02-21T18:39:03.499170Z"
    }
   },
   "outputs": [
    {
     "name": "stdout",
     "output_type": "stream",
     "text": [
      "(87639, 28)\n",
      "(87639, 23)\n",
      "(87639, 28)\n",
      "(87639, 25)\n",
      "(87639, 23)\n"
     ]
    }
   ],
   "source": [
    "for i in comp_prep_df_dict:\n",
    "    print(comp_prep_df_dict[i].shape)"
   ]
  },
  {
   "cell_type": "code",
   "execution_count": 16,
   "metadata": {
    "ExecuteTime": {
     "end_time": "2021-02-21T18:39:04.561971Z",
     "start_time": "2021-02-21T18:39:03.654330Z"
    }
   },
   "outputs": [
    {
     "name": "stdout",
     "output_type": "stream",
     "text": [
      "010 - agrupar pela medida de tempo seleccionada\n"
     ]
    }
   ],
   "source": [
    "print('010 - agrupar pela medida de tempo seleccionada')\n",
    "for key in comp_prep_df_dict:\n",
    "    comp_prep_df_dict[key] = group_por_frequency(comp_prep_df_dict[key], period='Dia')"
   ]
  },
  {
   "cell_type": "code",
   "execution_count": 17,
   "metadata": {
    "ExecuteTime": {
     "end_time": "2021-02-21T18:39:04.720067Z",
     "start_time": "2021-02-21T18:39:04.566959Z"
    }
   },
   "outputs": [
    {
     "name": "stdout",
     "output_type": "stream",
     "text": [
      "(610, 28)\n",
      "(610, 23)\n",
      "(610, 28)\n",
      "(610, 25)\n",
      "(610, 23)\n"
     ]
    }
   ],
   "source": [
    "for i in comp_prep_df_dict:\n",
    "    print(comp_prep_df_dict[i].shape)"
   ]
  },
  {
   "cell_type": "code",
   "execution_count": 18,
   "metadata": {
    "ExecuteTime": {
     "end_time": "2021-02-21T18:39:05.174891Z",
     "start_time": "2021-02-21T18:39:04.725053Z"
    }
   },
   "outputs": [
    {
     "name": "stdout",
     "output_type": "stream",
     "text": [
      "013 - Adicionar medidas de alisamento\n"
     ]
    }
   ],
   "source": [
    "print('013 - Adicionar medidas de alisamento')\n",
    "for key in comp_prep_df_dict:\n",
    "    comp_prep_df_dict[key] = add_feat_predict(comp_prep_df_dict[key], rolling_win_size=10)"
   ]
  },
  {
   "cell_type": "code",
   "execution_count": 19,
   "metadata": {
    "ExecuteTime": {
     "end_time": "2021-02-21T18:39:05.299702Z",
     "start_time": "2021-02-21T18:39:05.177817Z"
    }
   },
   "outputs": [
    {
     "name": "stdout",
     "output_type": "stream",
     "text": [
      "(610, 80)\n",
      "(610, 65)\n",
      "(610, 80)\n",
      "(610, 71)\n",
      "(610, 65)\n"
     ]
    }
   ],
   "source": [
    "for i in comp_prep_df_dict:\n",
    "    print(comp_prep_df_dict[i].shape)"
   ]
  },
  {
   "cell_type": "code",
   "execution_count": 20,
   "metadata": {
    "ExecuteTime": {
     "end_time": "2021-02-21T18:39:05.423886Z",
     "start_time": "2021-02-21T18:39:05.302709Z"
    }
   },
   "outputs": [],
   "source": [
    "for key in comp_prep_df_dict:\n",
    "    comp_prep_df_dict[key] = comp_prep_df_dict[key].drop(columns=['Turbine_ID', 'Date'])"
   ]
  },
  {
   "cell_type": "code",
   "execution_count": 21,
   "metadata": {
    "ExecuteTime": {
     "end_time": "2021-02-21T18:39:05.563197Z",
     "start_time": "2021-02-21T18:39:05.426875Z"
    }
   },
   "outputs": [
    {
     "name": "stdout",
     "output_type": "stream",
     "text": [
      "0    78\n",
      "dtype: int64\n",
      "0    63\n",
      "dtype: int64\n",
      "0    78\n",
      "dtype: int64\n",
      "0    69\n",
      "dtype: int64\n",
      "0    63\n",
      "dtype: int64\n"
     ]
    }
   ],
   "source": [
    "for i in comp_prep_df_dict:\n",
    "    print(comp_prep_df_dict[i].isna().sum().value_counts())"
   ]
  },
  {
   "cell_type": "code",
   "execution_count": 22,
   "metadata": {
    "ExecuteTime": {
     "end_time": "2021-02-21T18:39:05.690857Z",
     "start_time": "2021-02-21T18:39:05.567189Z"
    }
   },
   "outputs": [],
   "source": [
    "cols_order_generator = [\n",
    "    'Amb_Temp_Avg', 'Amb_WindDir_Abs_Avg', 'Amb_WindDir_Relative_Avg',\n",
    "    'Amb_WindSpeed_Avg', 'Amb_WindSpeed_Max', 'Amb_WindSpeed_Min',\n",
    "    'Amb_WindSpeed_Std', 'Blds_PitchAngle_Avg', 'Blds_PitchAngle_Std',\n",
    "    'Cont_Top_Temp_Avg', 'Cont_VCP_ChokcoilTemp_Avg', 'Cont_VCP_WtrTemp_Avg',\n",
    "    'Gen_Bear2_Temp_Avg', 'Gen_Bear_Temp_Avg', 'Gen_Phase2_Temp_Avg',\n",
    "    'Gen_RPM_Avg', 'Gen_RPM_Std', 'Gen_SlipRing_Temp_Avg',\n",
    "    'Grd_Busbar_Temp_Avg', 'Grd_RtrInvPhase2_Temp_Avg', 'Hyd_Oil_Temp_Avg',\n",
    "    'Nac_Direction_Avg', 'Nac_Temp_Avg', 'Prod_LatestAvg_ActPwrGen0',\n",
    "    'Prod_LatestAvg_ActPwrGen1', 'Prod_LatestAvg_ReactPwrGen0',\n",
    "    'Amb_Temp_Avg_av', 'Amb_WindDir_Abs_Avg_av', 'Amb_WindDir_Relative_Avg_av',\n",
    "    'Amb_WindSpeed_Avg_av', 'Amb_WindSpeed_Max_av', 'Amb_WindSpeed_Min_av',\n",
    "    'Amb_WindSpeed_Std_av', 'Blds_PitchAngle_Avg_av', 'Blds_PitchAngle_Std_av',\n",
    "    'Cont_Top_Temp_Avg_av', 'Cont_VCP_ChokcoilTemp_Avg_av',\n",
    "    'Cont_VCP_WtrTemp_Avg_av', 'Gen_Bear2_Temp_Avg_av', 'Gen_Bear_Temp_Avg_av',\n",
    "    'Gen_Phase2_Temp_Avg_av', 'Gen_RPM_Avg_av', 'Gen_RPM_Std_av',\n",
    "    'Gen_SlipRing_Temp_Avg_av', 'Grd_Busbar_Temp_Avg_av',\n",
    "    'Grd_RtrInvPhase2_Temp_Avg_av', 'Hyd_Oil_Temp_Avg_av',\n",
    "    'Nac_Direction_Avg_av', 'Nac_Temp_Avg_av', 'Prod_LatestAvg_ActPwrGen0_av',\n",
    "    'Prod_LatestAvg_ActPwrGen1_av', 'Prod_LatestAvg_ReactPwrGen0_av',\n",
    "    'Amb_Temp_Avg_sd', 'Amb_WindDir_Abs_Avg_sd', 'Amb_WindDir_Relative_Avg_sd',\n",
    "    'Amb_WindSpeed_Avg_sd', 'Amb_WindSpeed_Max_sd', 'Amb_WindSpeed_Min_sd',\n",
    "    'Amb_WindSpeed_Std_sd', 'Blds_PitchAngle_Avg_sd', 'Blds_PitchAngle_Std_sd',\n",
    "    'Cont_Top_Temp_Avg_sd', 'Cont_VCP_ChokcoilTemp_Avg_sd',\n",
    "    'Cont_VCP_WtrTemp_Avg_sd', 'Gen_Bear2_Temp_Avg_sd', 'Gen_Bear_Temp_Avg_sd',\n",
    "    'Gen_Phase2_Temp_Avg_sd', 'Gen_RPM_Avg_sd', 'Gen_RPM_Std_sd',\n",
    "    'Gen_SlipRing_Temp_Avg_sd', 'Grd_Busbar_Temp_Avg_sd',\n",
    "    'Grd_RtrInvPhase2_Temp_Avg_sd', 'Hyd_Oil_Temp_Avg_sd',\n",
    "    'Nac_Direction_Avg_sd', 'Nac_Temp_Avg_sd', 'Prod_LatestAvg_ActPwrGen0_sd',\n",
    "    'Prod_LatestAvg_ActPwrGen1_sd', 'Prod_LatestAvg_ReactPwrGen0_sd'\n",
    "]"
   ]
  },
  {
   "cell_type": "code",
   "execution_count": 23,
   "metadata": {
    "ExecuteTime": {
     "end_time": "2021-02-21T18:39:05.818516Z",
     "start_time": "2021-02-21T18:39:05.697839Z"
    }
   },
   "outputs": [],
   "source": [
    "comp_prep_df_dict['df_generator'] = comp_prep_df_dict['df_generator'][cols_order_generator]"
   ]
  },
  {
   "cell_type": "code",
   "execution_count": 24,
   "metadata": {
    "ExecuteTime": {
     "end_time": "2021-02-21T18:39:05.942196Z",
     "start_time": "2021-02-21T18:39:05.823502Z"
    }
   },
   "outputs": [],
   "source": [
    "cols_order_hydraulic = [\n",
    "    'Amb_Temp_Avg', 'Amb_WindDir_Abs_Avg', 'Amb_WindDir_Relative_Avg',\n",
    "    'Amb_WindSpeed_Avg', 'Amb_WindSpeed_Max', 'Amb_WindSpeed_Min',\n",
    "    'Amb_WindSpeed_Std', 'Blds_PitchAngle_Avg', 'Blds_PitchAngle_Std',\n",
    "    'Cont_Top_Temp_Avg', 'Cont_VCP_ChokcoilTemp_Avg', 'Cont_VCP_WtrTemp_Avg',\n",
    "    'Grd_Prod_VoltPhse1_Avg', 'Grd_Prod_VoltPhse2_Avg',\n",
    "    'Grd_Prod_VoltPhse3_Avg', 'Grd_RtrInvPhase2_Temp_Avg', 'Hyd_Oil_Temp_Avg',\n",
    "    'Nac_Direction_Avg', 'Nac_Temp_Avg', 'Rtr_RPM_Avg', 'Rtr_RPM_Std',\n",
    "    'Amb_Temp_Avg_av', 'Amb_WindDir_Abs_Avg_av', 'Amb_WindDir_Relative_Avg_av',\n",
    "    'Amb_WindSpeed_Avg_av', 'Amb_WindSpeed_Max_av', 'Amb_WindSpeed_Min_av',\n",
    "    'Amb_WindSpeed_Std_av', 'Blds_PitchAngle_Avg_av', 'Blds_PitchAngle_Std_av',\n",
    "    'Cont_Top_Temp_Avg_av', 'Cont_VCP_ChokcoilTemp_Avg_av',\n",
    "    'Cont_VCP_WtrTemp_Avg_av', 'Grd_Prod_VoltPhse1_Avg_av',\n",
    "    'Grd_Prod_VoltPhse2_Avg_av', 'Grd_Prod_VoltPhse3_Avg_av',\n",
    "    'Grd_RtrInvPhase2_Temp_Avg_av', 'Hyd_Oil_Temp_Avg_av',\n",
    "    'Nac_Direction_Avg_av', 'Nac_Temp_Avg_av', 'Rtr_RPM_Avg_av',\n",
    "    'Rtr_RPM_Std_av', 'Amb_Temp_Avg_sd', 'Amb_WindDir_Abs_Avg_sd',\n",
    "    'Amb_WindDir_Relative_Avg_sd', 'Amb_WindSpeed_Avg_sd',\n",
    "    'Amb_WindSpeed_Max_sd', 'Amb_WindSpeed_Min_sd', 'Amb_WindSpeed_Std_sd',\n",
    "    'Blds_PitchAngle_Avg_sd', 'Blds_PitchAngle_Std_sd', 'Cont_Top_Temp_Avg_sd',\n",
    "    'Cont_VCP_ChokcoilTemp_Avg_sd', 'Cont_VCP_WtrTemp_Avg_sd',\n",
    "    'Grd_Prod_VoltPhse1_Avg_sd', 'Grd_Prod_VoltPhse2_Avg_sd',\n",
    "    'Grd_Prod_VoltPhse3_Avg_sd', 'Grd_RtrInvPhase2_Temp_Avg_sd',\n",
    "    'Hyd_Oil_Temp_Avg_sd', 'Nac_Direction_Avg_sd', 'Nac_Temp_Avg_sd',\n",
    "    'Rtr_RPM_Avg_sd', 'Rtr_RPM_Std_sd'\n",
    "]"
   ]
  },
  {
   "cell_type": "code",
   "execution_count": 25,
   "metadata": {
    "ExecuteTime": {
     "end_time": "2021-02-21T18:39:06.049896Z",
     "start_time": "2021-02-21T18:39:05.944179Z"
    }
   },
   "outputs": [],
   "source": [
    "comp_prep_df_dict['df_hydraulic'] = comp_prep_df_dict['df_hydraulic'][cols_order_hydraulic]"
   ]
  },
  {
   "cell_type": "code",
   "execution_count": 26,
   "metadata": {
    "ExecuteTime": {
     "end_time": "2021-02-21T18:39:06.158605Z",
     "start_time": "2021-02-21T18:39:06.053888Z"
    }
   },
   "outputs": [],
   "source": [
    "cols_order_gen_bear = [\n",
    "    'Amb_Temp_Avg', 'Amb_WindDir_Abs_Avg', 'Amb_WindDir_Relative_Avg',\n",
    "    'Amb_WindSpeed_Avg', 'Amb_WindSpeed_Max', 'Amb_WindSpeed_Min',\n",
    "    'Amb_WindSpeed_Std', 'Blds_PitchAngle_Avg', 'Blds_PitchAngle_Std',\n",
    "    'Cont_Top_Temp_Avg', 'Cont_VCP_ChokcoilTemp_Avg', 'Cont_VCP_WtrTemp_Avg',\n",
    "    'Gen_Bear2_Temp_Avg', 'Gen_Bear_Temp_Avg', 'Gen_Phase2_Temp_Avg',\n",
    "    'Gen_RPM_Avg', 'Gen_RPM_Std', 'Gen_SlipRing_Temp_Avg',\n",
    "    'Grd_Busbar_Temp_Avg', 'Grd_RtrInvPhase2_Temp_Avg', 'Hyd_Oil_Temp_Avg',\n",
    "    'Nac_Direction_Avg', 'Nac_Temp_Avg', 'Prod_LatestAvg_ActPwrGen0',\n",
    "    'Prod_LatestAvg_ActPwrGen1', 'Prod_LatestAvg_ReactPwrGen0',\n",
    "    'Amb_Temp_Avg_av', 'Amb_WindDir_Abs_Avg_av', 'Amb_WindDir_Relative_Avg_av',\n",
    "    'Amb_WindSpeed_Avg_av', 'Amb_WindSpeed_Max_av', 'Amb_WindSpeed_Min_av',\n",
    "    'Amb_WindSpeed_Std_av', 'Blds_PitchAngle_Avg_av', 'Blds_PitchAngle_Std_av',\n",
    "    'Cont_Top_Temp_Avg_av', 'Cont_VCP_ChokcoilTemp_Avg_av',\n",
    "    'Cont_VCP_WtrTemp_Avg_av', 'Gen_Bear2_Temp_Avg_av', 'Gen_Bear_Temp_Avg_av',\n",
    "    'Gen_Phase2_Temp_Avg_av', 'Gen_RPM_Avg_av', 'Gen_RPM_Std_av',\n",
    "    'Gen_SlipRing_Temp_Avg_av', 'Grd_Busbar_Temp_Avg_av',\n",
    "    'Grd_RtrInvPhase2_Temp_Avg_av', 'Hyd_Oil_Temp_Avg_av',\n",
    "    'Nac_Direction_Avg_av', 'Nac_Temp_Avg_av', 'Prod_LatestAvg_ActPwrGen0_av',\n",
    "    'Prod_LatestAvg_ActPwrGen1_av', 'Prod_LatestAvg_ReactPwrGen0_av',\n",
    "    'Amb_Temp_Avg_sd', 'Amb_WindDir_Abs_Avg_sd', 'Amb_WindDir_Relative_Avg_sd',\n",
    "    'Amb_WindSpeed_Avg_sd', 'Amb_WindSpeed_Max_sd', 'Amb_WindSpeed_Min_sd',\n",
    "    'Amb_WindSpeed_Std_sd', 'Blds_PitchAngle_Avg_sd', 'Blds_PitchAngle_Std_sd',\n",
    "    'Cont_Top_Temp_Avg_sd', 'Cont_VCP_ChokcoilTemp_Avg_sd',\n",
    "    'Cont_VCP_WtrTemp_Avg_sd', 'Gen_Bear2_Temp_Avg_sd', 'Gen_Bear_Temp_Avg_sd',\n",
    "    'Gen_Phase2_Temp_Avg_sd', 'Gen_RPM_Avg_sd', 'Gen_RPM_Std_sd',\n",
    "    'Gen_SlipRing_Temp_Avg_sd', 'Grd_Busbar_Temp_Avg_sd',\n",
    "    'Grd_RtrInvPhase2_Temp_Avg_sd', 'Hyd_Oil_Temp_Avg_sd',\n",
    "    'Nac_Direction_Avg_sd', 'Nac_Temp_Avg_sd', 'Prod_LatestAvg_ActPwrGen0_sd',\n",
    "    'Prod_LatestAvg_ActPwrGen1_sd', 'Prod_LatestAvg_ReactPwrGen0_sd'\n",
    "]"
   ]
  },
  {
   "cell_type": "code",
   "execution_count": 27,
   "metadata": {
    "ExecuteTime": {
     "end_time": "2021-02-21T18:39:06.297234Z",
     "start_time": "2021-02-21T18:39:06.161599Z"
    }
   },
   "outputs": [],
   "source": [
    "comp_prep_df_dict['df_gen_bear'] = comp_prep_df_dict['df_gen_bear'][cols_order_gen_bear]"
   ]
  },
  {
   "cell_type": "code",
   "execution_count": 30,
   "metadata": {
    "ExecuteTime": {
     "end_time": "2021-02-21T18:39:26.962079Z",
     "start_time": "2021-02-21T18:39:26.863912Z"
    }
   },
   "outputs": [],
   "source": [
    "cols_order_transformer = [\n",
    "    'Amb_Temp_Avg', 'Amb_WindDir_Abs_Avg', 'Amb_WindDir_Relative_Avg',\n",
    "    'Amb_WindSpeed_Avg', 'Amb_WindSpeed_Max', 'Amb_WindSpeed_Min',\n",
    "    'Amb_WindSpeed_Std', 'Blds_PitchAngle_Avg', 'Blds_PitchAngle_Std',\n",
    "    'Cont_Hub_Temp_Avg', 'Cont_Top_Temp_Avg', 'Cont_VCP_ChokcoilTemp_Avg',\n",
    "    'Cont_VCP_WtrTemp_Avg', 'Grd_Busbar_Temp_Avg', 'Grd_Prod_VoltPhse1_Avg',\n",
    "    'Grd_Prod_VoltPhse2_Avg', 'Grd_Prod_VoltPhse3_Avg',\n",
    "    'Grd_RtrInvPhase2_Temp_Avg', 'HVTrafo_Phase2_Temp_Avg',\n",
    "    'Nac_Direction_Avg', 'Nac_Temp_Avg', 'Rtr_RPM_Avg', 'Rtr_RPM_Std',\n",
    "    'Amb_Temp_Avg_av', 'Amb_WindDir_Abs_Avg_av', 'Amb_WindDir_Relative_Avg_av',\n",
    "    'Amb_WindSpeed_Avg_av', 'Amb_WindSpeed_Max_av', 'Amb_WindSpeed_Min_av',\n",
    "    'Amb_WindSpeed_Std_av', 'Blds_PitchAngle_Avg_av', 'Blds_PitchAngle_Std_av',\n",
    "    'Cont_Hub_Temp_Avg_av', 'Cont_Top_Temp_Avg_av',\n",
    "    'Cont_VCP_ChokcoilTemp_Avg_av', 'Cont_VCP_WtrTemp_Avg_av',\n",
    "    'Grd_Busbar_Temp_Avg_av', 'Grd_Prod_VoltPhse1_Avg_av',\n",
    "    'Grd_Prod_VoltPhse2_Avg_av', 'Grd_Prod_VoltPhse3_Avg_av',\n",
    "    'Grd_RtrInvPhase2_Temp_Avg_av', 'HVTrafo_Phase2_Temp_Avg_av',\n",
    "    'Nac_Direction_Avg_av', 'Nac_Temp_Avg_av', 'Rtr_RPM_Avg_av',\n",
    "    'Rtr_RPM_Std_av', 'Amb_Temp_Avg_sd', 'Amb_WindDir_Abs_Avg_sd',\n",
    "    'Amb_WindDir_Relative_Avg_sd', 'Amb_WindSpeed_Avg_sd',\n",
    "    'Amb_WindSpeed_Max_sd', 'Amb_WindSpeed_Min_sd', 'Amb_WindSpeed_Std_sd',\n",
    "    'Blds_PitchAngle_Avg_sd', 'Blds_PitchAngle_Std_sd', 'Cont_Hub_Temp_Avg_sd',\n",
    "    'Cont_Top_Temp_Avg_sd', 'Cont_VCP_ChokcoilTemp_Avg_sd',\n",
    "    'Cont_VCP_WtrTemp_Avg_sd', 'Grd_Busbar_Temp_Avg_sd',\n",
    "    'Grd_Prod_VoltPhse1_Avg_sd', 'Grd_Prod_VoltPhse2_Avg_sd',\n",
    "    'Grd_Prod_VoltPhse3_Avg_sd', 'Grd_RtrInvPhase2_Temp_Avg_sd',\n",
    "    'HVTrafo_Phase2_Temp_Avg_sd', 'Nac_Direction_Avg_sd', 'Nac_Temp_Avg_sd',\n",
    "    'Rtr_RPM_Avg_sd', 'Rtr_RPM_Std_sd'\n",
    "]"
   ]
  },
  {
   "cell_type": "code",
   "execution_count": 31,
   "metadata": {
    "ExecuteTime": {
     "end_time": "2021-02-21T18:39:29.538018Z",
     "start_time": "2021-02-21T18:39:29.428976Z"
    }
   },
   "outputs": [],
   "source": [
    "comp_prep_df_dict['df_transformer'] = comp_prep_df_dict['df_transformer'][cols_order_transformer]"
   ]
  },
  {
   "cell_type": "code",
   "execution_count": 32,
   "metadata": {
    "ExecuteTime": {
     "end_time": "2021-02-21T18:39:30.431976Z",
     "start_time": "2021-02-21T18:39:30.334869Z"
    }
   },
   "outputs": [],
   "source": [
    "cols_order_gearbox = [\n",
    "    'Amb_Temp_Avg', 'Amb_WindDir_Abs_Avg', 'Amb_WindDir_Relative_Avg',\n",
    "    'Amb_WindSpeed_Avg', 'Amb_WindSpeed_Max', 'Amb_WindSpeed_Min',\n",
    "    'Amb_WindSpeed_Std', 'Blds_PitchAngle_Avg', 'Blds_PitchAngle_Std',\n",
    "    'Cont_Hub_Temp_Avg', 'Cont_Top_Temp_Avg', 'Cont_VCP_ChokcoilTemp_Avg',\n",
    "    'Cont_VCP_WtrTemp_Avg', 'Gear_Bear_Temp_Avg', 'Gear_Oil_Temp_Avg',\n",
    "    'Grd_RtrInvPhase2_Temp_Avg', 'Hyd_Oil_Temp_Avg', 'Nac_Direction_Avg',\n",
    "    'Nac_Temp_Avg', 'Rtr_RPM_Avg', 'Rtr_RPM_Std', 'Amb_Temp_Avg_av',\n",
    "    'Amb_WindDir_Abs_Avg_av', 'Amb_WindDir_Relative_Avg_av',\n",
    "    'Amb_WindSpeed_Avg_av', 'Amb_WindSpeed_Max_av', 'Amb_WindSpeed_Min_av',\n",
    "    'Amb_WindSpeed_Std_av', 'Blds_PitchAngle_Avg_av', 'Blds_PitchAngle_Std_av',\n",
    "    'Cont_Hub_Temp_Avg_av', 'Cont_Top_Temp_Avg_av',\n",
    "    'Cont_VCP_ChokcoilTemp_Avg_av', 'Cont_VCP_WtrTemp_Avg_av',\n",
    "    'Gear_Bear_Temp_Avg_av', 'Gear_Oil_Temp_Avg_av',\n",
    "    'Grd_RtrInvPhase2_Temp_Avg_av', 'Hyd_Oil_Temp_Avg_av',\n",
    "    'Nac_Direction_Avg_av', 'Nac_Temp_Avg_av', 'Rtr_RPM_Avg_av',\n",
    "    'Rtr_RPM_Std_av', 'Amb_Temp_Avg_sd', 'Amb_WindDir_Abs_Avg_sd',\n",
    "    'Amb_WindDir_Relative_Avg_sd', 'Amb_WindSpeed_Avg_sd',\n",
    "    'Amb_WindSpeed_Max_sd', 'Amb_WindSpeed_Min_sd', 'Amb_WindSpeed_Std_sd',\n",
    "    'Blds_PitchAngle_Avg_sd', 'Blds_PitchAngle_Std_sd', 'Cont_Hub_Temp_Avg_sd',\n",
    "    'Cont_Top_Temp_Avg_sd', 'Cont_VCP_ChokcoilTemp_Avg_sd',\n",
    "    'Cont_VCP_WtrTemp_Avg_sd', 'Gear_Bear_Temp_Avg_sd', 'Gear_Oil_Temp_Avg_sd',\n",
    "    'Grd_RtrInvPhase2_Temp_Avg_sd', 'Hyd_Oil_Temp_Avg_sd',\n",
    "    'Nac_Direction_Avg_sd', 'Nac_Temp_Avg_sd', 'Rtr_RPM_Avg_sd',\n",
    "    'Rtr_RPM_Std_sd'\n",
    "]"
   ]
  },
  {
   "cell_type": "code",
   "execution_count": 33,
   "metadata": {
    "ExecuteTime": {
     "end_time": "2021-02-21T18:39:30.932111Z",
     "start_time": "2021-02-21T18:39:30.837489Z"
    }
   },
   "outputs": [],
   "source": [
    "comp_prep_df_dict['df_gearbox'] = comp_prep_df_dict['df_gearbox'][cols_order_gearbox]"
   ]
  },
  {
   "cell_type": "code",
   "execution_count": 34,
   "metadata": {
    "ExecuteTime": {
     "end_time": "2021-02-21T18:39:31.341754Z",
     "start_time": "2021-02-21T18:39:31.223744Z"
    }
   },
   "outputs": [
    {
     "name": "stdout",
     "output_type": "stream",
     "text": [
      "014 - fazer o load do StandardScaler para cada componente à pedreiro\n",
      "014.1 - df_generator\n",
      "014.2 - df_hydraulic\n",
      "014.3 - df_gen_bear\n",
      "014.4 - df_transformer\n",
      "014.5 - df_gearbox\n"
     ]
    }
   ],
   "source": [
    "print('014 - fazer o load do StandardScaler para cada componente à pedreiro')\n",
    "print('014.1 - df_generator')\n",
    "scaler_df_generator = joblib.load('scaler_df_generator.joblib')\n",
    "print('014.2 - df_hydraulic')\n",
    "scaler_df_hydraulic = joblib.load('scaler_df_hydraulic.joblib')\n",
    "print('014.3 - df_gen_bear')\n",
    "scaler_df_gen_bear = joblib.load('scaler_df_gen_bear.joblib')\n",
    "print('014.4 - df_transformer')\n",
    "scaler_df_transformer = joblib.load('scaler_df_transformer.joblib')\n",
    "print('014.5 - df_gearbox')\n",
    "scaler_df_gearbox = joblib.load('scaler_df_gearbox.joblib')"
   ]
  },
  {
   "cell_type": "code",
   "execution_count": 35,
   "metadata": {
    "ExecuteTime": {
     "end_time": "2021-02-21T18:39:31.546207Z",
     "start_time": "2021-02-21T18:39:31.406583Z"
    }
   },
   "outputs": [
    {
     "name": "stdout",
     "output_type": "stream",
     "text": [
      "016 - aplicar o scale com o fit efectuado no treino\n"
     ]
    }
   ],
   "source": [
    "print('016 - aplicar o scale com o fit efectuado no treino')\n",
    "comp_prep_df_dict['df_generator'] = scaler_df_generator.transform(comp_prep_df_dict['df_generator'])\n",
    "comp_prep_df_dict['df_hydraulic'] = scaler_df_hydraulic.transform(comp_prep_df_dict['df_hydraulic'])\n",
    "comp_prep_df_dict['df_gen_bear'] = scaler_df_gen_bear.transform(comp_prep_df_dict['df_gen_bear'])\n",
    "comp_prep_df_dict['df_transformer'] = scaler_df_transformer.transform(comp_prep_df_dict['df_transformer'])\n",
    "comp_prep_df_dict['df_gearbox'] = scaler_df_gearbox.transform(comp_prep_df_dict['df_gearbox'])"
   ]
  },
  {
   "cell_type": "code",
   "execution_count": 36,
   "metadata": {
    "ExecuteTime": {
     "end_time": "2021-02-21T18:39:32.220414Z",
     "start_time": "2021-02-21T18:39:31.557191Z"
    }
   },
   "outputs": [],
   "source": [
    "generator_model = joblib.load('generator_model.joblib')\n",
    "hydraulic_model = joblib.load('hydraulic_model.joblib')\n",
    "gen_bear_model = joblib.load('gen_bear_model.joblib')\n",
    "transformer_model = joblib.load('transformer_model.joblib')\n",
    "gearbox_model = joblib.load('gearbox_model.joblib')"
   ]
  },
  {
   "cell_type": "code",
   "execution_count": 37,
   "metadata": {
    "ExecuteTime": {
     "end_time": "2021-02-21T18:39:33.086127Z",
     "start_time": "2021-02-21T18:39:32.223407Z"
    }
   },
   "outputs": [],
   "source": [
    "y_pred_generator = generator_model.predict(comp_prep_df_dict['df_generator'])\n",
    "y_pred_hydraulic = hydraulic_model.predict(comp_prep_df_dict['df_hydraulic'])\n",
    "y_pred_gen_bear = gen_bear_model.predict(comp_prep_df_dict['df_gen_bear'])\n",
    "y_pred_transformer = transformer_model.predict(comp_prep_df_dict['df_transformer'])\n",
    "y_pred_gearbox = gearbox_model.predict(comp_prep_df_dict['df_gearbox'])"
   ]
  },
  {
   "cell_type": "code",
   "execution_count": 45,
   "metadata": {
    "ExecuteTime": {
     "end_time": "2021-02-21T18:41:07.027238Z",
     "start_time": "2021-02-21T18:41:06.897573Z"
    }
   },
   "outputs": [
    {
     "data": {
      "text/plain": [
       "array([0, 1, 0, 0, 0, 0, 0, 0, 0, 0, 0, 0, 0, 0, 0, 0, 0, 0, 0, 0, 0, 0,\n",
       "       0, 0, 0, 0, 0, 0, 0, 0, 0, 0, 0, 0, 0, 0, 0, 0, 0, 0, 0, 0, 0, 0,\n",
       "       0, 0, 0, 0, 0, 0, 0, 0, 0, 0, 0, 0, 0, 0, 0, 0, 0, 0, 0, 0, 0, 0,\n",
       "       0, 0, 0, 0, 0, 0, 0, 0, 0, 0, 0, 0, 0, 0, 0, 0, 0, 0, 0, 0, 0, 0,\n",
       "       0, 0, 0, 0, 0, 0, 0, 0, 0, 0, 0, 0, 0, 0, 0, 0, 0, 0, 0, 0, 0, 0,\n",
       "       0, 0, 0, 0, 0, 0, 0, 0, 0, 0, 0, 0, 0, 1, 0, 0, 0, 0, 0, 0, 0, 0,\n",
       "       0, 0, 0, 0, 0, 0, 0, 0, 0, 0, 0, 0, 0, 0, 0, 0, 0, 0, 0, 0, 0, 0,\n",
       "       0, 0, 0, 0, 0, 0, 0, 0, 0, 0, 0, 0, 0, 0, 0, 0, 0, 0, 0, 0, 0, 0,\n",
       "       0, 0, 0, 0, 0, 0, 0, 0, 0, 0, 0, 0, 0, 0, 0, 0, 0, 0, 0, 0, 0, 0,\n",
       "       0, 0, 0, 0, 0, 0, 0, 0, 0, 0, 0, 0, 0, 0, 0, 0, 0, 0, 0, 0, 0, 0,\n",
       "       0, 0, 0, 0, 0, 0, 0, 0, 0, 0, 0, 0, 0, 0, 0, 0, 0, 0, 0, 0, 0, 0,\n",
       "       0, 0, 1, 1, 1, 0, 0, 0, 0, 0, 0, 0, 0, 0, 0, 0, 0, 0, 0, 0, 0, 0,\n",
       "       0, 0, 0, 0, 0, 0, 0, 0, 0, 0, 0, 0, 0, 0, 0, 0, 0, 0, 0, 0, 0, 0,\n",
       "       0, 0, 0, 0, 0, 0, 0, 0, 0, 0, 0, 0, 0, 0, 0, 0, 0, 0, 0, 0, 0, 0,\n",
       "       0, 0, 0, 0, 0, 0, 0, 0, 0, 0, 0, 0, 0, 0, 0, 0, 0, 0, 0, 0, 0, 0,\n",
       "       0, 0, 0, 0, 0, 0, 0, 0, 0, 0, 0, 0, 0, 0, 0, 0, 0, 0, 0, 0, 0, 0,\n",
       "       0, 0, 0, 0, 0, 0, 0, 0, 0, 0, 0, 0, 0, 0, 1, 1, 1, 0, 0, 0, 0, 0,\n",
       "       0, 0, 0, 0, 0, 0, 0, 0, 0, 0, 0, 1, 0, 0, 0, 0, 0, 0, 0, 0, 0, 0,\n",
       "       0, 0, 0, 0, 0, 0, 0, 0, 0, 0, 0, 0, 0, 0, 0, 0, 0, 0, 0, 0, 0, 0,\n",
       "       0, 0, 0, 0, 0, 0, 0, 0, 0, 0, 0, 0, 0, 0, 0, 0, 0, 0, 0, 0, 0, 0,\n",
       "       0, 0, 0, 0, 0, 0, 0, 0, 0, 0, 0, 0, 0, 0, 0, 0, 0, 0, 0, 0, 0, 0,\n",
       "       0, 0, 0, 0, 0, 0, 0, 0, 0, 0, 0, 0, 0, 0, 0, 0, 0, 0, 0, 0, 0, 0,\n",
       "       0, 0, 0, 0, 0, 0, 0, 0, 0, 0, 0, 0, 0, 0, 0, 0, 0, 0, 0, 0, 0, 0,\n",
       "       0, 0, 0, 0, 0, 0, 0, 0, 0, 0, 0, 0, 0, 0, 0, 0, 0, 0, 0, 0, 0, 0,\n",
       "       0, 0, 0, 0, 0, 0, 0, 0, 0, 0, 0, 0, 0, 0, 0, 0, 0, 0, 0, 0, 0, 0,\n",
       "       0, 0, 0, 0, 0, 0, 0, 0, 0, 0, 0, 0, 0, 0, 0, 0, 0, 0, 0, 0, 0, 0,\n",
       "       0, 0, 0, 0, 0, 0, 0, 0, 0, 0, 0, 0, 0, 0, 0, 0, 0, 0, 0, 0, 0, 0,\n",
       "       0, 0, 0, 0, 0, 0, 0, 0, 0, 0, 0, 0, 0, 0, 0, 0])"
      ]
     },
     "execution_count": 45,
     "metadata": {},
     "output_type": "execute_result"
    }
   ],
   "source": [
    "y_pred_gearbox"
   ]
  },
  {
   "cell_type": "code",
   "execution_count": 39,
   "metadata": {
    "ExecuteTime": {
     "end_time": "2021-02-21T18:39:33.367956Z",
     "start_time": "2021-02-21T18:39:33.230322Z"
    }
   },
   "outputs": [],
   "source": [
    "lalalal = pd.DataFrame(y_pred_generator)"
   ]
  },
  {
   "cell_type": "code",
   "execution_count": 40,
   "metadata": {
    "ExecuteTime": {
     "end_time": "2021-02-21T18:39:33.506579Z",
     "start_time": "2021-02-21T18:39:33.370944Z"
    }
   },
   "outputs": [
    {
     "data": {
      "text/html": [
       "<div>\n",
       "<style scoped>\n",
       "    .dataframe tbody tr th:only-of-type {\n",
       "        vertical-align: middle;\n",
       "    }\n",
       "\n",
       "    .dataframe tbody tr th {\n",
       "        vertical-align: top;\n",
       "    }\n",
       "\n",
       "    .dataframe thead th {\n",
       "        text-align: right;\n",
       "    }\n",
       "</style>\n",
       "<table border=\"1\" class=\"dataframe\">\n",
       "  <thead>\n",
       "    <tr style=\"text-align: right;\">\n",
       "      <th></th>\n",
       "      <th>0</th>\n",
       "    </tr>\n",
       "  </thead>\n",
       "  <tbody>\n",
       "    <tr>\n",
       "      <th>7</th>\n",
       "      <td>1</td>\n",
       "    </tr>\n",
       "    <tr>\n",
       "      <th>10</th>\n",
       "      <td>1</td>\n",
       "    </tr>\n",
       "    <tr>\n",
       "      <th>13</th>\n",
       "      <td>1</td>\n",
       "    </tr>\n",
       "    <tr>\n",
       "      <th>20</th>\n",
       "      <td>1</td>\n",
       "    </tr>\n",
       "    <tr>\n",
       "      <th>24</th>\n",
       "      <td>1</td>\n",
       "    </tr>\n",
       "    <tr>\n",
       "      <th>76</th>\n",
       "      <td>1</td>\n",
       "    </tr>\n",
       "    <tr>\n",
       "      <th>125</th>\n",
       "      <td>1</td>\n",
       "    </tr>\n",
       "    <tr>\n",
       "      <th>126</th>\n",
       "      <td>1</td>\n",
       "    </tr>\n",
       "    <tr>\n",
       "      <th>129</th>\n",
       "      <td>1</td>\n",
       "    </tr>\n",
       "    <tr>\n",
       "      <th>130</th>\n",
       "      <td>1</td>\n",
       "    </tr>\n",
       "    <tr>\n",
       "      <th>132</th>\n",
       "      <td>1</td>\n",
       "    </tr>\n",
       "    <tr>\n",
       "      <th>133</th>\n",
       "      <td>1</td>\n",
       "    </tr>\n",
       "    <tr>\n",
       "      <th>134</th>\n",
       "      <td>1</td>\n",
       "    </tr>\n",
       "    <tr>\n",
       "      <th>135</th>\n",
       "      <td>1</td>\n",
       "    </tr>\n",
       "    <tr>\n",
       "      <th>136</th>\n",
       "      <td>1</td>\n",
       "    </tr>\n",
       "    <tr>\n",
       "      <th>137</th>\n",
       "      <td>1</td>\n",
       "    </tr>\n",
       "    <tr>\n",
       "      <th>138</th>\n",
       "      <td>1</td>\n",
       "    </tr>\n",
       "    <tr>\n",
       "      <th>139</th>\n",
       "      <td>1</td>\n",
       "    </tr>\n",
       "    <tr>\n",
       "      <th>140</th>\n",
       "      <td>1</td>\n",
       "    </tr>\n",
       "    <tr>\n",
       "      <th>141</th>\n",
       "      <td>1</td>\n",
       "    </tr>\n",
       "    <tr>\n",
       "      <th>142</th>\n",
       "      <td>1</td>\n",
       "    </tr>\n",
       "    <tr>\n",
       "      <th>143</th>\n",
       "      <td>1</td>\n",
       "    </tr>\n",
       "    <tr>\n",
       "      <th>144</th>\n",
       "      <td>1</td>\n",
       "    </tr>\n",
       "    <tr>\n",
       "      <th>145</th>\n",
       "      <td>1</td>\n",
       "    </tr>\n",
       "    <tr>\n",
       "      <th>146</th>\n",
       "      <td>1</td>\n",
       "    </tr>\n",
       "    <tr>\n",
       "      <th>147</th>\n",
       "      <td>1</td>\n",
       "    </tr>\n",
       "    <tr>\n",
       "      <th>148</th>\n",
       "      <td>1</td>\n",
       "    </tr>\n",
       "    <tr>\n",
       "      <th>151</th>\n",
       "      <td>1</td>\n",
       "    </tr>\n",
       "    <tr>\n",
       "      <th>171</th>\n",
       "      <td>1</td>\n",
       "    </tr>\n",
       "    <tr>\n",
       "      <th>172</th>\n",
       "      <td>1</td>\n",
       "    </tr>\n",
       "    <tr>\n",
       "      <th>...</th>\n",
       "      <td>...</td>\n",
       "    </tr>\n",
       "    <tr>\n",
       "      <th>432</th>\n",
       "      <td>1</td>\n",
       "    </tr>\n",
       "    <tr>\n",
       "      <th>433</th>\n",
       "      <td>1</td>\n",
       "    </tr>\n",
       "    <tr>\n",
       "      <th>434</th>\n",
       "      <td>1</td>\n",
       "    </tr>\n",
       "    <tr>\n",
       "      <th>435</th>\n",
       "      <td>1</td>\n",
       "    </tr>\n",
       "    <tr>\n",
       "      <th>436</th>\n",
       "      <td>1</td>\n",
       "    </tr>\n",
       "    <tr>\n",
       "      <th>437</th>\n",
       "      <td>1</td>\n",
       "    </tr>\n",
       "    <tr>\n",
       "      <th>438</th>\n",
       "      <td>1</td>\n",
       "    </tr>\n",
       "    <tr>\n",
       "      <th>439</th>\n",
       "      <td>1</td>\n",
       "    </tr>\n",
       "    <tr>\n",
       "      <th>441</th>\n",
       "      <td>1</td>\n",
       "    </tr>\n",
       "    <tr>\n",
       "      <th>442</th>\n",
       "      <td>1</td>\n",
       "    </tr>\n",
       "    <tr>\n",
       "      <th>443</th>\n",
       "      <td>1</td>\n",
       "    </tr>\n",
       "    <tr>\n",
       "      <th>444</th>\n",
       "      <td>1</td>\n",
       "    </tr>\n",
       "    <tr>\n",
       "      <th>445</th>\n",
       "      <td>1</td>\n",
       "    </tr>\n",
       "    <tr>\n",
       "      <th>446</th>\n",
       "      <td>1</td>\n",
       "    </tr>\n",
       "    <tr>\n",
       "      <th>447</th>\n",
       "      <td>1</td>\n",
       "    </tr>\n",
       "    <tr>\n",
       "      <th>448</th>\n",
       "      <td>1</td>\n",
       "    </tr>\n",
       "    <tr>\n",
       "      <th>449</th>\n",
       "      <td>1</td>\n",
       "    </tr>\n",
       "    <tr>\n",
       "      <th>450</th>\n",
       "      <td>1</td>\n",
       "    </tr>\n",
       "    <tr>\n",
       "      <th>451</th>\n",
       "      <td>1</td>\n",
       "    </tr>\n",
       "    <tr>\n",
       "      <th>452</th>\n",
       "      <td>1</td>\n",
       "    </tr>\n",
       "    <tr>\n",
       "      <th>453</th>\n",
       "      <td>1</td>\n",
       "    </tr>\n",
       "    <tr>\n",
       "      <th>454</th>\n",
       "      <td>1</td>\n",
       "    </tr>\n",
       "    <tr>\n",
       "      <th>455</th>\n",
       "      <td>1</td>\n",
       "    </tr>\n",
       "    <tr>\n",
       "      <th>456</th>\n",
       "      <td>1</td>\n",
       "    </tr>\n",
       "    <tr>\n",
       "      <th>457</th>\n",
       "      <td>1</td>\n",
       "    </tr>\n",
       "    <tr>\n",
       "      <th>458</th>\n",
       "      <td>1</td>\n",
       "    </tr>\n",
       "    <tr>\n",
       "      <th>588</th>\n",
       "      <td>1</td>\n",
       "    </tr>\n",
       "    <tr>\n",
       "      <th>590</th>\n",
       "      <td>1</td>\n",
       "    </tr>\n",
       "    <tr>\n",
       "      <th>592</th>\n",
       "      <td>1</td>\n",
       "    </tr>\n",
       "    <tr>\n",
       "      <th>609</th>\n",
       "      <td>1</td>\n",
       "    </tr>\n",
       "  </tbody>\n",
       "</table>\n",
       "<p>98 rows × 1 columns</p>\n",
       "</div>"
      ],
      "text/plain": [
       "     0\n",
       "7    1\n",
       "10   1\n",
       "13   1\n",
       "20   1\n",
       "24   1\n",
       "76   1\n",
       "125  1\n",
       "126  1\n",
       "129  1\n",
       "130  1\n",
       "132  1\n",
       "133  1\n",
       "134  1\n",
       "135  1\n",
       "136  1\n",
       "137  1\n",
       "138  1\n",
       "139  1\n",
       "140  1\n",
       "141  1\n",
       "142  1\n",
       "143  1\n",
       "144  1\n",
       "145  1\n",
       "146  1\n",
       "147  1\n",
       "148  1\n",
       "151  1\n",
       "171  1\n",
       "172  1\n",
       "..  ..\n",
       "432  1\n",
       "433  1\n",
       "434  1\n",
       "435  1\n",
       "436  1\n",
       "437  1\n",
       "438  1\n",
       "439  1\n",
       "441  1\n",
       "442  1\n",
       "443  1\n",
       "444  1\n",
       "445  1\n",
       "446  1\n",
       "447  1\n",
       "448  1\n",
       "449  1\n",
       "450  1\n",
       "451  1\n",
       "452  1\n",
       "453  1\n",
       "454  1\n",
       "455  1\n",
       "456  1\n",
       "457  1\n",
       "458  1\n",
       "588  1\n",
       "590  1\n",
       "592  1\n",
       "609  1\n",
       "\n",
       "[98 rows x 1 columns]"
      ]
     },
     "execution_count": 40,
     "metadata": {},
     "output_type": "execute_result"
    }
   ],
   "source": [
    "lalalal[lalalal[0]==1]"
   ]
  },
  {
   "cell_type": "code",
   "execution_count": null,
   "metadata": {
    "ExecuteTime": {
     "end_time": "2021-02-21T18:39:06.821933Z",
     "start_time": "2021-02-21T18:38:47.710Z"
    }
   },
   "outputs": [],
   "source": [
    "comp_prep_df_dict['df_generator'].shape"
   ]
  }
 ],
 "metadata": {
  "kernelspec": {
   "display_name": "Python 3",
   "language": "python",
   "name": "python3"
  },
  "language_info": {
   "codemirror_mode": {
    "name": "ipython",
    "version": 3
   },
   "file_extension": ".py",
   "mimetype": "text/x-python",
   "name": "python",
   "nbconvert_exporter": "python",
   "pygments_lexer": "ipython3",
   "version": "3.7.7"
  }
 },
 "nbformat": 4,
 "nbformat_minor": 4
}
