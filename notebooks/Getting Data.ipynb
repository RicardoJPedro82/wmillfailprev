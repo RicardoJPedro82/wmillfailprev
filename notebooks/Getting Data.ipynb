{
 "cells": [
  {
   "cell_type": "code",
   "execution_count": 1,
   "id": "textile-plumbing",
   "metadata": {
    "ExecuteTime": {
     "end_time": "2021-02-04T19:29:02.048103Z",
     "start_time": "2021-02-04T19:29:00.731105Z"
    }
   },
   "outputs": [],
   "source": [
    "import pandas as pd\n",
    "import numpy as np\n",
    "import seaborn as sns\n",
    "import matplotlib.pyplot as plt\n",
    "import datetime"
   ]
  },
  {
   "cell_type": "code",
   "execution_count": 2,
   "id": "thrown-proportion",
   "metadata": {
    "ExecuteTime": {
     "end_time": "2021-02-04T19:29:02.085156Z",
     "start_time": "2021-02-04T19:29:02.060453Z"
    }
   },
   "outputs": [],
   "source": [
    "def get_data_and_first_cleaning():\n",
    "    rooth_path = '../rawdata/training/'\n",
    "    failures_df = pd.read_csv(rooth_path + 'wind-farm-1-failures-training.csv')\n",
    "    locations_df = pd.read_csv(rooth_path + \"wind-farm-1-locations.csv\")\n",
    "    logs_df = pd.read_csv(rooth_path + 'wind-farm-1-logs-training.csv')\n",
    "    metmast_df = pd.read_csv(rooth_path + 'wind-farm-1-metmast-training.csv', sep=';')\n",
    "    signals_df = pd.read_csv(rooth_path + 'wind-farm-1-signals-training.csv', sep=';')\n",
    "    power_df = pd.read_csv(rooth_path + 'Power_curve.csv', sep=',')\n",
    "#     costs_df = pd.read_csv(rooth_path + 'HTW_Costs.csv')\n",
    "    \n",
    "    # pass all the Timestamps to date-time format\n",
    "    failures_df['Timestamp'] = pd.to_datetime(failures_df['Timestamp'])\n",
    "    logs_df['Timestamp'] = pd.to_datetime(logs_df['TimeDetected'])\n",
    "    logs_df = logs_df.drop(columns=['TimeDetected','UnitTitleDestination'])\n",
    "    metmast_df['Timestamp'] = pd.to_datetime(metmast_df['Timestamp'])\n",
    "    signals_df['Timestamp'] = pd.to_datetime(signals_df['Timestamp'])\n",
    "     \n",
    "    # Drop Columns with std=0 by DA\n",
    "    drop_features_metmast = ['Anemometer1_Offset', 'Anemometer2_Freq', 'Anemometer2_Offset', 'Min_Raindetection',\n",
    "                             'Avg_Raindetection', 'Anemometer1_CorrGain', 'Anemometer1_CorrOffset',\n",
    "                             'Anemometer2_CorrGain', 'Anemometer2_CorrOffset', 'DistanceAirPress', \n",
    "                             'AirRessureSensorZeroOffset']\n",
    "    metmast_df = metmast_df.drop(columns=drop_features_metmast)\n",
    "    \n",
    "    drop_features_signals = ['Prod_LatestAvg_ActPwrGen2', 'Prod_LatestAvg_ReactPwrGen2']\n",
    "    signals_df = signals_df.drop(columns=drop_features_signals)\n",
    "    \n",
    "    failures_df = failures_df.drop(columns='Remarks')\n",
    "    \n",
    "    #Fill na by interpolate\n",
    "    signals_df = signals_df.bfill()\n",
    "    \n",
    "    return failures_df, locations_df, logs_df, metmast_df, signals_df, power_df"
   ]
  },
  {
   "cell_type": "code",
   "execution_count": 3,
   "id": "binding-snowboard",
   "metadata": {
    "ExecuteTime": {
     "end_time": "2021-02-04T19:29:07.421096Z",
     "start_time": "2021-02-04T19:29:02.089718Z"
    }
   },
   "outputs": [],
   "source": [
    "failures_df, locations_df, logs_df, metmast_df, signals_df, power_df = get_data_and_first_cleaning()"
   ]
  },
  {
   "cell_type": "code",
   "execution_count": 4,
   "id": "executive-warner",
   "metadata": {
    "ExecuteTime": {
     "end_time": "2021-02-04T19:29:07.441994Z",
     "start_time": "2021-02-04T19:29:07.424159Z"
    }
   },
   "outputs": [
    {
     "data": {
      "text/html": [
       "<div>\n",
       "<style scoped>\n",
       "    .dataframe tbody tr th:only-of-type {\n",
       "        vertical-align: middle;\n",
       "    }\n",
       "\n",
       "    .dataframe tbody tr th {\n",
       "        vertical-align: top;\n",
       "    }\n",
       "\n",
       "    .dataframe thead th {\n",
       "        text-align: right;\n",
       "    }\n",
       "</style>\n",
       "<table border=\"1\" class=\"dataframe\">\n",
       "  <thead>\n",
       "    <tr style=\"text-align: right;\">\n",
       "      <th></th>\n",
       "      <th>Turbine_ID</th>\n",
       "      <th>Component</th>\n",
       "      <th>Timestamp</th>\n",
       "    </tr>\n",
       "  </thead>\n",
       "  <tbody>\n",
       "    <tr>\n",
       "      <th>0</th>\n",
       "      <td>T11</td>\n",
       "      <td>GENERATOR</td>\n",
       "      <td>2016-03-03 19:00:00+00:00</td>\n",
       "    </tr>\n",
       "    <tr>\n",
       "      <th>1</th>\n",
       "      <td>T06</td>\n",
       "      <td>HYDRAULIC_GROUP</td>\n",
       "      <td>2016-04-04 18:53:00+00:00</td>\n",
       "    </tr>\n",
       "    <tr>\n",
       "      <th>2</th>\n",
       "      <td>T07</td>\n",
       "      <td>GENERATOR_BEARING</td>\n",
       "      <td>2016-04-30 12:40:00+00:00</td>\n",
       "    </tr>\n",
       "    <tr>\n",
       "      <th>3</th>\n",
       "      <td>T09</td>\n",
       "      <td>GENERATOR_BEARING</td>\n",
       "      <td>2016-06-07 16:59:00+00:00</td>\n",
       "    </tr>\n",
       "    <tr>\n",
       "      <th>4</th>\n",
       "      <td>T07</td>\n",
       "      <td>TRANSFORMER</td>\n",
       "      <td>2016-07-10 03:46:00+00:00</td>\n",
       "    </tr>\n",
       "  </tbody>\n",
       "</table>\n",
       "</div>"
      ],
      "text/plain": [
       "  Turbine_ID          Component                 Timestamp\n",
       "0        T11          GENERATOR 2016-03-03 19:00:00+00:00\n",
       "1        T06    HYDRAULIC_GROUP 2016-04-04 18:53:00+00:00\n",
       "2        T07  GENERATOR_BEARING 2016-04-30 12:40:00+00:00\n",
       "3        T09  GENERATOR_BEARING 2016-06-07 16:59:00+00:00\n",
       "4        T07        TRANSFORMER 2016-07-10 03:46:00+00:00"
      ]
     },
     "execution_count": 4,
     "metadata": {},
     "output_type": "execute_result"
    }
   ],
   "source": [
    "failures_df.head()"
   ]
  },
  {
   "cell_type": "code",
   "execution_count": 5,
   "id": "dressed-intention",
   "metadata": {
    "ExecuteTime": {
     "end_time": "2021-02-04T19:29:07.456738Z",
     "start_time": "2021-02-04T19:29:07.444741Z"
    }
   },
   "outputs": [],
   "source": [
    "# Function to find str in columns of df\n",
    "def component(component, col):\n",
    "    pair_comp_col=[]\n",
    "    for i in col:\n",
    "        if component in i:\n",
    "            pair_comp_col.append(i)\n",
    "    return pair_comp_col"
   ]
  },
  {
   "cell_type": "code",
   "execution_count": 6,
   "id": "alike-thesaurus",
   "metadata": {
    "ExecuteTime": {
     "end_time": "2021-02-04T19:29:07.492405Z",
     "start_time": "2021-02-04T19:29:07.459495Z"
    }
   },
   "outputs": [
    {
     "name": "stderr",
     "output_type": "stream",
     "text": [
      "/home/guilherme/.pyenv/versions/3.7.2/lib/python3.7/site-packages/pandas/core/frame.py:4527: SettingWithCopyWarning: \n",
      "A value is trying to be set on a copy of a slice from a DataFrame\n",
      "\n",
      "See the caveats in the documentation: https://pandas.pydata.org/pandas-docs/stable/user_guide/indexing.html#returning-a-view-versus-a-copy\n",
      "  method=method,\n"
     ]
    }
   ],
   "source": [
    "# Classification label for failures\n",
    "failures_generator = failures_df[failures_df['Component'] == 'GENERATOR']\n",
    "failures_generator.replace('GENERATOR', 1, inplace=True)\n",
    "failures_gen_bear = failures_df[failures_df['Component'] == 'GENERATOR_BEARING']\n",
    "failures_gen_bear.replace('GENERATOR_BEARING', 1, inplace=True)\n",
    "failures_hyd = failures_df[failures_df['Component'] == 'HYDRAULIC_GROUP']\n",
    "failures_hyd.replace('HYDRAULIC_GROUP', 1, inplace=True)\n",
    "failures_gearbox = failures_df[failures_df['Component'] == 'GEARBOX']\n",
    "failures_gearbox.replace('GEARBOX', 1, inplace=True)\n",
    "failures_transf = failures_df[failures_df['Component'] == 'TRANSFORMER']\n",
    "failures_transf.replace('TRANSFORMER', 1, inplace=True)"
   ]
  },
  {
   "cell_type": "code",
   "execution_count": 7,
   "id": "random-distinction",
   "metadata": {
    "ExecuteTime": {
     "end_time": "2021-02-04T19:29:07.510385Z",
     "start_time": "2021-02-04T19:29:07.497903Z"
    }
   },
   "outputs": [],
   "source": [
    "#Features to create each DF\n",
    "def create_features(df):\n",
    "    time_id = ['Timestamp', 'Turbine_ID']\n",
    "    pair_hyd = component('Hyd', df.columns)\n",
    "    pair_trafo = component('Trafo', df.columns)\n",
    "    pair_gear = component('Gear', df.columns)\n",
    "    pair_gen = component('Gen', df.columns)\n",
    "    pair_rot = component('Rtr', df.columns)\n",
    "    pair_amb = component('Amb', df.columns)\n",
    "    pair_blds = component('Blds', df.columns)\n",
    "    pair_cont = component('Cont', df.columns)\n",
    "    pair_nac = component('Nac', df.columns)\n",
    "    pair_spin = component('Spin', df.columns)\n",
    "    pair_bus = component('Busbar', df.columns)\n",
    "    pair_vol = component('Volt', df.columns)\n",
    "    \n",
    "    #Create DF for each component\n",
    "    df_generator = df[time_id + pair_gen + pair_rot + pair_amb + pair_blds + pair_cont + pair_nac + pair_spin + pair_bus + pair_hyd]\n",
    "    df_gen_bear = df[time_id + pair_gen + pair_rot + pair_amb + pair_blds + pair_cont + pair_nac + pair_spin + pair_bus + pair_hyd]\n",
    "    df_transformer = df[time_id + pair_trafo + pair_rot + pair_amb + pair_blds + pair_cont + pair_nac + pair_spin + pair_bus + pair_vol] \n",
    "    df_hydraulic = df[time_id + pair_hyd + pair_rot + pair_amb + pair_blds + pair_cont + pair_nac + pair_spin + pair_bus] \n",
    "    df_gearbox = df[time_id + pair_gear + pair_rot + pair_amb + pair_blds + pair_cont + pair_nac + pair_spin + pair_bus + pair_hyd]\n",
    "    \n",
    "    return df_generator, df_gen_bear, df_transformer, df_hydraulic, df_gearbox"
   ]
  },
  {
   "cell_type": "code",
   "execution_count": 8,
   "id": "cleared-arrest",
   "metadata": {
    "ExecuteTime": {
     "end_time": "2021-02-04T19:29:07.810555Z",
     "start_time": "2021-02-04T19:29:07.519777Z"
    }
   },
   "outputs": [],
   "source": [
    "df_generator, df_gen_bear, df_transformer, df_hydraulic, df_gearbox = create_features(signals_df)"
   ]
  },
  {
   "cell_type": "code",
   "execution_count": 9,
   "id": "weighted-sentence",
   "metadata": {
    "ExecuteTime": {
     "end_time": "2021-02-04T19:29:09.710359Z",
     "start_time": "2021-02-04T19:29:07.815689Z"
    }
   },
   "outputs": [],
   "source": [
    "# Merge DF Failures with DF of each component to know the moment of each failure\n",
    "generator_final = df_generator.merge(failures_generator, on=['Timestamp','Turbine_ID'], how='outer')\n",
    "gen_bear_final = df_gen_bear.merge(failures_gen_bear, on=['Timestamp', 'Turbine_ID'], how='outer')\n",
    "hyd_final = df_hydraulic.merge(failures_hyd, on=['Timestamp', 'Turbine_ID'], how='outer')\n",
    "gearbox_final = df_gearbox.merge(failures_gearbox, on=['Timestamp', 'Turbine_ID'], how='outer')\n",
    "transf_final = df_transformer.merge(failures_transf, on=['Timestamp', 'Turbine_ID'], how='outer')"
   ]
  },
  {
   "cell_type": "code",
   "execution_count": 10,
   "id": "integral-today",
   "metadata": {
    "ExecuteTime": {
     "end_time": "2021-02-04T19:29:09.728202Z",
     "start_time": "2021-02-04T19:29:09.713296Z"
    }
   },
   "outputs": [],
   "source": [
    "#Fill na on component column\n",
    "generator_final['Component'].fillna(0, inplace=True)\n",
    "gen_bear_final['Component'].fillna(0, inplace=True)\n",
    "hyd_final['Component'].fillna(0, inplace=True)\n",
    "gearbox_final['Component'].fillna(0, inplace=True)\n",
    "transf_final['Component'].fillna(0, inplace=True)"
   ]
  },
  {
   "cell_type": "code",
   "execution_count": 11,
   "id": "vulnerable-press",
   "metadata": {
    "ExecuteTime": {
     "end_time": "2021-02-04T19:29:09.747515Z",
     "start_time": "2021-02-04T19:29:09.731935Z"
    }
   },
   "outputs": [],
   "source": [
    "# Set Timestamp as Index\n",
    "generator_final.set_index('Timestamp', inplace=True)\n",
    "gen_bear_final.set_index('Timestamp', inplace=True)\n",
    "hyd_final.set_index('Timestamp', inplace=True)\n",
    "gearbox_final.set_index('Timestamp', inplace=True)\n",
    "transf_final.set_index('Timestamp', inplace=True)"
   ]
  },
  {
   "cell_type": "code",
   "execution_count": 12,
   "id": "collective-orchestra",
   "metadata": {
    "ExecuteTime": {
     "end_time": "2021-02-04T19:29:10.353454Z",
     "start_time": "2021-02-04T19:29:09.750798Z"
    }
   },
   "outputs": [],
   "source": [
    "# Sort Index\n",
    "generator_final.sort_index(inplace=True)\n",
    "gen_bear_final.sort_index(inplace=True)                                      \n",
    "hyd_final.sort_index(inplace=True)\n",
    "gearbox_final.sort_index(inplace=True)\n",
    "transf_final.sort_index(inplace=True)"
   ]
  },
  {
   "cell_type": "code",
   "execution_count": 13,
   "id": "mounted-sapphire",
   "metadata": {
    "ExecuteTime": {
     "end_time": "2021-02-04T19:29:10.375424Z",
     "start_time": "2021-02-04T19:29:10.355861Z"
    }
   },
   "outputs": [],
   "source": [
    "# Reset Index to group by Timestamp and Turbine_ID\n",
    "generator_final.reset_index(inplace=True)\n",
    "gen_bear_final.reset_index(inplace=True)                                      \n",
    "hyd_final.reset_index(inplace=True)\n",
    "gearbox_final.reset_index(inplace=True)\n",
    "transf_final.reset_index(inplace=True)"
   ]
  },
  {
   "cell_type": "code",
   "execution_count": 14,
   "id": "collected-repair",
   "metadata": {
    "ExecuteTime": {
     "end_time": "2021-02-04T19:29:10.387144Z",
     "start_time": "2021-02-04T19:29:10.379712Z"
    }
   },
   "outputs": [],
   "source": [
    "def prepare_data(df, strategy='mean'):\n",
    "    if strategy == 'mean':\n",
    "        df = df.groupby(by=['Turbine_ID','Timestamp']).mean()\n",
    "    else:\n",
    "        df = df.grouby(by=['Turbine_ID', 'Timestamp']).max()\n",
    "    \n",
    "    # Fill na by interpolate\n",
    "    df = df.bfill().reset_index()\n",
    "        \n",
    "    return df"
   ]
  },
  {
   "cell_type": "code",
   "execution_count": 15,
   "id": "color-craft",
   "metadata": {
    "ExecuteTime": {
     "end_time": "2021-02-04T19:29:13.003837Z",
     "start_time": "2021-02-04T19:29:10.390536Z"
    }
   },
   "outputs": [],
   "source": [
    "df_generator_final=prepare_data(generator_final)\n",
    "df_gen_bear_final=prepare_data(gen_bear_final)\n",
    "df_hyd_final=prepare_data(hyd_final)\n",
    "df_gearbox_final=prepare_data(gearbox_final)\n",
    "df_transf_final=prepare_data(transf_final)"
   ]
  },
  {
   "cell_type": "code",
   "execution_count": 16,
   "id": "posted-macro",
   "metadata": {
    "ExecuteTime": {
     "end_time": "2021-02-04T19:29:13.170082Z",
     "start_time": "2021-02-04T19:29:13.006641Z"
    }
   },
   "outputs": [
    {
     "name": "stdout",
     "output_type": "stream",
     "text": [
      "False\n",
      "False\n",
      "False\n",
      "False\n",
      "False\n"
     ]
    }
   ],
   "source": [
    "print(df_generator_final.isnull().values.any())\n",
    "print(df_gen_bear_final.isnull().values.any())\n",
    "print(df_hyd_final.isnull().values.any())\n",
    "print(df_gearbox_final.isnull().values.any())\n",
    "print(df_transf_final.isnull().values.any())"
   ]
  },
  {
   "cell_type": "code",
   "execution_count": 17,
   "id": "interracial-light",
   "metadata": {
    "ExecuteTime": {
     "end_time": "2021-02-04T19:29:13.179489Z",
     "start_time": "2021-02-04T19:29:13.172660Z"
    }
   },
   "outputs": [],
   "source": [
    "def fill_na_by_turbine(df):\n",
    "    turbines = ['T01', 'T06', 'T07', 'T09', 'T11']\n",
    "    df_ = pd.DataFrame(columns=df.columns)\n",
    "    for turbine in turbines:\n",
    "        df1 = df.loc[df['Turbine_ID']==turbine]\n",
    "        if df1['Component'].nunique()>1:\n",
    "            index = df1[df1['Component']==1]\n",
    "            index['date'] = index['Timestamp']\n",
    "            index = index[['date','Timestamp', 'Turbine_ID']]\n",
    "            df_merged = df.merge(index, how='left', on=['Turbine_ID','Timestamp'])\n",
    "            df_merged = df_merged.fillna(method='bfill')\n",
    "            \n",
    "            #If there is not a failure after, hold present date\n",
    "            df_merged['date'] = df_merged['date'].fillna(df_merged['Timestamp'])\n",
    "            \n",
    "            df_merged['TTF'] = round((df_merged['date'] - \n",
    "                                      df_merged['Timestamp']) / np.timedelta64(1, 'D'),0)\n",
    "        else:\n",
    "            df_merged = df1\n",
    "            df_merged['date'] = df_merged['Timestamp']\n",
    "#             df1 = df1[['date','Timestamp', 'Turbine_ID']]\n",
    "#             df_merged = df.merge(df1, how='left', on=['Turbine_ID','Timestamp'])\n",
    "            \n",
    "#             df_merged['date'] = df_merged['date'].fillna(df_merged['Timestamp'])\n",
    "            df_merged['TTF'] = 0 # df_merged['date'] - df_merged['Timestamp'] \n",
    "\n",
    "        #Drop Column Date\n",
    "        df_final = df_merged.drop(columns='date')\n",
    "\n",
    "        #df_final['TTF'] = df_final['TTF'].dt.days\n",
    "\n",
    "        df_ = pd.concat([df_, df_final])\n",
    "\n",
    "    return df_\n",
    "        \n"
   ]
  },
  {
   "cell_type": "code",
   "execution_count": 18,
   "id": "underlying-craft",
   "metadata": {
    "ExecuteTime": {
     "end_time": "2021-02-04T19:29:20.060356Z",
     "start_time": "2021-02-04T19:29:13.182654Z"
    }
   },
   "outputs": [
    {
     "name": "stderr",
     "output_type": "stream",
     "text": [
      "/home/guilherme/.pyenv/versions/3.7.2/lib/python3.7/site-packages/ipykernel_launcher.py:20: SettingWithCopyWarning: \n",
      "A value is trying to be set on a copy of a slice from a DataFrame.\n",
      "Try using .loc[row_indexer,col_indexer] = value instead\n",
      "\n",
      "See the caveats in the documentation: https://pandas.pydata.org/pandas-docs/stable/user_guide/indexing.html#returning-a-view-versus-a-copy\n",
      "/home/guilherme/.pyenv/versions/3.7.2/lib/python3.7/site-packages/ipykernel_launcher.py:25: SettingWithCopyWarning: \n",
      "A value is trying to be set on a copy of a slice from a DataFrame.\n",
      "Try using .loc[row_indexer,col_indexer] = value instead\n",
      "\n",
      "See the caveats in the documentation: https://pandas.pydata.org/pandas-docs/stable/user_guide/indexing.html#returning-a-view-versus-a-copy\n",
      "/home/guilherme/.pyenv/versions/3.7.2/lib/python3.7/site-packages/ipykernel_launcher.py:8: SettingWithCopyWarning: \n",
      "A value is trying to be set on a copy of a slice from a DataFrame.\n",
      "Try using .loc[row_indexer,col_indexer] = value instead\n",
      "\n",
      "See the caveats in the documentation: https://pandas.pydata.org/pandas-docs/stable/user_guide/indexing.html#returning-a-view-versus-a-copy\n",
      "  \n",
      "/home/guilherme/.pyenv/versions/3.7.2/lib/python3.7/site-packages/ipykernel_launcher.py:8: SettingWithCopyWarning: \n",
      "A value is trying to be set on a copy of a slice from a DataFrame.\n",
      "Try using .loc[row_indexer,col_indexer] = value instead\n",
      "\n",
      "See the caveats in the documentation: https://pandas.pydata.org/pandas-docs/stable/user_guide/indexing.html#returning-a-view-versus-a-copy\n",
      "  \n",
      "/home/guilherme/.pyenv/versions/3.7.2/lib/python3.7/site-packages/ipykernel_launcher.py:20: SettingWithCopyWarning: \n",
      "A value is trying to be set on a copy of a slice from a DataFrame.\n",
      "Try using .loc[row_indexer,col_indexer] = value instead\n",
      "\n",
      "See the caveats in the documentation: https://pandas.pydata.org/pandas-docs/stable/user_guide/indexing.html#returning-a-view-versus-a-copy\n",
      "/home/guilherme/.pyenv/versions/3.7.2/lib/python3.7/site-packages/ipykernel_launcher.py:25: SettingWithCopyWarning: \n",
      "A value is trying to be set on a copy of a slice from a DataFrame.\n",
      "Try using .loc[row_indexer,col_indexer] = value instead\n",
      "\n",
      "See the caveats in the documentation: https://pandas.pydata.org/pandas-docs/stable/user_guide/indexing.html#returning-a-view-versus-a-copy\n",
      "/home/guilherme/.pyenv/versions/3.7.2/lib/python3.7/site-packages/ipykernel_launcher.py:8: SettingWithCopyWarning: \n",
      "A value is trying to be set on a copy of a slice from a DataFrame.\n",
      "Try using .loc[row_indexer,col_indexer] = value instead\n",
      "\n",
      "See the caveats in the documentation: https://pandas.pydata.org/pandas-docs/stable/user_guide/indexing.html#returning-a-view-versus-a-copy\n",
      "  \n",
      "/home/guilherme/.pyenv/versions/3.7.2/lib/python3.7/site-packages/ipykernel_launcher.py:20: SettingWithCopyWarning: \n",
      "A value is trying to be set on a copy of a slice from a DataFrame.\n",
      "Try using .loc[row_indexer,col_indexer] = value instead\n",
      "\n",
      "See the caveats in the documentation: https://pandas.pydata.org/pandas-docs/stable/user_guide/indexing.html#returning-a-view-versus-a-copy\n",
      "/home/guilherme/.pyenv/versions/3.7.2/lib/python3.7/site-packages/ipykernel_launcher.py:25: SettingWithCopyWarning: \n",
      "A value is trying to be set on a copy of a slice from a DataFrame.\n",
      "Try using .loc[row_indexer,col_indexer] = value instead\n",
      "\n",
      "See the caveats in the documentation: https://pandas.pydata.org/pandas-docs/stable/user_guide/indexing.html#returning-a-view-versus-a-copy\n",
      "/home/guilherme/.pyenv/versions/3.7.2/lib/python3.7/site-packages/ipykernel_launcher.py:8: SettingWithCopyWarning: \n",
      "A value is trying to be set on a copy of a slice from a DataFrame.\n",
      "Try using .loc[row_indexer,col_indexer] = value instead\n",
      "\n",
      "See the caveats in the documentation: https://pandas.pydata.org/pandas-docs/stable/user_guide/indexing.html#returning-a-view-versus-a-copy\n",
      "  \n",
      "/home/guilherme/.pyenv/versions/3.7.2/lib/python3.7/site-packages/ipykernel_launcher.py:8: SettingWithCopyWarning: \n",
      "A value is trying to be set on a copy of a slice from a DataFrame.\n",
      "Try using .loc[row_indexer,col_indexer] = value instead\n",
      "\n",
      "See the caveats in the documentation: https://pandas.pydata.org/pandas-docs/stable/user_guide/indexing.html#returning-a-view-versus-a-copy\n",
      "  \n",
      "/home/guilherme/.pyenv/versions/3.7.2/lib/python3.7/site-packages/ipykernel_launcher.py:20: SettingWithCopyWarning: \n",
      "A value is trying to be set on a copy of a slice from a DataFrame.\n",
      "Try using .loc[row_indexer,col_indexer] = value instead\n",
      "\n",
      "See the caveats in the documentation: https://pandas.pydata.org/pandas-docs/stable/user_guide/indexing.html#returning-a-view-versus-a-copy\n",
      "/home/guilherme/.pyenv/versions/3.7.2/lib/python3.7/site-packages/ipykernel_launcher.py:25: SettingWithCopyWarning: \n",
      "A value is trying to be set on a copy of a slice from a DataFrame.\n",
      "Try using .loc[row_indexer,col_indexer] = value instead\n",
      "\n",
      "See the caveats in the documentation: https://pandas.pydata.org/pandas-docs/stable/user_guide/indexing.html#returning-a-view-versus-a-copy\n",
      "/home/guilherme/.pyenv/versions/3.7.2/lib/python3.7/site-packages/ipykernel_launcher.py:8: SettingWithCopyWarning: \n",
      "A value is trying to be set on a copy of a slice from a DataFrame.\n",
      "Try using .loc[row_indexer,col_indexer] = value instead\n",
      "\n",
      "See the caveats in the documentation: https://pandas.pydata.org/pandas-docs/stable/user_guide/indexing.html#returning-a-view-versus-a-copy\n",
      "  \n",
      "/home/guilherme/.pyenv/versions/3.7.2/lib/python3.7/site-packages/ipykernel_launcher.py:8: SettingWithCopyWarning: \n",
      "A value is trying to be set on a copy of a slice from a DataFrame.\n",
      "Try using .loc[row_indexer,col_indexer] = value instead\n",
      "\n",
      "See the caveats in the documentation: https://pandas.pydata.org/pandas-docs/stable/user_guide/indexing.html#returning-a-view-versus-a-copy\n",
      "  \n",
      "/home/guilherme/.pyenv/versions/3.7.2/lib/python3.7/site-packages/ipykernel_launcher.py:20: SettingWithCopyWarning: \n",
      "A value is trying to be set on a copy of a slice from a DataFrame.\n",
      "Try using .loc[row_indexer,col_indexer] = value instead\n",
      "\n",
      "See the caveats in the documentation: https://pandas.pydata.org/pandas-docs/stable/user_guide/indexing.html#returning-a-view-versus-a-copy\n",
      "/home/guilherme/.pyenv/versions/3.7.2/lib/python3.7/site-packages/ipykernel_launcher.py:25: SettingWithCopyWarning: \n",
      "A value is trying to be set on a copy of a slice from a DataFrame.\n",
      "Try using .loc[row_indexer,col_indexer] = value instead\n",
      "\n",
      "See the caveats in the documentation: https://pandas.pydata.org/pandas-docs/stable/user_guide/indexing.html#returning-a-view-versus-a-copy\n",
      "/home/guilherme/.pyenv/versions/3.7.2/lib/python3.7/site-packages/ipykernel_launcher.py:8: SettingWithCopyWarning: \n",
      "A value is trying to be set on a copy of a slice from a DataFrame.\n",
      "Try using .loc[row_indexer,col_indexer] = value instead\n",
      "\n",
      "See the caveats in the documentation: https://pandas.pydata.org/pandas-docs/stable/user_guide/indexing.html#returning-a-view-versus-a-copy\n",
      "  \n",
      "/home/guilherme/.pyenv/versions/3.7.2/lib/python3.7/site-packages/ipykernel_launcher.py:8: SettingWithCopyWarning: \n",
      "A value is trying to be set on a copy of a slice from a DataFrame.\n",
      "Try using .loc[row_indexer,col_indexer] = value instead\n",
      "\n",
      "See the caveats in the documentation: https://pandas.pydata.org/pandas-docs/stable/user_guide/indexing.html#returning-a-view-versus-a-copy\n",
      "  \n",
      "/home/guilherme/.pyenv/versions/3.7.2/lib/python3.7/site-packages/ipykernel_launcher.py:20: SettingWithCopyWarning: \n",
      "A value is trying to be set on a copy of a slice from a DataFrame.\n",
      "Try using .loc[row_indexer,col_indexer] = value instead\n",
      "\n",
      "See the caveats in the documentation: https://pandas.pydata.org/pandas-docs/stable/user_guide/indexing.html#returning-a-view-versus-a-copy\n",
      "/home/guilherme/.pyenv/versions/3.7.2/lib/python3.7/site-packages/ipykernel_launcher.py:25: SettingWithCopyWarning: \n",
      "A value is trying to be set on a copy of a slice from a DataFrame.\n",
      "Try using .loc[row_indexer,col_indexer] = value instead\n",
      "\n",
      "See the caveats in the documentation: https://pandas.pydata.org/pandas-docs/stable/user_guide/indexing.html#returning-a-view-versus-a-copy\n",
      "/home/guilherme/.pyenv/versions/3.7.2/lib/python3.7/site-packages/ipykernel_launcher.py:8: SettingWithCopyWarning: \n",
      "A value is trying to be set on a copy of a slice from a DataFrame.\n",
      "Try using .loc[row_indexer,col_indexer] = value instead\n",
      "\n",
      "See the caveats in the documentation: https://pandas.pydata.org/pandas-docs/stable/user_guide/indexing.html#returning-a-view-versus-a-copy\n",
      "  \n"
     ]
    },
    {
     "name": "stderr",
     "output_type": "stream",
     "text": [
      "/home/guilherme/.pyenv/versions/3.7.2/lib/python3.7/site-packages/ipykernel_launcher.py:20: SettingWithCopyWarning: \n",
      "A value is trying to be set on a copy of a slice from a DataFrame.\n",
      "Try using .loc[row_indexer,col_indexer] = value instead\n",
      "\n",
      "See the caveats in the documentation: https://pandas.pydata.org/pandas-docs/stable/user_guide/indexing.html#returning-a-view-versus-a-copy\n",
      "/home/guilherme/.pyenv/versions/3.7.2/lib/python3.7/site-packages/ipykernel_launcher.py:25: SettingWithCopyWarning: \n",
      "A value is trying to be set on a copy of a slice from a DataFrame.\n",
      "Try using .loc[row_indexer,col_indexer] = value instead\n",
      "\n",
      "See the caveats in the documentation: https://pandas.pydata.org/pandas-docs/stable/user_guide/indexing.html#returning-a-view-versus-a-copy\n",
      "/home/guilherme/.pyenv/versions/3.7.2/lib/python3.7/site-packages/ipykernel_launcher.py:8: SettingWithCopyWarning: \n",
      "A value is trying to be set on a copy of a slice from a DataFrame.\n",
      "Try using .loc[row_indexer,col_indexer] = value instead\n",
      "\n",
      "See the caveats in the documentation: https://pandas.pydata.org/pandas-docs/stable/user_guide/indexing.html#returning-a-view-versus-a-copy\n",
      "  \n",
      "/home/guilherme/.pyenv/versions/3.7.2/lib/python3.7/site-packages/ipykernel_launcher.py:20: SettingWithCopyWarning: \n",
      "A value is trying to be set on a copy of a slice from a DataFrame.\n",
      "Try using .loc[row_indexer,col_indexer] = value instead\n",
      "\n",
      "See the caveats in the documentation: https://pandas.pydata.org/pandas-docs/stable/user_guide/indexing.html#returning-a-view-versus-a-copy\n",
      "/home/guilherme/.pyenv/versions/3.7.2/lib/python3.7/site-packages/ipykernel_launcher.py:25: SettingWithCopyWarning: \n",
      "A value is trying to be set on a copy of a slice from a DataFrame.\n",
      "Try using .loc[row_indexer,col_indexer] = value instead\n",
      "\n",
      "See the caveats in the documentation: https://pandas.pydata.org/pandas-docs/stable/user_guide/indexing.html#returning-a-view-versus-a-copy\n",
      "/home/guilherme/.pyenv/versions/3.7.2/lib/python3.7/site-packages/ipykernel_launcher.py:8: SettingWithCopyWarning: \n",
      "A value is trying to be set on a copy of a slice from a DataFrame.\n",
      "Try using .loc[row_indexer,col_indexer] = value instead\n",
      "\n",
      "See the caveats in the documentation: https://pandas.pydata.org/pandas-docs/stable/user_guide/indexing.html#returning-a-view-versus-a-copy\n",
      "  \n",
      "/home/guilherme/.pyenv/versions/3.7.2/lib/python3.7/site-packages/ipykernel_launcher.py:20: SettingWithCopyWarning: \n",
      "A value is trying to be set on a copy of a slice from a DataFrame.\n",
      "Try using .loc[row_indexer,col_indexer] = value instead\n",
      "\n",
      "See the caveats in the documentation: https://pandas.pydata.org/pandas-docs/stable/user_guide/indexing.html#returning-a-view-versus-a-copy\n",
      "/home/guilherme/.pyenv/versions/3.7.2/lib/python3.7/site-packages/ipykernel_launcher.py:25: SettingWithCopyWarning: \n",
      "A value is trying to be set on a copy of a slice from a DataFrame.\n",
      "Try using .loc[row_indexer,col_indexer] = value instead\n",
      "\n",
      "See the caveats in the documentation: https://pandas.pydata.org/pandas-docs/stable/user_guide/indexing.html#returning-a-view-versus-a-copy\n"
     ]
    }
   ],
   "source": [
    "generator_df = fill_na_by_turbine(df_generator_final)\n",
    "gen_bear_df = fill_na_by_turbine(df_gen_bear_final)\n",
    "hyd_df = fill_na_by_turbine(df_hyd_final)\n",
    "gearbox_df = fill_na_by_turbine(df_gearbox_final)\n",
    "transf_df = fill_na_by_turbine(df_transf_final)"
   ]
  },
  {
   "cell_type": "code",
   "execution_count": 19,
   "id": "normal-reader",
   "metadata": {
    "ExecuteTime": {
     "end_time": "2021-02-04T19:29:20.066611Z",
     "start_time": "2021-02-04T19:29:20.062772Z"
    }
   },
   "outputs": [],
   "source": [
    "def Failure_Time_Horizon(days, period):\n",
    "    if 2 <= days <= period:\n",
    "        Flag=1\n",
    "    else:\n",
    "        Flag=0\n",
    "    return Flag"
   ]
  },
  {
   "cell_type": "code",
   "execution_count": 20,
   "id": "historic-march",
   "metadata": {
    "ExecuteTime": {
     "end_time": "2021-02-04T19:29:20.087265Z",
     "start_time": "2021-02-04T19:29:20.069572Z"
    }
   },
   "outputs": [
    {
     "data": {
      "text/plain": [
       "Turbine_ID                                  object\n",
       "Timestamp                      datetime64[ns, UTC]\n",
       "Gen_RPM_Max                                float64\n",
       "Gen_RPM_Min                                float64\n",
       "Gen_RPM_Avg                                float64\n",
       "Gen_RPM_Std                                float64\n",
       "Gen_Bear_Temp_Avg                          float64\n",
       "Gen_Phase1_Temp_Avg                        float64\n",
       "Gen_Phase2_Temp_Avg                        float64\n",
       "Gen_Phase3_Temp_Avg                        float64\n",
       "Prod_LatestAvg_ActPwrGen0                  float64\n",
       "Prod_LatestAvg_ActPwrGen1                  float64\n",
       "Prod_LatestAvg_ReactPwrGen0                float64\n",
       "Prod_LatestAvg_ReactPwrGen1                float64\n",
       "Gen_SlipRing_Temp_Avg                      float64\n",
       "Gen_Bear2_Temp_Avg                         float64\n",
       "Rtr_RPM_Max                                float64\n",
       "Rtr_RPM_Min                                float64\n",
       "Rtr_RPM_Avg                                float64\n",
       "Grd_RtrInvPhase1_Temp_Avg                  float64\n",
       "Grd_RtrInvPhase2_Temp_Avg                  float64\n",
       "Grd_RtrInvPhase3_Temp_Avg                  float64\n",
       "Rtr_RPM_Std                                float64\n",
       "Amb_WindSpeed_Max                          float64\n",
       "Amb_WindSpeed_Min                          float64\n",
       "Amb_WindSpeed_Avg                          float64\n",
       "Amb_WindSpeed_Std                          float64\n",
       "Amb_WindDir_Relative_Avg                   float64\n",
       "Amb_WindDir_Abs_Avg                        float64\n",
       "Amb_Temp_Avg                               float64\n",
       "Amb_WindSpeed_Est_Avg                      float64\n",
       "Blds_PitchAngle_Min                        float64\n",
       "Blds_PitchAngle_Max                        float64\n",
       "Blds_PitchAngle_Avg                        float64\n",
       "Blds_PitchAngle_Std                        float64\n",
       "Cont_Top_Temp_Avg                          float64\n",
       "Cont_Hub_Temp_Avg                          float64\n",
       "Cont_VCP_Temp_Avg                          float64\n",
       "Cont_VCP_ChokcoilTemp_Avg                  float64\n",
       "Cont_VCP_WtrTemp_Avg                       float64\n",
       "Nac_Temp_Avg                               float64\n",
       "Nac_Direction_Avg                          float64\n",
       "Spin_Temp_Avg                              float64\n",
       "Grd_Busbar_Temp_Avg                        float64\n",
       "Hyd_Oil_Temp_Avg                           float64\n",
       "Component                                  float64\n",
       "TTF                                        float64\n",
       "dtype: object"
      ]
     },
     "execution_count": 20,
     "metadata": {},
     "output_type": "execute_result"
    }
   ],
   "source": [
    "generator_df.dtypes"
   ]
  },
  {
   "cell_type": "code",
   "execution_count": 21,
   "id": "laden-search",
   "metadata": {
    "ExecuteTime": {
     "end_time": "2021-02-04T19:30:26.444658Z",
     "start_time": "2021-02-04T19:29:20.090757Z"
    }
   },
   "outputs": [],
   "source": [
    "generator_df['60_days'] = generator_df.apply(lambda x: Failure_Time_Horizon(x['TTF'], 60),axis=1)\n",
    "gen_bear_df['60_days'] = gen_bear_df.apply(lambda x: Failure_Time_Horizon(x['TTF'], 60),axis=1)\n",
    "hyd_df['60_days'] = hyd_df.apply(lambda x: Failure_Time_Horizon(x['TTF'], 60),axis=1)\n",
    "gearbox_df['60_days'] = gearbox_df.apply(lambda x: Failure_Time_Horizon(x['TTF'], 60),axis=1)\n",
    "transf_df['60_days'] = transf_df.apply(lambda x: Failure_Time_Horizon(x['TTF'], 60),axis=1)"
   ]
  },
  {
   "cell_type": "code",
   "execution_count": 27,
   "id": "simple-penny",
   "metadata": {
    "ExecuteTime": {
     "end_time": "2021-02-04T19:32:20.819432Z",
     "start_time": "2021-02-04T19:32:20.384686Z"
    }
   },
   "outputs": [
    {
     "data": {
      "text/html": [
       "<div>\n",
       "<style scoped>\n",
       "    .dataframe tbody tr th:only-of-type {\n",
       "        vertical-align: middle;\n",
       "    }\n",
       "\n",
       "    .dataframe tbody tr th {\n",
       "        vertical-align: top;\n",
       "    }\n",
       "\n",
       "    .dataframe thead th {\n",
       "        text-align: right;\n",
       "    }\n",
       "</style>\n",
       "<table border=\"1\" class=\"dataframe\">\n",
       "  <thead>\n",
       "    <tr style=\"text-align: right;\">\n",
       "      <th></th>\n",
       "      <th>Turbine_ID</th>\n",
       "      <th>Timestamp</th>\n",
       "      <th>Gen_RPM_Max</th>\n",
       "      <th>Gen_RPM_Min</th>\n",
       "      <th>Gen_RPM_Avg</th>\n",
       "      <th>Gen_RPM_Std</th>\n",
       "      <th>Gen_Bear_Temp_Avg</th>\n",
       "      <th>Gen_Phase1_Temp_Avg</th>\n",
       "      <th>Gen_Phase2_Temp_Avg</th>\n",
       "      <th>Gen_Phase3_Temp_Avg</th>\n",
       "      <th>...</th>\n",
       "      <th>Cont_VCP_ChokcoilTemp_Avg</th>\n",
       "      <th>Cont_VCP_WtrTemp_Avg</th>\n",
       "      <th>Nac_Temp_Avg</th>\n",
       "      <th>Nac_Direction_Avg</th>\n",
       "      <th>Spin_Temp_Avg</th>\n",
       "      <th>Grd_Busbar_Temp_Avg</th>\n",
       "      <th>Hyd_Oil_Temp_Avg</th>\n",
       "      <th>Component</th>\n",
       "      <th>TTF</th>\n",
       "      <th>60_days</th>\n",
       "    </tr>\n",
       "  </thead>\n",
       "  <tbody>\n",
       "    <tr>\n",
       "      <th>0</th>\n",
       "      <td>T01</td>\n",
       "      <td>2016-01-01 00:00:00+00:00</td>\n",
       "      <td>1277.4</td>\n",
       "      <td>1226.1</td>\n",
       "      <td>1249.0</td>\n",
       "      <td>9.0</td>\n",
       "      <td>41.0</td>\n",
       "      <td>58.0</td>\n",
       "      <td>59.0</td>\n",
       "      <td>58.0</td>\n",
       "      <td>...</td>\n",
       "      <td>91.0</td>\n",
       "      <td>39.0</td>\n",
       "      <td>28.0</td>\n",
       "      <td>218.5</td>\n",
       "      <td>20.0</td>\n",
       "      <td>38.0</td>\n",
       "      <td>30.0</td>\n",
       "      <td>0.0</td>\n",
       "      <td>0.0</td>\n",
       "      <td>0</td>\n",
       "    </tr>\n",
       "    <tr>\n",
       "      <th>1</th>\n",
       "      <td>T01</td>\n",
       "      <td>2016-01-01 00:10:00+00:00</td>\n",
       "      <td>1268.3</td>\n",
       "      <td>93.3</td>\n",
       "      <td>999.7</td>\n",
       "      <td>435.9</td>\n",
       "      <td>41.0</td>\n",
       "      <td>58.0</td>\n",
       "      <td>59.0</td>\n",
       "      <td>59.0</td>\n",
       "      <td>...</td>\n",
       "      <td>91.0</td>\n",
       "      <td>37.0</td>\n",
       "      <td>28.0</td>\n",
       "      <td>218.5</td>\n",
       "      <td>20.0</td>\n",
       "      <td>38.0</td>\n",
       "      <td>30.0</td>\n",
       "      <td>0.0</td>\n",
       "      <td>0.0</td>\n",
       "      <td>0</td>\n",
       "    </tr>\n",
       "    <tr>\n",
       "      <th>2</th>\n",
       "      <td>T01</td>\n",
       "      <td>2016-01-01 00:20:00+00:00</td>\n",
       "      <td>1394.4</td>\n",
       "      <td>220.3</td>\n",
       "      <td>774.0</td>\n",
       "      <td>486.1</td>\n",
       "      <td>41.0</td>\n",
       "      <td>57.0</td>\n",
       "      <td>57.0</td>\n",
       "      <td>57.0</td>\n",
       "      <td>...</td>\n",
       "      <td>87.0</td>\n",
       "      <td>38.0</td>\n",
       "      <td>29.0</td>\n",
       "      <td>213.3</td>\n",
       "      <td>20.0</td>\n",
       "      <td>38.0</td>\n",
       "      <td>30.0</td>\n",
       "      <td>0.0</td>\n",
       "      <td>0.0</td>\n",
       "      <td>0</td>\n",
       "    </tr>\n",
       "    <tr>\n",
       "      <th>3</th>\n",
       "      <td>T01</td>\n",
       "      <td>2016-01-01 00:30:00+00:00</td>\n",
       "      <td>1306.6</td>\n",
       "      <td>1212.4</td>\n",
       "      <td>1257.1</td>\n",
       "      <td>17.0</td>\n",
       "      <td>40.0</td>\n",
       "      <td>56.0</td>\n",
       "      <td>57.0</td>\n",
       "      <td>57.0</td>\n",
       "      <td>...</td>\n",
       "      <td>87.0</td>\n",
       "      <td>38.0</td>\n",
       "      <td>28.0</td>\n",
       "      <td>222.4</td>\n",
       "      <td>20.0</td>\n",
       "      <td>38.0</td>\n",
       "      <td>30.0</td>\n",
       "      <td>0.0</td>\n",
       "      <td>0.0</td>\n",
       "      <td>0</td>\n",
       "    </tr>\n",
       "    <tr>\n",
       "      <th>4</th>\n",
       "      <td>T01</td>\n",
       "      <td>2016-01-01 00:40:00+00:00</td>\n",
       "      <td>1320.9</td>\n",
       "      <td>1224.1</td>\n",
       "      <td>1257.7</td>\n",
       "      <td>18.0</td>\n",
       "      <td>40.0</td>\n",
       "      <td>57.0</td>\n",
       "      <td>58.0</td>\n",
       "      <td>57.0</td>\n",
       "      <td>...</td>\n",
       "      <td>88.0</td>\n",
       "      <td>39.0</td>\n",
       "      <td>28.0</td>\n",
       "      <td>222.4</td>\n",
       "      <td>20.0</td>\n",
       "      <td>38.0</td>\n",
       "      <td>30.0</td>\n",
       "      <td>0.0</td>\n",
       "      <td>0.0</td>\n",
       "      <td>0</td>\n",
       "    </tr>\n",
       "    <tr>\n",
       "      <th>...</th>\n",
       "      <td>...</td>\n",
       "      <td>...</td>\n",
       "      <td>...</td>\n",
       "      <td>...</td>\n",
       "      <td>...</td>\n",
       "      <td>...</td>\n",
       "      <td>...</td>\n",
       "      <td>...</td>\n",
       "      <td>...</td>\n",
       "      <td>...</td>\n",
       "      <td>...</td>\n",
       "      <td>...</td>\n",
       "      <td>...</td>\n",
       "      <td>...</td>\n",
       "      <td>...</td>\n",
       "      <td>...</td>\n",
       "      <td>...</td>\n",
       "      <td>...</td>\n",
       "      <td>...</td>\n",
       "      <td>...</td>\n",
       "      <td>...</td>\n",
       "    </tr>\n",
       "    <tr>\n",
       "      <th>434117</th>\n",
       "      <td>T11</td>\n",
       "      <td>2017-08-31 23:20:00+00:00</td>\n",
       "      <td>1434.3</td>\n",
       "      <td>1243.1</td>\n",
       "      <td>1286.1</td>\n",
       "      <td>46.8</td>\n",
       "      <td>43.0</td>\n",
       "      <td>56.0</td>\n",
       "      <td>57.0</td>\n",
       "      <td>56.0</td>\n",
       "      <td>...</td>\n",
       "      <td>70.0</td>\n",
       "      <td>40.0</td>\n",
       "      <td>31.0</td>\n",
       "      <td>117.5</td>\n",
       "      <td>28.0</td>\n",
       "      <td>40.0</td>\n",
       "      <td>40.0</td>\n",
       "      <td>0.0</td>\n",
       "      <td>0.0</td>\n",
       "      <td>0</td>\n",
       "    </tr>\n",
       "    <tr>\n",
       "      <th>434118</th>\n",
       "      <td>T11</td>\n",
       "      <td>2017-08-31 23:30:00+00:00</td>\n",
       "      <td>1265.2</td>\n",
       "      <td>1238.6</td>\n",
       "      <td>1249.8</td>\n",
       "      <td>4.1</td>\n",
       "      <td>43.0</td>\n",
       "      <td>57.0</td>\n",
       "      <td>58.0</td>\n",
       "      <td>58.0</td>\n",
       "      <td>...</td>\n",
       "      <td>73.0</td>\n",
       "      <td>40.0</td>\n",
       "      <td>31.0</td>\n",
       "      <td>117.5</td>\n",
       "      <td>28.0</td>\n",
       "      <td>41.0</td>\n",
       "      <td>40.0</td>\n",
       "      <td>0.0</td>\n",
       "      <td>0.0</td>\n",
       "      <td>0</td>\n",
       "    </tr>\n",
       "    <tr>\n",
       "      <th>434119</th>\n",
       "      <td>T11</td>\n",
       "      <td>2017-08-31 23:40:00+00:00</td>\n",
       "      <td>1264.6</td>\n",
       "      <td>1235.1</td>\n",
       "      <td>1248.8</td>\n",
       "      <td>4.7</td>\n",
       "      <td>44.0</td>\n",
       "      <td>58.0</td>\n",
       "      <td>59.0</td>\n",
       "      <td>59.0</td>\n",
       "      <td>...</td>\n",
       "      <td>76.0</td>\n",
       "      <td>39.0</td>\n",
       "      <td>31.0</td>\n",
       "      <td>116.0</td>\n",
       "      <td>28.0</td>\n",
       "      <td>41.0</td>\n",
       "      <td>40.0</td>\n",
       "      <td>0.0</td>\n",
       "      <td>0.0</td>\n",
       "      <td>0</td>\n",
       "    </tr>\n",
       "    <tr>\n",
       "      <th>434120</th>\n",
       "      <td>T11</td>\n",
       "      <td>2017-08-31 23:50:00+00:00</td>\n",
       "      <td>1281.4</td>\n",
       "      <td>1231.9</td>\n",
       "      <td>1250.5</td>\n",
       "      <td>6.3</td>\n",
       "      <td>45.0</td>\n",
       "      <td>59.0</td>\n",
       "      <td>60.0</td>\n",
       "      <td>60.0</td>\n",
       "      <td>...</td>\n",
       "      <td>78.0</td>\n",
       "      <td>39.0</td>\n",
       "      <td>31.0</td>\n",
       "      <td>102.9</td>\n",
       "      <td>28.0</td>\n",
       "      <td>41.0</td>\n",
       "      <td>40.0</td>\n",
       "      <td>0.0</td>\n",
       "      <td>0.0</td>\n",
       "      <td>0</td>\n",
       "    </tr>\n",
       "    <tr>\n",
       "      <th>434121</th>\n",
       "      <td>T11</td>\n",
       "      <td>2017-09-01 00:00:00+00:00</td>\n",
       "      <td>1266.3</td>\n",
       "      <td>1234.3</td>\n",
       "      <td>1250.6</td>\n",
       "      <td>5.1</td>\n",
       "      <td>46.0</td>\n",
       "      <td>60.0</td>\n",
       "      <td>61.0</td>\n",
       "      <td>61.0</td>\n",
       "      <td>...</td>\n",
       "      <td>80.0</td>\n",
       "      <td>39.0</td>\n",
       "      <td>31.0</td>\n",
       "      <td>96.8</td>\n",
       "      <td>28.0</td>\n",
       "      <td>41.0</td>\n",
       "      <td>39.0</td>\n",
       "      <td>0.0</td>\n",
       "      <td>0.0</td>\n",
       "      <td>0</td>\n",
       "    </tr>\n",
       "  </tbody>\n",
       "</table>\n",
       "<p>1476656 rows × 48 columns</p>\n",
       "</div>"
      ],
      "text/plain": [
       "       Turbine_ID                 Timestamp  Gen_RPM_Max  Gen_RPM_Min  \\\n",
       "0             T01 2016-01-01 00:00:00+00:00       1277.4       1226.1   \n",
       "1             T01 2016-01-01 00:10:00+00:00       1268.3         93.3   \n",
       "2             T01 2016-01-01 00:20:00+00:00       1394.4        220.3   \n",
       "3             T01 2016-01-01 00:30:00+00:00       1306.6       1212.4   \n",
       "4             T01 2016-01-01 00:40:00+00:00       1320.9       1224.1   \n",
       "...           ...                       ...          ...          ...   \n",
       "434117        T11 2017-08-31 23:20:00+00:00       1434.3       1243.1   \n",
       "434118        T11 2017-08-31 23:30:00+00:00       1265.2       1238.6   \n",
       "434119        T11 2017-08-31 23:40:00+00:00       1264.6       1235.1   \n",
       "434120        T11 2017-08-31 23:50:00+00:00       1281.4       1231.9   \n",
       "434121        T11 2017-09-01 00:00:00+00:00       1266.3       1234.3   \n",
       "\n",
       "        Gen_RPM_Avg  Gen_RPM_Std  Gen_Bear_Temp_Avg  Gen_Phase1_Temp_Avg  \\\n",
       "0            1249.0          9.0               41.0                 58.0   \n",
       "1             999.7        435.9               41.0                 58.0   \n",
       "2             774.0        486.1               41.0                 57.0   \n",
       "3            1257.1         17.0               40.0                 56.0   \n",
       "4            1257.7         18.0               40.0                 57.0   \n",
       "...             ...          ...                ...                  ...   \n",
       "434117       1286.1         46.8               43.0                 56.0   \n",
       "434118       1249.8          4.1               43.0                 57.0   \n",
       "434119       1248.8          4.7               44.0                 58.0   \n",
       "434120       1250.5          6.3               45.0                 59.0   \n",
       "434121       1250.6          5.1               46.0                 60.0   \n",
       "\n",
       "        Gen_Phase2_Temp_Avg  Gen_Phase3_Temp_Avg  ...  \\\n",
       "0                      59.0                 58.0  ...   \n",
       "1                      59.0                 59.0  ...   \n",
       "2                      57.0                 57.0  ...   \n",
       "3                      57.0                 57.0  ...   \n",
       "4                      58.0                 57.0  ...   \n",
       "...                     ...                  ...  ...   \n",
       "434117                 57.0                 56.0  ...   \n",
       "434118                 58.0                 58.0  ...   \n",
       "434119                 59.0                 59.0  ...   \n",
       "434120                 60.0                 60.0  ...   \n",
       "434121                 61.0                 61.0  ...   \n",
       "\n",
       "        Cont_VCP_ChokcoilTemp_Avg  Cont_VCP_WtrTemp_Avg  Nac_Temp_Avg  \\\n",
       "0                            91.0                  39.0          28.0   \n",
       "1                            91.0                  37.0          28.0   \n",
       "2                            87.0                  38.0          29.0   \n",
       "3                            87.0                  38.0          28.0   \n",
       "4                            88.0                  39.0          28.0   \n",
       "...                           ...                   ...           ...   \n",
       "434117                       70.0                  40.0          31.0   \n",
       "434118                       73.0                  40.0          31.0   \n",
       "434119                       76.0                  39.0          31.0   \n",
       "434120                       78.0                  39.0          31.0   \n",
       "434121                       80.0                  39.0          31.0   \n",
       "\n",
       "        Nac_Direction_Avg  Spin_Temp_Avg  Grd_Busbar_Temp_Avg  \\\n",
       "0                   218.5           20.0                 38.0   \n",
       "1                   218.5           20.0                 38.0   \n",
       "2                   213.3           20.0                 38.0   \n",
       "3                   222.4           20.0                 38.0   \n",
       "4                   222.4           20.0                 38.0   \n",
       "...                   ...            ...                  ...   \n",
       "434117              117.5           28.0                 40.0   \n",
       "434118              117.5           28.0                 41.0   \n",
       "434119              116.0           28.0                 41.0   \n",
       "434120              102.9           28.0                 41.0   \n",
       "434121               96.8           28.0                 41.0   \n",
       "\n",
       "        Hyd_Oil_Temp_Avg  Component  TTF  60_days  \n",
       "0                   30.0        0.0  0.0        0  \n",
       "1                   30.0        0.0  0.0        0  \n",
       "2                   30.0        0.0  0.0        0  \n",
       "3                   30.0        0.0  0.0        0  \n",
       "4                   30.0        0.0  0.0        0  \n",
       "...                  ...        ...  ...      ...  \n",
       "434117              40.0        0.0  0.0        0  \n",
       "434118              40.0        0.0  0.0        0  \n",
       "434119              40.0        0.0  0.0        0  \n",
       "434120              40.0        0.0  0.0        0  \n",
       "434121              39.0        0.0  0.0        0  \n",
       "\n",
       "[1476656 rows x 48 columns]"
      ]
     },
     "execution_count": 27,
     "metadata": {},
     "output_type": "execute_result"
    }
   ],
   "source": [
    "generator_df"
   ]
  },
  {
   "cell_type": "code",
   "execution_count": null,
   "id": "arabic-romania",
   "metadata": {},
   "outputs": [],
   "source": []
  },
  {
   "cell_type": "code",
   "execution_count": null,
   "id": "centered-underground",
   "metadata": {},
   "outputs": [],
   "source": []
  },
  {
   "cell_type": "code",
   "execution_count": null,
   "id": "occupational-melissa",
   "metadata": {},
   "outputs": [],
   "source": []
  },
  {
   "cell_type": "code",
   "execution_count": null,
   "id": "english-shame",
   "metadata": {},
   "outputs": [],
   "source": []
  },
  {
   "cell_type": "code",
   "execution_count": null,
   "id": "spectacular-direction",
   "metadata": {},
   "outputs": [],
   "source": []
  },
  {
   "cell_type": "code",
   "execution_count": null,
   "id": "mathematical-favor",
   "metadata": {},
   "outputs": [],
   "source": []
  },
  {
   "cell_type": "code",
   "execution_count": null,
   "id": "auburn-holly",
   "metadata": {},
   "outputs": [],
   "source": []
  },
  {
   "cell_type": "code",
   "execution_count": null,
   "id": "military-richardson",
   "metadata": {},
   "outputs": [],
   "source": []
  },
  {
   "cell_type": "code",
   "execution_count": null,
   "id": "included-plasma",
   "metadata": {},
   "outputs": [],
   "source": []
  },
  {
   "cell_type": "code",
   "execution_count": null,
   "id": "national-knight",
   "metadata": {},
   "outputs": [],
   "source": []
  },
  {
   "cell_type": "code",
   "execution_count": null,
   "id": "metropolitan-paraguay",
   "metadata": {},
   "outputs": [],
   "source": []
  },
  {
   "cell_type": "code",
   "execution_count": null,
   "id": "consecutive-falls",
   "metadata": {},
   "outputs": [],
   "source": []
  },
  {
   "cell_type": "code",
   "execution_count": null,
   "id": "useful-alaska",
   "metadata": {},
   "outputs": [],
   "source": []
  },
  {
   "cell_type": "code",
   "execution_count": null,
   "id": "subject-brazil",
   "metadata": {},
   "outputs": [],
   "source": []
  },
  {
   "cell_type": "code",
   "execution_count": null,
   "id": "small-stylus",
   "metadata": {},
   "outputs": [],
   "source": []
  },
  {
   "cell_type": "code",
   "execution_count": null,
   "id": "biblical-semiconductor",
   "metadata": {},
   "outputs": [],
   "source": []
  },
  {
   "cell_type": "code",
   "execution_count": null,
   "id": "plastic-principle",
   "metadata": {},
   "outputs": [],
   "source": []
  },
  {
   "cell_type": "code",
   "execution_count": null,
   "id": "southwest-bidder",
   "metadata": {},
   "outputs": [],
   "source": []
  },
  {
   "cell_type": "code",
   "execution_count": null,
   "id": "italic-viewer",
   "metadata": {},
   "outputs": [],
   "source": []
  },
  {
   "cell_type": "code",
   "execution_count": 22,
   "id": "ultimate-sauce",
   "metadata": {
    "ExecuteTime": {
     "end_time": "2021-02-04T19:30:26.452530Z",
     "start_time": "2021-02-04T19:30:26.447495Z"
    }
   },
   "outputs": [],
   "source": [
    "# def timestamp_round_down(df, time_column='Timestamp'):\n",
    "#     'Arredondar os intervalos de tempo para os 10 minutos anteriores'\n",
    "#     df[time_column] = df.apply(lambda x: x[time_column] - datetime.timedelta(minutes=x[time_column].minute % -10,seconds=x[time_column].second, microseconds=x[time_column].microsecond),axis=1)\n",
    "#     return df"
   ]
  },
  {
   "cell_type": "code",
   "execution_count": 23,
   "id": "going-parcel",
   "metadata": {
    "ExecuteTime": {
     "end_time": "2021-02-04T19:30:26.473477Z",
     "start_time": "2021-02-04T19:30:26.456565Z"
    }
   },
   "outputs": [],
   "source": [
    "# def time_transform(df, time_column='Timestamp'):\n",
    "#     'Transformar as colunas referentes a tempo no data typw tempo'\n",
    "# #     df[time_column] = pd.to_datetime(df[time_column].str[:19])\n",
    "#     # df[time_column] = df[time_column].dt.tz_localize('GMT')\n",
    "#     df[time_column] = df[time_column].dt.tz_convert(None)\n",
    "#     return df"
   ]
  },
  {
   "cell_type": "code",
   "execution_count": null,
   "id": "enclosed-hawaii",
   "metadata": {},
   "outputs": [],
   "source": []
  },
  {
   "cell_type": "code",
   "execution_count": null,
   "id": "quiet-falls",
   "metadata": {},
   "outputs": [],
   "source": []
  },
  {
   "cell_type": "code",
   "execution_count": null,
   "id": "skilled-pantyhose",
   "metadata": {},
   "outputs": [],
   "source": []
  }
 ],
 "metadata": {
  "kernelspec": {
   "display_name": "Python 3",
   "language": "python",
   "name": "python3"
  },
  "language_info": {
   "codemirror_mode": {
    "name": "ipython",
    "version": 3
   },
   "file_extension": ".py",
   "mimetype": "text/x-python",
   "name": "python",
   "nbconvert_exporter": "python",
   "pygments_lexer": "ipython3",
   "version": "3.7.2"
  }
 },
 "nbformat": 4,
 "nbformat_minor": 5
}
