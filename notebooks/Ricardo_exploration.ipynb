{
 "cells": [
  {
   "cell_type": "markdown",
   "metadata": {
    "toc": true
   },
   "source": [
    "<h1>Table of Contents<span class=\"tocSkip\"></span></h1>\n",
    "<div class=\"toc\"><ul class=\"toc-item\"><li><span><a href=\"#Packages-importing\" data-toc-modified-id=\"Packages-importing-1\"><span class=\"toc-item-num\">1&nbsp;&nbsp;</span>Packages importing</a></span></li><li><span><a href=\"#Obtain-data---Dict-with-DataSets\" data-toc-modified-id=\"Obtain-data---Dict-with-DataSets-2\"><span class=\"toc-item-num\">2&nbsp;&nbsp;</span>Obtain data - Dict with DataSets</a></span><ul class=\"toc-item\"><li><span><a href=\"#Lista-dos-nomes-dos-dataframes\" data-toc-modified-id=\"Lista-dos-nomes-dos-dataframes-2.1\"><span class=\"toc-item-num\">2.1&nbsp;&nbsp;</span>Lista dos nomes dos dataframes</a></span></li><li><span><a href=\"#Lista-com-os-Dataframes\" data-toc-modified-id=\"Lista-com-os-Dataframes-2.2\"><span class=\"toc-item-num\">2.2&nbsp;&nbsp;</span>Lista com os Dataframes</a></span></li></ul></li><li><span><a href=\"#Data-Frames-preparation\" data-toc-modified-id=\"Data-Frames-preparation-3\"><span class=\"toc-item-num\">3&nbsp;&nbsp;</span>Data Frames preparation</a></span><ul class=\"toc-item\"><li><span><a href=\"#htw-failures-2016-Dataframe\" data-toc-modified-id=\"htw-failures-2016-Dataframe-3.1\"><span class=\"toc-item-num\">3.1&nbsp;&nbsp;</span>htw-failures-2016 Dataframe</a></span></li><li><span><a href=\"#Power-Curve-Dataframe\" data-toc-modified-id=\"Power-Curve-Dataframe-3.2\"><span class=\"toc-item-num\">3.2&nbsp;&nbsp;</span>Power Curve Dataframe</a></span></li><li><span><a href=\"#Failures-training-dataframe\" data-toc-modified-id=\"Failures-training-dataframe-3.3\"><span class=\"toc-item-num\">3.3&nbsp;&nbsp;</span>Failures training dataframe</a></span></li><li><span><a href=\"#Locations-dataframe\" data-toc-modified-id=\"Locations-dataframe-3.4\"><span class=\"toc-item-num\">3.4&nbsp;&nbsp;</span>Locations dataframe</a></span></li><li><span><a href=\"#Logs-testing-dataframe\" data-toc-modified-id=\"Logs-testing-dataframe-3.5\"><span class=\"toc-item-num\">3.5&nbsp;&nbsp;</span>Logs-testing dataframe</a></span></li><li><span><a href=\"#Logs-training-dataframe\" data-toc-modified-id=\"Logs-training-dataframe-3.6\"><span class=\"toc-item-num\">3.6&nbsp;&nbsp;</span>Logs-training dataframe</a></span></li><li><span><a href=\"#Metmast-testing-dataframe\" data-toc-modified-id=\"Metmast-testing-dataframe-3.7\"><span class=\"toc-item-num\">3.7&nbsp;&nbsp;</span>Metmast-testing dataframe</a></span></li><li><span><a href=\"#Metmast-training-dataframe\" data-toc-modified-id=\"Metmast-training-dataframe-3.8\"><span class=\"toc-item-num\">3.8&nbsp;&nbsp;</span>Metmast-training dataframe</a></span></li><li><span><a href=\"#Signals-testing-dataframe\" data-toc-modified-id=\"Signals-testing-dataframe-3.9\"><span class=\"toc-item-num\">3.9&nbsp;&nbsp;</span>Signals-testing dataframe</a></span></li><li><span><a href=\"#Signals-training-dataframe\" data-toc-modified-id=\"Signals-training-dataframe-3.10\"><span class=\"toc-item-num\">3.10&nbsp;&nbsp;</span>Signals-training dataframe</a></span></li></ul></li><li><span><a href=\"#Time-description\" data-toc-modified-id=\"Time-description-4\"><span class=\"toc-item-num\">4&nbsp;&nbsp;</span>Time description</a></span><ul class=\"toc-item\"><li><span><a href=\"#Criar-uma-coluna-de-variação-de-tempo-entre-timestamps\" data-toc-modified-id=\"Criar-uma-coluna-de-variação-de-tempo-entre-timestamps-4.1\"><span class=\"toc-item-num\">4.1&nbsp;&nbsp;</span>Criar uma coluna de variação de tempo entre timestamps</a></span></li><li><span><a href=\"#Perceber-a-variação-entre-os-vários-Timestamps\" data-toc-modified-id=\"Perceber-a-variação-entre-os-vários-Timestamps-4.2\"><span class=\"toc-item-num\">4.2&nbsp;&nbsp;</span>Perceber a variação entre os vários Timestamps</a></span></li></ul></li><li><span><a href=\"#Novo-dataframe-com-Timestamp-completo\" data-toc-modified-id=\"Novo-dataframe-com-Timestamp-completo-5\"><span class=\"toc-item-num\">5&nbsp;&nbsp;</span>Novo dataframe com Timestamp completo</a></span></li><li><span><a href=\"#Fazer-merge-do-Dataframe-de-tempo-completo-com-os-restantes-dataframes-considerando-os-dados-de-2016\" data-toc-modified-id=\"Fazer-merge-do-Dataframe-de-tempo-completo-com-os-restantes-dataframes-considerando-os-dados-de-2016-6\"><span class=\"toc-item-num\">6&nbsp;&nbsp;</span>Fazer merge do Dataframe de tempo completo com os restantes dataframes considerando os dados de 2016</a></span><ul class=\"toc-item\"><li><span><a href=\"#Definição-de-data-de-corte\" data-toc-modified-id=\"Definição-de-data-de-corte-6.1\"><span class=\"toc-item-num\">6.1&nbsp;&nbsp;</span>Definição de data de corte</a></span></li><li><span><a href=\"#Delimitação-das-turbinas-a-usar-para-o-dataframe\" data-toc-modified-id=\"Delimitação-das-turbinas-a-usar-para-o-dataframe-6.2\"><span class=\"toc-item-num\">6.2&nbsp;&nbsp;</span>Delimitação das turbinas a usar para o dataframe</a></span></li><li><span><a href=\"#Definição-de-qual-a-unidade-de-medida-de-tempo-a-usar\" data-toc-modified-id=\"Definição-de-qual-a-unidade-de-medida-de-tempo-a-usar-6.3\"><span class=\"toc-item-num\">6.3&nbsp;&nbsp;</span>Definição de qual a unidade de medida de tempo a usar</a></span></li><li><span><a href=\"#Delimitação-dos-campos-a-considerar-para-cada-dataframe-e-getdummies\" data-toc-modified-id=\"Delimitação-dos-campos-a-considerar-para-cada-dataframe-e-getdummies-6.4\"><span class=\"toc-item-num\">6.4&nbsp;&nbsp;</span>Delimitação dos campos a considerar para cada dataframe e getdummies</a></span><ul class=\"toc-item\"><li><span><a href=\"#Logs-Dataframe\" data-toc-modified-id=\"Logs-Dataframe-6.4.1\"><span class=\"toc-item-num\">6.4.1&nbsp;&nbsp;</span>Logs Dataframe</a></span></li><li><span><a href=\"#Failures-Dataframe\" data-toc-modified-id=\"Failures-Dataframe-6.4.2\"><span class=\"toc-item-num\">6.4.2&nbsp;&nbsp;</span>Failures Dataframe</a></span></li></ul></li><li><span><a href=\"#Signals-Dataframe\" data-toc-modified-id=\"Signals-Dataframe-6.5\"><span class=\"toc-item-num\">6.5&nbsp;&nbsp;</span>Signals Dataframe</a></span><ul class=\"toc-item\"><li><span><a href=\"#Metmast-Dataframe\" data-toc-modified-id=\"Metmast-Dataframe-6.5.1\"><span class=\"toc-item-num\">6.5.1&nbsp;&nbsp;</span>Metmast Dataframe</a></span></li></ul></li><li><span><a href=\"#Merging-Dataframes\" data-toc-modified-id=\"Merging-Dataframes-6.6\"><span class=\"toc-item-num\">6.6&nbsp;&nbsp;</span>Merging Dataframes</a></span></li></ul></li></ul></div>"
   ]
  },
  {
   "cell_type": "markdown",
   "metadata": {},
   "source": [
    "## Packages importing"
   ]
  },
  {
   "cell_type": "code",
   "execution_count": 1,
   "metadata": {
    "ExecuteTime": {
     "end_time": "2021-02-03T22:13:00.130290Z",
     "start_time": "2021-02-03T22:12:58.515924Z"
    }
   },
   "outputs": [],
   "source": [
    "%load_ext autoreload\n",
    "%autoreload 2\n",
    "import pandas as pd\n",
    "import os\n",
    "import Funtion_tools as ft\n",
    "import matplotlib.pyplot as plt\n",
    "import datetime\n",
    "import matplotlib.pyplot as plt\n",
    "import seaborn as sns"
   ]
  },
  {
   "cell_type": "code",
   "execution_count": null,
   "metadata": {},
   "outputs": [],
   "source": []
  },
  {
   "cell_type": "markdown",
   "metadata": {},
   "source": [
    "## Obtain data - Dict with DataSets"
   ]
  },
  {
   "cell_type": "code",
   "execution_count": 2,
   "metadata": {
    "ExecuteTime": {
     "end_time": "2021-02-03T22:13:07.524872Z",
     "start_time": "2021-02-03T22:13:00.132176Z"
    }
   },
   "outputs": [],
   "source": [
    "WM_data_dict = ft.get_data()"
   ]
  },
  {
   "cell_type": "code",
   "execution_count": 3,
   "metadata": {
    "ExecuteTime": {
     "end_time": "2021-02-03T22:13:07.617408Z",
     "start_time": "2021-02-03T22:13:07.528649Z"
    }
   },
   "outputs": [
    {
     "name": "stdout",
     "output_type": "stream",
     "text": [
      "htw_failures_2016_df (16, 4)\n",
      "Power_curve_df (43, 1)\n",
      "failures_training_df (23, 4)\n",
      "locations_df (17, 3)\n",
      "logs_testing_df (62604, 5)\n",
      "logs_training_df (256231, 5)\n",
      "metmast_testing_df (17567, 41)\n",
      "metmast_training_df (69961, 41)\n",
      "signals_testing_df (87639, 83)\n",
      "signals_training_df (434145, 83)\n"
     ]
    }
   ],
   "source": [
    "# obter a lista de dataframes e forma\n",
    "for i in WM_data_dict:\n",
    "    print(i, WM_data_dict[i].shape)"
   ]
  },
  {
   "cell_type": "markdown",
   "metadata": {},
   "source": [
    "### Lista dos nomes dos dataframes"
   ]
  },
  {
   "cell_type": "code",
   "execution_count": 4,
   "metadata": {
    "ExecuteTime": {
     "end_time": "2021-02-03T22:13:07.709165Z",
     "start_time": "2021-02-03T22:13:07.620402Z"
    }
   },
   "outputs": [
    {
     "data": {
      "text/plain": [
       "['htw_failures_2016_df',\n",
       " 'Power_curve_df',\n",
       " 'failures_training_df',\n",
       " 'locations_df',\n",
       " 'logs_testing_df',\n",
       " 'logs_training_df',\n",
       " 'metmast_testing_df',\n",
       " 'metmast_training_df',\n",
       " 'signals_testing_df',\n",
       " 'signals_training_df']"
      ]
     },
     "execution_count": 4,
     "metadata": {},
     "output_type": "execute_result"
    }
   ],
   "source": [
    "df_names = []\n",
    "for i in WM_data_dict.keys():\n",
    "    df_names.append(i)\n",
    "df_names"
   ]
  },
  {
   "cell_type": "markdown",
   "metadata": {},
   "source": [
    "### Lista com os Dataframes"
   ]
  },
  {
   "cell_type": "code",
   "execution_count": 5,
   "metadata": {
    "ExecuteTime": {
     "end_time": "2021-02-03T22:13:07.804919Z",
     "start_time": "2021-02-03T22:13:07.713155Z"
    }
   },
   "outputs": [],
   "source": [
    "df_list = []\n",
    "for i in WM_data_dict:\n",
    "    df_list.append(WM_data_dict[i])"
   ]
  },
  {
   "cell_type": "markdown",
   "metadata": {},
   "source": [
    "## Data Frames preparation"
   ]
  },
  {
   "cell_type": "markdown",
   "metadata": {},
   "source": [
    "### htw-failures-2016 Dataframe"
   ]
  },
  {
   "cell_type": "code",
   "execution_count": 6,
   "metadata": {
    "ExecuteTime": {
     "end_time": "2021-02-03T22:13:07.898657Z",
     "start_time": "2021-02-03T22:13:07.807900Z"
    }
   },
   "outputs": [
    {
     "data": {
      "text/html": [
       "<div>\n",
       "<style scoped>\n",
       "    .dataframe tbody tr th:only-of-type {\n",
       "        vertical-align: middle;\n",
       "    }\n",
       "\n",
       "    .dataframe tbody tr th {\n",
       "        vertical-align: top;\n",
       "    }\n",
       "\n",
       "    .dataframe thead th {\n",
       "        text-align: right;\n",
       "    }\n",
       "</style>\n",
       "<table border=\"1\" class=\"dataframe\">\n",
       "  <thead>\n",
       "    <tr style=\"text-align: right;\">\n",
       "      <th></th>\n",
       "      <th>Turbine_ID</th>\n",
       "      <th>Component</th>\n",
       "      <th>Timestamp</th>\n",
       "      <th>Remarks</th>\n",
       "    </tr>\n",
       "  </thead>\n",
       "  <tbody>\n",
       "    <tr>\n",
       "      <th>0</th>\n",
       "      <td>T01</td>\n",
       "      <td>GEARBOX</td>\n",
       "      <td>2016-07-18T02:10:00+00:00</td>\n",
       "      <td>Gearbox pump damaged</td>\n",
       "    </tr>\n",
       "    <tr>\n",
       "      <th>1</th>\n",
       "      <td>T06</td>\n",
       "      <td>GENERATOR</td>\n",
       "      <td>2016-07-11T19:48:00+00:00</td>\n",
       "      <td>Generator replaced</td>\n",
       "    </tr>\n",
       "    <tr>\n",
       "      <th>2</th>\n",
       "      <td>T06</td>\n",
       "      <td>GENERATOR</td>\n",
       "      <td>2016-07-24T17:01:00+00:00</td>\n",
       "      <td>Generator temperature sensor failure</td>\n",
       "    </tr>\n",
       "    <tr>\n",
       "      <th>3</th>\n",
       "      <td>T06</td>\n",
       "      <td>GENERATOR</td>\n",
       "      <td>2016-09-04T08:08:00+00:00</td>\n",
       "      <td>High temperature generator error</td>\n",
       "    </tr>\n",
       "    <tr>\n",
       "      <th>4</th>\n",
       "      <td>T06</td>\n",
       "      <td>GENERATOR</td>\n",
       "      <td>2016-10-27T16:26:00+00:00</td>\n",
       "      <td>Generator replaced</td>\n",
       "    </tr>\n",
       "  </tbody>\n",
       "</table>\n",
       "</div>"
      ],
      "text/plain": [
       "  Turbine_ID  Component                  Timestamp  \\\n",
       "0        T01    GEARBOX  2016-07-18T02:10:00+00:00   \n",
       "1        T06  GENERATOR  2016-07-11T19:48:00+00:00   \n",
       "2        T06  GENERATOR  2016-07-24T17:01:00+00:00   \n",
       "3        T06  GENERATOR  2016-09-04T08:08:00+00:00   \n",
       "4        T06  GENERATOR  2016-10-27T16:26:00+00:00   \n",
       "\n",
       "                                Remarks  \n",
       "0                  Gearbox pump damaged  \n",
       "1                    Generator replaced  \n",
       "2  Generator temperature sensor failure  \n",
       "3      High temperature generator error  \n",
       "4                    Generator replaced  "
      ]
     },
     "execution_count": 6,
     "metadata": {},
     "output_type": "execute_result"
    }
   ],
   "source": [
    "htw_failures_2016_df = WM_data_dict['htw_failures_2016_df'].copy()\n",
    "htw_failures_2016_df.head()"
   ]
  },
  {
   "cell_type": "code",
   "execution_count": 7,
   "metadata": {
    "ExecuteTime": {
     "end_time": "2021-02-03T22:13:07.991900Z",
     "start_time": "2021-02-03T22:13:07.900652Z"
    },
    "scrolled": true
   },
   "outputs": [
    {
     "data": {
      "text/html": [
       "<div>\n",
       "<style scoped>\n",
       "    .dataframe tbody tr th:only-of-type {\n",
       "        vertical-align: middle;\n",
       "    }\n",
       "\n",
       "    .dataframe tbody tr th {\n",
       "        vertical-align: top;\n",
       "    }\n",
       "\n",
       "    .dataframe thead th {\n",
       "        text-align: right;\n",
       "    }\n",
       "</style>\n",
       "<table border=\"1\" class=\"dataframe\">\n",
       "  <thead>\n",
       "    <tr style=\"text-align: right;\">\n",
       "      <th></th>\n",
       "      <th>Turbine_ID</th>\n",
       "      <th>Component</th>\n",
       "      <th>Timestamp</th>\n",
       "      <th>Remarks</th>\n",
       "    </tr>\n",
       "  </thead>\n",
       "  <tbody>\n",
       "    <tr>\n",
       "      <th>0</th>\n",
       "      <td>T01</td>\n",
       "      <td>GEARBOX</td>\n",
       "      <td>2016-07-18 02:10:00</td>\n",
       "      <td>Gearbox pump damaged</td>\n",
       "    </tr>\n",
       "    <tr>\n",
       "      <th>1</th>\n",
       "      <td>T06</td>\n",
       "      <td>GENERATOR</td>\n",
       "      <td>2016-07-11 19:48:00</td>\n",
       "      <td>Generator replaced</td>\n",
       "    </tr>\n",
       "    <tr>\n",
       "      <th>2</th>\n",
       "      <td>T06</td>\n",
       "      <td>GENERATOR</td>\n",
       "      <td>2016-07-24 17:01:00</td>\n",
       "      <td>Generator temperature sensor failure</td>\n",
       "    </tr>\n",
       "    <tr>\n",
       "      <th>3</th>\n",
       "      <td>T06</td>\n",
       "      <td>GENERATOR</td>\n",
       "      <td>2016-09-04 08:08:00</td>\n",
       "      <td>High temperature generator error</td>\n",
       "    </tr>\n",
       "    <tr>\n",
       "      <th>4</th>\n",
       "      <td>T06</td>\n",
       "      <td>GENERATOR</td>\n",
       "      <td>2016-10-27 16:26:00</td>\n",
       "      <td>Generator replaced</td>\n",
       "    </tr>\n",
       "  </tbody>\n",
       "</table>\n",
       "</div>"
      ],
      "text/plain": [
       "  Turbine_ID  Component           Timestamp  \\\n",
       "0        T01    GEARBOX 2016-07-18 02:10:00   \n",
       "1        T06  GENERATOR 2016-07-11 19:48:00   \n",
       "2        T06  GENERATOR 2016-07-24 17:01:00   \n",
       "3        T06  GENERATOR 2016-09-04 08:08:00   \n",
       "4        T06  GENERATOR 2016-10-27 16:26:00   \n",
       "\n",
       "                                Remarks  \n",
       "0                  Gearbox pump damaged  \n",
       "1                    Generator replaced  \n",
       "2  Generator temperature sensor failure  \n",
       "3      High temperature generator error  \n",
       "4                    Generator replaced  "
      ]
     },
     "execution_count": 7,
     "metadata": {},
     "output_type": "execute_result"
    }
   ],
   "source": [
    "htw_failures_2016_df = ft.transform_time(htw_failures_2016_df, 'Timestamp')\n",
    "htw_failures_2016_df.head()"
   ]
  },
  {
   "cell_type": "code",
   "execution_count": 8,
   "metadata": {
    "ExecuteTime": {
     "end_time": "2021-02-03T22:13:08.085651Z",
     "start_time": "2021-02-03T22:13:07.994894Z"
    }
   },
   "outputs": [],
   "source": [
    "df_list[0] = htw_failures_2016_df"
   ]
  },
  {
   "cell_type": "code",
   "execution_count": 9,
   "metadata": {
    "ExecuteTime": {
     "end_time": "2021-02-03T22:13:08.181396Z",
     "start_time": "2021-02-03T22:13:08.087645Z"
    }
   },
   "outputs": [
    {
     "data": {
      "text/html": [
       "<div>\n",
       "<style scoped>\n",
       "    .dataframe tbody tr th:only-of-type {\n",
       "        vertical-align: middle;\n",
       "    }\n",
       "\n",
       "    .dataframe tbody tr th {\n",
       "        vertical-align: top;\n",
       "    }\n",
       "\n",
       "    .dataframe thead th {\n",
       "        text-align: right;\n",
       "    }\n",
       "</style>\n",
       "<table border=\"1\" class=\"dataframe\">\n",
       "  <thead>\n",
       "    <tr style=\"text-align: right;\">\n",
       "      <th></th>\n",
       "      <th>Component</th>\n",
       "      <th>Turbine_ID</th>\n",
       "      <th>Timestamp</th>\n",
       "      <th>Remarks</th>\n",
       "    </tr>\n",
       "  </thead>\n",
       "  <tbody>\n",
       "    <tr>\n",
       "      <th>0</th>\n",
       "      <td>GEARBOX</td>\n",
       "      <td>2</td>\n",
       "      <td>2</td>\n",
       "      <td>2</td>\n",
       "    </tr>\n",
       "    <tr>\n",
       "      <th>1</th>\n",
       "      <td>GENERATOR</td>\n",
       "      <td>6</td>\n",
       "      <td>6</td>\n",
       "      <td>6</td>\n",
       "    </tr>\n",
       "    <tr>\n",
       "      <th>2</th>\n",
       "      <td>GENERATOR_BEARING</td>\n",
       "      <td>4</td>\n",
       "      <td>4</td>\n",
       "      <td>4</td>\n",
       "    </tr>\n",
       "    <tr>\n",
       "      <th>3</th>\n",
       "      <td>HYDRAULIC_GROUP</td>\n",
       "      <td>2</td>\n",
       "      <td>2</td>\n",
       "      <td>2</td>\n",
       "    </tr>\n",
       "    <tr>\n",
       "      <th>4</th>\n",
       "      <td>TRANSFORMER</td>\n",
       "      <td>2</td>\n",
       "      <td>2</td>\n",
       "      <td>2</td>\n",
       "    </tr>\n",
       "  </tbody>\n",
       "</table>\n",
       "</div>"
      ],
      "text/plain": [
       "           Component  Turbine_ID  Timestamp  Remarks\n",
       "0            GEARBOX           2          2        2\n",
       "1          GENERATOR           6          6        6\n",
       "2  GENERATOR_BEARING           4          4        4\n",
       "3    HYDRAULIC_GROUP           2          2        2\n",
       "4        TRANSFORMER           2          2        2"
      ]
     },
     "execution_count": 9,
     "metadata": {},
     "output_type": "execute_result"
    }
   ],
   "source": [
    "freq_av_comp = htw_failures_2016_df.groupby(by='Component').count().reset_index()\n",
    "freq_av_comp"
   ]
  },
  {
   "cell_type": "code",
   "execution_count": 10,
   "metadata": {
    "ExecuteTime": {
     "end_time": "2021-02-03T22:13:08.277138Z",
     "start_time": "2021-02-03T22:13:08.184386Z"
    }
   },
   "outputs": [
    {
     "data": {
      "text/html": [
       "<div>\n",
       "<style scoped>\n",
       "    .dataframe tbody tr th:only-of-type {\n",
       "        vertical-align: middle;\n",
       "    }\n",
       "\n",
       "    .dataframe tbody tr th {\n",
       "        vertical-align: top;\n",
       "    }\n",
       "\n",
       "    .dataframe thead th {\n",
       "        text-align: right;\n",
       "    }\n",
       "</style>\n",
       "<table border=\"1\" class=\"dataframe\">\n",
       "  <thead>\n",
       "    <tr style=\"text-align: right;\">\n",
       "      <th></th>\n",
       "      <th>Turbine_ID</th>\n",
       "      <th>Component</th>\n",
       "      <th>Timestamp</th>\n",
       "      <th>Remarks</th>\n",
       "    </tr>\n",
       "  </thead>\n",
       "  <tbody>\n",
       "    <tr>\n",
       "      <th>0</th>\n",
       "      <td>T01</td>\n",
       "      <td>1</td>\n",
       "      <td>1</td>\n",
       "      <td>1</td>\n",
       "    </tr>\n",
       "    <tr>\n",
       "      <th>1</th>\n",
       "      <td>T06</td>\n",
       "      <td>6</td>\n",
       "      <td>6</td>\n",
       "      <td>6</td>\n",
       "    </tr>\n",
       "    <tr>\n",
       "      <th>2</th>\n",
       "      <td>T07</td>\n",
       "      <td>3</td>\n",
       "      <td>3</td>\n",
       "      <td>3</td>\n",
       "    </tr>\n",
       "    <tr>\n",
       "      <th>3</th>\n",
       "      <td>T09</td>\n",
       "      <td>4</td>\n",
       "      <td>4</td>\n",
       "      <td>4</td>\n",
       "    </tr>\n",
       "    <tr>\n",
       "      <th>4</th>\n",
       "      <td>T11</td>\n",
       "      <td>2</td>\n",
       "      <td>2</td>\n",
       "      <td>2</td>\n",
       "    </tr>\n",
       "  </tbody>\n",
       "</table>\n",
       "</div>"
      ],
      "text/plain": [
       "  Turbine_ID  Component  Timestamp  Remarks\n",
       "0        T01          1          1        1\n",
       "1        T06          6          6        6\n",
       "2        T07          3          3        3\n",
       "3        T09          4          4        4\n",
       "4        T11          2          2        2"
      ]
     },
     "execution_count": 10,
     "metadata": {},
     "output_type": "execute_result"
    }
   ],
   "source": [
    "freq_av_turb_comp = htw_failures_2016_df.groupby(by='Turbine_ID').count().reset_index()\n",
    "freq_av_turb_comp"
   ]
  },
  {
   "cell_type": "code",
   "execution_count": 11,
   "metadata": {
    "ExecuteTime": {
     "end_time": "2021-02-03T22:13:08.498057Z",
     "start_time": "2021-02-03T22:13:08.280131Z"
    }
   },
   "outputs": [
    {
     "data": {
      "image/png": "[encoded data removed]",
      "text/plain": [
       "<Figure size 1152x288 with 1 Axes>"
      ]
     },
     "metadata": {
      "needs_background": "light"
     },
     "output_type": "display_data"
    }
   ],
   "source": [
    "ft.graf_barras(freq_av_comp.Component,freq_av_comp.Turbine_ID)"
   ]
  },
  {
   "cell_type": "markdown",
   "metadata": {},
   "source": [
    "### Power Curve Dataframe"
   ]
  },
  {
   "cell_type": "code",
   "execution_count": 12,
   "metadata": {
    "ExecuteTime": {
     "end_time": "2021-02-03T22:13:08.593801Z",
     "start_time": "2021-02-03T22:13:08.500053Z"
    }
   },
   "outputs": [
    {
     "data": {
      "text/html": [
       "<div>\n",
       "<style scoped>\n",
       "    .dataframe tbody tr th:only-of-type {\n",
       "        vertical-align: middle;\n",
       "    }\n",
       "\n",
       "    .dataframe tbody tr th {\n",
       "        vertical-align: top;\n",
       "    }\n",
       "\n",
       "    .dataframe thead th {\n",
       "        text-align: right;\n",
       "    }\n",
       "</style>\n",
       "<table border=\"1\" class=\"dataframe\">\n",
       "  <thead>\n",
       "    <tr style=\"text-align: right;\">\n",
       "      <th></th>\n",
       "      <th>Wind speed (m/s),Power (kW)</th>\n",
       "    </tr>\n",
       "  </thead>\n",
       "  <tbody>\n",
       "    <tr>\n",
       "      <th>0</th>\n",
       "      <td>4,89</td>\n",
       "    </tr>\n",
       "    <tr>\n",
       "      <th>1</th>\n",
       "      <td>4.5,142</td>\n",
       "    </tr>\n",
       "    <tr>\n",
       "      <th>2</th>\n",
       "      <td>5,204</td>\n",
       "    </tr>\n",
       "    <tr>\n",
       "      <th>3</th>\n",
       "      <td>5.5,279</td>\n",
       "    </tr>\n",
       "    <tr>\n",
       "      <th>4</th>\n",
       "      <td>6,368</td>\n",
       "    </tr>\n",
       "  </tbody>\n",
       "</table>\n",
       "</div>"
      ],
      "text/plain": [
       "  Wind speed (m/s),Power (kW)\n",
       "0                        4,89\n",
       "1                     4.5,142\n",
       "2                       5,204\n",
       "3                     5.5,279\n",
       "4                       6,368"
      ]
     },
     "execution_count": 12,
     "metadata": {},
     "output_type": "execute_result"
    }
   ],
   "source": [
    "Power_curve_df = WM_data_dict['Power_curve_df'].copy()\n",
    "Power_curve_df.head()"
   ]
  },
  {
   "cell_type": "code",
   "execution_count": 13,
   "metadata": {
    "ExecuteTime": {
     "end_time": "2021-02-03T22:13:08.688059Z",
     "start_time": "2021-02-03T22:13:08.595797Z"
    },
    "scrolled": true
   },
   "outputs": [
    {
     "data": {
      "text/html": [
       "<div>\n",
       "<style scoped>\n",
       "    .dataframe tbody tr th:only-of-type {\n",
       "        vertical-align: middle;\n",
       "    }\n",
       "\n",
       "    .dataframe tbody tr th {\n",
       "        vertical-align: top;\n",
       "    }\n",
       "\n",
       "    .dataframe thead th {\n",
       "        text-align: right;\n",
       "    }\n",
       "</style>\n",
       "<table border=\"1\" class=\"dataframe\">\n",
       "  <thead>\n",
       "    <tr style=\"text-align: right;\">\n",
       "      <th></th>\n",
       "      <th>windspeed(m_s)</th>\n",
       "      <th>power(kw)</th>\n",
       "    </tr>\n",
       "  </thead>\n",
       "  <tbody>\n",
       "    <tr>\n",
       "      <th>0</th>\n",
       "      <td>4.0</td>\n",
       "      <td>89</td>\n",
       "    </tr>\n",
       "    <tr>\n",
       "      <th>1</th>\n",
       "      <td>4.5</td>\n",
       "      <td>142</td>\n",
       "    </tr>\n",
       "    <tr>\n",
       "      <th>2</th>\n",
       "      <td>5.0</td>\n",
       "      <td>204</td>\n",
       "    </tr>\n",
       "    <tr>\n",
       "      <th>3</th>\n",
       "      <td>5.5</td>\n",
       "      <td>279</td>\n",
       "    </tr>\n",
       "    <tr>\n",
       "      <th>4</th>\n",
       "      <td>6.0</td>\n",
       "      <td>368</td>\n",
       "    </tr>\n",
       "  </tbody>\n",
       "</table>\n",
       "</div>"
      ],
      "text/plain": [
       "   windspeed(m_s)  power(kw)\n",
       "0             4.0         89\n",
       "1             4.5        142\n",
       "2             5.0        204\n",
       "3             5.5        279\n",
       "4             6.0        368"
      ]
     },
     "execution_count": 13,
     "metadata": {},
     "output_type": "execute_result"
    }
   ],
   "source": [
    "Power_curve_df = ft.power_curve_trans(WM_data_dict)\n",
    "Power_curve_df.head()"
   ]
  },
  {
   "cell_type": "code",
   "execution_count": 14,
   "metadata": {
    "ExecuteTime": {
     "end_time": "2021-02-03T22:13:08.784835Z",
     "start_time": "2021-02-03T22:13:08.689055Z"
    }
   },
   "outputs": [],
   "source": [
    "df_list[1] = Power_curve_df"
   ]
  },
  {
   "cell_type": "code",
   "execution_count": 15,
   "metadata": {
    "ExecuteTime": {
     "end_time": "2021-02-03T22:13:09.487920Z",
     "start_time": "2021-02-03T22:13:08.804775Z"
    }
   },
   "outputs": [
    {
     "data": {
      "image/png": "[encoded data removed]",
      "text/plain": [
       "<Figure size 432x288 with 1 Axes>"
      ]
     },
     "metadata": {},
     "output_type": "display_data"
    }
   ],
   "source": [
    "ft.graf_scatter(y=Power_curve_df['power(kw)'], x=Power_curve_df['windspeed(m_s)'])"
   ]
  },
  {
   "cell_type": "markdown",
   "metadata": {},
   "source": [
    "### Failures training dataframe"
   ]
  },
  {
   "cell_type": "code",
   "execution_count": 16,
   "metadata": {
    "ExecuteTime": {
     "end_time": "2021-02-03T22:13:09.582523Z",
     "start_time": "2021-02-03T22:13:09.489749Z"
    }
   },
   "outputs": [
    {
     "data": {
      "text/html": [
       "<div>\n",
       "<style scoped>\n",
       "    .dataframe tbody tr th:only-of-type {\n",
       "        vertical-align: middle;\n",
       "    }\n",
       "\n",
       "    .dataframe tbody tr th {\n",
       "        vertical-align: top;\n",
       "    }\n",
       "\n",
       "    .dataframe thead th {\n",
       "        text-align: right;\n",
       "    }\n",
       "</style>\n",
       "<table border=\"1\" class=\"dataframe\">\n",
       "  <thead>\n",
       "    <tr style=\"text-align: right;\">\n",
       "      <th></th>\n",
       "      <th>Turbine_ID</th>\n",
       "      <th>Component</th>\n",
       "      <th>Timestamp</th>\n",
       "      <th>Remarks</th>\n",
       "    </tr>\n",
       "  </thead>\n",
       "  <tbody>\n",
       "    <tr>\n",
       "      <th>0</th>\n",
       "      <td>T11</td>\n",
       "      <td>GENERATOR</td>\n",
       "      <td>2016-03-03T19:00:00+00:00</td>\n",
       "      <td>Electric circuit error in generator</td>\n",
       "    </tr>\n",
       "    <tr>\n",
       "      <th>1</th>\n",
       "      <td>T06</td>\n",
       "      <td>HYDRAULIC_GROUP</td>\n",
       "      <td>2016-04-04T18:53:00+00:00</td>\n",
       "      <td>Error in pitch regulation</td>\n",
       "    </tr>\n",
       "    <tr>\n",
       "      <th>2</th>\n",
       "      <td>T07</td>\n",
       "      <td>GENERATOR_BEARING</td>\n",
       "      <td>2016-04-30T12:40:00+00:00</td>\n",
       "      <td>High temperature in generator bearing (replace...</td>\n",
       "    </tr>\n",
       "    <tr>\n",
       "      <th>3</th>\n",
       "      <td>T09</td>\n",
       "      <td>GENERATOR_BEARING</td>\n",
       "      <td>2016-06-07T16:59:00+00:00</td>\n",
       "      <td>High tempemperature generator bearing</td>\n",
       "    </tr>\n",
       "    <tr>\n",
       "      <th>4</th>\n",
       "      <td>T07</td>\n",
       "      <td>TRANSFORMER</td>\n",
       "      <td>2016-07-10T03:46:00+00:00</td>\n",
       "      <td>High temperature transformer</td>\n",
       "    </tr>\n",
       "  </tbody>\n",
       "</table>\n",
       "</div>"
      ],
      "text/plain": [
       "  Turbine_ID          Component                  Timestamp  \\\n",
       "0        T11          GENERATOR  2016-03-03T19:00:00+00:00   \n",
       "1        T06    HYDRAULIC_GROUP  2016-04-04T18:53:00+00:00   \n",
       "2        T07  GENERATOR_BEARING  2016-04-30T12:40:00+00:00   \n",
       "3        T09  GENERATOR_BEARING  2016-06-07T16:59:00+00:00   \n",
       "4        T07        TRANSFORMER  2016-07-10T03:46:00+00:00   \n",
       "\n",
       "                                             Remarks  \n",
       "0                Electric circuit error in generator  \n",
       "1                          Error in pitch regulation  \n",
       "2  High temperature in generator bearing (replace...  \n",
       "3              High tempemperature generator bearing  \n",
       "4                       High temperature transformer  "
      ]
     },
     "execution_count": 16,
     "metadata": {},
     "output_type": "execute_result"
    }
   ],
   "source": [
    "failures_training_df = WM_data_dict['failures_training_df'].copy()\n",
    "failures_training_df.head()"
   ]
  },
  {
   "cell_type": "code",
   "execution_count": 17,
   "metadata": {
    "ExecuteTime": {
     "end_time": "2021-02-03T22:13:09.675789Z",
     "start_time": "2021-02-03T22:13:09.584531Z"
    }
   },
   "outputs": [
    {
     "data": {
      "text/html": [
       "<div>\n",
       "<style scoped>\n",
       "    .dataframe tbody tr th:only-of-type {\n",
       "        vertical-align: middle;\n",
       "    }\n",
       "\n",
       "    .dataframe tbody tr th {\n",
       "        vertical-align: top;\n",
       "    }\n",
       "\n",
       "    .dataframe thead th {\n",
       "        text-align: right;\n",
       "    }\n",
       "</style>\n",
       "<table border=\"1\" class=\"dataframe\">\n",
       "  <thead>\n",
       "    <tr style=\"text-align: right;\">\n",
       "      <th></th>\n",
       "      <th>Turbine_ID</th>\n",
       "      <th>Component</th>\n",
       "      <th>Timestamp</th>\n",
       "      <th>Remarks</th>\n",
       "    </tr>\n",
       "  </thead>\n",
       "  <tbody>\n",
       "    <tr>\n",
       "      <th>0</th>\n",
       "      <td>T11</td>\n",
       "      <td>GENERATOR</td>\n",
       "      <td>2016-03-03 19:00:00</td>\n",
       "      <td>Electric circuit error in generator</td>\n",
       "    </tr>\n",
       "    <tr>\n",
       "      <th>1</th>\n",
       "      <td>T06</td>\n",
       "      <td>HYDRAULIC_GROUP</td>\n",
       "      <td>2016-04-04 18:53:00</td>\n",
       "      <td>Error in pitch regulation</td>\n",
       "    </tr>\n",
       "    <tr>\n",
       "      <th>2</th>\n",
       "      <td>T07</td>\n",
       "      <td>GENERATOR_BEARING</td>\n",
       "      <td>2016-04-30 12:40:00</td>\n",
       "      <td>High temperature in generator bearing (replace...</td>\n",
       "    </tr>\n",
       "    <tr>\n",
       "      <th>3</th>\n",
       "      <td>T09</td>\n",
       "      <td>GENERATOR_BEARING</td>\n",
       "      <td>2016-06-07 16:59:00</td>\n",
       "      <td>High tempemperature generator bearing</td>\n",
       "    </tr>\n",
       "    <tr>\n",
       "      <th>4</th>\n",
       "      <td>T07</td>\n",
       "      <td>TRANSFORMER</td>\n",
       "      <td>2016-07-10 03:46:00</td>\n",
       "      <td>High temperature transformer</td>\n",
       "    </tr>\n",
       "  </tbody>\n",
       "</table>\n",
       "</div>"
      ],
      "text/plain": [
       "  Turbine_ID          Component           Timestamp  \\\n",
       "0        T11          GENERATOR 2016-03-03 19:00:00   \n",
       "1        T06    HYDRAULIC_GROUP 2016-04-04 18:53:00   \n",
       "2        T07  GENERATOR_BEARING 2016-04-30 12:40:00   \n",
       "3        T09  GENERATOR_BEARING 2016-06-07 16:59:00   \n",
       "4        T07        TRANSFORMER 2016-07-10 03:46:00   \n",
       "\n",
       "                                             Remarks  \n",
       "0                Electric circuit error in generator  \n",
       "1                          Error in pitch regulation  \n",
       "2  High temperature in generator bearing (replace...  \n",
       "3              High tempemperature generator bearing  \n",
       "4                       High temperature transformer  "
      ]
     },
     "execution_count": 17,
     "metadata": {},
     "output_type": "execute_result"
    }
   ],
   "source": [
    "failures_training_df = ft.transform_time(failures_training_df, 'Timestamp')\n",
    "failures_training_df.head()"
   ]
  },
  {
   "cell_type": "code",
   "execution_count": 18,
   "metadata": {
    "ExecuteTime": {
     "end_time": "2021-02-03T22:13:09.771531Z",
     "start_time": "2021-02-03T22:13:09.677785Z"
    }
   },
   "outputs": [],
   "source": [
    "failures_training_df = ft.timestamp_round_down(failures_training_df)"
   ]
  },
  {
   "cell_type": "code",
   "execution_count": 19,
   "metadata": {
    "ExecuteTime": {
     "end_time": "2021-02-03T22:13:10.163483Z",
     "start_time": "2021-02-03T22:13:09.772530Z"
    }
   },
   "outputs": [
    {
     "name": "stderr",
     "output_type": "stream",
     "text": [
      "c:\\users\\ricar\\.venvs\\lewagon\\lib\\site-packages\\pandas\\plotting\\_converter.py:129: FutureWarning: Using an implicitly registered datetime converter for a matplotlib plotting method. The converter was registered by pandas on import. Future versions of pandas will require you to explicitly register matplotlib converters.\n",
      "\n",
      "To register the converters:\n",
      "\t>>> from pandas.plotting import register_matplotlib_converters\n",
      "\t>>> register_matplotlib_converters()\n",
      "  warnings.warn(msg, FutureWarning)\n"
     ]
    },
    {
     "data": {
      "image/png": "[encoded data removed]",
      "text/plain": [
       "<Figure size 360x360 with 1 Axes>"
      ]
     },
     "metadata": {},
     "output_type": "display_data"
    }
   ],
   "source": [
    "plt.figure(figsize=(5,5))\n",
    "ft.graf_scatter(x=failures_training_df.Timestamp, y=failures_training_df.Turbine_ID)"
   ]
  },
  {
   "cell_type": "code",
   "execution_count": 20,
   "metadata": {
    "ExecuteTime": {
     "end_time": "2021-02-03T22:13:10.257843Z",
     "start_time": "2021-02-03T22:13:10.165478Z"
    }
   },
   "outputs": [
    {
     "data": {
      "text/html": [
       "<div>\n",
       "<style scoped>\n",
       "    .dataframe tbody tr th:only-of-type {\n",
       "        vertical-align: middle;\n",
       "    }\n",
       "\n",
       "    .dataframe tbody tr th {\n",
       "        vertical-align: top;\n",
       "    }\n",
       "\n",
       "    .dataframe thead th {\n",
       "        text-align: right;\n",
       "    }\n",
       "</style>\n",
       "<table border=\"1\" class=\"dataframe\">\n",
       "  <thead>\n",
       "    <tr style=\"text-align: right;\">\n",
       "      <th></th>\n",
       "      <th>Turbine_ID</th>\n",
       "      <th>Component</th>\n",
       "      <th>Timestamp</th>\n",
       "      <th>Remarks</th>\n",
       "    </tr>\n",
       "  </thead>\n",
       "  <tbody>\n",
       "    <tr>\n",
       "      <th>1</th>\n",
       "      <td>T06</td>\n",
       "      <td>HYDRAULIC_GROUP</td>\n",
       "      <td>2016-04-04 18:50:00</td>\n",
       "      <td>Error in pitch regulation</td>\n",
       "    </tr>\n",
       "    <tr>\n",
       "      <th>5</th>\n",
       "      <td>T06</td>\n",
       "      <td>GENERATOR</td>\n",
       "      <td>2016-07-11 19:40:00</td>\n",
       "      <td>Generator replaced</td>\n",
       "    </tr>\n",
       "    <tr>\n",
       "      <th>7</th>\n",
       "      <td>T06</td>\n",
       "      <td>GENERATOR</td>\n",
       "      <td>2016-07-24 17:00:00</td>\n",
       "      <td>Generator temperature sensor failure</td>\n",
       "    </tr>\n",
       "    <tr>\n",
       "      <th>10</th>\n",
       "      <td>T06</td>\n",
       "      <td>GENERATOR</td>\n",
       "      <td>2016-09-04 08:00:00</td>\n",
       "      <td>High temperature generator error</td>\n",
       "    </tr>\n",
       "    <tr>\n",
       "      <th>11</th>\n",
       "      <td>T06</td>\n",
       "      <td>GENERATOR</td>\n",
       "      <td>2016-10-02 17:00:00</td>\n",
       "      <td>Refrigeration system and temperature sensors i...</td>\n",
       "    </tr>\n",
       "    <tr>\n",
       "      <th>15</th>\n",
       "      <td>T06</td>\n",
       "      <td>GENERATOR</td>\n",
       "      <td>2016-10-27 16:20:00</td>\n",
       "      <td>Generator replaced</td>\n",
       "    </tr>\n",
       "    <tr>\n",
       "      <th>20</th>\n",
       "      <td>T06</td>\n",
       "      <td>HYDRAULIC_GROUP</td>\n",
       "      <td>2017-08-19 09:40:00</td>\n",
       "      <td>Oil leakage in Hub</td>\n",
       "    </tr>\n",
       "  </tbody>\n",
       "</table>\n",
       "</div>"
      ],
      "text/plain": [
       "   Turbine_ID        Component           Timestamp  \\\n",
       "1         T06  HYDRAULIC_GROUP 2016-04-04 18:50:00   \n",
       "5         T06        GENERATOR 2016-07-11 19:40:00   \n",
       "7         T06        GENERATOR 2016-07-24 17:00:00   \n",
       "10        T06        GENERATOR 2016-09-04 08:00:00   \n",
       "11        T06        GENERATOR 2016-10-02 17:00:00   \n",
       "15        T06        GENERATOR 2016-10-27 16:20:00   \n",
       "20        T06  HYDRAULIC_GROUP 2017-08-19 09:40:00   \n",
       "\n",
       "                                              Remarks  \n",
       "1                           Error in pitch regulation  \n",
       "5                                  Generator replaced  \n",
       "7                Generator temperature sensor failure  \n",
       "10                   High temperature generator error  \n",
       "11  Refrigeration system and temperature sensors i...  \n",
       "15                                 Generator replaced  \n",
       "20                                 Oil leakage in Hub  "
      ]
     },
     "execution_count": 20,
     "metadata": {},
     "output_type": "execute_result"
    }
   ],
   "source": [
    "failures_training_df.loc[failures_training_df.Turbine_ID == 'T06', ['Turbine_ID','Component','Timestamp','Remarks']]"
   ]
  },
  {
   "cell_type": "markdown",
   "metadata": {},
   "source": [
    "### Locations dataframe"
   ]
  },
  {
   "cell_type": "code",
   "execution_count": 21,
   "metadata": {
    "ExecuteTime": {
     "end_time": "2021-02-03T22:13:10.353177Z",
     "start_time": "2021-02-03T22:13:10.259838Z"
    }
   },
   "outputs": [
    {
     "data": {
      "text/html": [
       "<div>\n",
       "<style scoped>\n",
       "    .dataframe tbody tr th:only-of-type {\n",
       "        vertical-align: middle;\n",
       "    }\n",
       "\n",
       "    .dataframe tbody tr th {\n",
       "        vertical-align: top;\n",
       "    }\n",
       "\n",
       "    .dataframe thead th {\n",
       "        text-align: right;\n",
       "    }\n",
       "</style>\n",
       "<table border=\"1\" class=\"dataframe\">\n",
       "  <thead>\n",
       "    <tr style=\"text-align: right;\">\n",
       "      <th></th>\n",
       "      <th>Item</th>\n",
       "      <th>Relative Location</th>\n",
       "      <th>Data Set Available</th>\n",
       "    </tr>\n",
       "  </thead>\n",
       "  <tbody>\n",
       "    <tr>\n",
       "      <th>0</th>\n",
       "      <td>Wind Turbine 7</td>\n",
       "      <td>0.00182111,0.009671981</td>\n",
       "      <td>https://opendata.edp.com/explore/?sort=modifie...</td>\n",
       "    </tr>\n",
       "    <tr>\n",
       "      <th>1</th>\n",
       "      <td>Wind Turbine 1</td>\n",
       "      <td>0.00324017,0.001856562</td>\n",
       "      <td>https://opendata.edp.com/explore/?sort=modifie...</td>\n",
       "    </tr>\n",
       "    <tr>\n",
       "      <th>2</th>\n",
       "      <td>Wind Turbine 15</td>\n",
       "      <td>-0.00772443,0.002684614</td>\n",
       "      <td>NaN</td>\n",
       "    </tr>\n",
       "    <tr>\n",
       "      <th>3</th>\n",
       "      <td>Wind Turbine 8</td>\n",
       "      <td>-0.00355058,0.010732693</td>\n",
       "      <td>NaN</td>\n",
       "    </tr>\n",
       "    <tr>\n",
       "      <th>4</th>\n",
       "      <td>Wind Turbine 3</td>\n",
       "      <td>-0.00169754,0.001520614</td>\n",
       "      <td>NaN</td>\n",
       "    </tr>\n",
       "  </tbody>\n",
       "</table>\n",
       "</div>"
      ],
      "text/plain": [
       "              Item        Relative Location  \\\n",
       "0   Wind Turbine 7   0.00182111,0.009671981   \n",
       "1   Wind Turbine 1   0.00324017,0.001856562   \n",
       "2  Wind Turbine 15  -0.00772443,0.002684614   \n",
       "3   Wind Turbine 8  -0.00355058,0.010732693   \n",
       "4   Wind Turbine 3  -0.00169754,0.001520614   \n",
       "\n",
       "                                  Data Set Available  \n",
       "0  https://opendata.edp.com/explore/?sort=modifie...  \n",
       "1  https://opendata.edp.com/explore/?sort=modifie...  \n",
       "2                                                NaN  \n",
       "3                                                NaN  \n",
       "4                                                NaN  "
      ]
     },
     "execution_count": 21,
     "metadata": {},
     "output_type": "execute_result"
    }
   ],
   "source": [
    "locations_df = WM_data_dict['locations_df']\n",
    "locations_df.head()"
   ]
  },
  {
   "cell_type": "markdown",
   "metadata": {
    "ExecuteTime": {
     "end_time": "2021-01-27T23:13:26.392082Z",
     "start_time": "2021-01-27T23:13:26.375304Z"
    }
   },
   "source": [
    "### Logs-testing dataframe"
   ]
  },
  {
   "cell_type": "code",
   "execution_count": 22,
   "metadata": {
    "ExecuteTime": {
     "end_time": "2021-02-03T22:13:10.448920Z",
     "start_time": "2021-02-03T22:13:10.355174Z"
    }
   },
   "outputs": [
    {
     "data": {
      "text/html": [
       "<div>\n",
       "<style scoped>\n",
       "    .dataframe tbody tr th:only-of-type {\n",
       "        vertical-align: middle;\n",
       "    }\n",
       "\n",
       "    .dataframe tbody tr th {\n",
       "        vertical-align: top;\n",
       "    }\n",
       "\n",
       "    .dataframe thead th {\n",
       "        text-align: right;\n",
       "    }\n",
       "</style>\n",
       "<table border=\"1\" class=\"dataframe\">\n",
       "  <thead>\n",
       "    <tr style=\"text-align: right;\">\n",
       "      <th></th>\n",
       "      <th>TimeDetected</th>\n",
       "      <th>TimeReset</th>\n",
       "      <th>UnitTitle</th>\n",
       "      <th>Remark</th>\n",
       "      <th>UnitTitleDestination</th>\n",
       "    </tr>\n",
       "  </thead>\n",
       "  <tbody>\n",
       "    <tr>\n",
       "      <th>0</th>\n",
       "      <td>2017-09-01T00:00:48+00:00</td>\n",
       "      <td>NaN</td>\n",
       "      <td>T06</td>\n",
       "      <td>Gen. ext. vent. 2, temp: 65°C</td>\n",
       "      <td>NaN</td>\n",
       "    </tr>\n",
       "    <tr>\n",
       "      <th>1</th>\n",
       "      <td>2017-09-01T00:01:23+00:00</td>\n",
       "      <td>NaN</td>\n",
       "      <td>T01</td>\n",
       "      <td>Gen. ext. vent. 2, temp: 65°C</td>\n",
       "      <td>NaN</td>\n",
       "    </tr>\n",
       "    <tr>\n",
       "      <th>2</th>\n",
       "      <td>2017-09-01T00:04:14+00:00</td>\n",
       "      <td>NaN</td>\n",
       "      <td>T06</td>\n",
       "      <td>External power ref.:2000kW</td>\n",
       "      <td>NaN</td>\n",
       "    </tr>\n",
       "    <tr>\n",
       "      <th>3</th>\n",
       "      <td>2017-09-01T00:07:05+00:00</td>\n",
       "      <td>NaN</td>\n",
       "      <td>T09</td>\n",
       "      <td>Gen. ext. vent. 2, temp: 65°C</td>\n",
       "      <td>NaN</td>\n",
       "    </tr>\n",
       "    <tr>\n",
       "      <th>4</th>\n",
       "      <td>2017-09-01T00:15:50+00:00</td>\n",
       "      <td>NaN</td>\n",
       "      <td>T09</td>\n",
       "      <td>External power ref.:2000kW</td>\n",
       "      <td>NaN</td>\n",
       "    </tr>\n",
       "  </tbody>\n",
       "</table>\n",
       "</div>"
      ],
      "text/plain": [
       "                TimeDetected TimeReset UnitTitle  \\\n",
       "0  2017-09-01T00:00:48+00:00       NaN       T06   \n",
       "1  2017-09-01T00:01:23+00:00       NaN       T01   \n",
       "2  2017-09-01T00:04:14+00:00       NaN       T06   \n",
       "3  2017-09-01T00:07:05+00:00       NaN       T09   \n",
       "4  2017-09-01T00:15:50+00:00       NaN       T09   \n",
       "\n",
       "                          Remark UnitTitleDestination  \n",
       "0  Gen. ext. vent. 2, temp: 65°C                  NaN  \n",
       "1  Gen. ext. vent. 2, temp: 65°C                  NaN  \n",
       "2     External power ref.:2000kW                  NaN  \n",
       "3  Gen. ext. vent. 2, temp: 65°C                  NaN  \n",
       "4     External power ref.:2000kW                  NaN  "
      ]
     },
     "execution_count": 22,
     "metadata": {},
     "output_type": "execute_result"
    }
   ],
   "source": [
    "logs_testing_df = WM_data_dict['logs_testing_df'].copy()\n",
    "logs_testing_df.head()"
   ]
  },
  {
   "cell_type": "code",
   "execution_count": 23,
   "metadata": {
    "ExecuteTime": {
     "end_time": "2021-02-03T22:13:10.556167Z",
     "start_time": "2021-02-03T22:13:10.453910Z"
    }
   },
   "outputs": [
    {
     "data": {
      "text/html": [
       "<div>\n",
       "<style scoped>\n",
       "    .dataframe tbody tr th:only-of-type {\n",
       "        vertical-align: middle;\n",
       "    }\n",
       "\n",
       "    .dataframe tbody tr th {\n",
       "        vertical-align: top;\n",
       "    }\n",
       "\n",
       "    .dataframe thead th {\n",
       "        text-align: right;\n",
       "    }\n",
       "</style>\n",
       "<table border=\"1\" class=\"dataframe\">\n",
       "  <thead>\n",
       "    <tr style=\"text-align: right;\">\n",
       "      <th></th>\n",
       "      <th>Timestamp</th>\n",
       "      <th>TimeReset</th>\n",
       "      <th>Turbine_ID</th>\n",
       "      <th>Remark</th>\n",
       "      <th>UnitTitleDestination</th>\n",
       "    </tr>\n",
       "  </thead>\n",
       "  <tbody>\n",
       "    <tr>\n",
       "      <th>0</th>\n",
       "      <td>2017-09-01T00:00:48+00:00</td>\n",
       "      <td>NaN</td>\n",
       "      <td>T06</td>\n",
       "      <td>Gen. ext. vent. 2, temp: 65°C</td>\n",
       "      <td>NaN</td>\n",
       "    </tr>\n",
       "    <tr>\n",
       "      <th>1</th>\n",
       "      <td>2017-09-01T00:01:23+00:00</td>\n",
       "      <td>NaN</td>\n",
       "      <td>T01</td>\n",
       "      <td>Gen. ext. vent. 2, temp: 65°C</td>\n",
       "      <td>NaN</td>\n",
       "    </tr>\n",
       "    <tr>\n",
       "      <th>2</th>\n",
       "      <td>2017-09-01T00:04:14+00:00</td>\n",
       "      <td>NaN</td>\n",
       "      <td>T06</td>\n",
       "      <td>External power ref.:2000kW</td>\n",
       "      <td>NaN</td>\n",
       "    </tr>\n",
       "    <tr>\n",
       "      <th>3</th>\n",
       "      <td>2017-09-01T00:07:05+00:00</td>\n",
       "      <td>NaN</td>\n",
       "      <td>T09</td>\n",
       "      <td>Gen. ext. vent. 2, temp: 65°C</td>\n",
       "      <td>NaN</td>\n",
       "    </tr>\n",
       "    <tr>\n",
       "      <th>4</th>\n",
       "      <td>2017-09-01T00:15:50+00:00</td>\n",
       "      <td>NaN</td>\n",
       "      <td>T09</td>\n",
       "      <td>External power ref.:2000kW</td>\n",
       "      <td>NaN</td>\n",
       "    </tr>\n",
       "  </tbody>\n",
       "</table>\n",
       "</div>"
      ],
      "text/plain": [
       "                   Timestamp TimeReset Turbine_ID  \\\n",
       "0  2017-09-01T00:00:48+00:00       NaN        T06   \n",
       "1  2017-09-01T00:01:23+00:00       NaN        T01   \n",
       "2  2017-09-01T00:04:14+00:00       NaN        T06   \n",
       "3  2017-09-01T00:07:05+00:00       NaN        T09   \n",
       "4  2017-09-01T00:15:50+00:00       NaN        T09   \n",
       "\n",
       "                          Remark UnitTitleDestination  \n",
       "0  Gen. ext. vent. 2, temp: 65°C                  NaN  \n",
       "1  Gen. ext. vent. 2, temp: 65°C                  NaN  \n",
       "2     External power ref.:2000kW                  NaN  \n",
       "3  Gen. ext. vent. 2, temp: 65°C                  NaN  \n",
       "4     External power ref.:2000kW                  NaN  "
      ]
     },
     "execution_count": 23,
     "metadata": {},
     "output_type": "execute_result"
    }
   ],
   "source": [
    "logs_testing_df = ft.logs_cols_uniform(logs_testing_df)\n",
    "logs_testing_df.head()"
   ]
  },
  {
   "cell_type": "code",
   "execution_count": 24,
   "metadata": {
    "ExecuteTime": {
     "end_time": "2021-02-03T22:13:10.711084Z",
     "start_time": "2021-02-03T22:13:10.558163Z"
    }
   },
   "outputs": [
    {
     "data": {
      "text/html": [
       "<div>\n",
       "<style scoped>\n",
       "    .dataframe tbody tr th:only-of-type {\n",
       "        vertical-align: middle;\n",
       "    }\n",
       "\n",
       "    .dataframe tbody tr th {\n",
       "        vertical-align: top;\n",
       "    }\n",
       "\n",
       "    .dataframe thead th {\n",
       "        text-align: right;\n",
       "    }\n",
       "</style>\n",
       "<table border=\"1\" class=\"dataframe\">\n",
       "  <thead>\n",
       "    <tr style=\"text-align: right;\">\n",
       "      <th></th>\n",
       "      <th>Timestamp</th>\n",
       "      <th>TimeReset</th>\n",
       "      <th>Turbine_ID</th>\n",
       "      <th>Remark</th>\n",
       "      <th>UnitTitleDestination</th>\n",
       "    </tr>\n",
       "  </thead>\n",
       "  <tbody>\n",
       "    <tr>\n",
       "      <th>0</th>\n",
       "      <td>2017-09-01 00:00:48</td>\n",
       "      <td>NaN</td>\n",
       "      <td>T06</td>\n",
       "      <td>Gen. ext. vent. 2, temp: 65°C</td>\n",
       "      <td>NaN</td>\n",
       "    </tr>\n",
       "    <tr>\n",
       "      <th>1</th>\n",
       "      <td>2017-09-01 00:01:23</td>\n",
       "      <td>NaN</td>\n",
       "      <td>T01</td>\n",
       "      <td>Gen. ext. vent. 2, temp: 65°C</td>\n",
       "      <td>NaN</td>\n",
       "    </tr>\n",
       "    <tr>\n",
       "      <th>2</th>\n",
       "      <td>2017-09-01 00:04:14</td>\n",
       "      <td>NaN</td>\n",
       "      <td>T06</td>\n",
       "      <td>External power ref.:2000kW</td>\n",
       "      <td>NaN</td>\n",
       "    </tr>\n",
       "    <tr>\n",
       "      <th>3</th>\n",
       "      <td>2017-09-01 00:07:05</td>\n",
       "      <td>NaN</td>\n",
       "      <td>T09</td>\n",
       "      <td>Gen. ext. vent. 2, temp: 65°C</td>\n",
       "      <td>NaN</td>\n",
       "    </tr>\n",
       "    <tr>\n",
       "      <th>4</th>\n",
       "      <td>2017-09-01 00:15:50</td>\n",
       "      <td>NaN</td>\n",
       "      <td>T09</td>\n",
       "      <td>External power ref.:2000kW</td>\n",
       "      <td>NaN</td>\n",
       "    </tr>\n",
       "  </tbody>\n",
       "</table>\n",
       "</div>"
      ],
      "text/plain": [
       "            Timestamp TimeReset Turbine_ID                         Remark  \\\n",
       "0 2017-09-01 00:00:48       NaN        T06  Gen. ext. vent. 2, temp: 65°C   \n",
       "1 2017-09-01 00:01:23       NaN        T01  Gen. ext. vent. 2, temp: 65°C   \n",
       "2 2017-09-01 00:04:14       NaN        T06     External power ref.:2000kW   \n",
       "3 2017-09-01 00:07:05       NaN        T09  Gen. ext. vent. 2, temp: 65°C   \n",
       "4 2017-09-01 00:15:50       NaN        T09     External power ref.:2000kW   \n",
       "\n",
       "  UnitTitleDestination  \n",
       "0                  NaN  \n",
       "1                  NaN  \n",
       "2                  NaN  \n",
       "3                  NaN  \n",
       "4                  NaN  "
      ]
     },
     "execution_count": 24,
     "metadata": {},
     "output_type": "execute_result"
    }
   ],
   "source": [
    "logs_testing_df = ft.transform_time(logs_testing_df)\n",
    "logs_testing_df.head()"
   ]
  },
  {
   "cell_type": "code",
   "execution_count": 25,
   "metadata": {
    "ExecuteTime": {
     "end_time": "2021-02-03T22:13:13.954838Z",
     "start_time": "2021-02-03T22:13:10.714076Z"
    }
   },
   "outputs": [
    {
     "data": {
      "text/html": [
       "<div>\n",
       "<style scoped>\n",
       "    .dataframe tbody tr th:only-of-type {\n",
       "        vertical-align: middle;\n",
       "    }\n",
       "\n",
       "    .dataframe tbody tr th {\n",
       "        vertical-align: top;\n",
       "    }\n",
       "\n",
       "    .dataframe thead th {\n",
       "        text-align: right;\n",
       "    }\n",
       "</style>\n",
       "<table border=\"1\" class=\"dataframe\">\n",
       "  <thead>\n",
       "    <tr style=\"text-align: right;\">\n",
       "      <th></th>\n",
       "      <th>Timestamp</th>\n",
       "      <th>TimeReset</th>\n",
       "      <th>Turbine_ID</th>\n",
       "      <th>Remark</th>\n",
       "      <th>UnitTitleDestination</th>\n",
       "    </tr>\n",
       "  </thead>\n",
       "  <tbody>\n",
       "    <tr>\n",
       "      <th>0</th>\n",
       "      <td>2017-09-01 00:00:00</td>\n",
       "      <td>NaN</td>\n",
       "      <td>T06</td>\n",
       "      <td>Gen. ext. vent. 2, temp: 65°C</td>\n",
       "      <td>NaN</td>\n",
       "    </tr>\n",
       "    <tr>\n",
       "      <th>1</th>\n",
       "      <td>2017-09-01 00:00:00</td>\n",
       "      <td>NaN</td>\n",
       "      <td>T01</td>\n",
       "      <td>Gen. ext. vent. 2, temp: 65°C</td>\n",
       "      <td>NaN</td>\n",
       "    </tr>\n",
       "    <tr>\n",
       "      <th>2</th>\n",
       "      <td>2017-09-01 00:00:00</td>\n",
       "      <td>NaN</td>\n",
       "      <td>T06</td>\n",
       "      <td>External power ref.:2000kW</td>\n",
       "      <td>NaN</td>\n",
       "    </tr>\n",
       "    <tr>\n",
       "      <th>3</th>\n",
       "      <td>2017-09-01 00:00:00</td>\n",
       "      <td>NaN</td>\n",
       "      <td>T09</td>\n",
       "      <td>Gen. ext. vent. 2, temp: 65°C</td>\n",
       "      <td>NaN</td>\n",
       "    </tr>\n",
       "    <tr>\n",
       "      <th>4</th>\n",
       "      <td>2017-09-01 00:10:00</td>\n",
       "      <td>NaN</td>\n",
       "      <td>T09</td>\n",
       "      <td>External power ref.:2000kW</td>\n",
       "      <td>NaN</td>\n",
       "    </tr>\n",
       "  </tbody>\n",
       "</table>\n",
       "</div>"
      ],
      "text/plain": [
       "            Timestamp TimeReset Turbine_ID                         Remark  \\\n",
       "0 2017-09-01 00:00:00       NaN        T06  Gen. ext. vent. 2, temp: 65°C   \n",
       "1 2017-09-01 00:00:00       NaN        T01  Gen. ext. vent. 2, temp: 65°C   \n",
       "2 2017-09-01 00:00:00       NaN        T06     External power ref.:2000kW   \n",
       "3 2017-09-01 00:00:00       NaN        T09  Gen. ext. vent. 2, temp: 65°C   \n",
       "4 2017-09-01 00:10:00       NaN        T09     External power ref.:2000kW   \n",
       "\n",
       "  UnitTitleDestination  \n",
       "0                  NaN  \n",
       "1                  NaN  \n",
       "2                  NaN  \n",
       "3                  NaN  \n",
       "4                  NaN  "
      ]
     },
     "execution_count": 25,
     "metadata": {},
     "output_type": "execute_result"
    }
   ],
   "source": [
    "exp2 = ft.timestamp_round_down(logs_testing_df)\n",
    "exp2.head()"
   ]
  },
  {
   "cell_type": "code",
   "execution_count": 26,
   "metadata": {
    "ExecuteTime": {
     "end_time": "2021-02-03T22:13:14.049471Z",
     "start_time": "2021-02-03T22:13:13.956798Z"
    }
   },
   "outputs": [],
   "source": [
    "df_list[4] = logs_testing_df"
   ]
  },
  {
   "cell_type": "markdown",
   "metadata": {},
   "source": [
    "### Logs-training dataframe"
   ]
  },
  {
   "cell_type": "code",
   "execution_count": 38,
   "metadata": {
    "ExecuteTime": {
     "end_time": "2021-02-03T22:14:17.186329Z",
     "start_time": "2021-02-03T22:14:17.098642Z"
    }
   },
   "outputs": [
    {
     "data": {
      "text/html": [
       "<div>\n",
       "<style scoped>\n",
       "    .dataframe tbody tr th:only-of-type {\n",
       "        vertical-align: middle;\n",
       "    }\n",
       "\n",
       "    .dataframe tbody tr th {\n",
       "        vertical-align: top;\n",
       "    }\n",
       "\n",
       "    .dataframe thead th {\n",
       "        text-align: right;\n",
       "    }\n",
       "</style>\n",
       "<table border=\"1\" class=\"dataframe\">\n",
       "  <thead>\n",
       "    <tr style=\"text-align: right;\">\n",
       "      <th></th>\n",
       "      <th>TimeDetected</th>\n",
       "      <th>TimeReset</th>\n",
       "      <th>UnitTitle</th>\n",
       "      <th>Remark</th>\n",
       "      <th>UnitTitleDestination</th>\n",
       "    </tr>\n",
       "  </thead>\n",
       "  <tbody>\n",
       "    <tr>\n",
       "      <th>0</th>\n",
       "      <td>2016-01-01T00:02:18+00:00</td>\n",
       "      <td>NaN</td>\n",
       "      <td>T11</td>\n",
       "      <td>External power ref.:2000kW</td>\n",
       "      <td>NaN</td>\n",
       "    </tr>\n",
       "    <tr>\n",
       "      <th>1</th>\n",
       "      <td>2016-01-01T00:07:15+00:00</td>\n",
       "      <td>NaN</td>\n",
       "      <td>T06</td>\n",
       "      <td>Generator 1 in</td>\n",
       "      <td>NaN</td>\n",
       "    </tr>\n",
       "    <tr>\n",
       "      <th>2</th>\n",
       "      <td>2016-01-01T00:11:33+00:00</td>\n",
       "      <td>NaN</td>\n",
       "      <td>T09</td>\n",
       "      <td>External power ref.:2000kW</td>\n",
       "      <td>NaN</td>\n",
       "    </tr>\n",
       "    <tr>\n",
       "      <th>3</th>\n",
       "      <td>2016-01-01T00:15:27+00:00</td>\n",
       "      <td>NaN</td>\n",
       "      <td>T01</td>\n",
       "      <td>Generator 1 in</td>\n",
       "      <td>NaN</td>\n",
       "    </tr>\n",
       "    <tr>\n",
       "      <th>4</th>\n",
       "      <td>2016-01-01T00:15:44+00:00</td>\n",
       "      <td>NaN</td>\n",
       "      <td>T01</td>\n",
       "      <td>External power ref.:2000kW</td>\n",
       "      <td>NaN</td>\n",
       "    </tr>\n",
       "  </tbody>\n",
       "</table>\n",
       "</div>"
      ],
      "text/plain": [
       "                TimeDetected TimeReset UnitTitle                      Remark  \\\n",
       "0  2016-01-01T00:02:18+00:00       NaN       T11  External power ref.:2000kW   \n",
       "1  2016-01-01T00:07:15+00:00       NaN       T06              Generator 1 in   \n",
       "2  2016-01-01T00:11:33+00:00       NaN       T09  External power ref.:2000kW   \n",
       "3  2016-01-01T00:15:27+00:00       NaN       T01              Generator 1 in   \n",
       "4  2016-01-01T00:15:44+00:00       NaN       T01  External power ref.:2000kW   \n",
       "\n",
       "   UnitTitleDestination  \n",
       "0                   NaN  \n",
       "1                   NaN  \n",
       "2                   NaN  \n",
       "3                   NaN  \n",
       "4                   NaN  "
      ]
     },
     "execution_count": 38,
     "metadata": {},
     "output_type": "execute_result"
    }
   ],
   "source": [
    "logs_training_df = WM_data_dict['logs_training_df'].copy()\n",
    "logs_training_df.head()"
   ]
  },
  {
   "cell_type": "code",
   "execution_count": 39,
   "metadata": {
    "ExecuteTime": {
     "end_time": "2021-02-03T22:14:19.033921Z",
     "start_time": "2021-02-03T22:14:18.917811Z"
    }
   },
   "outputs": [
    {
     "data": {
      "text/html": [
       "<div>\n",
       "<style scoped>\n",
       "    .dataframe tbody tr th:only-of-type {\n",
       "        vertical-align: middle;\n",
       "    }\n",
       "\n",
       "    .dataframe tbody tr th {\n",
       "        vertical-align: top;\n",
       "    }\n",
       "\n",
       "    .dataframe thead th {\n",
       "        text-align: right;\n",
       "    }\n",
       "</style>\n",
       "<table border=\"1\" class=\"dataframe\">\n",
       "  <thead>\n",
       "    <tr style=\"text-align: right;\">\n",
       "      <th></th>\n",
       "      <th>Timestamp</th>\n",
       "      <th>TimeReset</th>\n",
       "      <th>Turbine_ID</th>\n",
       "      <th>Remark</th>\n",
       "      <th>UnitTitleDestination</th>\n",
       "    </tr>\n",
       "  </thead>\n",
       "  <tbody>\n",
       "    <tr>\n",
       "      <th>0</th>\n",
       "      <td>2016-01-01T00:02:18+00:00</td>\n",
       "      <td>NaN</td>\n",
       "      <td>T11</td>\n",
       "      <td>External power ref.:2000kW</td>\n",
       "      <td>NaN</td>\n",
       "    </tr>\n",
       "    <tr>\n",
       "      <th>1</th>\n",
       "      <td>2016-01-01T00:07:15+00:00</td>\n",
       "      <td>NaN</td>\n",
       "      <td>T06</td>\n",
       "      <td>Generator 1 in</td>\n",
       "      <td>NaN</td>\n",
       "    </tr>\n",
       "    <tr>\n",
       "      <th>2</th>\n",
       "      <td>2016-01-01T00:11:33+00:00</td>\n",
       "      <td>NaN</td>\n",
       "      <td>T09</td>\n",
       "      <td>External power ref.:2000kW</td>\n",
       "      <td>NaN</td>\n",
       "    </tr>\n",
       "    <tr>\n",
       "      <th>3</th>\n",
       "      <td>2016-01-01T00:15:27+00:00</td>\n",
       "      <td>NaN</td>\n",
       "      <td>T01</td>\n",
       "      <td>Generator 1 in</td>\n",
       "      <td>NaN</td>\n",
       "    </tr>\n",
       "    <tr>\n",
       "      <th>4</th>\n",
       "      <td>2016-01-01T00:15:44+00:00</td>\n",
       "      <td>NaN</td>\n",
       "      <td>T01</td>\n",
       "      <td>External power ref.:2000kW</td>\n",
       "      <td>NaN</td>\n",
       "    </tr>\n",
       "  </tbody>\n",
       "</table>\n",
       "</div>"
      ],
      "text/plain": [
       "                   Timestamp TimeReset Turbine_ID                      Remark  \\\n",
       "0  2016-01-01T00:02:18+00:00       NaN        T11  External power ref.:2000kW   \n",
       "1  2016-01-01T00:07:15+00:00       NaN        T06              Generator 1 in   \n",
       "2  2016-01-01T00:11:33+00:00       NaN        T09  External power ref.:2000kW   \n",
       "3  2016-01-01T00:15:27+00:00       NaN        T01              Generator 1 in   \n",
       "4  2016-01-01T00:15:44+00:00       NaN        T01  External power ref.:2000kW   \n",
       "\n",
       "   UnitTitleDestination  \n",
       "0                   NaN  \n",
       "1                   NaN  \n",
       "2                   NaN  \n",
       "3                   NaN  \n",
       "4                   NaN  "
      ]
     },
     "execution_count": 39,
     "metadata": {},
     "output_type": "execute_result"
    }
   ],
   "source": [
    "logs_training_df = ft.logs_cols_uniform(logs_training_df)\n",
    "logs_training_df.head()"
   ]
  },
  {
   "cell_type": "code",
   "execution_count": 29,
   "metadata": {
    "ExecuteTime": {
     "end_time": "2021-02-03T22:13:14.624725Z",
     "start_time": "2021-02-03T22:13:14.253676Z"
    }
   },
   "outputs": [
    {
     "data": {
      "text/html": [
       "<div>\n",
       "<style scoped>\n",
       "    .dataframe tbody tr th:only-of-type {\n",
       "        vertical-align: middle;\n",
       "    }\n",
       "\n",
       "    .dataframe tbody tr th {\n",
       "        vertical-align: top;\n",
       "    }\n",
       "\n",
       "    .dataframe thead th {\n",
       "        text-align: right;\n",
       "    }\n",
       "</style>\n",
       "<table border=\"1\" class=\"dataframe\">\n",
       "  <thead>\n",
       "    <tr style=\"text-align: right;\">\n",
       "      <th></th>\n",
       "      <th>Timestamp</th>\n",
       "      <th>TimeReset</th>\n",
       "      <th>Turbine_ID</th>\n",
       "      <th>Remark</th>\n",
       "      <th>UnitTitleDestination</th>\n",
       "    </tr>\n",
       "  </thead>\n",
       "  <tbody>\n",
       "    <tr>\n",
       "      <th>0</th>\n",
       "      <td>2016-01-01 00:02:18</td>\n",
       "      <td>NaN</td>\n",
       "      <td>T11</td>\n",
       "      <td>External power ref.:2000kW</td>\n",
       "      <td>NaN</td>\n",
       "    </tr>\n",
       "    <tr>\n",
       "      <th>1</th>\n",
       "      <td>2016-01-01 00:07:15</td>\n",
       "      <td>NaN</td>\n",
       "      <td>T06</td>\n",
       "      <td>Generator 1 in</td>\n",
       "      <td>NaN</td>\n",
       "    </tr>\n",
       "    <tr>\n",
       "      <th>2</th>\n",
       "      <td>2016-01-01 00:11:33</td>\n",
       "      <td>NaN</td>\n",
       "      <td>T09</td>\n",
       "      <td>External power ref.:2000kW</td>\n",
       "      <td>NaN</td>\n",
       "    </tr>\n",
       "    <tr>\n",
       "      <th>3</th>\n",
       "      <td>2016-01-01 00:15:27</td>\n",
       "      <td>NaN</td>\n",
       "      <td>T01</td>\n",
       "      <td>Generator 1 in</td>\n",
       "      <td>NaN</td>\n",
       "    </tr>\n",
       "    <tr>\n",
       "      <th>4</th>\n",
       "      <td>2016-01-01 00:15:44</td>\n",
       "      <td>NaN</td>\n",
       "      <td>T01</td>\n",
       "      <td>External power ref.:2000kW</td>\n",
       "      <td>NaN</td>\n",
       "    </tr>\n",
       "  </tbody>\n",
       "</table>\n",
       "</div>"
      ],
      "text/plain": [
       "            Timestamp TimeReset Turbine_ID                      Remark  \\\n",
       "0 2016-01-01 00:02:18       NaN        T11  External power ref.:2000kW   \n",
       "1 2016-01-01 00:07:15       NaN        T06              Generator 1 in   \n",
       "2 2016-01-01 00:11:33       NaN        T09  External power ref.:2000kW   \n",
       "3 2016-01-01 00:15:27       NaN        T01              Generator 1 in   \n",
       "4 2016-01-01 00:15:44       NaN        T01  External power ref.:2000kW   \n",
       "\n",
       "   UnitTitleDestination  \n",
       "0                   NaN  \n",
       "1                   NaN  \n",
       "2                   NaN  \n",
       "3                   NaN  \n",
       "4                   NaN  "
      ]
     },
     "execution_count": 29,
     "metadata": {},
     "output_type": "execute_result"
    }
   ],
   "source": [
    "logs_training_df = ft.transform_time(logs_training_df)\n",
    "logs_training_df.head()"
   ]
  },
  {
   "cell_type": "code",
   "execution_count": 30,
   "metadata": {
    "ExecuteTime": {
     "end_time": "2021-02-03T22:13:14.749890Z",
     "start_time": "2021-02-03T22:13:14.626678Z"
    }
   },
   "outputs": [],
   "source": [
    "logs_exp = logs_training_df.Remark.value_counts().to_frame().reset_index()\n",
    "logs_exp = logs_exp.rename(columns={'index':'Comentario', 'Remark':'Freq_comentario'})\n",
    "logs_exp['Freq_rel'] = logs_exp['Freq_comentario']/logs_exp['Freq_comentario'].sum()\n",
    "logs_exp['Cum_freq'] = logs_exp['Freq_rel'].cumsum()"
   ]
  },
  {
   "cell_type": "code",
   "execution_count": 31,
   "metadata": {
    "ExecuteTime": {
     "end_time": "2021-02-03T22:13:14.829191Z",
     "start_time": "2021-02-03T22:13:14.751886Z"
    }
   },
   "outputs": [
    {
     "data": {
      "text/html": [
       "<div>\n",
       "<style scoped>\n",
       "    .dataframe tbody tr th:only-of-type {\n",
       "        vertical-align: middle;\n",
       "    }\n",
       "\n",
       "    .dataframe tbody tr th {\n",
       "        vertical-align: top;\n",
       "    }\n",
       "\n",
       "    .dataframe thead th {\n",
       "        text-align: right;\n",
       "    }\n",
       "</style>\n",
       "<table border=\"1\" class=\"dataframe\">\n",
       "  <thead>\n",
       "    <tr style=\"text-align: right;\">\n",
       "      <th></th>\n",
       "      <th>Comentario</th>\n",
       "      <th>Freq_comentario</th>\n",
       "      <th>Freq_rel</th>\n",
       "      <th>Cum_freq</th>\n",
       "    </tr>\n",
       "  </thead>\n",
       "  <tbody>\n",
       "    <tr>\n",
       "      <th>0</th>\n",
       "      <td>External power ref.:2000kW</td>\n",
       "      <td>114565</td>\n",
       "      <td>0.447116</td>\n",
       "      <td>0.447116</td>\n",
       "    </tr>\n",
       "    <tr>\n",
       "      <th>1</th>\n",
       "      <td>Generator 1 in</td>\n",
       "      <td>24554</td>\n",
       "      <td>0.095828</td>\n",
       "      <td>0.542944</td>\n",
       "    </tr>\n",
       "    <tr>\n",
       "      <th>2</th>\n",
       "      <td>Hot HV trafo 270°C      0kW</td>\n",
       "      <td>19811</td>\n",
       "      <td>0.077317</td>\n",
       "      <td>0.620261</td>\n",
       "    </tr>\n",
       "    <tr>\n",
       "      <th>3</th>\n",
       "      <td>Yaw Speed Exc:  0° Rate:10sec</td>\n",
       "      <td>7071</td>\n",
       "      <td>0.027596</td>\n",
       "      <td>0.647857</td>\n",
       "    </tr>\n",
       "    <tr>\n",
       "      <th>4</th>\n",
       "      <td>GearoilCooler 2, gear:  57°C</td>\n",
       "      <td>6273</td>\n",
       "      <td>0.024482</td>\n",
       "      <td>0.672339</td>\n",
       "    </tr>\n",
       "  </tbody>\n",
       "</table>\n",
       "</div>"
      ],
      "text/plain": [
       "                      Comentario  Freq_comentario  Freq_rel  Cum_freq\n",
       "0     External power ref.:2000kW           114565  0.447116  0.447116\n",
       "1                 Generator 1 in            24554  0.095828  0.542944\n",
       "2    Hot HV trafo 270°C      0kW            19811  0.077317  0.620261\n",
       "3  Yaw Speed Exc:  0° Rate:10sec             7071  0.027596  0.647857\n",
       "4   GearoilCooler 2, gear:  57°C             6273  0.024482  0.672339"
      ]
     },
     "execution_count": 31,
     "metadata": {},
     "output_type": "execute_result"
    }
   ],
   "source": [
    "logs_exp.head()"
   ]
  },
  {
   "cell_type": "code",
   "execution_count": 32,
   "metadata": {
    "ExecuteTime": {
     "end_time": "2021-02-03T22:13:14.923937Z",
     "start_time": "2021-02-03T22:13:14.831184Z"
    }
   },
   "outputs": [
    {
     "data": {
      "text/plain": [
       "['External power ref.:2000kW',\n",
       " 'Generator 1 in',\n",
       " 'Hot HV trafo 270°C      0kW',\n",
       " 'Yaw Speed Exc:  0° Rate:10sec',\n",
       " 'GearoilCooler 2, gear:  57°C',\n",
       " 'GearoilCooler 1, gear:  49°C',\n",
       " 'Gen. int. vent. 1, temp: 50°C',\n",
       " 'Gen. ext. vent. 1, temp: 50°C',\n",
       " 'Gen. int. vent. 0, temp: 34°C',\n",
       " 'Gen. ext. vent. 0, temp: 34°C',\n",
       " 'Gen. ext. vent. 2, temp: 65°C',\n",
       " 'Gen. ext. vent. 1, temp: 49°C',\n",
       " 'Yawcontr. from:30010 to:30011',\n",
       " 'Yawcontr. from:30011 to:30010',\n",
       " 'Accumulator test done -> OK']"
      ]
     },
     "execution_count": 32,
     "metadata": {},
     "output_type": "execute_result"
    }
   ],
   "source": [
    "# Estamos a aproveitar 76% da informação dos logs de treino.\n",
    "lista_comentarios = []\n",
    "for i in range(15):\n",
    "    lista_comentarios.append(logs_exp.Comentario[i])\n",
    "lista_comentarios"
   ]
  },
  {
   "cell_type": "code",
   "execution_count": 33,
   "metadata": {
    "ExecuteTime": {
     "end_time": "2021-02-03T22:13:15.034238Z",
     "start_time": "2021-02-03T22:13:14.925931Z"
    }
   },
   "outputs": [],
   "source": [
    "logs_training_df = logs_training_df[logs_training_df['Remark'].isin(lista_comentarios)]"
   ]
  },
  {
   "cell_type": "code",
   "execution_count": 34,
   "metadata": {
    "ExecuteTime": {
     "end_time": "2021-02-03T22:13:15.111007Z",
     "start_time": "2021-02-03T22:13:15.036207Z"
    }
   },
   "outputs": [],
   "source": [
    "df_list[5] = logs_training_df"
   ]
  },
  {
   "cell_type": "code",
   "execution_count": 48,
   "metadata": {
    "ExecuteTime": {
     "end_time": "2021-02-03T22:17:09.324312Z",
     "start_time": "2021-02-03T22:17:09.244920Z"
    }
   },
   "outputs": [],
   "source": [
    "def logs_dummies(df):\n",
    "    '''Uniformização da tabela de logs e transformação com get_dummies'''\n",
    "    #     Colunas a manter\n",
    "    logs_cols_manter = ['Timestamp', 'Turbine_ID', 'Remark']\n",
    "    #     Lista de comentários a manter\n",
    "    lista_comentarios = [\n",
    "        'External power ref.:2000kW', 'Generator 1 in',\n",
    "        'Hot HV trafo 270°C      0kW', 'Yaw Speed Exc:  0° Rate:10sec',\n",
    "        'GearoilCooler 2, gear:  57°C', 'GearoilCooler 1, gear:  49°C',\n",
    "        'Gen. int. vent. 1, temp: 50°C', 'Gen. ext. vent. 1, temp: 50°C',\n",
    "        'Gen. int. vent. 0, temp: 34°C', 'Gen. ext. vent. 0, temp: 34°C',\n",
    "        'Gen. ext. vent. 2, temp: 65°C', 'Gen. ext. vent. 1, temp: 49°C',\n",
    "        'Yawcontr. from:30010 to:30011', 'Yawcontr. from:30011 to:30010',\n",
    "        'Accumulator test done -> OK'\n",
    "    ]\n",
    "    #     Separação de comentários a manter\n",
    "    df = df.loc[df['Remark'].isin(lista_comentarios), logs_cols_manter]\n",
    "    #     transformação de Get_Dummies\n",
    "    df = pd.get_dummies(df, columns=['Remark'])\n",
    "    return df"
   ]
  },
  {
   "cell_type": "code",
   "execution_count": 49,
   "metadata": {
    "ExecuteTime": {
     "end_time": "2021-02-03T22:17:10.705756Z",
     "start_time": "2021-02-03T22:17:10.268903Z"
    }
   },
   "outputs": [
    {
     "data": {
      "text/html": [
       "<div>\n",
       "<style scoped>\n",
       "    .dataframe tbody tr th:only-of-type {\n",
       "        vertical-align: middle;\n",
       "    }\n",
       "\n",
       "    .dataframe tbody tr th {\n",
       "        vertical-align: top;\n",
       "    }\n",
       "\n",
       "    .dataframe thead th {\n",
       "        text-align: right;\n",
       "    }\n",
       "</style>\n",
       "<table border=\"1\" class=\"dataframe\">\n",
       "  <thead>\n",
       "    <tr style=\"text-align: right;\">\n",
       "      <th></th>\n",
       "      <th>Timestamp</th>\n",
       "      <th>Turbine_ID</th>\n",
       "      <th>Remark_Accumulator test done -&gt; OK</th>\n",
       "      <th>Remark_External power ref.:2000kW</th>\n",
       "      <th>Remark_GearoilCooler 1, gear:  49°C</th>\n",
       "      <th>Remark_GearoilCooler 2, gear:  57°C</th>\n",
       "      <th>Remark_Gen. ext. vent. 0, temp: 34°C</th>\n",
       "      <th>Remark_Gen. ext. vent. 1, temp: 49°C</th>\n",
       "      <th>Remark_Gen. ext. vent. 1, temp: 50°C</th>\n",
       "      <th>Remark_Gen. ext. vent. 2, temp: 65°C</th>\n",
       "      <th>Remark_Gen. int. vent. 0, temp: 34°C</th>\n",
       "      <th>Remark_Gen. int. vent. 1, temp: 50°C</th>\n",
       "      <th>Remark_Generator 1 in</th>\n",
       "      <th>Remark_Hot HV trafo 270°C      0kW</th>\n",
       "      <th>Remark_Yaw Speed Exc:  0° Rate:10sec</th>\n",
       "      <th>Remark_Yawcontr. from:30010 to:30011</th>\n",
       "      <th>Remark_Yawcontr. from:30011 to:30010</th>\n",
       "    </tr>\n",
       "  </thead>\n",
       "  <tbody>\n",
       "    <tr>\n",
       "      <th>0</th>\n",
       "      <td>2016-01-01T00:02:18+00:00</td>\n",
       "      <td>T11</td>\n",
       "      <td>0</td>\n",
       "      <td>1</td>\n",
       "      <td>0</td>\n",
       "      <td>0</td>\n",
       "      <td>0</td>\n",
       "      <td>0</td>\n",
       "      <td>0</td>\n",
       "      <td>0</td>\n",
       "      <td>0</td>\n",
       "      <td>0</td>\n",
       "      <td>0</td>\n",
       "      <td>0</td>\n",
       "      <td>0</td>\n",
       "      <td>0</td>\n",
       "      <td>0</td>\n",
       "    </tr>\n",
       "    <tr>\n",
       "      <th>1</th>\n",
       "      <td>2016-01-01T00:07:15+00:00</td>\n",
       "      <td>T06</td>\n",
       "      <td>0</td>\n",
       "      <td>0</td>\n",
       "      <td>0</td>\n",
       "      <td>0</td>\n",
       "      <td>0</td>\n",
       "      <td>0</td>\n",
       "      <td>0</td>\n",
       "      <td>0</td>\n",
       "      <td>0</td>\n",
       "      <td>0</td>\n",
       "      <td>1</td>\n",
       "      <td>0</td>\n",
       "      <td>0</td>\n",
       "      <td>0</td>\n",
       "      <td>0</td>\n",
       "    </tr>\n",
       "    <tr>\n",
       "      <th>2</th>\n",
       "      <td>2016-01-01T00:11:33+00:00</td>\n",
       "      <td>T09</td>\n",
       "      <td>0</td>\n",
       "      <td>1</td>\n",
       "      <td>0</td>\n",
       "      <td>0</td>\n",
       "      <td>0</td>\n",
       "      <td>0</td>\n",
       "      <td>0</td>\n",
       "      <td>0</td>\n",
       "      <td>0</td>\n",
       "      <td>0</td>\n",
       "      <td>0</td>\n",
       "      <td>0</td>\n",
       "      <td>0</td>\n",
       "      <td>0</td>\n",
       "      <td>0</td>\n",
       "    </tr>\n",
       "    <tr>\n",
       "      <th>3</th>\n",
       "      <td>2016-01-01T00:15:27+00:00</td>\n",
       "      <td>T01</td>\n",
       "      <td>0</td>\n",
       "      <td>0</td>\n",
       "      <td>0</td>\n",
       "      <td>0</td>\n",
       "      <td>0</td>\n",
       "      <td>0</td>\n",
       "      <td>0</td>\n",
       "      <td>0</td>\n",
       "      <td>0</td>\n",
       "      <td>0</td>\n",
       "      <td>1</td>\n",
       "      <td>0</td>\n",
       "      <td>0</td>\n",
       "      <td>0</td>\n",
       "      <td>0</td>\n",
       "    </tr>\n",
       "    <tr>\n",
       "      <th>4</th>\n",
       "      <td>2016-01-01T00:15:44+00:00</td>\n",
       "      <td>T01</td>\n",
       "      <td>0</td>\n",
       "      <td>1</td>\n",
       "      <td>0</td>\n",
       "      <td>0</td>\n",
       "      <td>0</td>\n",
       "      <td>0</td>\n",
       "      <td>0</td>\n",
       "      <td>0</td>\n",
       "      <td>0</td>\n",
       "      <td>0</td>\n",
       "      <td>0</td>\n",
       "      <td>0</td>\n",
       "      <td>0</td>\n",
       "      <td>0</td>\n",
       "      <td>0</td>\n",
       "    </tr>\n",
       "    <tr>\n",
       "      <th>5</th>\n",
       "      <td>2016-01-01T00:17:13+00:00</td>\n",
       "      <td>T07</td>\n",
       "      <td>0</td>\n",
       "      <td>1</td>\n",
       "      <td>0</td>\n",
       "      <td>0</td>\n",
       "      <td>0</td>\n",
       "      <td>0</td>\n",
       "      <td>0</td>\n",
       "      <td>0</td>\n",
       "      <td>0</td>\n",
       "      <td>0</td>\n",
       "      <td>0</td>\n",
       "      <td>0</td>\n",
       "      <td>0</td>\n",
       "      <td>0</td>\n",
       "      <td>0</td>\n",
       "    </tr>\n",
       "    <tr>\n",
       "      <th>6</th>\n",
       "      <td>2016-01-01T00:19:59+00:00</td>\n",
       "      <td>T06</td>\n",
       "      <td>0</td>\n",
       "      <td>0</td>\n",
       "      <td>0</td>\n",
       "      <td>0</td>\n",
       "      <td>0</td>\n",
       "      <td>0</td>\n",
       "      <td>0</td>\n",
       "      <td>0</td>\n",
       "      <td>0</td>\n",
       "      <td>0</td>\n",
       "      <td>1</td>\n",
       "      <td>0</td>\n",
       "      <td>0</td>\n",
       "      <td>0</td>\n",
       "      <td>0</td>\n",
       "    </tr>\n",
       "    <tr>\n",
       "      <th>7</th>\n",
       "      <td>2016-01-01T00:26:02+00:00</td>\n",
       "      <td>T06</td>\n",
       "      <td>0</td>\n",
       "      <td>1</td>\n",
       "      <td>0</td>\n",
       "      <td>0</td>\n",
       "      <td>0</td>\n",
       "      <td>0</td>\n",
       "      <td>0</td>\n",
       "      <td>0</td>\n",
       "      <td>0</td>\n",
       "      <td>0</td>\n",
       "      <td>0</td>\n",
       "      <td>0</td>\n",
       "      <td>0</td>\n",
       "      <td>0</td>\n",
       "      <td>0</td>\n",
       "    </tr>\n",
       "    <tr>\n",
       "      <th>8</th>\n",
       "      <td>2016-01-01T00:32:18+00:00</td>\n",
       "      <td>T11</td>\n",
       "      <td>0</td>\n",
       "      <td>1</td>\n",
       "      <td>0</td>\n",
       "      <td>0</td>\n",
       "      <td>0</td>\n",
       "      <td>0</td>\n",
       "      <td>0</td>\n",
       "      <td>0</td>\n",
       "      <td>0</td>\n",
       "      <td>0</td>\n",
       "      <td>0</td>\n",
       "      <td>0</td>\n",
       "      <td>0</td>\n",
       "      <td>0</td>\n",
       "      <td>0</td>\n",
       "    </tr>\n",
       "    <tr>\n",
       "      <th>9</th>\n",
       "      <td>2016-01-01T00:41:33+00:00</td>\n",
       "      <td>T09</td>\n",
       "      <td>0</td>\n",
       "      <td>1</td>\n",
       "      <td>0</td>\n",
       "      <td>0</td>\n",
       "      <td>0</td>\n",
       "      <td>0</td>\n",
       "      <td>0</td>\n",
       "      <td>0</td>\n",
       "      <td>0</td>\n",
       "      <td>0</td>\n",
       "      <td>0</td>\n",
       "      <td>0</td>\n",
       "      <td>0</td>\n",
       "      <td>0</td>\n",
       "      <td>0</td>\n",
       "    </tr>\n",
       "    <tr>\n",
       "      <th>10</th>\n",
       "      <td>2016-01-01T00:45:43+00:00</td>\n",
       "      <td>T01</td>\n",
       "      <td>0</td>\n",
       "      <td>1</td>\n",
       "      <td>0</td>\n",
       "      <td>0</td>\n",
       "      <td>0</td>\n",
       "      <td>0</td>\n",
       "      <td>0</td>\n",
       "      <td>0</td>\n",
       "      <td>0</td>\n",
       "      <td>0</td>\n",
       "      <td>0</td>\n",
       "      <td>0</td>\n",
       "      <td>0</td>\n",
       "      <td>0</td>\n",
       "      <td>0</td>\n",
       "    </tr>\n",
       "    <tr>\n",
       "      <th>11</th>\n",
       "      <td>2016-01-01T00:47:13+00:00</td>\n",
       "      <td>T07</td>\n",
       "      <td>0</td>\n",
       "      <td>1</td>\n",
       "      <td>0</td>\n",
       "      <td>0</td>\n",
       "      <td>0</td>\n",
       "      <td>0</td>\n",
       "      <td>0</td>\n",
       "      <td>0</td>\n",
       "      <td>0</td>\n",
       "      <td>0</td>\n",
       "      <td>0</td>\n",
       "      <td>0</td>\n",
       "      <td>0</td>\n",
       "      <td>0</td>\n",
       "      <td>0</td>\n",
       "    </tr>\n",
       "    <tr>\n",
       "      <th>12</th>\n",
       "      <td>2016-01-01T00:56:02+00:00</td>\n",
       "      <td>T06</td>\n",
       "      <td>0</td>\n",
       "      <td>1</td>\n",
       "      <td>0</td>\n",
       "      <td>0</td>\n",
       "      <td>0</td>\n",
       "      <td>0</td>\n",
       "      <td>0</td>\n",
       "      <td>0</td>\n",
       "      <td>0</td>\n",
       "      <td>0</td>\n",
       "      <td>0</td>\n",
       "      <td>0</td>\n",
       "      <td>0</td>\n",
       "      <td>0</td>\n",
       "      <td>0</td>\n",
       "    </tr>\n",
       "    <tr>\n",
       "      <th>13</th>\n",
       "      <td>2016-01-01T01:02:18+00:00</td>\n",
       "      <td>T11</td>\n",
       "      <td>0</td>\n",
       "      <td>1</td>\n",
       "      <td>0</td>\n",
       "      <td>0</td>\n",
       "      <td>0</td>\n",
       "      <td>0</td>\n",
       "      <td>0</td>\n",
       "      <td>0</td>\n",
       "      <td>0</td>\n",
       "      <td>0</td>\n",
       "      <td>0</td>\n",
       "      <td>0</td>\n",
       "      <td>0</td>\n",
       "      <td>0</td>\n",
       "      <td>0</td>\n",
       "    </tr>\n",
       "    <tr>\n",
       "      <th>14</th>\n",
       "      <td>2016-01-01T01:11:32+00:00</td>\n",
       "      <td>T09</td>\n",
       "      <td>0</td>\n",
       "      <td>1</td>\n",
       "      <td>0</td>\n",
       "      <td>0</td>\n",
       "      <td>0</td>\n",
       "      <td>0</td>\n",
       "      <td>0</td>\n",
       "      <td>0</td>\n",
       "      <td>0</td>\n",
       "      <td>0</td>\n",
       "      <td>0</td>\n",
       "      <td>0</td>\n",
       "      <td>0</td>\n",
       "      <td>0</td>\n",
       "      <td>0</td>\n",
       "    </tr>\n",
       "    <tr>\n",
       "      <th>15</th>\n",
       "      <td>2016-01-01T01:15:43+00:00</td>\n",
       "      <td>T01</td>\n",
       "      <td>0</td>\n",
       "      <td>1</td>\n",
       "      <td>0</td>\n",
       "      <td>0</td>\n",
       "      <td>0</td>\n",
       "      <td>0</td>\n",
       "      <td>0</td>\n",
       "      <td>0</td>\n",
       "      <td>0</td>\n",
       "      <td>0</td>\n",
       "      <td>0</td>\n",
       "      <td>0</td>\n",
       "      <td>0</td>\n",
       "      <td>0</td>\n",
       "      <td>0</td>\n",
       "    </tr>\n",
       "    <tr>\n",
       "      <th>16</th>\n",
       "      <td>2016-01-01T01:17:13+00:00</td>\n",
       "      <td>T07</td>\n",
       "      <td>0</td>\n",
       "      <td>1</td>\n",
       "      <td>0</td>\n",
       "      <td>0</td>\n",
       "      <td>0</td>\n",
       "      <td>0</td>\n",
       "      <td>0</td>\n",
       "      <td>0</td>\n",
       "      <td>0</td>\n",
       "      <td>0</td>\n",
       "      <td>0</td>\n",
       "      <td>0</td>\n",
       "      <td>0</td>\n",
       "      <td>0</td>\n",
       "      <td>0</td>\n",
       "    </tr>\n",
       "    <tr>\n",
       "      <th>17</th>\n",
       "      <td>2016-01-01T01:26:02+00:00</td>\n",
       "      <td>T06</td>\n",
       "      <td>0</td>\n",
       "      <td>1</td>\n",
       "      <td>0</td>\n",
       "      <td>0</td>\n",
       "      <td>0</td>\n",
       "      <td>0</td>\n",
       "      <td>0</td>\n",
       "      <td>0</td>\n",
       "      <td>0</td>\n",
       "      <td>0</td>\n",
       "      <td>0</td>\n",
       "      <td>0</td>\n",
       "      <td>0</td>\n",
       "      <td>0</td>\n",
       "      <td>0</td>\n",
       "    </tr>\n",
       "    <tr>\n",
       "      <th>18</th>\n",
       "      <td>2016-01-01T01:32:17+00:00</td>\n",
       "      <td>T11</td>\n",
       "      <td>0</td>\n",
       "      <td>1</td>\n",
       "      <td>0</td>\n",
       "      <td>0</td>\n",
       "      <td>0</td>\n",
       "      <td>0</td>\n",
       "      <td>0</td>\n",
       "      <td>0</td>\n",
       "      <td>0</td>\n",
       "      <td>0</td>\n",
       "      <td>0</td>\n",
       "      <td>0</td>\n",
       "      <td>0</td>\n",
       "      <td>0</td>\n",
       "      <td>0</td>\n",
       "    </tr>\n",
       "    <tr>\n",
       "      <th>19</th>\n",
       "      <td>2016-01-01T01:41:32+00:00</td>\n",
       "      <td>T09</td>\n",
       "      <td>0</td>\n",
       "      <td>1</td>\n",
       "      <td>0</td>\n",
       "      <td>0</td>\n",
       "      <td>0</td>\n",
       "      <td>0</td>\n",
       "      <td>0</td>\n",
       "      <td>0</td>\n",
       "      <td>0</td>\n",
       "      <td>0</td>\n",
       "      <td>0</td>\n",
       "      <td>0</td>\n",
       "      <td>0</td>\n",
       "      <td>0</td>\n",
       "      <td>0</td>\n",
       "    </tr>\n",
       "    <tr>\n",
       "      <th>20</th>\n",
       "      <td>2016-01-01T01:45:43+00:00</td>\n",
       "      <td>T01</td>\n",
       "      <td>0</td>\n",
       "      <td>1</td>\n",
       "      <td>0</td>\n",
       "      <td>0</td>\n",
       "      <td>0</td>\n",
       "      <td>0</td>\n",
       "      <td>0</td>\n",
       "      <td>0</td>\n",
       "      <td>0</td>\n",
       "      <td>0</td>\n",
       "      <td>0</td>\n",
       "      <td>0</td>\n",
       "      <td>0</td>\n",
       "      <td>0</td>\n",
       "      <td>0</td>\n",
       "    </tr>\n",
       "    <tr>\n",
       "      <th>21</th>\n",
       "      <td>2016-01-01T01:47:13+00:00</td>\n",
       "      <td>T07</td>\n",
       "      <td>0</td>\n",
       "      <td>1</td>\n",
       "      <td>0</td>\n",
       "      <td>0</td>\n",
       "      <td>0</td>\n",
       "      <td>0</td>\n",
       "      <td>0</td>\n",
       "      <td>0</td>\n",
       "      <td>0</td>\n",
       "      <td>0</td>\n",
       "      <td>0</td>\n",
       "      <td>0</td>\n",
       "      <td>0</td>\n",
       "      <td>0</td>\n",
       "      <td>0</td>\n",
       "    </tr>\n",
       "    <tr>\n",
       "      <th>22</th>\n",
       "      <td>2016-01-01T01:54:34+00:00</td>\n",
       "      <td>T07</td>\n",
       "      <td>0</td>\n",
       "      <td>0</td>\n",
       "      <td>0</td>\n",
       "      <td>0</td>\n",
       "      <td>0</td>\n",
       "      <td>0</td>\n",
       "      <td>0</td>\n",
       "      <td>1</td>\n",
       "      <td>0</td>\n",
       "      <td>0</td>\n",
       "      <td>0</td>\n",
       "      <td>0</td>\n",
       "      <td>0</td>\n",
       "      <td>0</td>\n",
       "      <td>0</td>\n",
       "    </tr>\n",
       "    <tr>\n",
       "      <th>23</th>\n",
       "      <td>2016-01-01T01:56:01+00:00</td>\n",
       "      <td>T06</td>\n",
       "      <td>0</td>\n",
       "      <td>1</td>\n",
       "      <td>0</td>\n",
       "      <td>0</td>\n",
       "      <td>0</td>\n",
       "      <td>0</td>\n",
       "      <td>0</td>\n",
       "      <td>0</td>\n",
       "      <td>0</td>\n",
       "      <td>0</td>\n",
       "      <td>0</td>\n",
       "      <td>0</td>\n",
       "      <td>0</td>\n",
       "      <td>0</td>\n",
       "      <td>0</td>\n",
       "    </tr>\n",
       "    <tr>\n",
       "      <th>24</th>\n",
       "      <td>2016-01-01T02:02:17+00:00</td>\n",
       "      <td>T11</td>\n",
       "      <td>0</td>\n",
       "      <td>1</td>\n",
       "      <td>0</td>\n",
       "      <td>0</td>\n",
       "      <td>0</td>\n",
       "      <td>0</td>\n",
       "      <td>0</td>\n",
       "      <td>0</td>\n",
       "      <td>0</td>\n",
       "      <td>0</td>\n",
       "      <td>0</td>\n",
       "      <td>0</td>\n",
       "      <td>0</td>\n",
       "      <td>0</td>\n",
       "      <td>0</td>\n",
       "    </tr>\n",
       "    <tr>\n",
       "      <th>25</th>\n",
       "      <td>2016-01-01T02:05:36+00:00</td>\n",
       "      <td>T11</td>\n",
       "      <td>1</td>\n",
       "      <td>0</td>\n",
       "      <td>0</td>\n",
       "      <td>0</td>\n",
       "      <td>0</td>\n",
       "      <td>0</td>\n",
       "      <td>0</td>\n",
       "      <td>0</td>\n",
       "      <td>0</td>\n",
       "      <td>0</td>\n",
       "      <td>0</td>\n",
       "      <td>0</td>\n",
       "      <td>0</td>\n",
       "      <td>0</td>\n",
       "      <td>0</td>\n",
       "    </tr>\n",
       "    <tr>\n",
       "      <th>26</th>\n",
       "      <td>2016-01-01T02:13:33+00:00</td>\n",
       "      <td>T09</td>\n",
       "      <td>0</td>\n",
       "      <td>0</td>\n",
       "      <td>0</td>\n",
       "      <td>0</td>\n",
       "      <td>0</td>\n",
       "      <td>1</td>\n",
       "      <td>0</td>\n",
       "      <td>0</td>\n",
       "      <td>0</td>\n",
       "      <td>0</td>\n",
       "      <td>0</td>\n",
       "      <td>0</td>\n",
       "      <td>0</td>\n",
       "      <td>0</td>\n",
       "      <td>0</td>\n",
       "    </tr>\n",
       "    <tr>\n",
       "      <th>28</th>\n",
       "      <td>2016-01-01T02:39:30+00:00</td>\n",
       "      <td>T07</td>\n",
       "      <td>0</td>\n",
       "      <td>0</td>\n",
       "      <td>0</td>\n",
       "      <td>0</td>\n",
       "      <td>0</td>\n",
       "      <td>1</td>\n",
       "      <td>0</td>\n",
       "      <td>0</td>\n",
       "      <td>0</td>\n",
       "      <td>0</td>\n",
       "      <td>0</td>\n",
       "      <td>0</td>\n",
       "      <td>0</td>\n",
       "      <td>0</td>\n",
       "      <td>0</td>\n",
       "    </tr>\n",
       "    <tr>\n",
       "      <th>29</th>\n",
       "      <td>2016-01-01T02:41:38+00:00</td>\n",
       "      <td>T07</td>\n",
       "      <td>0</td>\n",
       "      <td>0</td>\n",
       "      <td>0</td>\n",
       "      <td>0</td>\n",
       "      <td>0</td>\n",
       "      <td>0</td>\n",
       "      <td>0</td>\n",
       "      <td>0</td>\n",
       "      <td>0</td>\n",
       "      <td>0</td>\n",
       "      <td>1</td>\n",
       "      <td>0</td>\n",
       "      <td>0</td>\n",
       "      <td>0</td>\n",
       "      <td>0</td>\n",
       "    </tr>\n",
       "    <tr>\n",
       "      <th>30</th>\n",
       "      <td>2016-01-01T02:41:55+00:00</td>\n",
       "      <td>T07</td>\n",
       "      <td>0</td>\n",
       "      <td>1</td>\n",
       "      <td>0</td>\n",
       "      <td>0</td>\n",
       "      <td>0</td>\n",
       "      <td>0</td>\n",
       "      <td>0</td>\n",
       "      <td>0</td>\n",
       "      <td>0</td>\n",
       "      <td>0</td>\n",
       "      <td>0</td>\n",
       "      <td>0</td>\n",
       "      <td>0</td>\n",
       "      <td>0</td>\n",
       "      <td>0</td>\n",
       "    </tr>\n",
       "    <tr>\n",
       "      <th>...</th>\n",
       "      <td>...</td>\n",
       "      <td>...</td>\n",
       "      <td>...</td>\n",
       "      <td>...</td>\n",
       "      <td>...</td>\n",
       "      <td>...</td>\n",
       "      <td>...</td>\n",
       "      <td>...</td>\n",
       "      <td>...</td>\n",
       "      <td>...</td>\n",
       "      <td>...</td>\n",
       "      <td>...</td>\n",
       "      <td>...</td>\n",
       "      <td>...</td>\n",
       "      <td>...</td>\n",
       "      <td>...</td>\n",
       "      <td>...</td>\n",
       "    </tr>\n",
       "    <tr>\n",
       "      <th>256190</th>\n",
       "      <td>2017-08-31T22:04:15+00:00</td>\n",
       "      <td>T06</td>\n",
       "      <td>0</td>\n",
       "      <td>1</td>\n",
       "      <td>0</td>\n",
       "      <td>0</td>\n",
       "      <td>0</td>\n",
       "      <td>0</td>\n",
       "      <td>0</td>\n",
       "      <td>0</td>\n",
       "      <td>0</td>\n",
       "      <td>0</td>\n",
       "      <td>0</td>\n",
       "      <td>0</td>\n",
       "      <td>0</td>\n",
       "      <td>0</td>\n",
       "      <td>0</td>\n",
       "    </tr>\n",
       "    <tr>\n",
       "      <th>256191</th>\n",
       "      <td>2017-08-31T22:04:20+00:00</td>\n",
       "      <td>T01</td>\n",
       "      <td>0</td>\n",
       "      <td>0</td>\n",
       "      <td>0</td>\n",
       "      <td>0</td>\n",
       "      <td>0</td>\n",
       "      <td>0</td>\n",
       "      <td>0</td>\n",
       "      <td>0</td>\n",
       "      <td>0</td>\n",
       "      <td>0</td>\n",
       "      <td>1</td>\n",
       "      <td>0</td>\n",
       "      <td>0</td>\n",
       "      <td>0</td>\n",
       "      <td>0</td>\n",
       "    </tr>\n",
       "    <tr>\n",
       "      <th>256192</th>\n",
       "      <td>2017-08-31T22:04:39+00:00</td>\n",
       "      <td>T01</td>\n",
       "      <td>0</td>\n",
       "      <td>1</td>\n",
       "      <td>0</td>\n",
       "      <td>0</td>\n",
       "      <td>0</td>\n",
       "      <td>0</td>\n",
       "      <td>0</td>\n",
       "      <td>0</td>\n",
       "      <td>0</td>\n",
       "      <td>0</td>\n",
       "      <td>0</td>\n",
       "      <td>0</td>\n",
       "      <td>0</td>\n",
       "      <td>0</td>\n",
       "      <td>0</td>\n",
       "    </tr>\n",
       "    <tr>\n",
       "      <th>256193</th>\n",
       "      <td>2017-08-31T22:10:46+00:00</td>\n",
       "      <td>T07</td>\n",
       "      <td>0</td>\n",
       "      <td>0</td>\n",
       "      <td>0</td>\n",
       "      <td>0</td>\n",
       "      <td>0</td>\n",
       "      <td>0</td>\n",
       "      <td>0</td>\n",
       "      <td>0</td>\n",
       "      <td>0</td>\n",
       "      <td>0</td>\n",
       "      <td>1</td>\n",
       "      <td>0</td>\n",
       "      <td>0</td>\n",
       "      <td>0</td>\n",
       "      <td>0</td>\n",
       "    </tr>\n",
       "    <tr>\n",
       "      <th>256194</th>\n",
       "      <td>2017-08-31T22:15:32+00:00</td>\n",
       "      <td>T09</td>\n",
       "      <td>0</td>\n",
       "      <td>0</td>\n",
       "      <td>0</td>\n",
       "      <td>0</td>\n",
       "      <td>0</td>\n",
       "      <td>0</td>\n",
       "      <td>0</td>\n",
       "      <td>0</td>\n",
       "      <td>0</td>\n",
       "      <td>0</td>\n",
       "      <td>1</td>\n",
       "      <td>0</td>\n",
       "      <td>0</td>\n",
       "      <td>0</td>\n",
       "      <td>0</td>\n",
       "    </tr>\n",
       "    <tr>\n",
       "      <th>256195</th>\n",
       "      <td>2017-08-31T22:15:51+00:00</td>\n",
       "      <td>T09</td>\n",
       "      <td>0</td>\n",
       "      <td>1</td>\n",
       "      <td>0</td>\n",
       "      <td>0</td>\n",
       "      <td>0</td>\n",
       "      <td>0</td>\n",
       "      <td>0</td>\n",
       "      <td>0</td>\n",
       "      <td>0</td>\n",
       "      <td>0</td>\n",
       "      <td>0</td>\n",
       "      <td>0</td>\n",
       "      <td>0</td>\n",
       "      <td>0</td>\n",
       "      <td>0</td>\n",
       "    </tr>\n",
       "    <tr>\n",
       "      <th>256196</th>\n",
       "      <td>2017-08-31T22:18:45+00:00</td>\n",
       "      <td>T01</td>\n",
       "      <td>0</td>\n",
       "      <td>0</td>\n",
       "      <td>0</td>\n",
       "      <td>0</td>\n",
       "      <td>0</td>\n",
       "      <td>0</td>\n",
       "      <td>0</td>\n",
       "      <td>0</td>\n",
       "      <td>0</td>\n",
       "      <td>0</td>\n",
       "      <td>1</td>\n",
       "      <td>0</td>\n",
       "      <td>0</td>\n",
       "      <td>0</td>\n",
       "      <td>0</td>\n",
       "    </tr>\n",
       "    <tr>\n",
       "      <th>256197</th>\n",
       "      <td>2017-08-31T22:19:07+00:00</td>\n",
       "      <td>T01</td>\n",
       "      <td>0</td>\n",
       "      <td>1</td>\n",
       "      <td>0</td>\n",
       "      <td>0</td>\n",
       "      <td>0</td>\n",
       "      <td>0</td>\n",
       "      <td>0</td>\n",
       "      <td>0</td>\n",
       "      <td>0</td>\n",
       "      <td>0</td>\n",
       "      <td>0</td>\n",
       "      <td>0</td>\n",
       "      <td>0</td>\n",
       "      <td>0</td>\n",
       "      <td>0</td>\n",
       "    </tr>\n",
       "    <tr>\n",
       "      <th>256198</th>\n",
       "      <td>2017-08-31T22:26:29+00:00</td>\n",
       "      <td>T11</td>\n",
       "      <td>0</td>\n",
       "      <td>0</td>\n",
       "      <td>0</td>\n",
       "      <td>0</td>\n",
       "      <td>0</td>\n",
       "      <td>0</td>\n",
       "      <td>0</td>\n",
       "      <td>0</td>\n",
       "      <td>0</td>\n",
       "      <td>0</td>\n",
       "      <td>1</td>\n",
       "      <td>0</td>\n",
       "      <td>0</td>\n",
       "      <td>0</td>\n",
       "      <td>0</td>\n",
       "    </tr>\n",
       "    <tr>\n",
       "      <th>256199</th>\n",
       "      <td>2017-08-31T22:26:41+00:00</td>\n",
       "      <td>T11</td>\n",
       "      <td>0</td>\n",
       "      <td>1</td>\n",
       "      <td>0</td>\n",
       "      <td>0</td>\n",
       "      <td>0</td>\n",
       "      <td>0</td>\n",
       "      <td>0</td>\n",
       "      <td>0</td>\n",
       "      <td>0</td>\n",
       "      <td>0</td>\n",
       "      <td>0</td>\n",
       "      <td>0</td>\n",
       "      <td>0</td>\n",
       "      <td>0</td>\n",
       "      <td>0</td>\n",
       "    </tr>\n",
       "    <tr>\n",
       "      <th>256200</th>\n",
       "      <td>2017-08-31T22:27:31+00:00</td>\n",
       "      <td>T01</td>\n",
       "      <td>0</td>\n",
       "      <td>0</td>\n",
       "      <td>0</td>\n",
       "      <td>0</td>\n",
       "      <td>0</td>\n",
       "      <td>0</td>\n",
       "      <td>0</td>\n",
       "      <td>0</td>\n",
       "      <td>0</td>\n",
       "      <td>0</td>\n",
       "      <td>1</td>\n",
       "      <td>0</td>\n",
       "      <td>0</td>\n",
       "      <td>0</td>\n",
       "      <td>0</td>\n",
       "    </tr>\n",
       "    <tr>\n",
       "      <th>256201</th>\n",
       "      <td>2017-08-31T22:27:48+00:00</td>\n",
       "      <td>T07</td>\n",
       "      <td>0</td>\n",
       "      <td>1</td>\n",
       "      <td>0</td>\n",
       "      <td>0</td>\n",
       "      <td>0</td>\n",
       "      <td>0</td>\n",
       "      <td>0</td>\n",
       "      <td>0</td>\n",
       "      <td>0</td>\n",
       "      <td>0</td>\n",
       "      <td>0</td>\n",
       "      <td>0</td>\n",
       "      <td>0</td>\n",
       "      <td>0</td>\n",
       "      <td>0</td>\n",
       "    </tr>\n",
       "    <tr>\n",
       "      <th>256202</th>\n",
       "      <td>2017-08-31T22:27:54+00:00</td>\n",
       "      <td>T01</td>\n",
       "      <td>0</td>\n",
       "      <td>1</td>\n",
       "      <td>0</td>\n",
       "      <td>0</td>\n",
       "      <td>0</td>\n",
       "      <td>0</td>\n",
       "      <td>0</td>\n",
       "      <td>0</td>\n",
       "      <td>0</td>\n",
       "      <td>0</td>\n",
       "      <td>0</td>\n",
       "      <td>0</td>\n",
       "      <td>0</td>\n",
       "      <td>0</td>\n",
       "      <td>0</td>\n",
       "    </tr>\n",
       "    <tr>\n",
       "      <th>256205</th>\n",
       "      <td>2017-08-31T22:34:15+00:00</td>\n",
       "      <td>T06</td>\n",
       "      <td>0</td>\n",
       "      <td>1</td>\n",
       "      <td>0</td>\n",
       "      <td>0</td>\n",
       "      <td>0</td>\n",
       "      <td>0</td>\n",
       "      <td>0</td>\n",
       "      <td>0</td>\n",
       "      <td>0</td>\n",
       "      <td>0</td>\n",
       "      <td>0</td>\n",
       "      <td>0</td>\n",
       "      <td>0</td>\n",
       "      <td>0</td>\n",
       "      <td>0</td>\n",
       "    </tr>\n",
       "    <tr>\n",
       "      <th>256209</th>\n",
       "      <td>2017-08-31T22:45:50+00:00</td>\n",
       "      <td>T09</td>\n",
       "      <td>0</td>\n",
       "      <td>1</td>\n",
       "      <td>0</td>\n",
       "      <td>0</td>\n",
       "      <td>0</td>\n",
       "      <td>0</td>\n",
       "      <td>0</td>\n",
       "      <td>0</td>\n",
       "      <td>0</td>\n",
       "      <td>0</td>\n",
       "      <td>0</td>\n",
       "      <td>0</td>\n",
       "      <td>0</td>\n",
       "      <td>0</td>\n",
       "      <td>0</td>\n",
       "    </tr>\n",
       "    <tr>\n",
       "      <th>256210</th>\n",
       "      <td>2017-08-31T22:56:40+00:00</td>\n",
       "      <td>T11</td>\n",
       "      <td>0</td>\n",
       "      <td>1</td>\n",
       "      <td>0</td>\n",
       "      <td>0</td>\n",
       "      <td>0</td>\n",
       "      <td>0</td>\n",
       "      <td>0</td>\n",
       "      <td>0</td>\n",
       "      <td>0</td>\n",
       "      <td>0</td>\n",
       "      <td>0</td>\n",
       "      <td>0</td>\n",
       "      <td>0</td>\n",
       "      <td>0</td>\n",
       "      <td>0</td>\n",
       "    </tr>\n",
       "    <tr>\n",
       "      <th>256211</th>\n",
       "      <td>2017-08-31T22:57:48+00:00</td>\n",
       "      <td>T07</td>\n",
       "      <td>0</td>\n",
       "      <td>1</td>\n",
       "      <td>0</td>\n",
       "      <td>0</td>\n",
       "      <td>0</td>\n",
       "      <td>0</td>\n",
       "      <td>0</td>\n",
       "      <td>0</td>\n",
       "      <td>0</td>\n",
       "      <td>0</td>\n",
       "      <td>0</td>\n",
       "      <td>0</td>\n",
       "      <td>0</td>\n",
       "      <td>0</td>\n",
       "      <td>0</td>\n",
       "    </tr>\n",
       "    <tr>\n",
       "      <th>256212</th>\n",
       "      <td>2017-08-31T22:57:54+00:00</td>\n",
       "      <td>T01</td>\n",
       "      <td>0</td>\n",
       "      <td>1</td>\n",
       "      <td>0</td>\n",
       "      <td>0</td>\n",
       "      <td>0</td>\n",
       "      <td>0</td>\n",
       "      <td>0</td>\n",
       "      <td>0</td>\n",
       "      <td>0</td>\n",
       "      <td>0</td>\n",
       "      <td>0</td>\n",
       "      <td>0</td>\n",
       "      <td>0</td>\n",
       "      <td>0</td>\n",
       "      <td>0</td>\n",
       "    </tr>\n",
       "    <tr>\n",
       "      <th>256215</th>\n",
       "      <td>2017-08-31T23:04:15+00:00</td>\n",
       "      <td>T06</td>\n",
       "      <td>0</td>\n",
       "      <td>1</td>\n",
       "      <td>0</td>\n",
       "      <td>0</td>\n",
       "      <td>0</td>\n",
       "      <td>0</td>\n",
       "      <td>0</td>\n",
       "      <td>0</td>\n",
       "      <td>0</td>\n",
       "      <td>0</td>\n",
       "      <td>0</td>\n",
       "      <td>0</td>\n",
       "      <td>0</td>\n",
       "      <td>0</td>\n",
       "      <td>0</td>\n",
       "    </tr>\n",
       "    <tr>\n",
       "      <th>256216</th>\n",
       "      <td>2017-08-31T23:15:50+00:00</td>\n",
       "      <td>T09</td>\n",
       "      <td>0</td>\n",
       "      <td>1</td>\n",
       "      <td>0</td>\n",
       "      <td>0</td>\n",
       "      <td>0</td>\n",
       "      <td>0</td>\n",
       "      <td>0</td>\n",
       "      <td>0</td>\n",
       "      <td>0</td>\n",
       "      <td>0</td>\n",
       "      <td>0</td>\n",
       "      <td>0</td>\n",
       "      <td>0</td>\n",
       "      <td>0</td>\n",
       "      <td>0</td>\n",
       "    </tr>\n",
       "    <tr>\n",
       "      <th>256217</th>\n",
       "      <td>2017-08-31T23:19:02+00:00</td>\n",
       "      <td>T07</td>\n",
       "      <td>0</td>\n",
       "      <td>0</td>\n",
       "      <td>0</td>\n",
       "      <td>0</td>\n",
       "      <td>0</td>\n",
       "      <td>0</td>\n",
       "      <td>0</td>\n",
       "      <td>1</td>\n",
       "      <td>0</td>\n",
       "      <td>0</td>\n",
       "      <td>0</td>\n",
       "      <td>0</td>\n",
       "      <td>0</td>\n",
       "      <td>0</td>\n",
       "      <td>0</td>\n",
       "    </tr>\n",
       "    <tr>\n",
       "      <th>256218</th>\n",
       "      <td>2017-08-31T23:26:40+00:00</td>\n",
       "      <td>T11</td>\n",
       "      <td>0</td>\n",
       "      <td>1</td>\n",
       "      <td>0</td>\n",
       "      <td>0</td>\n",
       "      <td>0</td>\n",
       "      <td>0</td>\n",
       "      <td>0</td>\n",
       "      <td>0</td>\n",
       "      <td>0</td>\n",
       "      <td>0</td>\n",
       "      <td>0</td>\n",
       "      <td>0</td>\n",
       "      <td>0</td>\n",
       "      <td>0</td>\n",
       "      <td>0</td>\n",
       "    </tr>\n",
       "    <tr>\n",
       "      <th>256219</th>\n",
       "      <td>2017-08-31T23:27:48+00:00</td>\n",
       "      <td>T07</td>\n",
       "      <td>0</td>\n",
       "      <td>1</td>\n",
       "      <td>0</td>\n",
       "      <td>0</td>\n",
       "      <td>0</td>\n",
       "      <td>0</td>\n",
       "      <td>0</td>\n",
       "      <td>0</td>\n",
       "      <td>0</td>\n",
       "      <td>0</td>\n",
       "      <td>0</td>\n",
       "      <td>0</td>\n",
       "      <td>0</td>\n",
       "      <td>0</td>\n",
       "      <td>0</td>\n",
       "    </tr>\n",
       "    <tr>\n",
       "      <th>256220</th>\n",
       "      <td>2017-08-31T23:27:54+00:00</td>\n",
       "      <td>T01</td>\n",
       "      <td>0</td>\n",
       "      <td>1</td>\n",
       "      <td>0</td>\n",
       "      <td>0</td>\n",
       "      <td>0</td>\n",
       "      <td>0</td>\n",
       "      <td>0</td>\n",
       "      <td>0</td>\n",
       "      <td>0</td>\n",
       "      <td>0</td>\n",
       "      <td>0</td>\n",
       "      <td>0</td>\n",
       "      <td>0</td>\n",
       "      <td>0</td>\n",
       "      <td>0</td>\n",
       "    </tr>\n",
       "    <tr>\n",
       "      <th>256222</th>\n",
       "      <td>2017-08-31T23:31:19+00:00</td>\n",
       "      <td>T09</td>\n",
       "      <td>0</td>\n",
       "      <td>0</td>\n",
       "      <td>0</td>\n",
       "      <td>0</td>\n",
       "      <td>0</td>\n",
       "      <td>0</td>\n",
       "      <td>0</td>\n",
       "      <td>0</td>\n",
       "      <td>0</td>\n",
       "      <td>0</td>\n",
       "      <td>1</td>\n",
       "      <td>0</td>\n",
       "      <td>0</td>\n",
       "      <td>0</td>\n",
       "      <td>0</td>\n",
       "    </tr>\n",
       "    <tr>\n",
       "      <th>256224</th>\n",
       "      <td>2017-08-31T23:34:14+00:00</td>\n",
       "      <td>T06</td>\n",
       "      <td>0</td>\n",
       "      <td>1</td>\n",
       "      <td>0</td>\n",
       "      <td>0</td>\n",
       "      <td>0</td>\n",
       "      <td>0</td>\n",
       "      <td>0</td>\n",
       "      <td>0</td>\n",
       "      <td>0</td>\n",
       "      <td>0</td>\n",
       "      <td>0</td>\n",
       "      <td>0</td>\n",
       "      <td>0</td>\n",
       "      <td>0</td>\n",
       "      <td>0</td>\n",
       "    </tr>\n",
       "    <tr>\n",
       "      <th>256227</th>\n",
       "      <td>2017-08-31T23:45:50+00:00</td>\n",
       "      <td>T09</td>\n",
       "      <td>0</td>\n",
       "      <td>1</td>\n",
       "      <td>0</td>\n",
       "      <td>0</td>\n",
       "      <td>0</td>\n",
       "      <td>0</td>\n",
       "      <td>0</td>\n",
       "      <td>0</td>\n",
       "      <td>0</td>\n",
       "      <td>0</td>\n",
       "      <td>0</td>\n",
       "      <td>0</td>\n",
       "      <td>0</td>\n",
       "      <td>0</td>\n",
       "      <td>0</td>\n",
       "    </tr>\n",
       "    <tr>\n",
       "      <th>256228</th>\n",
       "      <td>2017-08-31T23:56:40+00:00</td>\n",
       "      <td>T11</td>\n",
       "      <td>0</td>\n",
       "      <td>1</td>\n",
       "      <td>0</td>\n",
       "      <td>0</td>\n",
       "      <td>0</td>\n",
       "      <td>0</td>\n",
       "      <td>0</td>\n",
       "      <td>0</td>\n",
       "      <td>0</td>\n",
       "      <td>0</td>\n",
       "      <td>0</td>\n",
       "      <td>0</td>\n",
       "      <td>0</td>\n",
       "      <td>0</td>\n",
       "      <td>0</td>\n",
       "    </tr>\n",
       "    <tr>\n",
       "      <th>256229</th>\n",
       "      <td>2017-08-31T23:57:47+00:00</td>\n",
       "      <td>T07</td>\n",
       "      <td>0</td>\n",
       "      <td>1</td>\n",
       "      <td>0</td>\n",
       "      <td>0</td>\n",
       "      <td>0</td>\n",
       "      <td>0</td>\n",
       "      <td>0</td>\n",
       "      <td>0</td>\n",
       "      <td>0</td>\n",
       "      <td>0</td>\n",
       "      <td>0</td>\n",
       "      <td>0</td>\n",
       "      <td>0</td>\n",
       "      <td>0</td>\n",
       "      <td>0</td>\n",
       "    </tr>\n",
       "    <tr>\n",
       "      <th>256230</th>\n",
       "      <td>2017-08-31T23:57:54+00:00</td>\n",
       "      <td>T01</td>\n",
       "      <td>0</td>\n",
       "      <td>1</td>\n",
       "      <td>0</td>\n",
       "      <td>0</td>\n",
       "      <td>0</td>\n",
       "      <td>0</td>\n",
       "      <td>0</td>\n",
       "      <td>0</td>\n",
       "      <td>0</td>\n",
       "      <td>0</td>\n",
       "      <td>0</td>\n",
       "      <td>0</td>\n",
       "      <td>0</td>\n",
       "      <td>0</td>\n",
       "      <td>0</td>\n",
       "    </tr>\n",
       "  </tbody>\n",
       "</table>\n",
       "<p>195919 rows × 17 columns</p>\n",
       "</div>"
      ],
      "text/plain": [
       "                        Timestamp Turbine_ID  \\\n",
       "0       2016-01-01T00:02:18+00:00        T11   \n",
       "1       2016-01-01T00:07:15+00:00        T06   \n",
       "2       2016-01-01T00:11:33+00:00        T09   \n",
       "3       2016-01-01T00:15:27+00:00        T01   \n",
       "4       2016-01-01T00:15:44+00:00        T01   \n",
       "5       2016-01-01T00:17:13+00:00        T07   \n",
       "6       2016-01-01T00:19:59+00:00        T06   \n",
       "7       2016-01-01T00:26:02+00:00        T06   \n",
       "8       2016-01-01T00:32:18+00:00        T11   \n",
       "9       2016-01-01T00:41:33+00:00        T09   \n",
       "10      2016-01-01T00:45:43+00:00        T01   \n",
       "11      2016-01-01T00:47:13+00:00        T07   \n",
       "12      2016-01-01T00:56:02+00:00        T06   \n",
       "13      2016-01-01T01:02:18+00:00        T11   \n",
       "14      2016-01-01T01:11:32+00:00        T09   \n",
       "15      2016-01-01T01:15:43+00:00        T01   \n",
       "16      2016-01-01T01:17:13+00:00        T07   \n",
       "17      2016-01-01T01:26:02+00:00        T06   \n",
       "18      2016-01-01T01:32:17+00:00        T11   \n",
       "19      2016-01-01T01:41:32+00:00        T09   \n",
       "20      2016-01-01T01:45:43+00:00        T01   \n",
       "21      2016-01-01T01:47:13+00:00        T07   \n",
       "22      2016-01-01T01:54:34+00:00        T07   \n",
       "23      2016-01-01T01:56:01+00:00        T06   \n",
       "24      2016-01-01T02:02:17+00:00        T11   \n",
       "25      2016-01-01T02:05:36+00:00        T11   \n",
       "26      2016-01-01T02:13:33+00:00        T09   \n",
       "28      2016-01-01T02:39:30+00:00        T07   \n",
       "29      2016-01-01T02:41:38+00:00        T07   \n",
       "30      2016-01-01T02:41:55+00:00        T07   \n",
       "...                           ...        ...   \n",
       "256190  2017-08-31T22:04:15+00:00        T06   \n",
       "256191  2017-08-31T22:04:20+00:00        T01   \n",
       "256192  2017-08-31T22:04:39+00:00        T01   \n",
       "256193  2017-08-31T22:10:46+00:00        T07   \n",
       "256194  2017-08-31T22:15:32+00:00        T09   \n",
       "256195  2017-08-31T22:15:51+00:00        T09   \n",
       "256196  2017-08-31T22:18:45+00:00        T01   \n",
       "256197  2017-08-31T22:19:07+00:00        T01   \n",
       "256198  2017-08-31T22:26:29+00:00        T11   \n",
       "256199  2017-08-31T22:26:41+00:00        T11   \n",
       "256200  2017-08-31T22:27:31+00:00        T01   \n",
       "256201  2017-08-31T22:27:48+00:00        T07   \n",
       "256202  2017-08-31T22:27:54+00:00        T01   \n",
       "256205  2017-08-31T22:34:15+00:00        T06   \n",
       "256209  2017-08-31T22:45:50+00:00        T09   \n",
       "256210  2017-08-31T22:56:40+00:00        T11   \n",
       "256211  2017-08-31T22:57:48+00:00        T07   \n",
       "256212  2017-08-31T22:57:54+00:00        T01   \n",
       "256215  2017-08-31T23:04:15+00:00        T06   \n",
       "256216  2017-08-31T23:15:50+00:00        T09   \n",
       "256217  2017-08-31T23:19:02+00:00        T07   \n",
       "256218  2017-08-31T23:26:40+00:00        T11   \n",
       "256219  2017-08-31T23:27:48+00:00        T07   \n",
       "256220  2017-08-31T23:27:54+00:00        T01   \n",
       "256222  2017-08-31T23:31:19+00:00        T09   \n",
       "256224  2017-08-31T23:34:14+00:00        T06   \n",
       "256227  2017-08-31T23:45:50+00:00        T09   \n",
       "256228  2017-08-31T23:56:40+00:00        T11   \n",
       "256229  2017-08-31T23:57:47+00:00        T07   \n",
       "256230  2017-08-31T23:57:54+00:00        T01   \n",
       "\n",
       "        Remark_Accumulator test done -> OK  Remark_External power ref.:2000kW  \\\n",
       "0                                        0                                  1   \n",
       "1                                        0                                  0   \n",
       "2                                        0                                  1   \n",
       "3                                        0                                  0   \n",
       "4                                        0                                  1   \n",
       "5                                        0                                  1   \n",
       "6                                        0                                  0   \n",
       "7                                        0                                  1   \n",
       "8                                        0                                  1   \n",
       "9                                        0                                  1   \n",
       "10                                       0                                  1   \n",
       "11                                       0                                  1   \n",
       "12                                       0                                  1   \n",
       "13                                       0                                  1   \n",
       "14                                       0                                  1   \n",
       "15                                       0                                  1   \n",
       "16                                       0                                  1   \n",
       "17                                       0                                  1   \n",
       "18                                       0                                  1   \n",
       "19                                       0                                  1   \n",
       "20                                       0                                  1   \n",
       "21                                       0                                  1   \n",
       "22                                       0                                  0   \n",
       "23                                       0                                  1   \n",
       "24                                       0                                  1   \n",
       "25                                       1                                  0   \n",
       "26                                       0                                  0   \n",
       "28                                       0                                  0   \n",
       "29                                       0                                  0   \n",
       "30                                       0                                  1   \n",
       "...                                    ...                                ...   \n",
       "256190                                   0                                  1   \n",
       "256191                                   0                                  0   \n",
       "256192                                   0                                  1   \n",
       "256193                                   0                                  0   \n",
       "256194                                   0                                  0   \n",
       "256195                                   0                                  1   \n",
       "256196                                   0                                  0   \n",
       "256197                                   0                                  1   \n",
       "256198                                   0                                  0   \n",
       "256199                                   0                                  1   \n",
       "256200                                   0                                  0   \n",
       "256201                                   0                                  1   \n",
       "256202                                   0                                  1   \n",
       "256205                                   0                                  1   \n",
       "256209                                   0                                  1   \n",
       "256210                                   0                                  1   \n",
       "256211                                   0                                  1   \n",
       "256212                                   0                                  1   \n",
       "256215                                   0                                  1   \n",
       "256216                                   0                                  1   \n",
       "256217                                   0                                  0   \n",
       "256218                                   0                                  1   \n",
       "256219                                   0                                  1   \n",
       "256220                                   0                                  1   \n",
       "256222                                   0                                  0   \n",
       "256224                                   0                                  1   \n",
       "256227                                   0                                  1   \n",
       "256228                                   0                                  1   \n",
       "256229                                   0                                  1   \n",
       "256230                                   0                                  1   \n",
       "\n",
       "        Remark_GearoilCooler 1, gear:  49°C  \\\n",
       "0                                         0   \n",
       "1                                         0   \n",
       "2                                         0   \n",
       "3                                         0   \n",
       "4                                         0   \n",
       "5                                         0   \n",
       "6                                         0   \n",
       "7                                         0   \n",
       "8                                         0   \n",
       "9                                         0   \n",
       "10                                        0   \n",
       "11                                        0   \n",
       "12                                        0   \n",
       "13                                        0   \n",
       "14                                        0   \n",
       "15                                        0   \n",
       "16                                        0   \n",
       "17                                        0   \n",
       "18                                        0   \n",
       "19                                        0   \n",
       "20                                        0   \n",
       "21                                        0   \n",
       "22                                        0   \n",
       "23                                        0   \n",
       "24                                        0   \n",
       "25                                        0   \n",
       "26                                        0   \n",
       "28                                        0   \n",
       "29                                        0   \n",
       "30                                        0   \n",
       "...                                     ...   \n",
       "256190                                    0   \n",
       "256191                                    0   \n",
       "256192                                    0   \n",
       "256193                                    0   \n",
       "256194                                    0   \n",
       "256195                                    0   \n",
       "256196                                    0   \n",
       "256197                                    0   \n",
       "256198                                    0   \n",
       "256199                                    0   \n",
       "256200                                    0   \n",
       "256201                                    0   \n",
       "256202                                    0   \n",
       "256205                                    0   \n",
       "256209                                    0   \n",
       "256210                                    0   \n",
       "256211                                    0   \n",
       "256212                                    0   \n",
       "256215                                    0   \n",
       "256216                                    0   \n",
       "256217                                    0   \n",
       "256218                                    0   \n",
       "256219                                    0   \n",
       "256220                                    0   \n",
       "256222                                    0   \n",
       "256224                                    0   \n",
       "256227                                    0   \n",
       "256228                                    0   \n",
       "256229                                    0   \n",
       "256230                                    0   \n",
       "\n",
       "        Remark_GearoilCooler 2, gear:  57°C  \\\n",
       "0                                         0   \n",
       "1                                         0   \n",
       "2                                         0   \n",
       "3                                         0   \n",
       "4                                         0   \n",
       "5                                         0   \n",
       "6                                         0   \n",
       "7                                         0   \n",
       "8                                         0   \n",
       "9                                         0   \n",
       "10                                        0   \n",
       "11                                        0   \n",
       "12                                        0   \n",
       "13                                        0   \n",
       "14                                        0   \n",
       "15                                        0   \n",
       "16                                        0   \n",
       "17                                        0   \n",
       "18                                        0   \n",
       "19                                        0   \n",
       "20                                        0   \n",
       "21                                        0   \n",
       "22                                        0   \n",
       "23                                        0   \n",
       "24                                        0   \n",
       "25                                        0   \n",
       "26                                        0   \n",
       "28                                        0   \n",
       "29                                        0   \n",
       "30                                        0   \n",
       "...                                     ...   \n",
       "256190                                    0   \n",
       "256191                                    0   \n",
       "256192                                    0   \n",
       "256193                                    0   \n",
       "256194                                    0   \n",
       "256195                                    0   \n",
       "256196                                    0   \n",
       "256197                                    0   \n",
       "256198                                    0   \n",
       "256199                                    0   \n",
       "256200                                    0   \n",
       "256201                                    0   \n",
       "256202                                    0   \n",
       "256205                                    0   \n",
       "256209                                    0   \n",
       "256210                                    0   \n",
       "256211                                    0   \n",
       "256212                                    0   \n",
       "256215                                    0   \n",
       "256216                                    0   \n",
       "256217                                    0   \n",
       "256218                                    0   \n",
       "256219                                    0   \n",
       "256220                                    0   \n",
       "256222                                    0   \n",
       "256224                                    0   \n",
       "256227                                    0   \n",
       "256228                                    0   \n",
       "256229                                    0   \n",
       "256230                                    0   \n",
       "\n",
       "        Remark_Gen. ext. vent. 0, temp: 34°C  \\\n",
       "0                                          0   \n",
       "1                                          0   \n",
       "2                                          0   \n",
       "3                                          0   \n",
       "4                                          0   \n",
       "5                                          0   \n",
       "6                                          0   \n",
       "7                                          0   \n",
       "8                                          0   \n",
       "9                                          0   \n",
       "10                                         0   \n",
       "11                                         0   \n",
       "12                                         0   \n",
       "13                                         0   \n",
       "14                                         0   \n",
       "15                                         0   \n",
       "16                                         0   \n",
       "17                                         0   \n",
       "18                                         0   \n",
       "19                                         0   \n",
       "20                                         0   \n",
       "21                                         0   \n",
       "22                                         0   \n",
       "23                                         0   \n",
       "24                                         0   \n",
       "25                                         0   \n",
       "26                                         0   \n",
       "28                                         0   \n",
       "29                                         0   \n",
       "30                                         0   \n",
       "...                                      ...   \n",
       "256190                                     0   \n",
       "256191                                     0   \n",
       "256192                                     0   \n",
       "256193                                     0   \n",
       "256194                                     0   \n",
       "256195                                     0   \n",
       "256196                                     0   \n",
       "256197                                     0   \n",
       "256198                                     0   \n",
       "256199                                     0   \n",
       "256200                                     0   \n",
       "256201                                     0   \n",
       "256202                                     0   \n",
       "256205                                     0   \n",
       "256209                                     0   \n",
       "256210                                     0   \n",
       "256211                                     0   \n",
       "256212                                     0   \n",
       "256215                                     0   \n",
       "256216                                     0   \n",
       "256217                                     0   \n",
       "256218                                     0   \n",
       "256219                                     0   \n",
       "256220                                     0   \n",
       "256222                                     0   \n",
       "256224                                     0   \n",
       "256227                                     0   \n",
       "256228                                     0   \n",
       "256229                                     0   \n",
       "256230                                     0   \n",
       "\n",
       "        Remark_Gen. ext. vent. 1, temp: 49°C  \\\n",
       "0                                          0   \n",
       "1                                          0   \n",
       "2                                          0   \n",
       "3                                          0   \n",
       "4                                          0   \n",
       "5                                          0   \n",
       "6                                          0   \n",
       "7                                          0   \n",
       "8                                          0   \n",
       "9                                          0   \n",
       "10                                         0   \n",
       "11                                         0   \n",
       "12                                         0   \n",
       "13                                         0   \n",
       "14                                         0   \n",
       "15                                         0   \n",
       "16                                         0   \n",
       "17                                         0   \n",
       "18                                         0   \n",
       "19                                         0   \n",
       "20                                         0   \n",
       "21                                         0   \n",
       "22                                         0   \n",
       "23                                         0   \n",
       "24                                         0   \n",
       "25                                         0   \n",
       "26                                         1   \n",
       "28                                         1   \n",
       "29                                         0   \n",
       "30                                         0   \n",
       "...                                      ...   \n",
       "256190                                     0   \n",
       "256191                                     0   \n",
       "256192                                     0   \n",
       "256193                                     0   \n",
       "256194                                     0   \n",
       "256195                                     0   \n",
       "256196                                     0   \n",
       "256197                                     0   \n",
       "256198                                     0   \n",
       "256199                                     0   \n",
       "256200                                     0   \n",
       "256201                                     0   \n",
       "256202                                     0   \n",
       "256205                                     0   \n",
       "256209                                     0   \n",
       "256210                                     0   \n",
       "256211                                     0   \n",
       "256212                                     0   \n",
       "256215                                     0   \n",
       "256216                                     0   \n",
       "256217                                     0   \n",
       "256218                                     0   \n",
       "256219                                     0   \n",
       "256220                                     0   \n",
       "256222                                     0   \n",
       "256224                                     0   \n",
       "256227                                     0   \n",
       "256228                                     0   \n",
       "256229                                     0   \n",
       "256230                                     0   \n",
       "\n",
       "        Remark_Gen. ext. vent. 1, temp: 50°C  \\\n",
       "0                                          0   \n",
       "1                                          0   \n",
       "2                                          0   \n",
       "3                                          0   \n",
       "4                                          0   \n",
       "5                                          0   \n",
       "6                                          0   \n",
       "7                                          0   \n",
       "8                                          0   \n",
       "9                                          0   \n",
       "10                                         0   \n",
       "11                                         0   \n",
       "12                                         0   \n",
       "13                                         0   \n",
       "14                                         0   \n",
       "15                                         0   \n",
       "16                                         0   \n",
       "17                                         0   \n",
       "18                                         0   \n",
       "19                                         0   \n",
       "20                                         0   \n",
       "21                                         0   \n",
       "22                                         0   \n",
       "23                                         0   \n",
       "24                                         0   \n",
       "25                                         0   \n",
       "26                                         0   \n",
       "28                                         0   \n",
       "29                                         0   \n",
       "30                                         0   \n",
       "...                                      ...   \n",
       "256190                                     0   \n",
       "256191                                     0   \n",
       "256192                                     0   \n",
       "256193                                     0   \n",
       "256194                                     0   \n",
       "256195                                     0   \n",
       "256196                                     0   \n",
       "256197                                     0   \n",
       "256198                                     0   \n",
       "256199                                     0   \n",
       "256200                                     0   \n",
       "256201                                     0   \n",
       "256202                                     0   \n",
       "256205                                     0   \n",
       "256209                                     0   \n",
       "256210                                     0   \n",
       "256211                                     0   \n",
       "256212                                     0   \n",
       "256215                                     0   \n",
       "256216                                     0   \n",
       "256217                                     0   \n",
       "256218                                     0   \n",
       "256219                                     0   \n",
       "256220                                     0   \n",
       "256222                                     0   \n",
       "256224                                     0   \n",
       "256227                                     0   \n",
       "256228                                     0   \n",
       "256229                                     0   \n",
       "256230                                     0   \n",
       "\n",
       "        Remark_Gen. ext. vent. 2, temp: 65°C  \\\n",
       "0                                          0   \n",
       "1                                          0   \n",
       "2                                          0   \n",
       "3                                          0   \n",
       "4                                          0   \n",
       "5                                          0   \n",
       "6                                          0   \n",
       "7                                          0   \n",
       "8                                          0   \n",
       "9                                          0   \n",
       "10                                         0   \n",
       "11                                         0   \n",
       "12                                         0   \n",
       "13                                         0   \n",
       "14                                         0   \n",
       "15                                         0   \n",
       "16                                         0   \n",
       "17                                         0   \n",
       "18                                         0   \n",
       "19                                         0   \n",
       "20                                         0   \n",
       "21                                         0   \n",
       "22                                         1   \n",
       "23                                         0   \n",
       "24                                         0   \n",
       "25                                         0   \n",
       "26                                         0   \n",
       "28                                         0   \n",
       "29                                         0   \n",
       "30                                         0   \n",
       "...                                      ...   \n",
       "256190                                     0   \n",
       "256191                                     0   \n",
       "256192                                     0   \n",
       "256193                                     0   \n",
       "256194                                     0   \n",
       "256195                                     0   \n",
       "256196                                     0   \n",
       "256197                                     0   \n",
       "256198                                     0   \n",
       "256199                                     0   \n",
       "256200                                     0   \n",
       "256201                                     0   \n",
       "256202                                     0   \n",
       "256205                                     0   \n",
       "256209                                     0   \n",
       "256210                                     0   \n",
       "256211                                     0   \n",
       "256212                                     0   \n",
       "256215                                     0   \n",
       "256216                                     0   \n",
       "256217                                     1   \n",
       "256218                                     0   \n",
       "256219                                     0   \n",
       "256220                                     0   \n",
       "256222                                     0   \n",
       "256224                                     0   \n",
       "256227                                     0   \n",
       "256228                                     0   \n",
       "256229                                     0   \n",
       "256230                                     0   \n",
       "\n",
       "        Remark_Gen. int. vent. 0, temp: 34°C  \\\n",
       "0                                          0   \n",
       "1                                          0   \n",
       "2                                          0   \n",
       "3                                          0   \n",
       "4                                          0   \n",
       "5                                          0   \n",
       "6                                          0   \n",
       "7                                          0   \n",
       "8                                          0   \n",
       "9                                          0   \n",
       "10                                         0   \n",
       "11                                         0   \n",
       "12                                         0   \n",
       "13                                         0   \n",
       "14                                         0   \n",
       "15                                         0   \n",
       "16                                         0   \n",
       "17                                         0   \n",
       "18                                         0   \n",
       "19                                         0   \n",
       "20                                         0   \n",
       "21                                         0   \n",
       "22                                         0   \n",
       "23                                         0   \n",
       "24                                         0   \n",
       "25                                         0   \n",
       "26                                         0   \n",
       "28                                         0   \n",
       "29                                         0   \n",
       "30                                         0   \n",
       "...                                      ...   \n",
       "256190                                     0   \n",
       "256191                                     0   \n",
       "256192                                     0   \n",
       "256193                                     0   \n",
       "256194                                     0   \n",
       "256195                                     0   \n",
       "256196                                     0   \n",
       "256197                                     0   \n",
       "256198                                     0   \n",
       "256199                                     0   \n",
       "256200                                     0   \n",
       "256201                                     0   \n",
       "256202                                     0   \n",
       "256205                                     0   \n",
       "256209                                     0   \n",
       "256210                                     0   \n",
       "256211                                     0   \n",
       "256212                                     0   \n",
       "256215                                     0   \n",
       "256216                                     0   \n",
       "256217                                     0   \n",
       "256218                                     0   \n",
       "256219                                     0   \n",
       "256220                                     0   \n",
       "256222                                     0   \n",
       "256224                                     0   \n",
       "256227                                     0   \n",
       "256228                                     0   \n",
       "256229                                     0   \n",
       "256230                                     0   \n",
       "\n",
       "        Remark_Gen. int. vent. 1, temp: 50°C  Remark_Generator 1 in  \\\n",
       "0                                          0                      0   \n",
       "1                                          0                      1   \n",
       "2                                          0                      0   \n",
       "3                                          0                      1   \n",
       "4                                          0                      0   \n",
       "5                                          0                      0   \n",
       "6                                          0                      1   \n",
       "7                                          0                      0   \n",
       "8                                          0                      0   \n",
       "9                                          0                      0   \n",
       "10                                         0                      0   \n",
       "11                                         0                      0   \n",
       "12                                         0                      0   \n",
       "13                                         0                      0   \n",
       "14                                         0                      0   \n",
       "15                                         0                      0   \n",
       "16                                         0                      0   \n",
       "17                                         0                      0   \n",
       "18                                         0                      0   \n",
       "19                                         0                      0   \n",
       "20                                         0                      0   \n",
       "21                                         0                      0   \n",
       "22                                         0                      0   \n",
       "23                                         0                      0   \n",
       "24                                         0                      0   \n",
       "25                                         0                      0   \n",
       "26                                         0                      0   \n",
       "28                                         0                      0   \n",
       "29                                         0                      1   \n",
       "30                                         0                      0   \n",
       "...                                      ...                    ...   \n",
       "256190                                     0                      0   \n",
       "256191                                     0                      1   \n",
       "256192                                     0                      0   \n",
       "256193                                     0                      1   \n",
       "256194                                     0                      1   \n",
       "256195                                     0                      0   \n",
       "256196                                     0                      1   \n",
       "256197                                     0                      0   \n",
       "256198                                     0                      1   \n",
       "256199                                     0                      0   \n",
       "256200                                     0                      1   \n",
       "256201                                     0                      0   \n",
       "256202                                     0                      0   \n",
       "256205                                     0                      0   \n",
       "256209                                     0                      0   \n",
       "256210                                     0                      0   \n",
       "256211                                     0                      0   \n",
       "256212                                     0                      0   \n",
       "256215                                     0                      0   \n",
       "256216                                     0                      0   \n",
       "256217                                     0                      0   \n",
       "256218                                     0                      0   \n",
       "256219                                     0                      0   \n",
       "256220                                     0                      0   \n",
       "256222                                     0                      1   \n",
       "256224                                     0                      0   \n",
       "256227                                     0                      0   \n",
       "256228                                     0                      0   \n",
       "256229                                     0                      0   \n",
       "256230                                     0                      0   \n",
       "\n",
       "        Remark_Hot HV trafo 270°C      0kW  \\\n",
       "0                                        0   \n",
       "1                                        0   \n",
       "2                                        0   \n",
       "3                                        0   \n",
       "4                                        0   \n",
       "5                                        0   \n",
       "6                                        0   \n",
       "7                                        0   \n",
       "8                                        0   \n",
       "9                                        0   \n",
       "10                                       0   \n",
       "11                                       0   \n",
       "12                                       0   \n",
       "13                                       0   \n",
       "14                                       0   \n",
       "15                                       0   \n",
       "16                                       0   \n",
       "17                                       0   \n",
       "18                                       0   \n",
       "19                                       0   \n",
       "20                                       0   \n",
       "21                                       0   \n",
       "22                                       0   \n",
       "23                                       0   \n",
       "24                                       0   \n",
       "25                                       0   \n",
       "26                                       0   \n",
       "28                                       0   \n",
       "29                                       0   \n",
       "30                                       0   \n",
       "...                                    ...   \n",
       "256190                                   0   \n",
       "256191                                   0   \n",
       "256192                                   0   \n",
       "256193                                   0   \n",
       "256194                                   0   \n",
       "256195                                   0   \n",
       "256196                                   0   \n",
       "256197                                   0   \n",
       "256198                                   0   \n",
       "256199                                   0   \n",
       "256200                                   0   \n",
       "256201                                   0   \n",
       "256202                                   0   \n",
       "256205                                   0   \n",
       "256209                                   0   \n",
       "256210                                   0   \n",
       "256211                                   0   \n",
       "256212                                   0   \n",
       "256215                                   0   \n",
       "256216                                   0   \n",
       "256217                                   0   \n",
       "256218                                   0   \n",
       "256219                                   0   \n",
       "256220                                   0   \n",
       "256222                                   0   \n",
       "256224                                   0   \n",
       "256227                                   0   \n",
       "256228                                   0   \n",
       "256229                                   0   \n",
       "256230                                   0   \n",
       "\n",
       "        Remark_Yaw Speed Exc:  0° Rate:10sec  \\\n",
       "0                                          0   \n",
       "1                                          0   \n",
       "2                                          0   \n",
       "3                                          0   \n",
       "4                                          0   \n",
       "5                                          0   \n",
       "6                                          0   \n",
       "7                                          0   \n",
       "8                                          0   \n",
       "9                                          0   \n",
       "10                                         0   \n",
       "11                                         0   \n",
       "12                                         0   \n",
       "13                                         0   \n",
       "14                                         0   \n",
       "15                                         0   \n",
       "16                                         0   \n",
       "17                                         0   \n",
       "18                                         0   \n",
       "19                                         0   \n",
       "20                                         0   \n",
       "21                                         0   \n",
       "22                                         0   \n",
       "23                                         0   \n",
       "24                                         0   \n",
       "25                                         0   \n",
       "26                                         0   \n",
       "28                                         0   \n",
       "29                                         0   \n",
       "30                                         0   \n",
       "...                                      ...   \n",
       "256190                                     0   \n",
       "256191                                     0   \n",
       "256192                                     0   \n",
       "256193                                     0   \n",
       "256194                                     0   \n",
       "256195                                     0   \n",
       "256196                                     0   \n",
       "256197                                     0   \n",
       "256198                                     0   \n",
       "256199                                     0   \n",
       "256200                                     0   \n",
       "256201                                     0   \n",
       "256202                                     0   \n",
       "256205                                     0   \n",
       "256209                                     0   \n",
       "256210                                     0   \n",
       "256211                                     0   \n",
       "256212                                     0   \n",
       "256215                                     0   \n",
       "256216                                     0   \n",
       "256217                                     0   \n",
       "256218                                     0   \n",
       "256219                                     0   \n",
       "256220                                     0   \n",
       "256222                                     0   \n",
       "256224                                     0   \n",
       "256227                                     0   \n",
       "256228                                     0   \n",
       "256229                                     0   \n",
       "256230                                     0   \n",
       "\n",
       "        Remark_Yawcontr. from:30010 to:30011  \\\n",
       "0                                          0   \n",
       "1                                          0   \n",
       "2                                          0   \n",
       "3                                          0   \n",
       "4                                          0   \n",
       "5                                          0   \n",
       "6                                          0   \n",
       "7                                          0   \n",
       "8                                          0   \n",
       "9                                          0   \n",
       "10                                         0   \n",
       "11                                         0   \n",
       "12                                         0   \n",
       "13                                         0   \n",
       "14                                         0   \n",
       "15                                         0   \n",
       "16                                         0   \n",
       "17                                         0   \n",
       "18                                         0   \n",
       "19                                         0   \n",
       "20                                         0   \n",
       "21                                         0   \n",
       "22                                         0   \n",
       "23                                         0   \n",
       "24                                         0   \n",
       "25                                         0   \n",
       "26                                         0   \n",
       "28                                         0   \n",
       "29                                         0   \n",
       "30                                         0   \n",
       "...                                      ...   \n",
       "256190                                     0   \n",
       "256191                                     0   \n",
       "256192                                     0   \n",
       "256193                                     0   \n",
       "256194                                     0   \n",
       "256195                                     0   \n",
       "256196                                     0   \n",
       "256197                                     0   \n",
       "256198                                     0   \n",
       "256199                                     0   \n",
       "256200                                     0   \n",
       "256201                                     0   \n",
       "256202                                     0   \n",
       "256205                                     0   \n",
       "256209                                     0   \n",
       "256210                                     0   \n",
       "256211                                     0   \n",
       "256212                                     0   \n",
       "256215                                     0   \n",
       "256216                                     0   \n",
       "256217                                     0   \n",
       "256218                                     0   \n",
       "256219                                     0   \n",
       "256220                                     0   \n",
       "256222                                     0   \n",
       "256224                                     0   \n",
       "256227                                     0   \n",
       "256228                                     0   \n",
       "256229                                     0   \n",
       "256230                                     0   \n",
       "\n",
       "        Remark_Yawcontr. from:30011 to:30010  \n",
       "0                                          0  \n",
       "1                                          0  \n",
       "2                                          0  \n",
       "3                                          0  \n",
       "4                                          0  \n",
       "5                                          0  \n",
       "6                                          0  \n",
       "7                                          0  \n",
       "8                                          0  \n",
       "9                                          0  \n",
       "10                                         0  \n",
       "11                                         0  \n",
       "12                                         0  \n",
       "13                                         0  \n",
       "14                                         0  \n",
       "15                                         0  \n",
       "16                                         0  \n",
       "17                                         0  \n",
       "18                                         0  \n",
       "19                                         0  \n",
       "20                                         0  \n",
       "21                                         0  \n",
       "22                                         0  \n",
       "23                                         0  \n",
       "24                                         0  \n",
       "25                                         0  \n",
       "26                                         0  \n",
       "28                                         0  \n",
       "29                                         0  \n",
       "30                                         0  \n",
       "...                                      ...  \n",
       "256190                                     0  \n",
       "256191                                     0  \n",
       "256192                                     0  \n",
       "256193                                     0  \n",
       "256194                                     0  \n",
       "256195                                     0  \n",
       "256196                                     0  \n",
       "256197                                     0  \n",
       "256198                                     0  \n",
       "256199                                     0  \n",
       "256200                                     0  \n",
       "256201                                     0  \n",
       "256202                                     0  \n",
       "256205                                     0  \n",
       "256209                                     0  \n",
       "256210                                     0  \n",
       "256211                                     0  \n",
       "256212                                     0  \n",
       "256215                                     0  \n",
       "256216                                     0  \n",
       "256217                                     0  \n",
       "256218                                     0  \n",
       "256219                                     0  \n",
       "256220                                     0  \n",
       "256222                                     0  \n",
       "256224                                     0  \n",
       "256227                                     0  \n",
       "256228                                     0  \n",
       "256229                                     0  \n",
       "256230                                     0  \n",
       "\n",
       "[195919 rows x 17 columns]"
      ]
     },
     "execution_count": 49,
     "metadata": {},
     "output_type": "execute_result"
    }
   ],
   "source": [
    "logs_dummies(logs_training_df)"
   ]
  },
  {
   "cell_type": "markdown",
   "metadata": {},
   "source": [
    "### Metmast-testing dataframe"
   ]
  },
  {
   "cell_type": "code",
   "execution_count": null,
   "metadata": {
    "ExecuteTime": {
     "end_time": "2021-02-03T22:00:16.682423Z",
     "start_time": "2021-02-03T22:00:16.578703Z"
    },
    "scrolled": true
   },
   "outputs": [],
   "source": [
    "metmast_testing_df = WM_data_dict['metmast_testing_df'].copy()\n",
    "metmast_testing_df.head()"
   ]
  },
  {
   "cell_type": "code",
   "execution_count": null,
   "metadata": {
    "ExecuteTime": {
     "end_time": "2021-02-03T22:00:16.808087Z",
     "start_time": "2021-02-03T22:00:16.683421Z"
    }
   },
   "outputs": [],
   "source": [
    "metmast_testing_df = ft.transform_time(metmast_testing_df)\n",
    "metmast_testing_df.head()"
   ]
  },
  {
   "cell_type": "code",
   "execution_count": null,
   "metadata": {
    "ExecuteTime": {
     "end_time": "2021-02-03T22:00:16.900876Z",
     "start_time": "2021-02-03T22:00:16.809085Z"
    }
   },
   "outputs": [],
   "source": [
    "df_list[6] = logs_training_df"
   ]
  },
  {
   "cell_type": "markdown",
   "metadata": {},
   "source": [
    "### Metmast-training dataframe"
   ]
  },
  {
   "cell_type": "code",
   "execution_count": null,
   "metadata": {
    "ExecuteTime": {
     "end_time": "2021-02-03T22:00:17.010547Z",
     "start_time": "2021-02-03T22:00:16.902835Z"
    }
   },
   "outputs": [],
   "source": [
    "metmast_training_df = WM_data_dict['metmast_training_df'].copy()\n",
    "metmast_training_df.head()"
   ]
  },
  {
   "cell_type": "code",
   "execution_count": null,
   "metadata": {
    "ExecuteTime": {
     "end_time": "2021-02-03T22:00:17.182087Z",
     "start_time": "2021-02-03T22:00:17.012541Z"
    }
   },
   "outputs": [],
   "source": [
    "metmast_training_df = ft.transform_time(metmast_training_df)\n",
    "metmast_training_df.head()"
   ]
  },
  {
   "cell_type": "code",
   "execution_count": null,
   "metadata": {
    "ExecuteTime": {
     "end_time": "2021-02-03T22:00:17.275837Z",
     "start_time": "2021-02-03T22:00:17.183085Z"
    }
   },
   "outputs": [],
   "source": [
    "df_list[6] = logs_training_df"
   ]
  },
  {
   "cell_type": "markdown",
   "metadata": {
    "ExecuteTime": {
     "end_time": "2021-01-27T23:22:29.845425Z",
     "start_time": "2021-01-27T23:22:29.840438Z"
    }
   },
   "source": [
    "### Signals-testing dataframe"
   ]
  },
  {
   "cell_type": "code",
   "execution_count": null,
   "metadata": {
    "ExecuteTime": {
     "end_time": "2021-02-03T22:00:17.398510Z",
     "start_time": "2021-02-03T22:00:17.279844Z"
    }
   },
   "outputs": [],
   "source": [
    "signals_testing_df = WM_data_dict['signals_testing_df'].copy()\n",
    "signals_testing_df.head()"
   ]
  },
  {
   "cell_type": "code",
   "execution_count": null,
   "metadata": {
    "ExecuteTime": {
     "end_time": "2021-02-03T22:00:17.600969Z",
     "start_time": "2021-02-03T22:00:17.400504Z"
    }
   },
   "outputs": [],
   "source": [
    "signals_testing_df = ft.transform_time(signals_testing_df)\n",
    "signals_testing_df.head()"
   ]
  },
  {
   "cell_type": "code",
   "execution_count": null,
   "metadata": {
    "ExecuteTime": {
     "end_time": "2021-02-03T22:00:17.678004Z",
     "start_time": "2021-02-03T22:00:17.602963Z"
    }
   },
   "outputs": [],
   "source": [
    "df_list[7] = signals_testing_df"
   ]
  },
  {
   "cell_type": "code",
   "execution_count": null,
   "metadata": {
    "ExecuteTime": {
     "end_time": "2021-02-03T22:00:17.755793Z",
     "start_time": "2021-02-03T22:00:17.680993Z"
    }
   },
   "outputs": [],
   "source": [
    "for i in signals_testing_df.keys():"
   ]
  },
  {
   "cell_type": "markdown",
   "metadata": {
    "ExecuteTime": {
     "end_time": "2021-01-27T23:23:31.025644Z",
     "start_time": "2021-01-27T23:23:31.008687Z"
    }
   },
   "source": [
    "### Signals-training dataframe"
   ]
  },
  {
   "cell_type": "code",
   "execution_count": null,
   "metadata": {
    "ExecuteTime": {
     "end_time": "2021-02-03T22:00:17.757789Z",
     "start_time": "2021-02-03T21:59:58.535Z"
    }
   },
   "outputs": [],
   "source": [
    "signals_training_df = WM_data_dict['signals_training_df'].copy()\n",
    "signals_training_df.head()"
   ]
  },
  {
   "cell_type": "code",
   "execution_count": null,
   "metadata": {
    "ExecuteTime": {
     "end_time": "2021-02-03T22:00:17.759782Z",
     "start_time": "2021-02-03T21:59:58.544Z"
    }
   },
   "outputs": [],
   "source": [
    "signals_training_df= ft.transform_time(signals_training_df)\n",
    "signals_training_df"
   ]
  },
  {
   "cell_type": "code",
   "execution_count": null,
   "metadata": {
    "ExecuteTime": {
     "end_time": "2021-02-03T22:00:17.760778Z",
     "start_time": "2021-02-03T21:59:58.549Z"
    }
   },
   "outputs": [],
   "source": [
    "df_list[8] = signals_training_df"
   ]
  },
  {
   "cell_type": "markdown",
   "metadata": {},
   "source": [
    "## Time description"
   ]
  },
  {
   "cell_type": "markdown",
   "metadata": {},
   "source": [
    "### Criar uma coluna de variação de tempo entre timestamps"
   ]
  },
  {
   "cell_type": "markdown",
   "metadata": {},
   "source": [
    "### Perceber a variação entre os vários Timestamps"
   ]
  },
  {
   "cell_type": "markdown",
   "metadata": {
    "ExecuteTime": {
     "end_time": "2021-01-28T21:40:59.366634Z",
     "start_time": "2021-01-28T21:40:59.301213Z"
    }
   },
   "source": [
    "## Novo dataframe com Timestamp completo"
   ]
  },
  {
   "cell_type": "code",
   "execution_count": null,
   "metadata": {
    "ExecuteTime": {
     "end_time": "2021-02-03T22:00:17.762774Z",
     "start_time": "2021-02-03T21:59:58.555Z"
    }
   },
   "outputs": [],
   "source": [
    "all_time_df = ft.time_df()\n",
    "all_time_df.head()"
   ]
  },
  {
   "cell_type": "code",
   "execution_count": null,
   "metadata": {
    "ExecuteTime": {
     "end_time": "2021-02-03T22:00:17.763770Z",
     "start_time": "2021-02-03T21:59:58.559Z"
    }
   },
   "outputs": [],
   "source": [
    "turbine_list = [i for i in signals_training_df.Turbine_ID.unique()]\n",
    "turbine_list"
   ]
  },
  {
   "cell_type": "code",
   "execution_count": null,
   "metadata": {
    "ExecuteTime": {
     "end_time": "2021-02-03T22:00:17.766278Z",
     "start_time": "2021-02-03T21:59:58.563Z"
    }
   },
   "outputs": [],
   "source": [
    "all_time_df = ft.complete_time_df(all_time_df, turbine_list)\n",
    "all_time_df.head()"
   ]
  },
  {
   "cell_type": "markdown",
   "metadata": {},
   "source": [
    "## Fazer merge do Dataframe de tempo completo com os restantes dataframes considerando os dados de 2016"
   ]
  },
  {
   "cell_type": "markdown",
   "metadata": {},
   "source": [
    "### Definição de data de corte"
   ]
  },
  {
   "cell_type": "code",
   "execution_count": null,
   "metadata": {
    "ExecuteTime": {
     "end_time": "2021-02-03T22:00:17.767275Z",
     "start_time": "2021-02-03T21:59:58.568Z"
    }
   },
   "outputs": [],
   "source": [
    "date_until = datetime.datetime(2017,1,1,0,0,0)\n",
    "date_until"
   ]
  },
  {
   "cell_type": "markdown",
   "metadata": {},
   "source": [
    "### Delimitação das turbinas a usar para o dataframe"
   ]
  },
  {
   "cell_type": "code",
   "execution_count": null,
   "metadata": {
    "ExecuteTime": {
     "end_time": "2021-02-03T22:00:17.768272Z",
     "start_time": "2021-02-03T21:59:58.572Z"
    }
   },
   "outputs": [],
   "source": [
    "# Lista de Turbinas a considerar nos dataframes\n",
    "turb_list_exp = ['T06']"
   ]
  },
  {
   "cell_type": "markdown",
   "metadata": {},
   "source": [
    "### Definição de qual a unidade de medida de tempo a usar"
   ]
  },
  {
   "cell_type": "code",
   "execution_count": null,
   "metadata": {},
   "outputs": [],
   "source": []
  },
  {
   "cell_type": "code",
   "execution_count": null,
   "metadata": {},
   "outputs": [],
   "source": []
  },
  {
   "cell_type": "markdown",
   "metadata": {},
   "source": [
    "### Delimitação dos campos a considerar para cada dataframe e getdummies"
   ]
  },
  {
   "cell_type": "markdown",
   "metadata": {},
   "source": [
    "#### Logs Dataframe"
   ]
  },
  {
   "cell_type": "code",
   "execution_count": null,
   "metadata": {
    "ExecuteTime": {
     "end_time": "2021-02-03T22:00:25.673002Z",
     "start_time": "2021-02-03T22:00:25.591390Z"
    }
   },
   "outputs": [],
   "source": [
    "# Logs data frame\n",
    "logs_cols_manter = ['Timestamp','Turbine_ID','Remark']"
   ]
  },
  {
   "cell_type": "code",
   "execution_count": null,
   "metadata": {},
   "outputs": [],
   "source": []
  },
  {
   "cell_type": "code",
   "execution_count": null,
   "metadata": {
    "ExecuteTime": {
     "end_time": "2021-01-31T22:29:24.245201Z",
     "start_time": "2021-01-31T22:29:24.155462Z"
    }
   },
   "outputs": [],
   "source": [
    "logs_training_df = logs_training_df[logs_cols_manter]\n",
    "logs_training_df.head()"
   ]
  },
  {
   "cell_type": "code",
   "execution_count": null,
   "metadata": {
    "ExecuteTime": {
     "end_time": "2021-01-31T22:29:26.064055Z",
     "start_time": "2021-01-31T22:29:25.995122Z"
    }
   },
   "outputs": [],
   "source": [
    "logs_training_df = logs_training_df.loc[logs_training_df['Turbine_ID'].isin(turb_list), logs_cols_manter]"
   ]
  },
  {
   "cell_type": "code",
   "execution_count": null,
   "metadata": {
    "ExecuteTime": {
     "end_time": "2021-01-31T22:29:26.791205Z",
     "start_time": "2021-01-31T22:29:26.709932Z"
    }
   },
   "outputs": [],
   "source": [
    "logs_train_final_df = pd.get_dummies(logs_training_df, columns=['Remark'])\n",
    "logs_train_final_df.head()"
   ]
  },
  {
   "cell_type": "markdown",
   "metadata": {
    "ExecuteTime": {
     "end_time": "2021-01-31T19:09:19.093006Z",
     "start_time": "2021-01-31T19:09:19.023191Z"
    }
   },
   "source": [
    "#### Failures Dataframe"
   ]
  },
  {
   "cell_type": "code",
   "execution_count": null,
   "metadata": {
    "ExecuteTime": {
     "end_time": "2021-01-31T22:29:32.613541Z",
     "start_time": "2021-01-31T22:29:32.551524Z"
    }
   },
   "outputs": [],
   "source": [
    "# Failures data frame\n",
    "fail_cols_manter = ['Turbine_ID','Component','Timestamp']"
   ]
  },
  {
   "cell_type": "code",
   "execution_count": null,
   "metadata": {
    "ExecuteTime": {
     "end_time": "2021-01-31T22:29:32.989213Z",
     "start_time": "2021-01-31T22:29:32.912405Z"
    }
   },
   "outputs": [],
   "source": [
    "failures_training_df = failures_training_df[fail_cols_manter]\n",
    "failures_training_df.head()"
   ]
  },
  {
   "cell_type": "code",
   "execution_count": null,
   "metadata": {
    "ExecuteTime": {
     "end_time": "2021-01-31T22:29:33.272201Z",
     "start_time": "2021-01-31T22:29:33.189699Z"
    }
   },
   "outputs": [],
   "source": [
    "failures_training_df = failures_training_df.loc[failures_training_df['Turbine_ID'].isin(turb_list_exp), fail_cols_manter]\n",
    "failures_training_df"
   ]
  },
  {
   "cell_type": "code",
   "execution_count": null,
   "metadata": {
    "ExecuteTime": {
     "end_time": "2021-01-31T23:37:29.214062Z",
     "start_time": "2021-01-31T23:37:29.142740Z"
    }
   },
   "outputs": [],
   "source": [
    "failures_training_df['Date+H'] = pd.to_datetime(failures_training_df.Timestamp, format='%Y-%m-%d %H')"
   ]
  },
  {
   "cell_type": "code",
   "execution_count": null,
   "metadata": {
    "ExecuteTime": {
     "end_time": "2021-01-31T23:37:29.573971Z",
     "start_time": "2021-01-31T23:37:29.497337Z"
    }
   },
   "outputs": [],
   "source": [
    "failures_training_df"
   ]
  },
  {
   "cell_type": "code",
   "execution_count": null,
   "metadata": {
    "ExecuteTime": {
     "end_time": "2021-01-31T23:36:53.085364Z",
     "start_time": "2021-01-31T23:36:53.022000Z"
    }
   },
   "outputs": [],
   "source": [
    "failures_training_df.drop(columns=['Date+H'], inplace=True)"
   ]
  },
  {
   "cell_type": "code",
   "execution_count": null,
   "metadata": {
    "ExecuteTime": {
     "end_time": "2021-01-31T22:29:37.587214Z",
     "start_time": "2021-01-31T22:29:37.506413Z"
    }
   },
   "outputs": [],
   "source": [
    "fail_train_final_df = pd.get_dummies(failures_training_df, columns=['Component'])\n",
    "fail_train_final_df.head()"
   ]
  },
  {
   "cell_type": "markdown",
   "metadata": {},
   "source": [
    "### Signals Dataframe"
   ]
  },
  {
   "cell_type": "code",
   "execution_count": null,
   "metadata": {
    "ExecuteTime": {
     "end_time": "2021-01-31T22:29:49.596855Z",
     "start_time": "2021-01-31T22:29:49.519924Z"
    }
   },
   "outputs": [],
   "source": [
    "# Signals data frame\n",
    "signals_cols_manter = [i for i in signals_training_df.keys()]"
   ]
  },
  {
   "cell_type": "markdown",
   "metadata": {},
   "source": [
    "#### Metmast Dataframe"
   ]
  },
  {
   "cell_type": "code",
   "execution_count": null,
   "metadata": {
    "ExecuteTime": {
     "end_time": "2021-01-31T22:29:50.732612Z",
     "start_time": "2021-01-31T22:29:50.664794Z"
    }
   },
   "outputs": [],
   "source": [
    "# Metmast data frame\n",
    "metmast_cols_manter = [i for i in metmast_training_df.keys()]"
   ]
  },
  {
   "cell_type": "markdown",
   "metadata": {},
   "source": [
    "### Merging Dataframes"
   ]
  },
  {
   "cell_type": "code",
   "execution_count": null,
   "metadata": {
    "ExecuteTime": {
     "end_time": "2021-01-31T22:30:00.748746Z",
     "start_time": "2021-01-31T22:29:58.285762Z"
    }
   },
   "outputs": [],
   "source": [
    "sig_train_merge_df = ft.merge_df(all_time_df, signals_training_df, date_until=date_until)\n",
    "sig_train_merge_df"
   ]
  },
  {
   "cell_type": "code",
   "execution_count": null,
   "metadata": {
    "ExecuteTime": {
     "end_time": "2021-01-31T22:33:10.795959Z",
     "start_time": "2021-01-31T22:33:10.248937Z"
    }
   },
   "outputs": [],
   "source": [
    "sig_train_merge_df = ft.merge_df(sig_train_merge_df, fail_train_final_df, date_until=date_until)\n",
    "sig_train_merge_df"
   ]
  },
  {
   "cell_type": "code",
   "execution_count": null,
   "metadata": {
    "ExecuteTime": {
     "end_time": "2021-01-31T22:33:11.473878Z",
     "start_time": "2021-01-31T22:33:10.797938Z"
    }
   },
   "outputs": [],
   "source": [
    "sig_train_merge_df = ft.merge_df(sig_train_merge_df, logs_train_final_df, date_until=date_until)\n",
    "sig_train_merge_df"
   ]
  },
  {
   "cell_type": "code",
   "execution_count": null,
   "metadata": {
    "ExecuteTime": {
     "end_time": "2021-01-31T23:01:58.884653Z",
     "start_time": "2021-01-31T23:01:58.807804Z"
    }
   },
   "outputs": [],
   "source": [
    "sig_train_merge_df['date'] = sig_train_merge_df['Timestamp'].dt.date"
   ]
  },
  {
   "cell_type": "code",
   "execution_count": null,
   "metadata": {
    "ExecuteTime": {
     "end_time": "2021-01-31T23:18:48.608485Z",
     "start_time": "2021-01-31T23:18:48.534790Z"
    }
   },
   "outputs": [],
   "source": [
    "cols = []\n",
    "for i in logs_train_final_df.keys():\n",
    "    cols.append(i)"
   ]
  },
  {
   "cell_type": "code",
   "execution_count": null,
   "metadata": {
    "ExecuteTime": {
     "end_time": "2021-01-31T23:18:50.228866Z",
     "start_time": "2021-01-31T23:18:50.160497Z"
    }
   },
   "outputs": [],
   "source": [
    "cols"
   ]
  },
  {
   "cell_type": "code",
   "execution_count": null,
   "metadata": {
    "ExecuteTime": {
     "end_time": "2021-01-31T23:02:17.208602Z",
     "start_time": "2021-01-31T23:02:17.084834Z"
    }
   },
   "outputs": [],
   "source": [
    "sig_train_merge_df = sig_train_merge_df.loc[sig_train_merge_df['Turbine_ID'] == 'T06', cols]\n",
    "sig_train_merge_df.head()"
   ]
  },
  {
   "cell_type": "markdown",
   "metadata": {},
   "source": [
    "Apenas para experiência e não para fazer de forma definitiva"
   ]
  },
  {
   "cell_type": "code",
   "execution_count": null,
   "metadata": {
    "ExecuteTime": {
     "end_time": "2021-01-31T23:02:26.220675Z",
     "start_time": "2021-01-31T23:02:26.133507Z"
    }
   },
   "outputs": [],
   "source": [
    "sig_train_merge_df.fillna(0, inplace=True)"
   ]
  },
  {
   "cell_type": "code",
   "execution_count": null,
   "metadata": {
    "ExecuteTime": {
     "end_time": "2021-01-31T23:19:12.448328Z",
     "start_time": "2021-01-31T23:19:12.378499Z"
    }
   },
   "outputs": [],
   "source": [
    "start = datetime.datetime(2016,6,20,0,0,0)\n",
    "end = datetime.datetime(2016,7,11,0,0,0)\n",
    "# 2016-07-11 19:40:00\n",
    "logs_train_final_df2 = logs_train_final_df.loc[logs_train_final_df['Timestamp'] <end, cols]\n",
    "logs_train_final_df2 = logs_train_final_df2.loc[logs_train_final_df2['Timestamp'] >start, cols]"
   ]
  },
  {
   "cell_type": "code",
   "execution_count": null,
   "metadata": {
    "ExecuteTime": {
     "end_time": "2021-01-31T23:19:20.461845Z",
     "start_time": "2021-01-31T23:19:20.368572Z"
    }
   },
   "outputs": [],
   "source": [
    "logs_train_final_df2"
   ]
  },
  {
   "cell_type": "code",
   "execution_count": null,
   "metadata": {
    "ExecuteTime": {
     "end_time": "2021-01-31T23:02:27.737656Z",
     "start_time": "2021-01-31T23:02:27.665822Z"
    }
   },
   "outputs": [],
   "source": [
    "sig_train_merge_3M_df.Timestamp.max()"
   ]
  },
  {
   "cell_type": "code",
   "execution_count": null,
   "metadata": {
    "ExecuteTime": {
     "end_time": "2021-01-31T23:02:28.323128Z",
     "start_time": "2021-01-31T23:02:28.258793Z"
    }
   },
   "outputs": [],
   "source": [
    "cols[2:7]"
   ]
  },
  {
   "cell_type": "code",
   "execution_count": null,
   "metadata": {
    "ExecuteTime": {
     "end_time": "2021-01-31T23:02:36.310926Z",
     "start_time": "2021-01-31T23:02:36.240624Z"
    }
   },
   "outputs": [],
   "source": [
    "logs_train_final_df2 = logs_train_final_df2.groupby(by=['date', 'Turbine_ID']).mean()"
   ]
  },
  {
   "cell_type": "code",
   "execution_count": null,
   "metadata": {
    "ExecuteTime": {
     "end_time": "2021-01-31T23:02:36.667281Z",
     "start_time": "2021-01-31T23:02:36.598823Z"
    }
   },
   "outputs": [],
   "source": [
    "sig_group_3M_df = sig_group_3M_df.reset_index()"
   ]
  },
  {
   "cell_type": "code",
   "execution_count": null,
   "metadata": {
    "ExecuteTime": {
     "end_time": "2021-01-31T23:12:21.682015Z",
     "start_time": "2021-01-31T23:12:21.619612Z"
    }
   },
   "outputs": [],
   "source": [
    "# a= 2\n",
    "a = a+5"
   ]
  },
  {
   "cell_type": "code",
   "execution_count": null,
   "metadata": {
    "ExecuteTime": {
     "end_time": "2021-01-31T23:12:22.644459Z",
     "start_time": "2021-01-31T23:12:21.860226Z"
    },
    "scrolled": false
   },
   "outputs": [],
   "source": [
    "for i, l in enumerate(cols[a:a+5]):\n",
    "#     plt.subplot(3,3,i+1)\n",
    "    plt.figure(figsize=(16,9))\n",
    "    sns.lineplot(sig_group_3M_df.date, sig_group_3M_df[l])\n",
    "\n",
    "# plt.plot(sig_train_merge_3M_df.Timestamp, sig_train_merge_3M_df.Component_GENERATOR, color='g')"
   ]
  },
  {
   "cell_type": "code",
   "execution_count": null,
   "metadata": {},
   "outputs": [],
   "source": []
  },
  {
   "cell_type": "code",
   "execution_count": null,
   "metadata": {},
   "outputs": [],
   "source": []
  },
  {
   "cell_type": "code",
   "execution_count": null,
   "metadata": {},
   "outputs": [],
   "source": []
  },
  {
   "cell_type": "code",
   "execution_count": null,
   "metadata": {
    "ExecuteTime": {
     "end_time": "2021-01-31T21:39:24.209247Z",
     "start_time": "2021-01-31T21:38:52.219Z"
    }
   },
   "outputs": [],
   "source": [
    "Gen_temp_columns = [\n",
    "'Gen_Phase2_Temp_Avg'\n",
    "'Gen_Phase3_Temp_Avg'\n",
    "'Prod_LatestAvg_ActPwrGen0'\n",
    "'Prod_LatestAvg_ActPwrGen1']"
   ]
  },
  {
   "cell_type": "code",
   "execution_count": null,
   "metadata": {
    "ExecuteTime": {
     "end_time": "2021-01-31T21:39:24.211243Z",
     "start_time": "2021-01-31T21:38:52.223Z"
    }
   },
   "outputs": [],
   "source": [
    "# Lista de nomes do dataframe\n",
    "lista_campos = [i for i in signals_testing_df.keys()]\n",
    "lista_campos"
   ]
  },
  {
   "cell_type": "code",
   "execution_count": null,
   "metadata": {
    "ExecuteTime": {
     "end_time": "2021-01-31T21:39:24.213237Z",
     "start_time": "2021-01-31T21:38:52.228Z"
    }
   },
   "outputs": [],
   "source": [
    "# Determinação das datas usadas nos ficheiros\n",
    "min_date = signals_testing_df.Timestamp.min()\n",
    "max_date = signals_testing_df.Timestamp.max()\n",
    "min_date, max_date\n",
    "\n"
   ]
  },
  {
   "cell_type": "code",
   "execution_count": null,
   "metadata": {
    "ExecuteTime": {
     "end_time": "2021-01-31T21:39:24.216230Z",
     "start_time": "2021-01-31T21:38:52.233Z"
    }
   },
   "outputs": [],
   "source": [
    "# Recriação do periodo de tempo do ficheiro\n",
    "signals_test_comp_df = signals_test_comp_df.loc[signals_test_comp_df['Timestamp'] >= min_date, lista_campos]"
   ]
  },
  {
   "cell_type": "code",
   "execution_count": null,
   "metadata": {
    "ExecuteTime": {
     "end_time": "2021-01-31T21:39:24.218225Z",
     "start_time": "2021-01-31T21:38:52.237Z"
    }
   },
   "outputs": [],
   "source": [
    "signals_test_comp_df.shape"
   ]
  },
  {
   "cell_type": "code",
   "execution_count": null,
   "metadata": {
    "ExecuteTime": {
     "end_time": "2021-01-31T21:39:24.220219Z",
     "start_time": "2021-01-31T21:38:52.242Z"
    }
   },
   "outputs": [],
   "source": [
    "signals_test_comp_df.isna().sum()"
   ]
  },
  {
   "cell_type": "code",
   "execution_count": null,
   "metadata": {
    "ExecuteTime": {
     "end_time": "2021-01-31T21:39:24.223211Z",
     "start_time": "2021-01-31T21:38:52.246Z"
    }
   },
   "outputs": [],
   "source": [
    "time_turb_df.shape"
   ]
  },
  {
   "cell_type": "code",
   "execution_count": null,
   "metadata": {
    "ExecuteTime": {
     "end_time": "2021-01-31T21:39:24.226203Z",
     "start_time": "2021-01-31T21:38:52.250Z"
    }
   },
   "outputs": [],
   "source": [
    "new_df = pd.merge(time_turb_df, signals_training_df, how='left', on=['Timestamp', 'Turbine_ID'] )"
   ]
  },
  {
   "cell_type": "code",
   "execution_count": null,
   "metadata": {
    "ExecuteTime": {
     "end_time": "2021-01-31T21:39:24.229196Z",
     "start_time": "2021-01-31T21:38:52.254Z"
    }
   },
   "outputs": [],
   "source": [
    "new_df.shape"
   ]
  },
  {
   "cell_type": "code",
   "execution_count": null,
   "metadata": {
    "ExecuteTime": {
     "end_time": "2021-01-31T21:39:24.232188Z",
     "start_time": "2021-01-31T21:38:52.258Z"
    }
   },
   "outputs": [],
   "source": [
    "lllll = new_df.keys()"
   ]
  },
  {
   "cell_type": "code",
   "execution_count": null,
   "metadata": {
    "ExecuteTime": {
     "end_time": "2021-01-31T21:39:24.234244Z",
     "start_time": "2021-01-31T21:38:52.263Z"
    }
   },
   "outputs": [],
   "source": [
    "new_df.loc[new_df['Timestamp'] > '2017-09-01 00:00:00', lllll]"
   ]
  },
  {
   "cell_type": "code",
   "execution_count": null,
   "metadata": {
    "ExecuteTime": {
     "end_time": "2021-01-31T21:39:24.237174Z",
     "start_time": "2021-01-31T21:38:52.268Z"
    }
   },
   "outputs": [],
   "source": [
    "(30+31+30+31)*5*24*6"
   ]
  },
  {
   "cell_type": "code",
   "execution_count": null,
   "metadata": {
    "ExecuteTime": {
     "end_time": "2021-01-31T21:39:24.239168Z",
     "start_time": "2021-01-31T21:38:52.272Z"
    }
   },
   "outputs": [],
   "source": [
    "new_df.isna().sum()"
   ]
  },
  {
   "cell_type": "code",
   "execution_count": null,
   "metadata": {
    "ExecuteTime": {
     "end_time": "2021-01-31T21:39:24.242167Z",
     "start_time": "2021-01-31T21:38:52.277Z"
    }
   },
   "outputs": [],
   "source": [
    "exp1 = ft.complete_time_df(turbine_list=turbine_list)"
   ]
  },
  {
   "cell_type": "code",
   "execution_count": null,
   "metadata": {
    "ExecuteTime": {
     "end_time": "2021-01-31T21:39:24.244155Z",
     "start_time": "2021-01-31T21:38:52.284Z"
    }
   },
   "outputs": [],
   "source": [
    "ft.merge_df(exp1, signals_testing_df, date_after=min_date)"
   ]
  },
  {
   "cell_type": "code",
   "execution_count": null,
   "metadata": {
    "ExecuteTime": {
     "end_time": "2021-01-31T21:39:24.246150Z",
     "start_time": "2021-01-31T21:38:52.289Z"
    }
   },
   "outputs": [],
   "source": [
    "ft.complete_time_df(['T01'])"
   ]
  },
  {
   "cell_type": "code",
   "execution_count": null,
   "metadata": {},
   "outputs": [],
   "source": []
  },
  {
   "cell_type": "code",
   "execution_count": null,
   "metadata": {},
   "outputs": [],
   "source": []
  },
  {
   "cell_type": "code",
   "execution_count": null,
   "metadata": {},
   "outputs": [],
   "source": []
  },
  {
   "cell_type": "code",
   "execution_count": null,
   "metadata": {},
   "outputs": [],
   "source": []
  },
  {
   "cell_type": "code",
   "execution_count": null,
   "metadata": {},
   "outputs": [],
   "source": []
  }
 ],
 "metadata": {
  "kernelspec": {
   "display_name": "Python 3",
   "language": "python",
   "name": "python3"
  },
  "language_info": {
   "codemirror_mode": {
    "name": "ipython",
    "version": 3
   },
   "file_extension": ".py",
   "mimetype": "text/x-python",
   "name": "python",
   "nbconvert_exporter": "python",
   "pygments_lexer": "ipython3",
   "version": "3.7.7"
  },
  "toc": {
   "base_numbering": 1,
   "nav_menu": {},
   "number_sections": true,
   "sideBar": true,
   "skip_h1_title": true,
   "title_cell": "Table of Contents",
   "title_sidebar": "Contents",
   "toc_cell": true,
   "toc_position": {
    "height": "797px",
    "left": "1086px",
    "top": "386px",
    "width": "260px"
   },
   "toc_section_display": true,
   "toc_window_display": true
  }
 },
 "nbformat": 4,
 "nbformat_minor": 4
}
