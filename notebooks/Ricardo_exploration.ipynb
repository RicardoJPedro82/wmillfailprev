{
 "cells": [
  {
   "cell_type": "markdown",
   "metadata": {
    "toc": true
   },
   "source": [
    "<h1>Table of Contents<span class=\"tocSkip\"></span></h1>\n",
    "<div class=\"toc\"><ul class=\"toc-item\"></ul></div>"
   ]
  },
  {
   "cell_type": "code",
   "execution_count": 3,
   "metadata": {
    "ExecuteTime": {
     "end_time": "2021-01-27T20:12:08.414576Z",
     "start_time": "2021-01-27T20:12:08.400452Z"
    }
   },
   "outputs": [
    {
     "ename": "NameError",
     "evalue": "name 'self' is not defined",
     "output_type": "error",
     "traceback": [
      "\u001b[1;31m---------------------------------------------------------------------------\u001b[0m",
      "\u001b[1;31mNameError\u001b[0m                                 Traceback (most recent call last)",
      "\u001b[1;32m<ipython-input-3-c27c22933cfe>\u001b[0m in \u001b[0;36m<module>\u001b[1;34m\u001b[0m\n\u001b[0;32m      2\u001b[0m \u001b[1;32mimport\u001b[0m \u001b[0mxlrd\u001b[0m\u001b[1;33m\u001b[0m\u001b[1;33m\u001b[0m\u001b[0m\n\u001b[0;32m      3\u001b[0m \u001b[1;32mimport\u001b[0m \u001b[0mos\u001b[0m\u001b[1;33m\u001b[0m\u001b[1;33m\u001b[0m\u001b[0m\n\u001b[1;32m----> 4\u001b[1;33m \u001b[1;32mfrom\u001b[0m \u001b[0mFuntion_tools\u001b[0m \u001b[1;32mimport\u001b[0m \u001b[0mwindmills\u001b[0m\u001b[1;33m\u001b[0m\u001b[1;33m\u001b[0m\u001b[0m\n\u001b[0m",
      "\u001b[1;32m~\\code\\RicardoJPedro82\\wmillfailprev\\notebooks\\Funtion_tools.py\u001b[0m in \u001b[0;36m<module>\u001b[1;34m\u001b[0m\n\u001b[0;32m      5\u001b[0m \u001b[1;33m\u001b[0m\u001b[0m\n\u001b[0;32m      6\u001b[0m \u001b[1;33m\u001b[0m\u001b[0m\n\u001b[1;32m----> 7\u001b[1;33m \u001b[1;32mclass\u001b[0m \u001b[0mwindmills\u001b[0m\u001b[1;33m(\u001b[0m\u001b[0mself\u001b[0m\u001b[1;33m)\u001b[0m\u001b[1;33m:\u001b[0m\u001b[1;33m\u001b[0m\u001b[1;33m\u001b[0m\u001b[0m\n\u001b[0m\u001b[0;32m      8\u001b[0m     \u001b[1;34m'Obter informação da pasta RawData'\u001b[0m\u001b[1;33m\u001b[0m\u001b[1;33m\u001b[0m\u001b[0m\n\u001b[0;32m      9\u001b[0m \u001b[1;33m\u001b[0m\u001b[0m\n",
      "\u001b[1;31mNameError\u001b[0m: name 'self' is not defined"
     ]
    }
   ],
   "source": [
    "import pandas as pd\n",
    "import xlrd\n",
    "import os\n",
    "from Funtion_tools import windmills"
   ]
  },
  {
   "cell_type": "code",
   "execution_count": null,
   "metadata": {
    "ExecuteTime": {
     "end_time": "2021-01-27T20:10:46.622105Z",
     "start_time": "2021-01-27T20:10:46.600636Z"
    }
   },
   "outputs": [],
   "source": [
    "windmills.get_data()"
   ]
  },
  {
   "cell_type": "code",
   "execution_count": null,
   "metadata": {
    "ExecuteTime": {
     "end_time": "2021-01-27T20:09:28.386442Z",
     "start_time": "2021-01-27T20:09:28.378023Z"
    }
   },
   "outputs": [],
   "source": [
    "root_dir = os.path.abspath(\"..//..\")\n",
    "root_dir"
   ]
  },
  {
   "cell_type": "code",
   "execution_count": null,
   "metadata": {
    "ExecuteTime": {
     "end_time": "2021-01-27T20:09:30.684573Z",
     "start_time": "2021-01-27T20:09:30.664627Z"
    }
   },
   "outputs": [],
   "source": [
    "csv_path = os.path.join(root_dir, 'wmillfailprev', 'rawdata')\n",
    "csv_path"
   ]
  },
  {
   "cell_type": "code",
   "execution_count": null,
   "metadata": {
    "ExecuteTime": {
     "end_time": "2021-01-27T20:09:35.669563Z",
     "start_time": "2021-01-27T20:09:35.654936Z"
    }
   },
   "outputs": [],
   "source": [
    "    lista = os.listdir(csv_path)\n",
    "    lista = lista[1:]\n",
    "    lista"
   ]
  },
  {
   "cell_type": "code",
   "execution_count": null,
   "metadata": {
    "ExecuteTime": {
     "end_time": "2021-01-27T20:10:34.792758Z",
     "start_time": "2021-01-27T20:10:23.758530Z"
    }
   },
   "outputs": [],
   "source": [
    "for i in range(len(lista)):\n",
    "    if len(lista[i]) < 22:\n",
    "        df_name = lista[i][:(len(lista[i]) - 4)]\n",
    "    else:\n",
    "        df_name = lista[i][12:len(lista[i]) - 4]\n",
    "    data[df_name] = pd.read_csv(os.path.join(csv_path, lista[i]), sep=';')"
   ]
  },
  {
   "cell_type": "code",
   "execution_count": null,
   "metadata": {
    "ExecuteTime": {
     "end_time": "2021-01-27T19:25:27.149262Z",
     "start_time": "2021-01-27T19:25:27.129315Z"
    }
   },
   "outputs": [],
   "source": [
    "for i in lista:\n",
    "    if len(i) < 22:\n",
    "        df_name = i[:(len(i) - 4)]\n",
    "    else:\n",
    "        df_name = i[12:len(i) - 4]\n",
    "    print(df_name)"
   ]
  },
  {
   "cell_type": "code",
   "execution_count": null,
   "metadata": {
    "ExecuteTime": {
     "end_time": "2021-01-27T19:55:34.626095Z",
     "start_time": "2021-01-27T19:55:22.091247Z"
    }
   },
   "outputs": [],
   "source": [
    "data = {}\n",
    "for i in range(len(lista)):\n",
    "    data[lista[i]] = pd.read_csv(os.path.join(csv_path, lista[i]), sep=';')"
   ]
  },
  {
   "cell_type": "code",
   "execution_count": null,
   "metadata": {
    "ExecuteTime": {
     "end_time": "2021-01-27T19:56:10.948472Z",
     "start_time": "2021-01-27T19:56:10.619798Z"
    }
   },
   "outputs": [],
   "source": [
    "data"
   ]
  }
 ],
 "metadata": {
  "kernelspec": {
   "display_name": "Python 3",
   "language": "python",
   "name": "python3"
  },
  "toc": {
   "base_numbering": 1,
   "nav_menu": {},
   "number_sections": true,
   "sideBar": true,
   "skip_h1_title": true,
   "title_cell": "Table of Contents",
   "title_sidebar": "Contents",
   "toc_cell": true,
   "toc_position": {},
   "toc_section_display": true,
   "toc_window_display": true
  }
 },
 "nbformat": 4,
 "nbformat_minor": 4
}
