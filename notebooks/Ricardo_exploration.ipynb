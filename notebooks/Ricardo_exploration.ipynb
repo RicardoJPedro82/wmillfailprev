{
 "cells": [
  {
   "cell_type": "markdown",
   "metadata": {
    "toc": true
   },
   "source": [
    "<h1>Table of Contents<span class=\"tocSkip\"></span></h1>\n",
    "<div class=\"toc\"><ul class=\"toc-item\"><li><span><a href=\"#Packages-importing\" data-toc-modified-id=\"Packages-importing-1\"><span class=\"toc-item-num\">1&nbsp;&nbsp;</span>Packages importing</a></span></li><li><span><a href=\"#Obtain-data---Dict-with-DataSets\" data-toc-modified-id=\"Obtain-data---Dict-with-DataSets-2\"><span class=\"toc-item-num\">2&nbsp;&nbsp;</span>Obtain data - Dict with DataSets</a></span><ul class=\"toc-item\"><li><span><a href=\"#Lista-dos-nomes-dos-dataframes\" data-toc-modified-id=\"Lista-dos-nomes-dos-dataframes-2.1\"><span class=\"toc-item-num\">2.1&nbsp;&nbsp;</span>Lista dos nomes dos dataframes</a></span></li><li><span><a href=\"#Lista-com-os-Dataframes\" data-toc-modified-id=\"Lista-com-os-Dataframes-2.2\"><span class=\"toc-item-num\">2.2&nbsp;&nbsp;</span>Lista com os Dataframes</a></span></li></ul></li><li><span><a href=\"#Getting-dataframes\" data-toc-modified-id=\"Getting-dataframes-3\"><span class=\"toc-item-num\">3&nbsp;&nbsp;</span>Getting dataframes</a></span><ul class=\"toc-item\"><li><span><a href=\"#htw-failures-2016-Dataframe\" data-toc-modified-id=\"htw-failures-2016-Dataframe-3.1\"><span class=\"toc-item-num\">3.1&nbsp;&nbsp;</span>htw-failures-2016 Dataframe</a></span></li><li><span><a href=\"#Power-Curve-Dataframe\" data-toc-modified-id=\"Power-Curve-Dataframe-3.2\"><span class=\"toc-item-num\">3.2&nbsp;&nbsp;</span>Power Curve Dataframe</a></span><ul class=\"toc-item\"><li><span><a href=\"#Spliting-Columns\" data-toc-modified-id=\"Spliting-Columns-3.2.1\"><span class=\"toc-item-num\">3.2.1&nbsp;&nbsp;</span>Spliting Columns</a></span></li><li><span><a href=\"#Changing-data-types-to-float-and-int\" data-toc-modified-id=\"Changing-data-types-to-float-and-int-3.2.2\"><span class=\"toc-item-num\">3.2.2&nbsp;&nbsp;</span>Changing data types to float and int</a></span></li><li><span><a href=\"#Replacing-2-with-2000\" data-toc-modified-id=\"Replacing-2-with-2000-3.2.3\"><span class=\"toc-item-num\">3.2.3&nbsp;&nbsp;</span>Replacing 2 with 2000</a></span></li></ul></li><li><span><a href=\"#Failures-training-dataframe\" data-toc-modified-id=\"Failures-training-dataframe-3.3\"><span class=\"toc-item-num\">3.3&nbsp;&nbsp;</span>Failures training dataframe</a></span></li><li><span><a href=\"#Locations-dataframe\" data-toc-modified-id=\"Locations-dataframe-3.4\"><span class=\"toc-item-num\">3.4&nbsp;&nbsp;</span>Locations dataframe</a></span></li><li><span><a href=\"#Logs-testing-dataframe\" data-toc-modified-id=\"Logs-testing-dataframe-3.5\"><span class=\"toc-item-num\">3.5&nbsp;&nbsp;</span>Logs-testing dataframe</a></span></li><li><span><a href=\"#Logs-training-dataframe\" data-toc-modified-id=\"Logs-training-dataframe-3.6\"><span class=\"toc-item-num\">3.6&nbsp;&nbsp;</span>Logs-training dataframe</a></span></li><li><span><a href=\"#Metmast-testing-dataframe\" data-toc-modified-id=\"Metmast-testing-dataframe-3.7\"><span class=\"toc-item-num\">3.7&nbsp;&nbsp;</span>Metmast-testing dataframe</a></span></li><li><span><a href=\"#Metmast-training-dataframe\" data-toc-modified-id=\"Metmast-training-dataframe-3.8\"><span class=\"toc-item-num\">3.8&nbsp;&nbsp;</span>Metmast-training dataframe</a></span></li><li><span><a href=\"#Signals-testing-dataframe\" data-toc-modified-id=\"Signals-testing-dataframe-3.9\"><span class=\"toc-item-num\">3.9&nbsp;&nbsp;</span>Signals-testing dataframe</a></span></li><li><span><a href=\"#Signals-training-dataframe\" data-toc-modified-id=\"Signals-training-dataframe-3.10\"><span class=\"toc-item-num\">3.10&nbsp;&nbsp;</span>Signals-training dataframe</a></span></li></ul></li><li><span><a href=\"#Time-description\" data-toc-modified-id=\"Time-description-4\"><span class=\"toc-item-num\">4&nbsp;&nbsp;</span>Time description</a></span><ul class=\"toc-item\"><li><span><a href=\"#Criar-uma-coluna-de-variação-de-tempo-entre-timestamps\" data-toc-modified-id=\"Criar-uma-coluna-de-variação-de-tempo-entre-timestamps-4.1\"><span class=\"toc-item-num\">4.1&nbsp;&nbsp;</span>Criar uma coluna de variação de tempo entre timestamps</a></span></li><li><span><a href=\"#Perceber-a-variação-entre-o-os-vários-Timestamps\" data-toc-modified-id=\"Perceber-a-variação-entre-o-os-vários-Timestamps-4.2\"><span class=\"toc-item-num\">4.2&nbsp;&nbsp;</span>Perceber a variação entre o os vários Timestamps</a></span></li></ul></li><li><span><a href=\"#Novo-dataframe-com-Timestamp-completo\" data-toc-modified-id=\"Novo-dataframe-com-Timestamp-completo-5\"><span class=\"toc-item-num\">5&nbsp;&nbsp;</span>Novo dataframe com Timestamp completo</a></span></li><li><span><a href=\"#Fazer-merge-do-Dataframe-de-tempo-completo-com-os-restantes-dataframes\" data-toc-modified-id=\"Fazer-merge-do-Dataframe-de-tempo-completo-com-os-restantes-dataframes-6\"><span class=\"toc-item-num\">6&nbsp;&nbsp;</span>Fazer merge do Dataframe de tempo completo com os restantes dataframes</a></span><ul class=\"toc-item\"><li><span><a href=\"#Signals-testing-complete-dataframe\" data-toc-modified-id=\"Signals-testing-complete-dataframe-6.1\"><span class=\"toc-item-num\">6.1&nbsp;&nbsp;</span>Signals-testing complete dataframe</a></span></li></ul></li></ul></div>"
   ]
  },
  {
   "cell_type": "markdown",
   "metadata": {},
   "source": [
    "## Packages importing"
   ]
  },
  {
   "cell_type": "code",
   "execution_count": 1,
   "metadata": {
    "ExecuteTime": {
     "end_time": "2021-01-30T15:43:38.984157Z",
     "start_time": "2021-01-30T15:43:35.566824Z"
    }
   },
   "outputs": [],
   "source": [
    "%load_ext autoreload\n",
    "%autoreload 2\n",
    "import pandas as pd\n",
    "import os\n",
    "import Funtion_tools as ft\n",
    "import matplotlib.pyplot as plt\n",
    "import datetime"
   ]
  },
  {
   "cell_type": "markdown",
   "metadata": {},
   "source": [
    "## Obtain data - Dict with DataSets"
   ]
  },
  {
   "cell_type": "code",
   "execution_count": 5,
   "metadata": {
    "ExecuteTime": {
     "end_time": "2021-01-30T15:43:58.002506Z",
     "start_time": "2021-01-30T15:43:49.780491Z"
    }
   },
   "outputs": [],
   "source": [
    "ok = ft.time_df()"
   ]
  },
  {
   "cell_type": "code",
   "execution_count": 3,
   "metadata": {
    "ExecuteTime": {
     "end_time": "2021-01-30T15:43:49.242245Z",
     "start_time": "2021-01-30T15:43:49.046210Z"
    }
   },
   "outputs": [],
   "source": [
    "turbine_list = ['T01', 'T02', 'T03', 'T04', 'T05']"
   ]
  },
  {
   "cell_type": "code",
   "execution_count": 6,
   "metadata": {
    "ExecuteTime": {
     "end_time": "2021-01-30T15:43:58.186128Z",
     "start_time": "2021-01-30T15:43:58.008487Z"
    }
   },
   "outputs": [
    {
     "data": {
      "text/plain": [
       "(105121, 1)"
      ]
     },
     "execution_count": 6,
     "metadata": {},
     "output_type": "execute_result"
    }
   ],
   "source": [
    "ok.shape"
   ]
  },
  {
   "cell_type": "code",
   "execution_count": 12,
   "metadata": {
    "ExecuteTime": {
     "end_time": "2021-01-30T15:49:06.050885Z",
     "start_time": "2021-01-30T15:49:05.546519Z"
    }
   },
   "outputs": [],
   "source": [
    "ok2 = ft.complete_time_df(ok, turbine_list)"
   ]
  },
  {
   "cell_type": "code",
   "execution_count": 13,
   "metadata": {
    "ExecuteTime": {
     "end_time": "2021-01-30T15:49:07.143227Z",
     "start_time": "2021-01-30T15:49:06.979028Z"
    }
   },
   "outputs": [
    {
     "data": {
      "text/plain": [
       "(525605, 2)"
      ]
     },
     "execution_count": 13,
     "metadata": {},
     "output_type": "execute_result"
    }
   ],
   "source": [
    "ok2.shape"
   ]
  },
  {
   "cell_type": "code",
   "execution_count": 8,
   "metadata": {
    "ExecuteTime": {
     "end_time": "2021-01-30T15:47:19.953009Z",
     "start_time": "2021-01-30T15:47:19.834181Z"
    }
   },
   "outputs": [],
   "source": [
    "df_vazio = pd.DataFrame(index=[0,1], columns=['Timestamp', 'Turbine_ID'])"
   ]
  },
  {
   "cell_type": "code",
   "execution_count": 10,
   "metadata": {
    "ExecuteTime": {
     "end_time": "2021-01-30T15:47:44.361978Z",
     "start_time": "2021-01-30T15:47:44.168345Z"
    }
   },
   "outputs": [],
   "source": [
    "\n",
    "for i in turbine_list:\n",
    "    passage = ok.copy()\n",
    "    passage['Turbine_ID'] = i\n",
    "    df_vazio = pd.concat([df_vazio, passage])"
   ]
  },
  {
   "cell_type": "code",
   "execution_count": 11,
   "metadata": {
    "ExecuteTime": {
     "end_time": "2021-01-30T15:47:48.769332Z",
     "start_time": "2021-01-30T15:47:48.678574Z"
    }
   },
   "outputs": [
    {
     "data": {
      "text/plain": [
       "(525607, 2)"
      ]
     },
     "execution_count": 11,
     "metadata": {},
     "output_type": "execute_result"
    }
   ],
   "source": [
    "df_vazio.shape"
   ]
  },
  {
   "cell_type": "code",
   "execution_count": null,
   "metadata": {},
   "outputs": [],
   "source": []
  },
  {
   "cell_type": "code",
   "execution_count": null,
   "metadata": {},
   "outputs": [],
   "source": []
  },
  {
   "cell_type": "code",
   "execution_count": null,
   "metadata": {
    "ExecuteTime": {
     "end_time": "2021-01-30T15:42:01.413371Z",
     "start_time": "2021-01-30T15:41:37.256805Z"
    }
   },
   "outputs": [],
   "source": [
    "WM_data_dict = ft.get_data()"
   ]
  },
  {
   "cell_type": "code",
   "execution_count": null,
   "metadata": {
    "ExecuteTime": {
     "end_time": "2021-01-30T14:56:56.763608Z",
     "start_time": "2021-01-30T14:56:56.659588Z"
    }
   },
   "outputs": [],
   "source": [
    "# obter a lista de dataframes e forma\n",
    "for i in WM_data_dict:\n",
    "    print(i, WM_data_dict[i].shape)"
   ]
  },
  {
   "cell_type": "markdown",
   "metadata": {},
   "source": [
    "### Lista dos nomes dos dataframes"
   ]
  },
  {
   "cell_type": "code",
   "execution_count": null,
   "metadata": {
    "ExecuteTime": {
     "end_time": "2021-01-30T14:56:56.855547Z",
     "start_time": "2021-01-30T14:56:56.766602Z"
    }
   },
   "outputs": [],
   "source": [
    "df_names = []\n",
    "for i in WM_data_dict.keys():\n",
    "    df_names.append(i)\n",
    "df_names"
   ]
  },
  {
   "cell_type": "markdown",
   "metadata": {},
   "source": [
    "### Lista com os Dataframes"
   ]
  },
  {
   "cell_type": "code",
   "execution_count": null,
   "metadata": {
    "ExecuteTime": {
     "end_time": "2021-01-30T14:56:56.965716Z",
     "start_time": "2021-01-30T14:56:56.861538Z"
    }
   },
   "outputs": [],
   "source": [
    "df_list = []\n",
    "for i in WM_data_dict:\n",
    "    df_list.append(WM_data_dict[i])"
   ]
  },
  {
   "cell_type": "markdown",
   "metadata": {},
   "source": [
    "## Getting dataframes "
   ]
  },
  {
   "cell_type": "markdown",
   "metadata": {},
   "source": [
    "### htw-failures-2016 Dataframe"
   ]
  },
  {
   "cell_type": "code",
   "execution_count": null,
   "metadata": {
    "ExecuteTime": {
     "end_time": "2021-01-30T14:17:52.775782Z",
     "start_time": "2021-01-30T14:17:52.710957Z"
    }
   },
   "outputs": [],
   "source": [
    "htw_failures_2016_df = WM_data_dict['htw_failures_2016_df'].copy()\n",
    "htw_failures_2016_df.head()"
   ]
  },
  {
   "cell_type": "markdown",
   "metadata": {},
   "source": [
    "### Power Curve Dataframe"
   ]
  },
  {
   "cell_type": "code",
   "execution_count": null,
   "metadata": {
    "ExecuteTime": {
     "end_time": "2021-01-30T14:49:51.650532Z",
     "start_time": "2021-01-30T14:49:51.316888Z"
    }
   },
   "outputs": [],
   "source": [
    "Power_curve_df = WM_data_dict['Power_curve_df'].copy()\n",
    "Power_curve_df.head()"
   ]
  },
  {
   "cell_type": "code",
   "execution_count": null,
   "metadata": {
    "ExecuteTime": {
     "end_time": "2021-01-30T14:53:42.926468Z",
     "start_time": "2021-01-30T14:53:42.762906Z"
    },
    "scrolled": true
   },
   "outputs": [],
   "source": [
    "ft.power_curve_trans(WM_data_dict)"
   ]
  },
  {
   "cell_type": "markdown",
   "metadata": {},
   "source": [
    "#### Spliting Columns"
   ]
  },
  {
   "cell_type": "code",
   "execution_count": null,
   "metadata": {
    "ExecuteTime": {
     "end_time": "2021-01-30T14:49:57.935155Z",
     "start_time": "2021-01-30T14:49:57.790726Z"
    }
   },
   "outputs": [],
   "source": [
    "Power_curve_df = pd.DataFrame(Power_curve_df['Wind speed (m/s),Power (kW)'].str.split(',',1).tolist(),\n",
    "                                 columns = ['windspeed(m_s)','power(kw)'])"
   ]
  },
  {
   "cell_type": "code",
   "execution_count": null,
   "metadata": {
    "ExecuteTime": {
     "end_time": "2021-01-30T14:49:59.512801Z",
     "start_time": "2021-01-30T14:49:59.399529Z"
    }
   },
   "outputs": [],
   "source": [
    "Power_curve_df.head()"
   ]
  },
  {
   "cell_type": "markdown",
   "metadata": {},
   "source": [
    "#### Changing data types to float and int"
   ]
  },
  {
   "cell_type": "code",
   "execution_count": null,
   "metadata": {
    "ExecuteTime": {
     "end_time": "2021-01-30T13:19:32.886706Z",
     "start_time": "2021-01-30T13:19:32.568942Z"
    }
   },
   "outputs": [],
   "source": [
    "Power_curve_df['windspeed(m_s)'] = Power_curve_df['windspeed(m_s)'].astype('float')\n",
    "Power_curve_df['power(kw)'] = Power_curve_df['power(kw)'].astype('int')"
   ]
  },
  {
   "cell_type": "markdown",
   "metadata": {
    "ExecuteTime": {
     "end_time": "2021-01-27T21:04:20.627318Z",
     "start_time": "2021-01-27T21:04:20.608824Z"
    }
   },
   "source": [
    "#### Replacing 2 with 2000"
   ]
  },
  {
   "cell_type": "code",
   "execution_count": null,
   "metadata": {
    "ExecuteTime": {
     "end_time": "2021-01-30T13:19:33.176919Z",
     "start_time": "2021-01-30T13:19:32.898666Z"
    }
   },
   "outputs": [],
   "source": [
    "Power_curve_df['power(kw)'].replace(to_replace=2, value=2000, inplace=True)"
   ]
  },
  {
   "cell_type": "code",
   "execution_count": null,
   "metadata": {
    "ExecuteTime": {
     "end_time": "2021-01-30T13:19:33.505403Z",
     "start_time": "2021-01-30T13:19:33.187893Z"
    }
   },
   "outputs": [],
   "source": [
    "Power_curve_df.head()"
   ]
  },
  {
   "cell_type": "code",
   "execution_count": null,
   "metadata": {
    "ExecuteTime": {
     "end_time": "2021-01-30T13:19:33.817180Z",
     "start_time": "2021-01-30T13:19:33.515375Z"
    }
   },
   "outputs": [],
   "source": [
    "df_list[1] = Power_curve_df"
   ]
  },
  {
   "cell_type": "markdown",
   "metadata": {},
   "source": [
    "### Failures training dataframe"
   ]
  },
  {
   "cell_type": "code",
   "execution_count": null,
   "metadata": {
    "ExecuteTime": {
     "end_time": "2021-01-30T12:23:49.492506Z",
     "start_time": "2021-01-30T12:23:49.413176Z"
    }
   },
   "outputs": [],
   "source": [
    "failures_training_df = WM_data_dict['failures_training_df'].copy()\n",
    "failures_training_df.head()"
   ]
  },
  {
   "cell_type": "markdown",
   "metadata": {},
   "source": [
    "### Locations dataframe"
   ]
  },
  {
   "cell_type": "code",
   "execution_count": null,
   "metadata": {
    "ExecuteTime": {
     "end_time": "2021-01-30T12:23:49.821118Z",
     "start_time": "2021-01-30T12:23:49.733841Z"
    }
   },
   "outputs": [],
   "source": [
    "locations_df = WM_data_dict['locations_df']\n",
    "locations_df.head()"
   ]
  },
  {
   "cell_type": "markdown",
   "metadata": {
    "ExecuteTime": {
     "end_time": "2021-01-27T23:13:26.392082Z",
     "start_time": "2021-01-27T23:13:26.375304Z"
    }
   },
   "source": [
    "### Logs-testing dataframe"
   ]
  },
  {
   "cell_type": "code",
   "execution_count": null,
   "metadata": {
    "ExecuteTime": {
     "end_time": "2021-01-30T14:47:27.267732Z",
     "start_time": "2021-01-30T14:47:27.187927Z"
    }
   },
   "outputs": [],
   "source": [
    "exp2 = WM_data_dict['logs_testing_df'].copy()"
   ]
  },
  {
   "cell_type": "code",
   "execution_count": null,
   "metadata": {
    "ExecuteTime": {
     "end_time": "2021-01-30T14:48:12.324436Z",
     "start_time": "2021-01-30T14:48:12.255110Z"
    }
   },
   "outputs": [],
   "source": [
    "exp2."
   ]
  },
  {
   "cell_type": "code",
   "execution_count": null,
   "metadata": {
    "ExecuteTime": {
     "end_time": "2021-01-30T14:48:00.141513Z",
     "start_time": "2021-01-30T14:48:00.053761Z"
    }
   },
   "outputs": [],
   "source": [
    "exp22 = ft.logs_cols_uniform(exp2)\n",
    "exp22.head()"
   ]
  },
  {
   "cell_type": "code",
   "execution_count": null,
   "metadata": {
    "ExecuteTime": {
     "end_time": "2021-01-30T12:23:50.147009Z",
     "start_time": "2021-01-30T12:23:50.048875Z"
    }
   },
   "outputs": [],
   "source": [
    "logs_testing_df = WM_data_dict['logs_testing_df'].copy()\n",
    "logs_testing_df.rename(columns={'TimeDetected': 'Timestamp', 'UnitTitle':'Turbine_ID'}, inplace=True)"
   ]
  },
  {
   "cell_type": "code",
   "execution_count": null,
   "metadata": {
    "ExecuteTime": {
     "end_time": "2021-01-30T12:23:50.303523Z",
     "start_time": "2021-01-30T12:23:50.203790Z"
    }
   },
   "outputs": [],
   "source": [
    "logs_testing_df.head(5)"
   ]
  },
  {
   "cell_type": "code",
   "execution_count": null,
   "metadata": {
    "ExecuteTime": {
     "end_time": "2021-01-30T12:23:50.724815Z",
     "start_time": "2021-01-30T12:23:50.382747Z"
    }
   },
   "outputs": [],
   "source": [
    "ft.max_time_intervals(logs_testing_df, 'Timestamp')"
   ]
  },
  {
   "cell_type": "code",
   "execution_count": null,
   "metadata": {
    "ExecuteTime": {
     "end_time": "2021-01-30T12:23:50.849005Z",
     "start_time": "2021-01-30T12:23:50.730322Z"
    }
   },
   "outputs": [],
   "source": [
    "logs_testing_df['Timestamp'] = pd.to_datetime(logs_testing_df['Timestamp'], unit='ms')"
   ]
  },
  {
   "cell_type": "code",
   "execution_count": null,
   "metadata": {
    "ExecuteTime": {
     "end_time": "2021-01-30T12:23:50.972676Z",
     "start_time": "2021-01-30T12:23:50.854988Z"
    }
   },
   "outputs": [],
   "source": [
    "logs_testing_df['Timestamp'] = logs_testing_df['Timestamp'].dt.tz_localize(None)"
   ]
  },
  {
   "cell_type": "code",
   "execution_count": null,
   "metadata": {
    "ExecuteTime": {
     "end_time": "2021-01-30T12:23:51.113299Z",
     "start_time": "2021-01-30T12:23:50.977662Z"
    }
   },
   "outputs": [],
   "source": [
    "logs_testing_df.head()"
   ]
  },
  {
   "cell_type": "code",
   "execution_count": null,
   "metadata": {
    "ExecuteTime": {
     "end_time": "2021-01-30T12:23:51.237045Z",
     "start_time": "2021-01-30T12:23:51.117877Z"
    }
   },
   "outputs": [],
   "source": [
    "df_list[4] = logs_testing_df"
   ]
  },
  {
   "cell_type": "markdown",
   "metadata": {},
   "source": [
    "### Logs-training dataframe"
   ]
  },
  {
   "cell_type": "code",
   "execution_count": null,
   "metadata": {
    "ExecuteTime": {
     "end_time": "2021-01-30T12:23:51.500598Z",
     "start_time": "2021-01-30T12:23:51.340747Z"
    }
   },
   "outputs": [],
   "source": [
    "logs_training_df = WM_data_dict['logs_training_df'].copy()\n",
    "logs_training_df.rename(columns={'TimeDetected': 'Timestamp', 'UnitTitle':'Turbine_ID'}, inplace=True)\n",
    "logs_training_df.head()"
   ]
  },
  {
   "cell_type": "code",
   "execution_count": null,
   "metadata": {
    "ExecuteTime": {
     "end_time": "2021-01-30T12:23:52.375752Z",
     "start_time": "2021-01-30T12:23:51.505586Z"
    }
   },
   "outputs": [],
   "source": [
    "logs_training_df['Timestamp'] = pd.to_datetime(logs_training_df['Timestamp'], unit='ns')"
   ]
  },
  {
   "cell_type": "code",
   "execution_count": null,
   "metadata": {
    "ExecuteTime": {
     "end_time": "2021-01-30T12:23:52.501118Z",
     "start_time": "2021-01-30T12:23:52.379740Z"
    }
   },
   "outputs": [],
   "source": [
    "logs_training_df['Timestamp'] = logs_training_df['Timestamp'].dt.tz_localize(None)"
   ]
  },
  {
   "cell_type": "code",
   "execution_count": null,
   "metadata": {
    "ExecuteTime": {
     "end_time": "2021-01-30T12:23:52.643734Z",
     "start_time": "2021-01-30T12:23:52.506104Z"
    }
   },
   "outputs": [],
   "source": [
    "logs_training_df.head()"
   ]
  },
  {
   "cell_type": "code",
   "execution_count": null,
   "metadata": {
    "ExecuteTime": {
     "end_time": "2021-01-30T12:23:52.768400Z",
     "start_time": "2021-01-30T12:23:52.648720Z"
    }
   },
   "outputs": [],
   "source": [
    "df_list[5] = logs_training_df"
   ]
  },
  {
   "cell_type": "markdown",
   "metadata": {},
   "source": [
    "### Metmast-testing dataframe"
   ]
  },
  {
   "cell_type": "code",
   "execution_count": null,
   "metadata": {
    "ExecuteTime": {
     "end_time": "2021-01-30T12:23:52.954901Z",
     "start_time": "2021-01-30T12:23:52.772391Z"
    },
    "scrolled": true
   },
   "outputs": [],
   "source": [
    "metmast_testing_df = WM_data_dict['metmast_testing_df'].copy()\n",
    "metmast_testing_df.head()"
   ]
  },
  {
   "cell_type": "code",
   "execution_count": null,
   "metadata": {
    "ExecuteTime": {
     "end_time": "2021-01-30T12:23:53.158845Z",
     "start_time": "2021-01-30T12:23:52.961884Z"
    }
   },
   "outputs": [],
   "source": [
    "metmast_testing_df['Timestamp'] = pd.to_datetime(metmast_testing_df['Timestamp'], unit='ns')"
   ]
  },
  {
   "cell_type": "code",
   "execution_count": null,
   "metadata": {
    "ExecuteTime": {
     "end_time": "2021-01-30T12:23:53.300466Z",
     "start_time": "2021-01-30T12:23:53.163830Z"
    }
   },
   "outputs": [],
   "source": [
    "metmast_testing_df['Timestamp'] = metmast_testing_df['Timestamp'].dt.tz_localize(None)"
   ]
  },
  {
   "cell_type": "code",
   "execution_count": null,
   "metadata": {
    "ExecuteTime": {
     "end_time": "2021-01-30T12:23:53.474511Z",
     "start_time": "2021-01-30T12:23:53.305452Z"
    }
   },
   "outputs": [],
   "source": [
    "metmast_testing_df.head()"
   ]
  },
  {
   "cell_type": "code",
   "execution_count": null,
   "metadata": {
    "ExecuteTime": {
     "end_time": "2021-01-30T12:23:53.598700Z",
     "start_time": "2021-01-30T12:23:53.479499Z"
    }
   },
   "outputs": [],
   "source": [
    "df_list[6] = logs_training_df"
   ]
  },
  {
   "cell_type": "markdown",
   "metadata": {},
   "source": [
    "### Metmast-training dataframe"
   ]
  },
  {
   "cell_type": "code",
   "execution_count": null,
   "metadata": {
    "ExecuteTime": {
     "end_time": "2021-01-30T12:23:53.944295Z",
     "start_time": "2021-01-30T12:23:53.603688Z"
    }
   },
   "outputs": [],
   "source": [
    "metmast_training_df = WM_data_dict['metmast_training_df'].copy()\n",
    "metmast_training_df"
   ]
  },
  {
   "cell_type": "code",
   "execution_count": null,
   "metadata": {
    "ExecuteTime": {
     "end_time": "2021-01-30T12:23:54.283387Z",
     "start_time": "2021-01-30T12:23:53.950276Z"
    }
   },
   "outputs": [],
   "source": [
    "ft.max_time_intervals(metmast_training_df, 'Timestamp')"
   ]
  },
  {
   "cell_type": "code",
   "execution_count": null,
   "metadata": {
    "ExecuteTime": {
     "end_time": "2021-01-30T12:23:54.408052Z",
     "start_time": "2021-01-30T12:23:54.289378Z"
    }
   },
   "outputs": [],
   "source": [
    "metmast_training_df['Timestamp'] = pd.to_datetime(metmast_training_df['Timestamp'], unit='ms')"
   ]
  },
  {
   "cell_type": "code",
   "execution_count": null,
   "metadata": {
    "ExecuteTime": {
     "end_time": "2021-01-30T12:23:54.530728Z",
     "start_time": "2021-01-30T12:23:54.413039Z"
    }
   },
   "outputs": [],
   "source": [
    "metmast_training_df['Timestamp'] = metmast_training_df['Timestamp'].dt.tz_localize(None)"
   ]
  },
  {
   "cell_type": "code",
   "execution_count": null,
   "metadata": {
    "ExecuteTime": {
     "end_time": "2021-01-30T12:23:54.688304Z",
     "start_time": "2021-01-30T12:23:54.534717Z"
    }
   },
   "outputs": [],
   "source": [
    "metmast_training_df.head(5)"
   ]
  },
  {
   "cell_type": "code",
   "execution_count": null,
   "metadata": {
    "ExecuteTime": {
     "end_time": "2021-01-30T12:23:54.813967Z",
     "start_time": "2021-01-30T12:23:54.692295Z"
    }
   },
   "outputs": [],
   "source": [
    "df_list[6] = logs_training_df"
   ]
  },
  {
   "cell_type": "markdown",
   "metadata": {
    "ExecuteTime": {
     "end_time": "2021-01-27T23:22:29.845425Z",
     "start_time": "2021-01-27T23:22:29.840438Z"
    }
   },
   "source": [
    "### Signals-testing dataframe"
   ]
  },
  {
   "cell_type": "code",
   "execution_count": null,
   "metadata": {
    "ExecuteTime": {
     "end_time": "2021-01-30T12:23:55.002092Z",
     "start_time": "2021-01-30T12:23:54.818957Z"
    }
   },
   "outputs": [],
   "source": [
    "signals_testing_df = WM_data_dict['signals_testing_df'].copy()\n",
    "# signals_testing_df = si\n",
    "signals_testing_df.head()"
   ]
  },
  {
   "cell_type": "code",
   "execution_count": null,
   "metadata": {
    "ExecuteTime": {
     "end_time": "2021-01-30T12:23:55.362669Z",
     "start_time": "2021-01-30T12:23:55.006080Z"
    }
   },
   "outputs": [],
   "source": [
    "signals_testing_df['Timestamp'] = pd.to_datetime(signals_testing_df['Timestamp'], unit='ns')"
   ]
  },
  {
   "cell_type": "code",
   "execution_count": null,
   "metadata": {
    "ExecuteTime": {
     "end_time": "2021-01-30T12:23:55.487819Z",
     "start_time": "2021-01-30T12:23:55.366656Z"
    }
   },
   "outputs": [],
   "source": [
    "signals_testing_df.Timestamp = signals_testing_df.Timestamp.dt.tz_localize(None)"
   ]
  },
  {
   "cell_type": "code",
   "execution_count": null,
   "metadata": {
    "ExecuteTime": {
     "end_time": "2021-01-30T12:23:55.671328Z",
     "start_time": "2021-01-30T12:23:55.491806Z"
    }
   },
   "outputs": [],
   "source": [
    "signals_testing_df.head()"
   ]
  },
  {
   "cell_type": "code",
   "execution_count": null,
   "metadata": {
    "ExecuteTime": {
     "end_time": "2021-01-30T12:23:55.795993Z",
     "start_time": "2021-01-30T12:23:55.676314Z"
    }
   },
   "outputs": [],
   "source": [
    "df_list[7] = signals_testing_df"
   ]
  },
  {
   "cell_type": "markdown",
   "metadata": {
    "ExecuteTime": {
     "end_time": "2021-01-27T23:23:31.025644Z",
     "start_time": "2021-01-27T23:23:31.008687Z"
    }
   },
   "source": [
    "### Signals-training dataframe"
   ]
  },
  {
   "cell_type": "code",
   "execution_count": null,
   "metadata": {
    "ExecuteTime": {
     "end_time": "2021-01-30T12:23:56.090210Z",
     "start_time": "2021-01-30T12:23:55.799982Z"
    }
   },
   "outputs": [],
   "source": [
    "signals_training_df = WM_data_dict['signals_training_df'].copy()\n",
    "signals_training_df.head()"
   ]
  },
  {
   "cell_type": "code",
   "execution_count": null,
   "metadata": {
    "ExecuteTime": {
     "end_time": "2021-01-30T12:23:56.257770Z",
     "start_time": "2021-01-30T12:23:56.095194Z"
    }
   },
   "outputs": [],
   "source": [
    "signals_training_df['Timestamp'] = pd.to_datetime(signals_testing_df['Timestamp'], unit='ns')"
   ]
  },
  {
   "cell_type": "code",
   "execution_count": null,
   "metadata": {
    "ExecuteTime": {
     "end_time": "2021-01-30T12:23:56.397398Z",
     "start_time": "2021-01-30T12:23:56.262784Z"
    }
   },
   "outputs": [],
   "source": [
    "signals_training_df.Timestamp = signals_training_df.Timestamp.dt.tz_localize(None)"
   ]
  },
  {
   "cell_type": "code",
   "execution_count": null,
   "metadata": {
    "ExecuteTime": {
     "end_time": "2021-01-30T12:23:56.587414Z",
     "start_time": "2021-01-30T12:23:56.400390Z"
    }
   },
   "outputs": [],
   "source": [
    "signals_training_df.head()"
   ]
  },
  {
   "cell_type": "code",
   "execution_count": null,
   "metadata": {
    "ExecuteTime": {
     "end_time": "2021-01-30T12:23:56.710595Z",
     "start_time": "2021-01-30T12:23:56.591403Z"
    }
   },
   "outputs": [],
   "source": [
    "df_list[8] = signals_training_df"
   ]
  },
  {
   "cell_type": "markdown",
   "metadata": {},
   "source": [
    "## Time description"
   ]
  },
  {
   "cell_type": "markdown",
   "metadata": {},
   "source": [
    "### Criar uma coluna de variação de tempo entre timestamps"
   ]
  },
  {
   "cell_type": "code",
   "execution_count": null,
   "metadata": {
    "ExecuteTime": {
     "end_time": "2021-01-30T12:24:17.142837Z",
     "start_time": "2021-01-30T12:24:16.446416Z"
    }
   },
   "outputs": [],
   "source": [
    "for i, df in enumerate(df_list[-6:]):\n",
    "    ft.time_delta(df, 'Timestamp')\n",
    "    print(f'Inserir o Time Delta no dataframe {df_names[-6+i]}')"
   ]
  },
  {
   "cell_type": "markdown",
   "metadata": {},
   "source": [
    "### Perceber a variação entre o os vários Timestamps"
   ]
  },
  {
   "cell_type": "code",
   "execution_count": null,
   "metadata": {
    "ExecuteTime": {
     "end_time": "2021-01-30T12:24:19.946656Z",
     "start_time": "2021-01-30T12:24:18.449791Z"
    }
   },
   "outputs": [],
   "source": [
    "plt.figure(figsize=(16,9))\n",
    "for i, df in enumerate(df_list[-6:]):\n",
    "    plt.subplot(2,3,i+1)\n",
    "    plt.title(df_names[-6+i])\n",
    "    plt.plot(df.Timestamp, df.delta)"
   ]
  },
  {
   "cell_type": "code",
   "execution_count": null,
   "metadata": {
    "ExecuteTime": {
     "end_time": "2021-01-30T12:24:20.040408Z",
     "start_time": "2021-01-30T12:24:19.950650Z"
    }
   },
   "outputs": [],
   "source": [
    "signals_training_df.delta.value_counts()"
   ]
  },
  {
   "cell_type": "code",
   "execution_count": null,
   "metadata": {
    "ExecuteTime": {
     "end_time": "2021-01-30T12:24:20.802185Z",
     "start_time": "2021-01-30T12:24:20.717406Z"
    }
   },
   "outputs": [],
   "source": [
    "metmast_training_df.head()"
   ]
  },
  {
   "cell_type": "markdown",
   "metadata": {
    "ExecuteTime": {
     "end_time": "2021-01-28T21:40:59.366634Z",
     "start_time": "2021-01-28T21:40:59.301213Z"
    }
   },
   "source": [
    "## Novo dataframe com Timestamp completo"
   ]
  },
  {
   "cell_type": "code",
   "execution_count": null,
   "metadata": {
    "ExecuteTime": {
     "end_time": "2021-01-30T12:24:23.881448Z",
     "start_time": "2021-01-30T12:24:23.785923Z"
    }
   },
   "outputs": [],
   "source": [
    "# Verificação de datas de início e fim para todos os datasets\n",
    "for i, df in enumerate(df_list[-6:]):\n",
    "    print(f'No df {df_names[-6+i]} a data mínima é de {df.Timestamp.min()} e a data máxima é {df.Timestamp.max()}')"
   ]
  },
  {
   "cell_type": "code",
   "execution_count": null,
   "metadata": {
    "ExecuteTime": {
     "end_time": "2021-01-30T12:24:27.750785Z",
     "start_time": "2021-01-30T12:24:24.569004Z"
    }
   },
   "outputs": [],
   "source": [
    "# Criação de um Dataframe com todos os timestamps\n",
    "time_list = []\n",
    "for i in range((365*2*24*6)+1):\n",
    "    time_list.append(pd.datetime(2016,1,1)+pd.Timedelta(minutes=10)*i)\n",
    "time_df = pd.DataFrame(time_list, columns={'Timestamp'})\n",
    "time_df.head(2)"
   ]
  },
  {
   "cell_type": "code",
   "execution_count": null,
   "metadata": {
    "ExecuteTime": {
     "end_time": "2021-01-30T12:49:23.334285Z",
     "start_time": "2021-01-30T12:49:23.263471Z"
    }
   },
   "outputs": [],
   "source": [
    "x = datetime.datetime(2018, 6, 1)\n",
    "x"
   ]
  },
  {
   "cell_type": "code",
   "execution_count": null,
   "metadata": {
    "ExecuteTime": {
     "end_time": "2021-01-30T12:52:19.980902Z",
     "start_time": "2021-01-30T12:52:19.914052Z"
    }
   },
   "outputs": [],
   "source": [
    "datetime.datetime(2020, 1, 1, 15, 15, 15) "
   ]
  },
  {
   "cell_type": "code",
   "execution_count": null,
   "metadata": {
    "ExecuteTime": {
     "end_time": "2021-01-30T12:24:27.843496Z",
     "start_time": "2021-01-30T12:24:27.752780Z"
    }
   },
   "outputs": [],
   "source": [
    "# primeiro e último item do Dataframe de tempo\n",
    "time_df.Timestamp[0], time_df.Timestamp[time_df.shape[0]-1]"
   ]
  },
  {
   "cell_type": "code",
   "execution_count": null,
   "metadata": {
    "ExecuteTime": {
     "end_time": "2021-01-30T12:24:27.951207Z",
     "start_time": "2021-01-30T12:24:27.846488Z"
    }
   },
   "outputs": [],
   "source": [
    "# criação da lista de turbinas\n",
    "turbine_list = [i for i in signals_training_df.Turbine_ID.unique()]\n",
    "turbine_list"
   ]
  },
  {
   "cell_type": "code",
   "execution_count": null,
   "metadata": {
    "ExecuteTime": {
     "end_time": "2021-01-30T12:24:28.044071Z",
     "start_time": "2021-01-30T12:24:27.954201Z"
    }
   },
   "outputs": [],
   "source": [
    "#Criação de Dataframe vazio para fazer append\n",
    "time_turb_df = pd.DataFrame(index=[0, 1], columns=['Timestamp', 'Turbine_ID'])"
   ]
  },
  {
   "cell_type": "code",
   "execution_count": null,
   "metadata": {
    "ExecuteTime": {
     "end_time": "2021-01-30T12:24:28.170726Z",
     "start_time": "2021-01-30T12:24:28.047054Z"
    }
   },
   "outputs": [],
   "source": [
    "# Multiplicar o intervalo de tempo pelas turbinas\n",
    "for i in turbine_list:\n",
    "    passage = time_df.copy()\n",
    "    passage['Turbine_ID'] = i\n",
    "    time_turb_df = pd.concat([time_turb_df, passage])\n",
    "    print(f'Appending turbine {i} to time dataframe')"
   ]
  },
  {
   "cell_type": "code",
   "execution_count": null,
   "metadata": {
    "ExecuteTime": {
     "end_time": "2021-01-30T12:24:28.356228Z",
     "start_time": "2021-01-30T12:24:28.172716Z"
    }
   },
   "outputs": [],
   "source": [
    "# Corrigir o Dataframe\n",
    "time_turb_df = time_turb_df.dropna().reset_index(drop='index')\n",
    "time_turb_df.head(5)"
   ]
  },
  {
   "cell_type": "markdown",
   "metadata": {},
   "source": [
    "## Fazer merge do Dataframe de tempo completo com os restantes dataframes"
   ]
  },
  {
   "cell_type": "markdown",
   "metadata": {},
   "source": [
    "### Signals-testing complete dataframe"
   ]
  },
  {
   "cell_type": "code",
   "execution_count": null,
   "metadata": {
    "ExecuteTime": {
     "end_time": "2021-01-30T12:23:56.873192Z",
     "start_time": "2021-01-30T12:23:56.637Z"
    }
   },
   "outputs": [],
   "source": [
    "# Merge\n",
    "signals_test_comp_df = pd.merge(time_turb_df, signals_testing_df, how='left', on=['Timestamp', 'Turbine_ID'] )"
   ]
  },
  {
   "cell_type": "code",
   "execution_count": null,
   "metadata": {
    "ExecuteTime": {
     "end_time": "2021-01-30T12:23:56.875186Z",
     "start_time": "2021-01-30T12:23:56.721Z"
    }
   },
   "outputs": [],
   "source": [
    "# Lista de nomes do dataframe\n",
    "lista_campos = [i for i in signals_testing_df.keys()]\n",
    "lista_campos"
   ]
  },
  {
   "cell_type": "code",
   "execution_count": null,
   "metadata": {
    "ExecuteTime": {
     "end_time": "2021-01-30T13:00:47.340794Z",
     "start_time": "2021-01-30T13:00:47.275968Z"
    }
   },
   "outputs": [],
   "source": [
    "# Determinação das datas usadas nos ficheiros\n",
    "min_date = signals_testing_df.Timestamp.min()\n",
    "max_date = signals_testing_df.Timestamp.max()\n",
    "min_date, max_date\n",
    "\n"
   ]
  },
  {
   "cell_type": "code",
   "execution_count": null,
   "metadata": {
    "ExecuteTime": {
     "end_time": "2021-01-30T12:46:34.674709Z",
     "start_time": "2021-01-30T12:46:34.607165Z"
    }
   },
   "outputs": [],
   "source": [
    "# Recriação do periodo de tempo do ficheiro\n",
    "signals_test_comp_df = signals_test_comp_df.loc[signals_test_comp_df['Timestamp'] >= min_date, lista_campos]"
   ]
  },
  {
   "cell_type": "code",
   "execution_count": null,
   "metadata": {
    "ExecuteTime": {
     "end_time": "2021-01-30T12:23:57.156436Z",
     "start_time": "2021-01-30T12:23:56.998Z"
    }
   },
   "outputs": [],
   "source": [
    "signals_test_comp_df.shape"
   ]
  },
  {
   "cell_type": "code",
   "execution_count": null,
   "metadata": {
    "ExecuteTime": {
     "end_time": "2021-01-30T12:23:57.159425Z",
     "start_time": "2021-01-30T12:23:57.076Z"
    }
   },
   "outputs": [],
   "source": [
    "signals_test_comp_df.isna().sum()"
   ]
  },
  {
   "cell_type": "code",
   "execution_count": null,
   "metadata": {
    "ExecuteTime": {
     "end_time": "2021-01-30T12:39:24.012071Z",
     "start_time": "2021-01-30T12:39:23.936273Z"
    }
   },
   "outputs": [],
   "source": [
    "time_turb_df.shape"
   ]
  },
  {
   "cell_type": "code",
   "execution_count": null,
   "metadata": {
    "ExecuteTime": {
     "end_time": "2021-01-30T12:23:57.406323Z",
     "start_time": "2021-01-30T12:23:57.287Z"
    }
   },
   "outputs": [],
   "source": [
    "new_df = pd.merge(time_turb_df, signals_training_df, how='left', on=['Timestamp', 'Turbine_ID'] )"
   ]
  },
  {
   "cell_type": "code",
   "execution_count": null,
   "metadata": {
    "ExecuteTime": {
     "end_time": "2021-01-30T12:23:57.410313Z",
     "start_time": "2021-01-30T12:23:57.362Z"
    }
   },
   "outputs": [],
   "source": [
    "new_df.shape"
   ]
  },
  {
   "cell_type": "code",
   "execution_count": null,
   "metadata": {
    "ExecuteTime": {
     "end_time": "2021-01-30T12:23:57.638704Z",
     "start_time": "2021-01-30T12:23:57.523013Z"
    }
   },
   "outputs": [],
   "source": [
    "lllll = new_df.keys()"
   ]
  },
  {
   "cell_type": "code",
   "execution_count": null,
   "metadata": {
    "ExecuteTime": {
     "end_time": "2021-01-30T12:23:57.642691Z",
     "start_time": "2021-01-30T12:23:57.520Z"
    }
   },
   "outputs": [],
   "source": [
    "new_df.loc[new_df['Timestamp'] > '2017-09-01 00:00:00', lllll]"
   ]
  },
  {
   "cell_type": "code",
   "execution_count": null,
   "metadata": {
    "ExecuteTime": {
     "end_time": "2021-01-30T12:23:57.644685Z",
     "start_time": "2021-01-30T12:23:57.603Z"
    }
   },
   "outputs": [],
   "source": [
    "(30+31+30+31)*5*24*6"
   ]
  },
  {
   "cell_type": "code",
   "execution_count": null,
   "metadata": {
    "ExecuteTime": {
     "end_time": "2021-01-30T13:04:30.781550Z",
     "start_time": "2021-01-30T13:04:30.640410Z"
    }
   },
   "outputs": [],
   "source": [
    "new_df.isna().sum()"
   ]
  },
  {
   "cell_type": "code",
   "execution_count": null,
   "metadata": {
    "ExecuteTime": {
     "end_time": "2021-01-30T13:02:20.799676Z",
     "start_time": "2021-01-30T13:02:17.864842Z"
    }
   },
   "outputs": [],
   "source": [
    "exp1 = ft.complete_time_df(turbine_list=turbine_list)"
   ]
  },
  {
   "cell_type": "code",
   "execution_count": null,
   "metadata": {
    "ExecuteTime": {
     "end_time": "2021-01-30T13:06:12.343307Z",
     "start_time": "2021-01-30T13:06:08.113044Z"
    }
   },
   "outputs": [],
   "source": [
    "ft.merge_df(exp1, signals_testing_df, date_after=min_date)"
   ]
  },
  {
   "cell_type": "code",
   "execution_count": null,
   "metadata": {
    "ExecuteTime": {
     "end_time": "2021-01-30T13:22:34.799622Z",
     "start_time": "2021-01-30T13:22:26.371444Z"
    }
   },
   "outputs": [],
   "source": [
    "ft.complete_time_df(['T01'])"
   ]
  },
  {
   "cell_type": "code",
   "execution_count": null,
   "metadata": {},
   "outputs": [],
   "source": []
  },
  {
   "cell_type": "code",
   "execution_count": null,
   "metadata": {},
   "outputs": [],
   "source": []
  },
  {
   "cell_type": "code",
   "execution_count": null,
   "metadata": {},
   "outputs": [],
   "source": []
  },
  {
   "cell_type": "code",
   "execution_count": null,
   "metadata": {},
   "outputs": [],
   "source": []
  },
  {
   "cell_type": "code",
   "execution_count": null,
   "metadata": {},
   "outputs": [],
   "source": []
  }
 ],
 "metadata": {
  "kernelspec": {
   "display_name": "Python 3",
   "language": "python",
   "name": "python3"
  },
  "language_info": {
   "codemirror_mode": {
    "name": "ipython",
    "version": 3
   },
   "file_extension": ".py",
   "mimetype": "text/x-python",
   "name": "python",
   "nbconvert_exporter": "python",
   "pygments_lexer": "ipython3",
   "version": "3.8.5"
  },
  "toc": {
   "base_numbering": 1,
   "nav_menu": {},
   "number_sections": true,
   "sideBar": true,
   "skip_h1_title": true,
   "title_cell": "Table of Contents",
   "title_sidebar": "Contents",
   "toc_cell": true,
   "toc_position": {
    "height": "797px",
    "left": "1086px",
    "top": "386px",
    "width": "260px"
   },
   "toc_section_display": true,
   "toc_window_display": true
  }
 },
 "nbformat": 4,
 "nbformat_minor": 4
}
