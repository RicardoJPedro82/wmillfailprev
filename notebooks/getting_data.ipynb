{
 "cells": [
  {
   "cell_type": "code",
   "execution_count": 1,
   "id": "textile-plumbing",
   "metadata": {
    "ExecuteTime": {
     "end_time": "2021-02-06T14:10:50.605818Z",
     "start_time": "2021-02-06T14:10:49.478073Z"
    }
   },
   "outputs": [],
   "source": [
    "import pandas as pd\n",
    "import numpy as np\n",
    "import seaborn as sns\n",
    "import matplotlib.pyplot as plt\n",
    "import datetime"
   ]
  },
  {
   "cell_type": "code",
   "execution_count": 2,
   "id": "thrown-proportion",
   "metadata": {
    "ExecuteTime": {
     "end_time": "2021-02-06T12:12:09.060781Z",
     "start_time": "2021-02-06T12:12:09.052971Z"
    }
   },
   "outputs": [],
   "source": [
    "def get_data_and_first_cleaning():\n",
    "    rooth_path = '../rawdata/training/'\n",
    "    failures_df = pd.read_csv(rooth_path + 'wind-farm-1-failures-training.csv')\n",
    "    locations_df = pd.read_csv(rooth_path + \"wind-farm-1-locations.csv\")\n",
    "    logs_df = pd.read_csv(rooth_path + 'wind-farm-1-logs-training.csv')\n",
    "    metmast_df = pd.read_csv(rooth_path + 'wind-farm-1-metmast-training.csv', sep=';')\n",
    "    signals_df = pd.read_csv(rooth_path + 'wind-farm-1-signals-training.csv', sep=';')\n",
    "    power_df = pd.read_csv(rooth_path + 'Power_curve.csv', sep=',')\n",
    "#     costs_df = pd.read_csv(rooth_path + 'HTW_Costs.csv')\n",
    "    \n",
    "    # pass all the Timestamps to date-time format\n",
    "    failures_df['Timestamp'] = pd.to_datetime(failures_df['Timestamp'])\n",
    "    logs_df['Timestamp'] = pd.to_datetime(logs_df['TimeDetected'])\n",
    "    logs_df = logs_df.drop(columns=['TimeDetected','UnitTitleDestination'])\n",
    "    metmast_df['Timestamp'] = pd.to_datetime(metmast_df['Timestamp'])\n",
    "    signals_df['Timestamp'] = pd.to_datetime(signals_df['Timestamp'])\n",
    "     \n",
    "    # Drop Columns with std=0 by DA\n",
    "    drop_features_metmast = ['Anemometer1_Offset', 'Anemometer2_Freq', 'Anemometer2_Offset', 'Min_Raindetection',\n",
    "                             'Avg_Raindetection', 'Anemometer1_CorrGain', 'Anemometer1_CorrOffset',\n",
    "                             'Anemometer2_CorrGain', 'Anemometer2_CorrOffset', 'DistanceAirPress', \n",
    "                             'AirRessureSensorZeroOffset']\n",
    "    metmast_df = metmast_df.drop(columns=drop_features_metmast)\n",
    "    \n",
    "    drop_features_signals = ['Prod_LatestAvg_ActPwrGen2', 'Prod_LatestAvg_ReactPwrGen2']\n",
    "    signals_df = signals_df.drop(columns=drop_features_signals)\n",
    "    \n",
    "    failures_df = failures_df.drop(columns='Remarks')\n",
    "    \n",
    "    #Fill na by interpolate\n",
    "    signals_df = signals_df.bfill()\n",
    "    \n",
    "    return failures_df, locations_df, logs_df, metmast_df, signals_df, power_df"
   ]
  },
  {
   "cell_type": "code",
   "execution_count": 3,
   "id": "binding-snowboard",
   "metadata": {
    "ExecuteTime": {
     "end_time": "2021-02-06T12:12:15.560615Z",
     "start_time": "2021-02-06T12:12:09.065416Z"
    }
   },
   "outputs": [],
   "source": [
    "failures_df, locations_df, logs_df, metmast_df, signals_df, power_df = get_data_and_first_cleaning()"
   ]
  },
  {
   "cell_type": "code",
   "execution_count": 4,
   "id": "dressed-intention",
   "metadata": {
    "ExecuteTime": {
     "end_time": "2021-02-06T12:12:15.570628Z",
     "start_time": "2021-02-06T12:12:15.563920Z"
    }
   },
   "outputs": [],
   "source": [
    "# Function to find str in columns of df\n",
    "def component(component, col):\n",
    "    pair_comp_col=[]\n",
    "    for i in col:\n",
    "        if component in i:\n",
    "            pair_comp_col.append(i)\n",
    "    return pair_comp_col"
   ]
  },
  {
   "cell_type": "code",
   "execution_count": 5,
   "id": "alike-thesaurus",
   "metadata": {
    "ExecuteTime": {
     "end_time": "2021-02-06T12:12:15.603990Z",
     "start_time": "2021-02-06T12:12:15.574059Z"
    }
   },
   "outputs": [
    {
     "name": "stderr",
     "output_type": "stream",
     "text": [
      "/home/guilherme/.pyenv/versions/3.7.2/lib/python3.7/site-packages/pandas/core/frame.py:4527: SettingWithCopyWarning: \n",
      "A value is trying to be set on a copy of a slice from a DataFrame\n",
      "\n",
      "See the caveats in the documentation: https://pandas.pydata.org/pandas-docs/stable/user_guide/indexing.html#returning-a-view-versus-a-copy\n",
      "  method=method,\n"
     ]
    }
   ],
   "source": [
    "# Classification label for failures\n",
    "failures_generator = failures_df[failures_df['Component'] == 'GENERATOR']\n",
    "failures_generator.replace('GENERATOR', 1, inplace=True)\n",
    "failures_gen_bear = failures_df[failures_df['Component'] == 'GENERATOR_BEARING']\n",
    "failures_gen_bear.replace('GENERATOR_BEARING', 1, inplace=True)\n",
    "failures_hyd = failures_df[failures_df['Component'] == 'HYDRAULIC_GROUP']\n",
    "failures_hyd.replace('HYDRAULIC_GROUP', 1, inplace=True)\n",
    "failures_gearbox = failures_df[failures_df['Component'] == 'GEARBOX']\n",
    "failures_gearbox.replace('GEARBOX', 1, inplace=True)\n",
    "failures_transf = failures_df[failures_df['Component'] == 'TRANSFORMER']\n",
    "failures_transf.replace('TRANSFORMER', 1, inplace=True)"
   ]
  },
  {
   "cell_type": "code",
   "execution_count": 6,
   "id": "random-distinction",
   "metadata": {
    "ExecuteTime": {
     "end_time": "2021-02-06T12:12:15.614795Z",
     "start_time": "2021-02-06T12:12:15.606376Z"
    }
   },
   "outputs": [],
   "source": [
    "#Features to create each DF\n",
    "def create_features(df):\n",
    "    time_id = ['Timestamp', 'Turbine_ID']\n",
    "    pair_hyd = component('Hyd', df.columns)\n",
    "    pair_trafo = component('Trafo', df.columns)\n",
    "    pair_gear = component('Gear', df.columns)\n",
    "    pair_gen = component('Gen', df.columns)\n",
    "    pair_rot = component('Rtr', df.columns)\n",
    "    pair_amb = component('Amb', df.columns)\n",
    "    pair_blds = component('Blds', df.columns)\n",
    "    pair_cont = component('Cont', df.columns)\n",
    "    pair_nac = component('Nac', df.columns)\n",
    "    pair_spin = component('Spin', df.columns)\n",
    "    pair_bus = component('Busbar', df.columns)\n",
    "    pair_vol = component('Volt', df.columns)\n",
    "    \n",
    "    #Create DF for each component\n",
    "    df_generator = df[time_id + pair_gen + pair_rot + pair_amb + pair_blds + pair_cont + pair_nac + pair_spin + pair_bus + pair_hyd]\n",
    "    df_gen_bear = df[time_id + pair_gen + pair_rot + pair_amb + pair_blds + pair_cont + pair_nac + pair_spin + pair_bus + pair_hyd]\n",
    "    df_transformer = df[time_id + pair_trafo + pair_rot + pair_amb + pair_blds + pair_cont + pair_nac + pair_spin + pair_bus + pair_vol] \n",
    "    df_hydraulic = df[time_id + pair_hyd + pair_rot + pair_amb + pair_blds + pair_cont + pair_nac + pair_spin + pair_bus] \n",
    "    df_gearbox = df[time_id + pair_gear + pair_rot + pair_amb + pair_blds + pair_cont + pair_nac + pair_spin + pair_bus + pair_hyd]\n",
    "    \n",
    "    return df_generator, df_gen_bear, df_transformer, df_hydraulic, df_gearbox"
   ]
  },
  {
   "cell_type": "code",
   "execution_count": 7,
   "id": "cleared-arrest",
   "metadata": {
    "ExecuteTime": {
     "end_time": "2021-02-06T12:12:15.851198Z",
     "start_time": "2021-02-06T12:12:15.617822Z"
    }
   },
   "outputs": [],
   "source": [
    "df_generator, df_gen_bear, df_transformer, df_hydraulic, df_gearbox = create_features(signals_df)"
   ]
  },
  {
   "cell_type": "code",
   "execution_count": 8,
   "id": "weighted-sentence",
   "metadata": {
    "ExecuteTime": {
     "end_time": "2021-02-06T12:12:17.468551Z",
     "start_time": "2021-02-06T12:12:15.856527Z"
    }
   },
   "outputs": [],
   "source": [
    "# Merge DF Failures with DF of each component to know the moment of each failure\n",
    "generator_final = df_generator.merge(failures_generator, on=['Timestamp','Turbine_ID'], how='outer')\n",
    "gen_bear_final = df_gen_bear.merge(failures_gen_bear, on=['Timestamp', 'Turbine_ID'], how='outer')\n",
    "hyd_final = df_hydraulic.merge(failures_hyd, on=['Timestamp', 'Turbine_ID'], how='outer')\n",
    "gearbox_final = df_gearbox.merge(failures_gearbox, on=['Timestamp', 'Turbine_ID'], how='outer')\n",
    "transf_final = df_transformer.merge(failures_transf, on=['Timestamp', 'Turbine_ID'], how='outer')"
   ]
  },
  {
   "cell_type": "code",
   "execution_count": 9,
   "id": "integral-today",
   "metadata": {
    "ExecuteTime": {
     "end_time": "2021-02-06T12:12:17.485521Z",
     "start_time": "2021-02-06T12:12:17.471661Z"
    }
   },
   "outputs": [],
   "source": [
    "#Fill na on component column\n",
    "generator_final['Component'].fillna(0, inplace=True)\n",
    "gen_bear_final['Component'].fillna(0, inplace=True)\n",
    "hyd_final['Component'].fillna(0, inplace=True)\n",
    "gearbox_final['Component'].fillna(0, inplace=True)\n",
    "transf_final['Component'].fillna(0, inplace=True)"
   ]
  },
  {
   "cell_type": "code",
   "execution_count": 10,
   "id": "vulnerable-press",
   "metadata": {
    "ExecuteTime": {
     "end_time": "2021-02-06T12:12:17.506186Z",
     "start_time": "2021-02-06T12:12:17.488396Z"
    }
   },
   "outputs": [],
   "source": [
    "# Set Timestamp as Index\n",
    "generator_final.set_index('Timestamp', inplace=True)\n",
    "gen_bear_final.set_index('Timestamp', inplace=True)\n",
    "hyd_final.set_index('Timestamp', inplace=True)\n",
    "gearbox_final.set_index('Timestamp', inplace=True)\n",
    "transf_final.set_index('Timestamp', inplace=True)"
   ]
  },
  {
   "cell_type": "code",
   "execution_count": 11,
   "id": "collective-orchestra",
   "metadata": {
    "ExecuteTime": {
     "end_time": "2021-02-06T12:12:18.238439Z",
     "start_time": "2021-02-06T12:12:17.509634Z"
    }
   },
   "outputs": [],
   "source": [
    "# Sort Index\n",
    "generator_final.sort_index(inplace=True)\n",
    "gen_bear_final.sort_index(inplace=True)                                      \n",
    "hyd_final.sort_index(inplace=True)\n",
    "gearbox_final.sort_index(inplace=True)\n",
    "transf_final.sort_index(inplace=True)"
   ]
  },
  {
   "cell_type": "code",
   "execution_count": 12,
   "id": "mounted-sapphire",
   "metadata": {
    "ExecuteTime": {
     "end_time": "2021-02-06T12:12:18.262038Z",
     "start_time": "2021-02-06T12:12:18.241442Z"
    }
   },
   "outputs": [],
   "source": [
    "# Reset Index to group by Timestamp and Turbine_ID\n",
    "generator_final.reset_index(inplace=True)\n",
    "gen_bear_final.reset_index(inplace=True)                                      \n",
    "hyd_final.reset_index(inplace=True)\n",
    "gearbox_final.reset_index(inplace=True)\n",
    "transf_final.reset_index(inplace=True)"
   ]
  },
  {
   "cell_type": "code",
   "execution_count": 13,
   "id": "collected-repair",
   "metadata": {
    "ExecuteTime": {
     "end_time": "2021-02-06T12:12:18.272324Z",
     "start_time": "2021-02-06T12:12:18.265655Z"
    }
   },
   "outputs": [],
   "source": [
    "def prepare_data(df, strategy='mean'):\n",
    "    if strategy == 'mean':\n",
    "        df = df.groupby(by=['Turbine_ID','Timestamp']).mean()\n",
    "    else:\n",
    "        df = df.grouby(by=['Turbine_ID', 'Timestamp']).max()\n",
    "    \n",
    "    # Fill na by interpolate\n",
    "    df = df.bfill().reset_index()\n",
    "        \n",
    "    return df"
   ]
  },
  {
   "cell_type": "code",
   "execution_count": 14,
   "id": "color-craft",
   "metadata": {
    "ExecuteTime": {
     "end_time": "2021-02-06T12:12:21.148727Z",
     "start_time": "2021-02-06T12:12:18.275122Z"
    }
   },
   "outputs": [],
   "source": [
    "df_generator_final=prepare_data(generator_final)\n",
    "df_gen_bear_final=prepare_data(gen_bear_final)\n",
    "df_hyd_final=prepare_data(hyd_final)\n",
    "df_gearbox_final=prepare_data(gearbox_final)\n",
    "df_transf_final=prepare_data(transf_final)"
   ]
  },
  {
   "cell_type": "code",
   "execution_count": 15,
   "id": "posted-macro",
   "metadata": {
    "ExecuteTime": {
     "end_time": "2021-02-06T12:12:21.334266Z",
     "start_time": "2021-02-06T12:12:21.152027Z"
    }
   },
   "outputs": [
    {
     "name": "stdout",
     "output_type": "stream",
     "text": [
      "False\n",
      "False\n",
      "False\n",
      "False\n",
      "False\n"
     ]
    }
   ],
   "source": [
    "print(df_generator_final.isnull().values.any())\n",
    "print(df_gen_bear_final.isnull().values.any())\n",
    "print(df_hyd_final.isnull().values.any())\n",
    "print(df_gearbox_final.isnull().values.any())\n",
    "print(df_transf_final.isnull().values.any())"
   ]
  },
  {
   "cell_type": "code",
   "execution_count": 16,
   "id": "exciting-municipality",
   "metadata": {
    "ExecuteTime": {
     "end_time": "2021-02-06T12:12:21.408257Z",
     "start_time": "2021-02-06T12:12:21.336850Z"
    }
   },
   "outputs": [
    {
     "data": {
      "text/plain": [
       "2017-01-16 22:10:00+00:00    1\n",
       "2017-01-18 18:20:00+00:00    1\n",
       "2016-08-17 20:00:00+00:00    1\n",
       "2017-06-10 16:50:00+00:00    1\n",
       "2016-04-03 19:40:00+00:00    1\n",
       "                            ..\n",
       "2016-11-09 10:40:00+00:00    1\n",
       "2016-09-02 10:30:00+00:00    1\n",
       "2016-03-14 04:20:00+00:00    1\n",
       "2016-01-06 04:10:00+00:00    1\n",
       "2017-05-05 15:40:00+00:00    1\n",
       "Name: Timestamp, Length: 87140, dtype: int64"
      ]
     },
     "execution_count": 16,
     "metadata": {},
     "output_type": "execute_result"
    }
   ],
   "source": [
    "df_generator_final[df_generator_final['Turbine_ID']=='T01']['Timestamp'].value_counts()"
   ]
  },
  {
   "cell_type": "code",
   "execution_count": 17,
   "id": "interracial-light",
   "metadata": {
    "ExecuteTime": {
     "end_time": "2021-02-06T12:12:21.427224Z",
     "start_time": "2021-02-06T12:12:21.411494Z"
    }
   },
   "outputs": [],
   "source": [
    "def fill_na_by_turbine(df):\n",
    "    turbines = ['T01', 'T06', 'T07', 'T09', 'T11']\n",
    "    df_ = pd.DataFrame(columns=df.columns)\n",
    "    for turbine in turbines:\n",
    "        df1 = df.loc[df['Turbine_ID']==turbine]\n",
    "        if df1['Component'].nunique()>1:\n",
    "            index = df1[df1['Component']==1]\n",
    "            index['date'] = index['Timestamp']\n",
    "            index = index[['date','Timestamp', 'Turbine_ID']]\n",
    "            df_merged = df1.merge(index, how='left', on=['Turbine_ID','Timestamp'])\n",
    "            df_merged = df_merged.fillna(method='bfill')\n",
    "            \n",
    "            #If there is not a failure after, hold present date\n",
    "            df_merged['date'] = df_merged['date'].fillna(df_merged['Timestamp'])\n",
    "            \n",
    "            df_merged['TTF'] = round((df_merged['date'] - \n",
    "                                      df_merged['Timestamp']) / np.timedelta64(1, 'D'),0)\n",
    "        else:\n",
    "            df_merged = df1\n",
    "            df_merged['date'] = df_merged['Timestamp']\n",
    "#             df1 = df1[['date','Timestamp', 'Turbine_ID']]\n",
    "#             df_merged = df.merge(df1, how='left', on=['Turbine_ID','Timestamp'])\n",
    "            \n",
    "#             df_merged['date'] = df_merged['date'].fillna(df_merged['Timestamp'])\n",
    "            df_merged['TTF'] = 0 # df_merged['date'] - df_merged['Timestamp'] \n",
    "\n",
    "        #Drop Column Date\n",
    "        df_final = df_merged.drop(columns='date')\n",
    "\n",
    "        #df_final['TTF'] = df_final['TTF'].dt.days\n",
    "\n",
    "        df_ = pd.concat([df_, df_final])\n",
    "\n",
    "    return df_\n",
    "        \n"
   ]
  },
  {
   "cell_type": "code",
   "execution_count": 18,
   "id": "underlying-craft",
   "metadata": {
    "ExecuteTime": {
     "end_time": "2021-02-06T12:12:24.249900Z",
     "start_time": "2021-02-06T12:12:21.430390Z"
    }
   },
   "outputs": [
    {
     "name": "stderr",
     "output_type": "stream",
     "text": [
      "/home/guilherme/.pyenv/versions/3.7.2/lib/python3.7/site-packages/ipykernel_launcher.py:20: SettingWithCopyWarning: \n",
      "A value is trying to be set on a copy of a slice from a DataFrame.\n",
      "Try using .loc[row_indexer,col_indexer] = value instead\n",
      "\n",
      "See the caveats in the documentation: https://pandas.pydata.org/pandas-docs/stable/user_guide/indexing.html#returning-a-view-versus-a-copy\n",
      "/home/guilherme/.pyenv/versions/3.7.2/lib/python3.7/site-packages/ipykernel_launcher.py:25: SettingWithCopyWarning: \n",
      "A value is trying to be set on a copy of a slice from a DataFrame.\n",
      "Try using .loc[row_indexer,col_indexer] = value instead\n",
      "\n",
      "See the caveats in the documentation: https://pandas.pydata.org/pandas-docs/stable/user_guide/indexing.html#returning-a-view-versus-a-copy\n",
      "/home/guilherme/.pyenv/versions/3.7.2/lib/python3.7/site-packages/ipykernel_launcher.py:8: SettingWithCopyWarning: \n",
      "A value is trying to be set on a copy of a slice from a DataFrame.\n",
      "Try using .loc[row_indexer,col_indexer] = value instead\n",
      "\n",
      "See the caveats in the documentation: https://pandas.pydata.org/pandas-docs/stable/user_guide/indexing.html#returning-a-view-versus-a-copy\n",
      "  \n",
      "/home/guilherme/.pyenv/versions/3.7.2/lib/python3.7/site-packages/ipykernel_launcher.py:8: SettingWithCopyWarning: \n",
      "A value is trying to be set on a copy of a slice from a DataFrame.\n",
      "Try using .loc[row_indexer,col_indexer] = value instead\n",
      "\n",
      "See the caveats in the documentation: https://pandas.pydata.org/pandas-docs/stable/user_guide/indexing.html#returning-a-view-versus-a-copy\n",
      "  \n",
      "/home/guilherme/.pyenv/versions/3.7.2/lib/python3.7/site-packages/ipykernel_launcher.py:20: SettingWithCopyWarning: \n",
      "A value is trying to be set on a copy of a slice from a DataFrame.\n",
      "Try using .loc[row_indexer,col_indexer] = value instead\n",
      "\n",
      "See the caveats in the documentation: https://pandas.pydata.org/pandas-docs/stable/user_guide/indexing.html#returning-a-view-versus-a-copy\n",
      "/home/guilherme/.pyenv/versions/3.7.2/lib/python3.7/site-packages/ipykernel_launcher.py:25: SettingWithCopyWarning: \n",
      "A value is trying to be set on a copy of a slice from a DataFrame.\n",
      "Try using .loc[row_indexer,col_indexer] = value instead\n",
      "\n",
      "See the caveats in the documentation: https://pandas.pydata.org/pandas-docs/stable/user_guide/indexing.html#returning-a-view-versus-a-copy\n",
      "/home/guilherme/.pyenv/versions/3.7.2/lib/python3.7/site-packages/ipykernel_launcher.py:8: SettingWithCopyWarning: \n",
      "A value is trying to be set on a copy of a slice from a DataFrame.\n",
      "Try using .loc[row_indexer,col_indexer] = value instead\n",
      "\n",
      "See the caveats in the documentation: https://pandas.pydata.org/pandas-docs/stable/user_guide/indexing.html#returning-a-view-versus-a-copy\n",
      "  \n",
      "/home/guilherme/.pyenv/versions/3.7.2/lib/python3.7/site-packages/ipykernel_launcher.py:20: SettingWithCopyWarning: \n",
      "A value is trying to be set on a copy of a slice from a DataFrame.\n",
      "Try using .loc[row_indexer,col_indexer] = value instead\n",
      "\n",
      "See the caveats in the documentation: https://pandas.pydata.org/pandas-docs/stable/user_guide/indexing.html#returning-a-view-versus-a-copy\n",
      "/home/guilherme/.pyenv/versions/3.7.2/lib/python3.7/site-packages/ipykernel_launcher.py:25: SettingWithCopyWarning: \n",
      "A value is trying to be set on a copy of a slice from a DataFrame.\n",
      "Try using .loc[row_indexer,col_indexer] = value instead\n",
      "\n",
      "See the caveats in the documentation: https://pandas.pydata.org/pandas-docs/stable/user_guide/indexing.html#returning-a-view-versus-a-copy\n",
      "/home/guilherme/.pyenv/versions/3.7.2/lib/python3.7/site-packages/ipykernel_launcher.py:8: SettingWithCopyWarning: \n",
      "A value is trying to be set on a copy of a slice from a DataFrame.\n",
      "Try using .loc[row_indexer,col_indexer] = value instead\n",
      "\n",
      "See the caveats in the documentation: https://pandas.pydata.org/pandas-docs/stable/user_guide/indexing.html#returning-a-view-versus-a-copy\n",
      "  \n",
      "/home/guilherme/.pyenv/versions/3.7.2/lib/python3.7/site-packages/ipykernel_launcher.py:8: SettingWithCopyWarning: \n",
      "A value is trying to be set on a copy of a slice from a DataFrame.\n",
      "Try using .loc[row_indexer,col_indexer] = value instead\n",
      "\n",
      "See the caveats in the documentation: https://pandas.pydata.org/pandas-docs/stable/user_guide/indexing.html#returning-a-view-versus-a-copy\n",
      "  \n",
      "/home/guilherme/.pyenv/versions/3.7.2/lib/python3.7/site-packages/ipykernel_launcher.py:20: SettingWithCopyWarning: \n",
      "A value is trying to be set on a copy of a slice from a DataFrame.\n",
      "Try using .loc[row_indexer,col_indexer] = value instead\n",
      "\n",
      "See the caveats in the documentation: https://pandas.pydata.org/pandas-docs/stable/user_guide/indexing.html#returning-a-view-versus-a-copy\n",
      "/home/guilherme/.pyenv/versions/3.7.2/lib/python3.7/site-packages/ipykernel_launcher.py:25: SettingWithCopyWarning: \n",
      "A value is trying to be set on a copy of a slice from a DataFrame.\n",
      "Try using .loc[row_indexer,col_indexer] = value instead\n",
      "\n",
      "See the caveats in the documentation: https://pandas.pydata.org/pandas-docs/stable/user_guide/indexing.html#returning-a-view-versus-a-copy\n",
      "/home/guilherme/.pyenv/versions/3.7.2/lib/python3.7/site-packages/ipykernel_launcher.py:8: SettingWithCopyWarning: \n",
      "A value is trying to be set on a copy of a slice from a DataFrame.\n",
      "Try using .loc[row_indexer,col_indexer] = value instead\n",
      "\n",
      "See the caveats in the documentation: https://pandas.pydata.org/pandas-docs/stable/user_guide/indexing.html#returning-a-view-versus-a-copy\n",
      "  \n",
      "/home/guilherme/.pyenv/versions/3.7.2/lib/python3.7/site-packages/ipykernel_launcher.py:8: SettingWithCopyWarning: \n",
      "A value is trying to be set on a copy of a slice from a DataFrame.\n",
      "Try using .loc[row_indexer,col_indexer] = value instead\n",
      "\n",
      "See the caveats in the documentation: https://pandas.pydata.org/pandas-docs/stable/user_guide/indexing.html#returning-a-view-versus-a-copy\n",
      "  \n",
      "/home/guilherme/.pyenv/versions/3.7.2/lib/python3.7/site-packages/ipykernel_launcher.py:20: SettingWithCopyWarning: \n",
      "A value is trying to be set on a copy of a slice from a DataFrame.\n",
      "Try using .loc[row_indexer,col_indexer] = value instead\n",
      "\n",
      "See the caveats in the documentation: https://pandas.pydata.org/pandas-docs/stable/user_guide/indexing.html#returning-a-view-versus-a-copy\n",
      "/home/guilherme/.pyenv/versions/3.7.2/lib/python3.7/site-packages/ipykernel_launcher.py:25: SettingWithCopyWarning: \n",
      "A value is trying to be set on a copy of a slice from a DataFrame.\n",
      "Try using .loc[row_indexer,col_indexer] = value instead\n",
      "\n",
      "See the caveats in the documentation: https://pandas.pydata.org/pandas-docs/stable/user_guide/indexing.html#returning-a-view-versus-a-copy\n",
      "/home/guilherme/.pyenv/versions/3.7.2/lib/python3.7/site-packages/ipykernel_launcher.py:8: SettingWithCopyWarning: \n",
      "A value is trying to be set on a copy of a slice from a DataFrame.\n",
      "Try using .loc[row_indexer,col_indexer] = value instead\n",
      "\n",
      "See the caveats in the documentation: https://pandas.pydata.org/pandas-docs/stable/user_guide/indexing.html#returning-a-view-versus-a-copy\n",
      "  \n",
      "/home/guilherme/.pyenv/versions/3.7.2/lib/python3.7/site-packages/ipykernel_launcher.py:8: SettingWithCopyWarning: \n",
      "A value is trying to be set on a copy of a slice from a DataFrame.\n",
      "Try using .loc[row_indexer,col_indexer] = value instead\n",
      "\n",
      "See the caveats in the documentation: https://pandas.pydata.org/pandas-docs/stable/user_guide/indexing.html#returning-a-view-versus-a-copy\n",
      "  \n",
      "/home/guilherme/.pyenv/versions/3.7.2/lib/python3.7/site-packages/ipykernel_launcher.py:20: SettingWithCopyWarning: \n",
      "A value is trying to be set on a copy of a slice from a DataFrame.\n",
      "Try using .loc[row_indexer,col_indexer] = value instead\n",
      "\n",
      "See the caveats in the documentation: https://pandas.pydata.org/pandas-docs/stable/user_guide/indexing.html#returning-a-view-versus-a-copy\n",
      "/home/guilherme/.pyenv/versions/3.7.2/lib/python3.7/site-packages/ipykernel_launcher.py:25: SettingWithCopyWarning: \n",
      "A value is trying to be set on a copy of a slice from a DataFrame.\n",
      "Try using .loc[row_indexer,col_indexer] = value instead\n",
      "\n",
      "See the caveats in the documentation: https://pandas.pydata.org/pandas-docs/stable/user_guide/indexing.html#returning-a-view-versus-a-copy\n",
      "/home/guilherme/.pyenv/versions/3.7.2/lib/python3.7/site-packages/ipykernel_launcher.py:8: SettingWithCopyWarning: \n",
      "A value is trying to be set on a copy of a slice from a DataFrame.\n",
      "Try using .loc[row_indexer,col_indexer] = value instead\n",
      "\n",
      "See the caveats in the documentation: https://pandas.pydata.org/pandas-docs/stable/user_guide/indexing.html#returning-a-view-versus-a-copy\n",
      "  \n"
     ]
    },
    {
     "name": "stderr",
     "output_type": "stream",
     "text": [
      "/home/guilherme/.pyenv/versions/3.7.2/lib/python3.7/site-packages/ipykernel_launcher.py:20: SettingWithCopyWarning: \n",
      "A value is trying to be set on a copy of a slice from a DataFrame.\n",
      "Try using .loc[row_indexer,col_indexer] = value instead\n",
      "\n",
      "See the caveats in the documentation: https://pandas.pydata.org/pandas-docs/stable/user_guide/indexing.html#returning-a-view-versus-a-copy\n",
      "/home/guilherme/.pyenv/versions/3.7.2/lib/python3.7/site-packages/ipykernel_launcher.py:25: SettingWithCopyWarning: \n",
      "A value is trying to be set on a copy of a slice from a DataFrame.\n",
      "Try using .loc[row_indexer,col_indexer] = value instead\n",
      "\n",
      "See the caveats in the documentation: https://pandas.pydata.org/pandas-docs/stable/user_guide/indexing.html#returning-a-view-versus-a-copy\n",
      "/home/guilherme/.pyenv/versions/3.7.2/lib/python3.7/site-packages/ipykernel_launcher.py:8: SettingWithCopyWarning: \n",
      "A value is trying to be set on a copy of a slice from a DataFrame.\n",
      "Try using .loc[row_indexer,col_indexer] = value instead\n",
      "\n",
      "See the caveats in the documentation: https://pandas.pydata.org/pandas-docs/stable/user_guide/indexing.html#returning-a-view-versus-a-copy\n",
      "  \n",
      "/home/guilherme/.pyenv/versions/3.7.2/lib/python3.7/site-packages/ipykernel_launcher.py:20: SettingWithCopyWarning: \n",
      "A value is trying to be set on a copy of a slice from a DataFrame.\n",
      "Try using .loc[row_indexer,col_indexer] = value instead\n",
      "\n",
      "See the caveats in the documentation: https://pandas.pydata.org/pandas-docs/stable/user_guide/indexing.html#returning-a-view-versus-a-copy\n",
      "/home/guilherme/.pyenv/versions/3.7.2/lib/python3.7/site-packages/ipykernel_launcher.py:25: SettingWithCopyWarning: \n",
      "A value is trying to be set on a copy of a slice from a DataFrame.\n",
      "Try using .loc[row_indexer,col_indexer] = value instead\n",
      "\n",
      "See the caveats in the documentation: https://pandas.pydata.org/pandas-docs/stable/user_guide/indexing.html#returning-a-view-versus-a-copy\n",
      "/home/guilherme/.pyenv/versions/3.7.2/lib/python3.7/site-packages/ipykernel_launcher.py:8: SettingWithCopyWarning: \n",
      "A value is trying to be set on a copy of a slice from a DataFrame.\n",
      "Try using .loc[row_indexer,col_indexer] = value instead\n",
      "\n",
      "See the caveats in the documentation: https://pandas.pydata.org/pandas-docs/stable/user_guide/indexing.html#returning-a-view-versus-a-copy\n",
      "  \n",
      "/home/guilherme/.pyenv/versions/3.7.2/lib/python3.7/site-packages/ipykernel_launcher.py:20: SettingWithCopyWarning: \n",
      "A value is trying to be set on a copy of a slice from a DataFrame.\n",
      "Try using .loc[row_indexer,col_indexer] = value instead\n",
      "\n",
      "See the caveats in the documentation: https://pandas.pydata.org/pandas-docs/stable/user_guide/indexing.html#returning-a-view-versus-a-copy\n",
      "/home/guilherme/.pyenv/versions/3.7.2/lib/python3.7/site-packages/ipykernel_launcher.py:25: SettingWithCopyWarning: \n",
      "A value is trying to be set on a copy of a slice from a DataFrame.\n",
      "Try using .loc[row_indexer,col_indexer] = value instead\n",
      "\n",
      "See the caveats in the documentation: https://pandas.pydata.org/pandas-docs/stable/user_guide/indexing.html#returning-a-view-versus-a-copy\n"
     ]
    }
   ],
   "source": [
    "generator_df = fill_na_by_turbine(df_generator_final)\n",
    "gen_bear_df = fill_na_by_turbine(df_gen_bear_final)\n",
    "hyd_df = fill_na_by_turbine(df_hyd_final)\n",
    "gearbox_df = fill_na_by_turbine(df_gearbox_final)\n",
    "transf_df = fill_na_by_turbine(df_transf_final)"
   ]
  },
  {
   "cell_type": "code",
   "execution_count": 19,
   "id": "normal-reader",
   "metadata": {
    "ExecuteTime": {
     "end_time": "2021-02-06T12:12:24.257462Z",
     "start_time": "2021-02-06T12:12:24.252543Z"
    }
   },
   "outputs": [],
   "source": [
    "def Failure_Time_Horizon(days, period):\n",
    "    if 2 <= days <= period:\n",
    "        Flag=1\n",
    "    else:\n",
    "        Flag=0\n",
    "    return Flag"
   ]
  },
  {
   "cell_type": "code",
   "execution_count": 20,
   "id": "laden-search",
   "metadata": {
    "ExecuteTime": {
     "end_time": "2021-02-06T12:12:46.696687Z",
     "start_time": "2021-02-06T12:12:24.260578Z"
    }
   },
   "outputs": [],
   "source": [
    "generator_df['60_days'] = generator_df.apply(lambda x: Failure_Time_Horizon(x['TTF'], 60),axis=1)\n",
    "gen_bear_df['60_days'] = gen_bear_df.apply(lambda x: Failure_Time_Horizon(x['TTF'], 60),axis=1)\n",
    "hyd_df['60_days'] = hyd_df.apply(lambda x: Failure_Time_Horizon(x['TTF'], 60),axis=1)\n",
    "gearbox_df['60_days'] = gearbox_df.apply(lambda x: Failure_Time_Horizon(x['TTF'], 60),axis=1)\n",
    "transf_df['60_days'] = transf_df.apply(lambda x: Failure_Time_Horizon(x['TTF'], 60),axis=1)"
   ]
  },
  {
   "cell_type": "code",
   "execution_count": 21,
   "id": "pregnant-turkey",
   "metadata": {
    "ExecuteTime": {
     "end_time": "2021-02-06T12:13:09.431973Z",
     "start_time": "2021-02-06T12:12:46.699128Z"
    }
   },
   "outputs": [],
   "source": [
    "generator_df['30_days'] = generator_df.apply(lambda x: Failure_Time_Horizon(x['TTF'], 30),axis=1)\n",
    "gen_bear_df['30_days'] = gen_bear_df.apply(lambda x: Failure_Time_Horizon(x['TTF'], 30),axis=1)\n",
    "hyd_df['30_days'] = hyd_df.apply(lambda x: Failure_Time_Horizon(x['TTF'], 30),axis=1)\n",
    "gearbox_df['30_days'] = gearbox_df.apply(lambda x: Failure_Time_Horizon(x['TTF'], 30),axis=1)\n",
    "transf_df['30_days'] = transf_df.apply(lambda x: Failure_Time_Horizon(x['TTF'], 30),axis=1)"
   ]
  },
  {
   "cell_type": "code",
   "execution_count": 22,
   "id": "little-membrane",
   "metadata": {
    "ExecuteTime": {
     "end_time": "2021-02-06T12:13:31.305798Z",
     "start_time": "2021-02-06T12:13:09.433971Z"
    }
   },
   "outputs": [],
   "source": [
    "generator_df['10_days'] = generator_df.apply(lambda x: Failure_Time_Horizon(x['TTF'], 10),axis=1)\n",
    "gen_bear_df['10_days'] = gen_bear_df.apply(lambda x: Failure_Time_Horizon(x['TTF'], 10),axis=1)\n",
    "hyd_df['10_days'] = hyd_df.apply(lambda x: Failure_Time_Horizon(x['TTF'], 10),axis=1)\n",
    "gearbox_df['10_days'] = gearbox_df.apply(lambda x: Failure_Time_Horizon(x['TTF'], 10),axis=1)\n",
    "transf_df['10_days'] = transf_df.apply(lambda x: Failure_Time_Horizon(x['TTF'], 10),axis=1)"
   ]
  },
  {
   "cell_type": "code",
   "execution_count": 23,
   "id": "choice-christmas",
   "metadata": {
    "ExecuteTime": {
     "end_time": "2021-02-06T12:14:24.803701Z",
     "start_time": "2021-02-06T12:13:31.308824Z"
    }
   },
   "outputs": [],
   "source": [
    "## Save DF's to CSV\n",
    "generator_df.to_csv('../rawdata/proc_data/generator_df.csv', index=False)\n",
    "gen_bear_df.to_csv('../rawdata/proc_data/gen_bear_df.csv', index=False)\n",
    "hyd_df.to_csv('../rawdata/proc_data/hyd_df.csv', index=False)\n",
    "gearbox_df.to_csv('../rawdata/proc_data/gearbox_df.csv', index=False)\n",
    "transf_df.to_csv('../rawdata/proc_data/transf_df.csv', index=False)"
   ]
  },
  {
   "cell_type": "code",
   "execution_count": null,
   "id": "quiet-playing",
   "metadata": {},
   "outputs": [],
   "source": []
  },
  {
   "cell_type": "code",
   "execution_count": null,
   "id": "powered-europe",
   "metadata": {},
   "outputs": [],
   "source": []
  }
 ],
 "metadata": {
  "kernelspec": {
   "display_name": "Python 3",
   "language": "python",
   "name": "python3"
  },
  "language_info": {
   "codemirror_mode": {
    "name": "ipython",
    "version": 3
   },
   "file_extension": ".py",
   "mimetype": "text/x-python",
   "name": "python",
   "nbconvert_exporter": "python",
   "pygments_lexer": "ipython3",
   "version": "3.7.2"
  }
 },
 "nbformat": 4,
 "nbformat_minor": 5
}
