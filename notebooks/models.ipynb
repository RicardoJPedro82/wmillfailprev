{
 "cells": [
  {
   "cell_type": "code",
   "execution_count": 101,
   "id": "nasty-packaging",
   "metadata": {
    "ExecuteTime": {
     "end_time": "2021-02-09T00:10:47.609021Z",
     "start_time": "2021-02-09T00:10:47.604118Z"
    }
   },
   "outputs": [],
   "source": [
    "import os\n",
    "import pandas as pd\n",
    "import numpy as np\n",
    "import datetime\n",
    "import seaborn as sns\n",
    "import matplotlib.pyplot as plt\n",
    "from sklearn.preprocessing import StandardScaler\n",
    "from sklearn.preprocessing import MinMaxScaler\n",
    "\n",
    "from sklearn import metrics\n",
    "\n",
    "from sklearn import model_selection\n",
    "\n",
    "from sklearn.linear_model import LogisticRegression\n",
    "from sklearn.ensemble import RandomForestClassifier\n",
    "from sklearn.svm import SVC, LinearSVC\n",
    "from sklearn.tree import DecisionTreeClassifier, export_graphviz\n",
    "from sklearn.neighbors import KNeighborsClassifier\n",
    "from sklearn.naive_bayes import GaussianNB"
   ]
  },
  {
   "cell_type": "code",
   "execution_count": 102,
   "id": "synthetic-washer",
   "metadata": {
    "ExecuteTime": {
     "end_time": "2021-02-09T00:10:51.966180Z",
     "start_time": "2021-02-09T00:10:47.611995Z"
    }
   },
   "outputs": [],
   "source": [
    "rooth_path = '../rawdata/proc_data/'\n",
    "df_train_gearbox = pd.read_csv(rooth_path + 'df_train_gearbox.csv')\n",
    "df_train_gen = pd.read_csv(rooth_path + 'df_train_gen.csv')\n",
    "df_train_gen_bear = pd.read_csv(rooth_path + 'df_train_gen_bear.csv')\n",
    "df_train_hyd = pd.read_csv(rooth_path + 'df_train_hyd.csv')\n",
    "df_train_transf = pd.read_csv(rooth_path + 'df_train_transf.csv')"
   ]
  },
  {
   "cell_type": "code",
   "execution_count": 103,
   "id": "personal-signature",
   "metadata": {
    "ExecuteTime": {
     "end_time": "2021-02-09T00:10:52.722151Z",
     "start_time": "2021-02-09T00:10:51.968959Z"
    }
   },
   "outputs": [],
   "source": [
    "df_test_gen = pd.read_csv(rooth_path + 'df_test_gen.csv')\n",
    "df_test_gearbox = pd.read_csv(rooth_path + 'df_test_gearbox.csv')\n",
    "df_test_gen_bear = pd.read_csv(rooth_path + 'df_test_gen_bear.csv')\n",
    "df_test_hyd = pd.read_csv(rooth_path + 'df_test_hyd.csv')\n",
    "df_test_transf = pd.read_csv(rooth_path + 'df_test_transf.csv')"
   ]
  },
  {
   "cell_type": "code",
   "execution_count": 104,
   "id": "acquired-bandwidth",
   "metadata": {
    "ExecuteTime": {
     "end_time": "2021-02-09T00:10:53.574063Z",
     "start_time": "2021-02-09T00:10:52.725042Z"
    }
   },
   "outputs": [],
   "source": [
    "df_train_gearbox['Timestamp'] = pd.to_datetime(df_train_gearbox['Timestamp'])\n",
    "df_train_gen['Timestamp'] = pd.to_datetime(df_train_gen['Timestamp'])\n",
    "df_train_gen_bear['Timestamp'] = pd.to_datetime(df_train_gen_bear['Timestamp'])\n",
    "df_train_hyd['Timestamp'] = pd.to_datetime(df_train_hyd['Timestamp'])\n",
    "df_train_transf['Timestamp'] = pd.to_datetime(df_train_transf['Timestamp'])\n",
    "df_test_gearbox['Timestamp'] = pd.to_datetime(df_test_gearbox['Timestamp'])\n",
    "df_test_gen['Timestamp'] = pd.to_datetime(df_test_gen['Timestamp'])\n",
    "df_test_gen_bear['Timestamp'] = pd.to_datetime(df_test_gen_bear['Timestamp'])\n",
    "df_test_hyd['Timestamp'] = pd.to_datetime(df_test_hyd['Timestamp'])\n",
    "df_test_transf['Timestamp'] = pd.to_datetime(df_test_transf['Timestamp'])"
   ]
  },
  {
   "cell_type": "code",
   "execution_count": 105,
   "id": "minimal-tractor",
   "metadata": {
    "ExecuteTime": {
     "end_time": "2021-02-09T00:10:53.581277Z",
     "start_time": "2021-02-09T00:10:53.575936Z"
    }
   },
   "outputs": [],
   "source": [
    "#Group by day per turbine\n",
    "def group_per_frequency(df, strategy='mean'):\n",
    "    df['Date'] = df['Timestamp'].dt.date\n",
    "    if strategy == 'max':\n",
    "        df = df.groupby(by=['Turbine_ID','Date']).max().reset_index().drop(columns='Timestamp')\n",
    "    else:\n",
    "        df = df.groupby(by=['Turbine_ID','Date']).mean().reset_index()\n",
    "        \n",
    "    return df"
   ]
  },
  {
   "cell_type": "code",
   "execution_count": 106,
   "id": "internal-induction",
   "metadata": {
    "ExecuteTime": {
     "end_time": "2021-02-09T00:10:54.718334Z",
     "start_time": "2021-02-09T00:10:53.583733Z"
    }
   },
   "outputs": [],
   "source": [
    "df_train_gearbox_day = group_per_frequency(df_train_gearbox, 'max')\n",
    "df_train_gen_day = group_per_frequency(df_train_gen)\n",
    "df_train_gen_bear_day = group_per_frequency(df_train_gen_bear)\n",
    "df_train_hyd_day = group_per_frequency(df_train_hyd)\n",
    "df_train_transf_day = group_per_frequency(df_train_transf)\n",
    "df_test_gearbox_day = group_per_frequency(df_test_gearbox)\n",
    "df_test_gen_day = group_per_frequency(df_test_gen, 'max')\n",
    "df_test_gen_bear_day = group_per_frequency(df_test_gen_bear)\n",
    "df_test_hyd_day = group_per_frequency(df_test_hyd)\n",
    "df_test_transf_day = group_per_frequency(df_test_transf)"
   ]
  },
  {
   "cell_type": "code",
   "execution_count": 107,
   "id": "light-parcel",
   "metadata": {
    "ExecuteTime": {
     "end_time": "2021-02-09T00:10:54.726899Z",
     "start_time": "2021-02-09T00:10:54.720282Z"
    }
   },
   "outputs": [],
   "source": [
    "df_train_gen_day['10_days'] = df_train_gen_day['10_days'].round(decimals=0)\n",
    "df_test_gen_day['10_days'] = df_test_gen_day['10_days'].round(decimals=0)"
   ]
  },
  {
   "cell_type": "code",
   "execution_count": 108,
   "id": "supposed-sister",
   "metadata": {
    "ExecuteTime": {
     "end_time": "2021-02-09T00:10:54.737583Z",
     "start_time": "2021-02-09T00:10:54.731293Z"
    }
   },
   "outputs": [
    {
     "data": {
      "text/plain": [
       "Index(['Gen_RPM_Avg', 'Gen_RPM_Std', 'Gen_Bear_Temp_Avg',\n",
       "       'Gen_Phase2_Temp_Avg', 'Prod_LatestAvg_ActPwrGen0',\n",
       "       'Prod_LatestAvg_ActPwrGen1', 'Prod_LatestAvg_ReactPwrGen0',\n",
       "       'Gen_SlipRing_Temp_Avg', 'Gen_Bear2_Temp_Avg',\n",
       "       'Grd_RtrInvPhase2_Temp_Avg', 'Amb_WindSpeed_Max', 'Amb_WindSpeed_Min',\n",
       "       'Amb_WindSpeed_Avg', 'Amb_WindSpeed_Std', 'Amb_WindDir_Relative_Avg',\n",
       "       'Amb_WindDir_Abs_Avg', 'Amb_Temp_Avg', 'Blds_PitchAngle_Avg',\n",
       "       'Blds_PitchAngle_Std', 'Cont_Top_Temp_Avg', 'Cont_VCP_ChokcoilTemp_Avg',\n",
       "       'Cont_VCP_WtrTemp_Avg', 'Nac_Temp_Avg', 'Nac_Direction_Avg',\n",
       "       'Grd_Busbar_Temp_Avg', 'Hyd_Oil_Temp_Avg'],\n",
       "      dtype='object')"
      ]
     },
     "execution_count": 108,
     "metadata": {},
     "output_type": "execute_result"
    }
   ],
   "source": [
    "df_train_gen_day.keys()[2:-5]"
   ]
  },
  {
   "cell_type": "code",
   "execution_count": 109,
   "id": "national-accident",
   "metadata": {
    "ExecuteTime": {
     "end_time": "2021-02-09T00:10:54.744357Z",
     "start_time": "2021-02-09T00:10:54.740220Z"
    }
   },
   "outputs": [],
   "source": [
    "temp = df_train_gen_day.copy()"
   ]
  },
  {
   "cell_type": "code",
   "execution_count": 110,
   "id": "eleven-hamilton",
   "metadata": {
    "ExecuteTime": {
     "end_time": "2021-02-09T00:10:54.753267Z",
     "start_time": "2021-02-09T00:10:54.746144Z"
    }
   },
   "outputs": [],
   "source": [
    "temp['Date'] = pd.to_datetime(temp['Date'])"
   ]
  },
  {
   "cell_type": "code",
   "execution_count": 111,
   "id": "elect-madagascar",
   "metadata": {
    "ExecuteTime": {
     "end_time": "2021-02-09T00:10:54.759615Z",
     "start_time": "2021-02-09T00:10:54.755142Z"
    }
   },
   "outputs": [],
   "source": [
    "# Calculate mean values for telemetry features\n",
    "# temp = []\n",
    "# fields = ['volt', 'rotate', 'pressure', 'vibration']\n",
    "# for col in fields:\n",
    "#     temp.append(pd.pivot_table(telemetry,\n",
    "#                                index='Date',\n",
    "#                                columns='Turbine_ID',\n",
    "#                                values=col).resample('30D', closed='left', label='right').mean().unstack())\n",
    "# telemetry_mean_3h = pd.concat(temp, axis=1)\n",
    "# telemetry_mean_3h.columns = [i + 'mean_3h' for i in fields]\n",
    "# telemetry_mean_3h.reset_index(inplace=True)\n",
    "\n",
    "# telemetry_mean_3h.head()"
   ]
  },
  {
   "cell_type": "code",
   "execution_count": 112,
   "id": "empirical-literature",
   "metadata": {
    "ExecuteTime": {
     "end_time": "2021-02-09T00:10:54.768614Z",
     "start_time": "2021-02-09T00:10:54.761817Z"
    }
   },
   "outputs": [
    {
     "data": {
      "text/plain": [
       "Index(['Gen_RPM_Avg', 'Gen_RPM_Std', 'Gen_Bear_Temp_Avg',\n",
       "       'Gen_Phase2_Temp_Avg', 'Prod_LatestAvg_ActPwrGen0',\n",
       "       'Prod_LatestAvg_ActPwrGen1', 'Prod_LatestAvg_ReactPwrGen0',\n",
       "       'Gen_SlipRing_Temp_Avg', 'Gen_Bear2_Temp_Avg',\n",
       "       'Grd_RtrInvPhase2_Temp_Avg', 'Amb_WindSpeed_Max', 'Amb_WindSpeed_Min',\n",
       "       'Amb_WindSpeed_Avg', 'Amb_WindSpeed_Std', 'Amb_WindDir_Relative_Avg',\n",
       "       'Amb_WindDir_Abs_Avg', 'Amb_Temp_Avg', 'Blds_PitchAngle_Avg',\n",
       "       'Blds_PitchAngle_Std', 'Cont_Top_Temp_Avg', 'Cont_VCP_ChokcoilTemp_Avg',\n",
       "       'Cont_VCP_WtrTemp_Avg', 'Nac_Temp_Avg', 'Nac_Direction_Avg',\n",
       "       'Grd_Busbar_Temp_Avg', 'Hyd_Oil_Temp_Avg'],\n",
       "      dtype='object')"
      ]
     },
     "execution_count": 112,
     "metadata": {},
     "output_type": "execute_result"
    }
   ],
   "source": [
    "temp.columns[2:-5]"
   ]
  },
  {
   "cell_type": "code",
   "execution_count": 113,
   "id": "demographic-favor",
   "metadata": {
    "ExecuteTime": {
     "end_time": "2021-02-09T00:10:55.204363Z",
     "start_time": "2021-02-09T00:10:54.770406Z"
    }
   },
   "outputs": [],
   "source": [
    "#def lag_features(df_in, period)\n",
    "sensor_cols = []\n",
    "for i in temp.keys()[2:-5]:\n",
    "    sensor_cols.append(pd.pivot_table(temp,\n",
    "                           index='Date',\n",
    "                           columns='Turbine_ID',\n",
    "                           values=i).resample('10D', closed='left', label='right').mean().unstack())\n",
    "#sensor_av_cols = [nm+'_av' for nm in sensor_cols]\n",
    "telemetry_mean_30D = pd.concat(sensor_cols, axis=1)\n",
    "telemetry_mean_30D.columns = [i + 'mean_30D' for i in temp.keys()[2:-5]]\n",
    "telemetry_mean_30D.reset_index(inplace=True)\n",
    "df_out = temp.merge(telemetry_mean_30D, on=['Turbine_ID', 'Date'], how='left')\n"
   ]
  },
  {
   "cell_type": "code",
   "execution_count": 114,
   "id": "anonymous-sapphire",
   "metadata": {
    "ExecuteTime": {
     "end_time": "2021-02-09T00:10:55.212817Z",
     "start_time": "2021-02-09T00:10:55.206043Z"
    }
   },
   "outputs": [],
   "source": [
    "df_out_2 = df_out.fillna(method='bfill')"
   ]
  },
  {
   "cell_type": "code",
   "execution_count": 115,
   "id": "introductory-compression",
   "metadata": {
    "ExecuteTime": {
     "end_time": "2021-02-09T00:10:55.220351Z",
     "start_time": "2021-02-09T00:10:55.215035Z"
    }
   },
   "outputs": [],
   "source": [
    "df_out_2 = df_out_2.fillna(method='ffill')"
   ]
  },
  {
   "cell_type": "code",
   "execution_count": 116,
   "id": "commercial-template",
   "metadata": {
    "ExecuteTime": {
     "end_time": "2021-02-09T00:10:55.565960Z",
     "start_time": "2021-02-09T00:10:55.222383Z"
    }
   },
   "outputs": [],
   "source": [
    "temp1 = df_test_gen_day.copy()\n",
    "temp1['Date'] = pd.to_datetime(temp1['Date'])\n",
    "sensor_cols = []\n",
    "for i in temp1.keys()[2:-5]:\n",
    "    sensor_cols.append(pd.pivot_table(temp1,\n",
    "                           index='Date',\n",
    "                           columns='Turbine_ID',\n",
    "                           values=i).resample('5D', closed='left', label='right').mean().unstack())\n",
    "#sensor_av_cols = [nm+'_av' for nm in sensor_cols]\n",
    "telemetry_mean_30D = pd.concat(sensor_cols, axis=1)\n",
    "telemetry_mean_30D.columns = [i + 'mean_30D' for i in temp1.keys()[2:-5]]\n",
    "telemetry_mean_30D.reset_index(inplace=True)\n",
    "df_out_1 = temp1.merge(telemetry_mean_30D, on=['Turbine_ID', 'Date'], how='left')\n",
    "df_out_test = df_out_1.fillna(method='bfill')\n",
    "df_out_test = df_out_test.fillna(method='ffill')"
   ]
  },
  {
   "cell_type": "code",
   "execution_count": null,
   "id": "absolute-williams",
   "metadata": {},
   "outputs": [],
   "source": []
  },
  {
   "cell_type": "code",
   "execution_count": null,
   "id": "perceived-boutique",
   "metadata": {},
   "outputs": [],
   "source": []
  },
  {
   "cell_type": "code",
   "execution_count": 117,
   "id": "better-perspective",
   "metadata": {
    "ExecuteTime": {
     "end_time": "2021-02-09T00:10:55.570878Z",
     "start_time": "2021-02-09T00:10:55.567804Z"
    }
   },
   "outputs": [],
   "source": [
    "# def add_features(df_in, rolling_win_size):\n",
    "    \n",
    "#     sensor_cols = []\n",
    "#     for i in df_in.keys()[2:-5]:\n",
    "#         sensor_cols.append(i)\n",
    "#     sensor_av_cols = [nm+'_av' for nm in sensor_cols]\n",
    "#     sensor_sd_cols = [nm+'_sd' for nm in sensor_cols]\n",
    "#     df_out = pd.DataFrame()\n",
    "#     ws = rolling_win_size\n",
    "#     #calculate rolling stats for each engine id\n",
    "#     for m_id in pd.unique(df_in.Turbine_ID):\n",
    "#         # get a subset for each engine sensors\n",
    "#         df_engine = df_in[df_in['Turbine_ID'] == m_id]\n",
    "#         df_sub = df_engine[sensor_cols]\n",
    "#         # get rolling mean for the subset\n",
    "#         av = df_sub.rolling(ws, min_periods=1).mean()\n",
    "#         av.columns = sensor_av_cols\n",
    "#         # get the rolling standard deviation for the subset\n",
    "#         sd = df_sub.rolling(ws, min_periods=1).std().fillna(0)\n",
    "#         sd.columns = sensor_sd_cols\n",
    "#         # combine the two new subset dataframes columns to the engine subset\n",
    "#         new_ftrs = pd.concat([df_engine,av,sd], axis=1)\n",
    "#         # add the new features rows to the output dataframe\n",
    "#         df_out = pd.concat([df_out,new_ftrs])\n",
    "#     return df_out"
   ]
  },
  {
   "cell_type": "code",
   "execution_count": 118,
   "id": "developing-namibia",
   "metadata": {
    "ExecuteTime": {
     "end_time": "2021-02-09T00:10:55.581598Z",
     "start_time": "2021-02-09T00:10:55.573272Z"
    }
   },
   "outputs": [],
   "source": [
    "# df_train_gearbox_extra = add_features(df_train_gearbox_day, 25)\n",
    "# df_train_gen_extra = add_features(df_train_gen_day, 15)\n",
    "# df_train_gen_bear_extra = add_features(df_train_gen_bear_day, 25)\n",
    "# df_train_hyd_extra = add_features(df_train_hyd_day, 25)\n",
    "# df_train_transf_extra = add_features(df_train_transf_day, 25)\n",
    "# df_test_gearbox_extra = add_features(df_test_gearbox_day, 25)\n",
    "# df_test_gen_extra = add_features(df_test_gen_day, 15)\n",
    "# df_test_gen_bear_extra = add_features(df_test_gen_bear_day, 25)\n",
    "# df_test_hyd_extra = add_features(df_test_hyd_day, 25)\n",
    "# df_test_transf_extra = add_features(df_test_transf_day, 25)"
   ]
  },
  {
   "cell_type": "code",
   "execution_count": 119,
   "id": "blond-delhi",
   "metadata": {
    "ExecuteTime": {
     "end_time": "2021-02-09T00:10:55.589914Z",
     "start_time": "2021-02-09T00:10:55.583285Z"
    }
   },
   "outputs": [],
   "source": [
    "# df_train_gearbox_extra.columns"
   ]
  },
  {
   "cell_type": "code",
   "execution_count": 120,
   "id": "endless-accommodation",
   "metadata": {
    "ExecuteTime": {
     "end_time": "2021-02-09T00:10:55.597660Z",
     "start_time": "2021-02-09T00:10:55.592372Z"
    }
   },
   "outputs": [],
   "source": [
    "# df_train_gearbox_extra_feat = ['Turbine_ID', 'Gear_Oil_Temp_Avg_av', 'Gear_Bear_Temp_Avg_av', 'Rtr_RPM_Avg_av',\n",
    "#                                'Grd_RtrInvPhase2_Temp_Avg_av', 'Rtr_RPM_Std_av',\n",
    "#                                'Amb_WindSpeed_Max_av', 'Amb_WindSpeed_Min_av', 'Amb_WindSpeed_Avg_av',\n",
    "#                                'Amb_WindSpeed_Std_av', 'Amb_WindDir_Relative_Avg_av',\n",
    "#                                'Amb_WindDir_Abs_Avg_av', 'Amb_Temp_Avg_av', 'Blds_PitchAngle_Avg_av',\n",
    "#                                'Blds_PitchAngle_Std_av', 'Cont_Top_Temp_Avg_av',\n",
    "#                                'Cont_Hub_Temp_Avg_av', 'Cont_VCP_ChokcoilTemp_Avg_av',\n",
    "#                                'Cont_VCP_WtrTemp_Avg_av', 'Nac_Temp_Avg_av', 'Nac_Direction_Avg_av',\n",
    "#                                'Hyd_Oil_Temp_Avg_av', 'Gear_Oil_Temp_Avg_sd', 'Gear_Bear_Temp_Avg_sd',\n",
    "#                                'Rtr_RPM_Avg_sd', 'Grd_RtrInvPhase2_Temp_Avg_sd', 'Rtr_RPM_Std_sd',\n",
    "#                                'Amb_WindSpeed_Max_sd', 'Amb_WindSpeed_Min_sd', 'Amb_WindSpeed_Avg_sd',\n",
    "#                                'Amb_WindSpeed_Std_sd', 'Amb_WindDir_Relative_Avg_sd',\n",
    "#                                'Amb_WindDir_Abs_Avg_sd', 'Amb_Temp_Avg_sd', 'Blds_PitchAngle_Avg_sd',\n",
    "#                                'Blds_PitchAngle_Std_sd', 'Cont_Top_Temp_Avg_sd',\n",
    "#                                'Cont_Hub_Temp_Avg_sd', 'Cont_VCP_ChokcoilTemp_Avg_sd',\n",
    "#                                'Cont_VCP_WtrTemp_Avg_sd', 'Nac_Temp_Avg_sd', 'Nac_Direction_Avg_sd',\n",
    "#                                'Hyd_Oil_Temp_Avg_sd','Component','Date', 'TTF', '60_days', '30_days', '10_days']\n",
    "# df_gen_bear_extra_feat = ['Turbine_ID','Gen_RPM_Avg_av', 'Gen_RPM_Std_av',\n",
    "#                            'Gen_Bear_Temp_Avg_av', 'Gen_Phase2_Temp_Avg_av',\n",
    "#                            'Prod_LatestAvg_ActPwrGen0_av', 'Prod_LatestAvg_ActPwrGen1_av',\n",
    "#                            'Prod_LatestAvg_ReactPwrGen0_av', 'Gen_SlipRing_Temp_Avg_av',\n",
    "#                            'Gen_Bear2_Temp_Avg_av', 'Grd_RtrInvPhase2_Temp_Avg_av',\n",
    "#                            'Amb_WindSpeed_Max_av', 'Amb_WindSpeed_Min_av', 'Amb_WindSpeed_Avg_av',\n",
    "#                            'Amb_WindSpeed_Std_av', 'Amb_WindDir_Relative_Avg_av',\n",
    "#                            'Amb_WindDir_Abs_Avg_av', 'Amb_Temp_Avg_av', 'Blds_PitchAngle_Avg_av',\n",
    "#                            'Blds_PitchAngle_Std_av', 'Cont_Top_Temp_Avg_av',\n",
    "#                            'Cont_VCP_ChokcoilTemp_Avg_av', 'Cont_VCP_WtrTemp_Avg_av',\n",
    "#                            'Nac_Temp_Avg_av', 'Nac_Direction_Avg_av', 'Grd_Busbar_Temp_Avg_av',\n",
    "#                            'Hyd_Oil_Temp_Avg_av', 'Gen_RPM_Avg_sd', 'Gen_RPM_Std_sd',\n",
    "#                            'Gen_Bear_Temp_Avg_sd', 'Gen_Phase2_Temp_Avg_sd',\n",
    "#                            'Prod_LatestAvg_ActPwrGen0_sd', 'Prod_LatestAvg_ActPwrGen1_sd',\n",
    "#                            'Prod_LatestAvg_ReactPwrGen0_sd', 'Gen_SlipRing_Temp_Avg_sd',\n",
    "#                            'Gen_Bear2_Temp_Avg_sd', 'Grd_RtrInvPhase2_Temp_Avg_sd',\n",
    "#                            'Amb_WindSpeed_Max_sd', 'Amb_WindSpeed_Min_sd', 'Amb_WindSpeed_Avg_sd',\n",
    "#                            'Amb_WindSpeed_Std_sd', 'Amb_WindDir_Relative_Avg_sd',\n",
    "#                            'Amb_WindDir_Abs_Avg_sd', 'Amb_Temp_Avg_sd', 'Blds_PitchAngle_Avg_sd',\n",
    "#                            'Blds_PitchAngle_Std_sd', 'Cont_Top_Temp_Avg_sd',\n",
    "#                            'Cont_VCP_ChokcoilTemp_Avg_sd', 'Cont_VCP_WtrTemp_Avg_sd',\n",
    "#                            'Nac_Temp_Avg_sd', 'Nac_Direction_Avg_sd', 'Grd_Busbar_Temp_Avg_sd',\n",
    "#                            'Hyd_Oil_Temp_Avg_sd', 'Component', 'Date', 'TTF', '60_days', '30_days', '10_days']\n",
    "# df_gen_extra_feat = ['Turbine_ID','Gen_RPM_Avg_av', 'Gen_RPM_Std_av',\n",
    "#                        'Gen_Bear_Temp_Avg_av', 'Gen_Phase2_Temp_Avg_av',\n",
    "#                        'Prod_LatestAvg_ActPwrGen0_av', 'Prod_LatestAvg_ActPwrGen1_av',\n",
    "#                        'Prod_LatestAvg_ReactPwrGen0_av', 'Gen_SlipRing_Temp_Avg_av',\n",
    "#                        'Gen_Bear2_Temp_Avg_av', 'Grd_RtrInvPhase2_Temp_Avg_av',\n",
    "#                        'Amb_WindSpeed_Max_av', 'Amb_WindSpeed_Min_av', 'Amb_WindSpeed_Avg_av',\n",
    "#                        'Amb_WindSpeed_Std_av', 'Amb_WindDir_Relative_Avg_av',\n",
    "#                        'Amb_WindDir_Abs_Avg_av', 'Amb_Temp_Avg_av', 'Blds_PitchAngle_Avg_av',\n",
    "#                        'Blds_PitchAngle_Std_av', 'Cont_Top_Temp_Avg_av',\n",
    "#                        'Cont_VCP_ChokcoilTemp_Avg_av', 'Cont_VCP_WtrTemp_Avg_av',\n",
    "#                        'Nac_Temp_Avg_av', 'Nac_Direction_Avg_av', 'Grd_Busbar_Temp_Avg_av',\n",
    "#                        'Hyd_Oil_Temp_Avg_av', 'Gen_RPM_Avg_sd', 'Gen_RPM_Std_sd',\n",
    "#                        'Gen_Bear_Temp_Avg_sd', 'Gen_Phase2_Temp_Avg_sd',\n",
    "#                        'Prod_LatestAvg_ActPwrGen0_sd', 'Prod_LatestAvg_ActPwrGen1_sd',\n",
    "#                        'Prod_LatestAvg_ReactPwrGen0_sd', 'Gen_SlipRing_Temp_Avg_sd',\n",
    "#                        'Gen_Bear2_Temp_Avg_sd', 'Grd_RtrInvPhase2_Temp_Avg_sd',\n",
    "#                        'Amb_WindSpeed_Max_sd', 'Amb_WindSpeed_Min_sd', 'Amb_WindSpeed_Avg_sd',\n",
    "#                        'Amb_WindSpeed_Std_sd', 'Amb_WindDir_Relative_Avg_sd',\n",
    "#                        'Amb_WindDir_Abs_Avg_sd', 'Amb_Temp_Avg_sd', 'Blds_PitchAngle_Avg_sd',\n",
    "#                        'Blds_PitchAngle_Std_sd', 'Cont_Top_Temp_Avg_sd',\n",
    "#                        'Cont_VCP_ChokcoilTemp_Avg_sd', 'Cont_VCP_WtrTemp_Avg_sd',\n",
    "#                        'Nac_Temp_Avg_sd', 'Nac_Direction_Avg_sd', 'Grd_Busbar_Temp_Avg_sd',\n",
    "#                        'Hyd_Oil_Temp_Avg_sd', 'Component', 'Date', 'TTF', '60_days', '30_days', '10_days']\n",
    "# df_hyd_extra_feat = ['Turbine_ID','Hyd_Oil_Temp_Avg_av', 'Rtr_RPM_Avg_av',\n",
    "#                        'Grd_RtrInvPhase2_Temp_Avg_av', 'Rtr_RPM_Std_av',\n",
    "#                        'Amb_WindSpeed_Max_av', 'Amb_WindSpeed_Min_av', 'Amb_WindSpeed_Avg_av',\n",
    "#                        'Amb_WindSpeed_Std_av', 'Amb_WindDir_Relative_Avg_av',\n",
    "#                        'Amb_WindDir_Abs_Avg_av', 'Amb_Temp_Avg_av', 'Blds_PitchAngle_Avg_av',\n",
    "#                        'Blds_PitchAngle_Std_av', 'Cont_Top_Temp_Avg_av',\n",
    "#                        'Cont_VCP_ChokcoilTemp_Avg_av', 'Cont_VCP_WtrTemp_Avg_av',\n",
    "#                        'Nac_Temp_Avg_av', 'Nac_Direction_Avg_av', 'Hyd_Oil_Temp_Avg_sd',\n",
    "#                        'Rtr_RPM_Avg_sd', 'Grd_RtrInvPhase2_Temp_Avg_sd', 'Rtr_RPM_Std_sd',\n",
    "#                        'Amb_WindSpeed_Max_sd', 'Amb_WindSpeed_Min_sd', 'Amb_WindSpeed_Avg_sd',\n",
    "#                        'Amb_WindSpeed_Std_sd', 'Amb_WindDir_Relative_Avg_sd',\n",
    "#                        'Amb_WindDir_Abs_Avg_sd', 'Amb_Temp_Avg_sd', 'Blds_PitchAngle_Avg_sd',\n",
    "#                        'Blds_PitchAngle_Std_sd', 'Cont_Top_Temp_Avg_sd',\n",
    "#                        'Cont_VCP_ChokcoilTemp_Avg_sd', 'Cont_VCP_WtrTemp_Avg_sd',\n",
    "#                        'Nac_Temp_Avg_sd', 'Nac_Direction_Avg_sd','Date', 'Component', 'TTF', '60_days', '30_days', '10_days']\n",
    "# df_transf_extra_feat = ['Turbine_ID','HVTrafo_Phase2_Temp_Avg_av',\n",
    "#                        'Rtr_RPM_Avg_av', 'Grd_RtrInvPhase2_Temp_Avg_av', 'Rtr_RPM_Std_av',\n",
    "#                        'Amb_WindSpeed_Max_av', 'Amb_WindSpeed_Min_av', 'Amb_WindSpeed_Avg_av',\n",
    "#                        'Amb_WindSpeed_Std_av', 'Amb_WindDir_Relative_Avg_av',\n",
    "#                        'Amb_WindDir_Abs_Avg_av', 'Amb_Temp_Avg_av', 'Blds_PitchAngle_Avg_av',\n",
    "#                        'Blds_PitchAngle_Std_av', 'Cont_Top_Temp_Avg_av',\n",
    "#                        'Cont_Hub_Temp_Avg_av', 'Cont_VCP_ChokcoilTemp_Avg_av',\n",
    "#                        'Cont_VCP_WtrTemp_Avg_av', 'Nac_Temp_Avg_av', 'Nac_Direction_Avg_av',\n",
    "#                        'Grd_Busbar_Temp_Avg_av', 'Grd_Prod_VoltPhse1_Avg_av',\n",
    "#                        'Grd_Prod_VoltPhse2_Avg_av', 'Grd_Prod_VoltPhse3_Avg_av',\n",
    "#                        'HVTrafo_Phase2_Temp_Avg_sd', 'Rtr_RPM_Avg_sd',\n",
    "#                        'Grd_RtrInvPhase2_Temp_Avg_sd', 'Rtr_RPM_Std_sd',\n",
    "#                        'Amb_WindSpeed_Max_sd', 'Amb_WindSpeed_Min_sd', 'Amb_WindSpeed_Avg_sd',\n",
    "#                        'Amb_WindSpeed_Std_sd', 'Amb_WindDir_Relative_Avg_sd',\n",
    "#                        'Amb_WindDir_Abs_Avg_sd', 'Amb_Temp_Avg_sd', 'Blds_PitchAngle_Avg_sd',\n",
    "#                        'Blds_PitchAngle_Std_sd', 'Cont_Top_Temp_Avg_sd',\n",
    "#                        'Cont_Hub_Temp_Avg_sd', 'Cont_VCP_ChokcoilTemp_Avg_sd',\n",
    "#                        'Cont_VCP_WtrTemp_Avg_sd', 'Nac_Temp_Avg_sd', 'Nac_Direction_Avg_sd',\n",
    "#                        'Grd_Busbar_Temp_Avg_sd', 'Grd_Prod_VoltPhse1_Avg_sd',\n",
    "#                        'Grd_Prod_VoltPhse2_Avg_sd', 'Grd_Prod_VoltPhse3_Avg_sd','Date', 'Component', 'TTF', '60_days', '30_days', '10_days']"
   ]
  },
  {
   "cell_type": "code",
   "execution_count": 121,
   "id": "affected-history",
   "metadata": {
    "ExecuteTime": {
     "end_time": "2021-02-09T00:10:55.608607Z",
     "start_time": "2021-02-09T00:10:55.599953Z"
    }
   },
   "outputs": [],
   "source": [
    "# df_train_gen_extra.head()"
   ]
  },
  {
   "cell_type": "code",
   "execution_count": 122,
   "id": "appropriate-gateway",
   "metadata": {
    "ExecuteTime": {
     "end_time": "2021-02-09T00:10:55.615541Z",
     "start_time": "2021-02-09T00:10:55.610607Z"
    }
   },
   "outputs": [],
   "source": [
    "# df_gen_train_feat_ext = df_train_gen_extra[df_gen_extra_feat]\n",
    "# df_gen_test_feat_ext = df_test_gen_extra[df_gen_extra_feat]"
   ]
  },
  {
   "cell_type": "code",
   "execution_count": 123,
   "id": "emotional-williams",
   "metadata": {
    "ExecuteTime": {
     "end_time": "2021-02-09T00:10:55.622147Z",
     "start_time": "2021-02-09T00:10:55.618436Z"
    }
   },
   "outputs": [],
   "source": [
    "# df_train_gen_extra.columns"
   ]
  },
  {
   "cell_type": "code",
   "execution_count": 124,
   "id": "premium-coalition",
   "metadata": {
    "ExecuteTime": {
     "end_time": "2021-02-09T00:10:55.633830Z",
     "start_time": "2021-02-09T00:10:55.625356Z"
    }
   },
   "outputs": [],
   "source": [
    "#Standard scaler per Turbine\n",
    "def scale(df_train, df_test, scaler='StandardScaler'):\n",
    "    \n",
    "    X_train = df_train.drop(columns=['Date', 'TTF', '60_days', '30_days', '10_days', 'Component'])\n",
    "    X_test = df_test.drop(columns=['Date', 'TTF', '60_days', '30_days', '10_days', 'Component'])\n",
    "    \n",
    "    X_train1 = X_train.loc[X_train['Turbine_ID']=='T01']\n",
    "    X_test1 = X_test.loc[X_test['Turbine_ID']=='T01']\n",
    "    \n",
    "    X_train1 = X_train1.drop(columns='Turbine_ID')\n",
    "    X_test1 = X_test1.drop(columns='Turbine_ID')\n",
    "    \n",
    "    if scaler == 'MinMaxScaler':\n",
    "        sc = MinMaxScaler()\n",
    "        X_train1 = sc.fit_transform(X_train1)\n",
    "        X_test1 = sc.transform(X_test1)\n",
    "    else:\n",
    "        sc = StandardScaler()\n",
    "        X_train1 = sc.fit_transform(X_train1)\n",
    "        X_test1 = sc.transform(X_test1)\n",
    "    \n",
    "    turbines = ['T06', 'T07', 'T09', 'T11']\n",
    "    for turbine in turbines:\n",
    "        X_train_ = X_train.loc[X_train['Turbine_ID']==turbine]\n",
    "        X_test_ = X_test.loc[X_test['Turbine_ID']==turbine]\n",
    "        \n",
    "        X_train_ = X_train_.drop(columns='Turbine_ID')\n",
    "        X_test_ = X_test_.drop(columns='Turbine_ID')\n",
    "        \n",
    "        if scaler == 'MinMaxScaler':\n",
    "            sc = MinMaxScaler()\n",
    "            X_train_ = sc.fit_transform(X_train_)\n",
    "            X_test_ = sc.transform(X_test_)\n",
    "        else:\n",
    "            sc = StandardScaler()\n",
    "            X_train_ = sc.fit_transform(X_train_)\n",
    "            X_test_ = sc.transform(X_test_)\n",
    "\n",
    "        X_train1 = np.concatenate((X_train1, X_train_))\n",
    "        X_test1 = np.concatenate((X_test1, X_test_))\n",
    "        \n",
    "    return X_train1, X_test1"
   ]
  },
  {
   "cell_type": "code",
   "execution_count": null,
   "id": "alpine-sender",
   "metadata": {},
   "outputs": [],
   "source": []
  },
  {
   "cell_type": "code",
   "execution_count": 125,
   "id": "cubic-mills",
   "metadata": {
    "ExecuteTime": {
     "end_time": "2021-02-09T00:10:55.646542Z",
     "start_time": "2021-02-09T00:10:55.635632Z"
    }
   },
   "outputs": [],
   "source": [
    "# X_train, X_test = scale(df_out_2, df_out_test)\n",
    "X_train = df_out_2.drop(columns=['Date', 'TTF', '60_days', '30_days', '10_days', 'Component', 'Turbine_ID'])\n",
    "X_test = df_out_test.drop(columns=['Date', 'TTF', '60_days', '30_days', '10_days', 'Component','Turbine_ID'])"
   ]
  },
  {
   "cell_type": "code",
   "execution_count": 126,
   "id": "played-electric",
   "metadata": {
    "ExecuteTime": {
     "end_time": "2021-02-09T00:10:55.654543Z",
     "start_time": "2021-02-09T00:10:55.648650Z"
    }
   },
   "outputs": [],
   "source": [
    "y_train = df_out_2['10_days']\n",
    "y_test = df_out_test['10_days']"
   ]
  },
  {
   "cell_type": "code",
   "execution_count": 127,
   "id": "relevant-participant",
   "metadata": {
    "ExecuteTime": {
     "end_time": "2021-02-09T00:10:55.665221Z",
     "start_time": "2021-02-09T00:10:55.656253Z"
    }
   },
   "outputs": [],
   "source": [
    "def bin_classify(model, clf, X_train, X_test, y_train, y_test, params=None, score=None, ):\n",
    "    \n",
    "    \"\"\"Perfor Grid Search hyper parameter tuning on a classifier.\n",
    "    \n",
    "    Args:\n",
    "        model (str): The model name identifier\n",
    "        clf (clssifier object): The classifier to be tuned\n",
    "        features (list): The set of input features names\n",
    "        params (dict): Grid Search parameters\n",
    "        score (str): Grid Search score\n",
    "        \n",
    "    Returns:\n",
    "        Tuned Clssifier object\n",
    "        dataframe of model predictions and scores\n",
    "    \n",
    "    \"\"\"\n",
    "    \n",
    "    \n",
    "#     X_train = df_train[features]\n",
    "\n",
    "#     X_test = df_test[features] \n",
    "#     y_train = df_train[target]\n",
    "#     y_test = df_test[target]\n",
    "\n",
    "    \n",
    "    grid_search = model_selection.GridSearchCV(estimator=clf, param_grid=params, cv=5, scoring=score, n_jobs=-1)\n",
    "\n",
    "    grid_search.fit(X_train, y_train)\n",
    "    y_pred = grid_search.predict(X_test)\n",
    "    \n",
    "    if hasattr(grid_search, 'predict_proba'):   \n",
    "        y_score = grid_search.predict_proba(X_test)[:,1]\n",
    "    elif hasattr(grid_search, 'decision_function'):\n",
    "        y_score = grid_search.decision_function(X_test)\n",
    "    else:\n",
    "        y_score = y_pred\n",
    "        \n",
    "    predictions = {'y_pred' : y_pred, 'y_score' : y_score}\n",
    "    df_predictions = pd.DataFrame.from_dict(predictions)\n",
    "    \n",
    "    return grid_search.best_estimator_, df_predictions"
   ]
  },
  {
   "cell_type": "code",
   "execution_count": 128,
   "id": "empty-poetry",
   "metadata": {
    "ExecuteTime": {
     "end_time": "2021-02-09T00:10:55.686136Z",
     "start_time": "2021-02-09T00:10:55.667586Z"
    }
   },
   "outputs": [],
   "source": [
    "def bin_class_metrics(model, y_test, y_pred, y_score, print_out=True, plot_out=True):\n",
    "    \n",
    "    \"\"\"Calculate main binary classifcation metrics, plot AUC ROC and Precision-Recall curves.\n",
    "    \n",
    "    Args:\n",
    "        model (str): The model name identifier\n",
    "        y_test (series): Contains the test label values\n",
    "        y_pred (series): Contains the predicted values\n",
    "        y_score (series): Contains the predicted scores\n",
    "        print_out (bool): Print the classification metrics and thresholds values\n",
    "        plot_out (bool): Plot AUC ROC, Precision-Recall, and Threshold curves\n",
    "        \n",
    "    Returns:\n",
    "        dataframe: The combined metrics in single dataframe\n",
    "        dataframe: ROC thresholds\n",
    "        dataframe: Precision-Recall thresholds\n",
    "        Plot: AUC ROC\n",
    "        plot: Precision-Recall\n",
    "        plot: Precision-Recall threshold; also show the number of engines predicted for maintenace per period (queue).\n",
    "        plot: TPR-FPR threshold\n",
    "        \n",
    "    \"\"\"\n",
    "\n",
    "    \n",
    "    binclass_metrics = {\n",
    "                        'Accuracy' : metrics.accuracy_score(y_test, y_pred),\n",
    "                        'Precision' : metrics.precision_score(y_test, y_pred),\n",
    "                        'Recall' : metrics.recall_score(y_test, y_pred),\n",
    "                        'F1 Score' : metrics.f1_score(y_test, y_pred),\n",
    "                        'ROC AUC' : metrics.roc_auc_score(y_test, y_score)\n",
    "                       }\n",
    "\n",
    "    df_metrics = pd.DataFrame.from_dict(binclass_metrics, orient='index')\n",
    "    df_metrics.columns = [model]  \n",
    "\n",
    "\n",
    "    fpr, tpr, thresh_roc = metrics.roc_curve(y_test, y_score)\n",
    "    \n",
    "    roc_auc = metrics.auc(fpr, tpr)\n",
    "\n",
    "    engines_roc = []  \n",
    "    for thr in thresh_roc:  \n",
    "        engines_roc.append((y_score >= thr).mean())\n",
    "\n",
    "    engines_roc = np.array(engines_roc)\n",
    "\n",
    "    roc_thresh = {\n",
    "                    'Threshold' : thresh_roc,\n",
    "                    'TPR' : tpr,\n",
    "                    'FPR' : fpr,\n",
    "                    'Que' : engines_roc\n",
    "                 }\n",
    "    \n",
    "    df_roc_thresh = pd.DataFrame.from_dict(roc_thresh)\n",
    "    \n",
    "    #calculate other classification metrics: TP, FP, TN, FN, TNR, FNR\n",
    "    #from ground truth file, positive class = 25 => TP + FN = 25\n",
    "    #from ground truth file, negative class = 75 => TN + FP = 75\n",
    "    \n",
    "    df_roc_thresh['TP'] = (25*df_roc_thresh.TPR).astype(int)\n",
    "    df_roc_thresh['FP'] = (25 - (25*df_roc_thresh.TPR)).astype(int)\n",
    "    df_roc_thresh['TN'] = (75*(1 - df_roc_thresh.FPR)).astype(int)\n",
    "    df_roc_thresh['FN'] = (75 - (75*(1 - df_roc_thresh.FPR))).astype(int)\n",
    "    \n",
    "    df_roc_thresh['TNR'] = df_roc_thresh['TN']/(df_roc_thresh['TN'] + df_roc_thresh['FN'])\n",
    "    df_roc_thresh['FNR'] = df_roc_thresh['TN']/(df_roc_thresh['TN'] + df_roc_thresh['FP'])\n",
    "    \n",
    "    df_roc_thresh['Model'] = model\n",
    "\n",
    "    \n",
    "\n",
    "    precision, recall, thresh_prc = metrics.precision_recall_curve(y_test, y_score)\n",
    "\n",
    "    thresh_prc = np.append(thresh_prc,1)\n",
    "\n",
    "    engines_prc = []  \n",
    "    for thr in thresh_prc:  \n",
    "        engines_prc.append((y_score >= thr).mean())\n",
    "\n",
    "    engines_prc = np.array(engines_prc)\n",
    "\n",
    "    prc_thresh = {\n",
    "                    'Threshold' : thresh_prc,\n",
    "                    'Precision' : precision,\n",
    "                    'Recall' : recall,\n",
    "                    'Que' : engines_prc\n",
    "                 }\n",
    "\n",
    "    df_prc_thresh = pd.DataFrame.from_dict(prc_thresh)\n",
    "\n",
    "    if print_out:\n",
    "        print('-----------------------------------------------------------')\n",
    "        print(model, '\\n')\n",
    "        print('Confusion Matrix:')\n",
    "        print(metrics.confusion_matrix(y_test, y_pred))\n",
    "        print('\\nClassification Report:')\n",
    "        print(metrics.classification_report(y_test, y_pred))\n",
    "        print('\\nMetrics:')\n",
    "        print(df_metrics)\n",
    "\n",
    "        print('\\nROC Thresholds:\\n')\n",
    "        print(df_roc_thresh[['Threshold', 'TP', 'FP', 'TN', 'FN', 'TPR', 'FPR', 'TNR','FNR', 'Que']])\n",
    "\n",
    "        print('\\nPrecision-Recall Thresholds:\\n')\n",
    "        print(df_prc_thresh[['Threshold', 'Precision', 'Recall', 'Que']])\n",
    "\n",
    "    if plot_out:\n",
    "        fig, ((ax1, ax2), (ax3, ax4)) = plt.subplots(nrows=2, ncols=2, sharex=False, sharey=False )\n",
    "        fig.set_size_inches(10,10)\n",
    "\n",
    "        ax1.plot(fpr, tpr, color='darkorange', lw=2, label='AUC = %0.2f'% roc_auc)\n",
    "        ax1.plot([0, 1], [0, 1], color='navy', lw=2, linestyle='--')\n",
    "        ax1.set_xlim([-0.05, 1.0])\n",
    "        ax1.set_ylim([0.0, 1.05])\n",
    "        ax1.set_xlabel('False Positive Rate')\n",
    "        ax1.set_ylabel('True Positive Rate')\n",
    "        ax1.legend(loc=\"lower right\", fontsize='small')\n",
    "\n",
    "        ax2.plot(recall, precision, color='blue', lw=2, label='Precision-Recall curve')\n",
    "        ax2.set_xlim([0.0, 1.0])\n",
    "        ax2.set_ylim([0.0, 1.05])\n",
    "        ax2.set_xlabel('Recall')\n",
    "        ax2.set_ylabel('Precision')\n",
    "        ax2.legend(loc=\"lower left\", fontsize='small')\n",
    "\n",
    "        ax3.plot(thresh_roc, fpr, color='red', lw=2, label='FPR')  \n",
    "        ax3.plot(thresh_roc, tpr, color='green',label='TPR') \n",
    "        ax3.plot(thresh_roc, engines_roc, color='blue',label='Engines') \n",
    "        ax3.set_ylim([0.0, 1.05])\n",
    "        ax3.set_xlabel('Threshold')  \n",
    "        ax3.set_ylabel('%')\n",
    "        ax3.legend(loc='upper right', fontsize='small')\n",
    "\n",
    "        ax4.plot(thresh_prc, precision, color='red', lw=2, label='Precision')  \n",
    "        ax4.plot(thresh_prc, recall, color='green',label='Recall') \n",
    "        ax4.plot(thresh_prc, engines_prc, color='blue',label='Engines') \n",
    "        ax4.set_ylim([0.0, 1.05])\n",
    "        ax4.set_xlabel('Threshold')  \n",
    "        ax4.set_ylabel('%')\n",
    "        ax4.legend(loc='lower left', fontsize='small')\n",
    "\n",
    "    return  df_metrics, df_roc_thresh, df_prc_thresh"
   ]
  },
  {
   "cell_type": "code",
   "execution_count": 129,
   "id": "flying-function",
   "metadata": {
    "ExecuteTime": {
     "end_time": "2021-02-09T00:10:59.673763Z",
     "start_time": "2021-02-09T00:10:55.688474Z"
    }
   },
   "outputs": [
    {
     "name": "stdout",
     "output_type": "stream",
     "text": [
      "\n",
      "Best Parameters:\n",
      " LogisticRegression(C=0.01, class_weight='balanced', random_state=42,\n",
      "                   solver='liblinear')\n"
     ]
    }
   ],
   "source": [
    "#def bin_classify(model, clf, features,target, df_train, df_test ,params=None, score=None, ):\n",
    "model = 'Logistic Regression'\n",
    "clf_LogReg = LogisticRegression(random_state=42)\n",
    "gs_params = {'C': [.01, 0.1, 1.0, 10], 'solver': ['liblinear', 'lbfgs'], 'class_weight': ['balanced',None]}\n",
    "gs_score = 'f1'\n",
    "\n",
    "clf_LogReg, pred_LogReg = bin_classify(model, clf_LogReg, X_train, X_test, y_train, y_test, params=gs_params, score=gs_score)\n",
    "print('\\nBest Parameters:\\n',clf_LogReg)\n",
    "\n"
   ]
  },
  {
   "cell_type": "code",
   "execution_count": 130,
   "id": "generic-departure",
   "metadata": {
    "ExecuteTime": {
     "end_time": "2021-02-09T00:10:59.691641Z",
     "start_time": "2021-02-09T00:10:59.675787Z"
    }
   },
   "outputs": [
    {
     "data": {
      "text/html": [
       "<div>\n",
       "<style scoped>\n",
       "    .dataframe tbody tr th:only-of-type {\n",
       "        vertical-align: middle;\n",
       "    }\n",
       "\n",
       "    .dataframe tbody tr th {\n",
       "        vertical-align: top;\n",
       "    }\n",
       "\n",
       "    .dataframe thead th {\n",
       "        text-align: right;\n",
       "    }\n",
       "</style>\n",
       "<table border=\"1\" class=\"dataframe\">\n",
       "  <thead>\n",
       "    <tr style=\"text-align: right;\">\n",
       "      <th></th>\n",
       "      <th>y_pred</th>\n",
       "      <th>y_score</th>\n",
       "    </tr>\n",
       "  </thead>\n",
       "  <tbody>\n",
       "    <tr>\n",
       "      <th>0</th>\n",
       "      <td>0.0</td>\n",
       "      <td>4.206361e-27</td>\n",
       "    </tr>\n",
       "    <tr>\n",
       "      <th>1</th>\n",
       "      <td>0.0</td>\n",
       "      <td>6.342030e-23</td>\n",
       "    </tr>\n",
       "    <tr>\n",
       "      <th>2</th>\n",
       "      <td>0.0</td>\n",
       "      <td>4.218495e-26</td>\n",
       "    </tr>\n",
       "    <tr>\n",
       "      <th>3</th>\n",
       "      <td>0.0</td>\n",
       "      <td>1.846672e-25</td>\n",
       "    </tr>\n",
       "    <tr>\n",
       "      <th>4</th>\n",
       "      <td>0.0</td>\n",
       "      <td>2.818222e-25</td>\n",
       "    </tr>\n",
       "    <tr>\n",
       "      <th>...</th>\n",
       "      <td>...</td>\n",
       "      <td>...</td>\n",
       "    </tr>\n",
       "    <tr>\n",
       "      <th>460</th>\n",
       "      <td>0.0</td>\n",
       "      <td>1.075539e-24</td>\n",
       "    </tr>\n",
       "    <tr>\n",
       "      <th>461</th>\n",
       "      <td>0.0</td>\n",
       "      <td>1.047670e-23</td>\n",
       "    </tr>\n",
       "    <tr>\n",
       "      <th>462</th>\n",
       "      <td>0.0</td>\n",
       "      <td>1.506208e-24</td>\n",
       "    </tr>\n",
       "    <tr>\n",
       "      <th>463</th>\n",
       "      <td>0.0</td>\n",
       "      <td>2.841410e-24</td>\n",
       "    </tr>\n",
       "    <tr>\n",
       "      <th>464</th>\n",
       "      <td>0.0</td>\n",
       "      <td>6.051291e-26</td>\n",
       "    </tr>\n",
       "  </tbody>\n",
       "</table>\n",
       "<p>465 rows × 2 columns</p>\n",
       "</div>"
      ],
      "text/plain": [
       "     y_pred       y_score\n",
       "0       0.0  4.206361e-27\n",
       "1       0.0  6.342030e-23\n",
       "2       0.0  4.218495e-26\n",
       "3       0.0  1.846672e-25\n",
       "4       0.0  2.818222e-25\n",
       "..      ...           ...\n",
       "460     0.0  1.075539e-24\n",
       "461     0.0  1.047670e-23\n",
       "462     0.0  1.506208e-24\n",
       "463     0.0  2.841410e-24\n",
       "464     0.0  6.051291e-26\n",
       "\n",
       "[465 rows x 2 columns]"
      ]
     },
     "execution_count": 130,
     "metadata": {},
     "output_type": "execute_result"
    }
   ],
   "source": [
    "pred_LogReg"
   ]
  },
  {
   "cell_type": "code",
   "execution_count": 131,
   "id": "stuffed-organic",
   "metadata": {
    "ExecuteTime": {
     "end_time": "2021-02-09T00:11:00.330749Z",
     "start_time": "2021-02-09T00:10:59.693840Z"
    }
   },
   "outputs": [
    {
     "name": "stderr",
     "output_type": "stream",
     "text": [
      "/home/guilherme/.pyenv/versions/3.7.2/lib/python3.7/site-packages/sklearn/metrics/_classification.py:1245: UndefinedMetricWarning: Precision is ill-defined and being set to 0.0 due to no predicted samples. Use `zero_division` parameter to control this behavior.\n",
      "  _warn_prf(average, modifier, msg_start, len(result))\n",
      "/home/guilherme/.pyenv/versions/3.7.2/lib/python3.7/site-packages/sklearn/metrics/_classification.py:1245: UndefinedMetricWarning: Precision and F-score are ill-defined and being set to 0.0 in labels with no predicted samples. Use `zero_division` parameter to control this behavior.\n",
      "  _warn_prf(average, modifier, msg_start, len(result))\n",
      "/home/guilherme/.pyenv/versions/3.7.2/lib/python3.7/site-packages/sklearn/metrics/_classification.py:1245: UndefinedMetricWarning: Precision and F-score are ill-defined and being set to 0.0 in labels with no predicted samples. Use `zero_division` parameter to control this behavior.\n",
      "  _warn_prf(average, modifier, msg_start, len(result))\n",
      "/home/guilherme/.pyenv/versions/3.7.2/lib/python3.7/site-packages/sklearn/metrics/_classification.py:1245: UndefinedMetricWarning: Precision and F-score are ill-defined and being set to 0.0 in labels with no predicted samples. Use `zero_division` parameter to control this behavior.\n",
      "  _warn_prf(average, modifier, msg_start, len(result))\n"
     ]
    },
    {
     "name": "stdout",
     "output_type": "stream",
     "text": [
      "-----------------------------------------------------------\n",
      "Logistic Regression \n",
      "\n",
      "Confusion Matrix:\n",
      "[[455   0]\n",
      " [ 10   0]]\n",
      "\n",
      "Classification Report:\n",
      "              precision    recall  f1-score   support\n",
      "\n",
      "           0       0.98      1.00      0.99       455\n",
      "           1       0.00      0.00      0.00        10\n",
      "\n",
      "    accuracy                           0.98       465\n",
      "   macro avg       0.49      0.50      0.49       465\n",
      "weighted avg       0.96      0.98      0.97       465\n",
      "\n",
      "\n",
      "Metrics:\n",
      "           Logistic Regression\n",
      "Accuracy              0.978495\n",
      "Precision             0.000000\n",
      "Recall                0.000000\n",
      "F1 Score              0.000000\n",
      "ROC AUC               0.216923\n",
      "\n",
      "ROC Thresholds:\n",
      "\n",
      "       Threshold  TP  FP  TN  FN  TPR       FPR       TNR       FNR       Que\n",
      "0   1.000583e+00   0  25  75   0  0.0  0.000000  1.000000  0.750000  0.000000\n",
      "1   5.834005e-04   0  25  74   0  0.0  0.002198  1.000000  0.747475  0.002151\n",
      "2   5.049043e-21   0  25  42  32  0.0  0.428571  0.567568  0.626866  0.419355\n",
      "3   4.745785e-21   2  22  42  32  0.1  0.428571  0.567568  0.656250  0.421505\n",
      "4   5.079026e-22   2  22  36  38  0.1  0.518681  0.486486  0.620690  0.509677\n",
      "5   4.325973e-22   5  20  36  38  0.2  0.518681  0.486486  0.642857  0.511828\n",
      "6   6.342030e-23   5  20  30  44  0.2  0.591209  0.405405  0.600000  0.582796\n",
      "7   6.151750e-23   7  17  30  44  0.3  0.591209  0.405405  0.638298  0.584946\n",
      "8   1.796976e-23   7  17  26  48  0.3  0.646154  0.351351  0.604651  0.638710\n",
      "9   1.704044e-23  10  15  26  48  0.4  0.646154  0.351351  0.634146  0.640860\n",
      "10  5.003490e-24  10  15  21  53  0.4  0.712088  0.283784  0.583333  0.705376\n",
      "11  4.860828e-24  12  12  21  53  0.5  0.712088  0.283784  0.636364  0.707527\n",
      "12  7.567569e-32  12  12   1  73  0.5  0.982418  0.013514  0.076923  0.972043\n",
      "13  2.472889e-32  17   7   1  73  0.7  0.982418  0.013514  0.125000  0.976344\n",
      "14  1.199745e-32  17   7   1  73  0.7  0.984615  0.013514  0.125000  0.978495\n",
      "15  1.144927e-32  20   5   1  73  0.8  0.984615  0.013514  0.166667  0.980645\n",
      "16  3.231931e-33  20   5   0  74  0.8  0.989011  0.000000  0.000000  0.984946\n",
      "17  2.516302e-33  22   2   0  74  0.9  0.989011  0.000000  0.000000  0.987097\n",
      "18  2.086403e-34  22   2   0  74  0.9  0.995604  0.000000  0.000000  0.993548\n",
      "19  1.424990e-34  25   0   0  74  1.0  0.995604  0.000000       NaN  0.995699\n",
      "20  2.286968e-35  25   0   0  75  1.0  1.000000  0.000000       NaN  1.000000\n",
      "\n",
      "Precision-Recall Thresholds:\n",
      "\n",
      "        Threshold  Precision  Recall       Que\n",
      "0    1.424990e-34   0.021598     1.0  0.995699\n",
      "1    2.086403e-34   0.019481     0.9  0.993548\n",
      "2    3.574812e-34   0.019523     0.9  0.991398\n",
      "3    4.452314e-34   0.019565     0.9  0.989247\n",
      "4    2.516302e-33   0.019608     0.9  0.987097\n",
      "..            ...        ...     ...       ...\n",
      "459  1.535237e-04   0.000000     0.0  0.008602\n",
      "460  1.766237e-04   0.000000     0.0  0.006452\n",
      "461  2.892074e-04   0.000000     0.0  0.004301\n",
      "462  5.834005e-04   0.000000     0.0  0.002151\n",
      "463  1.000000e+00   1.000000     0.0  0.000000\n",
      "\n",
      "[464 rows x 4 columns]\n"
     ]
    },
    {
     "data": {
      "image/png": "[encoded data removed]",
      "text/plain": [
       "<Figure size 720x720 with 4 Axes>"
      ]
     },
     "metadata": {
      "needs_background": "light"
     },
     "output_type": "display_data"
    }
   ],
   "source": [
    "metrics_LogReg, roc_LogReg, prc_LogReg = bin_class_metrics(model, y_test, pred_LogReg.y_pred, pred_LogReg.y_score, print_out=True, plot_out=True)"
   ]
  },
  {
   "cell_type": "code",
   "execution_count": 132,
   "id": "related-boring",
   "metadata": {
    "ExecuteTime": {
     "end_time": "2021-02-09T00:11:00.340094Z",
     "start_time": "2021-02-09T00:11:00.334153Z"
    }
   },
   "outputs": [
    {
     "data": {
      "text/plain": [
       "0    455\n",
       "1     10\n",
       "Name: 10_days, dtype: int64"
      ]
     },
     "execution_count": 132,
     "metadata": {},
     "output_type": "execute_result"
    }
   ],
   "source": [
    "y_test.value_counts()"
   ]
  },
  {
   "cell_type": "code",
   "execution_count": 133,
   "id": "offensive-duncan",
   "metadata": {
    "ExecuteTime": {
     "end_time": "2021-02-09T00:11:00.355421Z",
     "start_time": "2021-02-09T00:11:00.344980Z"
    }
   },
   "outputs": [
    {
     "data": {
      "text/plain": [
       "0.0    465\n",
       "Name: y_pred, dtype: int64"
      ]
     },
     "execution_count": 133,
     "metadata": {},
     "output_type": "execute_result"
    }
   ],
   "source": [
    "pred_LogReg.y_pred.value_counts()"
   ]
  },
  {
   "cell_type": "code",
   "execution_count": 134,
   "id": "floating-translator",
   "metadata": {
    "ExecuteTime": {
     "end_time": "2021-02-09T00:11:00.366152Z",
     "start_time": "2021-02-09T00:11:00.357239Z"
    }
   },
   "outputs": [],
   "source": [
    "model = 'Random Forest B'\n",
    "clf_rfcb = RandomForestClassifier(n_estimators=50, random_state=42)\n",
    "gs_params = {'max_depth': [4, 5, 6, 7, 8], 'criterion': ['gini', 'entropy']}\n",
    "gs_score = 'roc_auc'"
   ]
  },
  {
   "cell_type": "code",
   "execution_count": 135,
   "id": "enclosed-strap",
   "metadata": {
    "ExecuteTime": {
     "end_time": "2021-02-09T00:11:03.629457Z",
     "start_time": "2021-02-09T00:11:00.369239Z"
    }
   },
   "outputs": [
    {
     "name": "stdout",
     "output_type": "stream",
     "text": [
      "\n",
      "Best Parameters:\n",
      " RandomForestClassifier(criterion='entropy', max_depth=8, n_estimators=50,\n",
      "                       random_state=42)\n"
     ]
    }
   ],
   "source": [
    "clf_rfcb, pred_rfcb = bin_classify(model, clf_rfcb, X_train, X_test, y_train, y_test, params=gs_params, score=gs_score)\n",
    "print('\\nBest Parameters:\\n',clf_rfcb)"
   ]
  },
  {
   "cell_type": "code",
   "execution_count": 136,
   "id": "qualified-sense",
   "metadata": {
    "ExecuteTime": {
     "end_time": "2021-02-09T00:11:04.115948Z",
     "start_time": "2021-02-09T00:11:03.631490Z"
    }
   },
   "outputs": [
    {
     "name": "stdout",
     "output_type": "stream",
     "text": [
      "-----------------------------------------------------------\n",
      "Random Forest B \n",
      "\n",
      "Confusion Matrix:\n",
      "[[455   0]\n",
      " [ 10   0]]\n",
      "\n",
      "Classification Report:\n",
      "              precision    recall  f1-score   support\n",
      "\n",
      "           0       0.98      1.00      0.99       455\n",
      "           1       0.00      0.00      0.00        10\n",
      "\n",
      "    accuracy                           0.98       465\n",
      "   macro avg       0.49      0.50      0.49       465\n",
      "weighted avg       0.96      0.98      0.97       465\n",
      "\n",
      "\n",
      "Metrics:\n",
      "           Random Forest B\n",
      "Accuracy          0.978495\n",
      "Precision         0.000000\n",
      "Recall            0.000000\n",
      "F1 Score          0.000000\n",
      "ROC AUC           0.680000\n",
      "\n",
      "ROC Thresholds:\n",
      "\n",
      "    Threshold  TP  FP  TN  FN  TPR       FPR       TNR       FNR       Que\n",
      "0    1.203422   0  25  75   0  0.0  0.000000  1.000000  0.750000  0.000000\n",
      "1    0.203422   0  25  74   0  0.0  0.006593  1.000000  0.747475  0.006452\n",
      "2    0.183422   0  25  73   1  0.0  0.015385  0.986486  0.744898  0.015054\n",
      "3    0.163478   0  25  73   1  0.0  0.019780  0.986486  0.744898  0.019355\n",
      "4    0.143422   0  25  73   1  0.0  0.024176  0.986486  0.744898  0.023656\n",
      "5    0.140000   0  25  73   1  0.0  0.026374  0.986486  0.744898  0.025806\n",
      "6    0.138529   0  25  72   2  0.0  0.032967  0.972973  0.742268  0.032258\n",
      "7    0.135000   0  25  72   2  0.0  0.037363  0.972973  0.742268  0.036559\n",
      "8    0.133333   0  25  71   3  0.0  0.041758  0.959459  0.739583  0.040860\n",
      "9    0.131257   0  25  71   3  0.0  0.046154  0.959459  0.739583  0.045161\n",
      "10   0.123478   0  25  71   3  0.0  0.052747  0.959459  0.739583  0.051613\n",
      "11   0.123422   0  25  70   4  0.0  0.057143  0.945946  0.736842  0.055914\n",
      "12   0.120000   0  25  68   6  0.0  0.081319  0.918919  0.731183  0.079570\n",
      "13   0.115000   0  25  66   8  0.0  0.107692  0.891892  0.725275  0.105376\n",
      "14   0.114114   0  25  66   8  0.0  0.112088  0.891892  0.725275  0.109677\n",
      "15   0.113333   0  25  66   8  0.0  0.114286  0.891892  0.725275  0.111828\n",
      "16   0.111257   0  25  66   8  0.0  0.118681  0.891892  0.725275  0.116129\n",
      "17   0.107166   0  25  65   9  0.0  0.127473  0.878378  0.722222  0.124731\n",
      "18   0.100000  10  15  59  15  0.4  0.213187  0.797297  0.797297  0.217204\n",
      "19   0.098667  10  15  58  16  0.4  0.215385  0.783784  0.794521  0.219355\n",
      "20   0.095000  10  15  58  16  0.4  0.224176  0.783784  0.794521  0.227957\n",
      "21   0.090695  10  15  57  17  0.4  0.228571  0.770270  0.791667  0.232258\n",
      "22   0.087166  10  15  56  18  0.4  0.252747  0.756757  0.788732  0.255914\n",
      "23   0.083636  10  15  55  19  0.4  0.261538  0.743243  0.785714  0.264516\n",
      "24   0.083422  10  15  55  19  0.4  0.265934  0.743243  0.785714  0.268817\n",
      "25   0.080000  20   5  42  32  0.8  0.428571  0.567568  0.893617  0.436559\n",
      "26   0.076667  20   5  42  32  0.8  0.430769  0.567568  0.893617  0.438710\n",
      "27   0.075000  20   5  41  33  0.8  0.452747  0.554054  0.891304  0.460215\n",
      "28   0.070023  20   5  40  34  0.8  0.457143  0.540541  0.888889  0.464516\n",
      "29   0.067166  20   5  40  34  0.8  0.465934  0.540541  0.888889  0.473118\n",
      "30   0.063636  20   5  39  35  0.8  0.479121  0.527027  0.886364  0.486022\n",
      "31   0.060000  25   0  26  48  1.0  0.650549  0.351351  1.000000  0.658065\n",
      "32   0.055000  25   0  25  49  1.0  0.661538  0.337838  1.000000  0.668817\n",
      "33   0.051429  25   0  25  49  1.0  0.665934  0.337838  1.000000  0.673118\n",
      "34   0.047166  25   0  24  50  1.0  0.668132  0.324324  1.000000  0.675269\n",
      "35   0.043636  25   0  23  51  1.0  0.690110  0.310811  1.000000  0.696774\n",
      "36   0.043529  25   0  23  51  1.0  0.692308  0.310811  1.000000  0.698925\n",
      "37   0.040000  25   0  12  62  1.0  0.839560  0.162162  1.000000  0.843011\n",
      "38   0.036667  25   0  11  63  1.0  0.846154  0.148649  1.000000  0.849462\n",
      "39   0.023636  25   0  10  64  1.0  0.863736  0.135135  1.000000  0.866667\n",
      "40   0.023529  25   0   9  65  1.0  0.868132  0.121622  1.000000  0.870968\n",
      "41   0.020000  25   0   1  73  1.0  0.975824  0.013514  1.000000  0.976344\n",
      "42   0.016667  25   0   1  73  1.0  0.978022  0.013514  1.000000  0.978495\n",
      "43   0.000000  25   0   0  75  1.0  1.000000  0.000000       NaN  1.000000\n",
      "\n",
      "Precision-Recall Thresholds:\n",
      "\n",
      "    Threshold  Precision  Recall       Que\n",
      "0    0.060000   0.032680     1.0  0.658065\n",
      "1    0.063636   0.035398     0.8  0.486022\n",
      "2    0.067166   0.036364     0.8  0.473118\n",
      "3    0.070023   0.037037     0.8  0.464516\n",
      "4    0.070695   0.037209     0.8  0.462366\n",
      "5    0.075000   0.037383     0.8  0.460215\n",
      "6    0.076667   0.039216     0.8  0.438710\n",
      "7    0.080000   0.039409     0.8  0.436559\n",
      "8    0.083422   0.032000     0.4  0.268817\n",
      "9    0.083529   0.032258     0.4  0.266667\n",
      "10   0.083636   0.032520     0.4  0.264516\n",
      "11   0.087166   0.033613     0.4  0.255914\n",
      "12   0.090695   0.037037     0.4  0.232258\n",
      "13   0.094114   0.037383     0.4  0.230108\n",
      "14   0.095000   0.037736     0.4  0.227957\n",
      "15   0.098667   0.039216     0.4  0.219355\n",
      "16   0.100000   0.039604     0.4  0.217204\n",
      "17   0.107166   0.000000     0.0  0.124731\n",
      "18   0.111257   0.000000     0.0  0.116129\n",
      "19   0.113333   0.000000     0.0  0.111828\n",
      "20   0.114114   0.000000     0.0  0.109677\n",
      "21   0.115000   0.000000     0.0  0.105376\n",
      "22   0.118529   0.000000     0.0  0.092473\n",
      "23   0.120000   0.000000     0.0  0.079570\n",
      "24   0.123422   0.000000     0.0  0.055914\n",
      "25   0.123478   0.000000     0.0  0.051613\n",
      "26   0.123529   0.000000     0.0  0.049462\n",
      "27   0.123636   0.000000     0.0  0.047312\n",
      "28   0.131257   0.000000     0.0  0.045161\n",
      "29   0.133333   0.000000     0.0  0.040860\n",
      "30   0.134114   0.000000     0.0  0.038710\n",
      "31   0.135000   0.000000     0.0  0.036559\n",
      "32   0.138529   0.000000     0.0  0.032258\n",
      "33   0.140000   0.000000     0.0  0.025806\n",
      "34   0.143422   0.000000     0.0  0.023656\n",
      "35   0.163478   0.000000     0.0  0.019355\n",
      "36   0.179893   0.000000     0.0  0.017204\n",
      "37   0.183422   0.000000     0.0  0.015054\n",
      "38   0.203422   0.000000     0.0  0.006452\n",
      "39   1.000000   1.000000     0.0  0.000000\n"
     ]
    },
    {
     "name": "stderr",
     "output_type": "stream",
     "text": [
      "/home/guilherme/.pyenv/versions/3.7.2/lib/python3.7/site-packages/sklearn/metrics/_classification.py:1245: UndefinedMetricWarning: Precision is ill-defined and being set to 0.0 due to no predicted samples. Use `zero_division` parameter to control this behavior.\n",
      "  _warn_prf(average, modifier, msg_start, len(result))\n",
      "/home/guilherme/.pyenv/versions/3.7.2/lib/python3.7/site-packages/sklearn/metrics/_classification.py:1245: UndefinedMetricWarning: Precision and F-score are ill-defined and being set to 0.0 in labels with no predicted samples. Use `zero_division` parameter to control this behavior.\n",
      "  _warn_prf(average, modifier, msg_start, len(result))\n",
      "/home/guilherme/.pyenv/versions/3.7.2/lib/python3.7/site-packages/sklearn/metrics/_classification.py:1245: UndefinedMetricWarning: Precision and F-score are ill-defined and being set to 0.0 in labels with no predicted samples. Use `zero_division` parameter to control this behavior.\n",
      "  _warn_prf(average, modifier, msg_start, len(result))\n",
      "/home/guilherme/.pyenv/versions/3.7.2/lib/python3.7/site-packages/sklearn/metrics/_classification.py:1245: UndefinedMetricWarning: Precision and F-score are ill-defined and being set to 0.0 in labels with no predicted samples. Use `zero_division` parameter to control this behavior.\n",
      "  _warn_prf(average, modifier, msg_start, len(result))\n"
     ]
    },
    {
     "data": {
      "image/png": "[encoded data removed]",
      "text/plain": [
       "<Figure size 720x720 with 4 Axes>"
      ]
     },
     "metadata": {
      "needs_background": "light"
     },
     "output_type": "display_data"
    }
   ],
   "source": [
    "metrics_rfcb, roc_rfcb, prc_rfcb = bin_class_metrics(model, y_test, pred_rfcb.y_pred, pred_rfcb.y_score, print_out=True, plot_out=True)"
   ]
  },
  {
   "cell_type": "code",
   "execution_count": 137,
   "id": "spare-pregnancy",
   "metadata": {
    "ExecuteTime": {
     "end_time": "2021-02-09T00:11:04.262788Z",
     "start_time": "2021-02-09T00:11:04.117948Z"
    }
   },
   "outputs": [
    {
     "data": {
      "text/plain": [
       "<AxesSubplot:xlabel='y_score', ylabel='Count'>"
      ]
     },
     "execution_count": 137,
     "metadata": {},
     "output_type": "execute_result"
    },
    {
     "data": {
      "image/png": "[encoded data removed]",
      "text/plain": [
       "<Figure size 432x288 with 1 Axes>"
      ]
     },
     "metadata": {
      "needs_background": "light"
     },
     "output_type": "display_data"
    }
   ],
   "source": [
    "sns.histplot(pred_rfcb['y_score'])"
   ]
  },
  {
   "cell_type": "code",
   "execution_count": 138,
   "id": "promising-filing",
   "metadata": {
    "ExecuteTime": {
     "end_time": "2021-02-09T00:11:04.277761Z",
     "start_time": "2021-02-09T00:11:04.264917Z"
    }
   },
   "outputs": [
    {
     "data": {
      "text/html": [
       "<div>\n",
       "<style scoped>\n",
       "    .dataframe tbody tr th:only-of-type {\n",
       "        vertical-align: middle;\n",
       "    }\n",
       "\n",
       "    .dataframe tbody tr th {\n",
       "        vertical-align: top;\n",
       "    }\n",
       "\n",
       "    .dataframe thead th {\n",
       "        text-align: right;\n",
       "    }\n",
       "</style>\n",
       "<table border=\"1\" class=\"dataframe\">\n",
       "  <thead>\n",
       "    <tr style=\"text-align: right;\">\n",
       "      <th></th>\n",
       "      <th>y_pred</th>\n",
       "      <th>y_score</th>\n",
       "    </tr>\n",
       "  </thead>\n",
       "  <tbody>\n",
       "    <tr>\n",
       "      <th>250</th>\n",
       "      <td>0.0</td>\n",
       "      <td>0.087166</td>\n",
       "    </tr>\n",
       "    <tr>\n",
       "      <th>251</th>\n",
       "      <td>0.0</td>\n",
       "      <td>0.087166</td>\n",
       "    </tr>\n",
       "    <tr>\n",
       "      <th>252</th>\n",
       "      <td>0.0</td>\n",
       "      <td>0.083636</td>\n",
       "    </tr>\n",
       "    <tr>\n",
       "      <th>253</th>\n",
       "      <td>0.0</td>\n",
       "      <td>0.083636</td>\n",
       "    </tr>\n",
       "    <tr>\n",
       "      <th>254</th>\n",
       "      <td>0.0</td>\n",
       "      <td>0.075000</td>\n",
       "    </tr>\n",
       "    <tr>\n",
       "      <th>255</th>\n",
       "      <td>0.0</td>\n",
       "      <td>0.043636</td>\n",
       "    </tr>\n",
       "    <tr>\n",
       "      <th>256</th>\n",
       "      <td>0.0</td>\n",
       "      <td>0.115000</td>\n",
       "    </tr>\n",
       "    <tr>\n",
       "      <th>257</th>\n",
       "      <td>0.0</td>\n",
       "      <td>0.080000</td>\n",
       "    </tr>\n",
       "    <tr>\n",
       "      <th>258</th>\n",
       "      <td>0.0</td>\n",
       "      <td>0.100000</td>\n",
       "    </tr>\n",
       "    <tr>\n",
       "      <th>259</th>\n",
       "      <td>0.0</td>\n",
       "      <td>0.100000</td>\n",
       "    </tr>\n",
       "    <tr>\n",
       "      <th>260</th>\n",
       "      <td>0.0</td>\n",
       "      <td>0.100000</td>\n",
       "    </tr>\n",
       "    <tr>\n",
       "      <th>261</th>\n",
       "      <td>0.0</td>\n",
       "      <td>0.060000</td>\n",
       "    </tr>\n",
       "    <tr>\n",
       "      <th>262</th>\n",
       "      <td>0.0</td>\n",
       "      <td>0.060000</td>\n",
       "    </tr>\n",
       "    <tr>\n",
       "      <th>263</th>\n",
       "      <td>0.0</td>\n",
       "      <td>0.080000</td>\n",
       "    </tr>\n",
       "    <tr>\n",
       "      <th>264</th>\n",
       "      <td>0.0</td>\n",
       "      <td>0.080000</td>\n",
       "    </tr>\n",
       "    <tr>\n",
       "      <th>265</th>\n",
       "      <td>0.0</td>\n",
       "      <td>0.080000</td>\n",
       "    </tr>\n",
       "    <tr>\n",
       "      <th>266</th>\n",
       "      <td>0.0</td>\n",
       "      <td>0.100000</td>\n",
       "    </tr>\n",
       "    <tr>\n",
       "      <th>267</th>\n",
       "      <td>0.0</td>\n",
       "      <td>0.120000</td>\n",
       "    </tr>\n",
       "    <tr>\n",
       "      <th>268</th>\n",
       "      <td>0.0</td>\n",
       "      <td>0.120000</td>\n",
       "    </tr>\n",
       "    <tr>\n",
       "      <th>269</th>\n",
       "      <td>0.0</td>\n",
       "      <td>0.120000</td>\n",
       "    </tr>\n",
       "    <tr>\n",
       "      <th>270</th>\n",
       "      <td>0.0</td>\n",
       "      <td>0.163478</td>\n",
       "    </tr>\n",
       "    <tr>\n",
       "      <th>271</th>\n",
       "      <td>0.0</td>\n",
       "      <td>0.123478</td>\n",
       "    </tr>\n",
       "    <tr>\n",
       "      <th>272</th>\n",
       "      <td>0.0</td>\n",
       "      <td>0.060000</td>\n",
       "    </tr>\n",
       "    <tr>\n",
       "      <th>273</th>\n",
       "      <td>0.0</td>\n",
       "      <td>0.060000</td>\n",
       "    </tr>\n",
       "    <tr>\n",
       "      <th>274</th>\n",
       "      <td>0.0</td>\n",
       "      <td>0.080000</td>\n",
       "    </tr>\n",
       "    <tr>\n",
       "      <th>275</th>\n",
       "      <td>0.0</td>\n",
       "      <td>0.060000</td>\n",
       "    </tr>\n",
       "    <tr>\n",
       "      <th>276</th>\n",
       "      <td>0.0</td>\n",
       "      <td>0.060000</td>\n",
       "    </tr>\n",
       "    <tr>\n",
       "      <th>277</th>\n",
       "      <td>0.0</td>\n",
       "      <td>0.020000</td>\n",
       "    </tr>\n",
       "    <tr>\n",
       "      <th>278</th>\n",
       "      <td>0.0</td>\n",
       "      <td>0.036667</td>\n",
       "    </tr>\n",
       "    <tr>\n",
       "      <th>279</th>\n",
       "      <td>0.0</td>\n",
       "      <td>0.040000</td>\n",
       "    </tr>\n",
       "  </tbody>\n",
       "</table>\n",
       "</div>"
      ],
      "text/plain": [
       "     y_pred   y_score\n",
       "250     0.0  0.087166\n",
       "251     0.0  0.087166\n",
       "252     0.0  0.083636\n",
       "253     0.0  0.083636\n",
       "254     0.0  0.075000\n",
       "255     0.0  0.043636\n",
       "256     0.0  0.115000\n",
       "257     0.0  0.080000\n",
       "258     0.0  0.100000\n",
       "259     0.0  0.100000\n",
       "260     0.0  0.100000\n",
       "261     0.0  0.060000\n",
       "262     0.0  0.060000\n",
       "263     0.0  0.080000\n",
       "264     0.0  0.080000\n",
       "265     0.0  0.080000\n",
       "266     0.0  0.100000\n",
       "267     0.0  0.120000\n",
       "268     0.0  0.120000\n",
       "269     0.0  0.120000\n",
       "270     0.0  0.163478\n",
       "271     0.0  0.123478\n",
       "272     0.0  0.060000\n",
       "273     0.0  0.060000\n",
       "274     0.0  0.080000\n",
       "275     0.0  0.060000\n",
       "276     0.0  0.060000\n",
       "277     0.0  0.020000\n",
       "278     0.0  0.036667\n",
       "279     0.0  0.040000"
      ]
     },
     "execution_count": 138,
     "metadata": {},
     "output_type": "execute_result"
    }
   ],
   "source": [
    "pred_rfcb[250:280]"
   ]
  },
  {
   "cell_type": "code",
   "execution_count": 139,
   "id": "defensive-memory",
   "metadata": {
    "ExecuteTime": {
     "end_time": "2021-02-09T00:11:04.286768Z",
     "start_time": "2021-02-09T00:11:04.280185Z"
    }
   },
   "outputs": [],
   "source": [
    "temp = y_test.to_frame()"
   ]
  },
  {
   "cell_type": "code",
   "execution_count": 140,
   "id": "nutritional-convertible",
   "metadata": {
    "ExecuteTime": {
     "end_time": "2021-02-09T00:11:04.299126Z",
     "start_time": "2021-02-09T00:11:04.288779Z"
    }
   },
   "outputs": [
    {
     "data": {
      "text/html": [
       "<div>\n",
       "<style scoped>\n",
       "    .dataframe tbody tr th:only-of-type {\n",
       "        vertical-align: middle;\n",
       "    }\n",
       "\n",
       "    .dataframe tbody tr th {\n",
       "        vertical-align: top;\n",
       "    }\n",
       "\n",
       "    .dataframe thead th {\n",
       "        text-align: right;\n",
       "    }\n",
       "</style>\n",
       "<table border=\"1\" class=\"dataframe\">\n",
       "  <thead>\n",
       "    <tr style=\"text-align: right;\">\n",
       "      <th></th>\n",
       "      <th>10_days</th>\n",
       "    </tr>\n",
       "  </thead>\n",
       "  <tbody>\n",
       "    <tr>\n",
       "      <th>257</th>\n",
       "      <td>1</td>\n",
       "    </tr>\n",
       "    <tr>\n",
       "      <th>258</th>\n",
       "      <td>1</td>\n",
       "    </tr>\n",
       "    <tr>\n",
       "      <th>259</th>\n",
       "      <td>1</td>\n",
       "    </tr>\n",
       "    <tr>\n",
       "      <th>260</th>\n",
       "      <td>1</td>\n",
       "    </tr>\n",
       "    <tr>\n",
       "      <th>261</th>\n",
       "      <td>1</td>\n",
       "    </tr>\n",
       "    <tr>\n",
       "      <th>262</th>\n",
       "      <td>1</td>\n",
       "    </tr>\n",
       "    <tr>\n",
       "      <th>263</th>\n",
       "      <td>1</td>\n",
       "    </tr>\n",
       "    <tr>\n",
       "      <th>264</th>\n",
       "      <td>1</td>\n",
       "    </tr>\n",
       "    <tr>\n",
       "      <th>265</th>\n",
       "      <td>1</td>\n",
       "    </tr>\n",
       "    <tr>\n",
       "      <th>266</th>\n",
       "      <td>1</td>\n",
       "    </tr>\n",
       "  </tbody>\n",
       "</table>\n",
       "</div>"
      ],
      "text/plain": [
       "     10_days\n",
       "257        1\n",
       "258        1\n",
       "259        1\n",
       "260        1\n",
       "261        1\n",
       "262        1\n",
       "263        1\n",
       "264        1\n",
       "265        1\n",
       "266        1"
      ]
     },
     "execution_count": 140,
     "metadata": {},
     "output_type": "execute_result"
    }
   ],
   "source": [
    "temp[temp['10_days'] == 1]"
   ]
  },
  {
   "cell_type": "code",
   "execution_count": null,
   "id": "continuous-authentication",
   "metadata": {},
   "outputs": [],
   "source": []
  }
 ],
 "metadata": {
  "kernelspec": {
   "display_name": "Python 3",
   "language": "python",
   "name": "python3"
  },
  "language_info": {
   "codemirror_mode": {
    "name": "ipython",
    "version": 3
   },
   "file_extension": ".py",
   "mimetype": "text/x-python",
   "name": "python",
   "nbconvert_exporter": "python",
   "pygments_lexer": "ipython3",
   "version": "3.7.2"
  }
 },
 "nbformat": 4,
 "nbformat_minor": 5
}
