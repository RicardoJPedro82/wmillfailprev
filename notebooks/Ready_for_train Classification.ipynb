{
 "cells": [
  {
   "cell_type": "code",
   "execution_count": 1,
   "id": "compressed-invitation",
   "metadata": {
    "ExecuteTime": {
     "end_time": "2021-02-02T18:58:20.214619Z",
     "start_time": "2021-02-02T18:58:18.877623Z"
    }
   },
   "outputs": [],
   "source": [
    "import pandas as pd\n",
    "import numpy as np\n",
    "import geopandas as gpd\n",
    "import seaborn as sns\n",
    "import matplotlib.pyplot as plt\n",
    "import datetime\n",
    "from sklearn.preprocessing import OneHotEncoder\n",
    "from sklearn.preprocessing import StandardScaler"
   ]
  },
  {
   "cell_type": "code",
   "execution_count": 2,
   "id": "floating-messaging",
   "metadata": {
    "ExecuteTime": {
     "end_time": "2021-02-02T18:58:20.229575Z",
     "start_time": "2021-02-02T18:58:20.217603Z"
    }
   },
   "outputs": [],
   "source": [
    "def get_data_and_first_cleaning():\n",
    "    rooth_path = '../rawdata/training/'\n",
    "    failures_df = pd.read_csv(rooth_path + 'wind-farm-1-failures-training.csv')\n",
    "    locations_df = gpd.read_file(rooth_path + \"wind-farm-1-locations.shp\")\n",
    "    logs_df = pd.read_csv(rooth_path + 'wind-farm-1-logs-training.csv')\n",
    "    metmast_df = pd.read_csv(rooth_path + 'wind-farm-1-metmast-training.csv', sep=';')\n",
    "    signals_df = pd.read_csv(rooth_path + 'wind-farm-1-signals-training.csv', sep=';')\n",
    "    power_df = pd.read_csv(rooth_path + 'Power_curve.csv', sep=',')\n",
    "    costs_df = pd.read_csv(rooth_path + 'HTW_Costs.csv')\n",
    "    \n",
    "    # pass all the Timestamps to date-time format and set as index\n",
    "    failures_df['Timestamp'] = pd.to_datetime(failures_df['Timestamp'])\n",
    "    logs_df['Timestamp'] = pd.to_datetime(logs_df['TimeDetected'])\n",
    "    logs_df = logs_df.drop(columns=['TimeDetected','UnitTitleDestination'])\n",
    "    metmast_df['Timestamp'] = pd.to_datetime(metmast_df['Timestamp'])\n",
    "    signals_df['Timestamp'] = pd.to_datetime(signals_df['Timestamp'])\n",
    "    locations_df = locations_df.drop(columns='data_set_av')\n",
    "    \n",
    "    # Replace by integers Turbine_ID\n",
    "    failures_df.replace({'T01': 1, 'T06': 6, 'T07': 7, 'T09': 9, 'T11': 11}, inplace=True)\n",
    "    logs_df.replace({'T01': 1, 'T06': 6, 'T07': 7, 'T09': 9, 'T11': 11}, inplace=True)\n",
    "    signals_df.replace({'T01': 1, 'T06': 6, 'T07': 7, 'T09': 9, 'T11': 11}, inplace=True)\n",
    "    locations_df.replace({'Wind Turbine 1': 1, 'Wind Turbine 6': 6, 'Wind Turbine 7': 7, \n",
    "                          'Wind Turbine 9': 9, 'Wind Turbine 11': 11}, inplace=True)\n",
    "    \n",
    "    # Set Timestamp Columns as Index\n",
    "    failures_df.set_index('Timestamp', inplace=True)\n",
    "    logs_df.set_index('Timestamp', inplace=True)\n",
    "    metmast_df.set_index('Timestamp', inplace=True)\n",
    "    signals_df.set_index('Timestamp', inplace=True)\n",
    "    \n",
    "    # Drop Columns with std=0\n",
    "    drop_features_metmast = ['Anemometer1_Offset', 'Anemometer2_Freq', 'Anemometer2_Offset', 'Min_Raindetection',\n",
    "                             'Avg_Raindetection', 'Anemometer1_CorrGain', 'Anemometer1_CorrOffset',\n",
    "                             'Anemometer2_CorrGain', 'Anemometer2_CorrOffset', 'DistanceAirPress', \n",
    "                             'AirRessureSensorZeroOffset']\n",
    "    metmast_df = metmast_df.drop(columns=drop_features_metmast)\n",
    "    \n",
    "    drop_features_signals = ['Prod_LatestAvg_ActPwrGen2', 'Prod_LatestAvg_ReactPwrGen2']\n",
    "    signals_df = signals_df.drop(columns=drop_features_signals)\n",
    "    \n",
    "    # interpolate to fill NA\n",
    "    metmast_df = metmast_df.interpolate()\n",
    "    signals_df = signals_df.interpolate()\n",
    "    \n",
    "    return failures_df, locations_df, logs_df, metmast_df, signals_df, power_df, costs_df"
   ]
  },
  {
   "cell_type": "code",
   "execution_count": 3,
   "id": "cubic-group",
   "metadata": {
    "ExecuteTime": {
     "end_time": "2021-02-02T18:58:24.591932Z",
     "start_time": "2021-02-02T18:58:20.233247Z"
    }
   },
   "outputs": [],
   "source": [
    "failures_df, locations_df, logs_df, metmast_df, signals_df, power_df, costs_df = get_data_and_first_cleaning()"
   ]
  },
  {
   "cell_type": "code",
   "execution_count": 4,
   "id": "optical-present",
   "metadata": {
    "ExecuteTime": {
     "end_time": "2021-02-02T18:58:24.618092Z",
     "start_time": "2021-02-02T18:58:24.594415Z"
    }
   },
   "outputs": [
    {
     "data": {
      "text/html": [
       "<div>\n",
       "<style scoped>\n",
       "    .dataframe tbody tr th:only-of-type {\n",
       "        vertical-align: middle;\n",
       "    }\n",
       "\n",
       "    .dataframe tbody tr th {\n",
       "        vertical-align: top;\n",
       "    }\n",
       "\n",
       "    .dataframe thead th {\n",
       "        text-align: right;\n",
       "    }\n",
       "</style>\n",
       "<table border=\"1\" class=\"dataframe\">\n",
       "  <thead>\n",
       "    <tr style=\"text-align: right;\">\n",
       "      <th></th>\n",
       "      <th>TimeReset</th>\n",
       "      <th>UnitTitle</th>\n",
       "      <th>Remark</th>\n",
       "    </tr>\n",
       "    <tr>\n",
       "      <th>Timestamp</th>\n",
       "      <th></th>\n",
       "      <th></th>\n",
       "      <th></th>\n",
       "    </tr>\n",
       "  </thead>\n",
       "  <tbody>\n",
       "    <tr>\n",
       "      <th>2016-01-01 00:02:18+00:00</th>\n",
       "      <td>NaN</td>\n",
       "      <td>11</td>\n",
       "      <td>External power ref.:2000kW</td>\n",
       "    </tr>\n",
       "    <tr>\n",
       "      <th>2016-01-01 00:07:15+00:00</th>\n",
       "      <td>NaN</td>\n",
       "      <td>6</td>\n",
       "      <td>Generator 1 in</td>\n",
       "    </tr>\n",
       "    <tr>\n",
       "      <th>2016-01-01 00:11:33+00:00</th>\n",
       "      <td>NaN</td>\n",
       "      <td>9</td>\n",
       "      <td>External power ref.:2000kW</td>\n",
       "    </tr>\n",
       "    <tr>\n",
       "      <th>2016-01-01 00:15:27+00:00</th>\n",
       "      <td>NaN</td>\n",
       "      <td>1</td>\n",
       "      <td>Generator 1 in</td>\n",
       "    </tr>\n",
       "    <tr>\n",
       "      <th>2016-01-01 00:15:44+00:00</th>\n",
       "      <td>NaN</td>\n",
       "      <td>1</td>\n",
       "      <td>External power ref.:2000kW</td>\n",
       "    </tr>\n",
       "    <tr>\n",
       "      <th>...</th>\n",
       "      <td>...</td>\n",
       "      <td>...</td>\n",
       "      <td>...</td>\n",
       "    </tr>\n",
       "    <tr>\n",
       "      <th>2017-08-31 23:42:07+00:00</th>\n",
       "      <td>NaN</td>\n",
       "      <td>11</td>\n",
       "      <td>Nac.vent.2, nac/gear: 31/ 50°C</td>\n",
       "    </tr>\n",
       "    <tr>\n",
       "      <th>2017-08-31 23:45:50+00:00</th>\n",
       "      <td>NaN</td>\n",
       "      <td>9</td>\n",
       "      <td>External power ref.:2000kW</td>\n",
       "    </tr>\n",
       "    <tr>\n",
       "      <th>2017-08-31 23:56:40+00:00</th>\n",
       "      <td>NaN</td>\n",
       "      <td>11</td>\n",
       "      <td>External power ref.:2000kW</td>\n",
       "    </tr>\n",
       "    <tr>\n",
       "      <th>2017-08-31 23:57:47+00:00</th>\n",
       "      <td>NaN</td>\n",
       "      <td>7</td>\n",
       "      <td>External power ref.:2000kW</td>\n",
       "    </tr>\n",
       "    <tr>\n",
       "      <th>2017-08-31 23:57:54+00:00</th>\n",
       "      <td>NaN</td>\n",
       "      <td>1</td>\n",
       "      <td>External power ref.:2000kW</td>\n",
       "    </tr>\n",
       "  </tbody>\n",
       "</table>\n",
       "<p>256231 rows × 3 columns</p>\n",
       "</div>"
      ],
      "text/plain": [
       "                          TimeReset  UnitTitle                          Remark\n",
       "Timestamp                                                                     \n",
       "2016-01-01 00:02:18+00:00       NaN         11      External power ref.:2000kW\n",
       "2016-01-01 00:07:15+00:00       NaN          6                  Generator 1 in\n",
       "2016-01-01 00:11:33+00:00       NaN          9      External power ref.:2000kW\n",
       "2016-01-01 00:15:27+00:00       NaN          1                  Generator 1 in\n",
       "2016-01-01 00:15:44+00:00       NaN          1      External power ref.:2000kW\n",
       "...                             ...        ...                             ...\n",
       "2017-08-31 23:42:07+00:00       NaN         11  Nac.vent.2, nac/gear: 31/ 50°C\n",
       "2017-08-31 23:45:50+00:00       NaN          9      External power ref.:2000kW\n",
       "2017-08-31 23:56:40+00:00       NaN         11      External power ref.:2000kW\n",
       "2017-08-31 23:57:47+00:00       NaN          7      External power ref.:2000kW\n",
       "2017-08-31 23:57:54+00:00       NaN          1      External power ref.:2000kW\n",
       "\n",
       "[256231 rows x 3 columns]"
      ]
     },
     "execution_count": 4,
     "metadata": {},
     "output_type": "execute_result"
    }
   ],
   "source": [
    "logs_df"
   ]
  },
  {
   "cell_type": "code",
   "execution_count": 5,
   "id": "patent-tragedy",
   "metadata": {
    "ExecuteTime": {
     "end_time": "2021-02-02T18:58:24.684199Z",
     "start_time": "2021-02-02T18:58:24.621535Z"
    }
   },
   "outputs": [],
   "source": [
    "metmast_df_2016 = metmast_df.loc[metmast_df.index < '2017']\n",
    "signals_df_2016 = signals_df.loc[signals_df.index < '2017']"
   ]
  },
  {
   "cell_type": "code",
   "execution_count": 6,
   "id": "abroad-spanking",
   "metadata": {
    "ExecuteTime": {
     "end_time": "2021-02-02T18:58:24.693379Z",
     "start_time": "2021-02-02T18:58:24.686632Z"
    }
   },
   "outputs": [
    {
     "data": {
      "text/plain": [
       "((260278, 80), (52697, 29))"
      ]
     },
     "execution_count": 6,
     "metadata": {},
     "output_type": "execute_result"
    }
   ],
   "source": [
    "signals_df_2016.shape, metmast_df_2016.shape"
   ]
  },
  {
   "cell_type": "code",
   "execution_count": 7,
   "id": "knowing-chest",
   "metadata": {
    "ExecuteTime": {
     "end_time": "2021-02-02T18:58:24.702455Z",
     "start_time": "2021-02-02T18:58:24.696104Z"
    }
   },
   "outputs": [],
   "source": [
    "#Function to merge Signals and Metmast - just year of 2016\n",
    "def merge_data_frames():\n",
    "    merge_signals_metmast = pd.merge_asof(signals_df_2016, metmast_df_2016, left_index=True, right_index=True)\n",
    "    \n",
    "    return merge_signals_metmast"
   ]
  },
  {
   "cell_type": "code",
   "execution_count": 8,
   "id": "affecting-dodge",
   "metadata": {
    "ExecuteTime": {
     "end_time": "2021-02-02T18:58:25.310957Z",
     "start_time": "2021-02-02T18:58:24.709451Z"
    }
   },
   "outputs": [],
   "source": [
    "merge_signals_metmast = merge_data_frames()"
   ]
  },
  {
   "cell_type": "code",
   "execution_count": 9,
   "id": "comprehensive-brooks",
   "metadata": {
    "ExecuteTime": {
     "end_time": "2021-02-02T18:58:25.533796Z",
     "start_time": "2021-02-02T18:58:25.314195Z"
    }
   },
   "outputs": [
    {
     "data": {
      "image/png": "[encoded data removed]",
      "text/plain": [
       "<Figure size 720x360 with 1 Axes>"
      ]
     },
     "metadata": {
      "needs_background": "light"
     },
     "output_type": "display_data"
    }
   ],
   "source": [
    "#Number of failures by each component\n",
    "fig = plt.figure(figsize=(10,5))\n",
    "nu = failures_df['Component'].value_counts().reset_index()\n",
    "nu.columns = ['Component','Times Failure']\n",
    "ax = sns.barplot(x='Component', y='Times Failure', data=nu)"
   ]
  },
  {
   "cell_type": "code",
   "execution_count": 10,
   "id": "jewish-commercial",
   "metadata": {
    "ExecuteTime": {
     "end_time": "2021-02-02T18:58:25.861277Z",
     "start_time": "2021-02-02T18:58:25.536665Z"
    }
   },
   "outputs": [
    {
     "data": {
      "image/png": "[encoded data removed]",
      "text/plain": [
       "<Figure size 432x288 with 1 Axes>"
      ]
     },
     "metadata": {
      "needs_background": "light"
     },
     "output_type": "display_data"
    }
   ],
   "source": [
    "#Failures of components by Turbine\n",
    "failures_df_by_turbine = failures_df.groupby(['Turbine_ID'])['Component'].value_counts()\n",
    "failures_df_by_turbine = failures_df_by_turbine.to_frame()\n",
    "failures_df_by_turbine.columns = ['Times Failure']\n",
    "temp = failures_df_by_turbine.unstack()\n",
    "temp.plot(kind='bar')\n",
    "plt.legend(bbox_to_anchor=(1.05, 1), loc='upper left', borderaxespad=0.)\n",
    "plt.show()"
   ]
  },
  {
   "cell_type": "code",
   "execution_count": 11,
   "id": "virgin-tennessee",
   "metadata": {
    "ExecuteTime": {
     "end_time": "2021-02-02T18:58:26.396932Z",
     "start_time": "2021-02-02T18:58:25.864792Z"
    }
   },
   "outputs": [
    {
     "data": {
      "image/png": "[encoded data removed]",
      "text/plain": [
       "<Figure size 1080x432 with 1 Axes>"
      ]
     },
     "metadata": {
      "needs_background": "light"
     },
     "output_type": "display_data"
    }
   ],
   "source": [
    "#Failures by component and Turbine across time\n",
    "turbine_id_list = failures_df['Turbine_ID'].tolist()\n",
    "component_id_list = failures_df['Component'].tolist()\n",
    "\n",
    "fig = plt.figure(figsize=(15,6))\n",
    "sns.scatterplot(x=failures_df.index, y=turbine_id_list, hue=component_id_list)\n",
    "plt.legend(bbox_to_anchor=(1.05, 1), loc='upper left', borderaxespad=0.)\n",
    "plt.ylabel('Turbine_ID')\n",
    "plt.xlabel('Timestamp')\n",
    "plt.show()"
   ]
  },
  {
   "cell_type": "code",
   "execution_count": 12,
   "id": "auburn-vaccine",
   "metadata": {
    "ExecuteTime": {
     "end_time": "2021-02-02T18:58:26.777494Z",
     "start_time": "2021-02-02T18:58:26.400551Z"
    }
   },
   "outputs": [
    {
     "data": {
      "text/plain": [
       "<matplotlib.lines.Line2D at 0x7f25fc196e48>"
      ]
     },
     "execution_count": 12,
     "metadata": {},
     "output_type": "execute_result"
    },
    {
     "data": {
      "image/png": "[encoded data removed]",
      "text/plain": [
       "<Figure size 432x288 with 1 Axes>"
      ]
     },
     "metadata": {
      "needs_background": "light"
     },
     "output_type": "display_data"
    }
   ],
   "source": [
    "# Three Different phases of the turbines\n",
    "sns.scatterplot(x=power_df['Wind speed (m/s)'], y=power_df['Power (kW)'])\n",
    "plt.axvline(x=5, color='red', linestyle= '--')\n",
    "plt.axvline(x=12, color='red', linestyle= '--')"
   ]
  },
  {
   "cell_type": "markdown",
   "id": "precious-dream",
   "metadata": {},
   "source": [
    "By Research:\n",
    "\n",
    "• Region 1: Includes the time when the turbine is starting up;\n",
    "\n",
    "• Region 2: Operational region in which it is desirable to seize as much wind power as possible;\n",
    "\n",
    "• Region 3: Wind speeds are relatively high (rated wind speed) and force the turbine to limit the fraction of wind power captured, for electrical and mechanical safety."
   ]
  },
  {
   "cell_type": "code",
   "execution_count": 13,
   "id": "mighty-crest",
   "metadata": {
    "ExecuteTime": {
     "end_time": "2021-02-02T18:58:26.786380Z",
     "start_time": "2021-02-02T18:58:26.781271Z"
    }
   },
   "outputs": [],
   "source": [
    "#Funtion to analyse by turbine\n",
    "def turbine(turbine_id, df):\n",
    "    new_df = df[df['Turbine_ID'] == turbine_id].sort_index(ascending=True)\n",
    "    return new_df"
   ]
  },
  {
   "cell_type": "code",
   "execution_count": 14,
   "id": "preceding-manufacturer",
   "metadata": {
    "ExecuteTime": {
     "end_time": "2021-02-02T18:58:26.797353Z",
     "start_time": "2021-02-02T18:58:26.790496Z"
    }
   },
   "outputs": [],
   "source": [
    "# Function to find str in columns of df\n",
    "def component(component, col):\n",
    "    pair_comp_col=[]\n",
    "    for i in col:\n",
    "        if component in i:\n",
    "            pair_comp_col.append(i)\n",
    "    return pair_comp_col"
   ]
  },
  {
   "cell_type": "code",
   "execution_count": 15,
   "id": "immediate-humor",
   "metadata": {
    "ExecuteTime": {
     "end_time": "2021-02-02T18:58:26.809982Z",
     "start_time": "2021-02-02T18:58:26.800839Z"
    }
   },
   "outputs": [],
   "source": [
    "# Function to analyse by component\n",
    "def component_df(component, df):\n",
    "    df_component = df[df['Component'] == component].sort_index(ascending=True)\n",
    "    return df_component"
   ]
  },
  {
   "cell_type": "code",
   "execution_count": 16,
   "id": "optional-calculation",
   "metadata": {
    "ExecuteTime": {
     "end_time": "2021-02-02T18:58:27.129265Z",
     "start_time": "2021-02-02T18:58:26.812699Z"
    }
   },
   "outputs": [],
   "source": [
    "#signals of each turbines\n",
    "t1_df = turbine(1, signals_df)\n",
    "t6_df = turbine(6, signals_df)\n",
    "t7_df = turbine(7, signals_df)\n",
    "t9_df = turbine(9, signals_df)\n",
    "t11_df = turbine(11, signals_df)"
   ]
  },
  {
   "cell_type": "code",
   "execution_count": 17,
   "id": "sitting-musician",
   "metadata": {
    "ExecuteTime": {
     "end_time": "2021-02-02T18:58:27.146786Z",
     "start_time": "2021-02-02T18:58:27.132822Z"
    }
   },
   "outputs": [],
   "source": [
    "#Failures of each turbines\n",
    "t1_failures = turbine(1, failures_df)\n",
    "t6_failures = turbine(6, failures_df)\n",
    "t7_failures = turbine(7, failures_df)\n",
    "t9_failures = turbine(9, failures_df)\n",
    "t11_failures = turbine(11, failures_df)"
   ]
  },
  {
   "cell_type": "code",
   "execution_count": 18,
   "id": "incredible-joyce",
   "metadata": {
    "ExecuteTime": {
     "end_time": "2021-02-02T18:58:27.167665Z",
     "start_time": "2021-02-02T18:58:27.151368Z"
    }
   },
   "outputs": [],
   "source": [
    "#Failures of each component\n",
    "df_generator_failures = component_df('GENERATOR', failures_df)\n",
    "df_hydraulic_failures = component_df('HYDRAULIC_GROUP', failures_df)\n",
    "df_bearing_failures = component_df('GENERATOR_BEARING', failures_df)\n",
    "df_gearbox_failures = component_df('GEARBOX', failures_df)\n",
    "df_transformer_failures = component_df('TRANSFORMER', failures_df)"
   ]
  },
  {
   "cell_type": "code",
   "execution_count": 19,
   "id": "transparent-reviewer",
   "metadata": {
    "ExecuteTime": {
     "end_time": "2021-02-02T18:58:27.179374Z",
     "start_time": "2021-02-02T18:58:27.171332Z"
    }
   },
   "outputs": [],
   "source": [
    "pair_gen = component('Gen', signals_df.columns)"
   ]
  },
  {
   "cell_type": "code",
   "execution_count": 20,
   "id": "metric-reset",
   "metadata": {
    "ExecuteTime": {
     "end_time": "2021-02-02T18:58:27.193850Z",
     "start_time": "2021-02-02T18:58:27.183815Z"
    }
   },
   "outputs": [
    {
     "data": {
      "text/plain": [
       "['Gear_Oil_Temp_Avg', 'Gear_Bear_Temp_Avg']"
      ]
     },
     "execution_count": 20,
     "metadata": {},
     "output_type": "execute_result"
    }
   ],
   "source": [
    "pair_gear = component('Gear', signals_df.columns)\n",
    "pair_gear"
   ]
  },
  {
   "cell_type": "code",
   "execution_count": 21,
   "id": "biblical-membrane",
   "metadata": {
    "ExecuteTime": {
     "end_time": "2021-02-02T18:58:27.207194Z",
     "start_time": "2021-02-02T18:58:27.198748Z"
    }
   },
   "outputs": [
    {
     "data": {
      "text/plain": [
       "['HVTrafo_Phase1_Temp_Avg',\n",
       " 'HVTrafo_Phase2_Temp_Avg',\n",
       " 'HVTrafo_Phase3_Temp_Avg']"
      ]
     },
     "execution_count": 21,
     "metadata": {},
     "output_type": "execute_result"
    }
   ],
   "source": [
    "pair_trafo = component('Trafo', signals_df.columns)\n",
    "pair_trafo"
   ]
  },
  {
   "cell_type": "code",
   "execution_count": 22,
   "id": "foster-python",
   "metadata": {
    "ExecuteTime": {
     "end_time": "2021-02-02T18:58:27.219639Z",
     "start_time": "2021-02-02T18:58:27.211423Z"
    }
   },
   "outputs": [
    {
     "data": {
      "text/plain": [
       "['Hyd_Oil_Temp_Avg']"
      ]
     },
     "execution_count": 22,
     "metadata": {},
     "output_type": "execute_result"
    }
   ],
   "source": [
    "pair_hyd = component('Hyd', signals_df.columns)\n",
    "pair_hyd"
   ]
  },
  {
   "cell_type": "markdown",
   "id": "meaning-representation",
   "metadata": {},
   "source": [
    "# Analysing by Component"
   ]
  },
  {
   "cell_type": "code",
   "execution_count": 23,
   "id": "natural-certificate",
   "metadata": {
    "ExecuteTime": {
     "end_time": "2021-02-02T18:58:27.235869Z",
     "start_time": "2021-02-02T18:58:27.228168Z"
    }
   },
   "outputs": [],
   "source": [
    "# I THINK METEREOLOGICAL DF IS REDUDANT. WIND SPEED IS VERY IMPORTANT BUT IS ALSO ALREADY IN SIGNALS DF. AMB TEMP ALSO\n",
    "# Let's only focus on signals_df_2016\n",
    "# Create datasets for each component and label by chosing the correct input variables\n",
    "\n",
    "\n",
    "# Since we don't know if the other variables are related to the failures, we will also take them in consideration\n",
    "# Didn't count with \"production\" - output and most of \"grid\"\n",
    "pair_rot = component('Rtr', signals_df.columns)\n",
    "pair_amb = component('Amb', signals_df.columns)\n",
    "pair_blds = component('Blds', signals_df.columns)\n",
    "pair_cont = component('Cont', signals_df.columns)\n",
    "pair_nac = component('Nac', signals_df.columns)\n",
    "pair_spin = component('Spin', signals_df.columns)\n",
    "pair_bus = component('Busbar', signals_df.columns)"
   ]
  },
  {
   "cell_type": "code",
   "execution_count": 24,
   "id": "skilled-honey",
   "metadata": {
    "ExecuteTime": {
     "end_time": "2021-02-02T18:58:27.250622Z",
     "start_time": "2021-02-02T18:58:27.242419Z"
    }
   },
   "outputs": [],
   "source": [
    "temp = signals_df_2016[['Turbine_ID']]"
   ]
  },
  {
   "cell_type": "code",
   "execution_count": 25,
   "id": "breeding-chapel",
   "metadata": {
    "ExecuteTime": {
     "end_time": "2021-02-02T18:58:27.402909Z",
     "start_time": "2021-02-02T18:58:27.255046Z"
    }
   },
   "outputs": [],
   "source": [
    "df_signals_generator = signals_df_2016[pair_gen + pair_rot + pair_amb + pair_blds + pair_cont + pair_nac + pair_spin + pair_bus]\n",
    "df_signals_gen_bear = signals_df_2016[pair_gen + pair_rot + pair_amb + pair_blds + pair_cont + pair_nac + pair_spin + pair_bus]\n",
    "df_signals_transformer = signals_df_2016[pair_trafo + pair_rot + pair_amb + pair_blds + pair_cont + pair_nac + pair_spin + pair_bus] \n",
    "df_signals_hydraulic = signals_df_2016[pair_hyd + pair_rot + pair_amb + pair_blds + pair_cont + pair_nac + pair_spin + pair_bus] \n",
    "df_signals_gearbox = signals_df_2016[pair_gear + pair_rot + pair_amb + pair_blds + pair_cont + pair_nac + pair_spin + pair_bus]"
   ]
  },
  {
   "cell_type": "code",
   "execution_count": 26,
   "id": "absolute-aggregate",
   "metadata": {
    "ExecuteTime": {
     "end_time": "2021-02-02T18:58:27.437902Z",
     "start_time": "2021-02-02T18:58:27.407964Z"
    }
   },
   "outputs": [
    {
     "name": "stderr",
     "output_type": "stream",
     "text": [
      "/home/guilherme/.pyenv/versions/3.7.2/lib/python3.7/site-packages/ipykernel_launcher.py:1: SettingWithCopyWarning: \n",
      "A value is trying to be set on a copy of a slice from a DataFrame.\n",
      "Try using .loc[row_indexer,col_indexer] = value instead\n",
      "\n",
      "See the caveats in the documentation: https://pandas.pydata.org/pandas-docs/stable/user_guide/indexing.html#returning-a-view-versus-a-copy\n",
      "  \"\"\"Entry point for launching an IPython kernel.\n",
      "/home/guilherme/.pyenv/versions/3.7.2/lib/python3.7/site-packages/ipykernel_launcher.py:2: SettingWithCopyWarning: \n",
      "A value is trying to be set on a copy of a slice from a DataFrame.\n",
      "Try using .loc[row_indexer,col_indexer] = value instead\n",
      "\n",
      "See the caveats in the documentation: https://pandas.pydata.org/pandas-docs/stable/user_guide/indexing.html#returning-a-view-versus-a-copy\n",
      "  \n",
      "/home/guilherme/.pyenv/versions/3.7.2/lib/python3.7/site-packages/ipykernel_launcher.py:3: SettingWithCopyWarning: \n",
      "A value is trying to be set on a copy of a slice from a DataFrame.\n",
      "Try using .loc[row_indexer,col_indexer] = value instead\n",
      "\n",
      "See the caveats in the documentation: https://pandas.pydata.org/pandas-docs/stable/user_guide/indexing.html#returning-a-view-versus-a-copy\n",
      "  This is separate from the ipykernel package so we can avoid doing imports until\n",
      "/home/guilherme/.pyenv/versions/3.7.2/lib/python3.7/site-packages/ipykernel_launcher.py:4: SettingWithCopyWarning: \n",
      "A value is trying to be set on a copy of a slice from a DataFrame.\n",
      "Try using .loc[row_indexer,col_indexer] = value instead\n",
      "\n",
      "See the caveats in the documentation: https://pandas.pydata.org/pandas-docs/stable/user_guide/indexing.html#returning-a-view-versus-a-copy\n",
      "  after removing the cwd from sys.path.\n",
      "/home/guilherme/.pyenv/versions/3.7.2/lib/python3.7/site-packages/ipykernel_launcher.py:5: SettingWithCopyWarning: \n",
      "A value is trying to be set on a copy of a slice from a DataFrame.\n",
      "Try using .loc[row_indexer,col_indexer] = value instead\n",
      "\n",
      "See the caveats in the documentation: https://pandas.pydata.org/pandas-docs/stable/user_guide/indexing.html#returning-a-view-versus-a-copy\n",
      "  \"\"\"\n"
     ]
    }
   ],
   "source": [
    "df_signals_generator['Turbine_ID'] = temp['Turbine_ID'].to_numpy()\n",
    "df_signals_gen_bear['Turbine_ID'] = temp['Turbine_ID'].to_numpy()\n",
    "df_signals_transformer['Turbine_ID'] = temp['Turbine_ID'].to_numpy()\n",
    "df_signals_hydraulic['Turbine_ID'] = temp['Turbine_ID'].to_numpy()\n",
    "df_signals_gearbox['Turbine_ID'] = temp['Turbine_ID'].to_numpy()"
   ]
  },
  {
   "cell_type": "code",
   "execution_count": 27,
   "id": "subjective-huntington",
   "metadata": {
    "ExecuteTime": {
     "end_time": "2021-02-02T18:58:27.467118Z",
     "start_time": "2021-02-02T18:58:27.441743Z"
    }
   },
   "outputs": [
    {
     "name": "stderr",
     "output_type": "stream",
     "text": [
      "/home/guilherme/.pyenv/versions/3.7.2/lib/python3.7/site-packages/pandas/core/frame.py:4527: SettingWithCopyWarning: \n",
      "A value is trying to be set on a copy of a slice from a DataFrame\n",
      "\n",
      "See the caveats in the documentation: https://pandas.pydata.org/pandas-docs/stable/user_guide/indexing.html#returning-a-view-versus-a-copy\n",
      "  method=method,\n"
     ]
    }
   ],
   "source": [
    "# Classification label\n",
    "failures_generator = failures_df[failures_df['Component'] == 'GENERATOR']\n",
    "failures_generator.replace('GENERATOR', 1, inplace=True)\n",
    "failures_gen_bear = failures_df[failures_df['Component'] == 'GENERATOR_BEARING']\n",
    "failures_gen_bear.replace('GENERATOR_BEARING', 1, inplace=True)\n",
    "failures_hyd = failures_df[failures_df['Component'] == 'HYDRAULIC_GROUP']\n",
    "failures_hyd.replace('HYDRAULIC_GROUP', 1, inplace=True)\n",
    "failures_gearbox = failures_df[failures_df['Component'] == 'GEARBOX']\n",
    "failures_gearbox.replace('GEARBOX', 1, inplace=True)\n",
    "failures_transf = failures_df[failures_df['Component'] == 'TRANSFORMER']\n",
    "failures_transf.replace('TRANSFORMER', 1, inplace=True)"
   ]
  },
  {
   "cell_type": "code",
   "execution_count": 28,
   "id": "southwest-rotation",
   "metadata": {
    "ExecuteTime": {
     "end_time": "2021-02-02T18:58:27.485700Z",
     "start_time": "2021-02-02T18:58:27.471470Z"
    }
   },
   "outputs": [],
   "source": [
    "failures_generator_2016 = failures_generator.loc[failures_generator.index < '2017']\n",
    "failures_gen_bear_2016 = failures_gen_bear.loc[failures_gen_bear.index < '2017']\n",
    "failures_hyd_2016 = failures_hyd.loc[failures_hyd.index < '2017']\n",
    "failures_gearbox_2016 = failures_gearbox.loc[failures_gearbox.index < '2017']\n",
    "failures_transf_2016 = failures_transf.loc[failures_transf.index < '2017']"
   ]
  },
  {
   "cell_type": "code",
   "execution_count": 29,
   "id": "applied-present",
   "metadata": {
    "ExecuteTime": {
     "end_time": "2021-02-02T18:58:27.503031Z",
     "start_time": "2021-02-02T18:58:27.489338Z"
    }
   },
   "outputs": [
    {
     "data": {
      "text/html": [
       "<div>\n",
       "<style scoped>\n",
       "    .dataframe tbody tr th:only-of-type {\n",
       "        vertical-align: middle;\n",
       "    }\n",
       "\n",
       "    .dataframe tbody tr th {\n",
       "        vertical-align: top;\n",
       "    }\n",
       "\n",
       "    .dataframe thead th {\n",
       "        text-align: right;\n",
       "    }\n",
       "</style>\n",
       "<table border=\"1\" class=\"dataframe\">\n",
       "  <thead>\n",
       "    <tr style=\"text-align: right;\">\n",
       "      <th></th>\n",
       "      <th>Turbine_ID</th>\n",
       "      <th>Component</th>\n",
       "      <th>Remarks</th>\n",
       "    </tr>\n",
       "    <tr>\n",
       "      <th>Timestamp</th>\n",
       "      <th></th>\n",
       "      <th></th>\n",
       "      <th></th>\n",
       "    </tr>\n",
       "  </thead>\n",
       "  <tbody>\n",
       "    <tr>\n",
       "      <th>2016-03-03 19:00:00+00:00</th>\n",
       "      <td>11</td>\n",
       "      <td>1</td>\n",
       "      <td>Electric circuit error in generator</td>\n",
       "    </tr>\n",
       "    <tr>\n",
       "      <th>2016-07-11 19:48:00+00:00</th>\n",
       "      <td>6</td>\n",
       "      <td>1</td>\n",
       "      <td>Generator replaced</td>\n",
       "    </tr>\n",
       "    <tr>\n",
       "      <th>2016-07-24 17:01:00+00:00</th>\n",
       "      <td>6</td>\n",
       "      <td>1</td>\n",
       "      <td>Generator temperature sensor failure</td>\n",
       "    </tr>\n",
       "    <tr>\n",
       "      <th>2016-09-04 08:08:00+00:00</th>\n",
       "      <td>6</td>\n",
       "      <td>1</td>\n",
       "      <td>High temperature generator error</td>\n",
       "    </tr>\n",
       "    <tr>\n",
       "      <th>2016-10-02 17:08:00+00:00</th>\n",
       "      <td>6</td>\n",
       "      <td>1</td>\n",
       "      <td>Refrigeration system and temperature sensors i...</td>\n",
       "    </tr>\n",
       "    <tr>\n",
       "      <th>2016-10-27 16:26:00+00:00</th>\n",
       "      <td>6</td>\n",
       "      <td>1</td>\n",
       "      <td>Generator replaced</td>\n",
       "    </tr>\n",
       "  </tbody>\n",
       "</table>\n",
       "</div>"
      ],
      "text/plain": [
       "                           Turbine_ID  Component  \\\n",
       "Timestamp                                          \n",
       "2016-03-03 19:00:00+00:00          11          1   \n",
       "2016-07-11 19:48:00+00:00           6          1   \n",
       "2016-07-24 17:01:00+00:00           6          1   \n",
       "2016-09-04 08:08:00+00:00           6          1   \n",
       "2016-10-02 17:08:00+00:00           6          1   \n",
       "2016-10-27 16:26:00+00:00           6          1   \n",
       "\n",
       "                                                                     Remarks  \n",
       "Timestamp                                                                     \n",
       "2016-03-03 19:00:00+00:00                Electric circuit error in generator  \n",
       "2016-07-11 19:48:00+00:00                                 Generator replaced  \n",
       "2016-07-24 17:01:00+00:00               Generator temperature sensor failure  \n",
       "2016-09-04 08:08:00+00:00                   High temperature generator error  \n",
       "2016-10-02 17:08:00+00:00  Refrigeration system and temperature sensors i...  \n",
       "2016-10-27 16:26:00+00:00                                 Generator replaced  "
      ]
     },
     "execution_count": 29,
     "metadata": {},
     "output_type": "execute_result"
    }
   ],
   "source": [
    "failures_generator_2016"
   ]
  },
  {
   "cell_type": "code",
   "execution_count": 30,
   "id": "conventional-alcohol",
   "metadata": {
    "ExecuteTime": {
     "end_time": "2021-02-02T18:58:27.528078Z",
     "start_time": "2021-02-02T18:58:27.507664Z"
    }
   },
   "outputs": [],
   "source": [
    "#Reset Index to merge df\n",
    "df_signals_generator.reset_index(inplace=True)\n",
    "df_signals_gen_bear.reset_index(inplace=True)\n",
    "df_signals_transformer.reset_index(inplace=True)\n",
    "df_signals_hydraulic.reset_index(inplace=True)\n",
    "df_signals_gearbox.reset_index(inplace=True)\n",
    "failures_generator_2016.reset_index(inplace=True)\n",
    "failures_gen_bear_2016.reset_index(inplace=True)\n",
    "failures_hyd_2016.reset_index(inplace=True)\n",
    "failures_gearbox_2016.reset_index(inplace=True)\n",
    "failures_transf_2016.reset_index(inplace=True)"
   ]
  },
  {
   "cell_type": "code",
   "execution_count": 31,
   "id": "first-lexington",
   "metadata": {
    "ExecuteTime": {
     "end_time": "2021-02-02T18:58:27.535518Z",
     "start_time": "2021-02-02T18:58:27.531114Z"
    }
   },
   "outputs": [],
   "source": [
    "#df_signals_generator_final = pd.merge_asof(df_signals_generator, failures_generator_2016, \n",
    " #                                          left_by='Timestamp', right_by='Timestamp', on = 'Turbine_ID', \n",
    "  #                                         direction='nearest')\n",
    "#df_signals_gen_bear_final = pd.merge_asof(df_signals_gen_bear, failures_gen_bear_2016, \n",
    "#                                           left_index=True, right_index=True,  left_by='Turbine_ID', right_by='Turbine_ID',\n",
    "#                                          tolerance=pd.Timedelta(\"5m\"))\n",
    "#df_signals_hyd_final = pd.merge_asof(df_signals_hydraulic, failures_hyd_2016, \n",
    "#                                           left_index=True, right_index=True, by='Turbine_ID', tolerance=pd.Timedelta(\"1d\"))\n",
    "#df_signals_gearbox_final = pd.merge_asof(df_signals_gearbox, failures_gearbox_2016, \n",
    "#                                           left_index=True, right_index=True, by='Turbine_ID', tolerance=pd.Timedelta(\"1d\"))\n",
    "#df_signals_transf_final = pd.merge_asof(df_signals_transformer, failures_transf_2016, \n",
    "#                                           left_index=True, right_index=True, by='Turbine_ID', tolerance=pd.Timedelta(\"1d\"))"
   ]
  },
  {
   "cell_type": "markdown",
   "id": "vanilla-panel",
   "metadata": {},
   "source": [
    "##### Não estou a conseguir fazer o merge desta forma"
   ]
  },
  {
   "cell_type": "code",
   "execution_count": 32,
   "id": "square-point",
   "metadata": {
    "ExecuteTime": {
     "end_time": "2021-02-02T18:58:27.567224Z",
     "start_time": "2021-02-02T18:58:27.539470Z"
    }
   },
   "outputs": [],
   "source": [
    "#Reset Index to merge df\n",
    "df_signals_generator.reset_index(inplace=True)\n",
    "df_signals_gen_bear.reset_index(inplace=True)\n",
    "df_signals_transformer.reset_index(inplace=True)\n",
    "df_signals_hydraulic.reset_index(inplace=True)\n",
    "df_signals_gearbox.reset_index(inplace=True)\n",
    "failures_generator_2016.reset_index(inplace=True)\n",
    "failures_gen_bear_2016.reset_index(inplace=True)\n",
    "failures_hyd_2016.reset_index(inplace=True)\n",
    "failures_gearbox_2016.reset_index(inplace=True)\n",
    "failures_transf_2016.reset_index(inplace=True)"
   ]
  },
  {
   "cell_type": "code",
   "execution_count": 33,
   "id": "aging-flush",
   "metadata": {
    "ExecuteTime": {
     "end_time": "2021-02-02T18:58:28.606790Z",
     "start_time": "2021-02-02T18:58:27.572199Z"
    }
   },
   "outputs": [],
   "source": [
    "df_signals_generator_final = df_signals_generator.merge(failures_generator_2016, on=['Timestamp', 'Turbine_ID'], how='outer')\n",
    "df_signals_gen_bear_final = df_signals_gen_bear.merge(failures_gen_bear_2016, on=['Timestamp', 'Turbine_ID'], how='outer')\n",
    "df_signals_hyd_final = df_signals_hydraulic.merge(failures_hyd_2016, on=['Timestamp', 'Turbine_ID'], how='outer')\n",
    "df_signals_gearbox_final = df_signals_gearbox.merge(failures_gearbox_2016, on=['Timestamp', 'Turbine_ID'], how='outer')\n",
    "df_signals_transf_final = df_signals_transformer.merge(failures_transf_2016, on=['Timestamp', 'Turbine_ID'], how='outer')"
   ]
  },
  {
   "cell_type": "code",
   "execution_count": 34,
   "id": "rotary-manner",
   "metadata": {
    "ExecuteTime": {
     "end_time": "2021-02-02T18:58:28.864321Z",
     "start_time": "2021-02-02T18:58:28.608867Z"
    }
   },
   "outputs": [],
   "source": [
    "#Drop Remarks, index_x, index_y Columns\n",
    "df_signals_generator_final.drop(columns=['Remarks', 'index_x', 'index_y'], inplace=True)\n",
    "df_signals_gen_bear_final.drop(columns=['Remarks', 'index_x', 'index_y'], inplace=True)\n",
    "df_signals_hyd_final.drop(columns=['Remarks', 'index_x', 'index_y'], inplace=True)\n",
    "df_signals_gearbox_final.drop(columns=['Remarks', 'index_x', 'index_y'], inplace=True)\n",
    "df_signals_transf_final.drop(columns=['Remarks', 'index_x', 'index_y'], inplace=True)"
   ]
  },
  {
   "cell_type": "code",
   "execution_count": 35,
   "id": "noted-concentration",
   "metadata": {
    "ExecuteTime": {
     "end_time": "2021-02-02T18:58:28.880497Z",
     "start_time": "2021-02-02T18:58:28.866545Z"
    }
   },
   "outputs": [],
   "source": [
    "#Fill na on component column\n",
    "df_signals_generator_final['Component'].fillna(0, inplace=True)\n",
    "df_signals_gen_bear_final['Component'].fillna(0, inplace=True)\n",
    "df_signals_hyd_final['Component'].fillna(0, inplace=True)\n",
    "df_signals_gearbox_final['Component'].fillna(0, inplace=True)\n",
    "df_signals_transf_final['Component'].fillna(0, inplace=True)"
   ]
  },
  {
   "cell_type": "code",
   "execution_count": 36,
   "id": "round-participant",
   "metadata": {
    "ExecuteTime": {
     "end_time": "2021-02-02T18:58:28.894210Z",
     "start_time": "2021-02-02T18:58:28.883628Z"
    }
   },
   "outputs": [],
   "source": [
    "# Set Timestamp as Index\n",
    "df_signals_generator_final.set_index('Timestamp', inplace=True)\n",
    "df_signals_gen_bear_final.set_index('Timestamp', inplace=True)\n",
    "df_signals_hyd_final.set_index('Timestamp', inplace=True)\n",
    "df_signals_gearbox_final.set_index('Timestamp', inplace=True)\n",
    "df_signals_transf_final.set_index('Timestamp', inplace=True)"
   ]
  },
  {
   "cell_type": "code",
   "execution_count": 37,
   "id": "ancient-suggestion",
   "metadata": {
    "ExecuteTime": {
     "end_time": "2021-02-02T18:58:29.079645Z",
     "start_time": "2021-02-02T18:58:28.897523Z"
    }
   },
   "outputs": [],
   "source": [
    "# Sort Index\n",
    "df_signals_generator_final.sort_index(inplace=True)\n",
    "df_signals_gen_bear_final.sort_index(inplace=True)                                      \n",
    "df_signals_hyd_final.sort_index(inplace=True)\n",
    "df_signals_gearbox_final.sort_index(inplace=True)\n",
    "df_signals_transf_final.sort_index(inplace=True)"
   ]
  },
  {
   "cell_type": "code",
   "execution_count": 38,
   "id": "lesbian-arena",
   "metadata": {
    "ExecuteTime": {
     "end_time": "2021-02-02T18:58:30.529975Z",
     "start_time": "2021-02-02T18:58:29.082274Z"
    }
   },
   "outputs": [],
   "source": [
    "# Fill na by interpolate\n",
    "df_signals_generator_final = df_signals_generator_final.interpolate()\n",
    "df_signals_gen_bear_final = df_signals_gen_bear_final.interpolate()\n",
    "df_signals_hyd_final = df_signals_hyd_final.interpolate()\n",
    "df_signals_gearbox_final = df_signals_gearbox_final.interpolate()\n",
    "df_signals_transf_final = df_signals_transf_final.interpolate()"
   ]
  },
  {
   "cell_type": "code",
   "execution_count": 39,
   "id": "handed-india",
   "metadata": {
    "ExecuteTime": {
     "end_time": "2021-02-02T18:58:30.597095Z",
     "start_time": "2021-02-02T18:58:30.532252Z"
    }
   },
   "outputs": [
    {
     "name": "stdout",
     "output_type": "stream",
     "text": [
      "False\n",
      "False\n",
      "False\n",
      "False\n",
      "False\n"
     ]
    }
   ],
   "source": [
    "#Checking null values in DF's\n",
    "print(df_signals_generator_final.isnull().values.any())\n",
    "print(df_signals_gearbox_final.isnull().values.any())\n",
    "print(df_signals_gen_bear_final.isnull().values.any())\n",
    "print(df_signals_hyd_final.isnull().values.any())\n",
    "print(df_signals_transf_final.isnull().values.any())"
   ]
  },
  {
   "cell_type": "code",
   "execution_count": 40,
   "id": "irish-heavy",
   "metadata": {
    "ExecuteTime": {
     "end_time": "2021-02-02T18:58:30.603630Z",
     "start_time": "2021-02-02T18:58:30.600168Z"
    }
   },
   "outputs": [],
   "source": [
    "# DROP ROWS OF TURBINES WHERE IS NO FAILURES ASSOCIATED"
   ]
  },
  {
   "cell_type": "markdown",
   "id": "union-carrier",
   "metadata": {},
   "source": [
    "# Base Model for Generator Failures 2016"
   ]
  },
  {
   "cell_type": "code",
   "execution_count": 41,
   "id": "trying-shield",
   "metadata": {
    "ExecuteTime": {
     "end_time": "2021-02-02T18:58:30.625541Z",
     "start_time": "2021-02-02T18:58:30.607240Z"
    }
   },
   "outputs": [],
   "source": [
    "X = df_signals_generator_final.drop(columns='Component')\n",
    "y = df_signals_generator_final['Component']"
   ]
  },
  {
   "cell_type": "code",
   "execution_count": 42,
   "id": "exact-dictionary",
   "metadata": {
    "ExecuteTime": {
     "end_time": "2021-02-02T18:58:30.641939Z",
     "start_time": "2021-02-02T18:58:30.629247Z"
    }
   },
   "outputs": [
    {
     "data": {
      "text/plain": [
       "Timestamp\n",
       "2016-01-01 00:00:00+00:00    0.0\n",
       "2016-01-01 00:00:00+00:00    0.0\n",
       "2016-01-01 00:00:00+00:00    0.0\n",
       "2016-01-01 00:00:00+00:00    0.0\n",
       "2016-01-01 00:00:00+00:00    0.0\n",
       "                            ... \n",
       "2016-12-31 23:50:00+00:00    0.0\n",
       "2016-12-31 23:50:00+00:00    0.0\n",
       "2016-12-31 23:50:00+00:00    0.0\n",
       "2016-12-31 23:50:00+00:00    0.0\n",
       "2016-12-31 23:50:00+00:00    0.0\n",
       "Name: Component, Length: 260284, dtype: float64"
      ]
     },
     "execution_count": 42,
     "metadata": {},
     "output_type": "execute_result"
    }
   ],
   "source": [
    "y"
   ]
  },
  {
   "cell_type": "code",
   "execution_count": 43,
   "id": "normal-insider",
   "metadata": {
    "ExecuteTime": {
     "end_time": "2021-02-02T18:58:30.650406Z",
     "start_time": "2021-02-02T18:58:30.644905Z"
    }
   },
   "outputs": [],
   "source": [
    "### Split Train and Test\n",
    "#split = int(len(X)*0.8)\n",
    "#X_train, X_test = X[:split], X[split:] \n",
    "#y_train, y_test = y[:split], y[split:]"
   ]
  },
  {
   "cell_type": "code",
   "execution_count": 44,
   "id": "mysterious-degree",
   "metadata": {
    "ExecuteTime": {
     "end_time": "2021-02-02T18:58:30.660588Z",
     "start_time": "2021-02-02T18:58:30.653437Z"
    }
   },
   "outputs": [],
   "source": [
    "#Standard Scaler\n",
    "#scaler = StandardScaler()\n",
    "#X_train_scaled = scaler.fit_transform(X_train)\n",
    "#X_test_scaled = scaler.transform(X_test)"
   ]
  },
  {
   "cell_type": "code",
   "execution_count": 45,
   "id": "stylish-morocco",
   "metadata": {
    "ExecuteTime": {
     "end_time": "2021-02-02T18:58:30.753162Z",
     "start_time": "2021-02-02T18:58:30.663596Z"
    }
   },
   "outputs": [],
   "source": [
    "from sklearn.ensemble import RandomForestClassifier\n",
    "from sklearn.metrics import accuracy_score\n",
    "\n",
    "#rnd_clf = RandomForestClassifier(n_estimators=500, n_jobs=-1)\n",
    "#rnd_clf.fit(X_train, y_train)"
   ]
  },
  {
   "cell_type": "code",
   "execution_count": 46,
   "id": "hairy-double",
   "metadata": {
    "ExecuteTime": {
     "end_time": "2021-02-02T18:58:30.762503Z",
     "start_time": "2021-02-02T18:58:30.758211Z"
    }
   },
   "outputs": [],
   "source": [
    "#y_pred_test = rnd_clf.predict(X_test)"
   ]
  },
  {
   "cell_type": "code",
   "execution_count": 47,
   "id": "advised-opposition",
   "metadata": {
    "ExecuteTime": {
     "end_time": "2021-02-02T18:58:30.779564Z",
     "start_time": "2021-02-02T18:58:30.766588Z"
    }
   },
   "outputs": [],
   "source": [
    "#accuracy_score(y_test, y_pred_test)"
   ]
  },
  {
   "cell_type": "markdown",
   "id": "surgical-contest",
   "metadata": {},
   "source": [
    "# Label RUL"
   ]
  },
  {
   "cell_type": "code",
   "execution_count": 48,
   "id": "sustainable-strand",
   "metadata": {
    "ExecuteTime": {
     "end_time": "2021-02-02T18:58:30.797005Z",
     "start_time": "2021-02-02T18:58:30.782737Z"
    }
   },
   "outputs": [
    {
     "data": {
      "text/plain": [
       "((260279, 32), (260284, 44), (260281, 44), (260280, 31), (260280, 33))"
      ]
     },
     "execution_count": 48,
     "metadata": {},
     "output_type": "execute_result"
    }
   ],
   "source": [
    "# Creating DF's for Regression Problem Approach\n",
    "df_signals_gearbox_final.shape, df_signals_generator_final.shape, df_signals_gen_bear_final.shape, df_signals_hyd_final.shape, df_signals_transf_final.shape"
   ]
  },
  {
   "cell_type": "code",
   "execution_count": 49,
   "id": "loaded-tradition",
   "metadata": {
    "ExecuteTime": {
     "end_time": "2021-02-02T18:58:30.813328Z",
     "start_time": "2021-02-02T18:58:30.800574Z"
    }
   },
   "outputs": [
    {
     "data": {
      "text/plain": [
       "11    52447\n",
       "7     52445\n",
       "1     52439\n",
       "9     52373\n",
       "6     50580\n",
       "Name: Turbine_ID, dtype: int64"
      ]
     },
     "execution_count": 49,
     "metadata": {},
     "output_type": "execute_result"
    }
   ],
   "source": [
    "df_signals_generator_final['Turbine_ID'].value_counts()"
   ]
  },
  {
   "cell_type": "markdown",
   "id": "descending-designer",
   "metadata": {},
   "source": [
    "# DF RUL Failures Generator"
   ]
  },
  {
   "cell_type": "code",
   "execution_count": 50,
   "id": "convinced-immigration",
   "metadata": {
    "ExecuteTime": {
     "end_time": "2021-02-02T18:58:31.161092Z",
     "start_time": "2021-02-02T18:58:30.816337Z"
    }
   },
   "outputs": [],
   "source": [
    "df_signals_generator_final = df_signals_generator_final.groupby(by=['Timestamp','Turbine_ID']).mean()"
   ]
  },
  {
   "cell_type": "code",
   "execution_count": 51,
   "id": "shaped-prairie",
   "metadata": {
    "ExecuteTime": {
     "end_time": "2021-02-02T18:58:31.283289Z",
     "start_time": "2021-02-02T18:58:31.163980Z"
    }
   },
   "outputs": [],
   "source": [
    "df_signals_generator_final.sort_values(['Turbine_ID','Timestamp'], inplace=True)"
   ]
  },
  {
   "cell_type": "code",
   "execution_count": 52,
   "id": "classical-enough",
   "metadata": {
    "ExecuteTime": {
     "end_time": "2021-02-02T18:58:31.296983Z",
     "start_time": "2021-02-02T18:58:31.286199Z"
    }
   },
   "outputs": [],
   "source": [
    "df_signals_generator_final.reset_index(inplace=True)"
   ]
  },
  {
   "cell_type": "code",
   "execution_count": 53,
   "id": "legal-spiritual",
   "metadata": {
    "ExecuteTime": {
     "end_time": "2021-02-02T18:58:31.320838Z",
     "start_time": "2021-02-02T18:58:31.300247Z"
    }
   },
   "outputs": [],
   "source": [
    "#DF Signals Generator failures on turbine 6 and 11 in 2016\n",
    "df_signals_generator_t6 = df_signals_generator_final[df_signals_generator_final['Turbine_ID'] == 6]\n",
    "df_signals_generator_t11 = df_signals_generator_final[df_signals_generator_final['Turbine_ID'] == 11]"
   ]
  },
  {
   "cell_type": "code",
   "execution_count": 54,
   "id": "wound-finland",
   "metadata": {
    "ExecuteTime": {
     "end_time": "2021-02-02T18:58:31.335794Z",
     "start_time": "2021-02-02T18:58:31.324289Z"
    }
   },
   "outputs": [],
   "source": [
    "df_signals_generator_t6.loc[df_signals_generator_t6['Component'] == 1,'Timestamp']\n",
    "df_signals_generator_t6 = df_signals_generator_t6.truncate(after=93898)"
   ]
  },
  {
   "cell_type": "code",
   "execution_count": 55,
   "id": "acknowledged-deficit",
   "metadata": {
    "ExecuteTime": {
     "end_time": "2021-02-02T18:58:31.348650Z",
     "start_time": "2021-02-02T18:58:31.339577Z"
    }
   },
   "outputs": [],
   "source": [
    "df_signals_generator_t11.loc[df_signals_generator_t11['Component'] == 1,'Timestamp']\n",
    "df_signals_generator_t11 = df_signals_generator_t11.truncate(after=216852)"
   ]
  },
  {
   "cell_type": "code",
   "execution_count": 56,
   "id": "competent-figure",
   "metadata": {
    "ExecuteTime": {
     "end_time": "2021-02-02T18:58:31.423128Z",
     "start_time": "2021-02-02T18:58:31.353298Z"
    }
   },
   "outputs": [
    {
     "data": {
      "text/html": [
       "<div>\n",
       "<style scoped>\n",
       "    .dataframe tbody tr th:only-of-type {\n",
       "        vertical-align: middle;\n",
       "    }\n",
       "\n",
       "    .dataframe tbody tr th {\n",
       "        vertical-align: top;\n",
       "    }\n",
       "\n",
       "    .dataframe thead th {\n",
       "        text-align: right;\n",
       "    }\n",
       "</style>\n",
       "<table border=\"1\" class=\"dataframe\">\n",
       "  <thead>\n",
       "    <tr style=\"text-align: right;\">\n",
       "      <th></th>\n",
       "      <th>Timestamp</th>\n",
       "      <th>Turbine_ID</th>\n",
       "      <th>Gen_RPM_Max</th>\n",
       "      <th>Gen_RPM_Min</th>\n",
       "      <th>Gen_RPM_Avg</th>\n",
       "      <th>Gen_RPM_Std</th>\n",
       "      <th>Gen_Bear_Temp_Avg</th>\n",
       "      <th>Gen_Phase1_Temp_Avg</th>\n",
       "      <th>Gen_Phase2_Temp_Avg</th>\n",
       "      <th>Gen_Phase3_Temp_Avg</th>\n",
       "      <th>...</th>\n",
       "      <th>Cont_Top_Temp_Avg</th>\n",
       "      <th>Cont_Hub_Temp_Avg</th>\n",
       "      <th>Cont_VCP_Temp_Avg</th>\n",
       "      <th>Cont_VCP_ChokcoilTemp_Avg</th>\n",
       "      <th>Cont_VCP_WtrTemp_Avg</th>\n",
       "      <th>Nac_Temp_Avg</th>\n",
       "      <th>Nac_Direction_Avg</th>\n",
       "      <th>Spin_Temp_Avg</th>\n",
       "      <th>Grd_Busbar_Temp_Avg</th>\n",
       "      <th>Component</th>\n",
       "    </tr>\n",
       "  </thead>\n",
       "  <tbody>\n",
       "    <tr>\n",
       "      <th>52433</th>\n",
       "      <td>2016-01-01 00:00:00+00:00</td>\n",
       "      <td>6</td>\n",
       "      <td>1270.0</td>\n",
       "      <td>1232.80</td>\n",
       "      <td>1248.5</td>\n",
       "      <td>6.8</td>\n",
       "      <td>42.0</td>\n",
       "      <td>51.0</td>\n",
       "      <td>52.0</td>\n",
       "      <td>53.0</td>\n",
       "      <td>...</td>\n",
       "      <td>38.0</td>\n",
       "      <td>28.0</td>\n",
       "      <td>38.0</td>\n",
       "      <td>96.0</td>\n",
       "      <td>38.0</td>\n",
       "      <td>29.0</td>\n",
       "      <td>204.60</td>\n",
       "      <td>20.0</td>\n",
       "      <td>37.0</td>\n",
       "      <td>0.0</td>\n",
       "    </tr>\n",
       "    <tr>\n",
       "      <th>52434</th>\n",
       "      <td>2016-01-01 00:10:00+00:00</td>\n",
       "      <td>6</td>\n",
       "      <td>1429.7</td>\n",
       "      <td>203.90</td>\n",
       "      <td>1154.1</td>\n",
       "      <td>271.7</td>\n",
       "      <td>42.0</td>\n",
       "      <td>51.0</td>\n",
       "      <td>52.0</td>\n",
       "      <td>52.0</td>\n",
       "      <td>...</td>\n",
       "      <td>38.0</td>\n",
       "      <td>28.0</td>\n",
       "      <td>38.0</td>\n",
       "      <td>96.0</td>\n",
       "      <td>37.0</td>\n",
       "      <td>29.0</td>\n",
       "      <td>210.50</td>\n",
       "      <td>20.0</td>\n",
       "      <td>37.0</td>\n",
       "      <td>0.0</td>\n",
       "    </tr>\n",
       "    <tr>\n",
       "      <th>52435</th>\n",
       "      <td>2016-01-01 00:20:00+00:00</td>\n",
       "      <td>6</td>\n",
       "      <td>1360.5</td>\n",
       "      <td>250.30</td>\n",
       "      <td>1041.4</td>\n",
       "      <td>382.7</td>\n",
       "      <td>42.0</td>\n",
       "      <td>50.0</td>\n",
       "      <td>51.0</td>\n",
       "      <td>51.0</td>\n",
       "      <td>...</td>\n",
       "      <td>38.0</td>\n",
       "      <td>27.0</td>\n",
       "      <td>38.0</td>\n",
       "      <td>93.0</td>\n",
       "      <td>39.0</td>\n",
       "      <td>29.0</td>\n",
       "      <td>199.00</td>\n",
       "      <td>20.0</td>\n",
       "      <td>37.0</td>\n",
       "      <td>0.0</td>\n",
       "    </tr>\n",
       "    <tr>\n",
       "      <th>52436</th>\n",
       "      <td>2016-01-01 00:30:00+00:00</td>\n",
       "      <td>6</td>\n",
       "      <td>1399.2</td>\n",
       "      <td>1228.80</td>\n",
       "      <td>1252.5</td>\n",
       "      <td>16.5</td>\n",
       "      <td>42.0</td>\n",
       "      <td>49.0</td>\n",
       "      <td>50.0</td>\n",
       "      <td>50.0</td>\n",
       "      <td>...</td>\n",
       "      <td>38.0</td>\n",
       "      <td>27.0</td>\n",
       "      <td>38.0</td>\n",
       "      <td>92.0</td>\n",
       "      <td>39.0</td>\n",
       "      <td>29.0</td>\n",
       "      <td>205.60</td>\n",
       "      <td>20.0</td>\n",
       "      <td>37.0</td>\n",
       "      <td>0.0</td>\n",
       "    </tr>\n",
       "    <tr>\n",
       "      <th>52437</th>\n",
       "      <td>2016-01-01 00:40:00+00:00</td>\n",
       "      <td>6</td>\n",
       "      <td>1302.7</td>\n",
       "      <td>1225.10</td>\n",
       "      <td>1257.6</td>\n",
       "      <td>13.4</td>\n",
       "      <td>41.0</td>\n",
       "      <td>50.0</td>\n",
       "      <td>50.0</td>\n",
       "      <td>51.0</td>\n",
       "      <td>...</td>\n",
       "      <td>38.0</td>\n",
       "      <td>27.0</td>\n",
       "      <td>38.0</td>\n",
       "      <td>94.0</td>\n",
       "      <td>38.0</td>\n",
       "      <td>29.0</td>\n",
       "      <td>207.40</td>\n",
       "      <td>20.0</td>\n",
       "      <td>37.0</td>\n",
       "      <td>0.0</td>\n",
       "    </tr>\n",
       "    <tr>\n",
       "      <th>...</th>\n",
       "      <td>...</td>\n",
       "      <td>...</td>\n",
       "      <td>...</td>\n",
       "      <td>...</td>\n",
       "      <td>...</td>\n",
       "      <td>...</td>\n",
       "      <td>...</td>\n",
       "      <td>...</td>\n",
       "      <td>...</td>\n",
       "      <td>...</td>\n",
       "      <td>...</td>\n",
       "      <td>...</td>\n",
       "      <td>...</td>\n",
       "      <td>...</td>\n",
       "      <td>...</td>\n",
       "      <td>...</td>\n",
       "      <td>...</td>\n",
       "      <td>...</td>\n",
       "      <td>...</td>\n",
       "      <td>...</td>\n",
       "      <td>...</td>\n",
       "    </tr>\n",
       "    <tr>\n",
       "      <th>93894</th>\n",
       "      <td>2016-10-27 15:50:00+00:00</td>\n",
       "      <td>6</td>\n",
       "      <td>1798.6</td>\n",
       "      <td>1606.60</td>\n",
       "      <td>1679.9</td>\n",
       "      <td>28.2</td>\n",
       "      <td>88.0</td>\n",
       "      <td>130.0</td>\n",
       "      <td>133.0</td>\n",
       "      <td>117.0</td>\n",
       "      <td>...</td>\n",
       "      <td>54.0</td>\n",
       "      <td>33.0</td>\n",
       "      <td>51.0</td>\n",
       "      <td>136.0</td>\n",
       "      <td>42.0</td>\n",
       "      <td>40.0</td>\n",
       "      <td>100.80</td>\n",
       "      <td>27.0</td>\n",
       "      <td>56.0</td>\n",
       "      <td>0.0</td>\n",
       "    </tr>\n",
       "    <tr>\n",
       "      <th>93895</th>\n",
       "      <td>2016-10-27 16:00:00+00:00</td>\n",
       "      <td>6</td>\n",
       "      <td>1758.4</td>\n",
       "      <td>1614.50</td>\n",
       "      <td>1680.0</td>\n",
       "      <td>25.1</td>\n",
       "      <td>88.0</td>\n",
       "      <td>130.0</td>\n",
       "      <td>133.0</td>\n",
       "      <td>117.0</td>\n",
       "      <td>...</td>\n",
       "      <td>54.0</td>\n",
       "      <td>33.0</td>\n",
       "      <td>51.0</td>\n",
       "      <td>136.0</td>\n",
       "      <td>42.0</td>\n",
       "      <td>40.0</td>\n",
       "      <td>91.70</td>\n",
       "      <td>27.0</td>\n",
       "      <td>56.0</td>\n",
       "      <td>0.0</td>\n",
       "    </tr>\n",
       "    <tr>\n",
       "      <th>93896</th>\n",
       "      <td>2016-10-27 16:10:00+00:00</td>\n",
       "      <td>6</td>\n",
       "      <td>1795.0</td>\n",
       "      <td>1609.30</td>\n",
       "      <td>1681.6</td>\n",
       "      <td>25.6</td>\n",
       "      <td>88.0</td>\n",
       "      <td>130.0</td>\n",
       "      <td>133.0</td>\n",
       "      <td>117.0</td>\n",
       "      <td>...</td>\n",
       "      <td>54.0</td>\n",
       "      <td>33.0</td>\n",
       "      <td>51.0</td>\n",
       "      <td>136.0</td>\n",
       "      <td>42.0</td>\n",
       "      <td>39.0</td>\n",
       "      <td>95.20</td>\n",
       "      <td>27.0</td>\n",
       "      <td>56.0</td>\n",
       "      <td>0.0</td>\n",
       "    </tr>\n",
       "    <tr>\n",
       "      <th>93897</th>\n",
       "      <td>2016-10-27 16:20:00+00:00</td>\n",
       "      <td>6</td>\n",
       "      <td>1796.3</td>\n",
       "      <td>1577.80</td>\n",
       "      <td>1677.8</td>\n",
       "      <td>31.0</td>\n",
       "      <td>88.0</td>\n",
       "      <td>130.0</td>\n",
       "      <td>133.0</td>\n",
       "      <td>117.0</td>\n",
       "      <td>...</td>\n",
       "      <td>54.0</td>\n",
       "      <td>33.0</td>\n",
       "      <td>51.0</td>\n",
       "      <td>136.0</td>\n",
       "      <td>42.0</td>\n",
       "      <td>39.0</td>\n",
       "      <td>93.10</td>\n",
       "      <td>27.0</td>\n",
       "      <td>56.0</td>\n",
       "      <td>0.0</td>\n",
       "    </tr>\n",
       "    <tr>\n",
       "      <th>93898</th>\n",
       "      <td>2016-10-27 16:26:00+00:00</td>\n",
       "      <td>6</td>\n",
       "      <td>1769.6</td>\n",
       "      <td>1371.55</td>\n",
       "      <td>1640.1</td>\n",
       "      <td>57.1</td>\n",
       "      <td>82.5</td>\n",
       "      <td>112.5</td>\n",
       "      <td>112.5</td>\n",
       "      <td>112.5</td>\n",
       "      <td>...</td>\n",
       "      <td>52.0</td>\n",
       "      <td>35.0</td>\n",
       "      <td>53.0</td>\n",
       "      <td>116.5</td>\n",
       "      <td>42.5</td>\n",
       "      <td>38.5</td>\n",
       "      <td>111.05</td>\n",
       "      <td>28.0</td>\n",
       "      <td>52.5</td>\n",
       "      <td>1.0</td>\n",
       "    </tr>\n",
       "  </tbody>\n",
       "</table>\n",
       "<p>41466 rows × 45 columns</p>\n",
       "</div>"
      ],
      "text/plain": [
       "                      Timestamp  Turbine_ID  Gen_RPM_Max  Gen_RPM_Min  \\\n",
       "52433 2016-01-01 00:00:00+00:00           6       1270.0      1232.80   \n",
       "52434 2016-01-01 00:10:00+00:00           6       1429.7       203.90   \n",
       "52435 2016-01-01 00:20:00+00:00           6       1360.5       250.30   \n",
       "52436 2016-01-01 00:30:00+00:00           6       1399.2      1228.80   \n",
       "52437 2016-01-01 00:40:00+00:00           6       1302.7      1225.10   \n",
       "...                         ...         ...          ...          ...   \n",
       "93894 2016-10-27 15:50:00+00:00           6       1798.6      1606.60   \n",
       "93895 2016-10-27 16:00:00+00:00           6       1758.4      1614.50   \n",
       "93896 2016-10-27 16:10:00+00:00           6       1795.0      1609.30   \n",
       "93897 2016-10-27 16:20:00+00:00           6       1796.3      1577.80   \n",
       "93898 2016-10-27 16:26:00+00:00           6       1769.6      1371.55   \n",
       "\n",
       "       Gen_RPM_Avg  Gen_RPM_Std  Gen_Bear_Temp_Avg  Gen_Phase1_Temp_Avg  \\\n",
       "52433       1248.5          6.8               42.0                 51.0   \n",
       "52434       1154.1        271.7               42.0                 51.0   \n",
       "52435       1041.4        382.7               42.0                 50.0   \n",
       "52436       1252.5         16.5               42.0                 49.0   \n",
       "52437       1257.6         13.4               41.0                 50.0   \n",
       "...            ...          ...                ...                  ...   \n",
       "93894       1679.9         28.2               88.0                130.0   \n",
       "93895       1680.0         25.1               88.0                130.0   \n",
       "93896       1681.6         25.6               88.0                130.0   \n",
       "93897       1677.8         31.0               88.0                130.0   \n",
       "93898       1640.1         57.1               82.5                112.5   \n",
       "\n",
       "       Gen_Phase2_Temp_Avg  Gen_Phase3_Temp_Avg  ...  Cont_Top_Temp_Avg  \\\n",
       "52433                 52.0                 53.0  ...               38.0   \n",
       "52434                 52.0                 52.0  ...               38.0   \n",
       "52435                 51.0                 51.0  ...               38.0   \n",
       "52436                 50.0                 50.0  ...               38.0   \n",
       "52437                 50.0                 51.0  ...               38.0   \n",
       "...                    ...                  ...  ...                ...   \n",
       "93894                133.0                117.0  ...               54.0   \n",
       "93895                133.0                117.0  ...               54.0   \n",
       "93896                133.0                117.0  ...               54.0   \n",
       "93897                133.0                117.0  ...               54.0   \n",
       "93898                112.5                112.5  ...               52.0   \n",
       "\n",
       "       Cont_Hub_Temp_Avg  Cont_VCP_Temp_Avg  Cont_VCP_ChokcoilTemp_Avg  \\\n",
       "52433               28.0               38.0                       96.0   \n",
       "52434               28.0               38.0                       96.0   \n",
       "52435               27.0               38.0                       93.0   \n",
       "52436               27.0               38.0                       92.0   \n",
       "52437               27.0               38.0                       94.0   \n",
       "...                  ...                ...                        ...   \n",
       "93894               33.0               51.0                      136.0   \n",
       "93895               33.0               51.0                      136.0   \n",
       "93896               33.0               51.0                      136.0   \n",
       "93897               33.0               51.0                      136.0   \n",
       "93898               35.0               53.0                      116.5   \n",
       "\n",
       "       Cont_VCP_WtrTemp_Avg  Nac_Temp_Avg  Nac_Direction_Avg  Spin_Temp_Avg  \\\n",
       "52433                  38.0          29.0             204.60           20.0   \n",
       "52434                  37.0          29.0             210.50           20.0   \n",
       "52435                  39.0          29.0             199.00           20.0   \n",
       "52436                  39.0          29.0             205.60           20.0   \n",
       "52437                  38.0          29.0             207.40           20.0   \n",
       "...                     ...           ...                ...            ...   \n",
       "93894                  42.0          40.0             100.80           27.0   \n",
       "93895                  42.0          40.0              91.70           27.0   \n",
       "93896                  42.0          39.0              95.20           27.0   \n",
       "93897                  42.0          39.0              93.10           27.0   \n",
       "93898                  42.5          38.5             111.05           28.0   \n",
       "\n",
       "       Grd_Busbar_Temp_Avg  Component  \n",
       "52433                 37.0        0.0  \n",
       "52434                 37.0        0.0  \n",
       "52435                 37.0        0.0  \n",
       "52436                 37.0        0.0  \n",
       "52437                 37.0        0.0  \n",
       "...                    ...        ...  \n",
       "93894                 56.0        0.0  \n",
       "93895                 56.0        0.0  \n",
       "93896                 56.0        0.0  \n",
       "93897                 56.0        0.0  \n",
       "93898                 52.5        1.0  \n",
       "\n",
       "[41466 rows x 45 columns]"
      ]
     },
     "execution_count": 56,
     "metadata": {},
     "output_type": "execute_result"
    }
   ],
   "source": [
    "df_signals_generator_t6"
   ]
  },
  {
   "cell_type": "code",
   "execution_count": 57,
   "id": "massive-holder",
   "metadata": {
    "ExecuteTime": {
     "end_time": "2021-02-02T18:58:31.433817Z",
     "start_time": "2021-02-02T18:58:31.426005Z"
    }
   },
   "outputs": [],
   "source": [
    "index_list = df_signals_generator_t6.loc[df_signals_generator_t6['Component'] == 1]"
   ]
  },
  {
   "cell_type": "code",
   "execution_count": 58,
   "id": "earlier-builder",
   "metadata": {
    "ExecuteTime": {
     "end_time": "2021-02-02T18:58:31.448144Z",
     "start_time": "2021-02-02T18:58:31.437979Z"
    }
   },
   "outputs": [
    {
     "name": "stderr",
     "output_type": "stream",
     "text": [
      "/home/guilherme/.pyenv/versions/3.7.2/lib/python3.7/site-packages/ipykernel_launcher.py:1: SettingWithCopyWarning: \n",
      "A value is trying to be set on a copy of a slice from a DataFrame.\n",
      "Try using .loc[row_indexer,col_indexer] = value instead\n",
      "\n",
      "See the caveats in the documentation: https://pandas.pydata.org/pandas-docs/stable/user_guide/indexing.html#returning-a-view-versus-a-copy\n",
      "  \"\"\"Entry point for launching an IPython kernel.\n"
     ]
    }
   ],
   "source": [
    "index_list['date'] = index_list['Timestamp']"
   ]
  },
  {
   "cell_type": "code",
   "execution_count": 59,
   "id": "hindu-syndication",
   "metadata": {
    "ExecuteTime": {
     "end_time": "2021-02-02T18:58:31.458560Z",
     "start_time": "2021-02-02T18:58:31.451617Z"
    }
   },
   "outputs": [],
   "source": [
    "index_list = index_list[['Timestamp','date']]"
   ]
  },
  {
   "cell_type": "code",
   "execution_count": 60,
   "id": "thorough-belize",
   "metadata": {
    "ExecuteTime": {
     "end_time": "2021-02-02T18:58:31.482718Z",
     "start_time": "2021-02-02T18:58:31.462352Z"
    }
   },
   "outputs": [],
   "source": [
    "df = df_signals_generator_t6.merge(index_list, on=['Timestamp'], how='left')"
   ]
  },
  {
   "cell_type": "code",
   "execution_count": 61,
   "id": "greenhouse-robinson",
   "metadata": {
    "ExecuteTime": {
     "end_time": "2021-02-02T18:58:31.498221Z",
     "start_time": "2021-02-02T18:58:31.485674Z"
    }
   },
   "outputs": [],
   "source": [
    "df_generator_t6 = df.fillna(method='bfill')"
   ]
  },
  {
   "cell_type": "code",
   "execution_count": 62,
   "id": "viral-college",
   "metadata": {
    "ExecuteTime": {
     "end_time": "2021-02-02T18:58:31.509370Z",
     "start_time": "2021-02-02T18:58:31.500986Z"
    }
   },
   "outputs": [],
   "source": [
    "df_generator_t6['TTF'] = df_generator_t6['date'] - df_generator_t6['Timestamp'] "
   ]
  },
  {
   "cell_type": "code",
   "execution_count": 63,
   "id": "united-headline",
   "metadata": {
    "ExecuteTime": {
     "end_time": "2021-02-02T18:58:31.523590Z",
     "start_time": "2021-02-02T18:58:31.513929Z"
    }
   },
   "outputs": [],
   "source": [
    "df_generator_t6 = df_generator_t6.drop(columns='date')"
   ]
  },
  {
   "cell_type": "code",
   "execution_count": 64,
   "id": "sunrise-exclusion",
   "metadata": {
    "ExecuteTime": {
     "end_time": "2021-02-02T18:58:31.535790Z",
     "start_time": "2021-02-02T18:58:31.527125Z"
    }
   },
   "outputs": [],
   "source": [
    "index_list_t11 = df_signals_generator_t11.loc[df_signals_generator_t11['Component'] == 1]"
   ]
  },
  {
   "cell_type": "code",
   "execution_count": 65,
   "id": "collect-jerusalem",
   "metadata": {
    "ExecuteTime": {
     "end_time": "2021-02-02T18:58:31.551765Z",
     "start_time": "2021-02-02T18:58:31.541371Z"
    }
   },
   "outputs": [
    {
     "name": "stderr",
     "output_type": "stream",
     "text": [
      "/home/guilherme/.pyenv/versions/3.7.2/lib/python3.7/site-packages/ipykernel_launcher.py:1: SettingWithCopyWarning: \n",
      "A value is trying to be set on a copy of a slice from a DataFrame.\n",
      "Try using .loc[row_indexer,col_indexer] = value instead\n",
      "\n",
      "See the caveats in the documentation: https://pandas.pydata.org/pandas-docs/stable/user_guide/indexing.html#returning-a-view-versus-a-copy\n",
      "  \"\"\"Entry point for launching an IPython kernel.\n"
     ]
    }
   ],
   "source": [
    "index_list_t11['date'] = index_list_t11['Timestamp']"
   ]
  },
  {
   "cell_type": "code",
   "execution_count": 66,
   "id": "fatal-lender",
   "metadata": {
    "ExecuteTime": {
     "end_time": "2021-02-02T18:58:31.577157Z",
     "start_time": "2021-02-02T18:58:31.557460Z"
    }
   },
   "outputs": [],
   "source": [
    "index_list_t11 = index_list_t11[['Timestamp','date']]"
   ]
  },
  {
   "cell_type": "code",
   "execution_count": 67,
   "id": "fleet-attachment",
   "metadata": {
    "ExecuteTime": {
     "end_time": "2021-02-02T18:58:31.596848Z",
     "start_time": "2021-02-02T18:58:31.580154Z"
    }
   },
   "outputs": [],
   "source": [
    "df = df_signals_generator_t11.merge(index_list_t11, on=['Timestamp'], how='left')"
   ]
  },
  {
   "cell_type": "code",
   "execution_count": 68,
   "id": "fourth-arbor",
   "metadata": {
    "ExecuteTime": {
     "end_time": "2021-02-02T18:58:31.611732Z",
     "start_time": "2021-02-02T18:58:31.605215Z"
    }
   },
   "outputs": [],
   "source": [
    "df_generator_t11 = df.fillna(method='bfill')"
   ]
  },
  {
   "cell_type": "code",
   "execution_count": 69,
   "id": "hired-least",
   "metadata": {
    "ExecuteTime": {
     "end_time": "2021-02-02T18:58:31.626354Z",
     "start_time": "2021-02-02T18:58:31.616458Z"
    }
   },
   "outputs": [],
   "source": [
    "df_generator_t11['TTF'] = df_generator_t11['date'] - df_generator_t11['Timestamp'] "
   ]
  },
  {
   "cell_type": "code",
   "execution_count": 70,
   "id": "prerequisite-surname",
   "metadata": {
    "ExecuteTime": {
     "end_time": "2021-02-02T18:58:31.650142Z",
     "start_time": "2021-02-02T18:58:31.633599Z"
    }
   },
   "outputs": [],
   "source": [
    "df_generator_t11 = df_generator_t11.drop(columns='date')"
   ]
  },
  {
   "cell_type": "code",
   "execution_count": 71,
   "id": "efficient-voltage",
   "metadata": {
    "ExecuteTime": {
     "end_time": "2021-02-02T18:58:31.665993Z",
     "start_time": "2021-02-02T18:58:31.655679Z"
    }
   },
   "outputs": [
    {
     "data": {
      "text/plain": [
       "((9040, 46), (41466, 46))"
      ]
     },
     "execution_count": 71,
     "metadata": {},
     "output_type": "execute_result"
    }
   ],
   "source": [
    "df_generator_t11.shape, df_generator_t6.shape"
   ]
  },
  {
   "cell_type": "code",
   "execution_count": 72,
   "id": "annual-interference",
   "metadata": {
    "ExecuteTime": {
     "end_time": "2021-02-02T18:58:31.681862Z",
     "start_time": "2021-02-02T18:58:31.669575Z"
    }
   },
   "outputs": [],
   "source": [
    "generator_final = pd.concat([df_generator_t6, df_generator_t11])"
   ]
  },
  {
   "cell_type": "code",
   "execution_count": 73,
   "id": "juvenile-turkey",
   "metadata": {
    "ExecuteTime": {
     "end_time": "2021-02-02T18:58:31.768838Z",
     "start_time": "2021-02-02T18:58:31.685659Z"
    }
   },
   "outputs": [
    {
     "data": {
      "text/html": [
       "<div>\n",
       "<style scoped>\n",
       "    .dataframe tbody tr th:only-of-type {\n",
       "        vertical-align: middle;\n",
       "    }\n",
       "\n",
       "    .dataframe tbody tr th {\n",
       "        vertical-align: top;\n",
       "    }\n",
       "\n",
       "    .dataframe thead th {\n",
       "        text-align: right;\n",
       "    }\n",
       "</style>\n",
       "<table border=\"1\" class=\"dataframe\">\n",
       "  <thead>\n",
       "    <tr style=\"text-align: right;\">\n",
       "      <th></th>\n",
       "      <th>Timestamp</th>\n",
       "      <th>Turbine_ID</th>\n",
       "      <th>Gen_RPM_Max</th>\n",
       "      <th>Gen_RPM_Min</th>\n",
       "      <th>Gen_RPM_Avg</th>\n",
       "      <th>Gen_RPM_Std</th>\n",
       "      <th>Gen_Bear_Temp_Avg</th>\n",
       "      <th>Gen_Phase1_Temp_Avg</th>\n",
       "      <th>Gen_Phase2_Temp_Avg</th>\n",
       "      <th>Gen_Phase3_Temp_Avg</th>\n",
       "      <th>...</th>\n",
       "      <th>Cont_Hub_Temp_Avg</th>\n",
       "      <th>Cont_VCP_Temp_Avg</th>\n",
       "      <th>Cont_VCP_ChokcoilTemp_Avg</th>\n",
       "      <th>Cont_VCP_WtrTemp_Avg</th>\n",
       "      <th>Nac_Temp_Avg</th>\n",
       "      <th>Nac_Direction_Avg</th>\n",
       "      <th>Spin_Temp_Avg</th>\n",
       "      <th>Grd_Busbar_Temp_Avg</th>\n",
       "      <th>Component</th>\n",
       "      <th>TTF</th>\n",
       "    </tr>\n",
       "  </thead>\n",
       "  <tbody>\n",
       "    <tr>\n",
       "      <th>0</th>\n",
       "      <td>2016-01-01 00:00:00+00:00</td>\n",
       "      <td>6</td>\n",
       "      <td>1270.0</td>\n",
       "      <td>1232.80</td>\n",
       "      <td>1248.50</td>\n",
       "      <td>6.80</td>\n",
       "      <td>42.0</td>\n",
       "      <td>51.0</td>\n",
       "      <td>52.0</td>\n",
       "      <td>53.0</td>\n",
       "      <td>...</td>\n",
       "      <td>28.0</td>\n",
       "      <td>38.0</td>\n",
       "      <td>96.0</td>\n",
       "      <td>38.0</td>\n",
       "      <td>29.0</td>\n",
       "      <td>204.60</td>\n",
       "      <td>20.0</td>\n",
       "      <td>37.0</td>\n",
       "      <td>0.0</td>\n",
       "      <td>192 days 19:48:00</td>\n",
       "    </tr>\n",
       "    <tr>\n",
       "      <th>1</th>\n",
       "      <td>2016-01-01 00:10:00+00:00</td>\n",
       "      <td>6</td>\n",
       "      <td>1429.7</td>\n",
       "      <td>203.90</td>\n",
       "      <td>1154.10</td>\n",
       "      <td>271.70</td>\n",
       "      <td>42.0</td>\n",
       "      <td>51.0</td>\n",
       "      <td>52.0</td>\n",
       "      <td>52.0</td>\n",
       "      <td>...</td>\n",
       "      <td>28.0</td>\n",
       "      <td>38.0</td>\n",
       "      <td>96.0</td>\n",
       "      <td>37.0</td>\n",
       "      <td>29.0</td>\n",
       "      <td>210.50</td>\n",
       "      <td>20.0</td>\n",
       "      <td>37.0</td>\n",
       "      <td>0.0</td>\n",
       "      <td>192 days 19:38:00</td>\n",
       "    </tr>\n",
       "    <tr>\n",
       "      <th>2</th>\n",
       "      <td>2016-01-01 00:20:00+00:00</td>\n",
       "      <td>6</td>\n",
       "      <td>1360.5</td>\n",
       "      <td>250.30</td>\n",
       "      <td>1041.40</td>\n",
       "      <td>382.70</td>\n",
       "      <td>42.0</td>\n",
       "      <td>50.0</td>\n",
       "      <td>51.0</td>\n",
       "      <td>51.0</td>\n",
       "      <td>...</td>\n",
       "      <td>27.0</td>\n",
       "      <td>38.0</td>\n",
       "      <td>93.0</td>\n",
       "      <td>39.0</td>\n",
       "      <td>29.0</td>\n",
       "      <td>199.00</td>\n",
       "      <td>20.0</td>\n",
       "      <td>37.0</td>\n",
       "      <td>0.0</td>\n",
       "      <td>192 days 19:28:00</td>\n",
       "    </tr>\n",
       "    <tr>\n",
       "      <th>3</th>\n",
       "      <td>2016-01-01 00:30:00+00:00</td>\n",
       "      <td>6</td>\n",
       "      <td>1399.2</td>\n",
       "      <td>1228.80</td>\n",
       "      <td>1252.50</td>\n",
       "      <td>16.50</td>\n",
       "      <td>42.0</td>\n",
       "      <td>49.0</td>\n",
       "      <td>50.0</td>\n",
       "      <td>50.0</td>\n",
       "      <td>...</td>\n",
       "      <td>27.0</td>\n",
       "      <td>38.0</td>\n",
       "      <td>92.0</td>\n",
       "      <td>39.0</td>\n",
       "      <td>29.0</td>\n",
       "      <td>205.60</td>\n",
       "      <td>20.0</td>\n",
       "      <td>37.0</td>\n",
       "      <td>0.0</td>\n",
       "      <td>192 days 19:18:00</td>\n",
       "    </tr>\n",
       "    <tr>\n",
       "      <th>4</th>\n",
       "      <td>2016-01-01 00:40:00+00:00</td>\n",
       "      <td>6</td>\n",
       "      <td>1302.7</td>\n",
       "      <td>1225.10</td>\n",
       "      <td>1257.60</td>\n",
       "      <td>13.40</td>\n",
       "      <td>41.0</td>\n",
       "      <td>50.0</td>\n",
       "      <td>50.0</td>\n",
       "      <td>51.0</td>\n",
       "      <td>...</td>\n",
       "      <td>27.0</td>\n",
       "      <td>38.0</td>\n",
       "      <td>94.0</td>\n",
       "      <td>38.0</td>\n",
       "      <td>29.0</td>\n",
       "      <td>207.40</td>\n",
       "      <td>20.0</td>\n",
       "      <td>37.0</td>\n",
       "      <td>0.0</td>\n",
       "      <td>192 days 19:08:00</td>\n",
       "    </tr>\n",
       "    <tr>\n",
       "      <th>...</th>\n",
       "      <td>...</td>\n",
       "      <td>...</td>\n",
       "      <td>...</td>\n",
       "      <td>...</td>\n",
       "      <td>...</td>\n",
       "      <td>...</td>\n",
       "      <td>...</td>\n",
       "      <td>...</td>\n",
       "      <td>...</td>\n",
       "      <td>...</td>\n",
       "      <td>...</td>\n",
       "      <td>...</td>\n",
       "      <td>...</td>\n",
       "      <td>...</td>\n",
       "      <td>...</td>\n",
       "      <td>...</td>\n",
       "      <td>...</td>\n",
       "      <td>...</td>\n",
       "      <td>...</td>\n",
       "      <td>...</td>\n",
       "      <td>...</td>\n",
       "    </tr>\n",
       "    <tr>\n",
       "      <th>9035</th>\n",
       "      <td>2016-03-03 18:20:00+00:00</td>\n",
       "      <td>11</td>\n",
       "      <td>0.0</td>\n",
       "      <td>0.00</td>\n",
       "      <td>0.00</td>\n",
       "      <td>0.00</td>\n",
       "      <td>26.0</td>\n",
       "      <td>35.0</td>\n",
       "      <td>35.0</td>\n",
       "      <td>34.0</td>\n",
       "      <td>...</td>\n",
       "      <td>25.0</td>\n",
       "      <td>31.0</td>\n",
       "      <td>27.0</td>\n",
       "      <td>27.0</td>\n",
       "      <td>24.0</td>\n",
       "      <td>247.20</td>\n",
       "      <td>19.0</td>\n",
       "      <td>26.0</td>\n",
       "      <td>0.0</td>\n",
       "      <td>0 days 00:40:00</td>\n",
       "    </tr>\n",
       "    <tr>\n",
       "      <th>9036</th>\n",
       "      <td>2016-03-03 18:30:00+00:00</td>\n",
       "      <td>11</td>\n",
       "      <td>0.0</td>\n",
       "      <td>0.00</td>\n",
       "      <td>0.00</td>\n",
       "      <td>0.00</td>\n",
       "      <td>26.0</td>\n",
       "      <td>35.0</td>\n",
       "      <td>35.0</td>\n",
       "      <td>34.0</td>\n",
       "      <td>...</td>\n",
       "      <td>26.0</td>\n",
       "      <td>32.0</td>\n",
       "      <td>27.0</td>\n",
       "      <td>27.0</td>\n",
       "      <td>24.0</td>\n",
       "      <td>247.20</td>\n",
       "      <td>19.0</td>\n",
       "      <td>26.0</td>\n",
       "      <td>0.0</td>\n",
       "      <td>0 days 00:30:00</td>\n",
       "    </tr>\n",
       "    <tr>\n",
       "      <th>9037</th>\n",
       "      <td>2016-03-03 18:40:00+00:00</td>\n",
       "      <td>11</td>\n",
       "      <td>262.3</td>\n",
       "      <td>0.00</td>\n",
       "      <td>105.40</td>\n",
       "      <td>106.70</td>\n",
       "      <td>26.0</td>\n",
       "      <td>35.0</td>\n",
       "      <td>34.0</td>\n",
       "      <td>34.0</td>\n",
       "      <td>...</td>\n",
       "      <td>26.0</td>\n",
       "      <td>31.0</td>\n",
       "      <td>27.0</td>\n",
       "      <td>27.0</td>\n",
       "      <td>23.0</td>\n",
       "      <td>247.30</td>\n",
       "      <td>19.0</td>\n",
       "      <td>25.0</td>\n",
       "      <td>0.0</td>\n",
       "      <td>0 days 00:20:00</td>\n",
       "    </tr>\n",
       "    <tr>\n",
       "      <th>9038</th>\n",
       "      <td>2016-03-03 18:50:00+00:00</td>\n",
       "      <td>11</td>\n",
       "      <td>22.2</td>\n",
       "      <td>0.00</td>\n",
       "      <td>7.10</td>\n",
       "      <td>5.80</td>\n",
       "      <td>26.0</td>\n",
       "      <td>35.0</td>\n",
       "      <td>34.0</td>\n",
       "      <td>34.0</td>\n",
       "      <td>...</td>\n",
       "      <td>25.0</td>\n",
       "      <td>31.0</td>\n",
       "      <td>27.0</td>\n",
       "      <td>27.0</td>\n",
       "      <td>24.0</td>\n",
       "      <td>262.30</td>\n",
       "      <td>19.0</td>\n",
       "      <td>25.0</td>\n",
       "      <td>0.0</td>\n",
       "      <td>0 days 00:10:00</td>\n",
       "    </tr>\n",
       "    <tr>\n",
       "      <th>9039</th>\n",
       "      <td>2016-03-03 19:00:00+00:00</td>\n",
       "      <td>11</td>\n",
       "      <td>1369.0</td>\n",
       "      <td>265.85</td>\n",
       "      <td>1083.65</td>\n",
       "      <td>335.25</td>\n",
       "      <td>40.0</td>\n",
       "      <td>54.5</td>\n",
       "      <td>55.0</td>\n",
       "      <td>55.0</td>\n",
       "      <td>...</td>\n",
       "      <td>31.5</td>\n",
       "      <td>36.5</td>\n",
       "      <td>92.5</td>\n",
       "      <td>33.0</td>\n",
       "      <td>26.0</td>\n",
       "      <td>261.95</td>\n",
       "      <td>23.0</td>\n",
       "      <td>34.0</td>\n",
       "      <td>1.0</td>\n",
       "      <td>0 days 00:00:00</td>\n",
       "    </tr>\n",
       "  </tbody>\n",
       "</table>\n",
       "<p>50506 rows × 46 columns</p>\n",
       "</div>"
      ],
      "text/plain": [
       "                     Timestamp  Turbine_ID  Gen_RPM_Max  Gen_RPM_Min  \\\n",
       "0    2016-01-01 00:00:00+00:00           6       1270.0      1232.80   \n",
       "1    2016-01-01 00:10:00+00:00           6       1429.7       203.90   \n",
       "2    2016-01-01 00:20:00+00:00           6       1360.5       250.30   \n",
       "3    2016-01-01 00:30:00+00:00           6       1399.2      1228.80   \n",
       "4    2016-01-01 00:40:00+00:00           6       1302.7      1225.10   \n",
       "...                        ...         ...          ...          ...   \n",
       "9035 2016-03-03 18:20:00+00:00          11          0.0         0.00   \n",
       "9036 2016-03-03 18:30:00+00:00          11          0.0         0.00   \n",
       "9037 2016-03-03 18:40:00+00:00          11        262.3         0.00   \n",
       "9038 2016-03-03 18:50:00+00:00          11         22.2         0.00   \n",
       "9039 2016-03-03 19:00:00+00:00          11       1369.0       265.85   \n",
       "\n",
       "      Gen_RPM_Avg  Gen_RPM_Std  Gen_Bear_Temp_Avg  Gen_Phase1_Temp_Avg  \\\n",
       "0         1248.50         6.80               42.0                 51.0   \n",
       "1         1154.10       271.70               42.0                 51.0   \n",
       "2         1041.40       382.70               42.0                 50.0   \n",
       "3         1252.50        16.50               42.0                 49.0   \n",
       "4         1257.60        13.40               41.0                 50.0   \n",
       "...           ...          ...                ...                  ...   \n",
       "9035         0.00         0.00               26.0                 35.0   \n",
       "9036         0.00         0.00               26.0                 35.0   \n",
       "9037       105.40       106.70               26.0                 35.0   \n",
       "9038         7.10         5.80               26.0                 35.0   \n",
       "9039      1083.65       335.25               40.0                 54.5   \n",
       "\n",
       "      Gen_Phase2_Temp_Avg  Gen_Phase3_Temp_Avg  ...  Cont_Hub_Temp_Avg  \\\n",
       "0                    52.0                 53.0  ...               28.0   \n",
       "1                    52.0                 52.0  ...               28.0   \n",
       "2                    51.0                 51.0  ...               27.0   \n",
       "3                    50.0                 50.0  ...               27.0   \n",
       "4                    50.0                 51.0  ...               27.0   \n",
       "...                   ...                  ...  ...                ...   \n",
       "9035                 35.0                 34.0  ...               25.0   \n",
       "9036                 35.0                 34.0  ...               26.0   \n",
       "9037                 34.0                 34.0  ...               26.0   \n",
       "9038                 34.0                 34.0  ...               25.0   \n",
       "9039                 55.0                 55.0  ...               31.5   \n",
       "\n",
       "      Cont_VCP_Temp_Avg  Cont_VCP_ChokcoilTemp_Avg  Cont_VCP_WtrTemp_Avg  \\\n",
       "0                  38.0                       96.0                  38.0   \n",
       "1                  38.0                       96.0                  37.0   \n",
       "2                  38.0                       93.0                  39.0   \n",
       "3                  38.0                       92.0                  39.0   \n",
       "4                  38.0                       94.0                  38.0   \n",
       "...                 ...                        ...                   ...   \n",
       "9035               31.0                       27.0                  27.0   \n",
       "9036               32.0                       27.0                  27.0   \n",
       "9037               31.0                       27.0                  27.0   \n",
       "9038               31.0                       27.0                  27.0   \n",
       "9039               36.5                       92.5                  33.0   \n",
       "\n",
       "      Nac_Temp_Avg  Nac_Direction_Avg  Spin_Temp_Avg  Grd_Busbar_Temp_Avg  \\\n",
       "0             29.0             204.60           20.0                 37.0   \n",
       "1             29.0             210.50           20.0                 37.0   \n",
       "2             29.0             199.00           20.0                 37.0   \n",
       "3             29.0             205.60           20.0                 37.0   \n",
       "4             29.0             207.40           20.0                 37.0   \n",
       "...            ...                ...            ...                  ...   \n",
       "9035          24.0             247.20           19.0                 26.0   \n",
       "9036          24.0             247.20           19.0                 26.0   \n",
       "9037          23.0             247.30           19.0                 25.0   \n",
       "9038          24.0             262.30           19.0                 25.0   \n",
       "9039          26.0             261.95           23.0                 34.0   \n",
       "\n",
       "      Component               TTF  \n",
       "0           0.0 192 days 19:48:00  \n",
       "1           0.0 192 days 19:38:00  \n",
       "2           0.0 192 days 19:28:00  \n",
       "3           0.0 192 days 19:18:00  \n",
       "4           0.0 192 days 19:08:00  \n",
       "...         ...               ...  \n",
       "9035        0.0   0 days 00:40:00  \n",
       "9036        0.0   0 days 00:30:00  \n",
       "9037        0.0   0 days 00:20:00  \n",
       "9038        0.0   0 days 00:10:00  \n",
       "9039        1.0   0 days 00:00:00  \n",
       "\n",
       "[50506 rows x 46 columns]"
      ]
     },
     "execution_count": 73,
     "metadata": {},
     "output_type": "execute_result"
    }
   ],
   "source": [
    "generator_final"
   ]
  },
  {
   "cell_type": "markdown",
   "id": "diverse-minority",
   "metadata": {},
   "source": [
    "# DF RUL Failures Gen Bear"
   ]
  },
  {
   "cell_type": "code",
   "execution_count": 74,
   "id": "illegal-desire",
   "metadata": {
    "ExecuteTime": {
     "end_time": "2021-02-02T18:58:32.195990Z",
     "start_time": "2021-02-02T18:58:31.772292Z"
    }
   },
   "outputs": [],
   "source": [
    "df_signals_gen_bear_final = df_signals_gen_bear_final.groupby(by=['Timestamp','Turbine_ID']).mean()"
   ]
  },
  {
   "cell_type": "code",
   "execution_count": 75,
   "id": "alike-bandwidth",
   "metadata": {
    "ExecuteTime": {
     "end_time": "2021-02-02T18:58:32.324362Z",
     "start_time": "2021-02-02T18:58:32.198923Z"
    }
   },
   "outputs": [],
   "source": [
    "df_signals_gen_bear_final.sort_values(['Turbine_ID','Timestamp'], inplace=True)"
   ]
  },
  {
   "cell_type": "code",
   "execution_count": 76,
   "id": "exterior-transcription",
   "metadata": {
    "ExecuteTime": {
     "end_time": "2021-02-02T18:58:32.343032Z",
     "start_time": "2021-02-02T18:58:32.328021Z"
    }
   },
   "outputs": [],
   "source": [
    "df_signals_gen_bear_final.reset_index(inplace=True)"
   ]
  },
  {
   "cell_type": "code",
   "execution_count": 77,
   "id": "statutory-neighborhood",
   "metadata": {
    "ExecuteTime": {
     "end_time": "2021-02-02T18:58:32.371133Z",
     "start_time": "2021-02-02T18:58:32.346008Z"
    }
   },
   "outputs": [],
   "source": [
    "#DF Signals Generator failures on turbine 7 and 9 in 2016\n",
    "df_signals_gen_bear_t7 = df_signals_gen_bear_final[df_signals_gen_bear_final['Turbine_ID'] == 7]\n",
    "df_signals_gen_bear_t9 = df_signals_gen_bear_final[df_signals_gen_bear_final['Turbine_ID'] == 9]"
   ]
  },
  {
   "cell_type": "code",
   "execution_count": 78,
   "id": "pressing-sewing",
   "metadata": {
    "ExecuteTime": {
     "end_time": "2021-02-02T18:58:32.385011Z",
     "start_time": "2021-02-02T18:58:32.374590Z"
    }
   },
   "outputs": [],
   "source": [
    "df_signals_gen_bear_t7.loc[df_signals_gen_bear_t7['Component'] == 1,'Timestamp']\n",
    "df_signals_gen_bear_t7 = df_signals_gen_bear_t7.truncate(after=120348)"
   ]
  },
  {
   "cell_type": "code",
   "execution_count": 79,
   "id": "automatic-indian",
   "metadata": {
    "ExecuteTime": {
     "end_time": "2021-02-02T18:58:32.404199Z",
     "start_time": "2021-02-02T18:58:32.388680Z"
    }
   },
   "outputs": [],
   "source": [
    "df_signals_gen_bear_t9.loc[df_signals_gen_bear_t9['Component'] == 1,'Timestamp']\n",
    "df_signals_gen_bear_t9 = df_signals_gen_bear_t9.truncate(after=196933)"
   ]
  },
  {
   "cell_type": "code",
   "execution_count": 80,
   "id": "textile-defeat",
   "metadata": {
    "ExecuteTime": {
     "end_time": "2021-02-02T18:58:32.439435Z",
     "start_time": "2021-02-02T18:58:32.408181Z"
    }
   },
   "outputs": [
    {
     "name": "stderr",
     "output_type": "stream",
     "text": [
      "/home/guilherme/.pyenv/versions/3.7.2/lib/python3.7/site-packages/ipykernel_launcher.py:2: SettingWithCopyWarning: \n",
      "A value is trying to be set on a copy of a slice from a DataFrame.\n",
      "Try using .loc[row_indexer,col_indexer] = value instead\n",
      "\n",
      "See the caveats in the documentation: https://pandas.pydata.org/pandas-docs/stable/user_guide/indexing.html#returning-a-view-versus-a-copy\n",
      "  \n"
     ]
    }
   ],
   "source": [
    "index_list = df_signals_gen_bear_t7.loc[df_signals_gen_bear_t7['Component'] == 1]\n",
    "index_list['date'] = index_list['Timestamp']\n",
    "index_list = index_list[['Timestamp','date']]\n",
    "df = df_signals_gen_bear_t7.merge(index_list, on=['Timestamp'], how='left')\n",
    "df_gen_bear_t7 = df.fillna(method='bfill')\n",
    "df_gen_bear_t7['TTF'] = df_gen_bear_t7['date'] - df_gen_bear_t7['Timestamp'] \n",
    "df_gen_bear_t7 = df_gen_bear_t7.drop(columns='date')"
   ]
  },
  {
   "cell_type": "code",
   "execution_count": 81,
   "id": "opposite-money",
   "metadata": {
    "ExecuteTime": {
     "end_time": "2021-02-02T18:58:32.488574Z",
     "start_time": "2021-02-02T18:58:32.442772Z"
    }
   },
   "outputs": [
    {
     "name": "stderr",
     "output_type": "stream",
     "text": [
      "/home/guilherme/.pyenv/versions/3.7.2/lib/python3.7/site-packages/ipykernel_launcher.py:2: SettingWithCopyWarning: \n",
      "A value is trying to be set on a copy of a slice from a DataFrame.\n",
      "Try using .loc[row_indexer,col_indexer] = value instead\n",
      "\n",
      "See the caveats in the documentation: https://pandas.pydata.org/pandas-docs/stable/user_guide/indexing.html#returning-a-view-versus-a-copy\n",
      "  \n"
     ]
    }
   ],
   "source": [
    "index_list_t9 = df_signals_gen_bear_t9.loc[df_signals_gen_bear_t9['Component'] == 1]\n",
    "index_list_t9['date'] = index_list_t9['Timestamp']\n",
    "index_list_t9 = index_list_t9[['Timestamp','date']]\n",
    "df = df_signals_gen_bear_t9.merge(index_list_t9, on=['Timestamp'], how='left')\n",
    "df_gen_bear_t9 = df.fillna(method='bfill')\n",
    "df_gen_bear_t9['TTF'] = df_gen_bear_t9['date'] - df_gen_bear_t9['Timestamp'] \n",
    "df_gen_bear_t9 = df_gen_bear_t9.drop(columns='date')"
   ]
  },
  {
   "cell_type": "code",
   "execution_count": 82,
   "id": "declared-simpson",
   "metadata": {
    "ExecuteTime": {
     "end_time": "2021-02-02T18:58:32.503524Z",
     "start_time": "2021-02-02T18:58:32.491964Z"
    }
   },
   "outputs": [],
   "source": [
    "gen_bear_final = pd.concat([df_gen_bear_t7, df_gen_bear_t9])"
   ]
  },
  {
   "cell_type": "markdown",
   "id": "faced-premium",
   "metadata": {},
   "source": [
    "# DF RUL Failures Hydraulic"
   ]
  },
  {
   "cell_type": "code",
   "execution_count": 83,
   "id": "surface-enzyme",
   "metadata": {
    "ExecuteTime": {
     "end_time": "2021-02-02T18:58:32.904205Z",
     "start_time": "2021-02-02T18:58:32.507002Z"
    }
   },
   "outputs": [],
   "source": [
    "df_signals_hyd_final = df_signals_hyd_final.groupby(by=['Timestamp','Turbine_ID']).mean()\n",
    "df_signals_hyd_final.sort_values(['Turbine_ID','Timestamp'], inplace=True)\n",
    "df_signals_hyd_final.reset_index(inplace=True)\n",
    "#DF Signals Generator failures on turbine 6 and 11 in 2016\n",
    "df_signals_hyd_t6 = df_signals_hyd_final[df_signals_hyd_final['Turbine_ID'] == 6]\n",
    "df_signals_hyd_t11 = df_signals_hyd_final[df_signals_hyd_final['Turbine_ID'] == 11]"
   ]
  },
  {
   "cell_type": "code",
   "execution_count": 84,
   "id": "massive-privacy",
   "metadata": {
    "ExecuteTime": {
     "end_time": "2021-02-02T18:58:32.919495Z",
     "start_time": "2021-02-02T18:58:32.907560Z"
    }
   },
   "outputs": [],
   "source": [
    "df_signals_hyd_t6.loc[df_signals_hyd_t6['Component'] == 1,'Timestamp']\n",
    "df_signals_hyd_t6 = df_signals_hyd_t6.truncate(after=66073)"
   ]
  },
  {
   "cell_type": "code",
   "execution_count": 85,
   "id": "aerial-insert",
   "metadata": {
    "ExecuteTime": {
     "end_time": "2021-02-02T18:58:32.933973Z",
     "start_time": "2021-02-02T18:58:32.922624Z"
    }
   },
   "outputs": [],
   "source": [
    "df_signals_hyd_t11.loc[df_signals_hyd_t11['Component'] == 1,'Timestamp']\n",
    "df_signals_hyd_t11 = df_signals_hyd_t11.truncate(after=249412)"
   ]
  },
  {
   "cell_type": "code",
   "execution_count": 86,
   "id": "colonial-closure",
   "metadata": {
    "ExecuteTime": {
     "end_time": "2021-02-02T18:58:32.980251Z",
     "start_time": "2021-02-02T18:58:32.937334Z"
    }
   },
   "outputs": [
    {
     "name": "stderr",
     "output_type": "stream",
     "text": [
      "/home/guilherme/.pyenv/versions/3.7.2/lib/python3.7/site-packages/ipykernel_launcher.py:2: SettingWithCopyWarning: \n",
      "A value is trying to be set on a copy of a slice from a DataFrame.\n",
      "Try using .loc[row_indexer,col_indexer] = value instead\n",
      "\n",
      "See the caveats in the documentation: https://pandas.pydata.org/pandas-docs/stable/user_guide/indexing.html#returning-a-view-versus-a-copy\n",
      "  \n"
     ]
    }
   ],
   "source": [
    "index_list = df_signals_hyd_t11.loc[df_signals_hyd_t11['Component'] == 1]\n",
    "index_list['date'] = index_list['Timestamp']\n",
    "index_list = index_list[['Timestamp','date']]\n",
    "df = df_signals_hyd_t11.merge(index_list, on=['Timestamp'], how='left')\n",
    "df_hyd_t11 = df.fillna(method='bfill')\n",
    "df_hyd_t11['TTF'] = df_hyd_t11['date'] - df_hyd_t11['Timestamp'] \n",
    "df_hyd_t11 = df_hyd_t11.drop(columns='date')"
   ]
  },
  {
   "cell_type": "code",
   "execution_count": 87,
   "id": "accepting-career",
   "metadata": {
    "ExecuteTime": {
     "end_time": "2021-02-02T18:58:33.013046Z",
     "start_time": "2021-02-02T18:58:32.983243Z"
    }
   },
   "outputs": [
    {
     "name": "stderr",
     "output_type": "stream",
     "text": [
      "/home/guilherme/.pyenv/versions/3.7.2/lib/python3.7/site-packages/ipykernel_launcher.py:2: SettingWithCopyWarning: \n",
      "A value is trying to be set on a copy of a slice from a DataFrame.\n",
      "Try using .loc[row_indexer,col_indexer] = value instead\n",
      "\n",
      "See the caveats in the documentation: https://pandas.pydata.org/pandas-docs/stable/user_guide/indexing.html#returning-a-view-versus-a-copy\n",
      "  \n"
     ]
    }
   ],
   "source": [
    "index_list_t6 = df_signals_hyd_t6.loc[df_signals_hyd_t6['Component'] == 1]\n",
    "index_list_t6['date'] = index_list_t6['Timestamp']\n",
    "index_list_t6 = index_list_t6[['Timestamp','date']]\n",
    "df = df_signals_hyd_t6.merge(index_list_t6, on=['Timestamp'], how='left')\n",
    "df_hyd_t6 = df.fillna(method='bfill')\n",
    "df_hyd_t6['TTF'] = df_hyd_t6['date'] - df_hyd_t6['Timestamp'] \n",
    "df_hyd_t6 = df_hyd_t6.drop(columns='date')"
   ]
  },
  {
   "cell_type": "code",
   "execution_count": 88,
   "id": "found-prisoner",
   "metadata": {
    "ExecuteTime": {
     "end_time": "2021-02-02T18:58:33.025182Z",
     "start_time": "2021-02-02T18:58:33.016058Z"
    }
   },
   "outputs": [],
   "source": [
    "hyd_final = pd.concat([df_hyd_t6, df_hyd_t11])"
   ]
  },
  {
   "cell_type": "code",
   "execution_count": 89,
   "id": "innovative-republic",
   "metadata": {
    "ExecuteTime": {
     "end_time": "2021-02-02T18:58:33.121488Z",
     "start_time": "2021-02-02T18:58:33.028870Z"
    }
   },
   "outputs": [
    {
     "data": {
      "text/html": [
       "<div>\n",
       "<style scoped>\n",
       "    .dataframe tbody tr th:only-of-type {\n",
       "        vertical-align: middle;\n",
       "    }\n",
       "\n",
       "    .dataframe tbody tr th {\n",
       "        vertical-align: top;\n",
       "    }\n",
       "\n",
       "    .dataframe thead th {\n",
       "        text-align: right;\n",
       "    }\n",
       "</style>\n",
       "<table border=\"1\" class=\"dataframe\">\n",
       "  <thead>\n",
       "    <tr style=\"text-align: right;\">\n",
       "      <th></th>\n",
       "      <th>Timestamp</th>\n",
       "      <th>Turbine_ID</th>\n",
       "      <th>Hyd_Oil_Temp_Avg</th>\n",
       "      <th>Rtr_RPM_Max</th>\n",
       "      <th>Rtr_RPM_Min</th>\n",
       "      <th>Rtr_RPM_Avg</th>\n",
       "      <th>Grd_RtrInvPhase1_Temp_Avg</th>\n",
       "      <th>Grd_RtrInvPhase2_Temp_Avg</th>\n",
       "      <th>Grd_RtrInvPhase3_Temp_Avg</th>\n",
       "      <th>Rtr_RPM_Std</th>\n",
       "      <th>...</th>\n",
       "      <th>Cont_Hub_Temp_Avg</th>\n",
       "      <th>Cont_VCP_Temp_Avg</th>\n",
       "      <th>Cont_VCP_ChokcoilTemp_Avg</th>\n",
       "      <th>Cont_VCP_WtrTemp_Avg</th>\n",
       "      <th>Nac_Temp_Avg</th>\n",
       "      <th>Nac_Direction_Avg</th>\n",
       "      <th>Spin_Temp_Avg</th>\n",
       "      <th>Grd_Busbar_Temp_Avg</th>\n",
       "      <th>Component</th>\n",
       "      <th>TTF</th>\n",
       "    </tr>\n",
       "  </thead>\n",
       "  <tbody>\n",
       "    <tr>\n",
       "      <th>0</th>\n",
       "      <td>2016-01-01 00:00:00+00:00</td>\n",
       "      <td>6</td>\n",
       "      <td>30.0</td>\n",
       "      <td>11.2</td>\n",
       "      <td>10.9</td>\n",
       "      <td>11.10</td>\n",
       "      <td>40.0</td>\n",
       "      <td>40.0</td>\n",
       "      <td>38.0</td>\n",
       "      <td>0.1</td>\n",
       "      <td>...</td>\n",
       "      <td>28.0</td>\n",
       "      <td>38.0</td>\n",
       "      <td>96.0</td>\n",
       "      <td>38.0</td>\n",
       "      <td>29.0</td>\n",
       "      <td>204.6</td>\n",
       "      <td>20.0</td>\n",
       "      <td>37.0</td>\n",
       "      <td>0.0</td>\n",
       "      <td>94 days 18:53:00</td>\n",
       "    </tr>\n",
       "    <tr>\n",
       "      <th>1</th>\n",
       "      <td>2016-01-01 00:10:00+00:00</td>\n",
       "      <td>6</td>\n",
       "      <td>30.0</td>\n",
       "      <td>12.6</td>\n",
       "      <td>2.0</td>\n",
       "      <td>10.20</td>\n",
       "      <td>38.0</td>\n",
       "      <td>38.0</td>\n",
       "      <td>36.0</td>\n",
       "      <td>2.4</td>\n",
       "      <td>...</td>\n",
       "      <td>28.0</td>\n",
       "      <td>38.0</td>\n",
       "      <td>96.0</td>\n",
       "      <td>37.0</td>\n",
       "      <td>29.0</td>\n",
       "      <td>210.5</td>\n",
       "      <td>20.0</td>\n",
       "      <td>37.0</td>\n",
       "      <td>0.0</td>\n",
       "      <td>94 days 18:43:00</td>\n",
       "    </tr>\n",
       "    <tr>\n",
       "      <th>2</th>\n",
       "      <td>2016-01-01 00:20:00+00:00</td>\n",
       "      <td>6</td>\n",
       "      <td>31.0</td>\n",
       "      <td>12.0</td>\n",
       "      <td>2.3</td>\n",
       "      <td>9.20</td>\n",
       "      <td>39.0</td>\n",
       "      <td>39.0</td>\n",
       "      <td>37.0</td>\n",
       "      <td>3.4</td>\n",
       "      <td>...</td>\n",
       "      <td>27.0</td>\n",
       "      <td>38.0</td>\n",
       "      <td>93.0</td>\n",
       "      <td>39.0</td>\n",
       "      <td>29.0</td>\n",
       "      <td>199.0</td>\n",
       "      <td>20.0</td>\n",
       "      <td>37.0</td>\n",
       "      <td>0.0</td>\n",
       "      <td>94 days 18:33:00</td>\n",
       "    </tr>\n",
       "    <tr>\n",
       "      <th>3</th>\n",
       "      <td>2016-01-01 00:30:00+00:00</td>\n",
       "      <td>6</td>\n",
       "      <td>31.0</td>\n",
       "      <td>12.2</td>\n",
       "      <td>10.9</td>\n",
       "      <td>11.10</td>\n",
       "      <td>40.0</td>\n",
       "      <td>40.0</td>\n",
       "      <td>38.0</td>\n",
       "      <td>0.1</td>\n",
       "      <td>...</td>\n",
       "      <td>27.0</td>\n",
       "      <td>38.0</td>\n",
       "      <td>92.0</td>\n",
       "      <td>39.0</td>\n",
       "      <td>29.0</td>\n",
       "      <td>205.6</td>\n",
       "      <td>20.0</td>\n",
       "      <td>37.0</td>\n",
       "      <td>0.0</td>\n",
       "      <td>94 days 18:23:00</td>\n",
       "    </tr>\n",
       "    <tr>\n",
       "      <th>4</th>\n",
       "      <td>2016-01-01 00:40:00+00:00</td>\n",
       "      <td>6</td>\n",
       "      <td>31.0</td>\n",
       "      <td>11.5</td>\n",
       "      <td>10.9</td>\n",
       "      <td>11.10</td>\n",
       "      <td>40.0</td>\n",
       "      <td>40.0</td>\n",
       "      <td>38.0</td>\n",
       "      <td>0.1</td>\n",
       "      <td>...</td>\n",
       "      <td>27.0</td>\n",
       "      <td>38.0</td>\n",
       "      <td>94.0</td>\n",
       "      <td>38.0</td>\n",
       "      <td>29.0</td>\n",
       "      <td>207.4</td>\n",
       "      <td>20.0</td>\n",
       "      <td>37.0</td>\n",
       "      <td>0.0</td>\n",
       "      <td>94 days 18:13:00</td>\n",
       "    </tr>\n",
       "    <tr>\n",
       "      <th>...</th>\n",
       "      <td>...</td>\n",
       "      <td>...</td>\n",
       "      <td>...</td>\n",
       "      <td>...</td>\n",
       "      <td>...</td>\n",
       "      <td>...</td>\n",
       "      <td>...</td>\n",
       "      <td>...</td>\n",
       "      <td>...</td>\n",
       "      <td>...</td>\n",
       "      <td>...</td>\n",
       "      <td>...</td>\n",
       "      <td>...</td>\n",
       "      <td>...</td>\n",
       "      <td>...</td>\n",
       "      <td>...</td>\n",
       "      <td>...</td>\n",
       "      <td>...</td>\n",
       "      <td>...</td>\n",
       "      <td>...</td>\n",
       "      <td>...</td>\n",
       "    </tr>\n",
       "    <tr>\n",
       "      <th>41599</th>\n",
       "      <td>2016-10-17 17:10:00+00:00</td>\n",
       "      <td>11</td>\n",
       "      <td>37.0</td>\n",
       "      <td>2.3</td>\n",
       "      <td>0.0</td>\n",
       "      <td>0.60</td>\n",
       "      <td>34.0</td>\n",
       "      <td>35.0</td>\n",
       "      <td>35.0</td>\n",
       "      <td>0.9</td>\n",
       "      <td>...</td>\n",
       "      <td>35.0</td>\n",
       "      <td>39.0</td>\n",
       "      <td>33.0</td>\n",
       "      <td>35.0</td>\n",
       "      <td>33.0</td>\n",
       "      <td>272.5</td>\n",
       "      <td>32.0</td>\n",
       "      <td>34.0</td>\n",
       "      <td>0.0</td>\n",
       "      <td>0 days 00:34:00</td>\n",
       "    </tr>\n",
       "    <tr>\n",
       "      <th>41600</th>\n",
       "      <td>2016-10-17 17:20:00+00:00</td>\n",
       "      <td>11</td>\n",
       "      <td>37.0</td>\n",
       "      <td>12.2</td>\n",
       "      <td>0.0</td>\n",
       "      <td>3.60</td>\n",
       "      <td>34.0</td>\n",
       "      <td>36.0</td>\n",
       "      <td>36.0</td>\n",
       "      <td>3.4</td>\n",
       "      <td>...</td>\n",
       "      <td>35.0</td>\n",
       "      <td>39.0</td>\n",
       "      <td>34.0</td>\n",
       "      <td>35.0</td>\n",
       "      <td>34.0</td>\n",
       "      <td>273.9</td>\n",
       "      <td>32.0</td>\n",
       "      <td>35.0</td>\n",
       "      <td>0.0</td>\n",
       "      <td>0 days 00:24:00</td>\n",
       "    </tr>\n",
       "    <tr>\n",
       "      <th>41601</th>\n",
       "      <td>2016-10-17 17:30:00+00:00</td>\n",
       "      <td>11</td>\n",
       "      <td>37.0</td>\n",
       "      <td>0.0</td>\n",
       "      <td>0.0</td>\n",
       "      <td>0.00</td>\n",
       "      <td>36.0</td>\n",
       "      <td>37.0</td>\n",
       "      <td>37.0</td>\n",
       "      <td>0.0</td>\n",
       "      <td>...</td>\n",
       "      <td>36.0</td>\n",
       "      <td>41.0</td>\n",
       "      <td>35.0</td>\n",
       "      <td>36.0</td>\n",
       "      <td>34.0</td>\n",
       "      <td>280.2</td>\n",
       "      <td>31.0</td>\n",
       "      <td>35.0</td>\n",
       "      <td>0.0</td>\n",
       "      <td>0 days 00:14:00</td>\n",
       "    </tr>\n",
       "    <tr>\n",
       "      <th>41602</th>\n",
       "      <td>2016-10-17 17:40:00+00:00</td>\n",
       "      <td>11</td>\n",
       "      <td>36.0</td>\n",
       "      <td>0.0</td>\n",
       "      <td>0.0</td>\n",
       "      <td>0.00</td>\n",
       "      <td>36.0</td>\n",
       "      <td>37.0</td>\n",
       "      <td>37.0</td>\n",
       "      <td>0.0</td>\n",
       "      <td>...</td>\n",
       "      <td>36.0</td>\n",
       "      <td>41.0</td>\n",
       "      <td>35.0</td>\n",
       "      <td>37.0</td>\n",
       "      <td>34.0</td>\n",
       "      <td>280.2</td>\n",
       "      <td>31.0</td>\n",
       "      <td>35.0</td>\n",
       "      <td>0.0</td>\n",
       "      <td>0 days 00:04:00</td>\n",
       "    </tr>\n",
       "    <tr>\n",
       "      <th>41603</th>\n",
       "      <td>2016-10-17 17:44:00+00:00</td>\n",
       "      <td>11</td>\n",
       "      <td>37.5</td>\n",
       "      <td>6.2</td>\n",
       "      <td>0.9</td>\n",
       "      <td>4.25</td>\n",
       "      <td>38.0</td>\n",
       "      <td>38.5</td>\n",
       "      <td>37.5</td>\n",
       "      <td>1.9</td>\n",
       "      <td>...</td>\n",
       "      <td>37.0</td>\n",
       "      <td>41.5</td>\n",
       "      <td>62.5</td>\n",
       "      <td>38.5</td>\n",
       "      <td>34.5</td>\n",
       "      <td>272.0</td>\n",
       "      <td>31.5</td>\n",
       "      <td>37.5</td>\n",
       "      <td>1.0</td>\n",
       "      <td>0 days 00:00:00</td>\n",
       "    </tr>\n",
       "  </tbody>\n",
       "</table>\n",
       "<p>55245 rows × 33 columns</p>\n",
       "</div>"
      ],
      "text/plain": [
       "                      Timestamp  Turbine_ID  Hyd_Oil_Temp_Avg  Rtr_RPM_Max  \\\n",
       "0     2016-01-01 00:00:00+00:00           6              30.0         11.2   \n",
       "1     2016-01-01 00:10:00+00:00           6              30.0         12.6   \n",
       "2     2016-01-01 00:20:00+00:00           6              31.0         12.0   \n",
       "3     2016-01-01 00:30:00+00:00           6              31.0         12.2   \n",
       "4     2016-01-01 00:40:00+00:00           6              31.0         11.5   \n",
       "...                         ...         ...               ...          ...   \n",
       "41599 2016-10-17 17:10:00+00:00          11              37.0          2.3   \n",
       "41600 2016-10-17 17:20:00+00:00          11              37.0         12.2   \n",
       "41601 2016-10-17 17:30:00+00:00          11              37.0          0.0   \n",
       "41602 2016-10-17 17:40:00+00:00          11              36.0          0.0   \n",
       "41603 2016-10-17 17:44:00+00:00          11              37.5          6.2   \n",
       "\n",
       "       Rtr_RPM_Min  Rtr_RPM_Avg  Grd_RtrInvPhase1_Temp_Avg  \\\n",
       "0             10.9        11.10                       40.0   \n",
       "1              2.0        10.20                       38.0   \n",
       "2              2.3         9.20                       39.0   \n",
       "3             10.9        11.10                       40.0   \n",
       "4             10.9        11.10                       40.0   \n",
       "...            ...          ...                        ...   \n",
       "41599          0.0         0.60                       34.0   \n",
       "41600          0.0         3.60                       34.0   \n",
       "41601          0.0         0.00                       36.0   \n",
       "41602          0.0         0.00                       36.0   \n",
       "41603          0.9         4.25                       38.0   \n",
       "\n",
       "       Grd_RtrInvPhase2_Temp_Avg  Grd_RtrInvPhase3_Temp_Avg  Rtr_RPM_Std  ...  \\\n",
       "0                           40.0                       38.0          0.1  ...   \n",
       "1                           38.0                       36.0          2.4  ...   \n",
       "2                           39.0                       37.0          3.4  ...   \n",
       "3                           40.0                       38.0          0.1  ...   \n",
       "4                           40.0                       38.0          0.1  ...   \n",
       "...                          ...                        ...          ...  ...   \n",
       "41599                       35.0                       35.0          0.9  ...   \n",
       "41600                       36.0                       36.0          3.4  ...   \n",
       "41601                       37.0                       37.0          0.0  ...   \n",
       "41602                       37.0                       37.0          0.0  ...   \n",
       "41603                       38.5                       37.5          1.9  ...   \n",
       "\n",
       "       Cont_Hub_Temp_Avg  Cont_VCP_Temp_Avg  Cont_VCP_ChokcoilTemp_Avg  \\\n",
       "0                   28.0               38.0                       96.0   \n",
       "1                   28.0               38.0                       96.0   \n",
       "2                   27.0               38.0                       93.0   \n",
       "3                   27.0               38.0                       92.0   \n",
       "4                   27.0               38.0                       94.0   \n",
       "...                  ...                ...                        ...   \n",
       "41599               35.0               39.0                       33.0   \n",
       "41600               35.0               39.0                       34.0   \n",
       "41601               36.0               41.0                       35.0   \n",
       "41602               36.0               41.0                       35.0   \n",
       "41603               37.0               41.5                       62.5   \n",
       "\n",
       "       Cont_VCP_WtrTemp_Avg  Nac_Temp_Avg  Nac_Direction_Avg  Spin_Temp_Avg  \\\n",
       "0                      38.0          29.0              204.6           20.0   \n",
       "1                      37.0          29.0              210.5           20.0   \n",
       "2                      39.0          29.0              199.0           20.0   \n",
       "3                      39.0          29.0              205.6           20.0   \n",
       "4                      38.0          29.0              207.4           20.0   \n",
       "...                     ...           ...                ...            ...   \n",
       "41599                  35.0          33.0              272.5           32.0   \n",
       "41600                  35.0          34.0              273.9           32.0   \n",
       "41601                  36.0          34.0              280.2           31.0   \n",
       "41602                  37.0          34.0              280.2           31.0   \n",
       "41603                  38.5          34.5              272.0           31.5   \n",
       "\n",
       "       Grd_Busbar_Temp_Avg  Component              TTF  \n",
       "0                     37.0        0.0 94 days 18:53:00  \n",
       "1                     37.0        0.0 94 days 18:43:00  \n",
       "2                     37.0        0.0 94 days 18:33:00  \n",
       "3                     37.0        0.0 94 days 18:23:00  \n",
       "4                     37.0        0.0 94 days 18:13:00  \n",
       "...                    ...        ...              ...  \n",
       "41599                 34.0        0.0  0 days 00:34:00  \n",
       "41600                 35.0        0.0  0 days 00:24:00  \n",
       "41601                 35.0        0.0  0 days 00:14:00  \n",
       "41602                 35.0        0.0  0 days 00:04:00  \n",
       "41603                 37.5        1.0  0 days 00:00:00  \n",
       "\n",
       "[55245 rows x 33 columns]"
      ]
     },
     "execution_count": 89,
     "metadata": {},
     "output_type": "execute_result"
    }
   ],
   "source": [
    "hyd_final"
   ]
  },
  {
   "cell_type": "markdown",
   "id": "proved-bankruptcy",
   "metadata": {},
   "source": [
    "# DF RUL Failures GearBox"
   ]
  },
  {
   "cell_type": "code",
   "execution_count": 90,
   "id": "annoying-arrest",
   "metadata": {
    "ExecuteTime": {
     "end_time": "2021-02-02T18:58:33.501824Z",
     "start_time": "2021-02-02T18:58:33.124865Z"
    }
   },
   "outputs": [],
   "source": [
    "df_signals_gearbox_final = df_signals_gearbox_final.groupby(by=['Timestamp','Turbine_ID']).mean()\n",
    "df_signals_gearbox_final.sort_values(['Turbine_ID','Timestamp'], inplace=True)\n",
    "df_signals_gearbox_final.reset_index(inplace=True)\n",
    "#DF Signals Generator failures on turbine 1 and 9 in 2016\n",
    "df_signals_gearbox_t1 = df_signals_gearbox_final[df_signals_gearbox_final['Turbine_ID'] == 1]\n",
    "df_signals_gearbox_t9 = df_signals_gearbox_final[df_signals_gearbox_final['Turbine_ID'] == 9]"
   ]
  },
  {
   "cell_type": "code",
   "execution_count": 91,
   "id": "entire-chosen",
   "metadata": {
    "ExecuteTime": {
     "end_time": "2021-02-02T18:58:33.516592Z",
     "start_time": "2021-02-02T18:58:33.504763Z"
    }
   },
   "outputs": [],
   "source": [
    "df_signals_gearbox_t1.loc[df_signals_gearbox_t1['Component'] == 1,'Timestamp']\n",
    "df_signals_gearbox_t1 = df_signals_gearbox_t1.truncate(after=28632)"
   ]
  },
  {
   "cell_type": "code",
   "execution_count": 92,
   "id": "crude-fairy",
   "metadata": {
    "ExecuteTime": {
     "end_time": "2021-02-02T18:58:33.533623Z",
     "start_time": "2021-02-02T18:58:33.520745Z"
    }
   },
   "outputs": [],
   "source": [
    "df_signals_gearbox_t9.loc[df_signals_gearbox_t9['Component'] == 1,'Timestamp']\n",
    "df_signals_gearbox_t9 = df_signals_gearbox_t9.truncate(after=196073)"
   ]
  },
  {
   "cell_type": "code",
   "execution_count": 93,
   "id": "productive-pioneer",
   "metadata": {
    "ExecuteTime": {
     "end_time": "2021-02-02T18:58:33.574242Z",
     "start_time": "2021-02-02T18:58:33.537044Z"
    },
    "collapsed": true
   },
   "outputs": [
    {
     "name": "stderr",
     "output_type": "stream",
     "text": [
      "/home/guilherme/.pyenv/versions/3.7.2/lib/python3.7/site-packages/ipykernel_launcher.py:2: SettingWithCopyWarning: \n",
      "A value is trying to be set on a copy of a slice from a DataFrame.\n",
      "Try using .loc[row_indexer,col_indexer] = value instead\n",
      "\n",
      "See the caveats in the documentation: https://pandas.pydata.org/pandas-docs/stable/user_guide/indexing.html#returning-a-view-versus-a-copy\n",
      "  \n"
     ]
    }
   ],
   "source": [
    "index_list = df_signals_gearbox_t1.loc[df_signals_gearbox_t1['Component'] == 1]\n",
    "index_list['date'] = index_list['Timestamp']\n",
    "index_list = index_list[['Timestamp','date']]\n",
    "df = df_signals_gearbox_t1.merge(index_list, on=['Timestamp'], how='left')\n",
    "df_gearbox_t1 = df.fillna(method='bfill')\n",
    "df_gearbox_t1['TTF'] = df_gearbox_t1['date'] - df_gearbox_t1['Timestamp'] \n",
    "df_gearbox_t1 = df_gearbox_t1.drop(columns='date')"
   ]
  },
  {
   "cell_type": "code",
   "execution_count": 94,
   "id": "third-grant",
   "metadata": {
    "ExecuteTime": {
     "end_time": "2021-02-02T18:58:33.625940Z",
     "start_time": "2021-02-02T18:58:33.577476Z"
    },
    "collapsed": true
   },
   "outputs": [
    {
     "name": "stderr",
     "output_type": "stream",
     "text": [
      "/home/guilherme/.pyenv/versions/3.7.2/lib/python3.7/site-packages/ipykernel_launcher.py:2: SettingWithCopyWarning: \n",
      "A value is trying to be set on a copy of a slice from a DataFrame.\n",
      "Try using .loc[row_indexer,col_indexer] = value instead\n",
      "\n",
      "See the caveats in the documentation: https://pandas.pydata.org/pandas-docs/stable/user_guide/indexing.html#returning-a-view-versus-a-copy\n",
      "  \n"
     ]
    }
   ],
   "source": [
    "index_list_t9 = df_signals_gearbox_t9.loc[df_signals_gearbox_t9['Component'] == 1]\n",
    "index_list_t9['date'] = index_list_t9['Timestamp']\n",
    "index_list_t9 = index_list_t9[['Timestamp','date']]\n",
    "df = df_signals_gearbox_t9.merge(index_list_t9, on=['Timestamp'], how='left')\n",
    "df_gearbox_t9 = df.fillna(method='bfill')\n",
    "df_gearbox_t9['TTF'] = df_gearbox_t9['date'] - df_gearbox_t9['Timestamp'] \n",
    "df_gearbox_t9 = df_gearbox_t9.drop(columns='date')"
   ]
  },
  {
   "cell_type": "code",
   "execution_count": 95,
   "id": "another-setting",
   "metadata": {
    "ExecuteTime": {
     "end_time": "2021-02-02T18:58:33.644158Z",
     "start_time": "2021-02-02T18:58:33.630699Z"
    }
   },
   "outputs": [],
   "source": [
    "gearbox_final = pd.concat([df_gearbox_t1, df_gearbox_t9])"
   ]
  },
  {
   "cell_type": "code",
   "execution_count": 96,
   "id": "documented-penalty",
   "metadata": {
    "ExecuteTime": {
     "end_time": "2021-02-02T18:58:33.725390Z",
     "start_time": "2021-02-02T18:58:33.647401Z"
    }
   },
   "outputs": [
    {
     "data": {
      "text/html": [
       "<div>\n",
       "<style scoped>\n",
       "    .dataframe tbody tr th:only-of-type {\n",
       "        vertical-align: middle;\n",
       "    }\n",
       "\n",
       "    .dataframe tbody tr th {\n",
       "        vertical-align: top;\n",
       "    }\n",
       "\n",
       "    .dataframe thead th {\n",
       "        text-align: right;\n",
       "    }\n",
       "</style>\n",
       "<table border=\"1\" class=\"dataframe\">\n",
       "  <thead>\n",
       "    <tr style=\"text-align: right;\">\n",
       "      <th></th>\n",
       "      <th>Timestamp</th>\n",
       "      <th>Turbine_ID</th>\n",
       "      <th>Gear_Oil_Temp_Avg</th>\n",
       "      <th>Gear_Bear_Temp_Avg</th>\n",
       "      <th>Rtr_RPM_Max</th>\n",
       "      <th>Rtr_RPM_Min</th>\n",
       "      <th>Rtr_RPM_Avg</th>\n",
       "      <th>Grd_RtrInvPhase1_Temp_Avg</th>\n",
       "      <th>Grd_RtrInvPhase2_Temp_Avg</th>\n",
       "      <th>Grd_RtrInvPhase3_Temp_Avg</th>\n",
       "      <th>...</th>\n",
       "      <th>Cont_Hub_Temp_Avg</th>\n",
       "      <th>Cont_VCP_Temp_Avg</th>\n",
       "      <th>Cont_VCP_ChokcoilTemp_Avg</th>\n",
       "      <th>Cont_VCP_WtrTemp_Avg</th>\n",
       "      <th>Nac_Temp_Avg</th>\n",
       "      <th>Nac_Direction_Avg</th>\n",
       "      <th>Spin_Temp_Avg</th>\n",
       "      <th>Grd_Busbar_Temp_Avg</th>\n",
       "      <th>Component</th>\n",
       "      <th>TTF</th>\n",
       "    </tr>\n",
       "  </thead>\n",
       "  <tbody>\n",
       "    <tr>\n",
       "      <th>0</th>\n",
       "      <td>2016-01-01 00:00:00+00:00</td>\n",
       "      <td>1</td>\n",
       "      <td>44.0</td>\n",
       "      <td>48.0</td>\n",
       "      <td>11.30</td>\n",
       "      <td>10.9</td>\n",
       "      <td>11.10</td>\n",
       "      <td>39.0</td>\n",
       "      <td>39.0</td>\n",
       "      <td>38.0</td>\n",
       "      <td>...</td>\n",
       "      <td>28.0</td>\n",
       "      <td>43.0</td>\n",
       "      <td>91.0</td>\n",
       "      <td>39.0</td>\n",
       "      <td>28.0</td>\n",
       "      <td>218.50</td>\n",
       "      <td>20.0</td>\n",
       "      <td>38.0</td>\n",
       "      <td>0.0</td>\n",
       "      <td>199 days 02:10:00</td>\n",
       "    </tr>\n",
       "    <tr>\n",
       "      <th>1</th>\n",
       "      <td>2016-01-01 00:10:00+00:00</td>\n",
       "      <td>1</td>\n",
       "      <td>44.0</td>\n",
       "      <td>48.0</td>\n",
       "      <td>11.20</td>\n",
       "      <td>0.0</td>\n",
       "      <td>8.80</td>\n",
       "      <td>37.0</td>\n",
       "      <td>36.0</td>\n",
       "      <td>37.0</td>\n",
       "      <td>...</td>\n",
       "      <td>28.0</td>\n",
       "      <td>42.0</td>\n",
       "      <td>91.0</td>\n",
       "      <td>37.0</td>\n",
       "      <td>28.0</td>\n",
       "      <td>218.50</td>\n",
       "      <td>20.0</td>\n",
       "      <td>38.0</td>\n",
       "      <td>0.0</td>\n",
       "      <td>199 days 02:00:00</td>\n",
       "    </tr>\n",
       "    <tr>\n",
       "      <th>2</th>\n",
       "      <td>2016-01-01 00:20:00+00:00</td>\n",
       "      <td>1</td>\n",
       "      <td>43.0</td>\n",
       "      <td>46.0</td>\n",
       "      <td>12.30</td>\n",
       "      <td>1.9</td>\n",
       "      <td>6.80</td>\n",
       "      <td>38.0</td>\n",
       "      <td>37.0</td>\n",
       "      <td>37.0</td>\n",
       "      <td>...</td>\n",
       "      <td>28.0</td>\n",
       "      <td>42.0</td>\n",
       "      <td>87.0</td>\n",
       "      <td>38.0</td>\n",
       "      <td>29.0</td>\n",
       "      <td>213.30</td>\n",
       "      <td>20.0</td>\n",
       "      <td>38.0</td>\n",
       "      <td>0.0</td>\n",
       "      <td>199 days 01:50:00</td>\n",
       "    </tr>\n",
       "    <tr>\n",
       "      <th>3</th>\n",
       "      <td>2016-01-01 00:30:00+00:00</td>\n",
       "      <td>1</td>\n",
       "      <td>44.0</td>\n",
       "      <td>48.0</td>\n",
       "      <td>11.50</td>\n",
       "      <td>10.7</td>\n",
       "      <td>11.10</td>\n",
       "      <td>38.0</td>\n",
       "      <td>38.0</td>\n",
       "      <td>38.0</td>\n",
       "      <td>...</td>\n",
       "      <td>28.0</td>\n",
       "      <td>42.0</td>\n",
       "      <td>87.0</td>\n",
       "      <td>38.0</td>\n",
       "      <td>28.0</td>\n",
       "      <td>222.40</td>\n",
       "      <td>20.0</td>\n",
       "      <td>38.0</td>\n",
       "      <td>0.0</td>\n",
       "      <td>199 days 01:40:00</td>\n",
       "    </tr>\n",
       "    <tr>\n",
       "      <th>4</th>\n",
       "      <td>2016-01-01 00:40:00+00:00</td>\n",
       "      <td>1</td>\n",
       "      <td>44.0</td>\n",
       "      <td>48.0</td>\n",
       "      <td>11.70</td>\n",
       "      <td>10.8</td>\n",
       "      <td>11.10</td>\n",
       "      <td>39.0</td>\n",
       "      <td>38.0</td>\n",
       "      <td>38.0</td>\n",
       "      <td>...</td>\n",
       "      <td>28.0</td>\n",
       "      <td>42.0</td>\n",
       "      <td>88.0</td>\n",
       "      <td>39.0</td>\n",
       "      <td>28.0</td>\n",
       "      <td>222.40</td>\n",
       "      <td>20.0</td>\n",
       "      <td>38.0</td>\n",
       "      <td>0.0</td>\n",
       "      <td>199 days 01:30:00</td>\n",
       "    </tr>\n",
       "    <tr>\n",
       "      <th>...</th>\n",
       "      <td>...</td>\n",
       "      <td>...</td>\n",
       "      <td>...</td>\n",
       "      <td>...</td>\n",
       "      <td>...</td>\n",
       "      <td>...</td>\n",
       "      <td>...</td>\n",
       "      <td>...</td>\n",
       "      <td>...</td>\n",
       "      <td>...</td>\n",
       "      <td>...</td>\n",
       "      <td>...</td>\n",
       "      <td>...</td>\n",
       "      <td>...</td>\n",
       "      <td>...</td>\n",
       "      <td>...</td>\n",
       "      <td>...</td>\n",
       "      <td>...</td>\n",
       "      <td>...</td>\n",
       "      <td>...</td>\n",
       "      <td>...</td>\n",
       "    </tr>\n",
       "    <tr>\n",
       "      <th>40628</th>\n",
       "      <td>2016-10-11 07:30:00+00:00</td>\n",
       "      <td>9</td>\n",
       "      <td>36.0</td>\n",
       "      <td>36.0</td>\n",
       "      <td>2.20</td>\n",
       "      <td>1.8</td>\n",
       "      <td>2.00</td>\n",
       "      <td>30.0</td>\n",
       "      <td>32.0</td>\n",
       "      <td>31.0</td>\n",
       "      <td>...</td>\n",
       "      <td>28.0</td>\n",
       "      <td>33.0</td>\n",
       "      <td>37.0</td>\n",
       "      <td>30.0</td>\n",
       "      <td>27.0</td>\n",
       "      <td>196.10</td>\n",
       "      <td>21.0</td>\n",
       "      <td>27.0</td>\n",
       "      <td>0.0</td>\n",
       "      <td>0 days 00:36:00</td>\n",
       "    </tr>\n",
       "    <tr>\n",
       "      <th>40629</th>\n",
       "      <td>2016-10-11 07:40:00+00:00</td>\n",
       "      <td>9</td>\n",
       "      <td>35.0</td>\n",
       "      <td>36.0</td>\n",
       "      <td>2.10</td>\n",
       "      <td>2.0</td>\n",
       "      <td>2.00</td>\n",
       "      <td>30.0</td>\n",
       "      <td>31.0</td>\n",
       "      <td>31.0</td>\n",
       "      <td>...</td>\n",
       "      <td>28.0</td>\n",
       "      <td>33.0</td>\n",
       "      <td>36.0</td>\n",
       "      <td>30.0</td>\n",
       "      <td>27.0</td>\n",
       "      <td>194.70</td>\n",
       "      <td>21.0</td>\n",
       "      <td>27.0</td>\n",
       "      <td>0.0</td>\n",
       "      <td>0 days 00:26:00</td>\n",
       "    </tr>\n",
       "    <tr>\n",
       "      <th>40630</th>\n",
       "      <td>2016-10-11 07:50:00+00:00</td>\n",
       "      <td>9</td>\n",
       "      <td>35.0</td>\n",
       "      <td>36.0</td>\n",
       "      <td>2.10</td>\n",
       "      <td>1.9</td>\n",
       "      <td>2.00</td>\n",
       "      <td>30.0</td>\n",
       "      <td>31.0</td>\n",
       "      <td>31.0</td>\n",
       "      <td>...</td>\n",
       "      <td>28.0</td>\n",
       "      <td>33.0</td>\n",
       "      <td>35.0</td>\n",
       "      <td>30.0</td>\n",
       "      <td>27.0</td>\n",
       "      <td>194.70</td>\n",
       "      <td>21.0</td>\n",
       "      <td>27.0</td>\n",
       "      <td>0.0</td>\n",
       "      <td>0 days 00:16:00</td>\n",
       "    </tr>\n",
       "    <tr>\n",
       "      <th>40631</th>\n",
       "      <td>2016-10-11 08:00:00+00:00</td>\n",
       "      <td>9</td>\n",
       "      <td>35.0</td>\n",
       "      <td>36.0</td>\n",
       "      <td>2.20</td>\n",
       "      <td>1.6</td>\n",
       "      <td>1.90</td>\n",
       "      <td>30.0</td>\n",
       "      <td>31.0</td>\n",
       "      <td>31.0</td>\n",
       "      <td>...</td>\n",
       "      <td>28.0</td>\n",
       "      <td>33.0</td>\n",
       "      <td>35.0</td>\n",
       "      <td>29.0</td>\n",
       "      <td>27.0</td>\n",
       "      <td>194.70</td>\n",
       "      <td>20.0</td>\n",
       "      <td>27.0</td>\n",
       "      <td>0.0</td>\n",
       "      <td>0 days 00:06:00</td>\n",
       "    </tr>\n",
       "    <tr>\n",
       "      <th>40632</th>\n",
       "      <td>2016-10-11 08:06:00+00:00</td>\n",
       "      <td>9</td>\n",
       "      <td>36.0</td>\n",
       "      <td>36.5</td>\n",
       "      <td>2.15</td>\n",
       "      <td>1.8</td>\n",
       "      <td>1.95</td>\n",
       "      <td>30.5</td>\n",
       "      <td>30.5</td>\n",
       "      <td>30.5</td>\n",
       "      <td>...</td>\n",
       "      <td>27.0</td>\n",
       "      <td>32.5</td>\n",
       "      <td>27.5</td>\n",
       "      <td>29.5</td>\n",
       "      <td>25.5</td>\n",
       "      <td>183.95</td>\n",
       "      <td>20.5</td>\n",
       "      <td>26.5</td>\n",
       "      <td>1.0</td>\n",
       "      <td>0 days 00:00:00</td>\n",
       "    </tr>\n",
       "  </tbody>\n",
       "</table>\n",
       "<p>69266 rows × 34 columns</p>\n",
       "</div>"
      ],
      "text/plain": [
       "                      Timestamp  Turbine_ID  Gear_Oil_Temp_Avg  \\\n",
       "0     2016-01-01 00:00:00+00:00           1               44.0   \n",
       "1     2016-01-01 00:10:00+00:00           1               44.0   \n",
       "2     2016-01-01 00:20:00+00:00           1               43.0   \n",
       "3     2016-01-01 00:30:00+00:00           1               44.0   \n",
       "4     2016-01-01 00:40:00+00:00           1               44.0   \n",
       "...                         ...         ...                ...   \n",
       "40628 2016-10-11 07:30:00+00:00           9               36.0   \n",
       "40629 2016-10-11 07:40:00+00:00           9               35.0   \n",
       "40630 2016-10-11 07:50:00+00:00           9               35.0   \n",
       "40631 2016-10-11 08:00:00+00:00           9               35.0   \n",
       "40632 2016-10-11 08:06:00+00:00           9               36.0   \n",
       "\n",
       "       Gear_Bear_Temp_Avg  Rtr_RPM_Max  Rtr_RPM_Min  Rtr_RPM_Avg  \\\n",
       "0                    48.0        11.30         10.9        11.10   \n",
       "1                    48.0        11.20          0.0         8.80   \n",
       "2                    46.0        12.30          1.9         6.80   \n",
       "3                    48.0        11.50         10.7        11.10   \n",
       "4                    48.0        11.70         10.8        11.10   \n",
       "...                   ...          ...          ...          ...   \n",
       "40628                36.0         2.20          1.8         2.00   \n",
       "40629                36.0         2.10          2.0         2.00   \n",
       "40630                36.0         2.10          1.9         2.00   \n",
       "40631                36.0         2.20          1.6         1.90   \n",
       "40632                36.5         2.15          1.8         1.95   \n",
       "\n",
       "       Grd_RtrInvPhase1_Temp_Avg  Grd_RtrInvPhase2_Temp_Avg  \\\n",
       "0                           39.0                       39.0   \n",
       "1                           37.0                       36.0   \n",
       "2                           38.0                       37.0   \n",
       "3                           38.0                       38.0   \n",
       "4                           39.0                       38.0   \n",
       "...                          ...                        ...   \n",
       "40628                       30.0                       32.0   \n",
       "40629                       30.0                       31.0   \n",
       "40630                       30.0                       31.0   \n",
       "40631                       30.0                       31.0   \n",
       "40632                       30.5                       30.5   \n",
       "\n",
       "       Grd_RtrInvPhase3_Temp_Avg  ...  Cont_Hub_Temp_Avg  Cont_VCP_Temp_Avg  \\\n",
       "0                           38.0  ...               28.0               43.0   \n",
       "1                           37.0  ...               28.0               42.0   \n",
       "2                           37.0  ...               28.0               42.0   \n",
       "3                           38.0  ...               28.0               42.0   \n",
       "4                           38.0  ...               28.0               42.0   \n",
       "...                          ...  ...                ...                ...   \n",
       "40628                       31.0  ...               28.0               33.0   \n",
       "40629                       31.0  ...               28.0               33.0   \n",
       "40630                       31.0  ...               28.0               33.0   \n",
       "40631                       31.0  ...               28.0               33.0   \n",
       "40632                       30.5  ...               27.0               32.5   \n",
       "\n",
       "       Cont_VCP_ChokcoilTemp_Avg  Cont_VCP_WtrTemp_Avg  Nac_Temp_Avg  \\\n",
       "0                           91.0                  39.0          28.0   \n",
       "1                           91.0                  37.0          28.0   \n",
       "2                           87.0                  38.0          29.0   \n",
       "3                           87.0                  38.0          28.0   \n",
       "4                           88.0                  39.0          28.0   \n",
       "...                          ...                   ...           ...   \n",
       "40628                       37.0                  30.0          27.0   \n",
       "40629                       36.0                  30.0          27.0   \n",
       "40630                       35.0                  30.0          27.0   \n",
       "40631                       35.0                  29.0          27.0   \n",
       "40632                       27.5                  29.5          25.5   \n",
       "\n",
       "       Nac_Direction_Avg  Spin_Temp_Avg  Grd_Busbar_Temp_Avg  Component  \\\n",
       "0                 218.50           20.0                 38.0        0.0   \n",
       "1                 218.50           20.0                 38.0        0.0   \n",
       "2                 213.30           20.0                 38.0        0.0   \n",
       "3                 222.40           20.0                 38.0        0.0   \n",
       "4                 222.40           20.0                 38.0        0.0   \n",
       "...                  ...            ...                  ...        ...   \n",
       "40628             196.10           21.0                 27.0        0.0   \n",
       "40629             194.70           21.0                 27.0        0.0   \n",
       "40630             194.70           21.0                 27.0        0.0   \n",
       "40631             194.70           20.0                 27.0        0.0   \n",
       "40632             183.95           20.5                 26.5        1.0   \n",
       "\n",
       "                    TTF  \n",
       "0     199 days 02:10:00  \n",
       "1     199 days 02:00:00  \n",
       "2     199 days 01:50:00  \n",
       "3     199 days 01:40:00  \n",
       "4     199 days 01:30:00  \n",
       "...                 ...  \n",
       "40628   0 days 00:36:00  \n",
       "40629   0 days 00:26:00  \n",
       "40630   0 days 00:16:00  \n",
       "40631   0 days 00:06:00  \n",
       "40632   0 days 00:00:00  \n",
       "\n",
       "[69266 rows x 34 columns]"
      ]
     },
     "execution_count": 96,
     "metadata": {},
     "output_type": "execute_result"
    }
   ],
   "source": [
    "gearbox_final"
   ]
  },
  {
   "cell_type": "markdown",
   "id": "preliminary-solid",
   "metadata": {},
   "source": [
    "# DF RUL Failures Transformer"
   ]
  },
  {
   "cell_type": "code",
   "execution_count": 97,
   "id": "thirty-chain",
   "metadata": {
    "ExecuteTime": {
     "end_time": "2021-02-02T18:58:34.115132Z",
     "start_time": "2021-02-02T18:58:33.729028Z"
    }
   },
   "outputs": [],
   "source": [
    "df_signals_transf_final = df_signals_transf_final.groupby(by=['Timestamp','Turbine_ID']).mean()\n",
    "df_signals_transf_final.sort_values(['Turbine_ID','Timestamp'], inplace=True)\n",
    "df_signals_transf_final.reset_index(inplace=True)\n",
    "#DF Signals Generator failures on turbine 7 in 2016\n",
    "df_signals_transf_t7 = df_signals_transf_final[df_signals_transf_final['Turbine_ID'] == 7]"
   ]
  },
  {
   "cell_type": "code",
   "execution_count": 98,
   "id": "injured-palace",
   "metadata": {
    "ExecuteTime": {
     "end_time": "2021-02-02T18:58:34.128476Z",
     "start_time": "2021-02-02T18:58:34.118604Z"
    }
   },
   "outputs": [],
   "source": [
    "df_signals_transf_t7.loc[df_signals_transf_t7['Component'] == 1,'Timestamp']\n",
    "df_signals_transf_t7 = df_signals_transf_t7.truncate(after=136821)"
   ]
  },
  {
   "cell_type": "code",
   "execution_count": 99,
   "id": "industrial-plant",
   "metadata": {
    "ExecuteTime": {
     "end_time": "2021-02-02T18:58:34.173212Z",
     "start_time": "2021-02-02T18:58:34.131302Z"
    },
    "collapsed": true
   },
   "outputs": [
    {
     "name": "stderr",
     "output_type": "stream",
     "text": [
      "/home/guilherme/.pyenv/versions/3.7.2/lib/python3.7/site-packages/ipykernel_launcher.py:2: SettingWithCopyWarning: \n",
      "A value is trying to be set on a copy of a slice from a DataFrame.\n",
      "Try using .loc[row_indexer,col_indexer] = value instead\n",
      "\n",
      "See the caveats in the documentation: https://pandas.pydata.org/pandas-docs/stable/user_guide/indexing.html#returning-a-view-versus-a-copy\n",
      "  \n"
     ]
    }
   ],
   "source": [
    "index_list = df_signals_transf_t7.loc[df_signals_transf_t7['Component'] == 1]\n",
    "index_list['date'] = index_list['Timestamp']\n",
    "index_list = index_list[['Timestamp','date']]\n",
    "df = df_signals_transf_t7.merge(index_list, on=['Timestamp'], how='left')\n",
    "df_transf_t7 = df.fillna(method='bfill')\n",
    "df_transf_t7['TTF'] = df_transf_t7['date'] - df_transf_t7['Timestamp'] \n",
    "df_transf_t7 = df_transf_t7.drop(columns='date')"
   ]
  },
  {
   "cell_type": "code",
   "execution_count": 100,
   "id": "presidential-thomas",
   "metadata": {
    "ExecuteTime": {
     "end_time": "2021-02-02T18:58:34.182622Z",
     "start_time": "2021-02-02T18:58:34.176651Z"
    }
   },
   "outputs": [],
   "source": [
    "transf_final = df_transf_t7.copy()"
   ]
  },
  {
   "cell_type": "code",
   "execution_count": 101,
   "id": "structured-maple",
   "metadata": {
    "ExecuteTime": {
     "end_time": "2021-02-02T18:58:34.196268Z",
     "start_time": "2021-02-02T18:58:34.186245Z"
    }
   },
   "outputs": [
    {
     "data": {
      "text/plain": [
       "((33820, 35), (69266, 34), (50506, 46), (58840, 46), (55245, 33))"
      ]
     },
     "execution_count": 101,
     "metadata": {},
     "output_type": "execute_result"
    }
   ],
   "source": [
    "transf_final.shape, gearbox_final.shape, generator_final.shape, gen_bear_final.shape, hyd_final.shape"
   ]
  },
  {
   "cell_type": "code",
   "execution_count": 102,
   "id": "seventh-fields",
   "metadata": {
    "ExecuteTime": {
     "end_time": "2021-02-02T18:58:34.221918Z",
     "start_time": "2021-02-02T18:58:34.199688Z"
    }
   },
   "outputs": [],
   "source": [
    "transf_final['TTF'] = transf_final['TTF'].dt.days\n",
    "gearbox_final['TTF'] = gearbox_final['TTF'].dt.days\n",
    "generator_final['TTF'] = generator_final['TTF'].dt.days\n",
    "gen_bear_final['TTF'] = gen_bear_final['TTF'].dt.days\n",
    "hyd_final['TTF'] = hyd_final['TTF'].dt.days"
   ]
  },
  {
   "cell_type": "code",
   "execution_count": 103,
   "id": "fixed-display",
   "metadata": {
    "ExecuteTime": {
     "end_time": "2021-02-02T18:58:34.230717Z",
     "start_time": "2021-02-02T18:58:34.225286Z"
    }
   },
   "outputs": [],
   "source": [
    "def Failure_Time_Horizon(days, period):\n",
    "    if days <= period:\n",
    "        Flag=1\n",
    "    else:\n",
    "        Flag=0\n",
    "    return Flag"
   ]
  },
  {
   "cell_type": "code",
   "execution_count": 106,
   "id": "colonial-happening",
   "metadata": {
    "ExecuteTime": {
     "end_time": "2021-02-02T18:59:33.669593Z",
     "start_time": "2021-02-02T18:59:30.357461Z"
    }
   },
   "outputs": [],
   "source": [
    "transf_final['60_days'] = transf_final.apply(lambda x: Failure_Time_Horizon(x['TTF'], 60),axis=1)\n",
    "gearbox_final['60_days'] = gearbox_final.apply(lambda x: Failure_Time_Horizon(x['TTF'], 60),axis=1)\n",
    "generator_final['60_days'] = generator_final.apply(lambda x: Failure_Time_Horizon(x['TTF'], 60),axis=1)\n",
    "gen_bear_final['60_days'] = gen_bear_final.apply(lambda x: Failure_Time_Horizon(x['TTF'], 60),axis=1)\n",
    "hyd_final['60_days'] = hyd_final.apply(lambda x: Failure_Time_Horizon(x['TTF'], 60),axis=1)"
   ]
  },
  {
   "cell_type": "code",
   "execution_count": 107,
   "id": "extra-lemon",
   "metadata": {
    "ExecuteTime": {
     "end_time": "2021-02-02T18:59:37.153066Z",
     "start_time": "2021-02-02T18:59:33.672378Z"
    }
   },
   "outputs": [],
   "source": [
    "transf_final['40_days'] = transf_final.apply(lambda x: Failure_Time_Horizon(x['TTF'], 40),axis=1)\n",
    "gearbox_final['40_days'] = gearbox_final.apply(lambda x: Failure_Time_Horizon(x['TTF'], 40),axis=1)\n",
    "generator_final['40_days'] = generator_final.apply(lambda x: Failure_Time_Horizon(x['TTF'], 40),axis=1)\n",
    "gen_bear_final['40_days'] = gen_bear_final.apply(lambda x: Failure_Time_Horizon(x['TTF'], 40),axis=1)\n",
    "hyd_final['40_days'] = hyd_final.apply(lambda x: Failure_Time_Horizon(x['TTF'], 40),axis=1)"
   ]
  },
  {
   "cell_type": "code",
   "execution_count": 108,
   "id": "natural-portsmouth",
   "metadata": {
    "ExecuteTime": {
     "end_time": "2021-02-02T18:59:40.478058Z",
     "start_time": "2021-02-02T18:59:37.156010Z"
    }
   },
   "outputs": [],
   "source": [
    "transf_final['30_days'] = transf_final.apply(lambda x: Failure_Time_Horizon(x['TTF'], 30),axis=1)\n",
    "gearbox_final['30_days'] = gearbox_final.apply(lambda x: Failure_Time_Horizon(x['TTF'], 30),axis=1)\n",
    "generator_final['30_days'] = generator_final.apply(lambda x: Failure_Time_Horizon(x['TTF'], 30),axis=1)\n",
    "gen_bear_final['30_days'] = gen_bear_final.apply(lambda x: Failure_Time_Horizon(x['TTF'], 30),axis=1)\n",
    "hyd_final['30_days'] = hyd_final.apply(lambda x: Failure_Time_Horizon(x['TTF'], 30),axis=1)"
   ]
  },
  {
   "cell_type": "code",
   "execution_count": 109,
   "id": "remarkable-anthony",
   "metadata": {
    "ExecuteTime": {
     "end_time": "2021-02-02T18:59:43.770614Z",
     "start_time": "2021-02-02T18:59:40.480679Z"
    }
   },
   "outputs": [],
   "source": [
    "transf_final['20_days'] = transf_final.apply(lambda x: Failure_Time_Horizon(x['TTF'], 20),axis=1)\n",
    "gearbox_final['20_days'] = gearbox_final.apply(lambda x: Failure_Time_Horizon(x['TTF'], 20),axis=1)\n",
    "generator_final['20_days'] = generator_final.apply(lambda x: Failure_Time_Horizon(x['TTF'], 20),axis=1)\n",
    "gen_bear_final['20_days'] = gen_bear_final.apply(lambda x: Failure_Time_Horizon(x['TTF'], 20),axis=1)\n",
    "hyd_final['20_days'] = hyd_final.apply(lambda x: Failure_Time_Horizon(x['TTF'], 20),axis=1)"
   ]
  },
  {
   "cell_type": "code",
   "execution_count": 110,
   "id": "unlike-ministry",
   "metadata": {
    "ExecuteTime": {
     "end_time": "2021-02-02T18:59:47.174302Z",
     "start_time": "2021-02-02T18:59:43.773208Z"
    }
   },
   "outputs": [],
   "source": [
    "transf_final['10_days'] = transf_final.apply(lambda x: Failure_Time_Horizon(x['TTF'], 10),axis=1)\n",
    "gearbox_final['10_days'] = gearbox_final.apply(lambda x: Failure_Time_Horizon(x['TTF'], 10),axis=1)\n",
    "generator_final['10_days'] = generator_final.apply(lambda x: Failure_Time_Horizon(x['TTF'], 10),axis=1)\n",
    "gen_bear_final['10_days'] = gen_bear_final.apply(lambda x: Failure_Time_Horizon(x['TTF'], 10),axis=1)\n",
    "hyd_final['10_days'] = hyd_final.apply(lambda x: Failure_Time_Horizon(x['TTF'], 10),axis=1)"
   ]
  },
  {
   "cell_type": "code",
   "execution_count": 111,
   "id": "further-triangle",
   "metadata": {
    "ExecuteTime": {
     "end_time": "2021-02-02T18:59:50.498342Z",
     "start_time": "2021-02-02T18:59:47.176260Z"
    }
   },
   "outputs": [],
   "source": [
    "transf_final['2_days'] = transf_final.apply(lambda x: Failure_Time_Horizon(x['TTF'], 2),axis=1)\n",
    "gearbox_final['2_days'] = gearbox_final.apply(lambda x: Failure_Time_Horizon(x['TTF'], 2),axis=1)\n",
    "generator_final['2_days'] = generator_final.apply(lambda x: Failure_Time_Horizon(x['TTF'], 2),axis=1)\n",
    "gen_bear_final['2_days'] = gen_bear_final.apply(lambda x: Failure_Time_Horizon(x['TTF'], 2),axis=1)\n",
    "hyd_final['2_days'] = hyd_final.apply(lambda x: Failure_Time_Horizon(x['TTF'], 2),axis=1)"
   ]
  },
  {
   "cell_type": "code",
   "execution_count": null,
   "id": "romance-dominican",
   "metadata": {},
   "outputs": [],
   "source": []
  },
  {
   "cell_type": "markdown",
   "id": "level-label",
   "metadata": {},
   "source": [
    "# TRAINING"
   ]
  },
  {
   "cell_type": "code",
   "execution_count": null,
   "id": "major-election",
   "metadata": {},
   "outputs": [],
   "source": []
  },
  {
   "cell_type": "code",
   "execution_count": null,
   "id": "corporate-clearance",
   "metadata": {},
   "outputs": [],
   "source": []
  },
  {
   "cell_type": "code",
   "execution_count": null,
   "id": "pregnant-announcement",
   "metadata": {},
   "outputs": [],
   "source": []
  },
  {
   "cell_type": "code",
   "execution_count": null,
   "id": "least-nebraska",
   "metadata": {},
   "outputs": [],
   "source": []
  },
  {
   "cell_type": "code",
   "execution_count": null,
   "id": "concrete-steel",
   "metadata": {},
   "outputs": [],
   "source": []
  },
  {
   "cell_type": "code",
   "execution_count": null,
   "id": "earned-chapel",
   "metadata": {},
   "outputs": [],
   "source": []
  },
  {
   "cell_type": "code",
   "execution_count": null,
   "id": "printable-woman",
   "metadata": {},
   "outputs": [],
   "source": []
  },
  {
   "cell_type": "code",
   "execution_count": null,
   "id": "typical-thesis",
   "metadata": {},
   "outputs": [],
   "source": []
  },
  {
   "cell_type": "code",
   "execution_count": null,
   "id": "aquatic-meaning",
   "metadata": {},
   "outputs": [],
   "source": []
  },
  {
   "cell_type": "code",
   "execution_count": null,
   "id": "automated-grocery",
   "metadata": {},
   "outputs": [],
   "source": []
  },
  {
   "cell_type": "code",
   "execution_count": null,
   "id": "optical-receptor",
   "metadata": {},
   "outputs": [],
   "source": []
  },
  {
   "cell_type": "code",
   "execution_count": null,
   "id": "narrative-maldives",
   "metadata": {},
   "outputs": [],
   "source": []
  },
  {
   "cell_type": "code",
   "execution_count": null,
   "id": "revised-president",
   "metadata": {},
   "outputs": [],
   "source": []
  },
  {
   "cell_type": "code",
   "execution_count": null,
   "id": "remarkable-parameter",
   "metadata": {},
   "outputs": [],
   "source": []
  },
  {
   "cell_type": "code",
   "execution_count": null,
   "id": "lonely-fireplace",
   "metadata": {},
   "outputs": [],
   "source": []
  },
  {
   "cell_type": "code",
   "execution_count": null,
   "id": "arranged-title",
   "metadata": {},
   "outputs": [],
   "source": []
  }
 ],
 "metadata": {
  "kernelspec": {
   "display_name": "Python 3",
   "language": "python",
   "name": "python3"
  },
  "language_info": {
   "codemirror_mode": {
    "name": "ipython",
    "version": 3
   },
   "file_extension": ".py",
   "mimetype": "text/x-python",
   "name": "python",
   "nbconvert_exporter": "python",
   "pygments_lexer": "ipython3",
   "version": "3.7.2"
  }
 },
 "nbformat": 4,
 "nbformat_minor": 5
}
