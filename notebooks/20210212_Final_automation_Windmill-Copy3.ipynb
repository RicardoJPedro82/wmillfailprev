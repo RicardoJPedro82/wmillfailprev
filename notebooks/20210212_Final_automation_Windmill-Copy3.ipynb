{
 "cells": [
  {
   "cell_type": "markdown",
   "metadata": {
    "toc": true
   },
   "source": [
    "<h1>Table of Contents<span class=\"tocSkip\"></span></h1>\n",
    "<div class=\"toc\"><ul class=\"toc-item\"></ul></div>"
   ]
  },
  {
   "cell_type": "markdown",
   "metadata": {},
   "source": [
    "# Importar os módulos"
   ]
  },
  {
   "cell_type": "code",
   "execution_count": 1,
   "metadata": {
    "ExecuteTime": {
     "end_time": "2021-02-19T12:22:52.223411Z",
     "start_time": "2021-02-19T12:22:44.553962Z"
    }
   },
   "outputs": [],
   "source": [
    "%load_ext autoreload\n",
    "%autoreload 2\n",
    "import os\n",
    "import pandas as pd\n",
    "import numpy as np\n",
    "import datetime\n",
    "import seaborn as sns\n",
    "import matplotlib.pyplot as plt\n",
    "import Dataset_transf as dprep\n",
    "from sklearn.preprocessing import OneHotEncoder\n",
    "from sklearn.preprocessing import StandardScaler\n",
    "from sklearn import metrics, model_selection\n",
    "from sklearn.linear_model import LogisticRegression\n",
    "from sklearn.ensemble import RandomForestClassifier\n",
    "from sklearn.svm import SVC, LinearSVC\n",
    "from sklearn.tree import DecisionTreeClassifier, export_graphviz\n",
    "from sklearn.neighbors import KNeighborsClassifier\n",
    "from sklearn.naive_bayes import GaussianNB\n",
    "from sklearn.metrics import roc_auc_score, accuracy_score, log_loss, roc_curve, precision_score, recall_score, confusion_matrix, f1_score, fbeta_score, make_scorer\n",
    "from sklearn.preprocessing import MinMaxScaler\n",
    "from sklearn.ensemble import GradientBoostingClassifier\n",
    "from sklearn.svm import SVC, LinearSVC\n",
    "from sklearn.tree import DecisionTreeClassifier\n",
    "from sklearn.neighbors import KNeighborsClassifier\n",
    "from sklearn.ensemble import BaggingClassifier\n",
    "from sklearn.ensemble import AdaBoostClassifier\n",
    "from sklearn.ensemble import ExtraTreesClassifier\n",
    "from sklearn import model_selection\n",
    "import Miguel_class_scaler as mig"
   ]
  },
  {
   "cell_type": "markdown",
   "metadata": {},
   "source": [
    "# Obter os dataframes dos ficheiros"
   ]
  },
  {
   "cell_type": "code",
   "execution_count": 2,
   "metadata": {
    "ExecuteTime": {
     "end_time": "2021-02-19T12:22:52.301814Z",
     "start_time": "2021-02-19T12:22:52.223411Z"
    }
   },
   "outputs": [],
   "source": [
    "metrics_dict={}\n",
    "tentativa = 0\n",
    "nome_ficheiro = 'Resultados60diassemtresholdnodia16'"
   ]
  },
  {
   "cell_type": "code",
   "execution_count": 3,
   "metadata": {
    "ExecuteTime": {
     "end_time": "2021-02-19T12:23:28.578427Z",
     "start_time": "2021-02-19T12:22:52.303809Z"
    }
   },
   "outputs": [],
   "source": [
    "failures_df, signals_df, logs_df = dprep.get_data()"
   ]
  },
  {
   "cell_type": "code",
   "execution_count": 4,
   "metadata": {
    "ExecuteTime": {
     "end_time": "2021-02-19T12:23:28.689087Z",
     "start_time": "2021-02-19T12:23:28.578427Z"
    }
   },
   "outputs": [
    {
     "data": {
      "text/html": [
       "<div>\n",
       "<style scoped>\n",
       "    .dataframe tbody tr th:only-of-type {\n",
       "        vertical-align: middle;\n",
       "    }\n",
       "\n",
       "    .dataframe tbody tr th {\n",
       "        vertical-align: top;\n",
       "    }\n",
       "\n",
       "    .dataframe thead th {\n",
       "        text-align: right;\n",
       "    }\n",
       "</style>\n",
       "<table border=\"1\" class=\"dataframe\">\n",
       "  <thead>\n",
       "    <tr style=\"text-align: right;\">\n",
       "      <th></th>\n",
       "      <th>Turbine_ID</th>\n",
       "      <th>Component</th>\n",
       "      <th>Timestamp</th>\n",
       "    </tr>\n",
       "  </thead>\n",
       "  <tbody>\n",
       "    <tr>\n",
       "      <th>18</th>\n",
       "      <td>T07</td>\n",
       "      <td>HYDRAULIC_GROUP</td>\n",
       "      <td>2017-06-17 11:30:00</td>\n",
       "    </tr>\n",
       "    <tr>\n",
       "      <th>19</th>\n",
       "      <td>T01</td>\n",
       "      <td>TRANSFORMER</td>\n",
       "      <td>2017-08-11 13:10:00</td>\n",
       "    </tr>\n",
       "    <tr>\n",
       "      <th>20</th>\n",
       "      <td>T06</td>\n",
       "      <td>HYDRAULIC_GROUP</td>\n",
       "      <td>2017-08-19 09:40:00</td>\n",
       "    </tr>\n",
       "    <tr>\n",
       "      <th>21</th>\n",
       "      <td>T07</td>\n",
       "      <td>GENERATOR_BEARING</td>\n",
       "      <td>2017-08-20 06:00:00</td>\n",
       "    </tr>\n",
       "    <tr>\n",
       "      <th>22</th>\n",
       "      <td>T07</td>\n",
       "      <td>GENERATOR</td>\n",
       "      <td>2017-08-21 14:40:00</td>\n",
       "    </tr>\n",
       "  </tbody>\n",
       "</table>\n",
       "</div>"
      ],
      "text/plain": [
       "   Turbine_ID          Component           Timestamp\n",
       "18        T07    HYDRAULIC_GROUP 2017-06-17 11:30:00\n",
       "19        T01        TRANSFORMER 2017-08-11 13:10:00\n",
       "20        T06    HYDRAULIC_GROUP 2017-08-19 09:40:00\n",
       "21        T07  GENERATOR_BEARING 2017-08-20 06:00:00\n",
       "22        T07          GENERATOR 2017-08-21 14:40:00"
      ]
     },
     "execution_count": 4,
     "metadata": {},
     "output_type": "execute_result"
    }
   ],
   "source": [
    "failures_df[failures_df.Timestamp >= '2017-06-01']"
   ]
  },
  {
   "cell_type": "code",
   "execution_count": 5,
   "metadata": {
    "ExecuteTime": {
     "end_time": "2021-02-19T12:23:28.766880Z",
     "start_time": "2021-02-19T12:23:28.691082Z"
    }
   },
   "outputs": [
    {
     "data": {
      "text/plain": [
       "GENERATOR            7\n",
       "GENERATOR_BEARING    6\n",
       "HYDRAULIC_GROUP      5\n",
       "TRANSFORMER          3\n",
       "GEARBOX              2\n",
       "Name: Component, dtype: int64"
      ]
     },
     "execution_count": 5,
     "metadata": {},
     "output_type": "execute_result"
    }
   ],
   "source": [
    "failures_df.Component.value_counts()"
   ]
  },
  {
   "cell_type": "code",
   "execution_count": 6,
   "metadata": {
    "ExecuteTime": {
     "end_time": "2021-02-19T12:23:28.844670Z",
     "start_time": "2021-02-19T12:23:28.768874Z"
    }
   },
   "outputs": [],
   "source": [
    "df_dict = {'failures_df':failures_df, 'signals_df':signals_df, 'logs_df':logs_df}"
   ]
  },
  {
   "cell_type": "code",
   "execution_count": 7,
   "metadata": {
    "ExecuteTime": {
     "end_time": "2021-02-19T12:23:28.938432Z",
     "start_time": "2021-02-19T12:23:28.846665Z"
    }
   },
   "outputs": [
    {
     "name": "stdout",
     "output_type": "stream",
     "text": [
      "failures_df (23, 3)\n",
      "signals_df (434145, 81)\n",
      "logs_df (256231, 3)\n"
     ]
    }
   ],
   "source": [
    "for key in df_dict:\n",
    "    print(key, df_dict[key].shape)"
   ]
  },
  {
   "cell_type": "markdown",
   "metadata": {},
   "source": [
    "# Criação de datasets de components"
   ]
  },
  {
   "cell_type": "code",
   "execution_count": 8,
   "metadata": {
    "ExecuteTime": {
     "end_time": "2021-02-19T12:23:29.239583Z",
     "start_time": "2021-02-19T12:23:28.941412Z"
    }
   },
   "outputs": [],
   "source": [
    "df_generator, df_gen_bear, df_transformer, df_hydraulic, df_gearbox = dprep.component_df_creation(signals_df)"
   ]
  },
  {
   "cell_type": "code",
   "execution_count": 9,
   "metadata": {
    "ExecuteTime": {
     "end_time": "2021-02-19T12:23:29.317513Z",
     "start_time": "2021-02-19T12:23:29.245424Z"
    }
   },
   "outputs": [],
   "source": [
    "comp_df_dict = {\n",
    "    'df_generator': df_generator,\n",
    "    'df_hydraulic': df_hydraulic,\n",
    "    'df_gen_bear': df_gen_bear,\n",
    "    'df_transformer': df_transformer,\n",
    "    'df_gearbox': df_gearbox\n",
    "}"
   ]
  },
  {
   "cell_type": "code",
   "execution_count": 10,
   "metadata": {
    "ExecuteTime": {
     "end_time": "2021-02-19T12:23:29.397449Z",
     "start_time": "2021-02-19T12:23:29.319225Z"
    }
   },
   "outputs": [
    {
     "name": "stdout",
     "output_type": "stream",
     "text": [
      "(434145, 45) df_generator\n",
      "(434145, 34) df_hydraulic\n",
      "(434145, 45) df_gen_bear\n",
      "(434145, 36) df_transformer\n",
      "(434145, 33) df_gearbox\n"
     ]
    }
   ],
   "source": [
    "for key in comp_df_dict:\n",
    "    print(comp_df_dict[key].shape, key, )"
   ]
  },
  {
   "cell_type": "code",
   "execution_count": 11,
   "metadata": {
    "ExecuteTime": {
     "end_time": "2021-02-19T12:23:29.493208Z",
     "start_time": "2021-02-19T12:23:29.398433Z"
    }
   },
   "outputs": [
    {
     "data": {
      "text/plain": [
       "array(['GENERATOR', 'HYDRAULIC_GROUP', 'GENERATOR_BEARING', 'TRANSFORMER',\n",
       "       'GEARBOX'], dtype=object)"
      ]
     },
     "execution_count": 11,
     "metadata": {},
     "output_type": "execute_result"
    }
   ],
   "source": [
    "component_list = failures_df.Component.unique()\n",
    "component_list"
   ]
  },
  {
   "cell_type": "markdown",
   "metadata": {},
   "source": [
    "# Cópia dos df para só carregar uma vez no ficheiro"
   ]
  },
  {
   "cell_type": "code",
   "execution_count": 12,
   "metadata": {
    "ExecuteTime": {
     "end_time": "2021-02-19T12:23:29.573116Z",
     "start_time": "2021-02-19T12:23:29.494202Z"
    }
   },
   "outputs": [],
   "source": [
    "comp_prep_df_dict = comp_df_dict.copy()"
   ]
  },
  {
   "cell_type": "code",
   "execution_count": 13,
   "metadata": {
    "ExecuteTime": {
     "end_time": "2021-02-19T12:23:29.652779Z",
     "start_time": "2021-02-19T12:23:29.573990Z"
    }
   },
   "outputs": [
    {
     "name": "stdout",
     "output_type": "stream",
     "text": [
      "0 df_generator\n",
      "1 df_hydraulic\n",
      "2 df_gen_bear\n",
      "3 df_transformer\n",
      "4 df_gearbox\n"
     ]
    }
   ],
   "source": [
    "for key, i in enumerate(comp_prep_df_dict):\n",
    "    print(key, i)"
   ]
  },
  {
   "cell_type": "markdown",
   "metadata": {},
   "source": [
    "# Merge dos DF com o DF de failures"
   ]
  },
  {
   "cell_type": "code",
   "execution_count": 14,
   "metadata": {
    "ExecuteTime": {
     "end_time": "2021-02-19T12:23:33.855360Z",
     "start_time": "2021-02-19T12:23:29.653775Z"
    }
   },
   "outputs": [],
   "source": [
    "for i, key in enumerate(comp_prep_df_dict):\n",
    "    comp_prep_df_dict[key] = dprep.sig_fail_merge_dfs(sig_df=comp_prep_df_dict[key],\n",
    "                                               fail_df=failures_df,\n",
    "                                               component=component_list[i])"
   ]
  },
  {
   "cell_type": "code",
   "execution_count": 15,
   "metadata": {
    "ExecuteTime": {
     "end_time": "2021-02-19T12:23:33.934149Z",
     "start_time": "2021-02-19T12:23:33.855360Z"
    }
   },
   "outputs": [
    {
     "name": "stdout",
     "output_type": "stream",
     "text": [
      "(434147, 46) df_generator\n",
      "(434145, 35) df_hydraulic\n",
      "(434145, 46) df_gen_bear\n",
      "(434145, 37) df_transformer\n",
      "(434145, 34) df_gearbox\n"
     ]
    }
   ],
   "source": [
    "for key in comp_prep_df_dict:\n",
    "    print(comp_prep_df_dict[key].shape, key)"
   ]
  },
  {
   "cell_type": "markdown",
   "metadata": {},
   "source": [
    "# Fillna by turbine"
   ]
  },
  {
   "cell_type": "code",
   "execution_count": 16,
   "metadata": {
    "ExecuteTime": {
     "end_time": "2021-02-19T12:23:34.028403Z",
     "start_time": "2021-02-19T12:23:33.935130Z"
    }
   },
   "outputs": [
    {
     "data": {
      "text/plain": [
       "array(['T11', 'T06', 'T01', 'T09', 'T07'], dtype=object)"
      ]
     },
     "execution_count": 16,
     "metadata": {},
     "output_type": "execute_result"
    }
   ],
   "source": [
    "turbine_list = signals_df.Turbine_ID.unique()\n",
    "turbine_list"
   ]
  },
  {
   "cell_type": "code",
   "execution_count": 17,
   "metadata": {
    "ExecuteTime": {
     "end_time": "2021-02-19T12:23:41.694838Z",
     "start_time": "2021-02-19T12:23:34.029401Z"
    }
   },
   "outputs": [
    {
     "name": "stderr",
     "output_type": "stream",
     "text": [
      "C:\\Users\\ricar\\code\\RicardoJPedro82\\wmillfailprev\\notebooks\\Dataset_transf.py:160: SettingWithCopyWarning: \n",
      "A value is trying to be set on a copy of a slice from a DataFrame.\n",
      "Try using .loc[row_indexer,col_indexer] = value instead\n",
      "\n",
      "See the caveats in the documentation: http://pandas.pydata.org/pandas-docs/stable/indexing.html#indexing-view-versus-copy\n",
      "  index['date'] = index['Timestamp']\n",
      "C:\\Users\\ricar\\code\\RicardoJPedro82\\wmillfailprev\\notebooks\\Dataset_transf.py:181: FutureWarning: Sorting because non-concatenation axis is not aligned. A future version\n",
      "of pandas will change to not sort by default.\n",
      "\n",
      "To accept the future behavior, pass 'sort=False'.\n",
      "\n",
      "To retain the current behavior and silence the warning, pass 'sort=True'.\n",
      "\n",
      "  df_ = pd.concat([df_, df_final])\n",
      "C:\\Users\\ricar\\code\\RicardoJPedro82\\wmillfailprev\\notebooks\\Dataset_transf.py:173: SettingWithCopyWarning: \n",
      "A value is trying to be set on a copy of a slice from a DataFrame.\n",
      "Try using .loc[row_indexer,col_indexer] = value instead\n",
      "\n",
      "See the caveats in the documentation: http://pandas.pydata.org/pandas-docs/stable/indexing.html#indexing-view-versus-copy\n",
      "  df_merged['date'] = df_merged['Timestamp']\n",
      "C:\\Users\\ricar\\code\\RicardoJPedro82\\wmillfailprev\\notebooks\\Dataset_transf.py:174: SettingWithCopyWarning: \n",
      "A value is trying to be set on a copy of a slice from a DataFrame.\n",
      "Try using .loc[row_indexer,col_indexer] = value instead\n",
      "\n",
      "See the caveats in the documentation: http://pandas.pydata.org/pandas-docs/stable/indexing.html#indexing-view-versus-copy\n",
      "  df_merged['TTF'] = 0 # df_merged['date'] - df_merged['Timestamp']\n"
     ]
    }
   ],
   "source": [
    "for i, key in enumerate(comp_prep_df_dict):\n",
    "    comp_prep_df_dict[key] = dprep.fill_na_by_turbine(comp_prep_df_dict[key],\n",
    "                                                      turbine_list)"
   ]
  },
  {
   "cell_type": "code",
   "execution_count": 18,
   "metadata": {
    "ExecuteTime": {
     "end_time": "2021-02-19T12:23:41.771800Z",
     "start_time": "2021-02-19T12:23:41.694838Z"
    }
   },
   "outputs": [
    {
     "name": "stdout",
     "output_type": "stream",
     "text": [
      "(434147, 47) df_generator\n",
      "(434145, 36) df_hydraulic\n",
      "(434145, 47) df_gen_bear\n",
      "(434145, 38) df_transformer\n",
      "(434145, 35) df_gearbox\n"
     ]
    }
   ],
   "source": [
    "for key in comp_prep_df_dict:\n",
    "    print(comp_prep_df_dict[key].shape, key)"
   ]
  },
  {
   "cell_type": "markdown",
   "metadata": {},
   "source": [
    "# Criação de Variável alvo"
   ]
  },
  {
   "cell_type": "code",
   "execution_count": 19,
   "metadata": {
    "ExecuteTime": {
     "end_time": "2021-02-19T12:23:43.783276Z",
     "start_time": "2021-02-19T12:23:41.773795Z"
    }
   },
   "outputs": [
    {
     "name": "stdout",
     "output_type": "stream",
     "text": [
      "0    47\n",
      "dtype: int64 df_generator\n",
      "0    36\n",
      "dtype: int64 df_hydraulic\n",
      "0    47\n",
      "dtype: int64 df_gen_bear\n",
      "0    38\n",
      "dtype: int64 df_transformer\n",
      "0    35\n",
      "dtype: int64 df_gearbox\n"
     ]
    }
   ],
   "source": [
    "for key in comp_prep_df_dict:\n",
    "    print(comp_prep_df_dict[key].isna().sum().value_counts(), key)"
   ]
  },
  {
   "cell_type": "code",
   "execution_count": 20,
   "metadata": {
    "ExecuteTime": {
     "end_time": "2021-02-19T12:23:43.862593Z",
     "start_time": "2021-02-19T12:23:43.784272Z"
    }
   },
   "outputs": [],
   "source": [
    "days_list = [60]"
   ]
  },
  {
   "cell_type": "code",
   "execution_count": 21,
   "metadata": {
    "ExecuteTime": {
     "end_time": "2021-02-19T12:24:14.429858Z",
     "start_time": "2021-02-19T12:23:43.864587Z"
    }
   },
   "outputs": [],
   "source": [
    "for day in days_list:\n",
    "    for key in comp_prep_df_dict:\n",
    "        comp_prep_df_dict[key] = dprep.aplic_var_target(comp_prep_df_dict[key], day)"
   ]
  },
  {
   "cell_type": "code",
   "execution_count": 22,
   "metadata": {
    "ExecuteTime": {
     "end_time": "2021-02-19T12:24:14.523543Z",
     "start_time": "2021-02-19T12:24:14.429858Z"
    }
   },
   "outputs": [
    {
     "name": "stdout",
     "output_type": "stream",
     "text": [
      "(434147, 48) df_generator\n",
      "(434145, 37) df_hydraulic\n",
      "(434145, 48) df_gen_bear\n",
      "(434145, 39) df_transformer\n",
      "(434145, 36) df_gearbox\n"
     ]
    }
   ],
   "source": [
    "for key in comp_prep_df_dict:\n",
    "    print(comp_prep_df_dict[key].shape, key)"
   ]
  },
  {
   "cell_type": "markdown",
   "metadata": {},
   "source": [
    "# Feature selection"
   ]
  },
  {
   "cell_type": "code",
   "execution_count": 23,
   "metadata": {
    "ExecuteTime": {
     "end_time": "2021-02-19T12:24:14.619298Z",
     "start_time": "2021-02-19T12:24:14.527532Z"
    }
   },
   "outputs": [],
   "source": [
    "gen_features_drop = [\n",
    "    'Gen_RPM_Max', 'Gen_RPM_Min', 'Gen_Phase1_Temp_Avg', 'Gen_Phase3_Temp_Avg',\n",
    "    'Amb_WindSpeed_Est_Avg', 'Grd_RtrInvPhase1_Temp_Avg',\n",
    "    'Grd_RtrInvPhase3_Temp_Avg', 'Rtr_RPM_Max', 'Rtr_RPM_Min',\n",
    "    'Blds_PitchAngle_Max', 'Blds_PitchAngle_Min',\n",
    "    'Prod_LatestAvg_ReactPwrGen1', 'Cont_Hub_Temp_Avg', 'Spin_Temp_Avg',\n",
    "    'Rtr_RPM_Std', 'Rtr_RPM_Avg', 'Cont_VCP_Temp_Avg'\n",
    "]"
   ]
  },
  {
   "cell_type": "code",
   "execution_count": 24,
   "metadata": {
    "ExecuteTime": {
     "end_time": "2021-02-19T12:24:14.712057Z",
     "start_time": "2021-02-19T12:24:14.626277Z"
    }
   },
   "outputs": [],
   "source": [
    "gen_bear_features_drop = [\n",
    "    'Gen_RPM_Max', 'Gen_RPM_Min', 'Gen_Phase1_Temp_Avg', 'Gen_Phase3_Temp_Avg',\n",
    "    'Amb_WindSpeed_Est_Avg', 'Grd_RtrInvPhase1_Temp_Avg',\n",
    "    'Grd_RtrInvPhase3_Temp_Avg', 'Rtr_RPM_Max', 'Rtr_RPM_Min',\n",
    "    'Blds_PitchAngle_Max', 'Blds_PitchAngle_Min',\n",
    "    'Prod_LatestAvg_ReactPwrGen1', 'Cont_Hub_Temp_Avg', 'Spin_Temp_Avg',\n",
    "    'Rtr_RPM_Std', 'Rtr_RPM_Avg', 'Cont_VCP_Temp_Avg'\n",
    "]"
   ]
  },
  {
   "cell_type": "code",
   "execution_count": 25,
   "metadata": {
    "ExecuteTime": {
     "end_time": "2021-02-19T12:24:14.790060Z",
     "start_time": "2021-02-19T12:24:14.716035Z"
    }
   },
   "outputs": [],
   "source": [
    "hyd_features_drop = [\n",
    "    'Rtr_RPM_Max', 'Rtr_RPM_Min', 'Blds_PitchAngle_Max', 'Blds_PitchAngle_Min',\n",
    "    'Blds_PitchAngle_Max', 'Grd_RtrInvPhase3_Temp_Avg', 'Grd_Busbar_Temp_Avg',\n",
    "    'Amb_WindSpeed_Est_Avg', 'Spin_Temp_Avg', 'Cont_Hub_Temp_Avg',\n",
    "    'Grd_RtrInvPhase1_Temp_Avg', 'Cont_VCP_Temp_Avg'\n",
    "]"
   ]
  },
  {
   "cell_type": "code",
   "execution_count": 26,
   "metadata": {
    "ExecuteTime": {
     "end_time": "2021-02-19T12:24:14.868988Z",
     "start_time": "2021-02-19T12:24:14.791833Z"
    }
   },
   "outputs": [],
   "source": [
    "gearbox_features_drop = [\n",
    "    'Rtr_RPM_Max', 'Rtr_RPM_Min', 'Grd_RtrInvPhase1_Temp_Avg',\n",
    "    'Grd_RtrInvPhase3_Temp_Avg', 'Blds_PitchAngle_Min', 'Blds_PitchAngle_Max',\n",
    "    'Cont_VCP_Temp_Avg', 'Grd_Busbar_Temp_Avg', 'Amb_WindSpeed_Est_Avg',\n",
    "    'Spin_Temp_Avg'\n",
    "]"
   ]
  },
  {
   "cell_type": "code",
   "execution_count": 27,
   "metadata": {
    "ExecuteTime": {
     "end_time": "2021-02-19T12:24:14.948773Z",
     "start_time": "2021-02-19T12:24:14.869985Z"
    }
   },
   "outputs": [],
   "source": [
    "transf_features_drop = [\n",
    "    'HVTrafo_Phase1_Temp_Avg', 'HVTrafo_Phase3_Temp_Avg', 'Rtr_RPM_Max',\n",
    "    'Rtr_RPM_Min', 'Grd_RtrInvPhase1_Temp_Avg', 'Grd_RtrInvPhase3_Temp_Avg',\n",
    "    'Blds_PitchAngle_Min', 'Blds_PitchAngle_Max', 'Amb_WindSpeed_Est_Avg',\n",
    "    'Spin_Temp_Avg', 'Cont_VCP_Temp_Avg'\n",
    "]"
   ]
  },
  {
   "cell_type": "code",
   "execution_count": 28,
   "metadata": {
    "ExecuteTime": {
     "end_time": "2021-02-19T12:24:15.028560Z",
     "start_time": "2021-02-19T12:24:14.949772Z"
    }
   },
   "outputs": [],
   "source": [
    "feat_drop_list = [\n",
    "    gen_features_drop, hyd_features_drop, gen_bear_features_drop,\n",
    "    transf_features_drop, gearbox_features_drop\n",
    "]"
   ]
  },
  {
   "cell_type": "code",
   "execution_count": 29,
   "metadata": {
    "ExecuteTime": {
     "end_time": "2021-02-19T12:24:15.406287Z",
     "start_time": "2021-02-19T12:24:15.030555Z"
    },
    "scrolled": true
   },
   "outputs": [
    {
     "name": "stdout",
     "output_type": "stream",
     "text": [
      "A actualizar dataframe 1 de 5\n",
      "A actualizar dataframe 2 de 5\n",
      "A actualizar dataframe 3 de 5\n",
      "A actualizar dataframe 4 de 5\n",
      "A actualizar dataframe 5 de 5\n"
     ]
    }
   ],
   "source": [
    "for i, key in enumerate(comp_prep_df_dict):\n",
    "    print(f'A actualizar dataframe {i+1} de {len(comp_prep_df_dict)}')\n",
    "#     for col in feat_drop_list:\n",
    "#         print(f'A apagar a coluna {col}')\n",
    "    comp_prep_df_dict[key] = comp_prep_df_dict[key].drop(columns=feat_drop_list[i])"
   ]
  },
  {
   "cell_type": "code",
   "execution_count": 30,
   "metadata": {
    "ExecuteTime": {
     "end_time": "2021-02-19T12:24:15.485133Z",
     "start_time": "2021-02-19T12:24:15.409278Z"
    }
   },
   "outputs": [
    {
     "name": "stdout",
     "output_type": "stream",
     "text": [
      "(434147, 31) df_generator\n",
      "(434145, 26) df_hydraulic\n",
      "(434145, 31) df_gen_bear\n",
      "(434145, 28) df_transformer\n",
      "(434145, 26) df_gearbox\n"
     ]
    }
   ],
   "source": [
    "for key in comp_prep_df_dict:\n",
    "    print(comp_prep_df_dict[key].shape, key)"
   ]
  },
  {
   "cell_type": "markdown",
   "metadata": {},
   "source": [
    "# Agrupar pela medida de tempo seleccionada."
   ]
  },
  {
   "cell_type": "code",
   "execution_count": 31,
   "metadata": {
    "ExecuteTime": {
     "end_time": "2021-02-19T12:24:17.100664Z",
     "start_time": "2021-02-19T12:24:15.487150Z"
    }
   },
   "outputs": [],
   "source": [
    "# Passagem para dias\n",
    "Agrup_por = 'Dia'\n",
    "for key in comp_prep_df_dict:\n",
    "    comp_prep_df_dict[key] = dprep.group_por_frequency(comp_prep_df_dict[key], period=Agrup_por)"
   ]
  },
  {
   "cell_type": "code",
   "execution_count": 32,
   "metadata": {
    "ExecuteTime": {
     "end_time": "2021-02-19T12:24:17.178416Z",
     "start_time": "2021-02-19T12:24:17.102323Z"
    }
   },
   "outputs": [
    {
     "name": "stdout",
     "output_type": "stream",
     "text": [
      "(3042, 31) df_generator\n",
      "(3041, 19) df_hydraulic\n",
      "(3041, 18) df_gen_bear\n",
      "(3041, 19) df_transformer\n",
      "(3041, 16) df_gearbox\n"
     ]
    }
   ],
   "source": [
    "# Passagem para dias \n",
    "for key in comp_prep_df_dict:\n",
    "    print(comp_prep_df_dict[key].shape, key)"
   ]
  },
  {
   "cell_type": "markdown",
   "metadata": {},
   "source": [
    "# Adicionar as medidas de alisamento"
   ]
  },
  {
   "cell_type": "code",
   "execution_count": 33,
   "metadata": {
    "ExecuteTime": {
     "end_time": "2021-02-19T12:24:17.449689Z",
     "start_time": "2021-02-19T12:24:17.179414Z"
    }
   },
   "outputs": [],
   "source": [
    "for key in comp_prep_df_dict:\n",
    "    comp_prep_df_dict[key] = dprep.add_features(comp_prep_df_dict[key], rolling_win_size=10)"
   ]
  },
  {
   "cell_type": "code",
   "execution_count": 34,
   "metadata": {
    "ExecuteTime": {
     "end_time": "2021-02-19T12:24:17.527102Z",
     "start_time": "2021-02-19T12:24:17.450687Z"
    }
   },
   "outputs": [
    {
     "name": "stdout",
     "output_type": "stream",
     "text": [
      "(3042, 85) df_generator\n",
      "(3041, 49) df_hydraulic\n",
      "(3041, 46) df_gen_bear\n",
      "(3041, 49) df_transformer\n",
      "(3041, 40) df_gearbox\n"
     ]
    }
   ],
   "source": [
    "for key in comp_prep_df_dict:\n",
    "    print(comp_prep_df_dict[key].shape, key)"
   ]
  },
  {
   "cell_type": "code",
   "execution_count": 35,
   "metadata": {
    "ExecuteTime": {
     "end_time": "2021-02-19T12:24:17.606277Z",
     "start_time": "2021-02-19T12:24:17.529078Z"
    }
   },
   "outputs": [],
   "source": [
    "# # Para considerar apenas as rubricas de alisamento\n",
    "# cols_to_drop_generator = [\n",
    "#     'Amb_Temp_Avg', 'Amb_WindDir_Abs_Avg', 'Amb_WindDir_Relative_Avg',\n",
    "#     'Amb_WindSpeed_Avg', 'Amb_WindSpeed_Max', 'Amb_WindSpeed_Min',\n",
    "#     'Amb_WindSpeed_Std', 'Blds_PitchAngle_Avg', 'Blds_PitchAngle_Std',\n",
    "#     'Cont_Top_Temp_Avg', 'Cont_VCP_ChokcoilTemp_Avg',\n",
    "#     'Cont_VCP_WtrTemp_Avg', 'Gen_Bear2_Temp_Avg', 'Gen_Bear_Temp_Avg',\n",
    "#     'Gen_Phase2_Temp_Avg', 'Gen_RPM_Avg', 'Gen_RPM_Std',\n",
    "#     'Gen_SlipRing_Temp_Avg', 'Grd_Busbar_Temp_Avg',\n",
    "#     'Grd_RtrInvPhase2_Temp_Avg', 'Hyd_Oil_Temp_Avg', 'Nac_Direction_Avg',\n",
    "#     'Nac_Temp_Avg', 'Prod_LatestAvg_ActPwrGen0', 'Prod_LatestAvg_ActPwrGen1',\n",
    "#     'Prod_LatestAvg_ReactPwrGen0'\n",
    "# ]"
   ]
  },
  {
   "cell_type": "code",
   "execution_count": 36,
   "metadata": {
    "ExecuteTime": {
     "end_time": "2021-02-19T12:24:17.685154Z",
     "start_time": "2021-02-19T12:24:17.608133Z"
    }
   },
   "outputs": [],
   "source": [
    "# # Para considerar apenas as rubricas de alisamento\n",
    "# cols_to_drop_hyd_group = [\n",
    "#     'Amb_WindDir_Abs_Avg', 'Amb_WindDir_Relative_Avg',\n",
    "#     'Amb_WindSpeed_Avg', 'Amb_WindSpeed_Max', 'Amb_WindSpeed_Min',\n",
    "#     'Amb_WindSpeed_Std', 'Blds_PitchAngle_Avg', 'Blds_PitchAngle_Std',\n",
    "#     'Nac_Direction_Avg', 'Rtr_RPM_Avg', 'Rtr_RPM_Std'\n",
    "# ]"
   ]
  },
  {
   "cell_type": "code",
   "execution_count": 37,
   "metadata": {
    "ExecuteTime": {
     "end_time": "2021-02-19T12:24:17.762966Z",
     "start_time": "2021-02-19T12:24:17.686185Z"
    }
   },
   "outputs": [],
   "source": [
    "# # Para considerar apenas as rubricas de alisamento\n",
    "# cols_to_drop_gen_bear =  ['Amb_WindDir_Abs_Avg', 'Amb_WindDir_Relative_Avg',\n",
    "#        'Amb_WindSpeed_Avg', 'Amb_WindSpeed_Max', 'Amb_WindSpeed_Min',\n",
    "#        'Amb_WindSpeed_Std', 'Blds_PitchAngle_Avg', 'Blds_PitchAngle_Std',\n",
    "#        'Gen_Bear_Temp_Avg', 'Gen_RPM_Avg', 'Gen_RPM_Std',\n",
    "#        'Nac_Direction_Avg', 'Prod_LatestAvg_ActPwrGen1']"
   ]
  },
  {
   "cell_type": "code",
   "execution_count": 38,
   "metadata": {
    "ExecuteTime": {
     "end_time": "2021-02-19T12:24:17.842802Z",
     "start_time": "2021-02-19T12:24:17.766953Z"
    }
   },
   "outputs": [],
   "source": [
    "# # Para considerar apenas as rubricas de alisamento\n",
    "# cols_to_drop_transf = ['Amb_WindDir_Abs_Avg', 'Amb_WindDir_Relative_Avg',\n",
    "#        'Amb_WindSpeed_Avg', 'Amb_WindSpeed_Max', 'Amb_WindSpeed_Min',\n",
    "#        'Amb_WindSpeed_Std', 'Blds_PitchAngle_Avg', 'Blds_PitchAngle_Std',\n",
    "#        'Grd_Prod_VoltPhse1_Avg', 'Grd_Prod_VoltPhse2_Avg',\n",
    "#        'Grd_Prod_VoltPhse3_Avg', 'Nac_Direction_Avg', 'Rtr_RPM_Avg',\n",
    "#        'Rtr_RPM_Std']"
   ]
  },
  {
   "cell_type": "code",
   "execution_count": 39,
   "metadata": {
    "ExecuteTime": {
     "end_time": "2021-02-19T12:24:17.922625Z",
     "start_time": "2021-02-19T12:24:17.844624Z"
    }
   },
   "outputs": [],
   "source": [
    "# # Para considerar apenas as rubricas de alisamento\n",
    "# cols_to_drop_gearbox = ['Amb_WindDir_Abs_Avg', 'Amb_WindDir_Relative_Avg',\n",
    "#        'Amb_WindSpeed_Avg', 'Amb_WindSpeed_Max', 'Amb_WindSpeed_Min',\n",
    "#        'Amb_WindSpeed_Std', 'Blds_PitchAngle_Avg', 'Blds_PitchAngle_Std',\n",
    "#        'Nac_Direction_Avg', 'Rtr_RPM_Avg', 'Rtr_RPM_Std']"
   ]
  },
  {
   "cell_type": "code",
   "execution_count": 40,
   "metadata": {
    "ExecuteTime": {
     "end_time": "2021-02-19T12:24:18.002308Z",
     "start_time": "2021-02-19T12:24:17.924449Z"
    }
   },
   "outputs": [],
   "source": [
    "# cols_orig_to_drop = [\n",
    "#     cols_to_drop_generator, cols_to_drop_hyd_group, cols_to_drop_gen_bear,\n",
    "#     cols_to_drop_transf, cols_to_drop_gearbox\n",
    "# ]"
   ]
  },
  {
   "cell_type": "code",
   "execution_count": 41,
   "metadata": {
    "ExecuteTime": {
     "end_time": "2021-02-19T12:24:18.081030Z",
     "start_time": "2021-02-19T12:24:18.003237Z"
    }
   },
   "outputs": [],
   "source": [
    "# for i, key in enumerate(comp_prep_df_dict):\n",
    "#     comp_prep_df_dict[key]= comp_prep_df_dict[key].drop(columns=cols_orig_to_drop[i])"
   ]
  },
  {
   "cell_type": "code",
   "execution_count": 42,
   "metadata": {
    "ExecuteTime": {
     "end_time": "2021-02-19T12:24:18.159817Z",
     "start_time": "2021-02-19T12:24:18.083023Z"
    }
   },
   "outputs": [
    {
     "name": "stdout",
     "output_type": "stream",
     "text": [
      "(3042, 85)\n",
      "(3041, 49)\n",
      "(3041, 46)\n",
      "(3041, 49)\n",
      "(3041, 40)\n"
     ]
    }
   ],
   "source": [
    "for key in comp_prep_df_dict:\n",
    "    print(comp_prep_df_dict[key].shape)"
   ]
  },
  {
   "cell_type": "markdown",
   "metadata": {},
   "source": [
    "# Train and test split"
   ]
  },
  {
   "cell_type": "code",
   "execution_count": 43,
   "metadata": {
    "ExecuteTime": {
     "end_time": "2021-02-19T12:24:18.253565Z",
     "start_time": "2021-02-19T12:24:18.161813Z"
    }
   },
   "outputs": [],
   "source": [
    "# Separar os dataframes de treino e teste\n",
    "df_train_dict = comp_prep_df_dict.copy()\n",
    "df_test_dict = comp_prep_df_dict.copy()\n",
    "\n",
    "per_test = '3meses'\n",
    "\n",
    "for key in df_train_dict:\n",
    "    df_train_dict[key] = dprep.prepare_train_df(df_train_dict[key], meses=3)\n",
    "    df_test_dict[key] = dprep.prepare_test_df(df_test_dict[key], meses=3)"
   ]
  },
  {
   "cell_type": "code",
   "execution_count": 44,
   "metadata": {
    "ExecuteTime": {
     "end_time": "2021-02-19T12:24:18.333352Z",
     "start_time": "2021-02-19T12:24:18.254562Z"
    }
   },
   "outputs": [],
   "source": [
    "# train_turbines = {\n",
    "#     'df_generator': ['T11', 'T06'],\n",
    "#     'df_hydraulic': ['T06', 'T11'],\n",
    "#     'df_gen_bear': ['T07', 'T09'],\n",
    "#     'df_transformer': ['T07'],\n",
    "#     'df_gearbox': ['T09']\n",
    "# }"
   ]
  },
  {
   "cell_type": "code",
   "execution_count": 45,
   "metadata": {
    "ExecuteTime": {
     "end_time": "2021-02-19T12:24:18.413138Z",
     "start_time": "2021-02-19T12:24:18.335347Z"
    }
   },
   "outputs": [],
   "source": [
    "# for key in df_train_dict:\n",
    "#     print(f'Considerar apenas as turbinas que tiveram falhas no component {key}')\n",
    "#     df_train_dict[key] = df_train_dict[key][df_train_dict[key]['Turbine_ID'].isin(train_turbines[key])]"
   ]
  },
  {
   "cell_type": "code",
   "execution_count": 46,
   "metadata": {
    "ExecuteTime": {
     "end_time": "2021-02-19T12:24:18.492925Z",
     "start_time": "2021-02-19T12:24:18.416131Z"
    }
   },
   "outputs": [
    {
     "name": "stdout",
     "output_type": "stream",
     "text": [
      "df_train df_generator com a forma (2577, 85)\n",
      "df_test df_generator com a forma (465, 85)\n",
      "df_train df_hydraulic com a forma (2576, 49)\n",
      "df_test df_hydraulic com a forma (465, 49)\n",
      "df_train df_gen_bear com a forma (2576, 46)\n",
      "df_test df_gen_bear com a forma (465, 46)\n",
      "df_train df_transformer com a forma (2576, 49)\n",
      "df_test df_transformer com a forma (465, 49)\n",
      "df_train df_gearbox com a forma (2576, 40)\n",
      "df_test df_gearbox com a forma (465, 40)\n"
     ]
    }
   ],
   "source": [
    "for key in df_train_dict:\n",
    "    print(f'df_train {key} com a forma {df_train_dict[key].shape}')\n",
    "    print(f'df_test {key} com a forma {df_test_dict[key].shape}')"
   ]
  },
  {
   "cell_type": "markdown",
   "metadata": {
    "ExecuteTime": {
     "end_time": "2021-02-07T18:42:58.465901Z",
     "start_time": "2021-02-07T18:42:58.395089Z"
    }
   },
   "source": [
    "# Criar o x_train, x_test, y_train e o y_test "
   ]
  },
  {
   "cell_type": "code",
   "execution_count": 47,
   "metadata": {
    "ExecuteTime": {
     "end_time": "2021-02-19T12:24:18.586674Z",
     "start_time": "2021-02-19T12:24:18.494921Z"
    }
   },
   "outputs": [],
   "source": [
    "x_train = df_train_dict.copy()\n",
    "x_test = df_test_dict.copy()\n",
    "y_train = df_train_dict.copy()\n",
    "y_test = df_test_dict.copy()\n",
    "\n",
    "dias_var_alvo = days_list[0]"
   ]
  },
  {
   "cell_type": "code",
   "execution_count": 48,
   "metadata": {
    "ExecuteTime": {
     "end_time": "2021-02-19T12:24:18.696383Z",
     "start_time": "2021-02-19T12:24:18.588669Z"
    }
   },
   "outputs": [],
   "source": [
    "# retirar as colunas que não devem entrar no x\n",
    "cols_to_drop_train = [\n",
    "    'Date', 'TTF',\n",
    "    str(days_list[0]) + '_days', 'Component', 'Component_av', 'Component_sd'\n",
    "]\n",
    "for key in x_train:\n",
    "    x_train[key] = x_train[key].drop(columns=cols_to_drop_train)\n",
    "    x_test[key] = x_test[key].drop(columns=cols_to_drop_train)"
   ]
  },
  {
   "cell_type": "code",
   "execution_count": 49,
   "metadata": {
    "ExecuteTime": {
     "end_time": "2021-02-19T12:24:18.792125Z",
     "start_time": "2021-02-19T12:24:18.698376Z"
    }
   },
   "outputs": [
    {
     "name": "stdout",
     "output_type": "stream",
     "text": [
      "x_train df_generator com a forma (2577, 79)\n",
      "x_test df_generator com a forma (465, 79)\n",
      "x_train df_hydraulic com a forma (2576, 43)\n",
      "x_test df_hydraulic com a forma (465, 43)\n",
      "x_train df_gen_bear com a forma (2576, 40)\n",
      "x_test df_gen_bear com a forma (465, 40)\n",
      "x_train df_transformer com a forma (2576, 43)\n",
      "x_test df_transformer com a forma (465, 43)\n",
      "x_train df_gearbox com a forma (2576, 34)\n",
      "x_test df_gearbox com a forma (465, 34)\n"
     ]
    }
   ],
   "source": [
    "for key in x_train:\n",
    "    print(f'x_train {key} com a forma {x_train[key].shape}')\n",
    "    print(f'x_test {key} com a forma {x_test[key].shape}')"
   ]
  },
  {
   "cell_type": "code",
   "execution_count": 50,
   "metadata": {
    "ExecuteTime": {
     "end_time": "2021-02-19T12:24:18.903965Z",
     "start_time": "2021-02-19T12:24:18.794119Z"
    }
   },
   "outputs": [],
   "source": [
    "# considerar apenas as colunas que devem ser a variável alvo\n",
    "col_to_mantain_test = [str(days_list[0])+'_days']\n",
    "for key in y_train:\n",
    "    y_train[key] = y_train[key][col_to_mantain_test]\n",
    "    y_test[key] = y_test[key][col_to_mantain_test]"
   ]
  },
  {
   "cell_type": "code",
   "execution_count": 51,
   "metadata": {
    "ExecuteTime": {
     "end_time": "2021-02-19T12:24:18.999709Z",
     "start_time": "2021-02-19T12:24:18.904963Z"
    }
   },
   "outputs": [
    {
     "name": "stdout",
     "output_type": "stream",
     "text": [
      "y_train df_generator com a forma (2577, 1)\n",
      "y_test df_generator com a forma (465, 1)\n",
      "y_train df_hydraulic com a forma (2576, 1)\n",
      "y_test df_hydraulic com a forma (465, 1)\n",
      "y_train df_gen_bear com a forma (2576, 1)\n",
      "y_test df_gen_bear com a forma (465, 1)\n",
      "y_train df_transformer com a forma (2576, 1)\n",
      "y_test df_transformer com a forma (465, 1)\n",
      "y_train df_gearbox com a forma (2576, 1)\n",
      "y_test df_gearbox com a forma (465, 1)\n"
     ]
    }
   ],
   "source": [
    "for key in y_test:\n",
    "    print(f'y_train {key} com a forma {y_train[key].shape}')\n",
    "    print(f'y_test {key} com a forma {y_test[key].shape}')"
   ]
  },
  {
   "cell_type": "markdown",
   "metadata": {
    "ExecuteTime": {
     "end_time": "2021-02-07T19:59:13.987241Z",
     "start_time": "2021-02-07T19:59:13.859529Z"
    }
   },
   "source": [
    "# Model training - variables preparation"
   ]
  },
  {
   "cell_type": "code",
   "execution_count": 52,
   "metadata": {
    "ExecuteTime": {
     "end_time": "2021-02-19T12:24:19.239068Z",
     "start_time": "2021-02-19T12:24:19.001704Z"
    }
   },
   "outputs": [],
   "source": [
    "# Normalizar os dados\n",
    "scaler = mig.CustomStandardScaler()\n",
    "\n",
    "for key in x_train:\n",
    "    scaler.fit(x_train[key])\n",
    "    x_train[key] =  scaler.transform(x_train[key])\n",
    "    scaler.fit(x_test[key])\n",
    "    x_test[key] = scaler.transform(x_test[key])\n",
    "\n",
    "#Sem normalizar os dados\n",
    "# X_train = x_train[0].drop(columns=['Turbine_ID']).to_numpy()\n",
    "# X_test = x_test[0].drop(columns=['Turbine_ID']).to_numpy()"
   ]
  },
  {
   "cell_type": "code",
   "execution_count": 53,
   "metadata": {
    "ExecuteTime": {
     "end_time": "2021-02-19T12:24:19.318855Z",
     "start_time": "2021-02-19T12:24:19.241063Z"
    }
   },
   "outputs": [],
   "source": [
    "for key in y_train:\n",
    "    y_train[key] = y_train[key].to_numpy().astype(int)[:,0]\n",
    "    y_test[key] = y_test[key].to_numpy().astype(int)[:,0]"
   ]
  },
  {
   "cell_type": "markdown",
   "metadata": {},
   "source": [
    "# Model Training - Logistic Regression"
   ]
  },
  {
   "cell_type": "code",
   "execution_count": 54,
   "metadata": {
    "ExecuteTime": {
     "end_time": "2021-02-19T12:24:42.329033Z",
     "start_time": "2021-02-19T12:24:19.320864Z"
    },
    "scrolled": false
   },
   "outputs": [
    {
     "name": "stdout",
     "output_type": "stream",
     "text": [
      "Trainning component df_generator\n",
      "\n",
      "Best Parameters:\n",
      " LogisticRegression(C=10, class_weight=None, dual=False, fit_intercept=True,\n",
      "          intercept_scaling=1, max_iter=1000, multi_class='warn',\n",
      "          n_jobs=None, penalty='l2', random_state=42, solver='lbfgs',\n",
      "          tol=0.0001, verbose=0, warm_start=False)\n"
     ]
    },
    {
     "data": {
      "image/png": "[encoded data removed]",
      "text/plain": [
       "<Figure size 432x288 with 1 Axes>"
      ]
     },
     "metadata": {},
     "output_type": "display_data"
    },
    {
     "name": "stdout",
     "output_type": "stream",
     "text": [
      "Calculating Savings to component df_generator\n",
      "Trainning component df_hydraulic\n",
      "\n",
      "Best Parameters:\n",
      " LogisticRegression(C=0.01, class_weight=None, dual=False, fit_intercept=True,\n",
      "          intercept_scaling=1, max_iter=1000, multi_class='warn',\n",
      "          n_jobs=None, penalty='l2', random_state=42, solver='liblinear',\n",
      "          tol=0.0001, verbose=0, warm_start=False)\n"
     ]
    },
    {
     "name": "stderr",
     "output_type": "stream",
     "text": [
      "C:\\Users\\ricar\\code\\RicardoJPedro82\\wmillfailprev\\notebooks\\Dataset_transf.py:386: RuntimeWarning: invalid value encountered in longlong_scalars\n",
      "  'Precision':    cm2[1,1]/(cm2[0,1]+cm2[1,1]) if len(y_test['Pred'].value_counts())>1 else np.nan,\n",
      "c:\\users\\ricar\\.venvs\\lewagon\\lib\\site-packages\\sklearn\\metrics\\classification.py:1143: UndefinedMetricWarning: F-score is ill-defined and being set to 0.0 due to no predicted samples.\n",
      "  'precision', 'predicted', average, warn_for)\n"
     ]
    },
    {
     "data": {
      "image/png": "[encoded data removed]",
      "text/plain": [
       "<Figure size 432x288 with 1 Axes>"
      ]
     },
     "metadata": {},
     "output_type": "display_data"
    },
    {
     "name": "stdout",
     "output_type": "stream",
     "text": [
      "Calculating Savings to component df_hydraulic\n",
      "Trainning component df_gen_bear\n",
      "\n",
      "Best Parameters:\n",
      " LogisticRegression(C=10, class_weight='balanced', dual=False,\n",
      "          fit_intercept=True, intercept_scaling=1, max_iter=1000,\n",
      "          multi_class='warn', n_jobs=None, penalty='l2', random_state=42,\n",
      "          solver='liblinear', tol=0.0001, verbose=0, warm_start=False)\n"
     ]
    },
    {
     "data": {
      "image/png": "[encoded data removed]",
      "text/plain": [
       "<Figure size 432x288 with 1 Axes>"
      ]
     },
     "metadata": {},
     "output_type": "display_data"
    },
    {
     "name": "stdout",
     "output_type": "stream",
     "text": [
      "Calculating Savings to component df_gen_bear\n",
      "Trainning component df_transformer\n",
      "\n",
      "Best Parameters:\n",
      " LogisticRegression(C=0.01, class_weight='balanced', dual=False,\n",
      "          fit_intercept=True, intercept_scaling=1, max_iter=1000,\n",
      "          multi_class='warn', n_jobs=None, penalty='l2', random_state=42,\n",
      "          solver='lbfgs', tol=0.0001, verbose=0, warm_start=False)\n"
     ]
    },
    {
     "name": "stderr",
     "output_type": "stream",
     "text": [
      "c:\\users\\ricar\\.venvs\\lewagon\\lib\\site-packages\\sklearn\\model_selection\\_search.py:842: DeprecationWarning: The default of the `iid` parameter will change from True to False in version 0.22 and will be removed in 0.24. This will change numeric results when test-set sizes are unequal.\n",
      "  DeprecationWarning)\n"
     ]
    },
    {
     "data": {
      "image/png": "[encoded data removed]",
      "text/plain": [
       "<Figure size 432x288 with 1 Axes>"
      ]
     },
     "metadata": {},
     "output_type": "display_data"
    },
    {
     "name": "stdout",
     "output_type": "stream",
     "text": [
      "Calculating Savings to component df_transformer\n",
      "Trainning component df_gearbox\n",
      "\n",
      "Best Parameters:\n",
      " LogisticRegression(C=10, class_weight=None, dual=False, fit_intercept=True,\n",
      "          intercept_scaling=1, max_iter=1000, multi_class='warn',\n",
      "          n_jobs=None, penalty='l2', random_state=42, solver='liblinear',\n",
      "          tol=0.0001, verbose=0, warm_start=False)\n"
     ]
    },
    {
     "name": "stderr",
     "output_type": "stream",
     "text": [
      "c:\\users\\ricar\\.venvs\\lewagon\\lib\\site-packages\\sklearn\\metrics\\ranking.py:656: UndefinedMetricWarning: No positive samples in y_true, true positive value should be meaningless\n",
      "  UndefinedMetricWarning)\n"
     ]
    },
    {
     "data": {
      "image/png": "[encoded data removed]",
      "text/plain": [
       "<Figure size 432x288 with 1 Axes>"
      ]
     },
     "metadata": {},
     "output_type": "display_data"
    },
    {
     "name": "stdout",
     "output_type": "stream",
     "text": [
      "Calculating Savings to component df_gearbox\n"
     ]
    }
   ],
   "source": [
    "# Correr o mesmo modelo para todos os componentes\n",
    "for key in x_train:\n",
    "    print(f'Trainning component {key}')\n",
    "    # Train the model\n",
    "    model_name = 'Logistic Regression'\n",
    "    clf_LogReg = LogisticRegression(random_state=42, max_iter=1000)\n",
    "    gs_params = {\n",
    "        'C': [.01, 0.1, 1.0, 10],\n",
    "        'solver': ['liblinear', 'lbfgs'],\n",
    "        'class_weight': [None, 'balanced']\n",
    "    }\n",
    "    gs_score = 'roc_auc'\n",
    "\n",
    "    clf_LogReg, pred_LogReg = dprep.bin_classify(model_name,\n",
    "                                                 clf_LogReg,\n",
    "                                                 x_train[key],\n",
    "                                                 x_test[key],\n",
    "                                                 y_train[key],\n",
    "                                                 y_test[key],\n",
    "                                                 params=gs_params,\n",
    "                                                 score=gs_score)\n",
    "    print('\\nBest Parameters:\\n', clf_LogReg)\n",
    "    # Obtain metrics\n",
    "    metrics_dict_miguel = dprep.metrics(y_test[key], pred_LogReg.y_pred,\n",
    "                                        pred_LogReg.y_score)\n",
    "    conf_matrix = dprep.conf_matrix(y_test[key], pred_LogReg.y_pred)\n",
    "    dprep.roc_curve_plot(y_test[key], pred_LogReg.y_score)\n",
    "\n",
    "    print(f'Calculating Savings to component {key}')\n",
    "    # Calculate savings\n",
    "    sav, cf_numb, met_df, dias = dprep.metrics_create_df(df_test_dict[key],\n",
    "                                                   y_test[key],\n",
    "                                                   pred_LogReg.y_pred.values,\n",
    "                                                   key, 15)\n",
    "\n",
    "    # Store metrics to compare\n",
    "    metrics_dict['try_' + str(tentativa)] = {\n",
    "        'Componente': key,\n",
    "        'Nome_modelo': model_name,\n",
    "        'dias_var_alvo': col_to_mantain_test,\n",
    "        'feature_selection': 'Guilherme',\n",
    "        'Agrup_por': Agrup_por,\n",
    "        'add_features': 'smooth only',\n",
    "        'per_test': per_test,\n",
    "        'model': model_name,\n",
    "        'Metrics': metrics_dict_miguel,\n",
    "        'cf_matriX_log_reg': conf_matrix,\n",
    "        'Savings': sav,\n",
    "        'cf_bussines_numbers': cf_numb\n",
    "    }\n",
    "    tentativa = tentativa + 1"
   ]
  },
  {
   "cell_type": "code",
   "execution_count": 55,
   "metadata": {
    "ExecuteTime": {
     "end_time": "2021-02-19T12:24:42.424287Z",
     "start_time": "2021-02-19T12:24:42.330034Z"
    }
   },
   "outputs": [
    {
     "name": "stdout",
     "output_type": "stream",
     "text": [
      "df_generator 15000.0\n",
      "df_hydraulic -20000\n",
      "df_gen_bear -30125.0\n",
      "df_transformer 13575.000000000004\n",
      "df_gearbox -15000\n"
     ]
    },
    {
     "data": {
      "text/plain": [
       "-36550.0"
      ]
     },
     "execution_count": 55,
     "metadata": {},
     "output_type": "execute_result"
    }
   ],
   "source": [
    "Savings = 0\n",
    "for i in metrics_dict:\n",
    "    if metrics_dict[i]['Nome_modelo'] == 'Logistic Regression':\n",
    "        Savings = Savings + metrics_dict[i]['Savings']\n",
    "        print(metrics_dict[i]['Componente'], metrics_dict[i]['Savings'])\n",
    "Savings        "
   ]
  },
  {
   "cell_type": "code",
   "execution_count": 62,
   "metadata": {
    "ExecuteTime": {
     "end_time": "2021-02-19T14:51:44.168081Z",
     "start_time": "2021-02-19T14:51:44.072700Z"
    }
   },
   "outputs": [
    {
     "name": "stdout",
     "output_type": "stream",
     "text": [
      "Logistic Regression df_generator 15000.0\n",
      "Logistic Regression df_hydraulic -20000\n",
      "Logistic Regression df_gen_bear -30125.0\n",
      "Logistic Regression df_transformer 13575.000000000004\n",
      "Logistic Regression df_gearbox -15000\n",
      "Random_Forest_Classifier df_generator -60000\n",
      "Random_Forest_Classifier df_hydraulic -20000\n",
      "Random_Forest_Classifier df_gen_bear -30000\n",
      "Random_Forest_Classifier df_transformer -50000\n",
      "Random_Forest_Classifier df_gearbox 0\n",
      "Gradient_Boosting_Classifier df_generator -21500.0\n",
      "Gradient_Boosting_Classifier df_hydraulic 1883.3333333333321\n",
      "Gradient_Boosting_Classifier df_gen_bear -15166.666666666666\n",
      "Gradient_Boosting_Classifier df_transformer -5125.0\n",
      "Gradient_Boosting_Classifier df_gearbox -40000\n",
      "KNN_Classifier df_generator -12500.0\n"
     ]
    }
   ],
   "source": [
    "for key in metrics_dict:\n",
    "#     if metrics_dict[key]['Componente'] == 'df_hydraulic':\n",
    "#     print()\n",
    "    print(metrics_dict[key]['Nome_modelo'], metrics_dict[key]['Componente'], metrics_dict[key]['Savings'])\n",
    "#               metrics_dict[key]['cf_matriX_log_reg'],\n",
    "#               metrics_dict[key]['cf_bussines_numbers'])"
   ]
  },
  {
   "cell_type": "markdown",
   "metadata": {},
   "source": [
    "# Model Training - Random Forrest Classifier"
   ]
  },
  {
   "cell_type": "code",
   "execution_count": 57,
   "metadata": {
    "ExecuteTime": {
     "end_time": "2021-02-19T13:18:51.433067Z",
     "start_time": "2021-02-19T12:24:42.523082Z"
    },
    "scrolled": false
   },
   "outputs": [
    {
     "name": "stdout",
     "output_type": "stream",
     "text": [
      "Trainning component df_generator\n",
      "\n",
      "Best Parameters:\n",
      " RandomForestClassifier(bootstrap=True, class_weight=None, criterion='gini',\n",
      "            max_depth=None, max_features='auto', max_leaf_nodes=None,\n",
      "            min_impurity_decrease=0.0, min_impurity_split=None,\n",
      "            min_samples_leaf=1, min_samples_split=2,\n",
      "            min_weight_fraction_leaf=0.0, n_estimators=300, n_jobs=None,\n",
      "            oob_score=False, random_state=42, verbose=0, warm_start=False)\n"
     ]
    },
    {
     "name": "stderr",
     "output_type": "stream",
     "text": [
      "C:\\Users\\ricar\\code\\RicardoJPedro82\\wmillfailprev\\notebooks\\Dataset_transf.py:386: RuntimeWarning: invalid value encountered in longlong_scalars\n",
      "  'Precision':    cm2[1,1]/(cm2[0,1]+cm2[1,1]) if len(y_test['Pred'].value_counts())>1 else np.nan,\n",
      "c:\\users\\ricar\\.venvs\\lewagon\\lib\\site-packages\\sklearn\\metrics\\classification.py:1143: UndefinedMetricWarning: F-score is ill-defined and being set to 0.0 due to no predicted samples.\n",
      "  'precision', 'predicted', average, warn_for)\n"
     ]
    },
    {
     "data": {
      "image/png": "[encoded data removed]",
      "text/plain": [
       "<Figure size 432x288 with 1 Axes>"
      ]
     },
     "metadata": {},
     "output_type": "display_data"
    },
    {
     "name": "stdout",
     "output_type": "stream",
     "text": [
      "Calculating Savings to component df_generator\n",
      "Trainning component df_hydraulic\n",
      "\n",
      "Best Parameters:\n",
      " RandomForestClassifier(bootstrap=True, class_weight='balanced',\n",
      "            criterion='gini', max_depth=None, max_features='auto',\n",
      "            max_leaf_nodes=None, min_impurity_decrease=0.0,\n",
      "            min_impurity_split=None, min_samples_leaf=1,\n",
      "            min_samples_split=2, min_weight_fraction_leaf=0.0,\n",
      "            n_estimators=300, n_jobs=None, oob_score=False,\n",
      "            random_state=42, verbose=0, warm_start=False)\n"
     ]
    },
    {
     "name": "stderr",
     "output_type": "stream",
     "text": [
      "C:\\Users\\ricar\\code\\RicardoJPedro82\\wmillfailprev\\notebooks\\Dataset_transf.py:386: RuntimeWarning: invalid value encountered in longlong_scalars\n",
      "  'Precision':    cm2[1,1]/(cm2[0,1]+cm2[1,1]) if len(y_test['Pred'].value_counts())>1 else np.nan,\n",
      "c:\\users\\ricar\\.venvs\\lewagon\\lib\\site-packages\\sklearn\\metrics\\classification.py:1143: UndefinedMetricWarning: F-score is ill-defined and being set to 0.0 due to no predicted samples.\n",
      "  'precision', 'predicted', average, warn_for)\n"
     ]
    },
    {
     "data": {
      "image/png": "[encoded data removed]",
      "text/plain": [
       "<Figure size 432x288 with 1 Axes>"
      ]
     },
     "metadata": {},
     "output_type": "display_data"
    },
    {
     "name": "stdout",
     "output_type": "stream",
     "text": [
      "Calculating Savings to component df_hydraulic\n",
      "Trainning component df_gen_bear\n",
      "\n",
      "Best Parameters:\n",
      " RandomForestClassifier(bootstrap=True, class_weight='balanced',\n",
      "            criterion='gini', max_depth=None, max_features='auto',\n",
      "            max_leaf_nodes=None, min_impurity_decrease=0.0,\n",
      "            min_impurity_split=None, min_samples_leaf=1,\n",
      "            min_samples_split=2, min_weight_fraction_leaf=0.0,\n",
      "            n_estimators=300, n_jobs=None, oob_score=False,\n",
      "            random_state=42, verbose=0, warm_start=False)\n"
     ]
    },
    {
     "name": "stderr",
     "output_type": "stream",
     "text": [
      "C:\\Users\\ricar\\code\\RicardoJPedro82\\wmillfailprev\\notebooks\\Dataset_transf.py:386: RuntimeWarning: invalid value encountered in longlong_scalars\n",
      "  'Precision':    cm2[1,1]/(cm2[0,1]+cm2[1,1]) if len(y_test['Pred'].value_counts())>1 else np.nan,\n",
      "c:\\users\\ricar\\.venvs\\lewagon\\lib\\site-packages\\sklearn\\metrics\\classification.py:1143: UndefinedMetricWarning: F-score is ill-defined and being set to 0.0 due to no predicted samples.\n",
      "  'precision', 'predicted', average, warn_for)\n"
     ]
    },
    {
     "data": {
      "image/png": "[encoded data removed]",
      "text/plain": [
       "<Figure size 432x288 with 1 Axes>"
      ]
     },
     "metadata": {},
     "output_type": "display_data"
    },
    {
     "name": "stdout",
     "output_type": "stream",
     "text": [
      "Calculating Savings to component df_gen_bear\n",
      "Trainning component df_transformer\n",
      "\n",
      "Best Parameters:\n",
      " RandomForestClassifier(bootstrap=True, class_weight='balanced',\n",
      "            criterion='entropy', max_depth=None, max_features='auto',\n",
      "            max_leaf_nodes=None, min_impurity_decrease=0.0,\n",
      "            min_impurity_split=None, min_samples_leaf=1,\n",
      "            min_samples_split=2, min_weight_fraction_leaf=0.0,\n",
      "            n_estimators=1000, n_jobs=None, oob_score=False,\n",
      "            random_state=42, verbose=0, warm_start=False)\n"
     ]
    },
    {
     "name": "stderr",
     "output_type": "stream",
     "text": [
      "C:\\Users\\ricar\\code\\RicardoJPedro82\\wmillfailprev\\notebooks\\Dataset_transf.py:386: RuntimeWarning: invalid value encountered in longlong_scalars\n",
      "  'Precision':    cm2[1,1]/(cm2[0,1]+cm2[1,1]) if len(y_test['Pred'].value_counts())>1 else np.nan,\n",
      "c:\\users\\ricar\\.venvs\\lewagon\\lib\\site-packages\\sklearn\\metrics\\classification.py:1143: UndefinedMetricWarning: F-score is ill-defined and being set to 0.0 due to no predicted samples.\n",
      "  'precision', 'predicted', average, warn_for)\n"
     ]
    },
    {
     "data": {
      "image/png": "[encoded data removed]",
      "text/plain": [
       "<Figure size 432x288 with 1 Axes>"
      ]
     },
     "metadata": {},
     "output_type": "display_data"
    },
    {
     "name": "stdout",
     "output_type": "stream",
     "text": [
      "Calculating Savings to component df_transformer\n",
      "Trainning component df_gearbox\n",
      "\n",
      "Best Parameters:\n",
      " RandomForestClassifier(bootstrap=True, class_weight='balanced',\n",
      "            criterion='entropy', max_depth=None, max_features='auto',\n",
      "            max_leaf_nodes=None, min_impurity_decrease=0.0,\n",
      "            min_impurity_split=None, min_samples_leaf=1,\n",
      "            min_samples_split=2, min_weight_fraction_leaf=0.0,\n",
      "            n_estimators=300, n_jobs=None, oob_score=False,\n",
      "            random_state=42, verbose=0, warm_start=False)\n"
     ]
    },
    {
     "name": "stderr",
     "output_type": "stream",
     "text": [
      "c:\\users\\ricar\\.venvs\\lewagon\\lib\\site-packages\\sklearn\\metrics\\ranking.py:656: UndefinedMetricWarning: No positive samples in y_true, true positive value should be meaningless\n",
      "  UndefinedMetricWarning)\n"
     ]
    },
    {
     "data": {
      "image/png": "[encoded data removed]",
      "text/plain": [
       "<Figure size 432x288 with 1 Axes>"
      ]
     },
     "metadata": {},
     "output_type": "display_data"
    },
    {
     "name": "stdout",
     "output_type": "stream",
     "text": [
      "Calculating Savings to component df_gearbox\n"
     ]
    }
   ],
   "source": [
    "# Correr o mesmo modelo para todos os componentes\n",
    "for key in x_train:\n",
    "    print(f'Trainning component {key}')\n",
    "    # Train the model\n",
    "    model_name = 'Random_Forest_Classifier'\n",
    "    clf_rfc = RandomForestClassifier(random_state=42)\n",
    "    gs_params = {\n",
    "        'n_estimators': [300, 500, 750, 800, 900, 1000],\n",
    "        'criterion': ['gini', 'entropy'],\n",
    "        'class_weight': ['balanced', None]\n",
    "    }\n",
    "    gs_score = 'recall'\n",
    "\n",
    "    clf_rcf, pred_rcf = dprep.bin_classify(model_name,\n",
    "                                           clf_rfc,\n",
    "                                           x_train[key],\n",
    "                                           x_test[key],\n",
    "                                           y_train[key],\n",
    "                                           y_test[key],\n",
    "                                           params=gs_params,\n",
    "                                           score=gs_score)\n",
    "    print('\\nBest Parameters:\\n', clf_rcf)\n",
    "    # Obtain metrics\n",
    "    metrics_dict_miguel = dprep.metrics(y_test[key], pred_rcf.y_pred,\n",
    "                                        pred_rcf.y_score)\n",
    "    conf_matrix = dprep.conf_matrix(y_test[key], pred_rcf.y_pred)\n",
    "    dprep.roc_curve_plot(y_test[key], pred_rcf.y_score)\n",
    "\n",
    "    print(f'Calculating Savings to component {key}')\n",
    "    # Calculate savings\n",
    "    sav, cf_numb, met_df, dias = dprep.metrics_create_df(df_test_dict[key],\n",
    "                                                   y_test[key],\n",
    "                                                   pred_rcf.y_pred.values,\n",
    "                                                   key, 15)\n",
    "\n",
    "    # Store metrics to compare\n",
    "    metrics_dict['try_' + str(tentativa)] = {\n",
    "        'Componente': key,\n",
    "        'Nome_modelo': model_name,\n",
    "        'dias_var_alvo': col_to_mantain_test,\n",
    "        'feature_selection': 'Guilherme',\n",
    "        'Agrup_por': Agrup_por,\n",
    "        'add_features': 'smooth only',\n",
    "        'per_test': per_test,\n",
    "        'model': model_name,\n",
    "        'Metrics': metrics_dict_miguel,\n",
    "        'cf_matriX_log_reg': conf_matrix,\n",
    "        'Savings': sav,\n",
    "        'cf_bussines_numbers': cf_numb\n",
    "    }\n",
    "    tentativa = tentativa + 1"
   ]
  },
  {
   "cell_type": "code",
   "execution_count": 58,
   "metadata": {
    "ExecuteTime": {
     "end_time": "2021-02-19T13:18:51.541478Z",
     "start_time": "2021-02-19T13:18:51.433416Z"
    }
   },
   "outputs": [
    {
     "name": "stdout",
     "output_type": "stream",
     "text": [
      "df_generator -60000\n",
      "df_hydraulic -20000\n",
      "df_gen_bear -30000\n",
      "df_transformer -50000\n",
      "df_gearbox 0\n"
     ]
    },
    {
     "data": {
      "text/plain": [
       "-160000"
      ]
     },
     "execution_count": 58,
     "metadata": {},
     "output_type": "execute_result"
    }
   ],
   "source": [
    "Savings = 0\n",
    "for i in metrics_dict:\n",
    "    if metrics_dict[i]['Nome_modelo'] == 'Random_Forest_Classifier':\n",
    "        Savings = Savings + metrics_dict[i]['Savings']\n",
    "        print(metrics_dict[i]['Componente'], metrics_dict[i]['Savings'])\n",
    "Savings        "
   ]
  },
  {
   "cell_type": "markdown",
   "metadata": {},
   "source": [
    "# Model Training - Gradient Boost Classifier"
   ]
  },
  {
   "cell_type": "code",
   "execution_count": 59,
   "metadata": {
    "ExecuteTime": {
     "end_time": "2021-02-19T13:33:52.124672Z",
     "start_time": "2021-02-19T13:18:51.541478Z"
    }
   },
   "outputs": [
    {
     "name": "stdout",
     "output_type": "stream",
     "text": [
      "Trainning component df_generator\n",
      "\n",
      "Best Parameters:\n",
      " GradientBoostingClassifier(criterion='friedman_mse', init=None,\n",
      "              learning_rate=1, loss='deviance', max_depth=3,\n",
      "              max_features=None, max_leaf_nodes=None,\n",
      "              min_impurity_decrease=0.0, min_impurity_split=None,\n",
      "              min_samples_leaf=1, min_samples_split=2,\n",
      "              min_weight_fraction_leaf=0.0, n_estimators=100,\n",
      "              n_iter_no_change=None, presort='auto', random_state=42,\n",
      "              subsample=1.0, tol=0.0001, validation_fraction=0.1,\n",
      "              verbose=0, warm_start=False)\n"
     ]
    },
    {
     "data": {
      "image/png": "[encoded data removed]",
      "text/plain": [
       "<Figure size 432x288 with 1 Axes>"
      ]
     },
     "metadata": {},
     "output_type": "display_data"
    },
    {
     "name": "stdout",
     "output_type": "stream",
     "text": [
      "Calculating Savings to component df_generator\n",
      "Trainning component df_hydraulic\n",
      "\n",
      "Best Parameters:\n",
      " GradientBoostingClassifier(criterion='friedman_mse', init=None,\n",
      "              learning_rate=0.5, loss='deviance', max_depth=3,\n",
      "              max_features=None, max_leaf_nodes=None,\n",
      "              min_impurity_decrease=0.0, min_impurity_split=None,\n",
      "              min_samples_leaf=1, min_samples_split=2,\n",
      "              min_weight_fraction_leaf=0.0, n_estimators=100,\n",
      "              n_iter_no_change=None, presort='auto', random_state=42,\n",
      "              subsample=1.0, tol=0.0001, validation_fraction=0.1,\n",
      "              verbose=0, warm_start=False)\n"
     ]
    },
    {
     "data": {
      "image/png": "[encoded data removed]",
      "text/plain": [
       "<Figure size 432x288 with 1 Axes>"
      ]
     },
     "metadata": {},
     "output_type": "display_data"
    },
    {
     "name": "stdout",
     "output_type": "stream",
     "text": [
      "Calculating Savings to component df_hydraulic\n",
      "Trainning component df_gen_bear\n",
      "\n",
      "Best Parameters:\n",
      " GradientBoostingClassifier(criterion='friedman_mse', init=None,\n",
      "              learning_rate=1, loss='deviance', max_depth=3,\n",
      "              max_features=None, max_leaf_nodes=None,\n",
      "              min_impurity_decrease=0.0, min_impurity_split=None,\n",
      "              min_samples_leaf=1, min_samples_split=2,\n",
      "              min_weight_fraction_leaf=0.0, n_estimators=100,\n",
      "              n_iter_no_change=None, presort='auto', random_state=42,\n",
      "              subsample=1.0, tol=0.0001, validation_fraction=0.1,\n",
      "              verbose=0, warm_start=False)\n"
     ]
    },
    {
     "data": {
      "image/png": "[encoded data removed]",
      "text/plain": [
       "<Figure size 432x288 with 1 Axes>"
      ]
     },
     "metadata": {},
     "output_type": "display_data"
    },
    {
     "name": "stdout",
     "output_type": "stream",
     "text": [
      "Calculating Savings to component df_gen_bear\n",
      "Trainning component df_transformer\n"
     ]
    },
    {
     "name": "stderr",
     "output_type": "stream",
     "text": [
      "c:\\users\\ricar\\.venvs\\lewagon\\lib\\site-packages\\sklearn\\model_selection\\_search.py:842: DeprecationWarning: The default of the `iid` parameter will change from True to False in version 0.22 and will be removed in 0.24. This will change numeric results when test-set sizes are unequal.\n",
      "  DeprecationWarning)\n"
     ]
    },
    {
     "name": "stdout",
     "output_type": "stream",
     "text": [
      "\n",
      "Best Parameters:\n",
      " GradientBoostingClassifier(criterion='friedman_mse', init=None,\n",
      "              learning_rate=1, loss='deviance', max_depth=3,\n",
      "              max_features=None, max_leaf_nodes=None,\n",
      "              min_impurity_decrease=0.0, min_impurity_split=None,\n",
      "              min_samples_leaf=1, min_samples_split=2,\n",
      "              min_weight_fraction_leaf=0.0, n_estimators=100,\n",
      "              n_iter_no_change=None, presort='auto', random_state=42,\n",
      "              subsample=1.0, tol=0.0001, validation_fraction=0.1,\n",
      "              verbose=0, warm_start=False)\n"
     ]
    },
    {
     "data": {
      "image/png": "[encoded data removed]",
      "text/plain": [
       "<Figure size 432x288 with 1 Axes>"
      ]
     },
     "metadata": {},
     "output_type": "display_data"
    },
    {
     "name": "stdout",
     "output_type": "stream",
     "text": [
      "Calculating Savings to component df_transformer\n",
      "Trainning component df_gearbox\n",
      "\n",
      "Best Parameters:\n",
      " GradientBoostingClassifier(criterion='friedman_mse', init=None,\n",
      "              learning_rate=1, loss='deviance', max_depth=3,\n",
      "              max_features=None, max_leaf_nodes=None,\n",
      "              min_impurity_decrease=0.0, min_impurity_split=None,\n",
      "              min_samples_leaf=1, min_samples_split=2,\n",
      "              min_weight_fraction_leaf=0.0, n_estimators=200,\n",
      "              n_iter_no_change=None, presort='auto', random_state=42,\n",
      "              subsample=1.0, tol=0.0001, validation_fraction=0.1,\n",
      "              verbose=0, warm_start=False)\n"
     ]
    },
    {
     "name": "stderr",
     "output_type": "stream",
     "text": [
      "c:\\users\\ricar\\.venvs\\lewagon\\lib\\site-packages\\sklearn\\metrics\\ranking.py:656: UndefinedMetricWarning: No positive samples in y_true, true positive value should be meaningless\n",
      "  UndefinedMetricWarning)\n"
     ]
    },
    {
     "data": {
      "image/png": "[encoded data removed]",
      "text/plain": [
       "<Figure size 432x288 with 1 Axes>"
      ]
     },
     "metadata": {},
     "output_type": "display_data"
    },
    {
     "name": "stdout",
     "output_type": "stream",
     "text": [
      "Calculating Savings to component df_gearbox\n"
     ]
    }
   ],
   "source": [
    "# Correr o mesmo modelo para todos os componentes\n",
    "for key in x_train:\n",
    "    print(f'Trainning component {key}')\n",
    "    # Train the model\n",
    "    model_name = 'Gradient_Boosting_Classifier'\n",
    "    clf_gbc = GradientBoostingClassifier(random_state=42)\n",
    "    gs_params = {\n",
    "        'learning_rate': [0.001, 0.01, 0.1, 0.5, 1],\n",
    "        'n_estimators': [100, 200, 500, 700]\n",
    "    }\n",
    "    gs_score = 'recall'\n",
    "\n",
    "    clf_gbc, pred_gbc = dprep.bin_classify(model_name,\n",
    "                                           clf_gbc,\n",
    "                                           x_train[key],\n",
    "                                           x_test[key],\n",
    "                                           y_train[key],\n",
    "                                           y_test[key],\n",
    "                                           params=gs_params,\n",
    "                                           score=gs_score)\n",
    "    print('\\nBest Parameters:\\n', clf_gbc)\n",
    "    # Obtain metrics\n",
    "    metrics_dict_miguel = dprep.metrics(y_test[key], pred_gbc.y_pred,\n",
    "                                        pred_gbc.y_score)\n",
    "    conf_matrix = dprep.conf_matrix(y_test[key], pred_gbc.y_pred)\n",
    "    dprep.roc_curve_plot(y_test[key], pred_gbc.y_score)\n",
    "\n",
    "    print(f'Calculating Savings to component {key}')\n",
    "    # Calculate savings\n",
    "    sav, cf_numb, met_df, dias = dprep.metrics_create_df(df_test_dict[key],\n",
    "                                                   y_test[key],\n",
    "                                                   pred_gbc.y_pred.values,\n",
    "                                                   key, 15)\n",
    "\n",
    "    # Store metrics to compare\n",
    "    metrics_dict['try_' + str(tentativa)] = {\n",
    "        'Componente': key,\n",
    "        'Nome_modelo': model_name,\n",
    "        'dias_var_alvo': col_to_mantain_test,\n",
    "        'feature_selection': 'Guilherme',\n",
    "        'Agrup_por': Agrup_por,\n",
    "        'add_features': 'smooth only',\n",
    "        'per_test': per_test,\n",
    "        'model': model_name,\n",
    "        'Metrics': metrics_dict_miguel,\n",
    "        'cf_matriX_log_reg': conf_matrix,\n",
    "        'Savings': sav,\n",
    "        'cf_bussines_numbers': cf_numb\n",
    "    }\n",
    "    tentativa = tentativa + 1"
   ]
  },
  {
   "cell_type": "code",
   "execution_count": 60,
   "metadata": {
    "ExecuteTime": {
     "end_time": "2021-02-19T13:33:52.229309Z",
     "start_time": "2021-02-19T13:33:52.124672Z"
    }
   },
   "outputs": [
    {
     "name": "stdout",
     "output_type": "stream",
     "text": [
      "df_generator -21500.0\n",
      "df_hydraulic 1883.3333333333321\n",
      "df_gen_bear -15166.666666666666\n",
      "df_transformer -5125.0\n",
      "df_gearbox -40000\n"
     ]
    },
    {
     "data": {
      "text/plain": [
       "-79908.33333333334"
      ]
     },
     "execution_count": 60,
     "metadata": {},
     "output_type": "execute_result"
    }
   ],
   "source": [
    "Savings = 0\n",
    "for i in metrics_dict:\n",
    "    if metrics_dict[i]['Nome_modelo'] == 'Gradient_Boosting_Classifier':\n",
    "        Savings = Savings + metrics_dict[i]['Savings']\n",
    "        print(metrics_dict[i]['Componente'], metrics_dict[i]['Savings'])\n",
    "Savings        "
   ]
  },
  {
   "cell_type": "markdown",
   "metadata": {},
   "source": [
    "# Model Training - KNN Classsifier"
   ]
  },
  {
   "cell_type": "code",
   "execution_count": 61,
   "metadata": {
    "ExecuteTime": {
     "end_time": "2021-02-19T13:34:43.480920Z",
     "start_time": "2021-02-19T13:33:52.229309Z"
    }
   },
   "outputs": [
    {
     "name": "stdout",
     "output_type": "stream",
     "text": [
      "Trainning component df_generator\n",
      "\n",
      "Best Parameters:\n",
      " KNeighborsClassifier(algorithm='auto', leaf_size=30, metric='minkowski',\n",
      "           metric_params=None, n_jobs=None, n_neighbors=5, p=2,\n",
      "           weights='uniform')\n"
     ]
    },
    {
     "data": {
      "image/png": "[encoded data removed]",
      "text/plain": [
       "<Figure size 432x288 with 1 Axes>"
      ]
     },
     "metadata": {},
     "output_type": "display_data"
    },
    {
     "name": "stdout",
     "output_type": "stream",
     "text": [
      "Calculating Savings to component df_generator\n",
      "Trainning component df_hydraulic\n",
      "\n",
      "Best Parameters:\n",
      " KNeighborsClassifier(algorithm='auto', leaf_size=30, metric='minkowski',\n",
      "           metric_params=None, n_jobs=None, n_neighbors=5, p=2,\n",
      "           weights='uniform')\n"
     ]
    },
    {
     "data": {
      "image/png": "[encoded data removed]",
      "text/plain": [
       "<Figure size 432x288 with 1 Axes>"
      ]
     },
     "metadata": {},
     "output_type": "display_data"
    },
    {
     "name": "stdout",
     "output_type": "stream",
     "text": [
      "Calculating Savings to component df_hydraulic\n"
     ]
    },
    {
     "ename": "IndexError",
     "evalue": "index 1 is out of bounds for axis 0 with size 1",
     "output_type": "error",
     "traceback": [
      "\u001b[1;31m---------------------------------------------------------------------------\u001b[0m",
      "\u001b[1;31mIndexError\u001b[0m                                Traceback (most recent call last)",
      "\u001b[1;32m<ipython-input-61-935214b401cc>\u001b[0m in \u001b[0;36m<module>\u001b[1;34m\u001b[0m\n\u001b[0;32m     31\u001b[0m                                                    \u001b[0my_test\u001b[0m\u001b[1;33m[\u001b[0m\u001b[0mkey\u001b[0m\u001b[1;33m]\u001b[0m\u001b[1;33m,\u001b[0m\u001b[1;33m\u001b[0m\u001b[1;33m\u001b[0m\u001b[0m\n\u001b[0;32m     32\u001b[0m                                                    \u001b[0mpred_knn\u001b[0m\u001b[1;33m.\u001b[0m\u001b[0my_pred\u001b[0m\u001b[1;33m.\u001b[0m\u001b[0mvalues\u001b[0m\u001b[1;33m,\u001b[0m\u001b[1;33m\u001b[0m\u001b[1;33m\u001b[0m\u001b[0m\n\u001b[1;32m---> 33\u001b[1;33m                                                    key, 15)\n\u001b[0m\u001b[0;32m     34\u001b[0m \u001b[1;33m\u001b[0m\u001b[0m\n\u001b[0;32m     35\u001b[0m     \u001b[1;31m# Store metrics to compare\u001b[0m\u001b[1;33m\u001b[0m\u001b[1;33m\u001b[0m\u001b[1;33m\u001b[0m\u001b[0m\n",
      "\u001b[1;32m~\\code\\RicardoJPedro82\\wmillfailprev\\notebooks\\Dataset_transf.py\u001b[0m in \u001b[0;36mmetrics_create_df\u001b[1;34m(df_test_in, y_test_in, y_pred_in, component, days)\u001b[0m\n\u001b[0;32m    487\u001b[0m             \u001b[0mcf_numbers\u001b[0m\u001b[1;33m[\u001b[0m\u001b[1;34m'FN'\u001b[0m\u001b[1;33m]\u001b[0m \u001b[1;33m=\u001b[0m \u001b[1;36m1\u001b[0m\u001b[1;33m\u001b[0m\u001b[1;33m\u001b[0m\u001b[0m\n\u001b[0;32m    488\u001b[0m         \u001b[1;32mif\u001b[0m \u001b[0mlen\u001b[0m\u001b[1;33m(\u001b[0m\u001b[0mocorrencias\u001b[0m\u001b[1;33m[\u001b[0m\u001b[0mocorrencias\u001b[0m\u001b[1;33m.\u001b[0m\u001b[0mTP\u001b[0m \u001b[1;33m==\u001b[0m \u001b[1;36m1\u001b[0m\u001b[1;33m]\u001b[0m\u001b[1;33m)\u001b[0m \u001b[1;33m!=\u001b[0m \u001b[1;36m0\u001b[0m\u001b[1;33m:\u001b[0m\u001b[1;33m\u001b[0m\u001b[1;33m\u001b[0m\u001b[0m\n\u001b[1;32m--> 489\u001b[1;33m             \u001b[0mdias_primeiro_TP\u001b[0m\u001b[1;33m.\u001b[0m\u001b[0mappend\u001b[0m\u001b[1;33m(\u001b[0m\u001b[0mocorrencias\u001b[0m\u001b[1;33m.\u001b[0m\u001b[0mloc\u001b[0m\u001b[1;33m[\u001b[0m\u001b[0mocorrencias\u001b[0m\u001b[1;33m[\u001b[0m\u001b[0mocorrencias\u001b[0m\u001b[1;33m.\u001b[0m\u001b[0mTP\u001b[0m \u001b[1;33m==\u001b[0m \u001b[1;36m1\u001b[0m\u001b[1;33m]\u001b[0m\u001b[1;33m.\u001b[0m\u001b[0mindex\u001b[0m\u001b[1;33m[\u001b[0m\u001b[0mind\u001b[0m\u001b[1;33m]\u001b[0m\u001b[1;33m]\u001b[0m\u001b[1;33m.\u001b[0m\u001b[0mTTF\u001b[0m\u001b[1;33m.\u001b[0m\u001b[0mastype\u001b[0m\u001b[1;33m(\u001b[0m\u001b[0mint\u001b[0m\u001b[1;33m)\u001b[0m\u001b[1;33m)\u001b[0m\u001b[1;33m\u001b[0m\u001b[1;33m\u001b[0m\u001b[0m\n\u001b[0m\u001b[0;32m    490\u001b[0m \u001b[1;33m\u001b[0m\u001b[0m\n\u001b[0;32m    491\u001b[0m     \u001b[1;31m# Para as não ocorrências\u001b[0m\u001b[1;33m\u001b[0m\u001b[1;33m\u001b[0m\u001b[1;33m\u001b[0m\u001b[0m\n",
      "\u001b[1;32mc:\\users\\ricar\\.venvs\\lewagon\\lib\\site-packages\\pandas\\core\\indexes\\base.py\u001b[0m in \u001b[0;36m__getitem__\u001b[1;34m(self, key)\u001b[0m\n\u001b[0;32m   3956\u001b[0m         \u001b[1;32mif\u001b[0m \u001b[0mis_scalar\u001b[0m\u001b[1;33m(\u001b[0m\u001b[0mkey\u001b[0m\u001b[1;33m)\u001b[0m\u001b[1;33m:\u001b[0m\u001b[1;33m\u001b[0m\u001b[1;33m\u001b[0m\u001b[0m\n\u001b[0;32m   3957\u001b[0m             \u001b[0mkey\u001b[0m \u001b[1;33m=\u001b[0m \u001b[0mcom\u001b[0m\u001b[1;33m.\u001b[0m\u001b[0mcast_scalar_indexer\u001b[0m\u001b[1;33m(\u001b[0m\u001b[0mkey\u001b[0m\u001b[1;33m)\u001b[0m\u001b[1;33m\u001b[0m\u001b[1;33m\u001b[0m\u001b[0m\n\u001b[1;32m-> 3958\u001b[1;33m             \u001b[1;32mreturn\u001b[0m \u001b[0mgetitem\u001b[0m\u001b[1;33m(\u001b[0m\u001b[0mkey\u001b[0m\u001b[1;33m)\u001b[0m\u001b[1;33m\u001b[0m\u001b[1;33m\u001b[0m\u001b[0m\n\u001b[0m\u001b[0;32m   3959\u001b[0m \u001b[1;33m\u001b[0m\u001b[0m\n\u001b[0;32m   3960\u001b[0m         \u001b[1;32mif\u001b[0m \u001b[0misinstance\u001b[0m\u001b[1;33m(\u001b[0m\u001b[0mkey\u001b[0m\u001b[1;33m,\u001b[0m \u001b[0mslice\u001b[0m\u001b[1;33m)\u001b[0m\u001b[1;33m:\u001b[0m\u001b[1;33m\u001b[0m\u001b[1;33m\u001b[0m\u001b[0m\n",
      "\u001b[1;31mIndexError\u001b[0m: index 1 is out of bounds for axis 0 with size 1"
     ]
    }
   ],
   "source": [
    "# Correr o mesmo modelo para todos os componentes\n",
    "for key in x_train:\n",
    "    print(f'Trainning component {key}')\n",
    "    # Train the model\n",
    "    model_name = 'KNN_Classifier'\n",
    "    clf_knn = KNeighborsClassifier()\n",
    "    gs_params = {\n",
    "        'n_neighbors': [5, 7, 10, 15],\n",
    "        'weights': ['uniform', 'distance']\n",
    "    }\n",
    "    gs_score = 'recall'\n",
    "\n",
    "    clf_knn, pred_knn = dprep.bin_classify(model_name,\n",
    "                                           clf_knn,\n",
    "                                           x_train[key],\n",
    "                                           x_test[key],\n",
    "                                           y_train[key],\n",
    "                                           y_test[key],\n",
    "                                           params=gs_params,\n",
    "                                           score=gs_score)\n",
    "    print('\\nBest Parameters:\\n', clf_knn)\n",
    "    # Obtain metrics\n",
    "    metrics_dict_miguel = dprep.metrics(y_test[key], pred_knn.y_pred,\n",
    "                                        pred_knn.y_score)\n",
    "    conf_matrix = dprep.conf_matrix(y_test[key], pred_knn.y_pred)\n",
    "    dprep.roc_curve_plot(y_test[key], pred_knn.y_score)\n",
    "\n",
    "    print(f'Calculating Savings to component {key}')\n",
    "    # Calculate savings\n",
    "    sav, cf_numb, met_df, dias = dprep.metrics_create_df(df_test_dict[key],\n",
    "                                                   y_test[key],\n",
    "                                                   pred_knn.y_pred.values,\n",
    "                                                   key, 15)\n",
    "\n",
    "    # Store metrics to compare\n",
    "    metrics_dict['try_' + str(tentativa)] = {\n",
    "        'Componente': key,\n",
    "        'Nome_modelo': model_name,\n",
    "        'dias_var_alvo': col_to_mantain_test,\n",
    "        'feature_selection': 'Guilherme',\n",
    "        'Agrup_por': Agrup_por,\n",
    "        'add_features': 'smooth only',\n",
    "        'per_test': per_test,\n",
    "        'model': model_name,\n",
    "        'Metrics': metrics_dict_miguel,\n",
    "        'cf_matriX_log_reg': conf_matrix,\n",
    "        'Savings': sav,\n",
    "        'cf_bussines_numbers': cf_numb\n",
    "    }\n",
    "    tentativa = tentativa + 1"
   ]
  },
  {
   "cell_type": "code",
   "execution_count": null,
   "metadata": {
    "ExecuteTime": {
     "end_time": "2021-02-19T13:34:43.483880Z",
     "start_time": "2021-02-19T12:22:44.681Z"
    }
   },
   "outputs": [],
   "source": [
    "Savings = 0\n",
    "for i in metrics_dict:\n",
    "    if metrics_dict[i]['Nome_modelo'] == 'KNN_Classifier':\n",
    "        Savings = Savings + metrics_dict[i]['Savings']\n",
    "        print(metrics_dict[i]['Componente'], metrics_dict[i]['Savings'])\n",
    "Savings        "
   ]
  },
  {
   "cell_type": "markdown",
   "metadata": {},
   "source": [
    "# Model Training - AdaBoostClassifier"
   ]
  },
  {
   "cell_type": "code",
   "execution_count": null,
   "metadata": {
    "ExecuteTime": {
     "end_time": "2021-02-19T13:34:43.484878Z",
     "start_time": "2021-02-19T12:22:44.683Z"
    }
   },
   "outputs": [],
   "source": [
    "# Correr o mesmo modelo para todos os componentes\n",
    "for key in x_train:\n",
    "    print(f'Trainning component {key}')\n",
    "    # Train the model\n",
    "    model_name = 'AdaBoostClassifier'\n",
    "    clf_abc = AdaBoostClassifier(random_state=42)\n",
    "    gs_params = {'n_estimators': [50, 100, 200, 300, 500]}\n",
    "    gs_score = 'recall'\n",
    "\n",
    "    clf_abc, pred_abc = dprep.bin_classify(model_name,\n",
    "                                           clf_abc,\n",
    "                                           x_train[key],\n",
    "                                           x_test[key],\n",
    "                                           y_train[key],\n",
    "                                           y_test[key],\n",
    "                                           params=gs_params,\n",
    "                                           score=gs_score)\n",
    "    print('\\nBest Parameters:\\n', clf_abc)\n",
    "    # Obtain metrics\n",
    "    metrics_dict_miguel = dprep.metrics(y_test[key], pred_abc.y_pred,\n",
    "                                        pred_abc.y_score)\n",
    "    conf_matrix = dprep.conf_matrix(y_test[key], pred_abc.y_pred)\n",
    "    dprep.roc_curve_plot(y_test[key], pred_abc.y_score)\n",
    "\n",
    "    print(f'Calculating Savings to component {key}')\n",
    "    # Calculate savings\n",
    "    sav, cf_numb, met_df, dias = dprep.metrics_create_df(df_test_dict[key],\n",
    "                                                   y_test[key],\n",
    "                                                   pred_abc.y_pred.values,\n",
    "                                                   key, 15)\n",
    "\n",
    "    # Store metrics to compare\n",
    "    metrics_dict['try_' + str(tentativa)] = {\n",
    "        'Componente': key,\n",
    "        'Nome_modelo': model_name,\n",
    "        'dias_var_alvo': col_to_mantain_test,\n",
    "        'feature_selection': 'Guilherme',\n",
    "        'Agrup_por': Agrup_por,\n",
    "        'add_features': 'smooth only',\n",
    "        'per_test': per_test,\n",
    "        'model': model_name,\n",
    "        'Metrics': metrics_dict_miguel,\n",
    "        'cf_matriX_log_reg': conf_matrix,\n",
    "        'Savings': sav,\n",
    "        'cf_bussines_numbers': cf_numb\n",
    "    }\n",
    "    tentativa = tentativa + 1"
   ]
  },
  {
   "cell_type": "code",
   "execution_count": null,
   "metadata": {
    "ExecuteTime": {
     "end_time": "2021-02-19T13:34:43.485875Z",
     "start_time": "2021-02-19T12:22:44.685Z"
    }
   },
   "outputs": [],
   "source": [
    "Savings = 0\n",
    "for i in metrics_dict:\n",
    "    if metrics_dict[i]['Nome_modelo'] == 'AdaBoostClassifier':\n",
    "        Savings = Savings + metrics_dict[i]['Savings']\n",
    "        print(metrics_dict[i]['Componente'], metrics_dict[i]['Savings'])\n",
    "Savings        "
   ]
  },
  {
   "cell_type": "code",
   "execution_count": null,
   "metadata": {
    "ExecuteTime": {
     "end_time": "2021-02-19T13:34:43.487873Z",
     "start_time": "2021-02-19T12:22:44.686Z"
    }
   },
   "outputs": [],
   "source": [
    "import csv\n",
    "\n",
    "w = csv.writer(open(nome_ficheiro + \".csv\", \"w\"))\n",
    "for key, val in metrics_dict.items():\n",
    "    w.writerow([key, val])"
   ]
  },
  {
   "cell_type": "markdown",
   "metadata": {},
   "source": [
    "# Cria de DF para avaliação de métricas"
   ]
  },
  {
   "cell_type": "code",
   "execution_count": null,
   "metadata": {
    "ExecuteTime": {
     "end_time": "2021-02-19T13:34:43.488869Z",
     "start_time": "2021-02-19T12:22:44.688Z"
    }
   },
   "outputs": [],
   "source": [
    "sav"
   ]
  },
  {
   "cell_type": "code",
   "execution_count": null,
   "metadata": {
    "ExecuteTime": {
     "end_time": "2021-02-19T13:34:43.490863Z",
     "start_time": "2021-02-19T12:22:44.690Z"
    }
   },
   "outputs": [],
   "source": [
    "cf_numb"
   ]
  },
  {
   "cell_type": "code",
   "execution_count": null,
   "metadata": {
    "ExecuteTime": {
     "end_time": "2021-02-19T13:34:43.491859Z",
     "start_time": "2021-02-19T12:22:44.691Z"
    }
   },
   "outputs": [],
   "source": [
    "met_df[met_df.FP==1][met_df[met_df.FP==1].new_FP==1]"
   ]
  },
  {
   "cell_type": "code",
   "execution_count": null,
   "metadata": {},
   "outputs": [],
   "source": []
  },
  {
   "cell_type": "code",
   "execution_count": null,
   "metadata": {},
   "outputs": [],
   "source": []
  }
 ],
 "metadata": {
  "kernelspec": {
   "display_name": "Python 3",
   "language": "python",
   "name": "python3"
  },
  "language_info": {
   "codemirror_mode": {
    "name": "ipython",
    "version": 3
   },
   "file_extension": ".py",
   "mimetype": "text/x-python",
   "name": "python",
   "nbconvert_exporter": "python",
   "pygments_lexer": "ipython3",
   "version": "3.7.7"
  },
  "toc": {
   "base_numbering": "",
   "nav_menu": {},
   "number_sections": true,
   "sideBar": true,
   "skip_h1_title": true,
   "title_cell": "Table of Contents",
   "title_sidebar": "Contents",
   "toc_cell": true,
   "toc_position": {},
   "toc_section_display": false,
   "toc_window_display": false
  }
 },
 "nbformat": 4,
 "nbformat_minor": 4
}
