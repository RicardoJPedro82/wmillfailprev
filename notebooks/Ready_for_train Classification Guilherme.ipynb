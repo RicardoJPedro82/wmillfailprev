{
 "cells": [
  {
   "cell_type": "markdown",
   "id": "living-industry",
   "metadata": {
    "toc": true
   },
   "source": [
    "<h1>Table of Contents<span class=\"tocSkip\"></span></h1>\n",
    "<div class=\"toc\"><ul class=\"toc-item\"><li><span><a href=\"#Não-estou-a-conseguir-fazer-o-merge-desta-forma\" data-toc-modified-id=\"Não-estou-a-conseguir-fazer-o-merge-desta-forma-1\"><span class=\"toc-item-num\">1&nbsp;&nbsp;</span>Não estou a conseguir fazer o merge desta forma</a></span></li></ul></div>"
   ]
  },
  {
   "cell_type": "code",
   "execution_count": 310,
   "id": "together-saint",
   "metadata": {
    "ExecuteTime": {
     "end_time": "2021-02-02T22:34:49.347526Z",
     "start_time": "2021-02-02T22:34:49.339511Z"
    }
   },
   "outputs": [],
   "source": [
    "import pandas as pd\n",
    "import numpy as np\n",
    "# import geopandas as gpd\n",
    "import seaborn as sns\n",
    "import matplotlib.pyplot as plt\n",
    "import datetime\n",
    "from sklearn.preprocessing import OneHotEncoder\n",
    "from sklearn.preprocessing import StandardScaler"
   ]
  },
  {
   "cell_type": "code",
   "execution_count": 311,
   "id": "hybrid-engineering",
   "metadata": {
    "ExecuteTime": {
     "end_time": "2021-02-02T22:34:49.368520Z",
     "start_time": "2021-02-02T22:34:49.353656Z"
    }
   },
   "outputs": [],
   "source": [
    "def get_data_and_first_cleaning():\n",
    "    rooth_path = '../rawdata/training/'\n",
    "    failures_df = pd.read_csv(rooth_path + 'wind-farm-1-failures-training.csv')\n",
    "    locations_df = pd.read_csv(rooth_path + \"wind-farm-1-locations.csv\")\n",
    "    logs_df = pd.read_csv(rooth_path + 'wind-farm-1-logs-training.csv')\n",
    "    metmast_df = pd.read_csv(rooth_path + 'wind-farm-1-metmast-training.csv', sep=';')\n",
    "    signals_df = pd.read_csv(rooth_path + 'wind-farm-1-signals-training.csv', sep=';')\n",
    "    power_df = pd.read_csv(rooth_path + 'Power_curve.csv', sep=',')\n",
    "#     costs_df = pd.read_csv(rooth_path + 'HTW_Costs.csv')\n",
    "    \n",
    "    # pass all the Timestamps to date-time format and set as index\n",
    "    failures_df['Timestamp'] = pd.to_datetime(failures_df['Timestamp'])\n",
    "    logs_df['Timestamp'] = pd.to_datetime(logs_df['TimeDetected'])\n",
    "    logs_df = logs_df.drop(columns=['TimeDetected','UnitTitleDestination'])\n",
    "    metmast_df['Timestamp'] = pd.to_datetime(metmast_df['Timestamp'])\n",
    "    signals_df['Timestamp'] = pd.to_datetime(signals_df['Timestamp'])\n",
    "#     locations_df = locations_df.drop(columns='data_set_av')\n",
    "    \n",
    "    # Replace by integers Turbine_ID\n",
    "    failures_df.replace({'T01': 1, 'T06': 6, 'T07': 7, 'T09': 9, 'T11': 11}, inplace=True)\n",
    "    logs_df.replace({'T01': 1, 'T06': 6, 'T07': 7, 'T09': 9, 'T11': 11}, inplace=True)\n",
    "    signals_df.replace({'T01': 1, 'T06': 6, 'T07': 7, 'T09': 9, 'T11': 11}, inplace=True)\n",
    "    locations_df.replace({'Wind Turbine 1': 1, 'Wind Turbine 6': 6, 'Wind Turbine 7': 7, \n",
    "                          'Wind Turbine 9': 9, 'Wind Turbine 11': 11}, inplace=True)\n",
    "    \n",
    "    # Set Timestamp Columns as Index\n",
    "    failures_df.set_index('Timestamp', inplace=True)\n",
    "    logs_df.set_index('Timestamp', inplace=True)\n",
    "    metmast_df.set_index('Timestamp', inplace=True)\n",
    "    signals_df.set_index('Timestamp', inplace=True)\n",
    "    \n",
    "    # Drop Columns with std=0\n",
    "    drop_features_metmast = ['Anemometer1_Offset', 'Anemometer2_Freq', 'Anemometer2_Offset', 'Min_Raindetection',\n",
    "                             'Avg_Raindetection', 'Anemometer1_CorrGain', 'Anemometer1_CorrOffset',\n",
    "                             'Anemometer2_CorrGain', 'Anemometer2_CorrOffset', 'DistanceAirPress', \n",
    "                             'AirRessureSensorZeroOffset']\n",
    "    metmast_df = metmast_df.drop(columns=drop_features_metmast)\n",
    "    \n",
    "    drop_features_signals = ['Prod_LatestAvg_ActPwrGen2', 'Prod_LatestAvg_ReactPwrGen2']\n",
    "    signals_df = signals_df.drop(columns=drop_features_signals)\n",
    "    \n",
    "    # interpolate to fill NA\n",
    "    metmast_df = metmast_df.interpolate()\n",
    "    signals_df = signals_df.interpolate()\n",
    "    \n",
    "    return failures_df, locations_df, logs_df, metmast_df, signals_df, power_df"
   ]
  },
  {
   "cell_type": "code",
   "execution_count": 312,
   "id": "limited-psychiatry",
   "metadata": {
    "ExecuteTime": {
     "end_time": "2021-02-02T22:34:59.378357Z",
     "start_time": "2021-02-02T22:34:49.372560Z"
    }
   },
   "outputs": [],
   "source": [
    "failures_df, locations_df, logs_df, metmast_df, signals_df, power_df = get_data_and_first_cleaning()"
   ]
  },
  {
   "cell_type": "code",
   "execution_count": 313,
   "id": "revised-granny",
   "metadata": {
    "ExecuteTime": {
     "end_time": "2021-02-02T22:34:59.404211Z",
     "start_time": "2021-02-02T22:34:59.383571Z"
    }
   },
   "outputs": [
    {
     "data": {
      "text/html": [
       "<div>\n",
       "<style scoped>\n",
       "    .dataframe tbody tr th:only-of-type {\n",
       "        vertical-align: middle;\n",
       "    }\n",
       "\n",
       "    .dataframe tbody tr th {\n",
       "        vertical-align: top;\n",
       "    }\n",
       "\n",
       "    .dataframe thead th {\n",
       "        text-align: right;\n",
       "    }\n",
       "</style>\n",
       "<table border=\"1\" class=\"dataframe\">\n",
       "  <thead>\n",
       "    <tr style=\"text-align: right;\">\n",
       "      <th></th>\n",
       "      <th>TimeReset</th>\n",
       "      <th>UnitTitle</th>\n",
       "      <th>Remark</th>\n",
       "    </tr>\n",
       "    <tr>\n",
       "      <th>Timestamp</th>\n",
       "      <th></th>\n",
       "      <th></th>\n",
       "      <th></th>\n",
       "    </tr>\n",
       "  </thead>\n",
       "  <tbody>\n",
       "    <tr>\n",
       "      <th>2016-01-01 00:02:18+00:00</th>\n",
       "      <td>NaN</td>\n",
       "      <td>11</td>\n",
       "      <td>External power ref.:2000kW</td>\n",
       "    </tr>\n",
       "    <tr>\n",
       "      <th>2016-01-01 00:07:15+00:00</th>\n",
       "      <td>NaN</td>\n",
       "      <td>6</td>\n",
       "      <td>Generator 1 in</td>\n",
       "    </tr>\n",
       "    <tr>\n",
       "      <th>2016-01-01 00:11:33+00:00</th>\n",
       "      <td>NaN</td>\n",
       "      <td>9</td>\n",
       "      <td>External power ref.:2000kW</td>\n",
       "    </tr>\n",
       "    <tr>\n",
       "      <th>2016-01-01 00:15:27+00:00</th>\n",
       "      <td>NaN</td>\n",
       "      <td>1</td>\n",
       "      <td>Generator 1 in</td>\n",
       "    </tr>\n",
       "    <tr>\n",
       "      <th>2016-01-01 00:15:44+00:00</th>\n",
       "      <td>NaN</td>\n",
       "      <td>1</td>\n",
       "      <td>External power ref.:2000kW</td>\n",
       "    </tr>\n",
       "  </tbody>\n",
       "</table>\n",
       "</div>"
      ],
      "text/plain": [
       "                          TimeReset  UnitTitle                      Remark\n",
       "Timestamp                                                                 \n",
       "2016-01-01 00:02:18+00:00       NaN         11  External power ref.:2000kW\n",
       "2016-01-01 00:07:15+00:00       NaN          6              Generator 1 in\n",
       "2016-01-01 00:11:33+00:00       NaN          9  External power ref.:2000kW\n",
       "2016-01-01 00:15:27+00:00       NaN          1              Generator 1 in\n",
       "2016-01-01 00:15:44+00:00       NaN          1  External power ref.:2000kW"
      ]
     },
     "execution_count": 313,
     "metadata": {},
     "output_type": "execute_result"
    }
   ],
   "source": [
    "logs_df.head()"
   ]
  },
  {
   "cell_type": "code",
   "execution_count": 314,
   "id": "little-dancing",
   "metadata": {
    "ExecuteTime": {
     "end_time": "2021-02-02T22:34:59.442133Z",
     "start_time": "2021-02-02T22:34:59.412083Z"
    }
   },
   "outputs": [],
   "source": [
    "metmast_df_2016 = metmast_df #.loc[metmast_df.index < '2017']\n",
    "signals_df_2016 = signals_df #.loc[signals_df.index < '2017']"
   ]
  },
  {
   "cell_type": "code",
   "execution_count": 315,
   "id": "vital-consolidation",
   "metadata": {
    "ExecuteTime": {
     "end_time": "2021-02-02T22:34:59.463231Z",
     "start_time": "2021-02-02T22:34:59.447624Z"
    }
   },
   "outputs": [
    {
     "data": {
      "text/plain": [
       "((434145, 80), (69961, 29))"
      ]
     },
     "execution_count": 315,
     "metadata": {},
     "output_type": "execute_result"
    }
   ],
   "source": [
    "signals_df_2016.shape, metmast_df_2016.shape"
   ]
  },
  {
   "cell_type": "code",
   "execution_count": 316,
   "id": "finite-administration",
   "metadata": {
    "ExecuteTime": {
     "end_time": "2021-02-02T22:34:59.472660Z",
     "start_time": "2021-02-02T22:34:59.466563Z"
    }
   },
   "outputs": [],
   "source": [
    "#Function to merge Signals and Metmast - just year of 2016\n",
    "def merge_data_frames():\n",
    "    merge_signals_metmast = pd.merge_asof(signals_df_2016, metmast_df_2016, left_index=True, right_index=True)\n",
    "    \n",
    "    return merge_signals_metmast"
   ]
  },
  {
   "cell_type": "code",
   "execution_count": 317,
   "id": "manufactured-broadcast",
   "metadata": {
    "ExecuteTime": {
     "end_time": "2021-02-02T22:35:01.286758Z",
     "start_time": "2021-02-02T22:34:59.481633Z"
    }
   },
   "outputs": [],
   "source": [
    "merge_signals_metmast = merge_data_frames()"
   ]
  },
  {
   "cell_type": "code",
   "execution_count": 318,
   "id": "single-neighbor",
   "metadata": {
    "ExecuteTime": {
     "end_time": "2021-02-02T22:35:01.644168Z",
     "start_time": "2021-02-02T22:35:01.295197Z"
    }
   },
   "outputs": [
    {
     "data": {
      "image/png": "[encoded data removed]",
      "text/plain": [
       "<Figure size 720x360 with 1 Axes>"
      ]
     },
     "metadata": {
      "needs_background": "light"
     },
     "output_type": "display_data"
    }
   ],
   "source": [
    "#Number of failures by each component\n",
    "fig = plt.figure(figsize=(10,5))\n",
    "nu = failures_df['Component'].value_counts().reset_index()\n",
    "nu.columns = ['Component','Times Failure']\n",
    "ax = sns.barplot(x='Component', y='Times Failure', data=nu)"
   ]
  },
  {
   "cell_type": "code",
   "execution_count": 319,
   "id": "played-words",
   "metadata": {
    "ExecuteTime": {
     "end_time": "2021-02-02T22:35:02.192568Z",
     "start_time": "2021-02-02T22:35:01.648187Z"
    }
   },
   "outputs": [
    {
     "data": {
      "image/png": "[encoded data removed]",
      "text/plain": [
       "<Figure size 432x288 with 1 Axes>"
      ]
     },
     "metadata": {
      "needs_background": "light"
     },
     "output_type": "display_data"
    }
   ],
   "source": [
    "#Failures of components by Turbine\n",
    "failures_df_by_turbine = failures_df.groupby(['Turbine_ID'])['Component'].value_counts()\n",
    "failures_df_by_turbine = failures_df_by_turbine.to_frame()\n",
    "failures_df_by_turbine.columns = ['Times Failure']\n",
    "temp = failures_df_by_turbine.unstack()\n",
    "temp.plot(kind='bar')\n",
    "plt.legend(bbox_to_anchor=(1.05, 1), loc='upper left', borderaxespad=0.)\n",
    "plt.show()"
   ]
  },
  {
   "cell_type": "code",
   "execution_count": 320,
   "id": "median-reservoir",
   "metadata": {
    "ExecuteTime": {
     "end_time": "2021-02-02T22:35:02.938342Z",
     "start_time": "2021-02-02T22:35:02.198128Z"
    }
   },
   "outputs": [
    {
     "data": {
      "image/png": "[encoded data removed]",
      "text/plain": [
       "<Figure size 1080x432 with 1 Axes>"
      ]
     },
     "metadata": {
      "needs_background": "light"
     },
     "output_type": "display_data"
    }
   ],
   "source": [
    "#Failures by component and Turbine across time\n",
    "turbine_id_list = failures_df['Turbine_ID'].tolist()\n",
    "component_id_list = failures_df['Component'].tolist()\n",
    "\n",
    "fig = plt.figure(figsize=(15,6))\n",
    "sns.scatterplot(x=failures_df.index, y=turbine_id_list, hue=component_id_list)\n",
    "plt.legend(bbox_to_anchor=(1.05, 1), loc='upper left', borderaxespad=0.)\n",
    "plt.ylabel('Turbine_ID')\n",
    "plt.xlabel('Timestamp')\n",
    "plt.show()"
   ]
  },
  {
   "cell_type": "code",
   "execution_count": 321,
   "id": "functional-engagement",
   "metadata": {
    "ExecuteTime": {
     "end_time": "2021-02-02T22:35:03.386717Z",
     "start_time": "2021-02-02T22:35:02.943629Z"
    }
   },
   "outputs": [
    {
     "data": {
      "text/plain": [
       "<matplotlib.lines.Line2D at 0x7ff41d89d048>"
      ]
     },
     "execution_count": 321,
     "metadata": {},
     "output_type": "execute_result"
    },
    {
     "data": {
      "image/png": "[encoded data removed]",
      "text/plain": [
       "<Figure size 432x288 with 1 Axes>"
      ]
     },
     "metadata": {
      "needs_background": "light"
     },
     "output_type": "display_data"
    }
   ],
   "source": [
    "# Three Different phases of the turbines\n",
    "sns.scatterplot(x=power_df['Wind speed (m/s)'], y=power_df['Power (kW)'])\n",
    "plt.axvline(x=5, color='red', linestyle= '--')\n",
    "plt.axvline(x=12, color='red', linestyle= '--')"
   ]
  },
  {
   "cell_type": "markdown",
   "id": "measured-kitchen",
   "metadata": {},
   "source": [
    "By Research:\n",
    "\n",
    "• Region 1: Includes the time when the turbine is starting up;\n",
    "\n",
    "• Region 2: Operational region in which it is desirable to seize as much wind power as possible;\n",
    "\n",
    "• Region 3: Wind speeds are relatively high (rated wind speed) and force the turbine to limit the fraction of wind power captured, for electrical and mechanical safety."
   ]
  },
  {
   "cell_type": "code",
   "execution_count": 322,
   "id": "confused-abuse",
   "metadata": {
    "ExecuteTime": {
     "end_time": "2021-02-02T22:35:03.401651Z",
     "start_time": "2021-02-02T22:35:03.392329Z"
    }
   },
   "outputs": [],
   "source": [
    "#Funtion to analyse by turbine\n",
    "def turbine(turbine_id, df):\n",
    "    new_df = df[df['Turbine_ID'] == turbine_id].sort_index(ascending=True)\n",
    "    return new_df"
   ]
  },
  {
   "cell_type": "code",
   "execution_count": 323,
   "id": "level-society",
   "metadata": {
    "ExecuteTime": {
     "end_time": "2021-02-02T22:35:03.412592Z",
     "start_time": "2021-02-02T22:35:03.406069Z"
    }
   },
   "outputs": [],
   "source": [
    "# Function to find str in columns of df\n",
    "def component(component, col):\n",
    "    pair_comp_col=[]\n",
    "    for i in col:\n",
    "        if component in i:\n",
    "            pair_comp_col.append(i)\n",
    "    return pair_comp_col"
   ]
  },
  {
   "cell_type": "code",
   "execution_count": 324,
   "id": "retired-tunisia",
   "metadata": {
    "ExecuteTime": {
     "end_time": "2021-02-02T22:35:03.421976Z",
     "start_time": "2021-02-02T22:35:03.416499Z"
    }
   },
   "outputs": [],
   "source": [
    "# Function to analyse by component\n",
    "def component_df(component, df):\n",
    "    df_component = df[df['Component'] == component].sort_index(ascending=True)\n",
    "    return df_component"
   ]
  },
  {
   "cell_type": "code",
   "execution_count": 325,
   "id": "charitable-russell",
   "metadata": {
    "ExecuteTime": {
     "end_time": "2021-02-02T22:35:04.270265Z",
     "start_time": "2021-02-02T22:35:03.425283Z"
    }
   },
   "outputs": [],
   "source": [
    "#signals of each turbines\n",
    "t1_df = turbine(1, signals_df)\n",
    "t6_df = turbine(6, signals_df)\n",
    "t7_df = turbine(7, signals_df)\n",
    "t9_df = turbine(9, signals_df)\n",
    "t11_df = turbine(11, signals_df)"
   ]
  },
  {
   "cell_type": "code",
   "execution_count": 326,
   "id": "antique-perry",
   "metadata": {
    "ExecuteTime": {
     "end_time": "2021-02-02T22:35:04.292438Z",
     "start_time": "2021-02-02T22:35:04.273422Z"
    }
   },
   "outputs": [],
   "source": [
    "#Failures of each turbines\n",
    "t1_failures = turbine(1, failures_df)\n",
    "t6_failures = turbine(6, failures_df)\n",
    "t7_failures = turbine(7, failures_df)\n",
    "t9_failures = turbine(9, failures_df)\n",
    "t11_failures = turbine(11, failures_df)"
   ]
  },
  {
   "cell_type": "code",
   "execution_count": 327,
   "id": "growing-blackberry",
   "metadata": {
    "ExecuteTime": {
     "end_time": "2021-02-02T22:35:04.323220Z",
     "start_time": "2021-02-02T22:35:04.303666Z"
    }
   },
   "outputs": [],
   "source": [
    "#Failures of each component\n",
    "df_generator_failures = component_df('GENERATOR', failures_df)\n",
    "df_hydraulic_failures = component_df('HYDRAULIC_GROUP', failures_df)\n",
    "df_bearing_failures = component_df('GENERATOR_BEARING', failures_df)\n",
    "df_gearbox_failures = component_df('GEARBOX', failures_df)\n",
    "df_transformer_failures = component_df('TRANSFORMER', failures_df)"
   ]
  },
  {
   "cell_type": "code",
   "execution_count": 328,
   "id": "tamil-experiment",
   "metadata": {
    "ExecuteTime": {
     "end_time": "2021-02-02T22:35:04.346096Z",
     "start_time": "2021-02-02T22:35:04.333068Z"
    }
   },
   "outputs": [],
   "source": [
    "pair_gen = component('Gen', signals_df.columns)"
   ]
  },
  {
   "cell_type": "code",
   "execution_count": 329,
   "id": "breathing-steel",
   "metadata": {
    "ExecuteTime": {
     "end_time": "2021-02-02T22:35:04.366278Z",
     "start_time": "2021-02-02T22:35:04.354489Z"
    }
   },
   "outputs": [
    {
     "data": {
      "text/plain": [
       "['Gear_Oil_Temp_Avg', 'Gear_Bear_Temp_Avg']"
      ]
     },
     "execution_count": 329,
     "metadata": {},
     "output_type": "execute_result"
    }
   ],
   "source": [
    "pair_gear = component('Gear', signals_df.columns)\n",
    "pair_gear"
   ]
  },
  {
   "cell_type": "code",
   "execution_count": 330,
   "id": "standard-hurricane",
   "metadata": {
    "ExecuteTime": {
     "end_time": "2021-02-02T22:35:04.379821Z",
     "start_time": "2021-02-02T22:35:04.370379Z"
    }
   },
   "outputs": [
    {
     "data": {
      "text/plain": [
       "['HVTrafo_Phase1_Temp_Avg',\n",
       " 'HVTrafo_Phase2_Temp_Avg',\n",
       " 'HVTrafo_Phase3_Temp_Avg']"
      ]
     },
     "execution_count": 330,
     "metadata": {},
     "output_type": "execute_result"
    }
   ],
   "source": [
    "pair_trafo = component('Trafo', signals_df.columns)\n",
    "pair_trafo"
   ]
  },
  {
   "cell_type": "code",
   "execution_count": 331,
   "id": "multiple-waterproof",
   "metadata": {
    "ExecuteTime": {
     "end_time": "2021-02-02T22:35:04.396080Z",
     "start_time": "2021-02-02T22:35:04.387109Z"
    }
   },
   "outputs": [
    {
     "data": {
      "text/plain": [
       "['Hyd_Oil_Temp_Avg']"
      ]
     },
     "execution_count": 331,
     "metadata": {},
     "output_type": "execute_result"
    }
   ],
   "source": [
    "pair_hyd = component('Hyd', signals_df.columns)\n",
    "pair_hyd"
   ]
  },
  {
   "cell_type": "code",
   "execution_count": 332,
   "id": "compressed-transaction",
   "metadata": {
    "ExecuteTime": {
     "end_time": "2021-02-02T22:35:04.431537Z",
     "start_time": "2021-02-02T22:35:04.414096Z"
    }
   },
   "outputs": [
    {
     "data": {
      "text/html": [
       "<div>\n",
       "<style scoped>\n",
       "    .dataframe tbody tr th:only-of-type {\n",
       "        vertical-align: middle;\n",
       "    }\n",
       "\n",
       "    .dataframe tbody tr th {\n",
       "        vertical-align: top;\n",
       "    }\n",
       "\n",
       "    .dataframe thead th {\n",
       "        text-align: right;\n",
       "    }\n",
       "</style>\n",
       "<table border=\"1\" class=\"dataframe\">\n",
       "  <thead>\n",
       "    <tr style=\"text-align: right;\">\n",
       "      <th></th>\n",
       "      <th>Turbine_ID</th>\n",
       "      <th>Component</th>\n",
       "      <th>Remarks</th>\n",
       "    </tr>\n",
       "    <tr>\n",
       "      <th>Timestamp</th>\n",
       "      <th></th>\n",
       "      <th></th>\n",
       "      <th></th>\n",
       "    </tr>\n",
       "  </thead>\n",
       "  <tbody>\n",
       "    <tr>\n",
       "      <th>2016-03-03 19:00:00+00:00</th>\n",
       "      <td>11</td>\n",
       "      <td>GENERATOR</td>\n",
       "      <td>Electric circuit error in generator</td>\n",
       "    </tr>\n",
       "    <tr>\n",
       "      <th>2016-07-11 19:48:00+00:00</th>\n",
       "      <td>6</td>\n",
       "      <td>GENERATOR</td>\n",
       "      <td>Generator replaced</td>\n",
       "    </tr>\n",
       "    <tr>\n",
       "      <th>2016-07-24 17:01:00+00:00</th>\n",
       "      <td>6</td>\n",
       "      <td>GENERATOR</td>\n",
       "      <td>Generator temperature sensor failure</td>\n",
       "    </tr>\n",
       "    <tr>\n",
       "      <th>2016-09-04 08:08:00+00:00</th>\n",
       "      <td>6</td>\n",
       "      <td>GENERATOR</td>\n",
       "      <td>High temperature generator error</td>\n",
       "    </tr>\n",
       "    <tr>\n",
       "      <th>2016-10-02 17:08:00+00:00</th>\n",
       "      <td>6</td>\n",
       "      <td>GENERATOR</td>\n",
       "      <td>Refrigeration system and temperature sensors i...</td>\n",
       "    </tr>\n",
       "  </tbody>\n",
       "</table>\n",
       "</div>"
      ],
      "text/plain": [
       "                           Turbine_ID  Component  \\\n",
       "Timestamp                                          \n",
       "2016-03-03 19:00:00+00:00          11  GENERATOR   \n",
       "2016-07-11 19:48:00+00:00           6  GENERATOR   \n",
       "2016-07-24 17:01:00+00:00           6  GENERATOR   \n",
       "2016-09-04 08:08:00+00:00           6  GENERATOR   \n",
       "2016-10-02 17:08:00+00:00           6  GENERATOR   \n",
       "\n",
       "                                                                     Remarks  \n",
       "Timestamp                                                                     \n",
       "2016-03-03 19:00:00+00:00                Electric circuit error in generator  \n",
       "2016-07-11 19:48:00+00:00                                 Generator replaced  \n",
       "2016-07-24 17:01:00+00:00               Generator temperature sensor failure  \n",
       "2016-09-04 08:08:00+00:00                   High temperature generator error  \n",
       "2016-10-02 17:08:00+00:00  Refrigeration system and temperature sensors i...  "
      ]
     },
     "execution_count": 332,
     "metadata": {},
     "output_type": "execute_result"
    }
   ],
   "source": [
    "df_generator_failures.head()"
   ]
  },
  {
   "cell_type": "markdown",
   "id": "hydraulic-classics",
   "metadata": {},
   "source": [
    "# Analysing by Component"
   ]
  },
  {
   "cell_type": "code",
   "execution_count": 333,
   "id": "hungry-advantage",
   "metadata": {
    "ExecuteTime": {
     "end_time": "2021-02-02T22:35:04.448207Z",
     "start_time": "2021-02-02T22:35:04.435514Z"
    }
   },
   "outputs": [],
   "source": [
    "# I THINK METEREOLOGICAL DF IS REDUDANT. WIND SPEED IS VERY IMPORTANT BUT IS ALSO ALREADY IN SIGNALS DF. AMB TEMP ALSO\n",
    "# Let's only focus on signals_df_2016\n",
    "# Create datasets for each component and label by chosing the correct input variables\n",
    "\n",
    "\n",
    "# Since we don't know if the other variables are related to the failures, we will also take them in consideration\n",
    "# Didn't count with \"production\" - output and most of \"grid\"\n",
    "pair_rot = component('Rtr', signals_df.columns)\n",
    "pair_amb = component('Amb', signals_df.columns)\n",
    "pair_blds = component('Blds', signals_df.columns)\n",
    "pair_cont = component('Cont', signals_df.columns)\n",
    "pair_nac = component('Nac', signals_df.columns)\n",
    "pair_spin = component('Spin', signals_df.columns)\n",
    "pair_bus = component('Busbar', signals_df.columns)"
   ]
  },
  {
   "cell_type": "code",
   "execution_count": 334,
   "id": "monetary-strategy",
   "metadata": {
    "ExecuteTime": {
     "end_time": "2021-02-02T22:35:04.486465Z",
     "start_time": "2021-02-02T22:35:04.452358Z"
    }
   },
   "outputs": [],
   "source": [
    "temp = signals_df_2016[['Turbine_ID']]"
   ]
  },
  {
   "cell_type": "code",
   "execution_count": 335,
   "id": "compound-distributor",
   "metadata": {
    "ExecuteTime": {
     "end_time": "2021-02-02T22:35:06.851177Z",
     "start_time": "2021-02-02T22:35:04.490212Z"
    }
   },
   "outputs": [],
   "source": [
    "df_signals_generator = signals_df_2016[pair_gen + pair_rot + pair_amb + pair_blds + pair_cont + pair_nac + pair_spin + pair_bus]\n",
    "df_signals_gen_bear = signals_df_2016[pair_gen + pair_rot + pair_amb + pair_blds + pair_cont + pair_nac + pair_spin + pair_bus]\n",
    "df_signals_transformer = signals_df_2016[pair_trafo + pair_rot + pair_amb + pair_blds + pair_cont + pair_nac + pair_spin + pair_bus] \n",
    "df_signals_hydraulic = signals_df_2016[pair_hyd + pair_rot + pair_amb + pair_blds + pair_cont + pair_nac + pair_spin + pair_bus] \n",
    "df_signals_gearbox = signals_df_2016[pair_gear + pair_rot + pair_amb + pair_blds + pair_cont + pair_nac + pair_spin + pair_bus]"
   ]
  },
  {
   "cell_type": "code",
   "execution_count": 336,
   "id": "charitable-monitor",
   "metadata": {
    "ExecuteTime": {
     "end_time": "2021-02-02T22:35:06.903997Z",
     "start_time": "2021-02-02T22:35:06.853921Z"
    }
   },
   "outputs": [
    {
     "name": "stderr",
     "output_type": "stream",
     "text": [
      "/home/guilherme/.pyenv/versions/3.7.2/lib/python3.7/site-packages/ipykernel_launcher.py:1: SettingWithCopyWarning: \n",
      "A value is trying to be set on a copy of a slice from a DataFrame.\n",
      "Try using .loc[row_indexer,col_indexer] = value instead\n",
      "\n",
      "See the caveats in the documentation: https://pandas.pydata.org/pandas-docs/stable/user_guide/indexing.html#returning-a-view-versus-a-copy\n",
      "  \"\"\"Entry point for launching an IPython kernel.\n",
      "/home/guilherme/.pyenv/versions/3.7.2/lib/python3.7/site-packages/ipykernel_launcher.py:2: SettingWithCopyWarning: \n",
      "A value is trying to be set on a copy of a slice from a DataFrame.\n",
      "Try using .loc[row_indexer,col_indexer] = value instead\n",
      "\n",
      "See the caveats in the documentation: https://pandas.pydata.org/pandas-docs/stable/user_guide/indexing.html#returning-a-view-versus-a-copy\n",
      "  \n",
      "/home/guilherme/.pyenv/versions/3.7.2/lib/python3.7/site-packages/ipykernel_launcher.py:3: SettingWithCopyWarning: \n",
      "A value is trying to be set on a copy of a slice from a DataFrame.\n",
      "Try using .loc[row_indexer,col_indexer] = value instead\n",
      "\n",
      "See the caveats in the documentation: https://pandas.pydata.org/pandas-docs/stable/user_guide/indexing.html#returning-a-view-versus-a-copy\n",
      "  This is separate from the ipykernel package so we can avoid doing imports until\n",
      "/home/guilherme/.pyenv/versions/3.7.2/lib/python3.7/site-packages/ipykernel_launcher.py:4: SettingWithCopyWarning: \n",
      "A value is trying to be set on a copy of a slice from a DataFrame.\n",
      "Try using .loc[row_indexer,col_indexer] = value instead\n",
      "\n",
      "See the caveats in the documentation: https://pandas.pydata.org/pandas-docs/stable/user_guide/indexing.html#returning-a-view-versus-a-copy\n",
      "  after removing the cwd from sys.path.\n",
      "/home/guilherme/.pyenv/versions/3.7.2/lib/python3.7/site-packages/ipykernel_launcher.py:5: SettingWithCopyWarning: \n",
      "A value is trying to be set on a copy of a slice from a DataFrame.\n",
      "Try using .loc[row_indexer,col_indexer] = value instead\n",
      "\n",
      "See the caveats in the documentation: https://pandas.pydata.org/pandas-docs/stable/user_guide/indexing.html#returning-a-view-versus-a-copy\n",
      "  \"\"\"\n"
     ]
    }
   ],
   "source": [
    "df_signals_generator['Turbine_ID'] = temp['Turbine_ID'].to_numpy()\n",
    "df_signals_gen_bear['Turbine_ID'] = temp['Turbine_ID'].to_numpy()\n",
    "df_signals_transformer['Turbine_ID'] = temp['Turbine_ID'].to_numpy()\n",
    "df_signals_hydraulic['Turbine_ID'] = temp['Turbine_ID'].to_numpy()\n",
    "df_signals_gearbox['Turbine_ID'] = temp['Turbine_ID'].to_numpy()"
   ]
  },
  {
   "cell_type": "code",
   "execution_count": 337,
   "id": "prostate-finding",
   "metadata": {
    "ExecuteTime": {
     "end_time": "2021-02-02T22:35:06.934646Z",
     "start_time": "2021-02-02T22:35:06.907100Z"
    }
   },
   "outputs": [
    {
     "name": "stderr",
     "output_type": "stream",
     "text": [
      "/home/guilherme/.pyenv/versions/3.7.2/lib/python3.7/site-packages/pandas/core/frame.py:4527: SettingWithCopyWarning: \n",
      "A value is trying to be set on a copy of a slice from a DataFrame\n",
      "\n",
      "See the caveats in the documentation: https://pandas.pydata.org/pandas-docs/stable/user_guide/indexing.html#returning-a-view-versus-a-copy\n",
      "  method=method,\n"
     ]
    }
   ],
   "source": [
    "# Classification label\n",
    "failures_generator = failures_df[failures_df['Component'] == 'GENERATOR']\n",
    "failures_generator.replace('GENERATOR', 1, inplace=True)\n",
    "failures_gen_bear = failures_df[failures_df['Component'] == 'GENERATOR_BEARING']\n",
    "failures_gen_bear.replace('GENERATOR_BEARING', 1, inplace=True)\n",
    "failures_hyd = failures_df[failures_df['Component'] == 'HYDRAULIC_GROUP']\n",
    "failures_hyd.replace('HYDRAULIC_GROUP', 1, inplace=True)\n",
    "failures_gearbox = failures_df[failures_df['Component'] == 'GEARBOX']\n",
    "failures_gearbox.replace('GEARBOX', 1, inplace=True)\n",
    "failures_transf = failures_df[failures_df['Component'] == 'TRANSFORMER']\n",
    "failures_transf.replace('TRANSFORMER', 1, inplace=True)"
   ]
  },
  {
   "cell_type": "code",
   "execution_count": 338,
   "id": "synthetic-potential",
   "metadata": {
    "ExecuteTime": {
     "end_time": "2021-02-02T22:35:06.943886Z",
     "start_time": "2021-02-02T22:35:06.937700Z"
    }
   },
   "outputs": [],
   "source": [
    "failures_generator_2016 = failures_generator #.loc[failures_generator.index < '2017']\n",
    "failures_gen_bear_2016 = failures_gen_bear #.loc[failures_gen_bear.index < '2017']\n",
    "failures_hyd_2016 = failures_hyd #.loc[failures_hyd.index < '2017']\n",
    "failures_gearbox_2016 = failures_gearbox #.loc[failures_gearbox.index < '2017']\n",
    "failures_transf_2016 = failures_transf #.loc[failures_transf.index < '2017']"
   ]
  },
  {
   "cell_type": "code",
   "execution_count": 339,
   "id": "czech-douglas",
   "metadata": {
    "ExecuteTime": {
     "end_time": "2021-02-02T22:35:06.968998Z",
     "start_time": "2021-02-02T22:35:06.950266Z"
    }
   },
   "outputs": [
    {
     "data": {
      "text/html": [
       "<div>\n",
       "<style scoped>\n",
       "    .dataframe tbody tr th:only-of-type {\n",
       "        vertical-align: middle;\n",
       "    }\n",
       "\n",
       "    .dataframe tbody tr th {\n",
       "        vertical-align: top;\n",
       "    }\n",
       "\n",
       "    .dataframe thead th {\n",
       "        text-align: right;\n",
       "    }\n",
       "</style>\n",
       "<table border=\"1\" class=\"dataframe\">\n",
       "  <thead>\n",
       "    <tr style=\"text-align: right;\">\n",
       "      <th></th>\n",
       "      <th>Turbine_ID</th>\n",
       "      <th>Component</th>\n",
       "      <th>Remarks</th>\n",
       "    </tr>\n",
       "    <tr>\n",
       "      <th>Timestamp</th>\n",
       "      <th></th>\n",
       "      <th></th>\n",
       "      <th></th>\n",
       "    </tr>\n",
       "  </thead>\n",
       "  <tbody>\n",
       "    <tr>\n",
       "      <th>2016-03-03 19:00:00+00:00</th>\n",
       "      <td>11</td>\n",
       "      <td>1</td>\n",
       "      <td>Electric circuit error in generator</td>\n",
       "    </tr>\n",
       "    <tr>\n",
       "      <th>2016-07-11 19:48:00+00:00</th>\n",
       "      <td>6</td>\n",
       "      <td>1</td>\n",
       "      <td>Generator replaced</td>\n",
       "    </tr>\n",
       "    <tr>\n",
       "      <th>2016-07-24 17:01:00+00:00</th>\n",
       "      <td>6</td>\n",
       "      <td>1</td>\n",
       "      <td>Generator temperature sensor failure</td>\n",
       "    </tr>\n",
       "    <tr>\n",
       "      <th>2016-09-04 08:08:00+00:00</th>\n",
       "      <td>6</td>\n",
       "      <td>1</td>\n",
       "      <td>High temperature generator error</td>\n",
       "    </tr>\n",
       "    <tr>\n",
       "      <th>2016-10-02 17:08:00+00:00</th>\n",
       "      <td>6</td>\n",
       "      <td>1</td>\n",
       "      <td>Refrigeration system and temperature sensors i...</td>\n",
       "    </tr>\n",
       "    <tr>\n",
       "      <th>2016-10-27 16:26:00+00:00</th>\n",
       "      <td>6</td>\n",
       "      <td>1</td>\n",
       "      <td>Generator replaced</td>\n",
       "    </tr>\n",
       "    <tr>\n",
       "      <th>2017-08-21 14:47:00+00:00</th>\n",
       "      <td>7</td>\n",
       "      <td>1</td>\n",
       "      <td>Generator damaged</td>\n",
       "    </tr>\n",
       "  </tbody>\n",
       "</table>\n",
       "</div>"
      ],
      "text/plain": [
       "                           Turbine_ID  Component  \\\n",
       "Timestamp                                          \n",
       "2016-03-03 19:00:00+00:00          11          1   \n",
       "2016-07-11 19:48:00+00:00           6          1   \n",
       "2016-07-24 17:01:00+00:00           6          1   \n",
       "2016-09-04 08:08:00+00:00           6          1   \n",
       "2016-10-02 17:08:00+00:00           6          1   \n",
       "2016-10-27 16:26:00+00:00           6          1   \n",
       "2017-08-21 14:47:00+00:00           7          1   \n",
       "\n",
       "                                                                     Remarks  \n",
       "Timestamp                                                                     \n",
       "2016-03-03 19:00:00+00:00                Electric circuit error in generator  \n",
       "2016-07-11 19:48:00+00:00                                 Generator replaced  \n",
       "2016-07-24 17:01:00+00:00               Generator temperature sensor failure  \n",
       "2016-09-04 08:08:00+00:00                   High temperature generator error  \n",
       "2016-10-02 17:08:00+00:00  Refrigeration system and temperature sensors i...  \n",
       "2016-10-27 16:26:00+00:00                                 Generator replaced  \n",
       "2017-08-21 14:47:00+00:00                                  Generator damaged  "
      ]
     },
     "execution_count": 339,
     "metadata": {},
     "output_type": "execute_result"
    }
   ],
   "source": [
    "failures_generator_2016"
   ]
  },
  {
   "cell_type": "code",
   "execution_count": 340,
   "id": "lasting-stanley",
   "metadata": {
    "ExecuteTime": {
     "end_time": "2021-02-02T22:35:06.997982Z",
     "start_time": "2021-02-02T22:35:06.971736Z"
    }
   },
   "outputs": [],
   "source": [
    "#Reset Index to merge df\n",
    "df_signals_generator.reset_index(inplace=True)\n",
    "df_signals_gen_bear.reset_index(inplace=True)\n",
    "df_signals_transformer.reset_index(inplace=True)\n",
    "df_signals_hydraulic.reset_index(inplace=True)\n",
    "df_signals_gearbox.reset_index(inplace=True)\n",
    "failures_generator_2016.reset_index(inplace=True)\n",
    "failures_gen_bear_2016.reset_index(inplace=True)\n",
    "failures_hyd_2016.reset_index(inplace=True)\n",
    "failures_gearbox_2016.reset_index(inplace=True)\n",
    "failures_transf_2016.reset_index(inplace=True)"
   ]
  },
  {
   "cell_type": "code",
   "execution_count": 341,
   "id": "liked-manchester",
   "metadata": {
    "ExecuteTime": {
     "end_time": "2021-02-02T22:35:07.017504Z",
     "start_time": "2021-02-02T22:35:07.005103Z"
    }
   },
   "outputs": [],
   "source": [
    "#df_signals_generator_final = pd.merge_asof(df_signals_generator, failures_generator_2016, \n",
    " #                                          left_by='Timestamp', right_by='Timestamp', on = 'Turbine_ID', \n",
    "  #                                         direction='nearest')\n",
    "#df_signals_gen_bear_final = pd.merge_asof(df_signals_gen_bear, failures_gen_bear_2016, \n",
    "#                                           left_index=True, right_index=True,  left_by='Turbine_ID', right_by='Turbine_ID',\n",
    "#                                          tolerance=pd.Timedelta(\"5m\"))\n",
    "#df_signals_hyd_final = pd.merge_asof(df_signals_hydraulic, failures_hyd_2016, \n",
    "#                                           left_index=True, right_index=True, by='Turbine_ID', tolerance=pd.Timedelta(\"1d\"))\n",
    "#df_signals_gearbox_final = pd.merge_asof(df_signals_gearbox, failures_gearbox_2016, \n",
    "#                                           left_index=True, right_index=True, by='Turbine_ID', tolerance=pd.Timedelta(\"1d\"))\n",
    "#df_signals_transf_final = pd.merge_asof(df_signals_transformer, failures_transf_2016, \n",
    "#                                           left_index=True, right_index=True, by='Turbine_ID', tolerance=pd.Timedelta(\"1d\"))"
   ]
  },
  {
   "cell_type": "markdown",
   "id": "homeless-street",
   "metadata": {},
   "source": [
    "##### Não estou a conseguir fazer o merge desta forma"
   ]
  },
  {
   "cell_type": "code",
   "execution_count": 342,
   "id": "israeli-supplier",
   "metadata": {
    "ExecuteTime": {
     "end_time": "2021-02-02T22:35:07.091505Z",
     "start_time": "2021-02-02T22:35:07.020828Z"
    }
   },
   "outputs": [],
   "source": [
    "#Reset Index to merge df\n",
    "df_signals_generator.reset_index(inplace=True)\n",
    "df_signals_gen_bear.reset_index(inplace=True)\n",
    "df_signals_transformer.reset_index(inplace=True)\n",
    "df_signals_hydraulic.reset_index(inplace=True)\n",
    "df_signals_gearbox.reset_index(inplace=True)\n",
    "failures_generator_2016.reset_index(inplace=True)\n",
    "failures_gen_bear_2016.reset_index(inplace=True)\n",
    "failures_hyd_2016.reset_index(inplace=True)\n",
    "failures_gearbox_2016.reset_index(inplace=True)\n",
    "failures_transf_2016.reset_index(inplace=True)"
   ]
  },
  {
   "cell_type": "code",
   "execution_count": 343,
   "id": "expected-institution",
   "metadata": {
    "ExecuteTime": {
     "end_time": "2021-02-02T22:35:10.293416Z",
     "start_time": "2021-02-02T22:35:07.095656Z"
    }
   },
   "outputs": [],
   "source": [
    "df_signals_generator_final = df_signals_generator.merge(failures_generator_2016, on=['Timestamp', 'Turbine_ID'], how='outer')\n",
    "df_signals_gen_bear_final = df_signals_gen_bear.merge(failures_gen_bear_2016, on=['Timestamp', 'Turbine_ID'], how='outer')\n",
    "df_signals_hyd_final = df_signals_hydraulic.merge(failures_hyd_2016, on=['Timestamp', 'Turbine_ID'], how='outer')\n",
    "df_signals_gearbox_final = df_signals_gearbox.merge(failures_gearbox_2016, on=['Timestamp', 'Turbine_ID'], how='outer')\n",
    "df_signals_transf_final = df_signals_transformer.merge(failures_transf_2016, on=['Timestamp', 'Turbine_ID'], how='outer')"
   ]
  },
  {
   "cell_type": "code",
   "execution_count": 344,
   "id": "alert-techno",
   "metadata": {
    "ExecuteTime": {
     "end_time": "2021-02-02T22:35:11.471926Z",
     "start_time": "2021-02-02T22:35:10.296892Z"
    }
   },
   "outputs": [],
   "source": [
    "#Drop Remarks, index_x, index_y Columns\n",
    "df_signals_generator_final.drop(columns=['Remarks', 'index_x', 'index_y'], inplace=True)\n",
    "df_signals_gen_bear_final.drop(columns=['Remarks', 'index_x', 'index_y'], inplace=True)\n",
    "df_signals_hyd_final.drop(columns=['Remarks', 'index_x', 'index_y'], inplace=True)\n",
    "df_signals_gearbox_final.drop(columns=['Remarks', 'index_x', 'index_y'], inplace=True)\n",
    "df_signals_transf_final.drop(columns=['Remarks', 'index_x', 'index_y'], inplace=True)"
   ]
  },
  {
   "cell_type": "code",
   "execution_count": 345,
   "id": "ordinary-filing",
   "metadata": {
    "ExecuteTime": {
     "end_time": "2021-02-02T22:35:11.491940Z",
     "start_time": "2021-02-02T22:35:11.474822Z"
    }
   },
   "outputs": [],
   "source": [
    "#Fill na on component column\n",
    "df_signals_generator_final['Component'].fillna(0, inplace=True)\n",
    "df_signals_gen_bear_final['Component'].fillna(0, inplace=True)\n",
    "df_signals_hyd_final['Component'].fillna(0, inplace=True)\n",
    "df_signals_gearbox_final['Component'].fillna(0, inplace=True)\n",
    "df_signals_transf_final['Component'].fillna(0, inplace=True)"
   ]
  },
  {
   "cell_type": "code",
   "execution_count": 346,
   "id": "interstate-hebrew",
   "metadata": {
    "ExecuteTime": {
     "end_time": "2021-02-02T22:35:11.508319Z",
     "start_time": "2021-02-02T22:35:11.495921Z"
    }
   },
   "outputs": [],
   "source": [
    "# Set Timestamp as Index\n",
    "df_signals_generator_final.set_index('Timestamp', inplace=True)\n",
    "df_signals_gen_bear_final.set_index('Timestamp', inplace=True)\n",
    "df_signals_hyd_final.set_index('Timestamp', inplace=True)\n",
    "df_signals_gearbox_final.set_index('Timestamp', inplace=True)\n",
    "df_signals_transf_final.set_index('Timestamp', inplace=True)"
   ]
  },
  {
   "cell_type": "code",
   "execution_count": 347,
   "id": "asian-procurement",
   "metadata": {
    "ExecuteTime": {
     "end_time": "2021-02-02T22:35:12.350611Z",
     "start_time": "2021-02-02T22:35:11.513891Z"
    }
   },
   "outputs": [],
   "source": [
    "# Sort Index\n",
    "df_signals_generator_final.sort_index(inplace=True)\n",
    "df_signals_gen_bear_final.sort_index(inplace=True)                                      \n",
    "df_signals_hyd_final.sort_index(inplace=True)\n",
    "df_signals_gearbox_final.sort_index(inplace=True)\n",
    "df_signals_transf_final.sort_index(inplace=True)"
   ]
  },
  {
   "cell_type": "code",
   "execution_count": 348,
   "id": "conceptual-camera",
   "metadata": {
    "ExecuteTime": {
     "end_time": "2021-02-02T22:35:17.738760Z",
     "start_time": "2021-02-02T22:35:12.359601Z"
    }
   },
   "outputs": [],
   "source": [
    "# Fill na by interpolate\n",
    "df_signals_generator_final = df_signals_generator_final.interpolate()\n",
    "df_signals_gen_bear_final = df_signals_gen_bear_final.interpolate()\n",
    "df_signals_hyd_final = df_signals_hyd_final.interpolate()\n",
    "df_signals_gearbox_final = df_signals_gearbox_final.interpolate()\n",
    "df_signals_transf_final = df_signals_transf_final.interpolate()"
   ]
  },
  {
   "cell_type": "code",
   "execution_count": 349,
   "id": "medium-spell",
   "metadata": {
    "ExecuteTime": {
     "end_time": "2021-02-02T22:35:17.982896Z",
     "start_time": "2021-02-02T22:35:17.741866Z"
    }
   },
   "outputs": [
    {
     "name": "stdout",
     "output_type": "stream",
     "text": [
      "False\n",
      "False\n",
      "False\n",
      "False\n",
      "False\n"
     ]
    }
   ],
   "source": [
    "#Checking null values in DF's\n",
    "print(df_signals_generator_final.isnull().values.any())\n",
    "print(df_signals_gearbox_final.isnull().values.any())\n",
    "print(df_signals_gen_bear_final.isnull().values.any())\n",
    "print(df_signals_hyd_final.isnull().values.any())\n",
    "print(df_signals_transf_final.isnull().values.any())"
   ]
  },
  {
   "cell_type": "code",
   "execution_count": 350,
   "id": "unusual-taste",
   "metadata": {
    "ExecuteTime": {
     "end_time": "2021-02-02T22:35:18.005547Z",
     "start_time": "2021-02-02T22:35:17.994581Z"
    }
   },
   "outputs": [],
   "source": [
    "# DROP ROWS OF TURBINES WHERE IS NO FAILURES ASSOCIATED"
   ]
  },
  {
   "cell_type": "markdown",
   "id": "difficult-herald",
   "metadata": {},
   "source": [
    "# Base Model for Generator Failures 2016"
   ]
  },
  {
   "cell_type": "code",
   "execution_count": 351,
   "id": "mighty-letters",
   "metadata": {
    "ExecuteTime": {
     "end_time": "2021-02-02T22:35:18.153373Z",
     "start_time": "2021-02-02T22:35:18.016578Z"
    }
   },
   "outputs": [],
   "source": [
    "X = df_signals_generator_final.drop(columns='Component')\n",
    "y = df_signals_generator_final['Component']"
   ]
  },
  {
   "cell_type": "code",
   "execution_count": 352,
   "id": "sharp-arctic",
   "metadata": {
    "ExecuteTime": {
     "end_time": "2021-02-02T22:35:18.169532Z",
     "start_time": "2021-02-02T22:35:18.158429Z"
    }
   },
   "outputs": [],
   "source": [
    "### Split Train and Test\n",
    "#split = int(len(X)*0.8)\n",
    "#X_train, X_test = X[:split], X[split:] \n",
    "#y_train, y_test = y[:split], y[split:]"
   ]
  },
  {
   "cell_type": "code",
   "execution_count": 353,
   "id": "every-blond",
   "metadata": {
    "ExecuteTime": {
     "end_time": "2021-02-02T22:35:18.194744Z",
     "start_time": "2021-02-02T22:35:18.175069Z"
    }
   },
   "outputs": [],
   "source": [
    "#Standard Scaler\n",
    "#scaler = StandardScaler()\n",
    "#X_train_scaled = scaler.fit_transform(X_train)\n",
    "#X_test_scaled = scaler.transform(X_test)"
   ]
  },
  {
   "cell_type": "code",
   "execution_count": 354,
   "id": "steady-review",
   "metadata": {
    "ExecuteTime": {
     "end_time": "2021-02-02T22:35:18.208542Z",
     "start_time": "2021-02-02T22:35:18.199808Z"
    }
   },
   "outputs": [],
   "source": [
    "from sklearn.ensemble import RandomForestClassifier\n",
    "from sklearn.metrics import accuracy_score\n",
    "\n",
    "#rnd_clf = RandomForestClassifier(n_estimators=500, n_jobs=-1)\n",
    "#rnd_clf.fit(X_train, y_train)"
   ]
  },
  {
   "cell_type": "code",
   "execution_count": 355,
   "id": "close-period",
   "metadata": {
    "ExecuteTime": {
     "end_time": "2021-02-02T22:35:18.219023Z",
     "start_time": "2021-02-02T22:35:18.212702Z"
    }
   },
   "outputs": [],
   "source": [
    "#y_pred_test = rnd_clf.predict(X_test)"
   ]
  },
  {
   "cell_type": "code",
   "execution_count": 356,
   "id": "usual-flashing",
   "metadata": {
    "ExecuteTime": {
     "end_time": "2021-02-02T22:35:18.238910Z",
     "start_time": "2021-02-02T22:35:18.223507Z"
    }
   },
   "outputs": [],
   "source": [
    "#accuracy_score(y_test, y_pred_test)"
   ]
  },
  {
   "cell_type": "markdown",
   "id": "framed-malawi",
   "metadata": {},
   "source": [
    "# Label RUL"
   ]
  },
  {
   "cell_type": "code",
   "execution_count": 357,
   "id": "presidential-mechanism",
   "metadata": {
    "ExecuteTime": {
     "end_time": "2021-02-02T22:35:18.275478Z",
     "start_time": "2021-02-02T22:35:18.246594Z"
    }
   },
   "outputs": [
    {
     "data": {
      "text/plain": [
       "((434146, 32), (434152, 44), (434150, 44), (434150, 31), (434148, 33))"
      ]
     },
     "execution_count": 357,
     "metadata": {},
     "output_type": "execute_result"
    }
   ],
   "source": [
    "# Creating DF's for Regression Problem Approach\n",
    "df_signals_gearbox_final.shape, df_signals_generator_final.shape, df_signals_gen_bear_final.shape, df_signals_hyd_final.shape, df_signals_transf_final.shape"
   ]
  },
  {
   "cell_type": "code",
   "execution_count": 358,
   "id": "compound-tsunami",
   "metadata": {
    "ExecuteTime": {
     "end_time": "2021-02-02T22:35:18.314730Z",
     "start_time": "2021-02-02T22:35:18.285477Z"
    }
   },
   "outputs": [
    {
     "data": {
      "text/plain": [
       "11    87249\n",
       "7     87208\n",
       "9     87156\n",
       "1     87146\n",
       "6     85393\n",
       "Name: Turbine_ID, dtype: int64"
      ]
     },
     "execution_count": 358,
     "metadata": {},
     "output_type": "execute_result"
    }
   ],
   "source": [
    "df_signals_generator_final['Turbine_ID'].value_counts()"
   ]
  },
  {
   "cell_type": "markdown",
   "id": "relative-beast",
   "metadata": {},
   "source": [
    "# DF RUL Failures Generator"
   ]
  },
  {
   "cell_type": "code",
   "execution_count": 359,
   "id": "gentle-destination",
   "metadata": {
    "ExecuteTime": {
     "end_time": "2021-02-02T22:35:20.822601Z",
     "start_time": "2021-02-02T22:35:18.320044Z"
    }
   },
   "outputs": [],
   "source": [
    "df_signals_generator_final = df_signals_generator_final.groupby(by=['Timestamp','Turbine_ID']).mean()"
   ]
  },
  {
   "cell_type": "code",
   "execution_count": 360,
   "id": "temporal-river",
   "metadata": {
    "ExecuteTime": {
     "end_time": "2021-02-02T22:35:21.262219Z",
     "start_time": "2021-02-02T22:35:20.825559Z"
    }
   },
   "outputs": [],
   "source": [
    "df_signals_generator_final.sort_values(['Turbine_ID','Timestamp'], inplace=True)"
   ]
  },
  {
   "cell_type": "code",
   "execution_count": 361,
   "id": "tired-cleaner",
   "metadata": {
    "ExecuteTime": {
     "end_time": "2021-02-02T22:35:21.321611Z",
     "start_time": "2021-02-02T22:35:21.270243Z"
    }
   },
   "outputs": [],
   "source": [
    "df_signals_generator_final.reset_index(inplace=True)"
   ]
  },
  {
   "cell_type": "code",
   "execution_count": 362,
   "id": "apparent-corner",
   "metadata": {
    "ExecuteTime": {
     "end_time": "2021-02-02T22:35:21.413567Z",
     "start_time": "2021-02-02T22:35:21.326897Z"
    }
   },
   "outputs": [],
   "source": [
    "#DF Signals Generator failures on turbine 6 and 11 in 2016\n",
    "df_signals_generator_t6 = df_signals_generator_final[df_signals_generator_final['Turbine_ID'] == 6]\n",
    "df_signals_generator_t11 = df_signals_generator_final[df_signals_generator_final['Turbine_ID'] == 11]\n",
    "df_signals_generator_t7 = df_signals_generator_final[df_signals_generator_final['Turbine_ID'] == 7]"
   ]
  },
  {
   "cell_type": "code",
   "execution_count": 363,
   "id": "fundamental-christopher",
   "metadata": {
    "ExecuteTime": {
     "end_time": "2021-02-02T22:35:21.429985Z",
     "start_time": "2021-02-02T22:35:21.419756Z"
    }
   },
   "outputs": [],
   "source": [
    "index_list = df_signals_generator_t6.loc[df_signals_generator_t6['Component'] == 1]"
   ]
  },
  {
   "cell_type": "code",
   "execution_count": 364,
   "id": "representative-jimmy",
   "metadata": {
    "ExecuteTime": {
     "end_time": "2021-02-02T22:35:21.450480Z",
     "start_time": "2021-02-02T22:35:21.438963Z"
    }
   },
   "outputs": [
    {
     "name": "stderr",
     "output_type": "stream",
     "text": [
      "/home/guilherme/.pyenv/versions/3.7.2/lib/python3.7/site-packages/ipykernel_launcher.py:1: SettingWithCopyWarning: \n",
      "A value is trying to be set on a copy of a slice from a DataFrame.\n",
      "Try using .loc[row_indexer,col_indexer] = value instead\n",
      "\n",
      "See the caveats in the documentation: https://pandas.pydata.org/pandas-docs/stable/user_guide/indexing.html#returning-a-view-versus-a-copy\n",
      "  \"\"\"Entry point for launching an IPython kernel.\n"
     ]
    }
   ],
   "source": [
    "index_list['date'] = index_list['Timestamp']"
   ]
  },
  {
   "cell_type": "code",
   "execution_count": 365,
   "id": "stuffed-waters",
   "metadata": {
    "ExecuteTime": {
     "end_time": "2021-02-02T22:35:21.464389Z",
     "start_time": "2021-02-02T22:35:21.455348Z"
    }
   },
   "outputs": [],
   "source": [
    "index_list = index_list[['Timestamp','date']]"
   ]
  },
  {
   "cell_type": "code",
   "execution_count": 366,
   "id": "complicated-collector",
   "metadata": {
    "ExecuteTime": {
     "end_time": "2021-02-02T22:35:21.529036Z",
     "start_time": "2021-02-02T22:35:21.468536Z"
    }
   },
   "outputs": [],
   "source": [
    "df = df_signals_generator_t6.merge(index_list, on=['Timestamp'], how='left')"
   ]
  },
  {
   "cell_type": "code",
   "execution_count": 367,
   "id": "empty-examination",
   "metadata": {
    "ExecuteTime": {
     "end_time": "2021-02-02T22:35:21.558966Z",
     "start_time": "2021-02-02T22:35:21.532403Z"
    }
   },
   "outputs": [],
   "source": [
    "df_generator_t6 = df.fillna(method='bfill')"
   ]
  },
  {
   "cell_type": "code",
   "execution_count": 368,
   "id": "strange-jungle",
   "metadata": {
    "ExecuteTime": {
     "end_time": "2021-02-02T22:35:21.579827Z",
     "start_time": "2021-02-02T22:35:21.562857Z"
    }
   },
   "outputs": [],
   "source": [
    "df_generator_t6['TTF'] = df_generator_t6['date'] - df_generator_t6['Timestamp'] "
   ]
  },
  {
   "cell_type": "code",
   "execution_count": 369,
   "id": "objective-hardware",
   "metadata": {
    "ExecuteTime": {
     "end_time": "2021-02-02T22:35:21.642414Z",
     "start_time": "2021-02-02T22:35:21.583866Z"
    }
   },
   "outputs": [],
   "source": [
    "df_generator_t6 = df_generator_t6.drop(columns='date')"
   ]
  },
  {
   "cell_type": "code",
   "execution_count": 370,
   "id": "laden-wayne",
   "metadata": {
    "ExecuteTime": {
     "end_time": "2021-02-02T22:35:21.680127Z",
     "start_time": "2021-02-02T22:35:21.653071Z"
    }
   },
   "outputs": [],
   "source": [
    "index_list_t11 = df_signals_generator_t11.loc[df_signals_generator_t11['Component'] == 1]"
   ]
  },
  {
   "cell_type": "code",
   "execution_count": 371,
   "id": "radical-asian",
   "metadata": {
    "ExecuteTime": {
     "end_time": "2021-02-02T22:35:21.694413Z",
     "start_time": "2021-02-02T22:35:21.685105Z"
    }
   },
   "outputs": [
    {
     "name": "stderr",
     "output_type": "stream",
     "text": [
      "/home/guilherme/.pyenv/versions/3.7.2/lib/python3.7/site-packages/ipykernel_launcher.py:1: SettingWithCopyWarning: \n",
      "A value is trying to be set on a copy of a slice from a DataFrame.\n",
      "Try using .loc[row_indexer,col_indexer] = value instead\n",
      "\n",
      "See the caveats in the documentation: https://pandas.pydata.org/pandas-docs/stable/user_guide/indexing.html#returning-a-view-versus-a-copy\n",
      "  \"\"\"Entry point for launching an IPython kernel.\n"
     ]
    }
   ],
   "source": [
    "index_list_t11['date'] = index_list_t11['Timestamp']"
   ]
  },
  {
   "cell_type": "code",
   "execution_count": 372,
   "id": "cardiac-rapid",
   "metadata": {
    "ExecuteTime": {
     "end_time": "2021-02-02T22:35:21.708717Z",
     "start_time": "2021-02-02T22:35:21.700513Z"
    }
   },
   "outputs": [],
   "source": [
    "index_list_t11 = index_list_t11[['Timestamp','date']]"
   ]
  },
  {
   "cell_type": "code",
   "execution_count": 373,
   "id": "differential-appointment",
   "metadata": {
    "ExecuteTime": {
     "end_time": "2021-02-02T22:35:21.793170Z",
     "start_time": "2021-02-02T22:35:21.736664Z"
    }
   },
   "outputs": [],
   "source": [
    "df = df_signals_generator_t11.merge(index_list_t11, on=['Timestamp'], how='left')"
   ]
  },
  {
   "cell_type": "code",
   "execution_count": 374,
   "id": "pointed-deadline",
   "metadata": {
    "ExecuteTime": {
     "end_time": "2021-02-02T22:35:21.833433Z",
     "start_time": "2021-02-02T22:35:21.801770Z"
    }
   },
   "outputs": [],
   "source": [
    "df_generator_t11 = df.fillna(method='bfill')"
   ]
  },
  {
   "cell_type": "code",
   "execution_count": 375,
   "id": "hawaiian-springfield",
   "metadata": {
    "ExecuteTime": {
     "end_time": "2021-02-02T22:35:21.868915Z",
     "start_time": "2021-02-02T22:35:21.837280Z"
    }
   },
   "outputs": [],
   "source": [
    "df_generator_t11['TTF'] = df_generator_t11['date'] - df_generator_t11['Timestamp'] "
   ]
  },
  {
   "cell_type": "code",
   "execution_count": 376,
   "id": "vulnerable-burst",
   "metadata": {
    "ExecuteTime": {
     "end_time": "2021-02-02T22:35:21.927461Z",
     "start_time": "2021-02-02T22:35:21.873182Z"
    }
   },
   "outputs": [],
   "source": [
    "df_generator_t11 = df_generator_t11.drop(columns='date')"
   ]
  },
  {
   "cell_type": "code",
   "execution_count": 377,
   "id": "corrected-insured",
   "metadata": {
    "ExecuteTime": {
     "end_time": "2021-02-02T22:35:21.948260Z",
     "start_time": "2021-02-02T22:35:21.936188Z"
    }
   },
   "outputs": [
    {
     "data": {
      "text/plain": [
       "((87243, 46), (85387, 46))"
      ]
     },
     "execution_count": 377,
     "metadata": {},
     "output_type": "execute_result"
    }
   ],
   "source": [
    "df_generator_t11.shape, df_generator_t6.shape"
   ]
  },
  {
   "cell_type": "code",
   "execution_count": 378,
   "id": "periodic-approval",
   "metadata": {
    "ExecuteTime": {
     "end_time": "2021-02-02T22:35:22.084251Z",
     "start_time": "2021-02-02T22:35:21.960026Z"
    }
   },
   "outputs": [
    {
     "name": "stderr",
     "output_type": "stream",
     "text": [
      "/home/guilherme/.pyenv/versions/3.7.2/lib/python3.7/site-packages/ipykernel_launcher.py:2: SettingWithCopyWarning: \n",
      "A value is trying to be set on a copy of a slice from a DataFrame.\n",
      "Try using .loc[row_indexer,col_indexer] = value instead\n",
      "\n",
      "See the caveats in the documentation: https://pandas.pydata.org/pandas-docs/stable/user_guide/indexing.html#returning-a-view-versus-a-copy\n",
      "  \n"
     ]
    }
   ],
   "source": [
    "index_list_t7 = df_signals_generator_t7.loc[df_signals_generator_t7['Component'] == 1]\n",
    "index_list_t7['date'] = index_list_t7['Timestamp']\n",
    "index_list_t7 = index_list_t7[['Timestamp','date']]\n",
    "df = df_signals_generator_t7.merge(index_list_t7, on=['Timestamp'], how='left')\n",
    "df_generator_t7 = df.fillna(method='bfill')\n",
    "df_generator_t7['TTF'] = df_generator_t7['date'] - df_generator_t7['Timestamp'] \n",
    "df_generator_t7 = df_generator_t7.drop(columns='date')"
   ]
  },
  {
   "cell_type": "code",
   "execution_count": 379,
   "id": "confused-helping",
   "metadata": {
    "ExecuteTime": {
     "end_time": "2021-02-02T22:35:22.121739Z",
     "start_time": "2021-02-02T22:35:22.089419Z"
    }
   },
   "outputs": [],
   "source": [
    "generator_final = pd.concat([df_generator_t6, df_generator_t7, df_generator_t11])"
   ]
  },
  {
   "cell_type": "code",
   "execution_count": 380,
   "id": "included-cleaning",
   "metadata": {
    "ExecuteTime": {
     "end_time": "2021-02-02T22:35:22.381154Z",
     "start_time": "2021-02-02T22:35:22.130787Z"
    }
   },
   "outputs": [
    {
     "data": {
      "text/html": [
       "<div>\n",
       "<style scoped>\n",
       "    .dataframe tbody tr th:only-of-type {\n",
       "        vertical-align: middle;\n",
       "    }\n",
       "\n",
       "    .dataframe tbody tr th {\n",
       "        vertical-align: top;\n",
       "    }\n",
       "\n",
       "    .dataframe thead th {\n",
       "        text-align: right;\n",
       "    }\n",
       "</style>\n",
       "<table border=\"1\" class=\"dataframe\">\n",
       "  <thead>\n",
       "    <tr style=\"text-align: right;\">\n",
       "      <th></th>\n",
       "      <th>Timestamp</th>\n",
       "      <th>Turbine_ID</th>\n",
       "      <th>Gen_RPM_Max</th>\n",
       "      <th>Gen_RPM_Min</th>\n",
       "      <th>Gen_RPM_Avg</th>\n",
       "      <th>Gen_RPM_Std</th>\n",
       "      <th>Gen_Bear_Temp_Avg</th>\n",
       "      <th>Gen_Phase1_Temp_Avg</th>\n",
       "      <th>Gen_Phase2_Temp_Avg</th>\n",
       "      <th>Gen_Phase3_Temp_Avg</th>\n",
       "      <th>...</th>\n",
       "      <th>Cont_Hub_Temp_Avg</th>\n",
       "      <th>Cont_VCP_Temp_Avg</th>\n",
       "      <th>Cont_VCP_ChokcoilTemp_Avg</th>\n",
       "      <th>Cont_VCP_WtrTemp_Avg</th>\n",
       "      <th>Nac_Temp_Avg</th>\n",
       "      <th>Nac_Direction_Avg</th>\n",
       "      <th>Spin_Temp_Avg</th>\n",
       "      <th>Grd_Busbar_Temp_Avg</th>\n",
       "      <th>Component</th>\n",
       "      <th>TTF</th>\n",
       "    </tr>\n",
       "  </thead>\n",
       "  <tbody>\n",
       "    <tr>\n",
       "      <th>0</th>\n",
       "      <td>2016-01-01 00:00:00+00:00</td>\n",
       "      <td>6</td>\n",
       "      <td>1270.0</td>\n",
       "      <td>1232.8</td>\n",
       "      <td>1248.5</td>\n",
       "      <td>6.8</td>\n",
       "      <td>42.0</td>\n",
       "      <td>51.0</td>\n",
       "      <td>52.0</td>\n",
       "      <td>53.0</td>\n",
       "      <td>...</td>\n",
       "      <td>28.0</td>\n",
       "      <td>38.0</td>\n",
       "      <td>96.0</td>\n",
       "      <td>38.0</td>\n",
       "      <td>29.0</td>\n",
       "      <td>204.6</td>\n",
       "      <td>20.0</td>\n",
       "      <td>37.0</td>\n",
       "      <td>0.0</td>\n",
       "      <td>192 days 19:48:00</td>\n",
       "    </tr>\n",
       "    <tr>\n",
       "      <th>1</th>\n",
       "      <td>2016-01-01 00:10:00+00:00</td>\n",
       "      <td>6</td>\n",
       "      <td>1429.7</td>\n",
       "      <td>203.9</td>\n",
       "      <td>1154.1</td>\n",
       "      <td>271.7</td>\n",
       "      <td>42.0</td>\n",
       "      <td>51.0</td>\n",
       "      <td>52.0</td>\n",
       "      <td>52.0</td>\n",
       "      <td>...</td>\n",
       "      <td>28.0</td>\n",
       "      <td>38.0</td>\n",
       "      <td>96.0</td>\n",
       "      <td>37.0</td>\n",
       "      <td>29.0</td>\n",
       "      <td>210.5</td>\n",
       "      <td>20.0</td>\n",
       "      <td>37.0</td>\n",
       "      <td>0.0</td>\n",
       "      <td>192 days 19:38:00</td>\n",
       "    </tr>\n",
       "    <tr>\n",
       "      <th>2</th>\n",
       "      <td>2016-01-01 00:20:00+00:00</td>\n",
       "      <td>6</td>\n",
       "      <td>1360.5</td>\n",
       "      <td>250.3</td>\n",
       "      <td>1041.4</td>\n",
       "      <td>382.7</td>\n",
       "      <td>42.0</td>\n",
       "      <td>50.0</td>\n",
       "      <td>51.0</td>\n",
       "      <td>51.0</td>\n",
       "      <td>...</td>\n",
       "      <td>27.0</td>\n",
       "      <td>38.0</td>\n",
       "      <td>93.0</td>\n",
       "      <td>39.0</td>\n",
       "      <td>29.0</td>\n",
       "      <td>199.0</td>\n",
       "      <td>20.0</td>\n",
       "      <td>37.0</td>\n",
       "      <td>0.0</td>\n",
       "      <td>192 days 19:28:00</td>\n",
       "    </tr>\n",
       "    <tr>\n",
       "      <th>3</th>\n",
       "      <td>2016-01-01 00:30:00+00:00</td>\n",
       "      <td>6</td>\n",
       "      <td>1399.2</td>\n",
       "      <td>1228.8</td>\n",
       "      <td>1252.5</td>\n",
       "      <td>16.5</td>\n",
       "      <td>42.0</td>\n",
       "      <td>49.0</td>\n",
       "      <td>50.0</td>\n",
       "      <td>50.0</td>\n",
       "      <td>...</td>\n",
       "      <td>27.0</td>\n",
       "      <td>38.0</td>\n",
       "      <td>92.0</td>\n",
       "      <td>39.0</td>\n",
       "      <td>29.0</td>\n",
       "      <td>205.6</td>\n",
       "      <td>20.0</td>\n",
       "      <td>37.0</td>\n",
       "      <td>0.0</td>\n",
       "      <td>192 days 19:18:00</td>\n",
       "    </tr>\n",
       "    <tr>\n",
       "      <th>4</th>\n",
       "      <td>2016-01-01 00:40:00+00:00</td>\n",
       "      <td>6</td>\n",
       "      <td>1302.7</td>\n",
       "      <td>1225.1</td>\n",
       "      <td>1257.6</td>\n",
       "      <td>13.4</td>\n",
       "      <td>41.0</td>\n",
       "      <td>50.0</td>\n",
       "      <td>50.0</td>\n",
       "      <td>51.0</td>\n",
       "      <td>...</td>\n",
       "      <td>27.0</td>\n",
       "      <td>38.0</td>\n",
       "      <td>94.0</td>\n",
       "      <td>38.0</td>\n",
       "      <td>29.0</td>\n",
       "      <td>207.4</td>\n",
       "      <td>20.0</td>\n",
       "      <td>37.0</td>\n",
       "      <td>0.0</td>\n",
       "      <td>192 days 19:08:00</td>\n",
       "    </tr>\n",
       "    <tr>\n",
       "      <th>...</th>\n",
       "      <td>...</td>\n",
       "      <td>...</td>\n",
       "      <td>...</td>\n",
       "      <td>...</td>\n",
       "      <td>...</td>\n",
       "      <td>...</td>\n",
       "      <td>...</td>\n",
       "      <td>...</td>\n",
       "      <td>...</td>\n",
       "      <td>...</td>\n",
       "      <td>...</td>\n",
       "      <td>...</td>\n",
       "      <td>...</td>\n",
       "      <td>...</td>\n",
       "      <td>...</td>\n",
       "      <td>...</td>\n",
       "      <td>...</td>\n",
       "      <td>...</td>\n",
       "      <td>...</td>\n",
       "      <td>...</td>\n",
       "      <td>...</td>\n",
       "    </tr>\n",
       "    <tr>\n",
       "      <th>87238</th>\n",
       "      <td>2017-08-31 23:20:00+00:00</td>\n",
       "      <td>11</td>\n",
       "      <td>1434.3</td>\n",
       "      <td>1243.1</td>\n",
       "      <td>1286.1</td>\n",
       "      <td>46.8</td>\n",
       "      <td>43.0</td>\n",
       "      <td>56.0</td>\n",
       "      <td>57.0</td>\n",
       "      <td>56.0</td>\n",
       "      <td>...</td>\n",
       "      <td>34.0</td>\n",
       "      <td>44.0</td>\n",
       "      <td>70.0</td>\n",
       "      <td>40.0</td>\n",
       "      <td>31.0</td>\n",
       "      <td>117.5</td>\n",
       "      <td>28.0</td>\n",
       "      <td>40.0</td>\n",
       "      <td>0.0</td>\n",
       "      <td>NaT</td>\n",
       "    </tr>\n",
       "    <tr>\n",
       "      <th>87239</th>\n",
       "      <td>2017-08-31 23:30:00+00:00</td>\n",
       "      <td>11</td>\n",
       "      <td>1265.2</td>\n",
       "      <td>1238.6</td>\n",
       "      <td>1249.8</td>\n",
       "      <td>4.1</td>\n",
       "      <td>43.0</td>\n",
       "      <td>57.0</td>\n",
       "      <td>58.0</td>\n",
       "      <td>58.0</td>\n",
       "      <td>...</td>\n",
       "      <td>34.0</td>\n",
       "      <td>44.0</td>\n",
       "      <td>73.0</td>\n",
       "      <td>40.0</td>\n",
       "      <td>31.0</td>\n",
       "      <td>117.5</td>\n",
       "      <td>28.0</td>\n",
       "      <td>41.0</td>\n",
       "      <td>0.0</td>\n",
       "      <td>NaT</td>\n",
       "    </tr>\n",
       "    <tr>\n",
       "      <th>87240</th>\n",
       "      <td>2017-08-31 23:40:00+00:00</td>\n",
       "      <td>11</td>\n",
       "      <td>1264.6</td>\n",
       "      <td>1235.1</td>\n",
       "      <td>1248.8</td>\n",
       "      <td>4.7</td>\n",
       "      <td>44.0</td>\n",
       "      <td>58.0</td>\n",
       "      <td>59.0</td>\n",
       "      <td>59.0</td>\n",
       "      <td>...</td>\n",
       "      <td>33.0</td>\n",
       "      <td>44.0</td>\n",
       "      <td>76.0</td>\n",
       "      <td>39.0</td>\n",
       "      <td>31.0</td>\n",
       "      <td>116.0</td>\n",
       "      <td>28.0</td>\n",
       "      <td>41.0</td>\n",
       "      <td>0.0</td>\n",
       "      <td>NaT</td>\n",
       "    </tr>\n",
       "    <tr>\n",
       "      <th>87241</th>\n",
       "      <td>2017-08-31 23:50:00+00:00</td>\n",
       "      <td>11</td>\n",
       "      <td>1281.4</td>\n",
       "      <td>1231.9</td>\n",
       "      <td>1250.5</td>\n",
       "      <td>6.3</td>\n",
       "      <td>45.0</td>\n",
       "      <td>59.0</td>\n",
       "      <td>60.0</td>\n",
       "      <td>60.0</td>\n",
       "      <td>...</td>\n",
       "      <td>33.0</td>\n",
       "      <td>45.0</td>\n",
       "      <td>78.0</td>\n",
       "      <td>39.0</td>\n",
       "      <td>31.0</td>\n",
       "      <td>102.9</td>\n",
       "      <td>28.0</td>\n",
       "      <td>41.0</td>\n",
       "      <td>0.0</td>\n",
       "      <td>NaT</td>\n",
       "    </tr>\n",
       "    <tr>\n",
       "      <th>87242</th>\n",
       "      <td>2017-09-01 00:00:00+00:00</td>\n",
       "      <td>11</td>\n",
       "      <td>1266.3</td>\n",
       "      <td>1234.3</td>\n",
       "      <td>1250.6</td>\n",
       "      <td>5.1</td>\n",
       "      <td>46.0</td>\n",
       "      <td>60.0</td>\n",
       "      <td>61.0</td>\n",
       "      <td>61.0</td>\n",
       "      <td>...</td>\n",
       "      <td>33.0</td>\n",
       "      <td>45.0</td>\n",
       "      <td>80.0</td>\n",
       "      <td>39.0</td>\n",
       "      <td>31.0</td>\n",
       "      <td>96.8</td>\n",
       "      <td>28.0</td>\n",
       "      <td>41.0</td>\n",
       "      <td>0.0</td>\n",
       "      <td>NaT</td>\n",
       "    </tr>\n",
       "  </tbody>\n",
       "</table>\n",
       "<p>259832 rows × 46 columns</p>\n",
       "</div>"
      ],
      "text/plain": [
       "                      Timestamp  Turbine_ID  Gen_RPM_Max  Gen_RPM_Min  \\\n",
       "0     2016-01-01 00:00:00+00:00           6       1270.0       1232.8   \n",
       "1     2016-01-01 00:10:00+00:00           6       1429.7        203.9   \n",
       "2     2016-01-01 00:20:00+00:00           6       1360.5        250.3   \n",
       "3     2016-01-01 00:30:00+00:00           6       1399.2       1228.8   \n",
       "4     2016-01-01 00:40:00+00:00           6       1302.7       1225.1   \n",
       "...                         ...         ...          ...          ...   \n",
       "87238 2017-08-31 23:20:00+00:00          11       1434.3       1243.1   \n",
       "87239 2017-08-31 23:30:00+00:00          11       1265.2       1238.6   \n",
       "87240 2017-08-31 23:40:00+00:00          11       1264.6       1235.1   \n",
       "87241 2017-08-31 23:50:00+00:00          11       1281.4       1231.9   \n",
       "87242 2017-09-01 00:00:00+00:00          11       1266.3       1234.3   \n",
       "\n",
       "       Gen_RPM_Avg  Gen_RPM_Std  Gen_Bear_Temp_Avg  Gen_Phase1_Temp_Avg  \\\n",
       "0           1248.5          6.8               42.0                 51.0   \n",
       "1           1154.1        271.7               42.0                 51.0   \n",
       "2           1041.4        382.7               42.0                 50.0   \n",
       "3           1252.5         16.5               42.0                 49.0   \n",
       "4           1257.6         13.4               41.0                 50.0   \n",
       "...            ...          ...                ...                  ...   \n",
       "87238       1286.1         46.8               43.0                 56.0   \n",
       "87239       1249.8          4.1               43.0                 57.0   \n",
       "87240       1248.8          4.7               44.0                 58.0   \n",
       "87241       1250.5          6.3               45.0                 59.0   \n",
       "87242       1250.6          5.1               46.0                 60.0   \n",
       "\n",
       "       Gen_Phase2_Temp_Avg  Gen_Phase3_Temp_Avg  ...  Cont_Hub_Temp_Avg  \\\n",
       "0                     52.0                 53.0  ...               28.0   \n",
       "1                     52.0                 52.0  ...               28.0   \n",
       "2                     51.0                 51.0  ...               27.0   \n",
       "3                     50.0                 50.0  ...               27.0   \n",
       "4                     50.0                 51.0  ...               27.0   \n",
       "...                    ...                  ...  ...                ...   \n",
       "87238                 57.0                 56.0  ...               34.0   \n",
       "87239                 58.0                 58.0  ...               34.0   \n",
       "87240                 59.0                 59.0  ...               33.0   \n",
       "87241                 60.0                 60.0  ...               33.0   \n",
       "87242                 61.0                 61.0  ...               33.0   \n",
       "\n",
       "       Cont_VCP_Temp_Avg  Cont_VCP_ChokcoilTemp_Avg  Cont_VCP_WtrTemp_Avg  \\\n",
       "0                   38.0                       96.0                  38.0   \n",
       "1                   38.0                       96.0                  37.0   \n",
       "2                   38.0                       93.0                  39.0   \n",
       "3                   38.0                       92.0                  39.0   \n",
       "4                   38.0                       94.0                  38.0   \n",
       "...                  ...                        ...                   ...   \n",
       "87238               44.0                       70.0                  40.0   \n",
       "87239               44.0                       73.0                  40.0   \n",
       "87240               44.0                       76.0                  39.0   \n",
       "87241               45.0                       78.0                  39.0   \n",
       "87242               45.0                       80.0                  39.0   \n",
       "\n",
       "       Nac_Temp_Avg  Nac_Direction_Avg  Spin_Temp_Avg  Grd_Busbar_Temp_Avg  \\\n",
       "0              29.0              204.6           20.0                 37.0   \n",
       "1              29.0              210.5           20.0                 37.0   \n",
       "2              29.0              199.0           20.0                 37.0   \n",
       "3              29.0              205.6           20.0                 37.0   \n",
       "4              29.0              207.4           20.0                 37.0   \n",
       "...             ...                ...            ...                  ...   \n",
       "87238          31.0              117.5           28.0                 40.0   \n",
       "87239          31.0              117.5           28.0                 41.0   \n",
       "87240          31.0              116.0           28.0                 41.0   \n",
       "87241          31.0              102.9           28.0                 41.0   \n",
       "87242          31.0               96.8           28.0                 41.0   \n",
       "\n",
       "       Component               TTF  \n",
       "0            0.0 192 days 19:48:00  \n",
       "1            0.0 192 days 19:38:00  \n",
       "2            0.0 192 days 19:28:00  \n",
       "3            0.0 192 days 19:18:00  \n",
       "4            0.0 192 days 19:08:00  \n",
       "...          ...               ...  \n",
       "87238        0.0               NaT  \n",
       "87239        0.0               NaT  \n",
       "87240        0.0               NaT  \n",
       "87241        0.0               NaT  \n",
       "87242        0.0               NaT  \n",
       "\n",
       "[259832 rows x 46 columns]"
      ]
     },
     "execution_count": 380,
     "metadata": {},
     "output_type": "execute_result"
    }
   ],
   "source": [
    "generator_final"
   ]
  },
  {
   "cell_type": "markdown",
   "id": "quiet-closer",
   "metadata": {},
   "source": [
    "# DF RUL Failures Gen Bear"
   ]
  },
  {
   "cell_type": "code",
   "execution_count": 381,
   "id": "distant-optics",
   "metadata": {
    "ExecuteTime": {
     "end_time": "2021-02-02T22:35:23.616932Z",
     "start_time": "2021-02-02T22:35:22.391127Z"
    }
   },
   "outputs": [],
   "source": [
    "df_signals_gen_bear_final = df_signals_gen_bear_final.groupby(by=['Timestamp','Turbine_ID']).mean()"
   ]
  },
  {
   "cell_type": "code",
   "execution_count": 382,
   "id": "computational-radical",
   "metadata": {
    "ExecuteTime": {
     "end_time": "2021-02-02T22:35:24.065444Z",
     "start_time": "2021-02-02T22:35:23.623825Z"
    }
   },
   "outputs": [],
   "source": [
    "df_signals_gen_bear_final.sort_values(['Turbine_ID','Timestamp'], inplace=True)"
   ]
  },
  {
   "cell_type": "code",
   "execution_count": 383,
   "id": "rolled-tablet",
   "metadata": {
    "ExecuteTime": {
     "end_time": "2021-02-02T22:35:24.097904Z",
     "start_time": "2021-02-02T22:35:24.074069Z"
    }
   },
   "outputs": [],
   "source": [
    "df_signals_gen_bear_final.reset_index(inplace=True)"
   ]
  },
  {
   "cell_type": "code",
   "execution_count": 384,
   "id": "solid-czech",
   "metadata": {
    "ExecuteTime": {
     "end_time": "2021-02-02T22:35:24.230515Z",
     "start_time": "2021-02-02T22:35:24.101564Z"
    }
   },
   "outputs": [],
   "source": [
    "#DF Signals Generator failures on turbine 7 and 9 in 2016\n",
    "df_signals_gen_bear_t7 = df_signals_gen_bear_final[df_signals_gen_bear_final['Turbine_ID'] == 7]\n",
    "df_signals_gen_bear_t9 = df_signals_gen_bear_final[df_signals_gen_bear_final['Turbine_ID'] == 9]"
   ]
  },
  {
   "cell_type": "code",
   "execution_count": 385,
   "id": "three-heater",
   "metadata": {
    "ExecuteTime": {
     "end_time": "2021-02-02T22:35:24.411737Z",
     "start_time": "2021-02-02T22:35:24.235448Z"
    }
   },
   "outputs": [
    {
     "name": "stderr",
     "output_type": "stream",
     "text": [
      "/home/guilherme/.pyenv/versions/3.7.2/lib/python3.7/site-packages/ipykernel_launcher.py:2: SettingWithCopyWarning: \n",
      "A value is trying to be set on a copy of a slice from a DataFrame.\n",
      "Try using .loc[row_indexer,col_indexer] = value instead\n",
      "\n",
      "See the caveats in the documentation: https://pandas.pydata.org/pandas-docs/stable/user_guide/indexing.html#returning-a-view-versus-a-copy\n",
      "  \n"
     ]
    }
   ],
   "source": [
    "index_list = df_signals_gen_bear_t7.loc[df_signals_gen_bear_t7['Component'] == 1]\n",
    "index_list['date'] = index_list['Timestamp']\n",
    "index_list = index_list[['Timestamp','date']]\n",
    "df = df_signals_gen_bear_t7.merge(index_list, on=['Timestamp'], how='left')\n",
    "df_gen_bear_t7 = df.fillna(method='bfill')\n",
    "df_gen_bear_t7['TTF'] = df_gen_bear_t7['date'] - df_gen_bear_t7['Timestamp'] \n",
    "df_gen_bear_t7 = df_gen_bear_t7.drop(columns='date')"
   ]
  },
  {
   "cell_type": "code",
   "execution_count": 386,
   "id": "chemical-indian",
   "metadata": {
    "ExecuteTime": {
     "end_time": "2021-02-02T22:35:24.578461Z",
     "start_time": "2021-02-02T22:35:24.418563Z"
    }
   },
   "outputs": [
    {
     "name": "stderr",
     "output_type": "stream",
     "text": [
      "/home/guilherme/.pyenv/versions/3.7.2/lib/python3.7/site-packages/ipykernel_launcher.py:2: SettingWithCopyWarning: \n",
      "A value is trying to be set on a copy of a slice from a DataFrame.\n",
      "Try using .loc[row_indexer,col_indexer] = value instead\n",
      "\n",
      "See the caveats in the documentation: https://pandas.pydata.org/pandas-docs/stable/user_guide/indexing.html#returning-a-view-versus-a-copy\n",
      "  \n"
     ]
    }
   ],
   "source": [
    "index_list_t9 = df_signals_gen_bear_t9.loc[df_signals_gen_bear_t9['Component'] == 1]\n",
    "index_list_t9['date'] = index_list_t9['Timestamp']\n",
    "index_list_t9 = index_list_t9[['Timestamp','date']]\n",
    "df = df_signals_gen_bear_t9.merge(index_list_t9, on=['Timestamp'], how='left')\n",
    "df_gen_bear_t9 = df.fillna(method='bfill')\n",
    "df_gen_bear_t9['TTF'] = df_gen_bear_t9['date'] - df_gen_bear_t9['Timestamp'] \n",
    "df_gen_bear_t9 = df_gen_bear_t9.drop(columns='date')"
   ]
  },
  {
   "cell_type": "code",
   "execution_count": 387,
   "id": "stretch-cricket",
   "metadata": {
    "ExecuteTime": {
     "end_time": "2021-02-02T22:35:24.614578Z",
     "start_time": "2021-02-02T22:35:24.585693Z"
    }
   },
   "outputs": [],
   "source": [
    "gen_bear_final = pd.concat([df_gen_bear_t7, df_gen_bear_t9])"
   ]
  },
  {
   "cell_type": "markdown",
   "id": "popular-shirt",
   "metadata": {},
   "source": [
    "# DF RUL Failures Hydraulic"
   ]
  },
  {
   "cell_type": "code",
   "execution_count": 388,
   "id": "eastern-prisoner",
   "metadata": {
    "ExecuteTime": {
     "end_time": "2021-02-02T22:35:25.727247Z",
     "start_time": "2021-02-02T22:35:24.619673Z"
    }
   },
   "outputs": [],
   "source": [
    "df_signals_hyd_final = df_signals_hyd_final.groupby(by=['Timestamp','Turbine_ID']).mean()\n",
    "df_signals_hyd_final.sort_values(['Turbine_ID','Timestamp'], inplace=True)\n",
    "df_signals_hyd_final.reset_index(inplace=True)\n",
    "#DF Signals Generator failures on turbine 6 and 11 in 2016\n",
    "df_signals_hyd_t6 = df_signals_hyd_final[df_signals_hyd_final['Turbine_ID'] == 6]\n",
    "df_signals_hyd_t7 = df_signals_hyd_final[df_signals_hyd_final['Turbine_ID'] == 7]\n",
    "df_signals_hyd_t11 = df_signals_hyd_final[df_signals_hyd_final['Turbine_ID'] == 11]"
   ]
  },
  {
   "cell_type": "code",
   "execution_count": 389,
   "id": "fatal-visiting",
   "metadata": {
    "ExecuteTime": {
     "end_time": "2021-02-02T22:35:25.885710Z",
     "start_time": "2021-02-02T22:35:25.738675Z"
    }
   },
   "outputs": [
    {
     "name": "stderr",
     "output_type": "stream",
     "text": [
      "/home/guilherme/.pyenv/versions/3.7.2/lib/python3.7/site-packages/ipykernel_launcher.py:2: SettingWithCopyWarning: \n",
      "A value is trying to be set on a copy of a slice from a DataFrame.\n",
      "Try using .loc[row_indexer,col_indexer] = value instead\n",
      "\n",
      "See the caveats in the documentation: https://pandas.pydata.org/pandas-docs/stable/user_guide/indexing.html#returning-a-view-versus-a-copy\n",
      "  \n"
     ]
    }
   ],
   "source": [
    "index_list = df_signals_hyd_t11.loc[df_signals_hyd_t11['Component'] == 1]\n",
    "index_list['date'] = index_list['Timestamp']\n",
    "index_list = index_list[['Timestamp','date']]\n",
    "df = df_signals_hyd_t11.merge(index_list, on=['Timestamp'], how='left')\n",
    "df_hyd_t11 = df.fillna(method='bfill')\n",
    "df_hyd_t11['TTF'] = df_hyd_t11['date'] - df_hyd_t11['Timestamp'] \n",
    "df_hyd_t11 = df_hyd_t11.drop(columns='date')"
   ]
  },
  {
   "cell_type": "code",
   "execution_count": 390,
   "id": "disabled-liability",
   "metadata": {
    "ExecuteTime": {
     "end_time": "2021-02-02T22:35:25.999041Z",
     "start_time": "2021-02-02T22:35:25.890555Z"
    }
   },
   "outputs": [
    {
     "name": "stderr",
     "output_type": "stream",
     "text": [
      "/home/guilherme/.pyenv/versions/3.7.2/lib/python3.7/site-packages/ipykernel_launcher.py:2: SettingWithCopyWarning: \n",
      "A value is trying to be set on a copy of a slice from a DataFrame.\n",
      "Try using .loc[row_indexer,col_indexer] = value instead\n",
      "\n",
      "See the caveats in the documentation: https://pandas.pydata.org/pandas-docs/stable/user_guide/indexing.html#returning-a-view-versus-a-copy\n",
      "  \n"
     ]
    }
   ],
   "source": [
    "index_list_t6 = df_signals_hyd_t6.loc[df_signals_hyd_t6['Component'] == 1]\n",
    "index_list_t6['date'] = index_list_t6['Timestamp']\n",
    "index_list_t6 = index_list_t6[['Timestamp','date']]\n",
    "df = df_signals_hyd_t6.merge(index_list_t6, on=['Timestamp'], how='left')\n",
    "df_hyd_t6 = df.fillna(method='bfill')\n",
    "df_hyd_t6['TTF'] = df_hyd_t6['date'] - df_hyd_t6['Timestamp'] \n",
    "df_hyd_t6 = df_hyd_t6.drop(columns='date')"
   ]
  },
  {
   "cell_type": "code",
   "execution_count": 391,
   "id": "sitting-suspension",
   "metadata": {
    "ExecuteTime": {
     "end_time": "2021-02-02T22:35:26.129279Z",
     "start_time": "2021-02-02T22:35:26.002641Z"
    }
   },
   "outputs": [
    {
     "name": "stderr",
     "output_type": "stream",
     "text": [
      "/home/guilherme/.pyenv/versions/3.7.2/lib/python3.7/site-packages/ipykernel_launcher.py:2: SettingWithCopyWarning: \n",
      "A value is trying to be set on a copy of a slice from a DataFrame.\n",
      "Try using .loc[row_indexer,col_indexer] = value instead\n",
      "\n",
      "See the caveats in the documentation: https://pandas.pydata.org/pandas-docs/stable/user_guide/indexing.html#returning-a-view-versus-a-copy\n",
      "  \n"
     ]
    }
   ],
   "source": [
    "index_list_t7 = df_signals_hyd_t7.loc[df_signals_hyd_t7['Component'] == 1]\n",
    "index_list_t7['date'] = index_list_t7['Timestamp']\n",
    "index_list_t7 = index_list_t7[['Timestamp','date']]\n",
    "df = df_signals_hyd_t7.merge(index_list_t7, on=['Timestamp'], how='left')\n",
    "df_hyd_t7 = df.fillna(method='bfill')\n",
    "df_hyd_t7['TTF'] = df_hyd_t7['date'] - df_hyd_t7['Timestamp'] \n",
    "df_hyd_t7 = df_hyd_t7.drop(columns='date')"
   ]
  },
  {
   "cell_type": "code",
   "execution_count": 392,
   "id": "previous-sherman",
   "metadata": {
    "ExecuteTime": {
     "end_time": "2021-02-02T22:35:26.190155Z",
     "start_time": "2021-02-02T22:35:26.134071Z"
    }
   },
   "outputs": [],
   "source": [
    "hyd_final = pd.concat([df_hyd_t6, df_hyd_t7, df_hyd_t11])"
   ]
  },
  {
   "cell_type": "code",
   "execution_count": 393,
   "id": "supposed-oliver",
   "metadata": {
    "ExecuteTime": {
     "end_time": "2021-02-02T22:35:26.366388Z",
     "start_time": "2021-02-02T22:35:26.195740Z"
    }
   },
   "outputs": [
    {
     "data": {
      "text/html": [
       "<div>\n",
       "<style scoped>\n",
       "    .dataframe tbody tr th:only-of-type {\n",
       "        vertical-align: middle;\n",
       "    }\n",
       "\n",
       "    .dataframe tbody tr th {\n",
       "        vertical-align: top;\n",
       "    }\n",
       "\n",
       "    .dataframe thead th {\n",
       "        text-align: right;\n",
       "    }\n",
       "</style>\n",
       "<table border=\"1\" class=\"dataframe\">\n",
       "  <thead>\n",
       "    <tr style=\"text-align: right;\">\n",
       "      <th></th>\n",
       "      <th>Timestamp</th>\n",
       "      <th>Turbine_ID</th>\n",
       "      <th>Hyd_Oil_Temp_Avg</th>\n",
       "      <th>Rtr_RPM_Max</th>\n",
       "      <th>Rtr_RPM_Min</th>\n",
       "      <th>Rtr_RPM_Avg</th>\n",
       "      <th>Grd_RtrInvPhase1_Temp_Avg</th>\n",
       "      <th>Grd_RtrInvPhase2_Temp_Avg</th>\n",
       "      <th>Grd_RtrInvPhase3_Temp_Avg</th>\n",
       "      <th>Rtr_RPM_Std</th>\n",
       "      <th>...</th>\n",
       "      <th>Cont_Hub_Temp_Avg</th>\n",
       "      <th>Cont_VCP_Temp_Avg</th>\n",
       "      <th>Cont_VCP_ChokcoilTemp_Avg</th>\n",
       "      <th>Cont_VCP_WtrTemp_Avg</th>\n",
       "      <th>Nac_Temp_Avg</th>\n",
       "      <th>Nac_Direction_Avg</th>\n",
       "      <th>Spin_Temp_Avg</th>\n",
       "      <th>Grd_Busbar_Temp_Avg</th>\n",
       "      <th>Component</th>\n",
       "      <th>TTF</th>\n",
       "    </tr>\n",
       "  </thead>\n",
       "  <tbody>\n",
       "    <tr>\n",
       "      <th>0</th>\n",
       "      <td>2016-01-01 00:00:00+00:00</td>\n",
       "      <td>6</td>\n",
       "      <td>30.0</td>\n",
       "      <td>11.2</td>\n",
       "      <td>10.9</td>\n",
       "      <td>11.1</td>\n",
       "      <td>40.0</td>\n",
       "      <td>40.0</td>\n",
       "      <td>38.0</td>\n",
       "      <td>0.1</td>\n",
       "      <td>...</td>\n",
       "      <td>28.0</td>\n",
       "      <td>38.0</td>\n",
       "      <td>96.0</td>\n",
       "      <td>38.0</td>\n",
       "      <td>29.0</td>\n",
       "      <td>204.6</td>\n",
       "      <td>20.0</td>\n",
       "      <td>37.0</td>\n",
       "      <td>0.0</td>\n",
       "      <td>94 days 18:53:00</td>\n",
       "    </tr>\n",
       "    <tr>\n",
       "      <th>1</th>\n",
       "      <td>2016-01-01 00:10:00+00:00</td>\n",
       "      <td>6</td>\n",
       "      <td>30.0</td>\n",
       "      <td>12.6</td>\n",
       "      <td>2.0</td>\n",
       "      <td>10.2</td>\n",
       "      <td>38.0</td>\n",
       "      <td>38.0</td>\n",
       "      <td>36.0</td>\n",
       "      <td>2.4</td>\n",
       "      <td>...</td>\n",
       "      <td>28.0</td>\n",
       "      <td>38.0</td>\n",
       "      <td>96.0</td>\n",
       "      <td>37.0</td>\n",
       "      <td>29.0</td>\n",
       "      <td>210.5</td>\n",
       "      <td>20.0</td>\n",
       "      <td>37.0</td>\n",
       "      <td>0.0</td>\n",
       "      <td>94 days 18:43:00</td>\n",
       "    </tr>\n",
       "    <tr>\n",
       "      <th>2</th>\n",
       "      <td>2016-01-01 00:20:00+00:00</td>\n",
       "      <td>6</td>\n",
       "      <td>31.0</td>\n",
       "      <td>12.0</td>\n",
       "      <td>2.3</td>\n",
       "      <td>9.2</td>\n",
       "      <td>39.0</td>\n",
       "      <td>39.0</td>\n",
       "      <td>37.0</td>\n",
       "      <td>3.4</td>\n",
       "      <td>...</td>\n",
       "      <td>27.0</td>\n",
       "      <td>38.0</td>\n",
       "      <td>93.0</td>\n",
       "      <td>39.0</td>\n",
       "      <td>29.0</td>\n",
       "      <td>199.0</td>\n",
       "      <td>20.0</td>\n",
       "      <td>37.0</td>\n",
       "      <td>0.0</td>\n",
       "      <td>94 days 18:33:00</td>\n",
       "    </tr>\n",
       "    <tr>\n",
       "      <th>3</th>\n",
       "      <td>2016-01-01 00:30:00+00:00</td>\n",
       "      <td>6</td>\n",
       "      <td>31.0</td>\n",
       "      <td>12.2</td>\n",
       "      <td>10.9</td>\n",
       "      <td>11.1</td>\n",
       "      <td>40.0</td>\n",
       "      <td>40.0</td>\n",
       "      <td>38.0</td>\n",
       "      <td>0.1</td>\n",
       "      <td>...</td>\n",
       "      <td>27.0</td>\n",
       "      <td>38.0</td>\n",
       "      <td>92.0</td>\n",
       "      <td>39.0</td>\n",
       "      <td>29.0</td>\n",
       "      <td>205.6</td>\n",
       "      <td>20.0</td>\n",
       "      <td>37.0</td>\n",
       "      <td>0.0</td>\n",
       "      <td>94 days 18:23:00</td>\n",
       "    </tr>\n",
       "    <tr>\n",
       "      <th>4</th>\n",
       "      <td>2016-01-01 00:40:00+00:00</td>\n",
       "      <td>6</td>\n",
       "      <td>31.0</td>\n",
       "      <td>11.5</td>\n",
       "      <td>10.9</td>\n",
       "      <td>11.1</td>\n",
       "      <td>40.0</td>\n",
       "      <td>40.0</td>\n",
       "      <td>38.0</td>\n",
       "      <td>0.1</td>\n",
       "      <td>...</td>\n",
       "      <td>27.0</td>\n",
       "      <td>38.0</td>\n",
       "      <td>94.0</td>\n",
       "      <td>38.0</td>\n",
       "      <td>29.0</td>\n",
       "      <td>207.4</td>\n",
       "      <td>20.0</td>\n",
       "      <td>37.0</td>\n",
       "      <td>0.0</td>\n",
       "      <td>94 days 18:13:00</td>\n",
       "    </tr>\n",
       "    <tr>\n",
       "      <th>...</th>\n",
       "      <td>...</td>\n",
       "      <td>...</td>\n",
       "      <td>...</td>\n",
       "      <td>...</td>\n",
       "      <td>...</td>\n",
       "      <td>...</td>\n",
       "      <td>...</td>\n",
       "      <td>...</td>\n",
       "      <td>...</td>\n",
       "      <td>...</td>\n",
       "      <td>...</td>\n",
       "      <td>...</td>\n",
       "      <td>...</td>\n",
       "      <td>...</td>\n",
       "      <td>...</td>\n",
       "      <td>...</td>\n",
       "      <td>...</td>\n",
       "      <td>...</td>\n",
       "      <td>...</td>\n",
       "      <td>...</td>\n",
       "      <td>...</td>\n",
       "    </tr>\n",
       "    <tr>\n",
       "      <th>87239</th>\n",
       "      <td>2017-08-31 23:20:00+00:00</td>\n",
       "      <td>11</td>\n",
       "      <td>40.0</td>\n",
       "      <td>12.7</td>\n",
       "      <td>11.0</td>\n",
       "      <td>11.4</td>\n",
       "      <td>40.0</td>\n",
       "      <td>41.0</td>\n",
       "      <td>41.0</td>\n",
       "      <td>0.4</td>\n",
       "      <td>...</td>\n",
       "      <td>34.0</td>\n",
       "      <td>44.0</td>\n",
       "      <td>70.0</td>\n",
       "      <td>40.0</td>\n",
       "      <td>31.0</td>\n",
       "      <td>117.5</td>\n",
       "      <td>28.0</td>\n",
       "      <td>40.0</td>\n",
       "      <td>0.0</td>\n",
       "      <td>NaT</td>\n",
       "    </tr>\n",
       "    <tr>\n",
       "      <th>87240</th>\n",
       "      <td>2017-08-31 23:30:00+00:00</td>\n",
       "      <td>11</td>\n",
       "      <td>40.0</td>\n",
       "      <td>11.2</td>\n",
       "      <td>10.9</td>\n",
       "      <td>11.1</td>\n",
       "      <td>40.0</td>\n",
       "      <td>41.0</td>\n",
       "      <td>41.0</td>\n",
       "      <td>0.0</td>\n",
       "      <td>...</td>\n",
       "      <td>34.0</td>\n",
       "      <td>44.0</td>\n",
       "      <td>73.0</td>\n",
       "      <td>40.0</td>\n",
       "      <td>31.0</td>\n",
       "      <td>117.5</td>\n",
       "      <td>28.0</td>\n",
       "      <td>41.0</td>\n",
       "      <td>0.0</td>\n",
       "      <td>NaT</td>\n",
       "    </tr>\n",
       "    <tr>\n",
       "      <th>87241</th>\n",
       "      <td>2017-08-31 23:40:00+00:00</td>\n",
       "      <td>11</td>\n",
       "      <td>40.0</td>\n",
       "      <td>11.2</td>\n",
       "      <td>10.9</td>\n",
       "      <td>11.1</td>\n",
       "      <td>39.0</td>\n",
       "      <td>40.0</td>\n",
       "      <td>40.0</td>\n",
       "      <td>0.0</td>\n",
       "      <td>...</td>\n",
       "      <td>33.0</td>\n",
       "      <td>44.0</td>\n",
       "      <td>76.0</td>\n",
       "      <td>39.0</td>\n",
       "      <td>31.0</td>\n",
       "      <td>116.0</td>\n",
       "      <td>28.0</td>\n",
       "      <td>41.0</td>\n",
       "      <td>0.0</td>\n",
       "      <td>NaT</td>\n",
       "    </tr>\n",
       "    <tr>\n",
       "      <th>87242</th>\n",
       "      <td>2017-08-31 23:50:00+00:00</td>\n",
       "      <td>11</td>\n",
       "      <td>40.0</td>\n",
       "      <td>11.4</td>\n",
       "      <td>10.9</td>\n",
       "      <td>11.1</td>\n",
       "      <td>39.0</td>\n",
       "      <td>40.0</td>\n",
       "      <td>40.0</td>\n",
       "      <td>0.1</td>\n",
       "      <td>...</td>\n",
       "      <td>33.0</td>\n",
       "      <td>45.0</td>\n",
       "      <td>78.0</td>\n",
       "      <td>39.0</td>\n",
       "      <td>31.0</td>\n",
       "      <td>102.9</td>\n",
       "      <td>28.0</td>\n",
       "      <td>41.0</td>\n",
       "      <td>0.0</td>\n",
       "      <td>NaT</td>\n",
       "    </tr>\n",
       "    <tr>\n",
       "      <th>87243</th>\n",
       "      <td>2017-09-01 00:00:00+00:00</td>\n",
       "      <td>11</td>\n",
       "      <td>39.0</td>\n",
       "      <td>11.2</td>\n",
       "      <td>10.9</td>\n",
       "      <td>11.1</td>\n",
       "      <td>39.0</td>\n",
       "      <td>40.0</td>\n",
       "      <td>40.0</td>\n",
       "      <td>0.0</td>\n",
       "      <td>...</td>\n",
       "      <td>33.0</td>\n",
       "      <td>45.0</td>\n",
       "      <td>80.0</td>\n",
       "      <td>39.0</td>\n",
       "      <td>31.0</td>\n",
       "      <td>96.8</td>\n",
       "      <td>28.0</td>\n",
       "      <td>41.0</td>\n",
       "      <td>0.0</td>\n",
       "      <td>NaT</td>\n",
       "    </tr>\n",
       "  </tbody>\n",
       "</table>\n",
       "<p>259830 rows × 33 columns</p>\n",
       "</div>"
      ],
      "text/plain": [
       "                      Timestamp  Turbine_ID  Hyd_Oil_Temp_Avg  Rtr_RPM_Max  \\\n",
       "0     2016-01-01 00:00:00+00:00           6              30.0         11.2   \n",
       "1     2016-01-01 00:10:00+00:00           6              30.0         12.6   \n",
       "2     2016-01-01 00:20:00+00:00           6              31.0         12.0   \n",
       "3     2016-01-01 00:30:00+00:00           6              31.0         12.2   \n",
       "4     2016-01-01 00:40:00+00:00           6              31.0         11.5   \n",
       "...                         ...         ...               ...          ...   \n",
       "87239 2017-08-31 23:20:00+00:00          11              40.0         12.7   \n",
       "87240 2017-08-31 23:30:00+00:00          11              40.0         11.2   \n",
       "87241 2017-08-31 23:40:00+00:00          11              40.0         11.2   \n",
       "87242 2017-08-31 23:50:00+00:00          11              40.0         11.4   \n",
       "87243 2017-09-01 00:00:00+00:00          11              39.0         11.2   \n",
       "\n",
       "       Rtr_RPM_Min  Rtr_RPM_Avg  Grd_RtrInvPhase1_Temp_Avg  \\\n",
       "0             10.9         11.1                       40.0   \n",
       "1              2.0         10.2                       38.0   \n",
       "2              2.3          9.2                       39.0   \n",
       "3             10.9         11.1                       40.0   \n",
       "4             10.9         11.1                       40.0   \n",
       "...            ...          ...                        ...   \n",
       "87239         11.0         11.4                       40.0   \n",
       "87240         10.9         11.1                       40.0   \n",
       "87241         10.9         11.1                       39.0   \n",
       "87242         10.9         11.1                       39.0   \n",
       "87243         10.9         11.1                       39.0   \n",
       "\n",
       "       Grd_RtrInvPhase2_Temp_Avg  Grd_RtrInvPhase3_Temp_Avg  Rtr_RPM_Std  ...  \\\n",
       "0                           40.0                       38.0          0.1  ...   \n",
       "1                           38.0                       36.0          2.4  ...   \n",
       "2                           39.0                       37.0          3.4  ...   \n",
       "3                           40.0                       38.0          0.1  ...   \n",
       "4                           40.0                       38.0          0.1  ...   \n",
       "...                          ...                        ...          ...  ...   \n",
       "87239                       41.0                       41.0          0.4  ...   \n",
       "87240                       41.0                       41.0          0.0  ...   \n",
       "87241                       40.0                       40.0          0.0  ...   \n",
       "87242                       40.0                       40.0          0.1  ...   \n",
       "87243                       40.0                       40.0          0.0  ...   \n",
       "\n",
       "       Cont_Hub_Temp_Avg  Cont_VCP_Temp_Avg  Cont_VCP_ChokcoilTemp_Avg  \\\n",
       "0                   28.0               38.0                       96.0   \n",
       "1                   28.0               38.0                       96.0   \n",
       "2                   27.0               38.0                       93.0   \n",
       "3                   27.0               38.0                       92.0   \n",
       "4                   27.0               38.0                       94.0   \n",
       "...                  ...                ...                        ...   \n",
       "87239               34.0               44.0                       70.0   \n",
       "87240               34.0               44.0                       73.0   \n",
       "87241               33.0               44.0                       76.0   \n",
       "87242               33.0               45.0                       78.0   \n",
       "87243               33.0               45.0                       80.0   \n",
       "\n",
       "       Cont_VCP_WtrTemp_Avg  Nac_Temp_Avg  Nac_Direction_Avg  Spin_Temp_Avg  \\\n",
       "0                      38.0          29.0              204.6           20.0   \n",
       "1                      37.0          29.0              210.5           20.0   \n",
       "2                      39.0          29.0              199.0           20.0   \n",
       "3                      39.0          29.0              205.6           20.0   \n",
       "4                      38.0          29.0              207.4           20.0   \n",
       "...                     ...           ...                ...            ...   \n",
       "87239                  40.0          31.0              117.5           28.0   \n",
       "87240                  40.0          31.0              117.5           28.0   \n",
       "87241                  39.0          31.0              116.0           28.0   \n",
       "87242                  39.0          31.0              102.9           28.0   \n",
       "87243                  39.0          31.0               96.8           28.0   \n",
       "\n",
       "       Grd_Busbar_Temp_Avg  Component              TTF  \n",
       "0                     37.0        0.0 94 days 18:53:00  \n",
       "1                     37.0        0.0 94 days 18:43:00  \n",
       "2                     37.0        0.0 94 days 18:33:00  \n",
       "3                     37.0        0.0 94 days 18:23:00  \n",
       "4                     37.0        0.0 94 days 18:13:00  \n",
       "...                    ...        ...              ...  \n",
       "87239                 40.0        0.0              NaT  \n",
       "87240                 41.0        0.0              NaT  \n",
       "87241                 41.0        0.0              NaT  \n",
       "87242                 41.0        0.0              NaT  \n",
       "87243                 41.0        0.0              NaT  \n",
       "\n",
       "[259830 rows x 33 columns]"
      ]
     },
     "execution_count": 393,
     "metadata": {},
     "output_type": "execute_result"
    }
   ],
   "source": [
    "hyd_final"
   ]
  },
  {
   "cell_type": "markdown",
   "id": "welsh-exercise",
   "metadata": {},
   "source": [
    "# DF RUL Failures GearBox"
   ]
  },
  {
   "cell_type": "code",
   "execution_count": 394,
   "id": "hybrid-puzzle",
   "metadata": {
    "ExecuteTime": {
     "end_time": "2021-02-02T22:35:27.697441Z",
     "start_time": "2021-02-02T22:35:26.379756Z"
    }
   },
   "outputs": [],
   "source": [
    "df_signals_gearbox_final = df_signals_gearbox_final.groupby(by=['Timestamp','Turbine_ID']).mean()\n",
    "df_signals_gearbox_final.sort_values(['Turbine_ID','Timestamp'], inplace=True)\n",
    "df_signals_gearbox_final.reset_index(inplace=True)\n",
    "#DF Signals Generator failures on turbine 1 and 9 in 2016\n",
    "df_signals_gearbox_t1 = df_signals_gearbox_final[df_signals_gearbox_final['Turbine_ID'] == 1]\n",
    "df_signals_gearbox_t9 = df_signals_gearbox_final[df_signals_gearbox_final['Turbine_ID'] == 9]"
   ]
  },
  {
   "cell_type": "code",
   "execution_count": 395,
   "id": "opponent-setup",
   "metadata": {
    "ExecuteTime": {
     "end_time": "2021-02-02T22:35:27.717935Z",
     "start_time": "2021-02-02T22:35:27.702802Z"
    }
   },
   "outputs": [
    {
     "data": {
      "text/plain": [
       "28632   2016-07-18 02:10:00+00:00\n",
       "Name: Timestamp, dtype: datetime64[ns, UTC]"
      ]
     },
     "execution_count": 395,
     "metadata": {},
     "output_type": "execute_result"
    }
   ],
   "source": [
    "df_signals_gearbox_t1.loc[df_signals_gearbox_t1['Component'] == 1,'Timestamp']\n",
    "# df_signals_gearbox_t1 = df_signals_gearbox_t1.truncate(after=28632)"
   ]
  },
  {
   "cell_type": "code",
   "execution_count": 396,
   "id": "protected-content",
   "metadata": {
    "ExecuteTime": {
     "end_time": "2021-02-02T22:35:27.758873Z",
     "start_time": "2021-02-02T22:35:27.726619Z"
    }
   },
   "outputs": [
    {
     "data": {
      "text/plain": [
       "300355   2016-10-11 08:06:00+00:00\n",
       "Name: Timestamp, dtype: datetime64[ns, UTC]"
      ]
     },
     "execution_count": 396,
     "metadata": {},
     "output_type": "execute_result"
    }
   ],
   "source": [
    "df_signals_gearbox_t9.loc[df_signals_gearbox_t9['Component'] == 1,'Timestamp']\n",
    "# df_signals_gearbox_t9 = df_signals_gearbox_t9.truncate(after=196073)"
   ]
  },
  {
   "cell_type": "code",
   "execution_count": 397,
   "id": "completed-dancing",
   "metadata": {
    "ExecuteTime": {
     "end_time": "2021-02-02T22:35:27.950114Z",
     "start_time": "2021-02-02T22:35:27.766610Z"
    }
   },
   "outputs": [
    {
     "name": "stderr",
     "output_type": "stream",
     "text": [
      "/home/guilherme/.pyenv/versions/3.7.2/lib/python3.7/site-packages/ipykernel_launcher.py:2: SettingWithCopyWarning: \n",
      "A value is trying to be set on a copy of a slice from a DataFrame.\n",
      "Try using .loc[row_indexer,col_indexer] = value instead\n",
      "\n",
      "See the caveats in the documentation: https://pandas.pydata.org/pandas-docs/stable/user_guide/indexing.html#returning-a-view-versus-a-copy\n",
      "  \n"
     ]
    }
   ],
   "source": [
    "index_list = df_signals_gearbox_t1.loc[df_signals_gearbox_t1['Component'] == 1]\n",
    "index_list['date'] = index_list['Timestamp']\n",
    "index_list = index_list[['Timestamp','date']]\n",
    "df = df_signals_gearbox_t1.merge(index_list, on=['Timestamp'], how='left')\n",
    "df_gearbox_t1 = df.fillna(method='bfill')\n",
    "df_gearbox_t1['TTF'] = df_gearbox_t1['date'] - df_gearbox_t1['Timestamp'] \n",
    "df_gearbox_t1 = df_gearbox_t1.drop(columns='date')"
   ]
  },
  {
   "cell_type": "code",
   "execution_count": 398,
   "id": "outer-demonstration",
   "metadata": {
    "ExecuteTime": {
     "end_time": "2021-02-02T22:35:28.070709Z",
     "start_time": "2021-02-02T22:35:27.960245Z"
    }
   },
   "outputs": [
    {
     "name": "stderr",
     "output_type": "stream",
     "text": [
      "/home/guilherme/.pyenv/versions/3.7.2/lib/python3.7/site-packages/ipykernel_launcher.py:2: SettingWithCopyWarning: \n",
      "A value is trying to be set on a copy of a slice from a DataFrame.\n",
      "Try using .loc[row_indexer,col_indexer] = value instead\n",
      "\n",
      "See the caveats in the documentation: https://pandas.pydata.org/pandas-docs/stable/user_guide/indexing.html#returning-a-view-versus-a-copy\n",
      "  \n"
     ]
    }
   ],
   "source": [
    "index_list_t9 = df_signals_gearbox_t9.loc[df_signals_gearbox_t9['Component'] == 1]\n",
    "index_list_t9['date'] = index_list_t9['Timestamp']\n",
    "index_list_t9 = index_list_t9[['Timestamp','date']]\n",
    "df = df_signals_gearbox_t9.merge(index_list_t9, on=['Timestamp'], how='left')\n",
    "df_gearbox_t9 = df.fillna(method='bfill')\n",
    "df_gearbox_t9['TTF'] = df_gearbox_t9['date'] - df_gearbox_t9['Timestamp'] \n",
    "df_gearbox_t9 = df_gearbox_t9.drop(columns='date')"
   ]
  },
  {
   "cell_type": "code",
   "execution_count": 399,
   "id": "chief-chair",
   "metadata": {
    "ExecuteTime": {
     "end_time": "2021-02-02T22:35:28.117508Z",
     "start_time": "2021-02-02T22:35:28.074987Z"
    }
   },
   "outputs": [],
   "source": [
    "gearbox_final = pd.concat([df_gearbox_t1, df_gearbox_t9])"
   ]
  },
  {
   "cell_type": "code",
   "execution_count": 400,
   "id": "absolute-boutique",
   "metadata": {
    "ExecuteTime": {
     "end_time": "2021-02-02T22:35:28.306930Z",
     "start_time": "2021-02-02T22:35:28.121010Z"
    }
   },
   "outputs": [
    {
     "data": {
      "text/html": [
       "<div>\n",
       "<style scoped>\n",
       "    .dataframe tbody tr th:only-of-type {\n",
       "        vertical-align: middle;\n",
       "    }\n",
       "\n",
       "    .dataframe tbody tr th {\n",
       "        vertical-align: top;\n",
       "    }\n",
       "\n",
       "    .dataframe thead th {\n",
       "        text-align: right;\n",
       "    }\n",
       "</style>\n",
       "<table border=\"1\" class=\"dataframe\">\n",
       "  <thead>\n",
       "    <tr style=\"text-align: right;\">\n",
       "      <th></th>\n",
       "      <th>Timestamp</th>\n",
       "      <th>Turbine_ID</th>\n",
       "      <th>Gear_Oil_Temp_Avg</th>\n",
       "      <th>Gear_Bear_Temp_Avg</th>\n",
       "      <th>Rtr_RPM_Max</th>\n",
       "      <th>Rtr_RPM_Min</th>\n",
       "      <th>Rtr_RPM_Avg</th>\n",
       "      <th>Grd_RtrInvPhase1_Temp_Avg</th>\n",
       "      <th>Grd_RtrInvPhase2_Temp_Avg</th>\n",
       "      <th>Grd_RtrInvPhase3_Temp_Avg</th>\n",
       "      <th>...</th>\n",
       "      <th>Cont_Hub_Temp_Avg</th>\n",
       "      <th>Cont_VCP_Temp_Avg</th>\n",
       "      <th>Cont_VCP_ChokcoilTemp_Avg</th>\n",
       "      <th>Cont_VCP_WtrTemp_Avg</th>\n",
       "      <th>Nac_Temp_Avg</th>\n",
       "      <th>Nac_Direction_Avg</th>\n",
       "      <th>Spin_Temp_Avg</th>\n",
       "      <th>Grd_Busbar_Temp_Avg</th>\n",
       "      <th>Component</th>\n",
       "      <th>TTF</th>\n",
       "    </tr>\n",
       "  </thead>\n",
       "  <tbody>\n",
       "    <tr>\n",
       "      <th>0</th>\n",
       "      <td>2016-01-01 00:00:00+00:00</td>\n",
       "      <td>1</td>\n",
       "      <td>44.0</td>\n",
       "      <td>48.0</td>\n",
       "      <td>11.3</td>\n",
       "      <td>10.9</td>\n",
       "      <td>11.1</td>\n",
       "      <td>39.0</td>\n",
       "      <td>39.0</td>\n",
       "      <td>38.0</td>\n",
       "      <td>...</td>\n",
       "      <td>28.0</td>\n",
       "      <td>43.0</td>\n",
       "      <td>91.0</td>\n",
       "      <td>39.0</td>\n",
       "      <td>28.0</td>\n",
       "      <td>218.5</td>\n",
       "      <td>20.0</td>\n",
       "      <td>38.0</td>\n",
       "      <td>0.0</td>\n",
       "      <td>199 days 02:10:00</td>\n",
       "    </tr>\n",
       "    <tr>\n",
       "      <th>1</th>\n",
       "      <td>2016-01-01 00:10:00+00:00</td>\n",
       "      <td>1</td>\n",
       "      <td>44.0</td>\n",
       "      <td>48.0</td>\n",
       "      <td>11.2</td>\n",
       "      <td>0.0</td>\n",
       "      <td>8.8</td>\n",
       "      <td>37.0</td>\n",
       "      <td>36.0</td>\n",
       "      <td>37.0</td>\n",
       "      <td>...</td>\n",
       "      <td>28.0</td>\n",
       "      <td>42.0</td>\n",
       "      <td>91.0</td>\n",
       "      <td>37.0</td>\n",
       "      <td>28.0</td>\n",
       "      <td>218.5</td>\n",
       "      <td>20.0</td>\n",
       "      <td>38.0</td>\n",
       "      <td>0.0</td>\n",
       "      <td>199 days 02:00:00</td>\n",
       "    </tr>\n",
       "    <tr>\n",
       "      <th>2</th>\n",
       "      <td>2016-01-01 00:20:00+00:00</td>\n",
       "      <td>1</td>\n",
       "      <td>43.0</td>\n",
       "      <td>46.0</td>\n",
       "      <td>12.3</td>\n",
       "      <td>1.9</td>\n",
       "      <td>6.8</td>\n",
       "      <td>38.0</td>\n",
       "      <td>37.0</td>\n",
       "      <td>37.0</td>\n",
       "      <td>...</td>\n",
       "      <td>28.0</td>\n",
       "      <td>42.0</td>\n",
       "      <td>87.0</td>\n",
       "      <td>38.0</td>\n",
       "      <td>29.0</td>\n",
       "      <td>213.3</td>\n",
       "      <td>20.0</td>\n",
       "      <td>38.0</td>\n",
       "      <td>0.0</td>\n",
       "      <td>199 days 01:50:00</td>\n",
       "    </tr>\n",
       "    <tr>\n",
       "      <th>3</th>\n",
       "      <td>2016-01-01 00:30:00+00:00</td>\n",
       "      <td>1</td>\n",
       "      <td>44.0</td>\n",
       "      <td>48.0</td>\n",
       "      <td>11.5</td>\n",
       "      <td>10.7</td>\n",
       "      <td>11.1</td>\n",
       "      <td>38.0</td>\n",
       "      <td>38.0</td>\n",
       "      <td>38.0</td>\n",
       "      <td>...</td>\n",
       "      <td>28.0</td>\n",
       "      <td>42.0</td>\n",
       "      <td>87.0</td>\n",
       "      <td>38.0</td>\n",
       "      <td>28.0</td>\n",
       "      <td>222.4</td>\n",
       "      <td>20.0</td>\n",
       "      <td>38.0</td>\n",
       "      <td>0.0</td>\n",
       "      <td>199 days 01:40:00</td>\n",
       "    </tr>\n",
       "    <tr>\n",
       "      <th>4</th>\n",
       "      <td>2016-01-01 00:40:00+00:00</td>\n",
       "      <td>1</td>\n",
       "      <td>44.0</td>\n",
       "      <td>48.0</td>\n",
       "      <td>11.7</td>\n",
       "      <td>10.8</td>\n",
       "      <td>11.1</td>\n",
       "      <td>39.0</td>\n",
       "      <td>38.0</td>\n",
       "      <td>38.0</td>\n",
       "      <td>...</td>\n",
       "      <td>28.0</td>\n",
       "      <td>42.0</td>\n",
       "      <td>88.0</td>\n",
       "      <td>39.0</td>\n",
       "      <td>28.0</td>\n",
       "      <td>222.4</td>\n",
       "      <td>20.0</td>\n",
       "      <td>38.0</td>\n",
       "      <td>0.0</td>\n",
       "      <td>199 days 01:30:00</td>\n",
       "    </tr>\n",
       "    <tr>\n",
       "      <th>...</th>\n",
       "      <td>...</td>\n",
       "      <td>...</td>\n",
       "      <td>...</td>\n",
       "      <td>...</td>\n",
       "      <td>...</td>\n",
       "      <td>...</td>\n",
       "      <td>...</td>\n",
       "      <td>...</td>\n",
       "      <td>...</td>\n",
       "      <td>...</td>\n",
       "      <td>...</td>\n",
       "      <td>...</td>\n",
       "      <td>...</td>\n",
       "      <td>...</td>\n",
       "      <td>...</td>\n",
       "      <td>...</td>\n",
       "      <td>...</td>\n",
       "      <td>...</td>\n",
       "      <td>...</td>\n",
       "      <td>...</td>\n",
       "      <td>...</td>\n",
       "    </tr>\n",
       "    <tr>\n",
       "      <th>87146</th>\n",
       "      <td>2017-08-31 23:20:00+00:00</td>\n",
       "      <td>9</td>\n",
       "      <td>48.0</td>\n",
       "      <td>53.0</td>\n",
       "      <td>11.1</td>\n",
       "      <td>10.8</td>\n",
       "      <td>11.0</td>\n",
       "      <td>40.0</td>\n",
       "      <td>41.0</td>\n",
       "      <td>40.0</td>\n",
       "      <td>...</td>\n",
       "      <td>33.0</td>\n",
       "      <td>44.0</td>\n",
       "      <td>65.0</td>\n",
       "      <td>38.0</td>\n",
       "      <td>35.0</td>\n",
       "      <td>124.9</td>\n",
       "      <td>27.0</td>\n",
       "      <td>39.0</td>\n",
       "      <td>0.0</td>\n",
       "      <td>NaT</td>\n",
       "    </tr>\n",
       "    <tr>\n",
       "      <th>87147</th>\n",
       "      <td>2017-08-31 23:30:00+00:00</td>\n",
       "      <td>9</td>\n",
       "      <td>48.0</td>\n",
       "      <td>51.0</td>\n",
       "      <td>11.2</td>\n",
       "      <td>2.3</td>\n",
       "      <td>10.1</td>\n",
       "      <td>39.0</td>\n",
       "      <td>40.0</td>\n",
       "      <td>39.0</td>\n",
       "      <td>...</td>\n",
       "      <td>33.0</td>\n",
       "      <td>44.0</td>\n",
       "      <td>66.0</td>\n",
       "      <td>38.0</td>\n",
       "      <td>35.0</td>\n",
       "      <td>114.5</td>\n",
       "      <td>26.0</td>\n",
       "      <td>39.0</td>\n",
       "      <td>0.0</td>\n",
       "      <td>NaT</td>\n",
       "    </tr>\n",
       "    <tr>\n",
       "      <th>87148</th>\n",
       "      <td>2017-08-31 23:40:00+00:00</td>\n",
       "      <td>9</td>\n",
       "      <td>47.0</td>\n",
       "      <td>49.0</td>\n",
       "      <td>12.3</td>\n",
       "      <td>2.7</td>\n",
       "      <td>10.4</td>\n",
       "      <td>40.0</td>\n",
       "      <td>41.0</td>\n",
       "      <td>41.0</td>\n",
       "      <td>...</td>\n",
       "      <td>33.0</td>\n",
       "      <td>44.0</td>\n",
       "      <td>65.0</td>\n",
       "      <td>39.0</td>\n",
       "      <td>35.0</td>\n",
       "      <td>110.5</td>\n",
       "      <td>26.0</td>\n",
       "      <td>39.0</td>\n",
       "      <td>0.0</td>\n",
       "      <td>NaT</td>\n",
       "    </tr>\n",
       "    <tr>\n",
       "      <th>87149</th>\n",
       "      <td>2017-08-31 23:50:00+00:00</td>\n",
       "      <td>9</td>\n",
       "      <td>47.0</td>\n",
       "      <td>50.0</td>\n",
       "      <td>11.2</td>\n",
       "      <td>10.9</td>\n",
       "      <td>11.0</td>\n",
       "      <td>40.0</td>\n",
       "      <td>41.0</td>\n",
       "      <td>40.0</td>\n",
       "      <td>...</td>\n",
       "      <td>33.0</td>\n",
       "      <td>44.0</td>\n",
       "      <td>67.0</td>\n",
       "      <td>38.0</td>\n",
       "      <td>34.0</td>\n",
       "      <td>101.9</td>\n",
       "      <td>26.0</td>\n",
       "      <td>39.0</td>\n",
       "      <td>0.0</td>\n",
       "      <td>NaT</td>\n",
       "    </tr>\n",
       "    <tr>\n",
       "      <th>87150</th>\n",
       "      <td>2017-09-01 00:00:00+00:00</td>\n",
       "      <td>9</td>\n",
       "      <td>48.0</td>\n",
       "      <td>52.0</td>\n",
       "      <td>11.2</td>\n",
       "      <td>10.9</td>\n",
       "      <td>11.1</td>\n",
       "      <td>40.0</td>\n",
       "      <td>41.0</td>\n",
       "      <td>40.0</td>\n",
       "      <td>...</td>\n",
       "      <td>33.0</td>\n",
       "      <td>45.0</td>\n",
       "      <td>68.0</td>\n",
       "      <td>38.0</td>\n",
       "      <td>35.0</td>\n",
       "      <td>105.0</td>\n",
       "      <td>26.0</td>\n",
       "      <td>39.0</td>\n",
       "      <td>0.0</td>\n",
       "      <td>NaT</td>\n",
       "    </tr>\n",
       "  </tbody>\n",
       "</table>\n",
       "<p>174291 rows × 34 columns</p>\n",
       "</div>"
      ],
      "text/plain": [
       "                      Timestamp  Turbine_ID  Gear_Oil_Temp_Avg  \\\n",
       "0     2016-01-01 00:00:00+00:00           1               44.0   \n",
       "1     2016-01-01 00:10:00+00:00           1               44.0   \n",
       "2     2016-01-01 00:20:00+00:00           1               43.0   \n",
       "3     2016-01-01 00:30:00+00:00           1               44.0   \n",
       "4     2016-01-01 00:40:00+00:00           1               44.0   \n",
       "...                         ...         ...                ...   \n",
       "87146 2017-08-31 23:20:00+00:00           9               48.0   \n",
       "87147 2017-08-31 23:30:00+00:00           9               48.0   \n",
       "87148 2017-08-31 23:40:00+00:00           9               47.0   \n",
       "87149 2017-08-31 23:50:00+00:00           9               47.0   \n",
       "87150 2017-09-01 00:00:00+00:00           9               48.0   \n",
       "\n",
       "       Gear_Bear_Temp_Avg  Rtr_RPM_Max  Rtr_RPM_Min  Rtr_RPM_Avg  \\\n",
       "0                    48.0         11.3         10.9         11.1   \n",
       "1                    48.0         11.2          0.0          8.8   \n",
       "2                    46.0         12.3          1.9          6.8   \n",
       "3                    48.0         11.5         10.7         11.1   \n",
       "4                    48.0         11.7         10.8         11.1   \n",
       "...                   ...          ...          ...          ...   \n",
       "87146                53.0         11.1         10.8         11.0   \n",
       "87147                51.0         11.2          2.3         10.1   \n",
       "87148                49.0         12.3          2.7         10.4   \n",
       "87149                50.0         11.2         10.9         11.0   \n",
       "87150                52.0         11.2         10.9         11.1   \n",
       "\n",
       "       Grd_RtrInvPhase1_Temp_Avg  Grd_RtrInvPhase2_Temp_Avg  \\\n",
       "0                           39.0                       39.0   \n",
       "1                           37.0                       36.0   \n",
       "2                           38.0                       37.0   \n",
       "3                           38.0                       38.0   \n",
       "4                           39.0                       38.0   \n",
       "...                          ...                        ...   \n",
       "87146                       40.0                       41.0   \n",
       "87147                       39.0                       40.0   \n",
       "87148                       40.0                       41.0   \n",
       "87149                       40.0                       41.0   \n",
       "87150                       40.0                       41.0   \n",
       "\n",
       "       Grd_RtrInvPhase3_Temp_Avg  ...  Cont_Hub_Temp_Avg  Cont_VCP_Temp_Avg  \\\n",
       "0                           38.0  ...               28.0               43.0   \n",
       "1                           37.0  ...               28.0               42.0   \n",
       "2                           37.0  ...               28.0               42.0   \n",
       "3                           38.0  ...               28.0               42.0   \n",
       "4                           38.0  ...               28.0               42.0   \n",
       "...                          ...  ...                ...                ...   \n",
       "87146                       40.0  ...               33.0               44.0   \n",
       "87147                       39.0  ...               33.0               44.0   \n",
       "87148                       41.0  ...               33.0               44.0   \n",
       "87149                       40.0  ...               33.0               44.0   \n",
       "87150                       40.0  ...               33.0               45.0   \n",
       "\n",
       "       Cont_VCP_ChokcoilTemp_Avg  Cont_VCP_WtrTemp_Avg  Nac_Temp_Avg  \\\n",
       "0                           91.0                  39.0          28.0   \n",
       "1                           91.0                  37.0          28.0   \n",
       "2                           87.0                  38.0          29.0   \n",
       "3                           87.0                  38.0          28.0   \n",
       "4                           88.0                  39.0          28.0   \n",
       "...                          ...                   ...           ...   \n",
       "87146                       65.0                  38.0          35.0   \n",
       "87147                       66.0                  38.0          35.0   \n",
       "87148                       65.0                  39.0          35.0   \n",
       "87149                       67.0                  38.0          34.0   \n",
       "87150                       68.0                  38.0          35.0   \n",
       "\n",
       "       Nac_Direction_Avg  Spin_Temp_Avg  Grd_Busbar_Temp_Avg  Component  \\\n",
       "0                  218.5           20.0                 38.0        0.0   \n",
       "1                  218.5           20.0                 38.0        0.0   \n",
       "2                  213.3           20.0                 38.0        0.0   \n",
       "3                  222.4           20.0                 38.0        0.0   \n",
       "4                  222.4           20.0                 38.0        0.0   \n",
       "...                  ...            ...                  ...        ...   \n",
       "87146              124.9           27.0                 39.0        0.0   \n",
       "87147              114.5           26.0                 39.0        0.0   \n",
       "87148              110.5           26.0                 39.0        0.0   \n",
       "87149              101.9           26.0                 39.0        0.0   \n",
       "87150              105.0           26.0                 39.0        0.0   \n",
       "\n",
       "                    TTF  \n",
       "0     199 days 02:10:00  \n",
       "1     199 days 02:00:00  \n",
       "2     199 days 01:50:00  \n",
       "3     199 days 01:40:00  \n",
       "4     199 days 01:30:00  \n",
       "...                 ...  \n",
       "87146               NaT  \n",
       "87147               NaT  \n",
       "87148               NaT  \n",
       "87149               NaT  \n",
       "87150               NaT  \n",
       "\n",
       "[174291 rows x 34 columns]"
      ]
     },
     "execution_count": 400,
     "metadata": {},
     "output_type": "execute_result"
    }
   ],
   "source": [
    "gearbox_final"
   ]
  },
  {
   "cell_type": "markdown",
   "id": "southwest-bankruptcy",
   "metadata": {},
   "source": [
    "# DF RUL Failures Transformer"
   ]
  },
  {
   "cell_type": "code",
   "execution_count": 401,
   "id": "similar-cheat",
   "metadata": {
    "ExecuteTime": {
     "end_time": "2021-02-02T22:35:29.627830Z",
     "start_time": "2021-02-02T22:35:28.313789Z"
    }
   },
   "outputs": [],
   "source": [
    "df_signals_transf_final = df_signals_transf_final.groupby(by=['Timestamp','Turbine_ID']).mean()\n",
    "df_signals_transf_final.sort_values(['Turbine_ID','Timestamp'], inplace=True)\n",
    "df_signals_transf_final.reset_index(inplace=True)\n",
    "#DF Signals Generator failures on turbine 7 in 2016\n",
    "df_signals_transf_t7 = df_signals_transf_final[df_signals_transf_final['Turbine_ID'] == 7]\n",
    "df_signals_transf_t1 = df_signals_transf_final[df_signals_transf_final['Turbine_ID'] == 1]"
   ]
  },
  {
   "cell_type": "code",
   "execution_count": 402,
   "id": "august-institute",
   "metadata": {
    "ExecuteTime": {
     "end_time": "2021-02-02T22:35:29.782995Z",
     "start_time": "2021-02-02T22:35:29.637176Z"
    }
   },
   "outputs": [
    {
     "name": "stderr",
     "output_type": "stream",
     "text": [
      "/home/guilherme/.pyenv/versions/3.7.2/lib/python3.7/site-packages/ipykernel_launcher.py:2: SettingWithCopyWarning: \n",
      "A value is trying to be set on a copy of a slice from a DataFrame.\n",
      "Try using .loc[row_indexer,col_indexer] = value instead\n",
      "\n",
      "See the caveats in the documentation: https://pandas.pydata.org/pandas-docs/stable/user_guide/indexing.html#returning-a-view-versus-a-copy\n",
      "  \n"
     ]
    }
   ],
   "source": [
    "index_list = df_signals_transf_t7.loc[df_signals_transf_t7['Component'] == 1]\n",
    "index_list['date'] = index_list['Timestamp']\n",
    "index_list = index_list[['Timestamp','date']]\n",
    "df = df_signals_transf_t7.merge(index_list, on=['Timestamp'], how='left')\n",
    "df_transf_t7 = df.fillna(method='bfill')\n",
    "df_transf_t7['TTF'] = df_transf_t7['date'] - df_transf_t7['Timestamp'] \n",
    "df_transf_t7 = df_transf_t7.drop(columns='date')"
   ]
  },
  {
   "cell_type": "code",
   "execution_count": 403,
   "id": "hybrid-march",
   "metadata": {
    "ExecuteTime": {
     "end_time": "2021-02-02T22:35:29.927089Z",
     "start_time": "2021-02-02T22:35:29.792839Z"
    }
   },
   "outputs": [
    {
     "name": "stderr",
     "output_type": "stream",
     "text": [
      "/home/guilherme/.pyenv/versions/3.7.2/lib/python3.7/site-packages/ipykernel_launcher.py:2: SettingWithCopyWarning: \n",
      "A value is trying to be set on a copy of a slice from a DataFrame.\n",
      "Try using .loc[row_indexer,col_indexer] = value instead\n",
      "\n",
      "See the caveats in the documentation: https://pandas.pydata.org/pandas-docs/stable/user_guide/indexing.html#returning-a-view-versus-a-copy\n",
      "  \n"
     ]
    }
   ],
   "source": [
    "index_list_t1 = df_signals_transf_t1.loc[df_signals_transf_t1['Component'] == 1]\n",
    "index_list_t1['date'] = index_list_t1['Timestamp']\n",
    "index_list = index_list_t1[['Timestamp','date']]\n",
    "df = df_signals_transf_t1.merge(index_list, on=['Timestamp'], how='left')\n",
    "df_transf_t1 = df.fillna(method='bfill')\n",
    "df_transf_t1['TTF'] = df_transf_t1['date'] - df_transf_t1['Timestamp'] \n",
    "df_transf_t1 = df_transf_t1.drop(columns='date')"
   ]
  },
  {
   "cell_type": "code",
   "execution_count": 405,
   "id": "offshore-healthcare",
   "metadata": {
    "ExecuteTime": {
     "end_time": "2021-02-02T22:35:39.484805Z",
     "start_time": "2021-02-02T22:35:39.451512Z"
    }
   },
   "outputs": [],
   "source": [
    "transf_final = pd.concat([df_transf_t1, df_transf_t7])"
   ]
  },
  {
   "cell_type": "code",
   "execution_count": 407,
   "id": "stable-alias",
   "metadata": {
    "ExecuteTime": {
     "end_time": "2021-02-02T22:35:45.652456Z",
     "start_time": "2021-02-02T22:35:45.636368Z"
    }
   },
   "outputs": [
    {
     "data": {
      "text/plain": [
       "((174344, 35), (174291, 34), (259832, 46), (174356, 46), (259830, 33))"
      ]
     },
     "execution_count": 407,
     "metadata": {},
     "output_type": "execute_result"
    }
   ],
   "source": [
    "transf_final.shape, gearbox_final.shape, generator_final.shape, gen_bear_final.shape, hyd_final.shape"
   ]
  },
  {
   "cell_type": "code",
   "execution_count": 408,
   "id": "hybrid-track",
   "metadata": {
    "ExecuteTime": {
     "end_time": "2021-02-02T22:35:45.719285Z",
     "start_time": "2021-02-02T22:35:45.659673Z"
    }
   },
   "outputs": [],
   "source": [
    "transf_final['TTF'] = transf_final['TTF'].dt.days\n",
    "gearbox_final['TTF'] = gearbox_final['TTF'].dt.days\n",
    "generator_final['TTF'] = generator_final['TTF'].dt.days\n",
    "gen_bear_final['TTF'] = gen_bear_final['TTF'].dt.days\n",
    "hyd_final['TTF'] = hyd_final['TTF'].dt.days"
   ]
  },
  {
   "cell_type": "code",
   "execution_count": 409,
   "id": "coastal-national",
   "metadata": {
    "ExecuteTime": {
     "end_time": "2021-02-02T22:35:45.734153Z",
     "start_time": "2021-02-02T22:35:45.723338Z"
    }
   },
   "outputs": [],
   "source": [
    "def Failure_Time_Horizon(days, period):\n",
    "    if days <= period:\n",
    "        Flag=1\n",
    "    else:\n",
    "        Flag=0\n",
    "    return Flag"
   ]
  },
  {
   "cell_type": "code",
   "execution_count": 410,
   "id": "traditional-opening",
   "metadata": {
    "ExecuteTime": {
     "end_time": "2021-02-02T22:36:12.179200Z",
     "start_time": "2021-02-02T22:35:45.738868Z"
    }
   },
   "outputs": [],
   "source": [
    "transf_final['60_days'] = transf_final.apply(lambda x: Failure_Time_Horizon(x['TTF'], 60),axis=1)\n",
    "gearbox_final['60_days'] = gearbox_final.apply(lambda x: Failure_Time_Horizon(x['TTF'], 60),axis=1)\n",
    "generator_final['60_days'] = generator_final.apply(lambda x: Failure_Time_Horizon(x['TTF'], 60),axis=1)\n",
    "gen_bear_final['60_days'] = gen_bear_final.apply(lambda x: Failure_Time_Horizon(x['TTF'], 60),axis=1)\n",
    "hyd_final['60_days'] = hyd_final.apply(lambda x: Failure_Time_Horizon(x['TTF'], 60),axis=1)"
   ]
  },
  {
   "cell_type": "code",
   "execution_count": 411,
   "id": "breeding-grade",
   "metadata": {
    "ExecuteTime": {
     "end_time": "2021-02-02T22:36:34.529559Z",
     "start_time": "2021-02-02T22:36:12.190211Z"
    }
   },
   "outputs": [],
   "source": [
    "transf_final['40_days'] = transf_final.apply(lambda x: Failure_Time_Horizon(x['TTF'], 40),axis=1)\n",
    "gearbox_final['40_days'] = gearbox_final.apply(lambda x: Failure_Time_Horizon(x['TTF'], 40),axis=1)\n",
    "generator_final['40_days'] = generator_final.apply(lambda x: Failure_Time_Horizon(x['TTF'], 40),axis=1)\n",
    "gen_bear_final['40_days'] = gen_bear_final.apply(lambda x: Failure_Time_Horizon(x['TTF'], 40),axis=1)\n",
    "hyd_final['40_days'] = hyd_final.apply(lambda x: Failure_Time_Horizon(x['TTF'], 40),axis=1)"
   ]
  },
  {
   "cell_type": "code",
   "execution_count": 412,
   "id": "empirical-recycling",
   "metadata": {
    "ExecuteTime": {
     "end_time": "2021-02-02T22:36:54.952859Z",
     "start_time": "2021-02-02T22:36:34.534293Z"
    }
   },
   "outputs": [],
   "source": [
    "transf_final['30_days'] = transf_final.apply(lambda x: Failure_Time_Horizon(x['TTF'], 30),axis=1)\n",
    "gearbox_final['30_days'] = gearbox_final.apply(lambda x: Failure_Time_Horizon(x['TTF'], 30),axis=1)\n",
    "generator_final['30_days'] = generator_final.apply(lambda x: Failure_Time_Horizon(x['TTF'], 30),axis=1)\n",
    "gen_bear_final['30_days'] = gen_bear_final.apply(lambda x: Failure_Time_Horizon(x['TTF'], 30),axis=1)\n",
    "hyd_final['30_days'] = hyd_final.apply(lambda x: Failure_Time_Horizon(x['TTF'], 30),axis=1)"
   ]
  },
  {
   "cell_type": "code",
   "execution_count": 413,
   "id": "coated-liabilities",
   "metadata": {
    "ExecuteTime": {
     "end_time": "2021-02-02T22:37:17.047767Z",
     "start_time": "2021-02-02T22:36:54.961050Z"
    }
   },
   "outputs": [],
   "source": [
    "transf_final['20_days'] = transf_final.apply(lambda x: Failure_Time_Horizon(x['TTF'], 20),axis=1)\n",
    "gearbox_final['20_days'] = gearbox_final.apply(lambda x: Failure_Time_Horizon(x['TTF'], 20),axis=1)\n",
    "generator_final['20_days'] = generator_final.apply(lambda x: Failure_Time_Horizon(x['TTF'], 20),axis=1)\n",
    "gen_bear_final['20_days'] = gen_bear_final.apply(lambda x: Failure_Time_Horizon(x['TTF'], 20),axis=1)\n",
    "hyd_final['20_days'] = hyd_final.apply(lambda x: Failure_Time_Horizon(x['TTF'], 20),axis=1)"
   ]
  },
  {
   "cell_type": "code",
   "execution_count": 414,
   "id": "behavioral-share",
   "metadata": {
    "ExecuteTime": {
     "end_time": "2021-02-02T22:37:37.669482Z",
     "start_time": "2021-02-02T22:37:17.052813Z"
    }
   },
   "outputs": [],
   "source": [
    "transf_final['10_days'] = transf_final.apply(lambda x: Failure_Time_Horizon(x['TTF'], 10),axis=1)\n",
    "gearbox_final['10_days'] = gearbox_final.apply(lambda x: Failure_Time_Horizon(x['TTF'], 10),axis=1)\n",
    "generator_final['10_days'] = generator_final.apply(lambda x: Failure_Time_Horizon(x['TTF'], 10),axis=1)\n",
    "gen_bear_final['10_days'] = gen_bear_final.apply(lambda x: Failure_Time_Horizon(x['TTF'], 10),axis=1)\n",
    "hyd_final['10_days'] = hyd_final.apply(lambda x: Failure_Time_Horizon(x['TTF'], 10),axis=1)"
   ]
  },
  {
   "cell_type": "code",
   "execution_count": 415,
   "id": "legitimate-longitude",
   "metadata": {
    "ExecuteTime": {
     "end_time": "2021-02-02T22:37:59.369496Z",
     "start_time": "2021-02-02T22:37:37.672691Z"
    }
   },
   "outputs": [],
   "source": [
    "transf_final['2_days'] = transf_final.apply(lambda x: Failure_Time_Horizon(x['TTF'], 2),axis=1)\n",
    "gearbox_final['2_days'] = gearbox_final.apply(lambda x: Failure_Time_Horizon(x['TTF'], 2),axis=1)\n",
    "generator_final['2_days'] = generator_final.apply(lambda x: Failure_Time_Horizon(x['TTF'], 2),axis=1)\n",
    "gen_bear_final['2_days'] = gen_bear_final.apply(lambda x: Failure_Time_Horizon(x['TTF'], 2),axis=1)\n",
    "hyd_final['2_days'] = hyd_final.apply(lambda x: Failure_Time_Horizon(x['TTF'], 2),axis=1)"
   ]
  },
  {
   "cell_type": "code",
   "execution_count": 416,
   "id": "sudden-battery",
   "metadata": {
    "ExecuteTime": {
     "end_time": "2021-02-02T22:37:59.393128Z",
     "start_time": "2021-02-02T22:37:59.384147Z"
    }
   },
   "outputs": [],
   "source": [
    "lista = [transf_final, gearbox_final, generator_final, gen_bear_final, hyd_final]"
   ]
  },
  {
   "cell_type": "code",
   "execution_count": 417,
   "id": "endangered-audio",
   "metadata": {
    "ExecuteTime": {
     "end_time": "2021-02-02T22:38:08.105196Z",
     "start_time": "2021-02-02T22:37:59.398086Z"
    }
   },
   "outputs": [],
   "source": [
    "for i, df in enumerate(lista):\n",
    "    lista[i] = df.fillna(0)"
   ]
  },
  {
   "cell_type": "code",
   "execution_count": 418,
   "id": "spread-gateway",
   "metadata": {
    "ExecuteTime": {
     "end_time": "2021-02-02T22:38:08.123872Z",
     "start_time": "2021-02-02T22:38:08.107799Z"
    }
   },
   "outputs": [
    {
     "name": "stdout",
     "output_type": "stream",
     "text": [
      "0\n",
      "0\n",
      "0\n",
      "0\n",
      "0\n"
     ]
    }
   ],
   "source": [
    "for i in lista:\n",
    "    print(i['TTF'].isna().sum())"
   ]
  },
  {
   "cell_type": "code",
   "execution_count": 419,
   "id": "mediterranean-layer",
   "metadata": {
    "ExecuteTime": {
     "end_time": "2021-02-02T22:38:16.898225Z",
     "start_time": "2021-02-02T22:38:08.132125Z"
    }
   },
   "outputs": [],
   "source": [
    "transf_final.fillna(0, inplace=True)\n",
    "gearbox_final.fillna(0, inplace=True)\n",
    "generator_final.fillna(0, inplace=True)\n",
    "gen_bear_final.fillna(0, inplace=True)\n",
    "hyd_final.fillna(0, inplace=True)"
   ]
  },
  {
   "cell_type": "markdown",
   "id": "right-civilization",
   "metadata": {},
   "source": [
    "# TRAINING"
   ]
  },
  {
   "cell_type": "code",
   "execution_count": 420,
   "id": "persistent-incidence",
   "metadata": {
    "ExecuteTime": {
     "end_time": "2021-02-02T22:38:16.961439Z",
     "start_time": "2021-02-02T22:38:16.907780Z"
    }
   },
   "outputs": [],
   "source": [
    "temp = transf_final.copy()"
   ]
  },
  {
   "cell_type": "code",
   "execution_count": 421,
   "id": "blind-medline",
   "metadata": {
    "ExecuteTime": {
     "end_time": "2021-02-02T22:38:17.123139Z",
     "start_time": "2021-02-02T22:38:16.977510Z"
    }
   },
   "outputs": [],
   "source": [
    "temp_train = temp[temp['Timestamp'] < '2017-06-01 00:00:00+00:00']\n",
    "temp_test = temp[temp['Timestamp'] >= '2017-06-01 00:00:00+00:00']"
   ]
  },
  {
   "cell_type": "code",
   "execution_count": 422,
   "id": "antique-green",
   "metadata": {
    "ExecuteTime": {
     "end_time": "2021-02-02T22:38:17.158950Z",
     "start_time": "2021-02-02T22:38:17.137060Z"
    }
   },
   "outputs": [
    {
     "data": {
      "text/plain": [
       "Index(['Timestamp', 'Turbine_ID', 'HVTrafo_Phase1_Temp_Avg',\n",
       "       'HVTrafo_Phase2_Temp_Avg', 'HVTrafo_Phase3_Temp_Avg', 'Rtr_RPM_Max',\n",
       "       'Rtr_RPM_Min', 'Rtr_RPM_Avg', 'Grd_RtrInvPhase1_Temp_Avg',\n",
       "       'Grd_RtrInvPhase2_Temp_Avg', 'Grd_RtrInvPhase3_Temp_Avg', 'Rtr_RPM_Std',\n",
       "       'Amb_WindSpeed_Max', 'Amb_WindSpeed_Min', 'Amb_WindSpeed_Avg',\n",
       "       'Amb_WindSpeed_Std', 'Amb_WindDir_Relative_Avg', 'Amb_WindDir_Abs_Avg',\n",
       "       'Amb_Temp_Avg', 'Amb_WindSpeed_Est_Avg', 'Blds_PitchAngle_Min',\n",
       "       'Blds_PitchAngle_Max', 'Blds_PitchAngle_Avg', 'Blds_PitchAngle_Std',\n",
       "       'Cont_Top_Temp_Avg', 'Cont_Hub_Temp_Avg', 'Cont_VCP_Temp_Avg',\n",
       "       'Cont_VCP_ChokcoilTemp_Avg', 'Cont_VCP_WtrTemp_Avg', 'Nac_Temp_Avg',\n",
       "       'Nac_Direction_Avg', 'Spin_Temp_Avg', 'Grd_Busbar_Temp_Avg',\n",
       "       'Component', 'TTF', '60_days', '40_days', '30_days', '20_days',\n",
       "       '10_days', '2_days'],\n",
       "      dtype='object')"
      ]
     },
     "execution_count": 422,
     "metadata": {},
     "output_type": "execute_result"
    }
   ],
   "source": [
    "temp_train.columns"
   ]
  },
  {
   "cell_type": "code",
   "execution_count": 423,
   "id": "authentic-milwaukee",
   "metadata": {
    "ExecuteTime": {
     "end_time": "2021-02-02T22:38:17.246488Z",
     "start_time": "2021-02-02T22:38:17.172509Z"
    }
   },
   "outputs": [],
   "source": [
    "X_train_transf = temp_train.drop(columns=['Timestamp','Turbine_ID', 'TTF', '60_days', '40_days', '30_days', '20_days',\n",
    "       '10_days', '2_days'])\n",
    "y_train_transf = temp_train['60_days']\n",
    "X_test_transf = temp_test.drop(columns=['Timestamp','Turbine_ID', 'TTF', '60_days', '40_days', '30_days', '20_days',\n",
    "       '10_days', '2_days'])\n",
    "y_test_transf = temp_test['60_days']"
   ]
  },
  {
   "cell_type": "code",
   "execution_count": 424,
   "id": "comparable-creature",
   "metadata": {
    "ExecuteTime": {
     "end_time": "2021-02-02T22:38:17.272547Z",
     "start_time": "2021-02-02T22:38:17.256103Z"
    }
   },
   "outputs": [
    {
     "data": {
      "text/plain": [
       "0    133223\n",
       "1     15087\n",
       "Name: 60_days, dtype: int64"
      ]
     },
     "execution_count": 424,
     "metadata": {},
     "output_type": "execute_result"
    }
   ],
   "source": [
    "y_train_transf.value_counts()"
   ]
  },
  {
   "cell_type": "code",
   "execution_count": 425,
   "id": "operational-funds",
   "metadata": {
    "ExecuteTime": {
     "end_time": "2021-02-02T22:38:17.297158Z",
     "start_time": "2021-02-02T22:38:17.277004Z"
    }
   },
   "outputs": [
    {
     "data": {
      "text/plain": [
       "0    17483\n",
       "1     8551\n",
       "Name: 60_days, dtype: int64"
      ]
     },
     "execution_count": 425,
     "metadata": {},
     "output_type": "execute_result"
    }
   ],
   "source": [
    "y_test_transf.value_counts()"
   ]
  },
  {
   "cell_type": "code",
   "execution_count": 426,
   "id": "approved-chassis",
   "metadata": {
    "ExecuteTime": {
     "end_time": "2021-02-02T22:38:17.506889Z",
     "start_time": "2021-02-02T22:38:17.311623Z"
    }
   },
   "outputs": [
    {
     "data": {
      "text/plain": [
       "array([[ 0.12297622,  0.4028775 ,  0.94803855, ...,  0.26459745,\n",
       "         0.05812638, -0.00367225],\n",
       "       [ 0.02290542,  0.32147336,  0.82341281, ...,  0.26459745,\n",
       "         0.05812638, -0.00367225],\n",
       "       [-0.07716537,  0.24006922,  0.76109994, ...,  0.26459745,\n",
       "         0.31325095, -0.00367225],\n",
       "       ...,\n",
       "       [ 1.12368418,  0.48428164,  0.13797126, ...,  0.99067076,\n",
       "         0.31325095, -0.00367225],\n",
       "       [ 1.12368418,  0.48428164,  0.13797126, ...,  0.99067076,\n",
       "         0.31325095, -0.00367225],\n",
       "       [ 1.12368418,  0.48428164,  0.13797126, ...,  0.99067076,\n",
       "         0.31325095, -0.00367225]])"
      ]
     },
     "execution_count": 426,
     "metadata": {},
     "output_type": "execute_result"
    }
   ],
   "source": [
    "scaler = StandardScaler()\n",
    "scaler.fit_transform(X_train_transf)\n",
    "scaler.transform(X_test_transf)"
   ]
  },
  {
   "cell_type": "code",
   "execution_count": 427,
   "id": "handed-league",
   "metadata": {
    "ExecuteTime": {
     "end_time": "2021-02-02T22:38:17.521248Z",
     "start_time": "2021-02-02T22:38:17.511532Z"
    }
   },
   "outputs": [],
   "source": [
    "from sklearn.linear_model import LogisticRegression"
   ]
  },
  {
   "cell_type": "code",
   "execution_count": 428,
   "id": "practical-injection",
   "metadata": {
    "ExecuteTime": {
     "end_time": "2021-02-02T22:38:23.241643Z",
     "start_time": "2021-02-02T22:38:17.527186Z"
    }
   },
   "outputs": [
    {
     "name": "stderr",
     "output_type": "stream",
     "text": [
      "/home/guilherme/.pyenv/versions/3.7.2/lib/python3.7/site-packages/sklearn/linear_model/_logistic.py:765: ConvergenceWarning: lbfgs failed to converge (status=1):\n",
      "STOP: TOTAL NO. of ITERATIONS REACHED LIMIT.\n",
      "\n",
      "Increase the number of iterations (max_iter) or scale the data as shown in:\n",
      "    https://scikit-learn.org/stable/modules/preprocessing.html\n",
      "Please also refer to the documentation for alternative solver options:\n",
      "    https://scikit-learn.org/stable/modules/linear_model.html#logistic-regression\n",
      "  extra_warning_msg=_LOGISTIC_SOLVER_CONVERGENCE_MSG)\n"
     ]
    },
    {
     "data": {
      "text/plain": [
       "LogisticRegression()"
      ]
     },
     "execution_count": 428,
     "metadata": {},
     "output_type": "execute_result"
    }
   ],
   "source": [
    "model = LogisticRegression()\n",
    "model.fit(X_train_transf, y_train_transf)"
   ]
  },
  {
   "cell_type": "code",
   "execution_count": 429,
   "id": "after-belle",
   "metadata": {
    "ExecuteTime": {
     "end_time": "2021-02-02T22:38:23.314054Z",
     "start_time": "2021-02-02T22:38:23.260445Z"
    }
   },
   "outputs": [
    {
     "data": {
      "text/plain": [
       "0.5679880156718138"
      ]
     },
     "execution_count": 429,
     "metadata": {},
     "output_type": "execute_result"
    }
   ],
   "source": [
    "model.score(X_test_transf, y_test_transf)"
   ]
  },
  {
   "cell_type": "code",
   "execution_count": 432,
   "id": "lightweight-electric",
   "metadata": {
    "ExecuteTime": {
     "end_time": "2021-02-02T22:39:59.205873Z",
     "start_time": "2021-02-02T22:39:59.185059Z"
    }
   },
   "outputs": [],
   "source": [
    "y_pred = model.predict(X_test_transf)"
   ]
  },
  {
   "cell_type": "code",
   "execution_count": 434,
   "id": "synthetic-burning",
   "metadata": {
    "ExecuteTime": {
     "end_time": "2021-02-02T22:40:58.861740Z",
     "start_time": "2021-02-02T22:40:58.857931Z"
    }
   },
   "outputs": [],
   "source": [
    "from sklearn.metrics import recall_score, roc_auc_score"
   ]
  },
  {
   "cell_type": "code",
   "execution_count": 436,
   "id": "classified-range",
   "metadata": {
    "ExecuteTime": {
     "end_time": "2021-02-02T22:41:27.679197Z",
     "start_time": "2021-02-02T22:41:27.659113Z"
    }
   },
   "outputs": [
    {
     "data": {
      "text/plain": [
       "0.032744708221260674"
      ]
     },
     "execution_count": 436,
     "metadata": {},
     "output_type": "execute_result"
    }
   ],
   "source": [
    "recall_score(y_test_transf, y_pred)\n",
    "#sklearn.metrics.roc_auc_score(y_test_transf, y_prob)"
   ]
  },
  {
   "cell_type": "code",
   "execution_count": 440,
   "id": "aging-hygiene",
   "metadata": {
    "ExecuteTime": {
     "end_time": "2021-02-02T22:45:57.529483Z",
     "start_time": "2021-02-02T22:45:57.511321Z"
    }
   },
   "outputs": [],
   "source": [
    "y_prob = model.predict_proba(X_test_transf)[:,1]"
   ]
  },
  {
   "cell_type": "code",
   "execution_count": 441,
   "id": "perceived-cassette",
   "metadata": {
    "ExecuteTime": {
     "end_time": "2021-02-02T22:45:58.378344Z",
     "start_time": "2021-02-02T22:45:58.350852Z"
    }
   },
   "outputs": [
    {
     "data": {
      "text/plain": [
       "0.38661324026862776"
      ]
     },
     "execution_count": 441,
     "metadata": {},
     "output_type": "execute_result"
    }
   ],
   "source": [
    "roc_auc_score(y_test_transf, y_prob)"
   ]
  },
  {
   "cell_type": "code",
   "execution_count": 442,
   "id": "silent-douglas",
   "metadata": {
    "ExecuteTime": {
     "end_time": "2021-02-02T22:51:21.606455Z",
     "start_time": "2021-02-02T22:51:21.601445Z"
    }
   },
   "outputs": [],
   "source": [
    "from sklearn.metrics import confusion_matrix"
   ]
  },
  {
   "cell_type": "code",
   "execution_count": 443,
   "id": "fluid-batch",
   "metadata": {
    "ExecuteTime": {
     "end_time": "2021-02-02T22:51:35.337933Z",
     "start_time": "2021-02-02T22:51:35.247003Z"
    }
   },
   "outputs": [
    {
     "name": "stdout",
     "output_type": "stream",
     "text": [
      "Model: Decision Tree\n",
      " \n",
      "AUC_Test:     0.38661324026862776\n",
      "Accuracy:     0.5679880156718138\n",
      "Sensitivity:  0.032744708221260674\n",
      "Specificity:  0.8297774981410513\n",
      "Precision:    0.085995085995086\n"
     ]
    },
    {
     "data": {
      "text/html": [
       "<div>\n",
       "<style scoped>\n",
       "    .dataframe tbody tr th:only-of-type {\n",
       "        vertical-align: middle;\n",
       "    }\n",
       "\n",
       "    .dataframe tbody tr th {\n",
       "        vertical-align: top;\n",
       "    }\n",
       "\n",
       "    .dataframe thead th {\n",
       "        text-align: right;\n",
       "    }\n",
       "</style>\n",
       "<table border=\"1\" class=\"dataframe\">\n",
       "  <thead>\n",
       "    <tr style=\"text-align: right;\">\n",
       "      <th>Predicted Class</th>\n",
       "      <th>0</th>\n",
       "      <th>1</th>\n",
       "    </tr>\n",
       "    <tr>\n",
       "      <th>Actual Class</th>\n",
       "      <th></th>\n",
       "      <th></th>\n",
       "    </tr>\n",
       "  </thead>\n",
       "  <tbody>\n",
       "    <tr>\n",
       "      <th>0</th>\n",
       "      <td>14507</td>\n",
       "      <td>2976</td>\n",
       "    </tr>\n",
       "    <tr>\n",
       "      <th>1</th>\n",
       "      <td>8271</td>\n",
       "      <td>280</td>\n",
       "    </tr>\n",
       "  </tbody>\n",
       "</table>\n",
       "</div>"
      ],
      "text/plain": [
       "Predicted Class      0     1\n",
       "Actual Class                \n",
       "0                14507  2976\n",
       "1                 8271   280"
      ]
     },
     "execution_count": 443,
     "metadata": {},
     "output_type": "execute_result"
    }
   ],
   "source": [
    "cm2 = confusion_matrix(y_test_transf,y_pred)\n",
    "total1=sum(sum(cm2))\n",
    "print ('Model: Decision Tree')\n",
    "print(' ')\n",
    "#print('AUC_Train:   ', roc_auc_score(Y_train_balanced, tree_prob_calculadas_train))\n",
    "print('AUC_Test:    ', roc_auc_score(y_test_transf, y_prob))\n",
    "print('Accuracy:    ', (cm2[0,0]+cm2[1,1])/total1)\n",
    "print('Sensitivity: ', cm2[1,1]/(cm2[1,0]+cm2[1,1]))\n",
    "print('Specificity: ',  cm2[0,0]/(cm2[0,0]+cm2[0,1]) )\n",
    "print('Precision:   ', cm2[1,1]/(cm2[0,1]+cm2[1,1]))\n",
    "#print('F1 Score:    ',f1_score(Y_test_all,tree_class_calculadas_test))\n",
    "#print('Log Loss:    ', log_loss(Y_test_all, tree_prob_calculadas_test))\n",
    "#print('FBeta Score: ', fbeta_score(Y_test_all,tree_class_calculadas_test, beta=10))\n",
    "pd.crosstab(y_test_transf, y_pred, rownames=['Actual Class'], colnames=['Predicted Class'])"
   ]
  },
  {
   "cell_type": "code",
   "execution_count": null,
   "id": "developed-absolute",
   "metadata": {},
   "outputs": [],
   "source": []
  },
  {
   "cell_type": "code",
   "execution_count": null,
   "id": "foreign-virginia",
   "metadata": {},
   "outputs": [],
   "source": []
  },
  {
   "cell_type": "code",
   "execution_count": null,
   "id": "accepted-coffee",
   "metadata": {},
   "outputs": [],
   "source": []
  },
  {
   "cell_type": "code",
   "execution_count": null,
   "id": "supposed-seminar",
   "metadata": {},
   "outputs": [],
   "source": []
  },
  {
   "cell_type": "code",
   "execution_count": null,
   "id": "increased-wrapping",
   "metadata": {},
   "outputs": [],
   "source": []
  },
  {
   "cell_type": "code",
   "execution_count": 430,
   "id": "internal-luther",
   "metadata": {
    "ExecuteTime": {
     "end_time": "2021-02-02T22:38:23.547000Z",
     "start_time": "2021-02-02T22:38:23.323754Z"
    }
   },
   "outputs": [],
   "source": [
    "temp['date'] = temp['Timestamp'].dt.date"
   ]
  },
  {
   "cell_type": "code",
   "execution_count": 431,
   "id": "clean-focus",
   "metadata": {
    "ExecuteTime": {
     "end_time": "2021-02-02T22:38:23.809181Z",
     "start_time": "2021-02-02T22:38:23.558500Z"
    }
   },
   "outputs": [
    {
     "data": {
      "text/html": [
       "<div>\n",
       "<style scoped>\n",
       "    .dataframe tbody tr th:only-of-type {\n",
       "        vertical-align: middle;\n",
       "    }\n",
       "\n",
       "    .dataframe tbody tr th {\n",
       "        vertical-align: top;\n",
       "    }\n",
       "\n",
       "    .dataframe thead th {\n",
       "        text-align: right;\n",
       "    }\n",
       "</style>\n",
       "<table border=\"1\" class=\"dataframe\">\n",
       "  <thead>\n",
       "    <tr style=\"text-align: right;\">\n",
       "      <th></th>\n",
       "      <th></th>\n",
       "      <th>HVTrafo_Phase1_Temp_Avg</th>\n",
       "      <th>HVTrafo_Phase2_Temp_Avg</th>\n",
       "      <th>HVTrafo_Phase3_Temp_Avg</th>\n",
       "      <th>Rtr_RPM_Max</th>\n",
       "      <th>Rtr_RPM_Min</th>\n",
       "      <th>Rtr_RPM_Avg</th>\n",
       "      <th>Grd_RtrInvPhase1_Temp_Avg</th>\n",
       "      <th>Grd_RtrInvPhase2_Temp_Avg</th>\n",
       "      <th>Grd_RtrInvPhase3_Temp_Avg</th>\n",
       "      <th>Rtr_RPM_Std</th>\n",
       "      <th>...</th>\n",
       "      <th>Spin_Temp_Avg</th>\n",
       "      <th>Grd_Busbar_Temp_Avg</th>\n",
       "      <th>Component</th>\n",
       "      <th>TTF</th>\n",
       "      <th>60_days</th>\n",
       "      <th>40_days</th>\n",
       "      <th>30_days</th>\n",
       "      <th>20_days</th>\n",
       "      <th>10_days</th>\n",
       "      <th>2_days</th>\n",
       "    </tr>\n",
       "    <tr>\n",
       "      <th>date</th>\n",
       "      <th>Turbine_ID</th>\n",
       "      <th></th>\n",
       "      <th></th>\n",
       "      <th></th>\n",
       "      <th></th>\n",
       "      <th></th>\n",
       "      <th></th>\n",
       "      <th></th>\n",
       "      <th></th>\n",
       "      <th></th>\n",
       "      <th></th>\n",
       "      <th></th>\n",
       "      <th></th>\n",
       "      <th></th>\n",
       "      <th></th>\n",
       "      <th></th>\n",
       "      <th></th>\n",
       "      <th></th>\n",
       "      <th></th>\n",
       "      <th></th>\n",
       "      <th></th>\n",
       "      <th></th>\n",
       "    </tr>\n",
       "  </thead>\n",
       "  <tbody>\n",
       "    <tr>\n",
       "      <th rowspan=\"2\" valign=\"top\">2016-01-01</th>\n",
       "      <th>1</th>\n",
       "      <td>69.972222</td>\n",
       "      <td>78.430556</td>\n",
       "      <td>67.652778</td>\n",
       "      <td>11.095139</td>\n",
       "      <td>8.065278</td>\n",
       "      <td>9.651389</td>\n",
       "      <td>37.340278</td>\n",
       "      <td>37.006944</td>\n",
       "      <td>36.791667</td>\n",
       "      <td>0.854167</td>\n",
       "      <td>...</td>\n",
       "      <td>20.861111</td>\n",
       "      <td>37.361111</td>\n",
       "      <td>0.0</td>\n",
       "      <td>587.555556</td>\n",
       "      <td>0.0</td>\n",
       "      <td>0.0</td>\n",
       "      <td>0.0</td>\n",
       "      <td>0.0</td>\n",
       "      <td>0.0</td>\n",
       "      <td>0.0</td>\n",
       "    </tr>\n",
       "    <tr>\n",
       "      <th>7</th>\n",
       "      <td>72.604167</td>\n",
       "      <td>76.576389</td>\n",
       "      <td>76.486111</td>\n",
       "      <td>11.557639</td>\n",
       "      <td>8.594444</td>\n",
       "      <td>10.016667</td>\n",
       "      <td>38.083333</td>\n",
       "      <td>37.944444</td>\n",
       "      <td>39.833333</td>\n",
       "      <td>0.869444</td>\n",
       "      <td>...</td>\n",
       "      <td>20.784722</td>\n",
       "      <td>35.659722</td>\n",
       "      <td>0.0</td>\n",
       "      <td>190.159722</td>\n",
       "      <td>0.0</td>\n",
       "      <td>0.0</td>\n",
       "      <td>0.0</td>\n",
       "      <td>0.0</td>\n",
       "      <td>0.0</td>\n",
       "      <td>0.0</td>\n",
       "    </tr>\n",
       "    <tr>\n",
       "      <th rowspan=\"2\" valign=\"top\">2016-01-02</th>\n",
       "      <th>1</th>\n",
       "      <td>69.868056</td>\n",
       "      <td>77.979167</td>\n",
       "      <td>67.513889</td>\n",
       "      <td>5.979167</td>\n",
       "      <td>4.132639</td>\n",
       "      <td>5.104861</td>\n",
       "      <td>33.569444</td>\n",
       "      <td>33.298611</td>\n",
       "      <td>33.236111</td>\n",
       "      <td>0.529167</td>\n",
       "      <td>...</td>\n",
       "      <td>18.833333</td>\n",
       "      <td>32.618056</td>\n",
       "      <td>0.0</td>\n",
       "      <td>586.555556</td>\n",
       "      <td>0.0</td>\n",
       "      <td>0.0</td>\n",
       "      <td>0.0</td>\n",
       "      <td>0.0</td>\n",
       "      <td>0.0</td>\n",
       "      <td>0.0</td>\n",
       "    </tr>\n",
       "    <tr>\n",
       "      <th>7</th>\n",
       "      <td>73.312500</td>\n",
       "      <td>76.527778</td>\n",
       "      <td>76.430556</td>\n",
       "      <td>6.240278</td>\n",
       "      <td>4.174306</td>\n",
       "      <td>5.215972</td>\n",
       "      <td>33.881944</td>\n",
       "      <td>33.763889</td>\n",
       "      <td>35.527778</td>\n",
       "      <td>0.590972</td>\n",
       "      <td>...</td>\n",
       "      <td>19.034722</td>\n",
       "      <td>31.402778</td>\n",
       "      <td>0.0</td>\n",
       "      <td>189.159722</td>\n",
       "      <td>0.0</td>\n",
       "      <td>0.0</td>\n",
       "      <td>0.0</td>\n",
       "      <td>0.0</td>\n",
       "      <td>0.0</td>\n",
       "      <td>0.0</td>\n",
       "    </tr>\n",
       "    <tr>\n",
       "      <th>2016-01-03</th>\n",
       "      <th>1</th>\n",
       "      <td>68.930556</td>\n",
       "      <td>77.805556</td>\n",
       "      <td>69.076389</td>\n",
       "      <td>7.997917</td>\n",
       "      <td>6.456250</td>\n",
       "      <td>7.403472</td>\n",
       "      <td>35.006944</td>\n",
       "      <td>34.965278</td>\n",
       "      <td>34.576389</td>\n",
       "      <td>0.371528</td>\n",
       "      <td>...</td>\n",
       "      <td>18.576389</td>\n",
       "      <td>31.680556</td>\n",
       "      <td>0.0</td>\n",
       "      <td>585.555556</td>\n",
       "      <td>0.0</td>\n",
       "      <td>0.0</td>\n",
       "      <td>0.0</td>\n",
       "      <td>0.0</td>\n",
       "      <td>0.0</td>\n",
       "      <td>0.0</td>\n",
       "    </tr>\n",
       "    <tr>\n",
       "      <th>...</th>\n",
       "      <th>...</th>\n",
       "      <td>...</td>\n",
       "      <td>...</td>\n",
       "      <td>...</td>\n",
       "      <td>...</td>\n",
       "      <td>...</td>\n",
       "      <td>...</td>\n",
       "      <td>...</td>\n",
       "      <td>...</td>\n",
       "      <td>...</td>\n",
       "      <td>...</td>\n",
       "      <td>...</td>\n",
       "      <td>...</td>\n",
       "      <td>...</td>\n",
       "      <td>...</td>\n",
       "      <td>...</td>\n",
       "      <td>...</td>\n",
       "      <td>...</td>\n",
       "      <td>...</td>\n",
       "      <td>...</td>\n",
       "      <td>...</td>\n",
       "      <td>...</td>\n",
       "    </tr>\n",
       "    <tr>\n",
       "      <th>2017-08-30</th>\n",
       "      <th>7</th>\n",
       "      <td>74.908451</td>\n",
       "      <td>77.218310</td>\n",
       "      <td>74.063380</td>\n",
       "      <td>4.095775</td>\n",
       "      <td>2.241549</td>\n",
       "      <td>3.208451</td>\n",
       "      <td>34.007042</td>\n",
       "      <td>33.697183</td>\n",
       "      <td>35.366197</td>\n",
       "      <td>0.569014</td>\n",
       "      <td>...</td>\n",
       "      <td>27.422535</td>\n",
       "      <td>32.598592</td>\n",
       "      <td>0.0</td>\n",
       "      <td>0.000000</td>\n",
       "      <td>0.0</td>\n",
       "      <td>0.0</td>\n",
       "      <td>0.0</td>\n",
       "      <td>0.0</td>\n",
       "      <td>0.0</td>\n",
       "      <td>0.0</td>\n",
       "    </tr>\n",
       "    <tr>\n",
       "      <th rowspan=\"2\" valign=\"top\">2017-08-31</th>\n",
       "      <th>1</th>\n",
       "      <td>73.236111</td>\n",
       "      <td>77.104167</td>\n",
       "      <td>71.506944</td>\n",
       "      <td>8.425000</td>\n",
       "      <td>5.775694</td>\n",
       "      <td>6.938889</td>\n",
       "      <td>37.229167</td>\n",
       "      <td>36.826389</td>\n",
       "      <td>36.791667</td>\n",
       "      <td>0.764583</td>\n",
       "      <td>...</td>\n",
       "      <td>28.215278</td>\n",
       "      <td>37.187500</td>\n",
       "      <td>0.0</td>\n",
       "      <td>0.000000</td>\n",
       "      <td>0.0</td>\n",
       "      <td>0.0</td>\n",
       "      <td>0.0</td>\n",
       "      <td>0.0</td>\n",
       "      <td>0.0</td>\n",
       "      <td>0.0</td>\n",
       "    </tr>\n",
       "    <tr>\n",
       "      <th>7</th>\n",
       "      <td>76.965035</td>\n",
       "      <td>79.314685</td>\n",
       "      <td>76.251748</td>\n",
       "      <td>6.525874</td>\n",
       "      <td>4.188112</td>\n",
       "      <td>5.097203</td>\n",
       "      <td>35.489510</td>\n",
       "      <td>35.286713</td>\n",
       "      <td>37.006993</td>\n",
       "      <td>0.681818</td>\n",
       "      <td>...</td>\n",
       "      <td>27.531469</td>\n",
       "      <td>34.426573</td>\n",
       "      <td>0.0</td>\n",
       "      <td>0.000000</td>\n",
       "      <td>0.0</td>\n",
       "      <td>0.0</td>\n",
       "      <td>0.0</td>\n",
       "      <td>0.0</td>\n",
       "      <td>0.0</td>\n",
       "      <td>0.0</td>\n",
       "    </tr>\n",
       "    <tr>\n",
       "      <th rowspan=\"2\" valign=\"top\">2017-09-01</th>\n",
       "      <th>1</th>\n",
       "      <td>75.000000</td>\n",
       "      <td>80.000000</td>\n",
       "      <td>75.000000</td>\n",
       "      <td>11.400000</td>\n",
       "      <td>10.800000</td>\n",
       "      <td>11.100000</td>\n",
       "      <td>39.000000</td>\n",
       "      <td>39.000000</td>\n",
       "      <td>38.000000</td>\n",
       "      <td>0.100000</td>\n",
       "      <td>...</td>\n",
       "      <td>26.000000</td>\n",
       "      <td>40.000000</td>\n",
       "      <td>0.0</td>\n",
       "      <td>0.000000</td>\n",
       "      <td>0.0</td>\n",
       "      <td>0.0</td>\n",
       "      <td>0.0</td>\n",
       "      <td>0.0</td>\n",
       "      <td>0.0</td>\n",
       "      <td>0.0</td>\n",
       "    </tr>\n",
       "    <tr>\n",
       "      <th>7</th>\n",
       "      <td>80.000000</td>\n",
       "      <td>83.000000</td>\n",
       "      <td>80.000000</td>\n",
       "      <td>11.400000</td>\n",
       "      <td>10.900000</td>\n",
       "      <td>11.100000</td>\n",
       "      <td>39.000000</td>\n",
       "      <td>39.000000</td>\n",
       "      <td>41.000000</td>\n",
       "      <td>0.100000</td>\n",
       "      <td>...</td>\n",
       "      <td>27.000000</td>\n",
       "      <td>39.000000</td>\n",
       "      <td>0.0</td>\n",
       "      <td>0.000000</td>\n",
       "      <td>0.0</td>\n",
       "      <td>0.0</td>\n",
       "      <td>0.0</td>\n",
       "      <td>0.0</td>\n",
       "      <td>0.0</td>\n",
       "      <td>0.0</td>\n",
       "    </tr>\n",
       "  </tbody>\n",
       "</table>\n",
       "<p>1220 rows × 39 columns</p>\n",
       "</div>"
      ],
      "text/plain": [
       "                       HVTrafo_Phase1_Temp_Avg  HVTrafo_Phase2_Temp_Avg  \\\n",
       "date       Turbine_ID                                                     \n",
       "2016-01-01 1                         69.972222                78.430556   \n",
       "           7                         72.604167                76.576389   \n",
       "2016-01-02 1                         69.868056                77.979167   \n",
       "           7                         73.312500                76.527778   \n",
       "2016-01-03 1                         68.930556                77.805556   \n",
       "...                                        ...                      ...   \n",
       "2017-08-30 7                         74.908451                77.218310   \n",
       "2017-08-31 1                         73.236111                77.104167   \n",
       "           7                         76.965035                79.314685   \n",
       "2017-09-01 1                         75.000000                80.000000   \n",
       "           7                         80.000000                83.000000   \n",
       "\n",
       "                       HVTrafo_Phase3_Temp_Avg  Rtr_RPM_Max  Rtr_RPM_Min  \\\n",
       "date       Turbine_ID                                                      \n",
       "2016-01-01 1                         67.652778    11.095139     8.065278   \n",
       "           7                         76.486111    11.557639     8.594444   \n",
       "2016-01-02 1                         67.513889     5.979167     4.132639   \n",
       "           7                         76.430556     6.240278     4.174306   \n",
       "2016-01-03 1                         69.076389     7.997917     6.456250   \n",
       "...                                        ...          ...          ...   \n",
       "2017-08-30 7                         74.063380     4.095775     2.241549   \n",
       "2017-08-31 1                         71.506944     8.425000     5.775694   \n",
       "           7                         76.251748     6.525874     4.188112   \n",
       "2017-09-01 1                         75.000000    11.400000    10.800000   \n",
       "           7                         80.000000    11.400000    10.900000   \n",
       "\n",
       "                       Rtr_RPM_Avg  Grd_RtrInvPhase1_Temp_Avg  \\\n",
       "date       Turbine_ID                                           \n",
       "2016-01-01 1              9.651389                  37.340278   \n",
       "           7             10.016667                  38.083333   \n",
       "2016-01-02 1              5.104861                  33.569444   \n",
       "           7              5.215972                  33.881944   \n",
       "2016-01-03 1              7.403472                  35.006944   \n",
       "...                            ...                        ...   \n",
       "2017-08-30 7              3.208451                  34.007042   \n",
       "2017-08-31 1              6.938889                  37.229167   \n",
       "           7              5.097203                  35.489510   \n",
       "2017-09-01 1             11.100000                  39.000000   \n",
       "           7             11.100000                  39.000000   \n",
       "\n",
       "                       Grd_RtrInvPhase2_Temp_Avg  Grd_RtrInvPhase3_Temp_Avg  \\\n",
       "date       Turbine_ID                                                         \n",
       "2016-01-01 1                           37.006944                  36.791667   \n",
       "           7                           37.944444                  39.833333   \n",
       "2016-01-02 1                           33.298611                  33.236111   \n",
       "           7                           33.763889                  35.527778   \n",
       "2016-01-03 1                           34.965278                  34.576389   \n",
       "...                                          ...                        ...   \n",
       "2017-08-30 7                           33.697183                  35.366197   \n",
       "2017-08-31 1                           36.826389                  36.791667   \n",
       "           7                           35.286713                  37.006993   \n",
       "2017-09-01 1                           39.000000                  38.000000   \n",
       "           7                           39.000000                  41.000000   \n",
       "\n",
       "                       Rtr_RPM_Std  ...  Spin_Temp_Avg  Grd_Busbar_Temp_Avg  \\\n",
       "date       Turbine_ID               ...                                       \n",
       "2016-01-01 1              0.854167  ...      20.861111            37.361111   \n",
       "           7              0.869444  ...      20.784722            35.659722   \n",
       "2016-01-02 1              0.529167  ...      18.833333            32.618056   \n",
       "           7              0.590972  ...      19.034722            31.402778   \n",
       "2016-01-03 1              0.371528  ...      18.576389            31.680556   \n",
       "...                            ...  ...            ...                  ...   \n",
       "2017-08-30 7              0.569014  ...      27.422535            32.598592   \n",
       "2017-08-31 1              0.764583  ...      28.215278            37.187500   \n",
       "           7              0.681818  ...      27.531469            34.426573   \n",
       "2017-09-01 1              0.100000  ...      26.000000            40.000000   \n",
       "           7              0.100000  ...      27.000000            39.000000   \n",
       "\n",
       "                       Component         TTF  60_days  40_days  30_days  \\\n",
       "date       Turbine_ID                                                     \n",
       "2016-01-01 1                 0.0  587.555556      0.0      0.0      0.0   \n",
       "           7                 0.0  190.159722      0.0      0.0      0.0   \n",
       "2016-01-02 1                 0.0  586.555556      0.0      0.0      0.0   \n",
       "           7                 0.0  189.159722      0.0      0.0      0.0   \n",
       "2016-01-03 1                 0.0  585.555556      0.0      0.0      0.0   \n",
       "...                          ...         ...      ...      ...      ...   \n",
       "2017-08-30 7                 0.0    0.000000      0.0      0.0      0.0   \n",
       "2017-08-31 1                 0.0    0.000000      0.0      0.0      0.0   \n",
       "           7                 0.0    0.000000      0.0      0.0      0.0   \n",
       "2017-09-01 1                 0.0    0.000000      0.0      0.0      0.0   \n",
       "           7                 0.0    0.000000      0.0      0.0      0.0   \n",
       "\n",
       "                       20_days  10_days  2_days  \n",
       "date       Turbine_ID                            \n",
       "2016-01-01 1               0.0      0.0     0.0  \n",
       "           7               0.0      0.0     0.0  \n",
       "2016-01-02 1               0.0      0.0     0.0  \n",
       "           7               0.0      0.0     0.0  \n",
       "2016-01-03 1               0.0      0.0     0.0  \n",
       "...                        ...      ...     ...  \n",
       "2017-08-30 7               0.0      0.0     0.0  \n",
       "2017-08-31 1               0.0      0.0     0.0  \n",
       "           7               0.0      0.0     0.0  \n",
       "2017-09-01 1               0.0      0.0     0.0  \n",
       "           7               0.0      0.0     0.0  \n",
       "\n",
       "[1220 rows x 39 columns]"
      ]
     },
     "execution_count": 431,
     "metadata": {},
     "output_type": "execute_result"
    }
   ],
   "source": [
    "temp.groupby(by=['date','Turbine_ID']).mean()"
   ]
  },
  {
   "cell_type": "code",
   "execution_count": null,
   "id": "circular-excitement",
   "metadata": {},
   "outputs": [],
   "source": []
  },
  {
   "cell_type": "code",
   "execution_count": null,
   "id": "compliant-fabric",
   "metadata": {},
   "outputs": [],
   "source": []
  },
  {
   "cell_type": "code",
   "execution_count": null,
   "id": "phantom-consent",
   "metadata": {},
   "outputs": [],
   "source": []
  },
  {
   "cell_type": "code",
   "execution_count": null,
   "id": "approximate-people",
   "metadata": {},
   "outputs": [],
   "source": []
  },
  {
   "cell_type": "code",
   "execution_count": null,
   "id": "earned-folks",
   "metadata": {},
   "outputs": [],
   "source": []
  },
  {
   "cell_type": "code",
   "execution_count": null,
   "id": "empirical-tournament",
   "metadata": {},
   "outputs": [],
   "source": []
  },
  {
   "cell_type": "code",
   "execution_count": null,
   "id": "offshore-intermediate",
   "metadata": {},
   "outputs": [],
   "source": []
  },
  {
   "cell_type": "code",
   "execution_count": null,
   "id": "graphic-slovakia",
   "metadata": {},
   "outputs": [],
   "source": []
  },
  {
   "cell_type": "code",
   "execution_count": null,
   "id": "mounted-humidity",
   "metadata": {},
   "outputs": [],
   "source": []
  },
  {
   "cell_type": "code",
   "execution_count": null,
   "id": "novel-spread",
   "metadata": {},
   "outputs": [],
   "source": []
  },
  {
   "cell_type": "code",
   "execution_count": null,
   "id": "surprising-advertising",
   "metadata": {},
   "outputs": [],
   "source": []
  },
  {
   "cell_type": "code",
   "execution_count": null,
   "id": "quiet-things",
   "metadata": {},
   "outputs": [],
   "source": []
  },
  {
   "cell_type": "code",
   "execution_count": null,
   "id": "eastern-chemistry",
   "metadata": {},
   "outputs": [],
   "source": []
  }
 ],
 "metadata": {
  "kernelspec": {
   "display_name": "Python 3",
   "language": "python",
   "name": "python3"
  },
  "language_info": {
   "codemirror_mode": {
    "name": "ipython",
    "version": 3
   },
   "file_extension": ".py",
   "mimetype": "text/x-python",
   "name": "python",
   "nbconvert_exporter": "python",
   "pygments_lexer": "ipython3",
   "version": "3.7.2"
  },
  "toc": {
   "base_numbering": 1,
   "nav_menu": {},
   "number_sections": true,
   "sideBar": true,
   "skip_h1_title": true,
   "title_cell": "Table of Contents",
   "title_sidebar": "Contents",
   "toc_cell": true,
   "toc_position": {
    "height": "calc(100% - 180px)",
    "left": "10px",
    "top": "150px",
    "width": "245px"
   },
   "toc_section_display": true,
   "toc_window_display": false
  }
 },
 "nbformat": 4,
 "nbformat_minor": 5
}
