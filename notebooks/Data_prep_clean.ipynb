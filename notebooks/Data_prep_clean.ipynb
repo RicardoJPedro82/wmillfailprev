{
 "cells": [
  {
   "cell_type": "markdown",
   "metadata": {
    "toc": true
   },
   "source": [
    "<h1>Table of Contents<span class=\"tocSkip\"></span></h1>\n",
    "<div class=\"toc\"><ul class=\"toc-item\"></ul></div>"
   ]
  },
  {
   "cell_type": "markdown",
   "metadata": {},
   "source": [
    "# Importar os módulos"
   ]
  },
  {
   "cell_type": "code",
   "execution_count": 109,
   "metadata": {
    "ExecuteTime": {
     "end_time": "2021-02-10T22:51:43.282683Z",
     "start_time": "2021-02-10T22:51:43.164997Z"
    }
   },
   "outputs": [
    {
     "name": "stdout",
     "output_type": "stream",
     "text": [
      "The autoreload extension is already loaded. To reload it, use:\n",
      "  %reload_ext autoreload\n"
     ]
    }
   ],
   "source": [
    "%load_ext autoreload\n",
    "%autoreload 2\n",
    "import os\n",
    "import pandas as pd\n",
    "import numpy as np\n",
    "import datetime\n",
    "import seaborn as sns\n",
    "import matplotlib.pyplot as plt\n",
    "import Dataset_transf as dprep\n",
    "from sklearn.preprocessing import OneHotEncoder\n",
    "from sklearn.preprocessing import StandardScaler\n",
    "from sklearn import metrics, model_selection\n",
    "from sklearn.linear_model import LogisticRegression\n",
    "from sklearn.ensemble import RandomForestClassifier\n",
    "from sklearn.svm import SVC, LinearSVC\n",
    "from sklearn.tree import DecisionTreeClassifier, export_graphviz\n",
    "from sklearn.neighbors import KNeighborsClassifier\n",
    "from sklearn.naive_bayes import GaussianNB"
   ]
  },
  {
   "cell_type": "markdown",
   "metadata": {},
   "source": [
    "# Obter os dataframes dos ficheiros"
   ]
  },
  {
   "cell_type": "code",
   "execution_count": 2,
   "metadata": {
    "ExecuteTime": {
     "end_time": "2021-02-10T21:38:26.603982Z",
     "start_time": "2021-02-10T21:38:26.425428Z"
    }
   },
   "outputs": [],
   "source": [
    "metrics_dict={}\n",
    "tentativa = 0"
   ]
  },
  {
   "cell_type": "code",
   "execution_count": 3,
   "metadata": {
    "ExecuteTime": {
     "end_time": "2021-02-10T21:39:25.582212Z",
     "start_time": "2021-02-10T21:38:26.607957Z"
    }
   },
   "outputs": [],
   "source": [
    "failures_df, signals_df, logs_df = dprep.get_data()"
   ]
  },
  {
   "cell_type": "code",
   "execution_count": 97,
   "metadata": {
    "ExecuteTime": {
     "end_time": "2021-02-10T21:56:30.054909Z",
     "start_time": "2021-02-10T21:56:29.942221Z"
    }
   },
   "outputs": [
    {
     "data": {
      "text/html": [
       "<div>\n",
       "<style scoped>\n",
       "    .dataframe tbody tr th:only-of-type {\n",
       "        vertical-align: middle;\n",
       "    }\n",
       "\n",
       "    .dataframe tbody tr th {\n",
       "        vertical-align: top;\n",
       "    }\n",
       "\n",
       "    .dataframe thead th {\n",
       "        text-align: right;\n",
       "    }\n",
       "</style>\n",
       "<table border=\"1\" class=\"dataframe\">\n",
       "  <thead>\n",
       "    <tr style=\"text-align: right;\">\n",
       "      <th></th>\n",
       "      <th>Turbine_ID</th>\n",
       "      <th>Component</th>\n",
       "      <th>Timestamp</th>\n",
       "    </tr>\n",
       "  </thead>\n",
       "  <tbody>\n",
       "    <tr>\n",
       "      <th>4</th>\n",
       "      <td>T07</td>\n",
       "      <td>TRANSFORMER</td>\n",
       "      <td>2016-07-10 03:40:00</td>\n",
       "    </tr>\n",
       "    <tr>\n",
       "      <th>9</th>\n",
       "      <td>T07</td>\n",
       "      <td>TRANSFORMER</td>\n",
       "      <td>2016-08-23 02:20:00</td>\n",
       "    </tr>\n",
       "    <tr>\n",
       "      <th>19</th>\n",
       "      <td>T01</td>\n",
       "      <td>TRANSFORMER</td>\n",
       "      <td>2017-08-11 13:10:00</td>\n",
       "    </tr>\n",
       "  </tbody>\n",
       "</table>\n",
       "</div>"
      ],
      "text/plain": [
       "   Turbine_ID    Component           Timestamp\n",
       "4         T07  TRANSFORMER 2016-07-10 03:40:00\n",
       "9         T07  TRANSFORMER 2016-08-23 02:20:00\n",
       "19        T01  TRANSFORMER 2017-08-11 13:10:00"
      ]
     },
     "execution_count": 97,
     "metadata": {},
     "output_type": "execute_result"
    }
   ],
   "source": [
    "failures_df[failures_df.Component == 'TRANSFORMER'].sort_values('Timestamp')"
   ]
  },
  {
   "cell_type": "code",
   "execution_count": 94,
   "metadata": {
    "ExecuteTime": {
     "end_time": "2021-02-10T21:55:35.028338Z",
     "start_time": "2021-02-10T21:55:34.897953Z"
    }
   },
   "outputs": [
    {
     "data": {
      "text/plain": [
       "GENERATOR            7\n",
       "GENERATOR_BEARING    6\n",
       "HYDRAULIC_GROUP      5\n",
       "TRANSFORMER          3\n",
       "GEARBOX              2\n",
       "Name: Component, dtype: int64"
      ]
     },
     "execution_count": 94,
     "metadata": {},
     "output_type": "execute_result"
    }
   ],
   "source": [
    "failures_df.Component.value_counts()"
   ]
  },
  {
   "cell_type": "code",
   "execution_count": 5,
   "metadata": {
    "ExecuteTime": {
     "end_time": "2021-02-10T21:39:25.892320Z",
     "start_time": "2021-02-10T21:39:25.757813Z"
    }
   },
   "outputs": [],
   "source": [
    "df_list = [failures_df, signals_df, logs_df]"
   ]
  },
  {
   "cell_type": "markdown",
   "metadata": {},
   "source": [
    "# Criação de datasets de components"
   ]
  },
  {
   "cell_type": "code",
   "execution_count": 6,
   "metadata": {
    "ExecuteTime": {
     "end_time": "2021-02-10T21:39:26.298247Z",
     "start_time": "2021-02-10T21:39:25.895316Z"
    }
   },
   "outputs": [],
   "source": [
    "df_generator, df_gen_bear, df_transformer, df_hydraulic, df_gearbox = dprep.component_df_creation(signals_df)"
   ]
  },
  {
   "cell_type": "code",
   "execution_count": 7,
   "metadata": {
    "ExecuteTime": {
     "end_time": "2021-02-10T21:39:26.406471Z",
     "start_time": "2021-02-10T21:39:26.305231Z"
    }
   },
   "outputs": [],
   "source": [
    "comp_df_list = [df_generator, df_hydraulic, df_gen_bear, df_transformer,  df_gearbox]"
   ]
  },
  {
   "cell_type": "code",
   "execution_count": 8,
   "metadata": {
    "ExecuteTime": {
     "end_time": "2021-02-10T21:39:26.516178Z",
     "start_time": "2021-02-10T21:39:26.410462Z"
    }
   },
   "outputs": [
    {
     "name": "stdout",
     "output_type": "stream",
     "text": [
      "(434145, 45)\n",
      "(434145, 34)\n",
      "(434145, 45)\n",
      "(434145, 36)\n",
      "(434145, 33)\n"
     ]
    }
   ],
   "source": [
    "for i in range(len(comp_df_list)):\n",
    "    print(comp_df_list[i].shape)"
   ]
  },
  {
   "cell_type": "code",
   "execution_count": 9,
   "metadata": {
    "ExecuteTime": {
     "end_time": "2021-02-10T21:39:26.624889Z",
     "start_time": "2021-02-10T21:39:26.519171Z"
    }
   },
   "outputs": [
    {
     "data": {
      "text/plain": [
       "array(['GENERATOR', 'HYDRAULIC_GROUP', 'GENERATOR_BEARING', 'TRANSFORMER',\n",
       "       'GEARBOX'], dtype=object)"
      ]
     },
     "execution_count": 9,
     "metadata": {},
     "output_type": "execute_result"
    }
   ],
   "source": [
    "component_list = failures_df.Component.unique()\n",
    "component_list"
   ]
  },
  {
   "cell_type": "markdown",
   "metadata": {},
   "source": [
    "# Cópia dos df para só carregar uma vez no ficheiro"
   ]
  },
  {
   "cell_type": "code",
   "execution_count": 10,
   "metadata": {
    "ExecuteTime": {
     "end_time": "2021-02-10T21:39:26.734073Z",
     "start_time": "2021-02-10T21:39:26.627881Z"
    }
   },
   "outputs": [],
   "source": [
    "comp_prep_df_list = comp_df_list.copy()"
   ]
  },
  {
   "cell_type": "markdown",
   "metadata": {},
   "source": [
    "# Merge dos DF com o DF de failures"
   ]
  },
  {
   "cell_type": "code",
   "execution_count": 11,
   "metadata": {
    "ExecuteTime": {
     "end_time": "2021-02-10T21:39:32.604205Z",
     "start_time": "2021-02-10T21:39:26.737066Z"
    }
   },
   "outputs": [],
   "source": [
    "for i in range(len(component_list)):\n",
    "    comp_prep_df_list[i] = dprep.sig_fail_merge_dfs(sig_df=comp_prep_df_list[i],\n",
    "                                               fail_df=failures_df,\n",
    "                                               component=component_list[i])"
   ]
  },
  {
   "cell_type": "code",
   "execution_count": 12,
   "metadata": {
    "ExecuteTime": {
     "end_time": "2021-02-10T21:39:32.712325Z",
     "start_time": "2021-02-10T21:39:32.607089Z"
    }
   },
   "outputs": [
    {
     "name": "stdout",
     "output_type": "stream",
     "text": [
      "(434145, 45)\n",
      "(434145, 34)\n",
      "(434145, 45)\n",
      "(434145, 36)\n",
      "(434145, 33)\n"
     ]
    }
   ],
   "source": [
    "for i in comp_df_list:\n",
    "    print(i.shape)"
   ]
  },
  {
   "cell_type": "markdown",
   "metadata": {},
   "source": [
    "# Fillna by turbine"
   ]
  },
  {
   "cell_type": "code",
   "execution_count": 13,
   "metadata": {
    "ExecuteTime": {
     "end_time": "2021-02-10T21:39:32.836998Z",
     "start_time": "2021-02-10T21:39:32.715316Z"
    }
   },
   "outputs": [
    {
     "data": {
      "text/plain": [
       "array(['T11', 'T06', 'T01', 'T09', 'T07'], dtype=object)"
      ]
     },
     "execution_count": 13,
     "metadata": {},
     "output_type": "execute_result"
    }
   ],
   "source": [
    "turbine_list = signals_df.Turbine_ID.unique()\n",
    "turbine_list"
   ]
  },
  {
   "cell_type": "code",
   "execution_count": 14,
   "metadata": {
    "ExecuteTime": {
     "end_time": "2021-02-10T21:39:44.306418Z",
     "start_time": "2021-02-10T21:39:32.840981Z"
    }
   },
   "outputs": [
    {
     "name": "stderr",
     "output_type": "stream",
     "text": [
      "C:\\Users\\ricar\\code\\RicardoJPedro82\\wmillfailprev\\notebooks\\Dataset_transf.py:157: SettingWithCopyWarning: \n",
      "A value is trying to be set on a copy of a slice from a DataFrame.\n",
      "Try using .loc[row_indexer,col_indexer] = value instead\n",
      "\n",
      "See the caveats in the documentation: http://pandas.pydata.org/pandas-docs/stable/indexing.html#indexing-view-versus-copy\n",
      "  index['date'] = index['Timestamp']\n",
      "C:\\Users\\ricar\\code\\RicardoJPedro82\\wmillfailprev\\notebooks\\Dataset_transf.py:178: FutureWarning: Sorting because non-concatenation axis is not aligned. A future version\n",
      "of pandas will change to not sort by default.\n",
      "\n",
      "To accept the future behavior, pass 'sort=False'.\n",
      "\n",
      "To retain the current behavior and silence the warning, pass 'sort=True'.\n",
      "\n",
      "  df_ = pd.concat([df_, df_final])\n",
      "C:\\Users\\ricar\\code\\RicardoJPedro82\\wmillfailprev\\notebooks\\Dataset_transf.py:170: SettingWithCopyWarning: \n",
      "A value is trying to be set on a copy of a slice from a DataFrame.\n",
      "Try using .loc[row_indexer,col_indexer] = value instead\n",
      "\n",
      "See the caveats in the documentation: http://pandas.pydata.org/pandas-docs/stable/indexing.html#indexing-view-versus-copy\n",
      "  df_merged['date'] = df_merged['Timestamp']\n",
      "C:\\Users\\ricar\\code\\RicardoJPedro82\\wmillfailprev\\notebooks\\Dataset_transf.py:171: SettingWithCopyWarning: \n",
      "A value is trying to be set on a copy of a slice from a DataFrame.\n",
      "Try using .loc[row_indexer,col_indexer] = value instead\n",
      "\n",
      "See the caveats in the documentation: http://pandas.pydata.org/pandas-docs/stable/indexing.html#indexing-view-versus-copy\n",
      "  df_merged['TTF'] = 0 # df_merged['date'] - df_merged['Timestamp']\n"
     ]
    }
   ],
   "source": [
    "for i in range(len(component_list)):\n",
    "    comp_prep_df_list[i] = dprep.fill_na_by_turbine(comp_prep_df_list[i], turbine_list)"
   ]
  },
  {
   "cell_type": "code",
   "execution_count": 15,
   "metadata": {
    "ExecuteTime": {
     "end_time": "2021-02-10T21:39:44.433986Z",
     "start_time": "2021-02-10T21:39:44.308312Z"
    }
   },
   "outputs": [
    {
     "name": "stdout",
     "output_type": "stream",
     "text": [
      "(434147, 47)\n",
      "(434145, 36)\n",
      "(434145, 47)\n",
      "(434145, 38)\n",
      "(434145, 35)\n"
     ]
    }
   ],
   "source": [
    "for i in comp_prep_df_list:\n",
    "    print(i.shape)"
   ]
  },
  {
   "cell_type": "markdown",
   "metadata": {},
   "source": [
    "# Criação de Variável alvo"
   ]
  },
  {
   "cell_type": "code",
   "execution_count": 16,
   "metadata": {
    "ExecuteTime": {
     "end_time": "2021-02-10T21:39:47.391165Z",
     "start_time": "2021-02-10T21:39:44.437965Z"
    }
   },
   "outputs": [
    {
     "name": "stdout",
     "output_type": "stream",
     "text": [
      "0    47\n",
      "dtype: int64\n",
      "0    36\n",
      "dtype: int64\n",
      "0    47\n",
      "dtype: int64\n",
      "0    38\n",
      "dtype: int64\n",
      "0    35\n",
      "dtype: int64\n"
     ]
    }
   ],
   "source": [
    "for i in range(len(comp_prep_df_list)):\n",
    "    print(comp_prep_df_list[i].isna().sum().value_counts())"
   ]
  },
  {
   "cell_type": "code",
   "execution_count": 17,
   "metadata": {
    "ExecuteTime": {
     "end_time": "2021-02-10T21:39:47.517883Z",
     "start_time": "2021-02-10T21:39:47.394159Z"
    }
   },
   "outputs": [],
   "source": [
    "days_list = [40]"
   ]
  },
  {
   "cell_type": "code",
   "execution_count": 18,
   "metadata": {
    "ExecuteTime": {
     "end_time": "2021-02-10T21:40:42.289826Z",
     "start_time": "2021-02-10T21:39:47.525735Z"
    }
   },
   "outputs": [],
   "source": [
    "for day in days_list:\n",
    "    for i in range(len(comp_prep_df_list)):\n",
    "        comp_prep_df_list[i] = dprep.aplic_var_target(comp_prep_df_list[i], day)"
   ]
  },
  {
   "cell_type": "code",
   "execution_count": 19,
   "metadata": {
    "ExecuteTime": {
     "end_time": "2021-02-10T21:40:42.478319Z",
     "start_time": "2021-02-10T21:40:42.293813Z"
    }
   },
   "outputs": [
    {
     "name": "stdout",
     "output_type": "stream",
     "text": [
      "(434147, 48)\n",
      "(434145, 37)\n",
      "(434145, 48)\n",
      "(434145, 39)\n",
      "(434145, 36)\n"
     ]
    }
   ],
   "source": [
    "for i in comp_prep_df_list:\n",
    "    print(i.shape)"
   ]
  },
  {
   "cell_type": "markdown",
   "metadata": {},
   "source": [
    "# Feature selection"
   ]
  },
  {
   "cell_type": "code",
   "execution_count": 20,
   "metadata": {
    "ExecuteTime": {
     "end_time": "2021-02-10T21:40:42.635899Z",
     "start_time": "2021-02-10T21:40:42.483305Z"
    }
   },
   "outputs": [
    {
     "name": "stdout",
     "output_type": "stream",
     "text": [
      "(48,)\n",
      "(37,)\n",
      "(48,)\n",
      "(39,)\n",
      "(36,)\n"
     ]
    }
   ],
   "source": [
    "for i in comp_prep_df_list:\n",
    "    print(i.keys().shape)"
   ]
  },
  {
   "cell_type": "code",
   "execution_count": 21,
   "metadata": {
    "ExecuteTime": {
     "end_time": "2021-02-10T21:40:42.805445Z",
     "start_time": "2021-02-10T21:40:42.639887Z"
    }
   },
   "outputs": [],
   "source": [
    "gen_features_drop = [\n",
    "    'Gen_RPM_Max', 'Gen_RPM_Min', 'Gen_Phase1_Temp_Avg', 'Gen_Phase3_Temp_Avg',\n",
    "    'Amb_WindSpeed_Est_Avg', 'Grd_RtrInvPhase1_Temp_Avg',\n",
    "    'Grd_RtrInvPhase3_Temp_Avg', 'Rtr_RPM_Max', 'Rtr_RPM_Min',\n",
    "    'Blds_PitchAngle_Max', 'Blds_PitchAngle_Min',\n",
    "    'Prod_LatestAvg_ReactPwrGen1', 'Cont_Hub_Temp_Avg', 'Spin_Temp_Avg',\n",
    "    'Rtr_RPM_Std', 'Rtr_RPM_Avg', 'Cont_VCP_Temp_Avg'\n",
    "]"
   ]
  },
  {
   "cell_type": "code",
   "execution_count": 22,
   "metadata": {
    "ExecuteTime": {
     "end_time": "2021-02-10T21:40:42.945074Z",
     "start_time": "2021-02-10T21:40:42.809434Z"
    }
   },
   "outputs": [],
   "source": [
    "gen_bear_features_drop = [\n",
    "    'Gen_RPM_Max', 'Gen_RPM_Min', 'Gen_Phase1_Temp_Avg', 'Gen_Phase3_Temp_Avg',\n",
    "    'Amb_WindSpeed_Est_Avg', 'Grd_RtrInvPhase1_Temp_Avg',\n",
    "    'Grd_RtrInvPhase3_Temp_Avg', 'Rtr_RPM_Max', 'Rtr_RPM_Min',\n",
    "    'Blds_PitchAngle_Max', 'Blds_PitchAngle_Min',\n",
    "    'Prod_LatestAvg_ReactPwrGen1', 'Cont_Hub_Temp_Avg', 'Spin_Temp_Avg',\n",
    "    'Rtr_RPM_Std', 'Rtr_RPM_Avg', 'Cont_VCP_Temp_Avg'\n",
    "]"
   ]
  },
  {
   "cell_type": "code",
   "execution_count": 23,
   "metadata": {
    "ExecuteTime": {
     "end_time": "2021-02-10T21:40:43.086700Z",
     "start_time": "2021-02-10T21:40:42.949060Z"
    }
   },
   "outputs": [],
   "source": [
    "hyd_features_drop = [\n",
    "    'Rtr_RPM_Max', 'Rtr_RPM_Min', 'Blds_PitchAngle_Max', 'Blds_PitchAngle_Min',\n",
    "    'Blds_PitchAngle_Max', 'Grd_RtrInvPhase3_Temp_Avg', 'Grd_Busbar_Temp_Avg',\n",
    "    'Amb_WindSpeed_Est_Avg', 'Spin_Temp_Avg', 'Cont_Hub_Temp_Avg',\n",
    "    'Grd_RtrInvPhase1_Temp_Avg', 'Cont_VCP_Temp_Avg'\n",
    "]"
   ]
  },
  {
   "cell_type": "code",
   "execution_count": 24,
   "metadata": {
    "ExecuteTime": {
     "end_time": "2021-02-10T21:40:43.227326Z",
     "start_time": "2021-02-10T21:40:43.090689Z"
    }
   },
   "outputs": [],
   "source": [
    "gearbox_features_drop = [\n",
    "    'Rtr_RPM_Max', 'Rtr_RPM_Min', 'Grd_RtrInvPhase1_Temp_Avg',\n",
    "    'Grd_RtrInvPhase3_Temp_Avg', 'Blds_PitchAngle_Min', 'Blds_PitchAngle_Max',\n",
    "    'Cont_VCP_Temp_Avg', 'Grd_Busbar_Temp_Avg', 'Amb_WindSpeed_Est_Avg',\n",
    "    'Spin_Temp_Avg'\n",
    "]"
   ]
  },
  {
   "cell_type": "code",
   "execution_count": 25,
   "metadata": {
    "ExecuteTime": {
     "end_time": "2021-02-10T21:40:43.381949Z",
     "start_time": "2021-02-10T21:40:43.231317Z"
    }
   },
   "outputs": [],
   "source": [
    "transf_features_drop = [\n",
    "    'HVTrafo_Phase1_Temp_Avg', 'HVTrafo_Phase3_Temp_Avg', 'Rtr_RPM_Max',\n",
    "    'Rtr_RPM_Min', 'Grd_RtrInvPhase1_Temp_Avg', 'Grd_RtrInvPhase3_Temp_Avg',\n",
    "    'Blds_PitchAngle_Min', 'Blds_PitchAngle_Max', 'Amb_WindSpeed_Est_Avg',\n",
    "    'Spin_Temp_Avg', 'Cont_VCP_Temp_Avg'\n",
    "]"
   ]
  },
  {
   "cell_type": "code",
   "execution_count": 26,
   "metadata": {
    "ExecuteTime": {
     "end_time": "2021-02-10T21:40:43.525079Z",
     "start_time": "2021-02-10T21:40:43.384941Z"
    }
   },
   "outputs": [],
   "source": [
    "feat_drop_list = [\n",
    "    gen_features_drop, hyd_features_drop, gen_bear_features_drop,\n",
    "    transf_features_drop, gearbox_features_drop\n",
    "]"
   ]
  },
  {
   "cell_type": "code",
   "execution_count": 27,
   "metadata": {
    "ExecuteTime": {
     "end_time": "2021-02-10T21:40:44.114505Z",
     "start_time": "2021-02-10T21:40:43.528074Z"
    },
    "scrolled": true
   },
   "outputs": [
    {
     "name": "stdout",
     "output_type": "stream",
     "text": [
      "A actualizar dataframe 1 de 5\n",
      "A actualizar dataframe 2 de 5\n",
      "A actualizar dataframe 3 de 5\n",
      "A actualizar dataframe 4 de 5\n",
      "A actualizar dataframe 5 de 5\n"
     ]
    }
   ],
   "source": [
    "for df in range(len(comp_prep_df_list)):\n",
    "    print(f'A actualizar dataframe {df+1} de {len(comp_prep_df_list)}')\n",
    "#     for col in feat_drop_list:\n",
    "#         print(f'A apagar a coluna {col}')\n",
    "    comp_prep_df_list[df] = comp_prep_df_list[df].drop(columns=feat_drop_list[df])"
   ]
  },
  {
   "cell_type": "code",
   "execution_count": 28,
   "metadata": {
    "ExecuteTime": {
     "end_time": "2021-02-10T21:40:44.270088Z",
     "start_time": "2021-02-10T21:40:44.117498Z"
    }
   },
   "outputs": [
    {
     "name": "stdout",
     "output_type": "stream",
     "text": [
      "(434147, 31)\n",
      "(434145, 26)\n",
      "(434145, 31)\n",
      "(434145, 28)\n",
      "(434145, 26)\n"
     ]
    }
   ],
   "source": [
    "for i in comp_prep_df_list:\n",
    "    print(i.shape)"
   ]
  },
  {
   "cell_type": "code",
   "execution_count": 29,
   "metadata": {
    "ExecuteTime": {
     "end_time": "2021-02-10T21:40:44.426187Z",
     "start_time": "2021-02-10T21:40:44.273081Z"
    }
   },
   "outputs": [
    {
     "name": "stdout",
     "output_type": "stream",
     "text": [
      "(31,)\n",
      "(26,)\n",
      "(31,)\n",
      "(28,)\n",
      "(26,)\n"
     ]
    }
   ],
   "source": [
    "for i in comp_prep_df_list:\n",
    "    print(i.keys().shape)"
   ]
  },
  {
   "cell_type": "markdown",
   "metadata": {},
   "source": [
    "# Agrupar pela medida de tempo seleccionada."
   ]
  },
  {
   "cell_type": "code",
   "execution_count": 30,
   "metadata": {
    "ExecuteTime": {
     "end_time": "2021-02-10T21:40:44.582283Z",
     "start_time": "2021-02-10T21:40:44.429177Z"
    }
   },
   "outputs": [
    {
     "name": "stdout",
     "output_type": "stream",
     "text": [
      "(434147, 31)\n",
      "(434145, 26)\n",
      "(434145, 31)\n",
      "(434145, 28)\n",
      "(434145, 26)\n"
     ]
    }
   ],
   "source": [
    "for i in range(len(comp_prep_df_list)):\n",
    "    print(comp_prep_df_list[i].shape)"
   ]
  },
  {
   "cell_type": "code",
   "execution_count": 31,
   "metadata": {
    "ExecuteTime": {
     "end_time": "2021-02-10T21:40:48.075999Z",
     "start_time": "2021-02-10T21:40:44.585275Z"
    }
   },
   "outputs": [],
   "source": [
    "# Passagem para dias\n",
    "Agrup_por = 'Dia'\n",
    "for i in range(len(comp_prep_df_list)):\n",
    "    comp_prep_df_list[i] = dprep.group_por_frequency(comp_prep_df_list[i], period=Agrup_por)"
   ]
  },
  {
   "cell_type": "code",
   "execution_count": 32,
   "metadata": {
    "ExecuteTime": {
     "end_time": "2021-02-10T21:40:48.422831Z",
     "start_time": "2021-02-10T21:40:48.080985Z"
    }
   },
   "outputs": [
    {
     "name": "stdout",
     "output_type": "stream",
     "text": [
      "(3042, 31)\n",
      "(3041, 19)\n",
      "(3041, 18)\n",
      "(3041, 19)\n",
      "(3041, 16)\n"
     ]
    }
   ],
   "source": [
    "# Passagem para dias \n",
    "for i in range(len(comp_prep_df_list)):\n",
    "    print(comp_prep_df_list[i].shape)"
   ]
  },
  {
   "cell_type": "markdown",
   "metadata": {},
   "source": [
    "# Adicionar as medidas de alisamento"
   ]
  },
  {
   "cell_type": "code",
   "execution_count": 33,
   "metadata": {
    "ExecuteTime": {
     "end_time": "2021-02-10T21:40:48.607225Z",
     "start_time": "2021-02-10T21:40:48.428811Z"
    }
   },
   "outputs": [
    {
     "name": "stdout",
     "output_type": "stream",
     "text": [
      "(3042, 31)\n",
      "(3041, 19)\n",
      "(3041, 18)\n",
      "(3041, 19)\n",
      "(3041, 16)\n"
     ]
    }
   ],
   "source": [
    "for i in range(len(comp_prep_df_list)):\n",
    "    print(comp_prep_df_list[i].shape)"
   ]
  },
  {
   "cell_type": "code",
   "execution_count": 34,
   "metadata": {
    "ExecuteTime": {
     "end_time": "2021-02-10T21:40:49.246696Z",
     "start_time": "2021-02-10T21:40:48.611216Z"
    }
   },
   "outputs": [],
   "source": [
    "for i in range(len(comp_prep_df_list)):\n",
    "    comp_prep_df_list[i] = dprep.add_features(comp_prep_df_list[i], rolling_win_size=5)"
   ]
  },
  {
   "cell_type": "code",
   "execution_count": 35,
   "metadata": {
    "ExecuteTime": {
     "end_time": "2021-02-10T21:40:49.404357Z",
     "start_time": "2021-02-10T21:40:49.249683Z"
    }
   },
   "outputs": [],
   "source": [
    "cols_to_drop = [\n",
    "    'Amb_Temp_Avg', 'Amb_WindDir_Abs_Avg', 'Amb_WindDir_Relative_Avg',\n",
    "    'Amb_WindSpeed_Avg', 'Amb_WindSpeed_Max', 'Amb_WindSpeed_Min',\n",
    "    'Amb_WindSpeed_Std', 'Blds_PitchAngle_Avg', 'Blds_PitchAngle_Std',\n",
    "    'Cont_Top_Temp_Avg', 'Cont_VCP_ChokcoilTemp_Avg',\n",
    "    'Cont_VCP_WtrTemp_Avg', 'Gen_Bear2_Temp_Avg', 'Gen_Bear_Temp_Avg',\n",
    "    'Gen_Phase2_Temp_Avg', 'Gen_RPM_Avg', 'Gen_RPM_Std',\n",
    "    'Gen_SlipRing_Temp_Avg', 'Grd_Busbar_Temp_Avg',\n",
    "    'Grd_RtrInvPhase2_Temp_Avg', 'Hyd_Oil_Temp_Avg', 'Nac_Direction_Avg',\n",
    "    'Nac_Temp_Avg', 'Prod_LatestAvg_ActPwrGen0', 'Prod_LatestAvg_ActPwrGen1',\n",
    "    'Prod_LatestAvg_ReactPwrGen0'\n",
    "]\n",
    "comp_prep_df_list[0] = comp_prep_df_list[0].drop(columns=cols_to_drop)"
   ]
  },
  {
   "cell_type": "code",
   "execution_count": 36,
   "metadata": {
    "ExecuteTime": {
     "end_time": "2021-02-10T21:40:49.545967Z",
     "start_time": "2021-02-10T21:40:49.408344Z"
    }
   },
   "outputs": [],
   "source": [
    "cols_to_drop = [\n",
    "    'Amb_WindDir_Abs_Avg', 'Amb_WindDir_Relative_Avg',\n",
    "    'Amb_WindSpeed_Avg', 'Amb_WindSpeed_Max', 'Amb_WindSpeed_Min',\n",
    "    'Amb_WindSpeed_Std', 'Blds_PitchAngle_Avg', 'Blds_PitchAngle_Std',\n",
    "    'Nac_Direction_Avg', 'Rtr_RPM_Avg', 'Rtr_RPM_Std'\n",
    "]\n",
    "comp_prep_df_list[1] = comp_prep_df_list[1].drop(columns=cols_to_drop)"
   ]
  },
  {
   "cell_type": "code",
   "execution_count": 37,
   "metadata": {
    "ExecuteTime": {
     "end_time": "2021-02-10T21:40:49.700554Z",
     "start_time": "2021-02-10T21:40:49.553945Z"
    }
   },
   "outputs": [],
   "source": [
    "cols_to_drop =  ['Amb_WindDir_Abs_Avg', 'Amb_WindDir_Relative_Avg',\n",
    "       'Amb_WindSpeed_Avg', 'Amb_WindSpeed_Max', 'Amb_WindSpeed_Min',\n",
    "       'Amb_WindSpeed_Std', 'Blds_PitchAngle_Avg', 'Blds_PitchAngle_Std',\n",
    "       'Gen_Bear_Temp_Avg', 'Gen_RPM_Avg', 'Gen_RPM_Std',\n",
    "       'Nac_Direction_Avg', 'Prod_LatestAvg_ActPwrGen1']\n",
    "comp_prep_df_list[2] = comp_prep_df_list[2].drop(columns=cols_to_drop)"
   ]
  },
  {
   "cell_type": "code",
   "execution_count": 38,
   "metadata": {
    "ExecuteTime": {
     "end_time": "2021-02-10T21:40:49.858158Z",
     "start_time": "2021-02-10T21:40:49.706078Z"
    }
   },
   "outputs": [],
   "source": [
    "cols_to_drop = ['Amb_WindDir_Abs_Avg', 'Amb_WindDir_Relative_Avg',\n",
    "       'Amb_WindSpeed_Avg', 'Amb_WindSpeed_Max', 'Amb_WindSpeed_Min',\n",
    "       'Amb_WindSpeed_Std', 'Blds_PitchAngle_Avg', 'Blds_PitchAngle_Std',\n",
    "       'Grd_Prod_VoltPhse1_Avg', 'Grd_Prod_VoltPhse2_Avg',\n",
    "       'Grd_Prod_VoltPhse3_Avg', 'Nac_Direction_Avg', 'Rtr_RPM_Avg',\n",
    "       'Rtr_RPM_Std']\n",
    "comp_prep_df_list[3] = comp_prep_df_list[3].drop(columns=cols_to_drop)"
   ]
  },
  {
   "cell_type": "code",
   "execution_count": 39,
   "metadata": {
    "ExecuteTime": {
     "end_time": "2021-02-10T21:40:50.013263Z",
     "start_time": "2021-02-10T21:40:49.861150Z"
    }
   },
   "outputs": [],
   "source": [
    "cols_to_drop = ['Amb_WindDir_Abs_Avg', 'Amb_WindDir_Relative_Avg',\n",
    "       'Amb_WindSpeed_Avg', 'Amb_WindSpeed_Max', 'Amb_WindSpeed_Min',\n",
    "       'Amb_WindSpeed_Std', 'Blds_PitchAngle_Avg', 'Blds_PitchAngle_Std',\n",
    "       'Nac_Direction_Avg', 'Rtr_RPM_Avg', 'Rtr_RPM_Std']\n",
    "comp_prep_df_list[4] = comp_prep_df_list[4].drop(columns=cols_to_drop)"
   ]
  },
  {
   "cell_type": "code",
   "execution_count": 40,
   "metadata": {
    "ExecuteTime": {
     "end_time": "2021-02-10T21:40:50.322145Z",
     "start_time": "2021-02-10T21:40:50.020242Z"
    }
   },
   "outputs": [
    {
     "name": "stdout",
     "output_type": "stream",
     "text": [
      "(3042, 59)\n",
      "(3041, 38)\n",
      "(3041, 33)\n",
      "(3041, 35)\n",
      "(3041, 29)\n"
     ]
    }
   ],
   "source": [
    "for i in range(len(comp_prep_df_list)):\n",
    "    print(comp_prep_df_list[i].shape)"
   ]
  },
  {
   "cell_type": "markdown",
   "metadata": {},
   "source": [
    "# Train and test split"
   ]
  },
  {
   "cell_type": "code",
   "execution_count": 41,
   "metadata": {
    "ExecuteTime": {
     "end_time": "2021-02-10T21:40:50.540047Z",
     "start_time": "2021-02-10T21:40:50.328130Z"
    }
   },
   "outputs": [],
   "source": [
    "# Separar os dataframes de treino e teste\n",
    "df_train = [0, 0, 0, 0, 0]\n",
    "df_test = [0, 0, 0, 0, 0]\n",
    "\n",
    "per_test = '3meses'\n",
    "\n",
    "for i in range(len(comp_prep_df_list)):\n",
    "    df_train[i] = dprep.prepare_train_df(comp_prep_df_list[i].copy(), meses=3)\n",
    "    df_test[i] = dprep.prepare_test_df(comp_prep_df_list[i].copy(), meses=3)"
   ]
  },
  {
   "cell_type": "code",
   "execution_count": 42,
   "metadata": {
    "ExecuteTime": {
     "end_time": "2021-02-10T21:40:50.695628Z",
     "start_time": "2021-02-10T21:40:50.545028Z"
    }
   },
   "outputs": [
    {
     "name": "stdout",
     "output_type": "stream",
     "text": [
      "df_train 0 com a forma (2577, 59)\n",
      "df_test 0 com a forma (465, 59)\n",
      "df_train 1 com a forma (2576, 38)\n",
      "df_test 1 com a forma (465, 38)\n",
      "df_train 2 com a forma (2576, 33)\n",
      "df_test 2 com a forma (465, 33)\n",
      "df_train 3 com a forma (2576, 35)\n",
      "df_test 3 com a forma (465, 35)\n",
      "df_train 4 com a forma (2576, 29)\n",
      "df_test 4 com a forma (465, 29)\n"
     ]
    }
   ],
   "source": [
    "for i in range(len(df_train)):\n",
    "    print(f'df_train {i} com a forma {df_train[i].shape}')\n",
    "    print(f'df_test {i} com a forma {df_test[i].shape}')"
   ]
  },
  {
   "cell_type": "markdown",
   "metadata": {
    "ExecuteTime": {
     "end_time": "2021-02-07T18:42:58.465901Z",
     "start_time": "2021-02-07T18:42:58.395089Z"
    }
   },
   "source": [
    "# Criar o x_train, x_test, y_train e o y_test "
   ]
  },
  {
   "cell_type": "code",
   "execution_count": 43,
   "metadata": {
    "ExecuteTime": {
     "end_time": "2021-02-10T21:40:50.882128Z",
     "start_time": "2021-02-10T21:40:50.700761Z"
    }
   },
   "outputs": [],
   "source": [
    "x_train = [0, 0, 0, 0, 0]\n",
    "x_test = [0, 0, 0, 0, 0]\n",
    "y_train = [0, 0, 0, 0, 0]\n",
    "y_test = [0, 0, 0, 0, 0]\n",
    "\n",
    "dias_var_alvo = days_list[0]\n",
    "\n",
    "for i in range(len(df_train)):\n",
    "    x_train[i] = df_train[i].copy()\n",
    "    x_test[i] = df_test[i].copy()\n",
    "    y_train[i] = df_train[i].copy()\n",
    "    y_test[i] = df_test[i].copy()"
   ]
  },
  {
   "cell_type": "code",
   "execution_count": 44,
   "metadata": {
    "ExecuteTime": {
     "end_time": "2021-02-10T21:40:51.050193Z",
     "start_time": "2021-02-10T21:40:50.885119Z"
    }
   },
   "outputs": [],
   "source": [
    "# retirar as colunas que não devem entrar no x\n",
    "cols_to_drop_train = ['Date', 'TTF', str(days_list[0])+'_days', 'Component']\n",
    "for i in range(len(x_train)):\n",
    "    x_train[i].drop(columns=cols_to_drop_train, inplace=True)\n",
    "    x_test[i].drop(columns=cols_to_drop_train, inplace=True)"
   ]
  },
  {
   "cell_type": "code",
   "execution_count": 45,
   "metadata": {
    "ExecuteTime": {
     "end_time": "2021-02-10T21:40:51.202785Z",
     "start_time": "2021-02-10T21:40:51.054182Z"
    }
   },
   "outputs": [
    {
     "name": "stdout",
     "output_type": "stream",
     "text": [
      "x_train 0 com a forma (2577, 55)\n",
      "x_test 0 com a forma (465, 55)\n",
      "x_train 1 com a forma (2576, 34)\n",
      "x_test 1 com a forma (465, 34)\n",
      "x_train 2 com a forma (2576, 29)\n",
      "x_test 2 com a forma (465, 29)\n",
      "x_train 3 com a forma (2576, 31)\n",
      "x_test 3 com a forma (465, 31)\n",
      "x_train 4 com a forma (2576, 25)\n",
      "x_test 4 com a forma (465, 25)\n"
     ]
    }
   ],
   "source": [
    "for i in range(len(x_train)):\n",
    "    print(f'x_train {i} com a forma {x_train[i].shape}')\n",
    "    print(f'x_test {i} com a forma {x_test[i].shape}')"
   ]
  },
  {
   "cell_type": "code",
   "execution_count": 46,
   "metadata": {
    "ExecuteTime": {
     "end_time": "2021-02-10T21:40:51.359365Z",
     "start_time": "2021-02-10T21:40:51.206773Z"
    }
   },
   "outputs": [],
   "source": [
    "# considerar apenas as colunas que devem ser a variável alvo\n",
    "col_to_mantain_test = [str(days_list[0])+'_days']\n",
    "for i in range(len(x_test)):\n",
    "    y_train[i] = y_train[i][col_to_mantain_test]\n",
    "    y_test[i] = y_test[i][col_to_mantain_test]"
   ]
  },
  {
   "cell_type": "code",
   "execution_count": 47,
   "metadata": {
    "ExecuteTime": {
     "end_time": "2021-02-10T21:40:51.498996Z",
     "start_time": "2021-02-10T21:40:51.364353Z"
    }
   },
   "outputs": [
    {
     "name": "stdout",
     "output_type": "stream",
     "text": [
      "y_train 0 com a forma (2577, 1)\n",
      "y_test 0 com a forma (465, 1)\n",
      "y_train 1 com a forma (2576, 1)\n",
      "y_test 1 com a forma (465, 1)\n",
      "y_train 2 com a forma (2576, 1)\n",
      "y_test 2 com a forma (465, 1)\n",
      "y_train 3 com a forma (2576, 1)\n",
      "y_test 3 com a forma (465, 1)\n",
      "y_train 4 com a forma (2576, 1)\n",
      "y_test 4 com a forma (465, 1)\n"
     ]
    }
   ],
   "source": [
    "for i in range(len(y_test)):\n",
    "    print(f'y_train {i} com a forma {y_train[i].shape}')\n",
    "    print(f'y_test {i} com a forma {y_test[i].shape}')"
   ]
  },
  {
   "cell_type": "markdown",
   "metadata": {
    "ExecuteTime": {
     "end_time": "2021-02-07T19:59:13.987241Z",
     "start_time": "2021-02-07T19:59:13.859529Z"
    }
   },
   "source": [
    "# Primeira tentativa"
   ]
  },
  {
   "cell_type": "code",
   "execution_count": 48,
   "metadata": {
    "ExecuteTime": {
     "end_time": "2021-02-10T21:40:51.700458Z",
     "start_time": "2021-02-10T21:40:51.504981Z"
    }
   },
   "outputs": [],
   "source": [
    "# Normalizar os dados\n",
    "X_train, X_test = dprep.scale(x_train[0], x_test[0])\n",
    "\n",
    "#Sem normalizar os dados\n",
    "# X_train = x_train[0].drop(columns=['Turbine_ID']).to_numpy()\n",
    "# X_test = x_test[0].drop(columns=['Turbine_ID']).to_numpy()"
   ]
  },
  {
   "cell_type": "code",
   "execution_count": 49,
   "metadata": {
    "ExecuteTime": {
     "end_time": "2021-02-10T21:40:51.841088Z",
     "start_time": "2021-02-10T21:40:51.704469Z"
    }
   },
   "outputs": [],
   "source": [
    "y_train = y_train[0].to_numpy().astype(int)[:,0]\n",
    "y_test = y_test[0].to_numpy().astype(int)[:,0]"
   ]
  },
  {
   "cell_type": "code",
   "execution_count": 50,
   "metadata": {
    "ExecuteTime": {
     "end_time": "2021-02-10T21:40:56.804062Z",
     "start_time": "2021-02-10T21:40:51.844101Z"
    }
   },
   "outputs": [
    {
     "name": "stdout",
     "output_type": "stream",
     "text": [
      "\n",
      "Best Parameters:\n",
      " LogisticRegression(C=10, class_weight=None, dual=False, fit_intercept=True,\n",
      "          intercept_scaling=1, max_iter=1000, multi_class='warn',\n",
      "          n_jobs=None, penalty='l2', random_state=42, solver='liblinear',\n",
      "          tol=0.0001, verbose=0, warm_start=False)\n"
     ]
    },
    {
     "name": "stderr",
     "output_type": "stream",
     "text": [
      "c:\\users\\ricar\\.venvs\\lewagon\\lib\\site-packages\\sklearn\\model_selection\\_search.py:842: DeprecationWarning: The default of the `iid` parameter will change from True to False in version 0.22 and will be removed in 0.24. This will change numeric results when test-set sizes are unequal.\n",
      "  DeprecationWarning)\n"
     ]
    }
   ],
   "source": [
    "#def bin_classify(model, clf, features,target, df_train, df_test ,params=None, score=None, ):\n",
    "model = 'Logistic Regression'\n",
    "clf_LogReg = LogisticRegression(random_state=42, max_iter=1000)\n",
    "gs_params = {'C': [.01, 0.1, 1.0, 10], 'solver': ['liblinear', 'lbfgs']}\n",
    "gs_score = 'roc_auc'\n",
    "\n",
    "clf_LogReg, pred_LogReg = dprep.bin_classify(model,\n",
    "                                             clf_LogReg,\n",
    "                                             X_train,\n",
    "                                             X_test,\n",
    "                                             y_train,\n",
    "                                             y_test,\n",
    "                                             params=gs_params,\n",
    "                                             score=gs_score)\n",
    "print('\\nBest Parameters:\\n', clf_LogReg)"
   ]
  },
  {
   "cell_type": "code",
   "execution_count": 51,
   "metadata": {
    "ExecuteTime": {
     "end_time": "2021-02-10T21:40:58.036292Z",
     "start_time": "2021-02-10T21:40:56.808054Z"
    }
   },
   "outputs": [
    {
     "data": {
      "image/png": "[encoded data removed]",
      "text/plain": [
       "<Figure size 720x720 with 4 Axes>"
      ]
     },
     "metadata": {
      "needs_background": "light"
     },
     "output_type": "display_data"
    }
   ],
   "source": [
    "metrics_LogReg, roc_LogReg, prc_LogReg, cf_matriX_log_reg = dprep.bin_class_metrics(\n",
    "    model,\n",
    "    y_test,\n",
    "    pred_LogReg.y_pred,\n",
    "    pred_LogReg.y_score,\n",
    "    print_out=True,\n",
    "    plot_out=True)"
   ]
  },
  {
   "cell_type": "code",
   "execution_count": 52,
   "metadata": {
    "ExecuteTime": {
     "end_time": "2021-02-10T21:40:58.177919Z",
     "start_time": "2021-02-10T21:40:58.038290Z"
    }
   },
   "outputs": [],
   "source": [
    "tentativa = tentativa + 1"
   ]
  },
  {
   "cell_type": "code",
   "execution_count": 53,
   "metadata": {
    "ExecuteTime": {
     "end_time": "2021-02-10T21:40:58.317614Z",
     "start_time": "2021-02-10T21:40:58.180907Z"
    }
   },
   "outputs": [],
   "source": [
    "metrics_dict['try_'+str(tentativa)] =  {\n",
    "        'Component': component_list[1],\n",
    "        'dias_var_alvo': col_to_mantain_test,\n",
    "        'feature_selection': 'Guilherme',\n",
    "        'Agrup_por': Agrup_por,\n",
    "        'add_features': 'smooth only',\n",
    "        'per_test': per_test,\n",
    "        'metrics_LogReg': metrics_LogReg,\n",
    "        'cf_matriX_log_reg': cf_matriX_log_reg\n",
    "    }"
   ]
  },
  {
   "cell_type": "code",
   "execution_count": 54,
   "metadata": {
    "ExecuteTime": {
     "end_time": "2021-02-10T21:40:58.472153Z",
     "start_time": "2021-02-10T21:40:58.329513Z"
    }
   },
   "outputs": [
    {
     "data": {
      "text/plain": [
       "{'Component': 'HYDRAULIC_GROUP',\n",
       " 'dias_var_alvo': ['40_days'],\n",
       " 'feature_selection': 'Guilherme',\n",
       " 'Agrup_por': 'Dia',\n",
       " 'add_features': 'smooth only',\n",
       " 'per_test': '3meses',\n",
       " 'metrics_LogReg':            Logistic Regression\n",
       " Accuracy              0.873118\n",
       " Precision             0.043478\n",
       " Recall                0.026316\n",
       " F1 Score              0.032787\n",
       " ROC AUC               0.584001,\n",
       " 'cf_matriX_log_reg': array([[405,  22],\n",
       "        [ 37,   1]], dtype=int64)}"
      ]
     },
     "execution_count": 54,
     "metadata": {},
     "output_type": "execute_result"
    }
   ],
   "source": [
    "metrics_dict['try_'+str(tentativa)]#, metrics_dict['try002']['cf_matriX_log_reg']"
   ]
  },
  {
   "cell_type": "code",
   "execution_count": 55,
   "metadata": {
    "ExecuteTime": {
     "end_time": "2021-02-10T21:40:58.627748Z",
     "start_time": "2021-02-10T21:40:58.475143Z"
    }
   },
   "outputs": [
    {
     "name": "stdout",
     "output_type": "stream",
     "text": [
      "HYDRAULIC_GROUP\n",
      "['40_days']\n",
      "Dia\n",
      "           Logistic Regression\n",
      "Accuracy              0.873118\n",
      "Precision             0.043478\n",
      "Recall                0.026316\n",
      "F1 Score              0.032787\n",
      "ROC AUC               0.584001\n",
      "[[405  22]\n",
      " [ 37   1]]\n"
     ]
    }
   ],
   "source": [
    "for i in metrics_dict.keys():\n",
    "    print(metrics_dict[i]['Component'])\n",
    "    print(metrics_dict[i]['dias_var_alvo'])\n",
    "    print(metrics_dict[i]['Agrup_por'])\n",
    "    print(metrics_dict[i]['metrics_LogReg'])\n",
    "    print(metrics_dict[i]['cf_matriX_log_reg'])"
   ]
  },
  {
   "cell_type": "code",
   "execution_count": 56,
   "metadata": {
    "ExecuteTime": {
     "end_time": "2021-02-10T21:40:58.786313Z",
     "start_time": "2021-02-10T21:40:58.632722Z"
    }
   },
   "outputs": [],
   "source": [
    "import csv\n",
    "import json"
   ]
  },
  {
   "cell_type": "code",
   "execution_count": 57,
   "metadata": {
    "ExecuteTime": {
     "end_time": "2021-02-10T21:40:58.940907Z",
     "start_time": "2021-02-10T21:40:58.789303Z"
    }
   },
   "outputs": [],
   "source": [
    "w = csv.writer(open(\"output3.csv\", \"w\"))\n",
    "for key, val in metrics_dict.items():\n",
    "    w.writerow([key, val])"
   ]
  },
  {
   "cell_type": "markdown",
   "metadata": {},
   "source": [
    "# Cria de DF para avaliação de métricas"
   ]
  },
  {
   "cell_type": "code",
   "execution_count": 58,
   "metadata": {
    "ExecuteTime": {
     "end_time": "2021-02-10T21:40:59.109446Z",
     "start_time": "2021-02-10T21:40:58.953865Z"
    }
   },
   "outputs": [],
   "source": [
    "cols= ['Date','Turbine_ID', 'TTF']\n",
    "poupanca_df = df_test[0][cols]"
   ]
  },
  {
   "cell_type": "code",
   "execution_count": 59,
   "metadata": {
    "ExecuteTime": {
     "end_time": "2021-02-10T21:40:59.328264Z",
     "start_time": "2021-02-10T21:40:59.115433Z"
    }
   },
   "outputs": [
    {
     "name": "stderr",
     "output_type": "stream",
     "text": [
      "c:\\users\\ricar\\.venvs\\lewagon\\lib\\site-packages\\ipykernel_launcher.py:1: SettingWithCopyWarning: \n",
      "A value is trying to be set on a copy of a slice from a DataFrame.\n",
      "Try using .loc[row_indexer,col_indexer] = value instead\n",
      "\n",
      "See the caveats in the documentation: http://pandas.pydata.org/pandas-docs/stable/indexing.html#indexing-view-versus-copy\n",
      "  \"\"\"Entry point for launching an IPython kernel.\n"
     ]
    }
   ],
   "source": [
    "poupanca_df['y_test'] = y_test"
   ]
  },
  {
   "cell_type": "code",
   "execution_count": 60,
   "metadata": {
    "ExecuteTime": {
     "end_time": "2021-02-10T21:40:59.533024Z",
     "start_time": "2021-02-10T21:40:59.333251Z"
    }
   },
   "outputs": [
    {
     "name": "stderr",
     "output_type": "stream",
     "text": [
      "c:\\users\\ricar\\.venvs\\lewagon\\lib\\site-packages\\ipykernel_launcher.py:1: SettingWithCopyWarning: \n",
      "A value is trying to be set on a copy of a slice from a DataFrame.\n",
      "Try using .loc[row_indexer,col_indexer] = value instead\n",
      "\n",
      "See the caveats in the documentation: http://pandas.pydata.org/pandas-docs/stable/indexing.html#indexing-view-versus-copy\n",
      "  \"\"\"Entry point for launching an IPython kernel.\n"
     ]
    }
   ],
   "source": [
    "poupanca_df['y_pred'] = pred_LogReg.y_pred.values"
   ]
  },
  {
   "cell_type": "code",
   "execution_count": 61,
   "metadata": {
    "ExecuteTime": {
     "end_time": "2021-02-10T21:40:59.691593Z",
     "start_time": "2021-02-10T21:40:59.537006Z"
    }
   },
   "outputs": [],
   "source": [
    "poupanca_df = poupanca_df.reset_index().drop(columns='index')"
   ]
  },
  {
   "cell_type": "code",
   "execution_count": 62,
   "metadata": {
    "ExecuteTime": {
     "end_time": "2021-02-10T21:40:59.833733Z",
     "start_time": "2021-02-10T21:40:59.695586Z"
    }
   },
   "outputs": [],
   "source": [
    "def met_poupanca_TP(real, prev):\n",
    "    if real == prev and real ==1:\n",
    "        return 1\n",
    "    else:\n",
    "        return 0"
   ]
  },
  {
   "cell_type": "code",
   "execution_count": 63,
   "metadata": {
    "ExecuteTime": {
     "end_time": "2021-02-10T21:40:59.989376Z",
     "start_time": "2021-02-10T21:40:59.837724Z"
    }
   },
   "outputs": [],
   "source": [
    "poupanca_df['TP'] = [\n",
    "    met_poupanca_TP(poupanca_df.y_test[i], poupanca_df.y_pred[i])\n",
    "    for i in range(len(poupanca_df.y_pred))\n",
    "]"
   ]
  },
  {
   "cell_type": "code",
   "execution_count": 64,
   "metadata": {
    "ExecuteTime": {
     "end_time": "2021-02-10T21:41:00.126975Z",
     "start_time": "2021-02-10T21:40:59.992312Z"
    }
   },
   "outputs": [],
   "source": [
    "def met_poupanca_TN(real, prev):\n",
    "    if real == prev and real == 0:\n",
    "        return 1\n",
    "    else:\n",
    "        return 0"
   ]
  },
  {
   "cell_type": "code",
   "execution_count": 65,
   "metadata": {
    "ExecuteTime": {
     "end_time": "2021-02-10T21:41:00.298025Z",
     "start_time": "2021-02-10T21:41:00.130950Z"
    }
   },
   "outputs": [],
   "source": [
    "poupanca_df['TN'] = [\n",
    "    met_poupanca_TN(poupanca_df.y_test[i], poupanca_df.y_pred[i])\n",
    "    for i in range(len(poupanca_df.y_pred))\n",
    "]"
   ]
  },
  {
   "cell_type": "code",
   "execution_count": 66,
   "metadata": {
    "ExecuteTime": {
     "end_time": "2021-02-10T21:41:00.455610Z",
     "start_time": "2021-02-10T21:41:00.304009Z"
    }
   },
   "outputs": [],
   "source": [
    "def met_poupanca_FP(real, prev):\n",
    "    if real == 0 and prev == 1:\n",
    "        return 1\n",
    "    else:\n",
    "        return 0"
   ]
  },
  {
   "cell_type": "code",
   "execution_count": 67,
   "metadata": {
    "ExecuteTime": {
     "end_time": "2021-02-10T21:41:00.629140Z",
     "start_time": "2021-02-10T21:41:00.458596Z"
    }
   },
   "outputs": [],
   "source": [
    "poupanca_df['FP'] = [\n",
    "    met_poupanca_FP(poupanca_df.y_test[i], poupanca_df.y_pred[i])\n",
    "    for i in range(len(poupanca_df.y_pred))\n",
    "]"
   ]
  },
  {
   "cell_type": "code",
   "execution_count": 68,
   "metadata": {
    "ExecuteTime": {
     "end_time": "2021-02-10T21:41:00.784327Z",
     "start_time": "2021-02-10T21:41:00.632133Z"
    }
   },
   "outputs": [],
   "source": [
    "def met_poupanca_FN(real, prev):\n",
    "    if real == 1 and prev == 0:\n",
    "        return 1\n",
    "    else:\n",
    "        return 0"
   ]
  },
  {
   "cell_type": "code",
   "execution_count": 69,
   "metadata": {
    "ExecuteTime": {
     "end_time": "2021-02-10T21:41:00.955765Z",
     "start_time": "2021-02-10T21:41:00.787256Z"
    }
   },
   "outputs": [],
   "source": [
    "poupanca_df['FN'] = [\n",
    "    met_poupanca_FN(poupanca_df.y_test[i], poupanca_df.y_pred[i])\n",
    "    for i in range(len(poupanca_df.y_pred))\n",
    "]"
   ]
  },
  {
   "cell_type": "code",
   "execution_count": 70,
   "metadata": {
    "ExecuteTime": {
     "end_time": "2021-02-10T21:41:01.125716Z",
     "start_time": "2021-02-10T21:41:00.958539Z"
    }
   },
   "outputs": [
    {
     "data": {
      "text/html": [
       "<div>\n",
       "<style scoped>\n",
       "    .dataframe tbody tr th:only-of-type {\n",
       "        vertical-align: middle;\n",
       "    }\n",
       "\n",
       "    .dataframe tbody tr th {\n",
       "        vertical-align: top;\n",
       "    }\n",
       "\n",
       "    .dataframe thead th {\n",
       "        text-align: right;\n",
       "    }\n",
       "</style>\n",
       "<table border=\"1\" class=\"dataframe\">\n",
       "  <thead>\n",
       "    <tr style=\"text-align: right;\">\n",
       "      <th></th>\n",
       "      <th>Date</th>\n",
       "      <th>Turbine_ID</th>\n",
       "      <th>TTF</th>\n",
       "      <th>y_test</th>\n",
       "      <th>y_pred</th>\n",
       "      <th>TP</th>\n",
       "      <th>TN</th>\n",
       "      <th>FP</th>\n",
       "      <th>FN</th>\n",
       "    </tr>\n",
       "  </thead>\n",
       "  <tbody>\n",
       "    <tr>\n",
       "      <th>0</th>\n",
       "      <td>2017-06-01</td>\n",
       "      <td>T01</td>\n",
       "      <td>0.0</td>\n",
       "      <td>0</td>\n",
       "      <td>0</td>\n",
       "      <td>0</td>\n",
       "      <td>1</td>\n",
       "      <td>0</td>\n",
       "      <td>0</td>\n",
       "    </tr>\n",
       "    <tr>\n",
       "      <th>1</th>\n",
       "      <td>2017-06-02</td>\n",
       "      <td>T01</td>\n",
       "      <td>0.0</td>\n",
       "      <td>0</td>\n",
       "      <td>0</td>\n",
       "      <td>0</td>\n",
       "      <td>1</td>\n",
       "      <td>0</td>\n",
       "      <td>0</td>\n",
       "    </tr>\n",
       "    <tr>\n",
       "      <th>2</th>\n",
       "      <td>2017-06-03</td>\n",
       "      <td>T01</td>\n",
       "      <td>0.0</td>\n",
       "      <td>0</td>\n",
       "      <td>0</td>\n",
       "      <td>0</td>\n",
       "      <td>1</td>\n",
       "      <td>0</td>\n",
       "      <td>0</td>\n",
       "    </tr>\n",
       "    <tr>\n",
       "      <th>3</th>\n",
       "      <td>2017-06-04</td>\n",
       "      <td>T01</td>\n",
       "      <td>0.0</td>\n",
       "      <td>0</td>\n",
       "      <td>0</td>\n",
       "      <td>0</td>\n",
       "      <td>1</td>\n",
       "      <td>0</td>\n",
       "      <td>0</td>\n",
       "    </tr>\n",
       "    <tr>\n",
       "      <th>4</th>\n",
       "      <td>2017-06-05</td>\n",
       "      <td>T01</td>\n",
       "      <td>0.0</td>\n",
       "      <td>0</td>\n",
       "      <td>0</td>\n",
       "      <td>0</td>\n",
       "      <td>1</td>\n",
       "      <td>0</td>\n",
       "      <td>0</td>\n",
       "    </tr>\n",
       "  </tbody>\n",
       "</table>\n",
       "</div>"
      ],
      "text/plain": [
       "        Date Turbine_ID  TTF  y_test  y_pred  TP  TN  FP  FN\n",
       "0 2017-06-01        T01  0.0       0       0   0   1   0   0\n",
       "1 2017-06-02        T01  0.0       0       0   0   1   0   0\n",
       "2 2017-06-03        T01  0.0       0       0   0   1   0   0\n",
       "3 2017-06-04        T01  0.0       0       0   0   1   0   0\n",
       "4 2017-06-05        T01  0.0       0       0   0   1   0   0"
      ]
     },
     "execution_count": 70,
     "metadata": {},
     "output_type": "execute_result"
    }
   ],
   "source": [
    "poupanca_df.head()"
   ]
  },
  {
   "cell_type": "code",
   "execution_count": 78,
   "metadata": {
    "ExecuteTime": {
     "end_time": "2021-02-10T21:46:11.017220Z",
     "start_time": "2021-02-10T21:46:10.922052Z"
    }
   },
   "outputs": [
    {
     "data": {
      "text/plain": [
       "1"
      ]
     },
     "execution_count": 78,
     "metadata": {},
     "output_type": "execute_result"
    }
   ],
   "source": [
    "num_falhas = len(poupanca_df[poupanca_df.TTF.between(0.1 , 1.0)])\n",
    "num_falhas"
   ]
  },
  {
   "cell_type": "code",
   "execution_count": 79,
   "metadata": {
    "ExecuteTime": {
     "end_time": "2021-02-10T21:46:13.381856Z",
     "start_time": "2021-02-10T21:46:13.295548Z"
    }
   },
   "outputs": [
    {
     "data": {
      "text/html": [
       "<div>\n",
       "<style scoped>\n",
       "    .dataframe tbody tr th:only-of-type {\n",
       "        vertical-align: middle;\n",
       "    }\n",
       "\n",
       "    .dataframe tbody tr th {\n",
       "        vertical-align: top;\n",
       "    }\n",
       "\n",
       "    .dataframe thead th {\n",
       "        text-align: right;\n",
       "    }\n",
       "</style>\n",
       "<table border=\"1\" class=\"dataframe\">\n",
       "  <thead>\n",
       "    <tr style=\"text-align: right;\">\n",
       "      <th></th>\n",
       "      <th>Date</th>\n",
       "      <th>Turbine_ID</th>\n",
       "      <th>TTF</th>\n",
       "      <th>y_test</th>\n",
       "      <th>y_pred</th>\n",
       "      <th>TP</th>\n",
       "      <th>TN</th>\n",
       "      <th>FP</th>\n",
       "      <th>FN</th>\n",
       "    </tr>\n",
       "  </thead>\n",
       "  <tbody>\n",
       "    <tr>\n",
       "      <th>267</th>\n",
       "      <td>2017-08-21</td>\n",
       "      <td>T07</td>\n",
       "      <td>0.111111</td>\n",
       "      <td>0</td>\n",
       "      <td>0</td>\n",
       "      <td>0</td>\n",
       "      <td>1</td>\n",
       "      <td>0</td>\n",
       "      <td>0</td>\n",
       "    </tr>\n",
       "  </tbody>\n",
       "</table>\n",
       "</div>"
      ],
      "text/plain": [
       "          Date Turbine_ID       TTF  y_test  y_pred  TP  TN  FP  FN\n",
       "267 2017-08-21        T07  0.111111       0       0   0   1   0   0"
      ]
     },
     "execution_count": 79,
     "metadata": {},
     "output_type": "execute_result"
    }
   ],
   "source": [
    "poupanca_df[poupanca_df.TTF.between(0.1 , 1.0)]"
   ]
  },
  {
   "cell_type": "code",
   "execution_count": 80,
   "metadata": {
    "ExecuteTime": {
     "end_time": "2021-02-10T21:46:15.046618Z",
     "start_time": "2021-02-10T21:46:14.946588Z"
    }
   },
   "outputs": [
    {
     "name": "stdout",
     "output_type": "stream",
     "text": [
      "[267]\n"
     ]
    }
   ],
   "source": [
    "index_list = []\n",
    "for i in range(num_falhas):\n",
    "    index_list.append(poupanca_df[poupanca_df.TTF.between(0.1 , 1.0)].index[i])\n",
    "print(index_list)"
   ]
  },
  {
   "cell_type": "code",
   "execution_count": 81,
   "metadata": {
    "ExecuteTime": {
     "end_time": "2021-02-10T21:46:16.539314Z",
     "start_time": "2021-02-10T21:46:16.458066Z"
    }
   },
   "outputs": [],
   "source": [
    "cf_numbers = {\n",
    "    'TP': 0,\n",
    "    'TN': 0,\n",
    "    'FP': 0,\n",
    "    'FN': 0,\n",
    "}"
   ]
  },
  {
   "cell_type": "code",
   "execution_count": 102,
   "metadata": {
    "ExecuteTime": {
     "end_time": "2021-02-10T22:38:11.785426Z",
     "start_time": "2021-02-10T22:38:11.696681Z"
    }
   },
   "outputs": [
    {
     "name": "stdout",
     "output_type": "stream",
     "text": [
      "TP\n",
      "TN\n",
      "FP\n",
      "FN\n"
     ]
    }
   ],
   "source": [
    "for key in cf_numbers:\n",
    "    print(key)"
   ]
  },
  {
   "cell_type": "code",
   "execution_count": 104,
   "metadata": {
    "ExecuteTime": {
     "end_time": "2021-02-10T22:40:36.219243Z",
     "start_time": "2021-02-10T22:40:36.129897Z"
    }
   },
   "outputs": [
    {
     "ename": "SyntaxError",
     "evalue": "can't assign to literal (<ipython-input-104-83a1efd3745f>, line 8)",
     "output_type": "error",
     "traceback": [
      "\u001b[1;36m  File \u001b[1;32m\"<ipython-input-104-83a1efd3745f>\"\u001b[1;36m, line \u001b[1;32m8\u001b[0m\n\u001b[1;33m    cf_numbers['TP'] = 1, cf_numbers['TN'] = 0\u001b[0m\n\u001b[1;37m                      ^\u001b[0m\n\u001b[1;31mSyntaxError\u001b[0m\u001b[1;31m:\u001b[0m can't assign to literal\n"
     ]
    }
   ],
   "source": [
    "# Para as ocorrências\n",
    "ocorrencias = poupanca_df[poupanca_df['y_test'] == 1]\n",
    "\n",
    "for ind in range(len(index_list)):\n",
    "    for key in cf_numbers:\n",
    "        cf_numbers[key] += ocorrencias.loc[:index_list[ind]][key].sum()\n",
    "    if cf_numbers['TP'] >= 1:\n",
    "        cf_numbers['TP'] = 1\n",
    "        cf_numbers['TN'] = 0\n",
    "        cf_numbers['FP'] = 0\n",
    "        cf_numbers['FN'] = 0\n",
    "    elif cf_numbers['FN'] >= 1:\n",
    "        cf_numbers['TP'] = 0\n",
    "        cf_numbers['TN'] = 0\n",
    "        cf_numbers['FP'] = 0\n",
    "        cf_numbers['FN'] = 1\n",
    "    print(cf_numbers)\n",
    "\n",
    "dias_primeiro_TP = ocorrencias.loc[ocorrencias[ocorrencias.TP == 1].index[0]].TTF.astype(int)\n",
    "dias_primeiro_TP"
   ]
  },
  {
   "cell_type": "code",
   "execution_count": 87,
   "metadata": {
    "ExecuteTime": {
     "end_time": "2021-02-10T21:46:47.405606Z",
     "start_time": "2021-02-10T21:46:47.305467Z"
    }
   },
   "outputs": [
    {
     "name": "stdout",
     "output_type": "stream",
     "text": [
      "{'TP': 1, 'TN': 0, 'FP': 0, 'FN': 0}\n"
     ]
    },
    {
     "data": {
      "text/plain": [
       "15"
      ]
     },
     "execution_count": 87,
     "metadata": {},
     "output_type": "execute_result"
    }
   ],
   "source": [
    "# Para as ocorrências\n",
    "ocorrencias = poupanca_df[poupanca_df['y_test'] == 1]\n",
    "\n",
    "for ind in range(len(index_list)):\n",
    "    if ind == 0:\n",
    "        cf_numbers['TP'] += ocorrencias.loc[:index_list[ind]]['TP'].sum()\n",
    "        cf_numbers['TN'] += ocorrencias.loc[:index_list[ind]]['TN'].sum()\n",
    "        cf_numbers['FP'] += ocorrencias.loc[:index_list[ind]]['FP'].sum()\n",
    "        cf_numbers['FN'] += ocorrencias.loc[:index_list[ind]]['FN'].sum()\n",
    "    else:\n",
    "        cf_numbers['TP'] += ocorrencias.loc[index_list[ind - 1]:index_list[ind]]['TP'].sum()\n",
    "        cf_numbers['TN'] += ocorrencias.loc[index_list[ind - 1]:index_list[ind]]['TN'].sum()\n",
    "        cf_numbers['FP'] += ocorrencias.loc[index_list[ind - 1]:index_list[ind]]['FP'].sum()\n",
    "        cf_numbers['FN'] += ocorrencias.loc[index_list[ind - 1]:index_list[ind]]['FN'].sum()\n",
    "    if cf_numbers['TP'] >= 1:\n",
    "        cf_numbers['TP'] = 1\n",
    "        cf_numbers['TN'] = 0\n",
    "        cf_numbers['FP'] = 0\n",
    "        cf_numbers['FN'] = 0\n",
    "    elif cf_numbers['FN'] >= 1:\n",
    "        cf_numbers['TP'] = 0\n",
    "        cf_numbers['TN'] = 0\n",
    "        cf_numbers['FP'] = 0\n",
    "        cf_numbers['FN'] = 1\n",
    "    print(cf_numbers)\n",
    "\n",
    "dias_primeiro_TP = ocorrencias.loc[ocorrencias[ocorrencias.TP == 1].index[0]].TTF.astype(int)\n",
    "dias_primeiro_TP"
   ]
  },
  {
   "cell_type": "code",
   "execution_count": 83,
   "metadata": {
    "ExecuteTime": {
     "end_time": "2021-02-10T21:46:20.507114Z",
     "start_time": "2021-02-10T21:46:20.418826Z"
    }
   },
   "outputs": [
    {
     "name": "stdout",
     "output_type": "stream",
     "text": [
      "{'TP': 1, 'TN': 228, 'FP': 2, 'FN': 0}\n"
     ]
    }
   ],
   "source": [
    "# Para as não ocorrências\n",
    "ocorrencias = poupanca_df[poupanca_df['y_test'] == 0]\n",
    "\n",
    "for ind in range(len(index_list)):\n",
    "    if ind == 0:\n",
    "        cf_numbers['TP'] += ocorrencias.loc[:index_list[ind]]['TP'].sum()\n",
    "        cf_numbers['TN'] += ocorrencias.loc[:index_list[ind]]['TN'].sum()\n",
    "        cf_numbers['FP'] += ocorrencias.loc[:index_list[ind]]['FP'].sum()\n",
    "        cf_numbers['FN'] += ocorrencias.loc[:index_list[ind]]['FN'].sum()\n",
    "    else:\n",
    "        cf_numbers['TP'] += ocorrencias.loc[index_list[ind - 1]:index_list[ind]]['TP'].sum()\n",
    "        cf_numbers['TN'] += ocorrencias.loc[index_list[ind - 1]:index_list[ind]]['TN'].sum()\n",
    "        cf_numbers['FP'] += ocorrencias.loc[index_list[ind - 1]:index_list[ind]]['FP'].sum()\n",
    "        cf_numbers['FN'] += ocorrencias.loc[index_list[ind - 1]:index_list[ind]]['FN'].sum()\n",
    "    if cf_numbers['TP'] > 1:\n",
    "        cf_numbers['TP'] = 1\n",
    "        cf_numbers['TN'] = 0\n",
    "        cf_numbers['FP'] = 0\n",
    "        cf_numbers['FN'] = 0\n",
    "    elif cf_numbers['TP'] > 1:\n",
    "        cf_numbers['TP'] = 0\n",
    "        cf_numbers['TN'] = 0\n",
    "        cf_numbers['FP'] = 0\n",
    "        cf_numbers['FN'] = 1\n",
    "    print(cf_numbers)"
   ]
  },
  {
   "cell_type": "code",
   "execution_count": null,
   "metadata": {
    "ExecuteTime": {
     "end_time": "2021-02-10T00:13:05.871774Z",
     "start_time": "2021-02-10T00:13:05.676067Z"
    }
   },
   "outputs": [],
   "source": []
  },
  {
   "cell_type": "code",
   "execution_count": 89,
   "metadata": {
    "ExecuteTime": {
     "end_time": "2021-02-10T21:48:42.378510Z",
     "start_time": "2021-02-10T21:48:42.245580Z"
    }
   },
   "outputs": [],
   "source": [
    "cost_matrix_dict = {\n",
    "    'GEARBOX': {\n",
    "        'Replacement_Cost': 100000,\n",
    "        'Repair_Cost': 20000,\n",
    "        'Inspection_cost': 5000\n",
    "    },\n",
    "    'GENERATOR': {\n",
    "        'Replacement_Cost': 60000,\n",
    "        'Repair_Cost': 15000,\n",
    "        'Inspection_cost': 5000\n",
    "    },\n",
    "    'GENERATOR_BEARING': {\n",
    "        'Replacement_Cost': 30000,\n",
    "        'Repair_Cost': 12500,\n",
    "        'Inspection_cost': 4500\n",
    "    },\n",
    "    'TRANSFORMER': {\n",
    "        'Replacement_Cost': 50000,\n",
    "        'Repair_Cost': 3500,\n",
    "        'Inspection_cost': 1500\n",
    "    },\n",
    "    'HYDRAULIC_GROUP': {\n",
    "        'Replacement_Cost': 20000,\n",
    "        'Repair_Cost': 3000,\n",
    "        'Inspection_cost': 2000\n",
    "    }\n",
    "}"
   ]
  },
  {
   "cell_type": "code",
   "execution_count": 90,
   "metadata": {
    "ExecuteTime": {
     "end_time": "2021-02-10T21:48:46.694154Z",
     "start_time": "2021-02-10T21:48:46.573517Z"
    }
   },
   "outputs": [],
   "source": [
    "Savings = -cost_matrix_dict['GENERATOR']['Inspection_cost'] * cf_numbers[\n",
    "    'FP']\n",
    "Savings = Savings + -cost_matrix_dict['GENERATOR'][\n",
    "    'Replacement_Cost'] * cf_numbers['FN']\n",
    "Savings = Savings + cost_matrix_dict['GENERATOR']['Replacement_Cost'] - (\n",
    "    cost_matrix_dict['GENERATOR']['Repair_Cost'] +\n",
    "    (cost_matrix_dict['GENERATOR']['Replacement_Cost'] -\n",
    "     cost_matrix_dict['GENERATOR']['Repair_Cost']) *\n",
    "    (1 - (dias_primeiro_TP / 60)))"
   ]
  },
  {
   "cell_type": "code",
   "execution_count": 91,
   "metadata": {
    "ExecuteTime": {
     "end_time": "2021-02-10T21:48:47.925813Z",
     "start_time": "2021-02-10T21:48:47.784670Z"
    }
   },
   "outputs": [
    {
     "data": {
      "text/plain": [
       "11250.0"
      ]
     },
     "execution_count": 91,
     "metadata": {},
     "output_type": "execute_result"
    }
   ],
   "source": [
    "Savings"
   ]
  },
  {
   "cell_type": "code",
   "execution_count": 112,
   "metadata": {
    "ExecuteTime": {
     "end_time": "2021-02-10T22:55:29.504292Z",
     "start_time": "2021-02-10T22:55:29.339351Z"
    }
   },
   "outputs": [
    {
     "data": {
      "text/plain": [
       "11250.0"
      ]
     },
     "execution_count": 112,
     "metadata": {},
     "output_type": "execute_result"
    }
   ],
   "source": [
    "dprep.metrics_create_df(df_test[0], y_test, pred_LogReg.y_pred.values)"
   ]
  },
  {
   "cell_type": "code",
   "execution_count": null,
   "metadata": {},
   "outputs": [],
   "source": []
  }
 ],
 "metadata": {
  "kernelspec": {
   "display_name": "Python 3",
   "language": "python",
   "name": "python3"
  },
  "language_info": {
   "codemirror_mode": {
    "name": "ipython",
    "version": 3
   },
   "file_extension": ".py",
   "mimetype": "text/x-python",
   "name": "python",
   "nbconvert_exporter": "python",
   "pygments_lexer": "ipython3",
   "version": "3.7.7"
  },
  "toc": {
   "base_numbering": "",
   "nav_menu": {},
   "number_sections": true,
   "sideBar": true,
   "skip_h1_title": true,
   "title_cell": "Table of Contents",
   "title_sidebar": "Contents",
   "toc_cell": true,
   "toc_position": {},
   "toc_section_display": false,
   "toc_window_display": false
  }
 },
 "nbformat": 4,
 "nbformat_minor": 4
}
