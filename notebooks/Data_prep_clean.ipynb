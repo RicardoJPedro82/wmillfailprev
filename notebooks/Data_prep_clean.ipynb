{
 "cells": [
  {
   "cell_type": "markdown",
   "metadata": {
    "toc": true
   },
   "source": [
    "<h1>Table of Contents<span class=\"tocSkip\"></span></h1>\n",
    "<div class=\"toc\"><ul class=\"toc-item\"></ul></div>"
   ]
  },
  {
   "cell_type": "markdown",
   "metadata": {},
   "source": [
    "# Importar os módulos"
   ]
  },
  {
   "cell_type": "code",
   "execution_count": 1,
   "metadata": {
    "ExecuteTime": {
     "end_time": "2021-02-11T19:33:47.997594Z",
     "start_time": "2021-02-11T19:33:42.854216Z"
    }
   },
   "outputs": [],
   "source": [
    "%load_ext autoreload\n",
    "%autoreload 2\n",
    "import os\n",
    "import pandas as pd\n",
    "import numpy as np\n",
    "import datetime\n",
    "import seaborn as sns\n",
    "import matplotlib.pyplot as plt\n",
    "import Dataset_transf as dprep\n",
    "from sklearn.preprocessing import OneHotEncoder\n",
    "from sklearn.preprocessing import StandardScaler\n",
    "from sklearn import metrics, model_selection\n",
    "from sklearn.linear_model import LogisticRegression\n",
    "from sklearn.ensemble import RandomForestClassifier\n",
    "from sklearn.svm import SVC, LinearSVC\n",
    "from sklearn.tree import DecisionTreeClassifier, export_graphviz\n",
    "from sklearn.neighbors import KNeighborsClassifier\n",
    "from sklearn.naive_bayes import GaussianNB"
   ]
  },
  {
   "cell_type": "markdown",
   "metadata": {},
   "source": [
    "# Obter os dataframes dos ficheiros"
   ]
  },
  {
   "cell_type": "code",
   "execution_count": 2,
   "metadata": {
    "ExecuteTime": {
     "end_time": "2021-02-11T19:33:48.323724Z",
     "start_time": "2021-02-11T19:33:48.003582Z"
    }
   },
   "outputs": [],
   "source": [
    "metrics_dict={}\n",
    "tentativa = 0"
   ]
  },
  {
   "cell_type": "code",
   "execution_count": 3,
   "metadata": {
    "ExecuteTime": {
     "end_time": "2021-02-11T19:35:54.127743Z",
     "start_time": "2021-02-11T19:33:48.333714Z"
    }
   },
   "outputs": [],
   "source": [
    "failures_df, signals_df, logs_df = dprep.get_data()"
   ]
  },
  {
   "cell_type": "code",
   "execution_count": 61,
   "metadata": {
    "ExecuteTime": {
     "end_time": "2021-02-11T20:08:34.391601Z",
     "start_time": "2021-02-11T20:08:34.282905Z"
    }
   },
   "outputs": [
    {
     "data": {
      "text/html": [
       "<div>\n",
       "<style scoped>\n",
       "    .dataframe tbody tr th:only-of-type {\n",
       "        vertical-align: middle;\n",
       "    }\n",
       "\n",
       "    .dataframe tbody tr th {\n",
       "        vertical-align: top;\n",
       "    }\n",
       "\n",
       "    .dataframe thead th {\n",
       "        text-align: right;\n",
       "    }\n",
       "</style>\n",
       "<table border=\"1\" class=\"dataframe\">\n",
       "  <thead>\n",
       "    <tr style=\"text-align: right;\">\n",
       "      <th></th>\n",
       "      <th>Turbine_ID</th>\n",
       "      <th>Component</th>\n",
       "      <th>Timestamp</th>\n",
       "    </tr>\n",
       "  </thead>\n",
       "  <tbody>\n",
       "    <tr>\n",
       "      <th>0</th>\n",
       "      <td>T11</td>\n",
       "      <td>GENERATOR</td>\n",
       "      <td>2016-03-03 19:00:00</td>\n",
       "    </tr>\n",
       "    <tr>\n",
       "      <th>5</th>\n",
       "      <td>T06</td>\n",
       "      <td>GENERATOR</td>\n",
       "      <td>2016-07-11 19:40:00</td>\n",
       "    </tr>\n",
       "    <tr>\n",
       "      <th>7</th>\n",
       "      <td>T06</td>\n",
       "      <td>GENERATOR</td>\n",
       "      <td>2016-07-24 17:00:00</td>\n",
       "    </tr>\n",
       "    <tr>\n",
       "      <th>10</th>\n",
       "      <td>T06</td>\n",
       "      <td>GENERATOR</td>\n",
       "      <td>2016-09-04 08:00:00</td>\n",
       "    </tr>\n",
       "    <tr>\n",
       "      <th>11</th>\n",
       "      <td>T06</td>\n",
       "      <td>GENERATOR</td>\n",
       "      <td>2016-10-02 17:00:00</td>\n",
       "    </tr>\n",
       "    <tr>\n",
       "      <th>15</th>\n",
       "      <td>T06</td>\n",
       "      <td>GENERATOR</td>\n",
       "      <td>2016-10-27 16:20:00</td>\n",
       "    </tr>\n",
       "    <tr>\n",
       "      <th>22</th>\n",
       "      <td>T07</td>\n",
       "      <td>GENERATOR</td>\n",
       "      <td>2017-08-21 14:40:00</td>\n",
       "    </tr>\n",
       "  </tbody>\n",
       "</table>\n",
       "</div>"
      ],
      "text/plain": [
       "   Turbine_ID  Component           Timestamp\n",
       "0         T11  GENERATOR 2016-03-03 19:00:00\n",
       "5         T06  GENERATOR 2016-07-11 19:40:00\n",
       "7         T06  GENERATOR 2016-07-24 17:00:00\n",
       "10        T06  GENERATOR 2016-09-04 08:00:00\n",
       "11        T06  GENERATOR 2016-10-02 17:00:00\n",
       "15        T06  GENERATOR 2016-10-27 16:20:00\n",
       "22        T07  GENERATOR 2017-08-21 14:40:00"
      ]
     },
     "execution_count": 61,
     "metadata": {},
     "output_type": "execute_result"
    }
   ],
   "source": [
    "failures_df[failures_df.Component == 'GENERATOR'].sort_values('Timestamp')"
   ]
  },
  {
   "cell_type": "code",
   "execution_count": 5,
   "metadata": {
    "ExecuteTime": {
     "end_time": "2021-02-11T19:35:54.757084Z",
     "start_time": "2021-02-11T19:35:54.446313Z"
    }
   },
   "outputs": [
    {
     "data": {
      "text/plain": [
       "GENERATOR            7\n",
       "GENERATOR_BEARING    6\n",
       "HYDRAULIC_GROUP      5\n",
       "TRANSFORMER          3\n",
       "GEARBOX              2\n",
       "Name: Component, dtype: int64"
      ]
     },
     "execution_count": 5,
     "metadata": {},
     "output_type": "execute_result"
    }
   ],
   "source": [
    "failures_df.Component.value_counts()"
   ]
  },
  {
   "cell_type": "code",
   "execution_count": 6,
   "metadata": {
    "ExecuteTime": {
     "end_time": "2021-02-11T19:35:55.193774Z",
     "start_time": "2021-02-11T19:35:54.774038Z"
    }
   },
   "outputs": [],
   "source": [
    "df_list = [failures_df, signals_df, logs_df]"
   ]
  },
  {
   "cell_type": "markdown",
   "metadata": {},
   "source": [
    "# Criação de datasets de components"
   ]
  },
  {
   "cell_type": "code",
   "execution_count": 7,
   "metadata": {
    "ExecuteTime": {
     "end_time": "2021-02-11T19:35:56.237917Z",
     "start_time": "2021-02-11T19:35:55.206743Z"
    }
   },
   "outputs": [],
   "source": [
    "df_generator, df_gen_bear, df_transformer, df_hydraulic, df_gearbox = dprep.component_df_creation(signals_df)"
   ]
  },
  {
   "cell_type": "code",
   "execution_count": 8,
   "metadata": {
    "ExecuteTime": {
     "end_time": "2021-02-11T19:35:56.538182Z",
     "start_time": "2021-02-11T19:35:56.243904Z"
    }
   },
   "outputs": [],
   "source": [
    "comp_df_list = [df_generator, df_hydraulic, df_gen_bear, df_transformer,  df_gearbox]"
   ]
  },
  {
   "cell_type": "code",
   "execution_count": 9,
   "metadata": {
    "ExecuteTime": {
     "end_time": "2021-02-11T19:35:56.836421Z",
     "start_time": "2021-02-11T19:35:56.548157Z"
    }
   },
   "outputs": [
    {
     "name": "stdout",
     "output_type": "stream",
     "text": [
      "(434145, 45)\n",
      "(434145, 34)\n",
      "(434145, 45)\n",
      "(434145, 36)\n",
      "(434145, 33)\n"
     ]
    }
   ],
   "source": [
    "for i in range(len(comp_df_list)):\n",
    "    print(comp_df_list[i].shape)"
   ]
  },
  {
   "cell_type": "code",
   "execution_count": 10,
   "metadata": {
    "ExecuteTime": {
     "end_time": "2021-02-11T19:35:57.162162Z",
     "start_time": "2021-02-11T19:35:56.840408Z"
    }
   },
   "outputs": [
    {
     "data": {
      "text/plain": [
       "array(['GENERATOR', 'HYDRAULIC_GROUP', 'GENERATOR_BEARING', 'TRANSFORMER',\n",
       "       'GEARBOX'], dtype=object)"
      ]
     },
     "execution_count": 10,
     "metadata": {},
     "output_type": "execute_result"
    }
   ],
   "source": [
    "component_list = failures_df.Component.unique()\n",
    "component_list"
   ]
  },
  {
   "cell_type": "markdown",
   "metadata": {},
   "source": [
    "# Cópia dos df para só carregar uma vez no ficheiro"
   ]
  },
  {
   "cell_type": "code",
   "execution_count": 11,
   "metadata": {
    "ExecuteTime": {
     "end_time": "2021-02-11T19:35:57.460205Z",
     "start_time": "2021-02-11T19:35:57.169144Z"
    }
   },
   "outputs": [],
   "source": [
    "comp_prep_df_list = comp_df_list.copy()"
   ]
  },
  {
   "cell_type": "markdown",
   "metadata": {},
   "source": [
    "# Merge dos DF com o DF de failures"
   ]
  },
  {
   "cell_type": "code",
   "execution_count": 12,
   "metadata": {
    "ExecuteTime": {
     "end_time": "2021-02-11T19:36:13.562788Z",
     "start_time": "2021-02-11T19:35:57.468705Z"
    }
   },
   "outputs": [],
   "source": [
    "for i in range(len(component_list)):\n",
    "    comp_prep_df_list[i] = dprep.sig_fail_merge_dfs(sig_df=comp_prep_df_list[i],\n",
    "                                               fail_df=failures_df,\n",
    "                                               component=component_list[i])"
   ]
  },
  {
   "cell_type": "code",
   "execution_count": 13,
   "metadata": {
    "ExecuteTime": {
     "end_time": "2021-02-11T19:36:13.875340Z",
     "start_time": "2021-02-11T19:36:13.568769Z"
    }
   },
   "outputs": [
    {
     "name": "stdout",
     "output_type": "stream",
     "text": [
      "(434145, 45)\n",
      "(434145, 34)\n",
      "(434145, 45)\n",
      "(434145, 36)\n",
      "(434145, 33)\n"
     ]
    }
   ],
   "source": [
    "for i in comp_df_list:\n",
    "    print(i.shape)"
   ]
  },
  {
   "cell_type": "markdown",
   "metadata": {},
   "source": [
    "# Fillna by turbine"
   ]
  },
  {
   "cell_type": "code",
   "execution_count": 14,
   "metadata": {
    "ExecuteTime": {
     "end_time": "2021-02-11T19:36:14.265965Z",
     "start_time": "2021-02-11T19:36:13.893303Z"
    }
   },
   "outputs": [
    {
     "data": {
      "text/plain": [
       "array(['T11', 'T06', 'T01', 'T09', 'T07'], dtype=object)"
      ]
     },
     "execution_count": 14,
     "metadata": {},
     "output_type": "execute_result"
    }
   ],
   "source": [
    "turbine_list = signals_df.Turbine_ID.unique()\n",
    "turbine_list"
   ]
  },
  {
   "cell_type": "code",
   "execution_count": 15,
   "metadata": {
    "ExecuteTime": {
     "end_time": "2021-02-11T19:36:38.722881Z",
     "start_time": "2021-02-11T19:36:14.279932Z"
    }
   },
   "outputs": [
    {
     "name": "stderr",
     "output_type": "stream",
     "text": [
      "C:\\Users\\ricar\\code\\RicardoJPedro82\\wmillfailprev\\notebooks\\Dataset_transf.py:157: SettingWithCopyWarning: \n",
      "A value is trying to be set on a copy of a slice from a DataFrame.\n",
      "Try using .loc[row_indexer,col_indexer] = value instead\n",
      "\n",
      "See the caveats in the documentation: http://pandas.pydata.org/pandas-docs/stable/indexing.html#indexing-view-versus-copy\n",
      "  index['date'] = index['Timestamp']\n",
      "C:\\Users\\ricar\\code\\RicardoJPedro82\\wmillfailprev\\notebooks\\Dataset_transf.py:178: FutureWarning: Sorting because non-concatenation axis is not aligned. A future version\n",
      "of pandas will change to not sort by default.\n",
      "\n",
      "To accept the future behavior, pass 'sort=False'.\n",
      "\n",
      "To retain the current behavior and silence the warning, pass 'sort=True'.\n",
      "\n",
      "  df_ = pd.concat([df_, df_final])\n",
      "C:\\Users\\ricar\\code\\RicardoJPedro82\\wmillfailprev\\notebooks\\Dataset_transf.py:170: SettingWithCopyWarning: \n",
      "A value is trying to be set on a copy of a slice from a DataFrame.\n",
      "Try using .loc[row_indexer,col_indexer] = value instead\n",
      "\n",
      "See the caveats in the documentation: http://pandas.pydata.org/pandas-docs/stable/indexing.html#indexing-view-versus-copy\n",
      "  df_merged['date'] = df_merged['Timestamp']\n",
      "C:\\Users\\ricar\\code\\RicardoJPedro82\\wmillfailprev\\notebooks\\Dataset_transf.py:171: SettingWithCopyWarning: \n",
      "A value is trying to be set on a copy of a slice from a DataFrame.\n",
      "Try using .loc[row_indexer,col_indexer] = value instead\n",
      "\n",
      "See the caveats in the documentation: http://pandas.pydata.org/pandas-docs/stable/indexing.html#indexing-view-versus-copy\n",
      "  df_merged['TTF'] = 0 # df_merged['date'] - df_merged['Timestamp']\n"
     ]
    }
   ],
   "source": [
    "for i in range(len(component_list)):\n",
    "    comp_prep_df_list[i] = dprep.fill_na_by_turbine(comp_prep_df_list[i], turbine_list)"
   ]
  },
  {
   "cell_type": "code",
   "execution_count": 16,
   "metadata": {
    "ExecuteTime": {
     "end_time": "2021-02-11T19:36:39.166556Z",
     "start_time": "2021-02-11T19:36:38.727876Z"
    }
   },
   "outputs": [
    {
     "name": "stdout",
     "output_type": "stream",
     "text": [
      "(434147, 47)\n",
      "(434145, 36)\n",
      "(434145, 47)\n",
      "(434145, 38)\n",
      "(434145, 35)\n"
     ]
    }
   ],
   "source": [
    "for i in comp_prep_df_list:\n",
    "    print(i.shape)"
   ]
  },
  {
   "cell_type": "markdown",
   "metadata": {},
   "source": [
    "# Criação de Variável alvo"
   ]
  },
  {
   "cell_type": "code",
   "execution_count": 17,
   "metadata": {
    "ExecuteTime": {
     "end_time": "2021-02-11T19:36:45.372602Z",
     "start_time": "2021-02-11T19:36:39.175533Z"
    }
   },
   "outputs": [
    {
     "name": "stdout",
     "output_type": "stream",
     "text": [
      "0    47\n",
      "dtype: int64\n",
      "0    36\n",
      "dtype: int64\n",
      "0    47\n",
      "dtype: int64\n",
      "0    38\n",
      "dtype: int64\n",
      "0    35\n",
      "dtype: int64\n"
     ]
    }
   ],
   "source": [
    "for i in range(len(comp_prep_df_list)):\n",
    "    print(comp_prep_df_list[i].isna().sum().value_counts())"
   ]
  },
  {
   "cell_type": "code",
   "execution_count": 18,
   "metadata": {
    "ExecuteTime": {
     "end_time": "2021-02-11T19:36:45.687312Z",
     "start_time": "2021-02-11T19:36:45.380584Z"
    }
   },
   "outputs": [],
   "source": [
    "days_list = [40]"
   ]
  },
  {
   "cell_type": "code",
   "execution_count": 19,
   "metadata": {
    "ExecuteTime": {
     "end_time": "2021-02-11T19:37:46.497588Z",
     "start_time": "2021-02-11T19:36:45.702763Z"
    }
   },
   "outputs": [],
   "source": [
    "for day in days_list:\n",
    "    for i in range(len(comp_prep_df_list)):\n",
    "        comp_prep_df_list[i] = dprep.aplic_var_target(comp_prep_df_list[i], day)"
   ]
  },
  {
   "cell_type": "code",
   "execution_count": 20,
   "metadata": {
    "ExecuteTime": {
     "end_time": "2021-02-11T19:37:46.622257Z",
     "start_time": "2021-02-11T19:37:46.500585Z"
    }
   },
   "outputs": [
    {
     "name": "stdout",
     "output_type": "stream",
     "text": [
      "(434147, 48)\n",
      "(434145, 37)\n",
      "(434145, 48)\n",
      "(434145, 39)\n",
      "(434145, 36)\n"
     ]
    }
   ],
   "source": [
    "for i in comp_prep_df_list:\n",
    "    print(i.shape)"
   ]
  },
  {
   "cell_type": "markdown",
   "metadata": {},
   "source": [
    "# Feature selection"
   ]
  },
  {
   "cell_type": "code",
   "execution_count": 21,
   "metadata": {
    "ExecuteTime": {
     "end_time": "2021-02-11T19:37:46.748916Z",
     "start_time": "2021-02-11T19:37:46.626244Z"
    }
   },
   "outputs": [
    {
     "name": "stdout",
     "output_type": "stream",
     "text": [
      "(48,)\n",
      "(37,)\n",
      "(48,)\n",
      "(39,)\n",
      "(36,)\n"
     ]
    }
   ],
   "source": [
    "for i in comp_prep_df_list:\n",
    "    print(i.keys().shape)"
   ]
  },
  {
   "cell_type": "code",
   "execution_count": 22,
   "metadata": {
    "ExecuteTime": {
     "end_time": "2021-02-11T19:37:46.872585Z",
     "start_time": "2021-02-11T19:37:46.751909Z"
    }
   },
   "outputs": [],
   "source": [
    "gen_features_drop = [\n",
    "    'Gen_RPM_Max', 'Gen_RPM_Min', 'Gen_Phase1_Temp_Avg', 'Gen_Phase3_Temp_Avg',\n",
    "    'Amb_WindSpeed_Est_Avg', 'Grd_RtrInvPhase1_Temp_Avg',\n",
    "    'Grd_RtrInvPhase3_Temp_Avg', 'Rtr_RPM_Max', 'Rtr_RPM_Min',\n",
    "    'Blds_PitchAngle_Max', 'Blds_PitchAngle_Min',\n",
    "    'Prod_LatestAvg_ReactPwrGen1', 'Cont_Hub_Temp_Avg', 'Spin_Temp_Avg',\n",
    "    'Rtr_RPM_Std', 'Rtr_RPM_Avg', 'Cont_VCP_Temp_Avg'\n",
    "]"
   ]
  },
  {
   "cell_type": "code",
   "execution_count": 23,
   "metadata": {
    "ExecuteTime": {
     "end_time": "2021-02-11T19:37:47.010733Z",
     "start_time": "2021-02-11T19:37:46.881561Z"
    }
   },
   "outputs": [],
   "source": [
    "gen_bear_features_drop = [\n",
    "    'Gen_RPM_Max', 'Gen_RPM_Min', 'Gen_Phase1_Temp_Avg', 'Gen_Phase3_Temp_Avg',\n",
    "    'Amb_WindSpeed_Est_Avg', 'Grd_RtrInvPhase1_Temp_Avg',\n",
    "    'Grd_RtrInvPhase3_Temp_Avg', 'Rtr_RPM_Max', 'Rtr_RPM_Min',\n",
    "    'Blds_PitchAngle_Max', 'Blds_PitchAngle_Min',\n",
    "    'Prod_LatestAvg_ReactPwrGen1', 'Cont_Hub_Temp_Avg', 'Spin_Temp_Avg',\n",
    "    'Rtr_RPM_Std', 'Rtr_RPM_Avg', 'Cont_VCP_Temp_Avg'\n",
    "]"
   ]
  },
  {
   "cell_type": "code",
   "execution_count": 24,
   "metadata": {
    "ExecuteTime": {
     "end_time": "2021-02-11T19:37:47.121444Z",
     "start_time": "2021-02-11T19:37:47.014722Z"
    }
   },
   "outputs": [],
   "source": [
    "hyd_features_drop = [\n",
    "    'Rtr_RPM_Max', 'Rtr_RPM_Min', 'Blds_PitchAngle_Max', 'Blds_PitchAngle_Min',\n",
    "    'Blds_PitchAngle_Max', 'Grd_RtrInvPhase3_Temp_Avg', 'Grd_Busbar_Temp_Avg',\n",
    "    'Amb_WindSpeed_Est_Avg', 'Spin_Temp_Avg', 'Cont_Hub_Temp_Avg',\n",
    "    'Grd_RtrInvPhase1_Temp_Avg', 'Cont_VCP_Temp_Avg'\n",
    "]"
   ]
  },
  {
   "cell_type": "code",
   "execution_count": 25,
   "metadata": {
    "ExecuteTime": {
     "end_time": "2021-02-11T19:37:47.246155Z",
     "start_time": "2021-02-11T19:37:47.125445Z"
    }
   },
   "outputs": [],
   "source": [
    "gearbox_features_drop = [\n",
    "    'Rtr_RPM_Max', 'Rtr_RPM_Min', 'Grd_RtrInvPhase1_Temp_Avg',\n",
    "    'Grd_RtrInvPhase3_Temp_Avg', 'Blds_PitchAngle_Min', 'Blds_PitchAngle_Max',\n",
    "    'Cont_VCP_Temp_Avg', 'Grd_Busbar_Temp_Avg', 'Amb_WindSpeed_Est_Avg',\n",
    "    'Spin_Temp_Avg'\n",
    "]"
   ]
  },
  {
   "cell_type": "code",
   "execution_count": 26,
   "metadata": {
    "ExecuteTime": {
     "end_time": "2021-02-11T19:37:47.357874Z",
     "start_time": "2021-02-11T19:37:47.249149Z"
    }
   },
   "outputs": [],
   "source": [
    "transf_features_drop = [\n",
    "    'HVTrafo_Phase1_Temp_Avg', 'HVTrafo_Phase3_Temp_Avg', 'Rtr_RPM_Max',\n",
    "    'Rtr_RPM_Min', 'Grd_RtrInvPhase1_Temp_Avg', 'Grd_RtrInvPhase3_Temp_Avg',\n",
    "    'Blds_PitchAngle_Min', 'Blds_PitchAngle_Max', 'Amb_WindSpeed_Est_Avg',\n",
    "    'Spin_Temp_Avg', 'Cont_VCP_Temp_Avg'\n",
    "]"
   ]
  },
  {
   "cell_type": "code",
   "execution_count": 27,
   "metadata": {
    "ExecuteTime": {
     "end_time": "2021-02-11T19:37:47.468096Z",
     "start_time": "2021-02-11T19:37:47.359866Z"
    }
   },
   "outputs": [],
   "source": [
    "feat_drop_list = [\n",
    "    gen_features_drop, hyd_features_drop, gen_bear_features_drop,\n",
    "    transf_features_drop, gearbox_features_drop\n",
    "]"
   ]
  },
  {
   "cell_type": "code",
   "execution_count": 28,
   "metadata": {
    "ExecuteTime": {
     "end_time": "2021-02-11T19:37:48.072613Z",
     "start_time": "2021-02-11T19:37:47.470087Z"
    },
    "scrolled": true
   },
   "outputs": [
    {
     "name": "stdout",
     "output_type": "stream",
     "text": [
      "A actualizar dataframe 1 de 5\n",
      "A actualizar dataframe 2 de 5\n",
      "A actualizar dataframe 3 de 5\n",
      "A actualizar dataframe 4 de 5\n",
      "A actualizar dataframe 5 de 5\n"
     ]
    }
   ],
   "source": [
    "for df in range(len(comp_prep_df_list)):\n",
    "    print(f'A actualizar dataframe {df+1} de {len(comp_prep_df_list)}')\n",
    "#     for col in feat_drop_list:\n",
    "#         print(f'A apagar a coluna {col}')\n",
    "    comp_prep_df_list[df] = comp_prep_df_list[df].drop(columns=feat_drop_list[df])"
   ]
  },
  {
   "cell_type": "code",
   "execution_count": 29,
   "metadata": {
    "ExecuteTime": {
     "end_time": "2021-02-11T19:37:48.213768Z",
     "start_time": "2021-02-11T19:37:48.074605Z"
    }
   },
   "outputs": [
    {
     "name": "stdout",
     "output_type": "stream",
     "text": [
      "(434147, 31)\n",
      "(434145, 26)\n",
      "(434145, 31)\n",
      "(434145, 28)\n",
      "(434145, 26)\n"
     ]
    }
   ],
   "source": [
    "for i in comp_prep_df_list:\n",
    "    print(i.shape)"
   ]
  },
  {
   "cell_type": "code",
   "execution_count": 30,
   "metadata": {
    "ExecuteTime": {
     "end_time": "2021-02-11T19:37:48.340426Z",
     "start_time": "2021-02-11T19:37:48.216755Z"
    }
   },
   "outputs": [
    {
     "name": "stdout",
     "output_type": "stream",
     "text": [
      "(31,)\n",
      "(26,)\n",
      "(31,)\n",
      "(28,)\n",
      "(26,)\n"
     ]
    }
   ],
   "source": [
    "for i in comp_prep_df_list:\n",
    "    print(i.keys().shape)"
   ]
  },
  {
   "cell_type": "markdown",
   "metadata": {},
   "source": [
    "# Agrupar pela medida de tempo seleccionada."
   ]
  },
  {
   "cell_type": "code",
   "execution_count": 31,
   "metadata": {
    "ExecuteTime": {
     "end_time": "2021-02-11T19:37:48.464140Z",
     "start_time": "2021-02-11T19:37:48.344415Z"
    }
   },
   "outputs": [
    {
     "name": "stdout",
     "output_type": "stream",
     "text": [
      "(434147, 31)\n",
      "(434145, 26)\n",
      "(434145, 31)\n",
      "(434145, 28)\n",
      "(434145, 26)\n"
     ]
    }
   ],
   "source": [
    "for i in range(len(comp_prep_df_list)):\n",
    "    print(comp_prep_df_list[i].shape)"
   ]
  },
  {
   "cell_type": "code",
   "execution_count": 32,
   "metadata": {
    "ExecuteTime": {
     "end_time": "2021-02-11T19:37:51.242917Z",
     "start_time": "2021-02-11T19:37:48.468123Z"
    }
   },
   "outputs": [],
   "source": [
    "# Passagem para dias\n",
    "Agrup_por = 'Dia'\n",
    "for i in range(len(comp_prep_df_list)):\n",
    "    comp_prep_df_list[i] = dprep.group_por_frequency(comp_prep_df_list[i], period=Agrup_por)"
   ]
  },
  {
   "cell_type": "code",
   "execution_count": 33,
   "metadata": {
    "ExecuteTime": {
     "end_time": "2021-02-11T19:37:51.367482Z",
     "start_time": "2021-02-11T19:37:51.245916Z"
    }
   },
   "outputs": [
    {
     "name": "stdout",
     "output_type": "stream",
     "text": [
      "(3042, 31)\n",
      "(3041, 19)\n",
      "(3041, 18)\n",
      "(3041, 19)\n",
      "(3041, 16)\n"
     ]
    }
   ],
   "source": [
    "# Passagem para dias \n",
    "for i in range(len(comp_prep_df_list)):\n",
    "    print(comp_prep_df_list[i].shape)"
   ]
  },
  {
   "cell_type": "markdown",
   "metadata": {},
   "source": [
    "# Adicionar as medidas de alisamento"
   ]
  },
  {
   "cell_type": "code",
   "execution_count": 34,
   "metadata": {
    "ExecuteTime": {
     "end_time": "2021-02-11T19:37:51.507170Z",
     "start_time": "2021-02-11T19:37:51.369477Z"
    }
   },
   "outputs": [
    {
     "name": "stdout",
     "output_type": "stream",
     "text": [
      "(3042, 31)\n",
      "(3041, 19)\n",
      "(3041, 18)\n",
      "(3041, 19)\n",
      "(3041, 16)\n"
     ]
    }
   ],
   "source": [
    "for i in range(len(comp_prep_df_list)):\n",
    "    print(comp_prep_df_list[i].shape)"
   ]
  },
  {
   "cell_type": "code",
   "execution_count": 35,
   "metadata": {
    "ExecuteTime": {
     "end_time": "2021-02-11T19:37:51.947754Z",
     "start_time": "2021-02-11T19:37:51.510173Z"
    }
   },
   "outputs": [],
   "source": [
    "for i in range(len(comp_prep_df_list)):\n",
    "    comp_prep_df_list[i] = dprep.add_features(comp_prep_df_list[i], rolling_win_size=5)"
   ]
  },
  {
   "cell_type": "code",
   "execution_count": 36,
   "metadata": {
    "ExecuteTime": {
     "end_time": "2021-02-11T19:37:52.086145Z",
     "start_time": "2021-02-11T19:37:51.953742Z"
    }
   },
   "outputs": [],
   "source": [
    "cols_to_drop = [\n",
    "    'Amb_Temp_Avg', 'Amb_WindDir_Abs_Avg', 'Amb_WindDir_Relative_Avg',\n",
    "    'Amb_WindSpeed_Avg', 'Amb_WindSpeed_Max', 'Amb_WindSpeed_Min',\n",
    "    'Amb_WindSpeed_Std', 'Blds_PitchAngle_Avg', 'Blds_PitchAngle_Std',\n",
    "    'Cont_Top_Temp_Avg', 'Cont_VCP_ChokcoilTemp_Avg',\n",
    "    'Cont_VCP_WtrTemp_Avg', 'Gen_Bear2_Temp_Avg', 'Gen_Bear_Temp_Avg',\n",
    "    'Gen_Phase2_Temp_Avg', 'Gen_RPM_Avg', 'Gen_RPM_Std',\n",
    "    'Gen_SlipRing_Temp_Avg', 'Grd_Busbar_Temp_Avg',\n",
    "    'Grd_RtrInvPhase2_Temp_Avg', 'Hyd_Oil_Temp_Avg', 'Nac_Direction_Avg',\n",
    "    'Nac_Temp_Avg', 'Prod_LatestAvg_ActPwrGen0', 'Prod_LatestAvg_ActPwrGen1',\n",
    "    'Prod_LatestAvg_ReactPwrGen0'\n",
    "]\n",
    "comp_prep_df_list[0] = comp_prep_df_list[0].drop(columns=cols_to_drop)"
   ]
  },
  {
   "cell_type": "code",
   "execution_count": 37,
   "metadata": {
    "ExecuteTime": {
     "end_time": "2021-02-11T19:37:52.212461Z",
     "start_time": "2021-02-11T19:37:52.088792Z"
    }
   },
   "outputs": [],
   "source": [
    "cols_to_drop = [\n",
    "    'Amb_WindDir_Abs_Avg', 'Amb_WindDir_Relative_Avg',\n",
    "    'Amb_WindSpeed_Avg', 'Amb_WindSpeed_Max', 'Amb_WindSpeed_Min',\n",
    "    'Amb_WindSpeed_Std', 'Blds_PitchAngle_Avg', 'Blds_PitchAngle_Std',\n",
    "    'Nac_Direction_Avg', 'Rtr_RPM_Avg', 'Rtr_RPM_Std'\n",
    "]\n",
    "comp_prep_df_list[1] = comp_prep_df_list[1].drop(columns=cols_to_drop)"
   ]
  },
  {
   "cell_type": "code",
   "execution_count": 38,
   "metadata": {
    "ExecuteTime": {
     "end_time": "2021-02-11T19:37:52.323188Z",
     "start_time": "2021-02-11T19:37:52.214457Z"
    }
   },
   "outputs": [],
   "source": [
    "cols_to_drop =  ['Amb_WindDir_Abs_Avg', 'Amb_WindDir_Relative_Avg',\n",
    "       'Amb_WindSpeed_Avg', 'Amb_WindSpeed_Max', 'Amb_WindSpeed_Min',\n",
    "       'Amb_WindSpeed_Std', 'Blds_PitchAngle_Avg', 'Blds_PitchAngle_Std',\n",
    "       'Gen_Bear_Temp_Avg', 'Gen_RPM_Avg', 'Gen_RPM_Std',\n",
    "       'Nac_Direction_Avg', 'Prod_LatestAvg_ActPwrGen1']\n",
    "comp_prep_df_list[2] = comp_prep_df_list[2].drop(columns=cols_to_drop)"
   ]
  },
  {
   "cell_type": "code",
   "execution_count": 39,
   "metadata": {
    "ExecuteTime": {
     "end_time": "2021-02-11T19:37:52.460797Z",
     "start_time": "2021-02-11T19:37:52.328154Z"
    }
   },
   "outputs": [],
   "source": [
    "cols_to_drop = ['Amb_WindDir_Abs_Avg', 'Amb_WindDir_Relative_Avg',\n",
    "       'Amb_WindSpeed_Avg', 'Amb_WindSpeed_Max', 'Amb_WindSpeed_Min',\n",
    "       'Amb_WindSpeed_Std', 'Blds_PitchAngle_Avg', 'Blds_PitchAngle_Std',\n",
    "       'Grd_Prod_VoltPhse1_Avg', 'Grd_Prod_VoltPhse2_Avg',\n",
    "       'Grd_Prod_VoltPhse3_Avg', 'Nac_Direction_Avg', 'Rtr_RPM_Avg',\n",
    "       'Rtr_RPM_Std']\n",
    "comp_prep_df_list[3] = comp_prep_df_list[3].drop(columns=cols_to_drop)"
   ]
  },
  {
   "cell_type": "code",
   "execution_count": 40,
   "metadata": {
    "ExecuteTime": {
     "end_time": "2021-02-11T19:37:52.584466Z",
     "start_time": "2021-02-11T19:37:52.463790Z"
    }
   },
   "outputs": [],
   "source": [
    "cols_to_drop = ['Amb_WindDir_Abs_Avg', 'Amb_WindDir_Relative_Avg',\n",
    "       'Amb_WindSpeed_Avg', 'Amb_WindSpeed_Max', 'Amb_WindSpeed_Min',\n",
    "       'Amb_WindSpeed_Std', 'Blds_PitchAngle_Avg', 'Blds_PitchAngle_Std',\n",
    "       'Nac_Direction_Avg', 'Rtr_RPM_Avg', 'Rtr_RPM_Std']\n",
    "comp_prep_df_list[4] = comp_prep_df_list[4].drop(columns=cols_to_drop)"
   ]
  },
  {
   "cell_type": "code",
   "execution_count": 41,
   "metadata": {
    "ExecuteTime": {
     "end_time": "2021-02-11T19:37:52.695703Z",
     "start_time": "2021-02-11T19:37:52.587460Z"
    }
   },
   "outputs": [
    {
     "name": "stdout",
     "output_type": "stream",
     "text": [
      "(3042, 59)\n",
      "(3041, 38)\n",
      "(3041, 33)\n",
      "(3041, 35)\n",
      "(3041, 29)\n"
     ]
    }
   ],
   "source": [
    "for i in range(len(comp_prep_df_list)):\n",
    "    print(comp_prep_df_list[i].shape)"
   ]
  },
  {
   "cell_type": "markdown",
   "metadata": {},
   "source": [
    "# Train and test split"
   ]
  },
  {
   "cell_type": "code",
   "execution_count": 42,
   "metadata": {
    "ExecuteTime": {
     "end_time": "2021-02-11T19:37:52.880755Z",
     "start_time": "2021-02-11T19:37:52.712651Z"
    }
   },
   "outputs": [],
   "source": [
    "# Separar os dataframes de treino e teste\n",
    "df_train = [0, 0, 0, 0, 0]\n",
    "df_test = [0, 0, 0, 0, 0]\n",
    "\n",
    "per_test = '3meses'\n",
    "\n",
    "for i in range(len(comp_prep_df_list)):\n",
    "    df_train[i] = dprep.prepare_train_df(comp_prep_df_list[i].copy(), meses=3)\n",
    "    df_test[i] = dprep.prepare_test_df(comp_prep_df_list[i].copy(), meses=3)"
   ]
  },
  {
   "cell_type": "code",
   "execution_count": 43,
   "metadata": {
    "ExecuteTime": {
     "end_time": "2021-02-11T19:37:53.006425Z",
     "start_time": "2021-02-11T19:37:52.883745Z"
    }
   },
   "outputs": [
    {
     "name": "stdout",
     "output_type": "stream",
     "text": [
      "df_train 0 com a forma (2577, 59)\n",
      "df_test 0 com a forma (465, 59)\n",
      "df_train 1 com a forma (2576, 38)\n",
      "df_test 1 com a forma (465, 38)\n",
      "df_train 2 com a forma (2576, 33)\n",
      "df_test 2 com a forma (465, 33)\n",
      "df_train 3 com a forma (2576, 35)\n",
      "df_test 3 com a forma (465, 35)\n",
      "df_train 4 com a forma (2576, 29)\n",
      "df_test 4 com a forma (465, 29)\n"
     ]
    }
   ],
   "source": [
    "for i in range(len(df_train)):\n",
    "    print(f'df_train {i} com a forma {df_train[i].shape}')\n",
    "    print(f'df_test {i} com a forma {df_test[i].shape}')"
   ]
  },
  {
   "cell_type": "markdown",
   "metadata": {
    "ExecuteTime": {
     "end_time": "2021-02-07T18:42:58.465901Z",
     "start_time": "2021-02-07T18:42:58.395089Z"
    }
   },
   "source": [
    "# Criar o x_train, x_test, y_train e o y_test "
   ]
  },
  {
   "cell_type": "code",
   "execution_count": 44,
   "metadata": {
    "ExecuteTime": {
     "end_time": "2021-02-11T19:37:53.176902Z",
     "start_time": "2021-02-11T19:37:53.010413Z"
    }
   },
   "outputs": [],
   "source": [
    "x_train = [0, 0, 0, 0, 0]\n",
    "x_test = [0, 0, 0, 0, 0]\n",
    "y_train = [0, 0, 0, 0, 0]\n",
    "y_test = [0, 0, 0, 0, 0]\n",
    "\n",
    "dias_var_alvo = days_list[0]\n",
    "\n",
    "for i in range(len(df_train)):\n",
    "    x_train[i] = df_train[i].copy()\n",
    "    x_test[i] = df_test[i].copy()\n",
    "    y_train[i] = df_train[i].copy()\n",
    "    y_test[i] = df_test[i].copy()"
   ]
  },
  {
   "cell_type": "code",
   "execution_count": 45,
   "metadata": {
    "ExecuteTime": {
     "end_time": "2021-02-11T19:37:53.313534Z",
     "start_time": "2021-02-11T19:37:53.182885Z"
    }
   },
   "outputs": [
    {
     "data": {
      "text/plain": [
       "True"
      ]
     },
     "execution_count": 45,
     "metadata": {},
     "output_type": "execute_result"
    }
   ],
   "source": [
    "'Component_av' in x_train[0].columns"
   ]
  },
  {
   "cell_type": "code",
   "execution_count": 46,
   "metadata": {
    "ExecuteTime": {
     "end_time": "2021-02-11T20:06:41.556622Z",
     "start_time": "2021-02-11T20:06:41.141731Z"
    }
   },
   "outputs": [],
   "source": [
    "# retirar as colunas que não devem entrar no x\n",
    "cols_to_drop_train = ['Date', 'TTF', str(days_list[0])+'_days', 'Component', 'Component_av', 'Component_sd']\n",
    "for i in range(len(x_train)):\n",
    "    x_train[i].drop(columns=cols_to_drop_train, inplace=True)\n",
    "    x_test[i].drop(columns=cols_to_drop_train, inplace=True)"
   ]
  },
  {
   "cell_type": "code",
   "execution_count": 47,
   "metadata": {
    "ExecuteTime": {
     "end_time": "2021-02-11T20:06:41.712902Z",
     "start_time": "2021-02-11T20:06:41.562617Z"
    }
   },
   "outputs": [
    {
     "name": "stdout",
     "output_type": "stream",
     "text": [
      "x_train 0 com a forma (2577, 53)\n",
      "x_test 0 com a forma (465, 53)\n",
      "x_train 1 com a forma (2576, 32)\n",
      "x_test 1 com a forma (465, 32)\n",
      "x_train 2 com a forma (2576, 27)\n",
      "x_test 2 com a forma (465, 27)\n",
      "x_train 3 com a forma (2576, 29)\n",
      "x_test 3 com a forma (465, 29)\n",
      "x_train 4 com a forma (2576, 23)\n",
      "x_test 4 com a forma (465, 23)\n"
     ]
    }
   ],
   "source": [
    "for i in range(len(x_train)):\n",
    "    print(f'x_train {i} com a forma {x_train[i].shape}')\n",
    "    print(f'x_test {i} com a forma {x_test[i].shape}')"
   ]
  },
  {
   "cell_type": "code",
   "execution_count": 48,
   "metadata": {
    "ExecuteTime": {
     "end_time": "2021-02-11T20:06:41.913366Z",
     "start_time": "2021-02-11T20:06:41.719885Z"
    }
   },
   "outputs": [],
   "source": [
    "# considerar apenas as colunas que devem ser a variável alvo\n",
    "col_to_mantain_test = [str(days_list[0])+'_days']\n",
    "for i in range(len(x_test)):\n",
    "    y_train[i] = y_train[i][col_to_mantain_test]\n",
    "    y_test[i] = y_test[i][col_to_mantain_test]"
   ]
  },
  {
   "cell_type": "code",
   "execution_count": 49,
   "metadata": {
    "ExecuteTime": {
     "end_time": "2021-02-11T20:06:42.098118Z",
     "start_time": "2021-02-11T20:06:41.918362Z"
    }
   },
   "outputs": [
    {
     "name": "stdout",
     "output_type": "stream",
     "text": [
      "y_train 0 com a forma (2577, 1)\n",
      "y_test 0 com a forma (465, 1)\n",
      "y_train 1 com a forma (2576, 1)\n",
      "y_test 1 com a forma (465, 1)\n",
      "y_train 2 com a forma (2576, 1)\n",
      "y_test 2 com a forma (465, 1)\n",
      "y_train 3 com a forma (2576, 1)\n",
      "y_test 3 com a forma (465, 1)\n",
      "y_train 4 com a forma (2576, 1)\n",
      "y_test 4 com a forma (465, 1)\n"
     ]
    }
   ],
   "source": [
    "for i in range(len(y_test)):\n",
    "    print(f'y_train {i} com a forma {y_train[i].shape}')\n",
    "    print(f'y_test {i} com a forma {y_test[i].shape}')"
   ]
  },
  {
   "cell_type": "markdown",
   "metadata": {
    "ExecuteTime": {
     "end_time": "2021-02-07T19:59:13.987241Z",
     "start_time": "2021-02-07T19:59:13.859529Z"
    }
   },
   "source": [
    "# Primeira tentativa"
   ]
  },
  {
   "cell_type": "code",
   "execution_count": 50,
   "metadata": {
    "ExecuteTime": {
     "end_time": "2021-02-11T20:06:42.856514Z",
     "start_time": "2021-02-11T20:06:42.631511Z"
    }
   },
   "outputs": [],
   "source": [
    "# Normalizar os dados\n",
    "X_train, X_test = dprep.scale(x_train[0], x_test[0])\n",
    "\n",
    "#Sem normalizar os dados\n",
    "# X_train = x_train[0].drop(columns=['Turbine_ID']).to_numpy()\n",
    "# X_test = x_test[0].drop(columns=['Turbine_ID']).to_numpy()"
   ]
  },
  {
   "cell_type": "code",
   "execution_count": 51,
   "metadata": {
    "ExecuteTime": {
     "end_time": "2021-02-11T20:06:43.072933Z",
     "start_time": "2021-02-11T20:06:42.912364Z"
    }
   },
   "outputs": [],
   "source": [
    "y_train = y_train[0].to_numpy().astype(int)[:,0]\n",
    "y_test = y_test[0].to_numpy().astype(int)[:,0]"
   ]
  },
  {
   "cell_type": "code",
   "execution_count": 52,
   "metadata": {
    "ExecuteTime": {
     "end_time": "2021-02-11T20:06:48.100695Z",
     "start_time": "2021-02-11T20:06:43.383067Z"
    }
   },
   "outputs": [
    {
     "name": "stdout",
     "output_type": "stream",
     "text": [
      "\n",
      "Best Parameters:\n",
      " LogisticRegression(C=10, class_weight=None, dual=False, fit_intercept=True,\n",
      "          intercept_scaling=1, max_iter=1000, multi_class='warn',\n",
      "          n_jobs=None, penalty='l2', random_state=42, solver='liblinear',\n",
      "          tol=0.0001, verbose=0, warm_start=False)\n"
     ]
    },
    {
     "name": "stderr",
     "output_type": "stream",
     "text": [
      "c:\\users\\ricar\\.venvs\\lewagon\\lib\\site-packages\\sklearn\\model_selection\\_search.py:842: DeprecationWarning: The default of the `iid` parameter will change from True to False in version 0.22 and will be removed in 0.24. This will change numeric results when test-set sizes are unequal.\n",
      "  DeprecationWarning)\n"
     ]
    }
   ],
   "source": [
    "#def bin_classify(model, clf, features,target, df_train, df_test ,params=None, score=None, ):\n",
    "model = 'Logistic Regression'\n",
    "clf_LogReg = LogisticRegression(random_state=42, max_iter=1000)\n",
    "gs_params = {'C': [.01, 0.1, 1.0, 10], 'solver': ['liblinear', 'lbfgs']}\n",
    "gs_score = 'roc_auc'\n",
    "\n",
    "clf_LogReg, pred_LogReg = dprep.bin_classify(model,\n",
    "                                             clf_LogReg,\n",
    "                                             X_train,\n",
    "                                             X_test,\n",
    "                                             y_train,\n",
    "                                             y_test,\n",
    "                                             params=gs_params,\n",
    "                                             score=gs_score)\n",
    "print('\\nBest Parameters:\\n', clf_LogReg)"
   ]
  },
  {
   "cell_type": "code",
   "execution_count": 53,
   "metadata": {
    "ExecuteTime": {
     "end_time": "2021-02-11T20:06:49.582452Z",
     "start_time": "2021-02-11T20:06:48.104684Z"
    }
   },
   "outputs": [
    {
     "data": {
      "image/png": "[encoded data removed]",
      "text/plain": [
       "<Figure size 720x720 with 4 Axes>"
      ]
     },
     "metadata": {
      "needs_background": "light"
     },
     "output_type": "display_data"
    }
   ],
   "source": [
    "metrics_LogReg, roc_LogReg, prc_LogReg, cf_matriX_log_reg = dprep.bin_class_metrics(\n",
    "    model,\n",
    "    y_test,\n",
    "    pred_LogReg.y_pred,\n",
    "    pred_LogReg.y_score,\n",
    "    print_out=True,\n",
    "    plot_out=True)"
   ]
  },
  {
   "cell_type": "code",
   "execution_count": 54,
   "metadata": {
    "ExecuteTime": {
     "end_time": "2021-02-11T20:06:49.818848Z",
     "start_time": "2021-02-11T20:06:49.587434Z"
    }
   },
   "outputs": [],
   "source": [
    "tentativa = tentativa + 1"
   ]
  },
  {
   "cell_type": "code",
   "execution_count": 55,
   "metadata": {
    "ExecuteTime": {
     "end_time": "2021-02-11T20:06:50.056172Z",
     "start_time": "2021-02-11T20:06:49.825830Z"
    }
   },
   "outputs": [],
   "source": [
    "metrics_dict['try_'+str(tentativa)] =  {\n",
    "        'Component': component_list[1],\n",
    "        'dias_var_alvo': col_to_mantain_test,\n",
    "        'feature_selection': 'Guilherme',\n",
    "        'Agrup_por': Agrup_por,\n",
    "        'add_features': 'smooth only',\n",
    "        'per_test': per_test,\n",
    "        'metrics_LogReg': metrics_LogReg,\n",
    "        'cf_matriX_log_reg': cf_matriX_log_reg\n",
    "    }"
   ]
  },
  {
   "cell_type": "code",
   "execution_count": 56,
   "metadata": {
    "ExecuteTime": {
     "end_time": "2021-02-11T20:06:50.319835Z",
     "start_time": "2021-02-11T20:06:50.065148Z"
    }
   },
   "outputs": [
    {
     "data": {
      "text/plain": [
       "{'Component': 'HYDRAULIC_GROUP',\n",
       " 'dias_var_alvo': ['40_days'],\n",
       " 'feature_selection': 'Guilherme',\n",
       " 'Agrup_por': 'Dia',\n",
       " 'add_features': 'smooth only',\n",
       " 'per_test': '3meses',\n",
       " 'metrics_LogReg':            Logistic Regression\n",
       " Accuracy              0.875269\n",
       " Precision             0.045455\n",
       " Recall                0.026316\n",
       " F1 Score              0.033333\n",
       " ROC AUC               0.583015,\n",
       " 'cf_matriX_log_reg': array([[406,  21],\n",
       "        [ 37,   1]], dtype=int64)}"
      ]
     },
     "execution_count": 56,
     "metadata": {},
     "output_type": "execute_result"
    }
   ],
   "source": [
    "metrics_dict['try_'+str(tentativa)]#, metrics_dict['try002']['cf_matriX_log_reg']"
   ]
  },
  {
   "cell_type": "code",
   "execution_count": 57,
   "metadata": {
    "ExecuteTime": {
     "end_time": "2021-02-11T20:06:50.570727Z",
     "start_time": "2021-02-11T20:06:50.334326Z"
    }
   },
   "outputs": [
    {
     "name": "stdout",
     "output_type": "stream",
     "text": [
      "HYDRAULIC_GROUP\n",
      "['40_days']\n",
      "Dia\n",
      "           Logistic Regression\n",
      "Accuracy              0.875269\n",
      "Precision             0.045455\n",
      "Recall                0.026316\n",
      "F1 Score              0.033333\n",
      "ROC AUC               0.583015\n",
      "[[406  21]\n",
      " [ 37   1]]\n"
     ]
    }
   ],
   "source": [
    "for i in metrics_dict.keys():\n",
    "    print(metrics_dict[i]['Component'])\n",
    "    print(metrics_dict[i]['dias_var_alvo'])\n",
    "    print(metrics_dict[i]['Agrup_por'])\n",
    "    print(metrics_dict[i]['metrics_LogReg'])\n",
    "    print(metrics_dict[i]['cf_matriX_log_reg'])"
   ]
  },
  {
   "cell_type": "code",
   "execution_count": 58,
   "metadata": {
    "ExecuteTime": {
     "end_time": "2021-02-11T20:06:50.788143Z",
     "start_time": "2021-02-11T20:06:50.576708Z"
    }
   },
   "outputs": [],
   "source": [
    "import csv\n",
    "import json"
   ]
  },
  {
   "cell_type": "code",
   "execution_count": 59,
   "metadata": {
    "ExecuteTime": {
     "end_time": "2021-02-11T20:06:51.004564Z",
     "start_time": "2021-02-11T20:06:50.793129Z"
    }
   },
   "outputs": [],
   "source": [
    "w = csv.writer(open(\"output4.csv\", \"w\"))\n",
    "for key, val in metrics_dict.items():\n",
    "    w.writerow([key, val])"
   ]
  },
  {
   "cell_type": "markdown",
   "metadata": {},
   "source": [
    "# Cria de DF para avaliação de métricas"
   ]
  },
  {
   "cell_type": "code",
   "execution_count": 195,
   "metadata": {
    "ExecuteTime": {
     "end_time": "2021-02-11T22:17:12.111829Z",
     "start_time": "2021-02-11T22:17:11.922557Z"
    }
   },
   "outputs": [],
   "source": [
    "sav , cf_numb, met_df = dprep.metrics_create_df(df_test[0], y_test, pred_LogReg.y_pred.values, 15)"
   ]
  },
  {
   "cell_type": "code",
   "execution_count": 196,
   "metadata": {
    "ExecuteTime": {
     "end_time": "2021-02-11T22:17:12.267596Z",
     "start_time": "2021-02-11T22:17:12.143822Z"
    }
   },
   "outputs": [
    {
     "data": {
      "text/plain": [
       "-18750.0"
      ]
     },
     "execution_count": 196,
     "metadata": {},
     "output_type": "execute_result"
    }
   ],
   "source": [
    "sav"
   ]
  },
  {
   "cell_type": "code",
   "execution_count": 197,
   "metadata": {
    "ExecuteTime": {
     "end_time": "2021-02-11T22:17:12.468950Z",
     "start_time": "2021-02-11T22:17:12.355255Z"
    }
   },
   "outputs": [
    {
     "data": {
      "text/plain": [
       "{'TP': 1, 'TN': 406, 'FP': 6, 'FN': 0}"
      ]
     },
     "execution_count": 197,
     "metadata": {},
     "output_type": "execute_result"
    }
   ],
   "source": [
    "cf_numb"
   ]
  },
  {
   "cell_type": "code",
   "execution_count": 198,
   "metadata": {
    "ExecuteTime": {
     "end_time": "2021-02-11T22:17:12.733594Z",
     "start_time": "2021-02-11T22:17:12.570638Z"
    }
   },
   "outputs": [
    {
     "data": {
      "text/html": [
       "<div>\n",
       "<style scoped>\n",
       "    .dataframe tbody tr th:only-of-type {\n",
       "        vertical-align: middle;\n",
       "    }\n",
       "\n",
       "    .dataframe tbody tr th {\n",
       "        vertical-align: top;\n",
       "    }\n",
       "\n",
       "    .dataframe thead th {\n",
       "        text-align: right;\n",
       "    }\n",
       "</style>\n",
       "<table border=\"1\" class=\"dataframe\">\n",
       "  <thead>\n",
       "    <tr style=\"text-align: right;\">\n",
       "      <th></th>\n",
       "      <th>Date</th>\n",
       "      <th>Turbine_ID</th>\n",
       "      <th>TTF</th>\n",
       "      <th>y_test</th>\n",
       "      <th>y_pred</th>\n",
       "      <th>TP</th>\n",
       "      <th>TN</th>\n",
       "      <th>FP</th>\n",
       "      <th>FN</th>\n",
       "      <th>new_FP</th>\n",
       "    </tr>\n",
       "  </thead>\n",
       "  <tbody>\n",
       "    <tr>\n",
       "      <th>43</th>\n",
       "      <td>2017-07-14</td>\n",
       "      <td>T01</td>\n",
       "      <td>0.0</td>\n",
       "      <td>0</td>\n",
       "      <td>1</td>\n",
       "      <td>0</td>\n",
       "      <td>0</td>\n",
       "      <td>1</td>\n",
       "      <td>0</td>\n",
       "      <td>1.0</td>\n",
       "    </tr>\n",
       "    <tr>\n",
       "      <th>293</th>\n",
       "      <td>2017-06-15</td>\n",
       "      <td>T09</td>\n",
       "      <td>0.0</td>\n",
       "      <td>0</td>\n",
       "      <td>1</td>\n",
       "      <td>0</td>\n",
       "      <td>0</td>\n",
       "      <td>1</td>\n",
       "      <td>0</td>\n",
       "      <td>1.0</td>\n",
       "    </tr>\n",
       "    <tr>\n",
       "      <th>322</th>\n",
       "      <td>2017-07-14</td>\n",
       "      <td>T09</td>\n",
       "      <td>0.0</td>\n",
       "      <td>0</td>\n",
       "      <td>1</td>\n",
       "      <td>0</td>\n",
       "      <td>0</td>\n",
       "      <td>1</td>\n",
       "      <td>0</td>\n",
       "      <td>1.0</td>\n",
       "    </tr>\n",
       "    <tr>\n",
       "      <th>360</th>\n",
       "      <td>2017-08-21</td>\n",
       "      <td>T09</td>\n",
       "      <td>0.0</td>\n",
       "      <td>0</td>\n",
       "      <td>1</td>\n",
       "      <td>0</td>\n",
       "      <td>0</td>\n",
       "      <td>1</td>\n",
       "      <td>0</td>\n",
       "      <td>1.0</td>\n",
       "    </tr>\n",
       "    <tr>\n",
       "      <th>399</th>\n",
       "      <td>2017-06-28</td>\n",
       "      <td>T11</td>\n",
       "      <td>0.0</td>\n",
       "      <td>0</td>\n",
       "      <td>1</td>\n",
       "      <td>0</td>\n",
       "      <td>0</td>\n",
       "      <td>1</td>\n",
       "      <td>0</td>\n",
       "      <td>1.0</td>\n",
       "    </tr>\n",
       "    <tr>\n",
       "      <th>426</th>\n",
       "      <td>2017-07-25</td>\n",
       "      <td>T11</td>\n",
       "      <td>0.0</td>\n",
       "      <td>0</td>\n",
       "      <td>1</td>\n",
       "      <td>0</td>\n",
       "      <td>0</td>\n",
       "      <td>1</td>\n",
       "      <td>0</td>\n",
       "      <td>1.0</td>\n",
       "    </tr>\n",
       "  </tbody>\n",
       "</table>\n",
       "</div>"
      ],
      "text/plain": [
       "          Date Turbine_ID  TTF  y_test  y_pred  TP  TN  FP  FN  new_FP\n",
       "43  2017-07-14        T01  0.0       0       1   0   0   1   0     1.0\n",
       "293 2017-06-15        T09  0.0       0       1   0   0   1   0     1.0\n",
       "322 2017-07-14        T09  0.0       0       1   0   0   1   0     1.0\n",
       "360 2017-08-21        T09  0.0       0       1   0   0   1   0     1.0\n",
       "399 2017-06-28        T11  0.0       0       1   0   0   1   0     1.0\n",
       "426 2017-07-25        T11  0.0       0       1   0   0   1   0     1.0"
      ]
     },
     "execution_count": 198,
     "metadata": {},
     "output_type": "execute_result"
    }
   ],
   "source": [
    "met_df[met_df.FP==1][met_df[met_df.FP==1].new_FP==1]"
   ]
  },
  {
   "cell_type": "code",
   "execution_count": null,
   "metadata": {},
   "outputs": [],
   "source": []
  },
  {
   "cell_type": "code",
   "execution_count": null,
   "metadata": {},
   "outputs": [],
   "source": []
  }
 ],
 "metadata": {
  "kernelspec": {
   "display_name": "Python 3",
   "language": "python",
   "name": "python3"
  },
  "language_info": {
   "codemirror_mode": {
    "name": "ipython",
    "version": 3
   },
   "file_extension": ".py",
   "mimetype": "text/x-python",
   "name": "python",
   "nbconvert_exporter": "python",
   "pygments_lexer": "ipython3",
   "version": "3.7.7"
  },
  "toc": {
   "base_numbering": "",
   "nav_menu": {},
   "number_sections": true,
   "sideBar": true,
   "skip_h1_title": true,
   "title_cell": "Table of Contents",
   "title_sidebar": "Contents",
   "toc_cell": true,
   "toc_position": {},
   "toc_section_display": false,
   "toc_window_display": false
  }
 },
 "nbformat": 4,
 "nbformat_minor": 4
}
