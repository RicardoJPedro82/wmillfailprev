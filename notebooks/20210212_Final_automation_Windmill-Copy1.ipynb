{
 "cells": [
  {
   "cell_type": "markdown",
   "metadata": {
    "toc": true
   },
   "source": [
    "<h1>Table of Contents<span class=\"tocSkip\"></span></h1>\n",
    "<div class=\"toc\"><ul class=\"toc-item\"></ul></div>"
   ]
  },
  {
   "cell_type": "markdown",
   "metadata": {},
   "source": [
    "# Importar os módulos"
   ]
  },
  {
   "cell_type": "code",
   "execution_count": 1,
   "metadata": {
    "ExecuteTime": {
     "end_time": "2021-02-17T22:29:19.568663Z",
     "start_time": "2021-02-17T22:29:17.979986Z"
    }
   },
   "outputs": [],
   "source": [
    "%load_ext autoreload\n",
    "%autoreload 2\n",
    "import os\n",
    "import pandas as pd\n",
    "import numpy as np\n",
    "import datetime\n",
    "import seaborn as sns\n",
    "import matplotlib.pyplot as plt\n",
    "import Dataset_transf as dprep\n",
    "from sklearn.preprocessing import OneHotEncoder\n",
    "from sklearn.preprocessing import StandardScaler\n",
    "from sklearn import metrics, model_selection\n",
    "from sklearn.linear_model import LogisticRegression\n",
    "from sklearn.ensemble import RandomForestClassifier\n",
    "from sklearn.svm import SVC, LinearSVC\n",
    "from sklearn.tree import DecisionTreeClassifier, export_graphviz\n",
    "from sklearn.neighbors import KNeighborsClassifier\n",
    "from sklearn.naive_bayes import GaussianNB\n",
    "from sklearn.metrics import roc_auc_score, accuracy_score, log_loss, roc_curve, precision_score, recall_score, confusion_matrix, f1_score, fbeta_score, make_scorer\n",
    "from sklearn.preprocessing import MinMaxScaler\n",
    "from sklearn.ensemble import GradientBoostingClassifier\n",
    "from sklearn.svm import SVC, LinearSVC\n",
    "from sklearn.tree import DecisionTreeClassifier\n",
    "from sklearn.neighbors import KNeighborsClassifier\n",
    "from sklearn.ensemble import BaggingClassifier\n",
    "from sklearn.ensemble import AdaBoostClassifier\n",
    "from sklearn.ensemble import ExtraTreesClassifier\n",
    "from sklearn import model_selection\n",
    "from trainer import Trainer"
   ]
  },
  {
   "cell_type": "markdown",
   "metadata": {},
   "source": [
    "# Obter os dataframes dos ficheiros"
   ]
  },
  {
   "cell_type": "code",
   "execution_count": 2,
   "metadata": {
    "ExecuteTime": {
     "end_time": "2021-02-17T22:29:19.609783Z",
     "start_time": "2021-02-17T22:29:19.571919Z"
    }
   },
   "outputs": [],
   "source": [
    "metrics_dict={}\n",
    "tentativa = 0\n",
    "nome_ficheiro = 'Resultados60diassemtresholdnodia16'"
   ]
  },
  {
   "cell_type": "code",
   "execution_count": 3,
   "metadata": {
    "ExecuteTime": {
     "end_time": "2021-02-17T22:29:50.515592Z",
     "start_time": "2021-02-17T22:29:19.618950Z"
    }
   },
   "outputs": [],
   "source": [
    "failures_df, signals_df, logs_df = dprep.get_data()"
   ]
  },
  {
   "cell_type": "code",
   "execution_count": 4,
   "metadata": {
    "ExecuteTime": {
     "end_time": "2021-02-17T22:29:50.582740Z",
     "start_time": "2021-02-17T22:29:50.522111Z"
    }
   },
   "outputs": [
    {
     "data": {
      "text/html": [
       "<div>\n",
       "<style scoped>\n",
       "    .dataframe tbody tr th:only-of-type {\n",
       "        vertical-align: middle;\n",
       "    }\n",
       "\n",
       "    .dataframe tbody tr th {\n",
       "        vertical-align: top;\n",
       "    }\n",
       "\n",
       "    .dataframe thead th {\n",
       "        text-align: right;\n",
       "    }\n",
       "</style>\n",
       "<table border=\"1\" class=\"dataframe\">\n",
       "  <thead>\n",
       "    <tr style=\"text-align: right;\">\n",
       "      <th></th>\n",
       "      <th>Turbine_ID</th>\n",
       "      <th>Component</th>\n",
       "      <th>Timestamp</th>\n",
       "    </tr>\n",
       "  </thead>\n",
       "  <tbody>\n",
       "    <tr>\n",
       "      <th>18</th>\n",
       "      <td>T07</td>\n",
       "      <td>HYDRAULIC_GROUP</td>\n",
       "      <td>2017-06-17 11:30:00</td>\n",
       "    </tr>\n",
       "    <tr>\n",
       "      <th>19</th>\n",
       "      <td>T01</td>\n",
       "      <td>TRANSFORMER</td>\n",
       "      <td>2017-08-11 13:10:00</td>\n",
       "    </tr>\n",
       "    <tr>\n",
       "      <th>20</th>\n",
       "      <td>T06</td>\n",
       "      <td>HYDRAULIC_GROUP</td>\n",
       "      <td>2017-08-19 09:40:00</td>\n",
       "    </tr>\n",
       "    <tr>\n",
       "      <th>21</th>\n",
       "      <td>T07</td>\n",
       "      <td>GENERATOR_BEARING</td>\n",
       "      <td>2017-08-20 06:00:00</td>\n",
       "    </tr>\n",
       "    <tr>\n",
       "      <th>22</th>\n",
       "      <td>T07</td>\n",
       "      <td>GENERATOR</td>\n",
       "      <td>2017-08-21 14:40:00</td>\n",
       "    </tr>\n",
       "  </tbody>\n",
       "</table>\n",
       "</div>"
      ],
      "text/plain": [
       "   Turbine_ID          Component           Timestamp\n",
       "18        T07    HYDRAULIC_GROUP 2017-06-17 11:30:00\n",
       "19        T01        TRANSFORMER 2017-08-11 13:10:00\n",
       "20        T06    HYDRAULIC_GROUP 2017-08-19 09:40:00\n",
       "21        T07  GENERATOR_BEARING 2017-08-20 06:00:00\n",
       "22        T07          GENERATOR 2017-08-21 14:40:00"
      ]
     },
     "execution_count": 4,
     "metadata": {},
     "output_type": "execute_result"
    }
   ],
   "source": [
    "failures_df[failures_df.Timestamp >= '2017-06-01']"
   ]
  },
  {
   "cell_type": "code",
   "execution_count": 5,
   "metadata": {
    "ExecuteTime": {
     "end_time": "2021-02-17T22:29:50.635185Z",
     "start_time": "2021-02-17T22:29:50.588656Z"
    }
   },
   "outputs": [
    {
     "data": {
      "text/plain": [
       "GENERATOR            7\n",
       "GENERATOR_BEARING    6\n",
       "HYDRAULIC_GROUP      5\n",
       "TRANSFORMER          3\n",
       "GEARBOX              2\n",
       "Name: Component, dtype: int64"
      ]
     },
     "execution_count": 5,
     "metadata": {},
     "output_type": "execute_result"
    }
   ],
   "source": [
    "failures_df.Component.value_counts()"
   ]
  },
  {
   "cell_type": "code",
   "execution_count": 6,
   "metadata": {
    "ExecuteTime": {
     "end_time": "2021-02-17T22:29:50.686197Z",
     "start_time": "2021-02-17T22:29:50.644038Z"
    }
   },
   "outputs": [],
   "source": [
    "df_dict = {'failures_df':failures_df, 'signals_df':signals_df, 'logs_df':logs_df}"
   ]
  },
  {
   "cell_type": "code",
   "execution_count": 7,
   "metadata": {
    "ExecuteTime": {
     "end_time": "2021-02-17T22:29:50.737690Z",
     "start_time": "2021-02-17T22:29:50.691838Z"
    }
   },
   "outputs": [
    {
     "name": "stdout",
     "output_type": "stream",
     "text": [
      "failures_df (23, 3)\n",
      "signals_df (434145, 81)\n",
      "logs_df (256231, 3)\n"
     ]
    }
   ],
   "source": [
    "for key in df_dict:\n",
    "    print(key, df_dict[key].shape)"
   ]
  },
  {
   "cell_type": "markdown",
   "metadata": {},
   "source": [
    "# Criação de datasets de components"
   ]
  },
  {
   "cell_type": "code",
   "execution_count": 8,
   "metadata": {
    "ExecuteTime": {
     "end_time": "2021-02-17T22:29:51.129745Z",
     "start_time": "2021-02-17T22:29:50.751903Z"
    }
   },
   "outputs": [],
   "source": [
    "df_generator, df_gen_bear, df_transformer, df_hydraulic, df_gearbox = dprep.component_df_creation(signals_df)"
   ]
  },
  {
   "cell_type": "code",
   "execution_count": 9,
   "metadata": {
    "ExecuteTime": {
     "end_time": "2021-02-17T22:29:51.173440Z",
     "start_time": "2021-02-17T22:29:51.136825Z"
    }
   },
   "outputs": [],
   "source": [
    "comp_df_dict = {\n",
    "    'df_generator': df_generator,\n",
    "    'df_hydraulic': df_hydraulic,\n",
    "    'df_gen_bear': df_gen_bear,\n",
    "    'df_transformer': df_transformer,\n",
    "    'df_gearbox': df_gearbox\n",
    "}"
   ]
  },
  {
   "cell_type": "code",
   "execution_count": 10,
   "metadata": {
    "ExecuteTime": {
     "end_time": "2021-02-17T22:29:51.225540Z",
     "start_time": "2021-02-17T22:29:51.179291Z"
    }
   },
   "outputs": [
    {
     "name": "stdout",
     "output_type": "stream",
     "text": [
      "(434145, 45) df_generator\n",
      "(434145, 34) df_hydraulic\n",
      "(434145, 45) df_gen_bear\n",
      "(434145, 36) df_transformer\n",
      "(434145, 33) df_gearbox\n"
     ]
    }
   ],
   "source": [
    "for key in comp_df_dict:\n",
    "    print(comp_df_dict[key].shape, key, )"
   ]
  },
  {
   "cell_type": "code",
   "execution_count": 11,
   "metadata": {
    "ExecuteTime": {
     "end_time": "2021-02-17T22:29:51.275334Z",
     "start_time": "2021-02-17T22:29:51.233052Z"
    }
   },
   "outputs": [
    {
     "data": {
      "text/plain": [
       "array(['GENERATOR', 'HYDRAULIC_GROUP', 'GENERATOR_BEARING', 'TRANSFORMER',\n",
       "       'GEARBOX'], dtype=object)"
      ]
     },
     "execution_count": 11,
     "metadata": {},
     "output_type": "execute_result"
    }
   ],
   "source": [
    "component_list = failures_df.Component.unique()\n",
    "component_list"
   ]
  },
  {
   "cell_type": "markdown",
   "metadata": {},
   "source": [
    "# Cópia dos df para só carregar uma vez no ficheiro"
   ]
  },
  {
   "cell_type": "code",
   "execution_count": 12,
   "metadata": {
    "ExecuteTime": {
     "end_time": "2021-02-17T22:29:51.311868Z",
     "start_time": "2021-02-17T22:29:51.280576Z"
    }
   },
   "outputs": [],
   "source": [
    "comp_prep_df_dict = comp_df_dict.copy()"
   ]
  },
  {
   "cell_type": "code",
   "execution_count": 13,
   "metadata": {
    "ExecuteTime": {
     "end_time": "2021-02-17T22:29:51.369571Z",
     "start_time": "2021-02-17T22:29:51.316956Z"
    }
   },
   "outputs": [
    {
     "name": "stdout",
     "output_type": "stream",
     "text": [
      "0 df_generator\n",
      "1 df_hydraulic\n",
      "2 df_gen_bear\n",
      "3 df_transformer\n",
      "4 df_gearbox\n"
     ]
    }
   ],
   "source": [
    "for key, i in enumerate(comp_prep_df_dict):\n",
    "    print(key, i)"
   ]
  },
  {
   "cell_type": "markdown",
   "metadata": {},
   "source": [
    "# Merge dos DF com o DF de failures"
   ]
  },
  {
   "cell_type": "code",
   "execution_count": 14,
   "metadata": {
    "ExecuteTime": {
     "end_time": "2021-02-17T22:29:56.344299Z",
     "start_time": "2021-02-17T22:29:51.372828Z"
    }
   },
   "outputs": [],
   "source": [
    "for i, key in enumerate(comp_prep_df_dict):\n",
    "    comp_prep_df_dict[key] = dprep.sig_fail_merge_dfs(sig_df=comp_prep_df_dict[key],\n",
    "                                               fail_df=failures_df,\n",
    "                                               component=component_list[i])"
   ]
  },
  {
   "cell_type": "code",
   "execution_count": 15,
   "metadata": {
    "ExecuteTime": {
     "end_time": "2021-02-17T22:29:56.371531Z",
     "start_time": "2021-02-17T22:29:56.347749Z"
    }
   },
   "outputs": [
    {
     "name": "stdout",
     "output_type": "stream",
     "text": [
      "(434147, 46) df_generator\n",
      "(434145, 35) df_hydraulic\n",
      "(434145, 46) df_gen_bear\n",
      "(434145, 37) df_transformer\n",
      "(434145, 34) df_gearbox\n"
     ]
    }
   ],
   "source": [
    "for key in comp_prep_df_dict:\n",
    "    print(comp_prep_df_dict[key].shape, key)"
   ]
  },
  {
   "cell_type": "markdown",
   "metadata": {},
   "source": [
    "# Fillna by turbine"
   ]
  },
  {
   "cell_type": "code",
   "execution_count": 16,
   "metadata": {
    "ExecuteTime": {
     "end_time": "2021-02-17T22:29:56.411904Z",
     "start_time": "2021-02-17T22:29:56.373569Z"
    }
   },
   "outputs": [
    {
     "data": {
      "text/plain": [
       "array(['T11', 'T06', 'T01', 'T09', 'T07'], dtype=object)"
      ]
     },
     "execution_count": 16,
     "metadata": {},
     "output_type": "execute_result"
    }
   ],
   "source": [
    "turbine_list = signals_df.Turbine_ID.unique()\n",
    "turbine_list"
   ]
  },
  {
   "cell_type": "code",
   "execution_count": 17,
   "metadata": {
    "ExecuteTime": {
     "end_time": "2021-02-17T22:30:04.732244Z",
     "start_time": "2021-02-17T22:29:56.414444Z"
    }
   },
   "outputs": [
    {
     "name": "stderr",
     "output_type": "stream",
     "text": [
      "/home/guilherme/code/GGC17/project_windmills/wmillfailprev/notebooks/Dataset_transf.py:160: SettingWithCopyWarning: \n",
      "A value is trying to be set on a copy of a slice from a DataFrame.\n",
      "Try using .loc[row_indexer,col_indexer] = value instead\n",
      "\n",
      "See the caveats in the documentation: https://pandas.pydata.org/pandas-docs/stable/user_guide/indexing.html#returning-a-view-versus-a-copy\n",
      "  index['date'] = index['Timestamp']\n",
      "/home/guilherme/code/GGC17/project_windmills/wmillfailprev/notebooks/Dataset_transf.py:160: SettingWithCopyWarning: \n",
      "A value is trying to be set on a copy of a slice from a DataFrame.\n",
      "Try using .loc[row_indexer,col_indexer] = value instead\n",
      "\n",
      "See the caveats in the documentation: https://pandas.pydata.org/pandas-docs/stable/user_guide/indexing.html#returning-a-view-versus-a-copy\n",
      "  index['date'] = index['Timestamp']\n",
      "/home/guilherme/code/GGC17/project_windmills/wmillfailprev/notebooks/Dataset_transf.py:173: SettingWithCopyWarning: \n",
      "A value is trying to be set on a copy of a slice from a DataFrame.\n",
      "Try using .loc[row_indexer,col_indexer] = value instead\n",
      "\n",
      "See the caveats in the documentation: https://pandas.pydata.org/pandas-docs/stable/user_guide/indexing.html#returning-a-view-versus-a-copy\n",
      "  df_merged['date'] = df_merged['Timestamp']\n",
      "/home/guilherme/code/GGC17/project_windmills/wmillfailprev/notebooks/Dataset_transf.py:174: SettingWithCopyWarning: \n",
      "A value is trying to be set on a copy of a slice from a DataFrame.\n",
      "Try using .loc[row_indexer,col_indexer] = value instead\n",
      "\n",
      "See the caveats in the documentation: https://pandas.pydata.org/pandas-docs/stable/user_guide/indexing.html#returning-a-view-versus-a-copy\n",
      "  df_merged['TTF'] = 0 # df_merged['date'] - df_merged['Timestamp']\n",
      "/home/guilherme/code/GGC17/project_windmills/wmillfailprev/notebooks/Dataset_transf.py:160: SettingWithCopyWarning: \n",
      "A value is trying to be set on a copy of a slice from a DataFrame.\n",
      "Try using .loc[row_indexer,col_indexer] = value instead\n",
      "\n",
      "See the caveats in the documentation: https://pandas.pydata.org/pandas-docs/stable/user_guide/indexing.html#returning-a-view-versus-a-copy\n",
      "  index['date'] = index['Timestamp']\n",
      "/home/guilherme/code/GGC17/project_windmills/wmillfailprev/notebooks/Dataset_transf.py:160: SettingWithCopyWarning: \n",
      "A value is trying to be set on a copy of a slice from a DataFrame.\n",
      "Try using .loc[row_indexer,col_indexer] = value instead\n",
      "\n",
      "See the caveats in the documentation: https://pandas.pydata.org/pandas-docs/stable/user_guide/indexing.html#returning-a-view-versus-a-copy\n",
      "  index['date'] = index['Timestamp']\n",
      "/home/guilherme/code/GGC17/project_windmills/wmillfailprev/notebooks/Dataset_transf.py:160: SettingWithCopyWarning: \n",
      "A value is trying to be set on a copy of a slice from a DataFrame.\n",
      "Try using .loc[row_indexer,col_indexer] = value instead\n",
      "\n",
      "See the caveats in the documentation: https://pandas.pydata.org/pandas-docs/stable/user_guide/indexing.html#returning-a-view-versus-a-copy\n",
      "  index['date'] = index['Timestamp']\n",
      "/home/guilherme/code/GGC17/project_windmills/wmillfailprev/notebooks/Dataset_transf.py:173: SettingWithCopyWarning: \n",
      "A value is trying to be set on a copy of a slice from a DataFrame.\n",
      "Try using .loc[row_indexer,col_indexer] = value instead\n",
      "\n",
      "See the caveats in the documentation: https://pandas.pydata.org/pandas-docs/stable/user_guide/indexing.html#returning-a-view-versus-a-copy\n",
      "  df_merged['date'] = df_merged['Timestamp']\n",
      "/home/guilherme/code/GGC17/project_windmills/wmillfailprev/notebooks/Dataset_transf.py:174: SettingWithCopyWarning: \n",
      "A value is trying to be set on a copy of a slice from a DataFrame.\n",
      "Try using .loc[row_indexer,col_indexer] = value instead\n",
      "\n",
      "See the caveats in the documentation: https://pandas.pydata.org/pandas-docs/stable/user_guide/indexing.html#returning-a-view-versus-a-copy\n",
      "  df_merged['TTF'] = 0 # df_merged['date'] - df_merged['Timestamp']\n",
      "/home/guilherme/code/GGC17/project_windmills/wmillfailprev/notebooks/Dataset_transf.py:160: SettingWithCopyWarning: \n",
      "A value is trying to be set on a copy of a slice from a DataFrame.\n",
      "Try using .loc[row_indexer,col_indexer] = value instead\n",
      "\n",
      "See the caveats in the documentation: https://pandas.pydata.org/pandas-docs/stable/user_guide/indexing.html#returning-a-view-versus-a-copy\n",
      "  index['date'] = index['Timestamp']\n",
      "/home/guilherme/code/GGC17/project_windmills/wmillfailprev/notebooks/Dataset_transf.py:173: SettingWithCopyWarning: \n",
      "A value is trying to be set on a copy of a slice from a DataFrame.\n",
      "Try using .loc[row_indexer,col_indexer] = value instead\n",
      "\n",
      "See the caveats in the documentation: https://pandas.pydata.org/pandas-docs/stable/user_guide/indexing.html#returning-a-view-versus-a-copy\n",
      "  df_merged['date'] = df_merged['Timestamp']\n",
      "/home/guilherme/code/GGC17/project_windmills/wmillfailprev/notebooks/Dataset_transf.py:174: SettingWithCopyWarning: \n",
      "A value is trying to be set on a copy of a slice from a DataFrame.\n",
      "Try using .loc[row_indexer,col_indexer] = value instead\n",
      "\n",
      "See the caveats in the documentation: https://pandas.pydata.org/pandas-docs/stable/user_guide/indexing.html#returning-a-view-versus-a-copy\n",
      "  df_merged['TTF'] = 0 # df_merged['date'] - df_merged['Timestamp']\n",
      "/home/guilherme/code/GGC17/project_windmills/wmillfailprev/notebooks/Dataset_transf.py:160: SettingWithCopyWarning: \n",
      "A value is trying to be set on a copy of a slice from a DataFrame.\n",
      "Try using .loc[row_indexer,col_indexer] = value instead\n",
      "\n",
      "See the caveats in the documentation: https://pandas.pydata.org/pandas-docs/stable/user_guide/indexing.html#returning-a-view-versus-a-copy\n",
      "  index['date'] = index['Timestamp']\n",
      "/home/guilherme/code/GGC17/project_windmills/wmillfailprev/notebooks/Dataset_transf.py:160: SettingWithCopyWarning: \n",
      "A value is trying to be set on a copy of a slice from a DataFrame.\n",
      "Try using .loc[row_indexer,col_indexer] = value instead\n",
      "\n",
      "See the caveats in the documentation: https://pandas.pydata.org/pandas-docs/stable/user_guide/indexing.html#returning-a-view-versus-a-copy\n",
      "  index['date'] = index['Timestamp']\n",
      "/home/guilherme/code/GGC17/project_windmills/wmillfailprev/notebooks/Dataset_transf.py:173: SettingWithCopyWarning: \n",
      "A value is trying to be set on a copy of a slice from a DataFrame.\n",
      "Try using .loc[row_indexer,col_indexer] = value instead\n",
      "\n",
      "See the caveats in the documentation: https://pandas.pydata.org/pandas-docs/stable/user_guide/indexing.html#returning-a-view-versus-a-copy\n",
      "  df_merged['date'] = df_merged['Timestamp']\n",
      "/home/guilherme/code/GGC17/project_windmills/wmillfailprev/notebooks/Dataset_transf.py:174: SettingWithCopyWarning: \n",
      "A value is trying to be set on a copy of a slice from a DataFrame.\n",
      "Try using .loc[row_indexer,col_indexer] = value instead\n",
      "\n",
      "See the caveats in the documentation: https://pandas.pydata.org/pandas-docs/stable/user_guide/indexing.html#returning-a-view-versus-a-copy\n",
      "  df_merged['TTF'] = 0 # df_merged['date'] - df_merged['Timestamp']\n",
      "/home/guilherme/code/GGC17/project_windmills/wmillfailprev/notebooks/Dataset_transf.py:160: SettingWithCopyWarning: \n",
      "A value is trying to be set on a copy of a slice from a DataFrame.\n",
      "Try using .loc[row_indexer,col_indexer] = value instead\n",
      "\n",
      "See the caveats in the documentation: https://pandas.pydata.org/pandas-docs/stable/user_guide/indexing.html#returning-a-view-versus-a-copy\n",
      "  index['date'] = index['Timestamp']\n",
      "/home/guilherme/code/GGC17/project_windmills/wmillfailprev/notebooks/Dataset_transf.py:173: SettingWithCopyWarning: \n",
      "A value is trying to be set on a copy of a slice from a DataFrame.\n",
      "Try using .loc[row_indexer,col_indexer] = value instead\n",
      "\n",
      "See the caveats in the documentation: https://pandas.pydata.org/pandas-docs/stable/user_guide/indexing.html#returning-a-view-versus-a-copy\n",
      "  df_merged['date'] = df_merged['Timestamp']\n",
      "/home/guilherme/code/GGC17/project_windmills/wmillfailprev/notebooks/Dataset_transf.py:174: SettingWithCopyWarning: \n",
      "A value is trying to be set on a copy of a slice from a DataFrame.\n",
      "Try using .loc[row_indexer,col_indexer] = value instead\n",
      "\n",
      "See the caveats in the documentation: https://pandas.pydata.org/pandas-docs/stable/user_guide/indexing.html#returning-a-view-versus-a-copy\n",
      "  df_merged['TTF'] = 0 # df_merged['date'] - df_merged['Timestamp']\n",
      "/home/guilherme/code/GGC17/project_windmills/wmillfailprev/notebooks/Dataset_transf.py:160: SettingWithCopyWarning: \n",
      "A value is trying to be set on a copy of a slice from a DataFrame.\n",
      "Try using .loc[row_indexer,col_indexer] = value instead\n",
      "\n",
      "See the caveats in the documentation: https://pandas.pydata.org/pandas-docs/stable/user_guide/indexing.html#returning-a-view-versus-a-copy\n",
      "  index['date'] = index['Timestamp']\n"
     ]
    },
    {
     "name": "stderr",
     "output_type": "stream",
     "text": [
      "/home/guilherme/code/GGC17/project_windmills/wmillfailprev/notebooks/Dataset_transf.py:173: SettingWithCopyWarning: \n",
      "A value is trying to be set on a copy of a slice from a DataFrame.\n",
      "Try using .loc[row_indexer,col_indexer] = value instead\n",
      "\n",
      "See the caveats in the documentation: https://pandas.pydata.org/pandas-docs/stable/user_guide/indexing.html#returning-a-view-versus-a-copy\n",
      "  df_merged['date'] = df_merged['Timestamp']\n",
      "/home/guilherme/code/GGC17/project_windmills/wmillfailprev/notebooks/Dataset_transf.py:174: SettingWithCopyWarning: \n",
      "A value is trying to be set on a copy of a slice from a DataFrame.\n",
      "Try using .loc[row_indexer,col_indexer] = value instead\n",
      "\n",
      "See the caveats in the documentation: https://pandas.pydata.org/pandas-docs/stable/user_guide/indexing.html#returning-a-view-versus-a-copy\n",
      "  df_merged['TTF'] = 0 # df_merged['date'] - df_merged['Timestamp']\n",
      "/home/guilherme/code/GGC17/project_windmills/wmillfailprev/notebooks/Dataset_transf.py:160: SettingWithCopyWarning: \n",
      "A value is trying to be set on a copy of a slice from a DataFrame.\n",
      "Try using .loc[row_indexer,col_indexer] = value instead\n",
      "\n",
      "See the caveats in the documentation: https://pandas.pydata.org/pandas-docs/stable/user_guide/indexing.html#returning-a-view-versus-a-copy\n",
      "  index['date'] = index['Timestamp']\n",
      "/home/guilherme/code/GGC17/project_windmills/wmillfailprev/notebooks/Dataset_transf.py:160: SettingWithCopyWarning: \n",
      "A value is trying to be set on a copy of a slice from a DataFrame.\n",
      "Try using .loc[row_indexer,col_indexer] = value instead\n",
      "\n",
      "See the caveats in the documentation: https://pandas.pydata.org/pandas-docs/stable/user_guide/indexing.html#returning-a-view-versus-a-copy\n",
      "  index['date'] = index['Timestamp']\n",
      "/home/guilherme/code/GGC17/project_windmills/wmillfailprev/notebooks/Dataset_transf.py:173: SettingWithCopyWarning: \n",
      "A value is trying to be set on a copy of a slice from a DataFrame.\n",
      "Try using .loc[row_indexer,col_indexer] = value instead\n",
      "\n",
      "See the caveats in the documentation: https://pandas.pydata.org/pandas-docs/stable/user_guide/indexing.html#returning-a-view-versus-a-copy\n",
      "  df_merged['date'] = df_merged['Timestamp']\n",
      "/home/guilherme/code/GGC17/project_windmills/wmillfailprev/notebooks/Dataset_transf.py:174: SettingWithCopyWarning: \n",
      "A value is trying to be set on a copy of a slice from a DataFrame.\n",
      "Try using .loc[row_indexer,col_indexer] = value instead\n",
      "\n",
      "See the caveats in the documentation: https://pandas.pydata.org/pandas-docs/stable/user_guide/indexing.html#returning-a-view-versus-a-copy\n",
      "  df_merged['TTF'] = 0 # df_merged['date'] - df_merged['Timestamp']\n"
     ]
    }
   ],
   "source": [
    "for i, key in enumerate(comp_prep_df_dict):\n",
    "    comp_prep_df_dict[key] = dprep.fill_na_by_turbine(comp_prep_df_dict[key],\n",
    "                                                      turbine_list)"
   ]
  },
  {
   "cell_type": "code",
   "execution_count": 18,
   "metadata": {
    "ExecuteTime": {
     "end_time": "2021-02-17T22:30:04.796306Z",
     "start_time": "2021-02-17T22:30:04.736914Z"
    }
   },
   "outputs": [
    {
     "name": "stdout",
     "output_type": "stream",
     "text": [
      "(434147, 47) df_generator\n",
      "(434145, 36) df_hydraulic\n",
      "(434145, 47) df_gen_bear\n",
      "(434145, 38) df_transformer\n",
      "(434145, 35) df_gearbox\n"
     ]
    }
   ],
   "source": [
    "for key in comp_prep_df_dict:\n",
    "    print(comp_prep_df_dict[key].shape, key)"
   ]
  },
  {
   "cell_type": "markdown",
   "metadata": {},
   "source": [
    "# Criação de Variável alvo"
   ]
  },
  {
   "cell_type": "code",
   "execution_count": 19,
   "metadata": {
    "ExecuteTime": {
     "end_time": "2021-02-17T22:30:06.347952Z",
     "start_time": "2021-02-17T22:30:04.806569Z"
    }
   },
   "outputs": [
    {
     "name": "stdout",
     "output_type": "stream",
     "text": [
      "0    47\n",
      "dtype: int64 df_generator\n",
      "0    36\n",
      "dtype: int64 df_hydraulic\n",
      "0    47\n",
      "dtype: int64 df_gen_bear\n",
      "0    38\n",
      "dtype: int64 df_transformer\n",
      "0    35\n",
      "dtype: int64 df_gearbox\n"
     ]
    }
   ],
   "source": [
    "for key in comp_prep_df_dict:\n",
    "    print(comp_prep_df_dict[key].isna().sum().value_counts(), key)"
   ]
  },
  {
   "cell_type": "code",
   "execution_count": 20,
   "metadata": {
    "ExecuteTime": {
     "end_time": "2021-02-17T22:30:06.395639Z",
     "start_time": "2021-02-17T22:30:06.355916Z"
    }
   },
   "outputs": [],
   "source": [
    "days_list = [60]"
   ]
  },
  {
   "cell_type": "code",
   "execution_count": 21,
   "metadata": {
    "ExecuteTime": {
     "end_time": "2021-02-17T22:30:36.996913Z",
     "start_time": "2021-02-17T22:30:06.400461Z"
    }
   },
   "outputs": [],
   "source": [
    "for day in days_list:\n",
    "    for key in comp_prep_df_dict:\n",
    "        comp_prep_df_dict[key] = dprep.aplic_var_target(comp_prep_df_dict[key], day)"
   ]
  },
  {
   "cell_type": "code",
   "execution_count": 22,
   "metadata": {
    "ExecuteTime": {
     "end_time": "2021-02-17T22:30:37.040770Z",
     "start_time": "2021-02-17T22:30:37.001837Z"
    }
   },
   "outputs": [
    {
     "name": "stdout",
     "output_type": "stream",
     "text": [
      "(434147, 48) df_generator\n",
      "(434145, 37) df_hydraulic\n",
      "(434145, 48) df_gen_bear\n",
      "(434145, 39) df_transformer\n",
      "(434145, 36) df_gearbox\n"
     ]
    }
   ],
   "source": [
    "for key in comp_prep_df_dict:\n",
    "    print(comp_prep_df_dict[key].shape, key)"
   ]
  },
  {
   "cell_type": "markdown",
   "metadata": {},
   "source": [
    "# Feature selection"
   ]
  },
  {
   "cell_type": "code",
   "execution_count": 23,
   "metadata": {
    "ExecuteTime": {
     "end_time": "2021-02-17T22:30:37.099547Z",
     "start_time": "2021-02-17T22:30:37.056481Z"
    }
   },
   "outputs": [],
   "source": [
    "gen_features_drop = [\n",
    "    'Gen_RPM_Max', 'Gen_RPM_Min', 'Gen_Phase1_Temp_Avg', 'Gen_Phase3_Temp_Avg',\n",
    "    'Amb_WindSpeed_Est_Avg', 'Grd_RtrInvPhase1_Temp_Avg',\n",
    "    'Grd_RtrInvPhase3_Temp_Avg', 'Rtr_RPM_Max', 'Rtr_RPM_Min',\n",
    "    'Blds_PitchAngle_Max', 'Blds_PitchAngle_Min',\n",
    "    'Prod_LatestAvg_ReactPwrGen1', 'Cont_Hub_Temp_Avg', 'Spin_Temp_Avg',\n",
    "    'Rtr_RPM_Std', 'Rtr_RPM_Avg', 'Cont_VCP_Temp_Avg'\n",
    "]"
   ]
  },
  {
   "cell_type": "code",
   "execution_count": 24,
   "metadata": {
    "ExecuteTime": {
     "end_time": "2021-02-17T22:30:37.151166Z",
     "start_time": "2021-02-17T22:30:37.105244Z"
    }
   },
   "outputs": [],
   "source": [
    "gen_bear_features_drop = [\n",
    "    'Gen_RPM_Max', 'Gen_RPM_Min', 'Gen_Phase1_Temp_Avg', 'Gen_Phase3_Temp_Avg',\n",
    "    'Amb_WindSpeed_Est_Avg', 'Grd_RtrInvPhase1_Temp_Avg',\n",
    "    'Grd_RtrInvPhase3_Temp_Avg', 'Rtr_RPM_Max', 'Rtr_RPM_Min',\n",
    "    'Blds_PitchAngle_Max', 'Blds_PitchAngle_Min',\n",
    "    'Prod_LatestAvg_ReactPwrGen1', 'Cont_Hub_Temp_Avg', 'Spin_Temp_Avg',\n",
    "    'Rtr_RPM_Std', 'Rtr_RPM_Avg', 'Cont_VCP_Temp_Avg'\n",
    "]"
   ]
  },
  {
   "cell_type": "code",
   "execution_count": 25,
   "metadata": {
    "ExecuteTime": {
     "end_time": "2021-02-17T22:30:37.196043Z",
     "start_time": "2021-02-17T22:30:37.156365Z"
    }
   },
   "outputs": [],
   "source": [
    "hyd_features_drop = [\n",
    "    'Rtr_RPM_Max', 'Rtr_RPM_Min', 'Blds_PitchAngle_Max', 'Blds_PitchAngle_Min',\n",
    "    'Blds_PitchAngle_Max', 'Grd_RtrInvPhase3_Temp_Avg', 'Grd_Busbar_Temp_Avg',\n",
    "    'Amb_WindSpeed_Est_Avg', 'Spin_Temp_Avg', 'Cont_Hub_Temp_Avg',\n",
    "    'Grd_RtrInvPhase1_Temp_Avg', 'Cont_VCP_Temp_Avg'\n",
    "]"
   ]
  },
  {
   "cell_type": "code",
   "execution_count": 26,
   "metadata": {
    "ExecuteTime": {
     "end_time": "2021-02-17T22:30:37.246438Z",
     "start_time": "2021-02-17T22:30:37.204901Z"
    }
   },
   "outputs": [],
   "source": [
    "gearbox_features_drop = [\n",
    "    'Rtr_RPM_Max', 'Rtr_RPM_Min', 'Grd_RtrInvPhase1_Temp_Avg',\n",
    "    'Grd_RtrInvPhase3_Temp_Avg', 'Blds_PitchAngle_Min', 'Blds_PitchAngle_Max',\n",
    "    'Cont_VCP_Temp_Avg', 'Grd_Busbar_Temp_Avg', 'Amb_WindSpeed_Est_Avg',\n",
    "    'Spin_Temp_Avg'\n",
    "]"
   ]
  },
  {
   "cell_type": "code",
   "execution_count": 27,
   "metadata": {
    "ExecuteTime": {
     "end_time": "2021-02-17T22:30:37.299981Z",
     "start_time": "2021-02-17T22:30:37.252832Z"
    }
   },
   "outputs": [],
   "source": [
    "transf_features_drop = [\n",
    "    'HVTrafo_Phase1_Temp_Avg', 'HVTrafo_Phase3_Temp_Avg', 'Rtr_RPM_Max',\n",
    "    'Rtr_RPM_Min', 'Grd_RtrInvPhase1_Temp_Avg', 'Grd_RtrInvPhase3_Temp_Avg',\n",
    "    'Blds_PitchAngle_Min', 'Blds_PitchAngle_Max', 'Amb_WindSpeed_Est_Avg',\n",
    "    'Spin_Temp_Avg', 'Cont_VCP_Temp_Avg'\n",
    "]"
   ]
  },
  {
   "cell_type": "code",
   "execution_count": 28,
   "metadata": {
    "ExecuteTime": {
     "end_time": "2021-02-17T22:30:37.347217Z",
     "start_time": "2021-02-17T22:30:37.307602Z"
    }
   },
   "outputs": [],
   "source": [
    "feat_drop_list = [\n",
    "    gen_features_drop, hyd_features_drop, gen_bear_features_drop,\n",
    "    transf_features_drop, gearbox_features_drop\n",
    "]"
   ]
  },
  {
   "cell_type": "code",
   "execution_count": 29,
   "metadata": {
    "ExecuteTime": {
     "end_time": "2021-02-17T22:30:37.797557Z",
     "start_time": "2021-02-17T22:30:37.352634Z"
    },
    "scrolled": true
   },
   "outputs": [
    {
     "name": "stdout",
     "output_type": "stream",
     "text": [
      "A actualizar dataframe 1 de 5\n",
      "A actualizar dataframe 2 de 5\n",
      "A actualizar dataframe 3 de 5\n",
      "A actualizar dataframe 4 de 5\n",
      "A actualizar dataframe 5 de 5\n"
     ]
    }
   ],
   "source": [
    "for i, key in enumerate(comp_prep_df_dict):\n",
    "    print(f'A actualizar dataframe {i+1} de {len(comp_prep_df_dict)}')\n",
    "#     for col in feat_drop_list:\n",
    "#         print(f'A apagar a coluna {col}')\n",
    "    comp_prep_df_dict[key] = comp_prep_df_dict[key].drop(columns=feat_drop_list[i])"
   ]
  },
  {
   "cell_type": "code",
   "execution_count": 30,
   "metadata": {
    "ExecuteTime": {
     "end_time": "2021-02-17T22:30:37.847778Z",
     "start_time": "2021-02-17T22:30:37.803290Z"
    }
   },
   "outputs": [
    {
     "name": "stdout",
     "output_type": "stream",
     "text": [
      "(434147, 31) df_generator\n",
      "(434145, 26) df_hydraulic\n",
      "(434145, 31) df_gen_bear\n",
      "(434145, 28) df_transformer\n",
      "(434145, 26) df_gearbox\n"
     ]
    }
   ],
   "source": [
    "for key in comp_prep_df_dict:\n",
    "    print(comp_prep_df_dict[key].shape, key)"
   ]
  },
  {
   "cell_type": "markdown",
   "metadata": {},
   "source": [
    "# Agrupar pela medida de tempo seleccionada."
   ]
  },
  {
   "cell_type": "code",
   "execution_count": 31,
   "metadata": {
    "ExecuteTime": {
     "end_time": "2021-02-17T22:30:39.435885Z",
     "start_time": "2021-02-17T22:30:37.852990Z"
    }
   },
   "outputs": [],
   "source": [
    "# Passagem para dias\n",
    "Agrup_por = 'Dia'\n",
    "for key in comp_prep_df_dict:\n",
    "    comp_prep_df_dict[key] = dprep.group_por_frequency(comp_prep_df_dict[key], period=Agrup_por)"
   ]
  },
  {
   "cell_type": "code",
   "execution_count": 32,
   "metadata": {
    "ExecuteTime": {
     "end_time": "2021-02-17T22:30:39.472013Z",
     "start_time": "2021-02-17T22:30:39.439463Z"
    }
   },
   "outputs": [
    {
     "name": "stdout",
     "output_type": "stream",
     "text": [
      "(3042, 31) df_generator\n",
      "(3041, 19) df_hydraulic\n",
      "(3041, 18) df_gen_bear\n",
      "(3041, 19) df_transformer\n",
      "(3041, 16) df_gearbox\n"
     ]
    }
   ],
   "source": [
    "# Passagem para dias \n",
    "for key in comp_prep_df_dict:\n",
    "    print(comp_prep_df_dict[key].shape, key)"
   ]
  },
  {
   "cell_type": "markdown",
   "metadata": {},
   "source": [
    "# Adicionar as medidas de alisamento"
   ]
  },
  {
   "cell_type": "code",
   "execution_count": 33,
   "metadata": {
    "ExecuteTime": {
     "end_time": "2021-02-17T22:30:39.986636Z",
     "start_time": "2021-02-17T22:30:39.477423Z"
    }
   },
   "outputs": [],
   "source": [
    "for key in comp_prep_df_dict:\n",
    "    comp_prep_df_dict[key] = dprep.add_features(comp_prep_df_dict[key], rolling_win_size=10)"
   ]
  },
  {
   "cell_type": "code",
   "execution_count": 34,
   "metadata": {
    "ExecuteTime": {
     "end_time": "2021-02-17T22:30:40.023249Z",
     "start_time": "2021-02-17T22:30:39.992038Z"
    }
   },
   "outputs": [
    {
     "name": "stdout",
     "output_type": "stream",
     "text": [
      "(3042, 85) df_generator\n",
      "(3041, 49) df_hydraulic\n",
      "(3041, 46) df_gen_bear\n",
      "(3041, 49) df_transformer\n",
      "(3041, 40) df_gearbox\n"
     ]
    }
   ],
   "source": [
    "for key in comp_prep_df_dict:\n",
    "    print(comp_prep_df_dict[key].shape, key)"
   ]
  },
  {
   "cell_type": "code",
   "execution_count": 35,
   "metadata": {
    "ExecuteTime": {
     "end_time": "2021-02-17T22:30:40.061188Z",
     "start_time": "2021-02-17T22:30:40.029506Z"
    }
   },
   "outputs": [],
   "source": [
    "# # Para considerar apenas as rubricas de alisamento\n",
    "# cols_to_drop_generator = [\n",
    "#     'Amb_Temp_Avg', 'Amb_WindDir_Abs_Avg', 'Amb_WindDir_Relative_Avg',\n",
    "#     'Amb_WindSpeed_Avg', 'Amb_WindSpeed_Max', 'Amb_WindSpeed_Min',\n",
    "#     'Amb_WindSpeed_Std', 'Blds_PitchAngle_Avg', 'Blds_PitchAngle_Std',\n",
    "#     'Cont_Top_Temp_Avg', 'Cont_VCP_ChokcoilTemp_Avg',\n",
    "#     'Cont_VCP_WtrTemp_Avg', 'Gen_Bear2_Temp_Avg', 'Gen_Bear_Temp_Avg',\n",
    "#     'Gen_Phase2_Temp_Avg', 'Gen_RPM_Avg', 'Gen_RPM_Std',\n",
    "#     'Gen_SlipRing_Temp_Avg', 'Grd_Busbar_Temp_Avg',\n",
    "#     'Grd_RtrInvPhase2_Temp_Avg', 'Hyd_Oil_Temp_Avg', 'Nac_Direction_Avg',\n",
    "#     'Nac_Temp_Avg', 'Prod_LatestAvg_ActPwrGen0', 'Prod_LatestAvg_ActPwrGen1',\n",
    "#     'Prod_LatestAvg_ReactPwrGen0'\n",
    "# ]"
   ]
  },
  {
   "cell_type": "code",
   "execution_count": 36,
   "metadata": {
    "ExecuteTime": {
     "end_time": "2021-02-17T22:30:40.092677Z",
     "start_time": "2021-02-17T22:30:40.068511Z"
    }
   },
   "outputs": [],
   "source": [
    "# # Para considerar apenas as rubricas de alisamento\n",
    "# cols_to_drop_hyd_group = [\n",
    "#     'Amb_WindDir_Abs_Avg', 'Amb_WindDir_Relative_Avg',\n",
    "#     'Amb_WindSpeed_Avg', 'Amb_WindSpeed_Max', 'Amb_WindSpeed_Min',\n",
    "#     'Amb_WindSpeed_Std', 'Blds_PitchAngle_Avg', 'Blds_PitchAngle_Std',\n",
    "#     'Nac_Direction_Avg', 'Rtr_RPM_Avg', 'Rtr_RPM_Std'\n",
    "# ]"
   ]
  },
  {
   "cell_type": "code",
   "execution_count": 37,
   "metadata": {
    "ExecuteTime": {
     "end_time": "2021-02-17T22:30:40.148039Z",
     "start_time": "2021-02-17T22:30:40.098708Z"
    }
   },
   "outputs": [],
   "source": [
    "# # Para considerar apenas as rubricas de alisamento\n",
    "# cols_to_drop_gen_bear =  ['Amb_WindDir_Abs_Avg', 'Amb_WindDir_Relative_Avg',\n",
    "#        'Amb_WindSpeed_Avg', 'Amb_WindSpeed_Max', 'Amb_WindSpeed_Min',\n",
    "#        'Amb_WindSpeed_Std', 'Blds_PitchAngle_Avg', 'Blds_PitchAngle_Std',\n",
    "#        'Gen_Bear_Temp_Avg', 'Gen_RPM_Avg', 'Gen_RPM_Std',\n",
    "#        'Nac_Direction_Avg', 'Prod_LatestAvg_ActPwrGen1']"
   ]
  },
  {
   "cell_type": "code",
   "execution_count": 38,
   "metadata": {
    "ExecuteTime": {
     "end_time": "2021-02-17T22:30:40.209940Z",
     "start_time": "2021-02-17T22:30:40.156382Z"
    }
   },
   "outputs": [],
   "source": [
    "# # Para considerar apenas as rubricas de alisamento\n",
    "# cols_to_drop_transf = ['Amb_WindDir_Abs_Avg', 'Amb_WindDir_Relative_Avg',\n",
    "#        'Amb_WindSpeed_Avg', 'Amb_WindSpeed_Max', 'Amb_WindSpeed_Min',\n",
    "#        'Amb_WindSpeed_Std', 'Blds_PitchAngle_Avg', 'Blds_PitchAngle_Std',\n",
    "#        'Grd_Prod_VoltPhse1_Avg', 'Grd_Prod_VoltPhse2_Avg',\n",
    "#        'Grd_Prod_VoltPhse3_Avg', 'Nac_Direction_Avg', 'Rtr_RPM_Avg',\n",
    "#        'Rtr_RPM_Std']"
   ]
  },
  {
   "cell_type": "code",
   "execution_count": 39,
   "metadata": {
    "ExecuteTime": {
     "end_time": "2021-02-17T22:30:40.256097Z",
     "start_time": "2021-02-17T22:30:40.217958Z"
    }
   },
   "outputs": [],
   "source": [
    "# # Para considerar apenas as rubricas de alisamento\n",
    "# cols_to_drop_gearbox = ['Amb_WindDir_Abs_Avg', 'Amb_WindDir_Relative_Avg',\n",
    "#        'Amb_WindSpeed_Avg', 'Amb_WindSpeed_Max', 'Amb_WindSpeed_Min',\n",
    "#        'Amb_WindSpeed_Std', 'Blds_PitchAngle_Avg', 'Blds_PitchAngle_Std',\n",
    "#        'Nac_Direction_Avg', 'Rtr_RPM_Avg', 'Rtr_RPM_Std']"
   ]
  },
  {
   "cell_type": "code",
   "execution_count": 40,
   "metadata": {
    "ExecuteTime": {
     "end_time": "2021-02-17T22:30:40.314018Z",
     "start_time": "2021-02-17T22:30:40.262941Z"
    }
   },
   "outputs": [],
   "source": [
    "# cols_orig_to_drop = [\n",
    "#     cols_to_drop_generator, cols_to_drop_hyd_group, cols_to_drop_gen_bear,\n",
    "#     cols_to_drop_transf, cols_to_drop_gearbox\n",
    "# ]"
   ]
  },
  {
   "cell_type": "code",
   "execution_count": 41,
   "metadata": {
    "ExecuteTime": {
     "end_time": "2021-02-17T22:30:40.372557Z",
     "start_time": "2021-02-17T22:30:40.323765Z"
    }
   },
   "outputs": [],
   "source": [
    "# for i, key in enumerate(comp_prep_df_dict):\n",
    "#     comp_prep_df_dict[key]= comp_prep_df_dict[key].drop(columns=cols_orig_to_drop[i])"
   ]
  },
  {
   "cell_type": "code",
   "execution_count": 42,
   "metadata": {
    "ExecuteTime": {
     "end_time": "2021-02-17T22:30:40.424746Z",
     "start_time": "2021-02-17T22:30:40.377339Z"
    }
   },
   "outputs": [
    {
     "name": "stdout",
     "output_type": "stream",
     "text": [
      "(3042, 85)\n",
      "(3041, 49)\n",
      "(3041, 46)\n",
      "(3041, 49)\n",
      "(3041, 40)\n"
     ]
    }
   ],
   "source": [
    "for key in comp_prep_df_dict:\n",
    "    print(comp_prep_df_dict[key].shape)"
   ]
  },
  {
   "cell_type": "markdown",
   "metadata": {},
   "source": [
    "# Train and test split"
   ]
  },
  {
   "cell_type": "code",
   "execution_count": 43,
   "metadata": {
    "ExecuteTime": {
     "end_time": "2021-02-17T22:30:40.486054Z",
     "start_time": "2021-02-17T22:30:40.429582Z"
    }
   },
   "outputs": [],
   "source": [
    "# Separar os dataframes de treino e teste\n",
    "df_train_dict = comp_prep_df_dict.copy()\n",
    "df_test_dict = comp_prep_df_dict.copy()\n",
    "\n",
    "per_test = '3meses'\n",
    "\n",
    "for key in df_train_dict:\n",
    "    df_train_dict[key] = dprep.prepare_train_df(df_train_dict[key], meses=3)\n",
    "    df_test_dict[key] = dprep.prepare_test_df(df_test_dict[key], meses=3)"
   ]
  },
  {
   "cell_type": "code",
   "execution_count": 44,
   "metadata": {
    "ExecuteTime": {
     "end_time": "2021-02-17T22:30:40.514045Z",
     "start_time": "2021-02-17T22:30:40.489257Z"
    }
   },
   "outputs": [],
   "source": [
    "train_turbines = {\n",
    "    'df_generator': ['T11', 'T06'],\n",
    "    'df_hydraulic': ['T06', 'T11'],\n",
    "    'df_gen_bear': ['T07', 'T09'],\n",
    "    'df_transformer': ['T07'],\n",
    "    'df_gearbox': ['T09']\n",
    "}"
   ]
  },
  {
   "cell_type": "code",
   "execution_count": 45,
   "metadata": {
    "ExecuteTime": {
     "end_time": "2021-02-17T22:30:40.601637Z",
     "start_time": "2021-02-17T22:30:40.518470Z"
    }
   },
   "outputs": [
    {
     "name": "stdout",
     "output_type": "stream",
     "text": [
      "Considerar apenas as turbinas que tiveram falhas no component df_generator\n",
      "Considerar apenas as turbinas que tiveram falhas no component df_hydraulic\n",
      "Considerar apenas as turbinas que tiveram falhas no component df_gen_bear\n",
      "Considerar apenas as turbinas que tiveram falhas no component df_transformer\n",
      "Considerar apenas as turbinas que tiveram falhas no component df_gearbox\n"
     ]
    }
   ],
   "source": [
    "for key in df_train_dict:\n",
    "    print(f'Considerar apenas as turbinas que tiveram falhas no component {key}')\n",
    "    df_train_dict[key] = df_train_dict[key][df_train_dict[key]['Turbine_ID'].isin(train_turbines[key])]"
   ]
  },
  {
   "cell_type": "code",
   "execution_count": 46,
   "metadata": {
    "ExecuteTime": {
     "end_time": "2021-02-17T22:30:40.650613Z",
     "start_time": "2021-02-17T22:30:40.608951Z"
    }
   },
   "outputs": [
    {
     "name": "stdout",
     "output_type": "stream",
     "text": [
      "df_train df_generator com a forma (1026, 85)\n",
      "df_test df_generator com a forma (465, 85)\n",
      "df_train df_hydraulic com a forma (1025, 49)\n",
      "df_test df_hydraulic com a forma (465, 49)\n",
      "df_train df_gen_bear com a forma (1034, 46)\n",
      "df_test df_gen_bear com a forma (465, 46)\n",
      "df_train df_transformer com a forma (517, 49)\n",
      "df_test df_transformer com a forma (465, 49)\n",
      "df_train df_gearbox com a forma (517, 40)\n",
      "df_test df_gearbox com a forma (465, 40)\n"
     ]
    }
   ],
   "source": [
    "for key in df_train_dict:\n",
    "    print(f'df_train {key} com a forma {df_train_dict[key].shape}')\n",
    "    print(f'df_test {key} com a forma {df_test_dict[key].shape}')"
   ]
  },
  {
   "cell_type": "markdown",
   "metadata": {
    "ExecuteTime": {
     "end_time": "2021-02-07T18:42:58.465901Z",
     "start_time": "2021-02-07T18:42:58.395089Z"
    }
   },
   "source": [
    "# Criar o x_train, x_test, y_train e o y_test "
   ]
  },
  {
   "cell_type": "code",
   "execution_count": 47,
   "metadata": {
    "ExecuteTime": {
     "end_time": "2021-02-17T22:30:40.698526Z",
     "start_time": "2021-02-17T22:30:40.654589Z"
    }
   },
   "outputs": [],
   "source": [
    "x_train = df_train_dict.copy()\n",
    "x_test = df_test_dict.copy()\n",
    "y_train = df_train_dict.copy()\n",
    "y_test = df_test_dict.copy()\n",
    "\n",
    "dias_var_alvo = days_list[0]"
   ]
  },
  {
   "cell_type": "code",
   "execution_count": 48,
   "metadata": {
    "ExecuteTime": {
     "end_time": "2021-02-17T22:30:40.763685Z",
     "start_time": "2021-02-17T22:30:40.703208Z"
    }
   },
   "outputs": [],
   "source": [
    "# retirar as colunas que não devem entrar no x\n",
    "cols_to_drop_train = [\n",
    "    'Date', 'TTF',\n",
    "    str(days_list[0]) + '_days', 'Component', 'Component_av', 'Component_sd'\n",
    "]\n",
    "for key in x_train:\n",
    "    x_train[key] = x_train[key].drop(columns=cols_to_drop_train)\n",
    "    x_test[key] = x_test[key].drop(columns=cols_to_drop_train)"
   ]
  },
  {
   "cell_type": "code",
   "execution_count": 49,
   "metadata": {
    "ExecuteTime": {
     "end_time": "2021-02-17T22:30:40.820453Z",
     "start_time": "2021-02-17T22:30:40.776614Z"
    }
   },
   "outputs": [
    {
     "name": "stdout",
     "output_type": "stream",
     "text": [
      "x_train df_generator com a forma (1026, 79)\n",
      "x_test df_generator com a forma (465, 79)\n",
      "x_train df_hydraulic com a forma (1025, 43)\n",
      "x_test df_hydraulic com a forma (465, 43)\n",
      "x_train df_gen_bear com a forma (1034, 40)\n",
      "x_test df_gen_bear com a forma (465, 40)\n",
      "x_train df_transformer com a forma (517, 43)\n",
      "x_test df_transformer com a forma (465, 43)\n",
      "x_train df_gearbox com a forma (517, 34)\n",
      "x_test df_gearbox com a forma (465, 34)\n"
     ]
    }
   ],
   "source": [
    "for key in x_train:\n",
    "    print(f'x_train {key} com a forma {x_train[key].shape}')\n",
    "    print(f'x_test {key} com a forma {x_test[key].shape}')"
   ]
  },
  {
   "cell_type": "code",
   "execution_count": 50,
   "metadata": {
    "ExecuteTime": {
     "end_time": "2021-02-17T22:30:40.885134Z",
     "start_time": "2021-02-17T22:30:40.828629Z"
    }
   },
   "outputs": [],
   "source": [
    "# considerar apenas as colunas que devem ser a variável alvo\n",
    "col_to_mantain_test = [str(days_list[0])+'_days']\n",
    "for key in y_train:\n",
    "    y_train[key] = y_train[key][col_to_mantain_test]\n",
    "    y_test[key] = y_test[key][col_to_mantain_test]"
   ]
  },
  {
   "cell_type": "code",
   "execution_count": 51,
   "metadata": {
    "ExecuteTime": {
     "end_time": "2021-02-17T22:30:40.925075Z",
     "start_time": "2021-02-17T22:30:40.890247Z"
    }
   },
   "outputs": [
    {
     "name": "stdout",
     "output_type": "stream",
     "text": [
      "y_train df_generator com a forma (1026, 1)\n",
      "y_test df_generator com a forma (465, 1)\n",
      "y_train df_hydraulic com a forma (1025, 1)\n",
      "y_test df_hydraulic com a forma (465, 1)\n",
      "y_train df_gen_bear com a forma (1034, 1)\n",
      "y_test df_gen_bear com a forma (465, 1)\n",
      "y_train df_transformer com a forma (517, 1)\n",
      "y_test df_transformer com a forma (465, 1)\n",
      "y_train df_gearbox com a forma (517, 1)\n",
      "y_test df_gearbox com a forma (465, 1)\n"
     ]
    }
   ],
   "source": [
    "for key in y_test:\n",
    "    print(f'y_train {key} com a forma {y_train[key].shape}')\n",
    "    print(f'y_test {key} com a forma {y_test[key].shape}')"
   ]
  },
  {
   "cell_type": "markdown",
   "metadata": {
    "ExecuteTime": {
     "end_time": "2021-02-07T19:59:13.987241Z",
     "start_time": "2021-02-07T19:59:13.859529Z"
    }
   },
   "source": [
    "# Model training - variables preparation"
   ]
  },
  {
   "cell_type": "code",
   "execution_count": 72,
   "metadata": {
    "ExecuteTime": {
     "end_time": "2021-02-17T22:48:03.217635Z",
     "start_time": "2021-02-17T22:48:03.185757Z"
    }
   },
   "outputs": [],
   "source": [
    "x_train_temp = x_train['df_hydraulic']\n",
    "y_train_temp = y_train['df_hydraulic']\n",
    "# Trainer.set_pipeline('df_generator')"
   ]
  },
  {
   "cell_type": "code",
   "execution_count": 73,
   "metadata": {
    "ExecuteTime": {
     "end_time": "2021-02-17T22:48:03.787366Z",
     "start_time": "2021-02-17T22:48:03.745658Z"
    }
   },
   "outputs": [],
   "source": [
    "model = Trainer(X=x_train_temp, y=y_train_temp, component='df_hydraulic')"
   ]
  },
  {
   "cell_type": "code",
   "execution_count": 74,
   "metadata": {
    "ExecuteTime": {
     "end_time": "2021-02-17T22:48:04.358875Z",
     "start_time": "2021-02-17T22:48:04.318486Z"
    }
   },
   "outputs": [
    {
     "data": {
      "text/plain": [
       "LogisticRegression(C=10, max_iter=1000, multi_class='warn', n_jobs=-1)"
      ]
     },
     "execution_count": 74,
     "metadata": {},
     "output_type": "execute_result"
    }
   ],
   "source": [
    "model.get_estimator()"
   ]
  },
  {
   "cell_type": "code",
   "execution_count": null,
   "metadata": {},
   "outputs": [],
   "source": []
  },
  {
   "cell_type": "code",
   "execution_count": null,
   "metadata": {},
   "outputs": [],
   "source": []
  },
  {
   "cell_type": "code",
   "execution_count": 66,
   "metadata": {
    "ExecuteTime": {
     "end_time": "2021-02-16T21:42:59.891582Z",
     "start_time": "2021-02-16T21:42:59.628047Z"
    }
   },
   "outputs": [],
   "source": [
    "# Normalizar os dados\n",
    "for key in x_train:\n",
    "    x_train[key], x_test[key] = dprep.scale(x_train[key], x_test[key])\n",
    "\n",
    "#Sem normalizar os dados\n",
    "# X_train = x_train[0].drop(columns=['Turbine_ID']).to_numpy()\n",
    "# X_test = x_test[0].drop(columns=['Turbine_ID']).to_numpy()"
   ]
  },
  {
   "cell_type": "code",
   "execution_count": 67,
   "metadata": {
    "ExecuteTime": {
     "end_time": "2021-02-16T21:43:00.066625Z",
     "start_time": "2021-02-16T21:42:59.895571Z"
    }
   },
   "outputs": [],
   "source": [
    "for key in y_train:\n",
    "    y_train[key] = y_train[key].to_numpy().astype(int)[:,0]\n",
    "    y_test[key] = y_test[key].to_numpy().astype(int)[:,0]"
   ]
  },
  {
   "cell_type": "markdown",
   "metadata": {},
   "source": [
    "# Model Training - Logistic Regression"
   ]
  },
  {
   "cell_type": "code",
   "execution_count": 68,
   "metadata": {
    "ExecuteTime": {
     "end_time": "2021-02-16T21:43:20.940954Z",
     "start_time": "2021-02-16T21:43:00.071613Z"
    },
    "scrolled": false
   },
   "outputs": [
    {
     "name": "stdout",
     "output_type": "stream",
     "text": [
      "Trainning component df_generator\n"
     ]
    },
    {
     "name": "stderr",
     "output_type": "stream",
     "text": [
      "c:\\users\\ricar\\.venvs\\lewagon\\lib\\site-packages\\sklearn\\model_selection\\_search.py:842: DeprecationWarning: The default of the `iid` parameter will change from True to False in version 0.22 and will be removed in 0.24. This will change numeric results when test-set sizes are unequal.\n",
      "  DeprecationWarning)\n"
     ]
    },
    {
     "name": "stdout",
     "output_type": "stream",
     "text": [
      "\n",
      "Best Parameters:\n",
      " LogisticRegression(C=0.01, class_weight=None, dual=False, fit_intercept=True,\n",
      "          intercept_scaling=1, max_iter=1000, multi_class='warn',\n",
      "          n_jobs=None, penalty='l2', random_state=42, solver='lbfgs',\n",
      "          tol=0.0001, verbose=0, warm_start=False)\n"
     ]
    },
    {
     "data": {
      "image/png": "[encoded data removed]",
      "text/plain": [
       "<Figure size 432x288 with 1 Axes>"
      ]
     },
     "metadata": {},
     "output_type": "display_data"
    },
    {
     "name": "stdout",
     "output_type": "stream",
     "text": [
      "Calculating Savings to component df_generator\n",
      "Trainning component df_hydraulic\n"
     ]
    },
    {
     "name": "stderr",
     "output_type": "stream",
     "text": [
      "c:\\users\\ricar\\.venvs\\lewagon\\lib\\site-packages\\sklearn\\model_selection\\_search.py:842: DeprecationWarning: The default of the `iid` parameter will change from True to False in version 0.22 and will be removed in 0.24. This will change numeric results when test-set sizes are unequal.\n",
      "  DeprecationWarning)\n"
     ]
    },
    {
     "name": "stdout",
     "output_type": "stream",
     "text": [
      "\n",
      "Best Parameters:\n",
      " LogisticRegression(C=10, class_weight=None, dual=False, fit_intercept=True,\n",
      "          intercept_scaling=1, max_iter=1000, multi_class='warn',\n",
      "          n_jobs=None, penalty='l2', random_state=42, solver='lbfgs',\n",
      "          tol=0.0001, verbose=0, warm_start=False)\n"
     ]
    },
    {
     "data": {
      "image/png": "[encoded data removed]",
      "text/plain": [
       "<Figure size 432x288 with 1 Axes>"
      ]
     },
     "metadata": {},
     "output_type": "display_data"
    },
    {
     "name": "stdout",
     "output_type": "stream",
     "text": [
      "Calculating Savings to component df_hydraulic\n",
      "Trainning component df_gen_bear\n",
      "\n",
      "Best Parameters:\n",
      " LogisticRegression(C=0.1, class_weight=None, dual=False, fit_intercept=True,\n",
      "          intercept_scaling=1, max_iter=1000, multi_class='warn',\n",
      "          n_jobs=None, penalty='l2', random_state=42, solver='lbfgs',\n",
      "          tol=0.0001, verbose=0, warm_start=False)\n"
     ]
    },
    {
     "data": {
      "image/png": "[encoded data removed]",
      "text/plain": [
       "<Figure size 432x288 with 1 Axes>"
      ]
     },
     "metadata": {},
     "output_type": "display_data"
    },
    {
     "name": "stdout",
     "output_type": "stream",
     "text": [
      "Calculating Savings to component df_gen_bear\n",
      "Trainning component df_transformer\n"
     ]
    },
    {
     "name": "stderr",
     "output_type": "stream",
     "text": [
      "c:\\users\\ricar\\.venvs\\lewagon\\lib\\site-packages\\sklearn\\model_selection\\_search.py:842: DeprecationWarning: The default of the `iid` parameter will change from True to False in version 0.22 and will be removed in 0.24. This will change numeric results when test-set sizes are unequal.\n",
      "  DeprecationWarning)\n"
     ]
    },
    {
     "name": "stdout",
     "output_type": "stream",
     "text": [
      "\n",
      "Best Parameters:\n",
      " LogisticRegression(C=10, class_weight=None, dual=False, fit_intercept=True,\n",
      "          intercept_scaling=1, max_iter=1000, multi_class='warn',\n",
      "          n_jobs=None, penalty='l2', random_state=42, solver='liblinear',\n",
      "          tol=0.0001, verbose=0, warm_start=False)\n"
     ]
    },
    {
     "data": {
      "image/png": "[encoded data removed]",
      "text/plain": [
       "<Figure size 432x288 with 1 Axes>"
      ]
     },
     "metadata": {},
     "output_type": "display_data"
    },
    {
     "name": "stdout",
     "output_type": "stream",
     "text": [
      "Calculating Savings to component df_transformer\n",
      "Trainning component df_gearbox\n"
     ]
    },
    {
     "name": "stderr",
     "output_type": "stream",
     "text": [
      "c:\\users\\ricar\\.venvs\\lewagon\\lib\\site-packages\\sklearn\\model_selection\\_search.py:842: DeprecationWarning: The default of the `iid` parameter will change from True to False in version 0.22 and will be removed in 0.24. This will change numeric results when test-set sizes are unequal.\n",
      "  DeprecationWarning)\n"
     ]
    },
    {
     "name": "stdout",
     "output_type": "stream",
     "text": [
      "\n",
      "Best Parameters:\n",
      " LogisticRegression(C=10, class_weight='balanced', dual=False,\n",
      "          fit_intercept=True, intercept_scaling=1, max_iter=1000,\n",
      "          multi_class='warn', n_jobs=None, penalty='l2', random_state=42,\n",
      "          solver='lbfgs', tol=0.0001, verbose=0, warm_start=False)\n"
     ]
    },
    {
     "name": "stderr",
     "output_type": "stream",
     "text": [
      "c:\\users\\ricar\\.venvs\\lewagon\\lib\\site-packages\\sklearn\\metrics\\ranking.py:656: UndefinedMetricWarning: No positive samples in y_true, true positive value should be meaningless\n",
      "  UndefinedMetricWarning)\n"
     ]
    },
    {
     "data": {
      "image/png": "[encoded data removed]",
      "text/plain": [
       "<Figure size 432x288 with 1 Axes>"
      ]
     },
     "metadata": {},
     "output_type": "display_data"
    },
    {
     "name": "stdout",
     "output_type": "stream",
     "text": [
      "Calculating Savings to component df_gearbox\n"
     ]
    }
   ],
   "source": [
    "# Correr o mesmo modelo para todos os componentes\n",
    "for key in x_train:\n",
    "    print(f'Trainning component {key}')\n",
    "    # Train the model\n",
    "    model_name = 'Logistic Regression'\n",
    "    clf_LogReg = LogisticRegression(random_state=42, max_iter=1000)\n",
    "    gs_params = {\n",
    "        'C': [.01, 0.1, 1.0, 10],\n",
    "        'solver': ['liblinear', 'lbfgs'],\n",
    "        'class_weight': [None, 'balanced']\n",
    "    }\n",
    "    gs_score = 'roc_auc'\n",
    "\n",
    "    clf_LogReg, pred_LogReg = dprep.bin_classify(model_name,\n",
    "                                                 clf_LogReg,\n",
    "                                                 x_train[key],\n",
    "                                                 x_test[key],\n",
    "                                                 y_train[key],\n",
    "                                                 y_test[key],\n",
    "                                                 params=gs_params,\n",
    "                                                 score=gs_score)\n",
    "    print('\\nBest Parameters:\\n', clf_LogReg)\n",
    "    # Obtain metrics\n",
    "    metrics_dict_miguel = dprep.metrics(y_test[key], pred_LogReg.y_pred,\n",
    "                                        pred_LogReg.y_score)\n",
    "    conf_matrix = dprep.conf_matrix(y_test[key], pred_LogReg.y_pred)\n",
    "    dprep.roc_curve_plot(y_test[key], pred_LogReg.y_score)\n",
    "\n",
    "    print(f'Calculating Savings to component {key}')\n",
    "    # Calculate savings\n",
    "    sav, cf_numb, met_df, dias = dprep.metrics_create_df(df_test_dict[key],\n",
    "                                                   y_test[key],\n",
    "                                                   pred_LogReg.y_pred.values,\n",
    "                                                   key, 15)\n",
    "\n",
    "    # Store metrics to compare\n",
    "    metrics_dict['try_' + str(tentativa)] = {\n",
    "        'Componente': key,\n",
    "        'Nome_modelo': model_name,\n",
    "        'dias_var_alvo': col_to_mantain_test,\n",
    "        'feature_selection': 'Guilherme',\n",
    "        'Agrup_por': Agrup_por,\n",
    "        'add_features': 'smooth only',\n",
    "        'per_test': per_test,\n",
    "        'model': model_name,\n",
    "        'Metrics': metrics_dict_miguel,\n",
    "        'cf_matriX_log_reg': conf_matrix,\n",
    "        'Savings': sav,\n",
    "        'cf_bussines_numbers': cf_numb\n",
    "    }\n",
    "    tentativa = tentativa + 1"
   ]
  },
  {
   "cell_type": "code",
   "execution_count": 69,
   "metadata": {
    "ExecuteTime": {
     "end_time": "2021-02-16T21:43:21.127972Z",
     "start_time": "2021-02-16T21:43:20.943946Z"
    }
   },
   "outputs": [
    {
     "name": "stdout",
     "output_type": "stream",
     "text": [
      "df_generator 15000.0\n",
      "df_hydraulic 10166.666666666668\n",
      "df_gen_bear -3125.0\n",
      "df_transformer 29700.0\n",
      "df_gearbox -25000\n"
     ]
    },
    {
     "data": {
      "text/plain": [
       "26741.66666666667"
      ]
     },
     "execution_count": 69,
     "metadata": {},
     "output_type": "execute_result"
    }
   ],
   "source": [
    "Savings = 0\n",
    "for i in metrics_dict:\n",
    "    if metrics_dict[i]['Nome_modelo'] == 'Logistic Regression':\n",
    "        Savings = Savings + metrics_dict[i]['Savings']\n",
    "        print(metrics_dict[i]['Componente'], metrics_dict[i]['Savings'])\n",
    "Savings        "
   ]
  },
  {
   "cell_type": "code",
   "execution_count": 83,
   "metadata": {
    "ExecuteTime": {
     "end_time": "2021-02-16T22:38:37.310149Z",
     "start_time": "2021-02-16T22:38:37.144789Z"
    }
   },
   "outputs": [
    {
     "name": "stdout",
     "output_type": "stream",
     "text": [
      "Logistic Regression df_generator 15000.0\n",
      "Logistic Regression df_hydraulic 10166.666666666668\n",
      "Logistic Regression df_gen_bear -3125.0\n",
      "Logistic Regression df_transformer 29700.0\n",
      "Logistic Regression df_gearbox -25000\n",
      "Random_Forest_Classifier df_generator 15000.0\n",
      "Random_Forest_Classifier df_hydraulic -22000\n",
      "Random_Forest_Classifier df_gen_bear -18791.666666666668\n",
      "Random_Forest_Classifier df_transformer 28200.0\n",
      "Random_Forest_Classifier df_gearbox -10000\n",
      "Gradient_Boosting_Classifier df_generator 15000.0\n",
      "Gradient_Boosting_Classifier df_hydraulic -34000\n",
      "Gradient_Boosting_Classifier df_gen_bear -12125.0\n",
      "Gradient_Boosting_Classifier df_transformer 29700.0\n",
      "Gradient_Boosting_Classifier df_gearbox -40000\n",
      "KNN_Classifier df_generator 20000.0\n",
      "KNN_Classifier df_hydraulic -26000\n",
      "KNN_Classifier df_gen_bear 1375.0\n",
      "KNN_Classifier df_transformer 32225.0\n",
      "KNN_Classifier df_gearbox -50000\n",
      "AdaBoostClassifier df_generator 5000.0\n",
      "AdaBoostClassifier df_hydraulic -40000\n",
      "AdaBoostClassifier df_gen_bear -5000.0\n",
      "AdaBoostClassifier df_transformer 39725.0\n",
      "AdaBoostClassifier df_gearbox -45000\n"
     ]
    }
   ],
   "source": [
    "for key in metrics_dict:\n",
    "#     if metrics_dict[key]['Componente'] == 'df_hydraulic':\n",
    "#     print()\n",
    "    print(metrics_dict[key]['Nome_modelo'], metrics_dict[key]['Componente'], metrics_dict[key]['Savings'])\n",
    "#               metrics_dict[key]['cf_matriX_log_reg'],\n",
    "#               metrics_dict[key]['cf_bussines_numbers'])"
   ]
  },
  {
   "cell_type": "markdown",
   "metadata": {},
   "source": [
    "# Model Training - Random Forrest Classifier"
   ]
  },
  {
   "cell_type": "code",
   "execution_count": 71,
   "metadata": {
    "ExecuteTime": {
     "end_time": "2021-02-16T22:15:40.469049Z",
     "start_time": "2021-02-16T21:43:21.354369Z"
    },
    "scrolled": false
   },
   "outputs": [
    {
     "name": "stdout",
     "output_type": "stream",
     "text": [
      "Trainning component df_generator\n"
     ]
    },
    {
     "name": "stderr",
     "output_type": "stream",
     "text": [
      "c:\\users\\ricar\\.venvs\\lewagon\\lib\\site-packages\\sklearn\\model_selection\\_search.py:842: DeprecationWarning: The default of the `iid` parameter will change from True to False in version 0.22 and will be removed in 0.24. This will change numeric results when test-set sizes are unequal.\n",
      "  DeprecationWarning)\n"
     ]
    },
    {
     "name": "stdout",
     "output_type": "stream",
     "text": [
      "\n",
      "Best Parameters:\n",
      " RandomForestClassifier(bootstrap=True, class_weight=None, criterion='gini',\n",
      "            max_depth=None, max_features='auto', max_leaf_nodes=None,\n",
      "            min_impurity_decrease=0.0, min_impurity_split=None,\n",
      "            min_samples_leaf=1, min_samples_split=2,\n",
      "            min_weight_fraction_leaf=0.0, n_estimators=1000, n_jobs=None,\n",
      "            oob_score=False, random_state=42, verbose=0, warm_start=False)\n"
     ]
    },
    {
     "data": {
      "image/png": "[encoded data removed]",
      "text/plain": [
       "<Figure size 432x288 with 1 Axes>"
      ]
     },
     "metadata": {},
     "output_type": "display_data"
    },
    {
     "name": "stdout",
     "output_type": "stream",
     "text": [
      "Calculating Savings to component df_generator\n",
      "Trainning component df_hydraulic\n"
     ]
    },
    {
     "name": "stderr",
     "output_type": "stream",
     "text": [
      "c:\\users\\ricar\\.venvs\\lewagon\\lib\\site-packages\\sklearn\\model_selection\\_search.py:842: DeprecationWarning: The default of the `iid` parameter will change from True to False in version 0.22 and will be removed in 0.24. This will change numeric results when test-set sizes are unequal.\n",
      "  DeprecationWarning)\n"
     ]
    },
    {
     "name": "stdout",
     "output_type": "stream",
     "text": [
      "\n",
      "Best Parameters:\n",
      " RandomForestClassifier(bootstrap=True, class_weight=None, criterion='gini',\n",
      "            max_depth=None, max_features='auto', max_leaf_nodes=None,\n",
      "            min_impurity_decrease=0.0, min_impurity_split=None,\n",
      "            min_samples_leaf=1, min_samples_split=2,\n",
      "            min_weight_fraction_leaf=0.0, n_estimators=300, n_jobs=None,\n",
      "            oob_score=False, random_state=42, verbose=0, warm_start=False)\n"
     ]
    },
    {
     "data": {
      "image/png": "[encoded data removed]",
      "text/plain": [
       "<Figure size 432x288 with 1 Axes>"
      ]
     },
     "metadata": {},
     "output_type": "display_data"
    },
    {
     "name": "stdout",
     "output_type": "stream",
     "text": [
      "Calculating Savings to component df_hydraulic\n",
      "Trainning component df_gen_bear\n"
     ]
    },
    {
     "name": "stderr",
     "output_type": "stream",
     "text": [
      "c:\\users\\ricar\\.venvs\\lewagon\\lib\\site-packages\\sklearn\\model_selection\\_search.py:842: DeprecationWarning: The default of the `iid` parameter will change from True to False in version 0.22 and will be removed in 0.24. This will change numeric results when test-set sizes are unequal.\n",
      "  DeprecationWarning)\n"
     ]
    },
    {
     "name": "stdout",
     "output_type": "stream",
     "text": [
      "\n",
      "Best Parameters:\n",
      " RandomForestClassifier(bootstrap=True, class_weight=None, criterion='gini',\n",
      "            max_depth=None, max_features='auto', max_leaf_nodes=None,\n",
      "            min_impurity_decrease=0.0, min_impurity_split=None,\n",
      "            min_samples_leaf=1, min_samples_split=2,\n",
      "            min_weight_fraction_leaf=0.0, n_estimators=300, n_jobs=None,\n",
      "            oob_score=False, random_state=42, verbose=0, warm_start=False)\n"
     ]
    },
    {
     "data": {
      "image/png": "[encoded data removed]",
      "text/plain": [
       "<Figure size 432x288 with 1 Axes>"
      ]
     },
     "metadata": {},
     "output_type": "display_data"
    },
    {
     "name": "stdout",
     "output_type": "stream",
     "text": [
      "Calculating Savings to component df_gen_bear\n",
      "Trainning component df_transformer\n"
     ]
    },
    {
     "name": "stderr",
     "output_type": "stream",
     "text": [
      "c:\\users\\ricar\\.venvs\\lewagon\\lib\\site-packages\\sklearn\\model_selection\\_search.py:842: DeprecationWarning: The default of the `iid` parameter will change from True to False in version 0.22 and will be removed in 0.24. This will change numeric results when test-set sizes are unequal.\n",
      "  DeprecationWarning)\n"
     ]
    },
    {
     "name": "stdout",
     "output_type": "stream",
     "text": [
      "\n",
      "Best Parameters:\n",
      " RandomForestClassifier(bootstrap=True, class_weight=None, criterion='entropy',\n",
      "            max_depth=None, max_features='auto', max_leaf_nodes=None,\n",
      "            min_impurity_decrease=0.0, min_impurity_split=None,\n",
      "            min_samples_leaf=1, min_samples_split=2,\n",
      "            min_weight_fraction_leaf=0.0, n_estimators=500, n_jobs=None,\n",
      "            oob_score=False, random_state=42, verbose=0, warm_start=False)\n"
     ]
    },
    {
     "data": {
      "image/png": "[encoded data removed]",
      "text/plain": [
       "<Figure size 432x288 with 1 Axes>"
      ]
     },
     "metadata": {},
     "output_type": "display_data"
    },
    {
     "name": "stdout",
     "output_type": "stream",
     "text": [
      "Calculating Savings to component df_transformer\n",
      "Trainning component df_gearbox\n"
     ]
    },
    {
     "name": "stderr",
     "output_type": "stream",
     "text": [
      "c:\\users\\ricar\\.venvs\\lewagon\\lib\\site-packages\\sklearn\\model_selection\\_search.py:842: DeprecationWarning: The default of the `iid` parameter will change from True to False in version 0.22 and will be removed in 0.24. This will change numeric results when test-set sizes are unequal.\n",
      "  DeprecationWarning)\n"
     ]
    },
    {
     "name": "stdout",
     "output_type": "stream",
     "text": [
      "\n",
      "Best Parameters:\n",
      " RandomForestClassifier(bootstrap=True, class_weight=None, criterion='gini',\n",
      "            max_depth=None, max_features='auto', max_leaf_nodes=None,\n",
      "            min_impurity_decrease=0.0, min_impurity_split=None,\n",
      "            min_samples_leaf=1, min_samples_split=2,\n",
      "            min_weight_fraction_leaf=0.0, n_estimators=750, n_jobs=None,\n",
      "            oob_score=False, random_state=42, verbose=0, warm_start=False)\n"
     ]
    },
    {
     "name": "stderr",
     "output_type": "stream",
     "text": [
      "c:\\users\\ricar\\.venvs\\lewagon\\lib\\site-packages\\sklearn\\metrics\\ranking.py:656: UndefinedMetricWarning: No positive samples in y_true, true positive value should be meaningless\n",
      "  UndefinedMetricWarning)\n"
     ]
    },
    {
     "data": {
      "image/png": "[encoded data removed]",
      "text/plain": [
       "<Figure size 432x288 with 1 Axes>"
      ]
     },
     "metadata": {},
     "output_type": "display_data"
    },
    {
     "name": "stdout",
     "output_type": "stream",
     "text": [
      "Calculating Savings to component df_gearbox\n"
     ]
    }
   ],
   "source": [
    "# Correr o mesmo modelo para todos os componentes\n",
    "for key in x_train:\n",
    "    print(f'Trainning component {key}')\n",
    "    # Train the model\n",
    "    model_name = 'Random_Forest_Classifier'\n",
    "    clf_rfc = RandomForestClassifier(random_state=42)\n",
    "    gs_params = {\n",
    "        'n_estimators': [300, 500, 750, 800, 900, 1000],\n",
    "        'criterion': ['gini', 'entropy'],\n",
    "        'class_weight': ['balanced', None]\n",
    "    }\n",
    "    gs_score = 'recall'\n",
    "\n",
    "    clf_rcf, pred_rcf = dprep.bin_classify(model_name,\n",
    "                                           clf_rfc,\n",
    "                                           x_train[key],\n",
    "                                           x_test[key],\n",
    "                                           y_train[key],\n",
    "                                           y_test[key],\n",
    "                                           params=gs_params,\n",
    "                                           score=gs_score)\n",
    "    print('\\nBest Parameters:\\n', clf_rcf)\n",
    "    # Obtain metrics\n",
    "    metrics_dict_miguel = dprep.metrics(y_test[key], pred_rcf.y_pred,\n",
    "                                        pred_rcf.y_score)\n",
    "    conf_matrix = dprep.conf_matrix(y_test[key], pred_rcf.y_pred)\n",
    "    dprep.roc_curve_plot(y_test[key], pred_rcf.y_score)\n",
    "\n",
    "    print(f'Calculating Savings to component {key}')\n",
    "    # Calculate savings\n",
    "    sav, cf_numb, met_df, dias = dprep.metrics_create_df(df_test_dict[key],\n",
    "                                                   y_test[key],\n",
    "                                                   pred_rcf.y_pred.values,\n",
    "                                                   key, 15)\n",
    "\n",
    "    # Store metrics to compare\n",
    "    metrics_dict['try_' + str(tentativa)] = {\n",
    "        'Componente': key,\n",
    "        'Nome_modelo': model_name,\n",
    "        'dias_var_alvo': col_to_mantain_test,\n",
    "        'feature_selection': 'Guilherme',\n",
    "        'Agrup_por': Agrup_por,\n",
    "        'add_features': 'smooth only',\n",
    "        'per_test': per_test,\n",
    "        'model': model_name,\n",
    "        'Metrics': metrics_dict_miguel,\n",
    "        'cf_matriX_log_reg': conf_matrix,\n",
    "        'Savings': sav,\n",
    "        'cf_bussines_numbers': cf_numb\n",
    "    }\n",
    "    tentativa = tentativa + 1"
   ]
  },
  {
   "cell_type": "code",
   "execution_count": 72,
   "metadata": {
    "ExecuteTime": {
     "end_time": "2021-02-16T22:15:40.578224Z",
     "start_time": "2021-02-16T22:15:40.484475Z"
    }
   },
   "outputs": [
    {
     "name": "stdout",
     "output_type": "stream",
     "text": [
      "df_generator 15000.0\n",
      "df_hydraulic -22000\n",
      "df_gen_bear -18791.666666666668\n",
      "df_transformer 28200.0\n",
      "df_gearbox -10000\n"
     ]
    },
    {
     "data": {
      "text/plain": [
       "-7591.666666666668"
      ]
     },
     "execution_count": 72,
     "metadata": {},
     "output_type": "execute_result"
    }
   ],
   "source": [
    "Savings = 0\n",
    "for i in metrics_dict:\n",
    "    if metrics_dict[i]['Nome_modelo'] == 'Random_Forest_Classifier':\n",
    "        Savings = Savings + metrics_dict[i]['Savings']\n",
    "        print(metrics_dict[i]['Componente'], metrics_dict[i]['Savings'])\n",
    "Savings        "
   ]
  },
  {
   "cell_type": "markdown",
   "metadata": {},
   "source": [
    "# Model Training - Gradient Boost Classifier"
   ]
  },
  {
   "cell_type": "code",
   "execution_count": 73,
   "metadata": {
    "ExecuteTime": {
     "end_time": "2021-02-16T22:22:54.935844Z",
     "start_time": "2021-02-16T22:15:40.580220Z"
    }
   },
   "outputs": [
    {
     "name": "stdout",
     "output_type": "stream",
     "text": [
      "Trainning component df_generator\n"
     ]
    },
    {
     "name": "stderr",
     "output_type": "stream",
     "text": [
      "c:\\users\\ricar\\.venvs\\lewagon\\lib\\site-packages\\sklearn\\model_selection\\_search.py:842: DeprecationWarning: The default of the `iid` parameter will change from True to False in version 0.22 and will be removed in 0.24. This will change numeric results when test-set sizes are unequal.\n",
      "  DeprecationWarning)\n"
     ]
    },
    {
     "name": "stdout",
     "output_type": "stream",
     "text": [
      "\n",
      "Best Parameters:\n",
      " GradientBoostingClassifier(criterion='friedman_mse', init=None,\n",
      "              learning_rate=0.01, loss='deviance', max_depth=3,\n",
      "              max_features=None, max_leaf_nodes=None,\n",
      "              min_impurity_decrease=0.0, min_impurity_split=None,\n",
      "              min_samples_leaf=1, min_samples_split=2,\n",
      "              min_weight_fraction_leaf=0.0, n_estimators=700,\n",
      "              n_iter_no_change=None, presort='auto', random_state=42,\n",
      "              subsample=1.0, tol=0.0001, validation_fraction=0.1,\n",
      "              verbose=0, warm_start=False)\n"
     ]
    },
    {
     "data": {
      "image/png": "[encoded data removed]",
      "text/plain": [
       "<Figure size 432x288 with 1 Axes>"
      ]
     },
     "metadata": {},
     "output_type": "display_data"
    },
    {
     "name": "stdout",
     "output_type": "stream",
     "text": [
      "Calculating Savings to component df_generator\n",
      "Trainning component df_hydraulic\n"
     ]
    },
    {
     "name": "stderr",
     "output_type": "stream",
     "text": [
      "c:\\users\\ricar\\.venvs\\lewagon\\lib\\site-packages\\sklearn\\model_selection\\_search.py:842: DeprecationWarning: The default of the `iid` parameter will change from True to False in version 0.22 and will be removed in 0.24. This will change numeric results when test-set sizes are unequal.\n",
      "  DeprecationWarning)\n"
     ]
    },
    {
     "name": "stdout",
     "output_type": "stream",
     "text": [
      "\n",
      "Best Parameters:\n",
      " GradientBoostingClassifier(criterion='friedman_mse', init=None,\n",
      "              learning_rate=1, loss='deviance', max_depth=3,\n",
      "              max_features=None, max_leaf_nodes=None,\n",
      "              min_impurity_decrease=0.0, min_impurity_split=None,\n",
      "              min_samples_leaf=1, min_samples_split=2,\n",
      "              min_weight_fraction_leaf=0.0, n_estimators=100,\n",
      "              n_iter_no_change=None, presort='auto', random_state=42,\n",
      "              subsample=1.0, tol=0.0001, validation_fraction=0.1,\n",
      "              verbose=0, warm_start=False)\n"
     ]
    },
    {
     "data": {
      "image/png": "[encoded data removed]",
      "text/plain": [
       "<Figure size 432x288 with 1 Axes>"
      ]
     },
     "metadata": {},
     "output_type": "display_data"
    },
    {
     "name": "stdout",
     "output_type": "stream",
     "text": [
      "Calculating Savings to component df_hydraulic\n",
      "Trainning component df_gen_bear\n"
     ]
    },
    {
     "name": "stderr",
     "output_type": "stream",
     "text": [
      "c:\\users\\ricar\\.venvs\\lewagon\\lib\\site-packages\\sklearn\\model_selection\\_search.py:842: DeprecationWarning: The default of the `iid` parameter will change from True to False in version 0.22 and will be removed in 0.24. This will change numeric results when test-set sizes are unequal.\n",
      "  DeprecationWarning)\n"
     ]
    },
    {
     "name": "stdout",
     "output_type": "stream",
     "text": [
      "\n",
      "Best Parameters:\n",
      " GradientBoostingClassifier(criterion='friedman_mse', init=None,\n",
      "              learning_rate=0.5, loss='deviance', max_depth=3,\n",
      "              max_features=None, max_leaf_nodes=None,\n",
      "              min_impurity_decrease=0.0, min_impurity_split=None,\n",
      "              min_samples_leaf=1, min_samples_split=2,\n",
      "              min_weight_fraction_leaf=0.0, n_estimators=200,\n",
      "              n_iter_no_change=None, presort='auto', random_state=42,\n",
      "              subsample=1.0, tol=0.0001, validation_fraction=0.1,\n",
      "              verbose=0, warm_start=False)\n"
     ]
    },
    {
     "data": {
      "image/png": "[encoded data removed]",
      "text/plain": [
       "<Figure size 432x288 with 1 Axes>"
      ]
     },
     "metadata": {},
     "output_type": "display_data"
    },
    {
     "name": "stdout",
     "output_type": "stream",
     "text": [
      "Calculating Savings to component df_gen_bear\n",
      "Trainning component df_transformer\n"
     ]
    },
    {
     "name": "stderr",
     "output_type": "stream",
     "text": [
      "c:\\users\\ricar\\.venvs\\lewagon\\lib\\site-packages\\sklearn\\model_selection\\_search.py:842: DeprecationWarning: The default of the `iid` parameter will change from True to False in version 0.22 and will be removed in 0.24. This will change numeric results when test-set sizes are unequal.\n",
      "  DeprecationWarning)\n"
     ]
    },
    {
     "name": "stdout",
     "output_type": "stream",
     "text": [
      "\n",
      "Best Parameters:\n",
      " GradientBoostingClassifier(criterion='friedman_mse', init=None,\n",
      "              learning_rate=0.1, loss='deviance', max_depth=3,\n",
      "              max_features=None, max_leaf_nodes=None,\n",
      "              min_impurity_decrease=0.0, min_impurity_split=None,\n",
      "              min_samples_leaf=1, min_samples_split=2,\n",
      "              min_weight_fraction_leaf=0.0, n_estimators=200,\n",
      "              n_iter_no_change=None, presort='auto', random_state=42,\n",
      "              subsample=1.0, tol=0.0001, validation_fraction=0.1,\n",
      "              verbose=0, warm_start=False)\n"
     ]
    },
    {
     "data": {
      "image/png": "[encoded data removed]",
      "text/plain": [
       "<Figure size 432x288 with 1 Axes>"
      ]
     },
     "metadata": {},
     "output_type": "display_data"
    },
    {
     "name": "stdout",
     "output_type": "stream",
     "text": [
      "Calculating Savings to component df_transformer\n",
      "Trainning component df_gearbox\n"
     ]
    },
    {
     "name": "stderr",
     "output_type": "stream",
     "text": [
      "c:\\users\\ricar\\.venvs\\lewagon\\lib\\site-packages\\sklearn\\model_selection\\_search.py:842: DeprecationWarning: The default of the `iid` parameter will change from True to False in version 0.22 and will be removed in 0.24. This will change numeric results when test-set sizes are unequal.\n",
      "  DeprecationWarning)\n",
      "c:\\users\\ricar\\.venvs\\lewagon\\lib\\site-packages\\sklearn\\metrics\\ranking.py:656: UndefinedMetricWarning: No positive samples in y_true, true positive value should be meaningless\n",
      "  UndefinedMetricWarning)\n"
     ]
    },
    {
     "name": "stdout",
     "output_type": "stream",
     "text": [
      "\n",
      "Best Parameters:\n",
      " GradientBoostingClassifier(criterion='friedman_mse', init=None,\n",
      "              learning_rate=1, loss='deviance', max_depth=3,\n",
      "              max_features=None, max_leaf_nodes=None,\n",
      "              min_impurity_decrease=0.0, min_impurity_split=None,\n",
      "              min_samples_leaf=1, min_samples_split=2,\n",
      "              min_weight_fraction_leaf=0.0, n_estimators=100,\n",
      "              n_iter_no_change=None, presort='auto', random_state=42,\n",
      "              subsample=1.0, tol=0.0001, validation_fraction=0.1,\n",
      "              verbose=0, warm_start=False)\n"
     ]
    },
    {
     "data": {
      "image/png": "[encoded data removed]",
      "text/plain": [
       "<Figure size 432x288 with 1 Axes>"
      ]
     },
     "metadata": {},
     "output_type": "display_data"
    },
    {
     "name": "stdout",
     "output_type": "stream",
     "text": [
      "Calculating Savings to component df_gearbox\n"
     ]
    }
   ],
   "source": [
    "# Correr o mesmo modelo para todos os componentes\n",
    "for key in x_train:\n",
    "    print(f'Trainning component {key}')\n",
    "    # Train the model\n",
    "    model_name = 'Gradient_Boosting_Classifier'\n",
    "    clf_gbc = GradientBoostingClassifier(random_state=42)\n",
    "    gs_params = {\n",
    "        'learning_rate': [0.001, 0.01, 0.1, 0.5, 1],\n",
    "        'n_estimators': [100, 200, 500, 700]\n",
    "    }\n",
    "    gs_score = 'recall'\n",
    "\n",
    "    clf_gbc, pred_gbc = dprep.bin_classify(model_name,\n",
    "                                           clf_gbc,\n",
    "                                           x_train[key],\n",
    "                                           x_test[key],\n",
    "                                           y_train[key],\n",
    "                                           y_test[key],\n",
    "                                           params=gs_params,\n",
    "                                           score=gs_score)\n",
    "    print('\\nBest Parameters:\\n', clf_gbc)\n",
    "    # Obtain metrics\n",
    "    metrics_dict_miguel = dprep.metrics(y_test[key], pred_gbc.y_pred,\n",
    "                                        pred_gbc.y_score)\n",
    "    conf_matrix = dprep.conf_matrix(y_test[key], pred_gbc.y_pred)\n",
    "    dprep.roc_curve_plot(y_test[key], pred_gbc.y_score)\n",
    "\n",
    "    print(f'Calculating Savings to component {key}')\n",
    "    # Calculate savings\n",
    "    sav, cf_numb, met_df, dias = dprep.metrics_create_df(df_test_dict[key],\n",
    "                                                   y_test[key],\n",
    "                                                   pred_gbc.y_pred.values,\n",
    "                                                   key, 15)\n",
    "\n",
    "    # Store metrics to compare\n",
    "    metrics_dict['try_' + str(tentativa)] = {\n",
    "        'Componente': key,\n",
    "        'Nome_modelo': model_name,\n",
    "        'dias_var_alvo': col_to_mantain_test,\n",
    "        'feature_selection': 'Guilherme',\n",
    "        'Agrup_por': Agrup_por,\n",
    "        'add_features': 'smooth only',\n",
    "        'per_test': per_test,\n",
    "        'model': model_name,\n",
    "        'Metrics': metrics_dict_miguel,\n",
    "        'cf_matriX_log_reg': conf_matrix,\n",
    "        'Savings': sav,\n",
    "        'cf_bussines_numbers': cf_numb\n",
    "    }\n",
    "    tentativa = tentativa + 1"
   ]
  },
  {
   "cell_type": "code",
   "execution_count": 74,
   "metadata": {
    "ExecuteTime": {
     "end_time": "2021-02-16T22:22:55.061506Z",
     "start_time": "2021-02-16T22:22:54.939833Z"
    }
   },
   "outputs": [
    {
     "name": "stdout",
     "output_type": "stream",
     "text": [
      "df_generator 15000.0\n",
      "df_hydraulic -34000\n",
      "df_gen_bear -12125.0\n",
      "df_transformer 29700.0\n",
      "df_gearbox -40000\n"
     ]
    },
    {
     "data": {
      "text/plain": [
       "-41425.0"
      ]
     },
     "execution_count": 74,
     "metadata": {},
     "output_type": "execute_result"
    }
   ],
   "source": [
    "Savings = 0\n",
    "for i in metrics_dict:\n",
    "    if metrics_dict[i]['Nome_modelo'] == 'Gradient_Boosting_Classifier':\n",
    "        Savings = Savings + metrics_dict[i]['Savings']\n",
    "        print(metrics_dict[i]['Componente'], metrics_dict[i]['Savings'])\n",
    "Savings        "
   ]
  },
  {
   "cell_type": "markdown",
   "metadata": {},
   "source": [
    "# Model Training - KNN Classsifier"
   ]
  },
  {
   "cell_type": "code",
   "execution_count": 75,
   "metadata": {
    "ExecuteTime": {
     "end_time": "2021-02-16T22:23:12.546796Z",
     "start_time": "2021-02-16T22:22:55.065498Z"
    }
   },
   "outputs": [
    {
     "name": "stdout",
     "output_type": "stream",
     "text": [
      "Trainning component df_generator\n",
      "\n",
      "Best Parameters:\n",
      " KNeighborsClassifier(algorithm='auto', leaf_size=30, metric='minkowski',\n",
      "           metric_params=None, n_jobs=None, n_neighbors=5, p=2,\n",
      "           weights='uniform')\n"
     ]
    },
    {
     "data": {
      "image/png": "[encoded data removed]",
      "text/plain": [
       "<Figure size 432x288 with 1 Axes>"
      ]
     },
     "metadata": {},
     "output_type": "display_data"
    },
    {
     "name": "stdout",
     "output_type": "stream",
     "text": [
      "Calculating Savings to component df_generator\n",
      "Trainning component df_hydraulic\n"
     ]
    },
    {
     "name": "stderr",
     "output_type": "stream",
     "text": [
      "c:\\users\\ricar\\.venvs\\lewagon\\lib\\site-packages\\sklearn\\model_selection\\_search.py:842: DeprecationWarning: The default of the `iid` parameter will change from True to False in version 0.22 and will be removed in 0.24. This will change numeric results when test-set sizes are unequal.\n",
      "  DeprecationWarning)\n"
     ]
    },
    {
     "name": "stdout",
     "output_type": "stream",
     "text": [
      "\n",
      "Best Parameters:\n",
      " KNeighborsClassifier(algorithm='auto', leaf_size=30, metric='minkowski',\n",
      "           metric_params=None, n_jobs=None, n_neighbors=5, p=2,\n",
      "           weights='uniform')\n"
     ]
    },
    {
     "data": {
      "image/png": "[encoded data removed]",
      "text/plain": [
       "<Figure size 432x288 with 1 Axes>"
      ]
     },
     "metadata": {},
     "output_type": "display_data"
    },
    {
     "name": "stdout",
     "output_type": "stream",
     "text": [
      "Calculating Savings to component df_hydraulic\n",
      "Trainning component df_gen_bear\n",
      "\n",
      "Best Parameters:\n",
      " KNeighborsClassifier(algorithm='auto', leaf_size=30, metric='minkowski',\n",
      "           metric_params=None, n_jobs=None, n_neighbors=5, p=2,\n",
      "           weights='distance')\n"
     ]
    },
    {
     "data": {
      "image/png": "[encoded data removed]",
      "text/plain": [
       "<Figure size 432x288 with 1 Axes>"
      ]
     },
     "metadata": {},
     "output_type": "display_data"
    },
    {
     "name": "stdout",
     "output_type": "stream",
     "text": [
      "Calculating Savings to component df_gen_bear\n",
      "Trainning component df_transformer\n"
     ]
    },
    {
     "name": "stderr",
     "output_type": "stream",
     "text": [
      "c:\\users\\ricar\\.venvs\\lewagon\\lib\\site-packages\\sklearn\\model_selection\\_search.py:842: DeprecationWarning: The default of the `iid` parameter will change from True to False in version 0.22 and will be removed in 0.24. This will change numeric results when test-set sizes are unequal.\n",
      "  DeprecationWarning)\n"
     ]
    },
    {
     "name": "stdout",
     "output_type": "stream",
     "text": [
      "\n",
      "Best Parameters:\n",
      " KNeighborsClassifier(algorithm='auto', leaf_size=30, metric='minkowski',\n",
      "           metric_params=None, n_jobs=None, n_neighbors=5, p=2,\n",
      "           weights='uniform')\n"
     ]
    },
    {
     "data": {
      "image/png": "[encoded data removed]",
      "text/plain": [
       "<Figure size 432x288 with 1 Axes>"
      ]
     },
     "metadata": {},
     "output_type": "display_data"
    },
    {
     "name": "stdout",
     "output_type": "stream",
     "text": [
      "Calculating Savings to component df_transformer\n",
      "Trainning component df_gearbox\n"
     ]
    },
    {
     "name": "stderr",
     "output_type": "stream",
     "text": [
      "c:\\users\\ricar\\.venvs\\lewagon\\lib\\site-packages\\sklearn\\model_selection\\_search.py:842: DeprecationWarning: The default of the `iid` parameter will change from True to False in version 0.22 and will be removed in 0.24. This will change numeric results when test-set sizes are unequal.\n",
      "  DeprecationWarning)\n",
      "c:\\users\\ricar\\.venvs\\lewagon\\lib\\site-packages\\sklearn\\metrics\\ranking.py:656: UndefinedMetricWarning: No positive samples in y_true, true positive value should be meaningless\n",
      "  UndefinedMetricWarning)\n"
     ]
    },
    {
     "name": "stdout",
     "output_type": "stream",
     "text": [
      "\n",
      "Best Parameters:\n",
      " KNeighborsClassifier(algorithm='auto', leaf_size=30, metric='minkowski',\n",
      "           metric_params=None, n_jobs=None, n_neighbors=5, p=2,\n",
      "           weights='distance')\n"
     ]
    },
    {
     "data": {
      "image/png": "[encoded data removed]",
      "text/plain": [
       "<Figure size 432x288 with 1 Axes>"
      ]
     },
     "metadata": {},
     "output_type": "display_data"
    },
    {
     "name": "stdout",
     "output_type": "stream",
     "text": [
      "Calculating Savings to component df_gearbox\n"
     ]
    }
   ],
   "source": [
    "# Correr o mesmo modelo para todos os componentes\n",
    "for key in x_train:\n",
    "    print(f'Trainning component {key}')\n",
    "    # Train the model\n",
    "    model_name = 'KNN_Classifier'\n",
    "    clf_knn = KNeighborsClassifier()\n",
    "    gs_params = {\n",
    "        'n_neighbors': [5, 7, 10, 15],\n",
    "        'weights': ['uniform', 'distance']\n",
    "    }\n",
    "    gs_score = 'recall'\n",
    "\n",
    "    clf_knn, pred_knn = dprep.bin_classify(model_name,\n",
    "                                           clf_knn,\n",
    "                                           x_train[key],\n",
    "                                           x_test[key],\n",
    "                                           y_train[key],\n",
    "                                           y_test[key],\n",
    "                                           params=gs_params,\n",
    "                                           score=gs_score)\n",
    "    print('\\nBest Parameters:\\n', clf_knn)\n",
    "    # Obtain metrics\n",
    "    metrics_dict_miguel = dprep.metrics(y_test[key], pred_knn.y_pred,\n",
    "                                        pred_knn.y_score)\n",
    "    conf_matrix = dprep.conf_matrix(y_test[key], pred_knn.y_pred)\n",
    "    dprep.roc_curve_plot(y_test[key], pred_knn.y_score)\n",
    "\n",
    "    print(f'Calculating Savings to component {key}')\n",
    "    # Calculate savings\n",
    "    sav, cf_numb, met_df, dias = dprep.metrics_create_df(df_test_dict[key],\n",
    "                                                   y_test[key],\n",
    "                                                   pred_knn.y_pred.values,\n",
    "                                                   key, 15)\n",
    "\n",
    "    # Store metrics to compare\n",
    "    metrics_dict['try_' + str(tentativa)] = {\n",
    "        'Componente': key,\n",
    "        'Nome_modelo': model_name,\n",
    "        'dias_var_alvo': col_to_mantain_test,\n",
    "        'feature_selection': 'Guilherme',\n",
    "        'Agrup_por': Agrup_por,\n",
    "        'add_features': 'smooth only',\n",
    "        'per_test': per_test,\n",
    "        'model': model_name,\n",
    "        'Metrics': metrics_dict_miguel,\n",
    "        'cf_matriX_log_reg': conf_matrix,\n",
    "        'Savings': sav,\n",
    "        'cf_bussines_numbers': cf_numb\n",
    "    }\n",
    "    tentativa = tentativa + 1"
   ]
  },
  {
   "cell_type": "code",
   "execution_count": 76,
   "metadata": {
    "ExecuteTime": {
     "end_time": "2021-02-16T22:23:12.673458Z",
     "start_time": "2021-02-16T22:23:12.548791Z"
    }
   },
   "outputs": [
    {
     "name": "stdout",
     "output_type": "stream",
     "text": [
      "df_generator 20000.0\n",
      "df_hydraulic -26000\n",
      "df_gen_bear 1375.0\n",
      "df_transformer 32225.0\n",
      "df_gearbox -50000\n"
     ]
    },
    {
     "data": {
      "text/plain": [
       "-22400.0"
      ]
     },
     "execution_count": 76,
     "metadata": {},
     "output_type": "execute_result"
    }
   ],
   "source": [
    "Savings = 0\n",
    "for i in metrics_dict:\n",
    "    if metrics_dict[i]['Nome_modelo'] == 'KNN_Classifier':\n",
    "        Savings = Savings + metrics_dict[i]['Savings']\n",
    "        print(metrics_dict[i]['Componente'], metrics_dict[i]['Savings'])\n",
    "Savings        "
   ]
  },
  {
   "cell_type": "markdown",
   "metadata": {},
   "source": [
    "# Model Training - AdaBoostClassifier"
   ]
  },
  {
   "cell_type": "code",
   "execution_count": 77,
   "metadata": {
    "ExecuteTime": {
     "end_time": "2021-02-16T22:25:54.874951Z",
     "start_time": "2021-02-16T22:23:12.676451Z"
    }
   },
   "outputs": [
    {
     "name": "stdout",
     "output_type": "stream",
     "text": [
      "Trainning component df_generator\n"
     ]
    },
    {
     "name": "stderr",
     "output_type": "stream",
     "text": [
      "c:\\users\\ricar\\.venvs\\lewagon\\lib\\site-packages\\sklearn\\model_selection\\_search.py:842: DeprecationWarning: The default of the `iid` parameter will change from True to False in version 0.22 and will be removed in 0.24. This will change numeric results when test-set sizes are unequal.\n",
      "  DeprecationWarning)\n"
     ]
    },
    {
     "name": "stdout",
     "output_type": "stream",
     "text": [
      "\n",
      "Best Parameters:\n",
      " AdaBoostClassifier(algorithm='SAMME.R', base_estimator=None,\n",
      "          learning_rate=1.0, n_estimators=500, random_state=42)\n"
     ]
    },
    {
     "data": {
      "image/png": "[encoded data removed]",
      "text/plain": [
       "<Figure size 432x288 with 1 Axes>"
      ]
     },
     "metadata": {},
     "output_type": "display_data"
    },
    {
     "name": "stdout",
     "output_type": "stream",
     "text": [
      "Calculating Savings to component df_generator\n",
      "Trainning component df_hydraulic\n"
     ]
    },
    {
     "name": "stderr",
     "output_type": "stream",
     "text": [
      "c:\\users\\ricar\\.venvs\\lewagon\\lib\\site-packages\\sklearn\\model_selection\\_search.py:842: DeprecationWarning: The default of the `iid` parameter will change from True to False in version 0.22 and will be removed in 0.24. This will change numeric results when test-set sizes are unequal.\n",
      "  DeprecationWarning)\n"
     ]
    },
    {
     "name": "stdout",
     "output_type": "stream",
     "text": [
      "\n",
      "Best Parameters:\n",
      " AdaBoostClassifier(algorithm='SAMME.R', base_estimator=None,\n",
      "          learning_rate=1.0, n_estimators=100, random_state=42)\n"
     ]
    },
    {
     "data": {
      "image/png": "[encoded data removed]",
      "text/plain": [
       "<Figure size 432x288 with 1 Axes>"
      ]
     },
     "metadata": {},
     "output_type": "display_data"
    },
    {
     "name": "stdout",
     "output_type": "stream",
     "text": [
      "Calculating Savings to component df_hydraulic\n",
      "Trainning component df_gen_bear\n"
     ]
    },
    {
     "name": "stderr",
     "output_type": "stream",
     "text": [
      "c:\\users\\ricar\\.venvs\\lewagon\\lib\\site-packages\\sklearn\\model_selection\\_search.py:842: DeprecationWarning: The default of the `iid` parameter will change from True to False in version 0.22 and will be removed in 0.24. This will change numeric results when test-set sizes are unequal.\n",
      "  DeprecationWarning)\n"
     ]
    },
    {
     "name": "stdout",
     "output_type": "stream",
     "text": [
      "\n",
      "Best Parameters:\n",
      " AdaBoostClassifier(algorithm='SAMME.R', base_estimator=None,\n",
      "          learning_rate=1.0, n_estimators=500, random_state=42)\n"
     ]
    },
    {
     "data": {
      "image/png": "[encoded data removed]",
      "text/plain": [
       "<Figure size 432x288 with 1 Axes>"
      ]
     },
     "metadata": {},
     "output_type": "display_data"
    },
    {
     "name": "stdout",
     "output_type": "stream",
     "text": [
      "Calculating Savings to component df_gen_bear\n",
      "Trainning component df_transformer\n"
     ]
    },
    {
     "name": "stderr",
     "output_type": "stream",
     "text": [
      "c:\\users\\ricar\\.venvs\\lewagon\\lib\\site-packages\\sklearn\\model_selection\\_search.py:842: DeprecationWarning: The default of the `iid` parameter will change from True to False in version 0.22 and will be removed in 0.24. This will change numeric results when test-set sizes are unequal.\n",
      "  DeprecationWarning)\n"
     ]
    },
    {
     "name": "stdout",
     "output_type": "stream",
     "text": [
      "\n",
      "Best Parameters:\n",
      " AdaBoostClassifier(algorithm='SAMME.R', base_estimator=None,\n",
      "          learning_rate=1.0, n_estimators=200, random_state=42)\n"
     ]
    },
    {
     "data": {
      "image/png": "[encoded data removed]",
      "text/plain": [
       "<Figure size 432x288 with 1 Axes>"
      ]
     },
     "metadata": {},
     "output_type": "display_data"
    },
    {
     "name": "stdout",
     "output_type": "stream",
     "text": [
      "Calculating Savings to component df_transformer\n",
      "Trainning component df_gearbox\n"
     ]
    },
    {
     "name": "stderr",
     "output_type": "stream",
     "text": [
      "c:\\users\\ricar\\.venvs\\lewagon\\lib\\site-packages\\sklearn\\model_selection\\_search.py:842: DeprecationWarning: The default of the `iid` parameter will change from True to False in version 0.22 and will be removed in 0.24. This will change numeric results when test-set sizes are unequal.\n",
      "  DeprecationWarning)\n"
     ]
    },
    {
     "name": "stdout",
     "output_type": "stream",
     "text": [
      "\n",
      "Best Parameters:\n",
      " AdaBoostClassifier(algorithm='SAMME.R', base_estimator=None,\n",
      "          learning_rate=1.0, n_estimators=100, random_state=42)\n"
     ]
    },
    {
     "name": "stderr",
     "output_type": "stream",
     "text": [
      "c:\\users\\ricar\\.venvs\\lewagon\\lib\\site-packages\\sklearn\\metrics\\ranking.py:656: UndefinedMetricWarning: No positive samples in y_true, true positive value should be meaningless\n",
      "  UndefinedMetricWarning)\n"
     ]
    },
    {
     "data": {
      "image/png": "[encoded data removed]",
      "text/plain": [
       "<Figure size 432x288 with 1 Axes>"
      ]
     },
     "metadata": {},
     "output_type": "display_data"
    },
    {
     "name": "stdout",
     "output_type": "stream",
     "text": [
      "Calculating Savings to component df_gearbox\n"
     ]
    }
   ],
   "source": [
    "# Correr o mesmo modelo para todos os componentes\n",
    "for key in x_train:\n",
    "    print(f'Trainning component {key}')\n",
    "    # Train the model\n",
    "    model_name = 'AdaBoostClassifier'\n",
    "    clf_abc = AdaBoostClassifier(random_state=42)\n",
    "    gs_params = {'n_estimators': [50, 100, 200, 300, 500]}\n",
    "    gs_score = 'recall'\n",
    "\n",
    "    clf_abc, pred_abc = dprep.bin_classify(model_name,\n",
    "                                           clf_abc,\n",
    "                                           x_train[key],\n",
    "                                           x_test[key],\n",
    "                                           y_train[key],\n",
    "                                           y_test[key],\n",
    "                                           params=gs_params,\n",
    "                                           score=gs_score)\n",
    "    print('\\nBest Parameters:\\n', clf_abc)\n",
    "    # Obtain metrics\n",
    "    metrics_dict_miguel = dprep.metrics(y_test[key], pred_abc.y_pred,\n",
    "                                        pred_abc.y_score)\n",
    "    conf_matrix = dprep.conf_matrix(y_test[key], pred_abc.y_pred)\n",
    "    dprep.roc_curve_plot(y_test[key], pred_abc.y_score)\n",
    "\n",
    "    print(f'Calculating Savings to component {key}')\n",
    "    # Calculate savings\n",
    "    sav, cf_numb, met_df, dias = dprep.metrics_create_df(df_test_dict[key],\n",
    "                                                   y_test[key],\n",
    "                                                   pred_abc.y_pred.values,\n",
    "                                                   key, 15)\n",
    "\n",
    "    # Store metrics to compare\n",
    "    metrics_dict['try_' + str(tentativa)] = {\n",
    "        'Componente': key,\n",
    "        'Nome_modelo': model_name,\n",
    "        'dias_var_alvo': col_to_mantain_test,\n",
    "        'feature_selection': 'Guilherme',\n",
    "        'Agrup_por': Agrup_por,\n",
    "        'add_features': 'smooth only',\n",
    "        'per_test': per_test,\n",
    "        'model': model_name,\n",
    "        'Metrics': metrics_dict_miguel,\n",
    "        'cf_matriX_log_reg': conf_matrix,\n",
    "        'Savings': sav,\n",
    "        'cf_bussines_numbers': cf_numb\n",
    "    }\n",
    "    tentativa = tentativa + 1"
   ]
  },
  {
   "cell_type": "code",
   "execution_count": 78,
   "metadata": {
    "ExecuteTime": {
     "end_time": "2021-02-16T22:25:54.970483Z",
     "start_time": "2021-02-16T22:25:54.876733Z"
    }
   },
   "outputs": [
    {
     "name": "stdout",
     "output_type": "stream",
     "text": [
      "df_generator 5000.0\n",
      "df_hydraulic -40000\n",
      "df_gen_bear -5000.0\n",
      "df_transformer 39725.0\n",
      "df_gearbox -45000\n"
     ]
    },
    {
     "data": {
      "text/plain": [
       "-45275.0"
      ]
     },
     "execution_count": 78,
     "metadata": {},
     "output_type": "execute_result"
    }
   ],
   "source": [
    "Savings = 0\n",
    "for i in metrics_dict:\n",
    "    if metrics_dict[i]['Nome_modelo'] == 'AdaBoostClassifier':\n",
    "        Savings = Savings + metrics_dict[i]['Savings']\n",
    "        print(metrics_dict[i]['Componente'], metrics_dict[i]['Savings'])\n",
    "Savings        "
   ]
  },
  {
   "cell_type": "code",
   "execution_count": 79,
   "metadata": {
    "ExecuteTime": {
     "end_time": "2021-02-16T22:25:55.079713Z",
     "start_time": "2021-02-16T22:25:54.973476Z"
    }
   },
   "outputs": [],
   "source": [
    "import csv\n",
    "\n",
    "w = csv.writer(open(nome_ficheiro + \".csv\", \"w\"))\n",
    "for key, val in metrics_dict.items():\n",
    "    w.writerow([key, val])"
   ]
  },
  {
   "cell_type": "markdown",
   "metadata": {},
   "source": [
    "# Cria de DF para avaliação de métricas"
   ]
  },
  {
   "cell_type": "code",
   "execution_count": 80,
   "metadata": {
    "ExecuteTime": {
     "end_time": "2021-02-16T22:25:55.158869Z",
     "start_time": "2021-02-16T22:25:55.080715Z"
    }
   },
   "outputs": [
    {
     "data": {
      "text/plain": [
       "-45000"
      ]
     },
     "execution_count": 80,
     "metadata": {},
     "output_type": "execute_result"
    }
   ],
   "source": [
    "sav"
   ]
  },
  {
   "cell_type": "code",
   "execution_count": 81,
   "metadata": {
    "ExecuteTime": {
     "end_time": "2021-02-16T22:25:55.237847Z",
     "start_time": "2021-02-16T22:25:55.159867Z"
    }
   },
   "outputs": [
    {
     "data": {
      "text/plain": [
       "{'TP': 0, 'TN': 428, 'FP': 9, 'FN': 0}"
      ]
     },
     "execution_count": 81,
     "metadata": {},
     "output_type": "execute_result"
    }
   ],
   "source": [
    "cf_numb"
   ]
  },
  {
   "cell_type": "code",
   "execution_count": 82,
   "metadata": {
    "ExecuteTime": {
     "end_time": "2021-02-16T22:25:55.332149Z",
     "start_time": "2021-02-16T22:25:55.242645Z"
    }
   },
   "outputs": [
    {
     "data": {
      "text/html": [
       "<div>\n",
       "<style scoped>\n",
       "    .dataframe tbody tr th:only-of-type {\n",
       "        vertical-align: middle;\n",
       "    }\n",
       "\n",
       "    .dataframe tbody tr th {\n",
       "        vertical-align: top;\n",
       "    }\n",
       "\n",
       "    .dataframe thead th {\n",
       "        text-align: right;\n",
       "    }\n",
       "</style>\n",
       "<table border=\"1\" class=\"dataframe\">\n",
       "  <thead>\n",
       "    <tr style=\"text-align: right;\">\n",
       "      <th></th>\n",
       "      <th>Date</th>\n",
       "      <th>Turbine_ID</th>\n",
       "      <th>TTF</th>\n",
       "      <th>y_test</th>\n",
       "      <th>y_pred</th>\n",
       "      <th>TP</th>\n",
       "      <th>TN</th>\n",
       "      <th>FP</th>\n",
       "      <th>FN</th>\n",
       "      <th>new_FP</th>\n",
       "    </tr>\n",
       "  </thead>\n",
       "  <tbody>\n",
       "    <tr>\n",
       "      <th>17</th>\n",
       "      <td>2017-06-18</td>\n",
       "      <td>T01</td>\n",
       "      <td>0.0</td>\n",
       "      <td>0</td>\n",
       "      <td>1</td>\n",
       "      <td>0</td>\n",
       "      <td>0</td>\n",
       "      <td>1</td>\n",
       "      <td>0</td>\n",
       "      <td>1.0</td>\n",
       "    </tr>\n",
       "    <tr>\n",
       "      <th>47</th>\n",
       "      <td>2017-07-18</td>\n",
       "      <td>T01</td>\n",
       "      <td>0.0</td>\n",
       "      <td>0</td>\n",
       "      <td>1</td>\n",
       "      <td>0</td>\n",
       "      <td>0</td>\n",
       "      <td>1</td>\n",
       "      <td>0</td>\n",
       "      <td>1.0</td>\n",
       "    </tr>\n",
       "    <tr>\n",
       "      <th>86</th>\n",
       "      <td>2017-08-26</td>\n",
       "      <td>T01</td>\n",
       "      <td>0.0</td>\n",
       "      <td>0</td>\n",
       "      <td>1</td>\n",
       "      <td>0</td>\n",
       "      <td>0</td>\n",
       "      <td>1</td>\n",
       "      <td>0</td>\n",
       "      <td>1.0</td>\n",
       "    </tr>\n",
       "    <tr>\n",
       "      <th>151</th>\n",
       "      <td>2017-07-29</td>\n",
       "      <td>T06</td>\n",
       "      <td>0.0</td>\n",
       "      <td>0</td>\n",
       "      <td>1</td>\n",
       "      <td>0</td>\n",
       "      <td>0</td>\n",
       "      <td>1</td>\n",
       "      <td>0</td>\n",
       "      <td>1.0</td>\n",
       "    </tr>\n",
       "    <tr>\n",
       "      <th>201</th>\n",
       "      <td>2017-06-16</td>\n",
       "      <td>T07</td>\n",
       "      <td>0.0</td>\n",
       "      <td>0</td>\n",
       "      <td>1</td>\n",
       "      <td>0</td>\n",
       "      <td>0</td>\n",
       "      <td>1</td>\n",
       "      <td>0</td>\n",
       "      <td>1.0</td>\n",
       "    </tr>\n",
       "    <tr>\n",
       "      <th>334</th>\n",
       "      <td>2017-07-26</td>\n",
       "      <td>T09</td>\n",
       "      <td>0.0</td>\n",
       "      <td>0</td>\n",
       "      <td>1</td>\n",
       "      <td>0</td>\n",
       "      <td>0</td>\n",
       "      <td>1</td>\n",
       "      <td>0</td>\n",
       "      <td>1.0</td>\n",
       "    </tr>\n",
       "    <tr>\n",
       "      <th>393</th>\n",
       "      <td>2017-06-22</td>\n",
       "      <td>T11</td>\n",
       "      <td>0.0</td>\n",
       "      <td>0</td>\n",
       "      <td>1</td>\n",
       "      <td>0</td>\n",
       "      <td>0</td>\n",
       "      <td>1</td>\n",
       "      <td>0</td>\n",
       "      <td>1.0</td>\n",
       "    </tr>\n",
       "    <tr>\n",
       "      <th>417</th>\n",
       "      <td>2017-07-16</td>\n",
       "      <td>T11</td>\n",
       "      <td>0.0</td>\n",
       "      <td>0</td>\n",
       "      <td>1</td>\n",
       "      <td>0</td>\n",
       "      <td>0</td>\n",
       "      <td>1</td>\n",
       "      <td>0</td>\n",
       "      <td>1.0</td>\n",
       "    </tr>\n",
       "    <tr>\n",
       "      <th>452</th>\n",
       "      <td>2017-08-20</td>\n",
       "      <td>T11</td>\n",
       "      <td>0.0</td>\n",
       "      <td>0</td>\n",
       "      <td>1</td>\n",
       "      <td>0</td>\n",
       "      <td>0</td>\n",
       "      <td>1</td>\n",
       "      <td>0</td>\n",
       "      <td>1.0</td>\n",
       "    </tr>\n",
       "  </tbody>\n",
       "</table>\n",
       "</div>"
      ],
      "text/plain": [
       "          Date Turbine_ID  TTF  y_test  y_pred  TP  TN  FP  FN  new_FP\n",
       "17  2017-06-18        T01  0.0       0       1   0   0   1   0     1.0\n",
       "47  2017-07-18        T01  0.0       0       1   0   0   1   0     1.0\n",
       "86  2017-08-26        T01  0.0       0       1   0   0   1   0     1.0\n",
       "151 2017-07-29        T06  0.0       0       1   0   0   1   0     1.0\n",
       "201 2017-06-16        T07  0.0       0       1   0   0   1   0     1.0\n",
       "334 2017-07-26        T09  0.0       0       1   0   0   1   0     1.0\n",
       "393 2017-06-22        T11  0.0       0       1   0   0   1   0     1.0\n",
       "417 2017-07-16        T11  0.0       0       1   0   0   1   0     1.0\n",
       "452 2017-08-20        T11  0.0       0       1   0   0   1   0     1.0"
      ]
     },
     "execution_count": 82,
     "metadata": {},
     "output_type": "execute_result"
    }
   ],
   "source": [
    "met_df[met_df.FP==1][met_df[met_df.FP==1].new_FP==1]"
   ]
  },
  {
   "cell_type": "code",
   "execution_count": null,
   "metadata": {},
   "outputs": [],
   "source": []
  },
  {
   "cell_type": "code",
   "execution_count": null,
   "metadata": {},
   "outputs": [],
   "source": []
  }
 ],
 "metadata": {
  "kernelspec": {
   "display_name": "Python 3",
   "language": "python",
   "name": "python3"
  },
  "language_info": {
   "codemirror_mode": {
    "name": "ipython",
    "version": 3
   },
   "file_extension": ".py",
   "mimetype": "text/x-python",
   "name": "python",
   "nbconvert_exporter": "python",
   "pygments_lexer": "ipython3",
   "version": "3.7.2"
  },
  "toc": {
   "base_numbering": "",
   "nav_menu": {},
   "number_sections": true,
   "sideBar": true,
   "skip_h1_title": true,
   "title_cell": "Table of Contents",
   "title_sidebar": "Contents",
   "toc_cell": true,
   "toc_position": {},
   "toc_section_display": false,
   "toc_window_display": false
  }
 },
 "nbformat": 4,
 "nbformat_minor": 4
}
