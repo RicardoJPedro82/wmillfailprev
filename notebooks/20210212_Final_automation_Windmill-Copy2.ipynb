{
 "cells": [
  {
   "cell_type": "markdown",
   "metadata": {
    "toc": true
   },
   "source": [
    "<h1>Table of Contents<span class=\"tocSkip\"></span></h1>\n",
    "<div class=\"toc\"><ul class=\"toc-item\"></ul></div>"
   ]
  },
  {
   "cell_type": "markdown",
   "metadata": {},
   "source": [
    "# Importar os módulos"
   ]
  },
  {
   "cell_type": "code",
   "execution_count": 1,
   "metadata": {
    "ExecuteTime": {
     "end_time": "2021-02-19T19:08:57.931982Z",
     "start_time": "2021-02-19T19:08:55.930885Z"
    }
   },
   "outputs": [],
   "source": [
    "%load_ext autoreload\n",
    "%autoreload 2\n",
    "import os\n",
    "import pandas as pd\n",
    "import numpy as np\n",
    "import datetime\n",
    "import seaborn as sns\n",
    "import matplotlib.pyplot as plt\n",
    "import Dataset_transf as dprep\n",
    "from sklearn.preprocessing import OneHotEncoder\n",
    "from sklearn.preprocessing import StandardScaler\n",
    "from sklearn import metrics, model_selection\n",
    "from sklearn.linear_model import LogisticRegression\n",
    "from sklearn.ensemble import RandomForestClassifier\n",
    "from sklearn.svm import SVC, LinearSVC\n",
    "from sklearn.tree import DecisionTreeClassifier, export_graphviz\n",
    "from sklearn.neighbors import KNeighborsClassifier\n",
    "from sklearn.naive_bayes import GaussianNB\n",
    "from sklearn.metrics import roc_auc_score, accuracy_score, log_loss, roc_curve, precision_score, recall_score, confusion_matrix, f1_score, fbeta_score, make_scorer\n",
    "from sklearn.preprocessing import MinMaxScaler\n",
    "from sklearn.ensemble import GradientBoostingClassifier\n",
    "from sklearn.svm import SVC, LinearSVC\n",
    "from sklearn.tree import DecisionTreeClassifier\n",
    "from sklearn.neighbors import KNeighborsClassifier\n",
    "from sklearn.ensemble import BaggingClassifier\n",
    "from sklearn.ensemble import AdaBoostClassifier\n",
    "from sklearn.ensemble import ExtraTreesClassifier\n",
    "from sklearn import model_selection\n",
    "import Miguel_class_scaler as mig\n",
    "import trainer as tr\n",
    "from sklearn.pipeline import Pipeline, make_pipeline"
   ]
  },
  {
   "cell_type": "markdown",
   "metadata": {},
   "source": [
    "# Obter os dataframes dos ficheiros"
   ]
  },
  {
   "cell_type": "code",
   "execution_count": 2,
   "metadata": {
    "ExecuteTime": {
     "end_time": "2021-02-19T19:08:58.039659Z",
     "start_time": "2021-02-19T19:08:57.938934Z"
    }
   },
   "outputs": [],
   "source": [
    "metrics_dict={}\n",
    "tentativa = 0\n",
    "nome_ficheiro = 'Resultados60diassemtresholdnodia16'"
   ]
  },
  {
   "cell_type": "code",
   "execution_count": 3,
   "metadata": {
    "ExecuteTime": {
     "end_time": "2021-02-19T19:09:46.163619Z",
     "start_time": "2021-02-19T19:08:58.043650Z"
    }
   },
   "outputs": [],
   "source": [
    "failures_df, signals_df, logs_df = dprep.get_data()"
   ]
  },
  {
   "cell_type": "code",
   "execution_count": 4,
   "metadata": {
    "ExecuteTime": {
     "end_time": "2021-02-19T19:09:46.304306Z",
     "start_time": "2021-02-19T19:09:46.165616Z"
    }
   },
   "outputs": [
    {
     "data": {
      "text/html": [
       "<div>\n",
       "<style scoped>\n",
       "    .dataframe tbody tr th:only-of-type {\n",
       "        vertical-align: middle;\n",
       "    }\n",
       "\n",
       "    .dataframe tbody tr th {\n",
       "        vertical-align: top;\n",
       "    }\n",
       "\n",
       "    .dataframe thead th {\n",
       "        text-align: right;\n",
       "    }\n",
       "</style>\n",
       "<table border=\"1\" class=\"dataframe\">\n",
       "  <thead>\n",
       "    <tr style=\"text-align: right;\">\n",
       "      <th></th>\n",
       "      <th>Turbine_ID</th>\n",
       "      <th>Component</th>\n",
       "      <th>Timestamp</th>\n",
       "    </tr>\n",
       "  </thead>\n",
       "  <tbody>\n",
       "    <tr>\n",
       "      <th>18</th>\n",
       "      <td>T07</td>\n",
       "      <td>HYDRAULIC_GROUP</td>\n",
       "      <td>2017-06-17 11:30:00</td>\n",
       "    </tr>\n",
       "    <tr>\n",
       "      <th>19</th>\n",
       "      <td>T01</td>\n",
       "      <td>TRANSFORMER</td>\n",
       "      <td>2017-08-11 13:10:00</td>\n",
       "    </tr>\n",
       "    <tr>\n",
       "      <th>20</th>\n",
       "      <td>T06</td>\n",
       "      <td>HYDRAULIC_GROUP</td>\n",
       "      <td>2017-08-19 09:40:00</td>\n",
       "    </tr>\n",
       "    <tr>\n",
       "      <th>21</th>\n",
       "      <td>T07</td>\n",
       "      <td>GENERATOR_BEARING</td>\n",
       "      <td>2017-08-20 06:00:00</td>\n",
       "    </tr>\n",
       "    <tr>\n",
       "      <th>22</th>\n",
       "      <td>T07</td>\n",
       "      <td>GENERATOR</td>\n",
       "      <td>2017-08-21 14:40:00</td>\n",
       "    </tr>\n",
       "  </tbody>\n",
       "</table>\n",
       "</div>"
      ],
      "text/plain": [
       "   Turbine_ID          Component           Timestamp\n",
       "18        T07    HYDRAULIC_GROUP 2017-06-17 11:30:00\n",
       "19        T01        TRANSFORMER 2017-08-11 13:10:00\n",
       "20        T06    HYDRAULIC_GROUP 2017-08-19 09:40:00\n",
       "21        T07  GENERATOR_BEARING 2017-08-20 06:00:00\n",
       "22        T07          GENERATOR 2017-08-21 14:40:00"
      ]
     },
     "execution_count": 4,
     "metadata": {},
     "output_type": "execute_result"
    }
   ],
   "source": [
    "failures_df[failures_df.Timestamp >= '2017-06-01']"
   ]
  },
  {
   "cell_type": "code",
   "execution_count": 5,
   "metadata": {
    "ExecuteTime": {
     "end_time": "2021-02-19T19:09:46.426717Z",
     "start_time": "2021-02-19T19:09:46.308283Z"
    }
   },
   "outputs": [
    {
     "data": {
      "text/plain": [
       "GENERATOR            7\n",
       "GENERATOR_BEARING    6\n",
       "HYDRAULIC_GROUP      5\n",
       "TRANSFORMER          3\n",
       "GEARBOX              2\n",
       "Name: Component, dtype: int64"
      ]
     },
     "execution_count": 5,
     "metadata": {},
     "output_type": "execute_result"
    }
   ],
   "source": [
    "failures_df.Component.value_counts()"
   ]
  },
  {
   "cell_type": "code",
   "execution_count": 6,
   "metadata": {
    "ExecuteTime": {
     "end_time": "2021-02-19T19:09:46.534428Z",
     "start_time": "2021-02-19T19:09:46.428710Z"
    }
   },
   "outputs": [],
   "source": [
    "df_dict = {'failures_df':failures_df, 'signals_df':signals_df, 'logs_df':logs_df}"
   ]
  },
  {
   "cell_type": "code",
   "execution_count": 7,
   "metadata": {
    "ExecuteTime": {
     "end_time": "2021-02-19T19:09:46.645166Z",
     "start_time": "2021-02-19T19:09:46.538418Z"
    }
   },
   "outputs": [
    {
     "name": "stdout",
     "output_type": "stream",
     "text": [
      "failures_df (23, 3)\n",
      "signals_df (434145, 81)\n",
      "logs_df (256231, 3)\n"
     ]
    }
   ],
   "source": [
    "for key in df_dict:\n",
    "    print(key, df_dict[key].shape)"
   ]
  },
  {
   "cell_type": "markdown",
   "metadata": {},
   "source": [
    "# Criação de datasets de components"
   ]
  },
  {
   "cell_type": "code",
   "execution_count": 8,
   "metadata": {
    "ExecuteTime": {
     "end_time": "2021-02-19T19:09:47.021383Z",
     "start_time": "2021-02-19T19:09:46.650117Z"
    }
   },
   "outputs": [],
   "source": [
    "df_generator, df_gen_bear, df_transformer, df_hydraulic, df_gearbox = dprep.component_df_creation(signals_df)"
   ]
  },
  {
   "cell_type": "code",
   "execution_count": 9,
   "metadata": {
    "ExecuteTime": {
     "end_time": "2021-02-19T19:09:47.114185Z",
     "start_time": "2021-02-19T19:09:47.024388Z"
    }
   },
   "outputs": [],
   "source": [
    "comp_df_dict = {\n",
    "    'df_generator': df_generator,\n",
    "    'df_hydraulic': df_hydraulic,\n",
    "    'df_gen_bear': df_gen_bear,\n",
    "    'df_transformer': df_transformer,\n",
    "    'df_gearbox': df_gearbox\n",
    "}"
   ]
  },
  {
   "cell_type": "code",
   "execution_count": 10,
   "metadata": {
    "ExecuteTime": {
     "end_time": "2021-02-19T19:09:47.222922Z",
     "start_time": "2021-02-19T19:09:47.116208Z"
    }
   },
   "outputs": [
    {
     "name": "stdout",
     "output_type": "stream",
     "text": [
      "(434145, 45) df_generator\n",
      "(434145, 34) df_hydraulic\n",
      "(434145, 45) df_gen_bear\n",
      "(434145, 36) df_transformer\n",
      "(434145, 33) df_gearbox\n"
     ]
    }
   ],
   "source": [
    "for key in comp_df_dict:\n",
    "    print(comp_df_dict[key].shape, key, )"
   ]
  },
  {
   "cell_type": "code",
   "execution_count": 11,
   "metadata": {
    "ExecuteTime": {
     "end_time": "2021-02-19T19:09:47.333780Z",
     "start_time": "2021-02-19T19:09:47.224918Z"
    }
   },
   "outputs": [
    {
     "data": {
      "text/plain": [
       "array(['GENERATOR', 'HYDRAULIC_GROUP', 'GENERATOR_BEARING', 'TRANSFORMER',\n",
       "       'GEARBOX'], dtype=object)"
      ]
     },
     "execution_count": 11,
     "metadata": {},
     "output_type": "execute_result"
    }
   ],
   "source": [
    "component_list = failures_df.Component.unique()\n",
    "component_list"
   ]
  },
  {
   "cell_type": "markdown",
   "metadata": {},
   "source": [
    "# Cópia dos df para só carregar uma vez no ficheiro"
   ]
  },
  {
   "cell_type": "code",
   "execution_count": 12,
   "metadata": {
    "ExecuteTime": {
     "end_time": "2021-02-19T19:09:47.441296Z",
     "start_time": "2021-02-19T19:09:47.337686Z"
    }
   },
   "outputs": [],
   "source": [
    "comp_prep_df_dict = comp_df_dict.copy()"
   ]
  },
  {
   "cell_type": "code",
   "execution_count": 13,
   "metadata": {
    "ExecuteTime": {
     "end_time": "2021-02-19T19:09:47.549023Z",
     "start_time": "2021-02-19T19:09:47.443290Z"
    }
   },
   "outputs": [
    {
     "name": "stdout",
     "output_type": "stream",
     "text": [
      "0 df_generator\n",
      "1 df_hydraulic\n",
      "2 df_gen_bear\n",
      "3 df_transformer\n",
      "4 df_gearbox\n"
     ]
    }
   ],
   "source": [
    "for key, i in enumerate(comp_prep_df_dict):\n",
    "    print(key, i)"
   ]
  },
  {
   "cell_type": "markdown",
   "metadata": {},
   "source": [
    "# Merge dos DF com o DF de failures"
   ]
  },
  {
   "cell_type": "code",
   "execution_count": 14,
   "metadata": {
    "ExecuteTime": {
     "end_time": "2021-02-19T19:09:52.745197Z",
     "start_time": "2021-02-19T19:09:47.551999Z"
    }
   },
   "outputs": [],
   "source": [
    "for i, key in enumerate(comp_prep_df_dict):\n",
    "    comp_prep_df_dict[key] = dprep.sig_fail_merge_dfs(sig_df=comp_prep_df_dict[key],\n",
    "                                               fail_df=failures_df,\n",
    "                                               component=component_list[i])"
   ]
  },
  {
   "cell_type": "code",
   "execution_count": 15,
   "metadata": {
    "ExecuteTime": {
     "end_time": "2021-02-19T19:09:52.854770Z",
     "start_time": "2021-02-19T19:09:52.747193Z"
    }
   },
   "outputs": [
    {
     "name": "stdout",
     "output_type": "stream",
     "text": [
      "(434147, 46) df_generator\n",
      "(434145, 35) df_hydraulic\n",
      "(434145, 46) df_gen_bear\n",
      "(434145, 37) df_transformer\n",
      "(434145, 34) df_gearbox\n"
     ]
    }
   ],
   "source": [
    "for key in comp_prep_df_dict:\n",
    "    print(comp_prep_df_dict[key].shape, key)"
   ]
  },
  {
   "cell_type": "markdown",
   "metadata": {},
   "source": [
    "# Fillna by turbine"
   ]
  },
  {
   "cell_type": "code",
   "execution_count": 16,
   "metadata": {
    "ExecuteTime": {
     "end_time": "2021-02-19T19:09:52.982492Z",
     "start_time": "2021-02-19T19:09:52.856792Z"
    }
   },
   "outputs": [
    {
     "data": {
      "text/plain": [
       "array(['T11', 'T06', 'T01', 'T09', 'T07'], dtype=object)"
      ]
     },
     "execution_count": 16,
     "metadata": {},
     "output_type": "execute_result"
    }
   ],
   "source": [
    "turbine_list = signals_df.Turbine_ID.unique()\n",
    "turbine_list"
   ]
  },
  {
   "cell_type": "code",
   "execution_count": 17,
   "metadata": {
    "ExecuteTime": {
     "end_time": "2021-02-19T19:10:03.321727Z",
     "start_time": "2021-02-19T19:09:52.986419Z"
    }
   },
   "outputs": [
    {
     "name": "stderr",
     "output_type": "stream",
     "text": [
      "C:\\Users\\ricar\\code\\RicardoJPedro82\\wmillfailprev\\notebooks\\Dataset_transf.py:160: SettingWithCopyWarning: \n",
      "A value is trying to be set on a copy of a slice from a DataFrame.\n",
      "Try using .loc[row_indexer,col_indexer] = value instead\n",
      "\n",
      "See the caveats in the documentation: http://pandas.pydata.org/pandas-docs/stable/indexing.html#indexing-view-versus-copy\n",
      "  index['date'] = index['Timestamp']\n",
      "C:\\Users\\ricar\\code\\RicardoJPedro82\\wmillfailprev\\notebooks\\Dataset_transf.py:181: FutureWarning: Sorting because non-concatenation axis is not aligned. A future version\n",
      "of pandas will change to not sort by default.\n",
      "\n",
      "To accept the future behavior, pass 'sort=False'.\n",
      "\n",
      "To retain the current behavior and silence the warning, pass 'sort=True'.\n",
      "\n",
      "  df_ = pd.concat([df_, df_final])\n",
      "C:\\Users\\ricar\\code\\RicardoJPedro82\\wmillfailprev\\notebooks\\Dataset_transf.py:173: SettingWithCopyWarning: \n",
      "A value is trying to be set on a copy of a slice from a DataFrame.\n",
      "Try using .loc[row_indexer,col_indexer] = value instead\n",
      "\n",
      "See the caveats in the documentation: http://pandas.pydata.org/pandas-docs/stable/indexing.html#indexing-view-versus-copy\n",
      "  df_merged['date'] = df_merged['Timestamp']\n",
      "C:\\Users\\ricar\\code\\RicardoJPedro82\\wmillfailprev\\notebooks\\Dataset_transf.py:174: SettingWithCopyWarning: \n",
      "A value is trying to be set on a copy of a slice from a DataFrame.\n",
      "Try using .loc[row_indexer,col_indexer] = value instead\n",
      "\n",
      "See the caveats in the documentation: http://pandas.pydata.org/pandas-docs/stable/indexing.html#indexing-view-versus-copy\n",
      "  df_merged['TTF'] = 0 # df_merged['date'] - df_merged['Timestamp']\n"
     ]
    }
   ],
   "source": [
    "for i, key in enumerate(comp_prep_df_dict):\n",
    "    comp_prep_df_dict[key] = dprep.fill_na_by_turbine(comp_prep_df_dict[key],\n",
    "                                                      turbine_list)"
   ]
  },
  {
   "cell_type": "code",
   "execution_count": 18,
   "metadata": {
    "ExecuteTime": {
     "end_time": "2021-02-19T19:10:03.445396Z",
     "start_time": "2021-02-19T19:10:03.323710Z"
    }
   },
   "outputs": [
    {
     "name": "stdout",
     "output_type": "stream",
     "text": [
      "(434147, 47) df_generator\n",
      "(434145, 36) df_hydraulic\n",
      "(434145, 47) df_gen_bear\n",
      "(434145, 38) df_transformer\n",
      "(434145, 35) df_gearbox\n"
     ]
    }
   ],
   "source": [
    "for key in comp_prep_df_dict:\n",
    "    print(comp_prep_df_dict[key].shape, key)"
   ]
  },
  {
   "cell_type": "markdown",
   "metadata": {},
   "source": [
    "# Criação de Variável alvo"
   ]
  },
  {
   "cell_type": "code",
   "execution_count": 19,
   "metadata": {
    "ExecuteTime": {
     "end_time": "2021-02-19T19:10:06.897342Z",
     "start_time": "2021-02-19T19:10:03.449375Z"
    }
   },
   "outputs": [
    {
     "name": "stdout",
     "output_type": "stream",
     "text": [
      "0    47\n",
      "dtype: int64 df_generator\n",
      "0    36\n",
      "dtype: int64 df_hydraulic\n",
      "0    47\n",
      "dtype: int64 df_gen_bear\n",
      "0    38\n",
      "dtype: int64 df_transformer\n",
      "0    35\n",
      "dtype: int64 df_gearbox\n"
     ]
    }
   ],
   "source": [
    "for key in comp_prep_df_dict:\n",
    "    print(comp_prep_df_dict[key].isna().sum().value_counts(), key)"
   ]
  },
  {
   "cell_type": "code",
   "execution_count": 20,
   "metadata": {
    "ExecuteTime": {
     "end_time": "2021-02-19T19:10:07.083841Z",
     "start_time": "2021-02-19T19:10:06.902327Z"
    }
   },
   "outputs": [],
   "source": [
    "days_list = [60]"
   ]
  },
  {
   "cell_type": "code",
   "execution_count": 21,
   "metadata": {
    "ExecuteTime": {
     "end_time": "2021-02-19T19:10:58.502054Z",
     "start_time": "2021-02-19T19:10:07.088827Z"
    }
   },
   "outputs": [],
   "source": [
    "for day in days_list:\n",
    "    for key in comp_prep_df_dict:\n",
    "        comp_prep_df_dict[key] = dprep.aplic_var_target(comp_prep_df_dict[key], day)"
   ]
  },
  {
   "cell_type": "code",
   "execution_count": 22,
   "metadata": {
    "ExecuteTime": {
     "end_time": "2021-02-19T19:10:58.641752Z",
     "start_time": "2021-02-19T19:10:58.504048Z"
    }
   },
   "outputs": [
    {
     "name": "stdout",
     "output_type": "stream",
     "text": [
      "(434147, 48) df_generator\n",
      "(434145, 37) df_hydraulic\n",
      "(434145, 48) df_gen_bear\n",
      "(434145, 39) df_transformer\n",
      "(434145, 36) df_gearbox\n"
     ]
    }
   ],
   "source": [
    "for key in comp_prep_df_dict:\n",
    "    print(comp_prep_df_dict[key].shape, key)"
   ]
  },
  {
   "cell_type": "markdown",
   "metadata": {},
   "source": [
    "# Feature selection"
   ]
  },
  {
   "cell_type": "code",
   "execution_count": 23,
   "metadata": {
    "ExecuteTime": {
     "end_time": "2021-02-19T19:10:58.783375Z",
     "start_time": "2021-02-19T19:10:58.648734Z"
    }
   },
   "outputs": [],
   "source": [
    "gen_features_drop = [\n",
    "    'Gen_RPM_Max', 'Gen_RPM_Min', 'Gen_Phase1_Temp_Avg', 'Gen_Phase3_Temp_Avg',\n",
    "    'Amb_WindSpeed_Est_Avg', 'Grd_RtrInvPhase1_Temp_Avg',\n",
    "    'Grd_RtrInvPhase3_Temp_Avg', 'Rtr_RPM_Max', 'Rtr_RPM_Min',\n",
    "    'Blds_PitchAngle_Max', 'Blds_PitchAngle_Min',\n",
    "    'Prod_LatestAvg_ReactPwrGen1', 'Cont_Hub_Temp_Avg', 'Spin_Temp_Avg',\n",
    "    'Rtr_RPM_Std', 'Rtr_RPM_Avg', 'Cont_VCP_Temp_Avg'\n",
    "]"
   ]
  },
  {
   "cell_type": "code",
   "execution_count": 24,
   "metadata": {
    "ExecuteTime": {
     "end_time": "2021-02-19T19:10:58.922536Z",
     "start_time": "2021-02-19T19:10:58.789357Z"
    }
   },
   "outputs": [],
   "source": [
    "gen_bear_features_drop = [\n",
    "    'Gen_RPM_Max', 'Gen_RPM_Min', 'Gen_Phase1_Temp_Avg', 'Gen_Phase3_Temp_Avg',\n",
    "    'Amb_WindSpeed_Est_Avg', 'Grd_RtrInvPhase1_Temp_Avg',\n",
    "    'Grd_RtrInvPhase3_Temp_Avg', 'Rtr_RPM_Max', 'Rtr_RPM_Min',\n",
    "    'Blds_PitchAngle_Max', 'Blds_PitchAngle_Min',\n",
    "    'Prod_LatestAvg_ReactPwrGen1', 'Cont_Hub_Temp_Avg', 'Spin_Temp_Avg',\n",
    "    'Rtr_RPM_Std', 'Rtr_RPM_Avg', 'Cont_VCP_Temp_Avg'\n",
    "]"
   ]
  },
  {
   "cell_type": "code",
   "execution_count": 25,
   "metadata": {
    "ExecuteTime": {
     "end_time": "2021-02-19T19:10:59.065317Z",
     "start_time": "2021-02-19T19:10:58.928504Z"
    }
   },
   "outputs": [],
   "source": [
    "hyd_features_drop = [\n",
    "    'Rtr_RPM_Max', 'Rtr_RPM_Min', 'Blds_PitchAngle_Max', 'Blds_PitchAngle_Min',\n",
    "    'Blds_PitchAngle_Max', 'Grd_RtrInvPhase3_Temp_Avg', 'Grd_Busbar_Temp_Avg',\n",
    "    'Amb_WindSpeed_Est_Avg', 'Spin_Temp_Avg', 'Cont_Hub_Temp_Avg',\n",
    "    'Grd_RtrInvPhase1_Temp_Avg', 'Cont_VCP_Temp_Avg'\n",
    "]"
   ]
  },
  {
   "cell_type": "code",
   "execution_count": 26,
   "metadata": {
    "ExecuteTime": {
     "end_time": "2021-02-19T19:10:59.174536Z",
     "start_time": "2021-02-19T19:10:59.068309Z"
    }
   },
   "outputs": [],
   "source": [
    "gearbox_features_drop = [\n",
    "    'Rtr_RPM_Max', 'Rtr_RPM_Min', 'Grd_RtrInvPhase1_Temp_Avg',\n",
    "    'Grd_RtrInvPhase3_Temp_Avg', 'Blds_PitchAngle_Min', 'Blds_PitchAngle_Max',\n",
    "    'Cont_VCP_Temp_Avg', 'Grd_Busbar_Temp_Avg', 'Amb_WindSpeed_Est_Avg',\n",
    "    'Spin_Temp_Avg'\n",
    "]"
   ]
  },
  {
   "cell_type": "code",
   "execution_count": 27,
   "metadata": {
    "ExecuteTime": {
     "end_time": "2021-02-19T19:10:59.284242Z",
     "start_time": "2021-02-19T19:10:59.176530Z"
    }
   },
   "outputs": [],
   "source": [
    "transf_features_drop = [\n",
    "    'HVTrafo_Phase1_Temp_Avg', 'HVTrafo_Phase3_Temp_Avg', 'Rtr_RPM_Max',\n",
    "    'Rtr_RPM_Min', 'Grd_RtrInvPhase1_Temp_Avg', 'Grd_RtrInvPhase3_Temp_Avg',\n",
    "    'Blds_PitchAngle_Min', 'Blds_PitchAngle_Max', 'Amb_WindSpeed_Est_Avg',\n",
    "    'Spin_Temp_Avg', 'Cont_VCP_Temp_Avg'\n",
    "]"
   ]
  },
  {
   "cell_type": "code",
   "execution_count": 28,
   "metadata": {
    "ExecuteTime": {
     "end_time": "2021-02-19T19:10:59.392465Z",
     "start_time": "2021-02-19T19:10:59.287747Z"
    }
   },
   "outputs": [],
   "source": [
    "feat_drop_list = [\n",
    "    gen_features_drop, hyd_features_drop, gen_bear_features_drop,\n",
    "    transf_features_drop, gearbox_features_drop\n",
    "]"
   ]
  },
  {
   "cell_type": "code",
   "execution_count": 29,
   "metadata": {
    "ExecuteTime": {
     "end_time": "2021-02-19T19:11:00.229968Z",
     "start_time": "2021-02-19T19:10:59.394462Z"
    },
    "scrolled": true
   },
   "outputs": [
    {
     "name": "stdout",
     "output_type": "stream",
     "text": [
      "A actualizar dataframe 1 de 5\n",
      "A actualizar dataframe 2 de 5\n",
      "A actualizar dataframe 3 de 5\n",
      "A actualizar dataframe 4 de 5\n",
      "A actualizar dataframe 5 de 5\n"
     ]
    }
   ],
   "source": [
    "for i, key in enumerate(comp_prep_df_dict):\n",
    "    print(f'A actualizar dataframe {i+1} de {len(comp_prep_df_dict)}')\n",
    "#     for col in feat_drop_list:\n",
    "#         print(f'A apagar a coluna {col}')\n",
    "    comp_prep_df_dict[key] = comp_prep_df_dict[key].drop(columns=feat_drop_list[i])"
   ]
  },
  {
   "cell_type": "code",
   "execution_count": 30,
   "metadata": {
    "ExecuteTime": {
     "end_time": "2021-02-19T19:11:00.569685Z",
     "start_time": "2021-02-19T19:11:00.236952Z"
    }
   },
   "outputs": [
    {
     "name": "stdout",
     "output_type": "stream",
     "text": [
      "(434147, 31) df_generator\n",
      "(434145, 26) df_hydraulic\n",
      "(434145, 31) df_gen_bear\n",
      "(434145, 28) df_transformer\n",
      "(434145, 26) df_gearbox\n"
     ]
    }
   ],
   "source": [
    "for key in comp_prep_df_dict:\n",
    "    print(comp_prep_df_dict[key].shape, key)"
   ]
  },
  {
   "cell_type": "markdown",
   "metadata": {},
   "source": [
    "# Agrupar pela medida de tempo seleccionada."
   ]
  },
  {
   "cell_type": "code",
   "execution_count": 31,
   "metadata": {
    "ExecuteTime": {
     "end_time": "2021-02-19T19:11:03.649254Z",
     "start_time": "2021-02-19T19:11:00.573674Z"
    }
   },
   "outputs": [],
   "source": [
    "# Passagem para dias\n",
    "Agrup_por = 'Dia'\n",
    "for key in comp_prep_df_dict:\n",
    "    comp_prep_df_dict[key] = dprep.group_por_frequency(comp_prep_df_dict[key], period=Agrup_por)"
   ]
  },
  {
   "cell_type": "code",
   "execution_count": 32,
   "metadata": {
    "ExecuteTime": {
     "end_time": "2021-02-19T19:11:03.820479Z",
     "start_time": "2021-02-19T19:11:03.653242Z"
    }
   },
   "outputs": [
    {
     "name": "stdout",
     "output_type": "stream",
     "text": [
      "(3042, 31) df_generator\n",
      "(3041, 19) df_hydraulic\n",
      "(3041, 18) df_gen_bear\n",
      "(3041, 19) df_transformer\n",
      "(3041, 16) df_gearbox\n"
     ]
    }
   ],
   "source": [
    "# Passagem para dias \n",
    "for key in comp_prep_df_dict:\n",
    "    print(comp_prep_df_dict[key].shape, key)"
   ]
  },
  {
   "cell_type": "markdown",
   "metadata": {},
   "source": [
    "# Adicionar as medidas de alisamento"
   ]
  },
  {
   "cell_type": "code",
   "execution_count": 33,
   "metadata": {
    "ExecuteTime": {
     "end_time": "2021-02-19T19:11:03.975067Z",
     "start_time": "2021-02-19T19:11:03.823472Z"
    }
   },
   "outputs": [],
   "source": [
    "# for key in comp_prep_df_dict:\n",
    "#     comp_prep_df_dict[key] = dprep.add_features(comp_prep_df_dict[key], rolling_win_size=10)"
   ]
  },
  {
   "cell_type": "code",
   "execution_count": 34,
   "metadata": {
    "ExecuteTime": {
     "end_time": "2021-02-19T19:11:04.099738Z",
     "start_time": "2021-02-19T19:11:03.979056Z"
    }
   },
   "outputs": [],
   "source": [
    "# for key in comp_prep_df_dict:\n",
    "#     print(comp_prep_df_dict[key].shape, key)"
   ]
  },
  {
   "cell_type": "code",
   "execution_count": 35,
   "metadata": {
    "ExecuteTime": {
     "end_time": "2021-02-19T19:11:04.239434Z",
     "start_time": "2021-02-19T19:11:04.102731Z"
    }
   },
   "outputs": [],
   "source": [
    "# # Para considerar apenas as rubricas de alisamento\n",
    "# cols_to_drop_generator = [\n",
    "#     'Amb_Temp_Avg', 'Amb_WindDir_Abs_Avg', 'Amb_WindDir_Relative_Avg',\n",
    "#     'Amb_WindSpeed_Avg', 'Amb_WindSpeed_Max', 'Amb_WindSpeed_Min',\n",
    "#     'Amb_WindSpeed_Std', 'Blds_PitchAngle_Avg', 'Blds_PitchAngle_Std',\n",
    "#     'Cont_Top_Temp_Avg', 'Cont_VCP_ChokcoilTemp_Avg',\n",
    "#     'Cont_VCP_WtrTemp_Avg', 'Gen_Bear2_Temp_Avg', 'Gen_Bear_Temp_Avg',\n",
    "#     'Gen_Phase2_Temp_Avg', 'Gen_RPM_Avg', 'Gen_RPM_Std',\n",
    "#     'Gen_SlipRing_Temp_Avg', 'Grd_Busbar_Temp_Avg',\n",
    "#     'Grd_RtrInvPhase2_Temp_Avg', 'Hyd_Oil_Temp_Avg', 'Nac_Direction_Avg',\n",
    "#     'Nac_Temp_Avg', 'Prod_LatestAvg_ActPwrGen0', 'Prod_LatestAvg_ActPwrGen1',\n",
    "#     'Prod_LatestAvg_ReactPwrGen0'\n",
    "# ]"
   ]
  },
  {
   "cell_type": "code",
   "execution_count": 36,
   "metadata": {
    "ExecuteTime": {
     "end_time": "2021-02-19T19:11:04.439518Z",
     "start_time": "2021-02-19T19:11:04.258931Z"
    }
   },
   "outputs": [],
   "source": [
    "# # Para considerar apenas as rubricas de alisamento\n",
    "# cols_to_drop_hyd_group = [\n",
    "#     'Amb_WindDir_Abs_Avg', 'Amb_WindDir_Relative_Avg',\n",
    "#     'Amb_WindSpeed_Avg', 'Amb_WindSpeed_Max', 'Amb_WindSpeed_Min',\n",
    "#     'Amb_WindSpeed_Std', 'Blds_PitchAngle_Avg', 'Blds_PitchAngle_Std',\n",
    "#     'Nac_Direction_Avg', 'Rtr_RPM_Avg', 'Rtr_RPM_Std'\n",
    "# ]"
   ]
  },
  {
   "cell_type": "code",
   "execution_count": 37,
   "metadata": {
    "ExecuteTime": {
     "end_time": "2021-02-19T19:11:04.579146Z",
     "start_time": "2021-02-19T19:11:04.442510Z"
    }
   },
   "outputs": [],
   "source": [
    "# # Para considerar apenas as rubricas de alisamento\n",
    "# cols_to_drop_gen_bear =  ['Amb_WindDir_Abs_Avg', 'Amb_WindDir_Relative_Avg',\n",
    "#        'Amb_WindSpeed_Avg', 'Amb_WindSpeed_Max', 'Amb_WindSpeed_Min',\n",
    "#        'Amb_WindSpeed_Std', 'Blds_PitchAngle_Avg', 'Blds_PitchAngle_Std',\n",
    "#        'Gen_Bear_Temp_Avg', 'Gen_RPM_Avg', 'Gen_RPM_Std',\n",
    "#        'Nac_Direction_Avg', 'Prod_LatestAvg_ActPwrGen1']"
   ]
  },
  {
   "cell_type": "code",
   "execution_count": 38,
   "metadata": {
    "ExecuteTime": {
     "end_time": "2021-02-19T19:11:04.702813Z",
     "start_time": "2021-02-19T19:11:04.582137Z"
    }
   },
   "outputs": [],
   "source": [
    "# # Para considerar apenas as rubricas de alisamento\n",
    "# cols_to_drop_transf = ['Amb_WindDir_Abs_Avg', 'Amb_WindDir_Relative_Avg',\n",
    "#        'Amb_WindSpeed_Avg', 'Amb_WindSpeed_Max', 'Amb_WindSpeed_Min',\n",
    "#        'Amb_WindSpeed_Std', 'Blds_PitchAngle_Avg', 'Blds_PitchAngle_Std',\n",
    "#        'Grd_Prod_VoltPhse1_Avg', 'Grd_Prod_VoltPhse2_Avg',\n",
    "#        'Grd_Prod_VoltPhse3_Avg', 'Nac_Direction_Avg', 'Rtr_RPM_Avg',\n",
    "#        'Rtr_RPM_Std']"
   ]
  },
  {
   "cell_type": "code",
   "execution_count": 39,
   "metadata": {
    "ExecuteTime": {
     "end_time": "2021-02-19T19:11:04.826484Z",
     "start_time": "2021-02-19T19:11:04.706805Z"
    }
   },
   "outputs": [],
   "source": [
    "# # Para considerar apenas as rubricas de alisamento\n",
    "# cols_to_drop_gearbox = ['Amb_WindDir_Abs_Avg', 'Amb_WindDir_Relative_Avg',\n",
    "#        'Amb_WindSpeed_Avg', 'Amb_WindSpeed_Max', 'Amb_WindSpeed_Min',\n",
    "#        'Amb_WindSpeed_Std', 'Blds_PitchAngle_Avg', 'Blds_PitchAngle_Std',\n",
    "#        'Nac_Direction_Avg', 'Rtr_RPM_Avg', 'Rtr_RPM_Std']"
   ]
  },
  {
   "cell_type": "code",
   "execution_count": 40,
   "metadata": {
    "ExecuteTime": {
     "end_time": "2021-02-19T19:11:04.937187Z",
     "start_time": "2021-02-19T19:11:04.828481Z"
    }
   },
   "outputs": [],
   "source": [
    "# cols_orig_to_drop = [\n",
    "#     cols_to_drop_generator, cols_to_drop_hyd_group, cols_to_drop_gen_bear,\n",
    "#     cols_to_drop_transf, cols_to_drop_gearbox\n",
    "# ]"
   ]
  },
  {
   "cell_type": "code",
   "execution_count": 41,
   "metadata": {
    "ExecuteTime": {
     "end_time": "2021-02-19T19:11:05.047890Z",
     "start_time": "2021-02-19T19:11:04.941178Z"
    }
   },
   "outputs": [],
   "source": [
    "# for i, key in enumerate(comp_prep_df_dict):\n",
    "#     comp_prep_df_dict[key]= comp_prep_df_dict[key].drop(columns=cols_orig_to_drop[i])"
   ]
  },
  {
   "cell_type": "code",
   "execution_count": 42,
   "metadata": {
    "ExecuteTime": {
     "end_time": "2021-02-19T19:11:05.173553Z",
     "start_time": "2021-02-19T19:11:05.050883Z"
    }
   },
   "outputs": [],
   "source": [
    "# for key in comp_prep_df_dict:\n",
    "#     print(comp_prep_df_dict[key].shape)"
   ]
  },
  {
   "cell_type": "markdown",
   "metadata": {},
   "source": [
    "# Train and test split"
   ]
  },
  {
   "cell_type": "code",
   "execution_count": 43,
   "metadata": {
    "ExecuteTime": {
     "end_time": "2021-02-19T19:11:05.313180Z",
     "start_time": "2021-02-19T19:11:05.177546Z"
    }
   },
   "outputs": [],
   "source": [
    "# Separar os dataframes de treino e teste\n",
    "df_train_dict = comp_prep_df_dict.copy()\n",
    "df_test_dict = comp_prep_df_dict.copy()\n",
    "\n",
    "per_test = '3meses'\n",
    "\n",
    "for key in df_train_dict:\n",
    "    df_train_dict[key] = dprep.prepare_train_df(df_train_dict[key], meses=3)\n",
    "    df_test_dict[key] = dprep.prepare_test_df(df_test_dict[key], meses=3)"
   ]
  },
  {
   "cell_type": "code",
   "execution_count": 44,
   "metadata": {
    "ExecuteTime": {
     "end_time": "2021-02-19T19:11:05.437874Z",
     "start_time": "2021-02-19T19:11:05.316172Z"
    }
   },
   "outputs": [],
   "source": [
    "# train_turbines = {\n",
    "#     'df_generator': ['T11', 'T06'],\n",
    "#     'df_hydraulic': ['T06', 'T11'],\n",
    "#     'df_gen_bear': ['T07', 'T09'],\n",
    "#     'df_transformer': ['T07'],\n",
    "#     'df_gearbox': ['T09']\n",
    "# }"
   ]
  },
  {
   "cell_type": "code",
   "execution_count": 45,
   "metadata": {
    "ExecuteTime": {
     "end_time": "2021-02-19T19:11:05.548595Z",
     "start_time": "2021-02-19T19:11:05.439869Z"
    }
   },
   "outputs": [],
   "source": [
    "# for key in df_train_dict:\n",
    "#     print(f'Considerar apenas as turbinas que tiveram falhas no component {key}')\n",
    "#     df_train_dict[key] = df_train_dict[key][df_train_dict[key]['Turbine_ID'].isin(train_turbines[key])]"
   ]
  },
  {
   "cell_type": "code",
   "execution_count": 46,
   "metadata": {
    "ExecuteTime": {
     "end_time": "2021-02-19T19:11:05.655310Z",
     "start_time": "2021-02-19T19:11:05.551576Z"
    }
   },
   "outputs": [],
   "source": [
    "# for key in df_train_dict:\n",
    "#     print(f'df_train {key} com a forma {df_train_dict[key].shape}')\n",
    "#     print(f'df_test {key} com a forma {df_test_dict[key].shape}')"
   ]
  },
  {
   "cell_type": "markdown",
   "metadata": {
    "ExecuteTime": {
     "end_time": "2021-02-07T18:42:58.465901Z",
     "start_time": "2021-02-07T18:42:58.395089Z"
    }
   },
   "source": [
    "# Criar o x_train, x_test, y_train e o y_test "
   ]
  },
  {
   "cell_type": "code",
   "execution_count": 47,
   "metadata": {
    "ExecuteTime": {
     "end_time": "2021-02-19T19:11:05.781968Z",
     "start_time": "2021-02-19T19:11:05.658300Z"
    }
   },
   "outputs": [],
   "source": [
    "x_train = df_train_dict.copy()\n",
    "x_test = df_test_dict.copy()\n",
    "y_train = df_train_dict.copy()\n",
    "y_test = df_test_dict.copy()\n",
    "\n",
    "dias_var_alvo = days_list[0]"
   ]
  },
  {
   "cell_type": "code",
   "execution_count": 48,
   "metadata": {
    "ExecuteTime": {
     "end_time": "2021-02-19T19:11:05.908344Z",
     "start_time": "2021-02-19T19:11:05.784960Z"
    }
   },
   "outputs": [],
   "source": [
    "# retirar as colunas que não devem entrar no x\n",
    "cols_to_drop_train = [\n",
    "    'Date', 'TTF',\n",
    "    str(days_list[0]) + '_days', 'Component']\n",
    "for key in x_train:\n",
    "    x_train[key] = x_train[key].drop(columns=cols_to_drop_train)\n",
    "    x_test[key] = x_test[key].drop(columns=cols_to_drop_train)"
   ]
  },
  {
   "cell_type": "code",
   "execution_count": 49,
   "metadata": {
    "ExecuteTime": {
     "end_time": "2021-02-19T19:11:06.020050Z",
     "start_time": "2021-02-19T19:11:05.910333Z"
    }
   },
   "outputs": [
    {
     "name": "stdout",
     "output_type": "stream",
     "text": [
      "x_train df_generator com a forma (2577, 27)\n",
      "x_test df_generator com a forma (465, 27)\n",
      "x_train df_hydraulic com a forma (2576, 15)\n",
      "x_test df_hydraulic com a forma (465, 15)\n",
      "x_train df_gen_bear com a forma (2576, 14)\n",
      "x_test df_gen_bear com a forma (465, 14)\n",
      "x_train df_transformer com a forma (2576, 15)\n",
      "x_test df_transformer com a forma (465, 15)\n",
      "x_train df_gearbox com a forma (2576, 12)\n",
      "x_test df_gearbox com a forma (465, 12)\n"
     ]
    }
   ],
   "source": [
    "for key in x_train:\n",
    "    print(f'x_train {key} com a forma {x_train[key].shape}')\n",
    "    print(f'x_test {key} com a forma {x_test[key].shape}')"
   ]
  },
  {
   "cell_type": "code",
   "execution_count": 50,
   "metadata": {
    "ExecuteTime": {
     "end_time": "2021-02-19T19:11:06.163116Z",
     "start_time": "2021-02-19T19:11:06.022036Z"
    }
   },
   "outputs": [],
   "source": [
    "# considerar apenas as colunas que devem ser a variável alvo\n",
    "col_to_mantain_test = [str(days_list[0])+'_days']\n",
    "for key in y_train:\n",
    "    y_train[key] = y_train[key][col_to_mantain_test]\n",
    "    y_test[key] = y_test[key][col_to_mantain_test]"
   ]
  },
  {
   "cell_type": "code",
   "execution_count": 51,
   "metadata": {
    "ExecuteTime": {
     "end_time": "2021-02-19T19:11:06.271826Z",
     "start_time": "2021-02-19T19:11:06.166107Z"
    }
   },
   "outputs": [
    {
     "name": "stdout",
     "output_type": "stream",
     "text": [
      "y_train df_generator com a forma (2577, 1)\n",
      "y_test df_generator com a forma (465, 1)\n",
      "y_train df_hydraulic com a forma (2576, 1)\n",
      "y_test df_hydraulic com a forma (465, 1)\n",
      "y_train df_gen_bear com a forma (2576, 1)\n",
      "y_test df_gen_bear com a forma (465, 1)\n",
      "y_train df_transformer com a forma (2576, 1)\n",
      "y_test df_transformer com a forma (465, 1)\n",
      "y_train df_gearbox com a forma (2576, 1)\n",
      "y_test df_gearbox com a forma (465, 1)\n"
     ]
    }
   ],
   "source": [
    "for key in y_test:\n",
    "    print(f'y_train {key} com a forma {y_train[key].shape}')\n",
    "    print(f'y_test {key} com a forma {y_test[key].shape}')"
   ]
  },
  {
   "cell_type": "markdown",
   "metadata": {
    "ExecuteTime": {
     "end_time": "2021-02-07T19:59:13.987241Z",
     "start_time": "2021-02-07T19:59:13.859529Z"
    }
   },
   "source": [
    "# Model training - variables preparation"
   ]
  },
  {
   "cell_type": "code",
   "execution_count": 110,
   "metadata": {
    "ExecuteTime": {
     "end_time": "2021-02-19T22:12:18.292904Z",
     "start_time": "2021-02-19T22:12:18.195016Z"
    }
   },
   "outputs": [],
   "source": [
    "class Treinador():\n",
    "    def __init__(self, x_train, y_train, **kwargs):\n",
    "\n",
    "        self.pipeline = None\n",
    "        self.kwargs = kwargs\n",
    "        self.x_train = x_train\n",
    "        self.y_train = y_train\n",
    "        self.component = self.kwargs.get(\"component\") \n",
    "\n",
    "    def get_estimator(self):\n",
    "        \"\"\"return estimator\"\"\"\n",
    "        if self.component == \"df_generator\":\n",
    "            model = KNeighborsClassifier(algorithm='auto', leaf_size=30, metric='minkowski',\n",
    "                                        metric_params=None, n_jobs=-1, n_neighbors=5,\n",
    "                                        p=2, weights='uniform')\n",
    "        elif self.component == \"df_hydraulic\":\n",
    "            model = LogisticRegression(C=10, class_weight=None, dual=False, fit_intercept=True,\n",
    "                                        intercept_scaling=1, max_iter=1000, multi_class='warn',\n",
    "                                        n_jobs=-1, penalty='l2', solver='lbfgs',\n",
    "                                        tol=0.0001, verbose=0, warm_start=False)\n",
    "        elif self.component == \"df_transformer\":\n",
    "            model = AdaBoostClassifier(algorithm='SAMME.R', base_estimator=None,\n",
    "                                        learning_rate=1.0, n_estimators=200)\n",
    "        elif self.component == \"df_gen_bear\":\n",
    "            model = KNeighborsClassifier(algorithm='auto', leaf_size=30, metric='minkowski',\n",
    "                                        metric_params=None, n_jobs=-1, n_neighbors=5, p=2,\n",
    "                                        weights='distance')\n",
    "        elif self.component == \"df_gearbox\":\n",
    "            model = RandomForestClassifier(bootstrap=True, class_weight=None, criterion='gini',\n",
    "                                        max_depth=None, max_features='auto', max_leaf_nodes=None,\n",
    "                                        min_impurity_decrease=0.0, min_impurity_split=None,\n",
    "                                        min_samples_leaf=1, min_samples_split=2,\n",
    "                                        min_weight_fraction_leaf=0.0, n_estimators=750, n_jobs=-1,\n",
    "                                        oob_score=False, verbose=0, warm_start=False)\n",
    "        else:\n",
    "            print('Invalid Component')\n",
    "\n",
    "        return model\n",
    "\n",
    "    def train(self):\n",
    "        \"\"\"train the selected model\"\"\"\n",
    "        model = self.get_estimator()\n",
    "        model.fit(self.x_train, self.y_train)"
   ]
  },
  {
   "cell_type": "code",
   "execution_count": 68,
   "metadata": {
    "ExecuteTime": {
     "end_time": "2021-02-19T19:19:30.991204Z",
     "start_time": "2021-02-19T19:19:30.894936Z"
    }
   },
   "outputs": [],
   "source": [
    "from sklearn.base import BaseEstimator, TransformerMixin\n",
    "import numpy as np\n",
    "\n",
    "\n",
    "class CustomStandardScaler_v2(BaseEstimator, TransformerMixin):\n",
    "    # component = self.kwargs.get(\"component\")\n",
    "    def __init__(self):\n",
    "        self.mean_ = {}\n",
    "        self.std_ = {}\n",
    "\n",
    "    def fit(self, X, y=None):\n",
    "\n",
    "        for turbine in ['T01', 'T06', 'T07', 'T09', 'T11']:\n",
    "            X_filter = X[X['Turbine_ID'] == turbine]\n",
    "            X_filter = X_filter.drop(columns='Turbine_ID').to_numpy()\n",
    "            self.mean_[turbine] = X_filter.mean(axis=0)\n",
    "            self.std_[turbine] = X_filter.std(axis=0)\n",
    "        \n",
    "        return self #.mean_, self.std_\n",
    "\n",
    "    def transform(self, X, y=None):\n",
    "        X_turbine = {}\n",
    "\n",
    "        for turbine in ['T01', 'T06', 'T07', 'T09', 'T11']:\n",
    "\n",
    "            X_turbine[turbine] = (X[X['Turbine_ID'] == turbine].\n",
    "                                  drop(columns='Turbine_ID').to_numpy() -\n",
    "                                  self.mean_[turbine]) / self.std_[turbine]\n",
    "\n",
    "        X_turbine_all = X_turbine['T01']\n",
    "\n",
    "        for turbine in ['T06', 'T07', 'T09', 'T11']:\n",
    "\n",
    "            X_turbine_all = np.concatenate([X_turbine_all, X_turbine[turbine]])\n",
    "\n",
    "        return X_turbine_all"
   ]
  },
  {
   "cell_type": "code",
   "execution_count": 69,
   "metadata": {
    "ExecuteTime": {
     "end_time": "2021-02-19T19:19:31.835418Z",
     "start_time": "2021-02-19T19:19:31.727391Z"
    }
   },
   "outputs": [],
   "source": [
    "b = CustomStandardScaler_v2()"
   ]
  },
  {
   "cell_type": "code",
   "execution_count": 72,
   "metadata": {
    "ExecuteTime": {
     "end_time": "2021-02-19T19:19:54.156593Z",
     "start_time": "2021-02-19T19:19:53.632469Z"
    }
   },
   "outputs": [
    {
     "data": {
      "text/plain": [
       "CustomStandardScaler_v2()"
      ]
     },
     "execution_count": 72,
     "metadata": {},
     "output_type": "execute_result"
    }
   ],
   "source": [
    "b.fit(X=x_train['df_hydraulic'])"
   ]
  },
  {
   "cell_type": "code",
   "execution_count": 70,
   "metadata": {
    "ExecuteTime": {
     "end_time": "2021-02-19T19:19:33.432726Z",
     "start_time": "2021-02-19T19:19:33.297306Z"
    }
   },
   "outputs": [
    {
     "data": {
      "text/plain": [
       "array([[ 0.6996969 ,  0.41397024, -0.31457125, ...,  0.49797036,\n",
       "         0.15503807,  1.06197426],\n",
       "       [ 0.35064616,  0.04182958, -0.71214492, ..., -0.40360642,\n",
       "        -1.07403372, -0.28390472],\n",
       "       [ 0.52780409,  0.10613938, -0.16913367, ...,  0.79188738,\n",
       "        -0.45264566, -0.93671354],\n",
       "       ...,\n",
       "       [ 0.8633347 , -0.43060123, -0.59645941, ...,  0.76979651,\n",
       "        -0.1669314 ,  0.13666743],\n",
       "       [ 0.88570129,  0.4028543 , -0.78391949, ...,  0.8853932 ,\n",
       "        -0.67989673,  0.51805626],\n",
       "       [-1.20946133, -0.41179982,  0.88381121, ..., -1.15915804,\n",
       "         0.97593082, -0.71192273]])"
      ]
     },
     "execution_count": 70,
     "metadata": {},
     "output_type": "execute_result"
    }
   ],
   "source": [
    "b.fit_transform(X=x_train['df_hydraulic'])"
   ]
  },
  {
   "cell_type": "code",
   "execution_count": 56,
   "metadata": {
    "ExecuteTime": {
     "end_time": "2021-02-19T18:39:27.712873Z",
     "start_time": "2021-02-19T18:39:27.624112Z"
    }
   },
   "outputs": [
    {
     "data": {
      "text/html": [
       "<div>\n",
       "<style scoped>\n",
       "    .dataframe tbody tr th:only-of-type {\n",
       "        vertical-align: middle;\n",
       "    }\n",
       "\n",
       "    .dataframe tbody tr th {\n",
       "        vertical-align: top;\n",
       "    }\n",
       "\n",
       "    .dataframe thead th {\n",
       "        text-align: right;\n",
       "    }\n",
       "</style>\n",
       "<table border=\"1\" class=\"dataframe\">\n",
       "  <thead>\n",
       "    <tr style=\"text-align: right;\">\n",
       "      <th></th>\n",
       "      <th>Turbine_ID</th>\n",
       "      <th>Amb_WindDir_Abs_Avg</th>\n",
       "      <th>Amb_WindDir_Relative_Avg</th>\n",
       "      <th>Amb_WindSpeed_Avg</th>\n",
       "      <th>Amb_WindSpeed_Max</th>\n",
       "      <th>Amb_WindSpeed_Min</th>\n",
       "      <th>Amb_WindSpeed_Std</th>\n",
       "      <th>Blds_PitchAngle_Avg</th>\n",
       "      <th>Blds_PitchAngle_Std</th>\n",
       "      <th>Grd_Prod_VoltPhse1_Avg</th>\n",
       "      <th>Grd_Prod_VoltPhse2_Avg</th>\n",
       "      <th>Grd_Prod_VoltPhse3_Avg</th>\n",
       "      <th>Nac_Direction_Avg</th>\n",
       "      <th>Rtr_RPM_Avg</th>\n",
       "      <th>Rtr_RPM_Std</th>\n",
       "    </tr>\n",
       "  </thead>\n",
       "  <tbody>\n",
       "    <tr>\n",
       "      <th>0</th>\n",
       "      <td>T01</td>\n",
       "      <td>228.367361</td>\n",
       "      <td>2.999306</td>\n",
       "      <td>5.070833</td>\n",
       "      <td>11.759028</td>\n",
       "      <td>1.302083</td>\n",
       "      <td>1.004167</td>\n",
       "      <td>4.557639</td>\n",
       "      <td>1.544444</td>\n",
       "      <td>400.138194</td>\n",
       "      <td>398.875694</td>\n",
       "      <td>397.782639</td>\n",
       "      <td>225.370833</td>\n",
       "      <td>9.651389</td>\n",
       "      <td>0.854167</td>\n",
       "    </tr>\n",
       "    <tr>\n",
       "      <th>1</th>\n",
       "      <td>T01</td>\n",
       "      <td>205.900694</td>\n",
       "      <td>0.343056</td>\n",
       "      <td>3.823611</td>\n",
       "      <td>10.868056</td>\n",
       "      <td>0.905556</td>\n",
       "      <td>0.864583</td>\n",
       "      <td>14.941667</td>\n",
       "      <td>0.863889</td>\n",
       "      <td>399.449306</td>\n",
       "      <td>398.550694</td>\n",
       "      <td>396.327778</td>\n",
       "      <td>160.568750</td>\n",
       "      <td>5.104861</td>\n",
       "      <td>0.529167</td>\n",
       "    </tr>\n",
       "    <tr>\n",
       "      <th>2</th>\n",
       "      <td>T01</td>\n",
       "      <td>217.303472</td>\n",
       "      <td>0.802083</td>\n",
       "      <td>5.527083</td>\n",
       "      <td>12.512500</td>\n",
       "      <td>1.264583</td>\n",
       "      <td>1.136111</td>\n",
       "      <td>11.213889</td>\n",
       "      <td>0.584722</td>\n",
       "      <td>400.065278</td>\n",
       "      <td>398.510417</td>\n",
       "      <td>398.348611</td>\n",
       "      <td>246.496528</td>\n",
       "      <td>7.403472</td>\n",
       "      <td>0.371528</td>\n",
       "    </tr>\n",
       "    <tr>\n",
       "      <th>3</th>\n",
       "      <td>T01</td>\n",
       "      <td>267.268056</td>\n",
       "      <td>2.142361</td>\n",
       "      <td>9.439583</td>\n",
       "      <td>20.471528</td>\n",
       "      <td>1.943750</td>\n",
       "      <td>1.877778</td>\n",
       "      <td>-1.054861</td>\n",
       "      <td>1.090278</td>\n",
       "      <td>399.293750</td>\n",
       "      <td>397.450694</td>\n",
       "      <td>401.450000</td>\n",
       "      <td>265.121528</td>\n",
       "      <td>14.404167</td>\n",
       "      <td>0.349306</td>\n",
       "    </tr>\n",
       "    <tr>\n",
       "      <th>4</th>\n",
       "      <td>T01</td>\n",
       "      <td>306.820139</td>\n",
       "      <td>-0.707639</td>\n",
       "      <td>9.043056</td>\n",
       "      <td>19.715278</td>\n",
       "      <td>1.894444</td>\n",
       "      <td>1.802083</td>\n",
       "      <td>-0.085417</td>\n",
       "      <td>1.138889</td>\n",
       "      <td>399.681250</td>\n",
       "      <td>397.856944</td>\n",
       "      <td>400.368056</td>\n",
       "      <td>312.529861</td>\n",
       "      <td>13.881250</td>\n",
       "      <td>0.434722</td>\n",
       "    </tr>\n",
       "  </tbody>\n",
       "</table>\n",
       "</div>"
      ],
      "text/plain": [
       "  Turbine_ID  Amb_WindDir_Abs_Avg  Amb_WindDir_Relative_Avg  \\\n",
       "0        T01           228.367361                  2.999306   \n",
       "1        T01           205.900694                  0.343056   \n",
       "2        T01           217.303472                  0.802083   \n",
       "3        T01           267.268056                  2.142361   \n",
       "4        T01           306.820139                 -0.707639   \n",
       "\n",
       "   Amb_WindSpeed_Avg  Amb_WindSpeed_Max  Amb_WindSpeed_Min  Amb_WindSpeed_Std  \\\n",
       "0           5.070833          11.759028           1.302083           1.004167   \n",
       "1           3.823611          10.868056           0.905556           0.864583   \n",
       "2           5.527083          12.512500           1.264583           1.136111   \n",
       "3           9.439583          20.471528           1.943750           1.877778   \n",
       "4           9.043056          19.715278           1.894444           1.802083   \n",
       "\n",
       "   Blds_PitchAngle_Avg  Blds_PitchAngle_Std  Grd_Prod_VoltPhse1_Avg  \\\n",
       "0             4.557639             1.544444              400.138194   \n",
       "1            14.941667             0.863889              399.449306   \n",
       "2            11.213889             0.584722              400.065278   \n",
       "3            -1.054861             1.090278              399.293750   \n",
       "4            -0.085417             1.138889              399.681250   \n",
       "\n",
       "   Grd_Prod_VoltPhse2_Avg  Grd_Prod_VoltPhse3_Avg  Nac_Direction_Avg  \\\n",
       "0              398.875694              397.782639         225.370833   \n",
       "1              398.550694              396.327778         160.568750   \n",
       "2              398.510417              398.348611         246.496528   \n",
       "3              397.450694              401.450000         265.121528   \n",
       "4              397.856944              400.368056         312.529861   \n",
       "\n",
       "   Rtr_RPM_Avg  Rtr_RPM_Std  \n",
       "0     9.651389     0.854167  \n",
       "1     5.104861     0.529167  \n",
       "2     7.403472     0.371528  \n",
       "3    14.404167     0.349306  \n",
       "4    13.881250     0.434722  "
      ]
     },
     "execution_count": 56,
     "metadata": {},
     "output_type": "execute_result"
    }
   ],
   "source": [
    "x_train['df_hydraulic'].head()"
   ]
  },
  {
   "cell_type": "code",
   "execution_count": 83,
   "metadata": {
    "ExecuteTime": {
     "end_time": "2021-02-19T19:27:26.665441Z",
     "start_time": "2021-02-19T19:27:26.556667Z"
    }
   },
   "outputs": [],
   "source": [
    "letsPipe = Pipeline(steps=[('scaler',CustomStandardScaler_v2()), #])\n",
    "                           ('get_estim',Treinador(component='df_generator').get_estimator())])"
   ]
  },
  {
   "cell_type": "code",
   "execution_count": 84,
   "metadata": {
    "ExecuteTime": {
     "end_time": "2021-02-19T19:27:30.870917Z",
     "start_time": "2021-02-19T19:27:30.742677Z"
    }
   },
   "outputs": [
    {
     "ename": "ValueError",
     "evalue": "y cannot be None",
     "output_type": "error",
     "traceback": [
      "\u001b[1;31m---------------------------------------------------------------------------\u001b[0m",
      "\u001b[1;31mValueError\u001b[0m                                Traceback (most recent call last)",
      "\u001b[1;32m<ipython-input-84-a810484a1f9f>\u001b[0m in \u001b[0;36m<module>\u001b[1;34m\u001b[0m\n\u001b[1;32m----> 1\u001b[1;33m \u001b[0mletsPipe\u001b[0m\u001b[1;33m.\u001b[0m\u001b[0mfit_transform\u001b[0m\u001b[1;33m(\u001b[0m\u001b[0mX\u001b[0m\u001b[1;33m=\u001b[0m\u001b[0mx_train\u001b[0m\u001b[1;33m[\u001b[0m\u001b[1;34m'df_hydraulic'\u001b[0m\u001b[1;33m]\u001b[0m\u001b[1;33m)\u001b[0m\u001b[1;33m\u001b[0m\u001b[1;33m\u001b[0m\u001b[0m\n\u001b[0m",
      "\u001b[1;32mc:\\users\\ricar\\.venvs\\lewagon\\lib\\site-packages\\sklearn\\pipeline.py\u001b[0m in \u001b[0;36mfit_transform\u001b[1;34m(self, X, y, **fit_params)\u001b[0m\n\u001b[0;32m    302\u001b[0m             \u001b[1;32mreturn\u001b[0m \u001b[0mXt\u001b[0m\u001b[1;33m\u001b[0m\u001b[1;33m\u001b[0m\u001b[0m\n\u001b[0;32m    303\u001b[0m         \u001b[1;32melse\u001b[0m\u001b[1;33m:\u001b[0m\u001b[1;33m\u001b[0m\u001b[1;33m\u001b[0m\u001b[0m\n\u001b[1;32m--> 304\u001b[1;33m             \u001b[1;32mreturn\u001b[0m \u001b[0mlast_step\u001b[0m\u001b[1;33m.\u001b[0m\u001b[0mfit\u001b[0m\u001b[1;33m(\u001b[0m\u001b[0mXt\u001b[0m\u001b[1;33m,\u001b[0m \u001b[0my\u001b[0m\u001b[1;33m,\u001b[0m \u001b[1;33m**\u001b[0m\u001b[0mfit_params\u001b[0m\u001b[1;33m)\u001b[0m\u001b[1;33m.\u001b[0m\u001b[0mtransform\u001b[0m\u001b[1;33m(\u001b[0m\u001b[0mXt\u001b[0m\u001b[1;33m)\u001b[0m\u001b[1;33m\u001b[0m\u001b[1;33m\u001b[0m\u001b[0m\n\u001b[0m\u001b[0;32m    305\u001b[0m \u001b[1;33m\u001b[0m\u001b[0m\n\u001b[0;32m    306\u001b[0m     \u001b[1;33m@\u001b[0m\u001b[0mif_delegate_has_method\u001b[0m\u001b[1;33m(\u001b[0m\u001b[0mdelegate\u001b[0m\u001b[1;33m=\u001b[0m\u001b[1;34m'_final_estimator'\u001b[0m\u001b[1;33m)\u001b[0m\u001b[1;33m\u001b[0m\u001b[1;33m\u001b[0m\u001b[0m\n",
      "\u001b[1;32mc:\\users\\ricar\\.venvs\\lewagon\\lib\\site-packages\\sklearn\\neighbors\\base.py\u001b[0m in \u001b[0;36mfit\u001b[1;34m(self, X, y)\u001b[0m\n\u001b[0;32m    889\u001b[0m         \"\"\"\n\u001b[0;32m    890\u001b[0m         \u001b[1;32mif\u001b[0m \u001b[1;32mnot\u001b[0m \u001b[0misinstance\u001b[0m\u001b[1;33m(\u001b[0m\u001b[0mX\u001b[0m\u001b[1;33m,\u001b[0m \u001b[1;33m(\u001b[0m\u001b[0mKDTree\u001b[0m\u001b[1;33m,\u001b[0m \u001b[0mBallTree\u001b[0m\u001b[1;33m)\u001b[0m\u001b[1;33m)\u001b[0m\u001b[1;33m:\u001b[0m\u001b[1;33m\u001b[0m\u001b[1;33m\u001b[0m\u001b[0m\n\u001b[1;32m--> 891\u001b[1;33m             \u001b[0mX\u001b[0m\u001b[1;33m,\u001b[0m \u001b[0my\u001b[0m \u001b[1;33m=\u001b[0m \u001b[0mcheck_X_y\u001b[0m\u001b[1;33m(\u001b[0m\u001b[0mX\u001b[0m\u001b[1;33m,\u001b[0m \u001b[0my\u001b[0m\u001b[1;33m,\u001b[0m \u001b[1;34m\"csr\"\u001b[0m\u001b[1;33m,\u001b[0m \u001b[0mmulti_output\u001b[0m\u001b[1;33m=\u001b[0m\u001b[1;32mTrue\u001b[0m\u001b[1;33m)\u001b[0m\u001b[1;33m\u001b[0m\u001b[1;33m\u001b[0m\u001b[0m\n\u001b[0m\u001b[0;32m    892\u001b[0m \u001b[1;33m\u001b[0m\u001b[0m\n\u001b[0;32m    893\u001b[0m         \u001b[1;32mif\u001b[0m \u001b[0my\u001b[0m\u001b[1;33m.\u001b[0m\u001b[0mndim\u001b[0m \u001b[1;33m==\u001b[0m \u001b[1;36m1\u001b[0m \u001b[1;32mor\u001b[0m \u001b[0my\u001b[0m\u001b[1;33m.\u001b[0m\u001b[0mndim\u001b[0m \u001b[1;33m==\u001b[0m \u001b[1;36m2\u001b[0m \u001b[1;32mand\u001b[0m \u001b[0my\u001b[0m\u001b[1;33m.\u001b[0m\u001b[0mshape\u001b[0m\u001b[1;33m[\u001b[0m\u001b[1;36m1\u001b[0m\u001b[1;33m]\u001b[0m \u001b[1;33m==\u001b[0m \u001b[1;36m1\u001b[0m\u001b[1;33m:\u001b[0m\u001b[1;33m\u001b[0m\u001b[1;33m\u001b[0m\u001b[0m\n",
      "\u001b[1;32mc:\\users\\ricar\\.venvs\\lewagon\\lib\\site-packages\\sklearn\\utils\\validation.py\u001b[0m in \u001b[0;36mcheck_X_y\u001b[1;34m(X, y, accept_sparse, accept_large_sparse, dtype, order, copy, force_all_finite, ensure_2d, allow_nd, multi_output, ensure_min_samples, ensure_min_features, y_numeric, warn_on_dtype, estimator)\u001b[0m\n\u001b[0;32m    744\u001b[0m     \"\"\"\n\u001b[0;32m    745\u001b[0m     \u001b[1;32mif\u001b[0m \u001b[0my\u001b[0m \u001b[1;32mis\u001b[0m \u001b[1;32mNone\u001b[0m\u001b[1;33m:\u001b[0m\u001b[1;33m\u001b[0m\u001b[1;33m\u001b[0m\u001b[0m\n\u001b[1;32m--> 746\u001b[1;33m         \u001b[1;32mraise\u001b[0m \u001b[0mValueError\u001b[0m\u001b[1;33m(\u001b[0m\u001b[1;34m\"y cannot be None\"\u001b[0m\u001b[1;33m)\u001b[0m\u001b[1;33m\u001b[0m\u001b[1;33m\u001b[0m\u001b[0m\n\u001b[0m\u001b[0;32m    747\u001b[0m \u001b[1;33m\u001b[0m\u001b[0m\n\u001b[0;32m    748\u001b[0m     X = check_array(X, accept_sparse=accept_sparse,\n",
      "\u001b[1;31mValueError\u001b[0m: y cannot be None"
     ]
    }
   ],
   "source": [
    "letsPipe.fit_transform(X=x_train['df_hydraulic'], )"
   ]
  },
  {
   "cell_type": "code",
   "execution_count": 113,
   "metadata": {
    "ExecuteTime": {
     "end_time": "2021-02-19T22:12:52.061900Z",
     "start_time": "2021-02-19T22:12:51.946208Z"
    }
   },
   "outputs": [
    {
     "data": {
      "text/html": [
       "<div>\n",
       "<style scoped>\n",
       "    .dataframe tbody tr th:only-of-type {\n",
       "        vertical-align: middle;\n",
       "    }\n",
       "\n",
       "    .dataframe tbody tr th {\n",
       "        vertical-align: top;\n",
       "    }\n",
       "\n",
       "    .dataframe thead th {\n",
       "        text-align: right;\n",
       "    }\n",
       "</style>\n",
       "<table border=\"1\" class=\"dataframe\">\n",
       "  <thead>\n",
       "    <tr style=\"text-align: right;\">\n",
       "      <th></th>\n",
       "      <th>Turbine_ID</th>\n",
       "      <th>Amb_WindDir_Abs_Avg</th>\n",
       "      <th>Amb_WindDir_Relative_Avg</th>\n",
       "      <th>Amb_WindSpeed_Avg</th>\n",
       "      <th>Amb_WindSpeed_Max</th>\n",
       "      <th>Amb_WindSpeed_Min</th>\n",
       "      <th>Amb_WindSpeed_Std</th>\n",
       "      <th>Blds_PitchAngle_Avg</th>\n",
       "      <th>Blds_PitchAngle_Std</th>\n",
       "      <th>Gen_Bear_Temp_Avg</th>\n",
       "      <th>Gen_RPM_Avg</th>\n",
       "      <th>Gen_RPM_Std</th>\n",
       "      <th>Nac_Direction_Avg</th>\n",
       "      <th>Prod_LatestAvg_ActPwrGen1</th>\n",
       "    </tr>\n",
       "  </thead>\n",
       "  <tbody>\n",
       "    <tr>\n",
       "      <th>0</th>\n",
       "      <td>T01</td>\n",
       "      <td>228.367361</td>\n",
       "      <td>2.999306</td>\n",
       "      <td>5.070833</td>\n",
       "      <td>11.759028</td>\n",
       "      <td>1.302083</td>\n",
       "      <td>1.004167</td>\n",
       "      <td>4.557639</td>\n",
       "      <td>1.544444</td>\n",
       "      <td>39.354167</td>\n",
       "      <td>1100.689583</td>\n",
       "      <td>92.588194</td>\n",
       "      <td>225.370833</td>\n",
       "      <td>49475.194444</td>\n",
       "    </tr>\n",
       "    <tr>\n",
       "      <th>1</th>\n",
       "      <td>T01</td>\n",
       "      <td>205.900694</td>\n",
       "      <td>0.343056</td>\n",
       "      <td>3.823611</td>\n",
       "      <td>10.868056</td>\n",
       "      <td>0.905556</td>\n",
       "      <td>0.864583</td>\n",
       "      <td>14.941667</td>\n",
       "      <td>0.863889</td>\n",
       "      <td>34.076389</td>\n",
       "      <td>603.794444</td>\n",
       "      <td>58.183333</td>\n",
       "      <td>160.568750</td>\n",
       "      <td>36844.111111</td>\n",
       "    </tr>\n",
       "    <tr>\n",
       "      <th>2</th>\n",
       "      <td>T01</td>\n",
       "      <td>217.303472</td>\n",
       "      <td>0.802083</td>\n",
       "      <td>5.527083</td>\n",
       "      <td>12.512500</td>\n",
       "      <td>1.264583</td>\n",
       "      <td>1.136111</td>\n",
       "      <td>11.213889</td>\n",
       "      <td>0.584722</td>\n",
       "      <td>42.791667</td>\n",
       "      <td>862.535417</td>\n",
       "      <td>40.109028</td>\n",
       "      <td>246.496528</td>\n",
       "      <td>99448.784722</td>\n",
       "    </tr>\n",
       "    <tr>\n",
       "      <th>3</th>\n",
       "      <td>T01</td>\n",
       "      <td>267.268056</td>\n",
       "      <td>2.142361</td>\n",
       "      <td>9.439583</td>\n",
       "      <td>20.471528</td>\n",
       "      <td>1.943750</td>\n",
       "      <td>1.877778</td>\n",
       "      <td>-1.054861</td>\n",
       "      <td>1.090278</td>\n",
       "      <td>65.291667</td>\n",
       "      <td>1626.701389</td>\n",
       "      <td>39.796528</td>\n",
       "      <td>265.121528</td>\n",
       "      <td>226403.868056</td>\n",
       "    </tr>\n",
       "    <tr>\n",
       "      <th>4</th>\n",
       "      <td>T01</td>\n",
       "      <td>306.820139</td>\n",
       "      <td>-0.707639</td>\n",
       "      <td>9.043056</td>\n",
       "      <td>19.715278</td>\n",
       "      <td>1.894444</td>\n",
       "      <td>1.802083</td>\n",
       "      <td>-0.085417</td>\n",
       "      <td>1.138889</td>\n",
       "      <td>56.298611</td>\n",
       "      <td>1567.234028</td>\n",
       "      <td>49.702083</td>\n",
       "      <td>312.529861</td>\n",
       "      <td>191067.937500</td>\n",
       "    </tr>\n",
       "  </tbody>\n",
       "</table>\n",
       "</div>"
      ],
      "text/plain": [
       "  Turbine_ID  Amb_WindDir_Abs_Avg  Amb_WindDir_Relative_Avg  \\\n",
       "0        T01           228.367361                  2.999306   \n",
       "1        T01           205.900694                  0.343056   \n",
       "2        T01           217.303472                  0.802083   \n",
       "3        T01           267.268056                  2.142361   \n",
       "4        T01           306.820139                 -0.707639   \n",
       "\n",
       "   Amb_WindSpeed_Avg  Amb_WindSpeed_Max  Amb_WindSpeed_Min  Amb_WindSpeed_Std  \\\n",
       "0           5.070833          11.759028           1.302083           1.004167   \n",
       "1           3.823611          10.868056           0.905556           0.864583   \n",
       "2           5.527083          12.512500           1.264583           1.136111   \n",
       "3           9.439583          20.471528           1.943750           1.877778   \n",
       "4           9.043056          19.715278           1.894444           1.802083   \n",
       "\n",
       "   Blds_PitchAngle_Avg  Blds_PitchAngle_Std  Gen_Bear_Temp_Avg  Gen_RPM_Avg  \\\n",
       "0             4.557639             1.544444          39.354167  1100.689583   \n",
       "1            14.941667             0.863889          34.076389   603.794444   \n",
       "2            11.213889             0.584722          42.791667   862.535417   \n",
       "3            -1.054861             1.090278          65.291667  1626.701389   \n",
       "4            -0.085417             1.138889          56.298611  1567.234028   \n",
       "\n",
       "   Gen_RPM_Std  Nac_Direction_Avg  Prod_LatestAvg_ActPwrGen1  \n",
       "0    92.588194         225.370833               49475.194444  \n",
       "1    58.183333         160.568750               36844.111111  \n",
       "2    40.109028         246.496528               99448.784722  \n",
       "3    39.796528         265.121528              226403.868056  \n",
       "4    49.702083         312.529861              191067.937500  "
      ]
     },
     "execution_count": 113,
     "metadata": {},
     "output_type": "execute_result"
    }
   ],
   "source": [
    "x_train['df_gen_bear'].head()"
   ]
  },
  {
   "cell_type": "code",
   "execution_count": 111,
   "metadata": {
    "ExecuteTime": {
     "end_time": "2021-02-19T22:12:21.738859Z",
     "start_time": "2021-02-19T22:12:21.651095Z"
    }
   },
   "outputs": [
    {
     "data": {
      "text/plain": [
       "KNeighborsClassifier(algorithm='auto', leaf_size=30, metric='minkowski',\n",
       "           metric_params=None, n_jobs=-1, n_neighbors=5, p=2,\n",
       "           weights='distance')"
      ]
     },
     "execution_count": 111,
     "metadata": {},
     "output_type": "execute_result"
    }
   ],
   "source": [
    "a = Treinador(x_train=x_train['df_gen_bear'],y_train= y_train['df_gen_bear'], component = 'df_gen_bear')\n",
    "\n",
    "a.get_estimator()"
   ]
  },
  {
   "cell_type": "code",
   "execution_count": 112,
   "metadata": {
    "ExecuteTime": {
     "end_time": "2021-02-19T22:12:22.343821Z",
     "start_time": "2021-02-19T22:12:22.200379Z"
    }
   },
   "outputs": [
    {
     "ename": "ValueError",
     "evalue": "could not convert string to float: 'T01'",
     "output_type": "error",
     "traceback": [
      "\u001b[1;31m---------------------------------------------------------------------------\u001b[0m",
      "\u001b[1;31mValueError\u001b[0m                                Traceback (most recent call last)",
      "\u001b[1;32m<ipython-input-112-bde7b6456197>\u001b[0m in \u001b[0;36m<module>\u001b[1;34m\u001b[0m\n\u001b[1;32m----> 1\u001b[1;33m \u001b[0ma\u001b[0m\u001b[1;33m.\u001b[0m\u001b[0mtrain\u001b[0m\u001b[1;33m(\u001b[0m\u001b[1;33m)\u001b[0m\u001b[1;33m\u001b[0m\u001b[1;33m\u001b[0m\u001b[0m\n\u001b[0m",
      "\u001b[1;32m<ipython-input-110-7583942c9241>\u001b[0m in \u001b[0;36mtrain\u001b[1;34m(self)\u001b[0m\n\u001b[0;32m     42\u001b[0m         \u001b[1;34m\"\"\"train the selected model\"\"\"\u001b[0m\u001b[1;33m\u001b[0m\u001b[1;33m\u001b[0m\u001b[0m\n\u001b[0;32m     43\u001b[0m         \u001b[0mtretas\u001b[0m \u001b[1;33m=\u001b[0m \u001b[0mself\u001b[0m\u001b[1;33m.\u001b[0m\u001b[0mget_estimator\u001b[0m\u001b[1;33m(\u001b[0m\u001b[1;33m)\u001b[0m\u001b[1;33m\u001b[0m\u001b[1;33m\u001b[0m\u001b[0m\n\u001b[1;32m---> 44\u001b[1;33m         \u001b[0mtretas\u001b[0m\u001b[1;33m.\u001b[0m\u001b[0mfit\u001b[0m\u001b[1;33m(\u001b[0m\u001b[0mself\u001b[0m\u001b[1;33m.\u001b[0m\u001b[0mx_train\u001b[0m\u001b[1;33m,\u001b[0m \u001b[0mself\u001b[0m\u001b[1;33m.\u001b[0m\u001b[0my_train\u001b[0m\u001b[1;33m)\u001b[0m\u001b[1;33m\u001b[0m\u001b[1;33m\u001b[0m\u001b[0m\n\u001b[0m",
      "\u001b[1;32mc:\\users\\ricar\\.venvs\\lewagon\\lib\\site-packages\\sklearn\\neighbors\\base.py\u001b[0m in \u001b[0;36mfit\u001b[1;34m(self, X, y)\u001b[0m\n\u001b[0;32m    889\u001b[0m         \"\"\"\n\u001b[0;32m    890\u001b[0m         \u001b[1;32mif\u001b[0m \u001b[1;32mnot\u001b[0m \u001b[0misinstance\u001b[0m\u001b[1;33m(\u001b[0m\u001b[0mX\u001b[0m\u001b[1;33m,\u001b[0m \u001b[1;33m(\u001b[0m\u001b[0mKDTree\u001b[0m\u001b[1;33m,\u001b[0m \u001b[0mBallTree\u001b[0m\u001b[1;33m)\u001b[0m\u001b[1;33m)\u001b[0m\u001b[1;33m:\u001b[0m\u001b[1;33m\u001b[0m\u001b[1;33m\u001b[0m\u001b[0m\n\u001b[1;32m--> 891\u001b[1;33m             \u001b[0mX\u001b[0m\u001b[1;33m,\u001b[0m \u001b[0my\u001b[0m \u001b[1;33m=\u001b[0m \u001b[0mcheck_X_y\u001b[0m\u001b[1;33m(\u001b[0m\u001b[0mX\u001b[0m\u001b[1;33m,\u001b[0m \u001b[0my\u001b[0m\u001b[1;33m,\u001b[0m \u001b[1;34m\"csr\"\u001b[0m\u001b[1;33m,\u001b[0m \u001b[0mmulti_output\u001b[0m\u001b[1;33m=\u001b[0m\u001b[1;32mTrue\u001b[0m\u001b[1;33m)\u001b[0m\u001b[1;33m\u001b[0m\u001b[1;33m\u001b[0m\u001b[0m\n\u001b[0m\u001b[0;32m    892\u001b[0m \u001b[1;33m\u001b[0m\u001b[0m\n\u001b[0;32m    893\u001b[0m         \u001b[1;32mif\u001b[0m \u001b[0my\u001b[0m\u001b[1;33m.\u001b[0m\u001b[0mndim\u001b[0m \u001b[1;33m==\u001b[0m \u001b[1;36m1\u001b[0m \u001b[1;32mor\u001b[0m \u001b[0my\u001b[0m\u001b[1;33m.\u001b[0m\u001b[0mndim\u001b[0m \u001b[1;33m==\u001b[0m \u001b[1;36m2\u001b[0m \u001b[1;32mand\u001b[0m \u001b[0my\u001b[0m\u001b[1;33m.\u001b[0m\u001b[0mshape\u001b[0m\u001b[1;33m[\u001b[0m\u001b[1;36m1\u001b[0m\u001b[1;33m]\u001b[0m \u001b[1;33m==\u001b[0m \u001b[1;36m1\u001b[0m\u001b[1;33m:\u001b[0m\u001b[1;33m\u001b[0m\u001b[1;33m\u001b[0m\u001b[0m\n",
      "\u001b[1;32mc:\\users\\ricar\\.venvs\\lewagon\\lib\\site-packages\\sklearn\\utils\\validation.py\u001b[0m in \u001b[0;36mcheck_X_y\u001b[1;34m(X, y, accept_sparse, accept_large_sparse, dtype, order, copy, force_all_finite, ensure_2d, allow_nd, multi_output, ensure_min_samples, ensure_min_features, y_numeric, warn_on_dtype, estimator)\u001b[0m\n\u001b[0;32m    754\u001b[0m                     \u001b[0mensure_min_features\u001b[0m\u001b[1;33m=\u001b[0m\u001b[0mensure_min_features\u001b[0m\u001b[1;33m,\u001b[0m\u001b[1;33m\u001b[0m\u001b[1;33m\u001b[0m\u001b[0m\n\u001b[0;32m    755\u001b[0m                     \u001b[0mwarn_on_dtype\u001b[0m\u001b[1;33m=\u001b[0m\u001b[0mwarn_on_dtype\u001b[0m\u001b[1;33m,\u001b[0m\u001b[1;33m\u001b[0m\u001b[1;33m\u001b[0m\u001b[0m\n\u001b[1;32m--> 756\u001b[1;33m                     estimator=estimator)\n\u001b[0m\u001b[0;32m    757\u001b[0m     \u001b[1;32mif\u001b[0m \u001b[0mmulti_output\u001b[0m\u001b[1;33m:\u001b[0m\u001b[1;33m\u001b[0m\u001b[1;33m\u001b[0m\u001b[0m\n\u001b[0;32m    758\u001b[0m         y = check_array(y, 'csr', force_all_finite=True, ensure_2d=False,\n",
      "\u001b[1;32mc:\\users\\ricar\\.venvs\\lewagon\\lib\\site-packages\\sklearn\\utils\\validation.py\u001b[0m in \u001b[0;36mcheck_array\u001b[1;34m(array, accept_sparse, accept_large_sparse, dtype, order, copy, force_all_finite, ensure_2d, allow_nd, ensure_min_samples, ensure_min_features, warn_on_dtype, estimator)\u001b[0m\n\u001b[0;32m    565\u001b[0m         \u001b[1;31m# make sure we actually converted to numeric:\u001b[0m\u001b[1;33m\u001b[0m\u001b[1;33m\u001b[0m\u001b[1;33m\u001b[0m\u001b[0m\n\u001b[0;32m    566\u001b[0m         \u001b[1;32mif\u001b[0m \u001b[0mdtype_numeric\u001b[0m \u001b[1;32mand\u001b[0m \u001b[0marray\u001b[0m\u001b[1;33m.\u001b[0m\u001b[0mdtype\u001b[0m\u001b[1;33m.\u001b[0m\u001b[0mkind\u001b[0m \u001b[1;33m==\u001b[0m \u001b[1;34m\"O\"\u001b[0m\u001b[1;33m:\u001b[0m\u001b[1;33m\u001b[0m\u001b[1;33m\u001b[0m\u001b[0m\n\u001b[1;32m--> 567\u001b[1;33m             \u001b[0marray\u001b[0m \u001b[1;33m=\u001b[0m \u001b[0marray\u001b[0m\u001b[1;33m.\u001b[0m\u001b[0mastype\u001b[0m\u001b[1;33m(\u001b[0m\u001b[0mnp\u001b[0m\u001b[1;33m.\u001b[0m\u001b[0mfloat64\u001b[0m\u001b[1;33m)\u001b[0m\u001b[1;33m\u001b[0m\u001b[1;33m\u001b[0m\u001b[0m\n\u001b[0m\u001b[0;32m    568\u001b[0m         \u001b[1;32mif\u001b[0m \u001b[1;32mnot\u001b[0m \u001b[0mallow_nd\u001b[0m \u001b[1;32mand\u001b[0m \u001b[0marray\u001b[0m\u001b[1;33m.\u001b[0m\u001b[0mndim\u001b[0m \u001b[1;33m>=\u001b[0m \u001b[1;36m3\u001b[0m\u001b[1;33m:\u001b[0m\u001b[1;33m\u001b[0m\u001b[1;33m\u001b[0m\u001b[0m\n\u001b[0;32m    569\u001b[0m             raise ValueError(\"Found array with dim %d. %s expected <= 2.\"\n",
      "\u001b[1;31mValueError\u001b[0m: could not convert string to float: 'T01'"
     ]
    }
   ],
   "source": [
    "a.train()"
   ]
  },
  {
   "cell_type": "code",
   "execution_count": null,
   "metadata": {},
   "outputs": [],
   "source": []
  },
  {
   "cell_type": "code",
   "execution_count": null,
   "metadata": {},
   "outputs": [],
   "source": []
  },
  {
   "cell_type": "code",
   "execution_count": null,
   "metadata": {},
   "outputs": [],
   "source": []
  },
  {
   "cell_type": "code",
   "execution_count": null,
   "metadata": {},
   "outputs": [],
   "source": []
  },
  {
   "cell_type": "code",
   "execution_count": null,
   "metadata": {
    "ExecuteTime": {
     "end_time": "2021-02-18T19:42:27.126101Z",
     "start_time": "2021-02-18T19:42:27.041110Z"
    }
   },
   "outputs": [],
   "source": []
  },
  {
   "cell_type": "code",
   "execution_count": null,
   "metadata": {
    "ExecuteTime": {
     "end_time": "2021-02-19T18:39:19.702048Z",
     "start_time": "2021-02-19T18:37:47.167Z"
    }
   },
   "outputs": [],
   "source": [
    "scaler.fit(x_train['df_generator'])"
   ]
  },
  {
   "cell_type": "code",
   "execution_count": null,
   "metadata": {
    "ExecuteTime": {
     "end_time": "2021-02-19T18:39:19.703045Z",
     "start_time": "2021-02-19T18:37:47.169Z"
    }
   },
   "outputs": [],
   "source": [
    "train_turbines = {\n",
    "    'df_generator': ['T11', 'T06'],\n",
    "    'df_hydraulic': ['T06', 'T11'],\n",
    "    'df_gen_bear': ['T07', 'T09'],\n",
    "    'df_transformer': ['T07'],\n",
    "    'df_gearbox': ['T09']\n",
    "}"
   ]
  },
  {
   "cell_type": "code",
   "execution_count": null,
   "metadata": {
    "ExecuteTime": {
     "end_time": "2021-02-19T18:39:19.704042Z",
     "start_time": "2021-02-19T18:37:47.171Z"
    }
   },
   "outputs": [],
   "source": [
    "for key in df_train_dict:\n",
    "    print(f'Considerar apenas as turbinas que tiveram falhas no component {key}')\n",
    "    x_train[key] = x_train[key][x_train[key]['Turbine_ID'].isin(train_turbines[key])]"
   ]
  },
  {
   "cell_type": "code",
   "execution_count": null,
   "metadata": {
    "ExecuteTime": {
     "end_time": "2021-02-19T18:39:19.706037Z",
     "start_time": "2021-02-19T18:37:47.173Z"
    }
   },
   "outputs": [],
   "source": [
    "scaler.transform(x_train['df_generator']).shape"
   ]
  },
  {
   "cell_type": "code",
   "execution_count": null,
   "metadata": {
    "ExecuteTime": {
     "end_time": "2021-02-19T18:39:19.707035Z",
     "start_time": "2021-02-19T18:37:47.175Z"
    }
   },
   "outputs": [],
   "source": [
    "Pipeline(steps=[('1passo', mig.CustomStandardScaler())])"
   ]
  },
  {
   "cell_type": "code",
   "execution_count": null,
   "metadata": {
    "ExecuteTime": {
     "end_time": "2021-02-19T18:39:19.708032Z",
     "start_time": "2021-02-19T18:37:47.177Z"
    }
   },
   "outputs": [],
   "source": [
    "scaler.transform(x_test['df_generator']).shape"
   ]
  },
  {
   "cell_type": "code",
   "execution_count": null,
   "metadata": {},
   "outputs": [],
   "source": []
  },
  {
   "cell_type": "code",
   "execution_count": null,
   "metadata": {},
   "outputs": [],
   "source": []
  },
  {
   "cell_type": "code",
   "execution_count": null,
   "metadata": {},
   "outputs": [],
   "source": []
  },
  {
   "cell_type": "code",
   "execution_count": null,
   "metadata": {
    "ExecuteTime": {
     "end_time": "2021-02-19T18:39:19.710026Z",
     "start_time": "2021-02-19T18:37:47.183Z"
    }
   },
   "outputs": [],
   "source": [
    "# Normalizar os dados\n",
    "for key in x_train:\n",
    "    x_train[key], x_test[key] = dprep.scale(x_train[key], x_test[key])\n",
    "\n",
    "#Sem normalizar os dados\n",
    "# X_train = x_train[0].drop(columns=['Turbine_ID']).to_numpy()\n",
    "# X_test = x_test[0].drop(columns=['Turbine_ID']).to_numpy()"
   ]
  },
  {
   "cell_type": "code",
   "execution_count": null,
   "metadata": {
    "ExecuteTime": {
     "end_time": "2021-02-19T18:39:19.711024Z",
     "start_time": "2021-02-19T18:37:47.185Z"
    }
   },
   "outputs": [],
   "source": [
    "for key in y_train:\n",
    "    y_train[key] = y_train[key].to_numpy().astype(int)[:,0]\n",
    "    y_test[key] = y_test[key].to_numpy().astype(int)[:,0]"
   ]
  },
  {
   "cell_type": "markdown",
   "metadata": {},
   "source": [
    "# Model Training - Logistic Regression"
   ]
  },
  {
   "cell_type": "code",
   "execution_count": null,
   "metadata": {
    "ExecuteTime": {
     "end_time": "2021-02-19T18:39:19.712021Z",
     "start_time": "2021-02-19T18:37:47.189Z"
    },
    "scrolled": false
   },
   "outputs": [],
   "source": [
    "# Correr o mesmo modelo para todos os componentes\n",
    "for key in x_train:\n",
    "    print(f'Trainning component {key}')\n",
    "    # Train the model\n",
    "    model_name = 'Logistic Regression'\n",
    "    clf_LogReg = LogisticRegression(random_state=42, max_iter=1000)\n",
    "    gs_params = {\n",
    "        'C': [.01, 0.1, 1.0, 10],\n",
    "        'solver': ['liblinear', 'lbfgs'],\n",
    "        'class_weight': [None, 'balanced']\n",
    "    }\n",
    "    gs_score = 'roc_auc'\n",
    "\n",
    "    clf_LogReg, pred_LogReg = dprep.bin_classify(model_name,\n",
    "                                                 clf_LogReg,\n",
    "                                                 x_train[key],\n",
    "                                                 x_test[key],\n",
    "                                                 y_train[key],\n",
    "                                                 y_test[key],\n",
    "                                                 params=gs_params,\n",
    "                                                 score=gs_score)\n",
    "    print('\\nBest Parameters:\\n', clf_LogReg)\n",
    "    # Obtain metrics\n",
    "    metrics_dict_miguel = dprep.metrics(y_test[key], pred_LogReg.y_pred,\n",
    "                                        pred_LogReg.y_score)\n",
    "    conf_matrix = dprep.conf_matrix(y_test[key], pred_LogReg.y_pred)\n",
    "    dprep.roc_curve_plot(y_test[key], pred_LogReg.y_score)\n",
    "\n",
    "    print(f'Calculating Savings to component {key}')\n",
    "    # Calculate savings\n",
    "    sav, cf_numb, met_df, dias = dprep.metrics_create_df(df_test_dict[key],\n",
    "                                                   y_test[key],\n",
    "                                                   pred_LogReg.y_pred.values,\n",
    "                                                   key, 15)\n",
    "\n",
    "    # Store metrics to compare\n",
    "    metrics_dict['try_' + str(tentativa)] = {\n",
    "        'Componente': key,\n",
    "        'Nome_modelo': model_name,\n",
    "        'dias_var_alvo': col_to_mantain_test,\n",
    "        'feature_selection': 'Guilherme',\n",
    "        'Agrup_por': Agrup_por,\n",
    "        'add_features': 'smooth only',\n",
    "        'per_test': per_test,\n",
    "        'model': model_name,\n",
    "        'Metrics': metrics_dict_miguel,\n",
    "        'cf_matriX_log_reg': conf_matrix,\n",
    "        'Savings': sav,\n",
    "        'cf_bussines_numbers': cf_numb\n",
    "    }\n",
    "    tentativa = tentativa + 1"
   ]
  },
  {
   "cell_type": "code",
   "execution_count": null,
   "metadata": {
    "ExecuteTime": {
     "end_time": "2021-02-19T18:39:19.713020Z",
     "start_time": "2021-02-19T18:37:47.191Z"
    }
   },
   "outputs": [],
   "source": [
    "Savings = 0\n",
    "for i in metrics_dict:\n",
    "    if metrics_dict[i]['Nome_modelo'] == 'Logistic Regression':\n",
    "        Savings = Savings + metrics_dict[i]['Savings']\n",
    "        print(metrics_dict[i]['Componente'], metrics_dict[i]['Savings'])\n",
    "Savings        "
   ]
  },
  {
   "cell_type": "code",
   "execution_count": null,
   "metadata": {
    "ExecuteTime": {
     "end_time": "2021-02-19T18:39:19.715013Z",
     "start_time": "2021-02-19T18:37:47.192Z"
    }
   },
   "outputs": [],
   "source": [
    "for key in metrics_dict:\n",
    "#     if metrics_dict[key]['Componente'] == 'df_hydraulic':\n",
    "#     print()\n",
    "    print(metrics_dict[key]['Nome_modelo'], metrics_dict[key]['Componente'], metrics_dict[key]['Savings'])\n",
    "#               metrics_dict[key]['cf_matriX_log_reg'],\n",
    "#               metrics_dict[key]['cf_bussines_numbers'])"
   ]
  },
  {
   "cell_type": "markdown",
   "metadata": {},
   "source": [
    "# Model Training - Random Forrest Classifier"
   ]
  },
  {
   "cell_type": "code",
   "execution_count": null,
   "metadata": {
    "ExecuteTime": {
     "end_time": "2021-02-19T18:39:19.716011Z",
     "start_time": "2021-02-19T18:37:47.195Z"
    },
    "scrolled": false
   },
   "outputs": [],
   "source": [
    "# Correr o mesmo modelo para todos os componentes\n",
    "for key in x_train:\n",
    "    print(f'Trainning component {key}')\n",
    "    # Train the model\n",
    "    model_name = 'Random_Forest_Classifier'\n",
    "    clf_rfc = RandomForestClassifier(random_state=42)\n",
    "    gs_params = {\n",
    "        'n_estimators': [300, 500, 750, 800, 900, 1000],\n",
    "        'criterion': ['gini', 'entropy'],\n",
    "        'class_weight': ['balanced', None]\n",
    "    }\n",
    "    gs_score = 'recall'\n",
    "\n",
    "    clf_rcf, pred_rcf = dprep.bin_classify(model_name,\n",
    "                                           clf_rfc,\n",
    "                                           x_train[key],\n",
    "                                           x_test[key],\n",
    "                                           y_train[key],\n",
    "                                           y_test[key],\n",
    "                                           params=gs_params,\n",
    "                                           score=gs_score)\n",
    "    print('\\nBest Parameters:\\n', clf_rcf)\n",
    "    # Obtain metrics\n",
    "    metrics_dict_miguel = dprep.metrics(y_test[key], pred_rcf.y_pred,\n",
    "                                        pred_rcf.y_score)\n",
    "    conf_matrix = dprep.conf_matrix(y_test[key], pred_rcf.y_pred)\n",
    "    dprep.roc_curve_plot(y_test[key], pred_rcf.y_score)\n",
    "\n",
    "    print(f'Calculating Savings to component {key}')\n",
    "    # Calculate savings\n",
    "    sav, cf_numb, met_df, dias = dprep.metrics_create_df(df_test_dict[key],\n",
    "                                                   y_test[key],\n",
    "                                                   pred_rcf.y_pred.values,\n",
    "                                                   key, 15)\n",
    "\n",
    "    # Store metrics to compare\n",
    "    metrics_dict['try_' + str(tentativa)] = {\n",
    "        'Componente': key,\n",
    "        'Nome_modelo': model_name,\n",
    "        'dias_var_alvo': col_to_mantain_test,\n",
    "        'feature_selection': 'Guilherme',\n",
    "        'Agrup_por': Agrup_por,\n",
    "        'add_features': 'smooth only',\n",
    "        'per_test': per_test,\n",
    "        'model': model_name,\n",
    "        'Metrics': metrics_dict_miguel,\n",
    "        'cf_matriX_log_reg': conf_matrix,\n",
    "        'Savings': sav,\n",
    "        'cf_bussines_numbers': cf_numb\n",
    "    }\n",
    "    tentativa = tentativa + 1"
   ]
  },
  {
   "cell_type": "code",
   "execution_count": null,
   "metadata": {
    "ExecuteTime": {
     "end_time": "2021-02-19T18:39:19.717009Z",
     "start_time": "2021-02-19T18:37:47.198Z"
    }
   },
   "outputs": [],
   "source": [
    "Savings = 0\n",
    "for i in metrics_dict:\n",
    "    if metrics_dict[i]['Nome_modelo'] == 'Random_Forest_Classifier':\n",
    "        Savings = Savings + metrics_dict[i]['Savings']\n",
    "        print(metrics_dict[i]['Componente'], metrics_dict[i]['Savings'])\n",
    "Savings        "
   ]
  },
  {
   "cell_type": "markdown",
   "metadata": {},
   "source": [
    "# Model Training - Gradient Boost Classifier"
   ]
  },
  {
   "cell_type": "code",
   "execution_count": null,
   "metadata": {
    "ExecuteTime": {
     "end_time": "2021-02-19T18:39:19.718005Z",
     "start_time": "2021-02-19T18:37:47.201Z"
    }
   },
   "outputs": [],
   "source": [
    "# Correr o mesmo modelo para todos os componentes\n",
    "for key in x_train:\n",
    "    print(f'Trainning component {key}')\n",
    "    # Train the model\n",
    "    model_name = 'Gradient_Boosting_Classifier'\n",
    "    clf_gbc = GradientBoostingClassifier(random_state=42)\n",
    "    gs_params = {\n",
    "        'learning_rate': [0.001, 0.01, 0.1, 0.5, 1],\n",
    "        'n_estimators': [100, 200, 500, 700]\n",
    "    }\n",
    "    gs_score = 'recall'\n",
    "\n",
    "    clf_gbc, pred_gbc = dprep.bin_classify(model_name,\n",
    "                                           clf_gbc,\n",
    "                                           x_train[key],\n",
    "                                           x_test[key],\n",
    "                                           y_train[key],\n",
    "                                           y_test[key],\n",
    "                                           params=gs_params,\n",
    "                                           score=gs_score)\n",
    "    print('\\nBest Parameters:\\n', clf_gbc)\n",
    "    # Obtain metrics\n",
    "    metrics_dict_miguel = dprep.metrics(y_test[key], pred_gbc.y_pred,\n",
    "                                        pred_gbc.y_score)\n",
    "    conf_matrix = dprep.conf_matrix(y_test[key], pred_gbc.y_pred)\n",
    "    dprep.roc_curve_plot(y_test[key], pred_gbc.y_score)\n",
    "\n",
    "    print(f'Calculating Savings to component {key}')\n",
    "    # Calculate savings\n",
    "    sav, cf_numb, met_df, dias = dprep.metrics_create_df(df_test_dict[key],\n",
    "                                                   y_test[key],\n",
    "                                                   pred_gbc.y_pred.values,\n",
    "                                                   key, 15)\n",
    "\n",
    "    # Store metrics to compare\n",
    "    metrics_dict['try_' + str(tentativa)] = {\n",
    "        'Componente': key,\n",
    "        'Nome_modelo': model_name,\n",
    "        'dias_var_alvo': col_to_mantain_test,\n",
    "        'feature_selection': 'Guilherme',\n",
    "        'Agrup_por': Agrup_por,\n",
    "        'add_features': 'smooth only',\n",
    "        'per_test': per_test,\n",
    "        'model': model_name,\n",
    "        'Metrics': metrics_dict_miguel,\n",
    "        'cf_matriX_log_reg': conf_matrix,\n",
    "        'Savings': sav,\n",
    "        'cf_bussines_numbers': cf_numb\n",
    "    }\n",
    "    tentativa = tentativa + 1"
   ]
  },
  {
   "cell_type": "code",
   "execution_count": null,
   "metadata": {
    "ExecuteTime": {
     "end_time": "2021-02-19T18:39:19.720000Z",
     "start_time": "2021-02-19T18:37:47.203Z"
    }
   },
   "outputs": [],
   "source": [
    "Savings = 0\n",
    "for i in metrics_dict:\n",
    "    if metrics_dict[i]['Nome_modelo'] == 'Gradient_Boosting_Classifier':\n",
    "        Savings = Savings + metrics_dict[i]['Savings']\n",
    "        print(metrics_dict[i]['Componente'], metrics_dict[i]['Savings'])\n",
    "Savings        "
   ]
  },
  {
   "cell_type": "markdown",
   "metadata": {},
   "source": [
    "# Model Training - KNN Classsifier"
   ]
  },
  {
   "cell_type": "code",
   "execution_count": null,
   "metadata": {
    "ExecuteTime": {
     "end_time": "2021-02-19T18:39:19.720997Z",
     "start_time": "2021-02-19T18:37:47.206Z"
    }
   },
   "outputs": [],
   "source": [
    "# Correr o mesmo modelo para todos os componentes\n",
    "for key in x_train:\n",
    "    print(f'Trainning component {key}')\n",
    "    # Train the model\n",
    "    model_name = 'KNN_Classifier'\n",
    "    clf_knn = KNeighborsClassifier()\n",
    "    gs_params = {\n",
    "        'n_neighbors': [5, 7, 10, 15],\n",
    "        'weights': ['uniform', 'distance']\n",
    "    }\n",
    "    gs_score = 'recall'\n",
    "\n",
    "    clf_knn, pred_knn = dprep.bin_classify(model_name,\n",
    "                                           clf_knn,\n",
    "                                           x_train[key],\n",
    "                                           x_test[key],\n",
    "                                           y_train[key],\n",
    "                                           y_test[key],\n",
    "                                           params=gs_params,\n",
    "                                           score=gs_score)\n",
    "    print('\\nBest Parameters:\\n', clf_knn)\n",
    "    # Obtain metrics\n",
    "    metrics_dict_miguel = dprep.metrics(y_test[key], pred_knn.y_pred,\n",
    "                                        pred_knn.y_score)\n",
    "    conf_matrix = dprep.conf_matrix(y_test[key], pred_knn.y_pred)\n",
    "    dprep.roc_curve_plot(y_test[key], pred_knn.y_score)\n",
    "\n",
    "    print(f'Calculating Savings to component {key}')\n",
    "    # Calculate savings\n",
    "    sav, cf_numb, met_df, dias = dprep.metrics_create_df(df_test_dict[key],\n",
    "                                                   y_test[key],\n",
    "                                                   pred_knn.y_pred.values,\n",
    "                                                   key, 15)\n",
    "\n",
    "    # Store metrics to compare\n",
    "    metrics_dict['try_' + str(tentativa)] = {\n",
    "        'Componente': key,\n",
    "        'Nome_modelo': model_name,\n",
    "        'dias_var_alvo': col_to_mantain_test,\n",
    "        'feature_selection': 'Guilherme',\n",
    "        'Agrup_por': Agrup_por,\n",
    "        'add_features': 'smooth only',\n",
    "        'per_test': per_test,\n",
    "        'model': model_name,\n",
    "        'Metrics': metrics_dict_miguel,\n",
    "        'cf_matriX_log_reg': conf_matrix,\n",
    "        'Savings': sav,\n",
    "        'cf_bussines_numbers': cf_numb\n",
    "    }\n",
    "    tentativa = tentativa + 1"
   ]
  },
  {
   "cell_type": "code",
   "execution_count": null,
   "metadata": {
    "ExecuteTime": {
     "end_time": "2021-02-19T18:39:19.721995Z",
     "start_time": "2021-02-19T18:37:47.208Z"
    }
   },
   "outputs": [],
   "source": [
    "Savings = 0\n",
    "for i in metrics_dict:\n",
    "    if metrics_dict[i]['Nome_modelo'] == 'KNN_Classifier':\n",
    "        Savings = Savings + metrics_dict[i]['Savings']\n",
    "        print(metrics_dict[i]['Componente'], metrics_dict[i]['Savings'])\n",
    "Savings        "
   ]
  },
  {
   "cell_type": "markdown",
   "metadata": {},
   "source": [
    "# Model Training - AdaBoostClassifier"
   ]
  },
  {
   "cell_type": "code",
   "execution_count": null,
   "metadata": {
    "ExecuteTime": {
     "end_time": "2021-02-19T18:39:19.723006Z",
     "start_time": "2021-02-19T18:37:47.211Z"
    }
   },
   "outputs": [],
   "source": [
    "# Correr o mesmo modelo para todos os componentes\n",
    "for key in x_train:\n",
    "    print(f'Trainning component {key}')\n",
    "    # Train the model\n",
    "    model_name = 'AdaBoostClassifier'\n",
    "    clf_abc = AdaBoostClassifier(random_state=42)\n",
    "    gs_params = {'n_estimators': [50, 100, 200, 300, 500]}\n",
    "    gs_score = 'recall'\n",
    "\n",
    "    clf_abc, pred_abc = dprep.bin_classify(model_name,\n",
    "                                           clf_abc,\n",
    "                                           x_train[key],\n",
    "                                           x_test[key],\n",
    "                                           y_train[key],\n",
    "                                           y_test[key],\n",
    "                                           params=gs_params,\n",
    "                                           score=gs_score)\n",
    "    print('\\nBest Parameters:\\n', clf_abc)\n",
    "    # Obtain metrics\n",
    "    metrics_dict_miguel = dprep.metrics(y_test[key], pred_abc.y_pred,\n",
    "                                        pred_abc.y_score)\n",
    "    conf_matrix = dprep.conf_matrix(y_test[key], pred_abc.y_pred)\n",
    "    dprep.roc_curve_plot(y_test[key], pred_abc.y_score)\n",
    "\n",
    "    print(f'Calculating Savings to component {key}')\n",
    "    # Calculate savings\n",
    "    sav, cf_numb, met_df, dias = dprep.metrics_create_df(df_test_dict[key],\n",
    "                                                   y_test[key],\n",
    "                                                   pred_abc.y_pred.values,\n",
    "                                                   key, 15)\n",
    "\n",
    "    # Store metrics to compare\n",
    "    metrics_dict['try_' + str(tentativa)] = {\n",
    "        'Componente': key,\n",
    "        'Nome_modelo': model_name,\n",
    "        'dias_var_alvo': col_to_mantain_test,\n",
    "        'feature_selection': 'Guilherme',\n",
    "        'Agrup_por': Agrup_por,\n",
    "        'add_features': 'smooth only',\n",
    "        'per_test': per_test,\n",
    "        'model': model_name,\n",
    "        'Metrics': metrics_dict_miguel,\n",
    "        'cf_matriX_log_reg': conf_matrix,\n",
    "        'Savings': sav,\n",
    "        'cf_bussines_numbers': cf_numb\n",
    "    }\n",
    "    tentativa = tentativa + 1"
   ]
  },
  {
   "cell_type": "code",
   "execution_count": null,
   "metadata": {
    "ExecuteTime": {
     "end_time": "2021-02-19T18:39:19.723990Z",
     "start_time": "2021-02-19T18:37:47.212Z"
    }
   },
   "outputs": [],
   "source": [
    "Savings = 0\n",
    "for i in metrics_dict:\n",
    "    if metrics_dict[i]['Nome_modelo'] == 'AdaBoostClassifier':\n",
    "        Savings = Savings + metrics_dict[i]['Savings']\n",
    "        print(metrics_dict[i]['Componente'], metrics_dict[i]['Savings'])\n",
    "Savings        "
   ]
  },
  {
   "cell_type": "code",
   "execution_count": null,
   "metadata": {
    "ExecuteTime": {
     "end_time": "2021-02-19T18:39:19.724988Z",
     "start_time": "2021-02-19T18:37:47.214Z"
    }
   },
   "outputs": [],
   "source": [
    "import csv\n",
    "\n",
    "w = csv.writer(open(nome_ficheiro + \".csv\", \"w\"))\n",
    "for key, val in metrics_dict.items():\n",
    "    w.writerow([key, val])"
   ]
  },
  {
   "cell_type": "markdown",
   "metadata": {},
   "source": [
    "# Cria de DF para avaliação de métricas"
   ]
  },
  {
   "cell_type": "code",
   "execution_count": null,
   "metadata": {
    "ExecuteTime": {
     "end_time": "2021-02-19T18:39:19.725985Z",
     "start_time": "2021-02-19T18:37:47.217Z"
    }
   },
   "outputs": [],
   "source": [
    "sav"
   ]
  },
  {
   "cell_type": "code",
   "execution_count": null,
   "metadata": {
    "ExecuteTime": {
     "end_time": "2021-02-19T18:39:19.726981Z",
     "start_time": "2021-02-19T18:37:47.219Z"
    }
   },
   "outputs": [],
   "source": [
    "cf_numb"
   ]
  },
  {
   "cell_type": "code",
   "execution_count": null,
   "metadata": {
    "ExecuteTime": {
     "end_time": "2021-02-19T18:39:19.727979Z",
     "start_time": "2021-02-19T18:37:47.221Z"
    }
   },
   "outputs": [],
   "source": [
    "met_df[met_df.FP==1][met_df[met_df.FP==1].new_FP==1]"
   ]
  },
  {
   "cell_type": "code",
   "execution_count": null,
   "metadata": {},
   "outputs": [],
   "source": []
  },
  {
   "cell_type": "code",
   "execution_count": null,
   "metadata": {},
   "outputs": [],
   "source": []
  }
 ],
 "metadata": {
  "kernelspec": {
   "display_name": "Python 3",
   "language": "python",
   "name": "python3"
  },
  "language_info": {
   "codemirror_mode": {
    "name": "ipython",
    "version": 3
   },
   "file_extension": ".py",
   "mimetype": "text/x-python",
   "name": "python",
   "nbconvert_exporter": "python",
   "pygments_lexer": "ipython3",
   "version": "3.7.7"
  },
  "toc": {
   "base_numbering": "",
   "nav_menu": {},
   "number_sections": true,
   "sideBar": true,
   "skip_h1_title": true,
   "title_cell": "Table of Contents",
   "title_sidebar": "Contents",
   "toc_cell": true,
   "toc_position": {},
   "toc_section_display": false,
   "toc_window_display": false
  }
 },
 "nbformat": 4,
 "nbformat_minor": 4
}
