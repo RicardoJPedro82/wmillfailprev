{
 "cells": [
  {
   "cell_type": "code",
   "execution_count": 1,
   "id": "inside-riding",
   "metadata": {
    "ExecuteTime": {
     "end_time": "2021-02-10T08:02:29.838971Z",
     "start_time": "2021-02-10T08:02:29.096154Z"
    }
   },
   "outputs": [],
   "source": [
    "import pandas as pd\n",
    "import numpy as np\n",
    "import seaborn as sns\n",
    "import matplotlib.pyplot as plt\n",
    "import datetime"
   ]
  },
  {
   "cell_type": "code",
   "execution_count": 21,
   "id": "resident-contrary",
   "metadata": {
    "ExecuteTime": {
     "end_time": "2021-02-10T08:13:18.582959Z",
     "start_time": "2021-02-10T08:13:18.561205Z"
    }
   },
   "outputs": [],
   "source": [
    "def get_data_and_first_cleaning():\n",
    "    rooth_path = '../rawdata/training/'\n",
    "    failures_df = pd.read_csv(rooth_path + 'wind-farm-1-failures-training.csv')\n",
    "    locations_df = pd.read_csv(rooth_path + \"wind-farm-1-locations.csv\")\n",
    "    logs_df = pd.read_csv(rooth_path + 'wind-farm-1-logs-training.csv')\n",
    "    metmast_df = pd.read_csv(rooth_path + 'wind-farm-1-metmast-training.csv', sep=';')\n",
    "    signals_df = pd.read_csv(rooth_path + 'wind-farm-1-signals-training.csv', sep=';')\n",
    "    power_df = pd.read_csv(rooth_path + 'Power_curve.csv', sep=',')\n",
    "#     costs_df = pd.read_csv(rooth_path + 'HTW_Costs.csv')\n",
    "    \n",
    "    # pass all the Timestamps to date-time format\n",
    "    failures_df['Timestamp'] = pd.to_datetime(failures_df['Timestamp'])\n",
    "    logs_df['Timestamp'] = pd.to_datetime(logs_df['TimeDetected'])\n",
    "    logs_df = logs_df.drop(columns=['TimeDetected','UnitTitleDestination'])\n",
    "    metmast_df['Timestamp'] = pd.to_datetime(metmast_df['Timestamp'])\n",
    "    signals_df['Timestamp'] = pd.to_datetime(signals_df['Timestamp'])\n",
    "     \n",
    "    # Drop Columns with std=0 by DA\n",
    "    drop_features_metmast = ['Anemometer1_Offset', 'Anemometer2_Freq', 'Anemometer2_Offset', 'Min_Raindetection',\n",
    "                             'Avg_Raindetection', 'Anemometer1_CorrGain', 'Anemometer1_CorrOffset',\n",
    "                             'Anemometer2_CorrGain', 'Anemometer2_CorrOffset', 'DistanceAirPress', \n",
    "                             'AirRessureSensorZeroOffset']\n",
    "    metmast_df = metmast_df.drop(columns=drop_features_metmast)\n",
    "    \n",
    "    drop_features_signals = ['Prod_LatestAvg_ActPwrGen2', 'Prod_LatestAvg_ReactPwrGen2']\n",
    "    signals_df = signals_df.drop(columns=drop_features_signals)\n",
    "    \n",
    "    failures_df = failures_df.drop(columns='Remarks')\n",
    "    \n",
    "    #Fill na by interpolate\n",
    "    signals_df = signals_df.bfill()\n",
    "    \n",
    "    return failures_df, locations_df, logs_df, metmast_df, signals_df, power_df"
   ]
  },
  {
   "cell_type": "code",
   "execution_count": 22,
   "id": "harmful-characteristic",
   "metadata": {
    "ExecuteTime": {
     "end_time": "2021-02-10T08:13:23.318684Z",
     "start_time": "2021-02-10T08:13:19.021100Z"
    }
   },
   "outputs": [],
   "source": [
    "failures_df, locations_df, logs_df, metmast_df, signals_df, power_df = get_data_and_first_cleaning()"
   ]
  },
  {
   "cell_type": "code",
   "execution_count": 54,
   "id": "advised-wholesale",
   "metadata": {
    "ExecuteTime": {
     "end_time": "2021-02-09T19:37:07.090245Z",
     "start_time": "2021-02-09T19:37:07.070453Z"
    }
   },
   "outputs": [
    {
     "name": "stderr",
     "output_type": "stream",
     "text": [
      "/home/guilherme/.pyenv/versions/3.7.2/lib/python3.7/site-packages/pandas/core/frame.py:4527: SettingWithCopyWarning: \n",
      "A value is trying to be set on a copy of a slice from a DataFrame\n",
      "\n",
      "See the caveats in the documentation: https://pandas.pydata.org/pandas-docs/stable/user_guide/indexing.html#returning-a-view-versus-a-copy\n",
      "  method=method,\n"
     ]
    }
   ],
   "source": [
    "# Classification label for failures\n",
    "failures_generator = failures_df[failures_df['Component'] == 'GENERATOR']\n",
    "failures_generator.replace('GENERATOR', 1, inplace=True)\n",
    "failures_gen_bear = failures_df[failures_df['Component'] == 'GENERATOR_BEARING']\n",
    "failures_gen_bear.replace('GENERATOR_BEARING', 1, inplace=True)\n",
    "failures_hyd = failures_df[failures_df['Component'] == 'HYDRAULIC_GROUP']\n",
    "failures_hyd.replace('HYDRAULIC_GROUP', 1, inplace=True)\n",
    "failures_gearbox = failures_df[failures_df['Component'] == 'GEARBOX']\n",
    "failures_gearbox.replace('GEARBOX', 1, inplace=True)\n",
    "failures_transf = failures_df[failures_df['Component'] == 'TRANSFORMER']\n",
    "failures_transf.replace('TRANSFORMER', 1, inplace=True)"
   ]
  },
  {
   "cell_type": "code",
   "execution_count": 55,
   "id": "trying-usage",
   "metadata": {
    "ExecuteTime": {
     "end_time": "2021-02-09T19:37:07.107063Z",
     "start_time": "2021-02-09T19:37:07.092544Z"
    }
   },
   "outputs": [
    {
     "data": {
      "text/html": [
       "<div>\n",
       "<style scoped>\n",
       "    .dataframe tbody tr th:only-of-type {\n",
       "        vertical-align: middle;\n",
       "    }\n",
       "\n",
       "    .dataframe tbody tr th {\n",
       "        vertical-align: top;\n",
       "    }\n",
       "\n",
       "    .dataframe thead th {\n",
       "        text-align: right;\n",
       "    }\n",
       "</style>\n",
       "<table border=\"1\" class=\"dataframe\">\n",
       "  <thead>\n",
       "    <tr style=\"text-align: right;\">\n",
       "      <th></th>\n",
       "      <th>Turbine_ID</th>\n",
       "      <th>Component</th>\n",
       "      <th>Timestamp</th>\n",
       "    </tr>\n",
       "  </thead>\n",
       "  <tbody>\n",
       "    <tr>\n",
       "      <th>0</th>\n",
       "      <td>T11</td>\n",
       "      <td>1</td>\n",
       "      <td>2016-03-03 19:00:00+00:00</td>\n",
       "    </tr>\n",
       "    <tr>\n",
       "      <th>5</th>\n",
       "      <td>T06</td>\n",
       "      <td>1</td>\n",
       "      <td>2016-07-11 19:48:00+00:00</td>\n",
       "    </tr>\n",
       "    <tr>\n",
       "      <th>7</th>\n",
       "      <td>T06</td>\n",
       "      <td>1</td>\n",
       "      <td>2016-07-24 17:01:00+00:00</td>\n",
       "    </tr>\n",
       "    <tr>\n",
       "      <th>10</th>\n",
       "      <td>T06</td>\n",
       "      <td>1</td>\n",
       "      <td>2016-09-04 08:08:00+00:00</td>\n",
       "    </tr>\n",
       "    <tr>\n",
       "      <th>11</th>\n",
       "      <td>T06</td>\n",
       "      <td>1</td>\n",
       "      <td>2016-10-02 17:08:00+00:00</td>\n",
       "    </tr>\n",
       "    <tr>\n",
       "      <th>15</th>\n",
       "      <td>T06</td>\n",
       "      <td>1</td>\n",
       "      <td>2016-10-27 16:26:00+00:00</td>\n",
       "    </tr>\n",
       "    <tr>\n",
       "      <th>22</th>\n",
       "      <td>T07</td>\n",
       "      <td>1</td>\n",
       "      <td>2017-08-21 14:47:00+00:00</td>\n",
       "    </tr>\n",
       "  </tbody>\n",
       "</table>\n",
       "</div>"
      ],
      "text/plain": [
       "   Turbine_ID  Component                 Timestamp\n",
       "0         T11          1 2016-03-03 19:00:00+00:00\n",
       "5         T06          1 2016-07-11 19:48:00+00:00\n",
       "7         T06          1 2016-07-24 17:01:00+00:00\n",
       "10        T06          1 2016-09-04 08:08:00+00:00\n",
       "11        T06          1 2016-10-02 17:08:00+00:00\n",
       "15        T06          1 2016-10-27 16:26:00+00:00\n",
       "22        T07          1 2017-08-21 14:47:00+00:00"
      ]
     },
     "execution_count": 55,
     "metadata": {},
     "output_type": "execute_result"
    }
   ],
   "source": [
    "failures_generator"
   ]
  },
  {
   "cell_type": "code",
   "execution_count": 56,
   "id": "different-cooler",
   "metadata": {
    "ExecuteTime": {
     "end_time": "2021-02-09T19:37:18.191815Z",
     "start_time": "2021-02-09T19:37:07.109521Z"
    }
   },
   "outputs": [],
   "source": [
    "# Merge DF Failures with DF of each component to know the moment of each failure\n",
    "generator_final = signals_df.merge(failures_generator, on=['Timestamp','Turbine_ID'], how='outer')\n",
    "gen_bear_final = signals_df.merge(failures_gen_bear, on=['Timestamp', 'Turbine_ID'], how='outer')\n",
    "hyd_final = signals_df.merge(failures_hyd, on=['Timestamp', 'Turbine_ID'], how='outer')\n",
    "gearbox_final = signals_df.merge(failures_gearbox, on=['Timestamp', 'Turbine_ID'], how='outer')\n",
    "transf_final = signals_df.merge(failures_transf, on=['Timestamp', 'Turbine_ID'], how='outer')"
   ]
  },
  {
   "cell_type": "code",
   "execution_count": 57,
   "id": "false-standing",
   "metadata": {
    "ExecuteTime": {
     "end_time": "2021-02-09T19:37:18.205253Z",
     "start_time": "2021-02-09T19:37:18.195203Z"
    }
   },
   "outputs": [],
   "source": [
    "#Fill na on component column\n",
    "generator_final['Component'].fillna(0, inplace=True)\n",
    "gen_bear_final['Component'].fillna(0, inplace=True)\n",
    "hyd_final['Component'].fillna(0, inplace=True)\n",
    "gearbox_final['Component'].fillna(0, inplace=True)\n",
    "transf_final['Component'].fillna(0, inplace=True)"
   ]
  },
  {
   "cell_type": "code",
   "execution_count": 58,
   "id": "vietnamese-blink",
   "metadata": {
    "ExecuteTime": {
     "end_time": "2021-02-09T19:37:18.223449Z",
     "start_time": "2021-02-09T19:37:18.209247Z"
    }
   },
   "outputs": [],
   "source": [
    "# Set Timestamp as Index\n",
    "generator_final.set_index('Timestamp', inplace=True)\n",
    "gen_bear_final.set_index('Timestamp', inplace=True)\n",
    "hyd_final.set_index('Timestamp', inplace=True)\n",
    "gearbox_final.set_index('Timestamp', inplace=True)\n",
    "transf_final.set_index('Timestamp', inplace=True)"
   ]
  },
  {
   "cell_type": "code",
   "execution_count": 59,
   "id": "alpha-kingston",
   "metadata": {
    "ExecuteTime": {
     "end_time": "2021-02-09T19:37:27.497456Z",
     "start_time": "2021-02-09T19:37:18.225590Z"
    }
   },
   "outputs": [
    {
     "ename": "KeyboardInterrupt",
     "evalue": "",
     "output_type": "error",
     "traceback": [
      "\u001b[0;31m---------------------------------------------------------------------------\u001b[0m",
      "\u001b[0;31mKeyboardInterrupt\u001b[0m                         Traceback (most recent call last)",
      "\u001b[0;32m<ipython-input-59-7edd8080183c>\u001b[0m in \u001b[0;36m<module>\u001b[0;34m\u001b[0m\n\u001b[1;32m      4\u001b[0m \u001b[0mhyd_final\u001b[0m\u001b[0;34m.\u001b[0m\u001b[0msort_index\u001b[0m\u001b[0;34m(\u001b[0m\u001b[0minplace\u001b[0m\u001b[0;34m=\u001b[0m\u001b[0;32mTrue\u001b[0m\u001b[0;34m)\u001b[0m\u001b[0;34m\u001b[0m\u001b[0;34m\u001b[0m\u001b[0m\n\u001b[1;32m      5\u001b[0m \u001b[0mgearbox_final\u001b[0m\u001b[0;34m.\u001b[0m\u001b[0msort_index\u001b[0m\u001b[0;34m(\u001b[0m\u001b[0minplace\u001b[0m\u001b[0;34m=\u001b[0m\u001b[0;32mTrue\u001b[0m\u001b[0;34m)\u001b[0m\u001b[0;34m\u001b[0m\u001b[0;34m\u001b[0m\u001b[0m\n\u001b[0;32m----> 6\u001b[0;31m \u001b[0mtransf_final\u001b[0m\u001b[0;34m.\u001b[0m\u001b[0msort_index\u001b[0m\u001b[0;34m(\u001b[0m\u001b[0minplace\u001b[0m\u001b[0;34m=\u001b[0m\u001b[0;32mTrue\u001b[0m\u001b[0;34m)\u001b[0m\u001b[0;34m\u001b[0m\u001b[0;34m\u001b[0m\u001b[0m\n\u001b[0m",
      "\u001b[0;32m~/.pyenv/versions/3.7.2/lib/python3.7/site-packages/pandas/core/frame.py\u001b[0m in \u001b[0;36msort_index\u001b[0;34m(self, axis, level, ascending, inplace, kind, na_position, sort_remaining, ignore_index, key)\u001b[0m\n\u001b[1;32m   5586\u001b[0m             \u001b[0msort_remaining\u001b[0m\u001b[0;34m,\u001b[0m\u001b[0;34m\u001b[0m\u001b[0;34m\u001b[0m\u001b[0m\n\u001b[1;32m   5587\u001b[0m             \u001b[0mignore_index\u001b[0m\u001b[0;34m,\u001b[0m\u001b[0;34m\u001b[0m\u001b[0;34m\u001b[0m\u001b[0m\n\u001b[0;32m-> 5588\u001b[0;31m             \u001b[0mkey\u001b[0m\u001b[0;34m,\u001b[0m\u001b[0;34m\u001b[0m\u001b[0;34m\u001b[0m\u001b[0m\n\u001b[0m\u001b[1;32m   5589\u001b[0m         )\n\u001b[1;32m   5590\u001b[0m \u001b[0;34m\u001b[0m\u001b[0m\n",
      "\u001b[0;32m~/.pyenv/versions/3.7.2/lib/python3.7/site-packages/pandas/core/generic.py\u001b[0m in \u001b[0;36msort_index\u001b[0;34m(self, axis, level, ascending, inplace, kind, na_position, sort_remaining, ignore_index, key)\u001b[0m\n\u001b[1;32m   4543\u001b[0m \u001b[0;34m\u001b[0m\u001b[0m\n\u001b[1;32m   4544\u001b[0m         \u001b[0mbaxis\u001b[0m \u001b[0;34m=\u001b[0m \u001b[0mself\u001b[0m\u001b[0;34m.\u001b[0m\u001b[0m_get_block_manager_axis\u001b[0m\u001b[0;34m(\u001b[0m\u001b[0maxis\u001b[0m\u001b[0;34m)\u001b[0m\u001b[0;34m\u001b[0m\u001b[0;34m\u001b[0m\u001b[0m\n\u001b[0;32m-> 4545\u001b[0;31m         \u001b[0mnew_data\u001b[0m \u001b[0;34m=\u001b[0m \u001b[0mself\u001b[0m\u001b[0;34m.\u001b[0m\u001b[0m_mgr\u001b[0m\u001b[0;34m.\u001b[0m\u001b[0mtake\u001b[0m\u001b[0;34m(\u001b[0m\u001b[0mindexer\u001b[0m\u001b[0;34m,\u001b[0m \u001b[0maxis\u001b[0m\u001b[0;34m=\u001b[0m\u001b[0mbaxis\u001b[0m\u001b[0;34m,\u001b[0m \u001b[0mverify\u001b[0m\u001b[0;34m=\u001b[0m\u001b[0;32mFalse\u001b[0m\u001b[0;34m)\u001b[0m\u001b[0;34m\u001b[0m\u001b[0;34m\u001b[0m\u001b[0m\n\u001b[0m\u001b[1;32m   4546\u001b[0m \u001b[0;34m\u001b[0m\u001b[0m\n\u001b[1;32m   4547\u001b[0m         \u001b[0;31m# reconstruct axis if needed\u001b[0m\u001b[0;34m\u001b[0m\u001b[0;34m\u001b[0m\u001b[0;34m\u001b[0m\u001b[0m\n",
      "\u001b[0;32m~/.pyenv/versions/3.7.2/lib/python3.7/site-packages/pandas/core/internals/managers.py\u001b[0m in \u001b[0;36mtake\u001b[0;34m(self, indexer, axis, verify, convert)\u001b[0m\n\u001b[1;32m   1456\u001b[0m         \u001b[0mTake\u001b[0m \u001b[0mitems\u001b[0m \u001b[0malong\u001b[0m \u001b[0many\u001b[0m \u001b[0maxis\u001b[0m\u001b[0;34m.\u001b[0m\u001b[0;34m\u001b[0m\u001b[0;34m\u001b[0m\u001b[0m\n\u001b[1;32m   1457\u001b[0m         \"\"\"\n\u001b[0;32m-> 1458\u001b[0;31m         \u001b[0mself\u001b[0m\u001b[0;34m.\u001b[0m\u001b[0m_consolidate_inplace\u001b[0m\u001b[0;34m(\u001b[0m\u001b[0;34m)\u001b[0m\u001b[0;34m\u001b[0m\u001b[0;34m\u001b[0m\u001b[0m\n\u001b[0m\u001b[1;32m   1459\u001b[0m         indexer = (\n\u001b[1;32m   1460\u001b[0m             \u001b[0mnp\u001b[0m\u001b[0;34m.\u001b[0m\u001b[0marange\u001b[0m\u001b[0;34m(\u001b[0m\u001b[0mindexer\u001b[0m\u001b[0;34m.\u001b[0m\u001b[0mstart\u001b[0m\u001b[0;34m,\u001b[0m \u001b[0mindexer\u001b[0m\u001b[0;34m.\u001b[0m\u001b[0mstop\u001b[0m\u001b[0;34m,\u001b[0m \u001b[0mindexer\u001b[0m\u001b[0;34m.\u001b[0m\u001b[0mstep\u001b[0m\u001b[0;34m,\u001b[0m \u001b[0mdtype\u001b[0m\u001b[0;34m=\u001b[0m\u001b[0;34m\"int64\"\u001b[0m\u001b[0;34m)\u001b[0m\u001b[0;34m\u001b[0m\u001b[0;34m\u001b[0m\u001b[0m\n",
      "\u001b[0;32m~/.pyenv/versions/3.7.2/lib/python3.7/site-packages/pandas/core/internals/managers.py\u001b[0m in \u001b[0;36m_consolidate_inplace\u001b[0;34m(self)\u001b[0m\n\u001b[1;32m    991\u001b[0m     \u001b[0;32mdef\u001b[0m \u001b[0m_consolidate_inplace\u001b[0m\u001b[0;34m(\u001b[0m\u001b[0mself\u001b[0m\u001b[0;34m)\u001b[0m \u001b[0;34m->\u001b[0m \u001b[0;32mNone\u001b[0m\u001b[0;34m:\u001b[0m\u001b[0;34m\u001b[0m\u001b[0;34m\u001b[0m\u001b[0m\n\u001b[1;32m    992\u001b[0m         \u001b[0;32mif\u001b[0m \u001b[0;32mnot\u001b[0m \u001b[0mself\u001b[0m\u001b[0;34m.\u001b[0m\u001b[0mis_consolidated\u001b[0m\u001b[0;34m(\u001b[0m\u001b[0;34m)\u001b[0m\u001b[0;34m:\u001b[0m\u001b[0;34m\u001b[0m\u001b[0;34m\u001b[0m\u001b[0m\n\u001b[0;32m--> 993\u001b[0;31m             \u001b[0mself\u001b[0m\u001b[0;34m.\u001b[0m\u001b[0mblocks\u001b[0m \u001b[0;34m=\u001b[0m \u001b[0mtuple\u001b[0m\u001b[0;34m(\u001b[0m\u001b[0m_consolidate\u001b[0m\u001b[0;34m(\u001b[0m\u001b[0mself\u001b[0m\u001b[0;34m.\u001b[0m\u001b[0mblocks\u001b[0m\u001b[0;34m)\u001b[0m\u001b[0;34m)\u001b[0m\u001b[0;34m\u001b[0m\u001b[0;34m\u001b[0m\u001b[0m\n\u001b[0m\u001b[1;32m    994\u001b[0m             \u001b[0mself\u001b[0m\u001b[0;34m.\u001b[0m\u001b[0m_is_consolidated\u001b[0m \u001b[0;34m=\u001b[0m \u001b[0;32mTrue\u001b[0m\u001b[0;34m\u001b[0m\u001b[0;34m\u001b[0m\u001b[0m\n\u001b[1;32m    995\u001b[0m             \u001b[0mself\u001b[0m\u001b[0;34m.\u001b[0m\u001b[0m_known_consolidated\u001b[0m \u001b[0;34m=\u001b[0m \u001b[0;32mTrue\u001b[0m\u001b[0;34m\u001b[0m\u001b[0;34m\u001b[0m\u001b[0m\n",
      "\u001b[0;32m~/.pyenv/versions/3.7.2/lib/python3.7/site-packages/pandas/core/internals/managers.py\u001b[0m in \u001b[0;36m_consolidate\u001b[0;34m(blocks)\u001b[0m\n\u001b[1;32m   1915\u001b[0m     \u001b[0;32mfor\u001b[0m \u001b[0;34m(\u001b[0m\u001b[0m_can_consolidate\u001b[0m\u001b[0;34m,\u001b[0m \u001b[0mdtype\u001b[0m\u001b[0;34m)\u001b[0m\u001b[0;34m,\u001b[0m \u001b[0mgroup_blocks\u001b[0m \u001b[0;32min\u001b[0m \u001b[0mgrouper\u001b[0m\u001b[0;34m:\u001b[0m\u001b[0;34m\u001b[0m\u001b[0;34m\u001b[0m\u001b[0m\n\u001b[1;32m   1916\u001b[0m         merged_blocks = _merge_blocks(\n\u001b[0;32m-> 1917\u001b[0;31m             \u001b[0mlist\u001b[0m\u001b[0;34m(\u001b[0m\u001b[0mgroup_blocks\u001b[0m\u001b[0;34m)\u001b[0m\u001b[0;34m,\u001b[0m \u001b[0mdtype\u001b[0m\u001b[0;34m=\u001b[0m\u001b[0mdtype\u001b[0m\u001b[0;34m,\u001b[0m \u001b[0mcan_consolidate\u001b[0m\u001b[0;34m=\u001b[0m\u001b[0m_can_consolidate\u001b[0m\u001b[0;34m\u001b[0m\u001b[0;34m\u001b[0m\u001b[0m\n\u001b[0m\u001b[1;32m   1918\u001b[0m         )\n\u001b[1;32m   1919\u001b[0m         \u001b[0mnew_blocks\u001b[0m \u001b[0;34m=\u001b[0m \u001b[0mextend_blocks\u001b[0m\u001b[0;34m(\u001b[0m\u001b[0mmerged_blocks\u001b[0m\u001b[0;34m,\u001b[0m \u001b[0mnew_blocks\u001b[0m\u001b[0;34m)\u001b[0m\u001b[0;34m\u001b[0m\u001b[0;34m\u001b[0m\u001b[0m\n",
      "\u001b[0;32m~/.pyenv/versions/3.7.2/lib/python3.7/site-packages/pandas/core/internals/managers.py\u001b[0m in \u001b[0;36m_merge_blocks\u001b[0;34m(blocks, dtype, can_consolidate)\u001b[0m\n\u001b[1;32m   1940\u001b[0m \u001b[0;34m\u001b[0m\u001b[0m\n\u001b[1;32m   1941\u001b[0m         \u001b[0margsort\u001b[0m \u001b[0;34m=\u001b[0m \u001b[0mnp\u001b[0m\u001b[0;34m.\u001b[0m\u001b[0margsort\u001b[0m\u001b[0;34m(\u001b[0m\u001b[0mnew_mgr_locs\u001b[0m\u001b[0;34m)\u001b[0m\u001b[0;34m\u001b[0m\u001b[0;34m\u001b[0m\u001b[0m\n\u001b[0;32m-> 1942\u001b[0;31m         \u001b[0mnew_values\u001b[0m \u001b[0;34m=\u001b[0m \u001b[0mnew_values\u001b[0m\u001b[0;34m[\u001b[0m\u001b[0margsort\u001b[0m\u001b[0;34m]\u001b[0m\u001b[0;34m\u001b[0m\u001b[0;34m\u001b[0m\u001b[0m\n\u001b[0m\u001b[1;32m   1943\u001b[0m         \u001b[0mnew_mgr_locs\u001b[0m \u001b[0;34m=\u001b[0m \u001b[0mnew_mgr_locs\u001b[0m\u001b[0;34m[\u001b[0m\u001b[0margsort\u001b[0m\u001b[0;34m]\u001b[0m\u001b[0;34m\u001b[0m\u001b[0;34m\u001b[0m\u001b[0m\n\u001b[1;32m   1944\u001b[0m \u001b[0;34m\u001b[0m\u001b[0m\n",
      "\u001b[0;31mKeyboardInterrupt\u001b[0m: "
     ]
    }
   ],
   "source": [
    "# Sort Index\n",
    "generator_final.sort_index(inplace=True)\n",
    "gen_bear_final.sort_index(inplace=True)                                      \n",
    "hyd_final.sort_index(inplace=True)\n",
    "gearbox_final.sort_index(inplace=True)\n",
    "transf_final.sort_index(inplace=True)"
   ]
  },
  {
   "cell_type": "code",
   "execution_count": null,
   "id": "numerical-identifier",
   "metadata": {
    "ExecuteTime": {
     "end_time": "2021-02-09T19:37:27.499462Z",
     "start_time": "2021-02-09T19:37:00.884Z"
    }
   },
   "outputs": [],
   "source": [
    "# Reset Index to group by Timestamp and Turbine_ID\n",
    "generator_final.reset_index(inplace=True)\n",
    "gen_bear_final.reset_index(inplace=True)                                      \n",
    "hyd_final.reset_index(inplace=True)\n",
    "gearbox_final.reset_index(inplace=True)\n",
    "transf_final.reset_index(inplace=True)"
   ]
  },
  {
   "cell_type": "code",
   "execution_count": null,
   "id": "ecological-guess",
   "metadata": {
    "ExecuteTime": {
     "end_time": "2021-02-09T19:37:27.500595Z",
     "start_time": "2021-02-09T19:37:00.887Z"
    }
   },
   "outputs": [],
   "source": [
    "def prepare_data(df, strategy='mean'):\n",
    "    if strategy == 'mean':\n",
    "        df = df.groupby(by=['Turbine_ID','Timestamp']).mean()\n",
    "    else:\n",
    "        df = df.grouby(by=['Turbine_ID', 'Timestamp']).max()\n",
    "    \n",
    "    # Fill na by interpolate\n",
    "    df = df.bfill().reset_index()\n",
    "        \n",
    "    return df"
   ]
  },
  {
   "cell_type": "code",
   "execution_count": null,
   "id": "elect-restoration",
   "metadata": {
    "ExecuteTime": {
     "end_time": "2021-02-09T19:37:27.501832Z",
     "start_time": "2021-02-09T19:37:00.889Z"
    }
   },
   "outputs": [],
   "source": [
    "df_generator_final=prepare_data(generator_final)\n",
    "df_gen_bear_final=prepare_data(gen_bear_final)\n",
    "df_hyd_final=prepare_data(hyd_final)\n",
    "df_gearbox_final=prepare_data(gearbox_final)\n",
    "df_transf_final=prepare_data(transf_final)"
   ]
  },
  {
   "cell_type": "code",
   "execution_count": null,
   "id": "downtown-september",
   "metadata": {
    "ExecuteTime": {
     "end_time": "2021-02-09T19:37:27.502673Z",
     "start_time": "2021-02-09T19:37:00.890Z"
    }
   },
   "outputs": [],
   "source": [
    "print(df_generator_final.isnull().values.any())\n",
    "print(df_gen_bear_final.isnull().values.any())\n",
    "print(df_hyd_final.isnull().values.any())\n",
    "print(df_gearbox_final.isnull().values.any())\n",
    "print(df_transf_final.isnull().values.any())"
   ]
  },
  {
   "cell_type": "code",
   "execution_count": null,
   "id": "useful-interest",
   "metadata": {
    "ExecuteTime": {
     "end_time": "2021-02-09T19:37:27.503511Z",
     "start_time": "2021-02-09T19:37:00.892Z"
    }
   },
   "outputs": [],
   "source": [
    "def fill_na_by_turbine(df):\n",
    "    turbines = ['T01', 'T06', 'T07', 'T09', 'T11']\n",
    "    df_ = pd.DataFrame(columns=df.columns)\n",
    "    for turbine in turbines:\n",
    "        df1 = df.loc[df['Turbine_ID']==turbine]\n",
    "        if df1['Component'].nunique()>1:\n",
    "            index = df1[df1['Component']==1]\n",
    "            index['date'] = index['Timestamp']\n",
    "            index = index[['date','Timestamp', 'Turbine_ID']]\n",
    "            df_merged = df1.merge(index, how='left', on=['Turbine_ID','Timestamp'])\n",
    "            df_merged = df_merged.fillna(method='bfill')\n",
    "            \n",
    "            #If there is not a failure after, hold present date\n",
    "            df_merged['date'] = df_merged['date'].fillna(df_merged['Timestamp'])\n",
    "            \n",
    "            df_merged['TTF'] = round((df_merged['date'] - \n",
    "                                      df_merged['Timestamp']) / np.timedelta64(1, 'D'),0)\n",
    "        else:\n",
    "            df_merged = df1\n",
    "            df_merged['date'] = df_merged['Timestamp']\n",
    "#             df1 = df1[['date','Timestamp', 'Turbine_ID']]\n",
    "#             df_merged = df.merge(df1, how='left', on=['Turbine_ID','Timestamp'])\n",
    "            \n",
    "#             df_merged['date'] = df_merged['date'].fillna(df_merged['Timestamp'])\n",
    "            df_merged['TTF'] = 0 # df_merged['date'] - df_merged['Timestamp'] \n",
    "\n",
    "        #Drop Column Date\n",
    "        df_final = df_merged.drop(columns='date')\n",
    "\n",
    "        #df_final['TTF'] = df_final['TTF'].dt.days\n",
    "\n",
    "        df_ = pd.concat([df_, df_final])\n",
    "\n",
    "    return df_"
   ]
  },
  {
   "cell_type": "code",
   "execution_count": null,
   "id": "brilliant-yahoo",
   "metadata": {
    "ExecuteTime": {
     "end_time": "2021-02-09T19:37:27.504836Z",
     "start_time": "2021-02-09T19:37:00.894Z"
    }
   },
   "outputs": [],
   "source": [
    "generator_df = fill_na_by_turbine(df_generator_final)\n",
    "gen_bear_df = fill_na_by_turbine(df_gen_bear_final)\n",
    "hyd_df = fill_na_by_turbine(df_hyd_final)\n",
    "gearbox_df = fill_na_by_turbine(df_gearbox_final)\n",
    "transf_df = fill_na_by_turbine(df_transf_final)"
   ]
  },
  {
   "cell_type": "code",
   "execution_count": null,
   "id": "dirty-murray",
   "metadata": {
    "ExecuteTime": {
     "end_time": "2021-02-09T19:37:27.505903Z",
     "start_time": "2021-02-09T19:37:00.896Z"
    }
   },
   "outputs": [],
   "source": [
    "def Failure_Time_Horizon(days, period):\n",
    "    if 2 <= days <= period:\n",
    "        Flag=1\n",
    "    else:\n",
    "        Flag=0\n",
    "    return Flag"
   ]
  },
  {
   "cell_type": "code",
   "execution_count": null,
   "id": "centered-progressive",
   "metadata": {
    "ExecuteTime": {
     "end_time": "2021-02-09T19:37:27.506979Z",
     "start_time": "2021-02-09T19:37:00.897Z"
    }
   },
   "outputs": [],
   "source": [
    "generator_df['60_days'] = generator_df.apply(lambda x: Failure_Time_Horizon(x['TTF'], 60),axis=1)\n",
    "gen_bear_df['60_days'] = gen_bear_df.apply(lambda x: Failure_Time_Horizon(x['TTF'], 60),axis=1)\n",
    "hyd_df['60_days'] = hyd_df.apply(lambda x: Failure_Time_Horizon(x['TTF'], 60),axis=1)\n",
    "gearbox_df['60_days'] = gearbox_df.apply(lambda x: Failure_Time_Horizon(x['TTF'], 60),axis=1)\n",
    "transf_df['60_days'] = transf_df.apply(lambda x: Failure_Time_Horizon(x['TTF'], 60),axis=1)"
   ]
  },
  {
   "cell_type": "code",
   "execution_count": null,
   "id": "banned-fighter",
   "metadata": {
    "ExecuteTime": {
     "end_time": "2021-02-09T19:37:27.507987Z",
     "start_time": "2021-02-09T19:37:00.899Z"
    }
   },
   "outputs": [],
   "source": [
    "generator_df['50_days'] = generator_df.apply(lambda x: Failure_Time_Horizon(x['TTF'], 50),axis=1)\n",
    "gen_bear_df['50_days'] = gen_bear_df.apply(lambda x: Failure_Time_Horizon(x['TTF'], 50),axis=1)\n",
    "hyd_df['50_days'] = hyd_df.apply(lambda x: Failure_Time_Horizon(x['TTF'], 50),axis=1)\n",
    "gearbox_df['50_days'] = gearbox_df.apply(lambda x: Failure_Time_Horizon(x['TTF'], 50),axis=1)\n",
    "transf_df['50_days'] = transf_df.apply(lambda x: Failure_Time_Horizon(x['TTF'], 50),axis=1)"
   ]
  },
  {
   "cell_type": "code",
   "execution_count": null,
   "id": "chinese-mustang",
   "metadata": {
    "ExecuteTime": {
     "end_time": "2021-02-09T19:37:27.509601Z",
     "start_time": "2021-02-09T19:37:00.901Z"
    }
   },
   "outputs": [],
   "source": [
    "generator_df['40_days'] = generator_df.apply(lambda x: Failure_Time_Horizon(x['TTF'], 40),axis=1)\n",
    "gen_bear_df['40_days'] = gen_bear_df.apply(lambda x: Failure_Time_Horizon(x['TTF'], 40),axis=1)\n",
    "hyd_df['40_days'] = hyd_df.apply(lambda x: Failure_Time_Horizon(x['TTF'], 40),axis=1)\n",
    "gearbox_df['40_days'] = gearbox_df.apply(lambda x: Failure_Time_Horizon(x['TTF'], 40),axis=1)\n",
    "transf_df['40_days'] = transf_df.apply(lambda x: Failure_Time_Horizon(x['TTF'], 40),axis=1)"
   ]
  },
  {
   "cell_type": "code",
   "execution_count": null,
   "id": "sixth-fitting",
   "metadata": {
    "ExecuteTime": {
     "end_time": "2021-02-09T19:37:27.510926Z",
     "start_time": "2021-02-09T19:37:00.903Z"
    }
   },
   "outputs": [],
   "source": [
    "generator_df['30_days'] = generator_df.apply(lambda x: Failure_Time_Horizon(x['TTF'], 30),axis=1)\n",
    "gen_bear_df['30_days'] = gen_bear_df.apply(lambda x: Failure_Time_Horizon(x['TTF'], 30),axis=1)\n",
    "hyd_df['30_days'] = hyd_df.apply(lambda x: Failure_Time_Horizon(x['TTF'], 30),axis=1)\n",
    "gearbox_df['30_days'] = gearbox_df.apply(lambda x: Failure_Time_Horizon(x['TTF'], 30),axis=1)\n",
    "transf_df['30_days'] = transf_df.apply(lambda x: Failure_Time_Horizon(x['TTF'], 30),axis=1)"
   ]
  },
  {
   "cell_type": "code",
   "execution_count": null,
   "id": "recorded-scanner",
   "metadata": {
    "ExecuteTime": {
     "end_time": "2021-02-09T19:37:27.511812Z",
     "start_time": "2021-02-09T19:37:00.904Z"
    }
   },
   "outputs": [],
   "source": [
    "generator_df['20_days'] = generator_df.apply(lambda x: Failure_Time_Horizon(x['TTF'], 20),axis=1)\n",
    "gen_bear_df['20_days'] = gen_bear_df.apply(lambda x: Failure_Time_Horizon(x['TTF'], 20),axis=1)\n",
    "hyd_df['20_days'] = hyd_df.apply(lambda x: Failure_Time_Horizon(x['TTF'], 20),axis=1)\n",
    "gearbox_df['20_days'] = gearbox_df.apply(lambda x: Failure_Time_Horizon(x['TTF'], 20),axis=1)\n",
    "transf_df['20_days'] = transf_df.apply(lambda x: Failure_Time_Horizon(x['TTF'], 20),axis=1)"
   ]
  },
  {
   "cell_type": "code",
   "execution_count": null,
   "id": "latter-parts",
   "metadata": {
    "ExecuteTime": {
     "end_time": "2021-02-09T19:37:27.512607Z",
     "start_time": "2021-02-09T19:37:00.906Z"
    }
   },
   "outputs": [],
   "source": [
    "generator_df['10_days'] = generator_df.apply(lambda x: Failure_Time_Horizon(x['TTF'], 10),axis=1)\n",
    "gen_bear_df['10_days'] = gen_bear_df.apply(lambda x: Failure_Time_Horizon(x['TTF'], 10),axis=1)\n",
    "hyd_df['10_days'] = hyd_df.apply(lambda x: Failure_Time_Horizon(x['TTF'], 10),axis=1)\n",
    "gearbox_df['10_days'] = gearbox_df.apply(lambda x: Failure_Time_Horizon(x['TTF'], 10),axis=1)\n",
    "transf_df['10_days'] = transf_df.apply(lambda x: Failure_Time_Horizon(x['TTF'], 10),axis=1)"
   ]
  },
  {
   "cell_type": "code",
   "execution_count": null,
   "id": "minus-barcelona",
   "metadata": {
    "ExecuteTime": {
     "end_time": "2021-02-09T19:37:27.513423Z",
     "start_time": "2021-02-09T19:37:00.907Z"
    }
   },
   "outputs": [],
   "source": [
    "## Save DF's to CSV\n",
    "generator_df.to_csv('../rawdata/outro/generator_df.csv', index=False)\n",
    "gen_bear_df.to_csv('../rawdata/outro/gen_bear_df.csv', index=False)\n",
    "hyd_df.to_csv('../rawdata/outro/hyd_df.csv', index=False)\n",
    "gearbox_df.to_csv('../rawdata/outro/gearbox_df.csv', index=False)\n",
    "transf_df.to_csv('../rawdata/outro/transf_df.csv', index=False)"
   ]
  },
  {
   "cell_type": "code",
   "execution_count": null,
   "id": "promising-monitoring",
   "metadata": {},
   "outputs": [],
   "source": []
  },
  {
   "cell_type": "code",
   "execution_count": null,
   "id": "pretty-booking",
   "metadata": {},
   "outputs": [],
   "source": []
  },
  {
   "cell_type": "code",
   "execution_count": 2,
   "id": "complete-thumbnail",
   "metadata": {
    "ExecuteTime": {
     "end_time": "2021-02-10T08:03:38.296299Z",
     "start_time": "2021-02-10T08:03:23.596040Z"
    }
   },
   "outputs": [],
   "source": [
    "rooth_path = '../rawdata/outro/'\n",
    "generator_df = pd.read_csv(rooth_path + 'generator_df.csv')\n",
    "gen_bear_df = pd.read_csv(rooth_path + 'gen_bear_df.csv')\n",
    "hyd_df = pd.read_csv(rooth_path + 'hyd_df.csv')\n",
    "gearbox_df = pd.read_csv(rooth_path + 'gearbox_df.csv')\n",
    "transf_df = pd.read_csv(rooth_path + 'transf_df.csv')"
   ]
  },
  {
   "cell_type": "code",
   "execution_count": 3,
   "id": "ecological-mitchell",
   "metadata": {
    "ExecuteTime": {
     "end_time": "2021-02-10T08:03:39.169095Z",
     "start_time": "2021-02-10T08:03:38.298772Z"
    }
   },
   "outputs": [],
   "source": [
    "generator_df['Timestamp'] = pd.to_datetime(generator_df['Timestamp'])\n",
    "gen_bear_df['Timestamp'] = pd.to_datetime(gen_bear_df['Timestamp'])\n",
    "hyd_df['Timestamp'] = pd.to_datetime(hyd_df['Timestamp'])\n",
    "gearbox_df['Timestamp'] = pd.to_datetime(gearbox_df['Timestamp'])\n",
    "transf_df['Timestamp'] = pd.to_datetime(transf_df['Timestamp'])"
   ]
  },
  {
   "cell_type": "code",
   "execution_count": 194,
   "id": "human-roommate",
   "metadata": {
    "ExecuteTime": {
     "end_time": "2021-02-09T22:50:44.328058Z",
     "start_time": "2021-02-09T22:50:44.323361Z"
    }
   },
   "outputs": [],
   "source": [
    "features_drop = ['Gen_RPM_Max', 'Gen_RPM_Min', 'Gen_Phase1_Temp_Avg','Gen_Phase3_Temp_Avg', 'Amb_WindSpeed_Est_Avg',\n",
    "                'Grd_RtrInvPhase1_Temp_Avg', 'Grd_RtrInvPhase3_Temp_Avg', 'Rtr_RPM_Max', 'Rtr_RPM_Min','Grd_Prod_VoltPhse2_Avg',\n",
    "                'Blds_PitchAngle_Max', 'Blds_PitchAngle_Min', 'Prod_LatestAvg_ReactPwrGen1', 'Cont_Hub_Temp_Avg',\n",
    "                'Spin_Temp_Avg', 'Rtr_RPM_Std', 'Rtr_RPM_Avg', 'Cont_VCP_Temp_Avg', 'Grd_Prod_CurPhse1_Avg', 'Prod_LatestAvg_TotActPwr',\n",
    "                 'Grd_Prod_CurPhse3_Avg', 'Grd_Prod_Pwr_Max', 'Grd_Prod_Pwr_Min', 'HVTrafo_Phase1_Temp_Avg', 'Grd_Prod_CurPhse2_Avg',\n",
    "                 'HVTrafo_Phase3_Temp_Avg', 'Grd_Prod_PsblePwr_Max', 'Grd_Prod_PsblePwr_Min', 'Grd_Prod_ReactPwr_Avg',\n",
    "                'Grd_Prod_PsbleInd_Max', 'Grd_Prod_PsbleInd_Min', 'Prod_LatestAvg_ActPwrGen1', 'Prod_LatestAvg_TotReactPwr',\n",
    "                'Grd_Prod_PsbleInd_Avg', 'Blds_PitchAngle_Avg', 'Grd_Prod_ReactPwr_Max', 'Grd_Prod_ReactPwr_Min',\n",
    "                'Nac_Direction_Avg', 'Amb_WindDir_Abs_Avg', 'Grd_Prod_PsbleCap_Min', 'Gear_Oil_Temp_Avg', 'Grd_Prod_VoltPhse1_Avg']"
   ]
  },
  {
   "cell_type": "code",
   "execution_count": 195,
   "id": "scientific-campbell",
   "metadata": {
    "ExecuteTime": {
     "end_time": "2021-02-09T22:50:44.531644Z",
     "start_time": "2021-02-09T22:50:44.331858Z"
    }
   },
   "outputs": [],
   "source": [
    "## Remove columns with strong correlations\n",
    "generator_df = generator_df.drop(columns=features_drop)\n",
    "gen_bear_df = gen_bear_df.drop(columns=features_drop)\n",
    "hyd_df = hyd_df.drop(columns=features_drop)\n",
    "gearbox_df = gearbox_df.drop(columns=features_drop)\n",
    "transf_df = transf_df.drop(columns=features_drop)"
   ]
  },
  {
   "cell_type": "code",
   "execution_count": 196,
   "id": "norman-frederick",
   "metadata": {
    "ExecuteTime": {
     "end_time": "2021-02-09T22:50:44.538793Z",
     "start_time": "2021-02-09T22:50:44.533956Z"
    }
   },
   "outputs": [],
   "source": [
    "def prepare_train_test(df):\n",
    "    last_date = df['Timestamp'].iloc[-1]\n",
    "    split = last_date - pd.DateOffset(months=3)\n",
    "    df_train = df[df['Timestamp'] < split]\n",
    "    df_test = df[df['Timestamp'] >= split]\n",
    "    \n",
    "    return df_train, df_test"
   ]
  },
  {
   "cell_type": "code",
   "execution_count": 197,
   "id": "major-remark",
   "metadata": {
    "ExecuteTime": {
     "end_time": "2021-02-09T22:50:44.877806Z",
     "start_time": "2021-02-09T22:50:44.541408Z"
    }
   },
   "outputs": [],
   "source": [
    "generator_df_train, generator_df_test = prepare_train_test(generator_df)\n",
    "gen_bear_df_train, gen_bear_df_test = prepare_train_test(gen_bear_df)\n",
    "hyd_df_train, hyd_df_test = prepare_train_test(hyd_df)\n",
    "gearbox_df_train, gearbox_df_test = prepare_train_test(gearbox_df)\n",
    "transf_df_train, transf_df_test = prepare_train_test(transf_df)"
   ]
  },
  {
   "cell_type": "code",
   "execution_count": 198,
   "id": "ruled-above",
   "metadata": {
    "ExecuteTime": {
     "end_time": "2021-02-09T22:50:44.885031Z",
     "start_time": "2021-02-09T22:50:44.879915Z"
    }
   },
   "outputs": [],
   "source": [
    "#Group by day per turbine\n",
    "def group_per_frequency(df, strategy='mean'):\n",
    "    df['Date'] = df['Timestamp'].dt.date\n",
    "    if strategy == 'max':\n",
    "        df = df.groupby(by=['Turbine_ID','Date']).max().reset_index().drop(columns='Timestamp')\n",
    "    else:\n",
    "        df = df.groupby(by=['Turbine_ID','Date']).mean().reset_index()\n",
    "        \n",
    "    return df"
   ]
  },
  {
   "cell_type": "code",
   "execution_count": 199,
   "id": "normal-metropolitan",
   "metadata": {
    "ExecuteTime": {
     "end_time": "2021-02-09T22:50:46.259595Z",
     "start_time": "2021-02-09T22:50:44.890324Z"
    }
   },
   "outputs": [
    {
     "name": "stderr",
     "output_type": "stream",
     "text": [
      "/home/guilherme/.pyenv/versions/3.7.2/lib/python3.7/site-packages/ipykernel_launcher.py:3: SettingWithCopyWarning: \n",
      "A value is trying to be set on a copy of a slice from a DataFrame.\n",
      "Try using .loc[row_indexer,col_indexer] = value instead\n",
      "\n",
      "See the caveats in the documentation: https://pandas.pydata.org/pandas-docs/stable/user_guide/indexing.html#returning-a-view-versus-a-copy\n",
      "  This is separate from the ipykernel package so we can avoid doing imports until\n"
     ]
    }
   ],
   "source": [
    "df_train_gearbox_day = group_per_frequency(gearbox_df_train)\n",
    "df_train_gen_day = group_per_frequency(generator_df_train)\n",
    "df_train_gen_bear_day = group_per_frequency(gen_bear_df_train)\n",
    "df_train_hyd_day = group_per_frequency(hyd_df_train)\n",
    "df_train_transf_day = group_per_frequency(transf_df_train)\n",
    "df_test_gearbox_day = group_per_frequency(gearbox_df_test)\n",
    "df_test_gen_day = group_per_frequency(generator_df_test)\n",
    "df_test_gen_bear_day = group_per_frequency(gen_bear_df_test)\n",
    "df_test_hyd_day = group_per_frequency(hyd_df_test)\n",
    "df_test_transf_day = group_per_frequency(transf_df_test)"
   ]
  },
  {
   "cell_type": "code",
   "execution_count": 200,
   "id": "fresh-starter",
   "metadata": {
    "ExecuteTime": {
     "end_time": "2021-02-09T22:50:46.267482Z",
     "start_time": "2021-02-09T22:50:46.263022Z"
    }
   },
   "outputs": [],
   "source": [
    "dfs = [df_train_gearbox_day,df_train_gen_day, df_train_gen_bear_day, df_train_hyd_day, df_train_transf_day,\n",
    "            df_test_gearbox_day, df_test_gen_day, df_test_gen_bear_day, df_test_hyd_day, df_test_transf_day ]"
   ]
  },
  {
   "cell_type": "code",
   "execution_count": 201,
   "id": "arbitrary-decrease",
   "metadata": {
    "ExecuteTime": {
     "end_time": "2021-02-09T22:50:46.302447Z",
     "start_time": "2021-02-09T22:50:46.270692Z"
    }
   },
   "outputs": [],
   "source": [
    "for df in dfs:\n",
    "    df['60_days'] = df['60_days'].round(decimals=0)\n",
    "    df['50_days'] = df['50_days'].round(decimals=0)\n",
    "    df['40_days'] = df['40_days'].round(decimals=0)\n",
    "    df['30_days'] = df['30_days'].round(decimals=0)\n",
    "    df['20_days'] = df['20_days'].round(decimals=0)\n",
    "    df['10_days'] = df['10_days'].round(decimals=0)"
   ]
  },
  {
   "cell_type": "code",
   "execution_count": 249,
   "id": "casual-shock",
   "metadata": {
    "ExecuteTime": {
     "end_time": "2021-02-09T23:36:51.927690Z",
     "start_time": "2021-02-09T23:36:51.920485Z"
    }
   },
   "outputs": [
    {
     "data": {
      "text/plain": [
       "0.0    421\n",
       "1.0     44\n",
       "Name: 30_days, dtype: int64"
      ]
     },
     "execution_count": 249,
     "metadata": {},
     "output_type": "execute_result"
    }
   ],
   "source": [
    "df_test_hyd_day['30_days'].value_counts()"
   ]
  },
  {
   "cell_type": "code",
   "execution_count": 203,
   "id": "phantom-control",
   "metadata": {
    "ExecuteTime": {
     "end_time": "2021-02-09T22:50:46.331159Z",
     "start_time": "2021-02-09T22:50:46.320059Z"
    }
   },
   "outputs": [],
   "source": [
    "def add_features(df_in, rolling_win_size):\n",
    "    \n",
    "    sensor_cols = []\n",
    "    for i in df_in.keys()[2:-8]:\n",
    "        sensor_cols.append(i)\n",
    "    sensor_av_cols = [nm+'_av' for nm in sensor_cols]\n",
    "    sensor_sd_cols = [nm+'_sd' for nm in sensor_cols]\n",
    "    df_out = pd.DataFrame()\n",
    "    ws = rolling_win_size\n",
    "    #calculate rolling stats for each engine id\n",
    "    for m_id in pd.unique(df_in.Turbine_ID):\n",
    "        # get a subset for each engine sensors\n",
    "        df_engine = df_in[df_in['Turbine_ID'] == m_id]\n",
    "        df_sub = df_engine[sensor_cols]\n",
    "        # get rolling mean for the subset\n",
    "        av = df_sub.rolling(ws, min_periods=1).mean()\n",
    "        av.columns = sensor_av_cols\n",
    "        # get the rolling standard deviation for the subset\n",
    "        sd = df_sub.rolling(ws, min_periods=1).std().fillna(0)\n",
    "        sd.columns = sensor_sd_cols\n",
    "        # combine the two new subset dataframes columns to the engine subset\n",
    "        new_ftrs = pd.concat([df_engine,av,sd], axis=1)\n",
    "        # add the new features rows to the output dataframe\n",
    "        df_out = pd.concat([df_out,new_ftrs])\n",
    "    return df_out"
   ]
  },
  {
   "cell_type": "code",
   "execution_count": 250,
   "id": "suspected-cleanup",
   "metadata": {
    "ExecuteTime": {
     "end_time": "2021-02-09T23:36:59.334788Z",
     "start_time": "2021-02-09T23:36:58.803928Z"
    }
   },
   "outputs": [],
   "source": [
    "df_train_gearbox_extra = add_features(df_train_gearbox_day, 30)\n",
    "df_train_gen_extra = add_features(df_train_gen_day, 30)\n",
    "df_train_gen_bear_extra = add_features(df_train_gen_bear_day, 30)\n",
    "df_train_hyd_extra = add_features(df_train_hyd_day, 30)\n",
    "df_train_transf_extra = add_features(df_train_transf_day, 30)\n",
    "df_test_gearbox_extra = add_features(df_test_gearbox_day, 30)\n",
    "df_test_gen_extra = add_features(df_test_gen_day, 30)\n",
    "df_test_gen_bear_extra = add_features(df_test_gen_bear_day, 30)\n",
    "df_test_hyd_extra = add_features(df_test_hyd_day, 30)\n",
    "df_test_transf_extra = add_features(df_test_transf_day, 30)"
   ]
  },
  {
   "cell_type": "code",
   "execution_count": 205,
   "id": "ultimate-qualification",
   "metadata": {
    "ExecuteTime": {
     "end_time": "2021-02-09T22:50:46.939718Z",
     "start_time": "2021-02-09T22:50:46.932643Z"
    }
   },
   "outputs": [],
   "source": [
    "features = ['Gen_RPM_Std_av', 'Gen_Bear_Temp_Avg_av',\n",
    "       'Gen_Phase2_Temp_Avg_av', 'Hyd_Oil_Temp_Avg_av',\n",
    "       'Gear_Bear_Temp_Avg_av', 'Nac_Temp_Avg_av', 'Amb_WindSpeed_Max_av',\n",
    "       'Amb_WindSpeed_Min_av', 'Amb_WindSpeed_Avg_av', 'Amb_WindSpeed_Std_av',\n",
    "       'Amb_WindDir_Relative_Avg_av', 'Amb_Temp_Avg_av',\n",
    "       'Prod_LatestAvg_ActPwrGen0_av', 'Prod_LatestAvg_ReactPwrGen0_av',\n",
    "       'HVTrafo_Phase2_Temp_Avg_av', 'Grd_InverterPhase1_Temp_Avg_av',\n",
    "       'Cont_Top_Temp_Avg_av', 'Gen_SlipRing_Temp_Avg_av',\n",
    "       'Blds_PitchAngle_Std_av', 'Cont_VCP_ChokcoilTemp_Avg_av',\n",
    "       'Grd_RtrInvPhase2_Temp_Avg_av', 'Cont_VCP_WtrTemp_Avg_av',\n",
    "       'Grd_Prod_Pwr_Avg_av', 'Grd_Prod_CosPhi_Avg_av', 'Grd_Prod_Freq_Avg_av',\n",
    "       'Grd_Prod_VoltPhse3_Avg_av', 'Grd_Busbar_Temp_Avg_av',\n",
    "       'Grd_Prod_Pwr_Std_av', 'Grd_Prod_ReactPwr_Std_av',\n",
    "       'Grd_Prod_PsblePwr_Avg_av', 'Grd_Prod_PsblePwr_Std_av',\n",
    "       'Grd_Prod_PsbleInd_Std_av', 'Grd_Prod_PsbleCap_Avg_av',\n",
    "       'Grd_Prod_PsbleCap_Max_av', 'Grd_Prod_PsbleCap_Std_av',\n",
    "       'Gen_Bear2_Temp_Avg_av', 'Gen_RPM_Avg_sd', 'Gen_RPM_Std_sd',\n",
    "       'Gen_Bear_Temp_Avg_sd', 'Gen_Phase2_Temp_Avg_sd', 'Hyd_Oil_Temp_Avg_sd',\n",
    "       'Gear_Bear_Temp_Avg_sd', 'Nac_Temp_Avg_sd', 'Amb_WindSpeed_Max_sd',\n",
    "       'Amb_WindSpeed_Min_sd', 'Amb_WindSpeed_Avg_sd', 'Amb_WindSpeed_Std_sd',\n",
    "       'Amb_WindDir_Relative_Avg_sd', 'Amb_Temp_Avg_sd',\n",
    "       'Prod_LatestAvg_ActPwrGen0_sd', 'Prod_LatestAvg_ReactPwrGen0_sd',\n",
    "       'HVTrafo_Phase2_Temp_Avg_sd', 'Grd_InverterPhase1_Temp_Avg_sd',\n",
    "       'Cont_Top_Temp_Avg_sd', 'Gen_SlipRing_Temp_Avg_sd',\n",
    "       'Blds_PitchAngle_Std_sd', 'Cont_VCP_ChokcoilTemp_Avg_sd',\n",
    "       'Grd_RtrInvPhase2_Temp_Avg_sd', 'Cont_VCP_WtrTemp_Avg_sd',\n",
    "       'Grd_Prod_Pwr_Avg_sd', 'Grd_Prod_CosPhi_Avg_sd', 'Grd_Prod_Freq_Avg_sd',\n",
    "       'Grd_Prod_VoltPhse3_Avg_sd', 'Grd_Busbar_Temp_Avg_sd',\n",
    "       'Grd_Prod_Pwr_Std_sd', 'Grd_Prod_ReactPwr_Std_sd',\n",
    "       'Grd_Prod_PsblePwr_Avg_sd', 'Grd_Prod_PsblePwr_Std_sd',\n",
    "       'Grd_Prod_PsbleInd_Std_sd', 'Grd_Prod_PsbleCap_Avg_sd',\n",
    "       'Grd_Prod_PsbleCap_Max_sd', 'Grd_Prod_PsbleCap_Std_sd',\n",
    "       'Gen_Bear2_Temp_Avg_sd', 'Date', 'TTF', '60_days', '50_days', '40_days', '30_days', \n",
    "            '20_days', '10_days', 'Component', 'Turbine_ID']"
   ]
  },
  {
   "cell_type": "code",
   "execution_count": 223,
   "id": "potential-gather",
   "metadata": {
    "ExecuteTime": {
     "end_time": "2021-02-09T22:58:07.106511Z",
     "start_time": "2021-02-09T22:58:07.101735Z"
    }
   },
   "outputs": [],
   "source": [
    "from sklearn.ensemble import GradientBoostingClassifier\n",
    "from sklearn.ensemble import RandomForestClassifier\n",
    "from sklearn.svm import SVC, LinearSVC\n",
    "from sklearn.tree import DecisionTreeClassifier\n",
    "from sklearn.neighbors import KNeighborsClassifier\n",
    "from sklearn.ensemble import BaggingClassifier\n",
    "from sklearn.ensemble import AdaBoostClassifier\n",
    "from sklearn.ensemble import ExtraTreesClassifier\n",
    "from sklearn.metrics import confusion_matrix, roc_auc_score, f1_score\n",
    "\n",
    "from sklearn import model_selection\n",
    "from sklearn import metrics"
   ]
  },
  {
   "cell_type": "code",
   "execution_count": 207,
   "id": "choice-produce",
   "metadata": {
    "ExecuteTime": {
     "end_time": "2021-02-09T22:50:46.965058Z",
     "start_time": "2021-02-09T22:50:46.957863Z"
    }
   },
   "outputs": [],
   "source": [
    "dfs_final = [df_train_gearbox_extra, \n",
    "             df_train_gen_extra,\n",
    "             df_train_gen_bear_extra,\n",
    "             df_train_hyd_extra,\n",
    "             df_train_transf_extra,\n",
    "             df_test_gearbox_extra,\n",
    "             df_test_gen_extra,\n",
    "             df_test_gen_bear_extra,\n",
    "             df_test_hyd_extra,\n",
    "             df_test_transf_extra]"
   ]
  },
  {
   "cell_type": "code",
   "execution_count": 208,
   "id": "legendary-summit",
   "metadata": {
    "ExecuteTime": {
     "end_time": "2021-02-09T22:50:46.977840Z",
     "start_time": "2021-02-09T22:50:46.967677Z"
    }
   },
   "outputs": [],
   "source": [
    "def bin_classify(model, clf, df_train, df_test, label, params=None, score=None, ):\n",
    "    \n",
    "    \"\"\"Perfor Grid Search hyper parameter tuning on a classifier.\n",
    "    \n",
    "    Args:\n",
    "        model (str): The model name identifier\n",
    "        clf (clssifier object): The classifier to be tuned\n",
    "        features (list): The set of input features names\n",
    "        params (dict): Grid Search parameters\n",
    "        score (str): Grid Search score\n",
    "        \n",
    "    Returns:\n",
    "        Tuned Clssifier object\n",
    "        dataframe of model predictions and scores\n",
    "    \n",
    "    \"\"\"\n",
    "    \n",
    "    \n",
    "    X_train = df_train.drop(columns=['Date', 'TTF', '60_days', '50_days', '40_days', '30_days', \n",
    "                                               '20_days', '10_days', 'Component', 'Turbine_ID'])\n",
    "    X_test = df_test.drop(columns=['Date', 'TTF', '60_days', '50_days', '40_days', '30_days', \n",
    "                                             '20_days', '10_days', 'Component', 'Turbine_ID'])\n",
    "\n",
    "    y_train = df_train[label]\n",
    "    y_test = df_test[label]\n",
    "\n",
    "    \n",
    "    grid_search = model_selection.GridSearchCV(estimator=clf, param_grid=params, cv=5, scoring=score, n_jobs=-1)\n",
    "\n",
    "    grid_search.fit(X_train, y_train)\n",
    "    y_pred = grid_search.predict(X_test)\n",
    "    \n",
    "    if hasattr(grid_search, 'predict_proba'):   \n",
    "        y_score = grid_search.predict_proba(X_test)[:,1]\n",
    "    elif hasattr(grid_search, 'decision_function'):\n",
    "        y_score = grid_search.decision_function(X_test)\n",
    "    else:\n",
    "        y_score = y_pred\n",
    "        \n",
    "    predictions = {'y_pred' : y_pred, 'y_score' : y_score}\n",
    "    df_predictions = pd.DataFrame.from_dict(predictions)\n",
    "    \n",
    "    return grid_search.best_estimator_, df_predictions, y_test"
   ]
  },
  {
   "cell_type": "code",
   "execution_count": 224,
   "id": "bored-seller",
   "metadata": {
    "ExecuteTime": {
     "end_time": "2021-02-09T22:58:09.760067Z",
     "start_time": "2021-02-09T22:58:09.750779Z"
    }
   },
   "outputs": [],
   "source": [
    "def metrics (y_test, y_test_pred):\n",
    "    cm2 = confusion_matrix(y_test.values,y_test_pred)\n",
    "\n",
    "    total1=sum(sum(cm2))\n",
    "    \n",
    "    \n",
    "    metrics_dict = {\n",
    "    'AUC_Test': roc_auc_score(y_test, y_test_pred) if len(y_test.value_counts())>1 else np.nan,\n",
    "    'Accuracy':     (cm2[0,0]+cm2[1,1])/total1 if len(y_test.value_counts())>1 else np.nan,\n",
    "    'Recall': cm2[1,1]/(cm2[1,0]+cm2[1,1]) if len(y_test.value_counts())>1 else np.nan,\n",
    "    'Specificity':  cm2[0,0]/(cm2[0,0]+cm2[0,1]) if len(y_test.value_counts())>1 else np.nan,\n",
    "    'Precision':    cm2[1,1]/(cm2[0,1]+cm2[1,1]) if len(y_test.value_counts())>1 else np.nan,\n",
    "    'F1 Score':    f1_score(y_test,y_test_pred) if len(y_test.value_counts())>1 else np.nan,\n",
    "        }\n",
    "\n",
    "    return metrics_dict\n",
    "\n",
    "def conf_matrix ( y_test, y_test_pred):\n",
    "\n",
    "    return pd.crosstab(y_test, y_test_pred, rownames=['Actual Class'], colnames=['Predicted Class'])\n",
    "\n",
    "    sns.set(style='white')\n",
    "    fpr, tpr, threshold = roc_curve(y_test, y_test_prob)\n",
    "    plt.plot(fpr, tpr, label='model')\n",
    "    plt.legend(loc='center right')\n",
    "    plt.plot([0,1],[0,1],'k')\n",
    "    plt.xlabel('False Positive Rate')\n",
    "    plt.ylabel('True Positive Rate')\n",
    "    plt.title('ROC Curve')\n",
    "    plt.show()\n",
    "    \n",
    "    return pd.crosstab(y_test, y_test_pred, rownames=['Actual Class'], colnames=['Predicted Class'])"
   ]
  },
  {
   "cell_type": "code",
   "execution_count": null,
   "id": "entitled-behalf",
   "metadata": {},
   "outputs": [],
   "source": []
  },
  {
   "cell_type": "markdown",
   "id": "intensive-edinburgh",
   "metadata": {},
   "source": [
    "# Random Forest"
   ]
  },
  {
   "cell_type": "code",
   "execution_count": 254,
   "id": "burning-cooling",
   "metadata": {
    "ExecuteTime": {
     "end_time": "2021-02-09T23:41:46.906372Z",
     "start_time": "2021-02-09T23:41:46.897594Z"
    }
   },
   "outputs": [],
   "source": [
    "df_train_gen_extra = df_train_gen_extra[features]\n",
    "df_test_gen_extra = df_test_gen_extra[features]"
   ]
  },
  {
   "cell_type": "code",
   "execution_count": 256,
   "id": "color-alberta",
   "metadata": {
    "ExecuteTime": {
     "end_time": "2021-02-09T23:45:04.627557Z",
     "start_time": "2021-02-09T23:41:54.454528Z"
    }
   },
   "outputs": [
    {
     "name": "stdout",
     "output_type": "stream",
     "text": [
      "\n",
      "Best Parameters:\n",
      " RandomForestClassifier(criterion='entropy', n_estimators=750, random_state=42)\n"
     ]
    }
   ],
   "source": [
    "#Generator 30 days\n",
    "model = 'Random Forest Classifier'\n",
    "clf_rfc = RandomForestClassifier(random_state=42)\n",
    "gs_params = {'n_estimators': [750, 800, 1000, 2000], 'criterion': ['gini', 'entropy'], 'class_weight': ['balanced', None]}\n",
    "gs_score = 'recall'\n",
    "\n",
    "clf_rfc, pred_rfc, y_test = bin_classify(model, clf_rfc, df_train_gen_extra, df_test_gen_extra, '30_days', params=gs_params, score=gs_score)\n",
    "print('\\nBest Parameters:\\n',clf_rfc)"
   ]
  },
  {
   "cell_type": "code",
   "execution_count": 257,
   "id": "behavioral-webcam",
   "metadata": {
    "ExecuteTime": {
     "end_time": "2021-02-09T23:45:04.644611Z",
     "start_time": "2021-02-09T23:45:04.630093Z"
    }
   },
   "outputs": [
    {
     "data": {
      "text/html": [
       "<div>\n",
       "<style scoped>\n",
       "    .dataframe tbody tr th:only-of-type {\n",
       "        vertical-align: middle;\n",
       "    }\n",
       "\n",
       "    .dataframe tbody tr th {\n",
       "        vertical-align: top;\n",
       "    }\n",
       "\n",
       "    .dataframe thead th {\n",
       "        text-align: right;\n",
       "    }\n",
       "</style>\n",
       "<table border=\"1\" class=\"dataframe\">\n",
       "  <thead>\n",
       "    <tr style=\"text-align: right;\">\n",
       "      <th></th>\n",
       "      <th>30_days</th>\n",
       "    </tr>\n",
       "  </thead>\n",
       "  <tbody>\n",
       "    <tr>\n",
       "      <th>237</th>\n",
       "      <td>1.0</td>\n",
       "    </tr>\n",
       "    <tr>\n",
       "      <th>238</th>\n",
       "      <td>1.0</td>\n",
       "    </tr>\n",
       "    <tr>\n",
       "      <th>239</th>\n",
       "      <td>1.0</td>\n",
       "    </tr>\n",
       "    <tr>\n",
       "      <th>240</th>\n",
       "      <td>1.0</td>\n",
       "    </tr>\n",
       "    <tr>\n",
       "      <th>241</th>\n",
       "      <td>1.0</td>\n",
       "    </tr>\n",
       "    <tr>\n",
       "      <th>242</th>\n",
       "      <td>1.0</td>\n",
       "    </tr>\n",
       "    <tr>\n",
       "      <th>243</th>\n",
       "      <td>1.0</td>\n",
       "    </tr>\n",
       "    <tr>\n",
       "      <th>244</th>\n",
       "      <td>1.0</td>\n",
       "    </tr>\n",
       "    <tr>\n",
       "      <th>245</th>\n",
       "      <td>1.0</td>\n",
       "    </tr>\n",
       "    <tr>\n",
       "      <th>246</th>\n",
       "      <td>1.0</td>\n",
       "    </tr>\n",
       "    <tr>\n",
       "      <th>247</th>\n",
       "      <td>1.0</td>\n",
       "    </tr>\n",
       "    <tr>\n",
       "      <th>248</th>\n",
       "      <td>1.0</td>\n",
       "    </tr>\n",
       "    <tr>\n",
       "      <th>249</th>\n",
       "      <td>1.0</td>\n",
       "    </tr>\n",
       "    <tr>\n",
       "      <th>250</th>\n",
       "      <td>1.0</td>\n",
       "    </tr>\n",
       "    <tr>\n",
       "      <th>251</th>\n",
       "      <td>1.0</td>\n",
       "    </tr>\n",
       "    <tr>\n",
       "      <th>252</th>\n",
       "      <td>1.0</td>\n",
       "    </tr>\n",
       "    <tr>\n",
       "      <th>253</th>\n",
       "      <td>1.0</td>\n",
       "    </tr>\n",
       "    <tr>\n",
       "      <th>254</th>\n",
       "      <td>1.0</td>\n",
       "    </tr>\n",
       "    <tr>\n",
       "      <th>255</th>\n",
       "      <td>1.0</td>\n",
       "    </tr>\n",
       "    <tr>\n",
       "      <th>256</th>\n",
       "      <td>1.0</td>\n",
       "    </tr>\n",
       "    <tr>\n",
       "      <th>257</th>\n",
       "      <td>1.0</td>\n",
       "    </tr>\n",
       "    <tr>\n",
       "      <th>258</th>\n",
       "      <td>1.0</td>\n",
       "    </tr>\n",
       "    <tr>\n",
       "      <th>259</th>\n",
       "      <td>1.0</td>\n",
       "    </tr>\n",
       "    <tr>\n",
       "      <th>260</th>\n",
       "      <td>1.0</td>\n",
       "    </tr>\n",
       "    <tr>\n",
       "      <th>261</th>\n",
       "      <td>1.0</td>\n",
       "    </tr>\n",
       "    <tr>\n",
       "      <th>262</th>\n",
       "      <td>1.0</td>\n",
       "    </tr>\n",
       "    <tr>\n",
       "      <th>263</th>\n",
       "      <td>1.0</td>\n",
       "    </tr>\n",
       "    <tr>\n",
       "      <th>264</th>\n",
       "      <td>1.0</td>\n",
       "    </tr>\n",
       "    <tr>\n",
       "      <th>265</th>\n",
       "      <td>1.0</td>\n",
       "    </tr>\n",
       "  </tbody>\n",
       "</table>\n",
       "</div>"
      ],
      "text/plain": [
       "     30_days\n",
       "237      1.0\n",
       "238      1.0\n",
       "239      1.0\n",
       "240      1.0\n",
       "241      1.0\n",
       "242      1.0\n",
       "243      1.0\n",
       "244      1.0\n",
       "245      1.0\n",
       "246      1.0\n",
       "247      1.0\n",
       "248      1.0\n",
       "249      1.0\n",
       "250      1.0\n",
       "251      1.0\n",
       "252      1.0\n",
       "253      1.0\n",
       "254      1.0\n",
       "255      1.0\n",
       "256      1.0\n",
       "257      1.0\n",
       "258      1.0\n",
       "259      1.0\n",
       "260      1.0\n",
       "261      1.0\n",
       "262      1.0\n",
       "263      1.0\n",
       "264      1.0\n",
       "265      1.0"
      ]
     },
     "execution_count": 257,
     "metadata": {},
     "output_type": "execute_result"
    }
   ],
   "source": [
    "temp = y_test.to_frame()\n",
    "temp[temp['30_days']==1]"
   ]
  },
  {
   "cell_type": "code",
   "execution_count": 261,
   "id": "saving-analysis",
   "metadata": {
    "ExecuteTime": {
     "end_time": "2021-02-09T23:45:40.793834Z",
     "start_time": "2021-02-09T23:45:40.780608Z"
    }
   },
   "outputs": [
    {
     "data": {
      "text/html": [
       "<div>\n",
       "<style scoped>\n",
       "    .dataframe tbody tr th:only-of-type {\n",
       "        vertical-align: middle;\n",
       "    }\n",
       "\n",
       "    .dataframe tbody tr th {\n",
       "        vertical-align: top;\n",
       "    }\n",
       "\n",
       "    .dataframe thead th {\n",
       "        text-align: right;\n",
       "    }\n",
       "</style>\n",
       "<table border=\"1\" class=\"dataframe\">\n",
       "  <thead>\n",
       "    <tr style=\"text-align: right;\">\n",
       "      <th></th>\n",
       "      <th>y_pred</th>\n",
       "      <th>y_score</th>\n",
       "    </tr>\n",
       "  </thead>\n",
       "  <tbody>\n",
       "    <tr>\n",
       "      <th>154</th>\n",
       "      <td>1.0</td>\n",
       "      <td>0.514667</td>\n",
       "    </tr>\n",
       "    <tr>\n",
       "      <th>155</th>\n",
       "      <td>1.0</td>\n",
       "      <td>0.525333</td>\n",
       "    </tr>\n",
       "    <tr>\n",
       "      <th>156</th>\n",
       "      <td>0.0</td>\n",
       "      <td>0.500000</td>\n",
       "    </tr>\n",
       "    <tr>\n",
       "      <th>157</th>\n",
       "      <td>1.0</td>\n",
       "      <td>0.504000</td>\n",
       "    </tr>\n",
       "    <tr>\n",
       "      <th>158</th>\n",
       "      <td>1.0</td>\n",
       "      <td>0.522667</td>\n",
       "    </tr>\n",
       "    <tr>\n",
       "      <th>159</th>\n",
       "      <td>1.0</td>\n",
       "      <td>0.536000</td>\n",
       "    </tr>\n",
       "    <tr>\n",
       "      <th>160</th>\n",
       "      <td>1.0</td>\n",
       "      <td>0.513333</td>\n",
       "    </tr>\n",
       "    <tr>\n",
       "      <th>161</th>\n",
       "      <td>1.0</td>\n",
       "      <td>0.529333</td>\n",
       "    </tr>\n",
       "    <tr>\n",
       "      <th>162</th>\n",
       "      <td>1.0</td>\n",
       "      <td>0.521333</td>\n",
       "    </tr>\n",
       "    <tr>\n",
       "      <th>163</th>\n",
       "      <td>1.0</td>\n",
       "      <td>0.525333</td>\n",
       "    </tr>\n",
       "    <tr>\n",
       "      <th>164</th>\n",
       "      <td>0.0</td>\n",
       "      <td>0.500000</td>\n",
       "    </tr>\n",
       "    <tr>\n",
       "      <th>165</th>\n",
       "      <td>1.0</td>\n",
       "      <td>0.544000</td>\n",
       "    </tr>\n",
       "    <tr>\n",
       "      <th>166</th>\n",
       "      <td>1.0</td>\n",
       "      <td>0.614667</td>\n",
       "    </tr>\n",
       "    <tr>\n",
       "      <th>167</th>\n",
       "      <td>1.0</td>\n",
       "      <td>0.572000</td>\n",
       "    </tr>\n",
       "    <tr>\n",
       "      <th>168</th>\n",
       "      <td>1.0</td>\n",
       "      <td>0.613333</td>\n",
       "    </tr>\n",
       "    <tr>\n",
       "      <th>169</th>\n",
       "      <td>1.0</td>\n",
       "      <td>0.578667</td>\n",
       "    </tr>\n",
       "    <tr>\n",
       "      <th>170</th>\n",
       "      <td>1.0</td>\n",
       "      <td>0.537333</td>\n",
       "    </tr>\n",
       "    <tr>\n",
       "      <th>171</th>\n",
       "      <td>1.0</td>\n",
       "      <td>0.553333</td>\n",
       "    </tr>\n",
       "    <tr>\n",
       "      <th>172</th>\n",
       "      <td>1.0</td>\n",
       "      <td>0.557333</td>\n",
       "    </tr>\n",
       "    <tr>\n",
       "      <th>173</th>\n",
       "      <td>1.0</td>\n",
       "      <td>0.586667</td>\n",
       "    </tr>\n",
       "    <tr>\n",
       "      <th>174</th>\n",
       "      <td>1.0</td>\n",
       "      <td>0.517333</td>\n",
       "    </tr>\n",
       "  </tbody>\n",
       "</table>\n",
       "</div>"
      ],
      "text/plain": [
       "     y_pred   y_score\n",
       "154     1.0  0.514667\n",
       "155     1.0  0.525333\n",
       "156     0.0  0.500000\n",
       "157     1.0  0.504000\n",
       "158     1.0  0.522667\n",
       "159     1.0  0.536000\n",
       "160     1.0  0.513333\n",
       "161     1.0  0.529333\n",
       "162     1.0  0.521333\n",
       "163     1.0  0.525333\n",
       "164     0.0  0.500000\n",
       "165     1.0  0.544000\n",
       "166     1.0  0.614667\n",
       "167     1.0  0.572000\n",
       "168     1.0  0.613333\n",
       "169     1.0  0.578667\n",
       "170     1.0  0.537333\n",
       "171     1.0  0.553333\n",
       "172     1.0  0.557333\n",
       "173     1.0  0.586667\n",
       "174     1.0  0.517333"
      ]
     },
     "execution_count": 261,
     "metadata": {},
     "output_type": "execute_result"
    }
   ],
   "source": [
    "pred_rfc[pred_rfc['y_score']>=0.5]"
   ]
  },
  {
   "cell_type": "code",
   "execution_count": 259,
   "id": "quarterly-storm",
   "metadata": {
    "ExecuteTime": {
     "end_time": "2021-02-09T23:45:04.692590Z",
     "start_time": "2021-02-09T23:45:04.669594Z"
    }
   },
   "outputs": [],
   "source": [
    "metrics_dict = metrics (y_test, pred_rfc['y_pred'])"
   ]
  },
  {
   "cell_type": "code",
   "execution_count": 260,
   "id": "regular-mills",
   "metadata": {
    "ExecuteTime": {
     "end_time": "2021-02-09T23:45:04.702570Z",
     "start_time": "2021-02-09T23:45:04.695253Z"
    }
   },
   "outputs": [
    {
     "data": {
      "text/plain": [
       "{'AUC_Test': 0.4782110091743119,\n",
       " 'Accuracy': 0.896774193548387,\n",
       " 'Recall': 0.0,\n",
       " 'Specificity': 0.9564220183486238,\n",
       " 'Precision': 0.0,\n",
       " 'F1 Score': 0.0}"
      ]
     },
     "execution_count": 260,
     "metadata": {},
     "output_type": "execute_result"
    }
   ],
   "source": [
    "metrics_dict"
   ]
  },
  {
   "cell_type": "markdown",
   "id": "variable-sustainability",
   "metadata": {},
   "source": [
    "# Gradient Boosting Classifier"
   ]
  },
  {
   "cell_type": "code",
   "execution_count": 227,
   "id": "acoustic-irish",
   "metadata": {
    "ExecuteTime": {
     "end_time": "2021-02-09T23:12:56.074680Z",
     "start_time": "2021-02-09T23:02:20.083672Z"
    }
   },
   "outputs": [
    {
     "name": "stdout",
     "output_type": "stream",
     "text": [
      "\n",
      "Best Parameters:\n",
      " GradientBoostingClassifier(learning_rate=0.5, n_estimators=500, random_state=42)\n"
     ]
    }
   ],
   "source": [
    "#Generator 30 days\n",
    "model = 'Gradient Boosting Classifier'\n",
    "clf_gbc = GradientBoostingClassifier(random_state=42)\n",
    "gs_params = {'learning_rate': [0.001, 0.01, 0.1, 0.5, 1], 'n_estimators': [100, 200, 300, 500, 800]}\n",
    "gs_score = 'recall'\n",
    "\n",
    "clf_gbc, pred_gbc, y_test = bin_classify(model, clf_gbc, df_train_gen_extra, df_test_gen_extra, '30_days', params=gs_params, score=gs_score)\n",
    "print('\\nBest Parameters:\\n',clf_gbc)"
   ]
  },
  {
   "cell_type": "code",
   "execution_count": 233,
   "id": "streaming-semester",
   "metadata": {
    "ExecuteTime": {
     "end_time": "2021-02-09T23:16:26.832442Z",
     "start_time": "2021-02-09T23:16:26.820751Z"
    }
   },
   "outputs": [
    {
     "data": {
      "text/html": [
       "<div>\n",
       "<style scoped>\n",
       "    .dataframe tbody tr th:only-of-type {\n",
       "        vertical-align: middle;\n",
       "    }\n",
       "\n",
       "    .dataframe tbody tr th {\n",
       "        vertical-align: top;\n",
       "    }\n",
       "\n",
       "    .dataframe thead th {\n",
       "        text-align: right;\n",
       "    }\n",
       "</style>\n",
       "<table border=\"1\" class=\"dataframe\">\n",
       "  <thead>\n",
       "    <tr style=\"text-align: right;\">\n",
       "      <th></th>\n",
       "      <th>30_days</th>\n",
       "    </tr>\n",
       "  </thead>\n",
       "  <tbody>\n",
       "    <tr>\n",
       "      <th>237</th>\n",
       "      <td>1.0</td>\n",
       "    </tr>\n",
       "    <tr>\n",
       "      <th>238</th>\n",
       "      <td>1.0</td>\n",
       "    </tr>\n",
       "    <tr>\n",
       "      <th>239</th>\n",
       "      <td>1.0</td>\n",
       "    </tr>\n",
       "    <tr>\n",
       "      <th>240</th>\n",
       "      <td>1.0</td>\n",
       "    </tr>\n",
       "    <tr>\n",
       "      <th>241</th>\n",
       "      <td>1.0</td>\n",
       "    </tr>\n",
       "    <tr>\n",
       "      <th>242</th>\n",
       "      <td>1.0</td>\n",
       "    </tr>\n",
       "    <tr>\n",
       "      <th>243</th>\n",
       "      <td>1.0</td>\n",
       "    </tr>\n",
       "    <tr>\n",
       "      <th>244</th>\n",
       "      <td>1.0</td>\n",
       "    </tr>\n",
       "    <tr>\n",
       "      <th>245</th>\n",
       "      <td>1.0</td>\n",
       "    </tr>\n",
       "    <tr>\n",
       "      <th>246</th>\n",
       "      <td>1.0</td>\n",
       "    </tr>\n",
       "    <tr>\n",
       "      <th>247</th>\n",
       "      <td>1.0</td>\n",
       "    </tr>\n",
       "    <tr>\n",
       "      <th>248</th>\n",
       "      <td>1.0</td>\n",
       "    </tr>\n",
       "    <tr>\n",
       "      <th>249</th>\n",
       "      <td>1.0</td>\n",
       "    </tr>\n",
       "    <tr>\n",
       "      <th>250</th>\n",
       "      <td>1.0</td>\n",
       "    </tr>\n",
       "    <tr>\n",
       "      <th>251</th>\n",
       "      <td>1.0</td>\n",
       "    </tr>\n",
       "    <tr>\n",
       "      <th>252</th>\n",
       "      <td>1.0</td>\n",
       "    </tr>\n",
       "    <tr>\n",
       "      <th>253</th>\n",
       "      <td>1.0</td>\n",
       "    </tr>\n",
       "    <tr>\n",
       "      <th>254</th>\n",
       "      <td>1.0</td>\n",
       "    </tr>\n",
       "    <tr>\n",
       "      <th>255</th>\n",
       "      <td>1.0</td>\n",
       "    </tr>\n",
       "    <tr>\n",
       "      <th>256</th>\n",
       "      <td>1.0</td>\n",
       "    </tr>\n",
       "    <tr>\n",
       "      <th>257</th>\n",
       "      <td>1.0</td>\n",
       "    </tr>\n",
       "    <tr>\n",
       "      <th>258</th>\n",
       "      <td>1.0</td>\n",
       "    </tr>\n",
       "    <tr>\n",
       "      <th>259</th>\n",
       "      <td>1.0</td>\n",
       "    </tr>\n",
       "    <tr>\n",
       "      <th>260</th>\n",
       "      <td>1.0</td>\n",
       "    </tr>\n",
       "    <tr>\n",
       "      <th>261</th>\n",
       "      <td>1.0</td>\n",
       "    </tr>\n",
       "    <tr>\n",
       "      <th>262</th>\n",
       "      <td>1.0</td>\n",
       "    </tr>\n",
       "    <tr>\n",
       "      <th>263</th>\n",
       "      <td>1.0</td>\n",
       "    </tr>\n",
       "    <tr>\n",
       "      <th>264</th>\n",
       "      <td>1.0</td>\n",
       "    </tr>\n",
       "    <tr>\n",
       "      <th>265</th>\n",
       "      <td>1.0</td>\n",
       "    </tr>\n",
       "  </tbody>\n",
       "</table>\n",
       "</div>"
      ],
      "text/plain": [
       "     30_days\n",
       "237      1.0\n",
       "238      1.0\n",
       "239      1.0\n",
       "240      1.0\n",
       "241      1.0\n",
       "242      1.0\n",
       "243      1.0\n",
       "244      1.0\n",
       "245      1.0\n",
       "246      1.0\n",
       "247      1.0\n",
       "248      1.0\n",
       "249      1.0\n",
       "250      1.0\n",
       "251      1.0\n",
       "252      1.0\n",
       "253      1.0\n",
       "254      1.0\n",
       "255      1.0\n",
       "256      1.0\n",
       "257      1.0\n",
       "258      1.0\n",
       "259      1.0\n",
       "260      1.0\n",
       "261      1.0\n",
       "262      1.0\n",
       "263      1.0\n",
       "264      1.0\n",
       "265      1.0"
      ]
     },
     "execution_count": 233,
     "metadata": {},
     "output_type": "execute_result"
    }
   ],
   "source": [
    "temp = y_test.to_frame()\n",
    "temp[temp['30_days']==1]"
   ]
  },
  {
   "cell_type": "code",
   "execution_count": 234,
   "id": "intense-elephant",
   "metadata": {
    "ExecuteTime": {
     "end_time": "2021-02-09T23:16:30.707011Z",
     "start_time": "2021-02-09T23:16:30.681697Z"
    }
   },
   "outputs": [
    {
     "data": {
      "text/html": [
       "<div>\n",
       "<style scoped>\n",
       "    .dataframe tbody tr th:only-of-type {\n",
       "        vertical-align: middle;\n",
       "    }\n",
       "\n",
       "    .dataframe tbody tr th {\n",
       "        vertical-align: top;\n",
       "    }\n",
       "\n",
       "    .dataframe thead th {\n",
       "        text-align: right;\n",
       "    }\n",
       "</style>\n",
       "<table border=\"1\" class=\"dataframe\">\n",
       "  <thead>\n",
       "    <tr style=\"text-align: right;\">\n",
       "      <th></th>\n",
       "      <th>y_pred</th>\n",
       "      <th>y_score</th>\n",
       "    </tr>\n",
       "  </thead>\n",
       "  <tbody>\n",
       "    <tr>\n",
       "      <th>63</th>\n",
       "      <td>1.0</td>\n",
       "      <td>0.843211</td>\n",
       "    </tr>\n",
       "    <tr>\n",
       "      <th>64</th>\n",
       "      <td>1.0</td>\n",
       "      <td>1.000000</td>\n",
       "    </tr>\n",
       "    <tr>\n",
       "      <th>65</th>\n",
       "      <td>1.0</td>\n",
       "      <td>0.999998</td>\n",
       "    </tr>\n",
       "    <tr>\n",
       "      <th>66</th>\n",
       "      <td>1.0</td>\n",
       "      <td>0.999999</td>\n",
       "    </tr>\n",
       "    <tr>\n",
       "      <th>67</th>\n",
       "      <td>1.0</td>\n",
       "      <td>0.999983</td>\n",
       "    </tr>\n",
       "    <tr>\n",
       "      <th>68</th>\n",
       "      <td>1.0</td>\n",
       "      <td>0.999977</td>\n",
       "    </tr>\n",
       "    <tr>\n",
       "      <th>69</th>\n",
       "      <td>1.0</td>\n",
       "      <td>0.999964</td>\n",
       "    </tr>\n",
       "    <tr>\n",
       "      <th>98</th>\n",
       "      <td>1.0</td>\n",
       "      <td>0.767419</td>\n",
       "    </tr>\n",
       "    <tr>\n",
       "      <th>141</th>\n",
       "      <td>1.0</td>\n",
       "      <td>1.000000</td>\n",
       "    </tr>\n",
       "    <tr>\n",
       "      <th>142</th>\n",
       "      <td>1.0</td>\n",
       "      <td>0.999786</td>\n",
       "    </tr>\n",
       "    <tr>\n",
       "      <th>145</th>\n",
       "      <td>1.0</td>\n",
       "      <td>0.982951</td>\n",
       "    </tr>\n",
       "    <tr>\n",
       "      <th>146</th>\n",
       "      <td>1.0</td>\n",
       "      <td>0.990407</td>\n",
       "    </tr>\n",
       "    <tr>\n",
       "      <th>147</th>\n",
       "      <td>1.0</td>\n",
       "      <td>0.972678</td>\n",
       "    </tr>\n",
       "    <tr>\n",
       "      <th>148</th>\n",
       "      <td>1.0</td>\n",
       "      <td>0.996916</td>\n",
       "    </tr>\n",
       "    <tr>\n",
       "      <th>149</th>\n",
       "      <td>1.0</td>\n",
       "      <td>0.999988</td>\n",
       "    </tr>\n",
       "    <tr>\n",
       "      <th>150</th>\n",
       "      <td>1.0</td>\n",
       "      <td>0.999889</td>\n",
       "    </tr>\n",
       "    <tr>\n",
       "      <th>151</th>\n",
       "      <td>1.0</td>\n",
       "      <td>0.999931</td>\n",
       "    </tr>\n",
       "    <tr>\n",
       "      <th>152</th>\n",
       "      <td>1.0</td>\n",
       "      <td>1.000000</td>\n",
       "    </tr>\n",
       "    <tr>\n",
       "      <th>153</th>\n",
       "      <td>1.0</td>\n",
       "      <td>1.000000</td>\n",
       "    </tr>\n",
       "    <tr>\n",
       "      <th>154</th>\n",
       "      <td>1.0</td>\n",
       "      <td>1.000000</td>\n",
       "    </tr>\n",
       "    <tr>\n",
       "      <th>155</th>\n",
       "      <td>1.0</td>\n",
       "      <td>1.000000</td>\n",
       "    </tr>\n",
       "    <tr>\n",
       "      <th>156</th>\n",
       "      <td>1.0</td>\n",
       "      <td>1.000000</td>\n",
       "    </tr>\n",
       "    <tr>\n",
       "      <th>157</th>\n",
       "      <td>1.0</td>\n",
       "      <td>1.000000</td>\n",
       "    </tr>\n",
       "    <tr>\n",
       "      <th>158</th>\n",
       "      <td>1.0</td>\n",
       "      <td>1.000000</td>\n",
       "    </tr>\n",
       "    <tr>\n",
       "      <th>159</th>\n",
       "      <td>1.0</td>\n",
       "      <td>1.000000</td>\n",
       "    </tr>\n",
       "    <tr>\n",
       "      <th>160</th>\n",
       "      <td>1.0</td>\n",
       "      <td>1.000000</td>\n",
       "    </tr>\n",
       "    <tr>\n",
       "      <th>161</th>\n",
       "      <td>1.0</td>\n",
       "      <td>1.000000</td>\n",
       "    </tr>\n",
       "    <tr>\n",
       "      <th>162</th>\n",
       "      <td>1.0</td>\n",
       "      <td>1.000000</td>\n",
       "    </tr>\n",
       "    <tr>\n",
       "      <th>163</th>\n",
       "      <td>1.0</td>\n",
       "      <td>1.000000</td>\n",
       "    </tr>\n",
       "    <tr>\n",
       "      <th>164</th>\n",
       "      <td>1.0</td>\n",
       "      <td>1.000000</td>\n",
       "    </tr>\n",
       "    <tr>\n",
       "      <th>165</th>\n",
       "      <td>1.0</td>\n",
       "      <td>0.999946</td>\n",
       "    </tr>\n",
       "    <tr>\n",
       "      <th>166</th>\n",
       "      <td>1.0</td>\n",
       "      <td>0.840494</td>\n",
       "    </tr>\n",
       "    <tr>\n",
       "      <th>167</th>\n",
       "      <td>1.0</td>\n",
       "      <td>0.999759</td>\n",
       "    </tr>\n",
       "    <tr>\n",
       "      <th>168</th>\n",
       "      <td>1.0</td>\n",
       "      <td>0.973421</td>\n",
       "    </tr>\n",
       "    <tr>\n",
       "      <th>169</th>\n",
       "      <td>1.0</td>\n",
       "      <td>0.996706</td>\n",
       "    </tr>\n",
       "    <tr>\n",
       "      <th>170</th>\n",
       "      <td>1.0</td>\n",
       "      <td>0.983814</td>\n",
       "    </tr>\n",
       "    <tr>\n",
       "      <th>250</th>\n",
       "      <td>1.0</td>\n",
       "      <td>1.000000</td>\n",
       "    </tr>\n",
       "    <tr>\n",
       "      <th>251</th>\n",
       "      <td>1.0</td>\n",
       "      <td>1.000000</td>\n",
       "    </tr>\n",
       "    <tr>\n",
       "      <th>252</th>\n",
       "      <td>1.0</td>\n",
       "      <td>1.000000</td>\n",
       "    </tr>\n",
       "    <tr>\n",
       "      <th>253</th>\n",
       "      <td>1.0</td>\n",
       "      <td>1.000000</td>\n",
       "    </tr>\n",
       "    <tr>\n",
       "      <th>254</th>\n",
       "      <td>1.0</td>\n",
       "      <td>1.000000</td>\n",
       "    </tr>\n",
       "    <tr>\n",
       "      <th>255</th>\n",
       "      <td>1.0</td>\n",
       "      <td>1.000000</td>\n",
       "    </tr>\n",
       "    <tr>\n",
       "      <th>342</th>\n",
       "      <td>1.0</td>\n",
       "      <td>0.550831</td>\n",
       "    </tr>\n",
       "    <tr>\n",
       "      <th>343</th>\n",
       "      <td>1.0</td>\n",
       "      <td>1.000000</td>\n",
       "    </tr>\n",
       "    <tr>\n",
       "      <th>344</th>\n",
       "      <td>1.0</td>\n",
       "      <td>0.999962</td>\n",
       "    </tr>\n",
       "    <tr>\n",
       "      <th>345</th>\n",
       "      <td>1.0</td>\n",
       "      <td>0.999952</td>\n",
       "    </tr>\n",
       "    <tr>\n",
       "      <th>346</th>\n",
       "      <td>1.0</td>\n",
       "      <td>0.999996</td>\n",
       "    </tr>\n",
       "    <tr>\n",
       "      <th>347</th>\n",
       "      <td>1.0</td>\n",
       "      <td>0.851446</td>\n",
       "    </tr>\n",
       "    <tr>\n",
       "      <th>348</th>\n",
       "      <td>1.0</td>\n",
       "      <td>0.842000</td>\n",
       "    </tr>\n",
       "    <tr>\n",
       "      <th>435</th>\n",
       "      <td>1.0</td>\n",
       "      <td>0.989576</td>\n",
       "    </tr>\n",
       "    <tr>\n",
       "      <th>436</th>\n",
       "      <td>1.0</td>\n",
       "      <td>0.999999</td>\n",
       "    </tr>\n",
       "    <tr>\n",
       "      <th>437</th>\n",
       "      <td>1.0</td>\n",
       "      <td>1.000000</td>\n",
       "    </tr>\n",
       "    <tr>\n",
       "      <th>438</th>\n",
       "      <td>1.0</td>\n",
       "      <td>1.000000</td>\n",
       "    </tr>\n",
       "    <tr>\n",
       "      <th>439</th>\n",
       "      <td>1.0</td>\n",
       "      <td>1.000000</td>\n",
       "    </tr>\n",
       "    <tr>\n",
       "      <th>440</th>\n",
       "      <td>1.0</td>\n",
       "      <td>1.000000</td>\n",
       "    </tr>\n",
       "    <tr>\n",
       "      <th>441</th>\n",
       "      <td>1.0</td>\n",
       "      <td>1.000000</td>\n",
       "    </tr>\n",
       "    <tr>\n",
       "      <th>442</th>\n",
       "      <td>1.0</td>\n",
       "      <td>0.932785</td>\n",
       "    </tr>\n",
       "  </tbody>\n",
       "</table>\n",
       "</div>"
      ],
      "text/plain": [
       "     y_pred   y_score\n",
       "63      1.0  0.843211\n",
       "64      1.0  1.000000\n",
       "65      1.0  0.999998\n",
       "66      1.0  0.999999\n",
       "67      1.0  0.999983\n",
       "68      1.0  0.999977\n",
       "69      1.0  0.999964\n",
       "98      1.0  0.767419\n",
       "141     1.0  1.000000\n",
       "142     1.0  0.999786\n",
       "145     1.0  0.982951\n",
       "146     1.0  0.990407\n",
       "147     1.0  0.972678\n",
       "148     1.0  0.996916\n",
       "149     1.0  0.999988\n",
       "150     1.0  0.999889\n",
       "151     1.0  0.999931\n",
       "152     1.0  1.000000\n",
       "153     1.0  1.000000\n",
       "154     1.0  1.000000\n",
       "155     1.0  1.000000\n",
       "156     1.0  1.000000\n",
       "157     1.0  1.000000\n",
       "158     1.0  1.000000\n",
       "159     1.0  1.000000\n",
       "160     1.0  1.000000\n",
       "161     1.0  1.000000\n",
       "162     1.0  1.000000\n",
       "163     1.0  1.000000\n",
       "164     1.0  1.000000\n",
       "165     1.0  0.999946\n",
       "166     1.0  0.840494\n",
       "167     1.0  0.999759\n",
       "168     1.0  0.973421\n",
       "169     1.0  0.996706\n",
       "170     1.0  0.983814\n",
       "250     1.0  1.000000\n",
       "251     1.0  1.000000\n",
       "252     1.0  1.000000\n",
       "253     1.0  1.000000\n",
       "254     1.0  1.000000\n",
       "255     1.0  1.000000\n",
       "342     1.0  0.550831\n",
       "343     1.0  1.000000\n",
       "344     1.0  0.999962\n",
       "345     1.0  0.999952\n",
       "346     1.0  0.999996\n",
       "347     1.0  0.851446\n",
       "348     1.0  0.842000\n",
       "435     1.0  0.989576\n",
       "436     1.0  0.999999\n",
       "437     1.0  1.000000\n",
       "438     1.0  1.000000\n",
       "439     1.0  1.000000\n",
       "440     1.0  1.000000\n",
       "441     1.0  1.000000\n",
       "442     1.0  0.932785"
      ]
     },
     "execution_count": 234,
     "metadata": {},
     "output_type": "execute_result"
    }
   ],
   "source": [
    "pred_gbc[pred_gbc['y_pred']==1]"
   ]
  },
  {
   "cell_type": "code",
   "execution_count": 235,
   "id": "mediterranean-journey",
   "metadata": {
    "ExecuteTime": {
     "end_time": "2021-02-09T23:17:02.188785Z",
     "start_time": "2021-02-09T23:17:02.174709Z"
    }
   },
   "outputs": [],
   "source": [
    "metrics_dict = metrics (y_test, pred_gbc['y_pred'])"
   ]
  },
  {
   "cell_type": "code",
   "execution_count": 236,
   "id": "soviet-andrews",
   "metadata": {
    "ExecuteTime": {
     "end_time": "2021-02-09T23:17:07.150181Z",
     "start_time": "2021-02-09T23:17:07.144974Z"
    }
   },
   "outputs": [
    {
     "data": {
      "text/plain": [
       "{'AUC_Test': 0.5449620373299588,\n",
       " 'Accuracy': 0.8408602150537634,\n",
       " 'Recall': 0.20689655172413793,\n",
       " 'Specificity': 0.8830275229357798,\n",
       " 'Precision': 0.10526315789473684,\n",
       " 'F1 Score': 0.13953488372093023}"
      ]
     },
     "execution_count": 236,
     "metadata": {},
     "output_type": "execute_result"
    }
   ],
   "source": [
    "metrics_dict"
   ]
  },
  {
   "cell_type": "code",
   "execution_count": 237,
   "id": "rocky-gross",
   "metadata": {
    "ExecuteTime": {
     "end_time": "2021-02-09T23:23:15.788989Z",
     "start_time": "2021-02-09T23:22:41.373768Z"
    }
   },
   "outputs": [
    {
     "name": "stdout",
     "output_type": "stream",
     "text": [
      "\n",
      "Best Parameters:\n",
      " ExtraTreesClassifier(n_estimators=1000, random_state=42)\n"
     ]
    }
   ],
   "source": [
    "#Generator 30 days\n",
    "model = 'Extra Trees Classifier'\n",
    "clf_etc = ExtraTreesClassifier(random_state=42)\n",
    "gs_params = {'n_estimators': [750, 800, 1000, 2000], 'criterion': ['gini', 'entropy']}\n",
    "gs_score = 'recall'\n",
    "\n",
    "clf_etc, pred_etc, y_test = bin_classify(model, clf_etc, df_train_gen_extra, df_test_gen_extra, '30_days', params=gs_params, score=gs_score)\n",
    "print('\\nBest Parameters:\\n',clf_etc)"
   ]
  },
  {
   "cell_type": "code",
   "execution_count": 238,
   "id": "stable-hygiene",
   "metadata": {
    "ExecuteTime": {
     "end_time": "2021-02-09T23:24:19.264023Z",
     "start_time": "2021-02-09T23:24:19.249801Z"
    },
    "collapsed": true
   },
   "outputs": [
    {
     "data": {
      "text/html": [
       "<div>\n",
       "<style scoped>\n",
       "    .dataframe tbody tr th:only-of-type {\n",
       "        vertical-align: middle;\n",
       "    }\n",
       "\n",
       "    .dataframe tbody tr th {\n",
       "        vertical-align: top;\n",
       "    }\n",
       "\n",
       "    .dataframe thead th {\n",
       "        text-align: right;\n",
       "    }\n",
       "</style>\n",
       "<table border=\"1\" class=\"dataframe\">\n",
       "  <thead>\n",
       "    <tr style=\"text-align: right;\">\n",
       "      <th></th>\n",
       "      <th>y_pred</th>\n",
       "      <th>y_score</th>\n",
       "    </tr>\n",
       "  </thead>\n",
       "  <tbody>\n",
       "    <tr>\n",
       "      <th>145</th>\n",
       "      <td>1.0</td>\n",
       "      <td>0.549</td>\n",
       "    </tr>\n",
       "    <tr>\n",
       "      <th>146</th>\n",
       "      <td>1.0</td>\n",
       "      <td>0.584</td>\n",
       "    </tr>\n",
       "    <tr>\n",
       "      <th>147</th>\n",
       "      <td>1.0</td>\n",
       "      <td>0.593</td>\n",
       "    </tr>\n",
       "    <tr>\n",
       "      <th>148</th>\n",
       "      <td>1.0</td>\n",
       "      <td>0.574</td>\n",
       "    </tr>\n",
       "    <tr>\n",
       "      <th>149</th>\n",
       "      <td>1.0</td>\n",
       "      <td>0.564</td>\n",
       "    </tr>\n",
       "    <tr>\n",
       "      <th>150</th>\n",
       "      <td>1.0</td>\n",
       "      <td>0.530</td>\n",
       "    </tr>\n",
       "    <tr>\n",
       "      <th>151</th>\n",
       "      <td>1.0</td>\n",
       "      <td>0.510</td>\n",
       "    </tr>\n",
       "    <tr>\n",
       "      <th>153</th>\n",
       "      <td>1.0</td>\n",
       "      <td>0.559</td>\n",
       "    </tr>\n",
       "    <tr>\n",
       "      <th>154</th>\n",
       "      <td>1.0</td>\n",
       "      <td>0.554</td>\n",
       "    </tr>\n",
       "    <tr>\n",
       "      <th>164</th>\n",
       "      <td>1.0</td>\n",
       "      <td>0.560</td>\n",
       "    </tr>\n",
       "    <tr>\n",
       "      <th>167</th>\n",
       "      <td>1.0</td>\n",
       "      <td>0.502</td>\n",
       "    </tr>\n",
       "    <tr>\n",
       "      <th>168</th>\n",
       "      <td>1.0</td>\n",
       "      <td>0.518</td>\n",
       "    </tr>\n",
       "    <tr>\n",
       "      <th>169</th>\n",
       "      <td>1.0</td>\n",
       "      <td>0.510</td>\n",
       "    </tr>\n",
       "  </tbody>\n",
       "</table>\n",
       "</div>"
      ],
      "text/plain": [
       "     y_pred  y_score\n",
       "145     1.0    0.549\n",
       "146     1.0    0.584\n",
       "147     1.0    0.593\n",
       "148     1.0    0.574\n",
       "149     1.0    0.564\n",
       "150     1.0    0.530\n",
       "151     1.0    0.510\n",
       "153     1.0    0.559\n",
       "154     1.0    0.554\n",
       "164     1.0    0.560\n",
       "167     1.0    0.502\n",
       "168     1.0    0.518\n",
       "169     1.0    0.510"
      ]
     },
     "execution_count": 238,
     "metadata": {},
     "output_type": "execute_result"
    }
   ],
   "source": [
    "pred_etc[pred_etc['y_pred']==1]"
   ]
  },
  {
   "cell_type": "code",
   "execution_count": 239,
   "id": "answering-renaissance",
   "metadata": {
    "ExecuteTime": {
     "end_time": "2021-02-09T23:24:43.787526Z",
     "start_time": "2021-02-09T23:24:43.772991Z"
    }
   },
   "outputs": [
    {
     "data": {
      "text/plain": [
       "{'AUC_Test': 0.48509174311926606,\n",
       " 'Accuracy': 0.9096774193548387,\n",
       " 'Recall': 0.0,\n",
       " 'Specificity': 0.9701834862385321,\n",
       " 'Precision': 0.0,\n",
       " 'F1 Score': 0.0}"
      ]
     },
     "execution_count": 239,
     "metadata": {},
     "output_type": "execute_result"
    }
   ],
   "source": [
    "metrics_dict = metrics (y_test, pred_etc['y_pred'])\n",
    "metrics_dict"
   ]
  },
  {
   "cell_type": "code",
   "execution_count": null,
   "id": "medieval-guitar",
   "metadata": {},
   "outputs": [],
   "source": []
  },
  {
   "cell_type": "code",
   "execution_count": null,
   "id": "floppy-rider",
   "metadata": {},
   "outputs": [],
   "source": []
  },
  {
   "cell_type": "code",
   "execution_count": null,
   "id": "compatible-engine",
   "metadata": {},
   "outputs": [],
   "source": []
  },
  {
   "cell_type": "code",
   "execution_count": 251,
   "id": "discrete-peoples",
   "metadata": {
    "ExecuteTime": {
     "end_time": "2021-02-09T23:37:09.173378Z",
     "start_time": "2021-02-09T23:37:09.165985Z"
    }
   },
   "outputs": [],
   "source": [
    "df_train_hyd_extra = df_train_hyd_extra[features]\n",
    "df_test_hyd_extra = df_test_hyd_extra[features]"
   ]
  },
  {
   "cell_type": "code",
   "execution_count": 252,
   "id": "entire-rescue",
   "metadata": {
    "ExecuteTime": {
     "end_time": "2021-02-09T23:38:57.140884Z",
     "start_time": "2021-02-09T23:37:09.991688Z"
    }
   },
   "outputs": [
    {
     "name": "stdout",
     "output_type": "stream",
     "text": [
      "\n",
      "Best Parameters:\n",
      " RandomForestClassifier(criterion='entropy', n_estimators=2000, random_state=42)\n"
     ]
    }
   ],
   "source": [
    "#Hydraulic 30 days\n",
    "model = 'Random Forest Classifier'\n",
    "clf_rfc = RandomForestClassifier(random_state=42)\n",
    "gs_params = {'n_estimators': [900, 1000, 2000, 2050], 'criterion': ['gini', 'entropy'], 'class_weight': ['balanced', None]}\n",
    "gs_score = 'recall'\n",
    "\n",
    "clf_rfc, pred_rfc, y_test = bin_classify(model, clf_rfc, df_train_hyd_extra, df_test_hyd_extra, '30_days', params=gs_params, score=gs_score)\n",
    "print('\\nBest Parameters:\\n',clf_rfc)"
   ]
  },
  {
   "cell_type": "code",
   "execution_count": 253,
   "id": "valuable-uniform",
   "metadata": {
    "ExecuteTime": {
     "end_time": "2021-02-09T23:38:57.158190Z",
     "start_time": "2021-02-09T23:38:57.143408Z"
    },
    "collapsed": true
   },
   "outputs": [
    {
     "data": {
      "text/html": [
       "<div>\n",
       "<style scoped>\n",
       "    .dataframe tbody tr th:only-of-type {\n",
       "        vertical-align: middle;\n",
       "    }\n",
       "\n",
       "    .dataframe tbody tr th {\n",
       "        vertical-align: top;\n",
       "    }\n",
       "\n",
       "    .dataframe thead th {\n",
       "        text-align: right;\n",
       "    }\n",
       "</style>\n",
       "<table border=\"1\" class=\"dataframe\">\n",
       "  <thead>\n",
       "    <tr style=\"text-align: right;\">\n",
       "      <th></th>\n",
       "      <th>30_days</th>\n",
       "    </tr>\n",
       "  </thead>\n",
       "  <tbody>\n",
       "    <tr>\n",
       "      <th>142</th>\n",
       "      <td>1.0</td>\n",
       "    </tr>\n",
       "    <tr>\n",
       "      <th>143</th>\n",
       "      <td>1.0</td>\n",
       "    </tr>\n",
       "    <tr>\n",
       "      <th>144</th>\n",
       "      <td>1.0</td>\n",
       "    </tr>\n",
       "    <tr>\n",
       "      <th>145</th>\n",
       "      <td>1.0</td>\n",
       "    </tr>\n",
       "    <tr>\n",
       "      <th>146</th>\n",
       "      <td>1.0</td>\n",
       "    </tr>\n",
       "    <tr>\n",
       "      <th>147</th>\n",
       "      <td>1.0</td>\n",
       "    </tr>\n",
       "    <tr>\n",
       "      <th>148</th>\n",
       "      <td>1.0</td>\n",
       "    </tr>\n",
       "    <tr>\n",
       "      <th>149</th>\n",
       "      <td>1.0</td>\n",
       "    </tr>\n",
       "    <tr>\n",
       "      <th>150</th>\n",
       "      <td>1.0</td>\n",
       "    </tr>\n",
       "    <tr>\n",
       "      <th>151</th>\n",
       "      <td>1.0</td>\n",
       "    </tr>\n",
       "    <tr>\n",
       "      <th>152</th>\n",
       "      <td>1.0</td>\n",
       "    </tr>\n",
       "    <tr>\n",
       "      <th>153</th>\n",
       "      <td>1.0</td>\n",
       "    </tr>\n",
       "    <tr>\n",
       "      <th>154</th>\n",
       "      <td>1.0</td>\n",
       "    </tr>\n",
       "    <tr>\n",
       "      <th>155</th>\n",
       "      <td>1.0</td>\n",
       "    </tr>\n",
       "    <tr>\n",
       "      <th>156</th>\n",
       "      <td>1.0</td>\n",
       "    </tr>\n",
       "    <tr>\n",
       "      <th>157</th>\n",
       "      <td>1.0</td>\n",
       "    </tr>\n",
       "    <tr>\n",
       "      <th>158</th>\n",
       "      <td>1.0</td>\n",
       "    </tr>\n",
       "    <tr>\n",
       "      <th>159</th>\n",
       "      <td>1.0</td>\n",
       "    </tr>\n",
       "    <tr>\n",
       "      <th>160</th>\n",
       "      <td>1.0</td>\n",
       "    </tr>\n",
       "    <tr>\n",
       "      <th>161</th>\n",
       "      <td>1.0</td>\n",
       "    </tr>\n",
       "    <tr>\n",
       "      <th>162</th>\n",
       "      <td>1.0</td>\n",
       "    </tr>\n",
       "    <tr>\n",
       "      <th>163</th>\n",
       "      <td>1.0</td>\n",
       "    </tr>\n",
       "    <tr>\n",
       "      <th>164</th>\n",
       "      <td>1.0</td>\n",
       "    </tr>\n",
       "    <tr>\n",
       "      <th>165</th>\n",
       "      <td>1.0</td>\n",
       "    </tr>\n",
       "    <tr>\n",
       "      <th>166</th>\n",
       "      <td>1.0</td>\n",
       "    </tr>\n",
       "    <tr>\n",
       "      <th>167</th>\n",
       "      <td>1.0</td>\n",
       "    </tr>\n",
       "    <tr>\n",
       "      <th>168</th>\n",
       "      <td>1.0</td>\n",
       "    </tr>\n",
       "    <tr>\n",
       "      <th>169</th>\n",
       "      <td>1.0</td>\n",
       "    </tr>\n",
       "    <tr>\n",
       "      <th>170</th>\n",
       "      <td>1.0</td>\n",
       "    </tr>\n",
       "    <tr>\n",
       "      <th>186</th>\n",
       "      <td>1.0</td>\n",
       "    </tr>\n",
       "    <tr>\n",
       "      <th>187</th>\n",
       "      <td>1.0</td>\n",
       "    </tr>\n",
       "    <tr>\n",
       "      <th>188</th>\n",
       "      <td>1.0</td>\n",
       "    </tr>\n",
       "    <tr>\n",
       "      <th>189</th>\n",
       "      <td>1.0</td>\n",
       "    </tr>\n",
       "    <tr>\n",
       "      <th>190</th>\n",
       "      <td>1.0</td>\n",
       "    </tr>\n",
       "    <tr>\n",
       "      <th>191</th>\n",
       "      <td>1.0</td>\n",
       "    </tr>\n",
       "    <tr>\n",
       "      <th>192</th>\n",
       "      <td>1.0</td>\n",
       "    </tr>\n",
       "    <tr>\n",
       "      <th>193</th>\n",
       "      <td>1.0</td>\n",
       "    </tr>\n",
       "    <tr>\n",
       "      <th>194</th>\n",
       "      <td>1.0</td>\n",
       "    </tr>\n",
       "    <tr>\n",
       "      <th>195</th>\n",
       "      <td>1.0</td>\n",
       "    </tr>\n",
       "    <tr>\n",
       "      <th>196</th>\n",
       "      <td>1.0</td>\n",
       "    </tr>\n",
       "    <tr>\n",
       "      <th>197</th>\n",
       "      <td>1.0</td>\n",
       "    </tr>\n",
       "    <tr>\n",
       "      <th>198</th>\n",
       "      <td>1.0</td>\n",
       "    </tr>\n",
       "    <tr>\n",
       "      <th>199</th>\n",
       "      <td>1.0</td>\n",
       "    </tr>\n",
       "    <tr>\n",
       "      <th>200</th>\n",
       "      <td>1.0</td>\n",
       "    </tr>\n",
       "  </tbody>\n",
       "</table>\n",
       "</div>"
      ],
      "text/plain": [
       "     30_days\n",
       "142      1.0\n",
       "143      1.0\n",
       "144      1.0\n",
       "145      1.0\n",
       "146      1.0\n",
       "147      1.0\n",
       "148      1.0\n",
       "149      1.0\n",
       "150      1.0\n",
       "151      1.0\n",
       "152      1.0\n",
       "153      1.0\n",
       "154      1.0\n",
       "155      1.0\n",
       "156      1.0\n",
       "157      1.0\n",
       "158      1.0\n",
       "159      1.0\n",
       "160      1.0\n",
       "161      1.0\n",
       "162      1.0\n",
       "163      1.0\n",
       "164      1.0\n",
       "165      1.0\n",
       "166      1.0\n",
       "167      1.0\n",
       "168      1.0\n",
       "169      1.0\n",
       "170      1.0\n",
       "186      1.0\n",
       "187      1.0\n",
       "188      1.0\n",
       "189      1.0\n",
       "190      1.0\n",
       "191      1.0\n",
       "192      1.0\n",
       "193      1.0\n",
       "194      1.0\n",
       "195      1.0\n",
       "196      1.0\n",
       "197      1.0\n",
       "198      1.0\n",
       "199      1.0\n",
       "200      1.0"
      ]
     },
     "execution_count": 253,
     "metadata": {},
     "output_type": "execute_result"
    }
   ],
   "source": [
    "temp = y_test.to_frame()\n",
    "temp[temp['30_days']==1]"
   ]
  },
  {
   "cell_type": "code",
   "execution_count": 271,
   "id": "integrated-college",
   "metadata": {
    "ExecuteTime": {
     "end_time": "2021-02-09T23:51:56.878754Z",
     "start_time": "2021-02-09T23:51:56.864491Z"
    },
    "collapsed": true
   },
   "outputs": [
    {
     "data": {
      "text/html": [
       "<div>\n",
       "<style scoped>\n",
       "    .dataframe tbody tr th:only-of-type {\n",
       "        vertical-align: middle;\n",
       "    }\n",
       "\n",
       "    .dataframe tbody tr th {\n",
       "        vertical-align: top;\n",
       "    }\n",
       "\n",
       "    .dataframe thead th {\n",
       "        text-align: right;\n",
       "    }\n",
       "</style>\n",
       "<table border=\"1\" class=\"dataframe\">\n",
       "  <thead>\n",
       "    <tr style=\"text-align: right;\">\n",
       "      <th></th>\n",
       "      <th>y_pred</th>\n",
       "      <th>y_score</th>\n",
       "    </tr>\n",
       "  </thead>\n",
       "  <tbody>\n",
       "    <tr>\n",
       "      <th>154</th>\n",
       "      <td>1.0</td>\n",
       "      <td>0.514667</td>\n",
       "    </tr>\n",
       "    <tr>\n",
       "      <th>155</th>\n",
       "      <td>1.0</td>\n",
       "      <td>0.525333</td>\n",
       "    </tr>\n",
       "    <tr>\n",
       "      <th>157</th>\n",
       "      <td>1.0</td>\n",
       "      <td>0.504000</td>\n",
       "    </tr>\n",
       "    <tr>\n",
       "      <th>158</th>\n",
       "      <td>1.0</td>\n",
       "      <td>0.522667</td>\n",
       "    </tr>\n",
       "    <tr>\n",
       "      <th>159</th>\n",
       "      <td>1.0</td>\n",
       "      <td>0.536000</td>\n",
       "    </tr>\n",
       "    <tr>\n",
       "      <th>160</th>\n",
       "      <td>1.0</td>\n",
       "      <td>0.513333</td>\n",
       "    </tr>\n",
       "    <tr>\n",
       "      <th>161</th>\n",
       "      <td>1.0</td>\n",
       "      <td>0.529333</td>\n",
       "    </tr>\n",
       "    <tr>\n",
       "      <th>162</th>\n",
       "      <td>1.0</td>\n",
       "      <td>0.521333</td>\n",
       "    </tr>\n",
       "    <tr>\n",
       "      <th>163</th>\n",
       "      <td>1.0</td>\n",
       "      <td>0.525333</td>\n",
       "    </tr>\n",
       "    <tr>\n",
       "      <th>165</th>\n",
       "      <td>1.0</td>\n",
       "      <td>0.544000</td>\n",
       "    </tr>\n",
       "    <tr>\n",
       "      <th>166</th>\n",
       "      <td>1.0</td>\n",
       "      <td>0.614667</td>\n",
       "    </tr>\n",
       "    <tr>\n",
       "      <th>167</th>\n",
       "      <td>1.0</td>\n",
       "      <td>0.572000</td>\n",
       "    </tr>\n",
       "    <tr>\n",
       "      <th>168</th>\n",
       "      <td>1.0</td>\n",
       "      <td>0.613333</td>\n",
       "    </tr>\n",
       "    <tr>\n",
       "      <th>169</th>\n",
       "      <td>1.0</td>\n",
       "      <td>0.578667</td>\n",
       "    </tr>\n",
       "    <tr>\n",
       "      <th>170</th>\n",
       "      <td>1.0</td>\n",
       "      <td>0.537333</td>\n",
       "    </tr>\n",
       "    <tr>\n",
       "      <th>171</th>\n",
       "      <td>1.0</td>\n",
       "      <td>0.553333</td>\n",
       "    </tr>\n",
       "    <tr>\n",
       "      <th>172</th>\n",
       "      <td>1.0</td>\n",
       "      <td>0.557333</td>\n",
       "    </tr>\n",
       "    <tr>\n",
       "      <th>173</th>\n",
       "      <td>1.0</td>\n",
       "      <td>0.586667</td>\n",
       "    </tr>\n",
       "    <tr>\n",
       "      <th>174</th>\n",
       "      <td>1.0</td>\n",
       "      <td>0.517333</td>\n",
       "    </tr>\n",
       "  </tbody>\n",
       "</table>\n",
       "</div>"
      ],
      "text/plain": [
       "     y_pred   y_score\n",
       "154     1.0  0.514667\n",
       "155     1.0  0.525333\n",
       "157     1.0  0.504000\n",
       "158     1.0  0.522667\n",
       "159     1.0  0.536000\n",
       "160     1.0  0.513333\n",
       "161     1.0  0.529333\n",
       "162     1.0  0.521333\n",
       "163     1.0  0.525333\n",
       "165     1.0  0.544000\n",
       "166     1.0  0.614667\n",
       "167     1.0  0.572000\n",
       "168     1.0  0.613333\n",
       "169     1.0  0.578667\n",
       "170     1.0  0.537333\n",
       "171     1.0  0.553333\n",
       "172     1.0  0.557333\n",
       "173     1.0  0.586667\n",
       "174     1.0  0.517333"
      ]
     },
     "execution_count": 271,
     "metadata": {},
     "output_type": "execute_result"
    }
   ],
   "source": [
    "pred_rfc[pred_rfc['y_score']>0.5]"
   ]
  },
  {
   "cell_type": "code",
   "execution_count": null,
   "id": "invalid-broad",
   "metadata": {},
   "outputs": [],
   "source": []
  },
  {
   "cell_type": "code",
   "execution_count": null,
   "id": "collectible-standard",
   "metadata": {},
   "outputs": [],
   "source": []
  },
  {
   "cell_type": "code",
   "execution_count": 272,
   "id": "fifth-breath",
   "metadata": {
    "ExecuteTime": {
     "end_time": "2021-02-09T23:52:56.613779Z",
     "start_time": "2021-02-09T23:52:56.604605Z"
    }
   },
   "outputs": [],
   "source": [
    "df_train_transf_extra = df_train_transf_extra[features]\n",
    "df_test_transf_extra = df_test_transf_extra[features]"
   ]
  },
  {
   "cell_type": "code",
   "execution_count": 273,
   "id": "solid-scene",
   "metadata": {
    "ExecuteTime": {
     "end_time": "2021-02-10T00:02:45.154429Z",
     "start_time": "2021-02-09T23:53:22.093828Z"
    }
   },
   "outputs": [
    {
     "name": "stdout",
     "output_type": "stream",
     "text": [
      "\n",
      "Best Parameters:\n",
      " GradientBoostingClassifier(random_state=42)\n"
     ]
    }
   ],
   "source": [
    "#Transformer 30 days\n",
    "model = 'Gradient Boosting Classifier'\n",
    "clf_gbc = GradientBoostingClassifier(random_state=42)\n",
    "gs_params = {'learning_rate': [0.001, 0.01, 0.1, 0.5, 1], 'n_estimators': [100, 200, 300, 500, 800]}\n",
    "gs_score = 'recall'\n",
    "\n",
    "clf_gbc, pred_gbc, y_test = bin_classify(model, clf_gbc, df_train_transf_extra, df_test_transf_extra, '30_days', params=gs_params, score=gs_score)\n",
    "print('\\nBest Parameters:\\n',clf_gbc)"
   ]
  },
  {
   "cell_type": "code",
   "execution_count": 277,
   "id": "valued-plastic",
   "metadata": {
    "ExecuteTime": {
     "end_time": "2021-02-10T00:03:50.217000Z",
     "start_time": "2021-02-10T00:03:50.204758Z"
    }
   },
   "outputs": [
    {
     "data": {
      "text/html": [
       "<div>\n",
       "<style scoped>\n",
       "    .dataframe tbody tr th:only-of-type {\n",
       "        vertical-align: middle;\n",
       "    }\n",
       "\n",
       "    .dataframe tbody tr th {\n",
       "        vertical-align: top;\n",
       "    }\n",
       "\n",
       "    .dataframe thead th {\n",
       "        text-align: right;\n",
       "    }\n",
       "</style>\n",
       "<table border=\"1\" class=\"dataframe\">\n",
       "  <thead>\n",
       "    <tr style=\"text-align: right;\">\n",
       "      <th></th>\n",
       "      <th>y_pred</th>\n",
       "      <th>y_score</th>\n",
       "    </tr>\n",
       "  </thead>\n",
       "  <tbody>\n",
       "    <tr>\n",
       "      <th>248</th>\n",
       "      <td>0.0</td>\n",
       "      <td>0.204297</td>\n",
       "    </tr>\n",
       "    <tr>\n",
       "      <th>249</th>\n",
       "      <td>0.0</td>\n",
       "      <td>0.215049</td>\n",
       "    </tr>\n",
       "  </tbody>\n",
       "</table>\n",
       "</div>"
      ],
      "text/plain": [
       "     y_pred   y_score\n",
       "248     0.0  0.204297\n",
       "249     0.0  0.215049"
      ]
     },
     "execution_count": 277,
     "metadata": {},
     "output_type": "execute_result"
    }
   ],
   "source": [
    "pred_gbc[pred_gbc['y_score']>0.2]"
   ]
  },
  {
   "cell_type": "code",
   "execution_count": null,
   "id": "tested-finance",
   "metadata": {},
   "outputs": [],
   "source": []
  },
  {
   "cell_type": "code",
   "execution_count": null,
   "id": "wired-waste",
   "metadata": {},
   "outputs": [],
   "source": []
  },
  {
   "cell_type": "code",
   "execution_count": null,
   "id": "sublime-cursor",
   "metadata": {},
   "outputs": [],
   "source": [
    "# def several_models_results():\n",
    "\n",
    "#     for key,target_ in dict_mod.items():\n",
    "\n",
    "#         target=target_\n",
    "#         df_train[target]=df_train[target].round().astype(int)#.value_counts()\n",
    "#         df_test[target]=df_test[target].round().astype(int)#.value_counts()\n",
    "#         y_test=df_test[target]\n",
    "    \n",
    "\n",
    "#         if 'LogReg' in key:\n",
    "#             model = 'Logistic Regression'\n",
    "#             clf_LogReg = LogisticRegression(random_state=42)\n",
    "#             gs_params = {'C': [.01, 0.1, 1.0, 10], 'solver': ['liblinear', 'lbfgs'], 'class_weight': ['balanced',None]}\n",
    "#             #gs_score = 'roc_auc' 68\n",
    "#             gs_score = 'f1'\n",
    "\n",
    "#             clf_LogReg, pred_LogReg_test, pred_LogReg_train = classifier(model, clf_LogReg, features,target, df_train,df_test, params=gs_params, score=gs_score)\n",
    "#             dict_results[key]=metrics(df_train[target], pred_LogReg_train['y_train_prob'], df_test[target], pred_LogReg_test['y_test_pred'], pred_LogReg_test['y_test_prob'])\n",
    "\n",
    "\n",
    "#         if  'RF' in key:  \n",
    "#             model = 'Random Forest'\n",
    "#             clf_rfc = RandomForestClassifier(n_estimators=50, random_state=42)\n",
    "#             gs_params = {'max_depth': [3,4, 5, 6, 7, 8], 'criterion': ['gini', 'entropy'], 'class_weight': ['balanced',None]}\n",
    "#             gs_score = 'f1'\n",
    "\n",
    "#             clf_rfc, pred_RandForest_test, pred_RandForest_train = classifier(model, clf_rfc, features,target, df_train,df_test,  params=gs_params, score=gs_score)\n",
    "#             dict_results[key]=metrics(df_train[target], pred_RandForest_train['y_train_prob'], df_test[target], pred_RandForest_test['y_test_pred'], pred_RandForest_test['y_test_prob'])\n",
    "\n",
    "\n",
    "#         if  'KNN' in key:\n",
    "#             model = 'KNN'\n",
    "#             clf_knn = KNeighborsClassifier(n_jobs=-1)\n",
    "#             gs_params = {'n_neighbors': [5, 9 , 10, 11, 12]}\n",
    "#             gs_score = 'f1'\n",
    "\n",
    "#             clf_knn, pred_KNN_test, pred_KNN_train = classifier(model, clf_knn, features,target, df_train,df_test,  params=gs_params, score=gs_score)\n",
    "#             dict_results[key]=metrics(df_train[target], pred_KNN_train['y_train_prob'], df_test[target], pred_KNN_test['y_test_pred'], pred_KNN_test['y_test_prob'])\n",
    "    \n",
    "\n",
    "#     return dict_results"
   ]
  },
  {
   "cell_type": "code",
   "execution_count": null,
   "id": "external-cambodia",
   "metadata": {},
   "outputs": [],
   "source": []
  }
 ],
 "metadata": {
  "kernelspec": {
   "display_name": "Python 3",
   "language": "python",
   "name": "python3"
  },
  "language_info": {
   "codemirror_mode": {
    "name": "ipython",
    "version": 3
   },
   "file_extension": ".py",
   "mimetype": "text/x-python",
   "name": "python",
   "nbconvert_exporter": "python",
   "pygments_lexer": "ipython3",
   "version": "3.7.2"
  }
 },
 "nbformat": 4,
 "nbformat_minor": 5
}
