{
 "cells": [
  {
   "cell_type": "code",
   "execution_count": 25,
   "metadata": {
    "ExecuteTime": {
     "end_time": "2021-02-05T22:40:51.514108Z",
     "start_time": "2021-02-05T22:40:45.161810Z"
    }
   },
   "outputs": [],
   "source": [
    "import pandas as pd\n",
    "import numpy as np\n",
    "\n",
    "\n",
    "import matplotlib.pyplot as plt\n",
    "plt.style.use('ggplot')\n",
    "%matplotlib inline  \n",
    "\n",
    "from sklearn import metrics\n",
    "\n",
    "from sklearn import model_selection\n",
    "\n",
    "from sklearn.linear_model import LogisticRegression\n",
    "from sklearn.ensemble import RandomForestClassifier\n",
    "from sklearn.svm import SVC, LinearSVC\n",
    "from sklearn.tree import DecisionTreeClassifier, export_graphviz\n",
    "from sklearn.neighbors import KNeighborsClassifier\n",
    "from sklearn.naive_bayes import GaussianNB"
   ]
  },
  {
   "cell_type": "code",
   "execution_count": 4,
   "metadata": {
    "ExecuteTime": {
     "end_time": "2021-02-05T22:30:04.796449Z",
     "start_time": "2021-02-05T22:30:04.790294Z"
    }
   },
   "outputs": [],
   "source": [
    "columns_drop_metmast = ['Min_Raindetection', 'Avg_Raindetection', 'Avg_Raindetection', 'Anemometer1_Freq', 'Anemometer1_Offset', 'Anemometer1_CorrGain', 'Anemometer1_CorrOffset', 'Anemometer2_Freq', 'Anemometer2_Offset', 'Anemometer2_CorrGain', 'Anemometer2_CorrOffset', 'DistanceAirPress', 'AirRessureSensorZeroOffset']\n",
    "columns_drop_signals = ['Prod_LatestAvg_ActPwrGen2', 'Prod_LatestAvg_ReactPwrGen2']\n"
   ]
  },
  {
   "cell_type": "code",
   "execution_count": 5,
   "metadata": {
    "ExecuteTime": {
     "end_time": "2021-02-05T22:30:04.826393Z",
     "start_time": "2021-02-05T22:30:04.806923Z"
    }
   },
   "outputs": [],
   "source": [
    "df_failures = pd.read_csv(r'../rawdata/wind-farm-1-failures-training.csv', sep=';')\n"
   ]
  },
  {
   "cell_type": "code",
   "execution_count": 51,
   "metadata": {
    "ExecuteTime": {
     "end_time": "2021-02-05T23:01:50.552982Z",
     "start_time": "2021-02-05T23:01:43.602378Z"
    }
   },
   "outputs": [],
   "source": [
    "df_signals = pd.read_csv('../rawdata/wind-farm-1-signals-training.csv', sep=';')#, nrows=100000)\n",
    "#df_signals.columns"
   ]
  },
  {
   "cell_type": "code",
   "execution_count": 52,
   "metadata": {
    "ExecuteTime": {
     "end_time": "2021-02-05T23:01:50.575533Z",
     "start_time": "2021-02-05T23:01:50.558597Z"
    }
   },
   "outputs": [],
   "source": [
    "columns_gen=['Turbine_ID','Timestamp', 'Gen_RPM_Max', 'Gen_RPM_Min', 'Gen_RPM_Avg',\n",
    "       'Gen_RPM_Std', 'Gen_Bear_Temp_Avg', 'Gen_Phase1_Temp_Avg',\n",
    "       'Gen_Phase2_Temp_Avg', 'Gen_Phase3_Temp_Avg', 'Prod_LatestAvg_ActPwrGen0', 'Prod_LatestAvg_ActPwrGen1',\n",
    "      # 'Prod_LatestAvg_ActPwrGen2', 'Prod_LatestAvg_TotActPwr',\n",
    "       'Prod_LatestAvg_ReactPwrGen0', 'Prod_LatestAvg_ReactPwrGen1',\n",
    "      # 'Prod_LatestAvg_ReactPwrGen2',   'Prod_LatestAvg_TotReactPwr',\n",
    "     'Gen_SlipRing_Temp_Avg','Gen_Bear2_Temp_Avg'\n",
    "            ]\n",
    "\n",
    "\n",
    "    \n",
    "    \n",
    "columns_gen_select=[ \n",
    "       'Gen_RPM_Std', 'Gen_Bear_Temp_Avg',\n",
    "       'Gen_Phase2_Temp_Avg', 'Prod_LatestAvg_ActPwrGen0',\n",
    "      # 'Prod_LatestAvg_ActPwrGen2', 'Prod_LatestAvg_TotActPwr',\n",
    "       'Prod_LatestAvg_ReactPwrGen0',\n",
    "     'Gen_SlipRing_Temp_Avg','Gen_Bear2_Temp_Avg'\n",
    "            ]"
   ]
  },
  {
   "cell_type": "code",
   "execution_count": 53,
   "metadata": {
    "ExecuteTime": {
     "end_time": "2021-02-05T23:01:51.828686Z",
     "start_time": "2021-02-05T23:01:50.589743Z"
    }
   },
   "outputs": [
    {
     "data": {
      "text/html": [
       "<div>\n",
       "<style scoped>\n",
       "    .dataframe tbody tr th:only-of-type {\n",
       "        vertical-align: middle;\n",
       "    }\n",
       "\n",
       "    .dataframe tbody tr th {\n",
       "        vertical-align: top;\n",
       "    }\n",
       "\n",
       "    .dataframe thead th {\n",
       "        text-align: right;\n",
       "    }\n",
       "</style>\n",
       "<table border=\"1\" class=\"dataframe\">\n",
       "  <thead>\n",
       "    <tr style=\"text-align: right;\">\n",
       "      <th></th>\n",
       "      <th>Turbine_ID</th>\n",
       "      <th>Timestamp</th>\n",
       "      <th>Gen_RPM_Max</th>\n",
       "      <th>Gen_RPM_Min</th>\n",
       "      <th>Gen_RPM_Avg</th>\n",
       "      <th>Gen_RPM_Std</th>\n",
       "      <th>Gen_Bear_Temp_Avg</th>\n",
       "      <th>Gen_Phase1_Temp_Avg</th>\n",
       "      <th>Gen_Phase2_Temp_Avg</th>\n",
       "      <th>Gen_Phase3_Temp_Avg</th>\n",
       "      <th>Prod_LatestAvg_ActPwrGen0</th>\n",
       "      <th>Prod_LatestAvg_ActPwrGen1</th>\n",
       "      <th>Prod_LatestAvg_ReactPwrGen0</th>\n",
       "      <th>Prod_LatestAvg_ReactPwrGen1</th>\n",
       "      <th>Gen_SlipRing_Temp_Avg</th>\n",
       "      <th>Gen_Bear2_Temp_Avg</th>\n",
       "    </tr>\n",
       "  </thead>\n",
       "  <tbody>\n",
       "    <tr>\n",
       "      <th>0</th>\n",
       "      <td>T11</td>\n",
       "      <td>2016-01-01</td>\n",
       "      <td>1339.4</td>\n",
       "      <td>1233.3</td>\n",
       "      <td>1270.9</td>\n",
       "      <td>18.8</td>\n",
       "      <td>42.0</td>\n",
       "      <td>59</td>\n",
       "      <td>61</td>\n",
       "      <td>60</td>\n",
       "      <td>0</td>\n",
       "      <td>41059.0</td>\n",
       "      <td>0</td>\n",
       "      <td>-13521</td>\n",
       "      <td>27</td>\n",
       "      <td>38</td>\n",
       "    </tr>\n",
       "    <tr>\n",
       "      <th>1</th>\n",
       "      <td>T06</td>\n",
       "      <td>2016-01-01</td>\n",
       "      <td>1270.0</td>\n",
       "      <td>1232.8</td>\n",
       "      <td>1248.5</td>\n",
       "      <td>6.8</td>\n",
       "      <td>42.0</td>\n",
       "      <td>51</td>\n",
       "      <td>52</td>\n",
       "      <td>53</td>\n",
       "      <td>0</td>\n",
       "      <td>10465.0</td>\n",
       "      <td>0</td>\n",
       "      <td>-12621</td>\n",
       "      <td>26</td>\n",
       "      <td>35</td>\n",
       "    </tr>\n",
       "    <tr>\n",
       "      <th>2</th>\n",
       "      <td>T01</td>\n",
       "      <td>2016-01-01</td>\n",
       "      <td>1277.4</td>\n",
       "      <td>1226.1</td>\n",
       "      <td>1249.0</td>\n",
       "      <td>9.0</td>\n",
       "      <td>41.0</td>\n",
       "      <td>58</td>\n",
       "      <td>59</td>\n",
       "      <td>58</td>\n",
       "      <td>-107</td>\n",
       "      <td>4420.0</td>\n",
       "      <td>-99</td>\n",
       "      <td>-5636</td>\n",
       "      <td>25</td>\n",
       "      <td>37</td>\n",
       "    </tr>\n",
       "    <tr>\n",
       "      <th>3</th>\n",
       "      <td>T09</td>\n",
       "      <td>2016-01-01</td>\n",
       "      <td>1376.7</td>\n",
       "      <td>1234.3</td>\n",
       "      <td>1272.0</td>\n",
       "      <td>24.7</td>\n",
       "      <td>40.0</td>\n",
       "      <td>58</td>\n",
       "      <td>57</td>\n",
       "      <td>58</td>\n",
       "      <td>0</td>\n",
       "      <td>33173.0</td>\n",
       "      <td>0</td>\n",
       "      <td>-13513</td>\n",
       "      <td>26</td>\n",
       "      <td>33</td>\n",
       "    </tr>\n",
       "    <tr>\n",
       "      <th>4</th>\n",
       "      <td>T07</td>\n",
       "      <td>2016-01-01</td>\n",
       "      <td>1317.5</td>\n",
       "      <td>1229.5</td>\n",
       "      <td>1254.9</td>\n",
       "      <td>13.8</td>\n",
       "      <td>41.0</td>\n",
       "      <td>62</td>\n",
       "      <td>62</td>\n",
       "      <td>61</td>\n",
       "      <td>0</td>\n",
       "      <td>18831.0</td>\n",
       "      <td>0</td>\n",
       "      <td>-11991</td>\n",
       "      <td>26</td>\n",
       "      <td>39</td>\n",
       "    </tr>\n",
       "  </tbody>\n",
       "</table>\n",
       "</div>"
      ],
      "text/plain": [
       "  Turbine_ID  Timestamp  Gen_RPM_Max  Gen_RPM_Min  Gen_RPM_Avg  Gen_RPM_Std  \\\n",
       "0        T11 2016-01-01       1339.4       1233.3       1270.9         18.8   \n",
       "1        T06 2016-01-01       1270.0       1232.8       1248.5          6.8   \n",
       "2        T01 2016-01-01       1277.4       1226.1       1249.0          9.0   \n",
       "3        T09 2016-01-01       1376.7       1234.3       1272.0         24.7   \n",
       "4        T07 2016-01-01       1317.5       1229.5       1254.9         13.8   \n",
       "\n",
       "   Gen_Bear_Temp_Avg  Gen_Phase1_Temp_Avg  Gen_Phase2_Temp_Avg  \\\n",
       "0               42.0                   59                   61   \n",
       "1               42.0                   51                   52   \n",
       "2               41.0                   58                   59   \n",
       "3               40.0                   58                   57   \n",
       "4               41.0                   62                   62   \n",
       "\n",
       "   Gen_Phase3_Temp_Avg  Prod_LatestAvg_ActPwrGen0  Prod_LatestAvg_ActPwrGen1  \\\n",
       "0                   60                          0                    41059.0   \n",
       "1                   53                          0                    10465.0   \n",
       "2                   58                       -107                     4420.0   \n",
       "3                   58                          0                    33173.0   \n",
       "4                   61                          0                    18831.0   \n",
       "\n",
       "   Prod_LatestAvg_ReactPwrGen0  Prod_LatestAvg_ReactPwrGen1  \\\n",
       "0                            0                       -13521   \n",
       "1                            0                       -12621   \n",
       "2                          -99                        -5636   \n",
       "3                            0                       -13513   \n",
       "4                            0                       -11991   \n",
       "\n",
       "   Gen_SlipRing_Temp_Avg  Gen_Bear2_Temp_Avg  \n",
       "0                     27                  38  \n",
       "1                     26                  35  \n",
       "2                     25                  37  \n",
       "3                     26                  33  \n",
       "4                     26                  39  "
      ]
     },
     "execution_count": 53,
     "metadata": {},
     "output_type": "execute_result"
    }
   ],
   "source": [
    "\n",
    "df_signals = df_signals.drop(columns=columns_drop_signals)\n",
    "df_signals = df_signals[columns_gen]\n",
    "df_signals['Timestamp']=pd.to_datetime(df_signals['Timestamp']).dt.tz_convert(None)\n",
    "df_signals.head()"
   ]
  },
  {
   "cell_type": "code",
   "execution_count": 49,
   "metadata": {
    "ExecuteTime": {
     "end_time": "2021-02-05T23:00:00.157046Z",
     "start_time": "2021-02-05T23:00:00.148666Z"
    }
   },
   "outputs": [
    {
     "data": {
      "text/plain": [
       "(434145, 16)"
      ]
     },
     "execution_count": 49,
     "metadata": {},
     "output_type": "execute_result"
    }
   ],
   "source": [
    "df_signals.shape"
   ]
  },
  {
   "cell_type": "markdown",
   "metadata": {},
   "source": [
    "1-dataset tem de estar ordenado primeiro por turbina e depois por timestamp (ascendente)"
   ]
  },
  {
   "cell_type": "code",
   "execution_count": 14,
   "metadata": {
    "ExecuteTime": {
     "end_time": "2021-02-05T22:31:36.723929Z",
     "start_time": "2021-02-05T22:31:34.576421Z"
    }
   },
   "outputs": [],
   "source": [
    "df_target=pd.read_csv('../rawdata/Miguel/df_target_v2_60_50_40_50_30_20_10.csv', index_col=[0])\n",
    "df_target['Timestamp']=pd.to_datetime(df_target['Timestamp'])\n",
    "#df_target.head()"
   ]
  },
  {
   "cell_type": "code",
   "execution_count": 37,
   "metadata": {
    "ExecuteTime": {
     "end_time": "2021-02-05T22:49:51.571734Z",
     "start_time": "2021-02-05T22:49:51.552224Z"
    }
   },
   "outputs": [
    {
     "data": {
      "text/html": [
       "<div>\n",
       "<style scoped>\n",
       "    .dataframe tbody tr th:only-of-type {\n",
       "        vertical-align: middle;\n",
       "    }\n",
       "\n",
       "    .dataframe tbody tr th {\n",
       "        vertical-align: top;\n",
       "    }\n",
       "\n",
       "    .dataframe thead th {\n",
       "        text-align: right;\n",
       "    }\n",
       "</style>\n",
       "<table border=\"1\" class=\"dataframe\">\n",
       "  <thead>\n",
       "    <tr style=\"text-align: right;\">\n",
       "      <th></th>\n",
       "      <th>Turbine_ID</th>\n",
       "      <th>Component</th>\n",
       "      <th>Timestamp</th>\n",
       "      <th>Remarks</th>\n",
       "    </tr>\n",
       "  </thead>\n",
       "  <tbody>\n",
       "    <tr>\n",
       "      <th>0</th>\n",
       "      <td>T11</td>\n",
       "      <td>GENERATOR</td>\n",
       "      <td>2016-03-03T19:00:00+00:00</td>\n",
       "      <td>Electric circuit error in generator</td>\n",
       "    </tr>\n",
       "    <tr>\n",
       "      <th>1</th>\n",
       "      <td>T06</td>\n",
       "      <td>HYDRAULIC_GROUP</td>\n",
       "      <td>2016-04-04T18:53:00+00:00</td>\n",
       "      <td>Error in pitch regulation</td>\n",
       "    </tr>\n",
       "    <tr>\n",
       "      <th>2</th>\n",
       "      <td>T07</td>\n",
       "      <td>GENERATOR_BEARING</td>\n",
       "      <td>2016-04-30T12:40:00+00:00</td>\n",
       "      <td>High temperature in generator bearing (replace...</td>\n",
       "    </tr>\n",
       "    <tr>\n",
       "      <th>3</th>\n",
       "      <td>T09</td>\n",
       "      <td>GENERATOR_BEARING</td>\n",
       "      <td>2016-06-07T16:59:00+00:00</td>\n",
       "      <td>High tempemperature generator bearing</td>\n",
       "    </tr>\n",
       "    <tr>\n",
       "      <th>4</th>\n",
       "      <td>T07</td>\n",
       "      <td>TRANSFORMER</td>\n",
       "      <td>2016-07-10T03:46:00+00:00</td>\n",
       "      <td>High temperature transformer</td>\n",
       "    </tr>\n",
       "    <tr>\n",
       "      <th>5</th>\n",
       "      <td>T06</td>\n",
       "      <td>GENERATOR</td>\n",
       "      <td>2016-07-11T19:48:00+00:00</td>\n",
       "      <td>Generator replaced</td>\n",
       "    </tr>\n",
       "    <tr>\n",
       "      <th>6</th>\n",
       "      <td>T01</td>\n",
       "      <td>GEARBOX</td>\n",
       "      <td>2016-07-18T02:10:00+00:00</td>\n",
       "      <td>Gearbox pump damaged</td>\n",
       "    </tr>\n",
       "    <tr>\n",
       "      <th>7</th>\n",
       "      <td>T06</td>\n",
       "      <td>GENERATOR</td>\n",
       "      <td>2016-07-24T17:01:00+00:00</td>\n",
       "      <td>Generator temperature sensor failure</td>\n",
       "    </tr>\n",
       "    <tr>\n",
       "      <th>8</th>\n",
       "      <td>T09</td>\n",
       "      <td>GENERATOR_BEARING</td>\n",
       "      <td>2016-08-22T18:25:00+00:00</td>\n",
       "      <td>High temperature generator bearing</td>\n",
       "    </tr>\n",
       "    <tr>\n",
       "      <th>9</th>\n",
       "      <td>T07</td>\n",
       "      <td>TRANSFORMER</td>\n",
       "      <td>2016-08-23T02:21:00+00:00</td>\n",
       "      <td>High temperature transformer. Transformer refr...</td>\n",
       "    </tr>\n",
       "    <tr>\n",
       "      <th>10</th>\n",
       "      <td>T06</td>\n",
       "      <td>GENERATOR</td>\n",
       "      <td>2016-09-04T08:08:00+00:00</td>\n",
       "      <td>High temperature generator error</td>\n",
       "    </tr>\n",
       "    <tr>\n",
       "      <th>11</th>\n",
       "      <td>T06</td>\n",
       "      <td>GENERATOR</td>\n",
       "      <td>2016-10-02T17:08:00+00:00</td>\n",
       "      <td>Refrigeration system and temperature sensors i...</td>\n",
       "    </tr>\n",
       "    <tr>\n",
       "      <th>12</th>\n",
       "      <td>T09</td>\n",
       "      <td>GEARBOX</td>\n",
       "      <td>2016-10-11T08:06:00+00:00</td>\n",
       "      <td>Gearbox repaired</td>\n",
       "    </tr>\n",
       "    <tr>\n",
       "      <th>13</th>\n",
       "      <td>T09</td>\n",
       "      <td>GENERATOR_BEARING</td>\n",
       "      <td>2016-10-17T09:19:00+00:00</td>\n",
       "      <td>Generator bearings replaced</td>\n",
       "    </tr>\n",
       "    <tr>\n",
       "      <th>14</th>\n",
       "      <td>T11</td>\n",
       "      <td>HYDRAULIC_GROUP</td>\n",
       "      <td>2016-10-17T17:44:00+00:00</td>\n",
       "      <td>Hydraulic group error in the brake circuit</td>\n",
       "    </tr>\n",
       "    <tr>\n",
       "      <th>15</th>\n",
       "      <td>T06</td>\n",
       "      <td>GENERATOR</td>\n",
       "      <td>2016-10-27T16:26:00+00:00</td>\n",
       "      <td>Generator replaced</td>\n",
       "    </tr>\n",
       "    <tr>\n",
       "      <th>16</th>\n",
       "      <td>T09</td>\n",
       "      <td>GENERATOR_BEARING</td>\n",
       "      <td>2017-01-25T12:55:00+00:00</td>\n",
       "      <td>Generator bearings replaced</td>\n",
       "    </tr>\n",
       "    <tr>\n",
       "      <th>17</th>\n",
       "      <td>T11</td>\n",
       "      <td>HYDRAULIC_GROUP</td>\n",
       "      <td>2017-04-26T18:06:00+00:00</td>\n",
       "      <td>Hydraulic group error in the brake circuit</td>\n",
       "    </tr>\n",
       "    <tr>\n",
       "      <th>18</th>\n",
       "      <td>T07</td>\n",
       "      <td>HYDRAULIC_GROUP</td>\n",
       "      <td>2017-06-17T11:35:00+00:00</td>\n",
       "      <td>Oil leakage in Hub</td>\n",
       "    </tr>\n",
       "    <tr>\n",
       "      <th>19</th>\n",
       "      <td>T01</td>\n",
       "      <td>TRANSFORMER</td>\n",
       "      <td>2017-08-11T13:14:00+00:00</td>\n",
       "      <td>Transformer fan damaged</td>\n",
       "    </tr>\n",
       "    <tr>\n",
       "      <th>20</th>\n",
       "      <td>T06</td>\n",
       "      <td>HYDRAULIC_GROUP</td>\n",
       "      <td>2017-08-19T09:47:00+00:00</td>\n",
       "      <td>Oil leakage in Hub</td>\n",
       "    </tr>\n",
       "    <tr>\n",
       "      <th>21</th>\n",
       "      <td>T07</td>\n",
       "      <td>GENERATOR_BEARING</td>\n",
       "      <td>2017-08-20T06:08:00+00:00</td>\n",
       "      <td>Generator bearings damaged</td>\n",
       "    </tr>\n",
       "    <tr>\n",
       "      <th>22</th>\n",
       "      <td>T07</td>\n",
       "      <td>GENERATOR</td>\n",
       "      <td>2017-08-21T14:47:00+00:00</td>\n",
       "      <td>Generator damaged</td>\n",
       "    </tr>\n",
       "  </tbody>\n",
       "</table>\n",
       "</div>"
      ],
      "text/plain": [
       "   Turbine_ID          Component                  Timestamp  \\\n",
       "0         T11          GENERATOR  2016-03-03T19:00:00+00:00   \n",
       "1         T06    HYDRAULIC_GROUP  2016-04-04T18:53:00+00:00   \n",
       "2         T07  GENERATOR_BEARING  2016-04-30T12:40:00+00:00   \n",
       "3         T09  GENERATOR_BEARING  2016-06-07T16:59:00+00:00   \n",
       "4         T07        TRANSFORMER  2016-07-10T03:46:00+00:00   \n",
       "5         T06          GENERATOR  2016-07-11T19:48:00+00:00   \n",
       "6         T01            GEARBOX  2016-07-18T02:10:00+00:00   \n",
       "7         T06          GENERATOR  2016-07-24T17:01:00+00:00   \n",
       "8         T09  GENERATOR_BEARING  2016-08-22T18:25:00+00:00   \n",
       "9         T07        TRANSFORMER  2016-08-23T02:21:00+00:00   \n",
       "10        T06          GENERATOR  2016-09-04T08:08:00+00:00   \n",
       "11        T06          GENERATOR  2016-10-02T17:08:00+00:00   \n",
       "12        T09            GEARBOX  2016-10-11T08:06:00+00:00   \n",
       "13        T09  GENERATOR_BEARING  2016-10-17T09:19:00+00:00   \n",
       "14        T11    HYDRAULIC_GROUP  2016-10-17T17:44:00+00:00   \n",
       "15        T06          GENERATOR  2016-10-27T16:26:00+00:00   \n",
       "16        T09  GENERATOR_BEARING  2017-01-25T12:55:00+00:00   \n",
       "17        T11    HYDRAULIC_GROUP  2017-04-26T18:06:00+00:00   \n",
       "18        T07    HYDRAULIC_GROUP  2017-06-17T11:35:00+00:00   \n",
       "19        T01        TRANSFORMER  2017-08-11T13:14:00+00:00   \n",
       "20        T06    HYDRAULIC_GROUP  2017-08-19T09:47:00+00:00   \n",
       "21        T07  GENERATOR_BEARING  2017-08-20T06:08:00+00:00   \n",
       "22        T07          GENERATOR  2017-08-21T14:47:00+00:00   \n",
       "\n",
       "                                              Remarks  \n",
       "0                 Electric circuit error in generator  \n",
       "1                           Error in pitch regulation  \n",
       "2   High temperature in generator bearing (replace...  \n",
       "3               High tempemperature generator bearing  \n",
       "4                        High temperature transformer  \n",
       "5                                  Generator replaced  \n",
       "6                                Gearbox pump damaged  \n",
       "7                Generator temperature sensor failure  \n",
       "8                  High temperature generator bearing  \n",
       "9   High temperature transformer. Transformer refr...  \n",
       "10                   High temperature generator error  \n",
       "11  Refrigeration system and temperature sensors i...  \n",
       "12                                   Gearbox repaired  \n",
       "13                        Generator bearings replaced  \n",
       "14         Hydraulic group error in the brake circuit  \n",
       "15                                 Generator replaced  \n",
       "16                        Generator bearings replaced  \n",
       "17         Hydraulic group error in the brake circuit  \n",
       "18                                 Oil leakage in Hub  \n",
       "19                            Transformer fan damaged  \n",
       "20                                 Oil leakage in Hub  \n",
       "21                         Generator bearings damaged  \n",
       "22                                  Generator damaged  "
      ]
     },
     "execution_count": 37,
     "metadata": {},
     "output_type": "execute_result"
    }
   ],
   "source": [
    "df_failures"
   ]
  },
  {
   "cell_type": "code",
   "execution_count": 85,
   "metadata": {
    "ExecuteTime": {
     "end_time": "2021-02-05T23:17:40.959005Z",
     "start_time": "2021-02-05T23:17:40.506125Z"
    }
   },
   "outputs": [],
   "source": [
    "target='Fail_30_GENERATOR'\n",
    "df_signals_target=pd.merge(df_signals, df_target[['Timestamp','Turbine_ID',target]], how='left', on=['Turbine_ID','Timestamp'])"
   ]
  },
  {
   "cell_type": "code",
   "execution_count": 86,
   "metadata": {
    "ExecuteTime": {
     "end_time": "2021-02-05T23:17:40.969053Z",
     "start_time": "2021-02-05T23:17:40.961405Z"
    }
   },
   "outputs": [],
   "source": [
    "df_signals_target.Gen_Bear_Temp_Avg.fillna(0,inplace=True)"
   ]
  },
  {
   "cell_type": "code",
   "execution_count": 87,
   "metadata": {
    "ExecuteTime": {
     "end_time": "2021-02-05T23:17:41.068500Z",
     "start_time": "2021-02-05T23:17:41.057863Z"
    }
   },
   "outputs": [
    {
     "data": {
      "text/plain": [
       "500.0"
      ]
     },
     "execution_count": 87,
     "metadata": {},
     "output_type": "execute_result"
    }
   ],
   "source": [
    "2500*0.2"
   ]
  },
  {
   "cell_type": "code",
   "execution_count": 88,
   "metadata": {
    "ExecuteTime": {
     "end_time": "2021-02-05T23:17:41.411294Z",
     "start_time": "2021-02-05T23:17:41.407269Z"
    }
   },
   "outputs": [],
   "source": [
    "from sklearn.preprocessing import MinMaxScaler,StandardScaler"
   ]
  },
  {
   "cell_type": "code",
   "execution_count": null,
   "metadata": {},
   "outputs": [],
   "source": []
  },
  {
   "cell_type": "code",
   "execution_count": 97,
   "metadata": {
    "ExecuteTime": {
     "end_time": "2021-02-05T23:18:21.353884Z",
     "start_time": "2021-02-05T23:18:21.345883Z"
    }
   },
   "outputs": [],
   "source": [
    "def bin_classify(model, clf, features,target, df_train, df_test ,params=None, score=None, ):\n",
    "    \n",
    "    \"\"\"Perfor Grid Search hyper parameter tuning on a classifier.\n",
    "    \n",
    "    Args:\n",
    "        model (str): The model name identifier\n",
    "        clf (clssifier object): The classifier to be tuned\n",
    "        features (list): The set of input features names\n",
    "        params (dict): Grid Search parameters\n",
    "        score (str): Grid Search score\n",
    "        \n",
    "    Returns:\n",
    "        Tuned Clssifier object\n",
    "        dataframe of model predictions and scores\n",
    "    \n",
    "    \"\"\"\n",
    "    \n",
    "    \n",
    "    X_train = df_train[features]\n",
    "\n",
    "    X_test = df_test[features] \n",
    "    y_train = df_train[target]\n",
    "    y_test = df_test[target]\n",
    "\n",
    "    \n",
    "    grid_search = model_selection.GridSearchCV(estimator=clf, param_grid=params, cv=5, scoring=score, n_jobs=-1)\n",
    "\n",
    "    grid_search.fit(X_train, y_train)\n",
    "    y_pred = grid_search.predict(X_test)\n",
    "    \n",
    "    if hasattr(grid_search, 'predict_proba'):   \n",
    "        y_score = grid_search.predict_proba(X_test)[:,1]\n",
    "    elif hasattr(grid_search, 'decision_function'):\n",
    "        y_score = grid_search.decision_function(X_test)\n",
    "    else:\n",
    "        y_score = y_pred\n",
    "        \n",
    "    predictions = {'y_pred' : y_pred, 'y_score' : y_score}\n",
    "    df_predictions = pd.DataFrame.from_dict(predictions)\n",
    "    \n",
    "    return grid_search.best_estimator_, df_predictions"
   ]
  },
  {
   "cell_type": "code",
   "execution_count": 131,
   "metadata": {
    "ExecuteTime": {
     "end_time": "2021-02-06T14:26:20.896882Z",
     "start_time": "2021-02-06T14:26:20.589985Z"
    }
   },
   "outputs": [
    {
     "ename": "NameError",
     "evalue": "name 'y_pred' is not defined",
     "output_type": "error",
     "traceback": [
      "\u001b[0;31m---------------------------------------------------------------------------\u001b[0m",
      "\u001b[0;31mNameError\u001b[0m                                 Traceback (most recent call last)",
      "\u001b[0;32m<ipython-input-131-3aaf935e6aec>\u001b[0m in \u001b[0;36m<module>\u001b[0;34m\u001b[0m\n\u001b[0;32m----> 1\u001b[0;31m \u001b[0my_pred\u001b[0m\u001b[0;34m\u001b[0m\u001b[0;34m\u001b[0m\u001b[0m\n\u001b[0m",
      "\u001b[0;31mNameError\u001b[0m: name 'y_pred' is not defined"
     ]
    }
   ],
   "source": [
    "y_pred"
   ]
  },
  {
   "cell_type": "code",
   "execution_count": 103,
   "metadata": {
    "ExecuteTime": {
     "end_time": "2021-02-05T23:19:38.734262Z",
     "start_time": "2021-02-05T23:19:38.697820Z"
    }
   },
   "outputs": [],
   "source": [
    "def bin_class_metrics(model, y_test, y_pred, y_score, print_out=True, plot_out=True):\n",
    "    \n",
    "    \"\"\"Calculate main binary classifcation metrics, plot AUC ROC and Precision-Recall curves.\n",
    "    \n",
    "    Args:\n",
    "        model (str): The model name identifier\n",
    "        y_test (series): Contains the test label values\n",
    "        y_pred (series): Contains the predicted values\n",
    "        y_score (series): Contains the predicted scores\n",
    "        print_out (bool): Print the classification metrics and thresholds values\n",
    "        plot_out (bool): Plot AUC ROC, Precision-Recall, and Threshold curves\n",
    "        \n",
    "    Returns:\n",
    "        dataframe: The combined metrics in single dataframe\n",
    "        dataframe: ROC thresholds\n",
    "        dataframe: Precision-Recall thresholds\n",
    "        Plot: AUC ROC\n",
    "        plot: Precision-Recall\n",
    "        plot: Precision-Recall threshold; also show the number of engines predicted for maintenace per period (queue).\n",
    "        plot: TPR-FPR threshold\n",
    "        \n",
    "    \"\"\"\n",
    "\n",
    "    \n",
    "    binclass_metrics = {\n",
    "                        'Accuracy' : metrics.accuracy_score(y_test, y_pred),\n",
    "                        'Precision' : metrics.precision_score(y_test, y_pred),\n",
    "                        'Recall' : metrics.recall_score(y_test, y_pred),\n",
    "                        'F1 Score' : metrics.f1_score(y_test, y_pred),\n",
    "                        'ROC AUC' : metrics.roc_auc_score(y_test, y_score)\n",
    "                       }\n",
    "\n",
    "    df_metrics = pd.DataFrame.from_dict(binclass_metrics, orient='index')\n",
    "    df_metrics.columns = [model]  \n",
    "\n",
    "\n",
    "    fpr, tpr, thresh_roc = metrics.roc_curve(y_test, y_score)\n",
    "    \n",
    "    roc_auc = metrics.auc(fpr, tpr)\n",
    "\n",
    "    engines_roc = []  \n",
    "    for thr in thresh_roc:  \n",
    "        engines_roc.append((y_score >= thr).mean())\n",
    "\n",
    "    engines_roc = np.array(engines_roc)\n",
    "\n",
    "    roc_thresh = {\n",
    "                    'Threshold' : thresh_roc,\n",
    "                    'TPR' : tpr,\n",
    "                    'FPR' : fpr,\n",
    "                    'Que' : engines_roc\n",
    "                 }\n",
    "    \n",
    "    df_roc_thresh = pd.DataFrame.from_dict(roc_thresh)\n",
    "    \n",
    "    #calculate other classification metrics: TP, FP, TN, FN, TNR, FNR\n",
    "    #from ground truth file, positive class = 25 => TP + FN = 25\n",
    "    #from ground truth file, negative class = 75 => TN + FP = 75\n",
    "    \n",
    "    df_roc_thresh['TP'] = (25*df_roc_thresh.TPR).astype(int)\n",
    "    df_roc_thresh['FP'] = (25 - (25*df_roc_thresh.TPR)).astype(int)\n",
    "    df_roc_thresh['TN'] = (75*(1 - df_roc_thresh.FPR)).astype(int)\n",
    "    df_roc_thresh['FN'] = (75 - (75*(1 - df_roc_thresh.FPR))).astype(int)\n",
    "    \n",
    "    df_roc_thresh['TNR'] = df_roc_thresh['TN']/(df_roc_thresh['TN'] + df_roc_thresh['FN'])\n",
    "    df_roc_thresh['FNR'] = df_roc_thresh['TN']/(df_roc_thresh['TN'] + df_roc_thresh['FP'])\n",
    "    \n",
    "    df_roc_thresh['Model'] = model\n",
    "\n",
    "    \n",
    "\n",
    "    precision, recall, thresh_prc = metrics.precision_recall_curve(y_test, y_score)\n",
    "\n",
    "    thresh_prc = np.append(thresh_prc,1)\n",
    "\n",
    "    engines_prc = []  \n",
    "    for thr in thresh_prc:  \n",
    "        engines_prc.append((y_score >= thr).mean())\n",
    "\n",
    "    engines_prc = np.array(engines_prc)\n",
    "\n",
    "    prc_thresh = {\n",
    "                    'Threshold' : thresh_prc,\n",
    "                    'Precision' : precision,\n",
    "                    'Recall' : recall,\n",
    "                    'Que' : engines_prc\n",
    "                 }\n",
    "\n",
    "    df_prc_thresh = pd.DataFrame.from_dict(prc_thresh)\n",
    "\n",
    "    if print_out:\n",
    "        print('-----------------------------------------------------------')\n",
    "        print(model, '\\n')\n",
    "        print('Confusion Matrix:')\n",
    "        print(metrics.confusion_matrix(y_test, y_pred))\n",
    "        print('\\nClassification Report:')\n",
    "        print(metrics.classification_report(y_test, y_pred))\n",
    "        print('\\nMetrics:')\n",
    "        print(df_metrics)\n",
    "\n",
    "        print('\\nROC Thresholds:\\n')\n",
    "        print(df_roc_thresh[['Threshold', 'TP', 'FP', 'TN', 'FN', 'TPR', 'FPR', 'TNR','FNR', 'Que']])\n",
    "\n",
    "        print('\\nPrecision-Recall Thresholds:\\n')\n",
    "        print(df_prc_thresh[['Threshold', 'Precision', 'Recall', 'Que']])\n",
    "\n",
    "    if plot_out:\n",
    "        fig, ((ax1, ax2), (ax3, ax4)) = plt.subplots(nrows=2, ncols=2, sharex=False, sharey=False )\n",
    "        fig.set_size_inches(10,10)\n",
    "\n",
    "        ax1.plot(fpr, tpr, color='darkorange', lw=2, label='AUC = %0.2f'% roc_auc)\n",
    "        ax1.plot([0, 1], [0, 1], color='navy', lw=2, linestyle='--')\n",
    "        ax1.set_xlim([-0.05, 1.0])\n",
    "        ax1.set_ylim([0.0, 1.05])\n",
    "        ax1.set_xlabel('False Positive Rate')\n",
    "        ax1.set_ylabel('True Positive Rate')\n",
    "        ax1.legend(loc=\"lower right\", fontsize='small')\n",
    "\n",
    "        ax2.plot(recall, precision, color='blue', lw=2, label='Precision-Recall curve')\n",
    "        ax2.set_xlim([0.0, 1.0])\n",
    "        ax2.set_ylim([0.0, 1.05])\n",
    "        ax2.set_xlabel('Recall')\n",
    "        ax2.set_ylabel('Precision')\n",
    "        ax2.legend(loc=\"lower left\", fontsize='small')\n",
    "\n",
    "        ax3.plot(thresh_roc, fpr, color='red', lw=2, label='FPR')  \n",
    "        ax3.plot(thresh_roc, tpr, color='green',label='TPR') \n",
    "        ax3.plot(thresh_roc, engines_roc, color='blue',label='Engines') \n",
    "        ax3.set_ylim([0.0, 1.05])\n",
    "        ax3.set_xlabel('Threshold')  \n",
    "        ax3.set_ylabel('%')\n",
    "        ax3.legend(loc='upper right', fontsize='small')\n",
    "\n",
    "        ax4.plot(thresh_prc, precision, color='red', lw=2, label='Precision')  \n",
    "        ax4.plot(thresh_prc, recall, color='green',label='Recall') \n",
    "        ax4.plot(thresh_prc, engines_prc, color='blue',label='Engines') \n",
    "        ax4.set_ylim([0.0, 1.05])\n",
    "        ax4.set_xlabel('Threshold')  \n",
    "        ax4.set_ylabel('%')\n",
    "        ax4.legend(loc='lower left', fontsize='small')\n",
    "\n",
    "    return  df_metrics, df_roc_thresh, df_prc_thresh"
   ]
  },
  {
   "cell_type": "code",
   "execution_count": 114,
   "metadata": {
    "ExecuteTime": {
     "end_time": "2021-02-05T23:29:35.635451Z",
     "start_time": "2021-02-05T23:29:35.614571Z"
    }
   },
   "outputs": [
    {
     "data": {
      "text/html": [
       "<div>\n",
       "<style scoped>\n",
       "    .dataframe tbody tr th:only-of-type {\n",
       "        vertical-align: middle;\n",
       "    }\n",
       "\n",
       "    .dataframe tbody tr th {\n",
       "        vertical-align: top;\n",
       "    }\n",
       "\n",
       "    .dataframe thead th {\n",
       "        text-align: right;\n",
       "    }\n",
       "</style>\n",
       "<table border=\"1\" class=\"dataframe\">\n",
       "  <thead>\n",
       "    <tr style=\"text-align: right;\">\n",
       "      <th></th>\n",
       "      <th>Turbine_ID</th>\n",
       "      <th>Component</th>\n",
       "      <th>Timestamp</th>\n",
       "      <th>Remarks</th>\n",
       "    </tr>\n",
       "  </thead>\n",
       "  <tbody>\n",
       "    <tr>\n",
       "      <th>0</th>\n",
       "      <td>T11</td>\n",
       "      <td>GENERATOR</td>\n",
       "      <td>2016-03-03T19:00:00+00:00</td>\n",
       "      <td>Electric circuit error in generator</td>\n",
       "    </tr>\n",
       "    <tr>\n",
       "      <th>1</th>\n",
       "      <td>T06</td>\n",
       "      <td>HYDRAULIC_GROUP</td>\n",
       "      <td>2016-04-04T18:53:00+00:00</td>\n",
       "      <td>Error in pitch regulation</td>\n",
       "    </tr>\n",
       "    <tr>\n",
       "      <th>2</th>\n",
       "      <td>T07</td>\n",
       "      <td>GENERATOR_BEARING</td>\n",
       "      <td>2016-04-30T12:40:00+00:00</td>\n",
       "      <td>High temperature in generator bearing (replace...</td>\n",
       "    </tr>\n",
       "    <tr>\n",
       "      <th>3</th>\n",
       "      <td>T09</td>\n",
       "      <td>GENERATOR_BEARING</td>\n",
       "      <td>2016-06-07T16:59:00+00:00</td>\n",
       "      <td>High tempemperature generator bearing</td>\n",
       "    </tr>\n",
       "    <tr>\n",
       "      <th>4</th>\n",
       "      <td>T07</td>\n",
       "      <td>TRANSFORMER</td>\n",
       "      <td>2016-07-10T03:46:00+00:00</td>\n",
       "      <td>High temperature transformer</td>\n",
       "    </tr>\n",
       "    <tr>\n",
       "      <th>5</th>\n",
       "      <td>T06</td>\n",
       "      <td>GENERATOR</td>\n",
       "      <td>2016-07-11T19:48:00+00:00</td>\n",
       "      <td>Generator replaced</td>\n",
       "    </tr>\n",
       "    <tr>\n",
       "      <th>6</th>\n",
       "      <td>T01</td>\n",
       "      <td>GEARBOX</td>\n",
       "      <td>2016-07-18T02:10:00+00:00</td>\n",
       "      <td>Gearbox pump damaged</td>\n",
       "    </tr>\n",
       "    <tr>\n",
       "      <th>7</th>\n",
       "      <td>T06</td>\n",
       "      <td>GENERATOR</td>\n",
       "      <td>2016-07-24T17:01:00+00:00</td>\n",
       "      <td>Generator temperature sensor failure</td>\n",
       "    </tr>\n",
       "    <tr>\n",
       "      <th>8</th>\n",
       "      <td>T09</td>\n",
       "      <td>GENERATOR_BEARING</td>\n",
       "      <td>2016-08-22T18:25:00+00:00</td>\n",
       "      <td>High temperature generator bearing</td>\n",
       "    </tr>\n",
       "    <tr>\n",
       "      <th>9</th>\n",
       "      <td>T07</td>\n",
       "      <td>TRANSFORMER</td>\n",
       "      <td>2016-08-23T02:21:00+00:00</td>\n",
       "      <td>High temperature transformer. Transformer refr...</td>\n",
       "    </tr>\n",
       "    <tr>\n",
       "      <th>10</th>\n",
       "      <td>T06</td>\n",
       "      <td>GENERATOR</td>\n",
       "      <td>2016-09-04T08:08:00+00:00</td>\n",
       "      <td>High temperature generator error</td>\n",
       "    </tr>\n",
       "    <tr>\n",
       "      <th>11</th>\n",
       "      <td>T06</td>\n",
       "      <td>GENERATOR</td>\n",
       "      <td>2016-10-02T17:08:00+00:00</td>\n",
       "      <td>Refrigeration system and temperature sensors i...</td>\n",
       "    </tr>\n",
       "    <tr>\n",
       "      <th>12</th>\n",
       "      <td>T09</td>\n",
       "      <td>GEARBOX</td>\n",
       "      <td>2016-10-11T08:06:00+00:00</td>\n",
       "      <td>Gearbox repaired</td>\n",
       "    </tr>\n",
       "    <tr>\n",
       "      <th>13</th>\n",
       "      <td>T09</td>\n",
       "      <td>GENERATOR_BEARING</td>\n",
       "      <td>2016-10-17T09:19:00+00:00</td>\n",
       "      <td>Generator bearings replaced</td>\n",
       "    </tr>\n",
       "    <tr>\n",
       "      <th>14</th>\n",
       "      <td>T11</td>\n",
       "      <td>HYDRAULIC_GROUP</td>\n",
       "      <td>2016-10-17T17:44:00+00:00</td>\n",
       "      <td>Hydraulic group error in the brake circuit</td>\n",
       "    </tr>\n",
       "    <tr>\n",
       "      <th>15</th>\n",
       "      <td>T06</td>\n",
       "      <td>GENERATOR</td>\n",
       "      <td>2016-10-27T16:26:00+00:00</td>\n",
       "      <td>Generator replaced</td>\n",
       "    </tr>\n",
       "    <tr>\n",
       "      <th>16</th>\n",
       "      <td>T09</td>\n",
       "      <td>GENERATOR_BEARING</td>\n",
       "      <td>2017-01-25T12:55:00+00:00</td>\n",
       "      <td>Generator bearings replaced</td>\n",
       "    </tr>\n",
       "    <tr>\n",
       "      <th>17</th>\n",
       "      <td>T11</td>\n",
       "      <td>HYDRAULIC_GROUP</td>\n",
       "      <td>2017-04-26T18:06:00+00:00</td>\n",
       "      <td>Hydraulic group error in the brake circuit</td>\n",
       "    </tr>\n",
       "    <tr>\n",
       "      <th>18</th>\n",
       "      <td>T07</td>\n",
       "      <td>HYDRAULIC_GROUP</td>\n",
       "      <td>2017-06-17T11:35:00+00:00</td>\n",
       "      <td>Oil leakage in Hub</td>\n",
       "    </tr>\n",
       "    <tr>\n",
       "      <th>19</th>\n",
       "      <td>T01</td>\n",
       "      <td>TRANSFORMER</td>\n",
       "      <td>2017-08-11T13:14:00+00:00</td>\n",
       "      <td>Transformer fan damaged</td>\n",
       "    </tr>\n",
       "    <tr>\n",
       "      <th>20</th>\n",
       "      <td>T06</td>\n",
       "      <td>HYDRAULIC_GROUP</td>\n",
       "      <td>2017-08-19T09:47:00+00:00</td>\n",
       "      <td>Oil leakage in Hub</td>\n",
       "    </tr>\n",
       "    <tr>\n",
       "      <th>21</th>\n",
       "      <td>T07</td>\n",
       "      <td>GENERATOR_BEARING</td>\n",
       "      <td>2017-08-20T06:08:00+00:00</td>\n",
       "      <td>Generator bearings damaged</td>\n",
       "    </tr>\n",
       "    <tr>\n",
       "      <th>22</th>\n",
       "      <td>T07</td>\n",
       "      <td>GENERATOR</td>\n",
       "      <td>2017-08-21T14:47:00+00:00</td>\n",
       "      <td>Generator damaged</td>\n",
       "    </tr>\n",
       "  </tbody>\n",
       "</table>\n",
       "</div>"
      ],
      "text/plain": [
       "   Turbine_ID          Component                  Timestamp  \\\n",
       "0         T11          GENERATOR  2016-03-03T19:00:00+00:00   \n",
       "1         T06    HYDRAULIC_GROUP  2016-04-04T18:53:00+00:00   \n",
       "2         T07  GENERATOR_BEARING  2016-04-30T12:40:00+00:00   \n",
       "3         T09  GENERATOR_BEARING  2016-06-07T16:59:00+00:00   \n",
       "4         T07        TRANSFORMER  2016-07-10T03:46:00+00:00   \n",
       "5         T06          GENERATOR  2016-07-11T19:48:00+00:00   \n",
       "6         T01            GEARBOX  2016-07-18T02:10:00+00:00   \n",
       "7         T06          GENERATOR  2016-07-24T17:01:00+00:00   \n",
       "8         T09  GENERATOR_BEARING  2016-08-22T18:25:00+00:00   \n",
       "9         T07        TRANSFORMER  2016-08-23T02:21:00+00:00   \n",
       "10        T06          GENERATOR  2016-09-04T08:08:00+00:00   \n",
       "11        T06          GENERATOR  2016-10-02T17:08:00+00:00   \n",
       "12        T09            GEARBOX  2016-10-11T08:06:00+00:00   \n",
       "13        T09  GENERATOR_BEARING  2016-10-17T09:19:00+00:00   \n",
       "14        T11    HYDRAULIC_GROUP  2016-10-17T17:44:00+00:00   \n",
       "15        T06          GENERATOR  2016-10-27T16:26:00+00:00   \n",
       "16        T09  GENERATOR_BEARING  2017-01-25T12:55:00+00:00   \n",
       "17        T11    HYDRAULIC_GROUP  2017-04-26T18:06:00+00:00   \n",
       "18        T07    HYDRAULIC_GROUP  2017-06-17T11:35:00+00:00   \n",
       "19        T01        TRANSFORMER  2017-08-11T13:14:00+00:00   \n",
       "20        T06    HYDRAULIC_GROUP  2017-08-19T09:47:00+00:00   \n",
       "21        T07  GENERATOR_BEARING  2017-08-20T06:08:00+00:00   \n",
       "22        T07          GENERATOR  2017-08-21T14:47:00+00:00   \n",
       "\n",
       "                                              Remarks  \n",
       "0                 Electric circuit error in generator  \n",
       "1                           Error in pitch regulation  \n",
       "2   High temperature in generator bearing (replace...  \n",
       "3               High tempemperature generator bearing  \n",
       "4                        High temperature transformer  \n",
       "5                                  Generator replaced  \n",
       "6                                Gearbox pump damaged  \n",
       "7                Generator temperature sensor failure  \n",
       "8                  High temperature generator bearing  \n",
       "9   High temperature transformer. Transformer refr...  \n",
       "10                   High temperature generator error  \n",
       "11  Refrigeration system and temperature sensors i...  \n",
       "12                                   Gearbox repaired  \n",
       "13                        Generator bearings replaced  \n",
       "14         Hydraulic group error in the brake circuit  \n",
       "15                                 Generator replaced  \n",
       "16                        Generator bearings replaced  \n",
       "17         Hydraulic group error in the brake circuit  \n",
       "18                                 Oil leakage in Hub  \n",
       "19                            Transformer fan damaged  \n",
       "20                                 Oil leakage in Hub  \n",
       "21                         Generator bearings damaged  \n",
       "22                                  Generator damaged  "
      ]
     },
     "execution_count": 114,
     "metadata": {},
     "output_type": "execute_result"
    }
   ],
   "source": [
    "df_failures"
   ]
  },
  {
   "cell_type": "code",
   "execution_count": 111,
   "metadata": {
    "ExecuteTime": {
     "end_time": "2021-02-05T23:28:42.641604Z",
     "start_time": "2021-02-05T23:28:40.509333Z"
    }
   },
   "outputs": [],
   "source": [
    "df_train_gen=pd.read_csv('../rawdata/proc_data/df_train_gen.csv')\n",
    "#df_train_gen.head()\n",
    "\n",
    "df_test_gen=pd.read_csv('../rawdata/proc_data/df_test_gen_t7.csv')\n"
   ]
  },
  {
   "cell_type": "code",
   "execution_count": 119,
   "metadata": {
    "ExecuteTime": {
     "end_time": "2021-02-05T23:31:14.944942Z",
     "start_time": "2021-02-05T23:31:14.933270Z"
    }
   },
   "outputs": [
    {
     "data": {
      "text/plain": [
       "'2017-06-22 02:50:00+00:00'"
      ]
     },
     "execution_count": 119,
     "metadata": {},
     "output_type": "execute_result"
    }
   ],
   "source": [
    "df_test_gen[df_test_gen['60_days']==1].Timestamp.min()"
   ]
  },
  {
   "cell_type": "code",
   "execution_count": 120,
   "metadata": {
    "ExecuteTime": {
     "end_time": "2021-02-05T23:35:51.805386Z",
     "start_time": "2021-02-05T23:35:51.795131Z"
    }
   },
   "outputs": [
    {
     "data": {
      "text/plain": [
       "0    338816\n",
       "1     30015\n",
       "Name: 60_days, dtype: int64"
      ]
     },
     "execution_count": 120,
     "metadata": {},
     "output_type": "execute_result"
    }
   ],
   "source": [
    "df_train_gen['60_days'].value_counts()"
   ]
  },
  {
   "cell_type": "code",
   "execution_count": 113,
   "metadata": {
    "ExecuteTime": {
     "end_time": "2021-02-05T23:28:55.658368Z",
     "start_time": "2021-02-05T23:28:55.648181Z"
    }
   },
   "outputs": [
    {
     "data": {
      "text/plain": [
       "1    8324\n",
       "0    4712\n",
       "Name: 60_days, dtype: int64"
      ]
     },
     "execution_count": 113,
     "metadata": {},
     "output_type": "execute_result"
    }
   ],
   "source": [
    "df_test_gen['60_days'].value_counts()"
   ]
  },
  {
   "cell_type": "code",
   "execution_count": 124,
   "metadata": {
    "ExecuteTime": {
     "end_time": "2021-02-05T23:40:30.414655Z",
     "start_time": "2021-02-05T23:40:30.362820Z"
    }
   },
   "outputs": [
    {
     "data": {
      "text/html": [
       "<div>\n",
       "<style scoped>\n",
       "    .dataframe tbody tr th:only-of-type {\n",
       "        vertical-align: middle;\n",
       "    }\n",
       "\n",
       "    .dataframe tbody tr th {\n",
       "        vertical-align: top;\n",
       "    }\n",
       "\n",
       "    .dataframe thead th {\n",
       "        text-align: right;\n",
       "    }\n",
       "</style>\n",
       "<table border=\"1\" class=\"dataframe\">\n",
       "  <thead>\n",
       "    <tr style=\"text-align: right;\">\n",
       "      <th></th>\n",
       "      <th>Turbine_ID</th>\n",
       "      <th>Timestamp</th>\n",
       "      <th>Gen_RPM_Avg</th>\n",
       "      <th>Gen_RPM_Std</th>\n",
       "      <th>Gen_Bear_Temp_Avg</th>\n",
       "      <th>Gen_Phase2_Temp_Avg</th>\n",
       "      <th>Prod_LatestAvg_ActPwrGen0</th>\n",
       "      <th>Prod_LatestAvg_ActPwrGen1</th>\n",
       "      <th>Prod_LatestAvg_ReactPwrGen0</th>\n",
       "      <th>Gen_SlipRing_Temp_Avg</th>\n",
       "      <th>...</th>\n",
       "      <th>Cont_VCP_WtrTemp_Avg</th>\n",
       "      <th>Nac_Temp_Avg</th>\n",
       "      <th>Nac_Direction_Avg</th>\n",
       "      <th>Grd_Busbar_Temp_Avg</th>\n",
       "      <th>Hyd_Oil_Temp_Avg</th>\n",
       "      <th>Component</th>\n",
       "      <th>TTF</th>\n",
       "      <th>60_days</th>\n",
       "      <th>30_days</th>\n",
       "      <th>10_days</th>\n",
       "    </tr>\n",
       "  </thead>\n",
       "  <tbody>\n",
       "    <tr>\n",
       "      <th>0</th>\n",
       "      <td>T07</td>\n",
       "      <td>2017-06-01 00:00:00+00:00</td>\n",
       "      <td>1572.8</td>\n",
       "      <td>61.6</td>\n",
       "      <td>59.0</td>\n",
       "      <td>86.0</td>\n",
       "      <td>0.0</td>\n",
       "      <td>131880.0</td>\n",
       "      <td>0.0</td>\n",
       "      <td>37.0</td>\n",
       "      <td>...</td>\n",
       "      <td>38.0</td>\n",
       "      <td>34.0</td>\n",
       "      <td>89.0</td>\n",
       "      <td>40.0</td>\n",
       "      <td>45.0</td>\n",
       "      <td>0.0</td>\n",
       "      <td>82.0</td>\n",
       "      <td>0</td>\n",
       "      <td>0</td>\n",
       "      <td>0</td>\n",
       "    </tr>\n",
       "    <tr>\n",
       "      <th>1</th>\n",
       "      <td>T07</td>\n",
       "      <td>2017-06-01 00:10:00+00:00</td>\n",
       "      <td>1471.3</td>\n",
       "      <td>100.5</td>\n",
       "      <td>58.0</td>\n",
       "      <td>84.0</td>\n",
       "      <td>0.0</td>\n",
       "      <td>93277.0</td>\n",
       "      <td>0.0</td>\n",
       "      <td>37.0</td>\n",
       "      <td>...</td>\n",
       "      <td>38.0</td>\n",
       "      <td>34.0</td>\n",
       "      <td>89.0</td>\n",
       "      <td>41.0</td>\n",
       "      <td>45.0</td>\n",
       "      <td>0.0</td>\n",
       "      <td>82.0</td>\n",
       "      <td>0</td>\n",
       "      <td>0</td>\n",
       "      <td>0</td>\n",
       "    </tr>\n",
       "    <tr>\n",
       "      <th>2</th>\n",
       "      <td>T07</td>\n",
       "      <td>2017-06-01 00:20:00+00:00</td>\n",
       "      <td>1473.7</td>\n",
       "      <td>106.9</td>\n",
       "      <td>57.0</td>\n",
       "      <td>82.0</td>\n",
       "      <td>0.0</td>\n",
       "      <td>100670.0</td>\n",
       "      <td>0.0</td>\n",
       "      <td>36.0</td>\n",
       "      <td>...</td>\n",
       "      <td>38.0</td>\n",
       "      <td>34.0</td>\n",
       "      <td>95.3</td>\n",
       "      <td>41.0</td>\n",
       "      <td>44.0</td>\n",
       "      <td>0.0</td>\n",
       "      <td>82.0</td>\n",
       "      <td>0</td>\n",
       "      <td>0</td>\n",
       "      <td>0</td>\n",
       "    </tr>\n",
       "    <tr>\n",
       "      <th>3</th>\n",
       "      <td>T07</td>\n",
       "      <td>2017-06-01 00:30:00+00:00</td>\n",
       "      <td>1657.8</td>\n",
       "      <td>30.6</td>\n",
       "      <td>56.0</td>\n",
       "      <td>85.0</td>\n",
       "      <td>0.0</td>\n",
       "      <td>255192.0</td>\n",
       "      <td>0.0</td>\n",
       "      <td>37.0</td>\n",
       "      <td>...</td>\n",
       "      <td>40.0</td>\n",
       "      <td>34.0</td>\n",
       "      <td>95.3</td>\n",
       "      <td>42.0</td>\n",
       "      <td>43.0</td>\n",
       "      <td>0.0</td>\n",
       "      <td>82.0</td>\n",
       "      <td>0</td>\n",
       "      <td>0</td>\n",
       "      <td>0</td>\n",
       "    </tr>\n",
       "    <tr>\n",
       "      <th>4</th>\n",
       "      <td>T07</td>\n",
       "      <td>2017-06-01 00:40:00+00:00</td>\n",
       "      <td>1655.0</td>\n",
       "      <td>28.6</td>\n",
       "      <td>56.0</td>\n",
       "      <td>90.0</td>\n",
       "      <td>0.0</td>\n",
       "      <td>242673.0</td>\n",
       "      <td>0.0</td>\n",
       "      <td>38.0</td>\n",
       "      <td>...</td>\n",
       "      <td>41.0</td>\n",
       "      <td>35.0</td>\n",
       "      <td>88.3</td>\n",
       "      <td>44.0</td>\n",
       "      <td>43.0</td>\n",
       "      <td>0.0</td>\n",
       "      <td>82.0</td>\n",
       "      <td>0</td>\n",
       "      <td>0</td>\n",
       "      <td>0</td>\n",
       "    </tr>\n",
       "    <tr>\n",
       "      <th>...</th>\n",
       "      <td>...</td>\n",
       "      <td>...</td>\n",
       "      <td>...</td>\n",
       "      <td>...</td>\n",
       "      <td>...</td>\n",
       "      <td>...</td>\n",
       "      <td>...</td>\n",
       "      <td>...</td>\n",
       "      <td>...</td>\n",
       "      <td>...</td>\n",
       "      <td>...</td>\n",
       "      <td>...</td>\n",
       "      <td>...</td>\n",
       "      <td>...</td>\n",
       "      <td>...</td>\n",
       "      <td>...</td>\n",
       "      <td>...</td>\n",
       "      <td>...</td>\n",
       "      <td>...</td>\n",
       "      <td>...</td>\n",
       "      <td>...</td>\n",
       "    </tr>\n",
       "    <tr>\n",
       "      <th>13031</th>\n",
       "      <td>T07</td>\n",
       "      <td>2017-08-31 23:20:00+00:00</td>\n",
       "      <td>1250.0</td>\n",
       "      <td>8.6</td>\n",
       "      <td>48.0</td>\n",
       "      <td>64.0</td>\n",
       "      <td>0.0</td>\n",
       "      <td>33349.0</td>\n",
       "      <td>0.0</td>\n",
       "      <td>35.0</td>\n",
       "      <td>...</td>\n",
       "      <td>39.0</td>\n",
       "      <td>34.0</td>\n",
       "      <td>102.8</td>\n",
       "      <td>39.0</td>\n",
       "      <td>41.0</td>\n",
       "      <td>0.0</td>\n",
       "      <td>0.0</td>\n",
       "      <td>0</td>\n",
       "      <td>0</td>\n",
       "      <td>0</td>\n",
       "    </tr>\n",
       "    <tr>\n",
       "      <th>13032</th>\n",
       "      <td>T07</td>\n",
       "      <td>2017-08-31 23:30:00+00:00</td>\n",
       "      <td>1251.8</td>\n",
       "      <td>8.0</td>\n",
       "      <td>48.0</td>\n",
       "      <td>65.0</td>\n",
       "      <td>0.0</td>\n",
       "      <td>32818.0</td>\n",
       "      <td>0.0</td>\n",
       "      <td>34.0</td>\n",
       "      <td>...</td>\n",
       "      <td>39.0</td>\n",
       "      <td>33.0</td>\n",
       "      <td>95.3</td>\n",
       "      <td>39.0</td>\n",
       "      <td>41.0</td>\n",
       "      <td>0.0</td>\n",
       "      <td>0.0</td>\n",
       "      <td>0</td>\n",
       "      <td>0</td>\n",
       "      <td>0</td>\n",
       "    </tr>\n",
       "    <tr>\n",
       "      <th>13033</th>\n",
       "      <td>T07</td>\n",
       "      <td>2017-08-31 23:40:00+00:00</td>\n",
       "      <td>1250.7</td>\n",
       "      <td>7.9</td>\n",
       "      <td>48.0</td>\n",
       "      <td>65.0</td>\n",
       "      <td>0.0</td>\n",
       "      <td>20452.0</td>\n",
       "      <td>0.0</td>\n",
       "      <td>34.0</td>\n",
       "      <td>...</td>\n",
       "      <td>38.0</td>\n",
       "      <td>33.0</td>\n",
       "      <td>91.9</td>\n",
       "      <td>39.0</td>\n",
       "      <td>41.0</td>\n",
       "      <td>0.0</td>\n",
       "      <td>0.0</td>\n",
       "      <td>0</td>\n",
       "      <td>0</td>\n",
       "      <td>0</td>\n",
       "    </tr>\n",
       "    <tr>\n",
       "      <th>13034</th>\n",
       "      <td>T07</td>\n",
       "      <td>2017-08-31 23:50:00+00:00</td>\n",
       "      <td>1253.0</td>\n",
       "      <td>12.6</td>\n",
       "      <td>48.0</td>\n",
       "      <td>66.0</td>\n",
       "      <td>0.0</td>\n",
       "      <td>34969.0</td>\n",
       "      <td>0.0</td>\n",
       "      <td>34.0</td>\n",
       "      <td>...</td>\n",
       "      <td>38.0</td>\n",
       "      <td>33.0</td>\n",
       "      <td>87.2</td>\n",
       "      <td>39.0</td>\n",
       "      <td>41.0</td>\n",
       "      <td>0.0</td>\n",
       "      <td>0.0</td>\n",
       "      <td>0</td>\n",
       "      <td>0</td>\n",
       "      <td>0</td>\n",
       "    </tr>\n",
       "    <tr>\n",
       "      <th>13035</th>\n",
       "      <td>T07</td>\n",
       "      <td>2017-09-01 00:00:00+00:00</td>\n",
       "      <td>1251.9</td>\n",
       "      <td>9.6</td>\n",
       "      <td>48.0</td>\n",
       "      <td>67.0</td>\n",
       "      <td>0.0</td>\n",
       "      <td>36971.0</td>\n",
       "      <td>0.0</td>\n",
       "      <td>34.0</td>\n",
       "      <td>...</td>\n",
       "      <td>39.0</td>\n",
       "      <td>33.0</td>\n",
       "      <td>90.1</td>\n",
       "      <td>39.0</td>\n",
       "      <td>40.0</td>\n",
       "      <td>0.0</td>\n",
       "      <td>0.0</td>\n",
       "      <td>0</td>\n",
       "      <td>0</td>\n",
       "      <td>0</td>\n",
       "    </tr>\n",
       "  </tbody>\n",
       "</table>\n",
       "<p>13036 rows × 33 columns</p>\n",
       "</div>"
      ],
      "text/plain": [
       "      Turbine_ID                  Timestamp  Gen_RPM_Avg  Gen_RPM_Std  \\\n",
       "0            T07  2017-06-01 00:00:00+00:00       1572.8         61.6   \n",
       "1            T07  2017-06-01 00:10:00+00:00       1471.3        100.5   \n",
       "2            T07  2017-06-01 00:20:00+00:00       1473.7        106.9   \n",
       "3            T07  2017-06-01 00:30:00+00:00       1657.8         30.6   \n",
       "4            T07  2017-06-01 00:40:00+00:00       1655.0         28.6   \n",
       "...          ...                        ...          ...          ...   \n",
       "13031        T07  2017-08-31 23:20:00+00:00       1250.0          8.6   \n",
       "13032        T07  2017-08-31 23:30:00+00:00       1251.8          8.0   \n",
       "13033        T07  2017-08-31 23:40:00+00:00       1250.7          7.9   \n",
       "13034        T07  2017-08-31 23:50:00+00:00       1253.0         12.6   \n",
       "13035        T07  2017-09-01 00:00:00+00:00       1251.9          9.6   \n",
       "\n",
       "       Gen_Bear_Temp_Avg  Gen_Phase2_Temp_Avg  Prod_LatestAvg_ActPwrGen0  \\\n",
       "0                   59.0                 86.0                        0.0   \n",
       "1                   58.0                 84.0                        0.0   \n",
       "2                   57.0                 82.0                        0.0   \n",
       "3                   56.0                 85.0                        0.0   \n",
       "4                   56.0                 90.0                        0.0   \n",
       "...                  ...                  ...                        ...   \n",
       "13031               48.0                 64.0                        0.0   \n",
       "13032               48.0                 65.0                        0.0   \n",
       "13033               48.0                 65.0                        0.0   \n",
       "13034               48.0                 66.0                        0.0   \n",
       "13035               48.0                 67.0                        0.0   \n",
       "\n",
       "       Prod_LatestAvg_ActPwrGen1  Prod_LatestAvg_ReactPwrGen0  \\\n",
       "0                       131880.0                          0.0   \n",
       "1                        93277.0                          0.0   \n",
       "2                       100670.0                          0.0   \n",
       "3                       255192.0                          0.0   \n",
       "4                       242673.0                          0.0   \n",
       "...                          ...                          ...   \n",
       "13031                    33349.0                          0.0   \n",
       "13032                    32818.0                          0.0   \n",
       "13033                    20452.0                          0.0   \n",
       "13034                    34969.0                          0.0   \n",
       "13035                    36971.0                          0.0   \n",
       "\n",
       "       Gen_SlipRing_Temp_Avg  ...  Cont_VCP_WtrTemp_Avg  Nac_Temp_Avg  \\\n",
       "0                       37.0  ...                  38.0          34.0   \n",
       "1                       37.0  ...                  38.0          34.0   \n",
       "2                       36.0  ...                  38.0          34.0   \n",
       "3                       37.0  ...                  40.0          34.0   \n",
       "4                       38.0  ...                  41.0          35.0   \n",
       "...                      ...  ...                   ...           ...   \n",
       "13031                   35.0  ...                  39.0          34.0   \n",
       "13032                   34.0  ...                  39.0          33.0   \n",
       "13033                   34.0  ...                  38.0          33.0   \n",
       "13034                   34.0  ...                  38.0          33.0   \n",
       "13035                   34.0  ...                  39.0          33.0   \n",
       "\n",
       "       Nac_Direction_Avg  Grd_Busbar_Temp_Avg  Hyd_Oil_Temp_Avg  Component  \\\n",
       "0                   89.0                 40.0              45.0        0.0   \n",
       "1                   89.0                 41.0              45.0        0.0   \n",
       "2                   95.3                 41.0              44.0        0.0   \n",
       "3                   95.3                 42.0              43.0        0.0   \n",
       "4                   88.3                 44.0              43.0        0.0   \n",
       "...                  ...                  ...               ...        ...   \n",
       "13031              102.8                 39.0              41.0        0.0   \n",
       "13032               95.3                 39.0              41.0        0.0   \n",
       "13033               91.9                 39.0              41.0        0.0   \n",
       "13034               87.2                 39.0              41.0        0.0   \n",
       "13035               90.1                 39.0              40.0        0.0   \n",
       "\n",
       "        TTF  60_days  30_days  10_days  \n",
       "0      82.0        0        0        0  \n",
       "1      82.0        0        0        0  \n",
       "2      82.0        0        0        0  \n",
       "3      82.0        0        0        0  \n",
       "4      82.0        0        0        0  \n",
       "...     ...      ...      ...      ...  \n",
       "13031   0.0        0        0        0  \n",
       "13032   0.0        0        0        0  \n",
       "13033   0.0        0        0        0  \n",
       "13034   0.0        0        0        0  \n",
       "13035   0.0        0        0        0  \n",
       "\n",
       "[13036 rows x 33 columns]"
      ]
     },
     "execution_count": 124,
     "metadata": {},
     "output_type": "execute_result"
    }
   ],
   "source": [
    "df_test"
   ]
  },
  {
   "cell_type": "code",
   "execution_count": 128,
   "metadata": {
    "ExecuteTime": {
     "end_time": "2021-02-05T23:44:17.985072Z",
     "start_time": "2021-02-05T23:44:17.979270Z"
    }
   },
   "outputs": [],
   "source": [
    "df_train=df_train_gen\n",
    "df_test=df_test_gen\n",
    "features=columns_gen_select\n",
    "target='30_days'\n",
    "y_test=df_test_gen[target]"
   ]
  },
  {
   "cell_type": "code",
   "execution_count": 135,
   "metadata": {
    "ExecuteTime": {
     "end_time": "2021-02-06T14:30:59.950656Z",
     "start_time": "2021-02-06T14:29:57.492505Z"
    }
   },
   "outputs": [
    {
     "name": "stdout",
     "output_type": "stream",
     "text": [
      "\n",
      "Best Parameters:\n",
      " LogisticRegression(C=10, class_weight=None, dual=False, fit_intercept=True,\n",
      "                   intercept_scaling=1, l1_ratio=None, max_iter=100,\n",
      "                   multi_class='auto', n_jobs=None, penalty='l2',\n",
      "                   random_state=42, solver='liblinear', tol=0.0001, verbose=0,\n",
      "                   warm_start=False)\n"
     ]
    }
   ],
   "source": [
    "#def bin_classify(model, clf, features,target, df_train, df_test ,params=None, score=None, ):\n",
    "model = 'Logistic Regression'\n",
    "clf_LogReg = LogisticRegression(random_state=42, class_weight='balanced')\n",
    "gs_params = {'C': [.01, 0.1, 1.0, 10], 'solver': ['liblinear', 'lbfgs']}\n",
    "gs_score = 'roc_auc'\n",
    "\n",
    "clf_LogReg, pred_LogReg = bin_classify(model, clf_logReg, features,target, df_train,df_test, params=gs_params, score=gs_score)\n",
    "print('\\nBest Parameters:\\n',clf_LogReg)\n",
    "\n"
   ]
  },
  {
   "cell_type": "code",
   "execution_count": 137,
   "metadata": {
    "ExecuteTime": {
     "end_time": "2021-02-06T14:31:03.392254Z",
     "start_time": "2021-02-06T14:31:03.369945Z"
    }
   },
   "outputs": [
    {
     "data": {
      "text/html": [
       "<div>\n",
       "<style scoped>\n",
       "    .dataframe tbody tr th:only-of-type {\n",
       "        vertical-align: middle;\n",
       "    }\n",
       "\n",
       "    .dataframe tbody tr th {\n",
       "        vertical-align: top;\n",
       "    }\n",
       "\n",
       "    .dataframe thead th {\n",
       "        text-align: right;\n",
       "    }\n",
       "</style>\n",
       "<table border=\"1\" class=\"dataframe\">\n",
       "  <thead>\n",
       "    <tr style=\"text-align: right;\">\n",
       "      <th></th>\n",
       "      <th>y_pred</th>\n",
       "      <th>y_score</th>\n",
       "    </tr>\n",
       "  </thead>\n",
       "  <tbody>\n",
       "    <tr>\n",
       "      <th>0</th>\n",
       "      <td>0</td>\n",
       "      <td>0.024743</td>\n",
       "    </tr>\n",
       "    <tr>\n",
       "      <th>1</th>\n",
       "      <td>0</td>\n",
       "      <td>0.024558</td>\n",
       "    </tr>\n",
       "    <tr>\n",
       "      <th>2</th>\n",
       "      <td>0</td>\n",
       "      <td>0.022116</td>\n",
       "    </tr>\n",
       "    <tr>\n",
       "      <th>3</th>\n",
       "      <td>0</td>\n",
       "      <td>0.029503</td>\n",
       "    </tr>\n",
       "    <tr>\n",
       "      <th>4</th>\n",
       "      <td>0</td>\n",
       "      <td>0.033929</td>\n",
       "    </tr>\n",
       "    <tr>\n",
       "      <th>...</th>\n",
       "      <td>...</td>\n",
       "      <td>...</td>\n",
       "    </tr>\n",
       "    <tr>\n",
       "      <th>13031</th>\n",
       "      <td>0</td>\n",
       "      <td>0.122444</td>\n",
       "    </tr>\n",
       "    <tr>\n",
       "      <th>13032</th>\n",
       "      <td>0</td>\n",
       "      <td>0.100699</td>\n",
       "    </tr>\n",
       "    <tr>\n",
       "      <th>13033</th>\n",
       "      <td>0</td>\n",
       "      <td>0.111496</td>\n",
       "    </tr>\n",
       "    <tr>\n",
       "      <th>13034</th>\n",
       "      <td>0</td>\n",
       "      <td>0.111925</td>\n",
       "    </tr>\n",
       "    <tr>\n",
       "      <th>13035</th>\n",
       "      <td>0</td>\n",
       "      <td>0.112663</td>\n",
       "    </tr>\n",
       "  </tbody>\n",
       "</table>\n",
       "<p>13036 rows × 2 columns</p>\n",
       "</div>"
      ],
      "text/plain": [
       "       y_pred   y_score\n",
       "0           0  0.024743\n",
       "1           0  0.024558\n",
       "2           0  0.022116\n",
       "3           0  0.029503\n",
       "4           0  0.033929\n",
       "...       ...       ...\n",
       "13031       0  0.122444\n",
       "13032       0  0.100699\n",
       "13033       0  0.111496\n",
       "13034       0  0.111925\n",
       "13035       0  0.112663\n",
       "\n",
       "[13036 rows x 2 columns]"
      ]
     },
     "execution_count": 137,
     "metadata": {},
     "output_type": "execute_result"
    }
   ],
   "source": [
    "pred_LogReg[pred_LogReg['y_pred']==0]\n",
    "\n",
    "pred_LogReg['y_pred']"
   ]
  },
  {
   "cell_type": "code",
   "execution_count": 130,
   "metadata": {
    "ExecuteTime": {
     "end_time": "2021-02-05T23:45:55.728048Z",
     "start_time": "2021-02-05T23:45:40.702177Z"
    }
   },
   "outputs": [
    {
     "name": "stderr",
     "output_type": "stream",
     "text": [
      "/Users/miguelamaro/.pyenv/versions/3.8.5/envs/lewagon/lib/python3.8/site-packages/sklearn/metrics/_classification.py:1268: UndefinedMetricWarning: Precision is ill-defined and being set to 0.0 due to no predicted samples. Use `zero_division` parameter to control this behavior.\n",
      "  _warn_prf(average, modifier, msg_start, len(result))\n"
     ]
    },
    {
     "name": "stdout",
     "output_type": "stream",
     "text": [
      "-----------------------------------------------------------\n",
      "Logistic Regression \n",
      "\n",
      "Confusion Matrix:\n",
      "[[8867    0]\n",
      " [4169    0]]\n",
      "\n",
      "Classification Report:\n",
      "              precision    recall  f1-score   support\n",
      "\n",
      "           0       0.68      1.00      0.81      8867\n",
      "           1       0.00      0.00      0.00      4169\n",
      "\n",
      "    accuracy                           0.68     13036\n",
      "   macro avg       0.34      0.50      0.40     13036\n",
      "weighted avg       0.46      0.68      0.55     13036\n",
      "\n",
      "\n",
      "Metrics:\n",
      "           Logistic Regression\n",
      "Accuracy              0.680193\n",
      "Precision             0.000000\n",
      "Recall                0.000000\n",
      "F1 Score              0.000000\n",
      "ROC AUC               0.526637\n",
      "\n",
      "ROC Thresholds:\n",
      "\n",
      "         Threshold  TP  FP  TN  FN      TPR       FPR  TNR       FNR       Que\n",
      "0     1.486220e+00   0  25  75   0  0.00000  0.000000  1.0  0.750000  0.000000\n",
      "1     4.862200e-01   0  24  75   0  0.00024  0.000000  1.0  0.757576  0.000077\n",
      "2     4.588942e-01   0  24  75   0  0.00072  0.000000  1.0  0.757576  0.000230\n",
      "3     4.302559e-01   0  24  74   0  0.00072  0.000338  1.0  0.755102  0.000460\n",
      "4     4.282661e-01   0  24  74   0  0.00072  0.000677  1.0  0.755102  0.000690\n",
      "...            ...  ..  ..  ..  ..      ...       ...  ...       ...       ...\n",
      "5446  6.768471e-08  25   0   0  74  1.00000  0.998196  0.0       NaN  0.998773\n",
      "5447  3.269651e-10  25   0   0  74  1.00000  0.998534  0.0       NaN  0.999003\n",
      "5448  2.663637e-10  25   0   0  74  1.00000  0.999098  0.0       NaN  0.999386\n",
      "5449  2.661094e-10  25   0   0  74  1.00000  0.999774  0.0       NaN  0.999847\n",
      "5450  2.654425e-10  25   0   0  75  1.00000  1.000000  0.0       NaN  1.000000\n",
      "\n",
      "[5451 rows x 10 columns]\n",
      "\n",
      "Precision-Recall Thresholds:\n",
      "\n",
      "       Threshold  Precision   Recall       Que\n",
      "0       0.008600   0.320372  1.00000  0.998236\n",
      "1       0.008689   0.320320  0.99976  0.998159\n",
      "2       0.008699   0.320344  0.99976  0.998082\n",
      "3       0.008919   0.320369  0.99976  0.998006\n",
      "4       0.009139   0.320394  0.99976  0.997929\n",
      "...          ...        ...      ...       ...\n",
      "12917   0.453977   0.750000  0.00072  0.000307\n",
      "12918   0.458894   1.000000  0.00072  0.000230\n",
      "12919   0.464029   1.000000  0.00048  0.000153\n",
      "12920   0.486220   1.000000  0.00024  0.000077\n",
      "12921   1.000000   1.000000  0.00000  0.000000\n",
      "\n",
      "[12922 rows x 4 columns]\n"
     ]
    },
    {
     "name": "stderr",
     "output_type": "stream",
     "text": [
      "/Users/miguelamaro/.pyenv/versions/3.8.5/envs/lewagon/lib/python3.8/site-packages/sklearn/metrics/_classification.py:1268: UndefinedMetricWarning: Precision and F-score are ill-defined and being set to 0.0 in labels with no predicted samples. Use `zero_division` parameter to control this behavior.\n",
      "  _warn_prf(average, modifier, msg_start, len(result))\n"
     ]
    },
    {
     "data": {
      "image/png": "[encoded data removed]",
      "text/plain": [
       "<Figure size 720x720 with 4 Axes>"
      ]
     },
     "metadata": {
      "needs_background": "light"
     },
     "output_type": "display_data"
    }
   ],
   "source": [
    "metrics_LogReg, roc_LogReg, prc_LogReg = bin_class_metrics(model, y_test, pred_LogReg.y_pred, pred_LogReg.y_score, print_out=True, plot_out=True)"
   ]
  },
  {
   "cell_type": "code",
   "execution_count": null,
   "metadata": {},
   "outputs": [],
   "source": []
  },
  {
   "cell_type": "code",
   "execution_count": null,
   "metadata": {},
   "outputs": [],
   "source": []
  },
  {
   "cell_type": "code",
   "execution_count": null,
   "metadata": {},
   "outputs": [],
   "source": []
  },
  {
   "cell_type": "code",
   "execution_count": null,
   "metadata": {},
   "outputs": [],
   "source": []
  },
  {
   "cell_type": "code",
   "execution_count": null,
   "metadata": {},
   "outputs": [],
   "source": []
  },
  {
   "cell_type": "code",
   "execution_count": null,
   "metadata": {},
   "outputs": [],
   "source": []
  },
  {
   "cell_type": "code",
   "execution_count": 19,
   "metadata": {
    "ExecuteTime": {
     "end_time": "2021-02-05T22:31:45.830555Z",
     "start_time": "2021-02-05T22:31:45.824461Z"
    }
   },
   "outputs": [],
   "source": [
    "len_ = int(0.8*df_signals_target.shape[0])\n",
    "\n",
    "df_train = df_signals_target[:len_]\n",
    "df_test = df_signals_target[len_:]"
   ]
  },
  {
   "cell_type": "code",
   "execution_count": 245,
   "metadata": {
    "ExecuteTime": {
     "end_time": "2021-02-05T13:15:31.148365Z",
     "start_time": "2021-02-05T13:15:31.056735Z"
    }
   },
   "outputs": [],
   "source": [
    "var_list=list(df_train.drop(columns=['Turbine_ID', 'Timestamp',target]).columns)"
   ]
  },
  {
   "cell_type": "code",
   "execution_count": 246,
   "metadata": {
    "ExecuteTime": {
     "end_time": "2021-02-05T13:15:31.531244Z",
     "start_time": "2021-02-05T13:15:31.520361Z"
    }
   },
   "outputs": [
    {
     "data": {
      "text/plain": [
       "['Gen_RPM_Max',\n",
       " 'Gen_RPM_Min',\n",
       " 'Gen_RPM_Avg',\n",
       " 'Gen_RPM_Std',\n",
       " 'Gen_Bear_Temp_Avg',\n",
       " 'Gen_Phase1_Temp_Avg',\n",
       " 'Gen_Phase2_Temp_Avg',\n",
       " 'Gen_Phase3_Temp_Avg',\n",
       " 'Prod_LatestAvg_ActPwrGen0',\n",
       " 'Prod_LatestAvg_ActPwrGen1',\n",
       " 'Prod_LatestAvg_TotActPwr',\n",
       " 'Prod_LatestAvg_ReactPwrGen0',\n",
       " 'Prod_LatestAvg_ReactPwrGen1',\n",
       " 'Prod_LatestAvg_TotReactPwr',\n",
       " 'Gen_SlipRing_Temp_Avg',\n",
       " 'Gen_Bear2_Temp_Avg']"
      ]
     },
     "execution_count": 246,
     "metadata": {},
     "output_type": "execute_result"
    }
   ],
   "source": [
    "var_list"
   ]
  },
  {
   "cell_type": "code",
   "execution_count": 247,
   "metadata": {
    "ExecuteTime": {
     "end_time": "2021-02-05T13:15:32.989433Z",
     "start_time": "2021-02-05T13:15:32.327763Z"
    }
   },
   "outputs": [
    {
     "name": "stderr",
     "output_type": "stream",
     "text": [
      "<ipython-input-247-590c48b68ed8>:4: SettingWithCopyWarning: \n",
      "A value is trying to be set on a copy of a slice from a DataFrame.\n",
      "Try using .loc[row_indexer,col_indexer] = value instead\n",
      "\n",
      "See the caveats in the documentation: https://pandas.pydata.org/pandas-docs/stable/user_guide/indexing.html#returning-a-view-versus-a-copy\n",
      "  df_train[i]=scaler.fit_transform(df_train[[i]])\n",
      "<ipython-input-247-590c48b68ed8>:5: SettingWithCopyWarning: \n",
      "A value is trying to be set on a copy of a slice from a DataFrame.\n",
      "Try using .loc[row_indexer,col_indexer] = value instead\n",
      "\n",
      "See the caveats in the documentation: https://pandas.pydata.org/pandas-docs/stable/user_guide/indexing.html#returning-a-view-versus-a-copy\n",
      "  df_test[i]=scaler.transform(df_test[[i]])\n",
      "<ipython-input-247-590c48b68ed8>:4: SettingWithCopyWarning: \n",
      "A value is trying to be set on a copy of a slice from a DataFrame.\n",
      "Try using .loc[row_indexer,col_indexer] = value instead\n",
      "\n",
      "See the caveats in the documentation: https://pandas.pydata.org/pandas-docs/stable/user_guide/indexing.html#returning-a-view-versus-a-copy\n",
      "  df_train[i]=scaler.fit_transform(df_train[[i]])\n",
      "<ipython-input-247-590c48b68ed8>:5: SettingWithCopyWarning: \n",
      "A value is trying to be set on a copy of a slice from a DataFrame.\n",
      "Try using .loc[row_indexer,col_indexer] = value instead\n",
      "\n",
      "See the caveats in the documentation: https://pandas.pydata.org/pandas-docs/stable/user_guide/indexing.html#returning-a-view-versus-a-copy\n",
      "  df_test[i]=scaler.transform(df_test[[i]])\n",
      "<ipython-input-247-590c48b68ed8>:4: SettingWithCopyWarning: \n",
      "A value is trying to be set on a copy of a slice from a DataFrame.\n",
      "Try using .loc[row_indexer,col_indexer] = value instead\n",
      "\n",
      "See the caveats in the documentation: https://pandas.pydata.org/pandas-docs/stable/user_guide/indexing.html#returning-a-view-versus-a-copy\n",
      "  df_train[i]=scaler.fit_transform(df_train[[i]])\n",
      "<ipython-input-247-590c48b68ed8>:5: SettingWithCopyWarning: \n",
      "A value is trying to be set on a copy of a slice from a DataFrame.\n",
      "Try using .loc[row_indexer,col_indexer] = value instead\n",
      "\n",
      "See the caveats in the documentation: https://pandas.pydata.org/pandas-docs/stable/user_guide/indexing.html#returning-a-view-versus-a-copy\n",
      "  df_test[i]=scaler.transform(df_test[[i]])\n",
      "<ipython-input-247-590c48b68ed8>:4: SettingWithCopyWarning: \n",
      "A value is trying to be set on a copy of a slice from a DataFrame.\n",
      "Try using .loc[row_indexer,col_indexer] = value instead\n",
      "\n",
      "See the caveats in the documentation: https://pandas.pydata.org/pandas-docs/stable/user_guide/indexing.html#returning-a-view-versus-a-copy\n",
      "  df_train[i]=scaler.fit_transform(df_train[[i]])\n",
      "<ipython-input-247-590c48b68ed8>:5: SettingWithCopyWarning: \n",
      "A value is trying to be set on a copy of a slice from a DataFrame.\n",
      "Try using .loc[row_indexer,col_indexer] = value instead\n",
      "\n",
      "See the caveats in the documentation: https://pandas.pydata.org/pandas-docs/stable/user_guide/indexing.html#returning-a-view-versus-a-copy\n",
      "  df_test[i]=scaler.transform(df_test[[i]])\n",
      "<ipython-input-247-590c48b68ed8>:4: SettingWithCopyWarning: \n",
      "A value is trying to be set on a copy of a slice from a DataFrame.\n",
      "Try using .loc[row_indexer,col_indexer] = value instead\n",
      "\n",
      "See the caveats in the documentation: https://pandas.pydata.org/pandas-docs/stable/user_guide/indexing.html#returning-a-view-versus-a-copy\n",
      "  df_train[i]=scaler.fit_transform(df_train[[i]])\n",
      "<ipython-input-247-590c48b68ed8>:5: SettingWithCopyWarning: \n",
      "A value is trying to be set on a copy of a slice from a DataFrame.\n",
      "Try using .loc[row_indexer,col_indexer] = value instead\n",
      "\n",
      "See the caveats in the documentation: https://pandas.pydata.org/pandas-docs/stable/user_guide/indexing.html#returning-a-view-versus-a-copy\n",
      "  df_test[i]=scaler.transform(df_test[[i]])\n",
      "<ipython-input-247-590c48b68ed8>:4: SettingWithCopyWarning: \n",
      "A value is trying to be set on a copy of a slice from a DataFrame.\n",
      "Try using .loc[row_indexer,col_indexer] = value instead\n",
      "\n",
      "See the caveats in the documentation: https://pandas.pydata.org/pandas-docs/stable/user_guide/indexing.html#returning-a-view-versus-a-copy\n",
      "  df_train[i]=scaler.fit_transform(df_train[[i]])\n",
      "<ipython-input-247-590c48b68ed8>:5: SettingWithCopyWarning: \n",
      "A value is trying to be set on a copy of a slice from a DataFrame.\n",
      "Try using .loc[row_indexer,col_indexer] = value instead\n",
      "\n",
      "See the caveats in the documentation: https://pandas.pydata.org/pandas-docs/stable/user_guide/indexing.html#returning-a-view-versus-a-copy\n",
      "  df_test[i]=scaler.transform(df_test[[i]])\n",
      "<ipython-input-247-590c48b68ed8>:4: SettingWithCopyWarning: \n",
      "A value is trying to be set on a copy of a slice from a DataFrame.\n",
      "Try using .loc[row_indexer,col_indexer] = value instead\n",
      "\n",
      "See the caveats in the documentation: https://pandas.pydata.org/pandas-docs/stable/user_guide/indexing.html#returning-a-view-versus-a-copy\n",
      "  df_train[i]=scaler.fit_transform(df_train[[i]])\n",
      "<ipython-input-247-590c48b68ed8>:5: SettingWithCopyWarning: \n",
      "A value is trying to be set on a copy of a slice from a DataFrame.\n",
      "Try using .loc[row_indexer,col_indexer] = value instead\n",
      "\n",
      "See the caveats in the documentation: https://pandas.pydata.org/pandas-docs/stable/user_guide/indexing.html#returning-a-view-versus-a-copy\n",
      "  df_test[i]=scaler.transform(df_test[[i]])\n",
      "<ipython-input-247-590c48b68ed8>:4: SettingWithCopyWarning: \n",
      "A value is trying to be set on a copy of a slice from a DataFrame.\n",
      "Try using .loc[row_indexer,col_indexer] = value instead\n",
      "\n",
      "See the caveats in the documentation: https://pandas.pydata.org/pandas-docs/stable/user_guide/indexing.html#returning-a-view-versus-a-copy\n",
      "  df_train[i]=scaler.fit_transform(df_train[[i]])\n",
      "<ipython-input-247-590c48b68ed8>:5: SettingWithCopyWarning: \n",
      "A value is trying to be set on a copy of a slice from a DataFrame.\n",
      "Try using .loc[row_indexer,col_indexer] = value instead\n",
      "\n",
      "See the caveats in the documentation: https://pandas.pydata.org/pandas-docs/stable/user_guide/indexing.html#returning-a-view-versus-a-copy\n",
      "  df_test[i]=scaler.transform(df_test[[i]])\n",
      "<ipython-input-247-590c48b68ed8>:4: SettingWithCopyWarning: \n",
      "A value is trying to be set on a copy of a slice from a DataFrame.\n",
      "Try using .loc[row_indexer,col_indexer] = value instead\n",
      "\n",
      "See the caveats in the documentation: https://pandas.pydata.org/pandas-docs/stable/user_guide/indexing.html#returning-a-view-versus-a-copy\n",
      "  df_train[i]=scaler.fit_transform(df_train[[i]])\n",
      "<ipython-input-247-590c48b68ed8>:5: SettingWithCopyWarning: \n",
      "A value is trying to be set on a copy of a slice from a DataFrame.\n",
      "Try using .loc[row_indexer,col_indexer] = value instead\n",
      "\n",
      "See the caveats in the documentation: https://pandas.pydata.org/pandas-docs/stable/user_guide/indexing.html#returning-a-view-versus-a-copy\n",
      "  df_test[i]=scaler.transform(df_test[[i]])\n",
      "<ipython-input-247-590c48b68ed8>:4: SettingWithCopyWarning: \n",
      "A value is trying to be set on a copy of a slice from a DataFrame.\n",
      "Try using .loc[row_indexer,col_indexer] = value instead\n",
      "\n",
      "See the caveats in the documentation: https://pandas.pydata.org/pandas-docs/stable/user_guide/indexing.html#returning-a-view-versus-a-copy\n",
      "  df_train[i]=scaler.fit_transform(df_train[[i]])\n",
      "<ipython-input-247-590c48b68ed8>:5: SettingWithCopyWarning: \n",
      "A value is trying to be set on a copy of a slice from a DataFrame.\n",
      "Try using .loc[row_indexer,col_indexer] = value instead\n",
      "\n",
      "See the caveats in the documentation: https://pandas.pydata.org/pandas-docs/stable/user_guide/indexing.html#returning-a-view-versus-a-copy\n",
      "  df_test[i]=scaler.transform(df_test[[i]])\n",
      "<ipython-input-247-590c48b68ed8>:4: SettingWithCopyWarning: \n",
      "A value is trying to be set on a copy of a slice from a DataFrame.\n",
      "Try using .loc[row_indexer,col_indexer] = value instead\n",
      "\n",
      "See the caveats in the documentation: https://pandas.pydata.org/pandas-docs/stable/user_guide/indexing.html#returning-a-view-versus-a-copy\n",
      "  df_train[i]=scaler.fit_transform(df_train[[i]])\n",
      "<ipython-input-247-590c48b68ed8>:5: SettingWithCopyWarning: \n",
      "A value is trying to be set on a copy of a slice from a DataFrame.\n",
      "Try using .loc[row_indexer,col_indexer] = value instead\n",
      "\n",
      "See the caveats in the documentation: https://pandas.pydata.org/pandas-docs/stable/user_guide/indexing.html#returning-a-view-versus-a-copy\n",
      "  df_test[i]=scaler.transform(df_test[[i]])\n",
      "<ipython-input-247-590c48b68ed8>:4: SettingWithCopyWarning: \n",
      "A value is trying to be set on a copy of a slice from a DataFrame.\n",
      "Try using .loc[row_indexer,col_indexer] = value instead\n",
      "\n",
      "See the caveats in the documentation: https://pandas.pydata.org/pandas-docs/stable/user_guide/indexing.html#returning-a-view-versus-a-copy\n",
      "  df_train[i]=scaler.fit_transform(df_train[[i]])\n",
      "<ipython-input-247-590c48b68ed8>:5: SettingWithCopyWarning: \n",
      "A value is trying to be set on a copy of a slice from a DataFrame.\n",
      "Try using .loc[row_indexer,col_indexer] = value instead\n",
      "\n",
      "See the caveats in the documentation: https://pandas.pydata.org/pandas-docs/stable/user_guide/indexing.html#returning-a-view-versus-a-copy\n",
      "  df_test[i]=scaler.transform(df_test[[i]])\n",
      "<ipython-input-247-590c48b68ed8>:4: SettingWithCopyWarning: \n",
      "A value is trying to be set on a copy of a slice from a DataFrame.\n",
      "Try using .loc[row_indexer,col_indexer] = value instead\n",
      "\n",
      "See the caveats in the documentation: https://pandas.pydata.org/pandas-docs/stable/user_guide/indexing.html#returning-a-view-versus-a-copy\n",
      "  df_train[i]=scaler.fit_transform(df_train[[i]])\n",
      "<ipython-input-247-590c48b68ed8>:5: SettingWithCopyWarning: \n",
      "A value is trying to be set on a copy of a slice from a DataFrame.\n",
      "Try using .loc[row_indexer,col_indexer] = value instead\n",
      "\n",
      "See the caveats in the documentation: https://pandas.pydata.org/pandas-docs/stable/user_guide/indexing.html#returning-a-view-versus-a-copy\n",
      "  df_test[i]=scaler.transform(df_test[[i]])\n"
     ]
    },
    {
     "name": "stderr",
     "output_type": "stream",
     "text": [
      "<ipython-input-247-590c48b68ed8>:4: SettingWithCopyWarning: \n",
      "A value is trying to be set on a copy of a slice from a DataFrame.\n",
      "Try using .loc[row_indexer,col_indexer] = value instead\n",
      "\n",
      "See the caveats in the documentation: https://pandas.pydata.org/pandas-docs/stable/user_guide/indexing.html#returning-a-view-versus-a-copy\n",
      "  df_train[i]=scaler.fit_transform(df_train[[i]])\n",
      "<ipython-input-247-590c48b68ed8>:5: SettingWithCopyWarning: \n",
      "A value is trying to be set on a copy of a slice from a DataFrame.\n",
      "Try using .loc[row_indexer,col_indexer] = value instead\n",
      "\n",
      "See the caveats in the documentation: https://pandas.pydata.org/pandas-docs/stable/user_guide/indexing.html#returning-a-view-versus-a-copy\n",
      "  df_test[i]=scaler.transform(df_test[[i]])\n",
      "<ipython-input-247-590c48b68ed8>:4: SettingWithCopyWarning: \n",
      "A value is trying to be set on a copy of a slice from a DataFrame.\n",
      "Try using .loc[row_indexer,col_indexer] = value instead\n",
      "\n",
      "See the caveats in the documentation: https://pandas.pydata.org/pandas-docs/stable/user_guide/indexing.html#returning-a-view-versus-a-copy\n",
      "  df_train[i]=scaler.fit_transform(df_train[[i]])\n",
      "<ipython-input-247-590c48b68ed8>:5: SettingWithCopyWarning: \n",
      "A value is trying to be set on a copy of a slice from a DataFrame.\n",
      "Try using .loc[row_indexer,col_indexer] = value instead\n",
      "\n",
      "See the caveats in the documentation: https://pandas.pydata.org/pandas-docs/stable/user_guide/indexing.html#returning-a-view-versus-a-copy\n",
      "  df_test[i]=scaler.transform(df_test[[i]])\n",
      "<ipython-input-247-590c48b68ed8>:4: SettingWithCopyWarning: \n",
      "A value is trying to be set on a copy of a slice from a DataFrame.\n",
      "Try using .loc[row_indexer,col_indexer] = value instead\n",
      "\n",
      "See the caveats in the documentation: https://pandas.pydata.org/pandas-docs/stable/user_guide/indexing.html#returning-a-view-versus-a-copy\n",
      "  df_train[i]=scaler.fit_transform(df_train[[i]])\n",
      "<ipython-input-247-590c48b68ed8>:5: SettingWithCopyWarning: \n",
      "A value is trying to be set on a copy of a slice from a DataFrame.\n",
      "Try using .loc[row_indexer,col_indexer] = value instead\n",
      "\n",
      "See the caveats in the documentation: https://pandas.pydata.org/pandas-docs/stable/user_guide/indexing.html#returning-a-view-versus-a-copy\n",
      "  df_test[i]=scaler.transform(df_test[[i]])\n"
     ]
    },
    {
     "data": {
      "text/html": [
       "<div>\n",
       "<style scoped>\n",
       "    .dataframe tbody tr th:only-of-type {\n",
       "        vertical-align: middle;\n",
       "    }\n",
       "\n",
       "    .dataframe tbody tr th {\n",
       "        vertical-align: top;\n",
       "    }\n",
       "\n",
       "    .dataframe thead th {\n",
       "        text-align: right;\n",
       "    }\n",
       "</style>\n",
       "<table border=\"1\" class=\"dataframe\">\n",
       "  <thead>\n",
       "    <tr style=\"text-align: right;\">\n",
       "      <th></th>\n",
       "      <th>Turbine_ID</th>\n",
       "      <th>Timestamp</th>\n",
       "      <th>Gen_RPM_Max</th>\n",
       "      <th>Gen_RPM_Min</th>\n",
       "      <th>Gen_RPM_Avg</th>\n",
       "      <th>Gen_RPM_Std</th>\n",
       "      <th>Gen_Bear_Temp_Avg</th>\n",
       "      <th>Gen_Phase1_Temp_Avg</th>\n",
       "      <th>Gen_Phase2_Temp_Avg</th>\n",
       "      <th>Gen_Phase3_Temp_Avg</th>\n",
       "      <th>Prod_LatestAvg_ActPwrGen0</th>\n",
       "      <th>Prod_LatestAvg_ActPwrGen1</th>\n",
       "      <th>Prod_LatestAvg_TotActPwr</th>\n",
       "      <th>Prod_LatestAvg_ReactPwrGen0</th>\n",
       "      <th>Prod_LatestAvg_ReactPwrGen1</th>\n",
       "      <th>Prod_LatestAvg_TotReactPwr</th>\n",
       "      <th>Gen_SlipRing_Temp_Avg</th>\n",
       "      <th>Gen_Bear2_Temp_Avg</th>\n",
       "      <th>Fail_30_GENERATOR</th>\n",
       "    </tr>\n",
       "  </thead>\n",
       "  <tbody>\n",
       "    <tr>\n",
       "      <th>0</th>\n",
       "      <td>T11</td>\n",
       "      <td>2016-01-01</td>\n",
       "      <td>0.258079</td>\n",
       "      <td>0.510634</td>\n",
       "      <td>0.357229</td>\n",
       "      <td>-0.440904</td>\n",
       "      <td>-0.231705</td>\n",
       "      <td>-0.147832</td>\n",
       "      <td>-0.069120</td>\n",
       "      <td>-0.091975</td>\n",
       "      <td>0.599216</td>\n",
       "      <td>-0.432245</td>\n",
       "      <td>-0.427453</td>\n",
       "      <td>0.503068</td>\n",
       "      <td>0.139007</td>\n",
       "      <td>0.169069</td>\n",
       "      <td>-0.198930</td>\n",
       "      <td>-0.302107</td>\n",
       "      <td>0</td>\n",
       "    </tr>\n",
       "    <tr>\n",
       "      <th>1</th>\n",
       "      <td>T06</td>\n",
       "      <td>2016-01-01</td>\n",
       "      <td>0.150275</td>\n",
       "      <td>0.509819</td>\n",
       "      <td>0.321008</td>\n",
       "      <td>-0.549176</td>\n",
       "      <td>-0.231705</td>\n",
       "      <td>-0.431648</td>\n",
       "      <td>-0.399373</td>\n",
       "      <td>-0.353410</td>\n",
       "      <td>0.599216</td>\n",
       "      <td>-0.708180</td>\n",
       "      <td>-0.702608</td>\n",
       "      <td>0.503068</td>\n",
       "      <td>0.205249</td>\n",
       "      <td>0.237161</td>\n",
       "      <td>-0.317190</td>\n",
       "      <td>-0.516810</td>\n",
       "      <td>0</td>\n",
       "    </tr>\n",
       "    <tr>\n",
       "      <th>2</th>\n",
       "      <td>T01</td>\n",
       "      <td>2016-01-01</td>\n",
       "      <td>0.161770</td>\n",
       "      <td>0.498901</td>\n",
       "      <td>0.321816</td>\n",
       "      <td>-0.529326</td>\n",
       "      <td>-0.287618</td>\n",
       "      <td>-0.183309</td>\n",
       "      <td>-0.142509</td>\n",
       "      <td>-0.166671</td>\n",
       "      <td>0.437648</td>\n",
       "      <td>-0.762701</td>\n",
       "      <td>-0.757938</td>\n",
       "      <td>0.359128</td>\n",
       "      <td>0.719361</td>\n",
       "      <td>0.758148</td>\n",
       "      <td>-0.435449</td>\n",
       "      <td>-0.373675</td>\n",
       "      <td>0</td>\n",
       "    </tr>\n",
       "    <tr>\n",
       "      <th>3</th>\n",
       "      <td>T09</td>\n",
       "      <td>2016-01-01</td>\n",
       "      <td>0.316021</td>\n",
       "      <td>0.512264</td>\n",
       "      <td>0.359008</td>\n",
       "      <td>-0.387669</td>\n",
       "      <td>-0.343532</td>\n",
       "      <td>-0.183309</td>\n",
       "      <td>-0.215899</td>\n",
       "      <td>-0.166671</td>\n",
       "      <td>0.599216</td>\n",
       "      <td>-0.503371</td>\n",
       "      <td>-0.498378</td>\n",
       "      <td>0.503068</td>\n",
       "      <td>0.139595</td>\n",
       "      <td>0.169674</td>\n",
       "      <td>-0.317190</td>\n",
       "      <td>-0.659946</td>\n",
       "      <td>0</td>\n",
       "    </tr>\n",
       "    <tr>\n",
       "      <th>4</th>\n",
       "      <td>T07</td>\n",
       "      <td>2016-01-01</td>\n",
       "      <td>0.224060</td>\n",
       "      <td>0.504441</td>\n",
       "      <td>0.331357</td>\n",
       "      <td>-0.486017</td>\n",
       "      <td>-0.287618</td>\n",
       "      <td>-0.041400</td>\n",
       "      <td>-0.032425</td>\n",
       "      <td>-0.054627</td>\n",
       "      <td>0.599216</td>\n",
       "      <td>-0.632725</td>\n",
       "      <td>-0.627367</td>\n",
       "      <td>0.503068</td>\n",
       "      <td>0.251618</td>\n",
       "      <td>0.284827</td>\n",
       "      <td>-0.317190</td>\n",
       "      <td>-0.230539</td>\n",
       "      <td>0</td>\n",
       "    </tr>\n",
       "  </tbody>\n",
       "</table>\n",
       "</div>"
      ],
      "text/plain": [
       "  Turbine_ID  Timestamp  Gen_RPM_Max  Gen_RPM_Min  Gen_RPM_Avg  Gen_RPM_Std  \\\n",
       "0        T11 2016-01-01     0.258079     0.510634     0.357229    -0.440904   \n",
       "1        T06 2016-01-01     0.150275     0.509819     0.321008    -0.549176   \n",
       "2        T01 2016-01-01     0.161770     0.498901     0.321816    -0.529326   \n",
       "3        T09 2016-01-01     0.316021     0.512264     0.359008    -0.387669   \n",
       "4        T07 2016-01-01     0.224060     0.504441     0.331357    -0.486017   \n",
       "\n",
       "   Gen_Bear_Temp_Avg  Gen_Phase1_Temp_Avg  Gen_Phase2_Temp_Avg  \\\n",
       "0          -0.231705            -0.147832            -0.069120   \n",
       "1          -0.231705            -0.431648            -0.399373   \n",
       "2          -0.287618            -0.183309            -0.142509   \n",
       "3          -0.343532            -0.183309            -0.215899   \n",
       "4          -0.287618            -0.041400            -0.032425   \n",
       "\n",
       "   Gen_Phase3_Temp_Avg  Prod_LatestAvg_ActPwrGen0  Prod_LatestAvg_ActPwrGen1  \\\n",
       "0            -0.091975                   0.599216                  -0.432245   \n",
       "1            -0.353410                   0.599216                  -0.708180   \n",
       "2            -0.166671                   0.437648                  -0.762701   \n",
       "3            -0.166671                   0.599216                  -0.503371   \n",
       "4            -0.054627                   0.599216                  -0.632725   \n",
       "\n",
       "   Prod_LatestAvg_TotActPwr  Prod_LatestAvg_ReactPwrGen0  \\\n",
       "0                 -0.427453                     0.503068   \n",
       "1                 -0.702608                     0.503068   \n",
       "2                 -0.757938                     0.359128   \n",
       "3                 -0.498378                     0.503068   \n",
       "4                 -0.627367                     0.503068   \n",
       "\n",
       "   Prod_LatestAvg_ReactPwrGen1  Prod_LatestAvg_TotReactPwr  \\\n",
       "0                     0.139007                    0.169069   \n",
       "1                     0.205249                    0.237161   \n",
       "2                     0.719361                    0.758148   \n",
       "3                     0.139595                    0.169674   \n",
       "4                     0.251618                    0.284827   \n",
       "\n",
       "   Gen_SlipRing_Temp_Avg  Gen_Bear2_Temp_Avg  Fail_30_GENERATOR  \n",
       "0              -0.198930           -0.302107                  0  \n",
       "1              -0.317190           -0.516810                  0  \n",
       "2              -0.435449           -0.373675                  0  \n",
       "3              -0.317190           -0.659946                  0  \n",
       "4              -0.317190           -0.230539                  0  "
      ]
     },
     "execution_count": 247,
     "metadata": {},
     "output_type": "execute_result"
    }
   ],
   "source": [
    "scaler = StandardScaler()\n",
    "\n",
    "for i in var_list:\n",
    "    df_train[i]=scaler.fit_transform(df_train[[i]])\n",
    "    df_test[i]=scaler.transform(df_test[[i]])\n",
    "\n",
    "df_train.head()"
   ]
  },
  {
   "cell_type": "code",
   "execution_count": null,
   "metadata": {},
   "outputs": [],
   "source": []
  },
  {
   "cell_type": "code",
   "execution_count": 249,
   "metadata": {
    "ExecuteTime": {
     "end_time": "2021-02-05T13:45:58.387987Z",
     "start_time": "2021-02-05T13:16:00.092915Z"
    }
   },
   "outputs": [
    {
     "name": "stdout",
     "output_type": "stream",
     "text": [
      "2160\n"
     ]
    }
   ],
   "source": [
    "#Guia para utilização da função final get_X_y:\n",
    "\n",
    "#1º argumento: dataframe\n",
    "#2º argumento: número de sequencias a gerar para cada uma das turbinas\n",
    "#3º argumento: comprimento de cada uma das sequências (nº de timestamps recolhidos para formar uma sequencia)\n",
    "#4º argumento: especificar a variavel target\n",
    "\n",
    "numero_de_dias=15\n",
    "\n",
    "Nvezes_10_minutos=6*24*numero_de_dias\n",
    "\n",
    "import sequences_generator \n",
    "print(Nvezes_10_minutos)\n",
    "\n",
    "\n",
    "X_train,y_train=sequences_generator.get_X_y(df_train,2000,Nvezes_10_minutos,target)\n",
    "\n",
    "X_test,y_test=sequences_generator.get_X_y(df_test,500,Nvezes_10_minutos,target)\n"
   ]
  },
  {
   "cell_type": "code",
   "execution_count": 250,
   "metadata": {
    "ExecuteTime": {
     "end_time": "2021-02-05T13:45:58.433762Z",
     "start_time": "2021-02-05T13:45:58.398582Z"
    }
   },
   "outputs": [],
   "source": [
    "import tensorflow as tf\n",
    "from tensorflow.keras import models\n",
    "from tensorflow.keras import layers\n",
    "\n",
    "def init_model():\n",
    "    \n",
    "    model = models.Sequential()\n",
    "    model.add(layers.LSTM(20, activation='tanh'))\n",
    "    model.add(layers.Dense(5, activation='relu'))\n",
    "    #model.add(layers.Dense(1, activation='sigmoid'))\n",
    "    model.add(layers.Dense(1, activation='sigmoid'))\n",
    "    \n",
    "    model.compile(loss='binary_crossentropy', \n",
    "                  optimizer='rmsprop', \n",
    "                   #metrics=['accuracy'])\n",
    "                  metrics=[tf.keras.metrics.Recall(),tf.keras.metrics.Precision(),tf.keras.metrics.AUC()])\n",
    "    \n",
    "    return model"
   ]
  },
  {
   "cell_type": "code",
   "execution_count": 251,
   "metadata": {
    "ExecuteTime": {
     "end_time": "2021-02-05T13:45:58.480390Z",
     "start_time": "2021-02-05T13:45:58.438163Z"
    }
   },
   "outputs": [],
   "source": [
    "neg=int(pd.DataFrame(y_train).value_counts()[0])\n",
    "pos=int(pd.DataFrame(y_train).value_counts()[1])\n",
    "total=neg+pos"
   ]
  },
  {
   "cell_type": "code",
   "execution_count": 252,
   "metadata": {
    "ExecuteTime": {
     "end_time": "2021-02-05T13:45:58.487522Z",
     "start_time": "2021-02-05T13:45:58.483522Z"
    }
   },
   "outputs": [],
   "source": [
    "weight_for_0 = (1 / neg)*(total)/2.0 \n",
    "weight_for_1 = (1 / pos)*(total)/2.0\n",
    "\n",
    "class_weight = {0: weight_for_0, 1: weight_for_1}"
   ]
  },
  {
   "cell_type": "code",
   "execution_count": 258,
   "metadata": {
    "ExecuteTime": {
     "end_time": "2021-02-05T14:28:27.209058Z",
     "start_time": "2021-02-05T14:28:27.202726Z"
    }
   },
   "outputs": [
    {
     "data": {
      "text/plain": [
       "(10000, 2160, 16)"
      ]
     },
     "execution_count": 258,
     "metadata": {},
     "output_type": "execute_result"
    }
   ],
   "source": [
    "X_train.shape"
   ]
  },
  {
   "cell_type": "code",
   "execution_count": 256,
   "metadata": {
    "ExecuteTime": {
     "end_time": "2021-02-05T14:27:45.004100Z",
     "start_time": "2021-02-05T14:27:44.998912Z"
    }
   },
   "outputs": [],
   "source": [
    "#int(pd.DataFrame(y).value_counts()[1])"
   ]
  },
  {
   "cell_type": "code",
   "execution_count": 259,
   "metadata": {
    "ExecuteTime": {
     "end_time": "2021-02-05T14:28:54.469897Z",
     "start_time": "2021-02-05T14:28:54.457470Z"
    }
   },
   "outputs": [
    {
     "data": {
      "text/plain": [
       "{0: 0.5329354082285227, 1: 8.090614886731393}"
      ]
     },
     "execution_count": 259,
     "metadata": {},
     "output_type": "execute_result"
    }
   ],
   "source": [
    "class_weight"
   ]
  },
  {
   "cell_type": "code",
   "execution_count": 260,
   "metadata": {
    "ExecuteTime": {
     "end_time": "2021-02-05T17:09:22.418205Z",
     "start_time": "2021-02-05T14:28:59.107137Z"
    }
   },
   "outputs": [
    {
     "name": "stdout",
     "output_type": "stream",
     "text": [
      "Epoch 1/100\n",
      "219/219 [==============================] - 132s 601ms/step - loss: 0.6390 - recall_18: 0.9523 - precision_1: 0.1083 - auc_10: 0.8333 - val_loss: 0.8652 - val_recall_18: 0.0783 - val_precision_1: 0.0076 - val_auc_10: 0.3107\n",
      "Epoch 2/100\n",
      "219/219 [==============================] - 125s 569ms/step - loss: 0.5114 - recall_18: 0.8966 - precision_1: 0.2396 - auc_10: 0.9116 - val_loss: 0.8663 - val_recall_18: 0.0087 - val_precision_1: 0.0014 - val_auc_10: 0.3840\n",
      "Epoch 3/100\n",
      "219/219 [==============================] - 124s 568ms/step - loss: 0.3858 - recall_18: 0.9463 - precision_1: 0.4186 - auc_10: 0.9668 - val_loss: 0.8398 - val_recall_18: 0.0000e+00 - val_precision_1: 0.0000e+00 - val_auc_10: 0.3945\n",
      "Epoch 4/100\n",
      "219/219 [==============================] - 122s 556ms/step - loss: 0.3439 - recall_18: 0.9225 - precision_1: 0.5700 - auc_10: 0.9631 - val_loss: 1.1089 - val_recall_18: 0.0000e+00 - val_precision_1: 0.0000e+00 - val_auc_10: 0.3582\n",
      "Epoch 5/100\n",
      "219/219 [==============================] - 130s 594ms/step - loss: 0.3122 - recall_18: 0.9145 - precision_1: 0.6609 - auc_10: 0.9537 - val_loss: 0.6234 - val_recall_18: 0.0000e+00 - val_precision_1: 0.0000e+00 - val_auc_10: 0.4255\n",
      "Epoch 6/100\n",
      "219/219 [==============================] - 1160s 5s/step - loss: 0.2857 - recall_18: 0.9066 - precision_1: 0.7250 - auc_10: 0.9509 - val_loss: 0.8212 - val_recall_18: 0.0000e+00 - val_precision_1: 0.0000e+00 - val_auc_10: 0.4075\n",
      "Epoch 7/100\n",
      "219/219 [==============================] - 118s 540ms/step - loss: 0.2763 - recall_18: 0.9046 - precision_1: 0.7098 - auc_10: 0.9469 - val_loss: 0.6079 - val_recall_18: 0.0000e+00 - val_precision_1: 0.0000e+00 - val_auc_10: 0.4090\n",
      "Epoch 8/100\n",
      "219/219 [==============================] - 122s 556ms/step - loss: 0.2893 - recall_18: 0.8708 - precision_1: 0.7386 - auc_10: 0.9213 - val_loss: 0.8413 - val_recall_18: 0.0000e+00 - val_precision_1: 0.0000e+00 - val_auc_10: 0.3897\n",
      "Epoch 9/100\n",
      "219/219 [==============================] - 121s 551ms/step - loss: 0.1854 - recall_18: 0.9702 - precision_1: 0.8066 - auc_10: 0.9773 - val_loss: 0.5063 - val_recall_18: 0.0000e+00 - val_precision_1: 0.0000e+00 - val_auc_10: 0.4652\n",
      "Epoch 10/100\n",
      "219/219 [==============================] - 119s 545ms/step - loss: 0.1642 - recall_18: 0.9761 - precision_1: 0.7997 - auc_10: 0.9838 - val_loss: 0.9775 - val_recall_18: 0.0000e+00 - val_precision_1: 0.0000e+00 - val_auc_10: 0.3860\n",
      "Epoch 11/100\n",
      "219/219 [==============================] - 2029s 9s/step - loss: 0.1564 - recall_18: 0.9761 - precision_1: 0.7894 - auc_10: 0.9793 - val_loss: 0.3847 - val_recall_18: 0.0000e+00 - val_precision_1: 0.0000e+00 - val_auc_10: 0.4574\n",
      "Epoch 12/100\n",
      "219/219 [==============================] - 702s 3s/step - loss: 0.2630 - recall_18: 0.8628 - precision_1: 0.8251 - auc_10: 0.9270 - val_loss: 0.6405 - val_recall_18: 0.0000e+00 - val_precision_1: 0.0000e+00 - val_auc_10: 0.4249\n",
      "Epoch 13/100\n",
      "219/219 [==============================] - 703s 3s/step - loss: 0.1847 - recall_18: 0.9384 - precision_1: 0.7750 - auc_10: 0.9765 - val_loss: 0.5750 - val_recall_18: 0.0000e+00 - val_precision_1: 0.0000e+00 - val_auc_10: 0.4385\n",
      "Epoch 14/100\n",
      "219/219 [==============================] - ETA: 0s - loss: 0.2134 - recall_18: 0.9105 - precision_1: 0.7558 - auc_10: 0.9589 Restoring model weights from the end of the best epoch.\n",
      "219/219 [==============================] - 3895s 18s/step - loss: 0.2134 - recall_18: 0.9105 - precision_1: 0.7558 - auc_10: 0.9589 - val_loss: 0.3784 - val_recall_18: 0.0000e+00 - val_precision_1: 0.0000e+00 - val_auc_10: 0.3544\n",
      "Epoch 00014: early stopping\n"
     ]
    }
   ],
   "source": [
    "\n",
    "#X_train, y_train = X, y\n",
    "\n",
    "\n",
    "from tensorflow.keras.callbacks import EarlyStopping\n",
    "\n",
    "model = init_model()\n",
    "\n",
    "es = EarlyStopping(monitor='val_auc_10', mode='max', verbose=1, patience=5, restore_best_weights=True)\n",
    "\n",
    "history = model.fit(X_train, y_train,\n",
    "            validation_split=0.3,\n",
    "            epochs=100, \n",
    "            batch_size=32\n",
    "            ,callbacks=[es]\n",
    "            ,class_weight=class_weight\n",
    "                   )"
   ]
  },
  {
   "cell_type": "code",
   "execution_count": 271,
   "metadata": {
    "ExecuteTime": {
     "end_time": "2021-02-05T19:47:53.079220Z",
     "start_time": "2021-02-05T19:47:48.464662Z"
    }
   },
   "outputs": [
    {
     "data": {
      "text/plain": [
       "Text(0.5, 1.0, '30_Generator')"
      ]
     },
     "execution_count": 271,
     "metadata": {},
     "output_type": "execute_result"
    },
    {
     "data": {
      "image/png": "[encoded data removed]",
      "text/plain": [
       "<Figure size 432x288 with 1 Axes>"
      ]
     },
     "metadata": {
      "needs_background": "light"
     },
     "output_type": "display_data"
    }
   ],
   "source": [
    "import matplotlib.pyplot as plt\n",
    "\n",
    "plt.plot(history.history['val_auc_10'])\n",
    "plt.plot(history.history['val_precision_1'])\n",
    "plt.plot(history.history['val_recall_18'])\n",
    "\n",
    "plt.title('30_Generator')"
   ]
  },
  {
   "cell_type": "code",
   "execution_count": 272,
   "metadata": {
    "ExecuteTime": {
     "end_time": "2021-02-05T19:48:39.273186Z",
     "start_time": "2021-02-05T19:48:30.617941Z"
    }
   },
   "outputs": [
    {
     "name": "stdout",
     "output_type": "stream",
     "text": [
      "Metric on the test set : 0.0000\n"
     ]
    }
   ],
   "source": [
    "res = model.evaluate(X_test, y_test, verbose=0)\n",
    "\n",
    "print(f'Metric on the test set : {res[1]:.4f}')"
   ]
  },
  {
   "cell_type": "code",
   "execution_count": 273,
   "metadata": {
    "ExecuteTime": {
     "end_time": "2021-02-05T19:48:39.282333Z",
     "start_time": "2021-02-05T19:48:39.277802Z"
    }
   },
   "outputs": [
    {
     "data": {
      "text/plain": [
       "[0.7387657165527344, 0.0, 0.0, 0.4396958351135254]"
      ]
     },
     "execution_count": 273,
     "metadata": {},
     "output_type": "execute_result"
    }
   ],
   "source": [
    "res"
   ]
  },
  {
   "cell_type": "code",
   "execution_count": null,
   "metadata": {},
   "outputs": [],
   "source": []
  },
  {
   "cell_type": "code",
   "execution_count": 51,
   "metadata": {
    "ExecuteTime": {
     "end_time": "2021-02-03T22:41:27.518899Z",
     "start_time": "2021-02-03T22:41:27.509467Z"
    }
   },
   "outputs": [
    {
     "data": {
      "text/plain": [
       "4000"
      ]
     },
     "execution_count": 51,
     "metadata": {},
     "output_type": "execute_result"
    }
   ],
   "source": [
    "len(y_train)"
   ]
  },
  {
   "cell_type": "code",
   "execution_count": 52,
   "metadata": {
    "ExecuteTime": {
     "end_time": "2021-02-03T22:42:20.157515Z",
     "start_time": "2021-02-03T22:42:20.152632Z"
    }
   },
   "outputs": [
    {
     "data": {
      "text/plain": [
       "4000"
      ]
     },
     "execution_count": 52,
     "metadata": {},
     "output_type": "execute_result"
    }
   ],
   "source": [
    "len(X_train)"
   ]
  },
  {
   "cell_type": "code",
   "execution_count": 57,
   "metadata": {
    "ExecuteTime": {
     "end_time": "2021-02-03T22:43:47.402370Z",
     "start_time": "2021-02-03T22:43:46.420647Z"
    }
   },
   "outputs": [
    {
     "data": {
      "text/plain": [
       "[<matplotlib.lines.Line2D at 0x146086be0>]"
      ]
     },
     "execution_count": 57,
     "metadata": {},
     "output_type": "execute_result"
    },
    {
     "data": {
      "image/png": "[encoded data removed]",
      "text/plain": [
       "<Figure size 432x288 with 1 Axes>"
      ]
     },
     "metadata": {
      "needs_background": "light"
     },
     "output_type": "display_data"
    }
   ],
   "source": [
    "import matplotlib.pyplot as plt\n",
    "%matplotlib inline\n",
    "plt.plot(y_train)"
   ]
  },
  {
   "cell_type": "code",
   "execution_count": null,
   "metadata": {},
   "outputs": [],
   "source": []
  }
 ],
 "metadata": {
  "kernelspec": {
   "display_name": "Python 3",
   "language": "python",
   "name": "python3"
  },
  "language_info": {
   "codemirror_mode": {
    "name": "ipython",
    "version": 3
   },
   "file_extension": ".py",
   "mimetype": "text/x-python",
   "name": "python",
   "nbconvert_exporter": "python",
   "pygments_lexer": "ipython3",
   "version": "3.8.5"
  }
 },
 "nbformat": 4,
 "nbformat_minor": 4
}
