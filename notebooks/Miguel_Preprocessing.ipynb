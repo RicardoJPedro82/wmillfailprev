{
 "cells": [
  {
   "cell_type": "code",
   "execution_count": 1,
   "metadata": {
    "ExecuteTime": {
     "end_time": "2021-02-04T13:30:38.656811Z",
     "start_time": "2021-02-04T13:30:37.571473Z"
    }
   },
   "outputs": [],
   "source": [
    "import pandas as pd\n",
    "import numpy as np"
   ]
  },
  {
   "cell_type": "code",
   "execution_count": 2,
   "metadata": {
    "ExecuteTime": {
     "end_time": "2021-02-04T13:30:59.221940Z",
     "start_time": "2021-02-04T13:30:48.724248Z"
    }
   },
   "outputs": [],
   "source": [
    "import sklearn\n"
   ]
  },
  {
   "cell_type": "code",
   "execution_count": 3,
   "metadata": {
    "ExecuteTime": {
     "end_time": "2021-02-04T13:31:08.767200Z",
     "start_time": "2021-02-04T13:31:08.760523Z"
    }
   },
   "outputs": [],
   "source": [
    "columns_drop_metmast = ['Min_Raindetection', 'Avg_Raindetection', 'Avg_Raindetection', 'Anemometer1_Freq', 'Anemometer1_Offset', 'Anemometer1_CorrGain', 'Anemometer1_CorrOffset', 'Anemometer2_Freq', 'Anemometer2_Offset', 'Anemometer2_CorrGain', 'Anemometer2_CorrOffset', 'DistanceAirPress', 'AirRessureSensorZeroOffset']\n",
    "columns_drop_signals = ['Prod_LatestAvg_ActPwrGen2', 'Prod_LatestAvg_ReactPwrGen2']\n"
   ]
  },
  {
   "cell_type": "code",
   "execution_count": 4,
   "metadata": {
    "ExecuteTime": {
     "end_time": "2021-02-04T13:31:09.367893Z",
     "start_time": "2021-02-04T13:31:09.343324Z"
    }
   },
   "outputs": [],
   "source": [
    "df_failures = pd.read_csv(r'../rawdata/wind-farm-1-failures-training.csv', sep=';')\n"
   ]
  },
  {
   "cell_type": "code",
   "execution_count": 200,
   "metadata": {
    "ExecuteTime": {
     "end_time": "2021-02-05T10:07:36.350489Z",
     "start_time": "2021-02-05T10:07:32.525441Z"
    }
   },
   "outputs": [
    {
     "data": {
      "text/plain": [
       "Index(['Turbine_ID', 'Timestamp', 'Gen_RPM_Max', 'Gen_RPM_Min', 'Gen_RPM_Avg',\n",
       "       'Gen_RPM_Std', 'Gen_Bear_Temp_Avg', 'Gen_Phase1_Temp_Avg',\n",
       "       'Gen_Phase2_Temp_Avg', 'Gen_Phase3_Temp_Avg', 'Hyd_Oil_Temp_Avg',\n",
       "       'Gear_Oil_Temp_Avg', 'Gear_Bear_Temp_Avg', 'Nac_Temp_Avg',\n",
       "       'Rtr_RPM_Max', 'Rtr_RPM_Min', 'Rtr_RPM_Avg', 'Amb_WindSpeed_Max',\n",
       "       'Amb_WindSpeed_Min', 'Amb_WindSpeed_Avg', 'Amb_WindSpeed_Std',\n",
       "       'Amb_WindDir_Relative_Avg', 'Amb_WindDir_Abs_Avg', 'Amb_Temp_Avg',\n",
       "       'Prod_LatestAvg_ActPwrGen0', 'Prod_LatestAvg_ActPwrGen1',\n",
       "       'Prod_LatestAvg_ActPwrGen2', 'Prod_LatestAvg_TotActPwr',\n",
       "       'Prod_LatestAvg_ReactPwrGen0', 'Prod_LatestAvg_ReactPwrGen1',\n",
       "       'Prod_LatestAvg_ReactPwrGen2', 'Prod_LatestAvg_TotReactPwr',\n",
       "       'HVTrafo_Phase1_Temp_Avg', 'HVTrafo_Phase2_Temp_Avg',\n",
       "       'HVTrafo_Phase3_Temp_Avg', 'Grd_InverterPhase1_Temp_Avg',\n",
       "       'Cont_Top_Temp_Avg', 'Cont_Hub_Temp_Avg', 'Cont_VCP_Temp_Avg',\n",
       "       'Gen_SlipRing_Temp_Avg', 'Spin_Temp_Avg', 'Blds_PitchAngle_Min',\n",
       "       'Blds_PitchAngle_Max', 'Blds_PitchAngle_Avg', 'Blds_PitchAngle_Std',\n",
       "       'Cont_VCP_ChokcoilTemp_Avg', 'Grd_RtrInvPhase1_Temp_Avg',\n",
       "       'Grd_RtrInvPhase2_Temp_Avg', 'Grd_RtrInvPhase3_Temp_Avg',\n",
       "       'Cont_VCP_WtrTemp_Avg', 'Grd_Prod_Pwr_Avg', 'Grd_Prod_CosPhi_Avg',\n",
       "       'Grd_Prod_Freq_Avg', 'Grd_Prod_VoltPhse1_Avg', 'Grd_Prod_VoltPhse2_Avg',\n",
       "       'Grd_Prod_VoltPhse3_Avg', 'Grd_Prod_CurPhse1_Avg',\n",
       "       'Grd_Prod_CurPhse2_Avg', 'Grd_Prod_CurPhse3_Avg', 'Grd_Prod_Pwr_Max',\n",
       "       'Grd_Prod_Pwr_Min', 'Grd_Busbar_Temp_Avg', 'Rtr_RPM_Std',\n",
       "       'Amb_WindSpeed_Est_Avg', 'Grd_Prod_Pwr_Std', 'Grd_Prod_ReactPwr_Avg',\n",
       "       'Grd_Prod_ReactPwr_Max', 'Grd_Prod_ReactPwr_Min',\n",
       "       'Grd_Prod_ReactPwr_Std', 'Grd_Prod_PsblePwr_Avg',\n",
       "       'Grd_Prod_PsblePwr_Max', 'Grd_Prod_PsblePwr_Min',\n",
       "       'Grd_Prod_PsblePwr_Std', 'Grd_Prod_PsbleInd_Avg',\n",
       "       'Grd_Prod_PsbleInd_Max', 'Grd_Prod_PsbleInd_Min',\n",
       "       'Grd_Prod_PsbleInd_Std', 'Grd_Prod_PsbleCap_Avg',\n",
       "       'Grd_Prod_PsbleCap_Max', 'Grd_Prod_PsbleCap_Min',\n",
       "       'Grd_Prod_PsbleCap_Std', 'Gen_Bear2_Temp_Avg', 'Nac_Direction_Avg'],\n",
       "      dtype='object')"
      ]
     },
     "execution_count": 200,
     "metadata": {},
     "output_type": "execute_result"
    }
   ],
   "source": [
    "df_signals = pd.read_csv('../rawdata/wind-farm-1-signals-training.csv', sep=';')#, nrows=100000)\n",
    "df_signals.columns"
   ]
  },
  {
   "cell_type": "code",
   "execution_count": 201,
   "metadata": {
    "ExecuteTime": {
     "end_time": "2021-02-05T10:07:37.391702Z",
     "start_time": "2021-02-05T10:07:37.383383Z"
    }
   },
   "outputs": [],
   "source": [
    "columns_gen=['Turbine_ID','Timestamp',\n",
    "             \n",
    "             'Gen_RPM_Max', 'Gen_RPM_Min', 'Gen_RPM_Avg',\n",
    "       'Gen_RPM_Std', 'Gen_Bear_Temp_Avg', 'Gen_Phase1_Temp_Avg',\n",
    "       'Gen_Phase2_Temp_Avg', 'Gen_Phase3_Temp_Avg',\n",
    "            \n",
    "            'Prod_LatestAvg_ActPwrGen0', 'Prod_LatestAvg_ActPwrGen1',\n",
    "      # 'Prod_LatestAvg_ActPwrGen2', \n",
    "             \n",
    "             'Prod_LatestAvg_TotActPwr',\n",
    "       'Prod_LatestAvg_ReactPwrGen0', 'Prod_LatestAvg_ReactPwrGen1',\n",
    "      # 'Prod_LatestAvg_ReactPwrGen2',\n",
    "             \n",
    "             'Prod_LatestAvg_TotReactPwr',\n",
    "             \n",
    "             'Gen_SlipRing_Temp_Avg',\n",
    "             \n",
    "             'Gen_Bear2_Temp_Avg'\n",
    "            ]"
   ]
  },
  {
   "cell_type": "code",
   "execution_count": 202,
   "metadata": {
    "ExecuteTime": {
     "end_time": "2021-02-05T10:07:38.968296Z",
     "start_time": "2021-02-05T10:07:38.033409Z"
    }
   },
   "outputs": [
    {
     "data": {
      "text/html": [
       "<div>\n",
       "<style scoped>\n",
       "    .dataframe tbody tr th:only-of-type {\n",
       "        vertical-align: middle;\n",
       "    }\n",
       "\n",
       "    .dataframe tbody tr th {\n",
       "        vertical-align: top;\n",
       "    }\n",
       "\n",
       "    .dataframe thead th {\n",
       "        text-align: right;\n",
       "    }\n",
       "</style>\n",
       "<table border=\"1\" class=\"dataframe\">\n",
       "  <thead>\n",
       "    <tr style=\"text-align: right;\">\n",
       "      <th></th>\n",
       "      <th>Turbine_ID</th>\n",
       "      <th>Timestamp</th>\n",
       "      <th>Gen_RPM_Max</th>\n",
       "      <th>Gen_RPM_Min</th>\n",
       "      <th>Gen_RPM_Avg</th>\n",
       "      <th>Gen_RPM_Std</th>\n",
       "      <th>Gen_Bear_Temp_Avg</th>\n",
       "      <th>Gen_Phase1_Temp_Avg</th>\n",
       "      <th>Gen_Phase2_Temp_Avg</th>\n",
       "      <th>Gen_Phase3_Temp_Avg</th>\n",
       "      <th>Prod_LatestAvg_ActPwrGen0</th>\n",
       "      <th>Prod_LatestAvg_ActPwrGen1</th>\n",
       "      <th>Prod_LatestAvg_TotActPwr</th>\n",
       "      <th>Prod_LatestAvg_ReactPwrGen0</th>\n",
       "      <th>Prod_LatestAvg_ReactPwrGen1</th>\n",
       "      <th>Prod_LatestAvg_TotReactPwr</th>\n",
       "      <th>Gen_SlipRing_Temp_Avg</th>\n",
       "      <th>Gen_Bear2_Temp_Avg</th>\n",
       "    </tr>\n",
       "  </thead>\n",
       "  <tbody>\n",
       "    <tr>\n",
       "      <th>0</th>\n",
       "      <td>T11</td>\n",
       "      <td>2016-01-01</td>\n",
       "      <td>1339.4</td>\n",
       "      <td>1233.3</td>\n",
       "      <td>1270.9</td>\n",
       "      <td>18.8</td>\n",
       "      <td>42.0</td>\n",
       "      <td>59</td>\n",
       "      <td>61</td>\n",
       "      <td>60</td>\n",
       "      <td>0</td>\n",
       "      <td>41059.0</td>\n",
       "      <td>41059.0</td>\n",
       "      <td>0</td>\n",
       "      <td>-13521</td>\n",
       "      <td>-13521</td>\n",
       "      <td>27</td>\n",
       "      <td>38</td>\n",
       "    </tr>\n",
       "    <tr>\n",
       "      <th>1</th>\n",
       "      <td>T06</td>\n",
       "      <td>2016-01-01</td>\n",
       "      <td>1270.0</td>\n",
       "      <td>1232.8</td>\n",
       "      <td>1248.5</td>\n",
       "      <td>6.8</td>\n",
       "      <td>42.0</td>\n",
       "      <td>51</td>\n",
       "      <td>52</td>\n",
       "      <td>53</td>\n",
       "      <td>0</td>\n",
       "      <td>10465.0</td>\n",
       "      <td>10465.0</td>\n",
       "      <td>0</td>\n",
       "      <td>-12621</td>\n",
       "      <td>-12621</td>\n",
       "      <td>26</td>\n",
       "      <td>35</td>\n",
       "    </tr>\n",
       "    <tr>\n",
       "      <th>2</th>\n",
       "      <td>T01</td>\n",
       "      <td>2016-01-01</td>\n",
       "      <td>1277.4</td>\n",
       "      <td>1226.1</td>\n",
       "      <td>1249.0</td>\n",
       "      <td>9.0</td>\n",
       "      <td>41.0</td>\n",
       "      <td>58</td>\n",
       "      <td>59</td>\n",
       "      <td>58</td>\n",
       "      <td>-107</td>\n",
       "      <td>4420.0</td>\n",
       "      <td>4313.0</td>\n",
       "      <td>-99</td>\n",
       "      <td>-5636</td>\n",
       "      <td>-5735</td>\n",
       "      <td>25</td>\n",
       "      <td>37</td>\n",
       "    </tr>\n",
       "    <tr>\n",
       "      <th>3</th>\n",
       "      <td>T09</td>\n",
       "      <td>2016-01-01</td>\n",
       "      <td>1376.7</td>\n",
       "      <td>1234.3</td>\n",
       "      <td>1272.0</td>\n",
       "      <td>24.7</td>\n",
       "      <td>40.0</td>\n",
       "      <td>58</td>\n",
       "      <td>57</td>\n",
       "      <td>58</td>\n",
       "      <td>0</td>\n",
       "      <td>33173.0</td>\n",
       "      <td>33173.0</td>\n",
       "      <td>0</td>\n",
       "      <td>-13513</td>\n",
       "      <td>-13513</td>\n",
       "      <td>26</td>\n",
       "      <td>33</td>\n",
       "    </tr>\n",
       "    <tr>\n",
       "      <th>4</th>\n",
       "      <td>T07</td>\n",
       "      <td>2016-01-01</td>\n",
       "      <td>1317.5</td>\n",
       "      <td>1229.5</td>\n",
       "      <td>1254.9</td>\n",
       "      <td>13.8</td>\n",
       "      <td>41.0</td>\n",
       "      <td>62</td>\n",
       "      <td>62</td>\n",
       "      <td>61</td>\n",
       "      <td>0</td>\n",
       "      <td>18831.0</td>\n",
       "      <td>18831.0</td>\n",
       "      <td>0</td>\n",
       "      <td>-11991</td>\n",
       "      <td>-11991</td>\n",
       "      <td>26</td>\n",
       "      <td>39</td>\n",
       "    </tr>\n",
       "  </tbody>\n",
       "</table>\n",
       "</div>"
      ],
      "text/plain": [
       "  Turbine_ID  Timestamp  Gen_RPM_Max  Gen_RPM_Min  Gen_RPM_Avg  Gen_RPM_Std  \\\n",
       "0        T11 2016-01-01       1339.4       1233.3       1270.9         18.8   \n",
       "1        T06 2016-01-01       1270.0       1232.8       1248.5          6.8   \n",
       "2        T01 2016-01-01       1277.4       1226.1       1249.0          9.0   \n",
       "3        T09 2016-01-01       1376.7       1234.3       1272.0         24.7   \n",
       "4        T07 2016-01-01       1317.5       1229.5       1254.9         13.8   \n",
       "\n",
       "   Gen_Bear_Temp_Avg  Gen_Phase1_Temp_Avg  Gen_Phase2_Temp_Avg  \\\n",
       "0               42.0                   59                   61   \n",
       "1               42.0                   51                   52   \n",
       "2               41.0                   58                   59   \n",
       "3               40.0                   58                   57   \n",
       "4               41.0                   62                   62   \n",
       "\n",
       "   Gen_Phase3_Temp_Avg  Prod_LatestAvg_ActPwrGen0  Prod_LatestAvg_ActPwrGen1  \\\n",
       "0                   60                          0                    41059.0   \n",
       "1                   53                          0                    10465.0   \n",
       "2                   58                       -107                     4420.0   \n",
       "3                   58                          0                    33173.0   \n",
       "4                   61                          0                    18831.0   \n",
       "\n",
       "   Prod_LatestAvg_TotActPwr  Prod_LatestAvg_ReactPwrGen0  \\\n",
       "0                   41059.0                            0   \n",
       "1                   10465.0                            0   \n",
       "2                    4313.0                          -99   \n",
       "3                   33173.0                            0   \n",
       "4                   18831.0                            0   \n",
       "\n",
       "   Prod_LatestAvg_ReactPwrGen1  Prod_LatestAvg_TotReactPwr  \\\n",
       "0                       -13521                      -13521   \n",
       "1                       -12621                      -12621   \n",
       "2                        -5636                       -5735   \n",
       "3                       -13513                      -13513   \n",
       "4                       -11991                      -11991   \n",
       "\n",
       "   Gen_SlipRing_Temp_Avg  Gen_Bear2_Temp_Avg  \n",
       "0                     27                  38  \n",
       "1                     26                  35  \n",
       "2                     25                  37  \n",
       "3                     26                  33  \n",
       "4                     26                  39  "
      ]
     },
     "execution_count": 202,
     "metadata": {},
     "output_type": "execute_result"
    }
   ],
   "source": [
    "\n",
    "df_signals = df_signals.drop(columns=columns_drop_signals)\n",
    "df_signals = df_signals[columns_gen]\n",
    "df_signals['Timestamp']=pd.to_datetime(df_signals['Timestamp']).dt.tz_convert(None)\n",
    "df_signals.head()"
   ]
  },
  {
   "cell_type": "code",
   "execution_count": 203,
   "metadata": {
    "ExecuteTime": {
     "end_time": "2021-02-05T10:07:59.190538Z",
     "start_time": "2021-02-05T10:07:59.178597Z"
    }
   },
   "outputs": [
    {
     "data": {
      "text/plain": [
       "(434145, 18)"
      ]
     },
     "execution_count": 203,
     "metadata": {},
     "output_type": "execute_result"
    }
   ],
   "source": [
    "df_signals.shape"
   ]
  },
  {
   "cell_type": "markdown",
   "metadata": {},
   "source": [
    "1-dataset tem de estar ordenado primeiro por turbina e depois por timestamp (ascendente)"
   ]
  },
  {
   "cell_type": "code",
   "execution_count": 204,
   "metadata": {
    "ExecuteTime": {
     "end_time": "2021-02-05T10:08:06.123928Z",
     "start_time": "2021-02-05T10:08:06.111538Z"
    }
   },
   "outputs": [],
   "source": [
    "def subsample_sequence(df, length, turbine):\n",
    "        \n",
    "    last_possible = df[df['Turbine_ID']==turbine].shape[0] - length\n",
    "\n",
    "    random_start = np.random.randint(0, last_possible)\n",
    "    df_sample = df[df['Turbine_ID']==turbine][random_start: random_start+length]\n",
    "\n",
    "    return df_sample\n",
    "\n"
   ]
  },
  {
   "cell_type": "code",
   "execution_count": 205,
   "metadata": {
    "ExecuteTime": {
     "end_time": "2021-02-05T10:08:07.163739Z",
     "start_time": "2021-02-05T10:08:07.153787Z"
    }
   },
   "outputs": [],
   "source": [
    "\n",
    "def split_subsample_sequence(df, length, target, turbine):\n",
    "\n",
    "              \n",
    "    df_subsample = subsample_sequence(df, length, turbine)\n",
    "    y_sample = df_subsample.iloc[df_subsample.shape[0]-1][target]\n",
    "    \n",
    "    \n",
    "    X_sample = df_subsample[0:df_subsample.shape[0]].drop(columns=[target,'Turbine_ID','Timestamp'])\n",
    "    X_sample = X_sample.values\n",
    "    \n",
    "    return np.array(X_sample), np.array(y_sample)"
   ]
  },
  {
   "cell_type": "code",
   "execution_count": 206,
   "metadata": {
    "ExecuteTime": {
     "end_time": "2021-02-05T10:08:07.916393Z",
     "start_time": "2021-02-05T10:08:07.905827Z"
    }
   },
   "outputs": [],
   "source": [
    "def get_X_y(df, number_of_sequences, length, target):\n",
    "    X, y = [], []\n",
    "    \n",
    "    for turbine in ['T01','T06', 'T07', 'T09', 'T11']:\n",
    "\n",
    "        for i in range(number_of_sequences):\n",
    "            xi, yi = split_subsample_sequence(df, length, target, turbine)\n",
    "            X.append(xi)\n",
    "            y.append(yi)\n",
    "\n",
    "    X = np.array(X)\n",
    "    y = np.array(y)\n",
    "        \n",
    "    return X, y"
   ]
  },
  {
   "cell_type": "code",
   "execution_count": 207,
   "metadata": {
    "ExecuteTime": {
     "end_time": "2021-02-05T10:08:08.620546Z",
     "start_time": "2021-02-05T10:08:08.611202Z"
    }
   },
   "outputs": [],
   "source": [
    "#1º argumento: dataframe\n",
    "#2º argumento: número de sequencias a gerar para cada uma das turbinas\n",
    "#3º argumento: comprimento de cada uma das sequências (nº de timestamps recolhidos para formar uma sequencia)\n",
    "#4º argumento: especificar a variavel target\n",
    "    \n",
    "#get_X_y(df_signals,3, 4, 'Gen_RPM_Max')"
   ]
  },
  {
   "cell_type": "code",
   "execution_count": 208,
   "metadata": {
    "ExecuteTime": {
     "end_time": "2021-02-05T10:08:10.043720Z",
     "start_time": "2021-02-05T10:08:09.017818Z"
    }
   },
   "outputs": [],
   "source": [
    "X, y = get_X_y(df_signals,3, 4, 'Gen_RPM_Max')"
   ]
  },
  {
   "cell_type": "code",
   "execution_count": 209,
   "metadata": {
    "ExecuteTime": {
     "end_time": "2021-02-05T10:08:13.556192Z",
     "start_time": "2021-02-05T10:08:13.550766Z"
    }
   },
   "outputs": [
    {
     "name": "stdout",
     "output_type": "stream",
     "text": [
      "(15, 4, 15)\n"
     ]
    }
   ],
   "source": [
    "print(np.shape(X))\n"
   ]
  },
  {
   "cell_type": "code",
   "execution_count": 210,
   "metadata": {
    "ExecuteTime": {
     "end_time": "2021-02-05T10:08:14.686264Z",
     "start_time": "2021-02-05T10:08:14.681175Z"
    }
   },
   "outputs": [],
   "source": [
    "import numpy as np"
   ]
  },
  {
   "cell_type": "code",
   "execution_count": 211,
   "metadata": {
    "ExecuteTime": {
     "end_time": "2021-02-05T10:08:15.321209Z",
     "start_time": "2021-02-05T10:08:15.315245Z"
    }
   },
   "outputs": [],
   "source": [
    "from tensorflow.keras.callbacks import EarlyStopping\n"
   ]
  },
  {
   "cell_type": "code",
   "execution_count": 21,
   "metadata": {
    "ExecuteTime": {
     "end_time": "2021-02-03T22:04:51.983598Z",
     "start_time": "2021-02-03T22:04:51.906297Z"
    }
   },
   "outputs": [
    {
     "data": {
      "text/html": [
       "<div>\n",
       "<style scoped>\n",
       "    .dataframe tbody tr th:only-of-type {\n",
       "        vertical-align: middle;\n",
       "    }\n",
       "\n",
       "    .dataframe tbody tr th {\n",
       "        vertical-align: top;\n",
       "    }\n",
       "\n",
       "    .dataframe thead th {\n",
       "        text-align: right;\n",
       "    }\n",
       "</style>\n",
       "<table border=\"1\" class=\"dataframe\">\n",
       "  <thead>\n",
       "    <tr style=\"text-align: right;\">\n",
       "      <th></th>\n",
       "      <th>Turbine_ID</th>\n",
       "      <th>Timestamp</th>\n",
       "      <th>Gen_RPM_Max</th>\n",
       "      <th>Gen_RPM_Min</th>\n",
       "      <th>Gen_RPM_Avg</th>\n",
       "      <th>Gen_RPM_Std</th>\n",
       "      <th>Gen_Bear_Temp_Avg</th>\n",
       "      <th>Gen_Phase1_Temp_Avg</th>\n",
       "    </tr>\n",
       "  </thead>\n",
       "  <tbody>\n",
       "    <tr>\n",
       "      <th>0</th>\n",
       "      <td>T11</td>\n",
       "      <td>2016-01-01 00:00:00+00:00</td>\n",
       "      <td>1339.4</td>\n",
       "      <td>1233.3</td>\n",
       "      <td>1270.9</td>\n",
       "      <td>18.8</td>\n",
       "      <td>42.0</td>\n",
       "      <td>59</td>\n",
       "    </tr>\n",
       "    <tr>\n",
       "      <th>1</th>\n",
       "      <td>T06</td>\n",
       "      <td>2016-01-01 00:00:00+00:00</td>\n",
       "      <td>1270.0</td>\n",
       "      <td>1232.8</td>\n",
       "      <td>1248.5</td>\n",
       "      <td>6.8</td>\n",
       "      <td>42.0</td>\n",
       "      <td>51</td>\n",
       "    </tr>\n",
       "    <tr>\n",
       "      <th>2</th>\n",
       "      <td>T01</td>\n",
       "      <td>2016-01-01 00:00:00+00:00</td>\n",
       "      <td>1277.4</td>\n",
       "      <td>1226.1</td>\n",
       "      <td>1249.0</td>\n",
       "      <td>9.0</td>\n",
       "      <td>41.0</td>\n",
       "      <td>58</td>\n",
       "    </tr>\n",
       "    <tr>\n",
       "      <th>3</th>\n",
       "      <td>T09</td>\n",
       "      <td>2016-01-01 00:00:00+00:00</td>\n",
       "      <td>1376.7</td>\n",
       "      <td>1234.3</td>\n",
       "      <td>1272.0</td>\n",
       "      <td>24.7</td>\n",
       "      <td>40.0</td>\n",
       "      <td>58</td>\n",
       "    </tr>\n",
       "    <tr>\n",
       "      <th>4</th>\n",
       "      <td>T07</td>\n",
       "      <td>2016-01-01 00:00:00+00:00</td>\n",
       "      <td>1317.5</td>\n",
       "      <td>1229.5</td>\n",
       "      <td>1254.9</td>\n",
       "      <td>13.8</td>\n",
       "      <td>41.0</td>\n",
       "      <td>62</td>\n",
       "    </tr>\n",
       "  </tbody>\n",
       "</table>\n",
       "</div>"
      ],
      "text/plain": [
       "  Turbine_ID                 Timestamp  Gen_RPM_Max  Gen_RPM_Min  Gen_RPM_Avg  \\\n",
       "0        T11 2016-01-01 00:00:00+00:00       1339.4       1233.3       1270.9   \n",
       "1        T06 2016-01-01 00:00:00+00:00       1270.0       1232.8       1248.5   \n",
       "2        T01 2016-01-01 00:00:00+00:00       1277.4       1226.1       1249.0   \n",
       "3        T09 2016-01-01 00:00:00+00:00       1376.7       1234.3       1272.0   \n",
       "4        T07 2016-01-01 00:00:00+00:00       1317.5       1229.5       1254.9   \n",
       "\n",
       "   Gen_RPM_Std  Gen_Bear_Temp_Avg  Gen_Phase1_Temp_Avg  \n",
       "0         18.8               42.0                   59  \n",
       "1          6.8               42.0                   51  \n",
       "2          9.0               41.0                   58  \n",
       "3         24.7               40.0                   58  \n",
       "4         13.8               41.0                   62  "
      ]
     },
     "execution_count": 21,
     "metadata": {},
     "output_type": "execute_result"
    }
   ],
   "source": [
    "df_signals.head()"
   ]
  },
  {
   "cell_type": "code",
   "execution_count": 22,
   "metadata": {
    "ExecuteTime": {
     "end_time": "2021-02-03T22:04:59.004481Z",
     "start_time": "2021-02-03T22:04:58.967127Z"
    }
   },
   "outputs": [
    {
     "data": {
      "text/html": [
       "<div>\n",
       "<style scoped>\n",
       "    .dataframe tbody tr th:only-of-type {\n",
       "        vertical-align: middle;\n",
       "    }\n",
       "\n",
       "    .dataframe tbody tr th {\n",
       "        vertical-align: top;\n",
       "    }\n",
       "\n",
       "    .dataframe thead th {\n",
       "        text-align: right;\n",
       "    }\n",
       "</style>\n",
       "<table border=\"1\" class=\"dataframe\">\n",
       "  <thead>\n",
       "    <tr style=\"text-align: right;\">\n",
       "      <th></th>\n",
       "      <th>Timestamp</th>\n",
       "      <th>Turbine_ID</th>\n",
       "      <th>Fail_60_GEARBOX</th>\n",
       "      <th>Fail_60_GENERATOR</th>\n",
       "      <th>Fail_60_GENERATOR_BEARING</th>\n",
       "      <th>Fail_60_TRANSFORMER</th>\n",
       "      <th>Fail_60_HYDRAULIC_GROUP</th>\n",
       "      <th>Fail_50_GEARBOX</th>\n",
       "      <th>Fail_50_GENERATOR</th>\n",
       "      <th>Fail_50_GENERATOR_BEARING</th>\n",
       "      <th>...</th>\n",
       "      <th>Fail_20_GEARBOX</th>\n",
       "      <th>Fail_20_GENERATOR</th>\n",
       "      <th>Fail_20_GENERATOR_BEARING</th>\n",
       "      <th>Fail_20_TRANSFORMER</th>\n",
       "      <th>Fail_20_HYDRAULIC_GROUP</th>\n",
       "      <th>Fail_10_GEARBOX</th>\n",
       "      <th>Fail_10_GENERATOR</th>\n",
       "      <th>Fail_10_GENERATOR_BEARING</th>\n",
       "      <th>Fail_10_TRANSFORMER</th>\n",
       "      <th>Fail_10_HYDRAULIC_GROUP</th>\n",
       "    </tr>\n",
       "  </thead>\n",
       "  <tbody>\n",
       "    <tr>\n",
       "      <th>0</th>\n",
       "      <td>2016-01-01 00:00:00</td>\n",
       "      <td>T01</td>\n",
       "      <td>0</td>\n",
       "      <td>0</td>\n",
       "      <td>0</td>\n",
       "      <td>0</td>\n",
       "      <td>0</td>\n",
       "      <td>0</td>\n",
       "      <td>0</td>\n",
       "      <td>0</td>\n",
       "      <td>...</td>\n",
       "      <td>0</td>\n",
       "      <td>0</td>\n",
       "      <td>0</td>\n",
       "      <td>0</td>\n",
       "      <td>0</td>\n",
       "      <td>0</td>\n",
       "      <td>0</td>\n",
       "      <td>0</td>\n",
       "      <td>0</td>\n",
       "      <td>0</td>\n",
       "    </tr>\n",
       "    <tr>\n",
       "      <th>1</th>\n",
       "      <td>2016-01-01 00:10:00</td>\n",
       "      <td>T01</td>\n",
       "      <td>0</td>\n",
       "      <td>0</td>\n",
       "      <td>0</td>\n",
       "      <td>0</td>\n",
       "      <td>0</td>\n",
       "      <td>0</td>\n",
       "      <td>0</td>\n",
       "      <td>0</td>\n",
       "      <td>...</td>\n",
       "      <td>0</td>\n",
       "      <td>0</td>\n",
       "      <td>0</td>\n",
       "      <td>0</td>\n",
       "      <td>0</td>\n",
       "      <td>0</td>\n",
       "      <td>0</td>\n",
       "      <td>0</td>\n",
       "      <td>0</td>\n",
       "      <td>0</td>\n",
       "    </tr>\n",
       "    <tr>\n",
       "      <th>2</th>\n",
       "      <td>2016-01-01 00:20:00</td>\n",
       "      <td>T01</td>\n",
       "      <td>0</td>\n",
       "      <td>0</td>\n",
       "      <td>0</td>\n",
       "      <td>0</td>\n",
       "      <td>0</td>\n",
       "      <td>0</td>\n",
       "      <td>0</td>\n",
       "      <td>0</td>\n",
       "      <td>...</td>\n",
       "      <td>0</td>\n",
       "      <td>0</td>\n",
       "      <td>0</td>\n",
       "      <td>0</td>\n",
       "      <td>0</td>\n",
       "      <td>0</td>\n",
       "      <td>0</td>\n",
       "      <td>0</td>\n",
       "      <td>0</td>\n",
       "      <td>0</td>\n",
       "    </tr>\n",
       "    <tr>\n",
       "      <th>3</th>\n",
       "      <td>2016-01-01 00:30:00</td>\n",
       "      <td>T01</td>\n",
       "      <td>0</td>\n",
       "      <td>0</td>\n",
       "      <td>0</td>\n",
       "      <td>0</td>\n",
       "      <td>0</td>\n",
       "      <td>0</td>\n",
       "      <td>0</td>\n",
       "      <td>0</td>\n",
       "      <td>...</td>\n",
       "      <td>0</td>\n",
       "      <td>0</td>\n",
       "      <td>0</td>\n",
       "      <td>0</td>\n",
       "      <td>0</td>\n",
       "      <td>0</td>\n",
       "      <td>0</td>\n",
       "      <td>0</td>\n",
       "      <td>0</td>\n",
       "      <td>0</td>\n",
       "    </tr>\n",
       "    <tr>\n",
       "      <th>4</th>\n",
       "      <td>2016-01-01 00:40:00</td>\n",
       "      <td>T01</td>\n",
       "      <td>0</td>\n",
       "      <td>0</td>\n",
       "      <td>0</td>\n",
       "      <td>0</td>\n",
       "      <td>0</td>\n",
       "      <td>0</td>\n",
       "      <td>0</td>\n",
       "      <td>0</td>\n",
       "      <td>...</td>\n",
       "      <td>0</td>\n",
       "      <td>0</td>\n",
       "      <td>0</td>\n",
       "      <td>0</td>\n",
       "      <td>0</td>\n",
       "      <td>0</td>\n",
       "      <td>0</td>\n",
       "      <td>0</td>\n",
       "      <td>0</td>\n",
       "      <td>0</td>\n",
       "    </tr>\n",
       "  </tbody>\n",
       "</table>\n",
       "<p>5 rows × 32 columns</p>\n",
       "</div>"
      ],
      "text/plain": [
       "             Timestamp Turbine_ID  Fail_60_GEARBOX  Fail_60_GENERATOR  \\\n",
       "0  2016-01-01 00:00:00        T01                0                  0   \n",
       "1  2016-01-01 00:10:00        T01                0                  0   \n",
       "2  2016-01-01 00:20:00        T01                0                  0   \n",
       "3  2016-01-01 00:30:00        T01                0                  0   \n",
       "4  2016-01-01 00:40:00        T01                0                  0   \n",
       "\n",
       "   Fail_60_GENERATOR_BEARING  Fail_60_TRANSFORMER  Fail_60_HYDRAULIC_GROUP  \\\n",
       "0                          0                    0                        0   \n",
       "1                          0                    0                        0   \n",
       "2                          0                    0                        0   \n",
       "3                          0                    0                        0   \n",
       "4                          0                    0                        0   \n",
       "\n",
       "   Fail_50_GEARBOX  Fail_50_GENERATOR  Fail_50_GENERATOR_BEARING  ...  \\\n",
       "0                0                  0                          0  ...   \n",
       "1                0                  0                          0  ...   \n",
       "2                0                  0                          0  ...   \n",
       "3                0                  0                          0  ...   \n",
       "4                0                  0                          0  ...   \n",
       "\n",
       "   Fail_20_GEARBOX  Fail_20_GENERATOR  Fail_20_GENERATOR_BEARING  \\\n",
       "0                0                  0                          0   \n",
       "1                0                  0                          0   \n",
       "2                0                  0                          0   \n",
       "3                0                  0                          0   \n",
       "4                0                  0                          0   \n",
       "\n",
       "   Fail_20_TRANSFORMER  Fail_20_HYDRAULIC_GROUP  Fail_10_GEARBOX  \\\n",
       "0                    0                        0                0   \n",
       "1                    0                        0                0   \n",
       "2                    0                        0                0   \n",
       "3                    0                        0                0   \n",
       "4                    0                        0                0   \n",
       "\n",
       "   Fail_10_GENERATOR  Fail_10_GENERATOR_BEARING  Fail_10_TRANSFORMER  \\\n",
       "0                  0                          0                    0   \n",
       "1                  0                          0                    0   \n",
       "2                  0                          0                    0   \n",
       "3                  0                          0                    0   \n",
       "4                  0                          0                    0   \n",
       "\n",
       "   Fail_10_HYDRAULIC_GROUP  \n",
       "0                        0  \n",
       "1                        0  \n",
       "2                        0  \n",
       "3                        0  \n",
       "4                        0  \n",
       "\n",
       "[5 rows x 32 columns]"
      ]
     },
     "execution_count": 22,
     "metadata": {},
     "output_type": "execute_result"
    }
   ],
   "source": [
    "df_target.head()"
   ]
  },
  {
   "cell_type": "code",
   "execution_count": 11,
   "metadata": {
    "ExecuteTime": {
     "end_time": "2021-02-04T13:32:24.443604Z",
     "start_time": "2021-02-04T13:32:21.767489Z"
    }
   },
   "outputs": [
    {
     "data": {
      "text/html": [
       "<div>\n",
       "<style scoped>\n",
       "    .dataframe tbody tr th:only-of-type {\n",
       "        vertical-align: middle;\n",
       "    }\n",
       "\n",
       "    .dataframe tbody tr th {\n",
       "        vertical-align: top;\n",
       "    }\n",
       "\n",
       "    .dataframe thead th {\n",
       "        text-align: right;\n",
       "    }\n",
       "</style>\n",
       "<table border=\"1\" class=\"dataframe\">\n",
       "  <thead>\n",
       "    <tr style=\"text-align: right;\">\n",
       "      <th></th>\n",
       "      <th>Timestamp</th>\n",
       "      <th>Turbine_ID</th>\n",
       "      <th>Fail_60_GEARBOX</th>\n",
       "      <th>Fail_60_GENERATOR</th>\n",
       "      <th>Fail_60_GENERATOR_BEARING</th>\n",
       "      <th>Fail_60_TRANSFORMER</th>\n",
       "      <th>Fail_60_HYDRAULIC_GROUP</th>\n",
       "      <th>Fail_50_GEARBOX</th>\n",
       "      <th>Fail_50_GENERATOR</th>\n",
       "      <th>Fail_50_GENERATOR_BEARING</th>\n",
       "      <th>...</th>\n",
       "      <th>Fail_20_GEARBOX</th>\n",
       "      <th>Fail_20_GENERATOR</th>\n",
       "      <th>Fail_20_GENERATOR_BEARING</th>\n",
       "      <th>Fail_20_TRANSFORMER</th>\n",
       "      <th>Fail_20_HYDRAULIC_GROUP</th>\n",
       "      <th>Fail_10_GEARBOX</th>\n",
       "      <th>Fail_10_GENERATOR</th>\n",
       "      <th>Fail_10_GENERATOR_BEARING</th>\n",
       "      <th>Fail_10_TRANSFORMER</th>\n",
       "      <th>Fail_10_HYDRAULIC_GROUP</th>\n",
       "    </tr>\n",
       "  </thead>\n",
       "  <tbody>\n",
       "    <tr>\n",
       "      <th>0</th>\n",
       "      <td>2016-01-01 00:00:00</td>\n",
       "      <td>T01</td>\n",
       "      <td>0</td>\n",
       "      <td>0</td>\n",
       "      <td>0</td>\n",
       "      <td>0</td>\n",
       "      <td>0</td>\n",
       "      <td>0</td>\n",
       "      <td>0</td>\n",
       "      <td>0</td>\n",
       "      <td>...</td>\n",
       "      <td>0</td>\n",
       "      <td>0</td>\n",
       "      <td>0</td>\n",
       "      <td>0</td>\n",
       "      <td>0</td>\n",
       "      <td>0</td>\n",
       "      <td>0</td>\n",
       "      <td>0</td>\n",
       "      <td>0</td>\n",
       "      <td>0</td>\n",
       "    </tr>\n",
       "    <tr>\n",
       "      <th>1</th>\n",
       "      <td>2016-01-01 00:10:00</td>\n",
       "      <td>T01</td>\n",
       "      <td>0</td>\n",
       "      <td>0</td>\n",
       "      <td>0</td>\n",
       "      <td>0</td>\n",
       "      <td>0</td>\n",
       "      <td>0</td>\n",
       "      <td>0</td>\n",
       "      <td>0</td>\n",
       "      <td>...</td>\n",
       "      <td>0</td>\n",
       "      <td>0</td>\n",
       "      <td>0</td>\n",
       "      <td>0</td>\n",
       "      <td>0</td>\n",
       "      <td>0</td>\n",
       "      <td>0</td>\n",
       "      <td>0</td>\n",
       "      <td>0</td>\n",
       "      <td>0</td>\n",
       "    </tr>\n",
       "    <tr>\n",
       "      <th>2</th>\n",
       "      <td>2016-01-01 00:20:00</td>\n",
       "      <td>T01</td>\n",
       "      <td>0</td>\n",
       "      <td>0</td>\n",
       "      <td>0</td>\n",
       "      <td>0</td>\n",
       "      <td>0</td>\n",
       "      <td>0</td>\n",
       "      <td>0</td>\n",
       "      <td>0</td>\n",
       "      <td>...</td>\n",
       "      <td>0</td>\n",
       "      <td>0</td>\n",
       "      <td>0</td>\n",
       "      <td>0</td>\n",
       "      <td>0</td>\n",
       "      <td>0</td>\n",
       "      <td>0</td>\n",
       "      <td>0</td>\n",
       "      <td>0</td>\n",
       "      <td>0</td>\n",
       "    </tr>\n",
       "    <tr>\n",
       "      <th>3</th>\n",
       "      <td>2016-01-01 00:30:00</td>\n",
       "      <td>T01</td>\n",
       "      <td>0</td>\n",
       "      <td>0</td>\n",
       "      <td>0</td>\n",
       "      <td>0</td>\n",
       "      <td>0</td>\n",
       "      <td>0</td>\n",
       "      <td>0</td>\n",
       "      <td>0</td>\n",
       "      <td>...</td>\n",
       "      <td>0</td>\n",
       "      <td>0</td>\n",
       "      <td>0</td>\n",
       "      <td>0</td>\n",
       "      <td>0</td>\n",
       "      <td>0</td>\n",
       "      <td>0</td>\n",
       "      <td>0</td>\n",
       "      <td>0</td>\n",
       "      <td>0</td>\n",
       "    </tr>\n",
       "    <tr>\n",
       "      <th>4</th>\n",
       "      <td>2016-01-01 00:40:00</td>\n",
       "      <td>T01</td>\n",
       "      <td>0</td>\n",
       "      <td>0</td>\n",
       "      <td>0</td>\n",
       "      <td>0</td>\n",
       "      <td>0</td>\n",
       "      <td>0</td>\n",
       "      <td>0</td>\n",
       "      <td>0</td>\n",
       "      <td>...</td>\n",
       "      <td>0</td>\n",
       "      <td>0</td>\n",
       "      <td>0</td>\n",
       "      <td>0</td>\n",
       "      <td>0</td>\n",
       "      <td>0</td>\n",
       "      <td>0</td>\n",
       "      <td>0</td>\n",
       "      <td>0</td>\n",
       "      <td>0</td>\n",
       "    </tr>\n",
       "  </tbody>\n",
       "</table>\n",
       "<p>5 rows × 32 columns</p>\n",
       "</div>"
      ],
      "text/plain": [
       "            Timestamp Turbine_ID  Fail_60_GEARBOX  Fail_60_GENERATOR  \\\n",
       "0 2016-01-01 00:00:00        T01                0                  0   \n",
       "1 2016-01-01 00:10:00        T01                0                  0   \n",
       "2 2016-01-01 00:20:00        T01                0                  0   \n",
       "3 2016-01-01 00:30:00        T01                0                  0   \n",
       "4 2016-01-01 00:40:00        T01                0                  0   \n",
       "\n",
       "   Fail_60_GENERATOR_BEARING  Fail_60_TRANSFORMER  Fail_60_HYDRAULIC_GROUP  \\\n",
       "0                          0                    0                        0   \n",
       "1                          0                    0                        0   \n",
       "2                          0                    0                        0   \n",
       "3                          0                    0                        0   \n",
       "4                          0                    0                        0   \n",
       "\n",
       "   Fail_50_GEARBOX  Fail_50_GENERATOR  Fail_50_GENERATOR_BEARING  ...  \\\n",
       "0                0                  0                          0  ...   \n",
       "1                0                  0                          0  ...   \n",
       "2                0                  0                          0  ...   \n",
       "3                0                  0                          0  ...   \n",
       "4                0                  0                          0  ...   \n",
       "\n",
       "   Fail_20_GEARBOX  Fail_20_GENERATOR  Fail_20_GENERATOR_BEARING  \\\n",
       "0                0                  0                          0   \n",
       "1                0                  0                          0   \n",
       "2                0                  0                          0   \n",
       "3                0                  0                          0   \n",
       "4                0                  0                          0   \n",
       "\n",
       "   Fail_20_TRANSFORMER  Fail_20_HYDRAULIC_GROUP  Fail_10_GEARBOX  \\\n",
       "0                    0                        0                0   \n",
       "1                    0                        0                0   \n",
       "2                    0                        0                0   \n",
       "3                    0                        0                0   \n",
       "4                    0                        0                0   \n",
       "\n",
       "   Fail_10_GENERATOR  Fail_10_GENERATOR_BEARING  Fail_10_TRANSFORMER  \\\n",
       "0                  0                          0                    0   \n",
       "1                  0                          0                    0   \n",
       "2                  0                          0                    0   \n",
       "3                  0                          0                    0   \n",
       "4                  0                          0                    0   \n",
       "\n",
       "   Fail_10_HYDRAULIC_GROUP  \n",
       "0                        0  \n",
       "1                        0  \n",
       "2                        0  \n",
       "3                        0  \n",
       "4                        0  \n",
       "\n",
       "[5 rows x 32 columns]"
      ]
     },
     "execution_count": 11,
     "metadata": {},
     "output_type": "execute_result"
    }
   ],
   "source": [
    "df_target=pd.read_csv('df_target_v2_60_50_40_50_30_20_10.csv', index_col=[0])\n",
    "df_target['Timestamp']=pd.to_datetime(df_target['Timestamp'])\n",
    "df_target.head()"
   ]
  },
  {
   "cell_type": "code",
   "execution_count": 274,
   "metadata": {
    "ExecuteTime": {
     "end_time": "2021-02-06T00:55:18.571591Z",
     "start_time": "2021-02-06T00:55:17.503191Z"
    }
   },
   "outputs": [],
   "source": [
    "target='Fail_10_GENERATOR'\n",
    "df_signals_target=pd.merge(df_signals, df_target[['Timestamp','Turbine_ID',target]], how='left', on=['Turbine_ID','Timestamp'])"
   ]
  },
  {
   "cell_type": "code",
   "execution_count": 275,
   "metadata": {
    "ExecuteTime": {
     "end_time": "2021-02-06T00:55:19.178878Z",
     "start_time": "2021-02-06T00:55:19.165158Z"
    }
   },
   "outputs": [],
   "source": [
    "df_signals_target.Gen_Bear_Temp_Avg.fillna(0,inplace=True)"
   ]
  },
  {
   "cell_type": "code",
   "execution_count": 276,
   "metadata": {
    "ExecuteTime": {
     "end_time": "2021-02-06T00:55:19.534499Z",
     "start_time": "2021-02-06T00:55:19.521636Z"
    }
   },
   "outputs": [
    {
     "data": {
      "text/plain": [
       "500.0"
      ]
     },
     "execution_count": 276,
     "metadata": {},
     "output_type": "execute_result"
    }
   ],
   "source": [
    "2500*0.2"
   ]
  },
  {
   "cell_type": "code",
   "execution_count": 277,
   "metadata": {
    "ExecuteTime": {
     "end_time": "2021-02-06T00:55:19.790367Z",
     "start_time": "2021-02-06T00:55:19.772289Z"
    }
   },
   "outputs": [],
   "source": [
    "from sklearn.preprocessing import MinMaxScaler,StandardScaler"
   ]
  },
  {
   "cell_type": "code",
   "execution_count": 278,
   "metadata": {
    "ExecuteTime": {
     "end_time": "2021-02-06T00:55:20.131799Z",
     "start_time": "2021-02-06T00:55:20.088034Z"
    }
   },
   "outputs": [],
   "source": [
    "len_ = int(0.8*df_signals_target.shape[0])\n",
    "\n",
    "df_train = df_signals_target[:len_]\n",
    "df_test = df_signals_target[len_:]"
   ]
  },
  {
   "cell_type": "code",
   "execution_count": 279,
   "metadata": {
    "ExecuteTime": {
     "end_time": "2021-02-06T00:55:20.412264Z",
     "start_time": "2021-02-06T00:55:20.298887Z"
    }
   },
   "outputs": [],
   "source": [
    "var_list=list(df_train.drop(columns=['Turbine_ID', 'Timestamp',target]).columns)"
   ]
  },
  {
   "cell_type": "code",
   "execution_count": 280,
   "metadata": {
    "ExecuteTime": {
     "end_time": "2021-02-06T00:55:20.676587Z",
     "start_time": "2021-02-06T00:55:20.655073Z"
    }
   },
   "outputs": [
    {
     "data": {
      "text/plain": [
       "['Gen_RPM_Max',\n",
       " 'Gen_RPM_Min',\n",
       " 'Gen_RPM_Avg',\n",
       " 'Gen_RPM_Std',\n",
       " 'Gen_Bear_Temp_Avg',\n",
       " 'Gen_Phase1_Temp_Avg',\n",
       " 'Gen_Phase2_Temp_Avg',\n",
       " 'Gen_Phase3_Temp_Avg',\n",
       " 'Prod_LatestAvg_ActPwrGen0',\n",
       " 'Prod_LatestAvg_ActPwrGen1',\n",
       " 'Prod_LatestAvg_TotActPwr',\n",
       " 'Prod_LatestAvg_ReactPwrGen0',\n",
       " 'Prod_LatestAvg_ReactPwrGen1',\n",
       " 'Prod_LatestAvg_TotReactPwr',\n",
       " 'Gen_SlipRing_Temp_Avg',\n",
       " 'Gen_Bear2_Temp_Avg']"
      ]
     },
     "execution_count": 280,
     "metadata": {},
     "output_type": "execute_result"
    }
   ],
   "source": [
    "var_list"
   ]
  },
  {
   "cell_type": "code",
   "execution_count": 281,
   "metadata": {
    "ExecuteTime": {
     "end_time": "2021-02-06T00:55:21.766597Z",
     "start_time": "2021-02-06T00:55:21.009824Z"
    }
   },
   "outputs": [
    {
     "name": "stderr",
     "output_type": "stream",
     "text": [
      "<ipython-input-281-590c48b68ed8>:4: SettingWithCopyWarning: \n",
      "A value is trying to be set on a copy of a slice from a DataFrame.\n",
      "Try using .loc[row_indexer,col_indexer] = value instead\n",
      "\n",
      "See the caveats in the documentation: https://pandas.pydata.org/pandas-docs/stable/user_guide/indexing.html#returning-a-view-versus-a-copy\n",
      "  df_train[i]=scaler.fit_transform(df_train[[i]])\n",
      "<ipython-input-281-590c48b68ed8>:5: SettingWithCopyWarning: \n",
      "A value is trying to be set on a copy of a slice from a DataFrame.\n",
      "Try using .loc[row_indexer,col_indexer] = value instead\n",
      "\n",
      "See the caveats in the documentation: https://pandas.pydata.org/pandas-docs/stable/user_guide/indexing.html#returning-a-view-versus-a-copy\n",
      "  df_test[i]=scaler.transform(df_test[[i]])\n",
      "<ipython-input-281-590c48b68ed8>:4: SettingWithCopyWarning: \n",
      "A value is trying to be set on a copy of a slice from a DataFrame.\n",
      "Try using .loc[row_indexer,col_indexer] = value instead\n",
      "\n",
      "See the caveats in the documentation: https://pandas.pydata.org/pandas-docs/stable/user_guide/indexing.html#returning-a-view-versus-a-copy\n",
      "  df_train[i]=scaler.fit_transform(df_train[[i]])\n",
      "<ipython-input-281-590c48b68ed8>:5: SettingWithCopyWarning: \n",
      "A value is trying to be set on a copy of a slice from a DataFrame.\n",
      "Try using .loc[row_indexer,col_indexer] = value instead\n",
      "\n",
      "See the caveats in the documentation: https://pandas.pydata.org/pandas-docs/stable/user_guide/indexing.html#returning-a-view-versus-a-copy\n",
      "  df_test[i]=scaler.transform(df_test[[i]])\n",
      "<ipython-input-281-590c48b68ed8>:4: SettingWithCopyWarning: \n",
      "A value is trying to be set on a copy of a slice from a DataFrame.\n",
      "Try using .loc[row_indexer,col_indexer] = value instead\n",
      "\n",
      "See the caveats in the documentation: https://pandas.pydata.org/pandas-docs/stable/user_guide/indexing.html#returning-a-view-versus-a-copy\n",
      "  df_train[i]=scaler.fit_transform(df_train[[i]])\n",
      "<ipython-input-281-590c48b68ed8>:5: SettingWithCopyWarning: \n",
      "A value is trying to be set on a copy of a slice from a DataFrame.\n",
      "Try using .loc[row_indexer,col_indexer] = value instead\n",
      "\n",
      "See the caveats in the documentation: https://pandas.pydata.org/pandas-docs/stable/user_guide/indexing.html#returning-a-view-versus-a-copy\n",
      "  df_test[i]=scaler.transform(df_test[[i]])\n",
      "<ipython-input-281-590c48b68ed8>:4: SettingWithCopyWarning: \n",
      "A value is trying to be set on a copy of a slice from a DataFrame.\n",
      "Try using .loc[row_indexer,col_indexer] = value instead\n",
      "\n",
      "See the caveats in the documentation: https://pandas.pydata.org/pandas-docs/stable/user_guide/indexing.html#returning-a-view-versus-a-copy\n",
      "  df_train[i]=scaler.fit_transform(df_train[[i]])\n",
      "<ipython-input-281-590c48b68ed8>:5: SettingWithCopyWarning: \n",
      "A value is trying to be set on a copy of a slice from a DataFrame.\n",
      "Try using .loc[row_indexer,col_indexer] = value instead\n",
      "\n",
      "See the caveats in the documentation: https://pandas.pydata.org/pandas-docs/stable/user_guide/indexing.html#returning-a-view-versus-a-copy\n",
      "  df_test[i]=scaler.transform(df_test[[i]])\n",
      "<ipython-input-281-590c48b68ed8>:4: SettingWithCopyWarning: \n",
      "A value is trying to be set on a copy of a slice from a DataFrame.\n",
      "Try using .loc[row_indexer,col_indexer] = value instead\n",
      "\n",
      "See the caveats in the documentation: https://pandas.pydata.org/pandas-docs/stable/user_guide/indexing.html#returning-a-view-versus-a-copy\n",
      "  df_train[i]=scaler.fit_transform(df_train[[i]])\n",
      "<ipython-input-281-590c48b68ed8>:5: SettingWithCopyWarning: \n",
      "A value is trying to be set on a copy of a slice from a DataFrame.\n",
      "Try using .loc[row_indexer,col_indexer] = value instead\n",
      "\n",
      "See the caveats in the documentation: https://pandas.pydata.org/pandas-docs/stable/user_guide/indexing.html#returning-a-view-versus-a-copy\n",
      "  df_test[i]=scaler.transform(df_test[[i]])\n",
      "<ipython-input-281-590c48b68ed8>:4: SettingWithCopyWarning: \n",
      "A value is trying to be set on a copy of a slice from a DataFrame.\n",
      "Try using .loc[row_indexer,col_indexer] = value instead\n",
      "\n",
      "See the caveats in the documentation: https://pandas.pydata.org/pandas-docs/stable/user_guide/indexing.html#returning-a-view-versus-a-copy\n",
      "  df_train[i]=scaler.fit_transform(df_train[[i]])\n",
      "<ipython-input-281-590c48b68ed8>:5: SettingWithCopyWarning: \n",
      "A value is trying to be set on a copy of a slice from a DataFrame.\n",
      "Try using .loc[row_indexer,col_indexer] = value instead\n",
      "\n",
      "See the caveats in the documentation: https://pandas.pydata.org/pandas-docs/stable/user_guide/indexing.html#returning-a-view-versus-a-copy\n",
      "  df_test[i]=scaler.transform(df_test[[i]])\n",
      "<ipython-input-281-590c48b68ed8>:4: SettingWithCopyWarning: \n",
      "A value is trying to be set on a copy of a slice from a DataFrame.\n",
      "Try using .loc[row_indexer,col_indexer] = value instead\n",
      "\n",
      "See the caveats in the documentation: https://pandas.pydata.org/pandas-docs/stable/user_guide/indexing.html#returning-a-view-versus-a-copy\n",
      "  df_train[i]=scaler.fit_transform(df_train[[i]])\n",
      "<ipython-input-281-590c48b68ed8>:5: SettingWithCopyWarning: \n",
      "A value is trying to be set on a copy of a slice from a DataFrame.\n",
      "Try using .loc[row_indexer,col_indexer] = value instead\n",
      "\n",
      "See the caveats in the documentation: https://pandas.pydata.org/pandas-docs/stable/user_guide/indexing.html#returning-a-view-versus-a-copy\n",
      "  df_test[i]=scaler.transform(df_test[[i]])\n",
      "<ipython-input-281-590c48b68ed8>:4: SettingWithCopyWarning: \n",
      "A value is trying to be set on a copy of a slice from a DataFrame.\n",
      "Try using .loc[row_indexer,col_indexer] = value instead\n",
      "\n",
      "See the caveats in the documentation: https://pandas.pydata.org/pandas-docs/stable/user_guide/indexing.html#returning-a-view-versus-a-copy\n",
      "  df_train[i]=scaler.fit_transform(df_train[[i]])\n",
      "<ipython-input-281-590c48b68ed8>:5: SettingWithCopyWarning: \n",
      "A value is trying to be set on a copy of a slice from a DataFrame.\n",
      "Try using .loc[row_indexer,col_indexer] = value instead\n",
      "\n",
      "See the caveats in the documentation: https://pandas.pydata.org/pandas-docs/stable/user_guide/indexing.html#returning-a-view-versus-a-copy\n",
      "  df_test[i]=scaler.transform(df_test[[i]])\n",
      "<ipython-input-281-590c48b68ed8>:4: SettingWithCopyWarning: \n",
      "A value is trying to be set on a copy of a slice from a DataFrame.\n",
      "Try using .loc[row_indexer,col_indexer] = value instead\n",
      "\n",
      "See the caveats in the documentation: https://pandas.pydata.org/pandas-docs/stable/user_guide/indexing.html#returning-a-view-versus-a-copy\n",
      "  df_train[i]=scaler.fit_transform(df_train[[i]])\n",
      "<ipython-input-281-590c48b68ed8>:5: SettingWithCopyWarning: \n",
      "A value is trying to be set on a copy of a slice from a DataFrame.\n",
      "Try using .loc[row_indexer,col_indexer] = value instead\n",
      "\n",
      "See the caveats in the documentation: https://pandas.pydata.org/pandas-docs/stable/user_guide/indexing.html#returning-a-view-versus-a-copy\n",
      "  df_test[i]=scaler.transform(df_test[[i]])\n",
      "<ipython-input-281-590c48b68ed8>:4: SettingWithCopyWarning: \n",
      "A value is trying to be set on a copy of a slice from a DataFrame.\n",
      "Try using .loc[row_indexer,col_indexer] = value instead\n",
      "\n",
      "See the caveats in the documentation: https://pandas.pydata.org/pandas-docs/stable/user_guide/indexing.html#returning-a-view-versus-a-copy\n",
      "  df_train[i]=scaler.fit_transform(df_train[[i]])\n",
      "<ipython-input-281-590c48b68ed8>:5: SettingWithCopyWarning: \n",
      "A value is trying to be set on a copy of a slice from a DataFrame.\n",
      "Try using .loc[row_indexer,col_indexer] = value instead\n",
      "\n",
      "See the caveats in the documentation: https://pandas.pydata.org/pandas-docs/stable/user_guide/indexing.html#returning-a-view-versus-a-copy\n",
      "  df_test[i]=scaler.transform(df_test[[i]])\n",
      "<ipython-input-281-590c48b68ed8>:4: SettingWithCopyWarning: \n",
      "A value is trying to be set on a copy of a slice from a DataFrame.\n",
      "Try using .loc[row_indexer,col_indexer] = value instead\n",
      "\n",
      "See the caveats in the documentation: https://pandas.pydata.org/pandas-docs/stable/user_guide/indexing.html#returning-a-view-versus-a-copy\n",
      "  df_train[i]=scaler.fit_transform(df_train[[i]])\n",
      "<ipython-input-281-590c48b68ed8>:5: SettingWithCopyWarning: \n",
      "A value is trying to be set on a copy of a slice from a DataFrame.\n",
      "Try using .loc[row_indexer,col_indexer] = value instead\n",
      "\n",
      "See the caveats in the documentation: https://pandas.pydata.org/pandas-docs/stable/user_guide/indexing.html#returning-a-view-versus-a-copy\n",
      "  df_test[i]=scaler.transform(df_test[[i]])\n",
      "<ipython-input-281-590c48b68ed8>:4: SettingWithCopyWarning: \n",
      "A value is trying to be set on a copy of a slice from a DataFrame.\n",
      "Try using .loc[row_indexer,col_indexer] = value instead\n",
      "\n",
      "See the caveats in the documentation: https://pandas.pydata.org/pandas-docs/stable/user_guide/indexing.html#returning-a-view-versus-a-copy\n",
      "  df_train[i]=scaler.fit_transform(df_train[[i]])\n",
      "<ipython-input-281-590c48b68ed8>:5: SettingWithCopyWarning: \n",
      "A value is trying to be set on a copy of a slice from a DataFrame.\n",
      "Try using .loc[row_indexer,col_indexer] = value instead\n",
      "\n",
      "See the caveats in the documentation: https://pandas.pydata.org/pandas-docs/stable/user_guide/indexing.html#returning-a-view-versus-a-copy\n",
      "  df_test[i]=scaler.transform(df_test[[i]])\n",
      "<ipython-input-281-590c48b68ed8>:4: SettingWithCopyWarning: \n",
      "A value is trying to be set on a copy of a slice from a DataFrame.\n",
      "Try using .loc[row_indexer,col_indexer] = value instead\n",
      "\n",
      "See the caveats in the documentation: https://pandas.pydata.org/pandas-docs/stable/user_guide/indexing.html#returning-a-view-versus-a-copy\n",
      "  df_train[i]=scaler.fit_transform(df_train[[i]])\n"
     ]
    },
    {
     "name": "stderr",
     "output_type": "stream",
     "text": [
      "<ipython-input-281-590c48b68ed8>:5: SettingWithCopyWarning: \n",
      "A value is trying to be set on a copy of a slice from a DataFrame.\n",
      "Try using .loc[row_indexer,col_indexer] = value instead\n",
      "\n",
      "See the caveats in the documentation: https://pandas.pydata.org/pandas-docs/stable/user_guide/indexing.html#returning-a-view-versus-a-copy\n",
      "  df_test[i]=scaler.transform(df_test[[i]])\n",
      "<ipython-input-281-590c48b68ed8>:4: SettingWithCopyWarning: \n",
      "A value is trying to be set on a copy of a slice from a DataFrame.\n",
      "Try using .loc[row_indexer,col_indexer] = value instead\n",
      "\n",
      "See the caveats in the documentation: https://pandas.pydata.org/pandas-docs/stable/user_guide/indexing.html#returning-a-view-versus-a-copy\n",
      "  df_train[i]=scaler.fit_transform(df_train[[i]])\n",
      "<ipython-input-281-590c48b68ed8>:5: SettingWithCopyWarning: \n",
      "A value is trying to be set on a copy of a slice from a DataFrame.\n",
      "Try using .loc[row_indexer,col_indexer] = value instead\n",
      "\n",
      "See the caveats in the documentation: https://pandas.pydata.org/pandas-docs/stable/user_guide/indexing.html#returning-a-view-versus-a-copy\n",
      "  df_test[i]=scaler.transform(df_test[[i]])\n",
      "<ipython-input-281-590c48b68ed8>:4: SettingWithCopyWarning: \n",
      "A value is trying to be set on a copy of a slice from a DataFrame.\n",
      "Try using .loc[row_indexer,col_indexer] = value instead\n",
      "\n",
      "See the caveats in the documentation: https://pandas.pydata.org/pandas-docs/stable/user_guide/indexing.html#returning-a-view-versus-a-copy\n",
      "  df_train[i]=scaler.fit_transform(df_train[[i]])\n",
      "<ipython-input-281-590c48b68ed8>:5: SettingWithCopyWarning: \n",
      "A value is trying to be set on a copy of a slice from a DataFrame.\n",
      "Try using .loc[row_indexer,col_indexer] = value instead\n",
      "\n",
      "See the caveats in the documentation: https://pandas.pydata.org/pandas-docs/stable/user_guide/indexing.html#returning-a-view-versus-a-copy\n",
      "  df_test[i]=scaler.transform(df_test[[i]])\n",
      "<ipython-input-281-590c48b68ed8>:4: SettingWithCopyWarning: \n",
      "A value is trying to be set on a copy of a slice from a DataFrame.\n",
      "Try using .loc[row_indexer,col_indexer] = value instead\n",
      "\n",
      "See the caveats in the documentation: https://pandas.pydata.org/pandas-docs/stable/user_guide/indexing.html#returning-a-view-versus-a-copy\n",
      "  df_train[i]=scaler.fit_transform(df_train[[i]])\n",
      "<ipython-input-281-590c48b68ed8>:5: SettingWithCopyWarning: \n",
      "A value is trying to be set on a copy of a slice from a DataFrame.\n",
      "Try using .loc[row_indexer,col_indexer] = value instead\n",
      "\n",
      "See the caveats in the documentation: https://pandas.pydata.org/pandas-docs/stable/user_guide/indexing.html#returning-a-view-versus-a-copy\n",
      "  df_test[i]=scaler.transform(df_test[[i]])\n"
     ]
    },
    {
     "data": {
      "text/html": [
       "<div>\n",
       "<style scoped>\n",
       "    .dataframe tbody tr th:only-of-type {\n",
       "        vertical-align: middle;\n",
       "    }\n",
       "\n",
       "    .dataframe tbody tr th {\n",
       "        vertical-align: top;\n",
       "    }\n",
       "\n",
       "    .dataframe thead th {\n",
       "        text-align: right;\n",
       "    }\n",
       "</style>\n",
       "<table border=\"1\" class=\"dataframe\">\n",
       "  <thead>\n",
       "    <tr style=\"text-align: right;\">\n",
       "      <th></th>\n",
       "      <th>Turbine_ID</th>\n",
       "      <th>Timestamp</th>\n",
       "      <th>Gen_RPM_Max</th>\n",
       "      <th>Gen_RPM_Min</th>\n",
       "      <th>Gen_RPM_Avg</th>\n",
       "      <th>Gen_RPM_Std</th>\n",
       "      <th>Gen_Bear_Temp_Avg</th>\n",
       "      <th>Gen_Phase1_Temp_Avg</th>\n",
       "      <th>Gen_Phase2_Temp_Avg</th>\n",
       "      <th>Gen_Phase3_Temp_Avg</th>\n",
       "      <th>Prod_LatestAvg_ActPwrGen0</th>\n",
       "      <th>Prod_LatestAvg_ActPwrGen1</th>\n",
       "      <th>Prod_LatestAvg_TotActPwr</th>\n",
       "      <th>Prod_LatestAvg_ReactPwrGen0</th>\n",
       "      <th>Prod_LatestAvg_ReactPwrGen1</th>\n",
       "      <th>Prod_LatestAvg_TotReactPwr</th>\n",
       "      <th>Gen_SlipRing_Temp_Avg</th>\n",
       "      <th>Gen_Bear2_Temp_Avg</th>\n",
       "      <th>Fail_10_GENERATOR</th>\n",
       "    </tr>\n",
       "  </thead>\n",
       "  <tbody>\n",
       "    <tr>\n",
       "      <th>0</th>\n",
       "      <td>T11</td>\n",
       "      <td>2016-01-01</td>\n",
       "      <td>0.258079</td>\n",
       "      <td>0.510634</td>\n",
       "      <td>0.357229</td>\n",
       "      <td>-0.440904</td>\n",
       "      <td>-0.231705</td>\n",
       "      <td>-0.147832</td>\n",
       "      <td>-0.069120</td>\n",
       "      <td>-0.091975</td>\n",
       "      <td>0.599216</td>\n",
       "      <td>-0.432245</td>\n",
       "      <td>-0.427453</td>\n",
       "      <td>0.503068</td>\n",
       "      <td>0.139007</td>\n",
       "      <td>0.169069</td>\n",
       "      <td>-0.198930</td>\n",
       "      <td>-0.302107</td>\n",
       "      <td>0</td>\n",
       "    </tr>\n",
       "    <tr>\n",
       "      <th>1</th>\n",
       "      <td>T06</td>\n",
       "      <td>2016-01-01</td>\n",
       "      <td>0.150275</td>\n",
       "      <td>0.509819</td>\n",
       "      <td>0.321008</td>\n",
       "      <td>-0.549176</td>\n",
       "      <td>-0.231705</td>\n",
       "      <td>-0.431648</td>\n",
       "      <td>-0.399373</td>\n",
       "      <td>-0.353410</td>\n",
       "      <td>0.599216</td>\n",
       "      <td>-0.708180</td>\n",
       "      <td>-0.702608</td>\n",
       "      <td>0.503068</td>\n",
       "      <td>0.205249</td>\n",
       "      <td>0.237161</td>\n",
       "      <td>-0.317190</td>\n",
       "      <td>-0.516810</td>\n",
       "      <td>0</td>\n",
       "    </tr>\n",
       "    <tr>\n",
       "      <th>2</th>\n",
       "      <td>T01</td>\n",
       "      <td>2016-01-01</td>\n",
       "      <td>0.161770</td>\n",
       "      <td>0.498901</td>\n",
       "      <td>0.321816</td>\n",
       "      <td>-0.529326</td>\n",
       "      <td>-0.287618</td>\n",
       "      <td>-0.183309</td>\n",
       "      <td>-0.142509</td>\n",
       "      <td>-0.166671</td>\n",
       "      <td>0.437648</td>\n",
       "      <td>-0.762701</td>\n",
       "      <td>-0.757938</td>\n",
       "      <td>0.359128</td>\n",
       "      <td>0.719361</td>\n",
       "      <td>0.758148</td>\n",
       "      <td>-0.435449</td>\n",
       "      <td>-0.373675</td>\n",
       "      <td>0</td>\n",
       "    </tr>\n",
       "    <tr>\n",
       "      <th>3</th>\n",
       "      <td>T09</td>\n",
       "      <td>2016-01-01</td>\n",
       "      <td>0.316021</td>\n",
       "      <td>0.512264</td>\n",
       "      <td>0.359008</td>\n",
       "      <td>-0.387669</td>\n",
       "      <td>-0.343532</td>\n",
       "      <td>-0.183309</td>\n",
       "      <td>-0.215899</td>\n",
       "      <td>-0.166671</td>\n",
       "      <td>0.599216</td>\n",
       "      <td>-0.503371</td>\n",
       "      <td>-0.498378</td>\n",
       "      <td>0.503068</td>\n",
       "      <td>0.139595</td>\n",
       "      <td>0.169674</td>\n",
       "      <td>-0.317190</td>\n",
       "      <td>-0.659946</td>\n",
       "      <td>0</td>\n",
       "    </tr>\n",
       "    <tr>\n",
       "      <th>4</th>\n",
       "      <td>T07</td>\n",
       "      <td>2016-01-01</td>\n",
       "      <td>0.224060</td>\n",
       "      <td>0.504441</td>\n",
       "      <td>0.331357</td>\n",
       "      <td>-0.486017</td>\n",
       "      <td>-0.287618</td>\n",
       "      <td>-0.041400</td>\n",
       "      <td>-0.032425</td>\n",
       "      <td>-0.054627</td>\n",
       "      <td>0.599216</td>\n",
       "      <td>-0.632725</td>\n",
       "      <td>-0.627367</td>\n",
       "      <td>0.503068</td>\n",
       "      <td>0.251618</td>\n",
       "      <td>0.284827</td>\n",
       "      <td>-0.317190</td>\n",
       "      <td>-0.230539</td>\n",
       "      <td>0</td>\n",
       "    </tr>\n",
       "  </tbody>\n",
       "</table>\n",
       "</div>"
      ],
      "text/plain": [
       "  Turbine_ID  Timestamp  Gen_RPM_Max  Gen_RPM_Min  Gen_RPM_Avg  Gen_RPM_Std  \\\n",
       "0        T11 2016-01-01     0.258079     0.510634     0.357229    -0.440904   \n",
       "1        T06 2016-01-01     0.150275     0.509819     0.321008    -0.549176   \n",
       "2        T01 2016-01-01     0.161770     0.498901     0.321816    -0.529326   \n",
       "3        T09 2016-01-01     0.316021     0.512264     0.359008    -0.387669   \n",
       "4        T07 2016-01-01     0.224060     0.504441     0.331357    -0.486017   \n",
       "\n",
       "   Gen_Bear_Temp_Avg  Gen_Phase1_Temp_Avg  Gen_Phase2_Temp_Avg  \\\n",
       "0          -0.231705            -0.147832            -0.069120   \n",
       "1          -0.231705            -0.431648            -0.399373   \n",
       "2          -0.287618            -0.183309            -0.142509   \n",
       "3          -0.343532            -0.183309            -0.215899   \n",
       "4          -0.287618            -0.041400            -0.032425   \n",
       "\n",
       "   Gen_Phase3_Temp_Avg  Prod_LatestAvg_ActPwrGen0  Prod_LatestAvg_ActPwrGen1  \\\n",
       "0            -0.091975                   0.599216                  -0.432245   \n",
       "1            -0.353410                   0.599216                  -0.708180   \n",
       "2            -0.166671                   0.437648                  -0.762701   \n",
       "3            -0.166671                   0.599216                  -0.503371   \n",
       "4            -0.054627                   0.599216                  -0.632725   \n",
       "\n",
       "   Prod_LatestAvg_TotActPwr  Prod_LatestAvg_ReactPwrGen0  \\\n",
       "0                 -0.427453                     0.503068   \n",
       "1                 -0.702608                     0.503068   \n",
       "2                 -0.757938                     0.359128   \n",
       "3                 -0.498378                     0.503068   \n",
       "4                 -0.627367                     0.503068   \n",
       "\n",
       "   Prod_LatestAvg_ReactPwrGen1  Prod_LatestAvg_TotReactPwr  \\\n",
       "0                     0.139007                    0.169069   \n",
       "1                     0.205249                    0.237161   \n",
       "2                     0.719361                    0.758148   \n",
       "3                     0.139595                    0.169674   \n",
       "4                     0.251618                    0.284827   \n",
       "\n",
       "   Gen_SlipRing_Temp_Avg  Gen_Bear2_Temp_Avg  Fail_10_GENERATOR  \n",
       "0              -0.198930           -0.302107                  0  \n",
       "1              -0.317190           -0.516810                  0  \n",
       "2              -0.435449           -0.373675                  0  \n",
       "3              -0.317190           -0.659946                  0  \n",
       "4              -0.317190           -0.230539                  0  "
      ]
     },
     "execution_count": 281,
     "metadata": {},
     "output_type": "execute_result"
    }
   ],
   "source": [
    "scaler = StandardScaler()\n",
    "\n",
    "for i in var_list:\n",
    "    df_train[i]=scaler.fit_transform(df_train[[i]])\n",
    "    df_test[i]=scaler.transform(df_test[[i]])\n",
    "\n",
    "df_train.head()"
   ]
  },
  {
   "cell_type": "code",
   "execution_count": null,
   "metadata": {},
   "outputs": [],
   "source": []
  },
  {
   "cell_type": "code",
   "execution_count": 282,
   "metadata": {
    "ExecuteTime": {
     "end_time": "2021-02-06T04:25:03.342474Z",
     "start_time": "2021-02-06T00:55:21.773212Z"
    }
   },
   "outputs": [
    {
     "name": "stdout",
     "output_type": "stream",
     "text": [
      "2160\n"
     ]
    }
   ],
   "source": [
    "#Guia para utilização da função final get_X_y:\n",
    "\n",
    "#1º argumento: dataframe\n",
    "#2º argumento: número de sequencias a gerar para cada uma das turbinas\n",
    "#3º argumento: comprimento de cada uma das sequências (nº de timestamps recolhidos para formar uma sequencia)\n",
    "#4º argumento: especificar a variavel target\n",
    "\n",
    "numero_de_dias=15\n",
    "\n",
    "Nvezes_10_minutos=6*24*numero_de_dias\n",
    "\n",
    "import sequences_generator \n",
    "print(Nvezes_10_minutos)\n",
    "\n",
    "\n",
    "X_train,y_train=sequences_generator.get_X_y(df_train,2000,Nvezes_10_minutos,target)\n",
    "\n",
    "X_test,y_test=sequences_generator.get_X_y(df_test,500,Nvezes_10_minutos,target)\n"
   ]
  },
  {
   "cell_type": "code",
   "execution_count": 283,
   "metadata": {
    "ExecuteTime": {
     "end_time": "2021-02-06T04:25:03.668196Z",
     "start_time": "2021-02-06T04:25:03.427984Z"
    }
   },
   "outputs": [],
   "source": [
    "import tensorflow as tf\n",
    "from tensorflow.keras import models\n",
    "from tensorflow.keras import layers\n",
    "\n",
    "def init_model():\n",
    "    \n",
    "    model = models.Sequential()\n",
    "    model.add(layers.LSTM(20, activation='tanh'))\n",
    "    model.add(layers.Dense(5, activation='relu'))\n",
    "    #model.add(layers.Dense(1, activation='sigmoid'))\n",
    "    model.add(layers.Dense(1, activation='sigmoid'))\n",
    "    \n",
    "    model.compile(loss='binary_crossentropy', \n",
    "                  optimizer='rmsprop', \n",
    "                   #metrics=['accuracy'])\n",
    "                  metrics=[tf.keras.metrics.Recall(),tf.keras.metrics.Precision(),tf.keras.metrics.AUC()])\n",
    "    \n",
    "    return model"
   ]
  },
  {
   "cell_type": "code",
   "execution_count": 284,
   "metadata": {
    "ExecuteTime": {
     "end_time": "2021-02-06T04:25:04.199117Z",
     "start_time": "2021-02-06T04:25:03.707496Z"
    }
   },
   "outputs": [],
   "source": [
    "neg=int(pd.DataFrame(y_train).value_counts()[0])\n",
    "pos=int(pd.DataFrame(y_train).value_counts()[1])\n",
    "total=neg+pos"
   ]
  },
  {
   "cell_type": "code",
   "execution_count": 285,
   "metadata": {
    "ExecuteTime": {
     "end_time": "2021-02-06T04:25:04.303422Z",
     "start_time": "2021-02-06T04:25:04.230736Z"
    }
   },
   "outputs": [],
   "source": [
    "weight_for_0 = (1 / neg)*(total)/2.0 \n",
    "weight_for_1 = (1 / pos)*(total)/2.0\n",
    "\n",
    "class_weight = {0: weight_for_0, 1: weight_for_1}"
   ]
  },
  {
   "cell_type": "code",
   "execution_count": 286,
   "metadata": {
    "ExecuteTime": {
     "end_time": "2021-02-06T04:25:04.412686Z",
     "start_time": "2021-02-06T04:25:04.337680Z"
    }
   },
   "outputs": [
    {
     "data": {
      "text/plain": [
       "(10000, 2160, 16)"
      ]
     },
     "execution_count": 286,
     "metadata": {},
     "output_type": "execute_result"
    }
   ],
   "source": [
    "X_train.shape"
   ]
  },
  {
   "cell_type": "code",
   "execution_count": 287,
   "metadata": {
    "ExecuteTime": {
     "end_time": "2021-02-06T04:25:04.542017Z",
     "start_time": "2021-02-06T04:25:04.504801Z"
    }
   },
   "outputs": [],
   "source": [
    "#int(pd.DataFrame(y).value_counts()[1])"
   ]
  },
  {
   "cell_type": "code",
   "execution_count": 288,
   "metadata": {
    "ExecuteTime": {
     "end_time": "2021-02-06T04:25:04.644611Z",
     "start_time": "2021-02-06T04:25:04.573854Z"
    }
   },
   "outputs": [
    {
     "data": {
      "text/plain": [
       "{0: 0.5094243504839532, 1: 27.027027027027028}"
      ]
     },
     "execution_count": 288,
     "metadata": {},
     "output_type": "execute_result"
    }
   ],
   "source": [
    "class_weight"
   ]
  },
  {
   "cell_type": "code",
   "execution_count": 289,
   "metadata": {
    "ExecuteTime": {
     "end_time": "2021-02-06T09:40:55.920871Z",
     "start_time": "2021-02-06T04:25:04.689913Z"
    }
   },
   "outputs": [
    {
     "name": "stdout",
     "output_type": "stream",
     "text": [
      "Epoch 1/100\n",
      "219/219 [==============================] - ETA: 0s - loss: 0.7107 - recall_19: 0.4286 - precision_2: 0.0825 - auc_11: 0.7653 WARNING:tensorflow:Early stopping conditioned on metric `val_auc_10` which is not available. Available metrics are: loss,recall_19,precision_2,auc_11,val_loss,val_recall_19,val_precision_2,val_auc_11\n",
      "219/219 [==============================] - 7858s 36s/step - loss: 0.7107 - recall_19: 0.4286 - precision_2: 0.0825 - auc_11: 0.7653 - val_loss: 0.3998 - val_recall_19: 0.0000e+00 - val_precision_2: 0.0000e+00 - val_auc_11: 0.1651\n",
      "Epoch 2/100\n",
      "219/219 [==============================] - ETA: 0s - loss: 0.6027 - recall_19: 0.7857 - precision_2: 0.0931 - auc_11: 0.8699WARNING:tensorflow:Early stopping conditioned on metric `val_auc_10` which is not available. Available metrics are: loss,recall_19,precision_2,auc_11,val_loss,val_recall_19,val_precision_2,val_auc_11\n",
      "219/219 [==============================] - 686s 3s/step - loss: 0.6027 - recall_19: 0.7857 - precision_2: 0.0931 - auc_11: 0.8699 - val_loss: 0.2545 - val_recall_19: 0.0000e+00 - val_precision_2: 0.0000e+00 - val_auc_11: 0.2283\n",
      "Epoch 3/100\n",
      "219/219 [==============================] - ETA: 0s - loss: 0.6061 - recall_19: 0.8247 - precision_2: 0.1204 - auc_11: 0.8801WARNING:tensorflow:Early stopping conditioned on metric `val_auc_10` which is not available. Available metrics are: loss,recall_19,precision_2,auc_11,val_loss,val_recall_19,val_precision_2,val_auc_11\n",
      "219/219 [==============================] - 3997s 18s/step - loss: 0.6061 - recall_19: 0.8247 - precision_2: 0.1204 - auc_11: 0.8801 - val_loss: 0.2763 - val_recall_19: 0.0000e+00 - val_precision_2: 0.0000e+00 - val_auc_11: 0.1805\n",
      "Epoch 4/100\n",
      "219/219 [==============================] - ETA: 0s - loss: 0.5512 - recall_19: 0.8636 - precision_2: 0.1212 - auc_11: 0.9010WARNING:tensorflow:Early stopping conditioned on metric `val_auc_10` which is not available. Available metrics are: loss,recall_19,precision_2,auc_11,val_loss,val_recall_19,val_precision_2,val_auc_11\n",
      "219/219 [==============================] - 581s 3s/step - loss: 0.5512 - recall_19: 0.8636 - precision_2: 0.1212 - auc_11: 0.9010 - val_loss: 0.3107 - val_recall_19: 0.0000e+00 - val_precision_2: 0.0000e+00 - val_auc_11: 0.1776\n",
      "Epoch 5/100\n",
      "219/219 [==============================] - ETA: 0s - loss: 0.4713 - recall_19: 0.9221 - precision_2: 0.1326 - auc_11: 0.9188WARNING:tensorflow:Early stopping conditioned on metric `val_auc_10` which is not available. Available metrics are: loss,recall_19,precision_2,auc_11,val_loss,val_recall_19,val_precision_2,val_auc_11\n",
      "219/219 [==============================] - 659s 3s/step - loss: 0.4713 - recall_19: 0.9221 - precision_2: 0.1326 - auc_11: 0.9188 - val_loss: 0.2106 - val_recall_19: 0.0000e+00 - val_precision_2: 0.0000e+00 - val_auc_11: 0.2332\n",
      "Epoch 6/100\n",
      "219/219 [==============================] - ETA: 0s - loss: 0.4984 - recall_19: 0.8312 - precision_2: 0.1359 - auc_11: 0.9038WARNING:tensorflow:Early stopping conditioned on metric `val_auc_10` which is not available. Available metrics are: loss,recall_19,precision_2,auc_11,val_loss,val_recall_19,val_precision_2,val_auc_11\n",
      "219/219 [==============================] - 551s 3s/step - loss: 0.4984 - recall_19: 0.8312 - precision_2: 0.1359 - auc_11: 0.9038 - val_loss: 0.3536 - val_recall_19: 0.0000e+00 - val_precision_2: 0.0000e+00 - val_auc_11: 0.2079\n",
      "Epoch 7/100\n",
      "219/219 [==============================] - ETA: 0s - loss: 0.4825 - recall_19: 0.8636 - precision_2: 0.1515 - auc_11: 0.9082WARNING:tensorflow:Early stopping conditioned on metric `val_auc_10` which is not available. Available metrics are: loss,recall_19,precision_2,auc_11,val_loss,val_recall_19,val_precision_2,val_auc_11\n",
      "219/219 [==============================] - 874s 4s/step - loss: 0.4825 - recall_19: 0.8636 - precision_2: 0.1515 - auc_11: 0.9082 - val_loss: 0.3583 - val_recall_19: 0.0000e+00 - val_precision_2: 0.0000e+00 - val_auc_11: 0.2062\n",
      "Epoch 8/100\n",
      "219/219 [==============================] - ETA: 0s - loss: 0.4027 - recall_19: 0.9156 - precision_2: 0.1265 - auc_11: 0.9107WARNING:tensorflow:Early stopping conditioned on metric `val_auc_10` which is not available. Available metrics are: loss,recall_19,precision_2,auc_11,val_loss,val_recall_19,val_precision_2,val_auc_11\n",
      "219/219 [==============================] - 610s 3s/step - loss: 0.4027 - recall_19: 0.9156 - precision_2: 0.1265 - auc_11: 0.9107 - val_loss: 0.4642 - val_recall_19: 0.0000e+00 - val_precision_2: 0.0000e+00 - val_auc_11: 0.2228\n",
      "Epoch 9/100\n",
      "219/219 [==============================] - ETA: 0s - loss: 0.5298 - recall_19: 0.7662 - precision_2: 0.1185 - auc_11: 0.8906WARNING:tensorflow:Early stopping conditioned on metric `val_auc_10` which is not available. Available metrics are: loss,recall_19,precision_2,auc_11,val_loss,val_recall_19,val_precision_2,val_auc_11\n",
      "219/219 [==============================] - 771s 4s/step - loss: 0.5298 - recall_19: 0.7662 - precision_2: 0.1185 - auc_11: 0.8906 - val_loss: 0.6358 - val_recall_19: 0.0000e+00 - val_precision_2: 0.0000e+00 - val_auc_11: 0.2334\n",
      "Epoch 10/100\n",
      "219/219 [==============================] - ETA: 0s - loss: 0.4010 - recall_19: 0.8636 - precision_2: 0.1040 - auc_11: 0.9123WARNING:tensorflow:Early stopping conditioned on metric `val_auc_10` which is not available. Available metrics are: loss,recall_19,precision_2,auc_11,val_loss,val_recall_19,val_precision_2,val_auc_11\n",
      "219/219 [==============================] - 2102s 10s/step - loss: 0.4010 - recall_19: 0.8636 - precision_2: 0.1040 - auc_11: 0.9123 - val_loss: 0.3565 - val_recall_19: 0.0000e+00 - val_precision_2: 0.0000e+00 - val_auc_11: 0.2108\n",
      "Epoch 11/100\n",
      "219/219 [==============================] - ETA: 0s - loss: 0.3407 - recall_19: 0.9091 - precision_2: 0.1636 - auc_11: 0.9442"
     ]
    },
    {
     "ename": "KeyboardInterrupt",
     "evalue": "",
     "output_type": "error",
     "traceback": [
      "\u001b[0;31m---------------------------------------------------------------------------\u001b[0m",
      "\u001b[0;31mKeyboardInterrupt\u001b[0m                         Traceback (most recent call last)",
      "\u001b[0;32m<ipython-input-289-cc263a60f756>\u001b[0m in \u001b[0;36m<module>\u001b[0;34m\u001b[0m\n\u001b[1;32m      8\u001b[0m \u001b[0mes\u001b[0m \u001b[0;34m=\u001b[0m \u001b[0mEarlyStopping\u001b[0m\u001b[0;34m(\u001b[0m\u001b[0mmonitor\u001b[0m\u001b[0;34m=\u001b[0m\u001b[0;34m'val_auc_10'\u001b[0m\u001b[0;34m,\u001b[0m \u001b[0mmode\u001b[0m\u001b[0;34m=\u001b[0m\u001b[0;34m'max'\u001b[0m\u001b[0;34m,\u001b[0m \u001b[0mverbose\u001b[0m\u001b[0;34m=\u001b[0m\u001b[0;36m1\u001b[0m\u001b[0;34m,\u001b[0m \u001b[0mpatience\u001b[0m\u001b[0;34m=\u001b[0m\u001b[0;36m5\u001b[0m\u001b[0;34m,\u001b[0m \u001b[0mrestore_best_weights\u001b[0m\u001b[0;34m=\u001b[0m\u001b[0;32mTrue\u001b[0m\u001b[0;34m)\u001b[0m\u001b[0;34m\u001b[0m\u001b[0;34m\u001b[0m\u001b[0m\n\u001b[1;32m      9\u001b[0m \u001b[0;34m\u001b[0m\u001b[0m\n\u001b[0;32m---> 10\u001b[0;31m history = model.fit(X_train, y_train,\n\u001b[0m\u001b[1;32m     11\u001b[0m             \u001b[0mvalidation_split\u001b[0m\u001b[0;34m=\u001b[0m\u001b[0;36m0.3\u001b[0m\u001b[0;34m,\u001b[0m\u001b[0;34m\u001b[0m\u001b[0;34m\u001b[0m\u001b[0m\n\u001b[1;32m     12\u001b[0m             \u001b[0mepochs\u001b[0m\u001b[0;34m=\u001b[0m\u001b[0;36m100\u001b[0m\u001b[0;34m,\u001b[0m\u001b[0;34m\u001b[0m\u001b[0;34m\u001b[0m\u001b[0m\n",
      "\u001b[0;32m~/.pyenv/versions/3.8.5/envs/lewagon/lib/python3.8/site-packages/tensorflow/python/keras/engine/training.py\u001b[0m in \u001b[0;36m_method_wrapper\u001b[0;34m(self, *args, **kwargs)\u001b[0m\n\u001b[1;32m    106\u001b[0m   \u001b[0;32mdef\u001b[0m \u001b[0m_method_wrapper\u001b[0m\u001b[0;34m(\u001b[0m\u001b[0mself\u001b[0m\u001b[0;34m,\u001b[0m \u001b[0;34m*\u001b[0m\u001b[0margs\u001b[0m\u001b[0;34m,\u001b[0m \u001b[0;34m**\u001b[0m\u001b[0mkwargs\u001b[0m\u001b[0;34m)\u001b[0m\u001b[0;34m:\u001b[0m\u001b[0;34m\u001b[0m\u001b[0;34m\u001b[0m\u001b[0m\n\u001b[1;32m    107\u001b[0m     \u001b[0;32mif\u001b[0m \u001b[0;32mnot\u001b[0m \u001b[0mself\u001b[0m\u001b[0;34m.\u001b[0m\u001b[0m_in_multi_worker_mode\u001b[0m\u001b[0;34m(\u001b[0m\u001b[0;34m)\u001b[0m\u001b[0;34m:\u001b[0m  \u001b[0;31m# pylint: disable=protected-access\u001b[0m\u001b[0;34m\u001b[0m\u001b[0;34m\u001b[0m\u001b[0m\n\u001b[0;32m--> 108\u001b[0;31m       \u001b[0;32mreturn\u001b[0m \u001b[0mmethod\u001b[0m\u001b[0;34m(\u001b[0m\u001b[0mself\u001b[0m\u001b[0;34m,\u001b[0m \u001b[0;34m*\u001b[0m\u001b[0margs\u001b[0m\u001b[0;34m,\u001b[0m \u001b[0;34m**\u001b[0m\u001b[0mkwargs\u001b[0m\u001b[0;34m)\u001b[0m\u001b[0;34m\u001b[0m\u001b[0;34m\u001b[0m\u001b[0m\n\u001b[0m\u001b[1;32m    109\u001b[0m \u001b[0;34m\u001b[0m\u001b[0m\n\u001b[1;32m    110\u001b[0m     \u001b[0;31m# Running inside `run_distribute_coordinator` already.\u001b[0m\u001b[0;34m\u001b[0m\u001b[0;34m\u001b[0m\u001b[0;34m\u001b[0m\u001b[0m\n",
      "\u001b[0;32m~/.pyenv/versions/3.8.5/envs/lewagon/lib/python3.8/site-packages/tensorflow/python/keras/engine/training.py\u001b[0m in \u001b[0;36mfit\u001b[0;34m(self, x, y, batch_size, epochs, verbose, callbacks, validation_split, validation_data, shuffle, class_weight, sample_weight, initial_epoch, steps_per_epoch, validation_steps, validation_batch_size, validation_freq, max_queue_size, workers, use_multiprocessing)\u001b[0m\n\u001b[1;32m   1121\u001b[0m                 \u001b[0mmodel\u001b[0m\u001b[0;34m=\u001b[0m\u001b[0mself\u001b[0m\u001b[0;34m,\u001b[0m\u001b[0;34m\u001b[0m\u001b[0;34m\u001b[0m\u001b[0m\n\u001b[1;32m   1122\u001b[0m                 steps_per_execution=self._steps_per_execution)\n\u001b[0;32m-> 1123\u001b[0;31m           val_logs = self.evaluate(\n\u001b[0m\u001b[1;32m   1124\u001b[0m               \u001b[0mx\u001b[0m\u001b[0;34m=\u001b[0m\u001b[0mval_x\u001b[0m\u001b[0;34m,\u001b[0m\u001b[0;34m\u001b[0m\u001b[0;34m\u001b[0m\u001b[0m\n\u001b[1;32m   1125\u001b[0m               \u001b[0my\u001b[0m\u001b[0;34m=\u001b[0m\u001b[0mval_y\u001b[0m\u001b[0;34m,\u001b[0m\u001b[0;34m\u001b[0m\u001b[0;34m\u001b[0m\u001b[0m\n",
      "\u001b[0;32m~/.pyenv/versions/3.8.5/envs/lewagon/lib/python3.8/site-packages/tensorflow/python/keras/engine/training.py\u001b[0m in \u001b[0;36m_method_wrapper\u001b[0;34m(self, *args, **kwargs)\u001b[0m\n\u001b[1;32m    106\u001b[0m   \u001b[0;32mdef\u001b[0m \u001b[0m_method_wrapper\u001b[0m\u001b[0;34m(\u001b[0m\u001b[0mself\u001b[0m\u001b[0;34m,\u001b[0m \u001b[0;34m*\u001b[0m\u001b[0margs\u001b[0m\u001b[0;34m,\u001b[0m \u001b[0;34m**\u001b[0m\u001b[0mkwargs\u001b[0m\u001b[0;34m)\u001b[0m\u001b[0;34m:\u001b[0m\u001b[0;34m\u001b[0m\u001b[0;34m\u001b[0m\u001b[0m\n\u001b[1;32m    107\u001b[0m     \u001b[0;32mif\u001b[0m \u001b[0;32mnot\u001b[0m \u001b[0mself\u001b[0m\u001b[0;34m.\u001b[0m\u001b[0m_in_multi_worker_mode\u001b[0m\u001b[0;34m(\u001b[0m\u001b[0;34m)\u001b[0m\u001b[0;34m:\u001b[0m  \u001b[0;31m# pylint: disable=protected-access\u001b[0m\u001b[0;34m\u001b[0m\u001b[0;34m\u001b[0m\u001b[0m\n\u001b[0;32m--> 108\u001b[0;31m       \u001b[0;32mreturn\u001b[0m \u001b[0mmethod\u001b[0m\u001b[0;34m(\u001b[0m\u001b[0mself\u001b[0m\u001b[0;34m,\u001b[0m \u001b[0;34m*\u001b[0m\u001b[0margs\u001b[0m\u001b[0;34m,\u001b[0m \u001b[0;34m**\u001b[0m\u001b[0mkwargs\u001b[0m\u001b[0;34m)\u001b[0m\u001b[0;34m\u001b[0m\u001b[0;34m\u001b[0m\u001b[0m\n\u001b[0m\u001b[1;32m    109\u001b[0m \u001b[0;34m\u001b[0m\u001b[0m\n\u001b[1;32m    110\u001b[0m     \u001b[0;31m# Running inside `run_distribute_coordinator` already.\u001b[0m\u001b[0;34m\u001b[0m\u001b[0;34m\u001b[0m\u001b[0;34m\u001b[0m\u001b[0m\n",
      "\u001b[0;32m~/.pyenv/versions/3.8.5/envs/lewagon/lib/python3.8/site-packages/tensorflow/python/keras/engine/training.py\u001b[0m in \u001b[0;36mevaluate\u001b[0;34m(self, x, y, batch_size, verbose, sample_weight, steps, callbacks, max_queue_size, workers, use_multiprocessing, return_dict)\u001b[0m\n\u001b[1;32m   1377\u001b[0m             \u001b[0;32mwith\u001b[0m \u001b[0mtrace\u001b[0m\u001b[0;34m.\u001b[0m\u001b[0mTrace\u001b[0m\u001b[0;34m(\u001b[0m\u001b[0;34m'TraceContext'\u001b[0m\u001b[0;34m,\u001b[0m \u001b[0mgraph_type\u001b[0m\u001b[0;34m=\u001b[0m\u001b[0;34m'test'\u001b[0m\u001b[0;34m,\u001b[0m \u001b[0mstep_num\u001b[0m\u001b[0;34m=\u001b[0m\u001b[0mstep\u001b[0m\u001b[0;34m)\u001b[0m\u001b[0;34m:\u001b[0m\u001b[0;34m\u001b[0m\u001b[0;34m\u001b[0m\u001b[0m\n\u001b[1;32m   1378\u001b[0m               \u001b[0mcallbacks\u001b[0m\u001b[0;34m.\u001b[0m\u001b[0mon_test_batch_begin\u001b[0m\u001b[0;34m(\u001b[0m\u001b[0mstep\u001b[0m\u001b[0;34m)\u001b[0m\u001b[0;34m\u001b[0m\u001b[0;34m\u001b[0m\u001b[0m\n\u001b[0;32m-> 1379\u001b[0;31m               \u001b[0mtmp_logs\u001b[0m \u001b[0;34m=\u001b[0m \u001b[0mtest_function\u001b[0m\u001b[0;34m(\u001b[0m\u001b[0miterator\u001b[0m\u001b[0;34m)\u001b[0m\u001b[0;34m\u001b[0m\u001b[0;34m\u001b[0m\u001b[0m\n\u001b[0m\u001b[1;32m   1380\u001b[0m               \u001b[0;32mif\u001b[0m \u001b[0mdata_handler\u001b[0m\u001b[0;34m.\u001b[0m\u001b[0mshould_sync\u001b[0m\u001b[0;34m:\u001b[0m\u001b[0;34m\u001b[0m\u001b[0;34m\u001b[0m\u001b[0m\n\u001b[1;32m   1381\u001b[0m                 \u001b[0mcontext\u001b[0m\u001b[0;34m.\u001b[0m\u001b[0masync_wait\u001b[0m\u001b[0;34m(\u001b[0m\u001b[0;34m)\u001b[0m\u001b[0;34m\u001b[0m\u001b[0;34m\u001b[0m\u001b[0m\n",
      "\u001b[0;32m~/.pyenv/versions/3.8.5/envs/lewagon/lib/python3.8/site-packages/tensorflow/python/eager/def_function.py\u001b[0m in \u001b[0;36m__call__\u001b[0;34m(self, *args, **kwds)\u001b[0m\n\u001b[1;32m    778\u001b[0m       \u001b[0;32melse\u001b[0m\u001b[0;34m:\u001b[0m\u001b[0;34m\u001b[0m\u001b[0;34m\u001b[0m\u001b[0m\n\u001b[1;32m    779\u001b[0m         \u001b[0mcompiler\u001b[0m \u001b[0;34m=\u001b[0m \u001b[0;34m\"nonXla\"\u001b[0m\u001b[0;34m\u001b[0m\u001b[0;34m\u001b[0m\u001b[0m\n\u001b[0;32m--> 780\u001b[0;31m         \u001b[0mresult\u001b[0m \u001b[0;34m=\u001b[0m \u001b[0mself\u001b[0m\u001b[0;34m.\u001b[0m\u001b[0m_call\u001b[0m\u001b[0;34m(\u001b[0m\u001b[0;34m*\u001b[0m\u001b[0margs\u001b[0m\u001b[0;34m,\u001b[0m \u001b[0;34m**\u001b[0m\u001b[0mkwds\u001b[0m\u001b[0;34m)\u001b[0m\u001b[0;34m\u001b[0m\u001b[0;34m\u001b[0m\u001b[0m\n\u001b[0m\u001b[1;32m    781\u001b[0m \u001b[0;34m\u001b[0m\u001b[0m\n\u001b[1;32m    782\u001b[0m       \u001b[0mnew_tracing_count\u001b[0m \u001b[0;34m=\u001b[0m \u001b[0mself\u001b[0m\u001b[0;34m.\u001b[0m\u001b[0m_get_tracing_count\u001b[0m\u001b[0;34m(\u001b[0m\u001b[0;34m)\u001b[0m\u001b[0;34m\u001b[0m\u001b[0;34m\u001b[0m\u001b[0m\n",
      "\u001b[0;32m~/.pyenv/versions/3.8.5/envs/lewagon/lib/python3.8/site-packages/tensorflow/python/eager/def_function.py\u001b[0m in \u001b[0;36m_call\u001b[0;34m(self, *args, **kwds)\u001b[0m\n\u001b[1;32m    812\u001b[0m       \u001b[0;31m# In this case we have not created variables on the first call. So we can\u001b[0m\u001b[0;34m\u001b[0m\u001b[0;34m\u001b[0m\u001b[0;34m\u001b[0m\u001b[0m\n\u001b[1;32m    813\u001b[0m       \u001b[0;31m# run the first trace but we should fail if variables are created.\u001b[0m\u001b[0;34m\u001b[0m\u001b[0;34m\u001b[0m\u001b[0;34m\u001b[0m\u001b[0m\n\u001b[0;32m--> 814\u001b[0;31m       \u001b[0mresults\u001b[0m \u001b[0;34m=\u001b[0m \u001b[0mself\u001b[0m\u001b[0;34m.\u001b[0m\u001b[0m_stateful_fn\u001b[0m\u001b[0;34m(\u001b[0m\u001b[0;34m*\u001b[0m\u001b[0margs\u001b[0m\u001b[0;34m,\u001b[0m \u001b[0;34m**\u001b[0m\u001b[0mkwds\u001b[0m\u001b[0;34m)\u001b[0m\u001b[0;34m\u001b[0m\u001b[0;34m\u001b[0m\u001b[0m\n\u001b[0m\u001b[1;32m    815\u001b[0m       \u001b[0;32mif\u001b[0m \u001b[0mself\u001b[0m\u001b[0;34m.\u001b[0m\u001b[0m_created_variables\u001b[0m\u001b[0;34m:\u001b[0m\u001b[0;34m\u001b[0m\u001b[0;34m\u001b[0m\u001b[0m\n\u001b[1;32m    816\u001b[0m         raise ValueError(\"Creating variables on a non-first call to a function\"\n",
      "\u001b[0;32m~/.pyenv/versions/3.8.5/envs/lewagon/lib/python3.8/site-packages/tensorflow/python/eager/function.py\u001b[0m in \u001b[0;36m__call__\u001b[0;34m(self, *args, **kwargs)\u001b[0m\n\u001b[1;32m   2827\u001b[0m     \u001b[0;32mwith\u001b[0m \u001b[0mself\u001b[0m\u001b[0;34m.\u001b[0m\u001b[0m_lock\u001b[0m\u001b[0;34m:\u001b[0m\u001b[0;34m\u001b[0m\u001b[0;34m\u001b[0m\u001b[0m\n\u001b[1;32m   2828\u001b[0m       \u001b[0mgraph_function\u001b[0m\u001b[0;34m,\u001b[0m \u001b[0margs\u001b[0m\u001b[0;34m,\u001b[0m \u001b[0mkwargs\u001b[0m \u001b[0;34m=\u001b[0m \u001b[0mself\u001b[0m\u001b[0;34m.\u001b[0m\u001b[0m_maybe_define_function\u001b[0m\u001b[0;34m(\u001b[0m\u001b[0margs\u001b[0m\u001b[0;34m,\u001b[0m \u001b[0mkwargs\u001b[0m\u001b[0;34m)\u001b[0m\u001b[0;34m\u001b[0m\u001b[0;34m\u001b[0m\u001b[0m\n\u001b[0;32m-> 2829\u001b[0;31m     \u001b[0;32mreturn\u001b[0m \u001b[0mgraph_function\u001b[0m\u001b[0;34m.\u001b[0m\u001b[0m_filtered_call\u001b[0m\u001b[0;34m(\u001b[0m\u001b[0margs\u001b[0m\u001b[0;34m,\u001b[0m \u001b[0mkwargs\u001b[0m\u001b[0;34m)\u001b[0m  \u001b[0;31m# pylint: disable=protected-access\u001b[0m\u001b[0;34m\u001b[0m\u001b[0;34m\u001b[0m\u001b[0m\n\u001b[0m\u001b[1;32m   2830\u001b[0m \u001b[0;34m\u001b[0m\u001b[0m\n\u001b[1;32m   2831\u001b[0m   \u001b[0;34m@\u001b[0m\u001b[0mproperty\u001b[0m\u001b[0;34m\u001b[0m\u001b[0;34m\u001b[0m\u001b[0m\n",
      "\u001b[0;32m~/.pyenv/versions/3.8.5/envs/lewagon/lib/python3.8/site-packages/tensorflow/python/eager/function.py\u001b[0m in \u001b[0;36m_filtered_call\u001b[0;34m(self, args, kwargs, cancellation_manager)\u001b[0m\n\u001b[1;32m   1841\u001b[0m       \u001b[0;31m`\u001b[0m\u001b[0margs\u001b[0m\u001b[0;31m`\u001b[0m \u001b[0;32mand\u001b[0m\u001b[0;31m \u001b[0m\u001b[0;31m`\u001b[0m\u001b[0mkwargs\u001b[0m\u001b[0;31m`\u001b[0m\u001b[0;34m.\u001b[0m\u001b[0;34m\u001b[0m\u001b[0;34m\u001b[0m\u001b[0m\n\u001b[1;32m   1842\u001b[0m     \"\"\"\n\u001b[0;32m-> 1843\u001b[0;31m     return self._call_flat(\n\u001b[0m\u001b[1;32m   1844\u001b[0m         [t for t in nest.flatten((args, kwargs), expand_composites=True)\n\u001b[1;32m   1845\u001b[0m          if isinstance(t, (ops.Tensor,\n",
      "\u001b[0;32m~/.pyenv/versions/3.8.5/envs/lewagon/lib/python3.8/site-packages/tensorflow/python/eager/function.py\u001b[0m in \u001b[0;36m_call_flat\u001b[0;34m(self, args, captured_inputs, cancellation_manager)\u001b[0m\n\u001b[1;32m   1921\u001b[0m         and executing_eagerly):\n\u001b[1;32m   1922\u001b[0m       \u001b[0;31m# No tape is watching; skip to running the function.\u001b[0m\u001b[0;34m\u001b[0m\u001b[0;34m\u001b[0m\u001b[0;34m\u001b[0m\u001b[0m\n\u001b[0;32m-> 1923\u001b[0;31m       return self._build_call_outputs(self._inference_function.call(\n\u001b[0m\u001b[1;32m   1924\u001b[0m           ctx, args, cancellation_manager=cancellation_manager))\n\u001b[1;32m   1925\u001b[0m     forward_backward = self._select_forward_and_backward_functions(\n",
      "\u001b[0;32m~/.pyenv/versions/3.8.5/envs/lewagon/lib/python3.8/site-packages/tensorflow/python/eager/function.py\u001b[0m in \u001b[0;36mcall\u001b[0;34m(self, ctx, args, cancellation_manager)\u001b[0m\n\u001b[1;32m    543\u001b[0m       \u001b[0;32mwith\u001b[0m \u001b[0m_InterpolateFunctionError\u001b[0m\u001b[0;34m(\u001b[0m\u001b[0mself\u001b[0m\u001b[0;34m)\u001b[0m\u001b[0;34m:\u001b[0m\u001b[0;34m\u001b[0m\u001b[0;34m\u001b[0m\u001b[0m\n\u001b[1;32m    544\u001b[0m         \u001b[0;32mif\u001b[0m \u001b[0mcancellation_manager\u001b[0m \u001b[0;32mis\u001b[0m \u001b[0;32mNone\u001b[0m\u001b[0;34m:\u001b[0m\u001b[0;34m\u001b[0m\u001b[0;34m\u001b[0m\u001b[0m\n\u001b[0;32m--> 545\u001b[0;31m           outputs = execute.execute(\n\u001b[0m\u001b[1;32m    546\u001b[0m               \u001b[0mstr\u001b[0m\u001b[0;34m(\u001b[0m\u001b[0mself\u001b[0m\u001b[0;34m.\u001b[0m\u001b[0msignature\u001b[0m\u001b[0;34m.\u001b[0m\u001b[0mname\u001b[0m\u001b[0;34m)\u001b[0m\u001b[0;34m,\u001b[0m\u001b[0;34m\u001b[0m\u001b[0;34m\u001b[0m\u001b[0m\n\u001b[1;32m    547\u001b[0m               \u001b[0mnum_outputs\u001b[0m\u001b[0;34m=\u001b[0m\u001b[0mself\u001b[0m\u001b[0;34m.\u001b[0m\u001b[0m_num_outputs\u001b[0m\u001b[0;34m,\u001b[0m\u001b[0;34m\u001b[0m\u001b[0;34m\u001b[0m\u001b[0m\n",
      "\u001b[0;32m~/.pyenv/versions/3.8.5/envs/lewagon/lib/python3.8/site-packages/tensorflow/python/eager/execute.py\u001b[0m in \u001b[0;36mquick_execute\u001b[0;34m(op_name, num_outputs, inputs, attrs, ctx, name)\u001b[0m\n\u001b[1;32m     57\u001b[0m   \u001b[0;32mtry\u001b[0m\u001b[0;34m:\u001b[0m\u001b[0;34m\u001b[0m\u001b[0;34m\u001b[0m\u001b[0m\n\u001b[1;32m     58\u001b[0m     \u001b[0mctx\u001b[0m\u001b[0;34m.\u001b[0m\u001b[0mensure_initialized\u001b[0m\u001b[0;34m(\u001b[0m\u001b[0;34m)\u001b[0m\u001b[0;34m\u001b[0m\u001b[0;34m\u001b[0m\u001b[0m\n\u001b[0;32m---> 59\u001b[0;31m     tensors = pywrap_tfe.TFE_Py_Execute(ctx._handle, device_name, op_name,\n\u001b[0m\u001b[1;32m     60\u001b[0m                                         inputs, attrs, num_outputs)\n\u001b[1;32m     61\u001b[0m   \u001b[0;32mexcept\u001b[0m \u001b[0mcore\u001b[0m\u001b[0;34m.\u001b[0m\u001b[0m_NotOkStatusException\u001b[0m \u001b[0;32mas\u001b[0m \u001b[0me\u001b[0m\u001b[0;34m:\u001b[0m\u001b[0;34m\u001b[0m\u001b[0;34m\u001b[0m\u001b[0m\n",
      "\u001b[0;31mKeyboardInterrupt\u001b[0m: "
     ]
    }
   ],
   "source": [
    "\n",
    "#X_train, y_train = X, y\n",
    "\n",
    "\n",
    "from tensorflow.keras.callbacks import EarlyStopping\n",
    "\n",
    "model = init_model()\n",
    "\n",
    "es = EarlyStopping(monitor='val_auc_10', mode='max', verbose=1, patience=5, restore_best_weights=True)\n",
    "\n",
    "history = model.fit(X_train, y_train,\n",
    "            validation_split=0.3,\n",
    "            epochs=100, \n",
    "            batch_size=32\n",
    "            ,callbacks=[es]\n",
    "            ,class_weight=class_weight\n",
    "                   )"
   ]
  },
  {
   "cell_type": "code",
   "execution_count": null,
   "metadata": {
    "ExecuteTime": {
     "end_time": "2021-02-06T09:40:55.938285Z",
     "start_time": "2021-02-06T00:55:29.112Z"
    }
   },
   "outputs": [],
   "source": [
    "import matplotlib.pyplot as plt\n",
    "\n",
    "plt.plot(history.history['val_auc_10'])\n",
    "plt.plot(history.history['val_precision_1'])\n",
    "plt.plot(history.history['val_recall_18'])\n",
    "\n",
    "plt.title('30_Generator')"
   ]
  },
  {
   "cell_type": "code",
   "execution_count": 272,
   "metadata": {
    "ExecuteTime": {
     "end_time": "2021-02-05T19:48:39.273186Z",
     "start_time": "2021-02-05T19:48:30.617941Z"
    }
   },
   "outputs": [
    {
     "name": "stdout",
     "output_type": "stream",
     "text": [
      "Metric on the test set : 0.0000\n"
     ]
    }
   ],
   "source": [
    "res = model.evaluate(X_test, y_test, verbose=0)\n",
    "\n",
    "print(f'Metric on the test set : {res[1]:.4f}')"
   ]
  },
  {
   "cell_type": "code",
   "execution_count": 273,
   "metadata": {
    "ExecuteTime": {
     "end_time": "2021-02-05T19:48:39.282333Z",
     "start_time": "2021-02-05T19:48:39.277802Z"
    }
   },
   "outputs": [
    {
     "data": {
      "text/plain": [
       "[0.7387657165527344, 0.0, 0.0, 0.4396958351135254]"
      ]
     },
     "execution_count": 273,
     "metadata": {},
     "output_type": "execute_result"
    }
   ],
   "source": [
    "res"
   ]
  },
  {
   "cell_type": "code",
   "execution_count": null,
   "metadata": {},
   "outputs": [],
   "source": []
  },
  {
   "cell_type": "code",
   "execution_count": 51,
   "metadata": {
    "ExecuteTime": {
     "end_time": "2021-02-03T22:41:27.518899Z",
     "start_time": "2021-02-03T22:41:27.509467Z"
    }
   },
   "outputs": [
    {
     "data": {
      "text/plain": [
       "4000"
      ]
     },
     "execution_count": 51,
     "metadata": {},
     "output_type": "execute_result"
    }
   ],
   "source": [
    "len(y_train)"
   ]
  },
  {
   "cell_type": "code",
   "execution_count": 52,
   "metadata": {
    "ExecuteTime": {
     "end_time": "2021-02-03T22:42:20.157515Z",
     "start_time": "2021-02-03T22:42:20.152632Z"
    }
   },
   "outputs": [
    {
     "data": {
      "text/plain": [
       "4000"
      ]
     },
     "execution_count": 52,
     "metadata": {},
     "output_type": "execute_result"
    }
   ],
   "source": [
    "len(X_train)"
   ]
  },
  {
   "cell_type": "code",
   "execution_count": 57,
   "metadata": {
    "ExecuteTime": {
     "end_time": "2021-02-03T22:43:47.402370Z",
     "start_time": "2021-02-03T22:43:46.420647Z"
    }
   },
   "outputs": [
    {
     "data": {
      "text/plain": [
       "[<matplotlib.lines.Line2D at 0x146086be0>]"
      ]
     },
     "execution_count": 57,
     "metadata": {},
     "output_type": "execute_result"
    },
    {
     "data": {
      "image/png": "[encoded data removed]",
      "text/plain": [
       "<Figure size 432x288 with 1 Axes>"
      ]
     },
     "metadata": {
      "needs_background": "light"
     },
     "output_type": "display_data"
    }
   ],
   "source": [
    "import matplotlib.pyplot as plt\n",
    "%matplotlib inline\n",
    "plt.plot(y_train)"
   ]
  },
  {
   "cell_type": "code",
   "execution_count": null,
   "metadata": {},
   "outputs": [],
   "source": []
  }
 ],
 "metadata": {
  "kernelspec": {
   "display_name": "Python 3",
   "language": "python",
   "name": "python3"
  }
 },
 "nbformat": 4,
 "nbformat_minor": 4
}
