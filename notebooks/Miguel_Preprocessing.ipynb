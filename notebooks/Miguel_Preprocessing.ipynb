{
 "cells": [
  {
   "cell_type": "code",
   "execution_count": 1,
   "metadata": {
    "ExecuteTime": {
     "end_time": "2021-02-04T13:30:38.656811Z",
     "start_time": "2021-02-04T13:30:37.571473Z"
    }
   },
   "outputs": [],
   "source": [
    "import pandas as pd\n",
    "import numpy as np"
   ]
  },
  {
   "cell_type": "code",
   "execution_count": 2,
   "metadata": {
    "ExecuteTime": {
     "end_time": "2021-02-04T13:30:59.221940Z",
     "start_time": "2021-02-04T13:30:48.724248Z"
    }
   },
   "outputs": [],
   "source": [
    "import sklearn\n"
   ]
  },
  {
   "cell_type": "code",
   "execution_count": 3,
   "metadata": {
    "ExecuteTime": {
     "end_time": "2021-02-04T13:31:08.767200Z",
     "start_time": "2021-02-04T13:31:08.760523Z"
    }
   },
   "outputs": [],
   "source": [
    "columns_drop_metmast = ['Min_Raindetection', 'Avg_Raindetection', 'Avg_Raindetection', 'Anemometer1_Freq', 'Anemometer1_Offset', 'Anemometer1_CorrGain', 'Anemometer1_CorrOffset', 'Anemometer2_Freq', 'Anemometer2_Offset', 'Anemometer2_CorrGain', 'Anemometer2_CorrOffset', 'DistanceAirPress', 'AirRessureSensorZeroOffset']\n",
    "columns_drop_signals = ['Prod_LatestAvg_ActPwrGen2', 'Prod_LatestAvg_ReactPwrGen2']\n"
   ]
  },
  {
   "cell_type": "code",
   "execution_count": 4,
   "metadata": {
    "ExecuteTime": {
     "end_time": "2021-02-04T13:31:09.367893Z",
     "start_time": "2021-02-04T13:31:09.343324Z"
    }
   },
   "outputs": [],
   "source": [
    "df_failures = pd.read_csv(r'../rawdata/wind-farm-1-failures-training.csv', sep=';')\n"
   ]
  },
  {
   "cell_type": "code",
   "execution_count": 200,
   "metadata": {
    "ExecuteTime": {
     "end_time": "2021-02-05T10:07:36.350489Z",
     "start_time": "2021-02-05T10:07:32.525441Z"
    }
   },
   "outputs": [
    {
     "data": {
      "text/plain": [
       "Index(['Turbine_ID', 'Timestamp', 'Gen_RPM_Max', 'Gen_RPM_Min', 'Gen_RPM_Avg',\n",
       "       'Gen_RPM_Std', 'Gen_Bear_Temp_Avg', 'Gen_Phase1_Temp_Avg',\n",
       "       'Gen_Phase2_Temp_Avg', 'Gen_Phase3_Temp_Avg', 'Hyd_Oil_Temp_Avg',\n",
       "       'Gear_Oil_Temp_Avg', 'Gear_Bear_Temp_Avg', 'Nac_Temp_Avg',\n",
       "       'Rtr_RPM_Max', 'Rtr_RPM_Min', 'Rtr_RPM_Avg', 'Amb_WindSpeed_Max',\n",
       "       'Amb_WindSpeed_Min', 'Amb_WindSpeed_Avg', 'Amb_WindSpeed_Std',\n",
       "       'Amb_WindDir_Relative_Avg', 'Amb_WindDir_Abs_Avg', 'Amb_Temp_Avg',\n",
       "       'Prod_LatestAvg_ActPwrGen0', 'Prod_LatestAvg_ActPwrGen1',\n",
       "       'Prod_LatestAvg_ActPwrGen2', 'Prod_LatestAvg_TotActPwr',\n",
       "       'Prod_LatestAvg_ReactPwrGen0', 'Prod_LatestAvg_ReactPwrGen1',\n",
       "       'Prod_LatestAvg_ReactPwrGen2', 'Prod_LatestAvg_TotReactPwr',\n",
       "       'HVTrafo_Phase1_Temp_Avg', 'HVTrafo_Phase2_Temp_Avg',\n",
       "       'HVTrafo_Phase3_Temp_Avg', 'Grd_InverterPhase1_Temp_Avg',\n",
       "       'Cont_Top_Temp_Avg', 'Cont_Hub_Temp_Avg', 'Cont_VCP_Temp_Avg',\n",
       "       'Gen_SlipRing_Temp_Avg', 'Spin_Temp_Avg', 'Blds_PitchAngle_Min',\n",
       "       'Blds_PitchAngle_Max', 'Blds_PitchAngle_Avg', 'Blds_PitchAngle_Std',\n",
       "       'Cont_VCP_ChokcoilTemp_Avg', 'Grd_RtrInvPhase1_Temp_Avg',\n",
       "       'Grd_RtrInvPhase2_Temp_Avg', 'Grd_RtrInvPhase3_Temp_Avg',\n",
       "       'Cont_VCP_WtrTemp_Avg', 'Grd_Prod_Pwr_Avg', 'Grd_Prod_CosPhi_Avg',\n",
       "       'Grd_Prod_Freq_Avg', 'Grd_Prod_VoltPhse1_Avg', 'Grd_Prod_VoltPhse2_Avg',\n",
       "       'Grd_Prod_VoltPhse3_Avg', 'Grd_Prod_CurPhse1_Avg',\n",
       "       'Grd_Prod_CurPhse2_Avg', 'Grd_Prod_CurPhse3_Avg', 'Grd_Prod_Pwr_Max',\n",
       "       'Grd_Prod_Pwr_Min', 'Grd_Busbar_Temp_Avg', 'Rtr_RPM_Std',\n",
       "       'Amb_WindSpeed_Est_Avg', 'Grd_Prod_Pwr_Std', 'Grd_Prod_ReactPwr_Avg',\n",
       "       'Grd_Prod_ReactPwr_Max', 'Grd_Prod_ReactPwr_Min',\n",
       "       'Grd_Prod_ReactPwr_Std', 'Grd_Prod_PsblePwr_Avg',\n",
       "       'Grd_Prod_PsblePwr_Max', 'Grd_Prod_PsblePwr_Min',\n",
       "       'Grd_Prod_PsblePwr_Std', 'Grd_Prod_PsbleInd_Avg',\n",
       "       'Grd_Prod_PsbleInd_Max', 'Grd_Prod_PsbleInd_Min',\n",
       "       'Grd_Prod_PsbleInd_Std', 'Grd_Prod_PsbleCap_Avg',\n",
       "       'Grd_Prod_PsbleCap_Max', 'Grd_Prod_PsbleCap_Min',\n",
       "       'Grd_Prod_PsbleCap_Std', 'Gen_Bear2_Temp_Avg', 'Nac_Direction_Avg'],\n",
       "      dtype='object')"
      ]
     },
     "execution_count": 200,
     "metadata": {},
     "output_type": "execute_result"
    }
   ],
   "source": [
    "df_signals = pd.read_csv('../rawdata/wind-farm-1-signals-training.csv', sep=';')#, nrows=100000)\n",
    "df_signals.columns"
   ]
  },
  {
   "cell_type": "code",
   "execution_count": 201,
   "metadata": {
    "ExecuteTime": {
     "end_time": "2021-02-05T10:07:37.391702Z",
     "start_time": "2021-02-05T10:07:37.383383Z"
    }
   },
   "outputs": [],
   "source": [
    "columns_gen=['Turbine_ID','Timestamp',\n",
    "             \n",
    "             'Gen_RPM_Max', 'Gen_RPM_Min', 'Gen_RPM_Avg',\n",
    "       'Gen_RPM_Std', 'Gen_Bear_Temp_Avg', 'Gen_Phase1_Temp_Avg',\n",
    "       'Gen_Phase2_Temp_Avg', 'Gen_Phase3_Temp_Avg',\n",
    "            \n",
    "            'Prod_LatestAvg_ActPwrGen0', 'Prod_LatestAvg_ActPwrGen1',\n",
    "      # 'Prod_LatestAvg_ActPwrGen2', \n",
    "             \n",
    "             'Prod_LatestAvg_TotActPwr',\n",
    "       'Prod_LatestAvg_ReactPwrGen0', 'Prod_LatestAvg_ReactPwrGen1',\n",
    "      # 'Prod_LatestAvg_ReactPwrGen2',\n",
    "             \n",
    "             'Prod_LatestAvg_TotReactPwr',\n",
    "             \n",
    "             'Gen_SlipRing_Temp_Avg',\n",
    "             \n",
    "             'Gen_Bear2_Temp_Avg'\n",
    "            ]"
   ]
  },
  {
   "cell_type": "code",
   "execution_count": 202,
   "metadata": {
    "ExecuteTime": {
     "end_time": "2021-02-05T10:07:38.968296Z",
     "start_time": "2021-02-05T10:07:38.033409Z"
    }
   },
   "outputs": [
    {
     "data": {
      "text/html": [
       "<div>\n",
       "<style scoped>\n",
       "    .dataframe tbody tr th:only-of-type {\n",
       "        vertical-align: middle;\n",
       "    }\n",
       "\n",
       "    .dataframe tbody tr th {\n",
       "        vertical-align: top;\n",
       "    }\n",
       "\n",
       "    .dataframe thead th {\n",
       "        text-align: right;\n",
       "    }\n",
       "</style>\n",
       "<table border=\"1\" class=\"dataframe\">\n",
       "  <thead>\n",
       "    <tr style=\"text-align: right;\">\n",
       "      <th></th>\n",
       "      <th>Turbine_ID</th>\n",
       "      <th>Timestamp</th>\n",
       "      <th>Gen_RPM_Max</th>\n",
       "      <th>Gen_RPM_Min</th>\n",
       "      <th>Gen_RPM_Avg</th>\n",
       "      <th>Gen_RPM_Std</th>\n",
       "      <th>Gen_Bear_Temp_Avg</th>\n",
       "      <th>Gen_Phase1_Temp_Avg</th>\n",
       "      <th>Gen_Phase2_Temp_Avg</th>\n",
       "      <th>Gen_Phase3_Temp_Avg</th>\n",
       "      <th>Prod_LatestAvg_ActPwrGen0</th>\n",
       "      <th>Prod_LatestAvg_ActPwrGen1</th>\n",
       "      <th>Prod_LatestAvg_TotActPwr</th>\n",
       "      <th>Prod_LatestAvg_ReactPwrGen0</th>\n",
       "      <th>Prod_LatestAvg_ReactPwrGen1</th>\n",
       "      <th>Prod_LatestAvg_TotReactPwr</th>\n",
       "      <th>Gen_SlipRing_Temp_Avg</th>\n",
       "      <th>Gen_Bear2_Temp_Avg</th>\n",
       "    </tr>\n",
       "  </thead>\n",
       "  <tbody>\n",
       "    <tr>\n",
       "      <th>0</th>\n",
       "      <td>T11</td>\n",
       "      <td>2016-01-01</td>\n",
       "      <td>1339.4</td>\n",
       "      <td>1233.3</td>\n",
       "      <td>1270.9</td>\n",
       "      <td>18.8</td>\n",
       "      <td>42.0</td>\n",
       "      <td>59</td>\n",
       "      <td>61</td>\n",
       "      <td>60</td>\n",
       "      <td>0</td>\n",
       "      <td>41059.0</td>\n",
       "      <td>41059.0</td>\n",
       "      <td>0</td>\n",
       "      <td>-13521</td>\n",
       "      <td>-13521</td>\n",
       "      <td>27</td>\n",
       "      <td>38</td>\n",
       "    </tr>\n",
       "    <tr>\n",
       "      <th>1</th>\n",
       "      <td>T06</td>\n",
       "      <td>2016-01-01</td>\n",
       "      <td>1270.0</td>\n",
       "      <td>1232.8</td>\n",
       "      <td>1248.5</td>\n",
       "      <td>6.8</td>\n",
       "      <td>42.0</td>\n",
       "      <td>51</td>\n",
       "      <td>52</td>\n",
       "      <td>53</td>\n",
       "      <td>0</td>\n",
       "      <td>10465.0</td>\n",
       "      <td>10465.0</td>\n",
       "      <td>0</td>\n",
       "      <td>-12621</td>\n",
       "      <td>-12621</td>\n",
       "      <td>26</td>\n",
       "      <td>35</td>\n",
       "    </tr>\n",
       "    <tr>\n",
       "      <th>2</th>\n",
       "      <td>T01</td>\n",
       "      <td>2016-01-01</td>\n",
       "      <td>1277.4</td>\n",
       "      <td>1226.1</td>\n",
       "      <td>1249.0</td>\n",
       "      <td>9.0</td>\n",
       "      <td>41.0</td>\n",
       "      <td>58</td>\n",
       "      <td>59</td>\n",
       "      <td>58</td>\n",
       "      <td>-107</td>\n",
       "      <td>4420.0</td>\n",
       "      <td>4313.0</td>\n",
       "      <td>-99</td>\n",
       "      <td>-5636</td>\n",
       "      <td>-5735</td>\n",
       "      <td>25</td>\n",
       "      <td>37</td>\n",
       "    </tr>\n",
       "    <tr>\n",
       "      <th>3</th>\n",
       "      <td>T09</td>\n",
       "      <td>2016-01-01</td>\n",
       "      <td>1376.7</td>\n",
       "      <td>1234.3</td>\n",
       "      <td>1272.0</td>\n",
       "      <td>24.7</td>\n",
       "      <td>40.0</td>\n",
       "      <td>58</td>\n",
       "      <td>57</td>\n",
       "      <td>58</td>\n",
       "      <td>0</td>\n",
       "      <td>33173.0</td>\n",
       "      <td>33173.0</td>\n",
       "      <td>0</td>\n",
       "      <td>-13513</td>\n",
       "      <td>-13513</td>\n",
       "      <td>26</td>\n",
       "      <td>33</td>\n",
       "    </tr>\n",
       "    <tr>\n",
       "      <th>4</th>\n",
       "      <td>T07</td>\n",
       "      <td>2016-01-01</td>\n",
       "      <td>1317.5</td>\n",
       "      <td>1229.5</td>\n",
       "      <td>1254.9</td>\n",
       "      <td>13.8</td>\n",
       "      <td>41.0</td>\n",
       "      <td>62</td>\n",
       "      <td>62</td>\n",
       "      <td>61</td>\n",
       "      <td>0</td>\n",
       "      <td>18831.0</td>\n",
       "      <td>18831.0</td>\n",
       "      <td>0</td>\n",
       "      <td>-11991</td>\n",
       "      <td>-11991</td>\n",
       "      <td>26</td>\n",
       "      <td>39</td>\n",
       "    </tr>\n",
       "  </tbody>\n",
       "</table>\n",
       "</div>"
      ],
      "text/plain": [
       "  Turbine_ID  Timestamp  Gen_RPM_Max  Gen_RPM_Min  Gen_RPM_Avg  Gen_RPM_Std  \\\n",
       "0        T11 2016-01-01       1339.4       1233.3       1270.9         18.8   \n",
       "1        T06 2016-01-01       1270.0       1232.8       1248.5          6.8   \n",
       "2        T01 2016-01-01       1277.4       1226.1       1249.0          9.0   \n",
       "3        T09 2016-01-01       1376.7       1234.3       1272.0         24.7   \n",
       "4        T07 2016-01-01       1317.5       1229.5       1254.9         13.8   \n",
       "\n",
       "   Gen_Bear_Temp_Avg  Gen_Phase1_Temp_Avg  Gen_Phase2_Temp_Avg  \\\n",
       "0               42.0                   59                   61   \n",
       "1               42.0                   51                   52   \n",
       "2               41.0                   58                   59   \n",
       "3               40.0                   58                   57   \n",
       "4               41.0                   62                   62   \n",
       "\n",
       "   Gen_Phase3_Temp_Avg  Prod_LatestAvg_ActPwrGen0  Prod_LatestAvg_ActPwrGen1  \\\n",
       "0                   60                          0                    41059.0   \n",
       "1                   53                          0                    10465.0   \n",
       "2                   58                       -107                     4420.0   \n",
       "3                   58                          0                    33173.0   \n",
       "4                   61                          0                    18831.0   \n",
       "\n",
       "   Prod_LatestAvg_TotActPwr  Prod_LatestAvg_ReactPwrGen0  \\\n",
       "0                   41059.0                            0   \n",
       "1                   10465.0                            0   \n",
       "2                    4313.0                          -99   \n",
       "3                   33173.0                            0   \n",
       "4                   18831.0                            0   \n",
       "\n",
       "   Prod_LatestAvg_ReactPwrGen1  Prod_LatestAvg_TotReactPwr  \\\n",
       "0                       -13521                      -13521   \n",
       "1                       -12621                      -12621   \n",
       "2                        -5636                       -5735   \n",
       "3                       -13513                      -13513   \n",
       "4                       -11991                      -11991   \n",
       "\n",
       "   Gen_SlipRing_Temp_Avg  Gen_Bear2_Temp_Avg  \n",
       "0                     27                  38  \n",
       "1                     26                  35  \n",
       "2                     25                  37  \n",
       "3                     26                  33  \n",
       "4                     26                  39  "
      ]
     },
     "execution_count": 202,
     "metadata": {},
     "output_type": "execute_result"
    }
   ],
   "source": [
    "\n",
    "df_signals = df_signals.drop(columns=columns_drop_signals)\n",
    "df_signals = df_signals[columns_gen]\n",
    "df_signals['Timestamp']=pd.to_datetime(df_signals['Timestamp']).dt.tz_convert(None)\n",
    "df_signals.head()"
   ]
  },
  {
   "cell_type": "code",
   "execution_count": 203,
   "metadata": {
    "ExecuteTime": {
     "end_time": "2021-02-05T10:07:59.190538Z",
     "start_time": "2021-02-05T10:07:59.178597Z"
    }
   },
   "outputs": [
    {
     "data": {
      "text/plain": [
       "(434145, 18)"
      ]
     },
     "execution_count": 203,
     "metadata": {},
     "output_type": "execute_result"
    }
   ],
   "source": [
    "df_signals.shape"
   ]
  },
  {
   "cell_type": "markdown",
   "metadata": {},
   "source": [
    "1-dataset tem de estar ordenado primeiro por turbina e depois por timestamp (ascendente)"
   ]
  },
  {
   "cell_type": "code",
   "execution_count": 204,
   "metadata": {
    "ExecuteTime": {
     "end_time": "2021-02-05T10:08:06.123928Z",
     "start_time": "2021-02-05T10:08:06.111538Z"
    }
   },
   "outputs": [],
   "source": [
    "def subsample_sequence(df, length, turbine):\n",
    "        \n",
    "    last_possible = df[df['Turbine_ID']==turbine].shape[0] - length\n",
    "\n",
    "    random_start = np.random.randint(0, last_possible)\n",
    "    df_sample = df[df['Turbine_ID']==turbine][random_start: random_start+length]\n",
    "\n",
    "    return df_sample\n",
    "\n"
   ]
  },
  {
   "cell_type": "code",
   "execution_count": 205,
   "metadata": {
    "ExecuteTime": {
     "end_time": "2021-02-05T10:08:07.163739Z",
     "start_time": "2021-02-05T10:08:07.153787Z"
    }
   },
   "outputs": [],
   "source": [
    "\n",
    "def split_subsample_sequence(df, length, target, turbine):\n",
    "\n",
    "              \n",
    "    df_subsample = subsample_sequence(df, length, turbine)\n",
    "    y_sample = df_subsample.iloc[df_subsample.shape[0]-1][target]\n",
    "    \n",
    "    \n",
    "    X_sample = df_subsample[0:df_subsample.shape[0]].drop(columns=[target,'Turbine_ID','Timestamp'])\n",
    "    X_sample = X_sample.values\n",
    "    \n",
    "    return np.array(X_sample), np.array(y_sample)"
   ]
  },
  {
   "cell_type": "code",
   "execution_count": 206,
   "metadata": {
    "ExecuteTime": {
     "end_time": "2021-02-05T10:08:07.916393Z",
     "start_time": "2021-02-05T10:08:07.905827Z"
    }
   },
   "outputs": [],
   "source": [
    "def get_X_y(df, number_of_sequences, length, target):\n",
    "    X, y = [], []\n",
    "    \n",
    "    for turbine in ['T01','T06', 'T07', 'T09', 'T11']:\n",
    "\n",
    "        for i in range(number_of_sequences):\n",
    "            xi, yi = split_subsample_sequence(df, length, target, turbine)\n",
    "            X.append(xi)\n",
    "            y.append(yi)\n",
    "\n",
    "    X = np.array(X)\n",
    "    y = np.array(y)\n",
    "        \n",
    "    return X, y"
   ]
  },
  {
   "cell_type": "code",
   "execution_count": 207,
   "metadata": {
    "ExecuteTime": {
     "end_time": "2021-02-05T10:08:08.620546Z",
     "start_time": "2021-02-05T10:08:08.611202Z"
    }
   },
   "outputs": [],
   "source": [
    "#1º argumento: dataframe\n",
    "#2º argumento: número de sequencias a gerar para cada uma das turbinas\n",
    "#3º argumento: comprimento de cada uma das sequências (nº de timestamps recolhidos para formar uma sequencia)\n",
    "#4º argumento: especificar a variavel target\n",
    "    \n",
    "#get_X_y(df_signals,3, 4, 'Gen_RPM_Max')"
   ]
  },
  {
   "cell_type": "code",
   "execution_count": 208,
   "metadata": {
    "ExecuteTime": {
     "end_time": "2021-02-05T10:08:10.043720Z",
     "start_time": "2021-02-05T10:08:09.017818Z"
    }
   },
   "outputs": [],
   "source": [
    "X, y = get_X_y(df_signals,3, 4, 'Gen_RPM_Max')"
   ]
  },
  {
   "cell_type": "code",
   "execution_count": 209,
   "metadata": {
    "ExecuteTime": {
     "end_time": "2021-02-05T10:08:13.556192Z",
     "start_time": "2021-02-05T10:08:13.550766Z"
    }
   },
   "outputs": [
    {
     "name": "stdout",
     "output_type": "stream",
     "text": [
      "(15, 4, 15)\n"
     ]
    }
   ],
   "source": [
    "print(np.shape(X))\n"
   ]
  },
  {
   "cell_type": "code",
   "execution_count": 210,
   "metadata": {
    "ExecuteTime": {
     "end_time": "2021-02-05T10:08:14.686264Z",
     "start_time": "2021-02-05T10:08:14.681175Z"
    }
   },
   "outputs": [],
   "source": [
    "import numpy as np"
   ]
  },
  {
   "cell_type": "code",
   "execution_count": 211,
   "metadata": {
    "ExecuteTime": {
     "end_time": "2021-02-05T10:08:15.321209Z",
     "start_time": "2021-02-05T10:08:15.315245Z"
    }
   },
   "outputs": [],
   "source": [
    "from tensorflow.keras.callbacks import EarlyStopping\n"
   ]
  },
  {
   "cell_type": "code",
   "execution_count": 21,
   "metadata": {
    "ExecuteTime": {
     "end_time": "2021-02-03T22:04:51.983598Z",
     "start_time": "2021-02-03T22:04:51.906297Z"
    }
   },
   "outputs": [
    {
     "data": {
      "text/html": [
       "<div>\n",
       "<style scoped>\n",
       "    .dataframe tbody tr th:only-of-type {\n",
       "        vertical-align: middle;\n",
       "    }\n",
       "\n",
       "    .dataframe tbody tr th {\n",
       "        vertical-align: top;\n",
       "    }\n",
       "\n",
       "    .dataframe thead th {\n",
       "        text-align: right;\n",
       "    }\n",
       "</style>\n",
       "<table border=\"1\" class=\"dataframe\">\n",
       "  <thead>\n",
       "    <tr style=\"text-align: right;\">\n",
       "      <th></th>\n",
       "      <th>Turbine_ID</th>\n",
       "      <th>Timestamp</th>\n",
       "      <th>Gen_RPM_Max</th>\n",
       "      <th>Gen_RPM_Min</th>\n",
       "      <th>Gen_RPM_Avg</th>\n",
       "      <th>Gen_RPM_Std</th>\n",
       "      <th>Gen_Bear_Temp_Avg</th>\n",
       "      <th>Gen_Phase1_Temp_Avg</th>\n",
       "    </tr>\n",
       "  </thead>\n",
       "  <tbody>\n",
       "    <tr>\n",
       "      <th>0</th>\n",
       "      <td>T11</td>\n",
       "      <td>2016-01-01 00:00:00+00:00</td>\n",
       "      <td>1339.4</td>\n",
       "      <td>1233.3</td>\n",
       "      <td>1270.9</td>\n",
       "      <td>18.8</td>\n",
       "      <td>42.0</td>\n",
       "      <td>59</td>\n",
       "    </tr>\n",
       "    <tr>\n",
       "      <th>1</th>\n",
       "      <td>T06</td>\n",
       "      <td>2016-01-01 00:00:00+00:00</td>\n",
       "      <td>1270.0</td>\n",
       "      <td>1232.8</td>\n",
       "      <td>1248.5</td>\n",
       "      <td>6.8</td>\n",
       "      <td>42.0</td>\n",
       "      <td>51</td>\n",
       "    </tr>\n",
       "    <tr>\n",
       "      <th>2</th>\n",
       "      <td>T01</td>\n",
       "      <td>2016-01-01 00:00:00+00:00</td>\n",
       "      <td>1277.4</td>\n",
       "      <td>1226.1</td>\n",
       "      <td>1249.0</td>\n",
       "      <td>9.0</td>\n",
       "      <td>41.0</td>\n",
       "      <td>58</td>\n",
       "    </tr>\n",
       "    <tr>\n",
       "      <th>3</th>\n",
       "      <td>T09</td>\n",
       "      <td>2016-01-01 00:00:00+00:00</td>\n",
       "      <td>1376.7</td>\n",
       "      <td>1234.3</td>\n",
       "      <td>1272.0</td>\n",
       "      <td>24.7</td>\n",
       "      <td>40.0</td>\n",
       "      <td>58</td>\n",
       "    </tr>\n",
       "    <tr>\n",
       "      <th>4</th>\n",
       "      <td>T07</td>\n",
       "      <td>2016-01-01 00:00:00+00:00</td>\n",
       "      <td>1317.5</td>\n",
       "      <td>1229.5</td>\n",
       "      <td>1254.9</td>\n",
       "      <td>13.8</td>\n",
       "      <td>41.0</td>\n",
       "      <td>62</td>\n",
       "    </tr>\n",
       "  </tbody>\n",
       "</table>\n",
       "</div>"
      ],
      "text/plain": [
       "  Turbine_ID                 Timestamp  Gen_RPM_Max  Gen_RPM_Min  Gen_RPM_Avg  \\\n",
       "0        T11 2016-01-01 00:00:00+00:00       1339.4       1233.3       1270.9   \n",
       "1        T06 2016-01-01 00:00:00+00:00       1270.0       1232.8       1248.5   \n",
       "2        T01 2016-01-01 00:00:00+00:00       1277.4       1226.1       1249.0   \n",
       "3        T09 2016-01-01 00:00:00+00:00       1376.7       1234.3       1272.0   \n",
       "4        T07 2016-01-01 00:00:00+00:00       1317.5       1229.5       1254.9   \n",
       "\n",
       "   Gen_RPM_Std  Gen_Bear_Temp_Avg  Gen_Phase1_Temp_Avg  \n",
       "0         18.8               42.0                   59  \n",
       "1          6.8               42.0                   51  \n",
       "2          9.0               41.0                   58  \n",
       "3         24.7               40.0                   58  \n",
       "4         13.8               41.0                   62  "
      ]
     },
     "execution_count": 21,
     "metadata": {},
     "output_type": "execute_result"
    }
   ],
   "source": [
    "df_signals.head()"
   ]
  },
  {
   "cell_type": "code",
   "execution_count": 22,
   "metadata": {
    "ExecuteTime": {
     "end_time": "2021-02-03T22:04:59.004481Z",
     "start_time": "2021-02-03T22:04:58.967127Z"
    }
   },
   "outputs": [
    {
     "data": {
      "text/html": [
       "<div>\n",
       "<style scoped>\n",
       "    .dataframe tbody tr th:only-of-type {\n",
       "        vertical-align: middle;\n",
       "    }\n",
       "\n",
       "    .dataframe tbody tr th {\n",
       "        vertical-align: top;\n",
       "    }\n",
       "\n",
       "    .dataframe thead th {\n",
       "        text-align: right;\n",
       "    }\n",
       "</style>\n",
       "<table border=\"1\" class=\"dataframe\">\n",
       "  <thead>\n",
       "    <tr style=\"text-align: right;\">\n",
       "      <th></th>\n",
       "      <th>Timestamp</th>\n",
       "      <th>Turbine_ID</th>\n",
       "      <th>Fail_60_GEARBOX</th>\n",
       "      <th>Fail_60_GENERATOR</th>\n",
       "      <th>Fail_60_GENERATOR_BEARING</th>\n",
       "      <th>Fail_60_TRANSFORMER</th>\n",
       "      <th>Fail_60_HYDRAULIC_GROUP</th>\n",
       "      <th>Fail_50_GEARBOX</th>\n",
       "      <th>Fail_50_GENERATOR</th>\n",
       "      <th>Fail_50_GENERATOR_BEARING</th>\n",
       "      <th>...</th>\n",
       "      <th>Fail_20_GEARBOX</th>\n",
       "      <th>Fail_20_GENERATOR</th>\n",
       "      <th>Fail_20_GENERATOR_BEARING</th>\n",
       "      <th>Fail_20_TRANSFORMER</th>\n",
       "      <th>Fail_20_HYDRAULIC_GROUP</th>\n",
       "      <th>Fail_10_GEARBOX</th>\n",
       "      <th>Fail_10_GENERATOR</th>\n",
       "      <th>Fail_10_GENERATOR_BEARING</th>\n",
       "      <th>Fail_10_TRANSFORMER</th>\n",
       "      <th>Fail_10_HYDRAULIC_GROUP</th>\n",
       "    </tr>\n",
       "  </thead>\n",
       "  <tbody>\n",
       "    <tr>\n",
       "      <th>0</th>\n",
       "      <td>2016-01-01 00:00:00</td>\n",
       "      <td>T01</td>\n",
       "      <td>0</td>\n",
       "      <td>0</td>\n",
       "      <td>0</td>\n",
       "      <td>0</td>\n",
       "      <td>0</td>\n",
       "      <td>0</td>\n",
       "      <td>0</td>\n",
       "      <td>0</td>\n",
       "      <td>...</td>\n",
       "      <td>0</td>\n",
       "      <td>0</td>\n",
       "      <td>0</td>\n",
       "      <td>0</td>\n",
       "      <td>0</td>\n",
       "      <td>0</td>\n",
       "      <td>0</td>\n",
       "      <td>0</td>\n",
       "      <td>0</td>\n",
       "      <td>0</td>\n",
       "    </tr>\n",
       "    <tr>\n",
       "      <th>1</th>\n",
       "      <td>2016-01-01 00:10:00</td>\n",
       "      <td>T01</td>\n",
       "      <td>0</td>\n",
       "      <td>0</td>\n",
       "      <td>0</td>\n",
       "      <td>0</td>\n",
       "      <td>0</td>\n",
       "      <td>0</td>\n",
       "      <td>0</td>\n",
       "      <td>0</td>\n",
       "      <td>...</td>\n",
       "      <td>0</td>\n",
       "      <td>0</td>\n",
       "      <td>0</td>\n",
       "      <td>0</td>\n",
       "      <td>0</td>\n",
       "      <td>0</td>\n",
       "      <td>0</td>\n",
       "      <td>0</td>\n",
       "      <td>0</td>\n",
       "      <td>0</td>\n",
       "    </tr>\n",
       "    <tr>\n",
       "      <th>2</th>\n",
       "      <td>2016-01-01 00:20:00</td>\n",
       "      <td>T01</td>\n",
       "      <td>0</td>\n",
       "      <td>0</td>\n",
       "      <td>0</td>\n",
       "      <td>0</td>\n",
       "      <td>0</td>\n",
       "      <td>0</td>\n",
       "      <td>0</td>\n",
       "      <td>0</td>\n",
       "      <td>...</td>\n",
       "      <td>0</td>\n",
       "      <td>0</td>\n",
       "      <td>0</td>\n",
       "      <td>0</td>\n",
       "      <td>0</td>\n",
       "      <td>0</td>\n",
       "      <td>0</td>\n",
       "      <td>0</td>\n",
       "      <td>0</td>\n",
       "      <td>0</td>\n",
       "    </tr>\n",
       "    <tr>\n",
       "      <th>3</th>\n",
       "      <td>2016-01-01 00:30:00</td>\n",
       "      <td>T01</td>\n",
       "      <td>0</td>\n",
       "      <td>0</td>\n",
       "      <td>0</td>\n",
       "      <td>0</td>\n",
       "      <td>0</td>\n",
       "      <td>0</td>\n",
       "      <td>0</td>\n",
       "      <td>0</td>\n",
       "      <td>...</td>\n",
       "      <td>0</td>\n",
       "      <td>0</td>\n",
       "      <td>0</td>\n",
       "      <td>0</td>\n",
       "      <td>0</td>\n",
       "      <td>0</td>\n",
       "      <td>0</td>\n",
       "      <td>0</td>\n",
       "      <td>0</td>\n",
       "      <td>0</td>\n",
       "    </tr>\n",
       "    <tr>\n",
       "      <th>4</th>\n",
       "      <td>2016-01-01 00:40:00</td>\n",
       "      <td>T01</td>\n",
       "      <td>0</td>\n",
       "      <td>0</td>\n",
       "      <td>0</td>\n",
       "      <td>0</td>\n",
       "      <td>0</td>\n",
       "      <td>0</td>\n",
       "      <td>0</td>\n",
       "      <td>0</td>\n",
       "      <td>...</td>\n",
       "      <td>0</td>\n",
       "      <td>0</td>\n",
       "      <td>0</td>\n",
       "      <td>0</td>\n",
       "      <td>0</td>\n",
       "      <td>0</td>\n",
       "      <td>0</td>\n",
       "      <td>0</td>\n",
       "      <td>0</td>\n",
       "      <td>0</td>\n",
       "    </tr>\n",
       "  </tbody>\n",
       "</table>\n",
       "<p>5 rows × 32 columns</p>\n",
       "</div>"
      ],
      "text/plain": [
       "             Timestamp Turbine_ID  Fail_60_GEARBOX  Fail_60_GENERATOR  \\\n",
       "0  2016-01-01 00:00:00        T01                0                  0   \n",
       "1  2016-01-01 00:10:00        T01                0                  0   \n",
       "2  2016-01-01 00:20:00        T01                0                  0   \n",
       "3  2016-01-01 00:30:00        T01                0                  0   \n",
       "4  2016-01-01 00:40:00        T01                0                  0   \n",
       "\n",
       "   Fail_60_GENERATOR_BEARING  Fail_60_TRANSFORMER  Fail_60_HYDRAULIC_GROUP  \\\n",
       "0                          0                    0                        0   \n",
       "1                          0                    0                        0   \n",
       "2                          0                    0                        0   \n",
       "3                          0                    0                        0   \n",
       "4                          0                    0                        0   \n",
       "\n",
       "   Fail_50_GEARBOX  Fail_50_GENERATOR  Fail_50_GENERATOR_BEARING  ...  \\\n",
       "0                0                  0                          0  ...   \n",
       "1                0                  0                          0  ...   \n",
       "2                0                  0                          0  ...   \n",
       "3                0                  0                          0  ...   \n",
       "4                0                  0                          0  ...   \n",
       "\n",
       "   Fail_20_GEARBOX  Fail_20_GENERATOR  Fail_20_GENERATOR_BEARING  \\\n",
       "0                0                  0                          0   \n",
       "1                0                  0                          0   \n",
       "2                0                  0                          0   \n",
       "3                0                  0                          0   \n",
       "4                0                  0                          0   \n",
       "\n",
       "   Fail_20_TRANSFORMER  Fail_20_HYDRAULIC_GROUP  Fail_10_GEARBOX  \\\n",
       "0                    0                        0                0   \n",
       "1                    0                        0                0   \n",
       "2                    0                        0                0   \n",
       "3                    0                        0                0   \n",
       "4                    0                        0                0   \n",
       "\n",
       "   Fail_10_GENERATOR  Fail_10_GENERATOR_BEARING  Fail_10_TRANSFORMER  \\\n",
       "0                  0                          0                    0   \n",
       "1                  0                          0                    0   \n",
       "2                  0                          0                    0   \n",
       "3                  0                          0                    0   \n",
       "4                  0                          0                    0   \n",
       "\n",
       "   Fail_10_HYDRAULIC_GROUP  \n",
       "0                        0  \n",
       "1                        0  \n",
       "2                        0  \n",
       "3                        0  \n",
       "4                        0  \n",
       "\n",
       "[5 rows x 32 columns]"
      ]
     },
     "execution_count": 22,
     "metadata": {},
     "output_type": "execute_result"
    }
   ],
   "source": [
    "df_target.head()"
   ]
  },
  {
   "cell_type": "code",
   "execution_count": 11,
   "metadata": {
    "ExecuteTime": {
     "end_time": "2021-02-04T13:32:24.443604Z",
     "start_time": "2021-02-04T13:32:21.767489Z"
    }
   },
   "outputs": [
    {
     "data": {
      "text/html": [
       "<div>\n",
       "<style scoped>\n",
       "    .dataframe tbody tr th:only-of-type {\n",
       "        vertical-align: middle;\n",
       "    }\n",
       "\n",
       "    .dataframe tbody tr th {\n",
       "        vertical-align: top;\n",
       "    }\n",
       "\n",
       "    .dataframe thead th {\n",
       "        text-align: right;\n",
       "    }\n",
       "</style>\n",
       "<table border=\"1\" class=\"dataframe\">\n",
       "  <thead>\n",
       "    <tr style=\"text-align: right;\">\n",
       "      <th></th>\n",
       "      <th>Timestamp</th>\n",
       "      <th>Turbine_ID</th>\n",
       "      <th>Fail_60_GEARBOX</th>\n",
       "      <th>Fail_60_GENERATOR</th>\n",
       "      <th>Fail_60_GENERATOR_BEARING</th>\n",
       "      <th>Fail_60_TRANSFORMER</th>\n",
       "      <th>Fail_60_HYDRAULIC_GROUP</th>\n",
       "      <th>Fail_50_GEARBOX</th>\n",
       "      <th>Fail_50_GENERATOR</th>\n",
       "      <th>Fail_50_GENERATOR_BEARING</th>\n",
       "      <th>...</th>\n",
       "      <th>Fail_20_GEARBOX</th>\n",
       "      <th>Fail_20_GENERATOR</th>\n",
       "      <th>Fail_20_GENERATOR_BEARING</th>\n",
       "      <th>Fail_20_TRANSFORMER</th>\n",
       "      <th>Fail_20_HYDRAULIC_GROUP</th>\n",
       "      <th>Fail_10_GEARBOX</th>\n",
       "      <th>Fail_10_GENERATOR</th>\n",
       "      <th>Fail_10_GENERATOR_BEARING</th>\n",
       "      <th>Fail_10_TRANSFORMER</th>\n",
       "      <th>Fail_10_HYDRAULIC_GROUP</th>\n",
       "    </tr>\n",
       "  </thead>\n",
       "  <tbody>\n",
       "    <tr>\n",
       "      <th>0</th>\n",
       "      <td>2016-01-01 00:00:00</td>\n",
       "      <td>T01</td>\n",
       "      <td>0</td>\n",
       "      <td>0</td>\n",
       "      <td>0</td>\n",
       "      <td>0</td>\n",
       "      <td>0</td>\n",
       "      <td>0</td>\n",
       "      <td>0</td>\n",
       "      <td>0</td>\n",
       "      <td>...</td>\n",
       "      <td>0</td>\n",
       "      <td>0</td>\n",
       "      <td>0</td>\n",
       "      <td>0</td>\n",
       "      <td>0</td>\n",
       "      <td>0</td>\n",
       "      <td>0</td>\n",
       "      <td>0</td>\n",
       "      <td>0</td>\n",
       "      <td>0</td>\n",
       "    </tr>\n",
       "    <tr>\n",
       "      <th>1</th>\n",
       "      <td>2016-01-01 00:10:00</td>\n",
       "      <td>T01</td>\n",
       "      <td>0</td>\n",
       "      <td>0</td>\n",
       "      <td>0</td>\n",
       "      <td>0</td>\n",
       "      <td>0</td>\n",
       "      <td>0</td>\n",
       "      <td>0</td>\n",
       "      <td>0</td>\n",
       "      <td>...</td>\n",
       "      <td>0</td>\n",
       "      <td>0</td>\n",
       "      <td>0</td>\n",
       "      <td>0</td>\n",
       "      <td>0</td>\n",
       "      <td>0</td>\n",
       "      <td>0</td>\n",
       "      <td>0</td>\n",
       "      <td>0</td>\n",
       "      <td>0</td>\n",
       "    </tr>\n",
       "    <tr>\n",
       "      <th>2</th>\n",
       "      <td>2016-01-01 00:20:00</td>\n",
       "      <td>T01</td>\n",
       "      <td>0</td>\n",
       "      <td>0</td>\n",
       "      <td>0</td>\n",
       "      <td>0</td>\n",
       "      <td>0</td>\n",
       "      <td>0</td>\n",
       "      <td>0</td>\n",
       "      <td>0</td>\n",
       "      <td>...</td>\n",
       "      <td>0</td>\n",
       "      <td>0</td>\n",
       "      <td>0</td>\n",
       "      <td>0</td>\n",
       "      <td>0</td>\n",
       "      <td>0</td>\n",
       "      <td>0</td>\n",
       "      <td>0</td>\n",
       "      <td>0</td>\n",
       "      <td>0</td>\n",
       "    </tr>\n",
       "    <tr>\n",
       "      <th>3</th>\n",
       "      <td>2016-01-01 00:30:00</td>\n",
       "      <td>T01</td>\n",
       "      <td>0</td>\n",
       "      <td>0</td>\n",
       "      <td>0</td>\n",
       "      <td>0</td>\n",
       "      <td>0</td>\n",
       "      <td>0</td>\n",
       "      <td>0</td>\n",
       "      <td>0</td>\n",
       "      <td>...</td>\n",
       "      <td>0</td>\n",
       "      <td>0</td>\n",
       "      <td>0</td>\n",
       "      <td>0</td>\n",
       "      <td>0</td>\n",
       "      <td>0</td>\n",
       "      <td>0</td>\n",
       "      <td>0</td>\n",
       "      <td>0</td>\n",
       "      <td>0</td>\n",
       "    </tr>\n",
       "    <tr>\n",
       "      <th>4</th>\n",
       "      <td>2016-01-01 00:40:00</td>\n",
       "      <td>T01</td>\n",
       "      <td>0</td>\n",
       "      <td>0</td>\n",
       "      <td>0</td>\n",
       "      <td>0</td>\n",
       "      <td>0</td>\n",
       "      <td>0</td>\n",
       "      <td>0</td>\n",
       "      <td>0</td>\n",
       "      <td>...</td>\n",
       "      <td>0</td>\n",
       "      <td>0</td>\n",
       "      <td>0</td>\n",
       "      <td>0</td>\n",
       "      <td>0</td>\n",
       "      <td>0</td>\n",
       "      <td>0</td>\n",
       "      <td>0</td>\n",
       "      <td>0</td>\n",
       "      <td>0</td>\n",
       "    </tr>\n",
       "  </tbody>\n",
       "</table>\n",
       "<p>5 rows × 32 columns</p>\n",
       "</div>"
      ],
      "text/plain": [
       "            Timestamp Turbine_ID  Fail_60_GEARBOX  Fail_60_GENERATOR  \\\n",
       "0 2016-01-01 00:00:00        T01                0                  0   \n",
       "1 2016-01-01 00:10:00        T01                0                  0   \n",
       "2 2016-01-01 00:20:00        T01                0                  0   \n",
       "3 2016-01-01 00:30:00        T01                0                  0   \n",
       "4 2016-01-01 00:40:00        T01                0                  0   \n",
       "\n",
       "   Fail_60_GENERATOR_BEARING  Fail_60_TRANSFORMER  Fail_60_HYDRAULIC_GROUP  \\\n",
       "0                          0                    0                        0   \n",
       "1                          0                    0                        0   \n",
       "2                          0                    0                        0   \n",
       "3                          0                    0                        0   \n",
       "4                          0                    0                        0   \n",
       "\n",
       "   Fail_50_GEARBOX  Fail_50_GENERATOR  Fail_50_GENERATOR_BEARING  ...  \\\n",
       "0                0                  0                          0  ...   \n",
       "1                0                  0                          0  ...   \n",
       "2                0                  0                          0  ...   \n",
       "3                0                  0                          0  ...   \n",
       "4                0                  0                          0  ...   \n",
       "\n",
       "   Fail_20_GEARBOX  Fail_20_GENERATOR  Fail_20_GENERATOR_BEARING  \\\n",
       "0                0                  0                          0   \n",
       "1                0                  0                          0   \n",
       "2                0                  0                          0   \n",
       "3                0                  0                          0   \n",
       "4                0                  0                          0   \n",
       "\n",
       "   Fail_20_TRANSFORMER  Fail_20_HYDRAULIC_GROUP  Fail_10_GEARBOX  \\\n",
       "0                    0                        0                0   \n",
       "1                    0                        0                0   \n",
       "2                    0                        0                0   \n",
       "3                    0                        0                0   \n",
       "4                    0                        0                0   \n",
       "\n",
       "   Fail_10_GENERATOR  Fail_10_GENERATOR_BEARING  Fail_10_TRANSFORMER  \\\n",
       "0                  0                          0                    0   \n",
       "1                  0                          0                    0   \n",
       "2                  0                          0                    0   \n",
       "3                  0                          0                    0   \n",
       "4                  0                          0                    0   \n",
       "\n",
       "   Fail_10_HYDRAULIC_GROUP  \n",
       "0                        0  \n",
       "1                        0  \n",
       "2                        0  \n",
       "3                        0  \n",
       "4                        0  \n",
       "\n",
       "[5 rows x 32 columns]"
      ]
     },
     "execution_count": 11,
     "metadata": {},
     "output_type": "execute_result"
    }
   ],
   "source": [
    "df_target=pd.read_csv('df_target_v2_60_50_40_50_30_20_10.csv', index_col=[0])\n",
    "df_target['Timestamp']=pd.to_datetime(df_target['Timestamp'])\n",
    "df_target.head()"
   ]
  },
  {
   "cell_type": "code",
   "execution_count": 240,
   "metadata": {
    "ExecuteTime": {
     "end_time": "2021-02-05T13:15:28.654368Z",
     "start_time": "2021-02-05T13:15:28.289658Z"
    }
   },
   "outputs": [],
   "source": [
    "target='Fail_30_GENERATOR'\n",
    "df_signals_target=pd.merge(df_signals, df_target[['Timestamp','Turbine_ID',target]], how='left', on=['Turbine_ID','Timestamp'])"
   ]
  },
  {
   "cell_type": "code",
   "execution_count": 241,
   "metadata": {
    "ExecuteTime": {
     "end_time": "2021-02-05T13:15:29.304658Z",
     "start_time": "2021-02-05T13:15:29.295717Z"
    }
   },
   "outputs": [],
   "source": [
    "df_signals_target.Gen_Bear_Temp_Avg.fillna(0,inplace=True)"
   ]
  },
  {
   "cell_type": "code",
   "execution_count": 242,
   "metadata": {
    "ExecuteTime": {
     "end_time": "2021-02-05T13:15:29.832447Z",
     "start_time": "2021-02-05T13:15:29.825070Z"
    }
   },
   "outputs": [
    {
     "data": {
      "text/plain": [
       "500.0"
      ]
     },
     "execution_count": 242,
     "metadata": {},
     "output_type": "execute_result"
    }
   ],
   "source": [
    "2500*0.2"
   ]
  },
  {
   "cell_type": "code",
   "execution_count": 243,
   "metadata": {
    "ExecuteTime": {
     "end_time": "2021-02-05T13:15:30.245456Z",
     "start_time": "2021-02-05T13:15:30.237008Z"
    }
   },
   "outputs": [],
   "source": [
    "from sklearn.preprocessing import MinMaxScaler,StandardScaler"
   ]
  },
  {
   "cell_type": "code",
   "execution_count": 244,
   "metadata": {
    "ExecuteTime": {
     "end_time": "2021-02-05T13:15:30.648617Z",
     "start_time": "2021-02-05T13:15:30.638954Z"
    }
   },
   "outputs": [],
   "source": [
    "len_ = int(0.8*df_signals_target.shape[0])\n",
    "\n",
    "df_train = df_signals_target[:len_]\n",
    "df_test = df_signals_target[len_:]"
   ]
  },
  {
   "cell_type": "code",
   "execution_count": 245,
   "metadata": {
    "ExecuteTime": {
     "end_time": "2021-02-05T13:15:31.148365Z",
     "start_time": "2021-02-05T13:15:31.056735Z"
    }
   },
   "outputs": [],
   "source": [
    "var_list=list(df_train.drop(columns=['Turbine_ID', 'Timestamp',target]).columns)"
   ]
  },
  {
   "cell_type": "code",
   "execution_count": 246,
   "metadata": {
    "ExecuteTime": {
     "end_time": "2021-02-05T13:15:31.531244Z",
     "start_time": "2021-02-05T13:15:31.520361Z"
    }
   },
   "outputs": [
    {
     "data": {
      "text/plain": [
       "['Gen_RPM_Max',\n",
       " 'Gen_RPM_Min',\n",
       " 'Gen_RPM_Avg',\n",
       " 'Gen_RPM_Std',\n",
       " 'Gen_Bear_Temp_Avg',\n",
       " 'Gen_Phase1_Temp_Avg',\n",
       " 'Gen_Phase2_Temp_Avg',\n",
       " 'Gen_Phase3_Temp_Avg',\n",
       " 'Prod_LatestAvg_ActPwrGen0',\n",
       " 'Prod_LatestAvg_ActPwrGen1',\n",
       " 'Prod_LatestAvg_TotActPwr',\n",
       " 'Prod_LatestAvg_ReactPwrGen0',\n",
       " 'Prod_LatestAvg_ReactPwrGen1',\n",
       " 'Prod_LatestAvg_TotReactPwr',\n",
       " 'Gen_SlipRing_Temp_Avg',\n",
       " 'Gen_Bear2_Temp_Avg']"
      ]
     },
     "execution_count": 246,
     "metadata": {},
     "output_type": "execute_result"
    }
   ],
   "source": [
    "var_list"
   ]
  },
  {
   "cell_type": "code",
   "execution_count": 247,
   "metadata": {
    "ExecuteTime": {
     "end_time": "2021-02-05T13:15:32.989433Z",
     "start_time": "2021-02-05T13:15:32.327763Z"
    }
   },
   "outputs": [
    {
     "name": "stderr",
     "output_type": "stream",
     "text": [
      "<ipython-input-247-590c48b68ed8>:4: SettingWithCopyWarning: \n",
      "A value is trying to be set on a copy of a slice from a DataFrame.\n",
      "Try using .loc[row_indexer,col_indexer] = value instead\n",
      "\n",
      "See the caveats in the documentation: https://pandas.pydata.org/pandas-docs/stable/user_guide/indexing.html#returning-a-view-versus-a-copy\n",
      "  df_train[i]=scaler.fit_transform(df_train[[i]])\n",
      "<ipython-input-247-590c48b68ed8>:5: SettingWithCopyWarning: \n",
      "A value is trying to be set on a copy of a slice from a DataFrame.\n",
      "Try using .loc[row_indexer,col_indexer] = value instead\n",
      "\n",
      "See the caveats in the documentation: https://pandas.pydata.org/pandas-docs/stable/user_guide/indexing.html#returning-a-view-versus-a-copy\n",
      "  df_test[i]=scaler.transform(df_test[[i]])\n",
      "<ipython-input-247-590c48b68ed8>:4: SettingWithCopyWarning: \n",
      "A value is trying to be set on a copy of a slice from a DataFrame.\n",
      "Try using .loc[row_indexer,col_indexer] = value instead\n",
      "\n",
      "See the caveats in the documentation: https://pandas.pydata.org/pandas-docs/stable/user_guide/indexing.html#returning-a-view-versus-a-copy\n",
      "  df_train[i]=scaler.fit_transform(df_train[[i]])\n",
      "<ipython-input-247-590c48b68ed8>:5: SettingWithCopyWarning: \n",
      "A value is trying to be set on a copy of a slice from a DataFrame.\n",
      "Try using .loc[row_indexer,col_indexer] = value instead\n",
      "\n",
      "See the caveats in the documentation: https://pandas.pydata.org/pandas-docs/stable/user_guide/indexing.html#returning-a-view-versus-a-copy\n",
      "  df_test[i]=scaler.transform(df_test[[i]])\n",
      "<ipython-input-247-590c48b68ed8>:4: SettingWithCopyWarning: \n",
      "A value is trying to be set on a copy of a slice from a DataFrame.\n",
      "Try using .loc[row_indexer,col_indexer] = value instead\n",
      "\n",
      "See the caveats in the documentation: https://pandas.pydata.org/pandas-docs/stable/user_guide/indexing.html#returning-a-view-versus-a-copy\n",
      "  df_train[i]=scaler.fit_transform(df_train[[i]])\n",
      "<ipython-input-247-590c48b68ed8>:5: SettingWithCopyWarning: \n",
      "A value is trying to be set on a copy of a slice from a DataFrame.\n",
      "Try using .loc[row_indexer,col_indexer] = value instead\n",
      "\n",
      "See the caveats in the documentation: https://pandas.pydata.org/pandas-docs/stable/user_guide/indexing.html#returning-a-view-versus-a-copy\n",
      "  df_test[i]=scaler.transform(df_test[[i]])\n",
      "<ipython-input-247-590c48b68ed8>:4: SettingWithCopyWarning: \n",
      "A value is trying to be set on a copy of a slice from a DataFrame.\n",
      "Try using .loc[row_indexer,col_indexer] = value instead\n",
      "\n",
      "See the caveats in the documentation: https://pandas.pydata.org/pandas-docs/stable/user_guide/indexing.html#returning-a-view-versus-a-copy\n",
      "  df_train[i]=scaler.fit_transform(df_train[[i]])\n",
      "<ipython-input-247-590c48b68ed8>:5: SettingWithCopyWarning: \n",
      "A value is trying to be set on a copy of a slice from a DataFrame.\n",
      "Try using .loc[row_indexer,col_indexer] = value instead\n",
      "\n",
      "See the caveats in the documentation: https://pandas.pydata.org/pandas-docs/stable/user_guide/indexing.html#returning-a-view-versus-a-copy\n",
      "  df_test[i]=scaler.transform(df_test[[i]])\n",
      "<ipython-input-247-590c48b68ed8>:4: SettingWithCopyWarning: \n",
      "A value is trying to be set on a copy of a slice from a DataFrame.\n",
      "Try using .loc[row_indexer,col_indexer] = value instead\n",
      "\n",
      "See the caveats in the documentation: https://pandas.pydata.org/pandas-docs/stable/user_guide/indexing.html#returning-a-view-versus-a-copy\n",
      "  df_train[i]=scaler.fit_transform(df_train[[i]])\n",
      "<ipython-input-247-590c48b68ed8>:5: SettingWithCopyWarning: \n",
      "A value is trying to be set on a copy of a slice from a DataFrame.\n",
      "Try using .loc[row_indexer,col_indexer] = value instead\n",
      "\n",
      "See the caveats in the documentation: https://pandas.pydata.org/pandas-docs/stable/user_guide/indexing.html#returning-a-view-versus-a-copy\n",
      "  df_test[i]=scaler.transform(df_test[[i]])\n",
      "<ipython-input-247-590c48b68ed8>:4: SettingWithCopyWarning: \n",
      "A value is trying to be set on a copy of a slice from a DataFrame.\n",
      "Try using .loc[row_indexer,col_indexer] = value instead\n",
      "\n",
      "See the caveats in the documentation: https://pandas.pydata.org/pandas-docs/stable/user_guide/indexing.html#returning-a-view-versus-a-copy\n",
      "  df_train[i]=scaler.fit_transform(df_train[[i]])\n",
      "<ipython-input-247-590c48b68ed8>:5: SettingWithCopyWarning: \n",
      "A value is trying to be set on a copy of a slice from a DataFrame.\n",
      "Try using .loc[row_indexer,col_indexer] = value instead\n",
      "\n",
      "See the caveats in the documentation: https://pandas.pydata.org/pandas-docs/stable/user_guide/indexing.html#returning-a-view-versus-a-copy\n",
      "  df_test[i]=scaler.transform(df_test[[i]])\n",
      "<ipython-input-247-590c48b68ed8>:4: SettingWithCopyWarning: \n",
      "A value is trying to be set on a copy of a slice from a DataFrame.\n",
      "Try using .loc[row_indexer,col_indexer] = value instead\n",
      "\n",
      "See the caveats in the documentation: https://pandas.pydata.org/pandas-docs/stable/user_guide/indexing.html#returning-a-view-versus-a-copy\n",
      "  df_train[i]=scaler.fit_transform(df_train[[i]])\n",
      "<ipython-input-247-590c48b68ed8>:5: SettingWithCopyWarning: \n",
      "A value is trying to be set on a copy of a slice from a DataFrame.\n",
      "Try using .loc[row_indexer,col_indexer] = value instead\n",
      "\n",
      "See the caveats in the documentation: https://pandas.pydata.org/pandas-docs/stable/user_guide/indexing.html#returning-a-view-versus-a-copy\n",
      "  df_test[i]=scaler.transform(df_test[[i]])\n",
      "<ipython-input-247-590c48b68ed8>:4: SettingWithCopyWarning: \n",
      "A value is trying to be set on a copy of a slice from a DataFrame.\n",
      "Try using .loc[row_indexer,col_indexer] = value instead\n",
      "\n",
      "See the caveats in the documentation: https://pandas.pydata.org/pandas-docs/stable/user_guide/indexing.html#returning-a-view-versus-a-copy\n",
      "  df_train[i]=scaler.fit_transform(df_train[[i]])\n",
      "<ipython-input-247-590c48b68ed8>:5: SettingWithCopyWarning: \n",
      "A value is trying to be set on a copy of a slice from a DataFrame.\n",
      "Try using .loc[row_indexer,col_indexer] = value instead\n",
      "\n",
      "See the caveats in the documentation: https://pandas.pydata.org/pandas-docs/stable/user_guide/indexing.html#returning-a-view-versus-a-copy\n",
      "  df_test[i]=scaler.transform(df_test[[i]])\n",
      "<ipython-input-247-590c48b68ed8>:4: SettingWithCopyWarning: \n",
      "A value is trying to be set on a copy of a slice from a DataFrame.\n",
      "Try using .loc[row_indexer,col_indexer] = value instead\n",
      "\n",
      "See the caveats in the documentation: https://pandas.pydata.org/pandas-docs/stable/user_guide/indexing.html#returning-a-view-versus-a-copy\n",
      "  df_train[i]=scaler.fit_transform(df_train[[i]])\n",
      "<ipython-input-247-590c48b68ed8>:5: SettingWithCopyWarning: \n",
      "A value is trying to be set on a copy of a slice from a DataFrame.\n",
      "Try using .loc[row_indexer,col_indexer] = value instead\n",
      "\n",
      "See the caveats in the documentation: https://pandas.pydata.org/pandas-docs/stable/user_guide/indexing.html#returning-a-view-versus-a-copy\n",
      "  df_test[i]=scaler.transform(df_test[[i]])\n",
      "<ipython-input-247-590c48b68ed8>:4: SettingWithCopyWarning: \n",
      "A value is trying to be set on a copy of a slice from a DataFrame.\n",
      "Try using .loc[row_indexer,col_indexer] = value instead\n",
      "\n",
      "See the caveats in the documentation: https://pandas.pydata.org/pandas-docs/stable/user_guide/indexing.html#returning-a-view-versus-a-copy\n",
      "  df_train[i]=scaler.fit_transform(df_train[[i]])\n",
      "<ipython-input-247-590c48b68ed8>:5: SettingWithCopyWarning: \n",
      "A value is trying to be set on a copy of a slice from a DataFrame.\n",
      "Try using .loc[row_indexer,col_indexer] = value instead\n",
      "\n",
      "See the caveats in the documentation: https://pandas.pydata.org/pandas-docs/stable/user_guide/indexing.html#returning-a-view-versus-a-copy\n",
      "  df_test[i]=scaler.transform(df_test[[i]])\n",
      "<ipython-input-247-590c48b68ed8>:4: SettingWithCopyWarning: \n",
      "A value is trying to be set on a copy of a slice from a DataFrame.\n",
      "Try using .loc[row_indexer,col_indexer] = value instead\n",
      "\n",
      "See the caveats in the documentation: https://pandas.pydata.org/pandas-docs/stable/user_guide/indexing.html#returning-a-view-versus-a-copy\n",
      "  df_train[i]=scaler.fit_transform(df_train[[i]])\n",
      "<ipython-input-247-590c48b68ed8>:5: SettingWithCopyWarning: \n",
      "A value is trying to be set on a copy of a slice from a DataFrame.\n",
      "Try using .loc[row_indexer,col_indexer] = value instead\n",
      "\n",
      "See the caveats in the documentation: https://pandas.pydata.org/pandas-docs/stable/user_guide/indexing.html#returning-a-view-versus-a-copy\n",
      "  df_test[i]=scaler.transform(df_test[[i]])\n",
      "<ipython-input-247-590c48b68ed8>:4: SettingWithCopyWarning: \n",
      "A value is trying to be set on a copy of a slice from a DataFrame.\n",
      "Try using .loc[row_indexer,col_indexer] = value instead\n",
      "\n",
      "See the caveats in the documentation: https://pandas.pydata.org/pandas-docs/stable/user_guide/indexing.html#returning-a-view-versus-a-copy\n",
      "  df_train[i]=scaler.fit_transform(df_train[[i]])\n",
      "<ipython-input-247-590c48b68ed8>:5: SettingWithCopyWarning: \n",
      "A value is trying to be set on a copy of a slice from a DataFrame.\n",
      "Try using .loc[row_indexer,col_indexer] = value instead\n",
      "\n",
      "See the caveats in the documentation: https://pandas.pydata.org/pandas-docs/stable/user_guide/indexing.html#returning-a-view-versus-a-copy\n",
      "  df_test[i]=scaler.transform(df_test[[i]])\n",
      "<ipython-input-247-590c48b68ed8>:4: SettingWithCopyWarning: \n",
      "A value is trying to be set on a copy of a slice from a DataFrame.\n",
      "Try using .loc[row_indexer,col_indexer] = value instead\n",
      "\n",
      "See the caveats in the documentation: https://pandas.pydata.org/pandas-docs/stable/user_guide/indexing.html#returning-a-view-versus-a-copy\n",
      "  df_train[i]=scaler.fit_transform(df_train[[i]])\n",
      "<ipython-input-247-590c48b68ed8>:5: SettingWithCopyWarning: \n",
      "A value is trying to be set on a copy of a slice from a DataFrame.\n",
      "Try using .loc[row_indexer,col_indexer] = value instead\n",
      "\n",
      "See the caveats in the documentation: https://pandas.pydata.org/pandas-docs/stable/user_guide/indexing.html#returning-a-view-versus-a-copy\n",
      "  df_test[i]=scaler.transform(df_test[[i]])\n"
     ]
    },
    {
     "name": "stderr",
     "output_type": "stream",
     "text": [
      "<ipython-input-247-590c48b68ed8>:4: SettingWithCopyWarning: \n",
      "A value is trying to be set on a copy of a slice from a DataFrame.\n",
      "Try using .loc[row_indexer,col_indexer] = value instead\n",
      "\n",
      "See the caveats in the documentation: https://pandas.pydata.org/pandas-docs/stable/user_guide/indexing.html#returning-a-view-versus-a-copy\n",
      "  df_train[i]=scaler.fit_transform(df_train[[i]])\n",
      "<ipython-input-247-590c48b68ed8>:5: SettingWithCopyWarning: \n",
      "A value is trying to be set on a copy of a slice from a DataFrame.\n",
      "Try using .loc[row_indexer,col_indexer] = value instead\n",
      "\n",
      "See the caveats in the documentation: https://pandas.pydata.org/pandas-docs/stable/user_guide/indexing.html#returning-a-view-versus-a-copy\n",
      "  df_test[i]=scaler.transform(df_test[[i]])\n",
      "<ipython-input-247-590c48b68ed8>:4: SettingWithCopyWarning: \n",
      "A value is trying to be set on a copy of a slice from a DataFrame.\n",
      "Try using .loc[row_indexer,col_indexer] = value instead\n",
      "\n",
      "See the caveats in the documentation: https://pandas.pydata.org/pandas-docs/stable/user_guide/indexing.html#returning-a-view-versus-a-copy\n",
      "  df_train[i]=scaler.fit_transform(df_train[[i]])\n",
      "<ipython-input-247-590c48b68ed8>:5: SettingWithCopyWarning: \n",
      "A value is trying to be set on a copy of a slice from a DataFrame.\n",
      "Try using .loc[row_indexer,col_indexer] = value instead\n",
      "\n",
      "See the caveats in the documentation: https://pandas.pydata.org/pandas-docs/stable/user_guide/indexing.html#returning-a-view-versus-a-copy\n",
      "  df_test[i]=scaler.transform(df_test[[i]])\n",
      "<ipython-input-247-590c48b68ed8>:4: SettingWithCopyWarning: \n",
      "A value is trying to be set on a copy of a slice from a DataFrame.\n",
      "Try using .loc[row_indexer,col_indexer] = value instead\n",
      "\n",
      "See the caveats in the documentation: https://pandas.pydata.org/pandas-docs/stable/user_guide/indexing.html#returning-a-view-versus-a-copy\n",
      "  df_train[i]=scaler.fit_transform(df_train[[i]])\n",
      "<ipython-input-247-590c48b68ed8>:5: SettingWithCopyWarning: \n",
      "A value is trying to be set on a copy of a slice from a DataFrame.\n",
      "Try using .loc[row_indexer,col_indexer] = value instead\n",
      "\n",
      "See the caveats in the documentation: https://pandas.pydata.org/pandas-docs/stable/user_guide/indexing.html#returning-a-view-versus-a-copy\n",
      "  df_test[i]=scaler.transform(df_test[[i]])\n"
     ]
    },
    {
     "data": {
      "text/html": [
       "<div>\n",
       "<style scoped>\n",
       "    .dataframe tbody tr th:only-of-type {\n",
       "        vertical-align: middle;\n",
       "    }\n",
       "\n",
       "    .dataframe tbody tr th {\n",
       "        vertical-align: top;\n",
       "    }\n",
       "\n",
       "    .dataframe thead th {\n",
       "        text-align: right;\n",
       "    }\n",
       "</style>\n",
       "<table border=\"1\" class=\"dataframe\">\n",
       "  <thead>\n",
       "    <tr style=\"text-align: right;\">\n",
       "      <th></th>\n",
       "      <th>Turbine_ID</th>\n",
       "      <th>Timestamp</th>\n",
       "      <th>Gen_RPM_Max</th>\n",
       "      <th>Gen_RPM_Min</th>\n",
       "      <th>Gen_RPM_Avg</th>\n",
       "      <th>Gen_RPM_Std</th>\n",
       "      <th>Gen_Bear_Temp_Avg</th>\n",
       "      <th>Gen_Phase1_Temp_Avg</th>\n",
       "      <th>Gen_Phase2_Temp_Avg</th>\n",
       "      <th>Gen_Phase3_Temp_Avg</th>\n",
       "      <th>Prod_LatestAvg_ActPwrGen0</th>\n",
       "      <th>Prod_LatestAvg_ActPwrGen1</th>\n",
       "      <th>Prod_LatestAvg_TotActPwr</th>\n",
       "      <th>Prod_LatestAvg_ReactPwrGen0</th>\n",
       "      <th>Prod_LatestAvg_ReactPwrGen1</th>\n",
       "      <th>Prod_LatestAvg_TotReactPwr</th>\n",
       "      <th>Gen_SlipRing_Temp_Avg</th>\n",
       "      <th>Gen_Bear2_Temp_Avg</th>\n",
       "      <th>Fail_30_GENERATOR</th>\n",
       "    </tr>\n",
       "  </thead>\n",
       "  <tbody>\n",
       "    <tr>\n",
       "      <th>0</th>\n",
       "      <td>T11</td>\n",
       "      <td>2016-01-01</td>\n",
       "      <td>0.258079</td>\n",
       "      <td>0.510634</td>\n",
       "      <td>0.357229</td>\n",
       "      <td>-0.440904</td>\n",
       "      <td>-0.231705</td>\n",
       "      <td>-0.147832</td>\n",
       "      <td>-0.069120</td>\n",
       "      <td>-0.091975</td>\n",
       "      <td>0.599216</td>\n",
       "      <td>-0.432245</td>\n",
       "      <td>-0.427453</td>\n",
       "      <td>0.503068</td>\n",
       "      <td>0.139007</td>\n",
       "      <td>0.169069</td>\n",
       "      <td>-0.198930</td>\n",
       "      <td>-0.302107</td>\n",
       "      <td>0</td>\n",
       "    </tr>\n",
       "    <tr>\n",
       "      <th>1</th>\n",
       "      <td>T06</td>\n",
       "      <td>2016-01-01</td>\n",
       "      <td>0.150275</td>\n",
       "      <td>0.509819</td>\n",
       "      <td>0.321008</td>\n",
       "      <td>-0.549176</td>\n",
       "      <td>-0.231705</td>\n",
       "      <td>-0.431648</td>\n",
       "      <td>-0.399373</td>\n",
       "      <td>-0.353410</td>\n",
       "      <td>0.599216</td>\n",
       "      <td>-0.708180</td>\n",
       "      <td>-0.702608</td>\n",
       "      <td>0.503068</td>\n",
       "      <td>0.205249</td>\n",
       "      <td>0.237161</td>\n",
       "      <td>-0.317190</td>\n",
       "      <td>-0.516810</td>\n",
       "      <td>0</td>\n",
       "    </tr>\n",
       "    <tr>\n",
       "      <th>2</th>\n",
       "      <td>T01</td>\n",
       "      <td>2016-01-01</td>\n",
       "      <td>0.161770</td>\n",
       "      <td>0.498901</td>\n",
       "      <td>0.321816</td>\n",
       "      <td>-0.529326</td>\n",
       "      <td>-0.287618</td>\n",
       "      <td>-0.183309</td>\n",
       "      <td>-0.142509</td>\n",
       "      <td>-0.166671</td>\n",
       "      <td>0.437648</td>\n",
       "      <td>-0.762701</td>\n",
       "      <td>-0.757938</td>\n",
       "      <td>0.359128</td>\n",
       "      <td>0.719361</td>\n",
       "      <td>0.758148</td>\n",
       "      <td>-0.435449</td>\n",
       "      <td>-0.373675</td>\n",
       "      <td>0</td>\n",
       "    </tr>\n",
       "    <tr>\n",
       "      <th>3</th>\n",
       "      <td>T09</td>\n",
       "      <td>2016-01-01</td>\n",
       "      <td>0.316021</td>\n",
       "      <td>0.512264</td>\n",
       "      <td>0.359008</td>\n",
       "      <td>-0.387669</td>\n",
       "      <td>-0.343532</td>\n",
       "      <td>-0.183309</td>\n",
       "      <td>-0.215899</td>\n",
       "      <td>-0.166671</td>\n",
       "      <td>0.599216</td>\n",
       "      <td>-0.503371</td>\n",
       "      <td>-0.498378</td>\n",
       "      <td>0.503068</td>\n",
       "      <td>0.139595</td>\n",
       "      <td>0.169674</td>\n",
       "      <td>-0.317190</td>\n",
       "      <td>-0.659946</td>\n",
       "      <td>0</td>\n",
       "    </tr>\n",
       "    <tr>\n",
       "      <th>4</th>\n",
       "      <td>T07</td>\n",
       "      <td>2016-01-01</td>\n",
       "      <td>0.224060</td>\n",
       "      <td>0.504441</td>\n",
       "      <td>0.331357</td>\n",
       "      <td>-0.486017</td>\n",
       "      <td>-0.287618</td>\n",
       "      <td>-0.041400</td>\n",
       "      <td>-0.032425</td>\n",
       "      <td>-0.054627</td>\n",
       "      <td>0.599216</td>\n",
       "      <td>-0.632725</td>\n",
       "      <td>-0.627367</td>\n",
       "      <td>0.503068</td>\n",
       "      <td>0.251618</td>\n",
       "      <td>0.284827</td>\n",
       "      <td>-0.317190</td>\n",
       "      <td>-0.230539</td>\n",
       "      <td>0</td>\n",
       "    </tr>\n",
       "  </tbody>\n",
       "</table>\n",
       "</div>"
      ],
      "text/plain": [
       "  Turbine_ID  Timestamp  Gen_RPM_Max  Gen_RPM_Min  Gen_RPM_Avg  Gen_RPM_Std  \\\n",
       "0        T11 2016-01-01     0.258079     0.510634     0.357229    -0.440904   \n",
       "1        T06 2016-01-01     0.150275     0.509819     0.321008    -0.549176   \n",
       "2        T01 2016-01-01     0.161770     0.498901     0.321816    -0.529326   \n",
       "3        T09 2016-01-01     0.316021     0.512264     0.359008    -0.387669   \n",
       "4        T07 2016-01-01     0.224060     0.504441     0.331357    -0.486017   \n",
       "\n",
       "   Gen_Bear_Temp_Avg  Gen_Phase1_Temp_Avg  Gen_Phase2_Temp_Avg  \\\n",
       "0          -0.231705            -0.147832            -0.069120   \n",
       "1          -0.231705            -0.431648            -0.399373   \n",
       "2          -0.287618            -0.183309            -0.142509   \n",
       "3          -0.343532            -0.183309            -0.215899   \n",
       "4          -0.287618            -0.041400            -0.032425   \n",
       "\n",
       "   Gen_Phase3_Temp_Avg  Prod_LatestAvg_ActPwrGen0  Prod_LatestAvg_ActPwrGen1  \\\n",
       "0            -0.091975                   0.599216                  -0.432245   \n",
       "1            -0.353410                   0.599216                  -0.708180   \n",
       "2            -0.166671                   0.437648                  -0.762701   \n",
       "3            -0.166671                   0.599216                  -0.503371   \n",
       "4            -0.054627                   0.599216                  -0.632725   \n",
       "\n",
       "   Prod_LatestAvg_TotActPwr  Prod_LatestAvg_ReactPwrGen0  \\\n",
       "0                 -0.427453                     0.503068   \n",
       "1                 -0.702608                     0.503068   \n",
       "2                 -0.757938                     0.359128   \n",
       "3                 -0.498378                     0.503068   \n",
       "4                 -0.627367                     0.503068   \n",
       "\n",
       "   Prod_LatestAvg_ReactPwrGen1  Prod_LatestAvg_TotReactPwr  \\\n",
       "0                     0.139007                    0.169069   \n",
       "1                     0.205249                    0.237161   \n",
       "2                     0.719361                    0.758148   \n",
       "3                     0.139595                    0.169674   \n",
       "4                     0.251618                    0.284827   \n",
       "\n",
       "   Gen_SlipRing_Temp_Avg  Gen_Bear2_Temp_Avg  Fail_30_GENERATOR  \n",
       "0              -0.198930           -0.302107                  0  \n",
       "1              -0.317190           -0.516810                  0  \n",
       "2              -0.435449           -0.373675                  0  \n",
       "3              -0.317190           -0.659946                  0  \n",
       "4              -0.317190           -0.230539                  0  "
      ]
     },
     "execution_count": 247,
     "metadata": {},
     "output_type": "execute_result"
    }
   ],
   "source": [
    "scaler = StandardScaler()\n",
    "\n",
    "for i in var_list:\n",
    "    df_train[i]=scaler.fit_transform(df_train[[i]])\n",
    "    df_test[i]=scaler.transform(df_test[[i]])\n",
    "\n",
    "df_train.head()"
   ]
  },
  {
   "cell_type": "code",
   "execution_count": null,
   "metadata": {},
   "outputs": [],
   "source": []
  },
  {
   "cell_type": "code",
   "execution_count": 249,
   "metadata": {
    "ExecuteTime": {
     "end_time": "2021-02-05T13:45:58.387987Z",
     "start_time": "2021-02-05T13:16:00.092915Z"
    }
   },
   "outputs": [
    {
     "name": "stdout",
     "output_type": "stream",
     "text": [
      "2160\n"
     ]
    }
   ],
   "source": [
    "#Guia para utilização da função final get_X_y:\n",
    "\n",
    "#1º argumento: dataframe\n",
    "#2º argumento: número de sequencias a gerar para cada uma das turbinas\n",
    "#3º argumento: comprimento de cada uma das sequências (nº de timestamps recolhidos para formar uma sequencia)\n",
    "#4º argumento: especificar a variavel target\n",
    "\n",
    "numero_de_dias=15\n",
    "\n",
    "Nvezes_10_minutos=6*24*numero_de_dias\n",
    "\n",
    "import sequences_generator \n",
    "print(Nvezes_10_minutos)\n",
    "\n",
    "\n",
    "X_train,y_train=sequences_generator.get_X_y(df_train,2000,Nvezes_10_minutos,target)\n",
    "\n",
    "X_test,y_test=sequences_generator.get_X_y(df_test,500,Nvezes_10_minutos,target)\n"
   ]
  },
  {
   "cell_type": "code",
   "execution_count": 250,
   "metadata": {
    "ExecuteTime": {
     "end_time": "2021-02-05T13:45:58.433762Z",
     "start_time": "2021-02-05T13:45:58.398582Z"
    }
   },
   "outputs": [],
   "source": [
    "import tensorflow as tf\n",
    "from tensorflow.keras import models\n",
    "from tensorflow.keras import layers\n",
    "\n",
    "def init_model():\n",
    "    \n",
    "    model = models.Sequential()\n",
    "    model.add(layers.LSTM(20, activation='tanh'))\n",
    "    model.add(layers.Dense(5, activation='relu'))\n",
    "    #model.add(layers.Dense(1, activation='sigmoid'))\n",
    "    model.add(layers.Dense(1, activation='sigmoid'))\n",
    "    \n",
    "    model.compile(loss='binary_crossentropy', \n",
    "                  optimizer='rmsprop', \n",
    "                   #metrics=['accuracy'])\n",
    "                  metrics=[tf.keras.metrics.Recall(),tf.keras.metrics.Precision(),tf.keras.metrics.AUC()])\n",
    "    \n",
    "    return model"
   ]
  },
  {
   "cell_type": "code",
   "execution_count": 251,
   "metadata": {
    "ExecuteTime": {
     "end_time": "2021-02-05T13:45:58.480390Z",
     "start_time": "2021-02-05T13:45:58.438163Z"
    }
   },
   "outputs": [],
   "source": [
    "neg=int(pd.DataFrame(y_train).value_counts()[0])\n",
    "pos=int(pd.DataFrame(y_train).value_counts()[1])\n",
    "total=neg+pos"
   ]
  },
  {
   "cell_type": "code",
   "execution_count": 252,
   "metadata": {
    "ExecuteTime": {
     "end_time": "2021-02-05T13:45:58.487522Z",
     "start_time": "2021-02-05T13:45:58.483522Z"
    }
   },
   "outputs": [],
   "source": [
    "weight_for_0 = (1 / neg)*(total)/2.0 \n",
    "weight_for_1 = (1 / pos)*(total)/2.0\n",
    "\n",
    "class_weight = {0: weight_for_0, 1: weight_for_1}"
   ]
  },
  {
   "cell_type": "code",
   "execution_count": 258,
   "metadata": {
    "ExecuteTime": {
     "end_time": "2021-02-05T14:28:27.209058Z",
     "start_time": "2021-02-05T14:28:27.202726Z"
    }
   },
   "outputs": [
    {
     "data": {
      "text/plain": [
       "(10000, 2160, 16)"
      ]
     },
     "execution_count": 258,
     "metadata": {},
     "output_type": "execute_result"
    }
   ],
   "source": [
    "X_train.shape"
   ]
  },
  {
   "cell_type": "code",
   "execution_count": 256,
   "metadata": {
    "ExecuteTime": {
     "end_time": "2021-02-05T14:27:45.004100Z",
     "start_time": "2021-02-05T14:27:44.998912Z"
    }
   },
   "outputs": [],
   "source": [
    "#int(pd.DataFrame(y).value_counts()[1])"
   ]
  },
  {
   "cell_type": "code",
   "execution_count": 259,
   "metadata": {
    "ExecuteTime": {
     "end_time": "2021-02-05T14:28:54.469897Z",
     "start_time": "2021-02-05T14:28:54.457470Z"
    }
   },
   "outputs": [
    {
     "data": {
      "text/plain": [
       "{0: 0.5329354082285227, 1: 8.090614886731393}"
      ]
     },
     "execution_count": 259,
     "metadata": {},
     "output_type": "execute_result"
    }
   ],
   "source": [
    "class_weight"
   ]
  },
  {
   "cell_type": "code",
   "execution_count": 260,
   "metadata": {
    "ExecuteTime": {
     "end_time": "2021-02-05T17:09:22.418205Z",
     "start_time": "2021-02-05T14:28:59.107137Z"
    }
   },
   "outputs": [
    {
     "name": "stdout",
     "output_type": "stream",
     "text": [
      "Epoch 1/100\n",
      "219/219 [==============================] - 132s 601ms/step - loss: 0.6390 - recall_18: 0.9523 - precision_1: 0.1083 - auc_10: 0.8333 - val_loss: 0.8652 - val_recall_18: 0.0783 - val_precision_1: 0.0076 - val_auc_10: 0.3107\n",
      "Epoch 2/100\n",
      "219/219 [==============================] - 125s 569ms/step - loss: 0.5114 - recall_18: 0.8966 - precision_1: 0.2396 - auc_10: 0.9116 - val_loss: 0.8663 - val_recall_18: 0.0087 - val_precision_1: 0.0014 - val_auc_10: 0.3840\n",
      "Epoch 3/100\n",
      "219/219 [==============================] - 124s 568ms/step - loss: 0.3858 - recall_18: 0.9463 - precision_1: 0.4186 - auc_10: 0.9668 - val_loss: 0.8398 - val_recall_18: 0.0000e+00 - val_precision_1: 0.0000e+00 - val_auc_10: 0.3945\n",
      "Epoch 4/100\n",
      "219/219 [==============================] - 122s 556ms/step - loss: 0.3439 - recall_18: 0.9225 - precision_1: 0.5700 - auc_10: 0.9631 - val_loss: 1.1089 - val_recall_18: 0.0000e+00 - val_precision_1: 0.0000e+00 - val_auc_10: 0.3582\n",
      "Epoch 5/100\n",
      "219/219 [==============================] - 130s 594ms/step - loss: 0.3122 - recall_18: 0.9145 - precision_1: 0.6609 - auc_10: 0.9537 - val_loss: 0.6234 - val_recall_18: 0.0000e+00 - val_precision_1: 0.0000e+00 - val_auc_10: 0.4255\n",
      "Epoch 6/100\n",
      "219/219 [==============================] - 1160s 5s/step - loss: 0.2857 - recall_18: 0.9066 - precision_1: 0.7250 - auc_10: 0.9509 - val_loss: 0.8212 - val_recall_18: 0.0000e+00 - val_precision_1: 0.0000e+00 - val_auc_10: 0.4075\n",
      "Epoch 7/100\n",
      "219/219 [==============================] - 118s 540ms/step - loss: 0.2763 - recall_18: 0.9046 - precision_1: 0.7098 - auc_10: 0.9469 - val_loss: 0.6079 - val_recall_18: 0.0000e+00 - val_precision_1: 0.0000e+00 - val_auc_10: 0.4090\n",
      "Epoch 8/100\n",
      "219/219 [==============================] - 122s 556ms/step - loss: 0.2893 - recall_18: 0.8708 - precision_1: 0.7386 - auc_10: 0.9213 - val_loss: 0.8413 - val_recall_18: 0.0000e+00 - val_precision_1: 0.0000e+00 - val_auc_10: 0.3897\n",
      "Epoch 9/100\n",
      "219/219 [==============================] - 121s 551ms/step - loss: 0.1854 - recall_18: 0.9702 - precision_1: 0.8066 - auc_10: 0.9773 - val_loss: 0.5063 - val_recall_18: 0.0000e+00 - val_precision_1: 0.0000e+00 - val_auc_10: 0.4652\n",
      "Epoch 10/100\n",
      "219/219 [==============================] - 119s 545ms/step - loss: 0.1642 - recall_18: 0.9761 - precision_1: 0.7997 - auc_10: 0.9838 - val_loss: 0.9775 - val_recall_18: 0.0000e+00 - val_precision_1: 0.0000e+00 - val_auc_10: 0.3860\n",
      "Epoch 11/100\n",
      "219/219 [==============================] - 2029s 9s/step - loss: 0.1564 - recall_18: 0.9761 - precision_1: 0.7894 - auc_10: 0.9793 - val_loss: 0.3847 - val_recall_18: 0.0000e+00 - val_precision_1: 0.0000e+00 - val_auc_10: 0.4574\n",
      "Epoch 12/100\n",
      "219/219 [==============================] - 702s 3s/step - loss: 0.2630 - recall_18: 0.8628 - precision_1: 0.8251 - auc_10: 0.9270 - val_loss: 0.6405 - val_recall_18: 0.0000e+00 - val_precision_1: 0.0000e+00 - val_auc_10: 0.4249\n",
      "Epoch 13/100\n",
      "219/219 [==============================] - 703s 3s/step - loss: 0.1847 - recall_18: 0.9384 - precision_1: 0.7750 - auc_10: 0.9765 - val_loss: 0.5750 - val_recall_18: 0.0000e+00 - val_precision_1: 0.0000e+00 - val_auc_10: 0.4385\n",
      "Epoch 14/100\n",
      "219/219 [==============================] - ETA: 0s - loss: 0.2134 - recall_18: 0.9105 - precision_1: 0.7558 - auc_10: 0.9589 Restoring model weights from the end of the best epoch.\n",
      "219/219 [==============================] - 3895s 18s/step - loss: 0.2134 - recall_18: 0.9105 - precision_1: 0.7558 - auc_10: 0.9589 - val_loss: 0.3784 - val_recall_18: 0.0000e+00 - val_precision_1: 0.0000e+00 - val_auc_10: 0.3544\n",
      "Epoch 00014: early stopping\n"
     ]
    }
   ],
   "source": [
    "\n",
    "#X_train, y_train = X, y\n",
    "\n",
    "\n",
    "from tensorflow.keras.callbacks import EarlyStopping\n",
    "\n",
    "model = init_model()\n",
    "\n",
    "es = EarlyStopping(monitor='val_auc_10', mode='max', verbose=1, patience=5, restore_best_weights=True)\n",
    "\n",
    "history = model.fit(X_train, y_train,\n",
    "            validation_split=0.3,\n",
    "            epochs=100, \n",
    "            batch_size=32\n",
    "            ,callbacks=[es]\n",
    "            ,class_weight=class_weight\n",
    "                   )"
   ]
  },
  {
   "cell_type": "code",
   "execution_count": 271,
   "metadata": {
    "ExecuteTime": {
     "end_time": "2021-02-05T19:47:53.079220Z",
     "start_time": "2021-02-05T19:47:48.464662Z"
    }
   },
   "outputs": [
    {
     "data": {
      "text/plain": [
       "Text(0.5, 1.0, '30_Generator')"
      ]
     },
     "execution_count": 271,
     "metadata": {},
     "output_type": "execute_result"
    },
    {
     "data": {
      "image/png": "[encoded data removed]",
      "text/plain": [
       "<Figure size 432x288 with 1 Axes>"
      ]
     },
     "metadata": {
      "needs_background": "light"
     },
     "output_type": "display_data"
    }
   ],
   "source": [
    "import matplotlib.pyplot as plt\n",
    "\n",
    "plt.plot(history.history['val_auc_10'])\n",
    "plt.plot(history.history['val_precision_1'])\n",
    "plt.plot(history.history['val_recall_18'])\n",
    "\n",
    "plt.title('30_Generator')"
   ]
  },
  {
   "cell_type": "code",
   "execution_count": 272,
   "metadata": {
    "ExecuteTime": {
     "end_time": "2021-02-05T19:48:39.273186Z",
     "start_time": "2021-02-05T19:48:30.617941Z"
    }
   },
   "outputs": [
    {
     "name": "stdout",
     "output_type": "stream",
     "text": [
      "Metric on the test set : 0.0000\n"
     ]
    }
   ],
   "source": [
    "res = model.evaluate(X_test, y_test, verbose=0)\n",
    "\n",
    "print(f'Metric on the test set : {res[1]:.4f}')"
   ]
  },
  {
   "cell_type": "code",
   "execution_count": 273,
   "metadata": {
    "ExecuteTime": {
     "end_time": "2021-02-05T19:48:39.282333Z",
     "start_time": "2021-02-05T19:48:39.277802Z"
    }
   },
   "outputs": [
    {
     "data": {
      "text/plain": [
       "[0.7387657165527344, 0.0, 0.0, 0.4396958351135254]"
      ]
     },
     "execution_count": 273,
     "metadata": {},
     "output_type": "execute_result"
    }
   ],
   "source": [
    "res"
   ]
  },
  {
   "cell_type": "code",
   "execution_count": null,
   "metadata": {},
   "outputs": [],
   "source": []
  },
  {
   "cell_type": "code",
   "execution_count": 51,
   "metadata": {
    "ExecuteTime": {
     "end_time": "2021-02-03T22:41:27.518899Z",
     "start_time": "2021-02-03T22:41:27.509467Z"
    }
   },
   "outputs": [
    {
     "data": {
      "text/plain": [
       "4000"
      ]
     },
     "execution_count": 51,
     "metadata": {},
     "output_type": "execute_result"
    }
   ],
   "source": [
    "len(y_train)"
   ]
  },
  {
   "cell_type": "code",
   "execution_count": 52,
   "metadata": {
    "ExecuteTime": {
     "end_time": "2021-02-03T22:42:20.157515Z",
     "start_time": "2021-02-03T22:42:20.152632Z"
    }
   },
   "outputs": [
    {
     "data": {
      "text/plain": [
       "4000"
      ]
     },
     "execution_count": 52,
     "metadata": {},
     "output_type": "execute_result"
    }
   ],
   "source": [
    "len(X_train)"
   ]
  },
  {
   "cell_type": "code",
   "execution_count": 57,
   "metadata": {
    "ExecuteTime": {
     "end_time": "2021-02-03T22:43:47.402370Z",
     "start_time": "2021-02-03T22:43:46.420647Z"
    }
   },
   "outputs": [
    {
     "data": {
      "text/plain": [
       "[<matplotlib.lines.Line2D at 0x146086be0>]"
      ]
     },
     "execution_count": 57,
     "metadata": {},
     "output_type": "execute_result"
    },
    {
     "data": {
      "image/png": "[encoded data removed]",
      "text/plain": [
       "<Figure size 432x288 with 1 Axes>"
      ]
     },
     "metadata": {
      "needs_background": "light"
     },
     "output_type": "display_data"
    }
   ],
   "source": [
    "import matplotlib.pyplot as plt\n",
    "%matplotlib inline\n",
    "plt.plot(y_train)"
   ]
  },
  {
   "cell_type": "code",
   "execution_count": null,
   "metadata": {},
   "outputs": [],
   "source": []
  }
 ],
 "metadata": {
  "kernelspec": {
   "display_name": "Python 3",
   "language": "python",
   "name": "python3"
  },
  "language_info": {
   "codemirror_mode": {
    "name": "ipython",
    "version": 3
   },
   "file_extension": ".py",
   "mimetype": "text/x-python",
   "name": "python",
   "nbconvert_exporter": "python",
   "pygments_lexer": "ipython3",
   "version": "3.8.5"
  }
 },
 "nbformat": 4,
 "nbformat_minor": 4
}
