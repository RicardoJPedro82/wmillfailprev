{
 "cells": [
  {
   "cell_type": "code",
   "execution_count": null,
   "metadata": {},
   "outputs": [],
   "source": []
  },
  {
   "cell_type": "code",
   "execution_count": 119,
   "metadata": {},
   "outputs": [
    {
     "name": "stdout",
     "output_type": "stream",
     "text": [
      "The autoreload extension is already loaded. To reload it, use:\n",
      "  %reload_ext autoreload\n"
     ]
    }
   ],
   "source": [
    "%load_ext autoreload\n",
    "%autoreload 2\n",
    "\n",
    "import numpy as np\n",
    "import pandas as pd\n",
    "import matplotlib.pyplot as plt\n",
    "%matplotlib inline\n",
    "\n",
    "import datetime\n",
    "import os"
   ]
  },
  {
   "cell_type": "code",
   "execution_count": 101,
   "metadata": {},
   "outputs": [
    {
     "data": {
      "text/plain": [
       "'/Users/miguelamaro/code/miguelamaro4/Final_Project/wmillfailprev/notebooks'"
      ]
     },
     "execution_count": 101,
     "metadata": {},
     "output_type": "execute_result"
    }
   ],
   "source": [
    "pwd"
   ]
  },
  {
   "cell_type": "code",
   "execution_count": 102,
   "metadata": {},
   "outputs": [],
   "source": [
    "columns_drop_metmast = ['Min_Raindetection', 'Avg_Raindetection', 'Avg_Raindetection', 'Anemometer1_Freq', 'Anemometer1_Offset', 'Anemometer1_CorrGain', 'Anemometer1_CorrOffset', 'Anemometer2_Freq', 'Anemometer2_Offset', 'Anemometer2_CorrGain', 'Anemometer2_CorrOffset', 'DistanceAirPress', 'AirRessureSensorZeroOffset']\n",
    "\n",
    "columns_drop_signals = ['Prod_LatestAvg_ActPwrGen2', 'Prod_LatestAvg_ReactPwrGen2']"
   ]
  },
  {
   "cell_type": "code",
   "execution_count": null,
   "metadata": {},
   "outputs": [],
   "source": []
  },
  {
   "cell_type": "code",
   "execution_count": null,
   "metadata": {},
   "outputs": [],
   "source": []
  },
  {
   "cell_type": "code",
   "execution_count": 133,
   "metadata": {},
   "outputs": [],
   "source": [
    "df_failures = pd.read_csv(r'../rawdata/wind-farm-1-failures-training.csv', sep=';')\n",
    "\n",
    "df_failures['Timestamp'] = pd.to_datetime(df_failures['Timestamp'])\n",
    "#df_failures[df_failures['Turbine_ID']=='T07']\n",
    "\n",
    "df_failures['Fail_ID'] = df_failures.index+1"
   ]
  },
  {
   "cell_type": "code",
   "execution_count": 129,
   "metadata": {},
   "outputs": [
    {
     "data": {
      "text/plain": [
       "pandas._libs.tslibs.timestamps.Timestamp"
      ]
     },
     "execution_count": 129,
     "metadata": {},
     "output_type": "execute_result"
    }
   ],
   "source": [
    "type(df_failures['Timestamp'][8])"
   ]
  },
  {
   "cell_type": "code",
   "execution_count": 131,
   "metadata": {},
   "outputs": [
    {
     "data": {
      "text/plain": [
       "25"
      ]
     },
     "execution_count": 131,
     "metadata": {},
     "output_type": "execute_result"
    }
   ],
   "source": [
    "df_failures['Timestamp'][8].minute"
   ]
  },
  {
   "cell_type": "code",
   "execution_count": 121,
   "metadata": {},
   "outputs": [
    {
     "data": {
      "text/html": [
       "<div>\n",
       "<style scoped>\n",
       "    .dataframe tbody tr th:only-of-type {\n",
       "        vertical-align: middle;\n",
       "    }\n",
       "\n",
       "    .dataframe tbody tr th {\n",
       "        vertical-align: top;\n",
       "    }\n",
       "\n",
       "    .dataframe thead th {\n",
       "        text-align: right;\n",
       "    }\n",
       "</style>\n",
       "<table border=\"1\" class=\"dataframe\">\n",
       "  <thead>\n",
       "    <tr style=\"text-align: right;\">\n",
       "      <th></th>\n",
       "      <th>Turbine_ID</th>\n",
       "      <th>Component</th>\n",
       "      <th>Timestamp</th>\n",
       "      <th>Remarks</th>\n",
       "      <th>Fail_ID</th>\n",
       "    </tr>\n",
       "  </thead>\n",
       "  <tbody>\n",
       "    <tr>\n",
       "      <th>0</th>\n",
       "      <td>T11</td>\n",
       "      <td>GENERATOR</td>\n",
       "      <td>2016-03-03 19:00:00+00:00</td>\n",
       "      <td>Electric circuit error in generator</td>\n",
       "      <td>1</td>\n",
       "    </tr>\n",
       "    <tr>\n",
       "      <th>1</th>\n",
       "      <td>T06</td>\n",
       "      <td>HYDRAULIC_GROUP</td>\n",
       "      <td>2016-04-04 18:53:00+00:00</td>\n",
       "      <td>Error in pitch regulation</td>\n",
       "      <td>2</td>\n",
       "    </tr>\n",
       "    <tr>\n",
       "      <th>2</th>\n",
       "      <td>T07</td>\n",
       "      <td>GENERATOR_BEARING</td>\n",
       "      <td>2016-04-30 12:40:00+00:00</td>\n",
       "      <td>High temperature in generator bearing (replace...</td>\n",
       "      <td>3</td>\n",
       "    </tr>\n",
       "    <tr>\n",
       "      <th>3</th>\n",
       "      <td>T09</td>\n",
       "      <td>GENERATOR_BEARING</td>\n",
       "      <td>2016-06-07 16:59:00+00:00</td>\n",
       "      <td>High tempemperature generator bearing</td>\n",
       "      <td>4</td>\n",
       "    </tr>\n",
       "    <tr>\n",
       "      <th>4</th>\n",
       "      <td>T07</td>\n",
       "      <td>TRANSFORMER</td>\n",
       "      <td>2016-07-10 03:46:00+00:00</td>\n",
       "      <td>High temperature transformer</td>\n",
       "      <td>5</td>\n",
       "    </tr>\n",
       "    <tr>\n",
       "      <th>5</th>\n",
       "      <td>T06</td>\n",
       "      <td>GENERATOR</td>\n",
       "      <td>2016-07-11 19:48:00+00:00</td>\n",
       "      <td>Generator replaced</td>\n",
       "      <td>6</td>\n",
       "    </tr>\n",
       "    <tr>\n",
       "      <th>6</th>\n",
       "      <td>T01</td>\n",
       "      <td>GEARBOX</td>\n",
       "      <td>2016-07-18 02:10:00+00:00</td>\n",
       "      <td>Gearbox pump damaged</td>\n",
       "      <td>7</td>\n",
       "    </tr>\n",
       "    <tr>\n",
       "      <th>7</th>\n",
       "      <td>T06</td>\n",
       "      <td>GENERATOR</td>\n",
       "      <td>2016-07-24 17:01:00+00:00</td>\n",
       "      <td>Generator temperature sensor failure</td>\n",
       "      <td>8</td>\n",
       "    </tr>\n",
       "    <tr>\n",
       "      <th>8</th>\n",
       "      <td>T09</td>\n",
       "      <td>GENERATOR_BEARING</td>\n",
       "      <td>2016-08-22 18:25:00+00:00</td>\n",
       "      <td>High temperature generator bearing</td>\n",
       "      <td>9</td>\n",
       "    </tr>\n",
       "    <tr>\n",
       "      <th>9</th>\n",
       "      <td>T07</td>\n",
       "      <td>TRANSFORMER</td>\n",
       "      <td>2016-08-23 02:21:00+00:00</td>\n",
       "      <td>High temperature transformer. Transformer refr...</td>\n",
       "      <td>10</td>\n",
       "    </tr>\n",
       "    <tr>\n",
       "      <th>10</th>\n",
       "      <td>T06</td>\n",
       "      <td>GENERATOR</td>\n",
       "      <td>2016-09-04 08:08:00+00:00</td>\n",
       "      <td>High temperature generator error</td>\n",
       "      <td>11</td>\n",
       "    </tr>\n",
       "    <tr>\n",
       "      <th>11</th>\n",
       "      <td>T06</td>\n",
       "      <td>GENERATOR</td>\n",
       "      <td>2016-10-02 17:08:00+00:00</td>\n",
       "      <td>Refrigeration system and temperature sensors i...</td>\n",
       "      <td>12</td>\n",
       "    </tr>\n",
       "    <tr>\n",
       "      <th>12</th>\n",
       "      <td>T09</td>\n",
       "      <td>GEARBOX</td>\n",
       "      <td>2016-10-11 08:06:00+00:00</td>\n",
       "      <td>Gearbox repaired</td>\n",
       "      <td>13</td>\n",
       "    </tr>\n",
       "    <tr>\n",
       "      <th>13</th>\n",
       "      <td>T09</td>\n",
       "      <td>GENERATOR_BEARING</td>\n",
       "      <td>2016-10-17 09:19:00+00:00</td>\n",
       "      <td>Generator bearings replaced</td>\n",
       "      <td>14</td>\n",
       "    </tr>\n",
       "    <tr>\n",
       "      <th>14</th>\n",
       "      <td>T11</td>\n",
       "      <td>HYDRAULIC_GROUP</td>\n",
       "      <td>2016-10-17 17:44:00+00:00</td>\n",
       "      <td>Hydraulic group error in the brake circuit</td>\n",
       "      <td>15</td>\n",
       "    </tr>\n",
       "    <tr>\n",
       "      <th>15</th>\n",
       "      <td>T06</td>\n",
       "      <td>GENERATOR</td>\n",
       "      <td>2016-10-27 16:26:00+00:00</td>\n",
       "      <td>Generator replaced</td>\n",
       "      <td>16</td>\n",
       "    </tr>\n",
       "    <tr>\n",
       "      <th>16</th>\n",
       "      <td>T09</td>\n",
       "      <td>GENERATOR_BEARING</td>\n",
       "      <td>2017-01-25 12:55:00+00:00</td>\n",
       "      <td>Generator bearings replaced</td>\n",
       "      <td>17</td>\n",
       "    </tr>\n",
       "    <tr>\n",
       "      <th>17</th>\n",
       "      <td>T11</td>\n",
       "      <td>HYDRAULIC_GROUP</td>\n",
       "      <td>2017-04-26 18:06:00+00:00</td>\n",
       "      <td>Hydraulic group error in the brake circuit</td>\n",
       "      <td>18</td>\n",
       "    </tr>\n",
       "    <tr>\n",
       "      <th>18</th>\n",
       "      <td>T07</td>\n",
       "      <td>HYDRAULIC_GROUP</td>\n",
       "      <td>2017-06-17 11:35:00+00:00</td>\n",
       "      <td>Oil leakage in Hub</td>\n",
       "      <td>19</td>\n",
       "    </tr>\n",
       "    <tr>\n",
       "      <th>19</th>\n",
       "      <td>T01</td>\n",
       "      <td>TRANSFORMER</td>\n",
       "      <td>2017-08-11 13:14:00+00:00</td>\n",
       "      <td>Transformer fan damaged</td>\n",
       "      <td>20</td>\n",
       "    </tr>\n",
       "    <tr>\n",
       "      <th>20</th>\n",
       "      <td>T06</td>\n",
       "      <td>HYDRAULIC_GROUP</td>\n",
       "      <td>2017-08-19 09:47:00+00:00</td>\n",
       "      <td>Oil leakage in Hub</td>\n",
       "      <td>21</td>\n",
       "    </tr>\n",
       "    <tr>\n",
       "      <th>21</th>\n",
       "      <td>T07</td>\n",
       "      <td>GENERATOR_BEARING</td>\n",
       "      <td>2017-08-20 06:08:00+00:00</td>\n",
       "      <td>Generator bearings damaged</td>\n",
       "      <td>22</td>\n",
       "    </tr>\n",
       "    <tr>\n",
       "      <th>22</th>\n",
       "      <td>T07</td>\n",
       "      <td>GENERATOR</td>\n",
       "      <td>2017-08-21 14:47:00+00:00</td>\n",
       "      <td>Generator damaged</td>\n",
       "      <td>23</td>\n",
       "    </tr>\n",
       "  </tbody>\n",
       "</table>\n",
       "</div>"
      ],
      "text/plain": [
       "   Turbine_ID          Component                 Timestamp  \\\n",
       "0         T11          GENERATOR 2016-03-03 19:00:00+00:00   \n",
       "1         T06    HYDRAULIC_GROUP 2016-04-04 18:53:00+00:00   \n",
       "2         T07  GENERATOR_BEARING 2016-04-30 12:40:00+00:00   \n",
       "3         T09  GENERATOR_BEARING 2016-06-07 16:59:00+00:00   \n",
       "4         T07        TRANSFORMER 2016-07-10 03:46:00+00:00   \n",
       "5         T06          GENERATOR 2016-07-11 19:48:00+00:00   \n",
       "6         T01            GEARBOX 2016-07-18 02:10:00+00:00   \n",
       "7         T06          GENERATOR 2016-07-24 17:01:00+00:00   \n",
       "8         T09  GENERATOR_BEARING 2016-08-22 18:25:00+00:00   \n",
       "9         T07        TRANSFORMER 2016-08-23 02:21:00+00:00   \n",
       "10        T06          GENERATOR 2016-09-04 08:08:00+00:00   \n",
       "11        T06          GENERATOR 2016-10-02 17:08:00+00:00   \n",
       "12        T09            GEARBOX 2016-10-11 08:06:00+00:00   \n",
       "13        T09  GENERATOR_BEARING 2016-10-17 09:19:00+00:00   \n",
       "14        T11    HYDRAULIC_GROUP 2016-10-17 17:44:00+00:00   \n",
       "15        T06          GENERATOR 2016-10-27 16:26:00+00:00   \n",
       "16        T09  GENERATOR_BEARING 2017-01-25 12:55:00+00:00   \n",
       "17        T11    HYDRAULIC_GROUP 2017-04-26 18:06:00+00:00   \n",
       "18        T07    HYDRAULIC_GROUP 2017-06-17 11:35:00+00:00   \n",
       "19        T01        TRANSFORMER 2017-08-11 13:14:00+00:00   \n",
       "20        T06    HYDRAULIC_GROUP 2017-08-19 09:47:00+00:00   \n",
       "21        T07  GENERATOR_BEARING 2017-08-20 06:08:00+00:00   \n",
       "22        T07          GENERATOR 2017-08-21 14:47:00+00:00   \n",
       "\n",
       "                                              Remarks  Fail_ID  \n",
       "0                 Electric circuit error in generator        1  \n",
       "1                           Error in pitch regulation        2  \n",
       "2   High temperature in generator bearing (replace...        3  \n",
       "3               High tempemperature generator bearing        4  \n",
       "4                        High temperature transformer        5  \n",
       "5                                  Generator replaced        6  \n",
       "6                                Gearbox pump damaged        7  \n",
       "7                Generator temperature sensor failure        8  \n",
       "8                  High temperature generator bearing        9  \n",
       "9   High temperature transformer. Transformer refr...       10  \n",
       "10                   High temperature generator error       11  \n",
       "11  Refrigeration system and temperature sensors i...       12  \n",
       "12                                   Gearbox repaired       13  \n",
       "13                        Generator bearings replaced       14  \n",
       "14         Hydraulic group error in the brake circuit       15  \n",
       "15                                 Generator replaced       16  \n",
       "16                        Generator bearings replaced       17  \n",
       "17         Hydraulic group error in the brake circuit       18  \n",
       "18                                 Oil leakage in Hub       19  \n",
       "19                            Transformer fan damaged       20  \n",
       "20                                 Oil leakage in Hub       21  \n",
       "21                         Generator bearings damaged       22  \n",
       "22                                  Generator damaged       23  "
      ]
     },
     "execution_count": 121,
     "metadata": {},
     "output_type": "execute_result"
    }
   ],
   "source": [
    "df_failures"
   ]
  },
  {
   "cell_type": "code",
   "execution_count": 153,
   "metadata": {},
   "outputs": [],
   "source": [
    "df_failures['Timestamp_new'] = df_failures.apply(lambda x: x['Timestamp'] - datetime.timedelta(minutes=x['Timestamp'].minute % 10,\n",
    "                             seconds=x['Timestamp'].second,\n",
    "                             microseconds=x['Timestamp'].microsecond),axis=1)"
   ]
  },
  {
   "cell_type": "code",
   "execution_count": 154,
   "metadata": {},
   "outputs": [
    {
     "data": {
      "text/plain": [
       "0    2016-03-03 19:00:00+00:00\n",
       "1    2016-04-04 18:50:00+00:00\n",
       "2    2016-04-30 12:40:00+00:00\n",
       "3    2016-06-07 16:50:00+00:00\n",
       "4    2016-07-10 03:40:00+00:00\n",
       "5    2016-07-11 19:40:00+00:00\n",
       "6    2016-07-18 02:10:00+00:00\n",
       "7    2016-07-24 17:00:00+00:00\n",
       "8    2016-08-22 18:20:00+00:00\n",
       "9    2016-08-23 02:20:00+00:00\n",
       "10   2016-09-04 08:00:00+00:00\n",
       "11   2016-10-02 17:00:00+00:00\n",
       "12   2016-10-11 08:00:00+00:00\n",
       "13   2016-10-17 09:10:00+00:00\n",
       "14   2016-10-17 17:40:00+00:00\n",
       "15   2016-10-27 16:20:00+00:00\n",
       "16   2017-01-25 12:50:00+00:00\n",
       "17   2017-04-26 18:00:00+00:00\n",
       "18   2017-06-17 11:30:00+00:00\n",
       "19   2017-08-11 13:10:00+00:00\n",
       "20   2017-08-19 09:40:00+00:00\n",
       "21   2017-08-20 06:00:00+00:00\n",
       "22   2017-08-21 14:40:00+00:00\n",
       "Name: Timestamp_new, dtype: datetime64[ns, UTC]"
      ]
     },
     "execution_count": 154,
     "metadata": {},
     "output_type": "execute_result"
    }
   ],
   "source": [
    "df_failures['Timestamp_new']"
   ]
  },
  {
   "cell_type": "code",
   "execution_count": 152,
   "metadata": {},
   "outputs": [
    {
     "data": {
      "text/plain": [
       "Timestamp('2016-10-11 08:10:00+0000', tz='UTC')"
      ]
     },
     "execution_count": 152,
     "metadata": {},
     "output_type": "execute_result"
    }
   ],
   "source": [
    "df_failures['Timestamp'][12] - datetime.timedelta(minutes=df_failures['Timestamp'][12].minute % -10,\n",
    "                             seconds=df_failures['Timestamp'][12].second,\n",
    "                             microseconds=df_failures['Timestamp'][12].microsecond)"
   ]
  },
  {
   "cell_type": "code",
   "execution_count": 151,
   "metadata": {},
   "outputs": [
    {
     "data": {
      "text/plain": [
       "Timestamp('2016-10-11 08:06:00+0000', tz='UTC')"
      ]
     },
     "execution_count": 151,
     "metadata": {},
     "output_type": "execute_result"
    }
   ],
   "source": [
    "df_failures['Timestamp'][12]"
   ]
  },
  {
   "cell_type": "code",
   "execution_count": 124,
   "metadata": {},
   "outputs": [
    {
     "ename": "AttributeError",
     "evalue": "'Series' object has no attribute 'minute'",
     "output_type": "error",
     "traceback": [
      "\u001b[0;31m---------------------------------------------------------------------------\u001b[0m",
      "\u001b[0;31mAttributeError\u001b[0m                            Traceback (most recent call last)",
      "\u001b[0;32m<ipython-input-124-78319953a719>\u001b[0m in \u001b[0;36m<module>\u001b[0;34m\u001b[0m\n\u001b[0;32m----> 1\u001b[0;31m df_failures['Timestamp_new'] = df_failures['Timestamp'] - datetime.timedelta(minutes=df_failures['Timestamp'].minute % 10,\n\u001b[0m\u001b[1;32m      2\u001b[0m                              \u001b[0mseconds\u001b[0m\u001b[0;34m=\u001b[0m\u001b[0mdf_failures\u001b[0m\u001b[0;34m[\u001b[0m\u001b[0;34m'Timestamp'\u001b[0m\u001b[0;34m]\u001b[0m\u001b[0;34m.\u001b[0m\u001b[0msecond\u001b[0m\u001b[0;34m,\u001b[0m\u001b[0;34m\u001b[0m\u001b[0;34m\u001b[0m\u001b[0m\n\u001b[1;32m      3\u001b[0m                              microseconds=df_failures['Timestamp'].microsecond)\n",
      "\u001b[0;32m~/.pyenv/versions/3.8.5/envs/lewagon/lib/python3.8/site-packages/pandas/core/generic.py\u001b[0m in \u001b[0;36m__getattr__\u001b[0;34m(self, name)\u001b[0m\n\u001b[1;32m   5137\u001b[0m             \u001b[0;32mif\u001b[0m \u001b[0mself\u001b[0m\u001b[0;34m.\u001b[0m\u001b[0m_info_axis\u001b[0m\u001b[0;34m.\u001b[0m\u001b[0m_can_hold_identifiers_and_holds_name\u001b[0m\u001b[0;34m(\u001b[0m\u001b[0mname\u001b[0m\u001b[0;34m)\u001b[0m\u001b[0;34m:\u001b[0m\u001b[0;34m\u001b[0m\u001b[0;34m\u001b[0m\u001b[0m\n\u001b[1;32m   5138\u001b[0m                 \u001b[0;32mreturn\u001b[0m \u001b[0mself\u001b[0m\u001b[0;34m[\u001b[0m\u001b[0mname\u001b[0m\u001b[0;34m]\u001b[0m\u001b[0;34m\u001b[0m\u001b[0;34m\u001b[0m\u001b[0m\n\u001b[0;32m-> 5139\u001b[0;31m             \u001b[0;32mreturn\u001b[0m \u001b[0mobject\u001b[0m\u001b[0;34m.\u001b[0m\u001b[0m__getattribute__\u001b[0m\u001b[0;34m(\u001b[0m\u001b[0mself\u001b[0m\u001b[0;34m,\u001b[0m \u001b[0mname\u001b[0m\u001b[0;34m)\u001b[0m\u001b[0;34m\u001b[0m\u001b[0;34m\u001b[0m\u001b[0m\n\u001b[0m\u001b[1;32m   5140\u001b[0m \u001b[0;34m\u001b[0m\u001b[0m\n\u001b[1;32m   5141\u001b[0m     \u001b[0;32mdef\u001b[0m \u001b[0m__setattr__\u001b[0m\u001b[0;34m(\u001b[0m\u001b[0mself\u001b[0m\u001b[0;34m,\u001b[0m \u001b[0mname\u001b[0m\u001b[0;34m:\u001b[0m \u001b[0mstr\u001b[0m\u001b[0;34m,\u001b[0m \u001b[0mvalue\u001b[0m\u001b[0;34m)\u001b[0m \u001b[0;34m->\u001b[0m \u001b[0;32mNone\u001b[0m\u001b[0;34m:\u001b[0m\u001b[0;34m\u001b[0m\u001b[0;34m\u001b[0m\u001b[0m\n",
      "\u001b[0;31mAttributeError\u001b[0m: 'Series' object has no attribute 'minute'"
     ]
    }
   ],
   "source": [
    "df_failures['Timestamp_new'] = df_failures['Timestamp'] - datetime.timedelta(minutes=df_failures['Timestamp'].minute % 10,\n",
    "                             seconds=df_failures['Timestamp'].second,\n",
    "                             microseconds=df_failures['Timestamp'].microsecond)"
   ]
  },
  {
   "cell_type": "code",
   "execution_count": null,
   "metadata": {},
   "outputs": [],
   "source": []
  },
  {
   "cell_type": "code",
   "execution_count": 104,
   "metadata": {},
   "outputs": [
    {
     "data": {
      "text/html": [
       "<div>\n",
       "<style scoped>\n",
       "    .dataframe tbody tr th:only-of-type {\n",
       "        vertical-align: middle;\n",
       "    }\n",
       "\n",
       "    .dataframe tbody tr th {\n",
       "        vertical-align: top;\n",
       "    }\n",
       "\n",
       "    .dataframe thead th {\n",
       "        text-align: right;\n",
       "    }\n",
       "</style>\n",
       "<table border=\"1\" class=\"dataframe\">\n",
       "  <thead>\n",
       "    <tr style=\"text-align: right;\">\n",
       "      <th></th>\n",
       "      <th>Turbine_ID</th>\n",
       "      <th>Timestamp</th>\n",
       "      <th>Gen_RPM_Max</th>\n",
       "    </tr>\n",
       "  </thead>\n",
       "  <tbody>\n",
       "    <tr>\n",
       "      <th>0</th>\n",
       "      <td>T11</td>\n",
       "      <td>2016-01-01 00:00:00+00:00</td>\n",
       "      <td>1339.4</td>\n",
       "    </tr>\n",
       "    <tr>\n",
       "      <th>1</th>\n",
       "      <td>T06</td>\n",
       "      <td>2016-01-01 00:00:00+00:00</td>\n",
       "      <td>1270.0</td>\n",
       "    </tr>\n",
       "    <tr>\n",
       "      <th>2</th>\n",
       "      <td>T01</td>\n",
       "      <td>2016-01-01 00:00:00+00:00</td>\n",
       "      <td>1277.4</td>\n",
       "    </tr>\n",
       "    <tr>\n",
       "      <th>3</th>\n",
       "      <td>T09</td>\n",
       "      <td>2016-01-01 00:00:00+00:00</td>\n",
       "      <td>1376.7</td>\n",
       "    </tr>\n",
       "    <tr>\n",
       "      <th>4</th>\n",
       "      <td>T07</td>\n",
       "      <td>2016-01-01 00:00:00+00:00</td>\n",
       "      <td>1317.5</td>\n",
       "    </tr>\n",
       "  </tbody>\n",
       "</table>\n",
       "</div>"
      ],
      "text/plain": [
       "  Turbine_ID                 Timestamp  Gen_RPM_Max\n",
       "0        T11 2016-01-01 00:00:00+00:00       1339.4\n",
       "1        T06 2016-01-01 00:00:00+00:00       1270.0\n",
       "2        T01 2016-01-01 00:00:00+00:00       1277.4\n",
       "3        T09 2016-01-01 00:00:00+00:00       1376.7\n",
       "4        T07 2016-01-01 00:00:00+00:00       1317.5"
      ]
     },
     "execution_count": 104,
     "metadata": {},
     "output_type": "execute_result"
    }
   ],
   "source": [
    "df_signals = pd.read_csv('../rawdata/wind-farm-1-signals-training.csv', sep=';')#, nrows=100000)\n",
    "df_signals = df_signals.drop(columns=columns_drop_signals)\n",
    "df_signals = df_signals[['Turbine_ID','Timestamp','Gen_RPM_Max']]\n",
    "df_signals['Timestamp']=pd.to_datetime(df_signals['Timestamp'])\n",
    "df_signals.head()"
   ]
  },
  {
   "cell_type": "code",
   "execution_count": 105,
   "metadata": {},
   "outputs": [
    {
     "data": {
      "text/plain": [
       "Turbine_ID     434145\n",
       "Timestamp      434145\n",
       "Gen_RPM_Max    434145\n",
       "dtype: int64"
      ]
     },
     "execution_count": 105,
     "metadata": {},
     "output_type": "execute_result"
    }
   ],
   "source": [
    "df_signals.count()"
   ]
  },
  {
   "cell_type": "code",
   "execution_count": null,
   "metadata": {},
   "outputs": [],
   "source": []
  },
  {
   "cell_type": "code",
   "execution_count": null,
   "metadata": {},
   "outputs": [],
   "source": []
  },
  {
   "cell_type": "markdown",
   "metadata": {},
   "source": [
    "## Bloco Variavel Alvo"
   ]
  },
  {
   "cell_type": "markdown",
   "metadata": {},
   "source": [
    "Requisitos:\n",
    "\n",
    "-> Ter as variaveis Timestamp já em formato datetime"
   ]
  },
  {
   "cell_type": "code",
   "execution_count": 106,
   "metadata": {},
   "outputs": [],
   "source": [
    "def join(df_signals, df_failures):\n",
    "    return pd.merge(df_signals, df_failures, on='Turbine_ID')\n",
    "    \n",
    "\n"
   ]
  },
  {
   "cell_type": "code",
   "execution_count": 107,
   "metadata": {},
   "outputs": [],
   "source": [
    "#from target import construct_target"
   ]
  },
  {
   "cell_type": "code",
   "execution_count": 108,
   "metadata": {},
   "outputs": [],
   "source": [
    "#construct_target.join(df_signals, df_failures)"
   ]
  },
  {
   "cell_type": "code",
   "execution_count": null,
   "metadata": {},
   "outputs": [],
   "source": []
  },
  {
   "cell_type": "code",
   "execution_count": null,
   "metadata": {},
   "outputs": [],
   "source": []
  },
  {
   "cell_type": "code",
   "execution_count": 109,
   "metadata": {},
   "outputs": [],
   "source": [
    "    \n",
    "df_signals_failures = join(df_signals, df_failures)"
   ]
  },
  {
   "cell_type": "code",
   "execution_count": null,
   "metadata": {},
   "outputs": [],
   "source": []
  },
  {
   "cell_type": "code",
   "execution_count": 110,
   "metadata": {},
   "outputs": [],
   "source": [
    "df_signals_failures         \n",
    "\n",
    "df_signals_failures['Days_To_Failure'] = round((df_signals_failures['Timestamp_y'] - df_signals_failures['Timestamp_x']) / np.timedelta64(24, 'h'),2)\n"
   ]
  },
  {
   "cell_type": "code",
   "execution_count": 111,
   "metadata": {},
   "outputs": [
    {
     "data": {
      "text/html": [
       "<div>\n",
       "<style scoped>\n",
       "    .dataframe tbody tr th:only-of-type {\n",
       "        vertical-align: middle;\n",
       "    }\n",
       "\n",
       "    .dataframe tbody tr th {\n",
       "        vertical-align: top;\n",
       "    }\n",
       "\n",
       "    .dataframe thead th {\n",
       "        text-align: right;\n",
       "    }\n",
       "</style>\n",
       "<table border=\"1\" class=\"dataframe\">\n",
       "  <thead>\n",
       "    <tr style=\"text-align: right;\">\n",
       "      <th></th>\n",
       "      <th>Turbine_ID</th>\n",
       "      <th>Timestamp_x</th>\n",
       "      <th>Gen_RPM_Max</th>\n",
       "      <th>Component</th>\n",
       "      <th>Timestamp_y</th>\n",
       "      <th>Remarks</th>\n",
       "      <th>Days_To_Failure</th>\n",
       "    </tr>\n",
       "  </thead>\n",
       "  <tbody>\n",
       "    <tr>\n",
       "      <th>0</th>\n",
       "      <td>T11</td>\n",
       "      <td>2016-01-01 00:00:00+00:00</td>\n",
       "      <td>1339.4</td>\n",
       "      <td>GENERATOR</td>\n",
       "      <td>2016-03-03 19:00:00+00:00</td>\n",
       "      <td>Electric circuit error in generator</td>\n",
       "      <td>62.79</td>\n",
       "    </tr>\n",
       "    <tr>\n",
       "      <th>1</th>\n",
       "      <td>T11</td>\n",
       "      <td>2016-01-01 00:00:00+00:00</td>\n",
       "      <td>1339.4</td>\n",
       "      <td>HYDRAULIC_GROUP</td>\n",
       "      <td>2016-10-17 17:44:00+00:00</td>\n",
       "      <td>Hydraulic group error in the brake circuit</td>\n",
       "      <td>290.74</td>\n",
       "    </tr>\n",
       "    <tr>\n",
       "      <th>2</th>\n",
       "      <td>T11</td>\n",
       "      <td>2016-01-01 00:00:00+00:00</td>\n",
       "      <td>1339.4</td>\n",
       "      <td>HYDRAULIC_GROUP</td>\n",
       "      <td>2017-04-26 18:06:00+00:00</td>\n",
       "      <td>Hydraulic group error in the brake circuit</td>\n",
       "      <td>481.75</td>\n",
       "    </tr>\n",
       "    <tr>\n",
       "      <th>3</th>\n",
       "      <td>T11</td>\n",
       "      <td>2016-01-01 00:10:00+00:00</td>\n",
       "      <td>1400.5</td>\n",
       "      <td>GENERATOR</td>\n",
       "      <td>2016-03-03 19:00:00+00:00</td>\n",
       "      <td>Electric circuit error in generator</td>\n",
       "      <td>62.78</td>\n",
       "    </tr>\n",
       "    <tr>\n",
       "      <th>4</th>\n",
       "      <td>T11</td>\n",
       "      <td>2016-01-01 00:10:00+00:00</td>\n",
       "      <td>1400.5</td>\n",
       "      <td>HYDRAULIC_GROUP</td>\n",
       "      <td>2016-10-17 17:44:00+00:00</td>\n",
       "      <td>Hydraulic group error in the brake circuit</td>\n",
       "      <td>290.73</td>\n",
       "    </tr>\n",
       "    <tr>\n",
       "      <th>...</th>\n",
       "      <td>...</td>\n",
       "      <td>...</td>\n",
       "      <td>...</td>\n",
       "      <td>...</td>\n",
       "      <td>...</td>\n",
       "      <td>...</td>\n",
       "      <td>...</td>\n",
       "    </tr>\n",
       "    <tr>\n",
       "      <th>1992769</th>\n",
       "      <td>T07</td>\n",
       "      <td>2017-09-01 00:00:00+00:00</td>\n",
       "      <td>1292.0</td>\n",
       "      <td>TRANSFORMER</td>\n",
       "      <td>2016-07-10 03:46:00+00:00</td>\n",
       "      <td>High temperature transformer</td>\n",
       "      <td>-417.84</td>\n",
       "    </tr>\n",
       "    <tr>\n",
       "      <th>1992770</th>\n",
       "      <td>T07</td>\n",
       "      <td>2017-09-01 00:00:00+00:00</td>\n",
       "      <td>1292.0</td>\n",
       "      <td>TRANSFORMER</td>\n",
       "      <td>2016-08-23 02:21:00+00:00</td>\n",
       "      <td>High temperature transformer. Transformer refr...</td>\n",
       "      <td>-373.90</td>\n",
       "    </tr>\n",
       "    <tr>\n",
       "      <th>1992771</th>\n",
       "      <td>T07</td>\n",
       "      <td>2017-09-01 00:00:00+00:00</td>\n",
       "      <td>1292.0</td>\n",
       "      <td>HYDRAULIC_GROUP</td>\n",
       "      <td>2017-06-17 11:35:00+00:00</td>\n",
       "      <td>Oil leakage in Hub</td>\n",
       "      <td>-75.52</td>\n",
       "    </tr>\n",
       "    <tr>\n",
       "      <th>1992772</th>\n",
       "      <td>T07</td>\n",
       "      <td>2017-09-01 00:00:00+00:00</td>\n",
       "      <td>1292.0</td>\n",
       "      <td>GENERATOR_BEARING</td>\n",
       "      <td>2017-08-20 06:08:00+00:00</td>\n",
       "      <td>Generator bearings damaged</td>\n",
       "      <td>-11.74</td>\n",
       "    </tr>\n",
       "    <tr>\n",
       "      <th>1992773</th>\n",
       "      <td>T07</td>\n",
       "      <td>2017-09-01 00:00:00+00:00</td>\n",
       "      <td>1292.0</td>\n",
       "      <td>GENERATOR</td>\n",
       "      <td>2017-08-21 14:47:00+00:00</td>\n",
       "      <td>Generator damaged</td>\n",
       "      <td>-10.38</td>\n",
       "    </tr>\n",
       "  </tbody>\n",
       "</table>\n",
       "<p>1992774 rows × 7 columns</p>\n",
       "</div>"
      ],
      "text/plain": [
       "        Turbine_ID               Timestamp_x  Gen_RPM_Max          Component  \\\n",
       "0              T11 2016-01-01 00:00:00+00:00       1339.4          GENERATOR   \n",
       "1              T11 2016-01-01 00:00:00+00:00       1339.4    HYDRAULIC_GROUP   \n",
       "2              T11 2016-01-01 00:00:00+00:00       1339.4    HYDRAULIC_GROUP   \n",
       "3              T11 2016-01-01 00:10:00+00:00       1400.5          GENERATOR   \n",
       "4              T11 2016-01-01 00:10:00+00:00       1400.5    HYDRAULIC_GROUP   \n",
       "...            ...                       ...          ...                ...   \n",
       "1992769        T07 2017-09-01 00:00:00+00:00       1292.0        TRANSFORMER   \n",
       "1992770        T07 2017-09-01 00:00:00+00:00       1292.0        TRANSFORMER   \n",
       "1992771        T07 2017-09-01 00:00:00+00:00       1292.0    HYDRAULIC_GROUP   \n",
       "1992772        T07 2017-09-01 00:00:00+00:00       1292.0  GENERATOR_BEARING   \n",
       "1992773        T07 2017-09-01 00:00:00+00:00       1292.0          GENERATOR   \n",
       "\n",
       "                      Timestamp_y  \\\n",
       "0       2016-03-03 19:00:00+00:00   \n",
       "1       2016-10-17 17:44:00+00:00   \n",
       "2       2017-04-26 18:06:00+00:00   \n",
       "3       2016-03-03 19:00:00+00:00   \n",
       "4       2016-10-17 17:44:00+00:00   \n",
       "...                           ...   \n",
       "1992769 2016-07-10 03:46:00+00:00   \n",
       "1992770 2016-08-23 02:21:00+00:00   \n",
       "1992771 2017-06-17 11:35:00+00:00   \n",
       "1992772 2017-08-20 06:08:00+00:00   \n",
       "1992773 2017-08-21 14:47:00+00:00   \n",
       "\n",
       "                                                   Remarks  Days_To_Failure  \n",
       "0                      Electric circuit error in generator            62.79  \n",
       "1               Hydraulic group error in the brake circuit           290.74  \n",
       "2               Hydraulic group error in the brake circuit           481.75  \n",
       "3                      Electric circuit error in generator            62.78  \n",
       "4               Hydraulic group error in the brake circuit           290.73  \n",
       "...                                                    ...              ...  \n",
       "1992769                       High temperature transformer          -417.84  \n",
       "1992770  High temperature transformer. Transformer refr...          -373.90  \n",
       "1992771                                 Oil leakage in Hub           -75.52  \n",
       "1992772                         Generator bearings damaged           -11.74  \n",
       "1992773                                  Generator damaged           -10.38  \n",
       "\n",
       "[1992774 rows x 7 columns]"
      ]
     },
     "execution_count": 111,
     "metadata": {},
     "output_type": "execute_result"
    }
   ],
   "source": [
    "df_signals_failures['Days_To_Failure'].min()"
   ]
  },
  {
   "cell_type": "code",
   "execution_count": 63,
   "metadata": {},
   "outputs": [],
   "source": [
    "def Failure_Time_Horizon(days):\n",
    "    if 2 <= days <=60:\n",
    "        Flag=1\n",
    "    else:\n",
    "        Flag=0\n",
    "    return Flag"
   ]
  },
  {
   "cell_type": "code",
   "execution_count": 64,
   "metadata": {},
   "outputs": [],
   "source": [
    "def Failure_Time_and_Component(days, component):\n",
    "    if 2 <= days <=60:\n",
    "        if component == \"GEARBOX\":\n",
    "            Flag=1\n",
    "        elif component == \"GENERATOR\": \n",
    "            Flag=2\n",
    "        elif component == \"GENERATOR_BEARING\": \n",
    "            Flag=3\n",
    "        elif component == \"TRANSFORMER\": \n",
    "            Flag=4\n",
    "        else: \n",
    "            Flag=5\n",
    "    else:\n",
    "        Flag=0\n",
    "        \n",
    "    return Flag"
   ]
  },
  {
   "cell_type": "code",
   "execution_count": null,
   "metadata": {},
   "outputs": [],
   "source": []
  },
  {
   "cell_type": "code",
   "execution_count": 65,
   "metadata": {},
   "outputs": [],
   "source": [
    "df_signals_failures['Target_2C'] = df_signals_failures.apply(lambda x: Failure_Time_Horizon(x['Days_To_Failure']),axis=1)\n"
   ]
  },
  {
   "cell_type": "code",
   "execution_count": 66,
   "metadata": {},
   "outputs": [],
   "source": [
    "#df_signals_failures['Target_6C'] = df_signals_failures.apply(lambda x: Failure_Time_and_Component(x['Days_To_Failure'], x['Component']),axis=1)\n"
   ]
  },
  {
   "cell_type": "code",
   "execution_count": null,
   "metadata": {},
   "outputs": [],
   "source": []
  },
  {
   "cell_type": "code",
   "execution_count": 67,
   "metadata": {},
   "outputs": [],
   "source": [
    "components_list = ['GEARBOX', 'GENERATOR', 'GENERATOR_BEARING', 'TRANSFORMER', 'HYDRAULIC_GROUP']"
   ]
  },
  {
   "cell_type": "code",
   "execution_count": 68,
   "metadata": {},
   "outputs": [],
   "source": [
    "for component in components_list:\n",
    "    df_signals_failures[f'Fail_{component}'] = df_signals_failures.apply(lambda x: Failure_Time_Horizon(x['Days_To_Failure']) if x['Component']==component else 0 ,axis=1)"
   ]
  },
  {
   "cell_type": "code",
   "execution_count": null,
   "metadata": {},
   "outputs": [],
   "source": []
  },
  {
   "cell_type": "code",
   "execution_count": 69,
   "metadata": {},
   "outputs": [],
   "source": [
    "\n",
    "\n",
    "df_Target_2C = df_signals_failures[['Turbine_ID','Timestamp_x','Target_2C']][df_signals_failures['Target_2C']==1].drop_duplicates()\n",
    "#df_Target_6C = df_signals_failures[['Turbine_ID','Timestamp_x','Target_6C']][df_signals_failures['Target_6C']!=0].drop_duplicates()\n",
    "\n",
    "df_Fail_GEARBOX = df_signals_failures[['Turbine_ID','Timestamp_x','Fail_GEARBOX']][df_signals_failures['Fail_GEARBOX']==1].drop_duplicates()\n",
    "df_Fail_GENERATOR = df_signals_failures[['Turbine_ID','Timestamp_x','Fail_GENERATOR']][df_signals_failures['Fail_GENERATOR']==1].drop_duplicates()\n",
    "df_Fail_GENERATOR_BEARING = df_signals_failures[['Turbine_ID','Timestamp_x','Fail_GENERATOR_BEARING']][df_signals_failures['Fail_GENERATOR_BEARING']==1].drop_duplicates()\n",
    "df_Fail_TRANSFORMER = df_signals_failures[['Turbine_ID','Timestamp_x','Fail_TRANSFORMER']][df_signals_failures['Fail_TRANSFORMER']==1].drop_duplicates()\n",
    "df_Fail_HYDRAULIC_GROUP = df_signals_failures[['Turbine_ID','Timestamp_x','Fail_HYDRAULIC_GROUP']][df_signals_failures['Fail_HYDRAULIC_GROUP']==1].drop_duplicates()\n",
    "\n",
    "\n"
   ]
  },
  {
   "cell_type": "code",
   "execution_count": null,
   "metadata": {},
   "outputs": [],
   "source": []
  },
  {
   "cell_type": "code",
   "execution_count": null,
   "metadata": {},
   "outputs": [],
   "source": []
  },
  {
   "cell_type": "code",
   "execution_count": 70,
   "metadata": {},
   "outputs": [],
   "source": [
    "df_list = [df_Target_2C, df_Fail_GEARBOX, df_Fail_GENERATOR, df_Fail_GENERATOR_BEARING, df_Fail_TRANSFORMER, df_Fail_HYDRAULIC_GROUP]\n",
    "#, df_Target_6C"
   ]
  },
  {
   "cell_type": "code",
   "execution_count": 71,
   "metadata": {},
   "outputs": [],
   "source": [
    "          \n",
    "for df_ in df_list:\n",
    "    \n",
    "    df_signals=pd.merge(df_signals, df_, how='left', left_on=['Turbine_ID','Timestamp'],  right_on=['Turbine_ID','Timestamp_x']).drop(columns='Timestamp_x')\n"
   ]
  },
  {
   "cell_type": "code",
   "execution_count": null,
   "metadata": {},
   "outputs": [],
   "source": []
  },
  {
   "cell_type": "code",
   "execution_count": 72,
   "metadata": {},
   "outputs": [],
   "source": [
    "var_list = ['Target_2C', 'Fail_GEARBOX', 'Fail_GENERATOR', 'Fail_GENERATOR_BEARING', 'Fail_TRANSFORMER', 'Fail_HYDRAULIC_GROUP']\n",
    "#, 'Target_6C'"
   ]
  },
  {
   "cell_type": "code",
   "execution_count": 73,
   "metadata": {},
   "outputs": [],
   "source": [
    "for var in var_list:\n",
    "\n",
    "    df_signals[var] = df_signals.apply(lambda x: int(x[var]) if x[var]==1 else int(0), axis=1)"
   ]
  },
  {
   "cell_type": "code",
   "execution_count": 74,
   "metadata": {},
   "outputs": [],
   "source": [
    "df_target = df_signals.drop(columns='Gen_RPM_Max')"
   ]
  },
  {
   "cell_type": "code",
   "execution_count": 75,
   "metadata": {},
   "outputs": [],
   "source": [
    "df_target.to_csv('df_target.csv')"
   ]
  },
  {
   "cell_type": "code",
   "execution_count": 76,
   "metadata": {},
   "outputs": [
    {
     "data": {
      "text/html": [
       "<div>\n",
       "<style scoped>\n",
       "    .dataframe tbody tr th:only-of-type {\n",
       "        vertical-align: middle;\n",
       "    }\n",
       "\n",
       "    .dataframe tbody tr th {\n",
       "        vertical-align: top;\n",
       "    }\n",
       "\n",
       "    .dataframe thead th {\n",
       "        text-align: right;\n",
       "    }\n",
       "</style>\n",
       "<table border=\"1\" class=\"dataframe\">\n",
       "  <thead>\n",
       "    <tr style=\"text-align: right;\">\n",
       "      <th></th>\n",
       "      <th>Unnamed: 0</th>\n",
       "      <th>Turbine_ID</th>\n",
       "      <th>Timestamp</th>\n",
       "      <th>Target_2C</th>\n",
       "      <th>Fail_GEARBOX</th>\n",
       "      <th>Fail_GENERATOR</th>\n",
       "      <th>Fail_GENERATOR_BEARING</th>\n",
       "      <th>Fail_TRANSFORMER</th>\n",
       "      <th>Fail_HYDRAULIC_GROUP</th>\n",
       "    </tr>\n",
       "  </thead>\n",
       "  <tbody>\n",
       "    <tr>\n",
       "      <th>0</th>\n",
       "      <td>0</td>\n",
       "      <td>T11</td>\n",
       "      <td>2016-01-01 00:00:00+00:00</td>\n",
       "      <td>0</td>\n",
       "      <td>0</td>\n",
       "      <td>0</td>\n",
       "      <td>0</td>\n",
       "      <td>0</td>\n",
       "      <td>0</td>\n",
       "    </tr>\n",
       "    <tr>\n",
       "      <th>1</th>\n",
       "      <td>1</td>\n",
       "      <td>T06</td>\n",
       "      <td>2016-01-01 00:00:00+00:00</td>\n",
       "      <td>0</td>\n",
       "      <td>0</td>\n",
       "      <td>0</td>\n",
       "      <td>0</td>\n",
       "      <td>0</td>\n",
       "      <td>0</td>\n",
       "    </tr>\n",
       "    <tr>\n",
       "      <th>2</th>\n",
       "      <td>2</td>\n",
       "      <td>T01</td>\n",
       "      <td>2016-01-01 00:00:00+00:00</td>\n",
       "      <td>0</td>\n",
       "      <td>0</td>\n",
       "      <td>0</td>\n",
       "      <td>0</td>\n",
       "      <td>0</td>\n",
       "      <td>0</td>\n",
       "    </tr>\n",
       "    <tr>\n",
       "      <th>3</th>\n",
       "      <td>3</td>\n",
       "      <td>T09</td>\n",
       "      <td>2016-01-01 00:00:00+00:00</td>\n",
       "      <td>0</td>\n",
       "      <td>0</td>\n",
       "      <td>0</td>\n",
       "      <td>0</td>\n",
       "      <td>0</td>\n",
       "      <td>0</td>\n",
       "    </tr>\n",
       "    <tr>\n",
       "      <th>4</th>\n",
       "      <td>4</td>\n",
       "      <td>T07</td>\n",
       "      <td>2016-01-01 00:00:00+00:00</td>\n",
       "      <td>0</td>\n",
       "      <td>0</td>\n",
       "      <td>0</td>\n",
       "      <td>0</td>\n",
       "      <td>0</td>\n",
       "      <td>0</td>\n",
       "    </tr>\n",
       "    <tr>\n",
       "      <th>...</th>\n",
       "      <td>...</td>\n",
       "      <td>...</td>\n",
       "      <td>...</td>\n",
       "      <td>...</td>\n",
       "      <td>...</td>\n",
       "      <td>...</td>\n",
       "      <td>...</td>\n",
       "      <td>...</td>\n",
       "      <td>...</td>\n",
       "    </tr>\n",
       "    <tr>\n",
       "      <th>434140</th>\n",
       "      <td>434140</td>\n",
       "      <td>T11</td>\n",
       "      <td>2017-09-01 00:00:00+00:00</td>\n",
       "      <td>0</td>\n",
       "      <td>0</td>\n",
       "      <td>0</td>\n",
       "      <td>0</td>\n",
       "      <td>0</td>\n",
       "      <td>0</td>\n",
       "    </tr>\n",
       "    <tr>\n",
       "      <th>434141</th>\n",
       "      <td>434141</td>\n",
       "      <td>T09</td>\n",
       "      <td>2017-09-01 00:00:00+00:00</td>\n",
       "      <td>0</td>\n",
       "      <td>0</td>\n",
       "      <td>0</td>\n",
       "      <td>0</td>\n",
       "      <td>0</td>\n",
       "      <td>0</td>\n",
       "    </tr>\n",
       "    <tr>\n",
       "      <th>434142</th>\n",
       "      <td>434142</td>\n",
       "      <td>T06</td>\n",
       "      <td>2017-09-01 00:00:00+00:00</td>\n",
       "      <td>0</td>\n",
       "      <td>0</td>\n",
       "      <td>0</td>\n",
       "      <td>0</td>\n",
       "      <td>0</td>\n",
       "      <td>0</td>\n",
       "    </tr>\n",
       "    <tr>\n",
       "      <th>434143</th>\n",
       "      <td>434143</td>\n",
       "      <td>T01</td>\n",
       "      <td>2017-09-01 00:00:00+00:00</td>\n",
       "      <td>0</td>\n",
       "      <td>0</td>\n",
       "      <td>0</td>\n",
       "      <td>0</td>\n",
       "      <td>0</td>\n",
       "      <td>0</td>\n",
       "    </tr>\n",
       "    <tr>\n",
       "      <th>434144</th>\n",
       "      <td>434144</td>\n",
       "      <td>T07</td>\n",
       "      <td>2017-09-01 00:00:00+00:00</td>\n",
       "      <td>0</td>\n",
       "      <td>0</td>\n",
       "      <td>0</td>\n",
       "      <td>0</td>\n",
       "      <td>0</td>\n",
       "      <td>0</td>\n",
       "    </tr>\n",
       "  </tbody>\n",
       "</table>\n",
       "<p>434145 rows × 9 columns</p>\n",
       "</div>"
      ],
      "text/plain": [
       "        Unnamed: 0 Turbine_ID                  Timestamp  Target_2C  \\\n",
       "0                0        T11  2016-01-01 00:00:00+00:00          0   \n",
       "1                1        T06  2016-01-01 00:00:00+00:00          0   \n",
       "2                2        T01  2016-01-01 00:00:00+00:00          0   \n",
       "3                3        T09  2016-01-01 00:00:00+00:00          0   \n",
       "4                4        T07  2016-01-01 00:00:00+00:00          0   \n",
       "...            ...        ...                        ...        ...   \n",
       "434140      434140        T11  2017-09-01 00:00:00+00:00          0   \n",
       "434141      434141        T09  2017-09-01 00:00:00+00:00          0   \n",
       "434142      434142        T06  2017-09-01 00:00:00+00:00          0   \n",
       "434143      434143        T01  2017-09-01 00:00:00+00:00          0   \n",
       "434144      434144        T07  2017-09-01 00:00:00+00:00          0   \n",
       "\n",
       "        Fail_GEARBOX  Fail_GENERATOR  Fail_GENERATOR_BEARING  \\\n",
       "0                  0               0                       0   \n",
       "1                  0               0                       0   \n",
       "2                  0               0                       0   \n",
       "3                  0               0                       0   \n",
       "4                  0               0                       0   \n",
       "...              ...             ...                     ...   \n",
       "434140             0               0                       0   \n",
       "434141             0               0                       0   \n",
       "434142             0               0                       0   \n",
       "434143             0               0                       0   \n",
       "434144             0               0                       0   \n",
       "\n",
       "        Fail_TRANSFORMER  Fail_HYDRAULIC_GROUP  \n",
       "0                      0                     0  \n",
       "1                      0                     0  \n",
       "2                      0                     0  \n",
       "3                      0                     0  \n",
       "4                      0                     0  \n",
       "...                  ...                   ...  \n",
       "434140                 0                     0  \n",
       "434141                 0                     0  \n",
       "434142                 0                     0  \n",
       "434143                 0                     0  \n",
       "434144                 0                     0  \n",
       "\n",
       "[434145 rows x 9 columns]"
      ]
     },
     "execution_count": 76,
     "metadata": {},
     "output_type": "execute_result"
    }
   ],
   "source": [
    "pd.read_csv('df_target.csv')"
   ]
  },
  {
   "cell_type": "code",
   "execution_count": 92,
   "metadata": {},
   "outputs": [
    {
     "data": {
      "text/html": [
       "<div>\n",
       "<style scoped>\n",
       "    .dataframe tbody tr th:only-of-type {\n",
       "        vertical-align: middle;\n",
       "    }\n",
       "\n",
       "    .dataframe tbody tr th {\n",
       "        vertical-align: top;\n",
       "    }\n",
       "\n",
       "    .dataframe thead th {\n",
       "        text-align: right;\n",
       "    }\n",
       "</style>\n",
       "<table border=\"1\" class=\"dataframe\">\n",
       "  <thead>\n",
       "    <tr style=\"text-align: right;\">\n",
       "      <th></th>\n",
       "      <th>Turbine_ID</th>\n",
       "      <th>Timestamp</th>\n",
       "      <th>Target_2C</th>\n",
       "      <th>Fail_GEARBOX</th>\n",
       "      <th>Fail_GENERATOR</th>\n",
       "      <th>Fail_GENERATOR_BEARING</th>\n",
       "      <th>Fail_TRANSFORMER</th>\n",
       "      <th>Fail_HYDRAULIC_GROUP</th>\n",
       "    </tr>\n",
       "  </thead>\n",
       "  <tbody>\n",
       "    <tr>\n",
       "      <th>66727</th>\n",
       "      <td>T06</td>\n",
       "      <td>2016-04-02 18:00:00+00:00</td>\n",
       "      <td>1</td>\n",
       "      <td>0</td>\n",
       "      <td>0</td>\n",
       "      <td>0</td>\n",
       "      <td>0</td>\n",
       "      <td>1</td>\n",
       "    </tr>\n",
       "    <tr>\n",
       "      <th>66728</th>\n",
       "      <td>T07</td>\n",
       "      <td>2016-04-02 18:00:00+00:00</td>\n",
       "      <td>1</td>\n",
       "      <td>0</td>\n",
       "      <td>0</td>\n",
       "      <td>1</td>\n",
       "      <td>0</td>\n",
       "      <td>0</td>\n",
       "    </tr>\n",
       "    <tr>\n",
       "      <th>66729</th>\n",
       "      <td>T11</td>\n",
       "      <td>2016-04-02 18:00:00+00:00</td>\n",
       "      <td>0</td>\n",
       "      <td>0</td>\n",
       "      <td>0</td>\n",
       "      <td>0</td>\n",
       "      <td>0</td>\n",
       "      <td>0</td>\n",
       "    </tr>\n",
       "    <tr>\n",
       "      <th>66730</th>\n",
       "      <td>T01</td>\n",
       "      <td>2016-04-02 18:00:00+00:00</td>\n",
       "      <td>0</td>\n",
       "      <td>0</td>\n",
       "      <td>0</td>\n",
       "      <td>0</td>\n",
       "      <td>0</td>\n",
       "      <td>0</td>\n",
       "    </tr>\n",
       "    <tr>\n",
       "      <th>66731</th>\n",
       "      <td>T09</td>\n",
       "      <td>2016-04-02 18:00:00+00:00</td>\n",
       "      <td>0</td>\n",
       "      <td>0</td>\n",
       "      <td>0</td>\n",
       "      <td>0</td>\n",
       "      <td>0</td>\n",
       "      <td>0</td>\n",
       "    </tr>\n",
       "  </tbody>\n",
       "</table>\n",
       "</div>"
      ],
      "text/plain": [
       "      Turbine_ID                 Timestamp  Target_2C  Fail_GEARBOX  \\\n",
       "66727        T06 2016-04-02 18:00:00+00:00          1             0   \n",
       "66728        T07 2016-04-02 18:00:00+00:00          1             0   \n",
       "66729        T11 2016-04-02 18:00:00+00:00          0             0   \n",
       "66730        T01 2016-04-02 18:00:00+00:00          0             0   \n",
       "66731        T09 2016-04-02 18:00:00+00:00          0             0   \n",
       "\n",
       "       Fail_GENERATOR  Fail_GENERATOR_BEARING  Fail_TRANSFORMER  \\\n",
       "66727               0                       0                 0   \n",
       "66728               0                       1                 0   \n",
       "66729               0                       0                 0   \n",
       "66730               0                       0                 0   \n",
       "66731               0                       0                 0   \n",
       "\n",
       "       Fail_HYDRAULIC_GROUP  \n",
       "66727                     1  \n",
       "66728                     0  \n",
       "66729                     0  \n",
       "66730                     0  \n",
       "66731                     0  "
      ]
     },
     "execution_count": 92,
     "metadata": {},
     "output_type": "execute_result"
    }
   ],
   "source": [
    "#df_target[df_target['Fail_GENERATOR']==1][2010:2250]\n",
    "\n",
    "df_target[df_target['Timestamp']=='2016-04-02 18:00:00+00:00']"
   ]
  },
  {
   "cell_type": "code",
   "execution_count": 98,
   "metadata": {},
   "outputs": [
    {
     "data": {
      "text/html": [
       "<div>\n",
       "<style scoped>\n",
       "    .dataframe tbody tr th:only-of-type {\n",
       "        vertical-align: middle;\n",
       "    }\n",
       "\n",
       "    .dataframe tbody tr th {\n",
       "        vertical-align: top;\n",
       "    }\n",
       "\n",
       "    .dataframe thead th {\n",
       "        text-align: right;\n",
       "    }\n",
       "</style>\n",
       "<table border=\"1\" class=\"dataframe\">\n",
       "  <thead>\n",
       "    <tr style=\"text-align: right;\">\n",
       "      <th></th>\n",
       "      <th></th>\n",
       "      <th></th>\n",
       "      <th>Turbine_ID</th>\n",
       "      <th>Timestamp</th>\n",
       "      <th>Fail_GENERATOR_BEARING</th>\n",
       "      <th>Fail_TRANSFORMER</th>\n",
       "      <th>Fail_HYDRAULIC_GROUP</th>\n",
       "    </tr>\n",
       "    <tr>\n",
       "      <th>Target_2C</th>\n",
       "      <th>Fail_GEARBOX</th>\n",
       "      <th>Fail_GENERATOR</th>\n",
       "      <th></th>\n",
       "      <th></th>\n",
       "      <th></th>\n",
       "      <th></th>\n",
       "      <th></th>\n",
       "    </tr>\n",
       "  </thead>\n",
       "  <tbody>\n",
       "    <tr>\n",
       "      <th>0</th>\n",
       "      <th>0</th>\n",
       "      <th>0</th>\n",
       "      <td>281741</td>\n",
       "      <td>281741</td>\n",
       "      <td>281741</td>\n",
       "      <td>281741</td>\n",
       "      <td>281741</td>\n",
       "    </tr>\n",
       "    <tr>\n",
       "      <th rowspan=\"3\" valign=\"top\">1</th>\n",
       "      <th rowspan=\"2\" valign=\"top\">0</th>\n",
       "      <th>0</th>\n",
       "      <td>97318</td>\n",
       "      <td>97318</td>\n",
       "      <td>97318</td>\n",
       "      <td>97318</td>\n",
       "      <td>97318</td>\n",
       "    </tr>\n",
       "    <tr>\n",
       "      <th>1</th>\n",
       "      <td>38609</td>\n",
       "      <td>38609</td>\n",
       "      <td>38609</td>\n",
       "      <td>38609</td>\n",
       "      <td>38609</td>\n",
       "    </tr>\n",
       "    <tr>\n",
       "      <th>1</th>\n",
       "      <th>0</th>\n",
       "      <td>16477</td>\n",
       "      <td>16477</td>\n",
       "      <td>16477</td>\n",
       "      <td>16477</td>\n",
       "      <td>16477</td>\n",
       "    </tr>\n",
       "  </tbody>\n",
       "</table>\n",
       "</div>"
      ],
      "text/plain": [
       "                                       Turbine_ID  Timestamp  \\\n",
       "Target_2C Fail_GEARBOX Fail_GENERATOR                          \n",
       "0         0            0                   281741     281741   \n",
       "1         0            0                    97318      97318   \n",
       "                       1                    38609      38609   \n",
       "          1            0                    16477      16477   \n",
       "\n",
       "                                       Fail_GENERATOR_BEARING  \\\n",
       "Target_2C Fail_GEARBOX Fail_GENERATOR                           \n",
       "0         0            0                               281741   \n",
       "1         0            0                                97318   \n",
       "                       1                                38609   \n",
       "          1            0                                16477   \n",
       "\n",
       "                                       Fail_TRANSFORMER  Fail_HYDRAULIC_GROUP  \n",
       "Target_2C Fail_GEARBOX Fail_GENERATOR                                          \n",
       "0         0            0                         281741                281741  \n",
       "1         0            0                          97318                 97318  \n",
       "                       1                          38609                 38609  \n",
       "          1            0                          16477                 16477  "
      ]
     },
     "execution_count": 98,
     "metadata": {},
     "output_type": "execute_result"
    }
   ],
   "source": [
    "df_target.groupby(['Target_2C','Fail_GEARBOX','Fail_GENERATOR','Fail_GENERATOR_BEARING','Fail_TRANSFORMER','Fail_HYDRAULIC_GROUP']).count()"
   ]
  },
  {
   "cell_type": "code",
   "execution_count": null,
   "metadata": {},
   "outputs": [],
   "source": [
    "df_target.groupby(['Target_2C','Fail_GEARBOX','Fail_GENERATOR','Fail_GENERATOR_BEARING','Fail_TRANSFORMER','Fail_HYDRAULIC_GROUP']).count()"
   ]
  },
  {
   "cell_type": "code",
   "execution_count": null,
   "metadata": {},
   "outputs": [],
   "source": [
    "df_target['Target_6C'].value_counts()"
   ]
  },
  {
   "cell_type": "code",
   "execution_count": 78,
   "metadata": {},
   "outputs": [
    {
     "data": {
      "text/html": [
       "<div>\n",
       "<style scoped>\n",
       "    .dataframe tbody tr th:only-of-type {\n",
       "        vertical-align: middle;\n",
       "    }\n",
       "\n",
       "    .dataframe tbody tr th {\n",
       "        vertical-align: top;\n",
       "    }\n",
       "\n",
       "    .dataframe thead th {\n",
       "        text-align: right;\n",
       "    }\n",
       "</style>\n",
       "<table border=\"1\" class=\"dataframe\">\n",
       "  <thead>\n",
       "    <tr style=\"text-align: right;\">\n",
       "      <th></th>\n",
       "      <th>Turbine_ID</th>\n",
       "      <th>Timestamp</th>\n",
       "      <th>Target_2C</th>\n",
       "      <th>Fail_GEARBOX</th>\n",
       "      <th>Fail_GENERATOR</th>\n",
       "      <th>Fail_GENERATOR_BEARING</th>\n",
       "      <th>Fail_TRANSFORMER</th>\n",
       "      <th>Fail_HYDRAULIC_GROUP</th>\n",
       "    </tr>\n",
       "  </thead>\n",
       "  <tbody>\n",
       "    <tr>\n",
       "      <th>0</th>\n",
       "      <td>T11</td>\n",
       "      <td>2016-01-01 00:00:00+00:00</td>\n",
       "      <td>0</td>\n",
       "      <td>0</td>\n",
       "      <td>0</td>\n",
       "      <td>0</td>\n",
       "      <td>0</td>\n",
       "      <td>0</td>\n",
       "    </tr>\n",
       "    <tr>\n",
       "      <th>1</th>\n",
       "      <td>T06</td>\n",
       "      <td>2016-01-01 00:00:00+00:00</td>\n",
       "      <td>0</td>\n",
       "      <td>0</td>\n",
       "      <td>0</td>\n",
       "      <td>0</td>\n",
       "      <td>0</td>\n",
       "      <td>0</td>\n",
       "    </tr>\n",
       "    <tr>\n",
       "      <th>2</th>\n",
       "      <td>T01</td>\n",
       "      <td>2016-01-01 00:00:00+00:00</td>\n",
       "      <td>0</td>\n",
       "      <td>0</td>\n",
       "      <td>0</td>\n",
       "      <td>0</td>\n",
       "      <td>0</td>\n",
       "      <td>0</td>\n",
       "    </tr>\n",
       "    <tr>\n",
       "      <th>3</th>\n",
       "      <td>T09</td>\n",
       "      <td>2016-01-01 00:00:00+00:00</td>\n",
       "      <td>0</td>\n",
       "      <td>0</td>\n",
       "      <td>0</td>\n",
       "      <td>0</td>\n",
       "      <td>0</td>\n",
       "      <td>0</td>\n",
       "    </tr>\n",
       "    <tr>\n",
       "      <th>4</th>\n",
       "      <td>T07</td>\n",
       "      <td>2016-01-01 00:00:00+00:00</td>\n",
       "      <td>0</td>\n",
       "      <td>0</td>\n",
       "      <td>0</td>\n",
       "      <td>0</td>\n",
       "      <td>0</td>\n",
       "      <td>0</td>\n",
       "    </tr>\n",
       "    <tr>\n",
       "      <th>...</th>\n",
       "      <td>...</td>\n",
       "      <td>...</td>\n",
       "      <td>...</td>\n",
       "      <td>...</td>\n",
       "      <td>...</td>\n",
       "      <td>...</td>\n",
       "      <td>...</td>\n",
       "      <td>...</td>\n",
       "    </tr>\n",
       "    <tr>\n",
       "      <th>434140</th>\n",
       "      <td>T11</td>\n",
       "      <td>2017-09-01 00:00:00+00:00</td>\n",
       "      <td>0</td>\n",
       "      <td>0</td>\n",
       "      <td>0</td>\n",
       "      <td>0</td>\n",
       "      <td>0</td>\n",
       "      <td>0</td>\n",
       "    </tr>\n",
       "    <tr>\n",
       "      <th>434141</th>\n",
       "      <td>T09</td>\n",
       "      <td>2017-09-01 00:00:00+00:00</td>\n",
       "      <td>0</td>\n",
       "      <td>0</td>\n",
       "      <td>0</td>\n",
       "      <td>0</td>\n",
       "      <td>0</td>\n",
       "      <td>0</td>\n",
       "    </tr>\n",
       "    <tr>\n",
       "      <th>434142</th>\n",
       "      <td>T06</td>\n",
       "      <td>2017-09-01 00:00:00+00:00</td>\n",
       "      <td>0</td>\n",
       "      <td>0</td>\n",
       "      <td>0</td>\n",
       "      <td>0</td>\n",
       "      <td>0</td>\n",
       "      <td>0</td>\n",
       "    </tr>\n",
       "    <tr>\n",
       "      <th>434143</th>\n",
       "      <td>T01</td>\n",
       "      <td>2017-09-01 00:00:00+00:00</td>\n",
       "      <td>0</td>\n",
       "      <td>0</td>\n",
       "      <td>0</td>\n",
       "      <td>0</td>\n",
       "      <td>0</td>\n",
       "      <td>0</td>\n",
       "    </tr>\n",
       "    <tr>\n",
       "      <th>434144</th>\n",
       "      <td>T07</td>\n",
       "      <td>2017-09-01 00:00:00+00:00</td>\n",
       "      <td>0</td>\n",
       "      <td>0</td>\n",
       "      <td>0</td>\n",
       "      <td>0</td>\n",
       "      <td>0</td>\n",
       "      <td>0</td>\n",
       "    </tr>\n",
       "  </tbody>\n",
       "</table>\n",
       "<p>434145 rows × 8 columns</p>\n",
       "</div>"
      ],
      "text/plain": [
       "       Turbine_ID                 Timestamp  Target_2C  Fail_GEARBOX  \\\n",
       "0             T11 2016-01-01 00:00:00+00:00          0             0   \n",
       "1             T06 2016-01-01 00:00:00+00:00          0             0   \n",
       "2             T01 2016-01-01 00:00:00+00:00          0             0   \n",
       "3             T09 2016-01-01 00:00:00+00:00          0             0   \n",
       "4             T07 2016-01-01 00:00:00+00:00          0             0   \n",
       "...           ...                       ...        ...           ...   \n",
       "434140        T11 2017-09-01 00:00:00+00:00          0             0   \n",
       "434141        T09 2017-09-01 00:00:00+00:00          0             0   \n",
       "434142        T06 2017-09-01 00:00:00+00:00          0             0   \n",
       "434143        T01 2017-09-01 00:00:00+00:00          0             0   \n",
       "434144        T07 2017-09-01 00:00:00+00:00          0             0   \n",
       "\n",
       "        Fail_GENERATOR  Fail_GENERATOR_BEARING  Fail_TRANSFORMER  \\\n",
       "0                    0                       0                 0   \n",
       "1                    0                       0                 0   \n",
       "2                    0                       0                 0   \n",
       "3                    0                       0                 0   \n",
       "4                    0                       0                 0   \n",
       "...                ...                     ...               ...   \n",
       "434140               0                       0                 0   \n",
       "434141               0                       0                 0   \n",
       "434142               0                       0                 0   \n",
       "434143               0                       0                 0   \n",
       "434144               0                       0                 0   \n",
       "\n",
       "        Fail_HYDRAULIC_GROUP  \n",
       "0                          0  \n",
       "1                          0  \n",
       "2                          0  \n",
       "3                          0  \n",
       "4                          0  \n",
       "...                      ...  \n",
       "434140                     0  \n",
       "434141                     0  \n",
       "434142                     0  \n",
       "434143                     0  \n",
       "434144                     0  \n",
       "\n",
       "[434145 rows x 8 columns]"
      ]
     },
     "execution_count": 78,
     "metadata": {},
     "output_type": "execute_result"
    }
   ],
   "source": [
    "df_target"
   ]
  },
  {
   "cell_type": "code",
   "execution_count": null,
   "metadata": {},
   "outputs": [],
   "source": []
  },
  {
   "cell_type": "code",
   "execution_count": null,
   "metadata": {},
   "outputs": [],
   "source": []
  },
  {
   "cell_type": "code",
   "execution_count": null,
   "metadata": {},
   "outputs": [],
   "source": []
  },
  {
   "cell_type": "code",
   "execution_count": null,
   "metadata": {},
   "outputs": [],
   "source": []
  },
  {
   "cell_type": "code",
   "execution_count": 231,
   "metadata": {},
   "outputs": [
    {
     "data": {
      "text/plain": [
       "434145"
      ]
     },
     "execution_count": 231,
     "metadata": {},
     "output_type": "execute_result"
    }
   ],
   "source": [
    "434145"
   ]
  },
  {
   "cell_type": "code",
   "execution_count": null,
   "metadata": {},
   "outputs": [],
   "source": [
    "434145"
   ]
  },
  {
   "cell_type": "code",
   "execution_count": null,
   "metadata": {},
   "outputs": [],
   "source": []
  },
  {
   "cell_type": "code",
   "execution_count": 112,
   "metadata": {},
   "outputs": [
    {
     "data": {
      "text/plain": [
       "0    1938154\n",
       "1      54620\n",
       "Name: Fail_Generator, dtype: int64"
      ]
     },
     "execution_count": 112,
     "metadata": {},
     "output_type": "execute_result"
    }
   ],
   "source": [
    "df_signals_failures['Fail_Generator'].value_counts()"
   ]
  },
  {
   "cell_type": "code",
   "execution_count": null,
   "metadata": {},
   "outputs": [],
   "source": []
  },
  {
   "cell_type": "code",
   "execution_count": 92,
   "metadata": {},
   "outputs": [
    {
     "data": {
      "text/plain": [
       "Target_2C\n",
       "0            1805835\n",
       "1             186939\n",
       "dtype: int64"
      ]
     },
     "execution_count": 92,
     "metadata": {},
     "output_type": "execute_result"
    }
   ],
   "source": [
    "df_signals_failures[['Target_2C']].value_counts()"
   ]
  },
  {
   "cell_type": "code",
   "execution_count": 98,
   "metadata": {},
   "outputs": [
    {
     "data": {
      "text/html": [
       "<div>\n",
       "<style scoped>\n",
       "    .dataframe tbody tr th:only-of-type {\n",
       "        vertical-align: middle;\n",
       "    }\n",
       "\n",
       "    .dataframe tbody tr th {\n",
       "        vertical-align: top;\n",
       "    }\n",
       "\n",
       "    .dataframe thead th {\n",
       "        text-align: right;\n",
       "    }\n",
       "</style>\n",
       "<table border=\"1\" class=\"dataframe\">\n",
       "  <thead>\n",
       "    <tr style=\"text-align: right;\">\n",
       "      <th></th>\n",
       "      <th>Target_2C</th>\n",
       "    </tr>\n",
       "  </thead>\n",
       "  <tbody>\n",
       "    <tr>\n",
       "      <th>0</th>\n",
       "      <td>True</td>\n",
       "    </tr>\n",
       "    <tr>\n",
       "      <th>1</th>\n",
       "      <td>True</td>\n",
       "    </tr>\n",
       "    <tr>\n",
       "      <th>2</th>\n",
       "      <td>True</td>\n",
       "    </tr>\n",
       "    <tr>\n",
       "      <th>3</th>\n",
       "      <td>True</td>\n",
       "    </tr>\n",
       "    <tr>\n",
       "      <th>4</th>\n",
       "      <td>True</td>\n",
       "    </tr>\n",
       "    <tr>\n",
       "      <th>...</th>\n",
       "      <td>...</td>\n",
       "    </tr>\n",
       "    <tr>\n",
       "      <th>1992769</th>\n",
       "      <td>True</td>\n",
       "    </tr>\n",
       "    <tr>\n",
       "      <th>1992770</th>\n",
       "      <td>True</td>\n",
       "    </tr>\n",
       "    <tr>\n",
       "      <th>1992771</th>\n",
       "      <td>True</td>\n",
       "    </tr>\n",
       "    <tr>\n",
       "      <th>1992772</th>\n",
       "      <td>True</td>\n",
       "    </tr>\n",
       "    <tr>\n",
       "      <th>1992773</th>\n",
       "      <td>True</td>\n",
       "    </tr>\n",
       "  </tbody>\n",
       "</table>\n",
       "<p>1992774 rows × 1 columns</p>\n",
       "</div>"
      ],
      "text/plain": [
       "         Target_2C\n",
       "0             True\n",
       "1             True\n",
       "2             True\n",
       "3             True\n",
       "4             True\n",
       "...            ...\n",
       "1992769       True\n",
       "1992770       True\n",
       "1992771       True\n",
       "1992772       True\n",
       "1992773       True\n",
       "\n",
       "[1992774 rows x 1 columns]"
      ]
     },
     "execution_count": 98,
     "metadata": {},
     "output_type": "execute_result"
    }
   ],
   "source": [
    "df_signals_failures[['Target_2C']]==0"
   ]
  },
  {
   "cell_type": "code",
   "execution_count": null,
   "metadata": {},
   "outputs": [],
   "source": []
  },
  {
   "cell_type": "code",
   "execution_count": 136,
   "metadata": {},
   "outputs": [
    {
     "data": {
      "text/html": [
       "<div>\n",
       "<style scoped>\n",
       "    .dataframe tbody tr th:only-of-type {\n",
       "        vertical-align: middle;\n",
       "    }\n",
       "\n",
       "    .dataframe tbody tr th {\n",
       "        vertical-align: top;\n",
       "    }\n",
       "\n",
       "    .dataframe thead th {\n",
       "        text-align: right;\n",
       "    }\n",
       "</style>\n",
       "<table border=\"1\" class=\"dataframe\">\n",
       "  <thead>\n",
       "    <tr style=\"text-align: right;\">\n",
       "      <th></th>\n",
       "      <th>Turbine_ID</th>\n",
       "      <th>Timestamp_x</th>\n",
       "      <th>Gen_RPM_Max</th>\n",
       "      <th>Component</th>\n",
       "      <th>Timestamp_y</th>\n",
       "      <th>Remarks</th>\n",
       "      <th>Days_To_Failure</th>\n",
       "      <th>Target_2C</th>\n",
       "      <th>Target_6C</th>\n",
       "      <th>Fail_GEARBOX</th>\n",
       "      <th>Fail_GENERATOR</th>\n",
       "      <th>Fail_GENERATOR_BEARING</th>\n",
       "      <th>Fail_TRANSFORMER</th>\n",
       "      <th>Fail_HYDRAULIC_GROUP</th>\n",
       "    </tr>\n",
       "  </thead>\n",
       "  <tbody>\n",
       "    <tr>\n",
       "      <th>192770</th>\n",
       "      <td>T11</td>\n",
       "      <td>2017-03-24 00:30:00+00:00</td>\n",
       "      <td>195.7</td>\n",
       "      <td>HYDRAULIC_GROUP</td>\n",
       "      <td>2017-04-26 18:06:00+00:00</td>\n",
       "      <td>Hydraulic group error in the brake circuit</td>\n",
       "      <td>33.73</td>\n",
       "      <td>1</td>\n",
       "      <td>5</td>\n",
       "      <td>0</td>\n",
       "      <td>0</td>\n",
       "      <td>0</td>\n",
       "      <td>0</td>\n",
       "      <td>1</td>\n",
       "    </tr>\n",
       "    <tr>\n",
       "      <th>192771</th>\n",
       "      <td>T11</td>\n",
       "      <td>2017-03-24 00:40:00+00:00</td>\n",
       "      <td>1368.8</td>\n",
       "      <td>GENERATOR</td>\n",
       "      <td>2016-03-03 19:00:00+00:00</td>\n",
       "      <td>Electric circuit error in generator</td>\n",
       "      <td>-385.24</td>\n",
       "      <td>0</td>\n",
       "      <td>0</td>\n",
       "      <td>0</td>\n",
       "      <td>0</td>\n",
       "      <td>0</td>\n",
       "      <td>0</td>\n",
       "      <td>0</td>\n",
       "    </tr>\n",
       "    <tr>\n",
       "      <th>192772</th>\n",
       "      <td>T11</td>\n",
       "      <td>2017-03-24 00:40:00+00:00</td>\n",
       "      <td>1368.8</td>\n",
       "      <td>HYDRAULIC_GROUP</td>\n",
       "      <td>2016-10-17 17:44:00+00:00</td>\n",
       "      <td>Hydraulic group error in the brake circuit</td>\n",
       "      <td>-157.29</td>\n",
       "      <td>0</td>\n",
       "      <td>0</td>\n",
       "      <td>0</td>\n",
       "      <td>0</td>\n",
       "      <td>0</td>\n",
       "      <td>0</td>\n",
       "      <td>0</td>\n",
       "    </tr>\n",
       "    <tr>\n",
       "      <th>192773</th>\n",
       "      <td>T11</td>\n",
       "      <td>2017-03-24 00:40:00+00:00</td>\n",
       "      <td>1368.8</td>\n",
       "      <td>HYDRAULIC_GROUP</td>\n",
       "      <td>2017-04-26 18:06:00+00:00</td>\n",
       "      <td>Hydraulic group error in the brake circuit</td>\n",
       "      <td>33.73</td>\n",
       "      <td>1</td>\n",
       "      <td>5</td>\n",
       "      <td>0</td>\n",
       "      <td>0</td>\n",
       "      <td>0</td>\n",
       "      <td>0</td>\n",
       "      <td>1</td>\n",
       "    </tr>\n",
       "    <tr>\n",
       "      <th>192774</th>\n",
       "      <td>T11</td>\n",
       "      <td>2017-03-24 00:50:00+00:00</td>\n",
       "      <td>1261.4</td>\n",
       "      <td>GENERATOR</td>\n",
       "      <td>2016-03-03 19:00:00+00:00</td>\n",
       "      <td>Electric circuit error in generator</td>\n",
       "      <td>-385.24</td>\n",
       "      <td>0</td>\n",
       "      <td>0</td>\n",
       "      <td>0</td>\n",
       "      <td>0</td>\n",
       "      <td>0</td>\n",
       "      <td>0</td>\n",
       "      <td>0</td>\n",
       "    </tr>\n",
       "    <tr>\n",
       "      <th>...</th>\n",
       "      <td>...</td>\n",
       "      <td>...</td>\n",
       "      <td>...</td>\n",
       "      <td>...</td>\n",
       "      <td>...</td>\n",
       "      <td>...</td>\n",
       "      <td>...</td>\n",
       "      <td>...</td>\n",
       "      <td>...</td>\n",
       "      <td>...</td>\n",
       "      <td>...</td>\n",
       "      <td>...</td>\n",
       "      <td>...</td>\n",
       "      <td>...</td>\n",
       "    </tr>\n",
       "    <tr>\n",
       "      <th>1992769</th>\n",
       "      <td>T07</td>\n",
       "      <td>2017-09-01 00:00:00+00:00</td>\n",
       "      <td>1292.0</td>\n",
       "      <td>TRANSFORMER</td>\n",
       "      <td>2016-07-10 03:46:00+00:00</td>\n",
       "      <td>High temperature transformer</td>\n",
       "      <td>-417.84</td>\n",
       "      <td>0</td>\n",
       "      <td>0</td>\n",
       "      <td>0</td>\n",
       "      <td>0</td>\n",
       "      <td>0</td>\n",
       "      <td>0</td>\n",
       "      <td>0</td>\n",
       "    </tr>\n",
       "    <tr>\n",
       "      <th>1992770</th>\n",
       "      <td>T07</td>\n",
       "      <td>2017-09-01 00:00:00+00:00</td>\n",
       "      <td>1292.0</td>\n",
       "      <td>TRANSFORMER</td>\n",
       "      <td>2016-08-23 02:21:00+00:00</td>\n",
       "      <td>High temperature transformer. Transformer refr...</td>\n",
       "      <td>-373.90</td>\n",
       "      <td>0</td>\n",
       "      <td>0</td>\n",
       "      <td>0</td>\n",
       "      <td>0</td>\n",
       "      <td>0</td>\n",
       "      <td>0</td>\n",
       "      <td>0</td>\n",
       "    </tr>\n",
       "    <tr>\n",
       "      <th>1992771</th>\n",
       "      <td>T07</td>\n",
       "      <td>2017-09-01 00:00:00+00:00</td>\n",
       "      <td>1292.0</td>\n",
       "      <td>HYDRAULIC_GROUP</td>\n",
       "      <td>2017-06-17 11:35:00+00:00</td>\n",
       "      <td>Oil leakage in Hub</td>\n",
       "      <td>-75.52</td>\n",
       "      <td>0</td>\n",
       "      <td>0</td>\n",
       "      <td>0</td>\n",
       "      <td>0</td>\n",
       "      <td>0</td>\n",
       "      <td>0</td>\n",
       "      <td>0</td>\n",
       "    </tr>\n",
       "    <tr>\n",
       "      <th>1992772</th>\n",
       "      <td>T07</td>\n",
       "      <td>2017-09-01 00:00:00+00:00</td>\n",
       "      <td>1292.0</td>\n",
       "      <td>GENERATOR_BEARING</td>\n",
       "      <td>2017-08-20 06:08:00+00:00</td>\n",
       "      <td>Generator bearings damaged</td>\n",
       "      <td>-11.74</td>\n",
       "      <td>0</td>\n",
       "      <td>0</td>\n",
       "      <td>0</td>\n",
       "      <td>0</td>\n",
       "      <td>0</td>\n",
       "      <td>0</td>\n",
       "      <td>0</td>\n",
       "    </tr>\n",
       "    <tr>\n",
       "      <th>1992773</th>\n",
       "      <td>T07</td>\n",
       "      <td>2017-09-01 00:00:00+00:00</td>\n",
       "      <td>1292.0</td>\n",
       "      <td>GENERATOR</td>\n",
       "      <td>2017-08-21 14:47:00+00:00</td>\n",
       "      <td>Generator damaged</td>\n",
       "      <td>-10.38</td>\n",
       "      <td>0</td>\n",
       "      <td>0</td>\n",
       "      <td>0</td>\n",
       "      <td>0</td>\n",
       "      <td>0</td>\n",
       "      <td>0</td>\n",
       "      <td>0</td>\n",
       "    </tr>\n",
       "  </tbody>\n",
       "</table>\n",
       "<p>1800004 rows × 14 columns</p>\n",
       "</div>"
      ],
      "text/plain": [
       "        Turbine_ID               Timestamp_x  Gen_RPM_Max          Component  \\\n",
       "192770         T11 2017-03-24 00:30:00+00:00        195.7    HYDRAULIC_GROUP   \n",
       "192771         T11 2017-03-24 00:40:00+00:00       1368.8          GENERATOR   \n",
       "192772         T11 2017-03-24 00:40:00+00:00       1368.8    HYDRAULIC_GROUP   \n",
       "192773         T11 2017-03-24 00:40:00+00:00       1368.8    HYDRAULIC_GROUP   \n",
       "192774         T11 2017-03-24 00:50:00+00:00       1261.4          GENERATOR   \n",
       "...            ...                       ...          ...                ...   \n",
       "1992769        T07 2017-09-01 00:00:00+00:00       1292.0        TRANSFORMER   \n",
       "1992770        T07 2017-09-01 00:00:00+00:00       1292.0        TRANSFORMER   \n",
       "1992771        T07 2017-09-01 00:00:00+00:00       1292.0    HYDRAULIC_GROUP   \n",
       "1992772        T07 2017-09-01 00:00:00+00:00       1292.0  GENERATOR_BEARING   \n",
       "1992773        T07 2017-09-01 00:00:00+00:00       1292.0          GENERATOR   \n",
       "\n",
       "                      Timestamp_y  \\\n",
       "192770  2017-04-26 18:06:00+00:00   \n",
       "192771  2016-03-03 19:00:00+00:00   \n",
       "192772  2016-10-17 17:44:00+00:00   \n",
       "192773  2017-04-26 18:06:00+00:00   \n",
       "192774  2016-03-03 19:00:00+00:00   \n",
       "...                           ...   \n",
       "1992769 2016-07-10 03:46:00+00:00   \n",
       "1992770 2016-08-23 02:21:00+00:00   \n",
       "1992771 2017-06-17 11:35:00+00:00   \n",
       "1992772 2017-08-20 06:08:00+00:00   \n",
       "1992773 2017-08-21 14:47:00+00:00   \n",
       "\n",
       "                                                   Remarks  Days_To_Failure  \\\n",
       "192770          Hydraulic group error in the brake circuit            33.73   \n",
       "192771                 Electric circuit error in generator          -385.24   \n",
       "192772          Hydraulic group error in the brake circuit          -157.29   \n",
       "192773          Hydraulic group error in the brake circuit            33.73   \n",
       "192774                 Electric circuit error in generator          -385.24   \n",
       "...                                                    ...              ...   \n",
       "1992769                       High temperature transformer          -417.84   \n",
       "1992770  High temperature transformer. Transformer refr...          -373.90   \n",
       "1992771                                 Oil leakage in Hub           -75.52   \n",
       "1992772                         Generator bearings damaged           -11.74   \n",
       "1992773                                  Generator damaged           -10.38   \n",
       "\n",
       "         Target_2C  Target_6C  Fail_GEARBOX  Fail_GENERATOR  \\\n",
       "192770           1          5             0               0   \n",
       "192771           0          0             0               0   \n",
       "192772           0          0             0               0   \n",
       "192773           1          5             0               0   \n",
       "192774           0          0             0               0   \n",
       "...            ...        ...           ...             ...   \n",
       "1992769          0          0             0               0   \n",
       "1992770          0          0             0               0   \n",
       "1992771          0          0             0               0   \n",
       "1992772          0          0             0               0   \n",
       "1992773          0          0             0               0   \n",
       "\n",
       "         Fail_GENERATOR_BEARING  Fail_TRANSFORMER  Fail_HYDRAULIC_GROUP  \n",
       "192770                        0                 0                     1  \n",
       "192771                        0                 0                     0  \n",
       "192772                        0                 0                     0  \n",
       "192773                        0                 0                     1  \n",
       "192774                        0                 0                     0  \n",
       "...                         ...               ...                   ...  \n",
       "1992769                       0                 0                     0  \n",
       "1992770                       0                 0                     0  \n",
       "1992771                       0                 0                     0  \n",
       "1992772                       0                 0                     0  \n",
       "1992773                       0                 0                     0  \n",
       "\n",
       "[1800004 rows x 14 columns]"
      ]
     },
     "execution_count": 136,
     "metadata": {},
     "output_type": "execute_result"
    }
   ],
   "source": [
    "#exemplo registos com target=1\n",
    "df_signals_failures.iloc[192770:]"
   ]
  },
  {
   "cell_type": "code",
   "execution_count": 138,
   "metadata": {},
   "outputs": [
    {
     "data": {
      "text/plain": [
       "Turbine_ID                1992774\n",
       "Timestamp_x               1992774\n",
       "Gen_RPM_Max               1992774\n",
       "Component                 1992774\n",
       "Timestamp_y               1992774\n",
       "Remarks                   1992774\n",
       "Days_To_Failure           1992774\n",
       "Target_2C                 1992774\n",
       "Target_6C                 1992774\n",
       "Fail_GEARBOX              1992774\n",
       "Fail_GENERATOR            1992774\n",
       "Fail_GENERATOR_BEARING    1992774\n",
       "Fail_TRANSFORMER          1992774\n",
       "Fail_HYDRAULIC_GROUP      1992774\n",
       "dtype: int64"
      ]
     },
     "execution_count": 138,
     "metadata": {},
     "output_type": "execute_result"
    }
   ],
   "source": [
    "df_signals_failures.count()"
   ]
  },
  {
   "cell_type": "code",
   "execution_count": 99,
   "metadata": {},
   "outputs": [
    {
     "data": {
      "text/html": [
       "<div>\n",
       "<style scoped>\n",
       "    .dataframe tbody tr th:only-of-type {\n",
       "        vertical-align: middle;\n",
       "    }\n",
       "\n",
       "    .dataframe tbody tr th {\n",
       "        vertical-align: top;\n",
       "    }\n",
       "\n",
       "    .dataframe thead th {\n",
       "        text-align: right;\n",
       "    }\n",
       "</style>\n",
       "<table border=\"1\" class=\"dataframe\">\n",
       "  <thead>\n",
       "    <tr style=\"text-align: right;\">\n",
       "      <th></th>\n",
       "      <th>Turbine_ID</th>\n",
       "      <th>Timestamp_x</th>\n",
       "      <th>Gen_RPM_Max</th>\n",
       "      <th>Component</th>\n",
       "      <th>Timestamp_y</th>\n",
       "      <th>Remarks</th>\n",
       "      <th>Days_To_Failure</th>\n",
       "      <th>Target_2C</th>\n",
       "    </tr>\n",
       "  </thead>\n",
       "  <tbody>\n",
       "    <tr>\n",
       "      <th>0</th>\n",
       "      <td>NaN</td>\n",
       "      <td>NaT</td>\n",
       "      <td>NaN</td>\n",
       "      <td>NaN</td>\n",
       "      <td>NaT</td>\n",
       "      <td>NaN</td>\n",
       "      <td>NaN</td>\n",
       "      <td>0.0</td>\n",
       "    </tr>\n",
       "    <tr>\n",
       "      <th>1</th>\n",
       "      <td>NaN</td>\n",
       "      <td>NaT</td>\n",
       "      <td>NaN</td>\n",
       "      <td>NaN</td>\n",
       "      <td>NaT</td>\n",
       "      <td>NaN</td>\n",
       "      <td>NaN</td>\n",
       "      <td>0.0</td>\n",
       "    </tr>\n",
       "    <tr>\n",
       "      <th>2</th>\n",
       "      <td>NaN</td>\n",
       "      <td>NaT</td>\n",
       "      <td>NaN</td>\n",
       "      <td>NaN</td>\n",
       "      <td>NaT</td>\n",
       "      <td>NaN</td>\n",
       "      <td>NaN</td>\n",
       "      <td>0.0</td>\n",
       "    </tr>\n",
       "    <tr>\n",
       "      <th>3</th>\n",
       "      <td>NaN</td>\n",
       "      <td>NaT</td>\n",
       "      <td>NaN</td>\n",
       "      <td>NaN</td>\n",
       "      <td>NaT</td>\n",
       "      <td>NaN</td>\n",
       "      <td>NaN</td>\n",
       "      <td>0.0</td>\n",
       "    </tr>\n",
       "    <tr>\n",
       "      <th>4</th>\n",
       "      <td>NaN</td>\n",
       "      <td>NaT</td>\n",
       "      <td>NaN</td>\n",
       "      <td>NaN</td>\n",
       "      <td>NaT</td>\n",
       "      <td>NaN</td>\n",
       "      <td>NaN</td>\n",
       "      <td>0.0</td>\n",
       "    </tr>\n",
       "    <tr>\n",
       "      <th>...</th>\n",
       "      <td>...</td>\n",
       "      <td>...</td>\n",
       "      <td>...</td>\n",
       "      <td>...</td>\n",
       "      <td>...</td>\n",
       "      <td>...</td>\n",
       "      <td>...</td>\n",
       "      <td>...</td>\n",
       "    </tr>\n",
       "    <tr>\n",
       "      <th>1992769</th>\n",
       "      <td>NaN</td>\n",
       "      <td>NaT</td>\n",
       "      <td>NaN</td>\n",
       "      <td>NaN</td>\n",
       "      <td>NaT</td>\n",
       "      <td>NaN</td>\n",
       "      <td>NaN</td>\n",
       "      <td>0.0</td>\n",
       "    </tr>\n",
       "    <tr>\n",
       "      <th>1992770</th>\n",
       "      <td>NaN</td>\n",
       "      <td>NaT</td>\n",
       "      <td>NaN</td>\n",
       "      <td>NaN</td>\n",
       "      <td>NaT</td>\n",
       "      <td>NaN</td>\n",
       "      <td>NaN</td>\n",
       "      <td>0.0</td>\n",
       "    </tr>\n",
       "    <tr>\n",
       "      <th>1992771</th>\n",
       "      <td>NaN</td>\n",
       "      <td>NaT</td>\n",
       "      <td>NaN</td>\n",
       "      <td>NaN</td>\n",
       "      <td>NaT</td>\n",
       "      <td>NaN</td>\n",
       "      <td>NaN</td>\n",
       "      <td>0.0</td>\n",
       "    </tr>\n",
       "    <tr>\n",
       "      <th>1992772</th>\n",
       "      <td>NaN</td>\n",
       "      <td>NaT</td>\n",
       "      <td>NaN</td>\n",
       "      <td>NaN</td>\n",
       "      <td>NaT</td>\n",
       "      <td>NaN</td>\n",
       "      <td>NaN</td>\n",
       "      <td>0.0</td>\n",
       "    </tr>\n",
       "    <tr>\n",
       "      <th>1992773</th>\n",
       "      <td>NaN</td>\n",
       "      <td>NaT</td>\n",
       "      <td>NaN</td>\n",
       "      <td>NaN</td>\n",
       "      <td>NaT</td>\n",
       "      <td>NaN</td>\n",
       "      <td>NaN</td>\n",
       "      <td>0.0</td>\n",
       "    </tr>\n",
       "  </tbody>\n",
       "</table>\n",
       "<p>1992774 rows × 8 columns</p>\n",
       "</div>"
      ],
      "text/plain": [
       "        Turbine_ID Timestamp_x  Gen_RPM_Max Component Timestamp_y Remarks  \\\n",
       "0              NaN         NaT          NaN       NaN         NaT     NaN   \n",
       "1              NaN         NaT          NaN       NaN         NaT     NaN   \n",
       "2              NaN         NaT          NaN       NaN         NaT     NaN   \n",
       "3              NaN         NaT          NaN       NaN         NaT     NaN   \n",
       "4              NaN         NaT          NaN       NaN         NaT     NaN   \n",
       "...            ...         ...          ...       ...         ...     ...   \n",
       "1992769        NaN         NaT          NaN       NaN         NaT     NaN   \n",
       "1992770        NaN         NaT          NaN       NaN         NaT     NaN   \n",
       "1992771        NaN         NaT          NaN       NaN         NaT     NaN   \n",
       "1992772        NaN         NaT          NaN       NaN         NaT     NaN   \n",
       "1992773        NaN         NaT          NaN       NaN         NaT     NaN   \n",
       "\n",
       "         Days_To_Failure  Target_2C  \n",
       "0                    NaN        0.0  \n",
       "1                    NaN        0.0  \n",
       "2                    NaN        0.0  \n",
       "3                    NaN        0.0  \n",
       "4                    NaN        0.0  \n",
       "...                  ...        ...  \n",
       "1992769              NaN        0.0  \n",
       "1992770              NaN        0.0  \n",
       "1992771              NaN        0.0  \n",
       "1992772              NaN        0.0  \n",
       "1992773              NaN        0.0  \n",
       "\n",
       "[1992774 rows x 8 columns]"
      ]
     },
     "execution_count": 99,
     "metadata": {},
     "output_type": "execute_result"
    }
   ],
   "source": [
    "df_signals_failures[df_signals_failures[['Target_2C']]==0]"
   ]
  },
  {
   "cell_type": "code",
   "execution_count": 79,
   "metadata": {},
   "outputs": [
    {
     "ename": "TypeError",
     "evalue": "'float' object is not subscriptable",
     "output_type": "error",
     "traceback": [
      "\u001b[0;31m---------------------------------------------------------------------------\u001b[0m",
      "\u001b[0;31mTypeError\u001b[0m                                 Traceback (most recent call last)",
      "\u001b[0;32m<ipython-input-79-31dc43fb04bc>\u001b[0m in \u001b[0;36m<module>\u001b[0;34m\u001b[0m\n\u001b[0;32m----> 1\u001b[0;31m \u001b[0mdf_signals_failures\u001b[0m\u001b[0;34m[\u001b[0m\u001b[0;34m'Target_2C'\u001b[0m\u001b[0;34m]\u001b[0m\u001b[0;34m=\u001b[0m\u001b[0mdf_signals_failures\u001b[0m\u001b[0;34m[\u001b[0m\u001b[0;34m'Days_To_Failure'\u001b[0m\u001b[0;34m]\u001b[0m\u001b[0;34m.\u001b[0m\u001b[0mapply\u001b[0m\u001b[0;34m(\u001b[0m\u001b[0;32mlambda\u001b[0m \u001b[0mx\u001b[0m\u001b[0;34m:\u001b[0m \u001b[0mFailure_Time_Horizon\u001b[0m\u001b[0;34m(\u001b[0m\u001b[0mx\u001b[0m\u001b[0;34m[\u001b[0m\u001b[0;34m'Days_To_Failure'\u001b[0m\u001b[0;34m]\u001b[0m\u001b[0;34m)\u001b[0m\u001b[0;34m)\u001b[0m\u001b[0;34m\u001b[0m\u001b[0;34m\u001b[0m\u001b[0m\n\u001b[0m",
      "\u001b[0;32m~/.pyenv/versions/3.8.5/envs/lewagon/lib/python3.8/site-packages/pandas/core/series.py\u001b[0m in \u001b[0;36mapply\u001b[0;34m(self, func, convert_dtype, args, **kwds)\u001b[0m\n\u001b[1;32m   4210\u001b[0m             \u001b[0;32melse\u001b[0m\u001b[0;34m:\u001b[0m\u001b[0;34m\u001b[0m\u001b[0;34m\u001b[0m\u001b[0m\n\u001b[1;32m   4211\u001b[0m                 \u001b[0mvalues\u001b[0m \u001b[0;34m=\u001b[0m \u001b[0mself\u001b[0m\u001b[0;34m.\u001b[0m\u001b[0mastype\u001b[0m\u001b[0;34m(\u001b[0m\u001b[0mobject\u001b[0m\u001b[0;34m)\u001b[0m\u001b[0;34m.\u001b[0m\u001b[0m_values\u001b[0m\u001b[0;34m\u001b[0m\u001b[0;34m\u001b[0m\u001b[0m\n\u001b[0;32m-> 4212\u001b[0;31m                 \u001b[0mmapped\u001b[0m \u001b[0;34m=\u001b[0m \u001b[0mlib\u001b[0m\u001b[0;34m.\u001b[0m\u001b[0mmap_infer\u001b[0m\u001b[0;34m(\u001b[0m\u001b[0mvalues\u001b[0m\u001b[0;34m,\u001b[0m \u001b[0mf\u001b[0m\u001b[0;34m,\u001b[0m \u001b[0mconvert\u001b[0m\u001b[0;34m=\u001b[0m\u001b[0mconvert_dtype\u001b[0m\u001b[0;34m)\u001b[0m\u001b[0;34m\u001b[0m\u001b[0;34m\u001b[0m\u001b[0m\n\u001b[0m\u001b[1;32m   4213\u001b[0m \u001b[0;34m\u001b[0m\u001b[0m\n\u001b[1;32m   4214\u001b[0m         \u001b[0;32mif\u001b[0m \u001b[0mlen\u001b[0m\u001b[0;34m(\u001b[0m\u001b[0mmapped\u001b[0m\u001b[0;34m)\u001b[0m \u001b[0;32mand\u001b[0m \u001b[0misinstance\u001b[0m\u001b[0;34m(\u001b[0m\u001b[0mmapped\u001b[0m\u001b[0;34m[\u001b[0m\u001b[0;36m0\u001b[0m\u001b[0;34m]\u001b[0m\u001b[0;34m,\u001b[0m \u001b[0mSeries\u001b[0m\u001b[0;34m)\u001b[0m\u001b[0;34m:\u001b[0m\u001b[0;34m\u001b[0m\u001b[0;34m\u001b[0m\u001b[0m\n",
      "\u001b[0;32mpandas/_libs/lib.pyx\u001b[0m in \u001b[0;36mpandas._libs.lib.map_infer\u001b[0;34m()\u001b[0m\n",
      "\u001b[0;32m<ipython-input-79-31dc43fb04bc>\u001b[0m in \u001b[0;36m<lambda>\u001b[0;34m(x)\u001b[0m\n\u001b[0;32m----> 1\u001b[0;31m \u001b[0mdf_signals_failures\u001b[0m\u001b[0;34m[\u001b[0m\u001b[0;34m'Target_2C'\u001b[0m\u001b[0;34m]\u001b[0m\u001b[0;34m=\u001b[0m\u001b[0mdf_signals_failures\u001b[0m\u001b[0;34m[\u001b[0m\u001b[0;34m'Days_To_Failure'\u001b[0m\u001b[0;34m]\u001b[0m\u001b[0;34m.\u001b[0m\u001b[0mapply\u001b[0m\u001b[0;34m(\u001b[0m\u001b[0;32mlambda\u001b[0m \u001b[0mx\u001b[0m\u001b[0;34m:\u001b[0m \u001b[0mFailure_Time_Horizon\u001b[0m\u001b[0;34m(\u001b[0m\u001b[0mx\u001b[0m\u001b[0;34m[\u001b[0m\u001b[0;34m'Days_To_Failure'\u001b[0m\u001b[0;34m]\u001b[0m\u001b[0;34m)\u001b[0m\u001b[0;34m)\u001b[0m\u001b[0;34m\u001b[0m\u001b[0;34m\u001b[0m\u001b[0m\n\u001b[0m",
      "\u001b[0;31mTypeError\u001b[0m: 'float' object is not subscriptable"
     ]
    }
   ],
   "source": [
    "df.apply(lambda x: func(x['col1'],x['col2']),axis=1)\n"
   ]
  },
  {
   "cell_type": "code",
   "execution_count": 77,
   "metadata": {},
   "outputs": [],
   "source": [
    "#df_signals_failures.apply(lambda x: Failure_Time_Horizon(df_signals_failures['Days_To_Failure']))"
   ]
  },
  {
   "cell_type": "code",
   "execution_count": null,
   "metadata": {},
   "outputs": [],
   "source": []
  },
  {
   "cell_type": "code",
   "execution_count": null,
   "metadata": {},
   "outputs": [],
   "source": []
  },
  {
   "cell_type": "code",
   "execution_count": null,
   "metadata": {},
   "outputs": [],
   "source": []
  },
  {
   "cell_type": "code",
   "execution_count": 14,
   "metadata": {},
   "outputs": [
    {
     "data": {
      "text/plain": [
       "[<matplotlib.lines.Line2D at 0x11d366f10>]"
      ]
     },
     "execution_count": 14,
     "metadata": {},
     "output_type": "execute_result"
    },
    {
     "name": "stdout",
     "output_type": "stream",
     "text": [
      "Error in callback <function flush_figures at 0x1183c00d0> (for post_execute):\n"
     ]
    },
    {
     "ename": "KeyboardInterrupt",
     "evalue": "",
     "output_type": "error",
     "traceback": [
      "\u001b[0;31m---------------------------------------------------------------------------\u001b[0m",
      "\u001b[0;31mKeyboardInterrupt\u001b[0m                         Traceback (most recent call last)",
      "\u001b[0;32m~/.pyenv/versions/3.8.5/envs/lewagon/lib/python3.8/site-packages/ipykernel/pylab/backend_inline.py\u001b[0m in \u001b[0;36mflush_figures\u001b[0;34m()\u001b[0m\n\u001b[1;32m    119\u001b[0m         \u001b[0;31m# ignore the tracking, just draw and close all figures\u001b[0m\u001b[0;34m\u001b[0m\u001b[0;34m\u001b[0m\u001b[0;34m\u001b[0m\u001b[0m\n\u001b[1;32m    120\u001b[0m         \u001b[0;32mtry\u001b[0m\u001b[0;34m:\u001b[0m\u001b[0;34m\u001b[0m\u001b[0;34m\u001b[0m\u001b[0m\n\u001b[0;32m--> 121\u001b[0;31m             \u001b[0;32mreturn\u001b[0m \u001b[0mshow\u001b[0m\u001b[0;34m(\u001b[0m\u001b[0;32mTrue\u001b[0m\u001b[0;34m)\u001b[0m\u001b[0;34m\u001b[0m\u001b[0;34m\u001b[0m\u001b[0m\n\u001b[0m\u001b[1;32m    122\u001b[0m         \u001b[0;32mexcept\u001b[0m \u001b[0mException\u001b[0m \u001b[0;32mas\u001b[0m \u001b[0me\u001b[0m\u001b[0;34m:\u001b[0m\u001b[0;34m\u001b[0m\u001b[0;34m\u001b[0m\u001b[0m\n\u001b[1;32m    123\u001b[0m             \u001b[0;31m# safely show traceback if in IPython, else raise\u001b[0m\u001b[0;34m\u001b[0m\u001b[0;34m\u001b[0m\u001b[0;34m\u001b[0m\u001b[0m\n",
      "\u001b[0;32m~/.pyenv/versions/3.8.5/envs/lewagon/lib/python3.8/site-packages/ipykernel/pylab/backend_inline.py\u001b[0m in \u001b[0;36mshow\u001b[0;34m(close, block)\u001b[0m\n\u001b[1;32m     39\u001b[0m     \u001b[0;32mtry\u001b[0m\u001b[0;34m:\u001b[0m\u001b[0;34m\u001b[0m\u001b[0;34m\u001b[0m\u001b[0m\n\u001b[1;32m     40\u001b[0m         \u001b[0;32mfor\u001b[0m \u001b[0mfigure_manager\u001b[0m \u001b[0;32min\u001b[0m \u001b[0mGcf\u001b[0m\u001b[0;34m.\u001b[0m\u001b[0mget_all_fig_managers\u001b[0m\u001b[0;34m(\u001b[0m\u001b[0;34m)\u001b[0m\u001b[0;34m:\u001b[0m\u001b[0;34m\u001b[0m\u001b[0;34m\u001b[0m\u001b[0m\n\u001b[0;32m---> 41\u001b[0;31m             display(\n\u001b[0m\u001b[1;32m     42\u001b[0m                 \u001b[0mfigure_manager\u001b[0m\u001b[0;34m.\u001b[0m\u001b[0mcanvas\u001b[0m\u001b[0;34m.\u001b[0m\u001b[0mfigure\u001b[0m\u001b[0;34m,\u001b[0m\u001b[0;34m\u001b[0m\u001b[0;34m\u001b[0m\u001b[0m\n\u001b[1;32m     43\u001b[0m                 \u001b[0mmetadata\u001b[0m\u001b[0;34m=\u001b[0m\u001b[0m_fetch_figure_metadata\u001b[0m\u001b[0;34m(\u001b[0m\u001b[0mfigure_manager\u001b[0m\u001b[0;34m.\u001b[0m\u001b[0mcanvas\u001b[0m\u001b[0;34m.\u001b[0m\u001b[0mfigure\u001b[0m\u001b[0;34m)\u001b[0m\u001b[0;34m\u001b[0m\u001b[0;34m\u001b[0m\u001b[0m\n",
      "\u001b[0;32m~/.pyenv/versions/3.8.5/envs/lewagon/lib/python3.8/site-packages/IPython/core/display.py\u001b[0m in \u001b[0;36mdisplay\u001b[0;34m(include, exclude, metadata, transient, display_id, *objs, **kwargs)\u001b[0m\n\u001b[1;32m    311\u001b[0m             \u001b[0mpublish_display_data\u001b[0m\u001b[0;34m(\u001b[0m\u001b[0mdata\u001b[0m\u001b[0;34m=\u001b[0m\u001b[0mobj\u001b[0m\u001b[0;34m,\u001b[0m \u001b[0mmetadata\u001b[0m\u001b[0;34m=\u001b[0m\u001b[0mmetadata\u001b[0m\u001b[0;34m,\u001b[0m \u001b[0;34m**\u001b[0m\u001b[0mkwargs\u001b[0m\u001b[0;34m)\u001b[0m\u001b[0;34m\u001b[0m\u001b[0;34m\u001b[0m\u001b[0m\n\u001b[1;32m    312\u001b[0m         \u001b[0;32melse\u001b[0m\u001b[0;34m:\u001b[0m\u001b[0;34m\u001b[0m\u001b[0;34m\u001b[0m\u001b[0m\n\u001b[0;32m--> 313\u001b[0;31m             \u001b[0mformat_dict\u001b[0m\u001b[0;34m,\u001b[0m \u001b[0mmd_dict\u001b[0m \u001b[0;34m=\u001b[0m \u001b[0mformat\u001b[0m\u001b[0;34m(\u001b[0m\u001b[0mobj\u001b[0m\u001b[0;34m,\u001b[0m \u001b[0minclude\u001b[0m\u001b[0;34m=\u001b[0m\u001b[0minclude\u001b[0m\u001b[0;34m,\u001b[0m \u001b[0mexclude\u001b[0m\u001b[0;34m=\u001b[0m\u001b[0mexclude\u001b[0m\u001b[0;34m)\u001b[0m\u001b[0;34m\u001b[0m\u001b[0;34m\u001b[0m\u001b[0m\n\u001b[0m\u001b[1;32m    314\u001b[0m             \u001b[0;32mif\u001b[0m \u001b[0;32mnot\u001b[0m \u001b[0mformat_dict\u001b[0m\u001b[0;34m:\u001b[0m\u001b[0;34m\u001b[0m\u001b[0;34m\u001b[0m\u001b[0m\n\u001b[1;32m    315\u001b[0m                 \u001b[0;31m# nothing to display (e.g. _ipython_display_ took over)\u001b[0m\u001b[0;34m\u001b[0m\u001b[0;34m\u001b[0m\u001b[0;34m\u001b[0m\u001b[0m\n",
      "\u001b[0;32m~/.pyenv/versions/3.8.5/envs/lewagon/lib/python3.8/site-packages/IPython/core/formatters.py\u001b[0m in \u001b[0;36mformat\u001b[0;34m(self, obj, include, exclude)\u001b[0m\n\u001b[1;32m    178\u001b[0m             \u001b[0mmd\u001b[0m \u001b[0;34m=\u001b[0m \u001b[0;32mNone\u001b[0m\u001b[0;34m\u001b[0m\u001b[0;34m\u001b[0m\u001b[0m\n\u001b[1;32m    179\u001b[0m             \u001b[0;32mtry\u001b[0m\u001b[0;34m:\u001b[0m\u001b[0;34m\u001b[0m\u001b[0;34m\u001b[0m\u001b[0m\n\u001b[0;32m--> 180\u001b[0;31m                 \u001b[0mdata\u001b[0m \u001b[0;34m=\u001b[0m \u001b[0mformatter\u001b[0m\u001b[0;34m(\u001b[0m\u001b[0mobj\u001b[0m\u001b[0;34m)\u001b[0m\u001b[0;34m\u001b[0m\u001b[0;34m\u001b[0m\u001b[0m\n\u001b[0m\u001b[1;32m    181\u001b[0m             \u001b[0;32mexcept\u001b[0m\u001b[0;34m:\u001b[0m\u001b[0;34m\u001b[0m\u001b[0;34m\u001b[0m\u001b[0m\n\u001b[1;32m    182\u001b[0m                 \u001b[0;31m# FIXME: log the exception\u001b[0m\u001b[0;34m\u001b[0m\u001b[0;34m\u001b[0m\u001b[0;34m\u001b[0m\u001b[0m\n",
      "\u001b[0;32m<decorator-gen-2>\u001b[0m in \u001b[0;36m__call__\u001b[0;34m(self, obj)\u001b[0m\n",
      "\u001b[0;32m~/.pyenv/versions/3.8.5/envs/lewagon/lib/python3.8/site-packages/IPython/core/formatters.py\u001b[0m in \u001b[0;36mcatch_format_error\u001b[0;34m(method, self, *args, **kwargs)\u001b[0m\n\u001b[1;32m    222\u001b[0m     \u001b[0;34m\"\"\"show traceback on failed format call\"\"\"\u001b[0m\u001b[0;34m\u001b[0m\u001b[0;34m\u001b[0m\u001b[0m\n\u001b[1;32m    223\u001b[0m     \u001b[0;32mtry\u001b[0m\u001b[0;34m:\u001b[0m\u001b[0;34m\u001b[0m\u001b[0;34m\u001b[0m\u001b[0m\n\u001b[0;32m--> 224\u001b[0;31m         \u001b[0mr\u001b[0m \u001b[0;34m=\u001b[0m \u001b[0mmethod\u001b[0m\u001b[0;34m(\u001b[0m\u001b[0mself\u001b[0m\u001b[0;34m,\u001b[0m \u001b[0;34m*\u001b[0m\u001b[0margs\u001b[0m\u001b[0;34m,\u001b[0m \u001b[0;34m**\u001b[0m\u001b[0mkwargs\u001b[0m\u001b[0;34m)\u001b[0m\u001b[0;34m\u001b[0m\u001b[0;34m\u001b[0m\u001b[0m\n\u001b[0m\u001b[1;32m    225\u001b[0m     \u001b[0;32mexcept\u001b[0m \u001b[0mNotImplementedError\u001b[0m\u001b[0;34m:\u001b[0m\u001b[0;34m\u001b[0m\u001b[0;34m\u001b[0m\u001b[0m\n\u001b[1;32m    226\u001b[0m         \u001b[0;31m# don't warn on NotImplementedErrors\u001b[0m\u001b[0;34m\u001b[0m\u001b[0;34m\u001b[0m\u001b[0;34m\u001b[0m\u001b[0m\n",
      "\u001b[0;32m~/.pyenv/versions/3.8.5/envs/lewagon/lib/python3.8/site-packages/IPython/core/formatters.py\u001b[0m in \u001b[0;36m__call__\u001b[0;34m(self, obj)\u001b[0m\n\u001b[1;32m    339\u001b[0m                 \u001b[0;32mpass\u001b[0m\u001b[0;34m\u001b[0m\u001b[0;34m\u001b[0m\u001b[0m\n\u001b[1;32m    340\u001b[0m             \u001b[0;32melse\u001b[0m\u001b[0;34m:\u001b[0m\u001b[0;34m\u001b[0m\u001b[0;34m\u001b[0m\u001b[0m\n\u001b[0;32m--> 341\u001b[0;31m                 \u001b[0;32mreturn\u001b[0m \u001b[0mprinter\u001b[0m\u001b[0;34m(\u001b[0m\u001b[0mobj\u001b[0m\u001b[0;34m)\u001b[0m\u001b[0;34m\u001b[0m\u001b[0;34m\u001b[0m\u001b[0m\n\u001b[0m\u001b[1;32m    342\u001b[0m             \u001b[0;31m# Finally look for special method names\u001b[0m\u001b[0;34m\u001b[0m\u001b[0;34m\u001b[0m\u001b[0;34m\u001b[0m\u001b[0m\n\u001b[1;32m    343\u001b[0m             \u001b[0mmethod\u001b[0m \u001b[0;34m=\u001b[0m \u001b[0mget_real_method\u001b[0m\u001b[0;34m(\u001b[0m\u001b[0mobj\u001b[0m\u001b[0;34m,\u001b[0m \u001b[0mself\u001b[0m\u001b[0;34m.\u001b[0m\u001b[0mprint_method\u001b[0m\u001b[0;34m)\u001b[0m\u001b[0;34m\u001b[0m\u001b[0;34m\u001b[0m\u001b[0m\n",
      "\u001b[0;32m~/.pyenv/versions/3.8.5/envs/lewagon/lib/python3.8/site-packages/IPython/core/pylabtools.py\u001b[0m in \u001b[0;36m<lambda>\u001b[0;34m(fig)\u001b[0m\n\u001b[1;32m    246\u001b[0m \u001b[0;34m\u001b[0m\u001b[0m\n\u001b[1;32m    247\u001b[0m     \u001b[0;32mif\u001b[0m \u001b[0;34m'png'\u001b[0m \u001b[0;32min\u001b[0m \u001b[0mformats\u001b[0m\u001b[0;34m:\u001b[0m\u001b[0;34m\u001b[0m\u001b[0;34m\u001b[0m\u001b[0m\n\u001b[0;32m--> 248\u001b[0;31m         \u001b[0mpng_formatter\u001b[0m\u001b[0;34m.\u001b[0m\u001b[0mfor_type\u001b[0m\u001b[0;34m(\u001b[0m\u001b[0mFigure\u001b[0m\u001b[0;34m,\u001b[0m \u001b[0;32mlambda\u001b[0m \u001b[0mfig\u001b[0m\u001b[0;34m:\u001b[0m \u001b[0mprint_figure\u001b[0m\u001b[0;34m(\u001b[0m\u001b[0mfig\u001b[0m\u001b[0;34m,\u001b[0m \u001b[0;34m'png'\u001b[0m\u001b[0;34m,\u001b[0m \u001b[0;34m**\u001b[0m\u001b[0mkwargs\u001b[0m\u001b[0;34m)\u001b[0m\u001b[0;34m)\u001b[0m\u001b[0;34m\u001b[0m\u001b[0;34m\u001b[0m\u001b[0m\n\u001b[0m\u001b[1;32m    249\u001b[0m     \u001b[0;32mif\u001b[0m \u001b[0;34m'retina'\u001b[0m \u001b[0;32min\u001b[0m \u001b[0mformats\u001b[0m \u001b[0;32mor\u001b[0m \u001b[0;34m'png2x'\u001b[0m \u001b[0;32min\u001b[0m \u001b[0mformats\u001b[0m\u001b[0;34m:\u001b[0m\u001b[0;34m\u001b[0m\u001b[0;34m\u001b[0m\u001b[0m\n\u001b[1;32m    250\u001b[0m         \u001b[0mpng_formatter\u001b[0m\u001b[0;34m.\u001b[0m\u001b[0mfor_type\u001b[0m\u001b[0;34m(\u001b[0m\u001b[0mFigure\u001b[0m\u001b[0;34m,\u001b[0m \u001b[0;32mlambda\u001b[0m \u001b[0mfig\u001b[0m\u001b[0;34m:\u001b[0m \u001b[0mretina_figure\u001b[0m\u001b[0;34m(\u001b[0m\u001b[0mfig\u001b[0m\u001b[0;34m,\u001b[0m \u001b[0;34m**\u001b[0m\u001b[0mkwargs\u001b[0m\u001b[0;34m)\u001b[0m\u001b[0;34m)\u001b[0m\u001b[0;34m\u001b[0m\u001b[0;34m\u001b[0m\u001b[0m\n",
      "\u001b[0;32m~/.pyenv/versions/3.8.5/envs/lewagon/lib/python3.8/site-packages/IPython/core/pylabtools.py\u001b[0m in \u001b[0;36mprint_figure\u001b[0;34m(fig, fmt, bbox_inches, **kwargs)\u001b[0m\n\u001b[1;32m    130\u001b[0m         \u001b[0mFigureCanvasBase\u001b[0m\u001b[0;34m(\u001b[0m\u001b[0mfig\u001b[0m\u001b[0;34m)\u001b[0m\u001b[0;34m\u001b[0m\u001b[0;34m\u001b[0m\u001b[0m\n\u001b[1;32m    131\u001b[0m \u001b[0;34m\u001b[0m\u001b[0m\n\u001b[0;32m--> 132\u001b[0;31m     \u001b[0mfig\u001b[0m\u001b[0;34m.\u001b[0m\u001b[0mcanvas\u001b[0m\u001b[0;34m.\u001b[0m\u001b[0mprint_figure\u001b[0m\u001b[0;34m(\u001b[0m\u001b[0mbytes_io\u001b[0m\u001b[0;34m,\u001b[0m \u001b[0;34m**\u001b[0m\u001b[0mkw\u001b[0m\u001b[0;34m)\u001b[0m\u001b[0;34m\u001b[0m\u001b[0;34m\u001b[0m\u001b[0m\n\u001b[0m\u001b[1;32m    133\u001b[0m     \u001b[0mdata\u001b[0m \u001b[0;34m=\u001b[0m \u001b[0mbytes_io\u001b[0m\u001b[0;34m.\u001b[0m\u001b[0mgetvalue\u001b[0m\u001b[0;34m(\u001b[0m\u001b[0;34m)\u001b[0m\u001b[0;34m\u001b[0m\u001b[0;34m\u001b[0m\u001b[0m\n\u001b[1;32m    134\u001b[0m     \u001b[0;32mif\u001b[0m \u001b[0mfmt\u001b[0m \u001b[0;34m==\u001b[0m \u001b[0;34m'svg'\u001b[0m\u001b[0;34m:\u001b[0m\u001b[0;34m\u001b[0m\u001b[0;34m\u001b[0m\u001b[0m\n",
      "\u001b[0;32m~/.pyenv/versions/3.8.5/envs/lewagon/lib/python3.8/site-packages/matplotlib/backend_bases.py\u001b[0m in \u001b[0;36mprint_figure\u001b[0;34m(self, filename, dpi, facecolor, edgecolor, orientation, format, bbox_inches, pad_inches, bbox_extra_artists, backend, **kwargs)\u001b[0m\n\u001b[1;32m   2191\u001b[0m                            else suppress())\n\u001b[1;32m   2192\u001b[0m                     \u001b[0;32mwith\u001b[0m \u001b[0mctx\u001b[0m\u001b[0;34m:\u001b[0m\u001b[0;34m\u001b[0m\u001b[0;34m\u001b[0m\u001b[0m\n\u001b[0;32m-> 2193\u001b[0;31m                         \u001b[0mself\u001b[0m\u001b[0;34m.\u001b[0m\u001b[0mfigure\u001b[0m\u001b[0;34m.\u001b[0m\u001b[0mdraw\u001b[0m\u001b[0;34m(\u001b[0m\u001b[0mrenderer\u001b[0m\u001b[0;34m)\u001b[0m\u001b[0;34m\u001b[0m\u001b[0;34m\u001b[0m\u001b[0m\n\u001b[0m\u001b[1;32m   2194\u001b[0m \u001b[0;34m\u001b[0m\u001b[0m\n\u001b[1;32m   2195\u001b[0m                     bbox_inches = self.figure.get_tightbbox(\n",
      "\u001b[0;32m~/.pyenv/versions/3.8.5/envs/lewagon/lib/python3.8/site-packages/matplotlib/artist.py\u001b[0m in \u001b[0;36mdraw_wrapper\u001b[0;34m(artist, renderer, *args, **kwargs)\u001b[0m\n\u001b[1;32m     39\u001b[0m                 \u001b[0mrenderer\u001b[0m\u001b[0;34m.\u001b[0m\u001b[0mstart_filter\u001b[0m\u001b[0;34m(\u001b[0m\u001b[0;34m)\u001b[0m\u001b[0;34m\u001b[0m\u001b[0;34m\u001b[0m\u001b[0m\n\u001b[1;32m     40\u001b[0m \u001b[0;34m\u001b[0m\u001b[0m\n\u001b[0;32m---> 41\u001b[0;31m             \u001b[0;32mreturn\u001b[0m \u001b[0mdraw\u001b[0m\u001b[0;34m(\u001b[0m\u001b[0martist\u001b[0m\u001b[0;34m,\u001b[0m \u001b[0mrenderer\u001b[0m\u001b[0;34m,\u001b[0m \u001b[0;34m*\u001b[0m\u001b[0margs\u001b[0m\u001b[0;34m,\u001b[0m \u001b[0;34m**\u001b[0m\u001b[0mkwargs\u001b[0m\u001b[0;34m)\u001b[0m\u001b[0;34m\u001b[0m\u001b[0;34m\u001b[0m\u001b[0m\n\u001b[0m\u001b[1;32m     42\u001b[0m         \u001b[0;32mfinally\u001b[0m\u001b[0;34m:\u001b[0m\u001b[0;34m\u001b[0m\u001b[0;34m\u001b[0m\u001b[0m\n\u001b[1;32m     43\u001b[0m             \u001b[0;32mif\u001b[0m \u001b[0martist\u001b[0m\u001b[0;34m.\u001b[0m\u001b[0mget_agg_filter\u001b[0m\u001b[0;34m(\u001b[0m\u001b[0;34m)\u001b[0m \u001b[0;32mis\u001b[0m \u001b[0;32mnot\u001b[0m \u001b[0;32mNone\u001b[0m\u001b[0;34m:\u001b[0m\u001b[0;34m\u001b[0m\u001b[0;34m\u001b[0m\u001b[0m\n",
      "\u001b[0;32m~/.pyenv/versions/3.8.5/envs/lewagon/lib/python3.8/site-packages/matplotlib/figure.py\u001b[0m in \u001b[0;36mdraw\u001b[0;34m(self, renderer)\u001b[0m\n\u001b[1;32m   1861\u001b[0m \u001b[0;34m\u001b[0m\u001b[0m\n\u001b[1;32m   1862\u001b[0m             \u001b[0mself\u001b[0m\u001b[0;34m.\u001b[0m\u001b[0mpatch\u001b[0m\u001b[0;34m.\u001b[0m\u001b[0mdraw\u001b[0m\u001b[0;34m(\u001b[0m\u001b[0mrenderer\u001b[0m\u001b[0;34m)\u001b[0m\u001b[0;34m\u001b[0m\u001b[0;34m\u001b[0m\u001b[0m\n\u001b[0;32m-> 1863\u001b[0;31m             mimage._draw_list_compositing_images(\n\u001b[0m\u001b[1;32m   1864\u001b[0m                 renderer, self, artists, self.suppressComposite)\n\u001b[1;32m   1865\u001b[0m \u001b[0;34m\u001b[0m\u001b[0m\n",
      "\u001b[0;32m~/.pyenv/versions/3.8.5/envs/lewagon/lib/python3.8/site-packages/matplotlib/image.py\u001b[0m in \u001b[0;36m_draw_list_compositing_images\u001b[0;34m(renderer, parent, artists, suppress_composite)\u001b[0m\n\u001b[1;32m    129\u001b[0m     \u001b[0;32mif\u001b[0m \u001b[0mnot_composite\u001b[0m \u001b[0;32mor\u001b[0m \u001b[0;32mnot\u001b[0m \u001b[0mhas_images\u001b[0m\u001b[0;34m:\u001b[0m\u001b[0;34m\u001b[0m\u001b[0;34m\u001b[0m\u001b[0m\n\u001b[1;32m    130\u001b[0m         \u001b[0;32mfor\u001b[0m \u001b[0ma\u001b[0m \u001b[0;32min\u001b[0m \u001b[0martists\u001b[0m\u001b[0;34m:\u001b[0m\u001b[0;34m\u001b[0m\u001b[0;34m\u001b[0m\u001b[0m\n\u001b[0;32m--> 131\u001b[0;31m             \u001b[0ma\u001b[0m\u001b[0;34m.\u001b[0m\u001b[0mdraw\u001b[0m\u001b[0;34m(\u001b[0m\u001b[0mrenderer\u001b[0m\u001b[0;34m)\u001b[0m\u001b[0;34m\u001b[0m\u001b[0;34m\u001b[0m\u001b[0m\n\u001b[0m\u001b[1;32m    132\u001b[0m     \u001b[0;32melse\u001b[0m\u001b[0;34m:\u001b[0m\u001b[0;34m\u001b[0m\u001b[0;34m\u001b[0m\u001b[0m\n\u001b[1;32m    133\u001b[0m         \u001b[0;31m# Composite any adjacent images together\u001b[0m\u001b[0;34m\u001b[0m\u001b[0;34m\u001b[0m\u001b[0;34m\u001b[0m\u001b[0m\n",
      "\u001b[0;32m~/.pyenv/versions/3.8.5/envs/lewagon/lib/python3.8/site-packages/matplotlib/artist.py\u001b[0m in \u001b[0;36mdraw_wrapper\u001b[0;34m(artist, renderer, *args, **kwargs)\u001b[0m\n\u001b[1;32m     39\u001b[0m                 \u001b[0mrenderer\u001b[0m\u001b[0;34m.\u001b[0m\u001b[0mstart_filter\u001b[0m\u001b[0;34m(\u001b[0m\u001b[0;34m)\u001b[0m\u001b[0;34m\u001b[0m\u001b[0;34m\u001b[0m\u001b[0m\n\u001b[1;32m     40\u001b[0m \u001b[0;34m\u001b[0m\u001b[0m\n\u001b[0;32m---> 41\u001b[0;31m             \u001b[0;32mreturn\u001b[0m \u001b[0mdraw\u001b[0m\u001b[0;34m(\u001b[0m\u001b[0martist\u001b[0m\u001b[0;34m,\u001b[0m \u001b[0mrenderer\u001b[0m\u001b[0;34m,\u001b[0m \u001b[0;34m*\u001b[0m\u001b[0margs\u001b[0m\u001b[0;34m,\u001b[0m \u001b[0;34m**\u001b[0m\u001b[0mkwargs\u001b[0m\u001b[0;34m)\u001b[0m\u001b[0;34m\u001b[0m\u001b[0;34m\u001b[0m\u001b[0m\n\u001b[0m\u001b[1;32m     42\u001b[0m         \u001b[0;32mfinally\u001b[0m\u001b[0;34m:\u001b[0m\u001b[0;34m\u001b[0m\u001b[0;34m\u001b[0m\u001b[0m\n\u001b[1;32m     43\u001b[0m             \u001b[0;32mif\u001b[0m \u001b[0martist\u001b[0m\u001b[0;34m.\u001b[0m\u001b[0mget_agg_filter\u001b[0m\u001b[0;34m(\u001b[0m\u001b[0;34m)\u001b[0m \u001b[0;32mis\u001b[0m \u001b[0;32mnot\u001b[0m \u001b[0;32mNone\u001b[0m\u001b[0;34m:\u001b[0m\u001b[0;34m\u001b[0m\u001b[0;34m\u001b[0m\u001b[0m\n",
      "\u001b[0;32m~/.pyenv/versions/3.8.5/envs/lewagon/lib/python3.8/site-packages/matplotlib/cbook/deprecation.py\u001b[0m in \u001b[0;36mwrapper\u001b[0;34m(*inner_args, **inner_kwargs)\u001b[0m\n\u001b[1;32m    409\u001b[0m                          \u001b[0;32melse\u001b[0m \u001b[0mdeprecation_addendum\u001b[0m\u001b[0;34m,\u001b[0m\u001b[0;34m\u001b[0m\u001b[0;34m\u001b[0m\u001b[0m\n\u001b[1;32m    410\u001b[0m                 **kwargs)\n\u001b[0;32m--> 411\u001b[0;31m         \u001b[0;32mreturn\u001b[0m \u001b[0mfunc\u001b[0m\u001b[0;34m(\u001b[0m\u001b[0;34m*\u001b[0m\u001b[0minner_args\u001b[0m\u001b[0;34m,\u001b[0m \u001b[0;34m**\u001b[0m\u001b[0minner_kwargs\u001b[0m\u001b[0;34m)\u001b[0m\u001b[0;34m\u001b[0m\u001b[0;34m\u001b[0m\u001b[0m\n\u001b[0m\u001b[1;32m    412\u001b[0m \u001b[0;34m\u001b[0m\u001b[0m\n\u001b[1;32m    413\u001b[0m     \u001b[0;32mreturn\u001b[0m \u001b[0mwrapper\u001b[0m\u001b[0;34m\u001b[0m\u001b[0;34m\u001b[0m\u001b[0m\n",
      "\u001b[0;32m~/.pyenv/versions/3.8.5/envs/lewagon/lib/python3.8/site-packages/matplotlib/axes/_base.py\u001b[0m in \u001b[0;36mdraw\u001b[0;34m(self, renderer, inframe)\u001b[0m\n\u001b[1;32m   2745\u001b[0m             \u001b[0mrenderer\u001b[0m\u001b[0;34m.\u001b[0m\u001b[0mstop_rasterizing\u001b[0m\u001b[0;34m(\u001b[0m\u001b[0;34m)\u001b[0m\u001b[0;34m\u001b[0m\u001b[0;34m\u001b[0m\u001b[0m\n\u001b[1;32m   2746\u001b[0m \u001b[0;34m\u001b[0m\u001b[0m\n\u001b[0;32m-> 2747\u001b[0;31m         \u001b[0mmimage\u001b[0m\u001b[0;34m.\u001b[0m\u001b[0m_draw_list_compositing_images\u001b[0m\u001b[0;34m(\u001b[0m\u001b[0mrenderer\u001b[0m\u001b[0;34m,\u001b[0m \u001b[0mself\u001b[0m\u001b[0;34m,\u001b[0m \u001b[0martists\u001b[0m\u001b[0;34m)\u001b[0m\u001b[0;34m\u001b[0m\u001b[0;34m\u001b[0m\u001b[0m\n\u001b[0m\u001b[1;32m   2748\u001b[0m \u001b[0;34m\u001b[0m\u001b[0m\n\u001b[1;32m   2749\u001b[0m         \u001b[0mrenderer\u001b[0m\u001b[0;34m.\u001b[0m\u001b[0mclose_group\u001b[0m\u001b[0;34m(\u001b[0m\u001b[0;34m'axes'\u001b[0m\u001b[0;34m)\u001b[0m\u001b[0;34m\u001b[0m\u001b[0;34m\u001b[0m\u001b[0m\n",
      "\u001b[0;32m~/.pyenv/versions/3.8.5/envs/lewagon/lib/python3.8/site-packages/matplotlib/image.py\u001b[0m in \u001b[0;36m_draw_list_compositing_images\u001b[0;34m(renderer, parent, artists, suppress_composite)\u001b[0m\n\u001b[1;32m    129\u001b[0m     \u001b[0;32mif\u001b[0m \u001b[0mnot_composite\u001b[0m \u001b[0;32mor\u001b[0m \u001b[0;32mnot\u001b[0m \u001b[0mhas_images\u001b[0m\u001b[0;34m:\u001b[0m\u001b[0;34m\u001b[0m\u001b[0;34m\u001b[0m\u001b[0m\n\u001b[1;32m    130\u001b[0m         \u001b[0;32mfor\u001b[0m \u001b[0ma\u001b[0m \u001b[0;32min\u001b[0m \u001b[0martists\u001b[0m\u001b[0;34m:\u001b[0m\u001b[0;34m\u001b[0m\u001b[0;34m\u001b[0m\u001b[0m\n\u001b[0;32m--> 131\u001b[0;31m             \u001b[0ma\u001b[0m\u001b[0;34m.\u001b[0m\u001b[0mdraw\u001b[0m\u001b[0;34m(\u001b[0m\u001b[0mrenderer\u001b[0m\u001b[0;34m)\u001b[0m\u001b[0;34m\u001b[0m\u001b[0;34m\u001b[0m\u001b[0m\n\u001b[0m\u001b[1;32m    132\u001b[0m     \u001b[0;32melse\u001b[0m\u001b[0;34m:\u001b[0m\u001b[0;34m\u001b[0m\u001b[0;34m\u001b[0m\u001b[0m\n\u001b[1;32m    133\u001b[0m         \u001b[0;31m# Composite any adjacent images together\u001b[0m\u001b[0;34m\u001b[0m\u001b[0;34m\u001b[0m\u001b[0;34m\u001b[0m\u001b[0m\n",
      "\u001b[0;32m~/.pyenv/versions/3.8.5/envs/lewagon/lib/python3.8/site-packages/matplotlib/artist.py\u001b[0m in \u001b[0;36mdraw_wrapper\u001b[0;34m(artist, renderer, *args, **kwargs)\u001b[0m\n\u001b[1;32m     39\u001b[0m                 \u001b[0mrenderer\u001b[0m\u001b[0;34m.\u001b[0m\u001b[0mstart_filter\u001b[0m\u001b[0;34m(\u001b[0m\u001b[0;34m)\u001b[0m\u001b[0;34m\u001b[0m\u001b[0;34m\u001b[0m\u001b[0m\n\u001b[1;32m     40\u001b[0m \u001b[0;34m\u001b[0m\u001b[0m\n\u001b[0;32m---> 41\u001b[0;31m             \u001b[0;32mreturn\u001b[0m \u001b[0mdraw\u001b[0m\u001b[0;34m(\u001b[0m\u001b[0martist\u001b[0m\u001b[0;34m,\u001b[0m \u001b[0mrenderer\u001b[0m\u001b[0;34m,\u001b[0m \u001b[0;34m*\u001b[0m\u001b[0margs\u001b[0m\u001b[0;34m,\u001b[0m \u001b[0;34m**\u001b[0m\u001b[0mkwargs\u001b[0m\u001b[0;34m)\u001b[0m\u001b[0;34m\u001b[0m\u001b[0;34m\u001b[0m\u001b[0m\n\u001b[0m\u001b[1;32m     42\u001b[0m         \u001b[0;32mfinally\u001b[0m\u001b[0;34m:\u001b[0m\u001b[0;34m\u001b[0m\u001b[0;34m\u001b[0m\u001b[0m\n\u001b[1;32m     43\u001b[0m             \u001b[0;32mif\u001b[0m \u001b[0martist\u001b[0m\u001b[0;34m.\u001b[0m\u001b[0mget_agg_filter\u001b[0m\u001b[0;34m(\u001b[0m\u001b[0;34m)\u001b[0m \u001b[0;32mis\u001b[0m \u001b[0;32mnot\u001b[0m \u001b[0;32mNone\u001b[0m\u001b[0;34m:\u001b[0m\u001b[0;34m\u001b[0m\u001b[0;34m\u001b[0m\u001b[0m\n",
      "\u001b[0;32m~/.pyenv/versions/3.8.5/envs/lewagon/lib/python3.8/site-packages/matplotlib/axis.py\u001b[0m in \u001b[0;36mdraw\u001b[0;34m(self, renderer, *args, **kwargs)\u001b[0m\n\u001b[1;32m   1167\u001b[0m \u001b[0;34m\u001b[0m\u001b[0m\n\u001b[1;32m   1168\u001b[0m         \u001b[0;32mfor\u001b[0m \u001b[0mtick\u001b[0m \u001b[0;32min\u001b[0m \u001b[0mticks_to_draw\u001b[0m\u001b[0;34m:\u001b[0m\u001b[0;34m\u001b[0m\u001b[0;34m\u001b[0m\u001b[0m\n\u001b[0;32m-> 1169\u001b[0;31m             \u001b[0mtick\u001b[0m\u001b[0;34m.\u001b[0m\u001b[0mdraw\u001b[0m\u001b[0;34m(\u001b[0m\u001b[0mrenderer\u001b[0m\u001b[0;34m)\u001b[0m\u001b[0;34m\u001b[0m\u001b[0;34m\u001b[0m\u001b[0m\n\u001b[0m\u001b[1;32m   1170\u001b[0m \u001b[0;34m\u001b[0m\u001b[0m\n\u001b[1;32m   1171\u001b[0m         \u001b[0;31m# scale up the axis label box to also find the neighbors, not\u001b[0m\u001b[0;34m\u001b[0m\u001b[0;34m\u001b[0m\u001b[0;34m\u001b[0m\u001b[0m\n",
      "\u001b[0;32m~/.pyenv/versions/3.8.5/envs/lewagon/lib/python3.8/site-packages/matplotlib/artist.py\u001b[0m in \u001b[0;36mdraw_wrapper\u001b[0;34m(artist, renderer, *args, **kwargs)\u001b[0m\n\u001b[1;32m     39\u001b[0m                 \u001b[0mrenderer\u001b[0m\u001b[0;34m.\u001b[0m\u001b[0mstart_filter\u001b[0m\u001b[0;34m(\u001b[0m\u001b[0;34m)\u001b[0m\u001b[0;34m\u001b[0m\u001b[0;34m\u001b[0m\u001b[0m\n\u001b[1;32m     40\u001b[0m \u001b[0;34m\u001b[0m\u001b[0m\n\u001b[0;32m---> 41\u001b[0;31m             \u001b[0;32mreturn\u001b[0m \u001b[0mdraw\u001b[0m\u001b[0;34m(\u001b[0m\u001b[0martist\u001b[0m\u001b[0;34m,\u001b[0m \u001b[0mrenderer\u001b[0m\u001b[0;34m,\u001b[0m \u001b[0;34m*\u001b[0m\u001b[0margs\u001b[0m\u001b[0;34m,\u001b[0m \u001b[0;34m**\u001b[0m\u001b[0mkwargs\u001b[0m\u001b[0;34m)\u001b[0m\u001b[0;34m\u001b[0m\u001b[0;34m\u001b[0m\u001b[0m\n\u001b[0m\u001b[1;32m     42\u001b[0m         \u001b[0;32mfinally\u001b[0m\u001b[0;34m:\u001b[0m\u001b[0;34m\u001b[0m\u001b[0;34m\u001b[0m\u001b[0m\n\u001b[1;32m     43\u001b[0m             \u001b[0;32mif\u001b[0m \u001b[0martist\u001b[0m\u001b[0;34m.\u001b[0m\u001b[0mget_agg_filter\u001b[0m\u001b[0;34m(\u001b[0m\u001b[0;34m)\u001b[0m \u001b[0;32mis\u001b[0m \u001b[0;32mnot\u001b[0m \u001b[0;32mNone\u001b[0m\u001b[0;34m:\u001b[0m\u001b[0;34m\u001b[0m\u001b[0;34m\u001b[0m\u001b[0m\n",
      "\u001b[0;32m~/.pyenv/versions/3.8.5/envs/lewagon/lib/python3.8/site-packages/matplotlib/axis.py\u001b[0m in \u001b[0;36mdraw\u001b[0;34m(self, renderer)\u001b[0m\n\u001b[1;32m    289\u001b[0m         for artist in [self.gridline, self.tick1line, self.tick2line,\n\u001b[1;32m    290\u001b[0m                        self.label1, self.label2]:\n\u001b[0;32m--> 291\u001b[0;31m             \u001b[0martist\u001b[0m\u001b[0;34m.\u001b[0m\u001b[0mdraw\u001b[0m\u001b[0;34m(\u001b[0m\u001b[0mrenderer\u001b[0m\u001b[0;34m)\u001b[0m\u001b[0;34m\u001b[0m\u001b[0;34m\u001b[0m\u001b[0m\n\u001b[0m\u001b[1;32m    292\u001b[0m         \u001b[0mrenderer\u001b[0m\u001b[0;34m.\u001b[0m\u001b[0mclose_group\u001b[0m\u001b[0;34m(\u001b[0m\u001b[0mself\u001b[0m\u001b[0;34m.\u001b[0m\u001b[0m__name__\u001b[0m\u001b[0;34m)\u001b[0m\u001b[0;34m\u001b[0m\u001b[0;34m\u001b[0m\u001b[0m\n\u001b[1;32m    293\u001b[0m         \u001b[0mself\u001b[0m\u001b[0;34m.\u001b[0m\u001b[0mstale\u001b[0m \u001b[0;34m=\u001b[0m \u001b[0;32mFalse\u001b[0m\u001b[0;34m\u001b[0m\u001b[0;34m\u001b[0m\u001b[0m\n",
      "\u001b[0;32m~/.pyenv/versions/3.8.5/envs/lewagon/lib/python3.8/site-packages/matplotlib/artist.py\u001b[0m in \u001b[0;36mdraw_wrapper\u001b[0;34m(artist, renderer, *args, **kwargs)\u001b[0m\n\u001b[1;32m     39\u001b[0m                 \u001b[0mrenderer\u001b[0m\u001b[0;34m.\u001b[0m\u001b[0mstart_filter\u001b[0m\u001b[0;34m(\u001b[0m\u001b[0;34m)\u001b[0m\u001b[0;34m\u001b[0m\u001b[0;34m\u001b[0m\u001b[0m\n\u001b[1;32m     40\u001b[0m \u001b[0;34m\u001b[0m\u001b[0m\n\u001b[0;32m---> 41\u001b[0;31m             \u001b[0;32mreturn\u001b[0m \u001b[0mdraw\u001b[0m\u001b[0;34m(\u001b[0m\u001b[0martist\u001b[0m\u001b[0;34m,\u001b[0m \u001b[0mrenderer\u001b[0m\u001b[0;34m,\u001b[0m \u001b[0;34m*\u001b[0m\u001b[0margs\u001b[0m\u001b[0;34m,\u001b[0m \u001b[0;34m**\u001b[0m\u001b[0mkwargs\u001b[0m\u001b[0;34m)\u001b[0m\u001b[0;34m\u001b[0m\u001b[0;34m\u001b[0m\u001b[0m\n\u001b[0m\u001b[1;32m     42\u001b[0m         \u001b[0;32mfinally\u001b[0m\u001b[0;34m:\u001b[0m\u001b[0;34m\u001b[0m\u001b[0;34m\u001b[0m\u001b[0m\n\u001b[1;32m     43\u001b[0m             \u001b[0;32mif\u001b[0m \u001b[0martist\u001b[0m\u001b[0;34m.\u001b[0m\u001b[0mget_agg_filter\u001b[0m\u001b[0;34m(\u001b[0m\u001b[0;34m)\u001b[0m \u001b[0;32mis\u001b[0m \u001b[0;32mnot\u001b[0m \u001b[0;32mNone\u001b[0m\u001b[0;34m:\u001b[0m\u001b[0;34m\u001b[0m\u001b[0;34m\u001b[0m\u001b[0m\n",
      "\u001b[0;32m~/.pyenv/versions/3.8.5/envs/lewagon/lib/python3.8/site-packages/matplotlib/text.py\u001b[0m in \u001b[0;36mdraw\u001b[0;34m(self, renderer)\u001b[0m\n\u001b[1;32m    677\u001b[0m \u001b[0;34m\u001b[0m\u001b[0m\n\u001b[1;32m    678\u001b[0m         \u001b[0;32mwith\u001b[0m \u001b[0m_wrap_text\u001b[0m\u001b[0;34m(\u001b[0m\u001b[0mself\u001b[0m\u001b[0;34m)\u001b[0m \u001b[0;32mas\u001b[0m \u001b[0mtextobj\u001b[0m\u001b[0;34m:\u001b[0m\u001b[0;34m\u001b[0m\u001b[0;34m\u001b[0m\u001b[0m\n\u001b[0;32m--> 679\u001b[0;31m             \u001b[0mbbox\u001b[0m\u001b[0;34m,\u001b[0m \u001b[0minfo\u001b[0m\u001b[0;34m,\u001b[0m \u001b[0mdescent\u001b[0m \u001b[0;34m=\u001b[0m \u001b[0mtextobj\u001b[0m\u001b[0;34m.\u001b[0m\u001b[0m_get_layout\u001b[0m\u001b[0;34m(\u001b[0m\u001b[0mrenderer\u001b[0m\u001b[0;34m)\u001b[0m\u001b[0;34m\u001b[0m\u001b[0;34m\u001b[0m\u001b[0m\n\u001b[0m\u001b[1;32m    680\u001b[0m             \u001b[0mtrans\u001b[0m \u001b[0;34m=\u001b[0m \u001b[0mtextobj\u001b[0m\u001b[0;34m.\u001b[0m\u001b[0mget_transform\u001b[0m\u001b[0;34m(\u001b[0m\u001b[0;34m)\u001b[0m\u001b[0;34m\u001b[0m\u001b[0;34m\u001b[0m\u001b[0m\n\u001b[1;32m    681\u001b[0m \u001b[0;34m\u001b[0m\u001b[0m\n",
      "\u001b[0;32m~/.pyenv/versions/3.8.5/envs/lewagon/lib/python3.8/site-packages/matplotlib/text.py\u001b[0m in \u001b[0;36m_get_layout\u001b[0;34m(self, renderer)\u001b[0m\n\u001b[1;32m    283\u001b[0m \u001b[0;34m\u001b[0m\u001b[0m\n\u001b[1;32m    284\u001b[0m         \u001b[0;31m# Full vertical extent of font, including ascenders and descenders:\u001b[0m\u001b[0;34m\u001b[0m\u001b[0;34m\u001b[0m\u001b[0;34m\u001b[0m\u001b[0m\n\u001b[0;32m--> 285\u001b[0;31m         _, lp_h, lp_d = renderer.get_text_width_height_descent(\n\u001b[0m\u001b[1;32m    286\u001b[0m             \u001b[0;34m\"lp\"\u001b[0m\u001b[0;34m,\u001b[0m \u001b[0mself\u001b[0m\u001b[0;34m.\u001b[0m\u001b[0m_fontproperties\u001b[0m\u001b[0;34m,\u001b[0m\u001b[0;34m\u001b[0m\u001b[0;34m\u001b[0m\u001b[0m\n\u001b[1;32m    287\u001b[0m             ismath=\"TeX\" if self.get_usetex() else False)\n",
      "\u001b[0;32m~/.pyenv/versions/3.8.5/envs/lewagon/lib/python3.8/site-packages/matplotlib/backends/backend_agg.py\u001b[0m in \u001b[0;36mget_text_width_height_descent\u001b[0;34m(self, s, prop, ismath)\u001b[0m\n\u001b[1;32m    236\u001b[0m         \u001b[0mflags\u001b[0m \u001b[0;34m=\u001b[0m \u001b[0mget_hinting_flag\u001b[0m\u001b[0;34m(\u001b[0m\u001b[0;34m)\u001b[0m\u001b[0;34m\u001b[0m\u001b[0;34m\u001b[0m\u001b[0m\n\u001b[1;32m    237\u001b[0m         \u001b[0mfont\u001b[0m \u001b[0;34m=\u001b[0m \u001b[0mself\u001b[0m\u001b[0;34m.\u001b[0m\u001b[0m_get_agg_font\u001b[0m\u001b[0;34m(\u001b[0m\u001b[0mprop\u001b[0m\u001b[0;34m)\u001b[0m\u001b[0;34m\u001b[0m\u001b[0;34m\u001b[0m\u001b[0m\n\u001b[0;32m--> 238\u001b[0;31m         \u001b[0mfont\u001b[0m\u001b[0;34m.\u001b[0m\u001b[0mset_text\u001b[0m\u001b[0;34m(\u001b[0m\u001b[0ms\u001b[0m\u001b[0;34m,\u001b[0m \u001b[0;36m0.0\u001b[0m\u001b[0;34m,\u001b[0m \u001b[0mflags\u001b[0m\u001b[0;34m=\u001b[0m\u001b[0mflags\u001b[0m\u001b[0;34m)\u001b[0m\u001b[0;34m\u001b[0m\u001b[0;34m\u001b[0m\u001b[0m\n\u001b[0m\u001b[1;32m    239\u001b[0m         \u001b[0mw\u001b[0m\u001b[0;34m,\u001b[0m \u001b[0mh\u001b[0m \u001b[0;34m=\u001b[0m \u001b[0mfont\u001b[0m\u001b[0;34m.\u001b[0m\u001b[0mget_width_height\u001b[0m\u001b[0;34m(\u001b[0m\u001b[0;34m)\u001b[0m  \u001b[0;31m# width and height of unrotated string\u001b[0m\u001b[0;34m\u001b[0m\u001b[0;34m\u001b[0m\u001b[0m\n\u001b[1;32m    240\u001b[0m         \u001b[0md\u001b[0m \u001b[0;34m=\u001b[0m \u001b[0mfont\u001b[0m\u001b[0;34m.\u001b[0m\u001b[0mget_descent\u001b[0m\u001b[0;34m(\u001b[0m\u001b[0;34m)\u001b[0m\u001b[0;34m\u001b[0m\u001b[0;34m\u001b[0m\u001b[0m\n",
      "\u001b[0;31mKeyboardInterrupt\u001b[0m: "
     ]
    }
   ],
   "source": [
    "fig = plt.figure(figsize=(20,10))\n",
    "plt.plot(df_signals['Timestamp'], df_signals['Gen_RPM_Max'])\n"
   ]
  },
  {
   "cell_type": "code",
   "execution_count": null,
   "metadata": {},
   "outputs": [],
   "source": []
  },
  {
   "cell_type": "code",
   "execution_count": null,
   "metadata": {},
   "outputs": [],
   "source": []
  },
  {
   "cell_type": "code",
   "execution_count": 7,
   "metadata": {},
   "outputs": [
    {
     "data": {
      "text/plain": [
       "86829.0"
      ]
     },
     "execution_count": 7,
     "metadata": {},
     "output_type": "execute_result"
    }
   ],
   "source": [
    "434145/5"
   ]
  },
  {
   "cell_type": "code",
   "execution_count": 8,
   "metadata": {},
   "outputs": [
    {
     "data": {
      "text/html": [
       "<div>\n",
       "<style scoped>\n",
       "    .dataframe tbody tr th:only-of-type {\n",
       "        vertical-align: middle;\n",
       "    }\n",
       "\n",
       "    .dataframe tbody tr th {\n",
       "        vertical-align: top;\n",
       "    }\n",
       "\n",
       "    .dataframe thead th {\n",
       "        text-align: right;\n",
       "    }\n",
       "</style>\n",
       "<table border=\"1\" class=\"dataframe\">\n",
       "  <thead>\n",
       "    <tr style=\"text-align: right;\">\n",
       "      <th></th>\n",
       "      <th>Gen_RPM_Max</th>\n",
       "      <th>Gen_RPM_Min</th>\n",
       "      <th>Gen_RPM_Avg</th>\n",
       "      <th>Gen_RPM_Std</th>\n",
       "      <th>Gen_Bear_Temp_Avg</th>\n",
       "      <th>Gen_Phase1_Temp_Avg</th>\n",
       "      <th>Gen_Phase2_Temp_Avg</th>\n",
       "      <th>Gen_Phase3_Temp_Avg</th>\n",
       "      <th>Hyd_Oil_Temp_Avg</th>\n",
       "      <th>Gear_Oil_Temp_Avg</th>\n",
       "      <th>...</th>\n",
       "      <th>Grd_Prod_PsbleInd_Avg</th>\n",
       "      <th>Grd_Prod_PsbleInd_Max</th>\n",
       "      <th>Grd_Prod_PsbleInd_Min</th>\n",
       "      <th>Grd_Prod_PsbleInd_Std</th>\n",
       "      <th>Grd_Prod_PsbleCap_Avg</th>\n",
       "      <th>Grd_Prod_PsbleCap_Max</th>\n",
       "      <th>Grd_Prod_PsbleCap_Min</th>\n",
       "      <th>Grd_Prod_PsbleCap_Std</th>\n",
       "      <th>Gen_Bear2_Temp_Avg</th>\n",
       "      <th>Nac_Direction_Avg</th>\n",
       "    </tr>\n",
       "  </thead>\n",
       "  <tbody>\n",
       "    <tr>\n",
       "      <th>count</th>\n",
       "      <td>434145.000000</td>\n",
       "      <td>434145.000000</td>\n",
       "      <td>434145.000000</td>\n",
       "      <td>434145.000000</td>\n",
       "      <td>434138.000000</td>\n",
       "      <td>434145.000000</td>\n",
       "      <td>434145.000000</td>\n",
       "      <td>434145.000000</td>\n",
       "      <td>434145.000000</td>\n",
       "      <td>434145.000000</td>\n",
       "      <td>...</td>\n",
       "      <td>434145.000000</td>\n",
       "      <td>434145.000000</td>\n",
       "      <td>434145.000000</td>\n",
       "      <td>434145.000000</td>\n",
       "      <td>434145.000000</td>\n",
       "      <td>434145.000000</td>\n",
       "      <td>434145.000000</td>\n",
       "      <td>434145.000000</td>\n",
       "      <td>434145.000000</td>\n",
       "      <td>434145.000000</td>\n",
       "    </tr>\n",
       "    <tr>\n",
       "      <th>mean</th>\n",
       "      <td>1180.310084</td>\n",
       "      <td>923.317963</td>\n",
       "      <td>1055.186079</td>\n",
       "      <td>68.819458</td>\n",
       "      <td>47.068879</td>\n",
       "      <td>64.429142</td>\n",
       "      <td>64.082938</td>\n",
       "      <td>63.717733</td>\n",
       "      <td>37.775914</td>\n",
       "      <td>47.474406</td>\n",
       "      <td>...</td>\n",
       "      <td>-535.226245</td>\n",
       "      <td>-368.445122</td>\n",
       "      <td>-674.827909</td>\n",
       "      <td>75.668842</td>\n",
       "      <td>503.261352</td>\n",
       "      <td>662.075995</td>\n",
       "      <td>320.132837</td>\n",
       "      <td>82.694327</td>\n",
       "      <td>43.381573</td>\n",
       "      <td>185.173063</td>\n",
       "    </tr>\n",
       "    <tr>\n",
       "      <th>std</th>\n",
       "      <td>642.006443</td>\n",
       "      <td>614.935372</td>\n",
       "      <td>617.817715</td>\n",
       "      <td>112.115169</td>\n",
       "      <td>17.601409</td>\n",
       "      <td>28.603491</td>\n",
       "      <td>27.594479</td>\n",
       "      <td>27.174093</td>\n",
       "      <td>8.466287</td>\n",
       "      <td>7.102676</td>\n",
       "      <td>...</td>\n",
       "      <td>422.332435</td>\n",
       "      <td>386.130033</td>\n",
       "      <td>441.406806</td>\n",
       "      <td>97.040909</td>\n",
       "      <td>411.198363</td>\n",
       "      <td>438.854230</td>\n",
       "      <td>354.557765</td>\n",
       "      <td>100.024771</td>\n",
       "      <td>14.201787</td>\n",
       "      <td>94.590627</td>\n",
       "    </tr>\n",
       "    <tr>\n",
       "      <th>min</th>\n",
       "      <td>0.000000</td>\n",
       "      <td>0.000000</td>\n",
       "      <td>0.000000</td>\n",
       "      <td>0.000000</td>\n",
       "      <td>12.000000</td>\n",
       "      <td>14.000000</td>\n",
       "      <td>14.000000</td>\n",
       "      <td>14.000000</td>\n",
       "      <td>20.000000</td>\n",
       "      <td>15.000000</td>\n",
       "      <td>...</td>\n",
       "      <td>-1000.000000</td>\n",
       "      <td>-1000.000000</td>\n",
       "      <td>-1000.000000</td>\n",
       "      <td>0.000000</td>\n",
       "      <td>0.000000</td>\n",
       "      <td>0.000000</td>\n",
       "      <td>-200.000000</td>\n",
       "      <td>0.000000</td>\n",
       "      <td>13.000000</td>\n",
       "      <td>0.000000</td>\n",
       "    </tr>\n",
       "    <tr>\n",
       "      <th>25%</th>\n",
       "      <td>303.700000</td>\n",
       "      <td>183.900000</td>\n",
       "      <td>261.400000</td>\n",
       "      <td>14.000000</td>\n",
       "      <td>35.000000</td>\n",
       "      <td>42.000000</td>\n",
       "      <td>42.000000</td>\n",
       "      <td>42.000000</td>\n",
       "      <td>30.000000</td>\n",
       "      <td>42.000000</td>\n",
       "      <td>...</td>\n",
       "      <td>-984.600000</td>\n",
       "      <td>-583.300000</td>\n",
       "      <td>-1000.000000</td>\n",
       "      <td>0.000000</td>\n",
       "      <td>0.000000</td>\n",
       "      <td>0.000000</td>\n",
       "      <td>0.000000</td>\n",
       "      <td>0.000000</td>\n",
       "      <td>33.000000</td>\n",
       "      <td>102.100000</td>\n",
       "    </tr>\n",
       "    <tr>\n",
       "      <th>50%</th>\n",
       "      <td>1421.100000</td>\n",
       "      <td>1231.300000</td>\n",
       "      <td>1276.800000</td>\n",
       "      <td>28.500000</td>\n",
       "      <td>44.000000</td>\n",
       "      <td>60.000000</td>\n",
       "      <td>61.000000</td>\n",
       "      <td>60.000000</td>\n",
       "      <td>37.000000</td>\n",
       "      <td>49.000000</td>\n",
       "      <td>...</td>\n",
       "      <td>-623.600000</td>\n",
       "      <td>-249.300000</td>\n",
       "      <td>-1000.000000</td>\n",
       "      <td>18.700000</td>\n",
       "      <td>501.300000</td>\n",
       "      <td>1000.000000</td>\n",
       "      <td>249.300000</td>\n",
       "      <td>32.400000</td>\n",
       "      <td>41.000000</td>\n",
       "      <td>164.500000</td>\n",
       "    </tr>\n",
       "    <tr>\n",
       "      <th>75%</th>\n",
       "      <td>1681.900000</td>\n",
       "      <td>1369.400000</td>\n",
       "      <td>1592.300000</td>\n",
       "      <td>70.800000</td>\n",
       "      <td>57.000000</td>\n",
       "      <td>78.000000</td>\n",
       "      <td>77.000000</td>\n",
       "      <td>77.000000</td>\n",
       "      <td>46.000000</td>\n",
       "      <td>53.000000</td>\n",
       "      <td>...</td>\n",
       "      <td>0.000000</td>\n",
       "      <td>0.000000</td>\n",
       "      <td>0.000000</td>\n",
       "      <td>142.700000</td>\n",
       "      <td>961.300000</td>\n",
       "      <td>1000.000000</td>\n",
       "      <td>495.200000</td>\n",
       "      <td>155.000000</td>\n",
       "      <td>53.000000</td>\n",
       "      <td>275.300000</td>\n",
       "    </tr>\n",
       "    <tr>\n",
       "      <th>max</th>\n",
       "      <td>2040.900000</td>\n",
       "      <td>1672.000000</td>\n",
       "      <td>1684.400000</td>\n",
       "      <td>823.200000</td>\n",
       "      <td>205.000000</td>\n",
       "      <td>205.000000</td>\n",
       "      <td>205.000000</td>\n",
       "      <td>205.000000</td>\n",
       "      <td>55.000000</td>\n",
       "      <td>65.000000</td>\n",
       "      <td>...</td>\n",
       "      <td>0.000000</td>\n",
       "      <td>200.000000</td>\n",
       "      <td>0.000000</td>\n",
       "      <td>500.000000</td>\n",
       "      <td>1000.000000</td>\n",
       "      <td>1000.000000</td>\n",
       "      <td>1000.000000</td>\n",
       "      <td>500.000000</td>\n",
       "      <td>205.000000</td>\n",
       "      <td>359.000000</td>\n",
       "    </tr>\n",
       "  </tbody>\n",
       "</table>\n",
       "<p>8 rows × 79 columns</p>\n",
       "</div>"
      ],
      "text/plain": [
       "         Gen_RPM_Max    Gen_RPM_Min    Gen_RPM_Avg    Gen_RPM_Std  \\\n",
       "count  434145.000000  434145.000000  434145.000000  434145.000000   \n",
       "mean     1180.310084     923.317963    1055.186079      68.819458   \n",
       "std       642.006443     614.935372     617.817715     112.115169   \n",
       "min         0.000000       0.000000       0.000000       0.000000   \n",
       "25%       303.700000     183.900000     261.400000      14.000000   \n",
       "50%      1421.100000    1231.300000    1276.800000      28.500000   \n",
       "75%      1681.900000    1369.400000    1592.300000      70.800000   \n",
       "max      2040.900000    1672.000000    1684.400000     823.200000   \n",
       "\n",
       "       Gen_Bear_Temp_Avg  Gen_Phase1_Temp_Avg  Gen_Phase2_Temp_Avg  \\\n",
       "count      434138.000000        434145.000000        434145.000000   \n",
       "mean           47.068879            64.429142            64.082938   \n",
       "std            17.601409            28.603491            27.594479   \n",
       "min            12.000000            14.000000            14.000000   \n",
       "25%            35.000000            42.000000            42.000000   \n",
       "50%            44.000000            60.000000            61.000000   \n",
       "75%            57.000000            78.000000            77.000000   \n",
       "max           205.000000           205.000000           205.000000   \n",
       "\n",
       "       Gen_Phase3_Temp_Avg  Hyd_Oil_Temp_Avg  Gear_Oil_Temp_Avg  ...  \\\n",
       "count        434145.000000     434145.000000      434145.000000  ...   \n",
       "mean             63.717733         37.775914          47.474406  ...   \n",
       "std              27.174093          8.466287           7.102676  ...   \n",
       "min              14.000000         20.000000          15.000000  ...   \n",
       "25%              42.000000         30.000000          42.000000  ...   \n",
       "50%              60.000000         37.000000          49.000000  ...   \n",
       "75%              77.000000         46.000000          53.000000  ...   \n",
       "max             205.000000         55.000000          65.000000  ...   \n",
       "\n",
       "       Grd_Prod_PsbleInd_Avg  Grd_Prod_PsbleInd_Max  Grd_Prod_PsbleInd_Min  \\\n",
       "count          434145.000000          434145.000000          434145.000000   \n",
       "mean             -535.226245            -368.445122            -674.827909   \n",
       "std               422.332435             386.130033             441.406806   \n",
       "min             -1000.000000           -1000.000000           -1000.000000   \n",
       "25%              -984.600000            -583.300000           -1000.000000   \n",
       "50%              -623.600000            -249.300000           -1000.000000   \n",
       "75%                 0.000000               0.000000               0.000000   \n",
       "max                 0.000000             200.000000               0.000000   \n",
       "\n",
       "       Grd_Prod_PsbleInd_Std  Grd_Prod_PsbleCap_Avg  Grd_Prod_PsbleCap_Max  \\\n",
       "count          434145.000000          434145.000000          434145.000000   \n",
       "mean               75.668842             503.261352             662.075995   \n",
       "std                97.040909             411.198363             438.854230   \n",
       "min                 0.000000               0.000000               0.000000   \n",
       "25%                 0.000000               0.000000               0.000000   \n",
       "50%                18.700000             501.300000            1000.000000   \n",
       "75%               142.700000             961.300000            1000.000000   \n",
       "max               500.000000            1000.000000            1000.000000   \n",
       "\n",
       "       Grd_Prod_PsbleCap_Min  Grd_Prod_PsbleCap_Std  Gen_Bear2_Temp_Avg  \\\n",
       "count          434145.000000          434145.000000       434145.000000   \n",
       "mean              320.132837              82.694327           43.381573   \n",
       "std               354.557765             100.024771           14.201787   \n",
       "min              -200.000000               0.000000           13.000000   \n",
       "25%                 0.000000               0.000000           33.000000   \n",
       "50%               249.300000              32.400000           41.000000   \n",
       "75%               495.200000             155.000000           53.000000   \n",
       "max              1000.000000             500.000000          205.000000   \n",
       "\n",
       "       Nac_Direction_Avg  \n",
       "count      434145.000000  \n",
       "mean          185.173063  \n",
       "std            94.590627  \n",
       "min             0.000000  \n",
       "25%           102.100000  \n",
       "50%           164.500000  \n",
       "75%           275.300000  \n",
       "max           359.000000  \n",
       "\n",
       "[8 rows x 79 columns]"
      ]
     },
     "execution_count": 8,
     "metadata": {},
     "output_type": "execute_result"
    }
   ],
   "source": [
    "df_signals.describe()"
   ]
  },
  {
   "cell_type": "code",
   "execution_count": 9,
   "metadata": {
    "scrolled": true
   },
   "outputs": [],
   "source": [
    "df_signals_columns = list(df_signals.columns)"
   ]
  },
  {
   "cell_type": "code",
   "execution_count": 10,
   "metadata": {},
   "outputs": [
    {
     "data": {
      "text/plain": [
       "[<matplotlib.lines.Line2D at 0x110f91a90>]"
      ]
     },
     "execution_count": 10,
     "metadata": {},
     "output_type": "execute_result"
    },
    {
     "data": {
      "image/png": "[encoded data removed]",
      "text/plain": [
       "<Figure size 1440x720 with 1 Axes>"
      ]
     },
     "metadata": {
      "needs_background": "light"
     },
     "output_type": "display_data"
    }
   ],
   "source": [
    "fig = plt.figure(figsize=(20,10))\n",
    "plt.plot(df_signals['Timestamp'], df_signals['Gen_RPM_Max'])\n"
   ]
  },
  {
   "cell_type": "code",
   "execution_count": null,
   "metadata": {},
   "outputs": [
    {
     "ename": "KeyboardInterrupt",
     "evalue": "",
     "output_type": "error",
     "traceback": [
      "\u001b[0;31m---------------------------------------------------------------------------\u001b[0m",
      "\u001b[0;31mKeyboardInterrupt\u001b[0m                         Traceback (most recent call last)",
      "\u001b[0;32m<ipython-input-11-4bd96f6983be>\u001b[0m in \u001b[0;36m<module>\u001b[0;34m\u001b[0m\n\u001b[1;32m      1\u001b[0m \u001b[0;32mfor\u001b[0m \u001b[0mcolumn\u001b[0m \u001b[0;32min\u001b[0m \u001b[0mdf_signals_columns\u001b[0m\u001b[0;34m[\u001b[0m\u001b[0;34m:\u001b[0m\u001b[0;36m10\u001b[0m\u001b[0;34m]\u001b[0m\u001b[0;34m:\u001b[0m\u001b[0;34m\u001b[0m\u001b[0;34m\u001b[0m\u001b[0m\n\u001b[1;32m      2\u001b[0m     \u001b[0mfig\u001b[0m \u001b[0;34m=\u001b[0m \u001b[0mplt\u001b[0m\u001b[0;34m.\u001b[0m\u001b[0mfigure\u001b[0m\u001b[0;34m(\u001b[0m\u001b[0mfigsize\u001b[0m\u001b[0;34m=\u001b[0m\u001b[0;34m(\u001b[0m\u001b[0;36m20\u001b[0m\u001b[0;34m,\u001b[0m\u001b[0;36m10\u001b[0m\u001b[0;34m)\u001b[0m\u001b[0;34m)\u001b[0m\u001b[0;34m\u001b[0m\u001b[0;34m\u001b[0m\u001b[0m\n\u001b[0;32m----> 3\u001b[0;31m     \u001b[0mplt\u001b[0m\u001b[0;34m.\u001b[0m\u001b[0mplot\u001b[0m\u001b[0;34m(\u001b[0m\u001b[0mdf_signals\u001b[0m\u001b[0;34m[\u001b[0m\u001b[0;34m'Timestamp'\u001b[0m\u001b[0;34m]\u001b[0m\u001b[0;34m,\u001b[0m \u001b[0mdf_signals\u001b[0m\u001b[0;34m[\u001b[0m\u001b[0mcolumn\u001b[0m\u001b[0;34m]\u001b[0m\u001b[0;34m)\u001b[0m\u001b[0;34m\u001b[0m\u001b[0;34m\u001b[0m\u001b[0m\n\u001b[0m\u001b[1;32m      4\u001b[0m     \u001b[0mplt\u001b[0m\u001b[0;34m.\u001b[0m\u001b[0mtitle\u001b[0m\u001b[0;34m(\u001b[0m\u001b[0mcolumn\u001b[0m\u001b[0;34m)\u001b[0m\u001b[0;34m\u001b[0m\u001b[0;34m\u001b[0m\u001b[0m\n",
      "\u001b[0;32m~/.pyenv/versions/3.8.5/envs/lewagon/lib/python3.8/site-packages/matplotlib/pyplot.py\u001b[0m in \u001b[0;36mplot\u001b[0;34m(scalex, scaley, data, *args, **kwargs)\u001b[0m\n\u001b[1;32m   2838\u001b[0m \u001b[0;34m@\u001b[0m\u001b[0m_copy_docstring_and_deprecators\u001b[0m\u001b[0;34m(\u001b[0m\u001b[0mAxes\u001b[0m\u001b[0;34m.\u001b[0m\u001b[0mplot\u001b[0m\u001b[0;34m)\u001b[0m\u001b[0;34m\u001b[0m\u001b[0;34m\u001b[0m\u001b[0m\n\u001b[1;32m   2839\u001b[0m \u001b[0;32mdef\u001b[0m \u001b[0mplot\u001b[0m\u001b[0;34m(\u001b[0m\u001b[0;34m*\u001b[0m\u001b[0margs\u001b[0m\u001b[0;34m,\u001b[0m \u001b[0mscalex\u001b[0m\u001b[0;34m=\u001b[0m\u001b[0;32mTrue\u001b[0m\u001b[0;34m,\u001b[0m \u001b[0mscaley\u001b[0m\u001b[0;34m=\u001b[0m\u001b[0;32mTrue\u001b[0m\u001b[0;34m,\u001b[0m \u001b[0mdata\u001b[0m\u001b[0;34m=\u001b[0m\u001b[0;32mNone\u001b[0m\u001b[0;34m,\u001b[0m \u001b[0;34m**\u001b[0m\u001b[0mkwargs\u001b[0m\u001b[0;34m)\u001b[0m\u001b[0;34m:\u001b[0m\u001b[0;34m\u001b[0m\u001b[0;34m\u001b[0m\u001b[0m\n\u001b[0;32m-> 2840\u001b[0;31m     return gca().plot(\n\u001b[0m\u001b[1;32m   2841\u001b[0m         \u001b[0;34m*\u001b[0m\u001b[0margs\u001b[0m\u001b[0;34m,\u001b[0m \u001b[0mscalex\u001b[0m\u001b[0;34m=\u001b[0m\u001b[0mscalex\u001b[0m\u001b[0;34m,\u001b[0m \u001b[0mscaley\u001b[0m\u001b[0;34m=\u001b[0m\u001b[0mscaley\u001b[0m\u001b[0;34m,\u001b[0m\u001b[0;34m\u001b[0m\u001b[0;34m\u001b[0m\u001b[0m\n\u001b[1;32m   2842\u001b[0m         **({\"data\": data} if data is not None else {}), **kwargs)\n",
      "\u001b[0;32m~/.pyenv/versions/3.8.5/envs/lewagon/lib/python3.8/site-packages/matplotlib/axes/_axes.py\u001b[0m in \u001b[0;36mplot\u001b[0;34m(self, scalex, scaley, data, *args, **kwargs)\u001b[0m\n\u001b[1;32m   1743\u001b[0m         \u001b[0mlines\u001b[0m \u001b[0;34m=\u001b[0m \u001b[0;34m[\u001b[0m\u001b[0;34m*\u001b[0m\u001b[0mself\u001b[0m\u001b[0;34m.\u001b[0m\u001b[0m_get_lines\u001b[0m\u001b[0;34m(\u001b[0m\u001b[0;34m*\u001b[0m\u001b[0margs\u001b[0m\u001b[0;34m,\u001b[0m \u001b[0mdata\u001b[0m\u001b[0;34m=\u001b[0m\u001b[0mdata\u001b[0m\u001b[0;34m,\u001b[0m \u001b[0;34m**\u001b[0m\u001b[0mkwargs\u001b[0m\u001b[0;34m)\u001b[0m\u001b[0;34m]\u001b[0m\u001b[0;34m\u001b[0m\u001b[0;34m\u001b[0m\u001b[0m\n\u001b[1;32m   1744\u001b[0m         \u001b[0;32mfor\u001b[0m \u001b[0mline\u001b[0m \u001b[0;32min\u001b[0m \u001b[0mlines\u001b[0m\u001b[0;34m:\u001b[0m\u001b[0;34m\u001b[0m\u001b[0;34m\u001b[0m\u001b[0m\n\u001b[0;32m-> 1745\u001b[0;31m             \u001b[0mself\u001b[0m\u001b[0;34m.\u001b[0m\u001b[0madd_line\u001b[0m\u001b[0;34m(\u001b[0m\u001b[0mline\u001b[0m\u001b[0;34m)\u001b[0m\u001b[0;34m\u001b[0m\u001b[0;34m\u001b[0m\u001b[0m\n\u001b[0m\u001b[1;32m   1746\u001b[0m         \u001b[0mself\u001b[0m\u001b[0;34m.\u001b[0m\u001b[0m_request_autoscale_view\u001b[0m\u001b[0;34m(\u001b[0m\u001b[0mscalex\u001b[0m\u001b[0;34m=\u001b[0m\u001b[0mscalex\u001b[0m\u001b[0;34m,\u001b[0m \u001b[0mscaley\u001b[0m\u001b[0;34m=\u001b[0m\u001b[0mscaley\u001b[0m\u001b[0;34m)\u001b[0m\u001b[0;34m\u001b[0m\u001b[0;34m\u001b[0m\u001b[0m\n\u001b[1;32m   1747\u001b[0m         \u001b[0;32mreturn\u001b[0m \u001b[0mlines\u001b[0m\u001b[0;34m\u001b[0m\u001b[0;34m\u001b[0m\u001b[0m\n",
      "\u001b[0;32m~/.pyenv/versions/3.8.5/envs/lewagon/lib/python3.8/site-packages/matplotlib/axes/_base.py\u001b[0m in \u001b[0;36madd_line\u001b[0;34m(self, line)\u001b[0m\n\u001b[1;32m   1962\u001b[0m             \u001b[0mline\u001b[0m\u001b[0;34m.\u001b[0m\u001b[0mset_clip_path\u001b[0m\u001b[0;34m(\u001b[0m\u001b[0mself\u001b[0m\u001b[0;34m.\u001b[0m\u001b[0mpatch\u001b[0m\u001b[0;34m)\u001b[0m\u001b[0;34m\u001b[0m\u001b[0;34m\u001b[0m\u001b[0m\n\u001b[1;32m   1963\u001b[0m \u001b[0;34m\u001b[0m\u001b[0m\n\u001b[0;32m-> 1964\u001b[0;31m         \u001b[0mself\u001b[0m\u001b[0;34m.\u001b[0m\u001b[0m_update_line_limits\u001b[0m\u001b[0;34m(\u001b[0m\u001b[0mline\u001b[0m\u001b[0;34m)\u001b[0m\u001b[0;34m\u001b[0m\u001b[0;34m\u001b[0m\u001b[0m\n\u001b[0m\u001b[1;32m   1965\u001b[0m         \u001b[0;32mif\u001b[0m \u001b[0;32mnot\u001b[0m \u001b[0mline\u001b[0m\u001b[0;34m.\u001b[0m\u001b[0mget_label\u001b[0m\u001b[0;34m(\u001b[0m\u001b[0;34m)\u001b[0m\u001b[0;34m:\u001b[0m\u001b[0;34m\u001b[0m\u001b[0;34m\u001b[0m\u001b[0m\n\u001b[1;32m   1966\u001b[0m             \u001b[0mline\u001b[0m\u001b[0;34m.\u001b[0m\u001b[0mset_label\u001b[0m\u001b[0;34m(\u001b[0m\u001b[0;34m'_line%d'\u001b[0m \u001b[0;34m%\u001b[0m \u001b[0mlen\u001b[0m\u001b[0;34m(\u001b[0m\u001b[0mself\u001b[0m\u001b[0;34m.\u001b[0m\u001b[0mlines\u001b[0m\u001b[0;34m)\u001b[0m\u001b[0;34m)\u001b[0m\u001b[0;34m\u001b[0m\u001b[0;34m\u001b[0m\u001b[0m\n",
      "\u001b[0;32m~/.pyenv/versions/3.8.5/envs/lewagon/lib/python3.8/site-packages/matplotlib/axes/_base.py\u001b[0m in \u001b[0;36m_update_line_limits\u001b[0;34m(self, line)\u001b[0m\n\u001b[1;32m   1984\u001b[0m         \u001b[0mFigures\u001b[0m \u001b[0mout\u001b[0m \u001b[0mthe\u001b[0m \u001b[0mdata\u001b[0m \u001b[0mlimit\u001b[0m \u001b[0mof\u001b[0m \u001b[0mthe\u001b[0m \u001b[0mgiven\u001b[0m \u001b[0mline\u001b[0m\u001b[0;34m,\u001b[0m \u001b[0mupdating\u001b[0m \u001b[0mself\u001b[0m\u001b[0;34m.\u001b[0m\u001b[0mdataLim\u001b[0m\u001b[0;34m.\u001b[0m\u001b[0;34m\u001b[0m\u001b[0;34m\u001b[0m\u001b[0m\n\u001b[1;32m   1985\u001b[0m         \"\"\"\n\u001b[0;32m-> 1986\u001b[0;31m         \u001b[0mpath\u001b[0m \u001b[0;34m=\u001b[0m \u001b[0mline\u001b[0m\u001b[0;34m.\u001b[0m\u001b[0mget_path\u001b[0m\u001b[0;34m(\u001b[0m\u001b[0;34m)\u001b[0m\u001b[0;34m\u001b[0m\u001b[0;34m\u001b[0m\u001b[0m\n\u001b[0m\u001b[1;32m   1987\u001b[0m         \u001b[0;32mif\u001b[0m \u001b[0mpath\u001b[0m\u001b[0;34m.\u001b[0m\u001b[0mvertices\u001b[0m\u001b[0;34m.\u001b[0m\u001b[0msize\u001b[0m \u001b[0;34m==\u001b[0m \u001b[0;36m0\u001b[0m\u001b[0;34m:\u001b[0m\u001b[0;34m\u001b[0m\u001b[0;34m\u001b[0m\u001b[0m\n\u001b[1;32m   1988\u001b[0m             \u001b[0;32mreturn\u001b[0m\u001b[0;34m\u001b[0m\u001b[0;34m\u001b[0m\u001b[0m\n",
      "\u001b[0;32m~/.pyenv/versions/3.8.5/envs/lewagon/lib/python3.8/site-packages/matplotlib/lines.py\u001b[0m in \u001b[0;36mget_path\u001b[0;34m(self)\u001b[0m\n\u001b[1;32m   1009\u001b[0m         \"\"\"\n\u001b[1;32m   1010\u001b[0m         \u001b[0;32mif\u001b[0m \u001b[0mself\u001b[0m\u001b[0;34m.\u001b[0m\u001b[0m_invalidy\u001b[0m \u001b[0;32mor\u001b[0m \u001b[0mself\u001b[0m\u001b[0;34m.\u001b[0m\u001b[0m_invalidx\u001b[0m\u001b[0;34m:\u001b[0m\u001b[0;34m\u001b[0m\u001b[0;34m\u001b[0m\u001b[0m\n\u001b[0;32m-> 1011\u001b[0;31m             \u001b[0mself\u001b[0m\u001b[0;34m.\u001b[0m\u001b[0mrecache\u001b[0m\u001b[0;34m(\u001b[0m\u001b[0;34m)\u001b[0m\u001b[0;34m\u001b[0m\u001b[0;34m\u001b[0m\u001b[0m\n\u001b[0m\u001b[1;32m   1012\u001b[0m         \u001b[0;32mreturn\u001b[0m \u001b[0mself\u001b[0m\u001b[0;34m.\u001b[0m\u001b[0m_path\u001b[0m\u001b[0;34m\u001b[0m\u001b[0;34m\u001b[0m\u001b[0m\n\u001b[1;32m   1013\u001b[0m \u001b[0;34m\u001b[0m\u001b[0m\n",
      "\u001b[0;32m~/.pyenv/versions/3.8.5/envs/lewagon/lib/python3.8/site-packages/matplotlib/lines.py\u001b[0m in \u001b[0;36mrecache\u001b[0;34m(self, always)\u001b[0m\n\u001b[1;32m    650\u001b[0m     \u001b[0;32mdef\u001b[0m \u001b[0mrecache\u001b[0m\u001b[0;34m(\u001b[0m\u001b[0mself\u001b[0m\u001b[0;34m,\u001b[0m \u001b[0malways\u001b[0m\u001b[0;34m=\u001b[0m\u001b[0;32mFalse\u001b[0m\u001b[0;34m)\u001b[0m\u001b[0;34m:\u001b[0m\u001b[0;34m\u001b[0m\u001b[0;34m\u001b[0m\u001b[0m\n\u001b[1;32m    651\u001b[0m         \u001b[0;32mif\u001b[0m \u001b[0malways\u001b[0m \u001b[0;32mor\u001b[0m \u001b[0mself\u001b[0m\u001b[0;34m.\u001b[0m\u001b[0m_invalidx\u001b[0m\u001b[0;34m:\u001b[0m\u001b[0;34m\u001b[0m\u001b[0;34m\u001b[0m\u001b[0m\n\u001b[0;32m--> 652\u001b[0;31m             \u001b[0mxconv\u001b[0m \u001b[0;34m=\u001b[0m \u001b[0mself\u001b[0m\u001b[0;34m.\u001b[0m\u001b[0mconvert_xunits\u001b[0m\u001b[0;34m(\u001b[0m\u001b[0mself\u001b[0m\u001b[0;34m.\u001b[0m\u001b[0m_xorig\u001b[0m\u001b[0;34m)\u001b[0m\u001b[0;34m\u001b[0m\u001b[0;34m\u001b[0m\u001b[0m\n\u001b[0m\u001b[1;32m    653\u001b[0m             \u001b[0mx\u001b[0m \u001b[0;34m=\u001b[0m \u001b[0m_to_unmasked_float_array\u001b[0m\u001b[0;34m(\u001b[0m\u001b[0mxconv\u001b[0m\u001b[0;34m)\u001b[0m\u001b[0;34m.\u001b[0m\u001b[0mravel\u001b[0m\u001b[0;34m(\u001b[0m\u001b[0;34m)\u001b[0m\u001b[0;34m\u001b[0m\u001b[0;34m\u001b[0m\u001b[0m\n\u001b[1;32m    654\u001b[0m         \u001b[0;32melse\u001b[0m\u001b[0;34m:\u001b[0m\u001b[0;34m\u001b[0m\u001b[0;34m\u001b[0m\u001b[0m\n",
      "\u001b[0;32m~/.pyenv/versions/3.8.5/envs/lewagon/lib/python3.8/site-packages/matplotlib/artist.py\u001b[0m in \u001b[0;36mconvert_xunits\u001b[0;34m(self, x)\u001b[0m\n\u001b[1;32m    173\u001b[0m         \u001b[0;32mif\u001b[0m \u001b[0max\u001b[0m \u001b[0;32mis\u001b[0m \u001b[0;32mNone\u001b[0m \u001b[0;32mor\u001b[0m \u001b[0max\u001b[0m\u001b[0;34m.\u001b[0m\u001b[0mxaxis\u001b[0m \u001b[0;32mis\u001b[0m \u001b[0;32mNone\u001b[0m\u001b[0;34m:\u001b[0m\u001b[0;34m\u001b[0m\u001b[0;34m\u001b[0m\u001b[0m\n\u001b[1;32m    174\u001b[0m             \u001b[0;32mreturn\u001b[0m \u001b[0mx\u001b[0m\u001b[0;34m\u001b[0m\u001b[0;34m\u001b[0m\u001b[0m\n\u001b[0;32m--> 175\u001b[0;31m         \u001b[0;32mreturn\u001b[0m \u001b[0max\u001b[0m\u001b[0;34m.\u001b[0m\u001b[0mxaxis\u001b[0m\u001b[0;34m.\u001b[0m\u001b[0mconvert_units\u001b[0m\u001b[0;34m(\u001b[0m\u001b[0mx\u001b[0m\u001b[0;34m)\u001b[0m\u001b[0;34m\u001b[0m\u001b[0;34m\u001b[0m\u001b[0m\n\u001b[0m\u001b[1;32m    176\u001b[0m \u001b[0;34m\u001b[0m\u001b[0m\n\u001b[1;32m    177\u001b[0m     \u001b[0;32mdef\u001b[0m \u001b[0mconvert_yunits\u001b[0m\u001b[0;34m(\u001b[0m\u001b[0mself\u001b[0m\u001b[0;34m,\u001b[0m \u001b[0my\u001b[0m\u001b[0;34m)\u001b[0m\u001b[0;34m:\u001b[0m\u001b[0;34m\u001b[0m\u001b[0;34m\u001b[0m\u001b[0m\n",
      "\u001b[0;32m~/.pyenv/versions/3.8.5/envs/lewagon/lib/python3.8/site-packages/matplotlib/axis.py\u001b[0m in \u001b[0;36mconvert_units\u001b[0;34m(self, x)\u001b[0m\n\u001b[1;32m   1518\u001b[0m             \u001b[0;32mreturn\u001b[0m \u001b[0mx\u001b[0m\u001b[0;34m\u001b[0m\u001b[0;34m\u001b[0m\u001b[0m\n\u001b[1;32m   1519\u001b[0m         \u001b[0;32mtry\u001b[0m\u001b[0;34m:\u001b[0m\u001b[0;34m\u001b[0m\u001b[0;34m\u001b[0m\u001b[0m\n\u001b[0;32m-> 1520\u001b[0;31m             \u001b[0mret\u001b[0m \u001b[0;34m=\u001b[0m \u001b[0mself\u001b[0m\u001b[0;34m.\u001b[0m\u001b[0mconverter\u001b[0m\u001b[0;34m.\u001b[0m\u001b[0mconvert\u001b[0m\u001b[0;34m(\u001b[0m\u001b[0mx\u001b[0m\u001b[0;34m,\u001b[0m \u001b[0mself\u001b[0m\u001b[0;34m.\u001b[0m\u001b[0munits\u001b[0m\u001b[0;34m,\u001b[0m \u001b[0mself\u001b[0m\u001b[0;34m)\u001b[0m\u001b[0;34m\u001b[0m\u001b[0;34m\u001b[0m\u001b[0m\n\u001b[0m\u001b[1;32m   1521\u001b[0m         \u001b[0;32mexcept\u001b[0m \u001b[0mException\u001b[0m \u001b[0;32mas\u001b[0m \u001b[0me\u001b[0m\u001b[0;34m:\u001b[0m\u001b[0;34m\u001b[0m\u001b[0;34m\u001b[0m\u001b[0m\n\u001b[1;32m   1522\u001b[0m             raise munits.ConversionError('Failed to convert value(s) to axis '\n",
      "\u001b[0;32m~/.pyenv/versions/3.8.5/envs/lewagon/lib/python3.8/site-packages/matplotlib/dates.py\u001b[0m in \u001b[0;36mconvert\u001b[0;34m(value, unit, axis)\u001b[0m\n\u001b[1;32m   1904\u001b[0m         \u001b[0mThe\u001b[0m \u001b[0;34m*\u001b[0m\u001b[0munit\u001b[0m\u001b[0;34m*\u001b[0m \u001b[0;32mand\u001b[0m \u001b[0;34m*\u001b[0m\u001b[0maxis\u001b[0m\u001b[0;34m*\u001b[0m \u001b[0marguments\u001b[0m \u001b[0mare\u001b[0m \u001b[0;32mnot\u001b[0m \u001b[0mused\u001b[0m\u001b[0;34m.\u001b[0m\u001b[0;34m\u001b[0m\u001b[0;34m\u001b[0m\u001b[0m\n\u001b[1;32m   1905\u001b[0m         \"\"\"\n\u001b[0;32m-> 1906\u001b[0;31m         \u001b[0;32mreturn\u001b[0m \u001b[0mdate2num\u001b[0m\u001b[0;34m(\u001b[0m\u001b[0mvalue\u001b[0m\u001b[0;34m)\u001b[0m\u001b[0;34m\u001b[0m\u001b[0;34m\u001b[0m\u001b[0m\n\u001b[0m\u001b[1;32m   1907\u001b[0m \u001b[0;34m\u001b[0m\u001b[0m\n\u001b[1;32m   1908\u001b[0m     \u001b[0;34m@\u001b[0m\u001b[0mstaticmethod\u001b[0m\u001b[0;34m\u001b[0m\u001b[0;34m\u001b[0m\u001b[0m\n",
      "\u001b[0;32m~/.pyenv/versions/3.8.5/envs/lewagon/lib/python3.8/site-packages/matplotlib/dates.py\u001b[0m in \u001b[0;36mdate2num\u001b[0;34m(d)\u001b[0m\n\u001b[1;32m    442\u001b[0m         \u001b[0;32mif\u001b[0m \u001b[0;32mnot\u001b[0m \u001b[0md\u001b[0m\u001b[0;34m.\u001b[0m\u001b[0msize\u001b[0m\u001b[0;34m:\u001b[0m\u001b[0;34m\u001b[0m\u001b[0;34m\u001b[0m\u001b[0m\n\u001b[1;32m    443\u001b[0m             \u001b[0;32mreturn\u001b[0m \u001b[0md\u001b[0m\u001b[0;34m\u001b[0m\u001b[0;34m\u001b[0m\u001b[0m\n\u001b[0;32m--> 444\u001b[0;31m         \u001b[0;32mreturn\u001b[0m \u001b[0m_to_ordinalf_np_vectorized\u001b[0m\u001b[0;34m(\u001b[0m\u001b[0md\u001b[0m\u001b[0;34m)\u001b[0m\u001b[0;34m\u001b[0m\u001b[0;34m\u001b[0m\u001b[0m\n\u001b[0m\u001b[1;32m    445\u001b[0m \u001b[0;34m\u001b[0m\u001b[0m\n\u001b[1;32m    446\u001b[0m \u001b[0;34m\u001b[0m\u001b[0m\n",
      "\u001b[0;32m~/.pyenv/versions/3.8.5/envs/lewagon/lib/python3.8/site-packages/numpy/lib/function_base.py\u001b[0m in \u001b[0;36m__call__\u001b[0;34m(self, *args, **kwargs)\u001b[0m\n\u001b[1;32m   2089\u001b[0m             \u001b[0mvargs\u001b[0m\u001b[0;34m.\u001b[0m\u001b[0mextend\u001b[0m\u001b[0;34m(\u001b[0m\u001b[0;34m[\u001b[0m\u001b[0mkwargs\u001b[0m\u001b[0;34m[\u001b[0m\u001b[0m_n\u001b[0m\u001b[0;34m]\u001b[0m \u001b[0;32mfor\u001b[0m \u001b[0m_n\u001b[0m \u001b[0;32min\u001b[0m \u001b[0mnames\u001b[0m\u001b[0;34m]\u001b[0m\u001b[0;34m)\u001b[0m\u001b[0;34m\u001b[0m\u001b[0;34m\u001b[0m\u001b[0m\n\u001b[1;32m   2090\u001b[0m \u001b[0;34m\u001b[0m\u001b[0m\n\u001b[0;32m-> 2091\u001b[0;31m         \u001b[0;32mreturn\u001b[0m \u001b[0mself\u001b[0m\u001b[0;34m.\u001b[0m\u001b[0m_vectorize_call\u001b[0m\u001b[0;34m(\u001b[0m\u001b[0mfunc\u001b[0m\u001b[0;34m=\u001b[0m\u001b[0mfunc\u001b[0m\u001b[0;34m,\u001b[0m \u001b[0margs\u001b[0m\u001b[0;34m=\u001b[0m\u001b[0mvargs\u001b[0m\u001b[0;34m)\u001b[0m\u001b[0;34m\u001b[0m\u001b[0;34m\u001b[0m\u001b[0m\n\u001b[0m\u001b[1;32m   2092\u001b[0m \u001b[0;34m\u001b[0m\u001b[0m\n\u001b[1;32m   2093\u001b[0m     \u001b[0;32mdef\u001b[0m \u001b[0m_get_ufunc_and_otypes\u001b[0m\u001b[0;34m(\u001b[0m\u001b[0mself\u001b[0m\u001b[0;34m,\u001b[0m \u001b[0mfunc\u001b[0m\u001b[0;34m,\u001b[0m \u001b[0margs\u001b[0m\u001b[0;34m)\u001b[0m\u001b[0;34m:\u001b[0m\u001b[0;34m\u001b[0m\u001b[0;34m\u001b[0m\u001b[0m\n",
      "\u001b[0;32m~/.pyenv/versions/3.8.5/envs/lewagon/lib/python3.8/site-packages/numpy/lib/function_base.py\u001b[0m in \u001b[0;36m_vectorize_call\u001b[0;34m(self, func, args)\u001b[0m\n\u001b[1;32m   2165\u001b[0m                       for a in args]\n\u001b[1;32m   2166\u001b[0m \u001b[0;34m\u001b[0m\u001b[0m\n\u001b[0;32m-> 2167\u001b[0;31m             \u001b[0moutputs\u001b[0m \u001b[0;34m=\u001b[0m \u001b[0mufunc\u001b[0m\u001b[0;34m(\u001b[0m\u001b[0;34m*\u001b[0m\u001b[0minputs\u001b[0m\u001b[0;34m)\u001b[0m\u001b[0;34m\u001b[0m\u001b[0;34m\u001b[0m\u001b[0m\n\u001b[0m\u001b[1;32m   2168\u001b[0m \u001b[0;34m\u001b[0m\u001b[0m\n\u001b[1;32m   2169\u001b[0m             \u001b[0;32mif\u001b[0m \u001b[0mufunc\u001b[0m\u001b[0;34m.\u001b[0m\u001b[0mnout\u001b[0m \u001b[0;34m==\u001b[0m \u001b[0;36m1\u001b[0m\u001b[0;34m:\u001b[0m\u001b[0;34m\u001b[0m\u001b[0;34m\u001b[0m\u001b[0m\n",
      "\u001b[0;32m~/.pyenv/versions/3.8.5/envs/lewagon/lib/python3.8/site-packages/matplotlib/dates.py\u001b[0m in \u001b[0;36m_to_ordinalf\u001b[0;34m(dt)\u001b[0m\n\u001b[1;32m    295\u001b[0m     \u001b[0mtzi\u001b[0m \u001b[0;34m=\u001b[0m \u001b[0mgetattr\u001b[0m\u001b[0;34m(\u001b[0m\u001b[0mdt\u001b[0m\u001b[0;34m,\u001b[0m \u001b[0;34m'tzinfo'\u001b[0m\u001b[0;34m,\u001b[0m \u001b[0;32mNone\u001b[0m\u001b[0;34m)\u001b[0m\u001b[0;34m\u001b[0m\u001b[0;34m\u001b[0m\u001b[0m\n\u001b[1;32m    296\u001b[0m     \u001b[0;32mif\u001b[0m \u001b[0mtzi\u001b[0m \u001b[0;32mis\u001b[0m \u001b[0;32mnot\u001b[0m \u001b[0;32mNone\u001b[0m\u001b[0;34m:\u001b[0m\u001b[0;34m\u001b[0m\u001b[0;34m\u001b[0m\u001b[0m\n\u001b[0;32m--> 297\u001b[0;31m         \u001b[0mdt\u001b[0m \u001b[0;34m=\u001b[0m \u001b[0mdt\u001b[0m\u001b[0;34m.\u001b[0m\u001b[0mastimezone\u001b[0m\u001b[0;34m(\u001b[0m\u001b[0mUTC\u001b[0m\u001b[0;34m)\u001b[0m\u001b[0;34m\u001b[0m\u001b[0;34m\u001b[0m\u001b[0m\n\u001b[0m\u001b[1;32m    298\u001b[0m         \u001b[0mdt\u001b[0m \u001b[0;34m=\u001b[0m \u001b[0mdt\u001b[0m\u001b[0;34m.\u001b[0m\u001b[0mreplace\u001b[0m\u001b[0;34m(\u001b[0m\u001b[0mtzinfo\u001b[0m\u001b[0;34m=\u001b[0m\u001b[0;32mNone\u001b[0m\u001b[0;34m)\u001b[0m\u001b[0;34m\u001b[0m\u001b[0;34m\u001b[0m\u001b[0m\n\u001b[1;32m    299\u001b[0m     \u001b[0mdt64\u001b[0m \u001b[0;34m=\u001b[0m \u001b[0mnp\u001b[0m\u001b[0;34m.\u001b[0m\u001b[0mdatetime64\u001b[0m\u001b[0;34m(\u001b[0m\u001b[0mdt\u001b[0m\u001b[0;34m)\u001b[0m\u001b[0;34m\u001b[0m\u001b[0;34m\u001b[0m\u001b[0m\n",
      "\u001b[0;31mKeyboardInterrupt\u001b[0m: "
     ]
    }
   ],
   "source": [
    "for column in df_signals_columns[:10]:\n",
    "    fig = plt.figure(figsize=(20,10))\n",
    "    plt.plot(df_signals['Timestamp'], df_signals[column])\n",
    "    plt.title(column)"
   ]
  },
  {
   "cell_type": "code",
   "execution_count": null,
   "metadata": {},
   "outputs": [],
   "source": [
    "plt.plot(df_signals['Timestamp'], df_signals[column])"
   ]
  },
  {
   "cell_type": "code",
   "execution_count": null,
   "metadata": {},
   "outputs": [],
   "source": []
  },
  {
   "cell_type": "code",
   "execution_count": null,
   "metadata": {},
   "outputs": [],
   "source": [
    "df_metmast = pd.read_csv('../rawdata/wind-farm-1-metmast-training.csv', sep=';')\n",
    "\n",
    "df_metmast = df_metmast.drop(columns=columns_drop_metmast)\n",
    "\n",
    "df_metmast"
   ]
  },
  {
   "cell_type": "code",
   "execution_count": null,
   "metadata": {},
   "outputs": [],
   "source": [
    "df_metmast['Timestamp']=pd.to_datetime(df_metmast['Timestamp'])"
   ]
  },
  {
   "cell_type": "code",
   "execution_count": null,
   "metadata": {},
   "outputs": [],
   "source": [
    "from datetime as dt\n",
    "\n",
    "df_metmast['Timestamp'].dt.year()"
   ]
  },
  {
   "cell_type": "code",
   "execution_count": 15,
   "metadata": {},
   "outputs": [
    {
     "data": {
      "text/plain": [
       "124"
      ]
     },
     "execution_count": 15,
     "metadata": {},
     "output_type": "execute_result"
    }
   ],
   "source": [
    "len(df_metmast.columns) + len(df_signals.columns)"
   ]
  },
  {
   "cell_type": "code",
   "execution_count": null,
   "metadata": {},
   "outputs": [
    {
     "data": {
      "text/plain": [
       "[<matplotlib.lines.Line2D at 0x126f1c7f0>]"
      ]
     },
     "execution_count": 24,
     "metadata": {},
     "output_type": "execute_result"
    }
   ],
   "source": [
    "fig = plt.figure(figsize=(20,10))\n",
    "plt.plot(df_metmast['Timestamp'][], df_metmast['Min_Windspeed1'])"
   ]
  },
  {
   "cell_type": "code",
   "execution_count": 11,
   "metadata": {},
   "outputs": [
    {
     "data": {
      "text/html": [
       "<div>\n",
       "<style scoped>\n",
       "    .dataframe tbody tr th:only-of-type {\n",
       "        vertical-align: middle;\n",
       "    }\n",
       "\n",
       "    .dataframe tbody tr th {\n",
       "        vertical-align: top;\n",
       "    }\n",
       "\n",
       "    .dataframe thead th {\n",
       "        text-align: right;\n",
       "    }\n",
       "</style>\n",
       "<table border=\"1\" class=\"dataframe\">\n",
       "  <thead>\n",
       "    <tr style=\"text-align: right;\">\n",
       "      <th></th>\n",
       "      <th>Min_Windspeed1</th>\n",
       "      <th>Max_Windspeed1</th>\n",
       "      <th>Avg_Windspeed1</th>\n",
       "      <th>Var_Windspeed1</th>\n",
       "      <th>Min_Windspeed2</th>\n",
       "      <th>Max_Windspeed2</th>\n",
       "      <th>Avg_Windspeed2</th>\n",
       "      <th>Var_Windspeed2</th>\n",
       "      <th>Min_Winddirection2</th>\n",
       "      <th>Max_Winddirection2</th>\n",
       "      <th>...</th>\n",
       "      <th>Anemometer1_CorrOffset</th>\n",
       "      <th>Anemometer2_Freq</th>\n",
       "      <th>Anemometer2_Offset</th>\n",
       "      <th>Anemometer2_CorrGain</th>\n",
       "      <th>Anemometer2_CorrOffset</th>\n",
       "      <th>DistanceAirPress</th>\n",
       "      <th>AirRessureSensorZeroOffset</th>\n",
       "      <th>Anemometer1_Avg_Freq</th>\n",
       "      <th>Anemometer2_Avg_Freq</th>\n",
       "      <th>Pressure_Avg_Freq</th>\n",
       "    </tr>\n",
       "  </thead>\n",
       "  <tbody>\n",
       "    <tr>\n",
       "      <th>count</th>\n",
       "      <td>69960.000000</td>\n",
       "      <td>69961.000000</td>\n",
       "      <td>69960.000000</td>\n",
       "      <td>69960.000000</td>\n",
       "      <td>69960.000000</td>\n",
       "      <td>69961.000000</td>\n",
       "      <td>69960.000000</td>\n",
       "      <td>69960.000000</td>\n",
       "      <td>69960.000000</td>\n",
       "      <td>69961.000000</td>\n",
       "      <td>...</td>\n",
       "      <td>69961.0</td>\n",
       "      <td>6.996100e+04</td>\n",
       "      <td>6.996100e+04</td>\n",
       "      <td>69961.0</td>\n",
       "      <td>69961.0</td>\n",
       "      <td>69961.0</td>\n",
       "      <td>69961.0</td>\n",
       "      <td>69961.000000</td>\n",
       "      <td>69961.000000</td>\n",
       "      <td>69961.000000</td>\n",
       "    </tr>\n",
       "    <tr>\n",
       "      <th>mean</th>\n",
       "      <td>4.245343</td>\n",
       "      <td>8.413618</td>\n",
       "      <td>6.338668</td>\n",
       "      <td>0.926280</td>\n",
       "      <td>4.341732</td>\n",
       "      <td>8.317262</td>\n",
       "      <td>6.338642</td>\n",
       "      <td>0.807165</td>\n",
       "      <td>232.267953</td>\n",
       "      <td>233.634939</td>\n",
       "      <td>...</td>\n",
       "      <td>0.0</td>\n",
       "      <td>4.990000e-02</td>\n",
       "      <td>2.400000e-01</td>\n",
       "      <td>1.0</td>\n",
       "      <td>0.0</td>\n",
       "      <td>0.0</td>\n",
       "      <td>600.0</td>\n",
       "      <td>123.607238</td>\n",
       "      <td>123.610655</td>\n",
       "      <td>409.436958</td>\n",
       "    </tr>\n",
       "    <tr>\n",
       "      <th>std</th>\n",
       "      <td>2.654873</td>\n",
       "      <td>4.808946</td>\n",
       "      <td>3.733035</td>\n",
       "      <td>1.213568</td>\n",
       "      <td>2.796495</td>\n",
       "      <td>4.693258</td>\n",
       "      <td>3.740070</td>\n",
       "      <td>0.998506</td>\n",
       "      <td>24.587511</td>\n",
       "      <td>18.684133</td>\n",
       "      <td>...</td>\n",
       "      <td>0.0</td>\n",
       "      <td>6.938943e-18</td>\n",
       "      <td>1.665346e-16</td>\n",
       "      <td>0.0</td>\n",
       "      <td>0.0</td>\n",
       "      <td>0.0</td>\n",
       "      <td>0.0</td>\n",
       "      <td>74.831436</td>\n",
       "      <td>74.974476</td>\n",
       "      <td>5.103327</td>\n",
       "    </tr>\n",
       "    <tr>\n",
       "      <th>min</th>\n",
       "      <td>0.000000</td>\n",
       "      <td>0.000000</td>\n",
       "      <td>0.000000</td>\n",
       "      <td>0.000000</td>\n",
       "      <td>0.000000</td>\n",
       "      <td>0.000000</td>\n",
       "      <td>0.000000</td>\n",
       "      <td>0.000000</td>\n",
       "      <td>0.000000</td>\n",
       "      <td>0.000000</td>\n",
       "      <td>...</td>\n",
       "      <td>0.0</td>\n",
       "      <td>4.990000e-02</td>\n",
       "      <td>2.400000e-01</td>\n",
       "      <td>1.0</td>\n",
       "      <td>0.0</td>\n",
       "      <td>0.0</td>\n",
       "      <td>600.0</td>\n",
       "      <td>0.000000</td>\n",
       "      <td>0.000000</td>\n",
       "      <td>392.000000</td>\n",
       "    </tr>\n",
       "    <tr>\n",
       "      <th>25%</th>\n",
       "      <td>2.300000</td>\n",
       "      <td>4.700000</td>\n",
       "      <td>3.500000</td>\n",
       "      <td>0.150000</td>\n",
       "      <td>2.200000</td>\n",
       "      <td>4.700000</td>\n",
       "      <td>3.500000</td>\n",
       "      <td>0.150000</td>\n",
       "      <td>236.000000</td>\n",
       "      <td>236.000000</td>\n",
       "      <td>...</td>\n",
       "      <td>0.0</td>\n",
       "      <td>4.990000e-02</td>\n",
       "      <td>2.400000e-01</td>\n",
       "      <td>1.0</td>\n",
       "      <td>0.0</td>\n",
       "      <td>0.0</td>\n",
       "      <td>600.0</td>\n",
       "      <td>67.000000</td>\n",
       "      <td>66.000000</td>\n",
       "      <td>406.000000</td>\n",
       "    </tr>\n",
       "    <tr>\n",
       "      <th>50%</th>\n",
       "      <td>3.700000</td>\n",
       "      <td>7.500000</td>\n",
       "      <td>5.600000</td>\n",
       "      <td>0.480000</td>\n",
       "      <td>3.800000</td>\n",
       "      <td>7.500000</td>\n",
       "      <td>5.600000</td>\n",
       "      <td>0.470000</td>\n",
       "      <td>236.000000</td>\n",
       "      <td>236.000000</td>\n",
       "      <td>...</td>\n",
       "      <td>0.0</td>\n",
       "      <td>4.990000e-02</td>\n",
       "      <td>2.400000e-01</td>\n",
       "      <td>1.0</td>\n",
       "      <td>0.0</td>\n",
       "      <td>0.0</td>\n",
       "      <td>600.0</td>\n",
       "      <td>108.000000</td>\n",
       "      <td>109.000000</td>\n",
       "      <td>409.000000</td>\n",
       "    </tr>\n",
       "    <tr>\n",
       "      <th>75%</th>\n",
       "      <td>5.800000</td>\n",
       "      <td>11.300000</td>\n",
       "      <td>8.500000</td>\n",
       "      <td>1.190000</td>\n",
       "      <td>6.000000</td>\n",
       "      <td>11.200000</td>\n",
       "      <td>8.600000</td>\n",
       "      <td>1.060000</td>\n",
       "      <td>236.000000</td>\n",
       "      <td>236.000000</td>\n",
       "      <td>...</td>\n",
       "      <td>0.0</td>\n",
       "      <td>4.990000e-02</td>\n",
       "      <td>2.400000e-01</td>\n",
       "      <td>1.0</td>\n",
       "      <td>0.0</td>\n",
       "      <td>0.0</td>\n",
       "      <td>600.0</td>\n",
       "      <td>167.000000</td>\n",
       "      <td>168.000000</td>\n",
       "      <td>412.000000</td>\n",
       "    </tr>\n",
       "    <tr>\n",
       "      <th>max</th>\n",
       "      <td>17.800000</td>\n",
       "      <td>30.800000</td>\n",
       "      <td>23.100000</td>\n",
       "      <td>35.100000</td>\n",
       "      <td>17.300000</td>\n",
       "      <td>29.000000</td>\n",
       "      <td>22.900000</td>\n",
       "      <td>35.930000</td>\n",
       "      <td>358.000000</td>\n",
       "      <td>357.000000</td>\n",
       "      <td>...</td>\n",
       "      <td>0.0</td>\n",
       "      <td>4.990000e-02</td>\n",
       "      <td>2.400000e-01</td>\n",
       "      <td>1.0</td>\n",
       "      <td>0.0</td>\n",
       "      <td>0.0</td>\n",
       "      <td>600.0</td>\n",
       "      <td>459.000000</td>\n",
       "      <td>455.000000</td>\n",
       "      <td>428.000000</td>\n",
       "    </tr>\n",
       "  </tbody>\n",
       "</table>\n",
       "<p>8 rows × 40 columns</p>\n",
       "</div>"
      ],
      "text/plain": [
       "       Min_Windspeed1  Max_Windspeed1  Avg_Windspeed1  Var_Windspeed1  \\\n",
       "count    69960.000000    69961.000000    69960.000000    69960.000000   \n",
       "mean         4.245343        8.413618        6.338668        0.926280   \n",
       "std          2.654873        4.808946        3.733035        1.213568   \n",
       "min          0.000000        0.000000        0.000000        0.000000   \n",
       "25%          2.300000        4.700000        3.500000        0.150000   \n",
       "50%          3.700000        7.500000        5.600000        0.480000   \n",
       "75%          5.800000       11.300000        8.500000        1.190000   \n",
       "max         17.800000       30.800000       23.100000       35.100000   \n",
       "\n",
       "       Min_Windspeed2  Max_Windspeed2  Avg_Windspeed2  Var_Windspeed2  \\\n",
       "count    69960.000000    69961.000000    69960.000000    69960.000000   \n",
       "mean         4.341732        8.317262        6.338642        0.807165   \n",
       "std          2.796495        4.693258        3.740070        0.998506   \n",
       "min          0.000000        0.000000        0.000000        0.000000   \n",
       "25%          2.200000        4.700000        3.500000        0.150000   \n",
       "50%          3.800000        7.500000        5.600000        0.470000   \n",
       "75%          6.000000       11.200000        8.600000        1.060000   \n",
       "max         17.300000       29.000000       22.900000       35.930000   \n",
       "\n",
       "       Min_Winddirection2  Max_Winddirection2  ...  Anemometer1_CorrOffset  \\\n",
       "count        69960.000000        69961.000000  ...                 69961.0   \n",
       "mean           232.267953          233.634939  ...                     0.0   \n",
       "std             24.587511           18.684133  ...                     0.0   \n",
       "min              0.000000            0.000000  ...                     0.0   \n",
       "25%            236.000000          236.000000  ...                     0.0   \n",
       "50%            236.000000          236.000000  ...                     0.0   \n",
       "75%            236.000000          236.000000  ...                     0.0   \n",
       "max            358.000000          357.000000  ...                     0.0   \n",
       "\n",
       "       Anemometer2_Freq  Anemometer2_Offset  Anemometer2_CorrGain  \\\n",
       "count      6.996100e+04        6.996100e+04               69961.0   \n",
       "mean       4.990000e-02        2.400000e-01                   1.0   \n",
       "std        6.938943e-18        1.665346e-16                   0.0   \n",
       "min        4.990000e-02        2.400000e-01                   1.0   \n",
       "25%        4.990000e-02        2.400000e-01                   1.0   \n",
       "50%        4.990000e-02        2.400000e-01                   1.0   \n",
       "75%        4.990000e-02        2.400000e-01                   1.0   \n",
       "max        4.990000e-02        2.400000e-01                   1.0   \n",
       "\n",
       "       Anemometer2_CorrOffset  DistanceAirPress  AirRessureSensorZeroOffset  \\\n",
       "count                 69961.0           69961.0                     69961.0   \n",
       "mean                      0.0               0.0                       600.0   \n",
       "std                       0.0               0.0                         0.0   \n",
       "min                       0.0               0.0                       600.0   \n",
       "25%                       0.0               0.0                       600.0   \n",
       "50%                       0.0               0.0                       600.0   \n",
       "75%                       0.0               0.0                       600.0   \n",
       "max                       0.0               0.0                       600.0   \n",
       "\n",
       "       Anemometer1_Avg_Freq  Anemometer2_Avg_Freq  Pressure_Avg_Freq  \n",
       "count          69961.000000          69961.000000       69961.000000  \n",
       "mean             123.607238            123.610655         409.436958  \n",
       "std               74.831436             74.974476           5.103327  \n",
       "min                0.000000              0.000000         392.000000  \n",
       "25%               67.000000             66.000000         406.000000  \n",
       "50%              108.000000            109.000000         409.000000  \n",
       "75%              167.000000            168.000000         412.000000  \n",
       "max              459.000000            455.000000         428.000000  \n",
       "\n",
       "[8 rows x 40 columns]"
      ]
     },
     "execution_count": 11,
     "metadata": {},
     "output_type": "execute_result"
    }
   ],
   "source": [
    "df_metmast.describe()"
   ]
  },
  {
   "cell_type": "code",
   "execution_count": null,
   "metadata": {},
   "outputs": [],
   "source": [
    "df_metmast.iloc[:;213:220]"
   ]
  },
  {
   "cell_type": "code",
   "execution_count": 27,
   "metadata": {},
   "outputs": [
    {
     "data": {
      "text/plain": [
       "41"
      ]
     },
     "execution_count": 27,
     "metadata": {},
     "output_type": "execute_result"
    }
   ],
   "source": [
    "len(df_metmast.columns)"
   ]
  },
  {
   "cell_type": "code",
   "execution_count": 12,
   "metadata": {},
   "outputs": [
    {
     "data": {
      "text/plain": [
       "Index(['Timestamp', 'Min_Windspeed1', 'Max_Windspeed1', 'Avg_Windspeed1',\n",
       "       'Var_Windspeed1', 'Min_Windspeed2', 'Max_Windspeed2', 'Avg_Windspeed2',\n",
       "       'Var_Windspeed2', 'Min_Winddirection2', 'Max_Winddirection2',\n",
       "       'Avg_Winddirection2', 'Var_Winddirection2', 'Min_AmbientTemp',\n",
       "       'Max_AmbientTemp', 'Avg_AmbientTemp', 'Min_Pressure', 'Max_Pressure',\n",
       "       'Avg_Pressure', 'Min_Humidity', 'Max_Humidity', 'Avg_Humidity',\n",
       "       'Min_Precipitation', 'Max_Precipitation', 'Avg_Precipitation',\n",
       "       'Min_Raindetection', 'Max_Raindetection', 'Avg_Raindetection',\n",
       "       'Anemometer1_Freq', 'Anemometer1_Offset', 'Anemometer1_CorrGain',\n",
       "       'Anemometer1_CorrOffset', 'Anemometer2_Freq', 'Anemometer2_Offset',\n",
       "       'Anemometer2_CorrGain', 'Anemometer2_CorrOffset', 'DistanceAirPress',\n",
       "       'AirRessureSensorZeroOffset', 'Anemometer1_Avg_Freq',\n",
       "       'Anemometer2_Avg_Freq', 'Pressure_Avg_Freq'],\n",
       "      dtype='object')"
      ]
     },
     "execution_count": 12,
     "metadata": {},
     "output_type": "execute_result"
    }
   ],
   "source": [
    "df_metmast.columns"
   ]
  },
  {
   "cell_type": "code",
   "execution_count": 18,
   "metadata": {},
   "outputs": [],
   "source": [
    "df_logs = pd.read_csv('../rawdata/wind-farm-1-logs-training.csv', sep=';')"
   ]
  },
  {
   "cell_type": "code",
   "execution_count": 19,
   "metadata": {},
   "outputs": [
    {
     "data": {
      "text/html": [
       "<div>\n",
       "<style scoped>\n",
       "    .dataframe tbody tr th:only-of-type {\n",
       "        vertical-align: middle;\n",
       "    }\n",
       "\n",
       "    .dataframe tbody tr th {\n",
       "        vertical-align: top;\n",
       "    }\n",
       "\n",
       "    .dataframe thead th {\n",
       "        text-align: right;\n",
       "    }\n",
       "</style>\n",
       "<table border=\"1\" class=\"dataframe\">\n",
       "  <thead>\n",
       "    <tr style=\"text-align: right;\">\n",
       "      <th></th>\n",
       "      <th>TimeDetected</th>\n",
       "      <th>TimeReset</th>\n",
       "      <th>UnitTitle</th>\n",
       "      <th>Remark</th>\n",
       "      <th>UnitTitleDestination</th>\n",
       "    </tr>\n",
       "  </thead>\n",
       "  <tbody>\n",
       "    <tr>\n",
       "      <th>0</th>\n",
       "      <td>2016-01-01T00:02:18+00:00</td>\n",
       "      <td>NaN</td>\n",
       "      <td>T11</td>\n",
       "      <td>External power ref.:2000kW</td>\n",
       "      <td>NaN</td>\n",
       "    </tr>\n",
       "    <tr>\n",
       "      <th>1</th>\n",
       "      <td>2016-01-01T00:07:15+00:00</td>\n",
       "      <td>NaN</td>\n",
       "      <td>T06</td>\n",
       "      <td>Generator 1 in</td>\n",
       "      <td>NaN</td>\n",
       "    </tr>\n",
       "    <tr>\n",
       "      <th>2</th>\n",
       "      <td>2016-01-01T00:11:33+00:00</td>\n",
       "      <td>NaN</td>\n",
       "      <td>T09</td>\n",
       "      <td>External power ref.:2000kW</td>\n",
       "      <td>NaN</td>\n",
       "    </tr>\n",
       "    <tr>\n",
       "      <th>3</th>\n",
       "      <td>2016-01-01T00:15:27+00:00</td>\n",
       "      <td>NaN</td>\n",
       "      <td>T01</td>\n",
       "      <td>Generator 1 in</td>\n",
       "      <td>NaN</td>\n",
       "    </tr>\n",
       "    <tr>\n",
       "      <th>4</th>\n",
       "      <td>2016-01-01T00:15:44+00:00</td>\n",
       "      <td>NaN</td>\n",
       "      <td>T01</td>\n",
       "      <td>External power ref.:2000kW</td>\n",
       "      <td>NaN</td>\n",
       "    </tr>\n",
       "    <tr>\n",
       "      <th>...</th>\n",
       "      <td>...</td>\n",
       "      <td>...</td>\n",
       "      <td>...</td>\n",
       "      <td>...</td>\n",
       "      <td>...</td>\n",
       "    </tr>\n",
       "    <tr>\n",
       "      <th>256226</th>\n",
       "      <td>2017-08-31T23:42:07+00:00</td>\n",
       "      <td>NaN</td>\n",
       "      <td>T11</td>\n",
       "      <td>Nac.vent.2, nac/gear: 31/ 50°C</td>\n",
       "      <td>NaN</td>\n",
       "    </tr>\n",
       "    <tr>\n",
       "      <th>256227</th>\n",
       "      <td>2017-08-31T23:45:50+00:00</td>\n",
       "      <td>NaN</td>\n",
       "      <td>T09</td>\n",
       "      <td>External power ref.:2000kW</td>\n",
       "      <td>NaN</td>\n",
       "    </tr>\n",
       "    <tr>\n",
       "      <th>256228</th>\n",
       "      <td>2017-08-31T23:56:40+00:00</td>\n",
       "      <td>NaN</td>\n",
       "      <td>T11</td>\n",
       "      <td>External power ref.:2000kW</td>\n",
       "      <td>NaN</td>\n",
       "    </tr>\n",
       "    <tr>\n",
       "      <th>256229</th>\n",
       "      <td>2017-08-31T23:57:47+00:00</td>\n",
       "      <td>NaN</td>\n",
       "      <td>T07</td>\n",
       "      <td>External power ref.:2000kW</td>\n",
       "      <td>NaN</td>\n",
       "    </tr>\n",
       "    <tr>\n",
       "      <th>256230</th>\n",
       "      <td>2017-08-31T23:57:54+00:00</td>\n",
       "      <td>NaN</td>\n",
       "      <td>T01</td>\n",
       "      <td>External power ref.:2000kW</td>\n",
       "      <td>NaN</td>\n",
       "    </tr>\n",
       "  </tbody>\n",
       "</table>\n",
       "<p>256231 rows × 5 columns</p>\n",
       "</div>"
      ],
      "text/plain": [
       "                     TimeDetected TimeReset UnitTitle  \\\n",
       "0       2016-01-01T00:02:18+00:00       NaN       T11   \n",
       "1       2016-01-01T00:07:15+00:00       NaN       T06   \n",
       "2       2016-01-01T00:11:33+00:00       NaN       T09   \n",
       "3       2016-01-01T00:15:27+00:00       NaN       T01   \n",
       "4       2016-01-01T00:15:44+00:00       NaN       T01   \n",
       "...                           ...       ...       ...   \n",
       "256226  2017-08-31T23:42:07+00:00       NaN       T11   \n",
       "256227  2017-08-31T23:45:50+00:00       NaN       T09   \n",
       "256228  2017-08-31T23:56:40+00:00       NaN       T11   \n",
       "256229  2017-08-31T23:57:47+00:00       NaN       T07   \n",
       "256230  2017-08-31T23:57:54+00:00       NaN       T01   \n",
       "\n",
       "                                Remark  UnitTitleDestination  \n",
       "0           External power ref.:2000kW                   NaN  \n",
       "1                       Generator 1 in                   NaN  \n",
       "2           External power ref.:2000kW                   NaN  \n",
       "3                       Generator 1 in                   NaN  \n",
       "4           External power ref.:2000kW                   NaN  \n",
       "...                                ...                   ...  \n",
       "256226  Nac.vent.2, nac/gear: 31/ 50°C                   NaN  \n",
       "256227      External power ref.:2000kW                   NaN  \n",
       "256228      External power ref.:2000kW                   NaN  \n",
       "256229      External power ref.:2000kW                   NaN  \n",
       "256230      External power ref.:2000kW                   NaN  \n",
       "\n",
       "[256231 rows x 5 columns]"
      ]
     },
     "execution_count": 19,
     "metadata": {},
     "output_type": "execute_result"
    }
   ],
   "source": [
    "df_logs"
   ]
  },
  {
   "cell_type": "code",
   "execution_count": null,
   "metadata": {},
   "outputs": [],
   "source": []
  },
  {
   "cell_type": "code",
   "execution_count": 13,
   "metadata": {},
   "outputs": [
    {
     "data": {
      "text/html": [
       "<div>\n",
       "<style scoped>\n",
       "    .dataframe tbody tr th:only-of-type {\n",
       "        vertical-align: middle;\n",
       "    }\n",
       "\n",
       "    .dataframe tbody tr th {\n",
       "        vertical-align: top;\n",
       "    }\n",
       "\n",
       "    .dataframe thead th {\n",
       "        text-align: right;\n",
       "    }\n",
       "</style>\n",
       "<table border=\"1\" class=\"dataframe\">\n",
       "  <thead>\n",
       "    <tr style=\"text-align: right;\">\n",
       "      <th></th>\n",
       "      <th>Gen_RPM_Max</th>\n",
       "      <th>Gen_RPM_Min</th>\n",
       "      <th>Gen_RPM_Avg</th>\n",
       "      <th>Gen_RPM_Std</th>\n",
       "      <th>Gen_Bear_Temp_Avg</th>\n",
       "      <th>Gen_Phase1_Temp_Avg</th>\n",
       "      <th>Gen_Phase2_Temp_Avg</th>\n",
       "      <th>Gen_Phase3_Temp_Avg</th>\n",
       "      <th>Hyd_Oil_Temp_Avg</th>\n",
       "      <th>Gear_Oil_Temp_Avg</th>\n",
       "      <th>...</th>\n",
       "      <th>Grd_Prod_PsbleInd_Avg</th>\n",
       "      <th>Grd_Prod_PsbleInd_Max</th>\n",
       "      <th>Grd_Prod_PsbleInd_Min</th>\n",
       "      <th>Grd_Prod_PsbleInd_Std</th>\n",
       "      <th>Grd_Prod_PsbleCap_Avg</th>\n",
       "      <th>Grd_Prod_PsbleCap_Max</th>\n",
       "      <th>Grd_Prod_PsbleCap_Min</th>\n",
       "      <th>Grd_Prod_PsbleCap_Std</th>\n",
       "      <th>Gen_Bear2_Temp_Avg</th>\n",
       "      <th>Nac_Direction_Avg</th>\n",
       "    </tr>\n",
       "  </thead>\n",
       "  <tbody>\n",
       "    <tr>\n",
       "      <th>count</th>\n",
       "      <td>5.000000</td>\n",
       "      <td>5.000000</td>\n",
       "      <td>5.000000</td>\n",
       "      <td>5.000000</td>\n",
       "      <td>5.00000</td>\n",
       "      <td>5.000000</td>\n",
       "      <td>5.000000</td>\n",
       "      <td>5.000000</td>\n",
       "      <td>5.00000</td>\n",
       "      <td>5.000000</td>\n",
       "      <td>...</td>\n",
       "      <td>5.000000</td>\n",
       "      <td>5.000000</td>\n",
       "      <td>5.000000</td>\n",
       "      <td>5.000000</td>\n",
       "      <td>5.000000</td>\n",
       "      <td>5.000000</td>\n",
       "      <td>5.000000</td>\n",
       "      <td>5.000000</td>\n",
       "      <td>5.000000</td>\n",
       "      <td>5.000000</td>\n",
       "    </tr>\n",
       "    <tr>\n",
       "      <th>mean</th>\n",
       "      <td>1316.200000</td>\n",
       "      <td>1231.200000</td>\n",
       "      <td>1259.060000</td>\n",
       "      <td>14.620000</td>\n",
       "      <td>41.20000</td>\n",
       "      <td>57.600000</td>\n",
       "      <td>58.200000</td>\n",
       "      <td>58.000000</td>\n",
       "      <td>33.20000</td>\n",
       "      <td>44.600000</td>\n",
       "      <td>...</td>\n",
       "      <td>-564.600000</td>\n",
       "      <td>-195.420000</td>\n",
       "      <td>-893.020000</td>\n",
       "      <td>183.600000</td>\n",
       "      <td>564.600000</td>\n",
       "      <td>893.020000</td>\n",
       "      <td>195.420000</td>\n",
       "      <td>183.600000</td>\n",
       "      <td>36.400000</td>\n",
       "      <td>208.260000</td>\n",
       "    </tr>\n",
       "    <tr>\n",
       "      <th>std</th>\n",
       "      <td>44.272057</td>\n",
       "      <td>3.371943</td>\n",
       "      <td>11.593662</td>\n",
       "      <td>7.288484</td>\n",
       "      <td>0.83666</td>\n",
       "      <td>4.037326</td>\n",
       "      <td>3.962323</td>\n",
       "      <td>3.082207</td>\n",
       "      <td>6.09918</td>\n",
       "      <td>2.073644</td>\n",
       "      <td>...</td>\n",
       "      <td>353.196241</td>\n",
       "      <td>326.290564</td>\n",
       "      <td>180.050693</td>\n",
       "      <td>101.231566</td>\n",
       "      <td>353.196241</td>\n",
       "      <td>180.050693</td>\n",
       "      <td>326.290564</td>\n",
       "      <td>101.231566</td>\n",
       "      <td>2.408319</td>\n",
       "      <td>8.263958</td>\n",
       "    </tr>\n",
       "    <tr>\n",
       "      <th>min</th>\n",
       "      <td>1270.000000</td>\n",
       "      <td>1226.100000</td>\n",
       "      <td>1248.500000</td>\n",
       "      <td>6.800000</td>\n",
       "      <td>40.00000</td>\n",
       "      <td>51.000000</td>\n",
       "      <td>52.000000</td>\n",
       "      <td>53.000000</td>\n",
       "      <td>30.00000</td>\n",
       "      <td>43.000000</td>\n",
       "      <td>...</td>\n",
       "      <td>-973.400000</td>\n",
       "      <td>-752.600000</td>\n",
       "      <td>-1000.000000</td>\n",
       "      <td>56.500000</td>\n",
       "      <td>144.400000</td>\n",
       "      <td>584.500000</td>\n",
       "      <td>0.000000</td>\n",
       "      <td>56.500000</td>\n",
       "      <td>33.000000</td>\n",
       "      <td>197.300000</td>\n",
       "    </tr>\n",
       "    <tr>\n",
       "      <th>25%</th>\n",
       "      <td>1277.400000</td>\n",
       "      <td>1229.500000</td>\n",
       "      <td>1249.000000</td>\n",
       "      <td>9.000000</td>\n",
       "      <td>41.00000</td>\n",
       "      <td>58.000000</td>\n",
       "      <td>57.000000</td>\n",
       "      <td>58.000000</td>\n",
       "      <td>30.00000</td>\n",
       "      <td>43.000000</td>\n",
       "      <td>...</td>\n",
       "      <td>-861.600000</td>\n",
       "      <td>-224.500000</td>\n",
       "      <td>-1000.000000</td>\n",
       "      <td>157.100000</td>\n",
       "      <td>307.100000</td>\n",
       "      <td>880.600000</td>\n",
       "      <td>0.000000</td>\n",
       "      <td>157.100000</td>\n",
       "      <td>35.000000</td>\n",
       "      <td>204.600000</td>\n",
       "    </tr>\n",
       "    <tr>\n",
       "      <th>50%</th>\n",
       "      <td>1317.500000</td>\n",
       "      <td>1232.800000</td>\n",
       "      <td>1254.900000</td>\n",
       "      <td>13.800000</td>\n",
       "      <td>41.00000</td>\n",
       "      <td>58.000000</td>\n",
       "      <td>59.000000</td>\n",
       "      <td>58.000000</td>\n",
       "      <td>30.00000</td>\n",
       "      <td>44.000000</td>\n",
       "      <td>...</td>\n",
       "      <td>-536.500000</td>\n",
       "      <td>0.000000</td>\n",
       "      <td>-1000.000000</td>\n",
       "      <td>180.000000</td>\n",
       "      <td>536.500000</td>\n",
       "      <td>1000.000000</td>\n",
       "      <td>0.000000</td>\n",
       "      <td>180.000000</td>\n",
       "      <td>37.000000</td>\n",
       "      <td>206.900000</td>\n",
       "    </tr>\n",
       "    <tr>\n",
       "      <th>75%</th>\n",
       "      <td>1339.400000</td>\n",
       "      <td>1233.300000</td>\n",
       "      <td>1270.900000</td>\n",
       "      <td>18.800000</td>\n",
       "      <td>42.00000</td>\n",
       "      <td>59.000000</td>\n",
       "      <td>61.000000</td>\n",
       "      <td>60.000000</td>\n",
       "      <td>32.00000</td>\n",
       "      <td>45.000000</td>\n",
       "      <td>...</td>\n",
       "      <td>-307.100000</td>\n",
       "      <td>0.000000</td>\n",
       "      <td>-880.600000</td>\n",
       "      <td>185.500000</td>\n",
       "      <td>861.600000</td>\n",
       "      <td>1000.000000</td>\n",
       "      <td>224.500000</td>\n",
       "      <td>185.500000</td>\n",
       "      <td>38.000000</td>\n",
       "      <td>214.000000</td>\n",
       "    </tr>\n",
       "    <tr>\n",
       "      <th>max</th>\n",
       "      <td>1376.700000</td>\n",
       "      <td>1234.300000</td>\n",
       "      <td>1272.000000</td>\n",
       "      <td>24.700000</td>\n",
       "      <td>42.00000</td>\n",
       "      <td>62.000000</td>\n",
       "      <td>62.000000</td>\n",
       "      <td>61.000000</td>\n",
       "      <td>44.00000</td>\n",
       "      <td>48.000000</td>\n",
       "      <td>...</td>\n",
       "      <td>-144.400000</td>\n",
       "      <td>0.000000</td>\n",
       "      <td>-584.500000</td>\n",
       "      <td>338.900000</td>\n",
       "      <td>973.400000</td>\n",
       "      <td>1000.000000</td>\n",
       "      <td>752.600000</td>\n",
       "      <td>338.900000</td>\n",
       "      <td>39.000000</td>\n",
       "      <td>218.500000</td>\n",
       "    </tr>\n",
       "  </tbody>\n",
       "</table>\n",
       "<p>8 rows × 81 columns</p>\n",
       "</div>"
      ],
      "text/plain": [
       "       Gen_RPM_Max  Gen_RPM_Min  Gen_RPM_Avg  Gen_RPM_Std  Gen_Bear_Temp_Avg  \\\n",
       "count     5.000000     5.000000     5.000000     5.000000            5.00000   \n",
       "mean   1316.200000  1231.200000  1259.060000    14.620000           41.20000   \n",
       "std      44.272057     3.371943    11.593662     7.288484            0.83666   \n",
       "min    1270.000000  1226.100000  1248.500000     6.800000           40.00000   \n",
       "25%    1277.400000  1229.500000  1249.000000     9.000000           41.00000   \n",
       "50%    1317.500000  1232.800000  1254.900000    13.800000           41.00000   \n",
       "75%    1339.400000  1233.300000  1270.900000    18.800000           42.00000   \n",
       "max    1376.700000  1234.300000  1272.000000    24.700000           42.00000   \n",
       "\n",
       "       Gen_Phase1_Temp_Avg  Gen_Phase2_Temp_Avg  Gen_Phase3_Temp_Avg  \\\n",
       "count             5.000000             5.000000             5.000000   \n",
       "mean             57.600000            58.200000            58.000000   \n",
       "std               4.037326             3.962323             3.082207   \n",
       "min              51.000000            52.000000            53.000000   \n",
       "25%              58.000000            57.000000            58.000000   \n",
       "50%              58.000000            59.000000            58.000000   \n",
       "75%              59.000000            61.000000            60.000000   \n",
       "max              62.000000            62.000000            61.000000   \n",
       "\n",
       "       Hyd_Oil_Temp_Avg  Gear_Oil_Temp_Avg  ...  Grd_Prod_PsbleInd_Avg  \\\n",
       "count           5.00000           5.000000  ...               5.000000   \n",
       "mean           33.20000          44.600000  ...            -564.600000   \n",
       "std             6.09918           2.073644  ...             353.196241   \n",
       "min            30.00000          43.000000  ...            -973.400000   \n",
       "25%            30.00000          43.000000  ...            -861.600000   \n",
       "50%            30.00000          44.000000  ...            -536.500000   \n",
       "75%            32.00000          45.000000  ...            -307.100000   \n",
       "max            44.00000          48.000000  ...            -144.400000   \n",
       "\n",
       "       Grd_Prod_PsbleInd_Max  Grd_Prod_PsbleInd_Min  Grd_Prod_PsbleInd_Std  \\\n",
       "count               5.000000               5.000000               5.000000   \n",
       "mean             -195.420000            -893.020000             183.600000   \n",
       "std               326.290564             180.050693             101.231566   \n",
       "min              -752.600000           -1000.000000              56.500000   \n",
       "25%              -224.500000           -1000.000000             157.100000   \n",
       "50%                 0.000000           -1000.000000             180.000000   \n",
       "75%                 0.000000            -880.600000             185.500000   \n",
       "max                 0.000000            -584.500000             338.900000   \n",
       "\n",
       "       Grd_Prod_PsbleCap_Avg  Grd_Prod_PsbleCap_Max  Grd_Prod_PsbleCap_Min  \\\n",
       "count               5.000000               5.000000               5.000000   \n",
       "mean              564.600000             893.020000             195.420000   \n",
       "std               353.196241             180.050693             326.290564   \n",
       "min               144.400000             584.500000               0.000000   \n",
       "25%               307.100000             880.600000               0.000000   \n",
       "50%               536.500000            1000.000000               0.000000   \n",
       "75%               861.600000            1000.000000             224.500000   \n",
       "max               973.400000            1000.000000             752.600000   \n",
       "\n",
       "       Grd_Prod_PsbleCap_Std  Gen_Bear2_Temp_Avg  Nac_Direction_Avg  \n",
       "count               5.000000            5.000000           5.000000  \n",
       "mean              183.600000           36.400000         208.260000  \n",
       "std               101.231566            2.408319           8.263958  \n",
       "min                56.500000           33.000000         197.300000  \n",
       "25%               157.100000           35.000000         204.600000  \n",
       "50%               180.000000           37.000000         206.900000  \n",
       "75%               185.500000           38.000000         214.000000  \n",
       "max               338.900000           39.000000         218.500000  \n",
       "\n",
       "[8 rows x 81 columns]"
      ]
     },
     "execution_count": 13,
     "metadata": {},
     "output_type": "execute_result"
    }
   ],
   "source": [
    "df_signals.describe()"
   ]
  },
  {
   "cell_type": "code",
   "execution_count": null,
   "metadata": {},
   "outputs": [],
   "source": []
  },
  {
   "cell_type": "code",
   "execution_count": 19,
   "metadata": {},
   "outputs": [
    {
     "data": {
      "image/png": "[encoded data removed]",
      "text/plain": [
       "<Figure size 432x288 with 1 Axes>"
      ]
     },
     "metadata": {
      "needs_background": "light"
     },
     "output_type": "display_data"
    },
    {
     "data": {
      "image/png": "[encoded data removed]",
      "text/plain": [
       "<Figure size 432x288 with 1 Axes>"
      ]
     },
     "metadata": {
      "needs_background": "light"
     },
     "output_type": "display_data"
    },
    {
     "data": {
      "image/png": "[encoded data removed]",
      "text/plain": [
       "<Figure size 432x288 with 1 Axes>"
      ]
     },
     "metadata": {
      "needs_background": "light"
     },
     "output_type": "display_data"
    },
    {
     "data": {
      "image/png": "[encoded data removed]",
      "text/plain": [
       "<Figure size 432x288 with 1 Axes>"
      ]
     },
     "metadata": {
      "needs_background": "light"
     },
     "output_type": "display_data"
    },
    {
     "data": {
      "image/png": "[encoded data removed]",
      "text/plain": [
       "<Figure size 432x288 with 1 Axes>"
      ]
     },
     "metadata": {
      "needs_background": "light"
     },
     "output_type": "display_data"
    },
    {
     "data": {
      "image/png": "[encoded data removed]",
      "text/plain": [
       "<Figure size 432x288 with 1 Axes>"
      ]
     },
     "metadata": {
      "needs_background": "light"
     },
     "output_type": "display_data"
    },
    {
     "data": {
      "image/png": "[encoded data removed]",
      "text/plain": [
       "<Figure size 432x288 with 1 Axes>"
      ]
     },
     "metadata": {
      "needs_background": "light"
     },
     "output_type": "display_data"
    },
    {
     "data": {
      "image/png": "[encoded data removed]",
      "text/plain": [
       "<Figure size 432x288 with 1 Axes>"
      ]
     },
     "metadata": {
      "needs_background": "light"
     },
     "output_type": "display_data"
    },
    {
     "data": {
      "image/png": "[encoded data removed]",
      "text/plain": [
       "<Figure size 432x288 with 1 Axes>"
      ]
     },
     "metadata": {
      "needs_background": "light"
     },
     "output_type": "display_data"
    },
    {
     "data": {
      "image/png": "[encoded data removed]",
      "text/plain": [
       "<Figure size 432x288 with 1 Axes>"
      ]
     },
     "metadata": {
      "needs_background": "light"
     },
     "output_type": "display_data"
    },
    {
     "data": {
      "image/png": "[encoded data removed]",
      "text/plain": [
       "<Figure size 432x288 with 1 Axes>"
      ]
     },
     "metadata": {
      "needs_background": "light"
     },
     "output_type": "display_data"
    },
    {
     "data": {
      "image/png": "[encoded data removed]",
      "text/plain": [
       "<Figure size 432x288 with 1 Axes>"
      ]
     },
     "metadata": {
      "needs_background": "light"
     },
     "output_type": "display_data"
    },
    {
     "data": {
      "image/png": "[encoded data removed]",
      "text/plain": [
       "<Figure size 432x288 with 1 Axes>"
      ]
     },
     "metadata": {
      "needs_background": "light"
     },
     "output_type": "display_data"
    },
    {
     "data": {
      "image/png": "[encoded data removed]",
      "text/plain": [
       "<Figure size 432x288 with 1 Axes>"
      ]
     },
     "metadata": {
      "needs_background": "light"
     },
     "output_type": "display_data"
    },
    {
     "data": {
      "image/png": "[encoded data removed]",
      "text/plain": [
       "<Figure size 432x288 with 1 Axes>"
      ]
     },
     "metadata": {
      "needs_background": "light"
     },
     "output_type": "display_data"
    },
    {
     "data": {
      "image/png": "[encoded data removed]",
      "text/plain": [
       "<Figure size 432x288 with 1 Axes>"
      ]
     },
     "metadata": {
      "needs_background": "light"
     },
     "output_type": "display_data"
    },
    {
     "data": {
      "image/png": "[encoded data removed]",
      "text/plain": [
       "<Figure size 432x288 with 1 Axes>"
      ]
     },
     "metadata": {
      "needs_background": "light"
     },
     "output_type": "display_data"
    },
    {
     "data": {
      "image/png": "[encoded data removed]",
      "text/plain": [
       "<Figure size 432x288 with 1 Axes>"
      ]
     },
     "metadata": {
      "needs_background": "light"
     },
     "output_type": "display_data"
    },
    {
     "data": {
      "image/png": "[encoded data removed]",
      "text/plain": [
       "<Figure size 432x288 with 1 Axes>"
      ]
     },
     "metadata": {
      "needs_background": "light"
     },
     "output_type": "display_data"
    },
    {
     "data": {
      "image/png": "[encoded data removed]",
      "text/plain": [
       "<Figure size 432x288 with 1 Axes>"
      ]
     },
     "metadata": {
      "needs_background": "light"
     },
     "output_type": "display_data"
    },
    {
     "data": {
      "image/png": "[encoded data removed]",
      "text/plain": [
       "<Figure size 432x288 with 1 Axes>"
      ]
     },
     "metadata": {
      "needs_background": "light"
     },
     "output_type": "display_data"
    },
    {
     "data": {
      "image/png": "[encoded data removed]",
      "text/plain": [
       "<Figure size 432x288 with 1 Axes>"
      ]
     },
     "metadata": {
      "needs_background": "light"
     },
     "output_type": "display_data"
    },
    {
     "data": {
      "image/png": "[encoded data removed]",
      "text/plain": [
       "<Figure size 432x288 with 1 Axes>"
      ]
     },
     "metadata": {
      "needs_background": "light"
     },
     "output_type": "display_data"
    },
    {
     "data": {
      "image/png": "[encoded data removed]",
      "text/plain": [
       "<Figure size 432x288 with 1 Axes>"
      ]
     },
     "metadata": {
      "needs_background": "light"
     },
     "output_type": "display_data"
    },
    {
     "data": {
      "image/png": "[encoded data removed]",
      "text/plain": [
       "<Figure size 432x288 with 1 Axes>"
      ]
     },
     "metadata": {
      "needs_background": "light"
     },
     "output_type": "display_data"
    }
   ],
   "source": [
    "for i in df_metmast.select_dtypes(exclude=['int64']).columns:\n",
    "    df_metmast[i].hist()\n",
    "    plt.pyplot.show()"
   ]
  },
  {
   "cell_type": "code",
   "execution_count": 20,
   "metadata": {},
   "outputs": [
    {
     "data": {
      "image/png": "[encoded data removed]",
      "text/plain": [
       "<Figure size 432x288 with 1 Axes>"
      ]
     },
     "metadata": {
      "needs_background": "light"
     },
     "output_type": "display_data"
    },
    {
     "data": {
      "image/png": "[encoded data removed]",
      "text/plain": [
       "<Figure size 432x288 with 1 Axes>"
      ]
     },
     "metadata": {
      "needs_background": "light"
     },
     "output_type": "display_data"
    },
    {
     "data": {
      "image/png": "[encoded data removed]",
      "text/plain": [
       "<Figure size 432x288 with 1 Axes>"
      ]
     },
     "metadata": {
      "needs_background": "light"
     },
     "output_type": "display_data"
    },
    {
     "data": {
      "image/png": "[encoded data removed]",
      "text/plain": [
       "<Figure size 432x288 with 1 Axes>"
      ]
     },
     "metadata": {
      "needs_background": "light"
     },
     "output_type": "display_data"
    },
    {
     "data": {
      "image/png": "[encoded data removed]",
      "text/plain": [
       "<Figure size 432x288 with 1 Axes>"
      ]
     },
     "metadata": {
      "needs_background": "light"
     },
     "output_type": "display_data"
    },
    {
     "data": {
      "image/png": "[encoded data removed]",
      "text/plain": [
       "<Figure size 432x288 with 1 Axes>"
      ]
     },
     "metadata": {
      "needs_background": "light"
     },
     "output_type": "display_data"
    },
    {
     "data": {
      "image/png": "[encoded data removed]",
      "text/plain": [
       "<Figure size 432x288 with 1 Axes>"
      ]
     },
     "metadata": {
      "needs_background": "light"
     },
     "output_type": "display_data"
    },
    {
     "data": {
      "image/png": "[encoded data removed]",
      "text/plain": [
       "<Figure size 432x288 with 1 Axes>"
      ]
     },
     "metadata": {
      "needs_background": "light"
     },
     "output_type": "display_data"
    },
    {
     "data": {
      "image/png": "[encoded data removed]",
      "text/plain": [
       "<Figure size 432x288 with 1 Axes>"
      ]
     },
     "metadata": {
      "needs_background": "light"
     },
     "output_type": "display_data"
    },
    {
     "data": {
      "image/png": "[encoded data removed]",
      "text/plain": [
       "<Figure size 432x288 with 1 Axes>"
      ]
     },
     "metadata": {
      "needs_background": "light"
     },
     "output_type": "display_data"
    },
    {
     "data": {
      "image/png": "[encoded data removed]",
      "text/plain": [
       "<Figure size 432x288 with 1 Axes>"
      ]
     },
     "metadata": {
      "needs_background": "light"
     },
     "output_type": "display_data"
    },
    {
     "data": {
      "image/png": "[encoded data removed]",
      "text/plain": [
       "<Figure size 432x288 with 1 Axes>"
      ]
     },
     "metadata": {
      "needs_background": "light"
     },
     "output_type": "display_data"
    },
    {
     "data": {
      "image/png": "[encoded data removed]",
      "text/plain": [
       "<Figure size 432x288 with 1 Axes>"
      ]
     },
     "metadata": {
      "needs_background": "light"
     },
     "output_type": "display_data"
    },
    {
     "data": {
      "image/png": "[encoded data removed]",
      "text/plain": [
       "<Figure size 432x288 with 1 Axes>"
      ]
     },
     "metadata": {
      "needs_background": "light"
     },
     "output_type": "display_data"
    },
    {
     "data": {
      "image/png": "[encoded data removed]",
      "text/plain": [
       "<Figure size 432x288 with 1 Axes>"
      ]
     },
     "metadata": {
      "needs_background": "light"
     },
     "output_type": "display_data"
    },
    {
     "data": {
      "image/png": "[encoded data removed]",
      "text/plain": [
       "<Figure size 432x288 with 1 Axes>"
      ]
     },
     "metadata": {
      "needs_background": "light"
     },
     "output_type": "display_data"
    }
   ],
   "source": [
    "for i in df_metmast.select_dtypes(include=['int64']).columns:\n",
    "    df_metmast[i].hist()\n",
    "    plt.pyplot.show()"
   ]
  },
  {
   "cell_type": "code",
   "execution_count": null,
   "metadata": {},
   "outputs": [],
   "source": []
  }
 ],
 "metadata": {
  "kernelspec": {
   "display_name": "Python 3",
   "language": "python",
   "name": "python3"
  },
  "language_info": {
   "codemirror_mode": {
    "name": "ipython",
    "version": 3
   },
   "file_extension": ".py",
   "mimetype": "text/x-python",
   "name": "python",
   "nbconvert_exporter": "python",
   "pygments_lexer": "ipython3",
   "version": "3.8.5"
  }
 },
 "nbformat": 4,
 "nbformat_minor": 4
}
