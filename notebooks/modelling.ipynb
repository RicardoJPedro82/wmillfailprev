{
 "cells": [
  {
   "cell_type": "code",
   "execution_count": 1,
   "id": "contrary-palmer",
   "metadata": {
    "ExecuteTime": {
     "end_time": "2021-02-11T21:37:31.521922Z",
     "start_time": "2021-02-11T21:37:30.130881Z"
    }
   },
   "outputs": [],
   "source": [
    "import pandas as pd\n",
    "import numpy as np\n",
    "import seaborn as sns\n",
    "import matplotlib.pyplot as plt\n",
    "import datetime\n",
    "from sklearn.preprocessing import StandardScaler\n",
    "from sklearn.preprocessing import MinMaxScaler\n",
    "from sklearn.ensemble import GradientBoostingClassifier\n",
    "from sklearn.ensemble import RandomForestClassifier\n",
    "from sklearn.svm import SVC, LinearSVC\n",
    "from sklearn.tree import DecisionTreeClassifier\n",
    "from sklearn.neighbors import KNeighborsClassifier\n",
    "from sklearn.ensemble import BaggingClassifier\n",
    "from sklearn.ensemble import AdaBoostClassifier\n",
    "from sklearn.ensemble import ExtraTreesClassifier\n",
    "from sklearn.metrics import confusion_matrix, roc_auc_score, f1_score, roc_curve, auc, plot_roc_curve, classification_report\n",
    "from sklearn import model_selection\n"
   ]
  },
  {
   "cell_type": "code",
   "execution_count": 2,
   "id": "collectible-december",
   "metadata": {
    "ExecuteTime": {
     "end_time": "2021-02-11T21:37:47.440139Z",
     "start_time": "2021-02-11T21:37:31.525577Z"
    }
   },
   "outputs": [],
   "source": [
    "rooth_path = '../rawdata/outro/'\n",
    "generator_df = pd.read_csv(rooth_path + 'generator_df.csv')\n",
    "gen_bear_df = pd.read_csv(rooth_path + 'gen_bear_df.csv')\n",
    "hyd_df = pd.read_csv(rooth_path + 'hyd_df.csv')\n",
    "gearbox_df = pd.read_csv(rooth_path + 'gearbox_df.csv')\n",
    "transf_df = pd.read_csv(rooth_path + 'transf_df.csv')"
   ]
  },
  {
   "cell_type": "code",
   "execution_count": 3,
   "id": "interior-performance",
   "metadata": {
    "ExecuteTime": {
     "end_time": "2021-02-11T21:37:48.322394Z",
     "start_time": "2021-02-11T21:37:47.442805Z"
    }
   },
   "outputs": [],
   "source": [
    "generator_df['Timestamp'] = pd.to_datetime(generator_df['Timestamp'])\n",
    "gen_bear_df['Timestamp'] = pd.to_datetime(gen_bear_df['Timestamp'])\n",
    "hyd_df['Timestamp'] = pd.to_datetime(hyd_df['Timestamp'])\n",
    "gearbox_df['Timestamp'] = pd.to_datetime(gearbox_df['Timestamp'])\n",
    "transf_df['Timestamp'] = pd.to_datetime(transf_df['Timestamp'])"
   ]
  },
  {
   "cell_type": "code",
   "execution_count": 4,
   "id": "revised-gardening",
   "metadata": {
    "ExecuteTime": {
     "end_time": "2021-02-11T21:37:48.330350Z",
     "start_time": "2021-02-11T21:37:48.325686Z"
    }
   },
   "outputs": [],
   "source": [
    "#By Pearson corr analysis\n",
    "features_drop = ['Gen_RPM_Max', 'Gen_RPM_Min', 'Gen_Phase1_Temp_Avg','Gen_Phase3_Temp_Avg', 'Amb_WindSpeed_Est_Avg',\n",
    "                'Grd_RtrInvPhase1_Temp_Avg', 'Grd_RtrInvPhase3_Temp_Avg', 'Rtr_RPM_Max', 'Rtr_RPM_Min','Grd_Prod_VoltPhse2_Avg',\n",
    "                'Blds_PitchAngle_Max', 'Blds_PitchAngle_Min', 'Prod_LatestAvg_ReactPwrGen1', 'Cont_Hub_Temp_Avg',\n",
    "                'Spin_Temp_Avg', 'Rtr_RPM_Std', 'Rtr_RPM_Avg', 'Cont_VCP_Temp_Avg', 'Grd_Prod_CurPhse1_Avg', 'Prod_LatestAvg_TotActPwr',\n",
    "                 'Grd_Prod_CurPhse3_Avg', 'Grd_Prod_Pwr_Max', 'Grd_Prod_Pwr_Min', 'HVTrafo_Phase1_Temp_Avg', 'Grd_Prod_CurPhse2_Avg',\n",
    "                 'HVTrafo_Phase3_Temp_Avg', 'Grd_Prod_PsblePwr_Max', 'Grd_Prod_PsblePwr_Min', 'Grd_Prod_ReactPwr_Avg',\n",
    "                'Grd_Prod_PsbleInd_Max', 'Grd_Prod_PsbleInd_Min', 'Prod_LatestAvg_ActPwrGen1', 'Prod_LatestAvg_TotReactPwr',\n",
    "                'Grd_Prod_PsbleInd_Avg', 'Blds_PitchAngle_Avg', 'Grd_Prod_ReactPwr_Max', 'Grd_Prod_ReactPwr_Min',\n",
    "                'Nac_Direction_Avg', 'Amb_WindDir_Abs_Avg', 'Grd_Prod_PsbleCap_Min', 'Gear_Oil_Temp_Avg', 'Grd_Prod_VoltPhse1_Avg']"
   ]
  },
  {
   "cell_type": "code",
   "execution_count": 5,
   "id": "seeing-electron",
   "metadata": {
    "ExecuteTime": {
     "end_time": "2021-02-11T21:37:48.592683Z",
     "start_time": "2021-02-11T21:37:48.333094Z"
    }
   },
   "outputs": [],
   "source": [
    "## Remove columns with strong correlations\n",
    "generator_df = generator_df.drop(columns=features_drop)\n",
    "gen_bear_df = gen_bear_df.drop(columns=features_drop)\n",
    "hyd_df = hyd_df.drop(columns=features_drop)\n",
    "gearbox_df = gearbox_df.drop(columns=features_drop)\n",
    "transf_df = transf_df.drop(columns=features_drop)"
   ]
  },
  {
   "cell_type": "code",
   "execution_count": 6,
   "id": "dietary-spencer",
   "metadata": {
    "ExecuteTime": {
     "end_time": "2021-02-11T21:37:48.601008Z",
     "start_time": "2021-02-11T21:37:48.596507Z"
    }
   },
   "outputs": [],
   "source": [
    "def prepare_train_test(df):\n",
    "    last_date = df['Timestamp'].iloc[-1]\n",
    "    split = last_date - pd.DateOffset(months=3)\n",
    "    df_train = df[df['Timestamp'] < split]\n",
    "    df_test = df[df['Timestamp'] >= split]\n",
    "    \n",
    "    return df_train, df_test"
   ]
  },
  {
   "cell_type": "code",
   "execution_count": 7,
   "id": "aging-nepal",
   "metadata": {
    "ExecuteTime": {
     "end_time": "2021-02-11T21:37:49.034739Z",
     "start_time": "2021-02-11T21:37:48.603874Z"
    }
   },
   "outputs": [],
   "source": [
    "generator_df_train, generator_df_test = prepare_train_test(generator_df)\n",
    "gen_bear_df_train, gen_bear_df_test = prepare_train_test(gen_bear_df)\n",
    "hyd_df_train, hyd_df_test = prepare_train_test(hyd_df)\n",
    "gearbox_df_train, gearbox_df_test = prepare_train_test(gearbox_df)\n",
    "transf_df_train, transf_df_test = prepare_train_test(transf_df)"
   ]
  },
  {
   "cell_type": "code",
   "execution_count": 8,
   "id": "solid-movie",
   "metadata": {
    "ExecuteTime": {
     "end_time": "2021-02-11T21:37:49.047706Z",
     "start_time": "2021-02-11T21:37:49.039871Z"
    }
   },
   "outputs": [],
   "source": [
    "#Group by day per turbine\n",
    "def group_per_frequency(df, strategy='mean'):\n",
    "    df['Date'] = df['Timestamp'].dt.date\n",
    "    if strategy == 'max':\n",
    "        df = df.groupby(by=['Turbine_ID','Date']).max().reset_index().drop(columns='Timestamp')\n",
    "    else:\n",
    "        df = df.groupby(by=['Turbine_ID','Date']).mean().reset_index()\n",
    "        \n",
    "    return df"
   ]
  },
  {
   "cell_type": "code",
   "execution_count": 9,
   "id": "rental-moore",
   "metadata": {
    "ExecuteTime": {
     "end_time": "2021-02-11T21:37:50.554456Z",
     "start_time": "2021-02-11T21:37:49.050694Z"
    }
   },
   "outputs": [
    {
     "name": "stderr",
     "output_type": "stream",
     "text": [
      "/home/guilherme/.pyenv/versions/3.7.2/lib/python3.7/site-packages/ipykernel_launcher.py:3: SettingWithCopyWarning: \n",
      "A value is trying to be set on a copy of a slice from a DataFrame.\n",
      "Try using .loc[row_indexer,col_indexer] = value instead\n",
      "\n",
      "See the caveats in the documentation: https://pandas.pydata.org/pandas-docs/stable/user_guide/indexing.html#returning-a-view-versus-a-copy\n",
      "  This is separate from the ipykernel package so we can avoid doing imports until\n"
     ]
    }
   ],
   "source": [
    "df_train_gearbox_day = group_per_frequency(gearbox_df_train)\n",
    "df_train_gen_day = group_per_frequency(generator_df_train)\n",
    "df_train_gen_bear_day = group_per_frequency(gen_bear_df_train)\n",
    "df_train_hyd_day = group_per_frequency(hyd_df_train)\n",
    "df_train_transf_day = group_per_frequency(transf_df_train)\n",
    "df_test_gearbox_day = group_per_frequency(gearbox_df_test)\n",
    "df_test_gen_day = group_per_frequency(generator_df_test)\n",
    "df_test_gen_bear_day = group_per_frequency(gen_bear_df_test)\n",
    "df_test_hyd_day = group_per_frequency(hyd_df_test)\n",
    "df_test_transf_day = group_per_frequency(transf_df_test)"
   ]
  },
  {
   "cell_type": "code",
   "execution_count": 10,
   "id": "historical-start",
   "metadata": {
    "ExecuteTime": {
     "end_time": "2021-02-11T21:37:50.588772Z",
     "start_time": "2021-02-11T21:37:50.557538Z"
    }
   },
   "outputs": [],
   "source": [
    "dfs = [df_train_gearbox_day,df_train_gen_day, df_train_gen_bear_day, df_train_hyd_day, df_train_transf_day,\n",
    "       df_test_gearbox_day, df_test_gen_day, df_test_gen_bear_day, df_test_hyd_day, df_test_transf_day ]\n",
    "\n",
    "for df in dfs:\n",
    "    df['60_days'] = df['60_days'].round(decimals=0)\n",
    "    df['50_days'] = df['50_days'].round(decimals=0)\n",
    "    df['40_days'] = df['40_days'].round(decimals=0)\n",
    "    df['30_days'] = df['30_days'].round(decimals=0)\n",
    "    df['20_days'] = df['20_days'].round(decimals=0)\n",
    "    df['10_days'] = df['10_days'].round(decimals=0)"
   ]
  },
  {
   "cell_type": "code",
   "execution_count": 11,
   "id": "utility-genius",
   "metadata": {
    "ExecuteTime": {
     "end_time": "2021-02-11T21:37:50.601525Z",
     "start_time": "2021-02-11T21:37:50.592764Z"
    }
   },
   "outputs": [],
   "source": [
    "def add_features(df_in, rolling_win_size):\n",
    "    \n",
    "    sensor_cols = []\n",
    "    for i in df_in.keys()[2:-8]:\n",
    "        sensor_cols.append(i)\n",
    "    sensor_av_cols = [nm+'_av' for nm in sensor_cols]\n",
    "    sensor_sd_cols = [nm+'_sd' for nm in sensor_cols]\n",
    "    df_out = pd.DataFrame()\n",
    "    ws = rolling_win_size\n",
    "    #calculate rolling stats for each engine id\n",
    "    for m_id in pd.unique(df_in.Turbine_ID):\n",
    "        # get a subset for each engine sensors\n",
    "        df_engine = df_in[df_in['Turbine_ID'] == m_id]\n",
    "        df_sub = df_engine[sensor_cols]\n",
    "        # get rolling mean for the subset\n",
    "        av = df_sub.rolling(ws, min_periods=1).mean()\n",
    "        av.columns = sensor_av_cols\n",
    "        # get the rolling standard deviation for the subset\n",
    "        sd = df_sub.rolling(ws, min_periods=1).std().fillna(0)\n",
    "        sd.columns = sensor_sd_cols\n",
    "        # combine the two new subset dataframes columns to the engine subset\n",
    "        new_ftrs = pd.concat([df_engine,av,sd], axis=1)\n",
    "        # add the new features rows to the output dataframe\n",
    "        df_out = pd.concat([df_out,new_ftrs])\n",
    "    return df_out"
   ]
  },
  {
   "cell_type": "code",
   "execution_count": 12,
   "id": "banned-scoop",
   "metadata": {
    "ExecuteTime": {
     "end_time": "2021-02-11T21:37:51.210222Z",
     "start_time": "2021-02-11T21:37:50.605012Z"
    }
   },
   "outputs": [],
   "source": [
    "df_train_gearbox_extra = add_features(df_train_gearbox_day, 30)\n",
    "df_train_gen_extra = add_features(df_train_gen_day, 30)\n",
    "df_train_gen_bear_extra = add_features(df_train_gen_bear_day, 30)\n",
    "df_train_hyd_extra = add_features(df_train_hyd_day, 30)\n",
    "df_train_transf_extra = add_features(df_train_transf_day, 30)\n",
    "df_test_gearbox_extra = add_features(df_test_gearbox_day, 30)\n",
    "df_test_gen_extra = add_features(df_test_gen_day, 30)\n",
    "df_test_gen_bear_extra = add_features(df_test_gen_bear_day, 30)\n",
    "df_test_hyd_extra = add_features(df_test_hyd_day, 30)\n",
    "df_test_transf_extra = add_features(df_test_transf_day, 30)"
   ]
  },
  {
   "cell_type": "code",
   "execution_count": 13,
   "id": "premier-formation",
   "metadata": {
    "ExecuteTime": {
     "end_time": "2021-02-11T21:37:51.216180Z",
     "start_time": "2021-02-11T21:37:51.212832Z"
    }
   },
   "outputs": [],
   "source": [
    "#Failures Generator in train data - T06 and T11\n",
    "#Failures Hydraulic Group in train data - T06 and T11\n",
    "#Failures Gen_bear in train data - T07 and T09\n",
    "#Failures Transformer in train data - T07\n",
    "# Gearbox -> Change train_test in order to be 1 failure in test data"
   ]
  },
  {
   "cell_type": "code",
   "execution_count": 14,
   "id": "irish-juvenile",
   "metadata": {
    "ExecuteTime": {
     "end_time": "2021-02-11T21:37:51.250712Z",
     "start_time": "2021-02-11T21:37:51.218331Z"
    }
   },
   "outputs": [],
   "source": [
    "df_train_gen = df_train_gen_extra.loc[(df_train_gen_extra['Turbine_ID']=='T06') | (df_train_gen_extra['Turbine_ID']=='T11')]\n",
    "df_train_gen_bear = df_train_gen_bear_extra.loc[(df_train_gen_bear_extra['Turbine_ID']=='T07') | (df_train_gen_bear_extra['Turbine_ID']=='T09')]\n",
    "df_train_hyd = df_train_hyd_extra.loc[(df_train_hyd_extra['Turbine_ID']=='T06') | (df_train_hyd_extra['Turbine_ID']=='T11')]\n",
    "df_train_transf = df_train_transf_extra.loc[df_train_transf_extra['Turbine_ID']=='T07']\n",
    "df_test_gen = df_test_gen_extra.copy()\n",
    "df_test_gen_bear = df_test_gen_bear_extra.copy()\n",
    "df_test_hyd = df_test_hyd_extra.copy()\n",
    "df_test_transf = df_test_transf_extra.copy()"
   ]
  },
  {
   "cell_type": "code",
   "execution_count": 16,
   "id": "generous-journal",
   "metadata": {
    "ExecuteTime": {
     "end_time": "2021-02-11T21:37:51.283070Z",
     "start_time": "2021-02-11T21:37:51.272841Z"
    }
   },
   "outputs": [],
   "source": [
    "#Scaling\n",
    "def scale(df_train, df_test, scaler='StandardScaler'):\n",
    "    \n",
    "    for m_id in pd.unique(df_train.Turbine_ID):\n",
    "        X_train = df_train.drop(columns=['Date', 'TTF', '60_days', '50_days', '40_days', '30_days', '20_days', '10_days', 'Component', 'Turbine_ID']) \n",
    "        X_test = df_test.drop(columns=['Date', 'TTF', '60_days', '50_days', '40_days', '30_days', '20_days', '10_days', 'Component', 'Turbine_ID'])\n",
    "        if scaler == 'MinMaxScaler':\n",
    "            sc = MinMaxScaler()\n",
    "            X_train_scale = sc.fit_transform(X_train)\n",
    "            X_test_scale = sc.transform(X_test)\n",
    "        else:\n",
    "            sc = StandardScaler()\n",
    "            X_train_scale = sc.fit_transform(X_train)\n",
    "            X_test_scale = sc.transform(X_test)\n",
    "\n",
    "        \n",
    "    return X_train_scale, X_test_scale"
   ]
  },
  {
   "cell_type": "code",
   "execution_count": 17,
   "id": "graduate-terrain",
   "metadata": {
    "ExecuteTime": {
     "end_time": "2021-02-11T21:37:51.295671Z",
     "start_time": "2021-02-11T21:37:51.287086Z"
    }
   },
   "outputs": [],
   "source": [
    "def bin_classify(model, clf, X_train, X_test, y_train, y_test, params=None, score=None, ):\n",
    "      \n",
    "    grid_search = model_selection.GridSearchCV(estimator=clf, param_grid=params, cv=5, scoring=score, n_jobs=-1)\n",
    "\n",
    "    grid_search.fit(X_train, y_train)\n",
    "    y_pred = grid_search.predict(X_test)\n",
    "    \n",
    "    if hasattr(grid_search, 'predict_proba'):   \n",
    "        y_score = grid_search.predict_proba(X_test)[:,1]\n",
    "    elif hasattr(grid_search, 'decision_function'):\n",
    "        y_score = grid_search.decision_function(X_test)\n",
    "    else:\n",
    "        y_score = y_pred\n",
    "        \n",
    "    predictions = {'y_pred' : y_pred, 'y_score' : y_score}\n",
    "    df_predictions = pd.DataFrame.from_dict(predictions)\n",
    "    \n",
    "    return grid_search.best_estimator_, df_predictions"
   ]
  },
  {
   "cell_type": "code",
   "execution_count": 18,
   "id": "european-teens",
   "metadata": {
    "ExecuteTime": {
     "end_time": "2021-02-11T21:37:51.309437Z",
     "start_time": "2021-02-11T21:37:51.298394Z"
    }
   },
   "outputs": [],
   "source": [
    "def metrics(estimator, X_test, y_test, y_pred):\n",
    "    \n",
    "    print(classification_report(y_test, y_pred))\n",
    "    print(confusion_matrix(y_test, y_pred))\n",
    "    plot_roc_curve(estimator, X_test, y_test)"
   ]
  },
  {
   "cell_type": "code",
   "execution_count": 34,
   "id": "regulated-price",
   "metadata": {
    "ExecuteTime": {
     "end_time": "2021-02-11T21:49:26.223412Z",
     "start_time": "2021-02-11T21:49:26.214117Z"
    }
   },
   "outputs": [],
   "source": [
    "def rfc(X_train, X_test, y_train, y_test):\n",
    "    model = 'Random Forest Classifier'\n",
    "    clf_rfc = RandomForestClassifier(random_state=42)\n",
    "    gs_params = {'n_estimators': [300, 500, 750, 800, 900, 1000], 'criterion': ['gini', 'entropy'], 'class_weight': ['balanced', None]}\n",
    "    gs_score = 'f1'\n",
    "\n",
    "    clf_rfc, pred_rfc= bin_classify(model, clf_rfc, X_train, X_test, y_train, y_test, params=gs_params, score=gs_score)\n",
    "    print('\\nBest Parameters:\\n',clf_rfc)\n",
    "\n",
    "    metrics(clf_rfc, X_test, y_test, pred_rfc['y_pred'])"
   ]
  },
  {
   "cell_type": "code",
   "execution_count": 35,
   "id": "color-israeli",
   "metadata": {
    "ExecuteTime": {
     "end_time": "2021-02-11T21:49:26.551529Z",
     "start_time": "2021-02-11T21:49:26.545912Z"
    }
   },
   "outputs": [],
   "source": [
    "def gbc(X_train, X_test, y_train, y_test):\n",
    "    model = 'Gradient Boosting Classifier'\n",
    "    clf_gbc = GradientBoostingClassifier(random_state=42)\n",
    "    gs_params = {'learning_rate': [0.001, 0.01, 0.1, 0.5, 1], 'n_estimators': [100, 200, 500, 700]}\n",
    "    gs_score = 'f1'\n",
    "\n",
    "    clf_gbc, pred_gbc= bin_classify(model, clf_gbc, X_train, X_test, y_train, y_test, params=gs_params, score=gs_score)\n",
    "    print('\\nBest Parameters:\\n',clf_gbc)\n",
    "\n",
    "    metrics(clf_gbc, X_test, y_test, pred_gbc['y_pred'])"
   ]
  },
  {
   "cell_type": "code",
   "execution_count": 36,
   "id": "regional-white",
   "metadata": {
    "ExecuteTime": {
     "end_time": "2021-02-11T21:49:26.917248Z",
     "start_time": "2021-02-11T21:49:26.907962Z"
    }
   },
   "outputs": [],
   "source": [
    "def knn(X_train, X_test, y_train, y_test):\n",
    "    model = 'KNN'\n",
    "    clf_knn = KNeighborsClassifier()\n",
    "    gs_params = {'n_neighbors': [5, 7, 10, 15], 'weights': ['uniform', 'distance']}\n",
    "    gs_score = 'f1'\n",
    "\n",
    "    clf_knn, pred_knn= bin_classify(model, clf_knn, X_train, X_test, y_train, y_test, params=gs_params, score=gs_score)\n",
    "    print('\\nBest Parameters:\\n',clf_knn)\n",
    "\n",
    "    metrics(clf_knn, X_test, y_test, pred_knn['y_pred'])"
   ]
  },
  {
   "cell_type": "code",
   "execution_count": 37,
   "id": "historic-cabinet",
   "metadata": {
    "ExecuteTime": {
     "end_time": "2021-02-11T21:49:27.436126Z",
     "start_time": "2021-02-11T21:49:27.430827Z"
    }
   },
   "outputs": [],
   "source": [
    "def abc(X_train, X_test, y_train, y_test):\n",
    "    model = 'AdaBoostClassifier'\n",
    "    clf_abc = AdaBoostClassifier(random_state=42)\n",
    "    gs_params = {'n_estimators': [50, 100, 200, 300, 500]}\n",
    "    gs_score = 'f1'\n",
    "\n",
    "    clf_abc, pred_abc= bin_classify(model, clf_abc, X_train, X_test, y_train, y_test, params=gs_params, score=gs_score)\n",
    "    print('\\nBest Parameters:\\n',clf_abc)\n",
    "\n",
    "    metrics(clf_abc, X_test, y_test, pred_abc['y_pred'])"
   ]
  },
  {
   "cell_type": "code",
   "execution_count": 38,
   "id": "electric-killer",
   "metadata": {
    "ExecuteTime": {
     "end_time": "2021-02-11T21:49:28.275301Z",
     "start_time": "2021-02-11T21:49:28.269353Z"
    }
   },
   "outputs": [],
   "source": [
    "def svc(X_train, X_test, y_train, y_test):\n",
    "    model = 'SVC'\n",
    "    clf_svc = SVC(random_state=42)\n",
    "    gs_params = {'C': [0.01, 0.1, 1, 1.2], 'kernel': ['linear', 'poly', 'rbf', 'sigmoid'], 'degree': [2,3], 'class_weight': ['balanced', None], 'gamma': ['auto', 'scale']}\n",
    "    gs_score = 'f1'\n",
    "\n",
    "    clf_svc, pred_svc= bin_classify(model, clf_svc, X_train, X_test, y_train, y_test, params=gs_params, score=gs_score)\n",
    "    print('\\nBest Parameters:\\n',clf_svc)\n",
    "\n",
    "    metrics(clf_svc, X_test, y_test, pred_svc['y_pred'])"
   ]
  },
  {
   "cell_type": "markdown",
   "id": "solar-length",
   "metadata": {},
   "source": [
    "# GENERATOR"
   ]
  },
  {
   "cell_type": "code",
   "execution_count": 39,
   "id": "deluxe-andrews",
   "metadata": {
    "ExecuteTime": {
     "end_time": "2021-02-11T21:49:29.084926Z",
     "start_time": "2021-02-11T21:49:29.072776Z"
    }
   },
   "outputs": [],
   "source": [
    "feat_drop = ['Date', 'TTF', '60_days', '50_days', '40_days', '30_days', '20_days', '10_days', 'Component', 'Turbine_ID']\n",
    "X_train_gen = df_train_gen.drop(columns=feat_drop)\n",
    "X_test_gen = df_test_gen.drop(columns=feat_drop)\n",
    "y_train_gen = df_train_gen['30_days']\n",
    "y_test_gen = df_test_gen['30_days']"
   ]
  },
  {
   "cell_type": "code",
   "execution_count": 40,
   "id": "arctic-lemon",
   "metadata": {
    "ExecuteTime": {
     "end_time": "2021-02-11T21:51:03.127479Z",
     "start_time": "2021-02-11T21:49:29.586611Z"
    }
   },
   "outputs": [
    {
     "name": "stdout",
     "output_type": "stream",
     "text": [
      "\n",
      "Best Parameters:\n",
      " RandomForestClassifier(class_weight='balanced', n_estimators=500,\n",
      "                       random_state=42)\n",
      "              precision    recall  f1-score   support\n",
      "\n",
      "         0.0       0.95      0.91      0.93       436\n",
      "         1.0       0.18      0.31      0.23        29\n",
      "\n",
      "    accuracy                           0.87       465\n",
      "   macro avg       0.57      0.61      0.58       465\n",
      "weighted avg       0.90      0.87      0.88       465\n",
      "\n",
      "[[395  41]\n",
      " [ 20   9]]\n"
     ]
    },
    {
     "data": {
      "image/png": "[encoded data removed]",
      "text/plain": [
       "<Figure size 432x288 with 1 Axes>"
      ]
     },
     "metadata": {
      "needs_background": "light"
     },
     "output_type": "display_data"
    }
   ],
   "source": [
    "rfc(X_train_gen, X_test_gen, y_train_gen, y_test_gen)"
   ]
  },
  {
   "cell_type": "code",
   "execution_count": 41,
   "id": "vertical-conditioning",
   "metadata": {
    "ExecuteTime": {
     "end_time": "2021-02-11T21:55:01.429051Z",
     "start_time": "2021-02-11T21:51:03.129881Z"
    }
   },
   "outputs": [
    {
     "name": "stdout",
     "output_type": "stream",
     "text": [
      "\n",
      "Best Parameters:\n",
      " GradientBoostingClassifier(learning_rate=1, random_state=42)\n",
      "              precision    recall  f1-score   support\n",
      "\n",
      "         0.0       1.00      0.21      0.34       436\n",
      "         1.0       0.08      1.00      0.14        29\n",
      "\n",
      "    accuracy                           0.26       465\n",
      "   macro avg       0.54      0.60      0.24       465\n",
      "weighted avg       0.94      0.26      0.33       465\n",
      "\n",
      "[[ 90 346]\n",
      " [  0  29]]\n"
     ]
    },
    {
     "data": {
      "image/png": "[encoded data removed]",
      "text/plain": [
       "<Figure size 432x288 with 1 Axes>"
      ]
     },
     "metadata": {
      "needs_background": "light"
     },
     "output_type": "display_data"
    }
   ],
   "source": [
    "gbc(X_train_gen, X_test_gen, y_train_gen, y_test_gen)"
   ]
  },
  {
   "cell_type": "code",
   "execution_count": 42,
   "id": "ecological-purpose",
   "metadata": {
    "ExecuteTime": {
     "end_time": "2021-02-11T21:55:02.163660Z",
     "start_time": "2021-02-11T21:55:01.431973Z"
    }
   },
   "outputs": [
    {
     "name": "stdout",
     "output_type": "stream",
     "text": [
      "\n",
      "Best Parameters:\n",
      " KNeighborsClassifier()\n",
      "              precision    recall  f1-score   support\n",
      "\n",
      "         0.0       1.00      0.67      0.80       436\n",
      "         1.0       0.16      0.97      0.28        29\n",
      "\n",
      "    accuracy                           0.69       465\n",
      "   macro avg       0.58      0.82      0.54       465\n",
      "weighted avg       0.94      0.69      0.77       465\n",
      "\n",
      "[[291 145]\n",
      " [  1  28]]\n"
     ]
    },
    {
     "data": {
      "image/png": "[encoded data removed]",
      "text/plain": [
       "<Figure size 432x288 with 1 Axes>"
      ]
     },
     "metadata": {
      "needs_background": "light"
     },
     "output_type": "display_data"
    }
   ],
   "source": [
    "X_train_scale_gen, X_test_scale_gen = scale(df_train_gen, df_test_gen)\n",
    "knn(X_train_scale_gen, X_test_scale_gen, y_train_gen, y_test_gen)"
   ]
  },
  {
   "cell_type": "code",
   "execution_count": 43,
   "id": "blessed-somewhere",
   "metadata": {
    "ExecuteTime": {
     "end_time": "2021-02-11T21:55:27.420492Z",
     "start_time": "2021-02-11T21:55:02.166853Z"
    }
   },
   "outputs": [
    {
     "name": "stdout",
     "output_type": "stream",
     "text": [
      "\n",
      "Best Parameters:\n",
      " AdaBoostClassifier(n_estimators=500, random_state=42)\n",
      "              precision    recall  f1-score   support\n",
      "\n",
      "         0.0       0.98      0.83      0.90       436\n",
      "         1.0       0.21      0.69      0.33        29\n",
      "\n",
      "    accuracy                           0.82       465\n",
      "   macro avg       0.59      0.76      0.61       465\n",
      "weighted avg       0.93      0.82      0.86       465\n",
      "\n",
      "[[362  74]\n",
      " [  9  20]]\n"
     ]
    },
    {
     "data": {
      "image/png": "[encoded data removed]",
      "text/plain": [
       "<Figure size 432x288 with 1 Axes>"
      ]
     },
     "metadata": {
      "needs_background": "light"
     },
     "output_type": "display_data"
    }
   ],
   "source": [
    "abc(X_train_gen, X_test_gen, y_train_gen, y_test_gen)"
   ]
  },
  {
   "cell_type": "code",
   "execution_count": 45,
   "id": "interim-nancy",
   "metadata": {
    "ExecuteTime": {
     "end_time": "2021-02-11T21:56:14.864009Z",
     "start_time": "2021-02-11T21:56:10.151697Z"
    }
   },
   "outputs": [
    {
     "name": "stdout",
     "output_type": "stream",
     "text": [
      "\n",
      "Best Parameters:\n",
      " SVC(C=1.2, degree=2, gamma='auto', kernel='poly', random_state=42)\n",
      "              precision    recall  f1-score   support\n",
      "\n",
      "         0.0       1.00      0.44      0.61       436\n",
      "         1.0       0.11      1.00      0.19        29\n",
      "\n",
      "    accuracy                           0.47       465\n",
      "   macro avg       0.55      0.72      0.40       465\n",
      "weighted avg       0.94      0.47      0.58       465\n",
      "\n",
      "[[190 246]\n",
      " [  0  29]]\n"
     ]
    },
    {
     "data": {
      "image/png": "[encoded data removed]",
      "text/plain": [
       "<Figure size 432x288 with 1 Axes>"
      ]
     },
     "metadata": {
      "needs_background": "light"
     },
     "output_type": "display_data"
    }
   ],
   "source": [
    "svc(X_train_scale_gen, X_test_scale_gen, y_train_gen, y_test_gen)"
   ]
  },
  {
   "cell_type": "markdown",
   "id": "induced-senior",
   "metadata": {},
   "source": [
    "# Hydraulic System"
   ]
  },
  {
   "cell_type": "code",
   "execution_count": 46,
   "id": "horizontal-consultation",
   "metadata": {
    "ExecuteTime": {
     "end_time": "2021-02-11T22:15:08.172211Z",
     "start_time": "2021-02-11T22:15:08.150570Z"
    }
   },
   "outputs": [],
   "source": [
    "feat_drop = ['Date', 'TTF', '60_days', '50_days', '40_days', '30_days', '20_days', '10_days', 'Component', 'Turbine_ID']\n",
    "X_train_hyd = df_train_hyd.drop(columns=feat_drop)\n",
    "X_test_hyd = df_test_hyd.drop(columns=feat_drop)\n",
    "y_train_hyd = df_train_hyd['30_days']\n",
    "y_test_hyd = df_test_hyd['30_days']"
   ]
  },
  {
   "cell_type": "code",
   "execution_count": 47,
   "id": "becoming-saskatchewan",
   "metadata": {
    "ExecuteTime": {
     "end_time": "2021-02-11T22:16:36.656522Z",
     "start_time": "2021-02-11T22:15:08.608340Z"
    }
   },
   "outputs": [
    {
     "name": "stdout",
     "output_type": "stream",
     "text": [
      "\n",
      "Best Parameters:\n",
      " RandomForestClassifier(class_weight='balanced', criterion='entropy',\n",
      "                       n_estimators=900, random_state=42)\n",
      "              precision    recall  f1-score   support\n",
      "\n",
      "         0.0       0.91      1.00      0.95       421\n",
      "         1.0       0.00      0.00      0.00        44\n",
      "\n",
      "    accuracy                           0.91       465\n",
      "   macro avg       0.45      0.50      0.48       465\n",
      "weighted avg       0.82      0.91      0.86       465\n",
      "\n",
      "[[421   0]\n",
      " [ 44   0]]\n"
     ]
    },
    {
     "name": "stderr",
     "output_type": "stream",
     "text": [
      "/home/guilherme/.pyenv/versions/3.7.2/lib/python3.7/site-packages/sklearn/metrics/_classification.py:1245: UndefinedMetricWarning: Precision and F-score are ill-defined and being set to 0.0 in labels with no predicted samples. Use `zero_division` parameter to control this behavior.\n",
      "  _warn_prf(average, modifier, msg_start, len(result))\n",
      "/home/guilherme/.pyenv/versions/3.7.2/lib/python3.7/site-packages/sklearn/metrics/_classification.py:1245: UndefinedMetricWarning: Precision and F-score are ill-defined and being set to 0.0 in labels with no predicted samples. Use `zero_division` parameter to control this behavior.\n",
      "  _warn_prf(average, modifier, msg_start, len(result))\n",
      "/home/guilherme/.pyenv/versions/3.7.2/lib/python3.7/site-packages/sklearn/metrics/_classification.py:1245: UndefinedMetricWarning: Precision and F-score are ill-defined and being set to 0.0 in labels with no predicted samples. Use `zero_division` parameter to control this behavior.\n",
      "  _warn_prf(average, modifier, msg_start, len(result))\n"
     ]
    },
    {
     "data": {
      "image/png": "[encoded data removed]",
      "text/plain": [
       "<Figure size 432x288 with 1 Axes>"
      ]
     },
     "metadata": {
      "needs_background": "light"
     },
     "output_type": "display_data"
    }
   ],
   "source": [
    "rfc(X_train_hyd, X_test_hyd, y_train_hyd, y_test_hyd)"
   ]
  },
  {
   "cell_type": "code",
   "execution_count": 48,
   "id": "floral-organizer",
   "metadata": {
    "ExecuteTime": {
     "end_time": "2021-02-11T22:20:57.115074Z",
     "start_time": "2021-02-11T22:16:36.659406Z"
    }
   },
   "outputs": [
    {
     "name": "stdout",
     "output_type": "stream",
     "text": [
      "\n",
      "Best Parameters:\n",
      " GradientBoostingClassifier(n_estimators=700, random_state=42)\n",
      "              precision    recall  f1-score   support\n",
      "\n",
      "         0.0       0.89      0.81      0.85       421\n",
      "         1.0       0.02      0.05      0.03        44\n",
      "\n",
      "    accuracy                           0.73       465\n",
      "   macro avg       0.46      0.43      0.44       465\n",
      "weighted avg       0.81      0.73      0.77       465\n",
      "\n",
      "[[339  82]\n",
      " [ 42   2]]\n"
     ]
    },
    {
     "data": {
      "image/png": "[encoded data removed]",
      "text/plain": [
       "<Figure size 432x288 with 1 Axes>"
      ]
     },
     "metadata": {
      "needs_background": "light"
     },
     "output_type": "display_data"
    }
   ],
   "source": [
    "gbc(X_train_hyd, X_test_hyd, y_train_hyd, y_test_hyd)"
   ]
  },
  {
   "cell_type": "code",
   "execution_count": 49,
   "id": "blocked-disco",
   "metadata": {
    "ExecuteTime": {
     "end_time": "2021-02-11T22:20:57.956462Z",
     "start_time": "2021-02-11T22:20:57.118831Z"
    }
   },
   "outputs": [
    {
     "name": "stdout",
     "output_type": "stream",
     "text": [
      "\n",
      "Best Parameters:\n",
      " KNeighborsClassifier(weights='distance')\n",
      "              precision    recall  f1-score   support\n",
      "\n",
      "         0.0       0.90      0.94      0.92       421\n",
      "         1.0       0.08      0.05      0.06        44\n",
      "\n",
      "    accuracy                           0.86       465\n",
      "   macro avg       0.49      0.49      0.49       465\n",
      "weighted avg       0.83      0.86      0.84       465\n",
      "\n",
      "[[397  24]\n",
      " [ 42   2]]\n"
     ]
    },
    {
     "data": {
      "image/png": "[encoded data removed]",
      "text/plain": [
       "<Figure size 432x288 with 1 Axes>"
      ]
     },
     "metadata": {
      "needs_background": "light"
     },
     "output_type": "display_data"
    }
   ],
   "source": [
    "X_train_scale_hyd, X_test_scale_hyd = scale(df_train_hyd, df_test_hyd)\n",
    "knn(X_train_scale_hyd, X_test_scale_hyd, y_train_hyd, y_test_hyd)"
   ]
  },
  {
   "cell_type": "code",
   "execution_count": 50,
   "id": "starting-wisconsin",
   "metadata": {
    "ExecuteTime": {
     "end_time": "2021-02-11T22:21:21.360619Z",
     "start_time": "2021-02-11T22:20:57.959049Z"
    }
   },
   "outputs": [
    {
     "name": "stdout",
     "output_type": "stream",
     "text": [
      "\n",
      "Best Parameters:\n",
      " AdaBoostClassifier(random_state=42)\n",
      "              precision    recall  f1-score   support\n",
      "\n",
      "         0.0       0.90      0.95      0.92       421\n",
      "         1.0       0.04      0.02      0.03        44\n",
      "\n",
      "    accuracy                           0.86       465\n",
      "   macro avg       0.47      0.49      0.48       465\n",
      "weighted avg       0.82      0.86      0.84       465\n",
      "\n",
      "[[399  22]\n",
      " [ 43   1]]\n"
     ]
    },
    {
     "data": {
      "image/png": "[encoded data removed]",
      "text/plain": [
       "<Figure size 432x288 with 1 Axes>"
      ]
     },
     "metadata": {
      "needs_background": "light"
     },
     "output_type": "display_data"
    }
   ],
   "source": [
    "abc(X_train_hyd, X_test_hyd, y_train_hyd, y_test_hyd)"
   ]
  },
  {
   "cell_type": "code",
   "execution_count": 51,
   "id": "acoustic-workshop",
   "metadata": {
    "ExecuteTime": {
     "end_time": "2021-02-11T22:21:28.088367Z",
     "start_time": "2021-02-11T22:21:21.363321Z"
    }
   },
   "outputs": [
    {
     "name": "stdout",
     "output_type": "stream",
     "text": [
      "\n",
      "Best Parameters:\n",
      " SVC(C=1.2, degree=2, gamma='auto', kernel='linear', random_state=42)\n",
      "              precision    recall  f1-score   support\n",
      "\n",
      "         0.0       0.90      0.94      0.92       421\n",
      "         1.0       0.08      0.05      0.06        44\n",
      "\n",
      "    accuracy                           0.86       465\n",
      "   macro avg       0.49      0.49      0.49       465\n",
      "weighted avg       0.83      0.86      0.84       465\n",
      "\n",
      "[[397  24]\n",
      " [ 42   2]]\n"
     ]
    },
    {
     "data": {
      "image/png": "[encoded data removed]",
      "text/plain": [
       "<Figure size 432x288 with 1 Axes>"
      ]
     },
     "metadata": {
      "needs_background": "light"
     },
     "output_type": "display_data"
    }
   ],
   "source": [
    "svc(X_train_scale_hyd, X_test_scale_hyd, y_train_hyd, y_test_hyd)"
   ]
  },
  {
   "cell_type": "markdown",
   "id": "rolled-oxygen",
   "metadata": {},
   "source": [
    "# Transformer"
   ]
  },
  {
   "cell_type": "code",
   "execution_count": 56,
   "id": "reported-ownership",
   "metadata": {
    "ExecuteTime": {
     "end_time": "2021-02-11T22:25:16.625099Z",
     "start_time": "2021-02-11T22:25:16.618282Z"
    }
   },
   "outputs": [],
   "source": [
    "feat_drop = ['Date', 'TTF', '60_days', '50_days', '40_days', '30_days', '20_days', '10_days', 'Component', 'Turbine_ID']\n",
    "X_train_transf = df_train_transf.drop(columns=feat_drop)\n",
    "X_test_transf = df_test_transf.drop(columns=feat_drop)\n",
    "y_train_transf = df_train_transf['30_days']\n",
    "y_test_transf = df_test_transf['30_days']"
   ]
  },
  {
   "cell_type": "code",
   "execution_count": 57,
   "id": "wicked-birmingham",
   "metadata": {
    "ExecuteTime": {
     "end_time": "2021-02-11T22:26:18.275738Z",
     "start_time": "2021-02-11T22:25:17.254194Z"
    }
   },
   "outputs": [
    {
     "name": "stdout",
     "output_type": "stream",
     "text": [
      "\n",
      "Best Parameters:\n",
      " RandomForestClassifier(criterion='entropy', n_estimators=750, random_state=42)\n",
      "              precision    recall  f1-score   support\n",
      "\n",
      "         0.0       0.94      1.00      0.97       436\n",
      "         1.0       0.00      0.00      0.00        29\n",
      "\n",
      "    accuracy                           0.94       465\n",
      "   macro avg       0.47      0.50      0.48       465\n",
      "weighted avg       0.88      0.94      0.91       465\n",
      "\n",
      "[[436   0]\n",
      " [ 29   0]]\n"
     ]
    },
    {
     "name": "stderr",
     "output_type": "stream",
     "text": [
      "/home/guilherme/.pyenv/versions/3.7.2/lib/python3.7/site-packages/sklearn/metrics/_classification.py:1245: UndefinedMetricWarning: Precision and F-score are ill-defined and being set to 0.0 in labels with no predicted samples. Use `zero_division` parameter to control this behavior.\n",
      "  _warn_prf(average, modifier, msg_start, len(result))\n",
      "/home/guilherme/.pyenv/versions/3.7.2/lib/python3.7/site-packages/sklearn/metrics/_classification.py:1245: UndefinedMetricWarning: Precision and F-score are ill-defined and being set to 0.0 in labels with no predicted samples. Use `zero_division` parameter to control this behavior.\n",
      "  _warn_prf(average, modifier, msg_start, len(result))\n",
      "/home/guilherme/.pyenv/versions/3.7.2/lib/python3.7/site-packages/sklearn/metrics/_classification.py:1245: UndefinedMetricWarning: Precision and F-score are ill-defined and being set to 0.0 in labels with no predicted samples. Use `zero_division` parameter to control this behavior.\n",
      "  _warn_prf(average, modifier, msg_start, len(result))\n"
     ]
    },
    {
     "data": {
      "image/png": "[encoded data removed]",
      "text/plain": [
       "<Figure size 432x288 with 1 Axes>"
      ]
     },
     "metadata": {
      "needs_background": "light"
     },
     "output_type": "display_data"
    }
   ],
   "source": [
    "rfc(X_train_transf, X_test_transf, y_train_transf, y_test_transf)"
   ]
  },
  {
   "cell_type": "code",
   "execution_count": 58,
   "id": "documented-equity",
   "metadata": {
    "ExecuteTime": {
     "end_time": "2021-02-11T22:28:22.457151Z",
     "start_time": "2021-02-11T22:26:18.278798Z"
    }
   },
   "outputs": [
    {
     "name": "stdout",
     "output_type": "stream",
     "text": [
      "\n",
      "Best Parameters:\n",
      " GradientBoostingClassifier(learning_rate=0.01, n_estimators=500,\n",
      "                           random_state=42)\n",
      "              precision    recall  f1-score   support\n",
      "\n",
      "         0.0       0.94      0.97      0.96       436\n",
      "         1.0       0.00      0.00      0.00        29\n",
      "\n",
      "    accuracy                           0.91       465\n",
      "   macro avg       0.47      0.49      0.48       465\n",
      "weighted avg       0.88      0.91      0.90       465\n",
      "\n",
      "[[425  11]\n",
      " [ 29   0]]\n"
     ]
    },
    {
     "data": {
      "image/png": "[encoded data removed]",
      "text/plain": [
       "<Figure size 432x288 with 1 Axes>"
      ]
     },
     "metadata": {
      "needs_background": "light"
     },
     "output_type": "display_data"
    }
   ],
   "source": [
    "gbc(X_train_transf, X_test_transf, y_train_transf, y_test_transf)"
   ]
  },
  {
   "cell_type": "code",
   "execution_count": 59,
   "id": "nasty-camping",
   "metadata": {
    "ExecuteTime": {
     "end_time": "2021-02-11T22:28:22.980777Z",
     "start_time": "2021-02-11T22:28:22.460635Z"
    }
   },
   "outputs": [
    {
     "name": "stdout",
     "output_type": "stream",
     "text": [
      "\n",
      "Best Parameters:\n",
      " KNeighborsClassifier(n_neighbors=10, weights='distance')\n",
      "              precision    recall  f1-score   support\n",
      "\n",
      "         0.0       0.99      0.76      0.86       436\n",
      "         1.0       0.20      0.93      0.33        29\n",
      "\n",
      "    accuracy                           0.77       465\n",
      "   macro avg       0.60      0.84      0.60       465\n",
      "weighted avg       0.94      0.77      0.83       465\n",
      "\n",
      "[[330 106]\n",
      " [  2  27]]\n"
     ]
    },
    {
     "data": {
      "image/png": "[encoded data removed]",
      "text/plain": [
       "<Figure size 432x288 with 1 Axes>"
      ]
     },
     "metadata": {
      "needs_background": "light"
     },
     "output_type": "display_data"
    }
   ],
   "source": [
    "X_train_scale_transf, X_test_scale_transf = scale(df_train_transf, df_test_transf)\n",
    "knn(X_train_scale_transf, X_test_scale_transf, y_train_transf, y_test_transf)"
   ]
  },
  {
   "cell_type": "code",
   "execution_count": 60,
   "id": "multiple-blanket",
   "metadata": {
    "ExecuteTime": {
     "end_time": "2021-02-11T22:28:36.630431Z",
     "start_time": "2021-02-11T22:28:22.983682Z"
    }
   },
   "outputs": [
    {
     "name": "stdout",
     "output_type": "stream",
     "text": [
      "\n",
      "Best Parameters:\n",
      " AdaBoostClassifier(n_estimators=500, random_state=42)\n",
      "              precision    recall  f1-score   support\n",
      "\n",
      "         0.0       0.93      0.87      0.90       436\n",
      "         1.0       0.02      0.03      0.02        29\n",
      "\n",
      "    accuracy                           0.82       465\n",
      "   macro avg       0.47      0.45      0.46       465\n",
      "weighted avg       0.87      0.82      0.85       465\n",
      "\n",
      "[[381  55]\n",
      " [ 28   1]]\n"
     ]
    },
    {
     "data": {
      "image/png": "[encoded data removed]",
      "text/plain": [
       "<Figure size 432x288 with 1 Axes>"
      ]
     },
     "metadata": {
      "needs_background": "light"
     },
     "output_type": "display_data"
    }
   ],
   "source": [
    "abc(X_train_transf, X_test_transf, y_train_transf, y_test_transf)"
   ]
  },
  {
   "cell_type": "code",
   "execution_count": 61,
   "id": "lasting-exploration",
   "metadata": {
    "ExecuteTime": {
     "end_time": "2021-02-11T22:28:39.098790Z",
     "start_time": "2021-02-11T22:28:36.635295Z"
    }
   },
   "outputs": [
    {
     "name": "stdout",
     "output_type": "stream",
     "text": [
      "\n",
      "Best Parameters:\n",
      " SVC(C=1.2, degree=2, gamma='auto', random_state=42)\n",
      "              precision    recall  f1-score   support\n",
      "\n",
      "         0.0       0.95      1.00      0.98       436\n",
      "         1.0       1.00      0.24      0.39        29\n",
      "\n",
      "    accuracy                           0.95       465\n",
      "   macro avg       0.98      0.62      0.68       465\n",
      "weighted avg       0.95      0.95      0.94       465\n",
      "\n",
      "[[436   0]\n",
      " [ 22   7]]\n"
     ]
    },
    {
     "data": {
      "image/png": "[encoded data removed]",
      "text/plain": [
       "<Figure size 432x288 with 1 Axes>"
      ]
     },
     "metadata": {
      "needs_background": "light"
     },
     "output_type": "display_data"
    }
   ],
   "source": [
    "svc(X_train_scale_transf, X_test_scale_transf, y_train_transf, y_test_transf)"
   ]
  },
  {
   "cell_type": "markdown",
   "id": "hundred-south",
   "metadata": {},
   "source": [
    "# Generator Bearing"
   ]
  },
  {
   "cell_type": "code",
   "execution_count": 62,
   "id": "seven-graduation",
   "metadata": {
    "ExecuteTime": {
     "end_time": "2021-02-11T22:34:09.542426Z",
     "start_time": "2021-02-11T22:34:09.528990Z"
    }
   },
   "outputs": [],
   "source": [
    "feat_drop = ['Date', 'TTF', '60_days', '50_days', '40_days', '30_days', '20_days', '10_days', 'Component', 'Turbine_ID']\n",
    "X_train_gen_bear = df_train_gen_bear.drop(columns=feat_drop)\n",
    "X_test_gen_bear = df_test_gen_bear.drop(columns=feat_drop)\n",
    "y_train_gen_bear = df_train_gen_bear['30_days']\n",
    "y_test_gen_bear = df_test_gen_bear['30_days']"
   ]
  },
  {
   "cell_type": "code",
   "execution_count": 63,
   "id": "specific-birmingham",
   "metadata": {
    "ExecuteTime": {
     "end_time": "2021-02-11T22:35:49.586794Z",
     "start_time": "2021-02-11T22:34:09.965717Z"
    }
   },
   "outputs": [
    {
     "name": "stdout",
     "output_type": "stream",
     "text": [
      "\n",
      "Best Parameters:\n",
      " RandomForestClassifier(class_weight='balanced', criterion='entropy',\n",
      "                       n_estimators=300, random_state=42)\n",
      "              precision    recall  f1-score   support\n",
      "\n",
      "         0.0       0.94      1.00      0.97       436\n",
      "         1.0       0.00      0.00      0.00        29\n",
      "\n",
      "    accuracy                           0.94       465\n",
      "   macro avg       0.47      0.50      0.48       465\n",
      "weighted avg       0.88      0.94      0.91       465\n",
      "\n",
      "[[436   0]\n",
      " [ 29   0]]\n"
     ]
    },
    {
     "name": "stderr",
     "output_type": "stream",
     "text": [
      "/home/guilherme/.pyenv/versions/3.7.2/lib/python3.7/site-packages/sklearn/metrics/_classification.py:1245: UndefinedMetricWarning: Precision and F-score are ill-defined and being set to 0.0 in labels with no predicted samples. Use `zero_division` parameter to control this behavior.\n",
      "  _warn_prf(average, modifier, msg_start, len(result))\n",
      "/home/guilherme/.pyenv/versions/3.7.2/lib/python3.7/site-packages/sklearn/metrics/_classification.py:1245: UndefinedMetricWarning: Precision and F-score are ill-defined and being set to 0.0 in labels with no predicted samples. Use `zero_division` parameter to control this behavior.\n",
      "  _warn_prf(average, modifier, msg_start, len(result))\n",
      "/home/guilherme/.pyenv/versions/3.7.2/lib/python3.7/site-packages/sklearn/metrics/_classification.py:1245: UndefinedMetricWarning: Precision and F-score are ill-defined and being set to 0.0 in labels with no predicted samples. Use `zero_division` parameter to control this behavior.\n",
      "  _warn_prf(average, modifier, msg_start, len(result))\n"
     ]
    },
    {
     "data": {
      "image/png": "[encoded data removed]",
      "text/plain": [
       "<Figure size 432x288 with 1 Axes>"
      ]
     },
     "metadata": {
      "needs_background": "light"
     },
     "output_type": "display_data"
    }
   ],
   "source": [
    "rfc(X_train_gen_bear, X_test_gen_bear, y_train_gen_bear, y_test_gen_bear)"
   ]
  },
  {
   "cell_type": "code",
   "execution_count": 64,
   "id": "turkish-induction",
   "metadata": {
    "ExecuteTime": {
     "end_time": "2021-02-11T22:39:55.311943Z",
     "start_time": "2021-02-11T22:35:49.590808Z"
    }
   },
   "outputs": [
    {
     "name": "stdout",
     "output_type": "stream",
     "text": [
      "\n",
      "Best Parameters:\n",
      " GradientBoostingClassifier(learning_rate=1, random_state=42)\n",
      "              precision    recall  f1-score   support\n",
      "\n",
      "         0.0       0.93      0.89      0.91       436\n",
      "         1.0       0.00      0.00      0.00        29\n",
      "\n",
      "    accuracy                           0.84       465\n",
      "   macro avg       0.47      0.45      0.46       465\n",
      "weighted avg       0.87      0.84      0.85       465\n",
      "\n",
      "[[389  47]\n",
      " [ 29   0]]\n"
     ]
    },
    {
     "data": {
      "image/png": "[encoded data removed]",
      "text/plain": [
       "<Figure size 432x288 with 1 Axes>"
      ]
     },
     "metadata": {
      "needs_background": "light"
     },
     "output_type": "display_data"
    }
   ],
   "source": [
    "gbc(X_train_gen_bear, X_test_gen_bear, y_train_gen_bear, y_test_gen_bear)"
   ]
  },
  {
   "cell_type": "code",
   "execution_count": 65,
   "id": "opening-uncertainty",
   "metadata": {
    "ExecuteTime": {
     "end_time": "2021-02-11T22:39:55.938154Z",
     "start_time": "2021-02-11T22:39:55.315367Z"
    }
   },
   "outputs": [
    {
     "name": "stdout",
     "output_type": "stream",
     "text": [
      "\n",
      "Best Parameters:\n",
      " KNeighborsClassifier(n_neighbors=10)\n",
      "              precision    recall  f1-score   support\n",
      "\n",
      "         0.0       0.93      0.94      0.94       436\n",
      "         1.0       0.00      0.00      0.00        29\n",
      "\n",
      "    accuracy                           0.88       465\n",
      "   macro avg       0.47      0.47      0.47       465\n",
      "weighted avg       0.88      0.88      0.88       465\n",
      "\n",
      "[[410  26]\n",
      " [ 29   0]]\n"
     ]
    },
    {
     "data": {
      "image/png": "[encoded data removed]",
      "text/plain": [
       "<Figure size 432x288 with 1 Axes>"
      ]
     },
     "metadata": {
      "needs_background": "light"
     },
     "output_type": "display_data"
    }
   ],
   "source": [
    "X_train_scale_gen_bear, X_test_scale_gen_bear = scale(df_train_gen_bear, df_test_gen_bear)\n",
    "knn(X_train_scale_gen_bear, X_test_scale_gen_bear, y_train_gen_bear, y_test_gen_bear)"
   ]
  },
  {
   "cell_type": "code",
   "execution_count": 66,
   "id": "original-draft",
   "metadata": {
    "ExecuteTime": {
     "end_time": "2021-02-11T22:40:19.439196Z",
     "start_time": "2021-02-11T22:39:55.940726Z"
    }
   },
   "outputs": [
    {
     "name": "stdout",
     "output_type": "stream",
     "text": [
      "\n",
      "Best Parameters:\n",
      " AdaBoostClassifier(random_state=42)\n",
      "              precision    recall  f1-score   support\n",
      "\n",
      "         0.0       0.93      0.93      0.93       436\n",
      "         1.0       0.00      0.00      0.00        29\n",
      "\n",
      "    accuracy                           0.87       465\n",
      "   macro avg       0.47      0.46      0.46       465\n",
      "weighted avg       0.87      0.87      0.87       465\n",
      "\n",
      "[[404  32]\n",
      " [ 29   0]]\n"
     ]
    },
    {
     "data": {
      "image/png": "[encoded data removed]",
      "text/plain": [
       "<Figure size 432x288 with 1 Axes>"
      ]
     },
     "metadata": {
      "needs_background": "light"
     },
     "output_type": "display_data"
    }
   ],
   "source": [
    "abc(X_train_gen_bear, X_test_gen_bear, y_train_gen_bear, y_test_gen_bear)"
   ]
  },
  {
   "cell_type": "code",
   "execution_count": 67,
   "id": "equal-store",
   "metadata": {
    "ExecuteTime": {
     "end_time": "2021-02-11T22:40:28.806346Z",
     "start_time": "2021-02-11T22:40:19.441379Z"
    }
   },
   "outputs": [
    {
     "name": "stdout",
     "output_type": "stream",
     "text": [
      "\n",
      "Best Parameters:\n",
      " SVC(C=0.01, class_weight='balanced', degree=2, gamma='auto', random_state=42)\n",
      "              precision    recall  f1-score   support\n",
      "\n",
      "         0.0       0.94      1.00      0.97       436\n",
      "         1.0       0.00      0.00      0.00        29\n",
      "\n",
      "    accuracy                           0.94       465\n",
      "   macro avg       0.47      0.50      0.48       465\n",
      "weighted avg       0.88      0.94      0.91       465\n",
      "\n",
      "[[436   0]\n",
      " [ 29   0]]\n"
     ]
    },
    {
     "name": "stderr",
     "output_type": "stream",
     "text": [
      "/home/guilherme/.pyenv/versions/3.7.2/lib/python3.7/site-packages/sklearn/metrics/_classification.py:1245: UndefinedMetricWarning: Precision and F-score are ill-defined and being set to 0.0 in labels with no predicted samples. Use `zero_division` parameter to control this behavior.\n",
      "  _warn_prf(average, modifier, msg_start, len(result))\n",
      "/home/guilherme/.pyenv/versions/3.7.2/lib/python3.7/site-packages/sklearn/metrics/_classification.py:1245: UndefinedMetricWarning: Precision and F-score are ill-defined and being set to 0.0 in labels with no predicted samples. Use `zero_division` parameter to control this behavior.\n",
      "  _warn_prf(average, modifier, msg_start, len(result))\n",
      "/home/guilherme/.pyenv/versions/3.7.2/lib/python3.7/site-packages/sklearn/metrics/_classification.py:1245: UndefinedMetricWarning: Precision and F-score are ill-defined and being set to 0.0 in labels with no predicted samples. Use `zero_division` parameter to control this behavior.\n",
      "  _warn_prf(average, modifier, msg_start, len(result))\n"
     ]
    },
    {
     "data": {
      "image/png": "[encoded data removed]",
      "text/plain": [
       "<Figure size 432x288 with 1 Axes>"
      ]
     },
     "metadata": {
      "needs_background": "light"
     },
     "output_type": "display_data"
    }
   ],
   "source": [
    "svc(X_train_scale_gen_bear, X_test_scale_gen_bear, y_train_gen_bear, y_test_gen_bear)"
   ]
  },
  {
   "cell_type": "code",
   "execution_count": null,
   "id": "premium-travel",
   "metadata": {},
   "outputs": [],
   "source": []
  },
  {
   "cell_type": "markdown",
   "id": "excellent-testimony",
   "metadata": {},
   "source": [
    "## 2nd Analysis"
   ]
  },
  {
   "cell_type": "markdown",
   "id": "sealed-elizabeth",
   "metadata": {},
   "source": [
    "## Bad Results for HYDRAULIC and GEN_BEAR"
   ]
  },
  {
   "cell_type": "code",
   "execution_count": null,
   "id": "growing-knitting",
   "metadata": {},
   "outputs": [],
   "source": []
  },
  {
   "cell_type": "code",
   "execution_count": null,
   "id": "parliamentary-chuck",
   "metadata": {},
   "outputs": [],
   "source": []
  },
  {
   "cell_type": "code",
   "execution_count": null,
   "id": "banned-smart",
   "metadata": {},
   "outputs": [],
   "source": []
  },
  {
   "cell_type": "code",
   "execution_count": null,
   "id": "incomplete-flavor",
   "metadata": {},
   "outputs": [],
   "source": []
  },
  {
   "cell_type": "code",
   "execution_count": null,
   "id": "general-luxembourg",
   "metadata": {},
   "outputs": [],
   "source": []
  },
  {
   "cell_type": "code",
   "execution_count": 50,
   "id": "graduate-arena",
   "metadata": {
    "ExecuteTime": {
     "end_time": "2021-02-11T17:53:33.042665Z",
     "start_time": "2021-02-11T17:53:33.038260Z"
    }
   },
   "outputs": [],
   "source": [
    "# def several_models_results(df_train_,df_test_):\n",
    "\n",
    "#     for key,target_ in dict_mod.items():\n",
    "\n",
    "#         target=target_\n",
    "#         df_train_[target]=df_train_[target].round().astype(int)#.value_counts()\n",
    "#         df_test_[target]=df_test_[target].round().astype(int)#.value_counts()\n",
    "#         y_test=df_test_[target]\n",
    "    \n",
    "\n",
    "#         if 'LogReg' in key:\n",
    "#             model = 'Logistic Regression'\n",
    "#             clf_LogReg = LogisticRegression(random_state=42)\n",
    "#             gs_params = {'C': [.01, 0.1, 1.0, 10], 'solver': ['liblinear', 'lbfgs'], 'class_weight': ['balanced',None]}\n",
    "#             #gs_score = 'roc_auc' 68\n",
    "#             gs_score = 'f1'\n",
    "\n",
    "#             clf_LogReg, pred_LogReg_test, pred_LogReg_train = classifier(model, clf_LogReg, features,target, df_train_,df_test_, params=gs_params, score=gs_score)\n",
    "#             dict_results[key]=metrics(df_train_[target], pred_LogReg_train['y_train_prob'], df_test_[target], pred_LogReg_test['y_test_pred'], pred_LogReg_test['y_test_prob']).copy()\n",
    "#             dict_Y_pred_true[key]={'test_true':df_test_[target][:],'train_true':df_train_[target][:],'test_pred':pred_LogReg_test, 'train_pred':pred_LogReg_train}.copy()\n",
    "\n",
    "#         if  'RF' in key:  \n",
    "#             model = 'Random Forest'\n",
    "#             clf_rfc = RandomForestClassifier(n_estimators=50, random_state=42)\n",
    "#             gs_params = {'max_depth': [3,4, 5, 6, 7, 8], 'criterion': ['gini', 'entropy'], 'class_weight': ['balanced',None]}\n",
    "#             gs_score = 'f1'\n",
    "\n",
    "#             clf_rfc, pred_RandForest_test, pred_RandForest_train = classifier(model, clf_rfc, features,target, df_train_,df_test_,  params=gs_params, score=gs_score)\n",
    "#             dict_results[key]=metrics(df_train_[target], pred_RandForest_train['y_train_prob'], df_test_[target], pred_RandForest_test['y_test_pred'], pred_RandForest_test['y_test_prob']).copy()\n",
    "#             dict_Y_pred_true[key]={'test_true':df_test_[target],'train_true':df_train_[target],'test_pred':pred_RandForest_test, 'train_pred':pred_RandForest_train}.copy()\n",
    "\n",
    "\n",
    "#         if  'KNN' in key:\n",
    "#             model = 'KNN'\n",
    "#             clf_knn = KNeighborsClassifier(n_jobs=-1)\n",
    "#             gs_params = {'n_neighbors': [5, 9 , 10, 11, 12]}\n",
    "#             gs_score = 'f1'\n",
    "\n",
    "#             clf_knn, pred_KNN_test, pred_KNN_train = classifier(model, clf_knn, features,target, df_train_,df_test_,  params=gs_params, score=gs_score)\n",
    "#             dict_results[key]=metrics(df_train_[target], pred_KNN_train['y_train_prob'], df_test_[target], pred_KNN_test['y_test_pred'], pred_KNN_test['y_test_prob']).copy()\n",
    "#             dict_Y_pred_true[key]={'test_true':df_test_[target],'train_true':df_train_[target],'test_pred':pred_KNN_test, 'train_pred':pred_KNN_train}.copy()\n",
    "    \n",
    "#         print(key)\n",
    "\n",
    "#     return dict_results, dict_Y_pred_true"
   ]
  },
  {
   "cell_type": "code",
   "execution_count": 51,
   "id": "equivalent-soccer",
   "metadata": {
    "ExecuteTime": {
     "end_time": "2021-02-11T17:53:33.059051Z",
     "start_time": "2021-02-11T17:53:33.045619Z"
    }
   },
   "outputs": [],
   "source": [
    "# dict_modxxx={\n",
    "# #     'LogReg_60':'60_days',\n",
    "# #     'LogReg_50':'50_days',\n",
    "# #     'LogReg_40':'40_days',\n",
    "# #     'LogReg_30':'30_days',\n",
    "# #     'LogReg_20':'20_days',\n",
    "# #     'LogReg_10':'10_days',\n",
    "    \n",
    "#     'RF_60':'60_days',\n",
    "#     'RF_50':'50_days',\n",
    "#     'RF_40':'40_days',\n",
    "#     'RF_30':'30_days',\n",
    "#     'RF_20':'20_days',\n",
    "#     'RF_10':'10_days',\n",
    "    \n",
    "#     'KNN_60':'60_days',\n",
    "#     'KNN_50':'50_days',\n",
    "#     'KNN_40':'40_days',\n",
    "#     'KNN_30':'30_days',\n",
    "#     'KNN_20':'20_days',\n",
    "#     'KNN_10':'10_days'    \n",
    "\n",
    "#         }\n",
    "\n",
    "\n",
    "# dict_mod={\n",
    "#     'LogReg_60':'60_days',\n",
    "#     'LogReg_50':'50_days',\n",
    "#     'LogReg_40':'40_days',\n",
    "#     'LogReg_30':'30_days',\n",
    "#     'LogReg_20':'20_days',\n",
    "#     'LogReg_10':'10_days',\n",
    "    \n",
    "#     'RF_60':'60_days',\n",
    "#     'RF_50':'50_days',\n",
    "#     'RF_40':'40_days',\n",
    "#     'RF_30':'30_days',\n",
    "#     'RF_20':'20_days',\n",
    "#     'RF_10':'10_days'\n",
    "      \n",
    "#         }\n",
    "\n",
    "# dict_mod__={\n",
    "#     'LogReg_60':'60_days',\n",
    "#     'LogReg_30':'30_days',\n",
    "#     'LogReg_10':'10_days',\n",
    "    \n",
    "#     'RF_60':'60_days',\n",
    "#     'RF_30':'30_days',\n",
    "#     'RF_10':'10_days',\n",
    "    \n",
    "#     'KNN_60':'60_days',\n",
    "#     'KNN_30':'30_days',\n",
    "#     'KNN_10':'10_days'    \n",
    "#         }\n"
   ]
  },
  {
   "cell_type": "code",
   "execution_count": 52,
   "id": "victorian-python",
   "metadata": {
    "ExecuteTime": {
     "end_time": "2021-02-11T17:53:33.069483Z",
     "start_time": "2021-02-11T17:53:33.061671Z"
    }
   },
   "outputs": [],
   "source": [
    "# dict_df_ = {'generator_results':(df_train_generator,df_test_generator),\n",
    "#            'hydraulic_results':(df_train_hydraulic, df_test_hydraulic)}\n",
    "#            #'genbear_results':(df_train_gen_bear,df_test_gen_bear)}\n",
    "\n",
    "\n",
    "# dict_df = {'generator_results':(df_train_generator,df_test_generator),\n",
    "#            'hydraulic_results':(df_train_hydraulic, df_test_hydraulic),\n",
    "#            'genbear_results':(df_train_gen_bear,df_test_gen_bear), \n",
    "#            'transformer_results':(df_train_transformer,df_test_transformer),\n",
    "#            'gearbox_results':(df_train_gearbox,df_test_gearbox)}"
   ]
  },
  {
   "cell_type": "code",
   "execution_count": 53,
   "id": "running-looking",
   "metadata": {
    "ExecuteTime": {
     "end_time": "2021-02-11T17:53:33.084684Z",
     "start_time": "2021-02-11T17:53:33.073797Z"
    }
   },
   "outputs": [],
   "source": [
    "# dict_results={}\n",
    "# dict_Y_pred_true={}\n",
    "\n",
    "\n",
    "# dict_results_by_component={}\n",
    "# dict_Y_pred_true_by_component={}\n",
    "\n",
    "# for   key,df_ in dict_df.items():\n",
    " \n",
    "#     df_train_=df_[0]\n",
    "#     df_test_=df_[1]\n",
    "#     features=df_[0].drop(columns=['60_days', '50_days', '40_days', '30_days', '20_days', '10_days', 'Date', 'Turbine_ID', 'Component', 'TTF','Component_av','Component_sd']).columns\n",
    "\n",
    "   \n",
    "#     dict_results_by_component[key]=pd.DataFrame(several_models_results(df_train_,df_test_)[0]).copy()\n",
    "#     dict_Y_pred_true_by_component[key]=several_models_results(df_train_,df_test_)[1].copy()\n",
    "#     print(key)\n",
    "#     print(dict_Y_pred_true_by_component.keys())"
   ]
  },
  {
   "cell_type": "code",
   "execution_count": 54,
   "id": "surrounded-ballet",
   "metadata": {
    "ExecuteTime": {
     "end_time": "2021-02-11T17:53:33.095327Z",
     "start_time": "2021-02-11T17:53:33.087687Z"
    }
   },
   "outputs": [],
   "source": [
    "#dict_results_by_component['generator_results']"
   ]
  },
  {
   "cell_type": "code",
   "execution_count": 55,
   "id": "naughty-shakespeare",
   "metadata": {
    "ExecuteTime": {
     "end_time": "2021-02-11T17:53:33.105272Z",
     "start_time": "2021-02-11T17:53:33.098381Z"
    }
   },
   "outputs": [],
   "source": [
    "# for component in dict_results_by_component.keys():\n",
    "#     for model in dict_mod.keys():\n",
    "#         print(\" \")\n",
    "#         print(f'{component+\" \"+model}')\n",
    "#         print(\" \")\n",
    "#         roc_curve_plot (dict_Y_pred_true_by_component[component][model]['test_true'],  dict_Y_pred_true_by_component[component][model]['test_pred']['y_test_prob'].values)\n",
    "#         plt.show()"
   ]
  },
  {
   "cell_type": "code",
   "execution_count": 56,
   "id": "competent-makeup",
   "metadata": {
    "ExecuteTime": {
     "end_time": "2021-02-11T17:53:33.114846Z",
     "start_time": "2021-02-11T17:53:33.107809Z"
    }
   },
   "outputs": [],
   "source": [
    "# for component in dict_results_by_component.keys():\n",
    "#     for model in dict_mod.keys():\n",
    "        \n",
    "#         df_boxplot=pd.DataFrame(dict_Y_pred_true_by_component[component][model]['test_true'].values,\n",
    "#         dict_Y_pred_true_by_component[component][model]['test_pred']['y_test_prob']).reset_index().rename(columns={0:'y_test_true'})\n",
    "#         print(\" \")\n",
    "#         print(f'{component+\" \"+model}')\n",
    "#         print(\" \")\n",
    "#         sns.boxplot(x=\"y_test_true\", y=\"y_test_prob\", data=df_boxplot)\n",
    "        \n",
    "#         plt.show()"
   ]
  },
  {
   "cell_type": "code",
   "execution_count": null,
   "id": "developed-browser",
   "metadata": {},
   "outputs": [],
   "source": []
  },
  {
   "cell_type": "code",
   "execution_count": null,
   "id": "heavy-hierarchy",
   "metadata": {},
   "outputs": [],
   "source": []
  }
 ],
 "metadata": {
  "kernelspec": {
   "display_name": "Python 3",
   "language": "python",
   "name": "python3"
  },
  "language_info": {
   "codemirror_mode": {
    "name": "ipython",
    "version": 3
   },
   "file_extension": ".py",
   "mimetype": "text/x-python",
   "name": "python",
   "nbconvert_exporter": "python",
   "pygments_lexer": "ipython3",
   "version": "3.7.2"
  }
 },
 "nbformat": 4,
 "nbformat_minor": 5
}
