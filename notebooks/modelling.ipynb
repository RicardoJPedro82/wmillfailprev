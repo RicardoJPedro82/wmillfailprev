{
 "cells": [
  {
   "cell_type": "code",
   "execution_count": 1,
   "id": "contrary-palmer",
   "metadata": {
    "ExecuteTime": {
     "end_time": "2021-02-13T14:17:59.695853Z",
     "start_time": "2021-02-13T14:17:58.258789Z"
    }
   },
   "outputs": [],
   "source": [
    "import pandas as pd\n",
    "import numpy as np\n",
    "import seaborn as sns\n",
    "import matplotlib.pyplot as plt\n",
    "import datetime\n",
    "from sklearn.preprocessing import StandardScaler\n",
    "from sklearn.preprocessing import MinMaxScaler\n",
    "from sklearn.linear_model import LogisticRegression\n",
    "from sklearn.ensemble import GradientBoostingClassifier\n",
    "from sklearn.ensemble import RandomForestClassifier\n",
    "from sklearn.svm import SVC, LinearSVC\n",
    "from sklearn.neighbors import KNeighborsClassifier\n",
    "from sklearn.ensemble import AdaBoostClassifier\n",
    "from sklearn.metrics import confusion_matrix, plot_roc_curve, classification_report\n",
    "from sklearn import model_selection\n"
   ]
  },
  {
   "cell_type": "code",
   "execution_count": 2,
   "id": "collectible-december",
   "metadata": {
    "ExecuteTime": {
     "end_time": "2021-02-13T14:18:17.781072Z",
     "start_time": "2021-02-13T14:17:59.699564Z"
    }
   },
   "outputs": [],
   "source": [
    "rooth_path = '../rawdata/outro/'\n",
    "generator_df = pd.read_csv(rooth_path + 'generator_df.csv')\n",
    "gen_bear_df = pd.read_csv(rooth_path + 'gen_bear_df.csv')\n",
    "hyd_df = pd.read_csv(rooth_path + 'hyd_df.csv')\n",
    "gearbox_df = pd.read_csv(rooth_path + 'gearbox_df.csv')\n",
    "transf_df = pd.read_csv(rooth_path + 'transf_df.csv')"
   ]
  },
  {
   "cell_type": "code",
   "execution_count": 2,
   "id": "interior-performance",
   "metadata": {
    "ExecuteTime": {
     "end_time": "2021-02-13T14:18:18.754823Z",
     "start_time": "2021-02-13T14:18:17.783985Z"
    }
   },
   "outputs": [
    {
     "ename": "KeyboardInterrupt",
     "evalue": "",
     "output_type": "error",
     "traceback": [
      "\u001b[0;31m---------------------------------------------------------------------------\u001b[0m",
      "\u001b[0;31mKeyboardInterrupt\u001b[0m                         Traceback (most recent call last)",
      "\u001b[0;32m~/.pyenv/versions/3.7.2/lib/python3.7/site-packages/IPython/core/async_helpers.py\u001b[0m in \u001b[0;36m_pseudo_sync_runner\u001b[0;34m(coro)\u001b[0m\n\u001b[1;32m     66\u001b[0m     \"\"\"\n\u001b[1;32m     67\u001b[0m     \u001b[0;32mtry\u001b[0m\u001b[0;34m:\u001b[0m\u001b[0;34m\u001b[0m\u001b[0;34m\u001b[0m\u001b[0m\n\u001b[0;32m---> 68\u001b[0;31m         \u001b[0mcoro\u001b[0m\u001b[0;34m.\u001b[0m\u001b[0msend\u001b[0m\u001b[0;34m(\u001b[0m\u001b[0;32mNone\u001b[0m\u001b[0;34m)\u001b[0m\u001b[0;34m\u001b[0m\u001b[0;34m\u001b[0m\u001b[0m\n\u001b[0m\u001b[1;32m     69\u001b[0m     \u001b[0;32mexcept\u001b[0m \u001b[0mStopIteration\u001b[0m \u001b[0;32mas\u001b[0m \u001b[0mexc\u001b[0m\u001b[0;34m:\u001b[0m\u001b[0;34m\u001b[0m\u001b[0;34m\u001b[0m\u001b[0m\n\u001b[1;32m     70\u001b[0m         \u001b[0;32mreturn\u001b[0m \u001b[0mexc\u001b[0m\u001b[0;34m.\u001b[0m\u001b[0mvalue\u001b[0m\u001b[0;34m\u001b[0m\u001b[0;34m\u001b[0m\u001b[0m\n",
      "\u001b[0;32m~/.pyenv/versions/3.7.2/lib/python3.7/site-packages/IPython/core/interactiveshell.py\u001b[0m in \u001b[0;36mrun_cell_async\u001b[0;34m(self, raw_cell, store_history, silent, shell_futures, transformed_cell, preprocessing_exc_tuple)\u001b[0m\n\u001b[1;32m   3147\u001b[0m                        interactivity=interactivity, compiler=compiler, result=result)\n\u001b[1;32m   3148\u001b[0m \u001b[0;34m\u001b[0m\u001b[0m\n\u001b[0;32m-> 3149\u001b[0;31m                 \u001b[0mself\u001b[0m\u001b[0;34m.\u001b[0m\u001b[0mlast_execution_succeeded\u001b[0m \u001b[0;34m=\u001b[0m \u001b[0;32mnot\u001b[0m \u001b[0mhas_raised\u001b[0m\u001b[0;34m\u001b[0m\u001b[0;34m\u001b[0m\u001b[0m\n\u001b[0m\u001b[1;32m   3150\u001b[0m                 \u001b[0mself\u001b[0m\u001b[0;34m.\u001b[0m\u001b[0mlast_execution_result\u001b[0m \u001b[0;34m=\u001b[0m \u001b[0mresult\u001b[0m\u001b[0;34m\u001b[0m\u001b[0;34m\u001b[0m\u001b[0m\n\u001b[1;32m   3151\u001b[0m \u001b[0;34m\u001b[0m\u001b[0m\n",
      "\u001b[0;32m~/.pyenv/versions/3.7.2/lib/python3.7/site-packages/traitlets/traitlets.py\u001b[0m in \u001b[0;36m__set__\u001b[0;34m(self, obj, value)\u001b[0m\n\u001b[1;32m    602\u001b[0m             \u001b[0;32mraise\u001b[0m \u001b[0mTraitError\u001b[0m\u001b[0;34m(\u001b[0m\u001b[0;34m'The \"%s\" trait is read-only.'\u001b[0m \u001b[0;34m%\u001b[0m \u001b[0mself\u001b[0m\u001b[0;34m.\u001b[0m\u001b[0mname\u001b[0m\u001b[0;34m)\u001b[0m\u001b[0;34m\u001b[0m\u001b[0;34m\u001b[0m\u001b[0m\n\u001b[1;32m    603\u001b[0m         \u001b[0;32melse\u001b[0m\u001b[0;34m:\u001b[0m\u001b[0;34m\u001b[0m\u001b[0;34m\u001b[0m\u001b[0m\n\u001b[0;32m--> 604\u001b[0;31m             \u001b[0mself\u001b[0m\u001b[0;34m.\u001b[0m\u001b[0mset\u001b[0m\u001b[0;34m(\u001b[0m\u001b[0mobj\u001b[0m\u001b[0;34m,\u001b[0m \u001b[0mvalue\u001b[0m\u001b[0;34m)\u001b[0m\u001b[0;34m\u001b[0m\u001b[0;34m\u001b[0m\u001b[0m\n\u001b[0m\u001b[1;32m    605\u001b[0m \u001b[0;34m\u001b[0m\u001b[0m\n\u001b[1;32m    606\u001b[0m     \u001b[0;32mdef\u001b[0m \u001b[0m_validate\u001b[0m\u001b[0;34m(\u001b[0m\u001b[0mself\u001b[0m\u001b[0;34m,\u001b[0m \u001b[0mobj\u001b[0m\u001b[0;34m,\u001b[0m \u001b[0mvalue\u001b[0m\u001b[0;34m)\u001b[0m\u001b[0;34m:\u001b[0m\u001b[0;34m\u001b[0m\u001b[0;34m\u001b[0m\u001b[0m\n",
      "\u001b[0;32m~/.pyenv/versions/3.7.2/lib/python3.7/site-packages/traitlets/traitlets.py\u001b[0m in \u001b[0;36mset\u001b[0;34m(self, obj, value)\u001b[0m\n\u001b[1;32m    582\u001b[0m             \u001b[0mold_value\u001b[0m \u001b[0;34m=\u001b[0m \u001b[0mself\u001b[0m\u001b[0;34m.\u001b[0m\u001b[0mdefault_value\u001b[0m\u001b[0;34m\u001b[0m\u001b[0;34m\u001b[0m\u001b[0m\n\u001b[1;32m    583\u001b[0m \u001b[0;34m\u001b[0m\u001b[0m\n\u001b[0;32m--> 584\u001b[0;31m         \u001b[0mobj\u001b[0m\u001b[0;34m.\u001b[0m\u001b[0m_trait_values\u001b[0m\u001b[0;34m[\u001b[0m\u001b[0mself\u001b[0m\u001b[0;34m.\u001b[0m\u001b[0mname\u001b[0m\u001b[0;34m]\u001b[0m \u001b[0;34m=\u001b[0m \u001b[0mnew_value\u001b[0m\u001b[0;34m\u001b[0m\u001b[0;34m\u001b[0m\u001b[0m\n\u001b[0m\u001b[1;32m    585\u001b[0m         \u001b[0;32mtry\u001b[0m\u001b[0;34m:\u001b[0m\u001b[0;34m\u001b[0m\u001b[0;34m\u001b[0m\u001b[0m\n\u001b[1;32m    586\u001b[0m             \u001b[0msilent\u001b[0m \u001b[0;34m=\u001b[0m \u001b[0mbool\u001b[0m\u001b[0;34m(\u001b[0m\u001b[0mold_value\u001b[0m \u001b[0;34m==\u001b[0m \u001b[0mnew_value\u001b[0m\u001b[0;34m)\u001b[0m\u001b[0;34m\u001b[0m\u001b[0;34m\u001b[0m\u001b[0m\n",
      "\u001b[0;31mKeyboardInterrupt\u001b[0m: "
     ]
    }
   ],
   "source": [
    "generator_df['Timestamp'] = pd.to_datetime(generator_df['Timestamp'])\n",
    "gen_bear_df['Timestamp'] = pd.to_datetime(gen_bear_df['Timestamp'])\n",
    "hyd_df['Timestamp'] = pd.to_datetime(hyd_df['Timestamp'])\n",
    "gearbox_df['Timestamp'] = pd.to_datetime(gearbox_df['Timestamp'])\n",
    "transf_df['Timestamp'] = pd.to_datetime(transf_df['Timestamp'])"
   ]
  },
  {
   "cell_type": "code",
   "execution_count": null,
   "id": "revised-gardening",
   "metadata": {
    "ExecuteTime": {
     "end_time": "2021-02-13T14:18:18.759939Z",
     "start_time": "2021-02-13T14:17:58.929Z"
    }
   },
   "outputs": [],
   "source": [
    "#By Pearson corr analysis\n",
    "features_drop = ['Gen_RPM_Max', 'Gen_RPM_Min', 'Gen_Phase1_Temp_Avg','Gen_Phase3_Temp_Avg', 'Amb_WindSpeed_Est_Avg',\n",
    "                'Grd_RtrInvPhase1_Temp_Avg', 'Grd_RtrInvPhase3_Temp_Avg', 'Rtr_RPM_Max', 'Rtr_RPM_Min','Grd_Prod_VoltPhse2_Avg',\n",
    "                'Blds_PitchAngle_Max', 'Blds_PitchAngle_Min', 'Prod_LatestAvg_ReactPwrGen1', 'Cont_Hub_Temp_Avg',\n",
    "                'Spin_Temp_Avg', 'Rtr_RPM_Std', 'Rtr_RPM_Avg', 'Cont_VCP_Temp_Avg', 'Grd_Prod_CurPhse1_Avg', 'Prod_LatestAvg_TotActPwr',\n",
    "                 'Grd_Prod_CurPhse3_Avg', 'Grd_Prod_Pwr_Max', 'Grd_Prod_Pwr_Min', 'HVTrafo_Phase1_Temp_Avg', 'Grd_Prod_CurPhse2_Avg',\n",
    "                 'HVTrafo_Phase3_Temp_Avg', 'Grd_Prod_PsblePwr_Max', 'Grd_Prod_PsblePwr_Min', 'Grd_Prod_ReactPwr_Avg',\n",
    "                'Grd_Prod_PsbleInd_Max', 'Grd_Prod_PsbleInd_Min', 'Prod_LatestAvg_ActPwrGen1', 'Prod_LatestAvg_TotReactPwr',\n",
    "                'Grd_Prod_PsbleInd_Avg', 'Blds_PitchAngle_Avg', 'Grd_Prod_ReactPwr_Max', 'Grd_Prod_ReactPwr_Min',\n",
    "                'Nac_Direction_Avg', 'Amb_WindDir_Abs_Avg', 'Grd_Prod_PsbleCap_Min', 'Gear_Oil_Temp_Avg', 'Grd_Prod_VoltPhse1_Avg']"
   ]
  },
  {
   "cell_type": "code",
   "execution_count": null,
   "id": "seeing-electron",
   "metadata": {
    "ExecuteTime": {
     "end_time": "2021-02-13T14:18:18.761263Z",
     "start_time": "2021-02-13T14:17:58.932Z"
    }
   },
   "outputs": [],
   "source": [
    "## Remove columns with strong correlations\n",
    "generator_df = generator_df.drop(columns=features_drop)\n",
    "gen_bear_df = gen_bear_df.drop(columns=features_drop)\n",
    "hyd_df = hyd_df.drop(columns=features_drop)\n",
    "gearbox_df = gearbox_df.drop(columns=features_drop)\n",
    "transf_df = transf_df.drop(columns=features_drop)"
   ]
  },
  {
   "cell_type": "code",
   "execution_count": null,
   "id": "dietary-spencer",
   "metadata": {
    "ExecuteTime": {
     "end_time": "2021-02-13T14:18:18.762439Z",
     "start_time": "2021-02-13T14:17:58.934Z"
    }
   },
   "outputs": [],
   "source": [
    "def prepare_train_test(df):\n",
    "    last_date = df['Timestamp'].iloc[-1]\n",
    "    split = last_date - pd.DateOffset(months=3)\n",
    "    df_train = df[df['Timestamp'] < split]\n",
    "    df_test = df[df['Timestamp'] >= split]\n",
    "    \n",
    "    return df_train, df_test"
   ]
  },
  {
   "cell_type": "code",
   "execution_count": null,
   "id": "aging-nepal",
   "metadata": {
    "ExecuteTime": {
     "end_time": "2021-02-13T14:18:18.763925Z",
     "start_time": "2021-02-13T14:17:58.935Z"
    }
   },
   "outputs": [],
   "source": [
    "generator_df_train, generator_df_test = prepare_train_test(generator_df)\n",
    "gen_bear_df_train, gen_bear_df_test = prepare_train_test(gen_bear_df)\n",
    "hyd_df_train, hyd_df_test = prepare_train_test(hyd_df)\n",
    "gearbox_df_train, gearbox_df_test = prepare_train_test(gearbox_df)\n",
    "transf_df_train, transf_df_test = prepare_train_test(transf_df)"
   ]
  },
  {
   "cell_type": "code",
   "execution_count": null,
   "id": "solid-movie",
   "metadata": {
    "ExecuteTime": {
     "end_time": "2021-02-13T14:18:18.765138Z",
     "start_time": "2021-02-13T14:17:58.937Z"
    }
   },
   "outputs": [],
   "source": [
    "#Group by day per turbine\n",
    "def group_per_frequency(df, strategy='mean'):\n",
    "    df['Date'] = df['Timestamp'].dt.date\n",
    "    if strategy == 'max':\n",
    "        df = df.groupby(by=['Turbine_ID','Date']).max().reset_index().drop(columns='Timestamp')\n",
    "    else:\n",
    "        df = df.groupby(by=['Turbine_ID','Date']).mean().reset_index()\n",
    "        \n",
    "    return df"
   ]
  },
  {
   "cell_type": "code",
   "execution_count": null,
   "id": "rental-moore",
   "metadata": {
    "ExecuteTime": {
     "end_time": "2021-02-13T14:18:18.766664Z",
     "start_time": "2021-02-13T14:17:58.939Z"
    }
   },
   "outputs": [],
   "source": [
    "df_train_gearbox_day = group_per_frequency(gearbox_df_train)\n",
    "df_train_gen_day = group_per_frequency(generator_df_train)\n",
    "df_train_gen_bear_day = group_per_frequency(gen_bear_df_train)\n",
    "df_train_hyd_day = group_per_frequency(hyd_df_train)\n",
    "df_train_transf_day = group_per_frequency(transf_df_train)\n",
    "df_test_gearbox_day = group_per_frequency(gearbox_df_test)\n",
    "df_test_gen_day = group_per_frequency(generator_df_test)\n",
    "df_test_gen_bear_day = group_per_frequency(gen_bear_df_test)\n",
    "df_test_hyd_day = group_per_frequency(hyd_df_test)\n",
    "df_test_transf_day = group_per_frequency(transf_df_test)"
   ]
  },
  {
   "cell_type": "code",
   "execution_count": null,
   "id": "historical-start",
   "metadata": {
    "ExecuteTime": {
     "end_time": "2021-02-13T14:18:18.769446Z",
     "start_time": "2021-02-13T14:17:58.941Z"
    }
   },
   "outputs": [],
   "source": [
    "dfs = [df_train_gearbox_day,df_train_gen_day, df_train_gen_bear_day, df_train_hyd_day, df_train_transf_day,\n",
    "       df_test_gearbox_day, df_test_gen_day, df_test_gen_bear_day, df_test_hyd_day, df_test_transf_day ]\n",
    "\n",
    "for df in dfs:\n",
    "    df['60_days'] = df['60_days'].round(decimals=0)\n",
    "    df['50_days'] = df['50_days'].round(decimals=0)\n",
    "    df['40_days'] = df['40_days'].round(decimals=0)\n",
    "    df['30_days'] = df['30_days'].round(decimals=0)\n",
    "    df['20_days'] = df['20_days'].round(decimals=0)\n",
    "    df['10_days'] = df['10_days'].round(decimals=0)"
   ]
  },
  {
   "cell_type": "code",
   "execution_count": null,
   "id": "utility-genius",
   "metadata": {
    "ExecuteTime": {
     "end_time": "2021-02-13T14:18:18.771938Z",
     "start_time": "2021-02-13T14:17:58.942Z"
    }
   },
   "outputs": [],
   "source": [
    "def add_features(df_in, rolling_win_size):\n",
    "    \n",
    "    sensor_cols = []\n",
    "    for i in df_in.keys()[2:-8]:\n",
    "        sensor_cols.append(i)\n",
    "    sensor_av_cols = [nm+'_av' for nm in sensor_cols]\n",
    "    sensor_sd_cols = [nm+'_sd' for nm in sensor_cols]\n",
    "    df_out = pd.DataFrame()\n",
    "    ws = rolling_win_size\n",
    "    #calculate rolling stats for each engine id\n",
    "    for m_id in pd.unique(df_in.Turbine_ID):\n",
    "        # get a subset for each engine sensors\n",
    "        df_engine = df_in[df_in['Turbine_ID'] == m_id]\n",
    "        df_sub = df_engine[sensor_cols]\n",
    "        # get rolling mean for the subset\n",
    "        av = df_sub.rolling(ws, min_periods=1).mean()\n",
    "        av.columns = sensor_av_cols\n",
    "        # get the rolling standard deviation for the subset\n",
    "        sd = df_sub.rolling(ws, min_periods=1).std().fillna(0)\n",
    "        sd.columns = sensor_sd_cols\n",
    "        # combine the two new subset dataframes columns to the engine subset\n",
    "        new_ftrs = pd.concat([df_engine,av,sd], axis=1)\n",
    "        # add the new features rows to the output dataframe\n",
    "        df_out = pd.concat([df_out,new_ftrs])\n",
    "    return df_out"
   ]
  },
  {
   "cell_type": "code",
   "execution_count": null,
   "id": "banned-scoop",
   "metadata": {
    "ExecuteTime": {
     "end_time": "2021-02-13T14:18:18.773362Z",
     "start_time": "2021-02-13T14:17:58.945Z"
    }
   },
   "outputs": [],
   "source": [
    "df_train_gearbox_extra = add_features(df_train_gearbox_day, 7)\n",
    "df_train_gen_extra = add_features(df_train_gen_day, 7)\n",
    "df_train_gen_bear_extra = add_features(df_train_gen_bear_day, 7)\n",
    "df_train_hyd_extra = add_features(df_train_hyd_day, 7)\n",
    "df_train_transf_extra = add_features(df_train_transf_day, 7)\n",
    "df_test_gearbox_extra = add_features(df_test_gearbox_day, 7)\n",
    "df_test_gen_extra = add_features(df_test_gen_day, 7)\n",
    "df_test_gen_bear_extra = add_features(df_test_gen_bear_day, 7)\n",
    "df_test_hyd_extra = add_features(df_test_hyd_day, 7)\n",
    "df_test_transf_extra = add_features(df_test_transf_day, 7)"
   ]
  },
  {
   "cell_type": "code",
   "execution_count": null,
   "id": "premier-formation",
   "metadata": {
    "ExecuteTime": {
     "end_time": "2021-02-13T14:18:18.774341Z",
     "start_time": "2021-02-13T14:17:58.947Z"
    }
   },
   "outputs": [],
   "source": [
    "#Failures Generator in train data - T06 and T11\n",
    "#Failures Hydraulic Group in train data - T06 and T11\n",
    "#Failures Gen_bear in train data - T07 and T09\n",
    "#Failures Transformer in train data - T07\n",
    "# Gearbox -> Change train_test in order to be 1 failure in test data"
   ]
  },
  {
   "cell_type": "code",
   "execution_count": null,
   "id": "irish-juvenile",
   "metadata": {
    "ExecuteTime": {
     "end_time": "2021-02-13T14:18:18.775378Z",
     "start_time": "2021-02-13T14:17:58.957Z"
    }
   },
   "outputs": [],
   "source": [
    "df_train_gen = df_train_gen_extra.loc[(df_train_gen_extra['Turbine_ID']=='T06') | (df_train_gen_extra['Turbine_ID']=='T11')]\n",
    "df_train_gen_bear = df_train_gen_bear_extra.loc[(df_train_gen_bear_extra['Turbine_ID']=='T07') | (df_train_gen_bear_extra['Turbine_ID']=='T09')]\n",
    "df_train_hyd = df_train_hyd_extra.loc[(df_train_hyd_extra['Turbine_ID']=='T06') | (df_train_hyd_extra['Turbine_ID']=='T11')]\n",
    "df_train_transf = df_train_transf_extra.loc[df_train_transf_extra['Turbine_ID']=='T07']\n",
    "df_test_gen = df_test_gen_extra.copy()\n",
    "df_test_gen_bear = df_test_gen_bear_extra.copy()\n",
    "df_test_hyd = df_test_hyd_extra.copy()\n",
    "df_test_transf = df_test_transf_extra.copy()"
   ]
  },
  {
   "cell_type": "code",
   "execution_count": null,
   "id": "generous-journal",
   "metadata": {
    "ExecuteTime": {
     "end_time": "2021-02-13T14:18:18.776423Z",
     "start_time": "2021-02-13T14:17:58.960Z"
    }
   },
   "outputs": [],
   "source": [
    "#Scaling\n",
    "def scale(df_train, df_test, scaler='StandardScaler'):\n",
    "    \n",
    "    for m_id in pd.unique(df_train.Turbine_ID):\n",
    "        X_train = df_train.drop(columns=['Date', 'TTF', '60_days', '50_days', '40_days', '30_days', '20_days', '10_days', 'Component', 'Turbine_ID']) \n",
    "        X_test = df_test.drop(columns=['Date', 'TTF', '60_days', '50_days', '40_days', '30_days', '20_days', '10_days', 'Component', 'Turbine_ID'])\n",
    "        if scaler == 'MinMaxScaler':\n",
    "            sc = MinMaxScaler()\n",
    "            X_train_scale = sc.fit_transform(X_train)\n",
    "            X_test_scale = sc.transform(X_test)\n",
    "        else:\n",
    "            sc = StandardScaler()\n",
    "            X_train_scale = sc.fit_transform(X_train)\n",
    "            X_test_scale = sc.transform(X_test)\n",
    "\n",
    "        \n",
    "    return X_train_scale, X_test_scale"
   ]
  },
  {
   "cell_type": "code",
   "execution_count": null,
   "id": "graduate-terrain",
   "metadata": {
    "ExecuteTime": {
     "end_time": "2021-02-13T14:18:18.777753Z",
     "start_time": "2021-02-13T14:17:58.962Z"
    }
   },
   "outputs": [],
   "source": [
    "def bin_classify(model, clf, X_train, X_test, y_train, y_test, params=None, score=None, ):\n",
    "     \n",
    "    grid_search = model_selection.GridSearchCV(estimator=clf, param_grid=params, cv=5, scoring=score, n_jobs=-1)\n",
    "\n",
    "    grid_search.fit(X_train, y_train)\n",
    "    train_pred = grid_search.predict(X_train)\n",
    "    y_pred = grid_search.predict(X_test)\n",
    "    \n",
    "    if hasattr(grid_search, 'predict_proba'):   \n",
    "        y_score = grid_search.predict_proba(X_test)[:,1]\n",
    "    elif hasattr(grid_search, 'decision_function'):\n",
    "        y_score = grid_search.decision_function(X_test)\n",
    "    else:\n",
    "        y_score = y_pred\n",
    "    \n",
    "    predictions = {'y_pred' : y_pred, 'y_score' : y_score}\n",
    "    df_predictions = pd.DataFrame.from_dict(predictions)\n",
    "    \n",
    "    return grid_search.best_estimator_, df_predictions"
   ]
  },
  {
   "cell_type": "code",
   "execution_count": null,
   "id": "european-teens",
   "metadata": {
    "ExecuteTime": {
     "end_time": "2021-02-13T14:18:18.778973Z",
     "start_time": "2021-02-13T14:17:58.964Z"
    }
   },
   "outputs": [],
   "source": [
    "def metrics(estimator, X_test, y_test, y_pred, label):\n",
    "    \n",
    "    print(classification_report(y_test, y_pred))\n",
    "    print(confusion_matrix(y_test, y_pred))\n",
    "    plot_roc_curve(estimator, X_test, y_test, name = f'{estimator} {label}')"
   ]
  },
  {
   "cell_type": "code",
   "execution_count": null,
   "id": "falling-funeral",
   "metadata": {
    "ExecuteTime": {
     "end_time": "2021-02-13T14:18:18.780147Z",
     "start_time": "2021-02-13T14:17:58.966Z"
    }
   },
   "outputs": [],
   "source": [
    "def logreg(X_train, X_test, y_train, y_test, label):\n",
    "    model = 'Logistic Regression'\n",
    "    clf_logreg = LogisticRegression(random_state=42, max_iter=1000)\n",
    "    gs_params = {'C': [.01, 0.1, 1.0, 10], 'solver': ['liblinear', 'lbfgs']}\n",
    "    gs_score = 'f1'\n",
    "\n",
    "    clf_logreg, pred_logreg = bin_classify(model, clf_logreg, X_train, X_test, y_train, y_test, params=gs_params, score=gs_score)\n",
    "    print('\\nBest Parameters:\\n',clf_logreg)\n",
    "    \n",
    "    metrics(clf_logreg, X_test, y_test, pred_logreg['y_pred'], label)\n",
    "    \n",
    "    return clf_logreg, pred_logreg"
   ]
  },
  {
   "cell_type": "code",
   "execution_count": null,
   "id": "regulated-price",
   "metadata": {
    "ExecuteTime": {
     "end_time": "2021-02-13T14:18:18.781039Z",
     "start_time": "2021-02-13T14:17:58.968Z"
    }
   },
   "outputs": [],
   "source": [
    "def rfc(X_train, X_test, y_train, y_test, label):\n",
    "    model = 'Random Forest Classifier'\n",
    "    clf_rfc = RandomForestClassifier(random_state=42)\n",
    "    gs_params = {'n_estimators': [800, 900, 1000, 1300, 1400, 1500], 'criterion': ['gini', 'entropy'], 'class_weight': ['balanced', None]}\n",
    "    gs_score = 'f1'\n",
    "\n",
    "    clf_rfc, pred_rfc = bin_classify(model, clf_rfc, X_train, X_test, y_train, y_test, params=gs_params, score=gs_score)\n",
    "    print('\\nBest Parameters:\\n',clf_rfc)\n",
    "    \n",
    "    metrics(clf_rfc, X_test, y_test, pred_rfc['y_pred'], label)\n",
    "    \n",
    "    return clf_rfc, pred_rfc"
   ]
  },
  {
   "cell_type": "code",
   "execution_count": null,
   "id": "color-israeli",
   "metadata": {
    "ExecuteTime": {
     "end_time": "2021-02-13T14:18:18.781773Z",
     "start_time": "2021-02-13T14:17:58.970Z"
    }
   },
   "outputs": [],
   "source": [
    "def gbc(X_train, X_test, y_train, y_test, label):\n",
    "    model = 'Gradient Boosting Classifier'\n",
    "    clf_gbc = GradientBoostingClassifier(random_state=42)\n",
    "    gs_params = {'learning_rate': [0.001, 0.01, 0.1, 0.5, 1], 'n_estimators': [100, 200, 500, 700]}\n",
    "    gs_score = 'f1'\n",
    "\n",
    "    clf_gbc, pred_gbc= bin_classify(model, clf_gbc, X_train, X_test, y_train, y_test, params=gs_params, score=gs_score)\n",
    "    print('\\nBest Parameters:\\n',clf_gbc)\n",
    "\n",
    "    metrics(clf_gbc, X_test, y_test, pred_gbc['y_pred'], label)\n",
    "    \n",
    "    return clf_gbc, pred_gbc"
   ]
  },
  {
   "cell_type": "code",
   "execution_count": null,
   "id": "regional-white",
   "metadata": {
    "ExecuteTime": {
     "end_time": "2021-02-13T14:18:18.782466Z",
     "start_time": "2021-02-13T14:17:58.973Z"
    }
   },
   "outputs": [],
   "source": [
    "def knn(X_train, X_test, y_train, y_test, label):\n",
    "    model = 'KNN'\n",
    "    clf_knn = KNeighborsClassifier()\n",
    "    gs_params = {'n_neighbors': [5, 7, 10, 15]}\n",
    "    gs_score = 'f1'\n",
    "\n",
    "    clf_knn, pred_knn= bin_classify(model, clf_knn, X_train, X_test, y_train, y_test, params=gs_params, score=gs_score)\n",
    "    print('\\nBest Parameters:\\n',clf_knn)\n",
    "\n",
    "    metrics(clf_knn, X_test, y_test, pred_knn['y_pred'], label)\n",
    "    \n",
    "    return clf_knn, pred_knn"
   ]
  },
  {
   "cell_type": "code",
   "execution_count": null,
   "id": "historic-cabinet",
   "metadata": {
    "ExecuteTime": {
     "end_time": "2021-02-13T14:18:18.783661Z",
     "start_time": "2021-02-13T14:17:58.975Z"
    }
   },
   "outputs": [],
   "source": [
    "def abc(X_train, X_test, y_train, y_test, label):\n",
    "    model = 'AdaBoostClassifier'\n",
    "    clf_abc = AdaBoostClassifier(random_state=42)\n",
    "    gs_params = {'n_estimators': [50, 100, 200, 300, 500]}\n",
    "    gs_score = 'f1'\n",
    "\n",
    "    clf_abc, pred_abc= bin_classify(model, clf_abc, X_train, X_test, y_train, y_test, params=gs_params, score=gs_score)\n",
    "    print('\\nBest Parameters:\\n',clf_abc)\n",
    "\n",
    "    metrics(clf_abc, X_test, y_test, pred_abc['y_pred'], label)\n",
    "    \n",
    "    return clf_abc, pred_abc"
   ]
  },
  {
   "cell_type": "code",
   "execution_count": null,
   "id": "electric-killer",
   "metadata": {
    "ExecuteTime": {
     "end_time": "2021-02-13T14:18:18.784913Z",
     "start_time": "2021-02-13T14:17:58.977Z"
    }
   },
   "outputs": [],
   "source": [
    "def svc(X_train, X_test, y_train, y_test, label):\n",
    "    model = 'SVC'\n",
    "    clf_svc = SVC(random_state=42)\n",
    "    gs_params = {'C': [0.01, 0.1, 1, 1.2], 'kernel': ['linear', 'poly', 'rbf', 'sigmoid'], 'degree': [2,3], 'class_weight': ['balanced', None], 'gamma': ['auto', 'scale']}\n",
    "    gs_score = 'f1'\n",
    "\n",
    "    clf_svc, pred_svc= bin_classify(model, clf_svc, X_train, X_test, y_train, y_test, params=gs_params, score=gs_score)\n",
    "    print('\\nBest Parameters:\\n',clf_svc)\n",
    "\n",
    "    metrics(clf_svc, X_test, y_test, pred_svc['y_pred'], label)\n",
    "    \n",
    "    return clf_svc, pred_svc"
   ]
  },
  {
   "cell_type": "markdown",
   "id": "solar-length",
   "metadata": {},
   "source": [
    "# GENERATOR"
   ]
  },
  {
   "cell_type": "code",
   "execution_count": null,
   "id": "steady-waterproof",
   "metadata": {
    "ExecuteTime": {
     "end_time": "2021-02-13T14:18:18.786020Z",
     "start_time": "2021-02-13T14:17:58.979Z"
    }
   },
   "outputs": [],
   "source": [
    "feat_drop = ['Date', 'TTF', '60_days', '50_days', '40_days', '30_days', '20_days', '10_days', 'Component', 'Turbine_ID']\n",
    "labels = ['60_days', '50_days', '40_days' ,'30_days']"
   ]
  },
  {
   "cell_type": "code",
   "execution_count": null,
   "id": "deluxe-andrews",
   "metadata": {
    "ExecuteTime": {
     "end_time": "2021-02-13T14:18:18.787434Z",
     "start_time": "2021-02-13T14:17:58.992Z"
    }
   },
   "outputs": [],
   "source": [
    "X_train_scale_gen, X_test_scale_gen = scale(df_train_gen, df_test_gen)\n",
    "X_train_gen = df_train_gen.drop(columns=feat_drop)\n",
    "X_test_gen = df_test_gen.drop(columns=feat_drop)\n",
    "for label in labels:\n",
    "    y_train_gen = df_train_gen[label]\n",
    "    y_test_gen = df_test_gen[label]\n",
    "    print(f'Generator {label}')\n",
    "    clf_logreg_gen, pred_logreg_gen = logreg(X_train_gen, X_test_gen, y_train_gen, y_test_gen, label)\n",
    "    clf_rfc_gen, pred_rfc_gen = rfc(X_train_gen, X_test_gen, y_train_gen, y_test_gen, label)\n",
    "    clf_gbc_gen, pred_gbc_gen = gbc(X_train_gen, X_test_gen, y_train_gen, y_test_gen, label)\n",
    "    clf_knn_gen, pred_knn_gen = knn(X_train_scale_gen, X_test_scale_gen, y_train_gen, y_test_gen, label)\n",
    "    clf_abc_gen, pred_abc_gen = abc(X_train_gen, X_test_gen, y_train_gen, y_test_gen, label)\n",
    "    clf_svc_gen, pred_svc_gen = svc(X_train_scale_gen, X_test_scale_gen, y_train_gen, y_test_gen, label)"
   ]
  },
  {
   "cell_type": "markdown",
   "id": "induced-senior",
   "metadata": {},
   "source": [
    "# Hydraulic System"
   ]
  },
  {
   "cell_type": "code",
   "execution_count": null,
   "id": "horizontal-consultation",
   "metadata": {
    "ExecuteTime": {
     "end_time": "2021-02-13T14:18:18.788645Z",
     "start_time": "2021-02-13T14:17:58.994Z"
    }
   },
   "outputs": [],
   "source": [
    "X_train_scale_hyd, X_test_scale_hyd = scale(df_train_hyd, df_test_hyd)\n",
    "X_train_hyd = df_train_hyd.drop(columns=feat_drop)\n",
    "X_test_hyd = df_test_hyd.drop(columns=feat_drop)\n",
    "for label in labels:\n",
    "    y_train_hyd = df_train_hyd[label]\n",
    "    y_test_hyd = df_test_hyd[label]\n",
    "    print(f'Hydraulic {label}')\n",
    "    clf_logreg_hyd, pred_logreg_hyd = logreg(X_train_hyd, X_test_hyd, y_train_hyd, y_test_hyd, label)\n",
    "    clf_rfc_hyd, pred_rfc_hyd = rfc(X_train_hyd, X_test_hyd, y_train_hyd, y_test_hyd, label)\n",
    "    clf_gbc_hyd, pred_gbc_hyd = gbc(X_train_hyd, X_test_hyd, y_train_hyd, y_test_hyd, label)\n",
    "    clf_knn_hyd, pred_knn_hyd = knn(X_train_scale_hyd, X_test_scale_hyd, y_train_hyd, y_test_hyd, label)\n",
    "    clf_abc_hyd, pred_abc_hyd = abc(X_train_hyd, X_test_hyd, y_train_hyd, y_test_hyd, label)\n",
    "    clf_svc_hyd, pred_svc_hyd = svc(X_train_scale_hyd, X_test_scale_hyd, y_train_hyd, y_test_hyd, label)"
   ]
  },
  {
   "cell_type": "markdown",
   "id": "rolled-oxygen",
   "metadata": {},
   "source": [
    "# Transformer"
   ]
  },
  {
   "cell_type": "code",
   "execution_count": null,
   "id": "reported-ownership",
   "metadata": {
    "ExecuteTime": {
     "end_time": "2021-02-13T14:18:18.789777Z",
     "start_time": "2021-02-13T14:17:58.996Z"
    },
    "scrolled": false
   },
   "outputs": [],
   "source": [
    "X_train_scale_transf, X_test_scale_transf = scale(df_train_transf, df_test_transf)\n",
    "X_train_transf = df_train_transf.drop(columns=feat_drop)\n",
    "X_test_transf = df_test_transf.drop(columns=feat_drop)\n",
    "for label in labels:\n",
    "    y_train_transf = df_train_transf[label]\n",
    "    y_test_transf = df_test_transf[label]\n",
    "    print(f'Transformer {label}')\n",
    "    clf_logreg_transf, pred_logreg_transf = logreg(X_train_transf, X_test_transf, y_train_transf, y_test_transf, label)\n",
    "    clf_rfc_transf, pred_rfc_transf = rfc(X_train_transf, X_test_transf, y_train_transf, y_test_transf, label)\n",
    "    clf_gbc_transf, pred_gbc_transf = gbc(X_train_transf, X_test_transf, y_train_transf, y_test_transf, label)\n",
    "    clf_knn_transf, pred_knn_transf = knn(X_train_scale_transf, X_test_scale_transf, y_train_transf, y_test_transf, label)\n",
    "    clf_abc_transf, pred_abc_transf = abc(X_train_transf, X_test_transf, y_train_transf, y_test_transf, label)\n",
    "    clf_svc_transf, pred_svc_transf = svc(X_train_scale_transf, X_test_scale_transf, y_train_transf, y_test_transf, label)"
   ]
  },
  {
   "cell_type": "markdown",
   "id": "hundred-south",
   "metadata": {},
   "source": [
    "# Generator Bearing"
   ]
  },
  {
   "cell_type": "code",
   "execution_count": null,
   "id": "seven-graduation",
   "metadata": {
    "ExecuteTime": {
     "end_time": "2021-02-13T14:18:18.790664Z",
     "start_time": "2021-02-13T14:17:58.998Z"
    },
    "scrolled": false
   },
   "outputs": [],
   "source": [
    "X_train_scale_gen_bear, X_test_scale_gen_bear = scale(df_train_gen_bear, df_test_gen_bear)\n",
    "X_train_gen_bear = df_train_gen_bear.drop(columns=feat_drop)\n",
    "X_test_gen_bear = df_test_gen_bear.drop(columns=feat_drop)\n",
    "for label in labels:\n",
    "    y_train_gen_bear = df_train_gen_bear[label]\n",
    "    y_test_gen_bear = df_test_gen_bear[label]\n",
    "    print(f'Generator Bearing {label}')\n",
    "    clf_logreg_gen_bear, pred_logreg_gen_bear = logreg(X_train_gen_bear, X_test_gen_bear, y_train_gen_bear, y_test_gen_bear, label)\n",
    "    clf_rfc_gen_bear, pred_rfc_gen_bear = rfc(X_train_gen_bear, X_test_gen_bear, y_train_gen_bear, y_test_gen_bear, label)\n",
    "    clf_gbc_gen_bear, pred_gbc_gen_bear = gbc(X_train_gen_bear, X_test_gen_bear, y_train_gen_bear, y_test_gen_bear, label)\n",
    "    clf_knn_gen_bear, pred_knn_gen_bear = knn(X_train_scale_gen_bear, X_test_scale_gen_bear, y_train_gen_bear, y_test_gen_bear, label)\n",
    "    clf_abc_gen_bear, pred_abc_gen_bear = abc(X_train_gen_bear, X_test_gen_bear, y_train_gen_bear, y_test_gen_bear, label)\n",
    "    clf_svc_gen_bear, pred_svc_gen_bear = svc(X_train_scale_gen_bear, X_test_scale_gen_bear, y_train_gen_bear, y_test_gen_bear, label)"
   ]
  },
  {
   "cell_type": "code",
   "execution_count": null,
   "id": "artistic-entity",
   "metadata": {},
   "outputs": [],
   "source": []
  },
  {
   "cell_type": "code",
   "execution_count": null,
   "id": "distributed-vacation",
   "metadata": {},
   "outputs": [],
   "source": []
  },
  {
   "cell_type": "code",
   "execution_count": null,
   "id": "spare-marking",
   "metadata": {},
   "outputs": [],
   "source": []
  },
  {
   "cell_type": "code",
   "execution_count": null,
   "id": "sunset-multimedia",
   "metadata": {},
   "outputs": [],
   "source": []
  },
  {
   "cell_type": "code",
   "execution_count": null,
   "id": "ceramic-syndicate",
   "metadata": {},
   "outputs": [],
   "source": []
  },
  {
   "cell_type": "code",
   "execution_count": null,
   "id": "regional-skill",
   "metadata": {},
   "outputs": [],
   "source": []
  },
  {
   "cell_type": "code",
   "execution_count": null,
   "id": "pretty-chess",
   "metadata": {},
   "outputs": [],
   "source": []
  },
  {
   "cell_type": "code",
   "execution_count": null,
   "id": "suspected-cursor",
   "metadata": {},
   "outputs": [],
   "source": []
  },
  {
   "cell_type": "code",
   "execution_count": null,
   "id": "prescription-negotiation",
   "metadata": {},
   "outputs": [],
   "source": []
  },
  {
   "cell_type": "code",
   "execution_count": null,
   "id": "difficult-burlington",
   "metadata": {},
   "outputs": [],
   "source": []
  },
  {
   "cell_type": "code",
   "execution_count": null,
   "id": "confidential-dollar",
   "metadata": {},
   "outputs": [],
   "source": []
  },
  {
   "cell_type": "code",
   "execution_count": null,
   "id": "confidential-acquisition",
   "metadata": {},
   "outputs": [],
   "source": []
  }
 ],
 "metadata": {
  "kernelspec": {
   "display_name": "Python 3",
   "language": "python",
   "name": "python3"
  },
  "language_info": {
   "codemirror_mode": {
    "name": "ipython",
    "version": 3
   },
   "file_extension": ".py",
   "mimetype": "text/x-python",
   "name": "python",
   "nbconvert_exporter": "python",
   "pygments_lexer": "ipython3",
   "version": "3.7.2"
  }
 },
 "nbformat": 4,
 "nbformat_minor": 5
}
