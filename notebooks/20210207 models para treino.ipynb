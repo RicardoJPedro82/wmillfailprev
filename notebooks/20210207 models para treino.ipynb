{
 "cells": [
  {
   "cell_type": "markdown",
   "metadata": {
    "toc": true
   },
   "source": [
    "<h1>Table of Contents<span class=\"tocSkip\"></span></h1>\n",
    "<div class=\"toc\"><ul class=\"toc-item\"></ul></div>"
   ]
  },
  {
   "cell_type": "code",
   "execution_count": 3,
   "metadata": {
    "ExecuteTime": {
     "end_time": "2021-02-07T20:12:30.055909Z",
     "start_time": "2021-02-07T20:12:30.046344Z"
    }
   },
   "outputs": [],
   "source": [
    "import os\n",
    "import pandas as pd\n",
    "import numpy as np\n",
    "import datetime\n",
    "import seaborn as sns\n",
    "import matplotlib.pyplot as plt\n",
    "from sklearn.preprocessing import StandardScaler\n",
    "from sklearn.preprocessing import MinMaxScaler\n",
    "\n",
    "from sklearn import metrics\n",
    "\n",
    "from sklearn import model_selection\n",
    "\n",
    "from sklearn.linear_model import LogisticRegression\n",
    "from sklearn.ensemble import RandomForestClassifier\n",
    "from sklearn.svm import SVC, LinearSVC\n",
    "from sklearn.tree import DecisionTreeClassifier, export_graphviz\n",
    "from sklearn.neighbors import KNeighborsClassifier\n",
    "from sklearn.naive_bayes import GaussianNB"
   ]
  },
  {
   "cell_type": "code",
   "execution_count": 4,
   "metadata": {
    "ExecuteTime": {
     "end_time": "2021-02-07T20:12:37.413535Z",
     "start_time": "2021-02-07T20:12:30.300418Z"
    }
   },
   "outputs": [],
   "source": [
    "rooth_path = '../rawdata/proc_data/'\n",
    "df_train_gearbox = pd.read_csv(rooth_path + 'df_train_gearbox.csv')\n",
    "df_train_gen = pd.read_csv(rooth_path + 'df_train_gen.csv')\n",
    "df_train_gen_bear = pd.read_csv(rooth_path + 'df_train_gen_bear.csv')\n",
    "df_train_hyd = pd.read_csv(rooth_path + 'df_train_hyd.csv')\n",
    "df_train_transf = pd.read_csv(rooth_path + 'df_train_transf.csv')"
   ]
  },
  {
   "cell_type": "code",
   "execution_count": 5,
   "metadata": {
    "ExecuteTime": {
     "end_time": "2021-02-07T20:12:37.555292Z",
     "start_time": "2021-02-07T20:12:37.413535Z"
    }
   },
   "outputs": [
    {
     "ename": "FileNotFoundError",
     "evalue": "[Errno 2] File b'../rawdata/proc_data/df_test_gen.csv' does not exist: b'../rawdata/proc_data/df_test_gen.csv'",
     "output_type": "error",
     "traceback": [
      "\u001b[1;31m---------------------------------------------------------------------------\u001b[0m",
      "\u001b[1;31mFileNotFoundError\u001b[0m                         Traceback (most recent call last)",
      "\u001b[1;32m<ipython-input-5-53397b88f3f1>\u001b[0m in \u001b[0;36m<module>\u001b[1;34m\u001b[0m\n\u001b[1;32m----> 1\u001b[1;33m \u001b[0mdf_test_gen\u001b[0m \u001b[1;33m=\u001b[0m \u001b[0mpd\u001b[0m\u001b[1;33m.\u001b[0m\u001b[0mread_csv\u001b[0m\u001b[1;33m(\u001b[0m\u001b[0mrooth_path\u001b[0m \u001b[1;33m+\u001b[0m \u001b[1;34m'df_test_gen.csv'\u001b[0m\u001b[1;33m)\u001b[0m\u001b[1;33m\u001b[0m\u001b[1;33m\u001b[0m\u001b[0m\n\u001b[0m\u001b[0;32m      2\u001b[0m \u001b[0mdf_test_gearbox\u001b[0m \u001b[1;33m=\u001b[0m \u001b[0mpd\u001b[0m\u001b[1;33m.\u001b[0m\u001b[0mread_csv\u001b[0m\u001b[1;33m(\u001b[0m\u001b[0mrooth_path\u001b[0m \u001b[1;33m+\u001b[0m \u001b[1;34m'df_test_gearbox.csv'\u001b[0m\u001b[1;33m)\u001b[0m\u001b[1;33m\u001b[0m\u001b[1;33m\u001b[0m\u001b[0m\n\u001b[0;32m      3\u001b[0m \u001b[0mdf_test_gen_bear\u001b[0m \u001b[1;33m=\u001b[0m \u001b[0mpd\u001b[0m\u001b[1;33m.\u001b[0m\u001b[0mread_csv\u001b[0m\u001b[1;33m(\u001b[0m\u001b[0mrooth_path\u001b[0m \u001b[1;33m+\u001b[0m \u001b[1;34m'df_test_gen_bear.csv'\u001b[0m\u001b[1;33m)\u001b[0m\u001b[1;33m\u001b[0m\u001b[1;33m\u001b[0m\u001b[0m\n\u001b[0;32m      4\u001b[0m \u001b[0mdf_test_hyd\u001b[0m \u001b[1;33m=\u001b[0m \u001b[0mpd\u001b[0m\u001b[1;33m.\u001b[0m\u001b[0mread_csv\u001b[0m\u001b[1;33m(\u001b[0m\u001b[0mrooth_path\u001b[0m \u001b[1;33m+\u001b[0m \u001b[1;34m'df_test_hyd.csv'\u001b[0m\u001b[1;33m)\u001b[0m\u001b[1;33m\u001b[0m\u001b[1;33m\u001b[0m\u001b[0m\n\u001b[0;32m      5\u001b[0m \u001b[0mdf_test_transf\u001b[0m \u001b[1;33m=\u001b[0m \u001b[0mpd\u001b[0m\u001b[1;33m.\u001b[0m\u001b[0mread_csv\u001b[0m\u001b[1;33m(\u001b[0m\u001b[0mrooth_path\u001b[0m \u001b[1;33m+\u001b[0m \u001b[1;34m'df_test_transf.csv'\u001b[0m\u001b[1;33m)\u001b[0m\u001b[1;33m\u001b[0m\u001b[1;33m\u001b[0m\u001b[0m\n",
      "\u001b[1;32mc:\\users\\ricar\\.venvs\\lewagon\\lib\\site-packages\\pandas\\io\\parsers.py\u001b[0m in \u001b[0;36mparser_f\u001b[1;34m(filepath_or_buffer, sep, delimiter, header, names, index_col, usecols, squeeze, prefix, mangle_dupe_cols, dtype, engine, converters, true_values, false_values, skipinitialspace, skiprows, skipfooter, nrows, na_values, keep_default_na, na_filter, verbose, skip_blank_lines, parse_dates, infer_datetime_format, keep_date_col, date_parser, dayfirst, iterator, chunksize, compression, thousands, decimal, lineterminator, quotechar, quoting, doublequote, escapechar, comment, encoding, dialect, tupleize_cols, error_bad_lines, warn_bad_lines, delim_whitespace, low_memory, memory_map, float_precision)\u001b[0m\n\u001b[0;32m    700\u001b[0m                     skip_blank_lines=skip_blank_lines)\n\u001b[0;32m    701\u001b[0m \u001b[1;33m\u001b[0m\u001b[0m\n\u001b[1;32m--> 702\u001b[1;33m         \u001b[1;32mreturn\u001b[0m \u001b[0m_read\u001b[0m\u001b[1;33m(\u001b[0m\u001b[0mfilepath_or_buffer\u001b[0m\u001b[1;33m,\u001b[0m \u001b[0mkwds\u001b[0m\u001b[1;33m)\u001b[0m\u001b[1;33m\u001b[0m\u001b[1;33m\u001b[0m\u001b[0m\n\u001b[0m\u001b[0;32m    703\u001b[0m \u001b[1;33m\u001b[0m\u001b[0m\n\u001b[0;32m    704\u001b[0m     \u001b[0mparser_f\u001b[0m\u001b[1;33m.\u001b[0m\u001b[0m__name__\u001b[0m \u001b[1;33m=\u001b[0m \u001b[0mname\u001b[0m\u001b[1;33m\u001b[0m\u001b[1;33m\u001b[0m\u001b[0m\n",
      "\u001b[1;32mc:\\users\\ricar\\.venvs\\lewagon\\lib\\site-packages\\pandas\\io\\parsers.py\u001b[0m in \u001b[0;36m_read\u001b[1;34m(filepath_or_buffer, kwds)\u001b[0m\n\u001b[0;32m    427\u001b[0m \u001b[1;33m\u001b[0m\u001b[0m\n\u001b[0;32m    428\u001b[0m     \u001b[1;31m# Create the parser.\u001b[0m\u001b[1;33m\u001b[0m\u001b[1;33m\u001b[0m\u001b[1;33m\u001b[0m\u001b[0m\n\u001b[1;32m--> 429\u001b[1;33m     \u001b[0mparser\u001b[0m \u001b[1;33m=\u001b[0m \u001b[0mTextFileReader\u001b[0m\u001b[1;33m(\u001b[0m\u001b[0mfilepath_or_buffer\u001b[0m\u001b[1;33m,\u001b[0m \u001b[1;33m**\u001b[0m\u001b[0mkwds\u001b[0m\u001b[1;33m)\u001b[0m\u001b[1;33m\u001b[0m\u001b[1;33m\u001b[0m\u001b[0m\n\u001b[0m\u001b[0;32m    430\u001b[0m \u001b[1;33m\u001b[0m\u001b[0m\n\u001b[0;32m    431\u001b[0m     \u001b[1;32mif\u001b[0m \u001b[0mchunksize\u001b[0m \u001b[1;32mor\u001b[0m \u001b[0miterator\u001b[0m\u001b[1;33m:\u001b[0m\u001b[1;33m\u001b[0m\u001b[1;33m\u001b[0m\u001b[0m\n",
      "\u001b[1;32mc:\\users\\ricar\\.venvs\\lewagon\\lib\\site-packages\\pandas\\io\\parsers.py\u001b[0m in \u001b[0;36m__init__\u001b[1;34m(self, f, engine, **kwds)\u001b[0m\n\u001b[0;32m    893\u001b[0m             \u001b[0mself\u001b[0m\u001b[1;33m.\u001b[0m\u001b[0moptions\u001b[0m\u001b[1;33m[\u001b[0m\u001b[1;34m'has_index_names'\u001b[0m\u001b[1;33m]\u001b[0m \u001b[1;33m=\u001b[0m \u001b[0mkwds\u001b[0m\u001b[1;33m[\u001b[0m\u001b[1;34m'has_index_names'\u001b[0m\u001b[1;33m]\u001b[0m\u001b[1;33m\u001b[0m\u001b[1;33m\u001b[0m\u001b[0m\n\u001b[0;32m    894\u001b[0m \u001b[1;33m\u001b[0m\u001b[0m\n\u001b[1;32m--> 895\u001b[1;33m         \u001b[0mself\u001b[0m\u001b[1;33m.\u001b[0m\u001b[0m_make_engine\u001b[0m\u001b[1;33m(\u001b[0m\u001b[0mself\u001b[0m\u001b[1;33m.\u001b[0m\u001b[0mengine\u001b[0m\u001b[1;33m)\u001b[0m\u001b[1;33m\u001b[0m\u001b[1;33m\u001b[0m\u001b[0m\n\u001b[0m\u001b[0;32m    896\u001b[0m \u001b[1;33m\u001b[0m\u001b[0m\n\u001b[0;32m    897\u001b[0m     \u001b[1;32mdef\u001b[0m \u001b[0mclose\u001b[0m\u001b[1;33m(\u001b[0m\u001b[0mself\u001b[0m\u001b[1;33m)\u001b[0m\u001b[1;33m:\u001b[0m\u001b[1;33m\u001b[0m\u001b[1;33m\u001b[0m\u001b[0m\n",
      "\u001b[1;32mc:\\users\\ricar\\.venvs\\lewagon\\lib\\site-packages\\pandas\\io\\parsers.py\u001b[0m in \u001b[0;36m_make_engine\u001b[1;34m(self, engine)\u001b[0m\n\u001b[0;32m   1120\u001b[0m     \u001b[1;32mdef\u001b[0m \u001b[0m_make_engine\u001b[0m\u001b[1;33m(\u001b[0m\u001b[0mself\u001b[0m\u001b[1;33m,\u001b[0m \u001b[0mengine\u001b[0m\u001b[1;33m=\u001b[0m\u001b[1;34m'c'\u001b[0m\u001b[1;33m)\u001b[0m\u001b[1;33m:\u001b[0m\u001b[1;33m\u001b[0m\u001b[1;33m\u001b[0m\u001b[0m\n\u001b[0;32m   1121\u001b[0m         \u001b[1;32mif\u001b[0m \u001b[0mengine\u001b[0m \u001b[1;33m==\u001b[0m \u001b[1;34m'c'\u001b[0m\u001b[1;33m:\u001b[0m\u001b[1;33m\u001b[0m\u001b[1;33m\u001b[0m\u001b[0m\n\u001b[1;32m-> 1122\u001b[1;33m             \u001b[0mself\u001b[0m\u001b[1;33m.\u001b[0m\u001b[0m_engine\u001b[0m \u001b[1;33m=\u001b[0m \u001b[0mCParserWrapper\u001b[0m\u001b[1;33m(\u001b[0m\u001b[0mself\u001b[0m\u001b[1;33m.\u001b[0m\u001b[0mf\u001b[0m\u001b[1;33m,\u001b[0m \u001b[1;33m**\u001b[0m\u001b[0mself\u001b[0m\u001b[1;33m.\u001b[0m\u001b[0moptions\u001b[0m\u001b[1;33m)\u001b[0m\u001b[1;33m\u001b[0m\u001b[1;33m\u001b[0m\u001b[0m\n\u001b[0m\u001b[0;32m   1123\u001b[0m         \u001b[1;32melse\u001b[0m\u001b[1;33m:\u001b[0m\u001b[1;33m\u001b[0m\u001b[1;33m\u001b[0m\u001b[0m\n\u001b[0;32m   1124\u001b[0m             \u001b[1;32mif\u001b[0m \u001b[0mengine\u001b[0m \u001b[1;33m==\u001b[0m \u001b[1;34m'python'\u001b[0m\u001b[1;33m:\u001b[0m\u001b[1;33m\u001b[0m\u001b[1;33m\u001b[0m\u001b[0m\n",
      "\u001b[1;32mc:\\users\\ricar\\.venvs\\lewagon\\lib\\site-packages\\pandas\\io\\parsers.py\u001b[0m in \u001b[0;36m__init__\u001b[1;34m(self, src, **kwds)\u001b[0m\n\u001b[0;32m   1851\u001b[0m         \u001b[0mkwds\u001b[0m\u001b[1;33m[\u001b[0m\u001b[1;34m'usecols'\u001b[0m\u001b[1;33m]\u001b[0m \u001b[1;33m=\u001b[0m \u001b[0mself\u001b[0m\u001b[1;33m.\u001b[0m\u001b[0musecols\u001b[0m\u001b[1;33m\u001b[0m\u001b[1;33m\u001b[0m\u001b[0m\n\u001b[0;32m   1852\u001b[0m \u001b[1;33m\u001b[0m\u001b[0m\n\u001b[1;32m-> 1853\u001b[1;33m         \u001b[0mself\u001b[0m\u001b[1;33m.\u001b[0m\u001b[0m_reader\u001b[0m \u001b[1;33m=\u001b[0m \u001b[0mparsers\u001b[0m\u001b[1;33m.\u001b[0m\u001b[0mTextReader\u001b[0m\u001b[1;33m(\u001b[0m\u001b[0msrc\u001b[0m\u001b[1;33m,\u001b[0m \u001b[1;33m**\u001b[0m\u001b[0mkwds\u001b[0m\u001b[1;33m)\u001b[0m\u001b[1;33m\u001b[0m\u001b[1;33m\u001b[0m\u001b[0m\n\u001b[0m\u001b[0;32m   1854\u001b[0m         \u001b[0mself\u001b[0m\u001b[1;33m.\u001b[0m\u001b[0munnamed_cols\u001b[0m \u001b[1;33m=\u001b[0m \u001b[0mself\u001b[0m\u001b[1;33m.\u001b[0m\u001b[0m_reader\u001b[0m\u001b[1;33m.\u001b[0m\u001b[0munnamed_cols\u001b[0m\u001b[1;33m\u001b[0m\u001b[1;33m\u001b[0m\u001b[0m\n\u001b[0;32m   1855\u001b[0m \u001b[1;33m\u001b[0m\u001b[0m\n",
      "\u001b[1;32mpandas\\_libs\\parsers.pyx\u001b[0m in \u001b[0;36mpandas._libs.parsers.TextReader.__cinit__\u001b[1;34m()\u001b[0m\n",
      "\u001b[1;32mpandas\\_libs\\parsers.pyx\u001b[0m in \u001b[0;36mpandas._libs.parsers.TextReader._setup_parser_source\u001b[1;34m()\u001b[0m\n",
      "\u001b[1;31mFileNotFoundError\u001b[0m: [Errno 2] File b'../rawdata/proc_data/df_test_gen.csv' does not exist: b'../rawdata/proc_data/df_test_gen.csv'"
     ]
    }
   ],
   "source": [
    "df_test_gen = pd.read_csv(rooth_path + 'df_test_gen.csv')\n",
    "df_test_gearbox = pd.read_csv(rooth_path + 'df_test_gearbox.csv')\n",
    "df_test_gen_bear = pd.read_csv(rooth_path + 'df_test_gen_bear.csv')\n",
    "df_test_hyd = pd.read_csv(rooth_path + 'df_test_hyd.csv')\n",
    "df_test_transf = pd.read_csv(rooth_path + 'df_test_transf.csv')"
   ]
  },
  {
   "cell_type": "code",
   "execution_count": null,
   "metadata": {
    "ExecuteTime": {
     "end_time": "2021-02-07T20:12:37.558284Z",
     "start_time": "2021-02-07T20:12:31.053Z"
    }
   },
   "outputs": [],
   "source": [
    "df_train_gearbox['Timestamp'] = pd.to_datetime(df_train_gearbox['Timestamp'])\n",
    "df_train_gen['Timestamp'] = pd.to_datetime(df_train_gen['Timestamp'])\n",
    "df_train_gen_bear['Timestamp'] = pd.to_datetime(df_train_gen_bear['Timestamp'])\n",
    "df_train_hyd['Timestamp'] = pd.to_datetime(df_train_hyd['Timestamp'])\n",
    "df_train_transf['Timestamp'] = pd.to_datetime(df_train_transf['Timestamp'])\n",
    "df_test_gearbox['Timestamp'] = pd.to_datetime(df_test_gearbox['Timestamp'])\n",
    "df_test_gen['Timestamp'] = pd.to_datetime(df_test_gen['Timestamp'])\n",
    "df_test_gen_bear['Timestamp'] = pd.to_datetime(df_test_gen_bear['Timestamp'])\n",
    "df_test_hyd['Timestamp'] = pd.to_datetime(df_test_hyd['Timestamp'])\n",
    "df_test_transf['Timestamp'] = pd.to_datetime(df_test_transf['Timestamp'])"
   ]
  },
  {
   "cell_type": "code",
   "execution_count": null,
   "metadata": {
    "ExecuteTime": {
     "end_time": "2021-02-07T20:12:37.560280Z",
     "start_time": "2021-02-07T20:12:31.583Z"
    }
   },
   "outputs": [],
   "source": [
    "#Group by day per turbine\n",
    "def group_per_frequency(df, strategy='mean'):\n",
    "    df['Date'] = df['Timestamp'].dt.date\n",
    "    if strategy == 'max':\n",
    "        df = df.groupby(by=['Turbine_ID','Date']).max().reset_index().drop(columns='Timestamp')\n",
    "    else:\n",
    "        df = df.groupby(by=['Turbine_ID','Date']).mean().reset_index()\n",
    "        \n",
    "    return df"
   ]
  },
  {
   "cell_type": "code",
   "execution_count": null,
   "metadata": {
    "ExecuteTime": {
     "end_time": "2021-02-07T20:12:37.561276Z",
     "start_time": "2021-02-07T20:12:31.943Z"
    }
   },
   "outputs": [],
   "source": [
    "df_train_gearbox_day = group_per_frequency(df_train_gearbox)\n",
    "df_train_gen_day = group_per_frequency(df_train_gen)\n",
    "df_train_gen_bear_day = group_per_frequency(df_train_gen_bear)\n",
    "df_train_hyd_day = group_per_frequency(df_train_hyd)\n",
    "df_train_transf_day = group_per_frequency(df_train_transf)\n",
    "df_test_gearbox_day = group_per_frequency(df_test_gearbox)\n",
    "df_test_gen_day = group_per_frequency(df_test_gen)\n",
    "df_test_gen_bear_day = group_per_frequency(df_test_gen_bear)\n",
    "df_test_hyd_day = group_per_frequency(df_test_hyd)\n",
    "df_test_transf_day = group_per_frequency(df_test_transf)"
   ]
  },
  {
   "cell_type": "code",
   "execution_count": null,
   "metadata": {
    "ExecuteTime": {
     "end_time": "2021-02-07T20:12:37.562274Z",
     "start_time": "2021-02-07T20:12:32.138Z"
    }
   },
   "outputs": [],
   "source": [
    "df_train_gen_day['60_days'] = df_train_gen_day['60_days'].round(decimals=0)\n",
    "df_test_gen_day['60_days'] = df_test_gen_day['60_days'].round(decimals=0)"
   ]
  },
  {
   "cell_type": "code",
   "execution_count": null,
   "metadata": {
    "ExecuteTime": {
     "end_time": "2021-02-07T20:12:37.564268Z",
     "start_time": "2021-02-07T20:12:32.421Z"
    }
   },
   "outputs": [],
   "source": [
    "def add_features(df_in, rolling_win_size):\n",
    "    \"\"\"Add rolling average and rolling standard deviation for sensors readings using fixed rolling window size.\n",
    "    Args:\n",
    "            df_in (dataframe)     : The input dataframe to be proccessed (training or test)\n",
    "            rolling_win_size (int): The window size, number of cycles for applying the rolling function\n",
    "    Returns:\n",
    "            dataframe: contains the input dataframe with additional rolling mean and std for each sensor\n",
    "    \"\"\"\n",
    "    \n",
    "    sensor_cols = []\n",
    "    for i in df_in.keys()[2:-5]:\n",
    "        sensor_cols.append(i)\n",
    "    sensor_av_cols = [nm+'_av' for nm in sensor_cols]\n",
    "    sensor_sd_cols = [nm+'_sd' for nm in sensor_cols]\n",
    "    df_out = pd.DataFrame()\n",
    "    ws = rolling_win_size\n",
    "    #calculate rolling stats for each engine id\n",
    "    for m_id in pd.unique(df_in.Turbine_ID):\n",
    "        # get a subset for each engine sensors\n",
    "        df_engine = df_in[df_in['Turbine_ID'] == m_id]\n",
    "        df_sub = df_engine[sensor_cols]\n",
    "        # get rolling mean for the subset\n",
    "        av = df_sub.rolling(ws, min_periods=1).mean()\n",
    "        av.columns = sensor_av_cols\n",
    "        # get the rolling standard deviation for the subset\n",
    "        sd = df_sub.rolling(ws, min_periods=1).std().fillna(0)\n",
    "        sd.columns = sensor_sd_cols\n",
    "        # combine the two new subset dataframes columns to the engine subset\n",
    "        new_ftrs = pd.concat([df_engine,av,sd], axis=1)\n",
    "        # add the new features rows to the output dataframe\n",
    "        df_out = pd.concat([df_out,new_ftrs])\n",
    "    return df_out"
   ]
  },
  {
   "cell_type": "code",
   "execution_count": null,
   "metadata": {
    "ExecuteTime": {
     "end_time": "2021-02-07T20:12:37.565265Z",
     "start_time": "2021-02-07T20:12:33.242Z"
    }
   },
   "outputs": [],
   "source": [
    "df_train_gearbox_extra = add_features(df_train_gearbox_day, 25)\n",
    "df_train_gen_extra = add_features(df_train_gen_day, 25)\n",
    "df_train_gen_bear_extra = add_features(df_train_gen_bear_day, 25)\n",
    "df_train_hyd_extra = add_features(df_train_hyd_day, 25)\n",
    "df_train_transf_extra = add_features(df_train_transf_day, 25)\n",
    "df_test_gearbox_extra = add_features(df_test_gearbox_day, 25)\n",
    "df_test_gen_extra = add_features(df_test_gen_day, 25)\n",
    "df_test_gen_bear_extra = add_features(df_test_gen_bear_day, 25)\n",
    "df_test_hyd_extra = add_features(df_test_hyd_day, 25)\n",
    "df_test_transf_extra = add_features(df_test_transf_day, 25)"
   ]
  },
  {
   "cell_type": "code",
   "execution_count": null,
   "metadata": {
    "ExecuteTime": {
     "end_time": "2021-02-07T20:12:37.566262Z",
     "start_time": "2021-02-07T20:12:33.790Z"
    }
   },
   "outputs": [],
   "source": [
    "df_train_gearbox_extra_feat = ['Turbine_ID', 'Gear_Oil_Temp_Avg_av', 'Gear_Bear_Temp_Avg_av', 'Rtr_RPM_Avg_av',\n",
    "                               'Grd_RtrInvPhase2_Temp_Avg_av', 'Rtr_RPM_Std_av',\n",
    "                               'Amb_WindSpeed_Max_av', 'Amb_WindSpeed_Min_av', 'Amb_WindSpeed_Avg_av',\n",
    "                               'Amb_WindSpeed_Std_av', 'Amb_WindDir_Relative_Avg_av',\n",
    "                               'Amb_WindDir_Abs_Avg_av', 'Amb_Temp_Avg_av', 'Blds_PitchAngle_Avg_av',\n",
    "                               'Blds_PitchAngle_Std_av', 'Cont_Top_Temp_Avg_av',\n",
    "                               'Cont_Hub_Temp_Avg_av', 'Cont_VCP_ChokcoilTemp_Avg_av',\n",
    "                               'Cont_VCP_WtrTemp_Avg_av', 'Nac_Temp_Avg_av', 'Nac_Direction_Avg_av',\n",
    "                               'Hyd_Oil_Temp_Avg_av', 'Gear_Oil_Temp_Avg_sd', 'Gear_Bear_Temp_Avg_sd',\n",
    "                               'Rtr_RPM_Avg_sd', 'Grd_RtrInvPhase2_Temp_Avg_sd', 'Rtr_RPM_Std_sd',\n",
    "                               'Amb_WindSpeed_Max_sd', 'Amb_WindSpeed_Min_sd', 'Amb_WindSpeed_Avg_sd',\n",
    "                               'Amb_WindSpeed_Std_sd', 'Amb_WindDir_Relative_Avg_sd',\n",
    "                               'Amb_WindDir_Abs_Avg_sd', 'Amb_Temp_Avg_sd', 'Blds_PitchAngle_Avg_sd',\n",
    "                               'Blds_PitchAngle_Std_sd', 'Cont_Top_Temp_Avg_sd',\n",
    "                               'Cont_Hub_Temp_Avg_sd', 'Cont_VCP_ChokcoilTemp_Avg_sd',\n",
    "                               'Cont_VCP_WtrTemp_Avg_sd', 'Nac_Temp_Avg_sd', 'Nac_Direction_Avg_sd',\n",
    "                               'Hyd_Oil_Temp_Avg_sd','Component','Date', 'TTF', '60_days', '30_days', '10_days']\n",
    "df_gen_bear_extra_feat = ['Turbine_ID','Gen_RPM_Avg_av', 'Gen_RPM_Std_av',\n",
    "                           'Gen_Bear_Temp_Avg_av', 'Gen_Phase2_Temp_Avg_av',\n",
    "                           'Prod_LatestAvg_ActPwrGen0_av', 'Prod_LatestAvg_ActPwrGen1_av',\n",
    "                           'Prod_LatestAvg_ReactPwrGen0_av', 'Gen_SlipRing_Temp_Avg_av',\n",
    "                           'Gen_Bear2_Temp_Avg_av', 'Grd_RtrInvPhase2_Temp_Avg_av',\n",
    "                           'Amb_WindSpeed_Max_av', 'Amb_WindSpeed_Min_av', 'Amb_WindSpeed_Avg_av',\n",
    "                           'Amb_WindSpeed_Std_av', 'Amb_WindDir_Relative_Avg_av',\n",
    "                           'Amb_WindDir_Abs_Avg_av', 'Amb_Temp_Avg_av', 'Blds_PitchAngle_Avg_av',\n",
    "                           'Blds_PitchAngle_Std_av', 'Cont_Top_Temp_Avg_av',\n",
    "                           'Cont_VCP_ChokcoilTemp_Avg_av', 'Cont_VCP_WtrTemp_Avg_av',\n",
    "                           'Nac_Temp_Avg_av', 'Nac_Direction_Avg_av', 'Grd_Busbar_Temp_Avg_av',\n",
    "                           'Hyd_Oil_Temp_Avg_av', 'Gen_RPM_Avg_sd', 'Gen_RPM_Std_sd',\n",
    "                           'Gen_Bear_Temp_Avg_sd', 'Gen_Phase2_Temp_Avg_sd',\n",
    "                           'Prod_LatestAvg_ActPwrGen0_sd', 'Prod_LatestAvg_ActPwrGen1_sd',\n",
    "                           'Prod_LatestAvg_ReactPwrGen0_sd', 'Gen_SlipRing_Temp_Avg_sd',\n",
    "                           'Gen_Bear2_Temp_Avg_sd', 'Grd_RtrInvPhase2_Temp_Avg_sd',\n",
    "                           'Amb_WindSpeed_Max_sd', 'Amb_WindSpeed_Min_sd', 'Amb_WindSpeed_Avg_sd',\n",
    "                           'Amb_WindSpeed_Std_sd', 'Amb_WindDir_Relative_Avg_sd',\n",
    "                           'Amb_WindDir_Abs_Avg_sd', 'Amb_Temp_Avg_sd', 'Blds_PitchAngle_Avg_sd',\n",
    "                           'Blds_PitchAngle_Std_sd', 'Cont_Top_Temp_Avg_sd',\n",
    "                           'Cont_VCP_ChokcoilTemp_Avg_sd', 'Cont_VCP_WtrTemp_Avg_sd',\n",
    "                           'Nac_Temp_Avg_sd', 'Nac_Direction_Avg_sd', 'Grd_Busbar_Temp_Avg_sd',\n",
    "                           'Hyd_Oil_Temp_Avg_sd', 'Component', 'Date', 'TTF', '60_days', '30_days', '10_days']\n",
    "df_gen_extra_feat = ['Turbine_ID','Gen_RPM_Avg_av', 'Gen_RPM_Std_av',\n",
    "                       'Gen_Bear_Temp_Avg_av', 'Gen_Phase2_Temp_Avg_av',\n",
    "                       'Prod_LatestAvg_ActPwrGen0_av', 'Prod_LatestAvg_ActPwrGen1_av',\n",
    "                       'Prod_LatestAvg_ReactPwrGen0_av', 'Gen_SlipRing_Temp_Avg_av',\n",
    "                       'Gen_Bear2_Temp_Avg_av', 'Grd_RtrInvPhase2_Temp_Avg_av',\n",
    "                       'Amb_WindSpeed_Max_av', 'Amb_WindSpeed_Min_av', 'Amb_WindSpeed_Avg_av',\n",
    "                       'Amb_WindSpeed_Std_av', 'Amb_WindDir_Relative_Avg_av',\n",
    "                       'Amb_WindDir_Abs_Avg_av', 'Amb_Temp_Avg_av', 'Blds_PitchAngle_Avg_av',\n",
    "                       'Blds_PitchAngle_Std_av', 'Cont_Top_Temp_Avg_av',\n",
    "                       'Cont_VCP_ChokcoilTemp_Avg_av', 'Cont_VCP_WtrTemp_Avg_av',\n",
    "                       'Nac_Temp_Avg_av', 'Nac_Direction_Avg_av', 'Grd_Busbar_Temp_Avg_av',\n",
    "                       'Hyd_Oil_Temp_Avg_av', 'Gen_RPM_Avg_sd', 'Gen_RPM_Std_sd',\n",
    "                       'Gen_Bear_Temp_Avg_sd', 'Gen_Phase2_Temp_Avg_sd',\n",
    "                       'Prod_LatestAvg_ActPwrGen0_sd', 'Prod_LatestAvg_ActPwrGen1_sd',\n",
    "                       'Prod_LatestAvg_ReactPwrGen0_sd', 'Gen_SlipRing_Temp_Avg_sd',\n",
    "                       'Gen_Bear2_Temp_Avg_sd', 'Grd_RtrInvPhase2_Temp_Avg_sd',\n",
    "                       'Amb_WindSpeed_Max_sd', 'Amb_WindSpeed_Min_sd', 'Amb_WindSpeed_Avg_sd',\n",
    "                       'Amb_WindSpeed_Std_sd', 'Amb_WindDir_Relative_Avg_sd',\n",
    "                       'Amb_WindDir_Abs_Avg_sd', 'Amb_Temp_Avg_sd', 'Blds_PitchAngle_Avg_sd',\n",
    "                       'Blds_PitchAngle_Std_sd', 'Cont_Top_Temp_Avg_sd',\n",
    "                       'Cont_VCP_ChokcoilTemp_Avg_sd', 'Cont_VCP_WtrTemp_Avg_sd',\n",
    "                       'Nac_Temp_Avg_sd', 'Nac_Direction_Avg_sd', 'Grd_Busbar_Temp_Avg_sd',\n",
    "                       'Hyd_Oil_Temp_Avg_sd', 'Component', 'Date', 'TTF', '60_days', '30_days', '10_days']\n",
    "df_hyd_extra_feat = ['Turbine_ID','Hyd_Oil_Temp_Avg_av', 'Rtr_RPM_Avg_av',\n",
    "                       'Grd_RtrInvPhase2_Temp_Avg_av', 'Rtr_RPM_Std_av',\n",
    "                       'Amb_WindSpeed_Max_av', 'Amb_WindSpeed_Min_av', 'Amb_WindSpeed_Avg_av',\n",
    "                       'Amb_WindSpeed_Std_av', 'Amb_WindDir_Relative_Avg_av',\n",
    "                       'Amb_WindDir_Abs_Avg_av', 'Amb_Temp_Avg_av', 'Blds_PitchAngle_Avg_av',\n",
    "                       'Blds_PitchAngle_Std_av', 'Cont_Top_Temp_Avg_av',\n",
    "                       'Cont_VCP_ChokcoilTemp_Avg_av', 'Cont_VCP_WtrTemp_Avg_av',\n",
    "                       'Nac_Temp_Avg_av', 'Nac_Direction_Avg_av', 'Hyd_Oil_Temp_Avg_sd',\n",
    "                       'Rtr_RPM_Avg_sd', 'Grd_RtrInvPhase2_Temp_Avg_sd', 'Rtr_RPM_Std_sd',\n",
    "                       'Amb_WindSpeed_Max_sd', 'Amb_WindSpeed_Min_sd', 'Amb_WindSpeed_Avg_sd',\n",
    "                       'Amb_WindSpeed_Std_sd', 'Amb_WindDir_Relative_Avg_sd',\n",
    "                       'Amb_WindDir_Abs_Avg_sd', 'Amb_Temp_Avg_sd', 'Blds_PitchAngle_Avg_sd',\n",
    "                       'Blds_PitchAngle_Std_sd', 'Cont_Top_Temp_Avg_sd',\n",
    "                       'Cont_VCP_ChokcoilTemp_Avg_sd', 'Cont_VCP_WtrTemp_Avg_sd',\n",
    "                       'Nac_Temp_Avg_sd', 'Nac_Direction_Avg_sd','Date', 'Component', 'TTF', '60_days', '30_days', '10_days']\n",
    "df_transf_extra_feat = ['Turbine_ID','HVTrafo_Phase2_Temp_Avg_av',\n",
    "                       'Rtr_RPM_Avg_av', 'Grd_RtrInvPhase2_Temp_Avg_av', 'Rtr_RPM_Std_av',\n",
    "                       'Amb_WindSpeed_Max_av', 'Amb_WindSpeed_Min_av', 'Amb_WindSpeed_Avg_av',\n",
    "                       'Amb_WindSpeed_Std_av', 'Amb_WindDir_Relative_Avg_av',\n",
    "                       'Amb_WindDir_Abs_Avg_av', 'Amb_Temp_Avg_av', 'Blds_PitchAngle_Avg_av',\n",
    "                       'Blds_PitchAngle_Std_av', 'Cont_Top_Temp_Avg_av',\n",
    "                       'Cont_Hub_Temp_Avg_av', 'Cont_VCP_ChokcoilTemp_Avg_av',\n",
    "                       'Cont_VCP_WtrTemp_Avg_av', 'Nac_Temp_Avg_av', 'Nac_Direction_Avg_av',\n",
    "                       'Grd_Busbar_Temp_Avg_av', 'Grd_Prod_VoltPhse1_Avg_av',\n",
    "                       'Grd_Prod_VoltPhse2_Avg_av', 'Grd_Prod_VoltPhse3_Avg_av',\n",
    "                       'HVTrafo_Phase2_Temp_Avg_sd', 'Rtr_RPM_Avg_sd',\n",
    "                       'Grd_RtrInvPhase2_Temp_Avg_sd', 'Rtr_RPM_Std_sd',\n",
    "                       'Amb_WindSpeed_Max_sd', 'Amb_WindSpeed_Min_sd', 'Amb_WindSpeed_Avg_sd',\n",
    "                       'Amb_WindSpeed_Std_sd', 'Amb_WindDir_Relative_Avg_sd',\n",
    "                       'Amb_WindDir_Abs_Avg_sd', 'Amb_Temp_Avg_sd', 'Blds_PitchAngle_Avg_sd',\n",
    "                       'Blds_PitchAngle_Std_sd', 'Cont_Top_Temp_Avg_sd',\n",
    "                       'Cont_Hub_Temp_Avg_sd', 'Cont_VCP_ChokcoilTemp_Avg_sd',\n",
    "                       'Cont_VCP_WtrTemp_Avg_sd', 'Nac_Temp_Avg_sd', 'Nac_Direction_Avg_sd',\n",
    "                       'Grd_Busbar_Temp_Avg_sd', 'Grd_Prod_VoltPhse1_Avg_sd',\n",
    "                       'Grd_Prod_VoltPhse2_Avg_sd', 'Grd_Prod_VoltPhse3_Avg_sd','Date', 'Component', 'TTF', '60_days', '30_days', '10_days']"
   ]
  },
  {
   "cell_type": "code",
   "execution_count": null,
   "metadata": {
    "ExecuteTime": {
     "end_time": "2021-02-07T20:12:37.567260Z",
     "start_time": "2021-02-07T20:12:34.330Z"
    }
   },
   "outputs": [],
   "source": [
    "df_gen_train_feat_ext = df_train_gen_extra[df_gen_extra_feat]\n",
    "df_gen_test_feat_ext = df_test_gen_extra[df_gen_extra_feat]"
   ]
  },
  {
   "cell_type": "code",
   "execution_count": null,
   "metadata": {
    "ExecuteTime": {
     "end_time": "2021-02-07T20:12:37.568257Z",
     "start_time": "2021-02-07T20:12:35.670Z"
    }
   },
   "outputs": [],
   "source": [
    "#Standard scaler per Turbine\n",
    "def scale(df_train, df_test, scaler='StandardScaler'):\n",
    "    \n",
    "    X_train = df_train.drop(columns=['Date', 'TTF', '60_days', '30_days', '10_days', 'Component'])\n",
    "    X_test = df_test.drop(columns=['Date', 'TTF', '60_days', '30_days', '10_days', 'Component'])\n",
    "    \n",
    "    X_train1 = X_train.loc[X_train['Turbine_ID']=='T01']\n",
    "    X_test1 = X_test.loc[X_test['Turbine_ID']=='T01']\n",
    "    \n",
    "    X_train1 = X_train1.drop(columns='Turbine_ID')\n",
    "    X_test1 = X_test1.drop(columns='Turbine_ID')\n",
    "    \n",
    "    if scaler == 'MinMaxScaler':\n",
    "        sc = MinMaxScaler()\n",
    "        X_train1 = sc.fit_transform(X_train1)\n",
    "        X_test1 = sc.transform(X_test1)\n",
    "    else:\n",
    "        sc = StandardScaler()\n",
    "        X_train1 = sc.fit_transform(X_train1)\n",
    "        X_test1 = sc.transform(X_test1)\n",
    "    \n",
    "    turbines = ['T06', 'T07', 'T09', 'T11']\n",
    "    for turbine in turbines:\n",
    "        X_train_ = X_train.loc[X_train['Turbine_ID']==turbine]\n",
    "        X_test_ = X_test.loc[X_test['Turbine_ID']==turbine]\n",
    "        \n",
    "        X_train_ = X_train_.drop(columns='Turbine_ID')\n",
    "        X_test_ = X_test_.drop(columns='Turbine_ID')\n",
    "        \n",
    "        if scaler == 'MinMaxScaler':\n",
    "            sc = MinMaxScaler()\n",
    "            X_train_ = sc.fit_transform(X_train_)\n",
    "            X_test_ = sc.transform(X_test_)\n",
    "        else:\n",
    "            sc = StandardScaler()\n",
    "            X_train_ = sc.fit_transform(X_train_)\n",
    "            X_test_ = sc.transform(X_test_)\n",
    "\n",
    "        X_train1 = np.concatenate((X_train1, X_train_))\n",
    "        X_test1 = np.concatenate((X_test1, X_test_))\n",
    "        \n",
    "    return X_train1, X_test1"
   ]
  },
  {
   "cell_type": "code",
   "execution_count": null,
   "metadata": {
    "ExecuteTime": {
     "end_time": "2021-02-07T20:12:37.569255Z",
     "start_time": "2021-02-07T20:12:36.957Z"
    }
   },
   "outputs": [],
   "source": [
    "X_train, X_test = scale(df_gen_train_feat_ext, df_gen_test_feat_ext)"
   ]
  },
  {
   "cell_type": "code",
   "execution_count": 14,
   "metadata": {
    "ExecuteTime": {
     "end_time": "2021-02-06T19:23:24.237206Z",
     "start_time": "2021-02-06T19:23:24.226544Z"
    }
   },
   "outputs": [],
   "source": [
    "y_train = df_gen_train_feat_ext['60_days']\n",
    "y_test = df_gen_test_feat_ext['60_days']"
   ]
  },
  {
   "cell_type": "code",
   "execution_count": 15,
   "metadata": {
    "ExecuteTime": {
     "end_time": "2021-02-06T19:23:24.250853Z",
     "start_time": "2021-02-06T19:23:24.240392Z"
    }
   },
   "outputs": [],
   "source": [
    "def bin_classify(model, clf, X_train, X_test, y_train, y_test, params=None, score=None, ):\n",
    "    \n",
    "    \"\"\"Perfor Grid Search hyper parameter tuning on a classifier.\n",
    "    \n",
    "    Args:\n",
    "        model (str): The model name identifier\n",
    "        clf (clssifier object): The classifier to be tuned\n",
    "        features (list): The set of input features names\n",
    "        params (dict): Grid Search parameters\n",
    "        score (str): Grid Search score\n",
    "        \n",
    "    Returns:\n",
    "        Tuned Clssifier object\n",
    "        dataframe of model predictions and scores\n",
    "    \n",
    "    \"\"\"\n",
    "    \n",
    "    \n",
    "#     X_train = df_train[features]\n",
    "\n",
    "#     X_test = df_test[features] \n",
    "#     y_train = df_train[target]\n",
    "#     y_test = df_test[target]\n",
    "\n",
    "    \n",
    "    grid_search = model_selection.GridSearchCV(estimator=clf, param_grid=params, cv=5, scoring=score, n_jobs=-1)\n",
    "\n",
    "    grid_search.fit(X_train, y_train)\n",
    "    y_pred = grid_search.predict(X_test)\n",
    "    \n",
    "    if hasattr(grid_search, 'predict_proba'):   \n",
    "        y_score = grid_search.predict_proba(X_test)[:,1]\n",
    "    elif hasattr(grid_search, 'decision_function'):\n",
    "        y_score = grid_search.decision_function(X_test)\n",
    "    else:\n",
    "        y_score = y_pred\n",
    "        \n",
    "    predictions = {'y_pred' : y_pred, 'y_score' : y_score}\n",
    "    df_predictions = pd.DataFrame.from_dict(predictions)\n",
    "    \n",
    "    return grid_search.best_estimator_, df_predictions"
   ]
  },
  {
   "cell_type": "code",
   "execution_count": 16,
   "metadata": {
    "ExecuteTime": {
     "end_time": "2021-02-06T19:23:24.276934Z",
     "start_time": "2021-02-06T19:23:24.254941Z"
    }
   },
   "outputs": [],
   "source": [
    "def bin_class_metrics(model, y_test, y_pred, y_score, print_out=True, plot_out=True):\n",
    "    \n",
    "    \"\"\"Calculate main binary classifcation metrics, plot AUC ROC and Precision-Recall curves.\n",
    "    \n",
    "    Args:\n",
    "        model (str): The model name identifier\n",
    "        y_test (series): Contains the test label values\n",
    "        y_pred (series): Contains the predicted values\n",
    "        y_score (series): Contains the predicted scores\n",
    "        print_out (bool): Print the classification metrics and thresholds values\n",
    "        plot_out (bool): Plot AUC ROC, Precision-Recall, and Threshold curves\n",
    "        \n",
    "    Returns:\n",
    "        dataframe: The combined metrics in single dataframe\n",
    "        dataframe: ROC thresholds\n",
    "        dataframe: Precision-Recall thresholds\n",
    "        Plot: AUC ROC\n",
    "        plot: Precision-Recall\n",
    "        plot: Precision-Recall threshold; also show the number of engines predicted for maintenace per period (queue).\n",
    "        plot: TPR-FPR threshold\n",
    "        \n",
    "    \"\"\"\n",
    "\n",
    "    \n",
    "    binclass_metrics = {\n",
    "                        'Accuracy' : metrics.accuracy_score(y_test, y_pred),\n",
    "                        'Precision' : metrics.precision_score(y_test, y_pred),\n",
    "                        'Recall' : metrics.recall_score(y_test, y_pred),\n",
    "                        'F1 Score' : metrics.f1_score(y_test, y_pred),\n",
    "                        'ROC AUC' : metrics.roc_auc_score(y_test, y_score)\n",
    "                       }\n",
    "\n",
    "    df_metrics = pd.DataFrame.from_dict(binclass_metrics, orient='index')\n",
    "    df_metrics.columns = [model]  \n",
    "\n",
    "\n",
    "    fpr, tpr, thresh_roc = metrics.roc_curve(y_test, y_score)\n",
    "    \n",
    "    roc_auc = metrics.auc(fpr, tpr)\n",
    "\n",
    "    engines_roc = []  \n",
    "    for thr in thresh_roc:  \n",
    "        engines_roc.append((y_score >= thr).mean())\n",
    "\n",
    "    engines_roc = np.array(engines_roc)\n",
    "\n",
    "    roc_thresh = {\n",
    "                    'Threshold' : thresh_roc,\n",
    "                    'TPR' : tpr,\n",
    "                    'FPR' : fpr,\n",
    "                    'Que' : engines_roc\n",
    "                 }\n",
    "    \n",
    "    df_roc_thresh = pd.DataFrame.from_dict(roc_thresh)\n",
    "    \n",
    "    #calculate other classification metrics: TP, FP, TN, FN, TNR, FNR\n",
    "    #from ground truth file, positive class = 25 => TP + FN = 25\n",
    "    #from ground truth file, negative class = 75 => TN + FP = 75\n",
    "    \n",
    "    df_roc_thresh['TP'] = (25*df_roc_thresh.TPR).astype(int)\n",
    "    df_roc_thresh['FP'] = (25 - (25*df_roc_thresh.TPR)).astype(int)\n",
    "    df_roc_thresh['TN'] = (75*(1 - df_roc_thresh.FPR)).astype(int)\n",
    "    df_roc_thresh['FN'] = (75 - (75*(1 - df_roc_thresh.FPR))).astype(int)\n",
    "    \n",
    "    df_roc_thresh['TNR'] = df_roc_thresh['TN']/(df_roc_thresh['TN'] + df_roc_thresh['FN'])\n",
    "    df_roc_thresh['FNR'] = df_roc_thresh['TN']/(df_roc_thresh['TN'] + df_roc_thresh['FP'])\n",
    "    \n",
    "    df_roc_thresh['Model'] = model\n",
    "\n",
    "    \n",
    "\n",
    "    precision, recall, thresh_prc = metrics.precision_recall_curve(y_test, y_score)\n",
    "\n",
    "    thresh_prc = np.append(thresh_prc,1)\n",
    "\n",
    "    engines_prc = []  \n",
    "    for thr in thresh_prc:  \n",
    "        engines_prc.append((y_score >= thr).mean())\n",
    "\n",
    "    engines_prc = np.array(engines_prc)\n",
    "\n",
    "    prc_thresh = {\n",
    "                    'Threshold' : thresh_prc,\n",
    "                    'Precision' : precision,\n",
    "                    'Recall' : recall,\n",
    "                    'Que' : engines_prc\n",
    "                 }\n",
    "\n",
    "    df_prc_thresh = pd.DataFrame.from_dict(prc_thresh)\n",
    "\n",
    "    if print_out:\n",
    "        print('-----------------------------------------------------------')\n",
    "        print(model, '\\n')\n",
    "        print('Confusion Matrix:')\n",
    "        print(metrics.confusion_matrix(y_test, y_pred))\n",
    "        print('\\nClassification Report:')\n",
    "        print(metrics.classification_report(y_test, y_pred))\n",
    "        print('\\nMetrics:')\n",
    "        print(df_metrics)\n",
    "\n",
    "        print('\\nROC Thresholds:\\n')\n",
    "        print(df_roc_thresh[['Threshold', 'TP', 'FP', 'TN', 'FN', 'TPR', 'FPR', 'TNR','FNR', 'Que']])\n",
    "\n",
    "        print('\\nPrecision-Recall Thresholds:\\n')\n",
    "        print(df_prc_thresh[['Threshold', 'Precision', 'Recall', 'Que']])\n",
    "\n",
    "    if plot_out:\n",
    "        fig, ((ax1, ax2), (ax3, ax4)) = plt.subplots(nrows=2, ncols=2, sharex=False, sharey=False )\n",
    "        fig.set_size_inches(10,10)\n",
    "\n",
    "        ax1.plot(fpr, tpr, color='darkorange', lw=2, label='AUC = %0.2f'% roc_auc)\n",
    "        ax1.plot([0, 1], [0, 1], color='navy', lw=2, linestyle='--')\n",
    "        ax1.set_xlim([-0.05, 1.0])\n",
    "        ax1.set_ylim([0.0, 1.05])\n",
    "        ax1.set_xlabel('False Positive Rate')\n",
    "        ax1.set_ylabel('True Positive Rate')\n",
    "        ax1.legend(loc=\"lower right\", fontsize='small')\n",
    "\n",
    "        ax2.plot(recall, precision, color='blue', lw=2, label='Precision-Recall curve')\n",
    "        ax2.set_xlim([0.0, 1.0])\n",
    "        ax2.set_ylim([0.0, 1.05])\n",
    "        ax2.set_xlabel('Recall')\n",
    "        ax2.set_ylabel('Precision')\n",
    "        ax2.legend(loc=\"lower left\", fontsize='small')\n",
    "\n",
    "        ax3.plot(thresh_roc, fpr, color='red', lw=2, label='FPR')  \n",
    "        ax3.plot(thresh_roc, tpr, color='green',label='TPR') \n",
    "        ax3.plot(thresh_roc, engines_roc, color='blue',label='Engines') \n",
    "        ax3.set_ylim([0.0, 1.05])\n",
    "        ax3.set_xlabel('Threshold')  \n",
    "        ax3.set_ylabel('%')\n",
    "        ax3.legend(loc='upper right', fontsize='small')\n",
    "\n",
    "        ax4.plot(thresh_prc, precision, color='red', lw=2, label='Precision')  \n",
    "        ax4.plot(thresh_prc, recall, color='green',label='Recall') \n",
    "        ax4.plot(thresh_prc, engines_prc, color='blue',label='Engines') \n",
    "        ax4.set_ylim([0.0, 1.05])\n",
    "        ax4.set_xlabel('Threshold')  \n",
    "        ax4.set_ylabel('%')\n",
    "        ax4.legend(loc='lower left', fontsize='small')\n",
    "\n",
    "    return  df_metrics, df_roc_thresh, df_prc_thresh"
   ]
  },
  {
   "cell_type": "code",
   "execution_count": 17,
   "metadata": {
    "ExecuteTime": {
     "end_time": "2021-02-06T19:23:27.606091Z",
     "start_time": "2021-02-06T19:23:24.282970Z"
    }
   },
   "outputs": [
    {
     "name": "stdout",
     "output_type": "stream",
     "text": [
      "\n",
      "Best Parameters:\n",
      " LogisticRegression(random_state=42, solver='liblinear')\n"
     ]
    }
   ],
   "source": [
    "#def bin_classify(model, clf, features,target, df_train, df_test ,params=None, score=None, ):\n",
    "model = 'Logistic Regression'\n",
    "clf_LogReg = LogisticRegression(random_state=42)\n",
    "gs_params = {'C': [.01, 0.1, 1.0, 10], 'solver': ['liblinear', 'lbfgs']}\n",
    "gs_score = 'roc_auc'\n",
    "\n",
    "clf_LogReg, pred_LogReg = bin_classify(model, clf_LogReg, X_train, X_test, y_train, y_test, params=gs_params, score=gs_score)\n",
    "print('\\nBest Parameters:\\n',clf_LogReg)\n",
    "\n"
   ]
  },
  {
   "cell_type": "code",
   "execution_count": 18,
   "metadata": {
    "ExecuteTime": {
     "end_time": "2021-02-06T19:23:27.700800Z",
     "start_time": "2021-02-06T19:23:27.622505Z"
    }
   },
   "outputs": [
    {
     "data": {
      "text/html": [
       "<div>\n",
       "<style scoped>\n",
       "    .dataframe tbody tr th:only-of-type {\n",
       "        vertical-align: middle;\n",
       "    }\n",
       "\n",
       "    .dataframe tbody tr th {\n",
       "        vertical-align: top;\n",
       "    }\n",
       "\n",
       "    .dataframe thead th {\n",
       "        text-align: right;\n",
       "    }\n",
       "</style>\n",
       "<table border=\"1\" class=\"dataframe\">\n",
       "  <thead>\n",
       "    <tr style=\"text-align: right;\">\n",
       "      <th></th>\n",
       "      <th>y_pred</th>\n",
       "      <th>y_score</th>\n",
       "    </tr>\n",
       "  </thead>\n",
       "  <tbody>\n",
       "    <tr>\n",
       "      <th>0</th>\n",
       "      <td>0.0</td>\n",
       "      <td>1.442630e-02</td>\n",
       "    </tr>\n",
       "    <tr>\n",
       "      <th>1</th>\n",
       "      <td>0.0</td>\n",
       "      <td>2.183332e-07</td>\n",
       "    </tr>\n",
       "    <tr>\n",
       "      <th>2</th>\n",
       "      <td>0.0</td>\n",
       "      <td>2.370932e-02</td>\n",
       "    </tr>\n",
       "    <tr>\n",
       "      <th>3</th>\n",
       "      <td>0.0</td>\n",
       "      <td>4.234352e-02</td>\n",
       "    </tr>\n",
       "    <tr>\n",
       "      <th>4</th>\n",
       "      <td>0.0</td>\n",
       "      <td>4.282510e-02</td>\n",
       "    </tr>\n",
       "    <tr>\n",
       "      <th>...</th>\n",
       "      <td>...</td>\n",
       "      <td>...</td>\n",
       "    </tr>\n",
       "    <tr>\n",
       "      <th>460</th>\n",
       "      <td>0.0</td>\n",
       "      <td>1.039077e-08</td>\n",
       "    </tr>\n",
       "    <tr>\n",
       "      <th>461</th>\n",
       "      <td>0.0</td>\n",
       "      <td>1.007000e-07</td>\n",
       "    </tr>\n",
       "    <tr>\n",
       "      <th>462</th>\n",
       "      <td>0.0</td>\n",
       "      <td>3.314646e-07</td>\n",
       "    </tr>\n",
       "    <tr>\n",
       "      <th>463</th>\n",
       "      <td>0.0</td>\n",
       "      <td>6.131844e-07</td>\n",
       "    </tr>\n",
       "    <tr>\n",
       "      <th>464</th>\n",
       "      <td>0.0</td>\n",
       "      <td>3.105675e-07</td>\n",
       "    </tr>\n",
       "  </tbody>\n",
       "</table>\n",
       "<p>465 rows × 2 columns</p>\n",
       "</div>"
      ],
      "text/plain": [
       "     y_pred       y_score\n",
       "0       0.0  1.442630e-02\n",
       "1       0.0  2.183332e-07\n",
       "2       0.0  2.370932e-02\n",
       "3       0.0  4.234352e-02\n",
       "4       0.0  4.282510e-02\n",
       "..      ...           ...\n",
       "460     0.0  1.039077e-08\n",
       "461     0.0  1.007000e-07\n",
       "462     0.0  3.314646e-07\n",
       "463     0.0  6.131844e-07\n",
       "464     0.0  3.105675e-07\n",
       "\n",
       "[465 rows x 2 columns]"
      ]
     },
     "execution_count": 18,
     "metadata": {},
     "output_type": "execute_result"
    }
   ],
   "source": [
    "pred_LogReg"
   ]
  },
  {
   "cell_type": "code",
   "execution_count": 19,
   "metadata": {
    "ExecuteTime": {
     "end_time": "2021-02-06T19:23:28.602052Z",
     "start_time": "2021-02-06T19:23:27.709719Z"
    }
   },
   "outputs": [
    {
     "name": "stdout",
     "output_type": "stream",
     "text": [
      "-----------------------------------------------------------\n",
      "Logistic Regression \n",
      "\n",
      "Confusion Matrix:\n",
      "[[398   8]\n",
      " [ 59   0]]\n",
      "\n",
      "Classification Report:\n",
      "              precision    recall  f1-score   support\n",
      "\n",
      "         0.0       0.87      0.98      0.92       406\n",
      "         1.0       0.00      0.00      0.00        59\n",
      "\n",
      "    accuracy                           0.86       465\n",
      "   macro avg       0.44      0.49      0.46       465\n",
      "weighted avg       0.76      0.86      0.81       465\n",
      "\n",
      "\n",
      "Metrics:\n",
      "           Logistic Regression\n",
      "Accuracy              0.855914\n",
      "Precision             0.000000\n",
      "Recall                0.000000\n",
      "F1 Score              0.000000\n",
      "ROC AUC               0.303415\n",
      "\n",
      "ROC Thresholds:\n",
      "\n",
      "       Threshold  TP  FP  TN  FN       TPR       FPR       TNR       FNR  \\\n",
      "0   1.996487e+00   0  25  75   0  0.000000  0.000000  1.000000  0.750000   \n",
      "1   9.964868e-01   0  25  74   0  0.000000  0.002463  1.000000  0.747475   \n",
      "2   2.369537e-03   0  25  35  39  0.000000  0.532020  0.472973  0.583333   \n",
      "3   2.352622e-03   0  24  35  39  0.016949  0.532020  0.472973  0.593220   \n",
      "4   1.858829e-03   0  24  33  41  0.016949  0.549261  0.445946  0.578947   \n",
      "..           ...  ..  ..  ..  ..       ...       ...       ...       ...   \n",
      "66  2.605091e-06  24   0  13  61  0.966102  0.820197  0.175676  1.000000   \n",
      "67  2.439116e-06  24   0  13  61  0.983051  0.820197  0.175676  1.000000   \n",
      "68  1.859765e-06  24   0  11  63  0.983051  0.844828  0.148649  1.000000   \n",
      "69  1.851919e-06  25   0  11  63  1.000000  0.844828  0.148649  1.000000   \n",
      "70  2.070513e-11  25   0   0  75  1.000000  1.000000  0.000000       NaN   \n",
      "\n",
      "         Que  \n",
      "0   0.000000  \n",
      "1   0.002151  \n",
      "2   0.464516  \n",
      "3   0.466667  \n",
      "4   0.481720  \n",
      "..       ...  \n",
      "66  0.838710  \n",
      "67  0.840860  \n",
      "68  0.862366  \n",
      "69  0.864516  \n",
      "70  1.000000  \n",
      "\n",
      "[71 rows x 10 columns]\n",
      "\n",
      "Precision-Recall Thresholds:\n",
      "\n",
      "     Threshold  Precision    Recall       Que\n",
      "0     0.000002   0.146766  1.000000  0.864516\n",
      "1     0.000002   0.144638  0.983051  0.862366\n",
      "2     0.000002   0.145000  0.983051  0.860215\n",
      "3     0.000002   0.145363  0.983051  0.858065\n",
      "4     0.000002   0.145729  0.983051  0.855914\n",
      "..         ...        ...       ...       ...\n",
      "398   0.988695   0.000000  0.000000  0.008602\n",
      "399   0.991090   0.000000  0.000000  0.006452\n",
      "400   0.996224   0.000000  0.000000  0.004301\n",
      "401   0.996487   0.000000  0.000000  0.002151\n",
      "402   1.000000   1.000000  0.000000  0.000000\n",
      "\n",
      "[403 rows x 4 columns]\n"
     ]
    },
    {
     "data": {
      "image/png": "[encoded data removed]",
      "text/plain": [
       "<Figure size 720x720 with 4 Axes>"
      ]
     },
     "metadata": {
      "needs_background": "light"
     },
     "output_type": "display_data"
    }
   ],
   "source": [
    "metrics_LogReg, roc_LogReg, prc_LogReg = bin_class_metrics(model, y_test, pred_LogReg.y_pred, pred_LogReg.y_score, print_out=True, plot_out=True)"
   ]
  },
  {
   "cell_type": "code",
   "execution_count": 20,
   "metadata": {
    "ExecuteTime": {
     "end_time": "2021-02-06T19:23:28.620469Z",
     "start_time": "2021-02-06T19:23:28.605786Z"
    }
   },
   "outputs": [
    {
     "data": {
      "text/plain": [
       "0.0    406\n",
       "1.0     59\n",
       "Name: 60_days, dtype: int64"
      ]
     },
     "execution_count": 20,
     "metadata": {},
     "output_type": "execute_result"
    }
   ],
   "source": [
    "y_test.value_counts()"
   ]
  },
  {
   "cell_type": "code",
   "execution_count": 21,
   "metadata": {
    "ExecuteTime": {
     "end_time": "2021-02-06T19:23:28.633624Z",
     "start_time": "2021-02-06T19:23:28.624739Z"
    }
   },
   "outputs": [
    {
     "data": {
      "text/plain": [
       "0.0    457\n",
       "1.0      8\n",
       "Name: y_pred, dtype: int64"
      ]
     },
     "execution_count": 21,
     "metadata": {},
     "output_type": "execute_result"
    }
   ],
   "source": [
    "pred_LogReg.y_pred.value_counts()"
   ]
  },
  {
   "cell_type": "code",
   "execution_count": 22,
   "metadata": {
    "ExecuteTime": {
     "end_time": "2021-02-06T19:23:28.651330Z",
     "start_time": "2021-02-06T19:23:28.636050Z"
    }
   },
   "outputs": [],
   "source": [
    "model = 'Random Forest B'\n",
    "clf_rfcb = RandomForestClassifier(n_estimators=50, random_state=42)\n",
    "gs_params = {'max_depth': [4, 5, 6, 7, 8], 'criterion': ['gini', 'entropy']}\n",
    "gs_score = 'roc_auc'"
   ]
  },
  {
   "cell_type": "code",
   "execution_count": 23,
   "metadata": {
    "ExecuteTime": {
     "end_time": "2021-02-06T19:23:36.575593Z",
     "start_time": "2021-02-06T19:23:28.657245Z"
    }
   },
   "outputs": [
    {
     "name": "stdout",
     "output_type": "stream",
     "text": [
      "\n",
      "Best Parameters:\n",
      " RandomForestClassifier(criterion='entropy', max_depth=5, n_estimators=50,\n",
      "                       random_state=42)\n"
     ]
    }
   ],
   "source": [
    "clf_rfcb, pred_rfcb = bin_classify(model, clf_rfcb, X_train, X_test, y_train, y_test, params=gs_params, score=gs_score)\n",
    "print('\\nBest Parameters:\\n',clf_rfcb)"
   ]
  },
  {
   "cell_type": "code",
   "execution_count": 24,
   "metadata": {
    "ExecuteTime": {
     "end_time": "2021-02-06T19:23:37.854198Z",
     "start_time": "2021-02-06T19:23:36.584704Z"
    }
   },
   "outputs": [
    {
     "name": "stderr",
     "output_type": "stream",
     "text": [
      "/home/guilherme/.pyenv/versions/3.7.2/lib/python3.7/site-packages/sklearn/metrics/_classification.py:1245: UndefinedMetricWarning: Precision is ill-defined and being set to 0.0 due to no predicted samples. Use `zero_division` parameter to control this behavior.\n",
      "  _warn_prf(average, modifier, msg_start, len(result))\n"
     ]
    },
    {
     "name": "stdout",
     "output_type": "stream",
     "text": [
      "-----------------------------------------------------------\n",
      "Random Forest B \n",
      "\n",
      "Confusion Matrix:\n",
      "[[406   0]\n",
      " [ 59   0]]\n",
      "\n",
      "Classification Report:\n",
      "              precision    recall  f1-score   support\n",
      "\n",
      "         0.0       0.87      1.00      0.93       406\n",
      "         1.0       0.00      0.00      0.00        59\n",
      "\n",
      "    accuracy                           0.87       465\n",
      "   macro avg       0.44      0.50      0.47       465\n",
      "weighted avg       0.76      0.87      0.81       465\n",
      "\n",
      "\n",
      "Metrics:\n",
      "           Random Forest B\n",
      "Accuracy          0.873118\n",
      "Precision         0.000000\n",
      "Recall            0.000000\n",
      "F1 Score          0.000000\n",
      "ROC AUC           0.476037\n",
      "\n",
      "ROC Thresholds:\n",
      "\n",
      "     Threshold  TP  FP  TN  FN       TPR       FPR       TNR       FNR  \\\n",
      "0     1.415938   0  25  75   0  0.000000  0.000000  1.000000  0.750000   \n",
      "1     0.415938   0  25  74   0  0.000000  0.002463  1.000000  0.747475   \n",
      "2     0.411463   0  25  74   0  0.000000  0.004926  1.000000  0.747475   \n",
      "3     0.402576   0  24  74   0  0.016949  0.004926  1.000000  0.755102   \n",
      "4     0.381498   0  24  73   1  0.016949  0.024631  0.986486  0.752577   \n",
      "..         ...  ..  ..  ..  ..       ...       ...       ...       ...   \n",
      "132   0.031891  25   0   2  72  1.000000  0.967980  0.027027  1.000000   \n",
      "133   0.031783  25   0   1  73  1.000000  0.975369  0.013514  1.000000   \n",
      "134   0.025911  25   0   0  74  1.000000  0.990148  0.000000       NaN   \n",
      "135   0.025841  25   0   0  74  1.000000  0.995074  0.000000       NaN   \n",
      "136   0.015992  25   0   0  75  1.000000  1.000000  0.000000       NaN   \n",
      "\n",
      "          Que  \n",
      "0    0.000000  \n",
      "1    0.002151  \n",
      "2    0.004301  \n",
      "3    0.006452  \n",
      "4    0.023656  \n",
      "..        ...  \n",
      "132  0.972043  \n",
      "133  0.978495  \n",
      "134  0.991398  \n",
      "135  0.995699  \n",
      "136  1.000000  \n",
      "\n",
      "[137 rows x 10 columns]\n",
      "\n",
      "Precision-Recall Thresholds:\n",
      "\n",
      "     Threshold  Precision    Recall       Que\n",
      "0     0.065825   0.146040  1.000000  0.868817\n",
      "1     0.070137   0.143921  0.983051  0.866667\n",
      "2     0.070398   0.144279  0.983051  0.864516\n",
      "3     0.073451   0.144638  0.983051  0.862366\n",
      "4     0.075054   0.145000  0.983051  0.860215\n",
      "..         ...        ...       ...       ...\n",
      "373   0.396638   0.250000  0.016949  0.008602\n",
      "374   0.402576   0.333333  0.016949  0.006452\n",
      "375   0.411463   0.000000  0.000000  0.004301\n",
      "376   0.415938   0.000000  0.000000  0.002151\n",
      "377   1.000000   1.000000  0.000000  0.000000\n",
      "\n",
      "[378 rows x 4 columns]\n"
     ]
    },
    {
     "name": "stderr",
     "output_type": "stream",
     "text": [
      "/home/guilherme/.pyenv/versions/3.7.2/lib/python3.7/site-packages/sklearn/metrics/_classification.py:1245: UndefinedMetricWarning: Precision and F-score are ill-defined and being set to 0.0 in labels with no predicted samples. Use `zero_division` parameter to control this behavior.\n",
      "  _warn_prf(average, modifier, msg_start, len(result))\n",
      "/home/guilherme/.pyenv/versions/3.7.2/lib/python3.7/site-packages/sklearn/metrics/_classification.py:1245: UndefinedMetricWarning: Precision and F-score are ill-defined and being set to 0.0 in labels with no predicted samples. Use `zero_division` parameter to control this behavior.\n",
      "  _warn_prf(average, modifier, msg_start, len(result))\n",
      "/home/guilherme/.pyenv/versions/3.7.2/lib/python3.7/site-packages/sklearn/metrics/_classification.py:1245: UndefinedMetricWarning: Precision and F-score are ill-defined and being set to 0.0 in labels with no predicted samples. Use `zero_division` parameter to control this behavior.\n",
      "  _warn_prf(average, modifier, msg_start, len(result))\n"
     ]
    },
    {
     "data": {
      "image/png": "[encoded data removed]",
      "text/plain": [
       "<Figure size 720x720 with 4 Axes>"
      ]
     },
     "metadata": {
      "needs_background": "light"
     },
     "output_type": "display_data"
    }
   ],
   "source": [
    "metrics_rfcb, roc_rfcb, prc_rfcb = bin_class_metrics(model, y_test, pred_rfcb.y_pred, pred_rfcb.y_score, print_out=True, plot_out=True)"
   ]
  },
  {
   "cell_type": "code",
   "execution_count": 25,
   "metadata": {
    "ExecuteTime": {
     "end_time": "2021-02-06T19:23:38.255529Z",
     "start_time": "2021-02-06T19:23:37.859056Z"
    }
   },
   "outputs": [
    {
     "data": {
      "text/plain": [
       "<AxesSubplot:xlabel='y_score', ylabel='Count'>"
      ]
     },
     "execution_count": 25,
     "metadata": {},
     "output_type": "execute_result"
    },
    {
     "data": {
      "image/png": "[encoded data removed]",
      "text/plain": [
       "<Figure size 432x288 with 1 Axes>"
      ]
     },
     "metadata": {
      "needs_background": "light"
     },
     "output_type": "display_data"
    }
   ],
   "source": [
    "sns.histplot(pred_rfcb['y_score'])"
   ]
  },
  {
   "cell_type": "code",
   "execution_count": 32,
   "metadata": {
    "ExecuteTime": {
     "end_time": "2021-02-06T19:24:40.908340Z",
     "start_time": "2021-02-06T19:24:40.891287Z"
    }
   },
   "outputs": [
    {
     "data": {
      "text/html": [
       "<div>\n",
       "<style scoped>\n",
       "    .dataframe tbody tr th:only-of-type {\n",
       "        vertical-align: middle;\n",
       "    }\n",
       "\n",
       "    .dataframe tbody tr th {\n",
       "        vertical-align: top;\n",
       "    }\n",
       "\n",
       "    .dataframe thead th {\n",
       "        text-align: right;\n",
       "    }\n",
       "</style>\n",
       "<table border=\"1\" class=\"dataframe\">\n",
       "  <thead>\n",
       "    <tr style=\"text-align: right;\">\n",
       "      <th></th>\n",
       "      <th>y_pred</th>\n",
       "      <th>y_score</th>\n",
       "    </tr>\n",
       "  </thead>\n",
       "  <tbody>\n",
       "    <tr>\n",
       "      <th>190</th>\n",
       "      <td>0.0</td>\n",
       "      <td>0.088607</td>\n",
       "    </tr>\n",
       "    <tr>\n",
       "      <th>191</th>\n",
       "      <td>0.0</td>\n",
       "      <td>0.060861</td>\n",
       "    </tr>\n",
       "    <tr>\n",
       "      <th>192</th>\n",
       "      <td>0.0</td>\n",
       "      <td>0.060513</td>\n",
       "    </tr>\n",
       "    <tr>\n",
       "      <th>193</th>\n",
       "      <td>0.0</td>\n",
       "      <td>0.281611</td>\n",
       "    </tr>\n",
       "    <tr>\n",
       "      <th>194</th>\n",
       "      <td>0.0</td>\n",
       "      <td>0.108575</td>\n",
       "    </tr>\n",
       "    <tr>\n",
       "      <th>195</th>\n",
       "      <td>0.0</td>\n",
       "      <td>0.079336</td>\n",
       "    </tr>\n",
       "    <tr>\n",
       "      <th>196</th>\n",
       "      <td>0.0</td>\n",
       "      <td>0.296698</td>\n",
       "    </tr>\n",
       "    <tr>\n",
       "      <th>197</th>\n",
       "      <td>0.0</td>\n",
       "      <td>0.324287</td>\n",
       "    </tr>\n",
       "    <tr>\n",
       "      <th>198</th>\n",
       "      <td>0.0</td>\n",
       "      <td>0.201681</td>\n",
       "    </tr>\n",
       "    <tr>\n",
       "      <th>199</th>\n",
       "      <td>0.0</td>\n",
       "      <td>0.319123</td>\n",
       "    </tr>\n",
       "    <tr>\n",
       "      <th>200</th>\n",
       "      <td>0.0</td>\n",
       "      <td>0.258955</td>\n",
       "    </tr>\n",
       "    <tr>\n",
       "      <th>201</th>\n",
       "      <td>0.0</td>\n",
       "      <td>0.162615</td>\n",
       "    </tr>\n",
       "    <tr>\n",
       "      <th>202</th>\n",
       "      <td>0.0</td>\n",
       "      <td>0.126473</td>\n",
       "    </tr>\n",
       "    <tr>\n",
       "      <th>203</th>\n",
       "      <td>0.0</td>\n",
       "      <td>0.319443</td>\n",
       "    </tr>\n",
       "    <tr>\n",
       "      <th>204</th>\n",
       "      <td>0.0</td>\n",
       "      <td>0.359238</td>\n",
       "    </tr>\n",
       "    <tr>\n",
       "      <th>205</th>\n",
       "      <td>0.0</td>\n",
       "      <td>0.359238</td>\n",
       "    </tr>\n",
       "    <tr>\n",
       "      <th>206</th>\n",
       "      <td>0.0</td>\n",
       "      <td>0.218221</td>\n",
       "    </tr>\n",
       "    <tr>\n",
       "      <th>207</th>\n",
       "      <td>0.0</td>\n",
       "      <td>0.377273</td>\n",
       "    </tr>\n",
       "    <tr>\n",
       "      <th>208</th>\n",
       "      <td>0.0</td>\n",
       "      <td>0.402576</td>\n",
       "    </tr>\n",
       "    <tr>\n",
       "      <th>209</th>\n",
       "      <td>0.0</td>\n",
       "      <td>0.331099</td>\n",
       "    </tr>\n",
       "  </tbody>\n",
       "</table>\n",
       "</div>"
      ],
      "text/plain": [
       "     y_pred   y_score\n",
       "190     0.0  0.088607\n",
       "191     0.0  0.060861\n",
       "192     0.0  0.060513\n",
       "193     0.0  0.281611\n",
       "194     0.0  0.108575\n",
       "195     0.0  0.079336\n",
       "196     0.0  0.296698\n",
       "197     0.0  0.324287\n",
       "198     0.0  0.201681\n",
       "199     0.0  0.319123\n",
       "200     0.0  0.258955\n",
       "201     0.0  0.162615\n",
       "202     0.0  0.126473\n",
       "203     0.0  0.319443\n",
       "204     0.0  0.359238\n",
       "205     0.0  0.359238\n",
       "206     0.0  0.218221\n",
       "207     0.0  0.377273\n",
       "208     0.0  0.402576\n",
       "209     0.0  0.331099"
      ]
     },
     "execution_count": 32,
     "metadata": {},
     "output_type": "execute_result"
    }
   ],
   "source": [
    "pred_rfcb.iloc[190:210]"
   ]
  },
  {
   "cell_type": "code",
   "execution_count": 27,
   "metadata": {
    "ExecuteTime": {
     "end_time": "2021-02-06T19:23:38.297335Z",
     "start_time": "2021-02-06T19:23:38.280796Z"
    }
   },
   "outputs": [],
   "source": [
    "temp = y_test.to_frame()"
   ]
  },
  {
   "cell_type": "code",
   "execution_count": 28,
   "metadata": {
    "ExecuteTime": {
     "end_time": "2021-02-06T19:23:38.338928Z",
     "start_time": "2021-02-06T19:23:38.301077Z"
    }
   },
   "outputs": [
    {
     "data": {
      "text/html": [
       "<div>\n",
       "<style scoped>\n",
       "    .dataframe tbody tr th:only-of-type {\n",
       "        vertical-align: middle;\n",
       "    }\n",
       "\n",
       "    .dataframe tbody tr th {\n",
       "        vertical-align: top;\n",
       "    }\n",
       "\n",
       "    .dataframe thead th {\n",
       "        text-align: right;\n",
       "    }\n",
       "</style>\n",
       "<table border=\"1\" class=\"dataframe\">\n",
       "  <thead>\n",
       "    <tr style=\"text-align: right;\">\n",
       "      <th></th>\n",
       "      <th>60_days</th>\n",
       "    </tr>\n",
       "  </thead>\n",
       "  <tbody>\n",
       "    <tr>\n",
       "      <th>207</th>\n",
       "      <td>1.0</td>\n",
       "    </tr>\n",
       "    <tr>\n",
       "      <th>208</th>\n",
       "      <td>1.0</td>\n",
       "    </tr>\n",
       "    <tr>\n",
       "      <th>209</th>\n",
       "      <td>1.0</td>\n",
       "    </tr>\n",
       "    <tr>\n",
       "      <th>210</th>\n",
       "      <td>1.0</td>\n",
       "    </tr>\n",
       "    <tr>\n",
       "      <th>211</th>\n",
       "      <td>1.0</td>\n",
       "    </tr>\n",
       "    <tr>\n",
       "      <th>212</th>\n",
       "      <td>1.0</td>\n",
       "    </tr>\n",
       "    <tr>\n",
       "      <th>213</th>\n",
       "      <td>1.0</td>\n",
       "    </tr>\n",
       "    <tr>\n",
       "      <th>214</th>\n",
       "      <td>1.0</td>\n",
       "    </tr>\n",
       "    <tr>\n",
       "      <th>215</th>\n",
       "      <td>1.0</td>\n",
       "    </tr>\n",
       "    <tr>\n",
       "      <th>216</th>\n",
       "      <td>1.0</td>\n",
       "    </tr>\n",
       "    <tr>\n",
       "      <th>217</th>\n",
       "      <td>1.0</td>\n",
       "    </tr>\n",
       "    <tr>\n",
       "      <th>218</th>\n",
       "      <td>1.0</td>\n",
       "    </tr>\n",
       "    <tr>\n",
       "      <th>219</th>\n",
       "      <td>1.0</td>\n",
       "    </tr>\n",
       "    <tr>\n",
       "      <th>220</th>\n",
       "      <td>1.0</td>\n",
       "    </tr>\n",
       "    <tr>\n",
       "      <th>221</th>\n",
       "      <td>1.0</td>\n",
       "    </tr>\n",
       "    <tr>\n",
       "      <th>222</th>\n",
       "      <td>1.0</td>\n",
       "    </tr>\n",
       "    <tr>\n",
       "      <th>223</th>\n",
       "      <td>1.0</td>\n",
       "    </tr>\n",
       "    <tr>\n",
       "      <th>224</th>\n",
       "      <td>1.0</td>\n",
       "    </tr>\n",
       "    <tr>\n",
       "      <th>225</th>\n",
       "      <td>1.0</td>\n",
       "    </tr>\n",
       "    <tr>\n",
       "      <th>226</th>\n",
       "      <td>1.0</td>\n",
       "    </tr>\n",
       "    <tr>\n",
       "      <th>227</th>\n",
       "      <td>1.0</td>\n",
       "    </tr>\n",
       "    <tr>\n",
       "      <th>228</th>\n",
       "      <td>1.0</td>\n",
       "    </tr>\n",
       "    <tr>\n",
       "      <th>229</th>\n",
       "      <td>1.0</td>\n",
       "    </tr>\n",
       "    <tr>\n",
       "      <th>230</th>\n",
       "      <td>1.0</td>\n",
       "    </tr>\n",
       "    <tr>\n",
       "      <th>231</th>\n",
       "      <td>1.0</td>\n",
       "    </tr>\n",
       "    <tr>\n",
       "      <th>232</th>\n",
       "      <td>1.0</td>\n",
       "    </tr>\n",
       "    <tr>\n",
       "      <th>233</th>\n",
       "      <td>1.0</td>\n",
       "    </tr>\n",
       "    <tr>\n",
       "      <th>234</th>\n",
       "      <td>1.0</td>\n",
       "    </tr>\n",
       "    <tr>\n",
       "      <th>235</th>\n",
       "      <td>1.0</td>\n",
       "    </tr>\n",
       "    <tr>\n",
       "      <th>236</th>\n",
       "      <td>1.0</td>\n",
       "    </tr>\n",
       "    <tr>\n",
       "      <th>237</th>\n",
       "      <td>1.0</td>\n",
       "    </tr>\n",
       "    <tr>\n",
       "      <th>238</th>\n",
       "      <td>1.0</td>\n",
       "    </tr>\n",
       "    <tr>\n",
       "      <th>239</th>\n",
       "      <td>1.0</td>\n",
       "    </tr>\n",
       "    <tr>\n",
       "      <th>240</th>\n",
       "      <td>1.0</td>\n",
       "    </tr>\n",
       "    <tr>\n",
       "      <th>241</th>\n",
       "      <td>1.0</td>\n",
       "    </tr>\n",
       "    <tr>\n",
       "      <th>242</th>\n",
       "      <td>1.0</td>\n",
       "    </tr>\n",
       "    <tr>\n",
       "      <th>243</th>\n",
       "      <td>1.0</td>\n",
       "    </tr>\n",
       "    <tr>\n",
       "      <th>244</th>\n",
       "      <td>1.0</td>\n",
       "    </tr>\n",
       "    <tr>\n",
       "      <th>245</th>\n",
       "      <td>1.0</td>\n",
       "    </tr>\n",
       "    <tr>\n",
       "      <th>246</th>\n",
       "      <td>1.0</td>\n",
       "    </tr>\n",
       "    <tr>\n",
       "      <th>247</th>\n",
       "      <td>1.0</td>\n",
       "    </tr>\n",
       "    <tr>\n",
       "      <th>248</th>\n",
       "      <td>1.0</td>\n",
       "    </tr>\n",
       "    <tr>\n",
       "      <th>249</th>\n",
       "      <td>1.0</td>\n",
       "    </tr>\n",
       "    <tr>\n",
       "      <th>250</th>\n",
       "      <td>1.0</td>\n",
       "    </tr>\n",
       "    <tr>\n",
       "      <th>251</th>\n",
       "      <td>1.0</td>\n",
       "    </tr>\n",
       "    <tr>\n",
       "      <th>252</th>\n",
       "      <td>1.0</td>\n",
       "    </tr>\n",
       "    <tr>\n",
       "      <th>253</th>\n",
       "      <td>1.0</td>\n",
       "    </tr>\n",
       "    <tr>\n",
       "      <th>254</th>\n",
       "      <td>1.0</td>\n",
       "    </tr>\n",
       "    <tr>\n",
       "      <th>255</th>\n",
       "      <td>1.0</td>\n",
       "    </tr>\n",
       "    <tr>\n",
       "      <th>256</th>\n",
       "      <td>1.0</td>\n",
       "    </tr>\n",
       "    <tr>\n",
       "      <th>257</th>\n",
       "      <td>1.0</td>\n",
       "    </tr>\n",
       "    <tr>\n",
       "      <th>258</th>\n",
       "      <td>1.0</td>\n",
       "    </tr>\n",
       "    <tr>\n",
       "      <th>259</th>\n",
       "      <td>1.0</td>\n",
       "    </tr>\n",
       "    <tr>\n",
       "      <th>260</th>\n",
       "      <td>1.0</td>\n",
       "    </tr>\n",
       "    <tr>\n",
       "      <th>261</th>\n",
       "      <td>1.0</td>\n",
       "    </tr>\n",
       "    <tr>\n",
       "      <th>262</th>\n",
       "      <td>1.0</td>\n",
       "    </tr>\n",
       "    <tr>\n",
       "      <th>263</th>\n",
       "      <td>1.0</td>\n",
       "    </tr>\n",
       "    <tr>\n",
       "      <th>264</th>\n",
       "      <td>1.0</td>\n",
       "    </tr>\n",
       "    <tr>\n",
       "      <th>265</th>\n",
       "      <td>1.0</td>\n",
       "    </tr>\n",
       "  </tbody>\n",
       "</table>\n",
       "</div>"
      ],
      "text/plain": [
       "     60_days\n",
       "207      1.0\n",
       "208      1.0\n",
       "209      1.0\n",
       "210      1.0\n",
       "211      1.0\n",
       "212      1.0\n",
       "213      1.0\n",
       "214      1.0\n",
       "215      1.0\n",
       "216      1.0\n",
       "217      1.0\n",
       "218      1.0\n",
       "219      1.0\n",
       "220      1.0\n",
       "221      1.0\n",
       "222      1.0\n",
       "223      1.0\n",
       "224      1.0\n",
       "225      1.0\n",
       "226      1.0\n",
       "227      1.0\n",
       "228      1.0\n",
       "229      1.0\n",
       "230      1.0\n",
       "231      1.0\n",
       "232      1.0\n",
       "233      1.0\n",
       "234      1.0\n",
       "235      1.0\n",
       "236      1.0\n",
       "237      1.0\n",
       "238      1.0\n",
       "239      1.0\n",
       "240      1.0\n",
       "241      1.0\n",
       "242      1.0\n",
       "243      1.0\n",
       "244      1.0\n",
       "245      1.0\n",
       "246      1.0\n",
       "247      1.0\n",
       "248      1.0\n",
       "249      1.0\n",
       "250      1.0\n",
       "251      1.0\n",
       "252      1.0\n",
       "253      1.0\n",
       "254      1.0\n",
       "255      1.0\n",
       "256      1.0\n",
       "257      1.0\n",
       "258      1.0\n",
       "259      1.0\n",
       "260      1.0\n",
       "261      1.0\n",
       "262      1.0\n",
       "263      1.0\n",
       "264      1.0\n",
       "265      1.0"
      ]
     },
     "execution_count": 28,
     "metadata": {},
     "output_type": "execute_result"
    }
   ],
   "source": [
    "temp[temp['60_days'] == 1]"
   ]
  },
  {
   "cell_type": "code",
   "execution_count": null,
   "metadata": {},
   "outputs": [],
   "source": []
  }
 ],
 "metadata": {
  "kernelspec": {
   "display_name": "Python 3",
   "language": "python",
   "name": "python3"
  },
  "language_info": {
   "codemirror_mode": {
    "name": "ipython",
    "version": 3
   },
   "file_extension": ".py",
   "mimetype": "text/x-python",
   "name": "python",
   "nbconvert_exporter": "python",
   "pygments_lexer": "ipython3",
   "version": "3.7.7"
  },
  "toc": {
   "base_numbering": 1,
   "nav_menu": {},
   "number_sections": true,
   "sideBar": true,
   "skip_h1_title": false,
   "title_cell": "Table of Contents",
   "title_sidebar": "Contents",
   "toc_cell": true,
   "toc_position": {},
   "toc_section_display": true,
   "toc_window_display": false
  }
 },
 "nbformat": 4,
 "nbformat_minor": 5
}
