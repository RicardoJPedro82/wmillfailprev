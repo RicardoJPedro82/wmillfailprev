{
 "cells": [
  {
   "cell_type": "markdown",
   "metadata": {
    "toc": true
   },
   "source": [
    "<h1>Table of Contents<span class=\"tocSkip\"></span></h1>\n",
    "<div class=\"toc\"><ul class=\"toc-item\"></ul></div>"
   ]
  },
  {
   "cell_type": "markdown",
   "metadata": {},
   "source": [
    "# Importar os módulos"
   ]
  },
  {
   "cell_type": "code",
   "execution_count": 1,
   "metadata": {
    "ExecuteTime": {
     "end_time": "2021-02-08T20:13:02.177463Z",
     "start_time": "2021-02-08T20:12:58.944909Z"
    }
   },
   "outputs": [],
   "source": [
    "%load_ext autoreload\n",
    "%autoreload 2\n",
    "import os\n",
    "import pandas as pd\n",
    "import numpy as np\n",
    "import datetime\n",
    "import seaborn as sns\n",
    "import matplotlib.pyplot as plt\n",
    "plt.style.use('ggplot')\n",
    "%matplotlib inline  \n",
    "import Dataset_transf as dprep\n",
    "from sklearn.preprocessing import OneHotEncoder\n",
    "from sklearn.preprocessing import StandardScaler\n",
    "\n",
    "\n",
    "from sklearn import metrics\n",
    "\n",
    "from sklearn import model_selection\n",
    "\n",
    "from sklearn.linear_model import LogisticRegression\n",
    "from sklearn.ensemble import RandomForestClassifier\n",
    "from sklearn.svm import SVC, LinearSVC\n",
    "from sklearn.tree import DecisionTreeClassifier, export_graphviz\n",
    "from sklearn.neighbors import KNeighborsClassifier\n",
    "from sklearn.naive_bayes import GaussianNB\n",
    "from sklearn.metrics import roc_auc_score, accuracy_score, log_loss, roc_curve, precision_score, recall_score,confusion_matrix,f1_score,fbeta_score, make_scorer\n"
   ]
  },
  {
   "cell_type": "markdown",
   "metadata": {},
   "source": [
    "# Obter os dataframes dos ficheiros"
   ]
  },
  {
   "cell_type": "code",
   "execution_count": 2,
   "metadata": {
    "ExecuteTime": {
     "end_time": "2021-02-08T20:14:02.560316Z",
     "start_time": "2021-02-08T20:13:02.182450Z"
    }
   },
   "outputs": [],
   "source": [
    "failures_df, signals_df, logs_df = dprep.get_data()"
   ]
  },
  {
   "cell_type": "code",
   "execution_count": 3,
   "metadata": {
    "ExecuteTime": {
     "end_time": "2021-02-08T20:14:02.702984Z",
     "start_time": "2021-02-08T20:14:02.565326Z"
    }
   },
   "outputs": [],
   "source": [
    "df_list = [failures_df, signals_df, logs_df]"
   ]
  },
  {
   "cell_type": "markdown",
   "metadata": {},
   "source": [
    "# Criação de datasets de components"
   ]
  },
  {
   "cell_type": "code",
   "execution_count": 4,
   "metadata": {
    "ExecuteTime": {
     "end_time": "2021-02-08T20:14:03.153992Z",
     "start_time": "2021-02-08T20:14:02.705954Z"
    }
   },
   "outputs": [],
   "source": [
    "df_generator, df_gen_bear, df_transformer, df_hydraulic, df_gearbox = dprep.component_df_creation(signals_df)"
   ]
  },
  {
   "cell_type": "code",
   "execution_count": 5,
   "metadata": {
    "ExecuteTime": {
     "end_time": "2021-02-08T20:14:03.264695Z",
     "start_time": "2021-02-08T20:14:03.156984Z"
    }
   },
   "outputs": [],
   "source": [
    "comp_df_list = [df_generator, df_hydraulic, df_gen_bear, df_transformer,  df_gearbox]"
   ]
  },
  {
   "cell_type": "code",
   "execution_count": 6,
   "metadata": {
    "ExecuteTime": {
     "end_time": "2021-02-08T20:14:03.374402Z",
     "start_time": "2021-02-08T20:14:03.266690Z"
    }
   },
   "outputs": [
    {
     "name": "stdout",
     "output_type": "stream",
     "text": [
      "(434145, 45)\n",
      "(434145, 31)\n",
      "(434145, 45)\n",
      "(434145, 36)\n",
      "(434145, 33)\n"
     ]
    }
   ],
   "source": [
    "for i in comp_df_list:\n",
    "    print(i.shape)"
   ]
  },
  {
   "cell_type": "code",
   "execution_count": 7,
   "metadata": {
    "ExecuteTime": {
     "end_time": "2021-02-08T20:14:03.500066Z",
     "start_time": "2021-02-08T20:14:03.377395Z"
    }
   },
   "outputs": [
    {
     "data": {
      "text/plain": [
       "array(['GENERATOR', 'HYDRAULIC_GROUP', 'GENERATOR_BEARING', 'TRANSFORMER',\n",
       "       'GEARBOX'], dtype=object)"
      ]
     },
     "execution_count": 7,
     "metadata": {},
     "output_type": "execute_result"
    }
   ],
   "source": [
    "component_list = failures_df.Component.unique()\n",
    "component_list"
   ]
  },
  {
   "cell_type": "markdown",
   "metadata": {},
   "source": [
    "# Merge dos DF com o DF de failures"
   ]
  },
  {
   "cell_type": "code",
   "execution_count": 8,
   "metadata": {
    "ExecuteTime": {
     "end_time": "2021-02-08T20:14:09.330085Z",
     "start_time": "2021-02-08T20:14:03.504057Z"
    }
   },
   "outputs": [],
   "source": [
    "for i in range(len(component_list)):\n",
    "    comp_df_list[i] = dprep.sig_fail_merge_dfs(sig_df=comp_df_list[i],\n",
    "                                               fail_df=failures_df,\n",
    "                                               component=component_list[i])"
   ]
  },
  {
   "cell_type": "code",
   "execution_count": 9,
   "metadata": {
    "ExecuteTime": {
     "end_time": "2021-02-08T20:14:09.454270Z",
     "start_time": "2021-02-08T20:14:09.334076Z"
    }
   },
   "outputs": [
    {
     "name": "stdout",
     "output_type": "stream",
     "text": [
      "(434147, 46)\n",
      "(434145, 32)\n",
      "(434145, 46)\n",
      "(434145, 37)\n",
      "(434145, 34)\n"
     ]
    }
   ],
   "source": [
    "for i in comp_df_list:\n",
    "    print(i.shape)"
   ]
  },
  {
   "cell_type": "markdown",
   "metadata": {},
   "source": [
    "# Fillna by turbine"
   ]
  },
  {
   "cell_type": "code",
   "execution_count": 10,
   "metadata": {
    "ExecuteTime": {
     "end_time": "2021-02-08T20:14:09.579935Z",
     "start_time": "2021-02-08T20:14:09.457261Z"
    }
   },
   "outputs": [
    {
     "data": {
      "text/plain": [
       "array(['T11', 'T06', 'T01', 'T09', 'T07'], dtype=object)"
      ]
     },
     "execution_count": 10,
     "metadata": {},
     "output_type": "execute_result"
    }
   ],
   "source": [
    "turbine_list = signals_df.Turbine_ID.unique()\n",
    "turbine_list"
   ]
  },
  {
   "cell_type": "code",
   "execution_count": 11,
   "metadata": {
    "ExecuteTime": {
     "end_time": "2021-02-08T20:14:22.406437Z",
     "start_time": "2021-02-08T20:14:09.581928Z"
    }
   },
   "outputs": [
    {
     "name": "stderr",
     "output_type": "stream",
     "text": [
      "C:\\Users\\ricar\\code\\RicardoJPedro82\\wmillfailprev\\notebooks\\Dataset_transf.py:157: SettingWithCopyWarning: \n",
      "A value is trying to be set on a copy of a slice from a DataFrame.\n",
      "Try using .loc[row_indexer,col_indexer] = value instead\n",
      "\n",
      "See the caveats in the documentation: http://pandas.pydata.org/pandas-docs/stable/indexing.html#indexing-view-versus-copy\n",
      "  index['date'] = index['Timestamp']\n",
      "C:\\Users\\ricar\\code\\RicardoJPedro82\\wmillfailprev\\notebooks\\Dataset_transf.py:178: FutureWarning: Sorting because non-concatenation axis is not aligned. A future version\n",
      "of pandas will change to not sort by default.\n",
      "\n",
      "To accept the future behavior, pass 'sort=False'.\n",
      "\n",
      "To retain the current behavior and silence the warning, pass 'sort=True'.\n",
      "\n",
      "  df_ = pd.concat([df_, df_final])\n",
      "C:\\Users\\ricar\\code\\RicardoJPedro82\\wmillfailprev\\notebooks\\Dataset_transf.py:170: SettingWithCopyWarning: \n",
      "A value is trying to be set on a copy of a slice from a DataFrame.\n",
      "Try using .loc[row_indexer,col_indexer] = value instead\n",
      "\n",
      "See the caveats in the documentation: http://pandas.pydata.org/pandas-docs/stable/indexing.html#indexing-view-versus-copy\n",
      "  df_merged['date'] = df_merged['Timestamp']\n",
      "C:\\Users\\ricar\\code\\RicardoJPedro82\\wmillfailprev\\notebooks\\Dataset_transf.py:171: SettingWithCopyWarning: \n",
      "A value is trying to be set on a copy of a slice from a DataFrame.\n",
      "Try using .loc[row_indexer,col_indexer] = value instead\n",
      "\n",
      "See the caveats in the documentation: http://pandas.pydata.org/pandas-docs/stable/indexing.html#indexing-view-versus-copy\n",
      "  df_merged['TTF'] = 0 # df_merged['date'] - df_merged['Timestamp']\n"
     ]
    }
   ],
   "source": [
    "for i in range(len(component_list)):\n",
    "    comp_df_list[i] = dprep.fill_na_by_turbine(comp_df_list[i], turbine_list)"
   ]
  },
  {
   "cell_type": "code",
   "execution_count": 12,
   "metadata": {
    "ExecuteTime": {
     "end_time": "2021-02-08T20:14:22.530119Z",
     "start_time": "2021-02-08T20:14:22.411415Z"
    }
   },
   "outputs": [
    {
     "name": "stdout",
     "output_type": "stream",
     "text": [
      "(434147, 47)\n",
      "(434145, 33)\n",
      "(434145, 47)\n",
      "(434145, 38)\n",
      "(434145, 35)\n"
     ]
    }
   ],
   "source": [
    "for i in comp_df_list:\n",
    "    print(i.shape)"
   ]
  },
  {
   "cell_type": "markdown",
   "metadata": {},
   "source": [
    "# Criação de Variável alvo"
   ]
  },
  {
   "cell_type": "code",
   "execution_count": 13,
   "metadata": {
    "ExecuteTime": {
     "end_time": "2021-02-08T20:14:25.527753Z",
     "start_time": "2021-02-08T20:14:22.533111Z"
    }
   },
   "outputs": [
    {
     "name": "stdout",
     "output_type": "stream",
     "text": [
      "0    47\n",
      "dtype: int64\n",
      "0    33\n",
      "dtype: int64\n",
      "0    47\n",
      "dtype: int64\n",
      "0    38\n",
      "dtype: int64\n",
      "0    35\n",
      "dtype: int64\n"
     ]
    }
   ],
   "source": [
    "for i in range(len(comp_df_list)):\n",
    "    print(comp_df_list[i].isna().sum().value_counts())"
   ]
  },
  {
   "cell_type": "code",
   "execution_count": 14,
   "metadata": {
    "ExecuteTime": {
     "end_time": "2021-02-08T20:14:25.636460Z",
     "start_time": "2021-02-08T20:14:25.529747Z"
    }
   },
   "outputs": [],
   "source": [
    "days_list = [60,30,10]"
   ]
  },
  {
   "cell_type": "code",
   "execution_count": 15,
   "metadata": {
    "ExecuteTime": {
     "end_time": "2021-02-08T20:17:15.773571Z",
     "start_time": "2021-02-08T20:14:25.638456Z"
    }
   },
   "outputs": [],
   "source": [
    "for day in days_list:\n",
    "    for i in range(len(comp_df_list)):\n",
    "        comp_df_list[i] = dprep.aplic_var_target(comp_df_list[i], day)"
   ]
  },
  {
   "cell_type": "code",
   "execution_count": 16,
   "metadata": {
    "ExecuteTime": {
     "end_time": "2021-02-08T20:17:15.929781Z",
     "start_time": "2021-02-08T20:17:15.776561Z"
    }
   },
   "outputs": [
    {
     "name": "stdout",
     "output_type": "stream",
     "text": [
      "(434147, 50)\n",
      "(434145, 36)\n",
      "(434145, 50)\n",
      "(434145, 41)\n",
      "(434145, 38)\n"
     ]
    }
   ],
   "source": [
    "for i in comp_df_list:\n",
    "    print(i.shape)"
   ]
  },
  {
   "cell_type": "markdown",
   "metadata": {},
   "source": [
    "# Feature selection"
   ]
  },
  {
   "cell_type": "code",
   "execution_count": 17,
   "metadata": {
    "ExecuteTime": {
     "end_time": "2021-02-08T20:17:16.086364Z",
     "start_time": "2021-02-08T20:17:15.932773Z"
    }
   },
   "outputs": [
    {
     "name": "stdout",
     "output_type": "stream",
     "text": [
      "Index(['Amb_Temp_Avg', 'Amb_WindDir_Abs_Avg', 'Amb_WindDir_Relative_Avg',\n",
      "       'Amb_WindSpeed_Avg', 'Amb_WindSpeed_Est_Avg', 'Amb_WindSpeed_Max',\n",
      "       'Amb_WindSpeed_Min', 'Amb_WindSpeed_Std', 'Blds_PitchAngle_Avg',\n",
      "       'Blds_PitchAngle_Max', 'Blds_PitchAngle_Min', 'Blds_PitchAngle_Std',\n",
      "       'Component', 'Cont_Hub_Temp_Avg', 'Cont_Top_Temp_Avg',\n",
      "       'Cont_VCP_ChokcoilTemp_Avg', 'Cont_VCP_Temp_Avg',\n",
      "       'Cont_VCP_WtrTemp_Avg', 'Gen_Bear2_Temp_Avg', 'Gen_Bear_Temp_Avg',\n",
      "       'Gen_Phase1_Temp_Avg', 'Gen_Phase2_Temp_Avg', 'Gen_Phase3_Temp_Avg',\n",
      "       'Gen_RPM_Avg', 'Gen_RPM_Max', 'Gen_RPM_Min', 'Gen_RPM_Std',\n",
      "       'Gen_SlipRing_Temp_Avg', 'Grd_Busbar_Temp_Avg',\n",
      "       'Grd_RtrInvPhase1_Temp_Avg', 'Grd_RtrInvPhase2_Temp_Avg',\n",
      "       'Grd_RtrInvPhase3_Temp_Avg', 'Hyd_Oil_Temp_Avg', 'Nac_Direction_Avg',\n",
      "       'Nac_Temp_Avg', 'Prod_LatestAvg_ActPwrGen0',\n",
      "       'Prod_LatestAvg_ActPwrGen1', 'Prod_LatestAvg_ReactPwrGen0',\n",
      "       'Prod_LatestAvg_ReactPwrGen1', 'Rtr_RPM_Avg', 'Rtr_RPM_Max',\n",
      "       'Rtr_RPM_Min', 'Rtr_RPM_Std', 'Spin_Temp_Avg', 'TTF', 'Timestamp',\n",
      "       'Turbine_ID', '60_days', '30_days', '10_days'],\n",
      "      dtype='object')\n",
      "Index(['Amb_Temp_Avg', 'Amb_WindDir_Abs_Avg', 'Amb_WindDir_Relative_Avg',\n",
      "       'Amb_WindSpeed_Avg', 'Amb_WindSpeed_Est_Avg', 'Amb_WindSpeed_Max',\n",
      "       'Amb_WindSpeed_Min', 'Amb_WindSpeed_Std', 'Blds_PitchAngle_Avg',\n",
      "       'Blds_PitchAngle_Max', 'Blds_PitchAngle_Min', 'Blds_PitchAngle_Std',\n",
      "       'Component', 'Cont_Hub_Temp_Avg', 'Cont_Top_Temp_Avg',\n",
      "       'Cont_VCP_ChokcoilTemp_Avg', 'Cont_VCP_Temp_Avg',\n",
      "       'Cont_VCP_WtrTemp_Avg', 'Grd_Busbar_Temp_Avg',\n",
      "       'Grd_RtrInvPhase1_Temp_Avg', 'Grd_RtrInvPhase2_Temp_Avg',\n",
      "       'Grd_RtrInvPhase3_Temp_Avg', 'Hyd_Oil_Temp_Avg', 'Nac_Direction_Avg',\n",
      "       'Nac_Temp_Avg', 'Rtr_RPM_Avg', 'Rtr_RPM_Max', 'Rtr_RPM_Min',\n",
      "       'Rtr_RPM_Std', 'Spin_Temp_Avg', 'TTF', 'Timestamp', 'Turbine_ID',\n",
      "       '60_days', '30_days', '10_days'],\n",
      "      dtype='object')\n",
      "Index(['Amb_Temp_Avg', 'Amb_WindDir_Abs_Avg', 'Amb_WindDir_Relative_Avg',\n",
      "       'Amb_WindSpeed_Avg', 'Amb_WindSpeed_Est_Avg', 'Amb_WindSpeed_Max',\n",
      "       'Amb_WindSpeed_Min', 'Amb_WindSpeed_Std', 'Blds_PitchAngle_Avg',\n",
      "       'Blds_PitchAngle_Max', 'Blds_PitchAngle_Min', 'Blds_PitchAngle_Std',\n",
      "       'Component', 'Cont_Hub_Temp_Avg', 'Cont_Top_Temp_Avg',\n",
      "       'Cont_VCP_ChokcoilTemp_Avg', 'Cont_VCP_Temp_Avg',\n",
      "       'Cont_VCP_WtrTemp_Avg', 'Gen_Bear2_Temp_Avg', 'Gen_Bear_Temp_Avg',\n",
      "       'Gen_Phase1_Temp_Avg', 'Gen_Phase2_Temp_Avg', 'Gen_Phase3_Temp_Avg',\n",
      "       'Gen_RPM_Avg', 'Gen_RPM_Max', 'Gen_RPM_Min', 'Gen_RPM_Std',\n",
      "       'Gen_SlipRing_Temp_Avg', 'Grd_Busbar_Temp_Avg',\n",
      "       'Grd_RtrInvPhase1_Temp_Avg', 'Grd_RtrInvPhase2_Temp_Avg',\n",
      "       'Grd_RtrInvPhase3_Temp_Avg', 'Hyd_Oil_Temp_Avg', 'Nac_Direction_Avg',\n",
      "       'Nac_Temp_Avg', 'Prod_LatestAvg_ActPwrGen0',\n",
      "       'Prod_LatestAvg_ActPwrGen1', 'Prod_LatestAvg_ReactPwrGen0',\n",
      "       'Prod_LatestAvg_ReactPwrGen1', 'Rtr_RPM_Avg', 'Rtr_RPM_Max',\n",
      "       'Rtr_RPM_Min', 'Rtr_RPM_Std', 'Spin_Temp_Avg', 'TTF', 'Timestamp',\n",
      "       'Turbine_ID', '60_days', '30_days', '10_days'],\n",
      "      dtype='object')\n",
      "Index(['Amb_Temp_Avg', 'Amb_WindDir_Abs_Avg', 'Amb_WindDir_Relative_Avg',\n",
      "       'Amb_WindSpeed_Avg', 'Amb_WindSpeed_Est_Avg', 'Amb_WindSpeed_Max',\n",
      "       'Amb_WindSpeed_Min', 'Amb_WindSpeed_Std', 'Blds_PitchAngle_Avg',\n",
      "       'Blds_PitchAngle_Max', 'Blds_PitchAngle_Min', 'Blds_PitchAngle_Std',\n",
      "       'Component', 'Cont_Hub_Temp_Avg', 'Cont_Top_Temp_Avg',\n",
      "       'Cont_VCP_ChokcoilTemp_Avg', 'Cont_VCP_Temp_Avg',\n",
      "       'Cont_VCP_WtrTemp_Avg', 'Grd_Busbar_Temp_Avg', 'Grd_Prod_VoltPhse1_Avg',\n",
      "       'Grd_Prod_VoltPhse2_Avg', 'Grd_Prod_VoltPhse3_Avg',\n",
      "       'Grd_RtrInvPhase1_Temp_Avg', 'Grd_RtrInvPhase2_Temp_Avg',\n",
      "       'Grd_RtrInvPhase3_Temp_Avg', 'HVTrafo_Phase1_Temp_Avg',\n",
      "       'HVTrafo_Phase2_Temp_Avg', 'HVTrafo_Phase3_Temp_Avg',\n",
      "       'Nac_Direction_Avg', 'Nac_Temp_Avg', 'Rtr_RPM_Avg', 'Rtr_RPM_Max',\n",
      "       'Rtr_RPM_Min', 'Rtr_RPM_Std', 'Spin_Temp_Avg', 'TTF', 'Timestamp',\n",
      "       'Turbine_ID', '60_days', '30_days', '10_days'],\n",
      "      dtype='object')\n",
      "Index(['Amb_Temp_Avg', 'Amb_WindDir_Abs_Avg', 'Amb_WindDir_Relative_Avg',\n",
      "       'Amb_WindSpeed_Avg', 'Amb_WindSpeed_Est_Avg', 'Amb_WindSpeed_Max',\n",
      "       'Amb_WindSpeed_Min', 'Amb_WindSpeed_Std', 'Blds_PitchAngle_Avg',\n",
      "       'Blds_PitchAngle_Max', 'Blds_PitchAngle_Min', 'Blds_PitchAngle_Std',\n",
      "       'Component', 'Cont_Hub_Temp_Avg', 'Cont_Top_Temp_Avg',\n",
      "       'Cont_VCP_ChokcoilTemp_Avg', 'Cont_VCP_Temp_Avg',\n",
      "       'Cont_VCP_WtrTemp_Avg', 'Gear_Bear_Temp_Avg', 'Gear_Oil_Temp_Avg',\n",
      "       'Grd_Busbar_Temp_Avg', 'Grd_RtrInvPhase1_Temp_Avg',\n",
      "       'Grd_RtrInvPhase2_Temp_Avg', 'Grd_RtrInvPhase3_Temp_Avg',\n",
      "       'Hyd_Oil_Temp_Avg', 'Nac_Direction_Avg', 'Nac_Temp_Avg', 'Rtr_RPM_Avg',\n",
      "       'Rtr_RPM_Max', 'Rtr_RPM_Min', 'Rtr_RPM_Std', 'Spin_Temp_Avg', 'TTF',\n",
      "       'Timestamp', 'Turbine_ID', '60_days', '30_days', '10_days'],\n",
      "      dtype='object')\n"
     ]
    }
   ],
   "source": [
    "for i in comp_df_list:\n",
    "    print(i.keys())"
   ]
  },
  {
   "cell_type": "code",
   "execution_count": 18,
   "metadata": {
    "ExecuteTime": {
     "end_time": "2021-02-08T20:17:16.224992Z",
     "start_time": "2021-02-08T20:17:16.089355Z"
    }
   },
   "outputs": [],
   "source": [
    "gen_features_drop = [\n",
    "    'Gen_RPM_Max', 'Gen_RPM_Min', 'Gen_Phase1_Temp_Avg', 'Gen_Phase3_Temp_Avg',\n",
    "    'Amb_WindSpeed_Est_Avg', 'Grd_RtrInvPhase1_Temp_Avg',\n",
    "    'Grd_RtrInvPhase3_Temp_Avg', 'Rtr_RPM_Max', 'Rtr_RPM_Min',\n",
    "    'Blds_PitchAngle_Max', 'Blds_PitchAngle_Min',\n",
    "    'Prod_LatestAvg_ReactPwrGen1', 'Cont_Hub_Temp_Avg', 'Spin_Temp_Avg',\n",
    "    'Rtr_RPM_Std', 'Rtr_RPM_Avg', 'Cont_VCP_Temp_Avg'\n",
    "]"
   ]
  },
  {
   "cell_type": "code",
   "execution_count": 19,
   "metadata": {
    "ExecuteTime": {
     "end_time": "2021-02-08T20:17:16.351011Z",
     "start_time": "2021-02-08T20:17:16.227984Z"
    }
   },
   "outputs": [],
   "source": [
    "gen_bear_features_drop = [\n",
    "    'Gen_RPM_Max', 'Gen_RPM_Min', 'Gen_Phase1_Temp_Avg', 'Gen_Phase3_Temp_Avg',\n",
    "    'Amb_WindSpeed_Est_Avg', 'Grd_RtrInvPhase1_Temp_Avg',\n",
    "    'Grd_RtrInvPhase3_Temp_Avg', 'Rtr_RPM_Max', 'Rtr_RPM_Min',\n",
    "    'Blds_PitchAngle_Max', 'Blds_PitchAngle_Min',\n",
    "    'Prod_LatestAvg_ReactPwrGen1', 'Cont_Hub_Temp_Avg', 'Spin_Temp_Avg',\n",
    "    'Rtr_RPM_Std', 'Rtr_RPM_Avg', 'Cont_VCP_Temp_Avg'\n",
    "]"
   ]
  },
  {
   "cell_type": "code",
   "execution_count": 20,
   "metadata": {
    "ExecuteTime": {
     "end_time": "2021-02-08T20:17:16.478155Z",
     "start_time": "2021-02-08T20:17:16.355647Z"
    }
   },
   "outputs": [],
   "source": [
    "hyd_features_drop = [\n",
    "    'Rtr_RPM_Max', 'Rtr_RPM_Min', 'Blds_PitchAngle_Max', 'Blds_PitchAngle_Min',\n",
    "    'Blds_PitchAngle_Max', 'Grd_RtrInvPhase3_Temp_Avg', 'Grd_Busbar_Temp_Avg',\n",
    "    'Amb_WindSpeed_Est_Avg', 'Spin_Temp_Avg', 'Cont_Hub_Temp_Avg',\n",
    "    'Grd_RtrInvPhase1_Temp_Avg', 'Cont_VCP_Temp_Avg'\n",
    "]"
   ]
  },
  {
   "cell_type": "code",
   "execution_count": 21,
   "metadata": {
    "ExecuteTime": {
     "end_time": "2021-02-08T20:17:16.587858Z",
     "start_time": "2021-02-08T20:17:16.482137Z"
    }
   },
   "outputs": [],
   "source": [
    "gearbox_features_drop = [\n",
    "    'Rtr_RPM_Max', 'Rtr_RPM_Min', 'Grd_RtrInvPhase1_Temp_Avg',\n",
    "    'Grd_RtrInvPhase3_Temp_Avg', 'Blds_PitchAngle_Min', 'Blds_PitchAngle_Max',\n",
    "    'Cont_VCP_Temp_Avg', 'Grd_Busbar_Temp_Avg', 'Amb_WindSpeed_Est_Avg',\n",
    "    'Spin_Temp_Avg'\n",
    "]"
   ]
  },
  {
   "cell_type": "code",
   "execution_count": 22,
   "metadata": {
    "ExecuteTime": {
     "end_time": "2021-02-08T20:17:16.697559Z",
     "start_time": "2021-02-08T20:17:16.590843Z"
    }
   },
   "outputs": [],
   "source": [
    "transf_features_drop = [\n",
    "    'HVTrafo_Phase1_Temp_Avg', 'HVTrafo_Phase3_Temp_Avg', 'Rtr_RPM_Max',\n",
    "    'Rtr_RPM_Min', 'Grd_RtrInvPhase1_Temp_Avg', 'Grd_RtrInvPhase3_Temp_Avg',\n",
    "    'Blds_PitchAngle_Min', 'Blds_PitchAngle_Max', 'Amb_WindSpeed_Est_Avg',\n",
    "    'Spin_Temp_Avg', 'Cont_VCP_Temp_Avg'\n",
    "]"
   ]
  },
  {
   "cell_type": "code",
   "execution_count": 23,
   "metadata": {
    "ExecuteTime": {
     "end_time": "2021-02-08T20:17:16.821330Z",
     "start_time": "2021-02-08T20:17:16.709525Z"
    }
   },
   "outputs": [],
   "source": [
    "feat_drop_list = [\n",
    "    gen_features_drop, hyd_features_drop, gen_bear_features_drop,\n",
    "    transf_features_drop, gearbox_features_drop\n",
    "]"
   ]
  },
  {
   "cell_type": "code",
   "execution_count": 24,
   "metadata": {
    "ExecuteTime": {
     "end_time": "2021-02-08T20:17:17.413336Z",
     "start_time": "2021-02-08T20:17:16.825317Z"
    }
   },
   "outputs": [
    {
     "name": "stdout",
     "output_type": "stream",
     "text": [
      "A actualizar dataframe 1 de 5\n",
      "A actualizar dataframe 2 de 5\n",
      "A actualizar dataframe 3 de 5\n",
      "A actualizar dataframe 4 de 5\n",
      "A actualizar dataframe 5 de 5\n"
     ]
    }
   ],
   "source": [
    "for df in range(len(comp_df_list)):\n",
    "    print(f'A actualizar dataframe {df+1} de {len(comp_df_list)}')\n",
    "#     for col in feat_drop_list:\n",
    "#         print(f'A apagar a coluna {col}')\n",
    "    comp_df_list[df] = comp_df_list[df].drop(columns=feat_drop_list[df])"
   ]
  },
  {
   "cell_type": "code",
   "execution_count": 25,
   "metadata": {
    "ExecuteTime": {
     "end_time": "2021-02-08T20:17:17.553942Z",
     "start_time": "2021-02-08T20:17:17.415309Z"
    }
   },
   "outputs": [
    {
     "name": "stdout",
     "output_type": "stream",
     "text": [
      "(434147, 33)\n",
      "(434145, 25)\n",
      "(434145, 33)\n",
      "(434145, 30)\n",
      "(434145, 28)\n"
     ]
    }
   ],
   "source": [
    "for i in comp_df_list:\n",
    "    print(i.shape)"
   ]
  },
  {
   "cell_type": "code",
   "execution_count": 26,
   "metadata": {
    "ExecuteTime": {
     "end_time": "2021-02-08T20:17:17.675630Z",
     "start_time": "2021-02-08T20:17:17.556931Z"
    }
   },
   "outputs": [
    {
     "name": "stdout",
     "output_type": "stream",
     "text": [
      "Index(['Amb_Temp_Avg', 'Amb_WindDir_Abs_Avg', 'Amb_WindDir_Relative_Avg',\n",
      "       'Amb_WindSpeed_Avg', 'Amb_WindSpeed_Max', 'Amb_WindSpeed_Min',\n",
      "       'Amb_WindSpeed_Std', 'Blds_PitchAngle_Avg', 'Blds_PitchAngle_Std',\n",
      "       'Component', 'Cont_Top_Temp_Avg', 'Cont_VCP_ChokcoilTemp_Avg',\n",
      "       'Cont_VCP_WtrTemp_Avg', 'Gen_Bear2_Temp_Avg', 'Gen_Bear_Temp_Avg',\n",
      "       'Gen_Phase2_Temp_Avg', 'Gen_RPM_Avg', 'Gen_RPM_Std',\n",
      "       'Gen_SlipRing_Temp_Avg', 'Grd_Busbar_Temp_Avg',\n",
      "       'Grd_RtrInvPhase2_Temp_Avg', 'Hyd_Oil_Temp_Avg', 'Nac_Direction_Avg',\n",
      "       'Nac_Temp_Avg', 'Prod_LatestAvg_ActPwrGen0',\n",
      "       'Prod_LatestAvg_ActPwrGen1', 'Prod_LatestAvg_ReactPwrGen0', 'TTF',\n",
      "       'Timestamp', 'Turbine_ID', '60_days', '30_days', '10_days'],\n",
      "      dtype='object')\n",
      "Index(['Amb_Temp_Avg', 'Amb_WindDir_Abs_Avg', 'Amb_WindDir_Relative_Avg',\n",
      "       'Amb_WindSpeed_Avg', 'Amb_WindSpeed_Max', 'Amb_WindSpeed_Min',\n",
      "       'Amb_WindSpeed_Std', 'Blds_PitchAngle_Avg', 'Blds_PitchAngle_Std',\n",
      "       'Component', 'Cont_Top_Temp_Avg', 'Cont_VCP_ChokcoilTemp_Avg',\n",
      "       'Cont_VCP_WtrTemp_Avg', 'Grd_RtrInvPhase2_Temp_Avg', 'Hyd_Oil_Temp_Avg',\n",
      "       'Nac_Direction_Avg', 'Nac_Temp_Avg', 'Rtr_RPM_Avg', 'Rtr_RPM_Std',\n",
      "       'TTF', 'Timestamp', 'Turbine_ID', '60_days', '30_days', '10_days'],\n",
      "      dtype='object')\n",
      "Index(['Amb_Temp_Avg', 'Amb_WindDir_Abs_Avg', 'Amb_WindDir_Relative_Avg',\n",
      "       'Amb_WindSpeed_Avg', 'Amb_WindSpeed_Max', 'Amb_WindSpeed_Min',\n",
      "       'Amb_WindSpeed_Std', 'Blds_PitchAngle_Avg', 'Blds_PitchAngle_Std',\n",
      "       'Component', 'Cont_Top_Temp_Avg', 'Cont_VCP_ChokcoilTemp_Avg',\n",
      "       'Cont_VCP_WtrTemp_Avg', 'Gen_Bear2_Temp_Avg', 'Gen_Bear_Temp_Avg',\n",
      "       'Gen_Phase2_Temp_Avg', 'Gen_RPM_Avg', 'Gen_RPM_Std',\n",
      "       'Gen_SlipRing_Temp_Avg', 'Grd_Busbar_Temp_Avg',\n",
      "       'Grd_RtrInvPhase2_Temp_Avg', 'Hyd_Oil_Temp_Avg', 'Nac_Direction_Avg',\n",
      "       'Nac_Temp_Avg', 'Prod_LatestAvg_ActPwrGen0',\n",
      "       'Prod_LatestAvg_ActPwrGen1', 'Prod_LatestAvg_ReactPwrGen0', 'TTF',\n",
      "       'Timestamp', 'Turbine_ID', '60_days', '30_days', '10_days'],\n",
      "      dtype='object')\n",
      "Index(['Amb_Temp_Avg', 'Amb_WindDir_Abs_Avg', 'Amb_WindDir_Relative_Avg',\n",
      "       'Amb_WindSpeed_Avg', 'Amb_WindSpeed_Max', 'Amb_WindSpeed_Min',\n",
      "       'Amb_WindSpeed_Std', 'Blds_PitchAngle_Avg', 'Blds_PitchAngle_Std',\n",
      "       'Component', 'Cont_Hub_Temp_Avg', 'Cont_Top_Temp_Avg',\n",
      "       'Cont_VCP_ChokcoilTemp_Avg', 'Cont_VCP_WtrTemp_Avg',\n",
      "       'Grd_Busbar_Temp_Avg', 'Grd_Prod_VoltPhse1_Avg',\n",
      "       'Grd_Prod_VoltPhse2_Avg', 'Grd_Prod_VoltPhse3_Avg',\n",
      "       'Grd_RtrInvPhase2_Temp_Avg', 'HVTrafo_Phase2_Temp_Avg',\n",
      "       'Nac_Direction_Avg', 'Nac_Temp_Avg', 'Rtr_RPM_Avg', 'Rtr_RPM_Std',\n",
      "       'TTF', 'Timestamp', 'Turbine_ID', '60_days', '30_days', '10_days'],\n",
      "      dtype='object')\n",
      "Index(['Amb_Temp_Avg', 'Amb_WindDir_Abs_Avg', 'Amb_WindDir_Relative_Avg',\n",
      "       'Amb_WindSpeed_Avg', 'Amb_WindSpeed_Max', 'Amb_WindSpeed_Min',\n",
      "       'Amb_WindSpeed_Std', 'Blds_PitchAngle_Avg', 'Blds_PitchAngle_Std',\n",
      "       'Component', 'Cont_Hub_Temp_Avg', 'Cont_Top_Temp_Avg',\n",
      "       'Cont_VCP_ChokcoilTemp_Avg', 'Cont_VCP_WtrTemp_Avg',\n",
      "       'Gear_Bear_Temp_Avg', 'Gear_Oil_Temp_Avg', 'Grd_RtrInvPhase2_Temp_Avg',\n",
      "       'Hyd_Oil_Temp_Avg', 'Nac_Direction_Avg', 'Nac_Temp_Avg', 'Rtr_RPM_Avg',\n",
      "       'Rtr_RPM_Std', 'TTF', 'Timestamp', 'Turbine_ID', '60_days', '30_days',\n",
      "       '10_days'],\n",
      "      dtype='object')\n"
     ]
    }
   ],
   "source": [
    "for i in comp_df_list:\n",
    "    print(i.keys())"
   ]
  },
  {
   "cell_type": "markdown",
   "metadata": {},
   "source": [
    "# Agrupar pela medida de tempo seleccionada."
   ]
  },
  {
   "cell_type": "code",
   "execution_count": 27,
   "metadata": {
    "ExecuteTime": {
     "end_time": "2021-02-08T20:17:17.784325Z",
     "start_time": "2021-02-08T20:17:17.678606Z"
    }
   },
   "outputs": [
    {
     "name": "stdout",
     "output_type": "stream",
     "text": [
      "(434147, 33)\n",
      "(434145, 25)\n",
      "(434145, 33)\n",
      "(434145, 30)\n",
      "(434145, 28)\n"
     ]
    }
   ],
   "source": [
    "for i in range(len(comp_df_list)):\n",
    "    print(comp_df_list[i].shape)"
   ]
  },
  {
   "cell_type": "code",
   "execution_count": 28,
   "metadata": {
    "ExecuteTime": {
     "end_time": "2021-02-08T20:17:21.015927Z",
     "start_time": "2021-02-08T20:17:17.786317Z"
    }
   },
   "outputs": [],
   "source": [
    "# Passagem para dias \n",
    "for i in range(len(comp_df_list)):\n",
    "    comp_df_list[i] = dprep.group_por_frequency(comp_df_list[i])"
   ]
  },
  {
   "cell_type": "code",
   "execution_count": 29,
   "metadata": {
    "ExecuteTime": {
     "end_time": "2021-02-08T20:17:21.157570Z",
     "start_time": "2021-02-08T20:17:21.021920Z"
    }
   },
   "outputs": [
    {
     "name": "stdout",
     "output_type": "stream",
     "text": [
      "(3042, 33)\n",
      "(3041, 18)\n",
      "(3041, 20)\n",
      "(3041, 21)\n",
      "(3041, 18)\n"
     ]
    }
   ],
   "source": [
    "# Passagem para dias \n",
    "for i in range(len(comp_df_list)):\n",
    "    print(comp_df_list[i].shape)"
   ]
  },
  {
   "cell_type": "markdown",
   "metadata": {},
   "source": [
    "# Adicionar as medidas de alisamento"
   ]
  },
  {
   "cell_type": "code",
   "execution_count": 30,
   "metadata": {
    "ExecuteTime": {
     "end_time": "2021-02-08T20:17:21.673912Z",
     "start_time": "2021-02-08T20:17:21.162554Z"
    }
   },
   "outputs": [],
   "source": [
    "for i in range(len(comp_df_list)):\n",
    "    comp_df_list[i] = dprep.add_features(comp_df_list[i])"
   ]
  },
  {
   "cell_type": "code",
   "execution_count": 31,
   "metadata": {
    "ExecuteTime": {
     "end_time": "2021-02-08T20:17:21.799598Z",
     "start_time": "2021-02-08T20:17:21.675909Z"
    }
   },
   "outputs": [
    {
     "name": "stdout",
     "output_type": "stream",
     "text": [
      "(3042, 87)\n",
      "(3041, 42)\n",
      "(3041, 48)\n",
      "(3041, 51)\n",
      "(3041, 42)\n"
     ]
    }
   ],
   "source": [
    "for i in range(len(comp_df_list)):\n",
    "    print(comp_df_list[i].shape)"
   ]
  },
  {
   "cell_type": "code",
   "execution_count": 32,
   "metadata": {
    "ExecuteTime": {
     "end_time": "2021-02-08T20:17:21.940508Z",
     "start_time": "2021-02-08T20:17:21.803457Z"
    }
   },
   "outputs": [],
   "source": [
    "def prepare_train_df_mig(df, meses=3):\n",
    "    last_date = df['Date'].iloc[-1]\n",
    "    split = last_date - pd.DateOffset(months=3)\n",
    "    df_train = df[df['Date'] < split]\n",
    "    # df_test = df[df['Timestamp'] >= split]\n",
    "    return df_train\n",
    "\n",
    "def prepare_test_df_mig(df):\n",
    "    last_date = df['Date'].iloc[-1]\n",
    "    split = last_date - pd.DateOffset(months=3)\n",
    "    # df_train = df[df['Timestamp'] < split]\n",
    "    df_test = df[df['Date'] >= split]\n",
    "    return df_test"
   ]
  },
  {
   "cell_type": "code",
   "execution_count": 33,
   "metadata": {
    "ExecuteTime": {
     "end_time": "2021-02-08T20:17:22.065651Z",
     "start_time": "2021-02-08T20:17:21.943498Z"
    }
   },
   "outputs": [],
   "source": [
    "#comp_df_list[0].columns"
   ]
  },
  {
   "cell_type": "markdown",
   "metadata": {},
   "source": [
    "# Train and test split"
   ]
  },
  {
   "cell_type": "code",
   "execution_count": 34,
   "metadata": {
    "ExecuteTime": {
     "end_time": "2021-02-08T20:17:22.219589Z",
     "start_time": "2021-02-08T20:17:22.069654Z"
    }
   },
   "outputs": [],
   "source": [
    "# Preparar a lista de X_train\n",
    "df_train = [0, 0, 0, 0, 0]\n",
    "df_test = [0, 0, 0, 0, 0]\n",
    "\n",
    "#for i in range(len(comp_df_list)):\n",
    "#    df_train[i] = dprep.prepare_train_df(comp_df_list[i])\n",
    "#    df_test[i] = dprep.prepare_test_df(comp_df_list[i])\n",
    "\n",
    "for i in range(len(comp_df_list)):\n",
    "    df_train[i] = prepare_train_df_mig(comp_df_list[i])\n",
    "    df_test[i] = prepare_test_df_mig(comp_df_list[i])"
   ]
  },
  {
   "cell_type": "code",
   "execution_count": 35,
   "metadata": {
    "ExecuteTime": {
     "end_time": "2021-02-08T20:17:22.345252Z",
     "start_time": "2021-02-08T20:17:22.224575Z"
    }
   },
   "outputs": [
    {
     "name": "stdout",
     "output_type": "stream",
     "text": [
      "x_train 0 com a forma (2577, 87)\n",
      "x_test 0 com a forma (465, 87)\n",
      "x_train 1 com a forma (2576, 42)\n",
      "x_test 1 com a forma (465, 42)\n",
      "x_train 2 com a forma (2576, 48)\n",
      "x_test 2 com a forma (465, 48)\n",
      "x_train 3 com a forma (2576, 51)\n",
      "x_test 3 com a forma (465, 51)\n",
      "x_train 4 com a forma (2576, 42)\n",
      "x_test 4 com a forma (465, 42)\n"
     ]
    }
   ],
   "source": [
    "for i in range(len(df_train)):\n",
    "    print(f'x_train {i} com a forma {df_train[i].shape}')\n",
    "    print(f'x_test {i} com a forma {df_test[i].shape}')"
   ]
  },
  {
   "cell_type": "code",
   "execution_count": 36,
   "metadata": {
    "ExecuteTime": {
     "end_time": "2021-02-08T20:17:22.484906Z",
     "start_time": "2021-02-08T20:17:22.348246Z"
    }
   },
   "outputs": [],
   "source": [
    "df_train_generator   = df_train[0]\n",
    "df_train_hydraulic   = df_train[1]\n",
    "df_train_gen_bear    = df_train[2]\n",
    "df_train_transformer = df_train[3]\n",
    "df_train_gearbox     = df_train[4]\n",
    "\n",
    "df_test_generator   = df_test[0]\n",
    "df_test_hydraulic   = df_test[1]\n",
    "df_test_gen_bear    = df_test[2]\n",
    "df_test_transformer = df_test[3]\n",
    "df_test_gearbox     = df_test[4]"
   ]
  },
  {
   "cell_type": "markdown",
   "metadata": {
    "ExecuteTime": {
     "end_time": "2021-02-07T11:58:36.301661Z",
     "start_time": "2021-02-07T11:58:36.249842Z"
    }
   },
   "source": [
    "Alterações que fiz ao código do Ricardo:\n",
    "\n",
    "-> adicionei mais variaveis alvo (pois so estava a 60 dias)\n",
    "-> usei uma versao adaptada da funçao criada para fazer train/test split"
   ]
  },
  {
   "cell_type": "code",
   "execution_count": 37,
   "metadata": {
    "ExecuteTime": {
     "end_time": "2021-02-08T20:17:22.611551Z",
     "start_time": "2021-02-08T20:17:22.490875Z"
    }
   },
   "outputs": [],
   "source": [
    "#pred_LogReg[['y_score']].hist()\n",
    "#pred_LogReg[['y_score']][df_test.eq(1).values].hist()\n",
    "\n",
    "#plt.show()"
   ]
  },
  {
   "cell_type": "code",
   "execution_count": 38,
   "metadata": {
    "ExecuteTime": {
     "end_time": "2021-02-08T20:17:22.722270Z",
     "start_time": "2021-02-08T20:17:22.613548Z"
    }
   },
   "outputs": [],
   "source": [
    "#pred_rfca[['y_score']].hist()\n",
    "#pred_rfca[['y_score']][df_test.eq(1).values].hist()\n",
    "\n",
    "#plt.show()"
   ]
  },
  {
   "cell_type": "code",
   "execution_count": 39,
   "metadata": {
    "ExecuteTime": {
     "end_time": "2021-02-08T20:17:22.832048Z",
     "start_time": "2021-02-08T20:17:22.724252Z"
    }
   },
   "outputs": [],
   "source": [
    "#df_signals = pd.read_csv('../rawdata/wind-farm-1-signals-training.csv', sep=';')#, nrows=100000)\n",
    "#df_signals['Timestamp']=pd.to_datetime(df_signals['Timestamp']).dt.tz_convert(None)\n",
    "#df_signals['Timestamp'].tail(n=10)"
   ]
  },
  {
   "cell_type": "code",
   "execution_count": 40,
   "metadata": {
    "ExecuteTime": {
     "end_time": "2021-02-08T20:17:22.957604Z",
     "start_time": "2021-02-08T20:17:22.833958Z"
    }
   },
   "outputs": [],
   "source": [
    "def classifier(model, clf, features,target, df_train, df_test ,params=None, score=None, ):\n",
    "    \n",
    "    X_train = df_train[features]\n",
    "\n",
    "    X_test = df_test[features] \n",
    "    y_train = df_train[target]\n",
    "    y_test = df_test[target]\n",
    "\n",
    "    \n",
    "    grid_search = model_selection.GridSearchCV(estimator=clf, param_grid=params, cv=5, scoring=score)\n",
    "\n",
    "    grid_search.fit(X_train, y_train.to_numpy())\n",
    "    y_test_pred = grid_search.predict(X_test)\n",
    "    y_train_pred = grid_search.predict(X_train)\n",
    "\n",
    "    \n",
    "    if hasattr(grid_search, 'predict_proba'):   \n",
    "        y_test_prob = grid_search.predict_proba(X_test)[:,1]\n",
    "        y_train_prob = grid_search.predict_proba(X_train)[:,1]\n",
    "        \n",
    "    elif hasattr(grid_search, 'decision_function'):\n",
    "        y_test_prob = grid_search.decision_function(X_test)\n",
    "        y_train_prob = grid_search.decision_function(X_train)\n",
    "        \n",
    "        \n",
    "    else:\n",
    "        y_test_prob = y_pred_test\n",
    "        y_train_prob = y_pred_train\n",
    "        \n",
    "\n",
    "        \n",
    "    predictions_test = {'y_test_pred' : y_test_pred, 'y_test_prob' : y_test_prob}\n",
    "    predictions_train = {'y_train_pred' : y_train_pred, 'y_train_prob' : y_train_prob}\n",
    "   \n",
    "    df_predictions_test = pd.DataFrame.from_dict(predictions_test)\n",
    "    df_predictions_train = pd.DataFrame.from_dict(predictions_train)\n",
    "\n",
    "    \n",
    "    return grid_search.best_estimator_, df_predictions_test,df_predictions_train"
   ]
  },
  {
   "cell_type": "code",
   "execution_count": 41,
   "metadata": {
    "ExecuteTime": {
     "end_time": "2021-02-08T20:17:23.082740Z",
     "start_time": "2021-02-08T20:17:22.960595Z"
    }
   },
   "outputs": [],
   "source": [
    "def metrics (y_train, y_train_prob, y_test, y_test_pred, y_test_prob):\n",
    "    cm2 = confusion_matrix(y_test.values,y_test_pred)\n",
    "\n",
    "    total1=sum(sum(cm2))\n",
    "    \n",
    "    \n",
    "    metrics_dict = {\n",
    "    'AUC_Train': roc_auc_score(y_train, y_train_prob) if len(y_train.value_counts())>1 else np.nan,\n",
    "    'AUC_Test': roc_auc_score(y_test, y_test_prob) if len(y_test.value_counts())>1 else np.nan,\n",
    "    'Accuracy':     (cm2[0,0]+cm2[1,1])/total1 if len(y_test.value_counts())>1 else np.nan,\n",
    "    'Recall': cm2[1,1]/(cm2[1,0]+cm2[1,1]) if len(y_test.value_counts())>1 else np.nan,\n",
    "    'Specificity':  cm2[0,0]/(cm2[0,0]+cm2[0,1]) if len(y_test.value_counts())>1 else np.nan,\n",
    "    'Precision':    cm2[1,1]/(cm2[0,1]+cm2[1,1]) if len(y_test.value_counts())>1 else np.nan,\n",
    "    'F1 Score':    f1_score(y_test,y_test_pred) if len(y_test.value_counts())>1 else np.nan,\n",
    "#    'Log Loss':    log_loss(y_test, y_test_prob) if len(y_test.value_counts())>1 else np.nan,\n",
    "#    'FBeta Score':  fbeta_score(y_test,y_test_pred, beta=10)\n",
    "        }\n",
    "\n",
    "    return metrics_dict\n",
    "\n",
    "def conf_matrix ( y_test, y_test_pred):\n",
    "\n",
    "    return pd.crosstab(y_test, y_test_pred, rownames=['Actual Class'], colnames=['Predicted Class'])\n",
    "\n",
    "\n",
    "def roc_curve_plot (y_test, y_test_prob):\n",
    "\n",
    "    sns.set(style='white')\n",
    "    fpr, tpr, threshold = roc_curve(y_test, y_test_prob)\n",
    "    plt.plot(fpr, tpr, label='model')\n",
    "    plt.legend(loc='center right')\n",
    "    plt.plot([0,1],[0,1],'k')\n",
    "    plt.xlabel('False Positive Rate')\n",
    "    plt.ylabel('True Positive Rate')\n",
    "    plt.title('ROC Curve')\n",
    "    plt.show()"
   ]
  },
  {
   "cell_type": "code",
   "execution_count": 42,
   "metadata": {
    "ExecuteTime": {
     "end_time": "2021-02-08T20:17:23.209881Z",
     "start_time": "2021-02-08T20:17:23.087729Z"
    }
   },
   "outputs": [],
   "source": [
    "dict_mod={\n",
    "    'LogReg_60':'60_days',\n",
    "    'LogReg_30':'30_days',\n",
    "    'LogReg_10':'10_days',\n",
    "    \n",
    "    'RF_60':'60_days',\n",
    "    'RF_30':'30_days',\n",
    "    'RF_10':'10_days',\n",
    "    \n",
    "    'KNN_60':'60_days',\n",
    "    'KNN_30':'30_days',\n",
    "    'KNN_10':'10_days'    \n",
    "        }"
   ]
  },
  {
   "cell_type": "code",
   "execution_count": 43,
   "metadata": {
    "ExecuteTime": {
     "end_time": "2021-02-08T20:17:23.349529Z",
     "start_time": "2021-02-08T20:17:23.211876Z"
    }
   },
   "outputs": [
    {
     "ename": "SyntaxError",
     "evalue": "positional argument follows keyword argument (<ipython-input-43-189e531b4341>, line 14)",
     "output_type": "error",
     "traceback": [
      "\u001b[1;36m  File \u001b[1;32m\"<ipython-input-43-189e531b4341>\"\u001b[1;36m, line \u001b[1;32m14\u001b[0m\n\u001b[1;33m    clf_LogReg = LogisticRegression(random_state=42, max_iter=10000, n_jobs-1)\u001b[0m\n\u001b[1;37m                                                                    ^\u001b[0m\n\u001b[1;31mSyntaxError\u001b[0m\u001b[1;31m:\u001b[0m positional argument follows keyword argument\n"
     ]
    }
   ],
   "source": [
    "dict_results ={}\n",
    "def several_models_results():\n",
    "\n",
    "    for key,target_ in dict_mod.items():\n",
    "\n",
    "        target=target_\n",
    "        df_train[target]=df_train[target].round().astype(int)#.value_counts()\n",
    "        df_test[target]=df_test[target].round().astype(int)#.value_counts()\n",
    "        y_test=df_test[target]\n",
    "    \n",
    "\n",
    "        if 'LogReg' in key:\n",
    "            model = 'Logistic Regression'\n",
    "            clf_LogReg = LogisticRegression(random_state=42, max_iter=1000, n_jobs-1)\n",
    "            gs_params = {'C': [.01, 0.1, 1.0, 10], 'solver': ['liblinear', 'lbfgs'], 'class_weight': ['balanced',None]}\n",
    "            #gs_score = 'roc_auc' 68\n",
    "            gs_score = 'f1'\n",
    "\n",
    "            clf_LogReg, pred_LogReg_test, pred_LogReg_train = classifier(model, clf_LogReg, features,target, df_train,df_test, params=gs_params, score=gs_score)\n",
    "            dict_results[key]=metrics(df_train[target], pred_LogReg_train['y_train_prob'], df_test[target], pred_LogReg_test['y_test_pred'], pred_LogReg_test['y_test_prob'])\n",
    "\n",
    "\n",
    "        if  'RF' in key:  \n",
    "            model = 'Random Forest'\n",
    "            clf_rfc = RandomForestClassifier(n_estimators=50, random_state=42)\n",
    "            gs_params = {'max_depth': [3,4, 5, 6, 7, 8], 'criterion': ['gini', 'entropy'], 'class_weight': ['balanced',None]}\n",
    "            gs_score = 'f1'\n",
    "\n",
    "            clf_rfc, pred_RandForest_test, pred_RandForest_train = classifier(model, clf_rfc, features,target, df_train,df_test,  params=gs_params, score=gs_score)\n",
    "            dict_results[key]=metrics(df_train[target], pred_RandForest_train['y_train_prob'], df_test[target], pred_RandForest_test['y_test_pred'], pred_RandForest_test['y_test_prob'])\n",
    "\n",
    "\n",
    "        if  'KNN' in key:\n",
    "            model = 'KNN'\n",
    "            clf_knn = KNeighborsClassifier(n_jobs=-1)\n",
    "            gs_params = {'n_neighbors': [5, 9 , 10, 11, 12]}\n",
    "            gs_score = 'f1'\n",
    "\n",
    "            clf_knn, pred_KNN_test, pred_KNN_train = classifier(model, clf_knn, features,target, df_train,df_test,  params=gs_params, score=gs_score)\n",
    "            dict_results[key]=metrics(df_train[target], pred_KNN_train['y_train_prob'], df_test[target], pred_KNN_test['y_test_pred'], pred_KNN_test['y_test_prob'])\n",
    "    \n",
    "\n",
    "    return dict_results"
   ]
  },
  {
   "cell_type": "code",
   "execution_count": null,
   "metadata": {
    "ExecuteTime": {
     "end_time": "2021-02-08T20:17:23.357505Z",
     "start_time": "2021-02-08T20:12:59.276Z"
    }
   },
   "outputs": [],
   "source": [
    "dict_df = {'generator_results':(df_train_generator,df_test_generator),\n",
    "           'hydraulic_results':(df_train_hydraulic, df_test_hydraulic),\n",
    "           'genbear_results':(df_train_gen_bear,df_test_gen_bear), \n",
    "           'transformer_results':(df_train_transformer,df_test_transformer),\n",
    "           'gearbox_results':(df_train_gearbox,df_test_gearbox)}"
   ]
  },
  {
   "cell_type": "code",
   "execution_count": null,
   "metadata": {
    "ExecuteTime": {
     "end_time": "2021-02-08T20:17:23.361494Z",
     "start_time": "2021-02-08T20:12:59.286Z"
    }
   },
   "outputs": [],
   "source": [
    "dict_results_by_component={}\n",
    "    \n",
    "for   key,df_ in dict_df.items():\n",
    "    \n",
    "    df_train=df_[0]\n",
    "    df_test=df_[1]\n",
    "    features=df_[0].drop(columns=['60_days', '30_days', '10_days', 'Date', 'Turbine_ID']).columns\n",
    "\n",
    "    \n",
    "    dict_results_by_component[key]=pd.DataFrame(several_models_results())"
   ]
  },
  {
   "cell_type": "code",
   "execution_count": null,
   "metadata": {
    "ExecuteTime": {
     "end_time": "2021-02-08T20:17:23.363492Z",
     "start_time": "2021-02-08T20:12:59.292Z"
    }
   },
   "outputs": [],
   "source": [
    "sns.set_theme()\n",
    "\n",
    "fig, ax = plt.subplots(figsize=(12,5))\n",
    "\n",
    "for i in dict_results_by_component.keys():\n",
    "    dict_results_by_component[i].loc['AUC_Train', :].plot()\n",
    "plt.title('AUC_Train')\n",
    "plt.show()\n",
    "\n",
    "fig, ax = plt.subplots(figsize=(12,5))\n",
    "\n",
    "\n",
    "for i in dict_results_by_component.keys():\n",
    "    dict_results_by_component[i].loc['AUC_Test', :].plot()\n",
    "plt.title('AUC_Test')\n",
    "plt.show()\n",
    "\n",
    "fig, ax = plt.subplots(figsize=(12,5))\n",
    "\n",
    "\n",
    "for i in dict_results_by_component.keys():\n",
    "    dict_results_by_component[i].loc['Recall', :].plot()\n",
    "plt.title('Recall')\n",
    "plt.show()\n",
    "\n",
    "\n",
    "fig, ax = plt.subplots(figsize=(12,5))\n",
    "\n",
    "\n",
    "for i in dict_results_by_component.keys():\n",
    "    dict_results_by_component[i].loc['Precision', :].plot()\n",
    "plt.title('Precision')\n",
    "plt.show()\n",
    "\n",
    "fig, ax = plt.subplots(figsize=(12,5))\n",
    "\n",
    "\n",
    "for i in dict_results_by_component.keys():\n",
    "    dict_results_by_component[i].loc['F1 Score', :].plot()\n",
    "plt.title('F1 Score')\n",
    "plt.show()"
   ]
  },
  {
   "cell_type": "code",
   "execution_count": null,
   "metadata": {
    "ExecuteTime": {
     "end_time": "2021-02-08T20:17:23.366482Z",
     "start_time": "2021-02-08T20:12:59.303Z"
    }
   },
   "outputs": [],
   "source": [
    "dict_results_by_component['generator_results']"
   ]
  },
  {
   "cell_type": "code",
   "execution_count": null,
   "metadata": {
    "ExecuteTime": {
     "end_time": "2021-02-08T20:17:23.371470Z",
     "start_time": "2021-02-08T20:12:59.317Z"
    }
   },
   "outputs": [],
   "source": [
    "dict_results_by_component.keys()"
   ]
  },
  {
   "cell_type": "code",
   "execution_count": null,
   "metadata": {
    "ExecuteTime": {
     "end_time": "2021-02-08T20:17:23.373464Z",
     "start_time": "2021-02-08T20:12:59.353Z"
    }
   },
   "outputs": [],
   "source": [
    "\n",
    "roc_curve_plot(df_test[target], pred_LogReg_test['y_test_prob'])\n",
    "#roc_curve_plot(df_train[target], pred_LogReg_train['y_train_prob'])\n",
    "\n",
    "conf_matrix (df_test[target].values,  pred_LogReg_test['y_test_pred'])\n",
    "\n",
    "metrics (df_train[target], pred_LogReg_train['y_train_prob'], df_test[target], pred_LogReg_test['y_test_pred'], pred_LogReg_test['y_test_prob'])\n",
    "     "
   ]
  },
  {
   "cell_type": "code",
   "execution_count": null,
   "metadata": {},
   "outputs": [],
   "source": []
  }
 ],
 "metadata": {
  "kernelspec": {
   "display_name": "Python 3",
   "language": "python",
   "name": "python3"
  },
  "language_info": {
   "codemirror_mode": {
    "name": "ipython",
    "version": 3
   },
   "file_extension": ".py",
   "mimetype": "text/x-python",
   "name": "python",
   "nbconvert_exporter": "python",
   "pygments_lexer": "ipython3",
   "version": "3.7.7"
  },
  "toc": {
   "base_numbering": "",
   "nav_menu": {},
   "number_sections": true,
   "sideBar": true,
   "skip_h1_title": true,
   "title_cell": "Table of Contents",
   "title_sidebar": "Contents",
   "toc_cell": true,
   "toc_position": {
    "height": "calc(100% - 180px)",
    "left": "10px",
    "top": "150px",
    "width": "288.8px"
   },
   "toc_section_display": false,
   "toc_window_display": false
  }
 },
 "nbformat": 4,
 "nbformat_minor": 4
}
