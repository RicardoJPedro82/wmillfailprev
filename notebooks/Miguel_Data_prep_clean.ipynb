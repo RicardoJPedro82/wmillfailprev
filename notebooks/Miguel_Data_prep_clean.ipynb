{
 "cells": [
  {
   "cell_type": "markdown",
   "metadata": {
    "toc": true
   },
   "source": [
    "<h1>Table of Contents<span class=\"tocSkip\"></span></h1>\n",
    "<div class=\"toc\"><ul class=\"toc-item\"></ul></div>"
   ]
  },
  {
   "cell_type": "markdown",
   "metadata": {},
   "source": [
    "# Importar os módulos"
   ]
  },
  {
   "cell_type": "code",
   "execution_count": 1,
   "metadata": {
    "ExecuteTime": {
     "end_time": "2021-02-06T17:48:27.094761Z",
     "start_time": "2021-02-06T17:48:24.968958Z"
    }
   },
   "outputs": [],
   "source": [
    "%load_ext autoreload\n",
    "%autoreload 2\n",
    "import os\n",
    "import pandas as pd\n",
    "import numpy as np\n",
    "import datetime\n",
    "import seaborn as sns\n",
    "import matplotlib.pyplot as plt\n",
    "import Dataset_transf as dprep\n",
    "from sklearn.preprocessing import OneHotEncoder\n",
    "from sklearn.preprocessing import StandardScaler"
   ]
  },
  {
   "cell_type": "markdown",
   "metadata": {},
   "source": [
    "# Obter os dataframes dos ficheiros"
   ]
  },
  {
   "cell_type": "code",
   "execution_count": 2,
   "metadata": {
    "ExecuteTime": {
     "end_time": "2021-02-06T17:49:11.303097Z",
     "start_time": "2021-02-06T17:48:27.096891Z"
    }
   },
   "outputs": [],
   "source": [
    "failures_df, signals_df, logs_df = dprep.get_data()"
   ]
  },
  {
   "cell_type": "code",
   "execution_count": 3,
   "metadata": {
    "ExecuteTime": {
     "end_time": "2021-02-06T17:49:11.341722Z",
     "start_time": "2021-02-06T17:49:11.309130Z"
    }
   },
   "outputs": [],
   "source": [
    "df_list = [failures_df, signals_df, logs_df]"
   ]
  },
  {
   "cell_type": "markdown",
   "metadata": {},
   "source": [
    "# Criação de datasets de components"
   ]
  },
  {
   "cell_type": "code",
   "execution_count": 4,
   "metadata": {
    "ExecuteTime": {
     "end_time": "2021-02-06T17:49:11.831889Z",
     "start_time": "2021-02-06T17:49:11.346688Z"
    }
   },
   "outputs": [],
   "source": [
    "df_generator, df_gen_bear, df_transformer, df_hydraulic, df_gearbox = dprep.component_df_creation(signals_df)"
   ]
  },
  {
   "cell_type": "code",
   "execution_count": 5,
   "metadata": {
    "ExecuteTime": {
     "end_time": "2021-02-06T17:49:11.876387Z",
     "start_time": "2021-02-06T17:49:11.837032Z"
    }
   },
   "outputs": [],
   "source": [
    "comp_df_list = [df_generator, df_hydraulic, df_gen_bear, df_transformer,  df_gearbox]"
   ]
  },
  {
   "cell_type": "code",
   "execution_count": 6,
   "metadata": {
    "ExecuteTime": {
     "end_time": "2021-02-06T17:49:11.923524Z",
     "start_time": "2021-02-06T17:49:11.881229Z"
    }
   },
   "outputs": [
    {
     "name": "stdout",
     "output_type": "stream",
     "text": [
      "(434145, 45)\n",
      "(434145, 31)\n",
      "(434145, 45)\n",
      "(434145, 36)\n",
      "(434145, 33)\n"
     ]
    }
   ],
   "source": [
    "for i in comp_df_list:\n",
    "    print(i.shape)"
   ]
  },
  {
   "cell_type": "code",
   "execution_count": 7,
   "metadata": {
    "ExecuteTime": {
     "end_time": "2021-02-06T17:49:11.975129Z",
     "start_time": "2021-02-06T17:49:11.929383Z"
    }
   },
   "outputs": [
    {
     "data": {
      "text/plain": [
       "array(['GENERATOR', 'HYDRAULIC_GROUP', 'GENERATOR_BEARING', 'TRANSFORMER',\n",
       "       'GEARBOX'], dtype=object)"
      ]
     },
     "execution_count": 7,
     "metadata": {},
     "output_type": "execute_result"
    }
   ],
   "source": [
    "component_list = failures_df.Component.unique()\n",
    "component_list"
   ]
  },
  {
   "cell_type": "markdown",
   "metadata": {},
   "source": [
    "# Merge dos DF com o DF de failures"
   ]
  },
  {
   "cell_type": "code",
   "execution_count": 8,
   "metadata": {
    "ExecuteTime": {
     "end_time": "2021-02-06T17:49:17.130021Z",
     "start_time": "2021-02-06T17:49:11.982972Z"
    }
   },
   "outputs": [],
   "source": [
    "for i in range(len(component_list)):\n",
    "    comp_df_list[i] = dprep.sig_fail_merge_dfs(sig_df=comp_df_list[i],\n",
    "                                               fail_df=failures_df,\n",
    "                                               component=component_list[i])"
   ]
  },
  {
   "cell_type": "code",
   "execution_count": 9,
   "metadata": {
    "ExecuteTime": {
     "end_time": "2021-02-06T17:49:17.166358Z",
     "start_time": "2021-02-06T17:49:17.134366Z"
    }
   },
   "outputs": [
    {
     "name": "stdout",
     "output_type": "stream",
     "text": [
      "(434147, 46)\n",
      "(434145, 32)\n",
      "(434145, 46)\n",
      "(434145, 37)\n",
      "(434145, 34)\n"
     ]
    }
   ],
   "source": [
    "for i in comp_df_list:\n",
    "    print(i.shape)"
   ]
  },
  {
   "cell_type": "markdown",
   "metadata": {},
   "source": [
    "# Fillna by turbine"
   ]
  },
  {
   "cell_type": "code",
   "execution_count": 10,
   "metadata": {
    "ExecuteTime": {
     "end_time": "2021-02-06T17:49:17.233433Z",
     "start_time": "2021-02-06T17:49:17.169397Z"
    }
   },
   "outputs": [
    {
     "data": {
      "text/plain": [
       "array(['T11', 'T06', 'T01', 'T09', 'T07'], dtype=object)"
      ]
     },
     "execution_count": 10,
     "metadata": {},
     "output_type": "execute_result"
    }
   ],
   "source": [
    "turbine_list = signals_df.Turbine_ID.unique()\n",
    "turbine_list"
   ]
  },
  {
   "cell_type": "code",
   "execution_count": 11,
   "metadata": {
    "ExecuteTime": {
     "end_time": "2021-02-06T17:49:27.198899Z",
     "start_time": "2021-02-06T17:49:17.239459Z"
    }
   },
   "outputs": [
    {
     "name": "stderr",
     "output_type": "stream",
     "text": [
      "/Users/miguelamaro/code/miguelamaro4/Final_Project/wmillfailprev/notebooks/Dataset_transf.py:149: SettingWithCopyWarning: \n",
      "A value is trying to be set on a copy of a slice from a DataFrame.\n",
      "Try using .loc[row_indexer,col_indexer] = value instead\n",
      "\n",
      "See the caveats in the documentation: https://pandas.pydata.org/pandas-docs/stable/user_guide/indexing.html#returning-a-view-versus-a-copy\n",
      "  index['date'] = index['Timestamp']\n",
      "/Users/miguelamaro/code/miguelamaro4/Final_Project/wmillfailprev/notebooks/Dataset_transf.py:149: SettingWithCopyWarning: \n",
      "A value is trying to be set on a copy of a slice from a DataFrame.\n",
      "Try using .loc[row_indexer,col_indexer] = value instead\n",
      "\n",
      "See the caveats in the documentation: https://pandas.pydata.org/pandas-docs/stable/user_guide/indexing.html#returning-a-view-versus-a-copy\n",
      "  index['date'] = index['Timestamp']\n",
      "/Users/miguelamaro/code/miguelamaro4/Final_Project/wmillfailprev/notebooks/Dataset_transf.py:162: SettingWithCopyWarning: \n",
      "A value is trying to be set on a copy of a slice from a DataFrame.\n",
      "Try using .loc[row_indexer,col_indexer] = value instead\n",
      "\n",
      "See the caveats in the documentation: https://pandas.pydata.org/pandas-docs/stable/user_guide/indexing.html#returning-a-view-versus-a-copy\n",
      "  df_merged['date'] = df_merged['Timestamp']\n",
      "/Users/miguelamaro/code/miguelamaro4/Final_Project/wmillfailprev/notebooks/Dataset_transf.py:163: SettingWithCopyWarning: \n",
      "A value is trying to be set on a copy of a slice from a DataFrame.\n",
      "Try using .loc[row_indexer,col_indexer] = value instead\n",
      "\n",
      "See the caveats in the documentation: https://pandas.pydata.org/pandas-docs/stable/user_guide/indexing.html#returning-a-view-versus-a-copy\n",
      "  df_merged['TTF'] = 0 # df_merged['date'] - df_merged['Timestamp']\n",
      "/Users/miguelamaro/code/miguelamaro4/Final_Project/wmillfailprev/notebooks/Dataset_transf.py:149: SettingWithCopyWarning: \n",
      "A value is trying to be set on a copy of a slice from a DataFrame.\n",
      "Try using .loc[row_indexer,col_indexer] = value instead\n",
      "\n",
      "See the caveats in the documentation: https://pandas.pydata.org/pandas-docs/stable/user_guide/indexing.html#returning-a-view-versus-a-copy\n",
      "  index['date'] = index['Timestamp']\n",
      "/Users/miguelamaro/code/miguelamaro4/Final_Project/wmillfailprev/notebooks/Dataset_transf.py:149: SettingWithCopyWarning: \n",
      "A value is trying to be set on a copy of a slice from a DataFrame.\n",
      "Try using .loc[row_indexer,col_indexer] = value instead\n",
      "\n",
      "See the caveats in the documentation: https://pandas.pydata.org/pandas-docs/stable/user_guide/indexing.html#returning-a-view-versus-a-copy\n",
      "  index['date'] = index['Timestamp']\n",
      "/Users/miguelamaro/code/miguelamaro4/Final_Project/wmillfailprev/notebooks/Dataset_transf.py:149: SettingWithCopyWarning: \n",
      "A value is trying to be set on a copy of a slice from a DataFrame.\n",
      "Try using .loc[row_indexer,col_indexer] = value instead\n",
      "\n",
      "See the caveats in the documentation: https://pandas.pydata.org/pandas-docs/stable/user_guide/indexing.html#returning-a-view-versus-a-copy\n",
      "  index['date'] = index['Timestamp']\n",
      "/Users/miguelamaro/code/miguelamaro4/Final_Project/wmillfailprev/notebooks/Dataset_transf.py:162: SettingWithCopyWarning: \n",
      "A value is trying to be set on a copy of a slice from a DataFrame.\n",
      "Try using .loc[row_indexer,col_indexer] = value instead\n",
      "\n",
      "See the caveats in the documentation: https://pandas.pydata.org/pandas-docs/stable/user_guide/indexing.html#returning-a-view-versus-a-copy\n",
      "  df_merged['date'] = df_merged['Timestamp']\n",
      "/Users/miguelamaro/code/miguelamaro4/Final_Project/wmillfailprev/notebooks/Dataset_transf.py:163: SettingWithCopyWarning: \n",
      "A value is trying to be set on a copy of a slice from a DataFrame.\n",
      "Try using .loc[row_indexer,col_indexer] = value instead\n",
      "\n",
      "See the caveats in the documentation: https://pandas.pydata.org/pandas-docs/stable/user_guide/indexing.html#returning-a-view-versus-a-copy\n",
      "  df_merged['TTF'] = 0 # df_merged['date'] - df_merged['Timestamp']\n",
      "/Users/miguelamaro/code/miguelamaro4/Final_Project/wmillfailprev/notebooks/Dataset_transf.py:149: SettingWithCopyWarning: \n",
      "A value is trying to be set on a copy of a slice from a DataFrame.\n",
      "Try using .loc[row_indexer,col_indexer] = value instead\n",
      "\n",
      "See the caveats in the documentation: https://pandas.pydata.org/pandas-docs/stable/user_guide/indexing.html#returning-a-view-versus-a-copy\n",
      "  index['date'] = index['Timestamp']\n",
      "/Users/miguelamaro/code/miguelamaro4/Final_Project/wmillfailprev/notebooks/Dataset_transf.py:162: SettingWithCopyWarning: \n",
      "A value is trying to be set on a copy of a slice from a DataFrame.\n",
      "Try using .loc[row_indexer,col_indexer] = value instead\n",
      "\n",
      "See the caveats in the documentation: https://pandas.pydata.org/pandas-docs/stable/user_guide/indexing.html#returning-a-view-versus-a-copy\n",
      "  df_merged['date'] = df_merged['Timestamp']\n",
      "/Users/miguelamaro/code/miguelamaro4/Final_Project/wmillfailprev/notebooks/Dataset_transf.py:163: SettingWithCopyWarning: \n",
      "A value is trying to be set on a copy of a slice from a DataFrame.\n",
      "Try using .loc[row_indexer,col_indexer] = value instead\n",
      "\n",
      "See the caveats in the documentation: https://pandas.pydata.org/pandas-docs/stable/user_guide/indexing.html#returning-a-view-versus-a-copy\n",
      "  df_merged['TTF'] = 0 # df_merged['date'] - df_merged['Timestamp']\n",
      "/Users/miguelamaro/code/miguelamaro4/Final_Project/wmillfailprev/notebooks/Dataset_transf.py:149: SettingWithCopyWarning: \n",
      "A value is trying to be set on a copy of a slice from a DataFrame.\n",
      "Try using .loc[row_indexer,col_indexer] = value instead\n",
      "\n",
      "See the caveats in the documentation: https://pandas.pydata.org/pandas-docs/stable/user_guide/indexing.html#returning-a-view-versus-a-copy\n",
      "  index['date'] = index['Timestamp']\n",
      "/Users/miguelamaro/code/miguelamaro4/Final_Project/wmillfailprev/notebooks/Dataset_transf.py:149: SettingWithCopyWarning: \n",
      "A value is trying to be set on a copy of a slice from a DataFrame.\n",
      "Try using .loc[row_indexer,col_indexer] = value instead\n",
      "\n",
      "See the caveats in the documentation: https://pandas.pydata.org/pandas-docs/stable/user_guide/indexing.html#returning-a-view-versus-a-copy\n",
      "  index['date'] = index['Timestamp']\n",
      "/Users/miguelamaro/code/miguelamaro4/Final_Project/wmillfailprev/notebooks/Dataset_transf.py:162: SettingWithCopyWarning: \n",
      "A value is trying to be set on a copy of a slice from a DataFrame.\n",
      "Try using .loc[row_indexer,col_indexer] = value instead\n",
      "\n",
      "See the caveats in the documentation: https://pandas.pydata.org/pandas-docs/stable/user_guide/indexing.html#returning-a-view-versus-a-copy\n",
      "  df_merged['date'] = df_merged['Timestamp']\n",
      "/Users/miguelamaro/code/miguelamaro4/Final_Project/wmillfailprev/notebooks/Dataset_transf.py:163: SettingWithCopyWarning: \n",
      "A value is trying to be set on a copy of a slice from a DataFrame.\n",
      "Try using .loc[row_indexer,col_indexer] = value instead\n",
      "\n",
      "See the caveats in the documentation: https://pandas.pydata.org/pandas-docs/stable/user_guide/indexing.html#returning-a-view-versus-a-copy\n",
      "  df_merged['TTF'] = 0 # df_merged['date'] - df_merged['Timestamp']\n",
      "/Users/miguelamaro/code/miguelamaro4/Final_Project/wmillfailprev/notebooks/Dataset_transf.py:149: SettingWithCopyWarning: \n",
      "A value is trying to be set on a copy of a slice from a DataFrame.\n",
      "Try using .loc[row_indexer,col_indexer] = value instead\n",
      "\n",
      "See the caveats in the documentation: https://pandas.pydata.org/pandas-docs/stable/user_guide/indexing.html#returning-a-view-versus-a-copy\n",
      "  index['date'] = index['Timestamp']\n",
      "/Users/miguelamaro/code/miguelamaro4/Final_Project/wmillfailprev/notebooks/Dataset_transf.py:162: SettingWithCopyWarning: \n",
      "A value is trying to be set on a copy of a slice from a DataFrame.\n",
      "Try using .loc[row_indexer,col_indexer] = value instead\n",
      "\n",
      "See the caveats in the documentation: https://pandas.pydata.org/pandas-docs/stable/user_guide/indexing.html#returning-a-view-versus-a-copy\n",
      "  df_merged['date'] = df_merged['Timestamp']\n",
      "/Users/miguelamaro/code/miguelamaro4/Final_Project/wmillfailprev/notebooks/Dataset_transf.py:163: SettingWithCopyWarning: \n",
      "A value is trying to be set on a copy of a slice from a DataFrame.\n",
      "Try using .loc[row_indexer,col_indexer] = value instead\n",
      "\n",
      "See the caveats in the documentation: https://pandas.pydata.org/pandas-docs/stable/user_guide/indexing.html#returning-a-view-versus-a-copy\n",
      "  df_merged['TTF'] = 0 # df_merged['date'] - df_merged['Timestamp']\n"
     ]
    },
    {
     "name": "stderr",
     "output_type": "stream",
     "text": [
      "/Users/miguelamaro/code/miguelamaro4/Final_Project/wmillfailprev/notebooks/Dataset_transf.py:149: SettingWithCopyWarning: \n",
      "A value is trying to be set on a copy of a slice from a DataFrame.\n",
      "Try using .loc[row_indexer,col_indexer] = value instead\n",
      "\n",
      "See the caveats in the documentation: https://pandas.pydata.org/pandas-docs/stable/user_guide/indexing.html#returning-a-view-versus-a-copy\n",
      "  index['date'] = index['Timestamp']\n",
      "/Users/miguelamaro/code/miguelamaro4/Final_Project/wmillfailprev/notebooks/Dataset_transf.py:162: SettingWithCopyWarning: \n",
      "A value is trying to be set on a copy of a slice from a DataFrame.\n",
      "Try using .loc[row_indexer,col_indexer] = value instead\n",
      "\n",
      "See the caveats in the documentation: https://pandas.pydata.org/pandas-docs/stable/user_guide/indexing.html#returning-a-view-versus-a-copy\n",
      "  df_merged['date'] = df_merged['Timestamp']\n",
      "/Users/miguelamaro/code/miguelamaro4/Final_Project/wmillfailprev/notebooks/Dataset_transf.py:163: SettingWithCopyWarning: \n",
      "A value is trying to be set on a copy of a slice from a DataFrame.\n",
      "Try using .loc[row_indexer,col_indexer] = value instead\n",
      "\n",
      "See the caveats in the documentation: https://pandas.pydata.org/pandas-docs/stable/user_guide/indexing.html#returning-a-view-versus-a-copy\n",
      "  df_merged['TTF'] = 0 # df_merged['date'] - df_merged['Timestamp']\n",
      "/Users/miguelamaro/code/miguelamaro4/Final_Project/wmillfailprev/notebooks/Dataset_transf.py:149: SettingWithCopyWarning: \n",
      "A value is trying to be set on a copy of a slice from a DataFrame.\n",
      "Try using .loc[row_indexer,col_indexer] = value instead\n",
      "\n",
      "See the caveats in the documentation: https://pandas.pydata.org/pandas-docs/stable/user_guide/indexing.html#returning-a-view-versus-a-copy\n",
      "  index['date'] = index['Timestamp']\n",
      "/Users/miguelamaro/code/miguelamaro4/Final_Project/wmillfailprev/notebooks/Dataset_transf.py:149: SettingWithCopyWarning: \n",
      "A value is trying to be set on a copy of a slice from a DataFrame.\n",
      "Try using .loc[row_indexer,col_indexer] = value instead\n",
      "\n",
      "See the caveats in the documentation: https://pandas.pydata.org/pandas-docs/stable/user_guide/indexing.html#returning-a-view-versus-a-copy\n",
      "  index['date'] = index['Timestamp']\n",
      "/Users/miguelamaro/code/miguelamaro4/Final_Project/wmillfailprev/notebooks/Dataset_transf.py:162: SettingWithCopyWarning: \n",
      "A value is trying to be set on a copy of a slice from a DataFrame.\n",
      "Try using .loc[row_indexer,col_indexer] = value instead\n",
      "\n",
      "See the caveats in the documentation: https://pandas.pydata.org/pandas-docs/stable/user_guide/indexing.html#returning-a-view-versus-a-copy\n",
      "  df_merged['date'] = df_merged['Timestamp']\n",
      "/Users/miguelamaro/code/miguelamaro4/Final_Project/wmillfailprev/notebooks/Dataset_transf.py:163: SettingWithCopyWarning: \n",
      "A value is trying to be set on a copy of a slice from a DataFrame.\n",
      "Try using .loc[row_indexer,col_indexer] = value instead\n",
      "\n",
      "See the caveats in the documentation: https://pandas.pydata.org/pandas-docs/stable/user_guide/indexing.html#returning-a-view-versus-a-copy\n",
      "  df_merged['TTF'] = 0 # df_merged['date'] - df_merged['Timestamp']\n"
     ]
    }
   ],
   "source": [
    "for i in range(len(component_list)):\n",
    "    comp_df_list[i] = dprep.fill_na_by_turbine(comp_df_list[i], turbine_list)"
   ]
  },
  {
   "cell_type": "code",
   "execution_count": 12,
   "metadata": {
    "ExecuteTime": {
     "end_time": "2021-02-06T17:49:27.235594Z",
     "start_time": "2021-02-06T17:49:27.201008Z"
    }
   },
   "outputs": [
    {
     "name": "stdout",
     "output_type": "stream",
     "text": [
      "(434147, 47)\n",
      "(434145, 33)\n",
      "(434145, 47)\n",
      "(434145, 38)\n",
      "(434145, 35)\n"
     ]
    }
   ],
   "source": [
    "for i in comp_df_list:\n",
    "    print(i.shape)"
   ]
  },
  {
   "cell_type": "markdown",
   "metadata": {},
   "source": [
    "# Criação de Variável alvo"
   ]
  },
  {
   "cell_type": "code",
   "execution_count": 13,
   "metadata": {
    "ExecuteTime": {
     "end_time": "2021-02-06T17:49:28.686736Z",
     "start_time": "2021-02-06T17:49:27.239540Z"
    }
   },
   "outputs": [
    {
     "name": "stdout",
     "output_type": "stream",
     "text": [
      "0    47\n",
      "dtype: int64\n",
      "0    33\n",
      "dtype: int64\n",
      "0    47\n",
      "dtype: int64\n",
      "0    38\n",
      "dtype: int64\n",
      "0    35\n",
      "dtype: int64\n"
     ]
    }
   ],
   "source": [
    "for i in range(len(comp_df_list)):\n",
    "    print(comp_df_list[i].isna().sum().value_counts())"
   ]
  },
  {
   "cell_type": "code",
   "execution_count": 14,
   "metadata": {
    "ExecuteTime": {
     "end_time": "2021-02-06T17:49:28.718351Z",
     "start_time": "2021-02-06T17:49:28.689537Z"
    }
   },
   "outputs": [],
   "source": [
    "days_list = [60, 45, 40, 30, 10, 5]"
   ]
  },
  {
   "cell_type": "code",
   "execution_count": 15,
   "metadata": {
    "ExecuteTime": {
     "end_time": "2021-02-06T17:54:31.707128Z",
     "start_time": "2021-02-06T17:49:28.720966Z"
    }
   },
   "outputs": [],
   "source": [
    "for day in days_list:\n",
    "    for i in range(len(comp_df_list)):\n",
    "        comp_df_list[i] = dprep.aplic_var_target(comp_df_list[i], day)"
   ]
  },
  {
   "cell_type": "code",
   "execution_count": 16,
   "metadata": {
    "ExecuteTime": {
     "end_time": "2021-02-06T17:54:31.749035Z",
     "start_time": "2021-02-06T17:54:31.714306Z"
    }
   },
   "outputs": [
    {
     "name": "stdout",
     "output_type": "stream",
     "text": [
      "(434147, 53)\n",
      "(434145, 39)\n",
      "(434145, 53)\n",
      "(434145, 44)\n",
      "(434145, 41)\n"
     ]
    }
   ],
   "source": [
    "for i in comp_df_list:\n",
    "    print(i.shape)"
   ]
  },
  {
   "cell_type": "markdown",
   "metadata": {},
   "source": [
    "# Feature selection"
   ]
  },
  {
   "cell_type": "code",
   "execution_count": 17,
   "metadata": {
    "ExecuteTime": {
     "end_time": "2021-02-06T17:54:31.796559Z",
     "start_time": "2021-02-06T17:54:31.756828Z"
    }
   },
   "outputs": [
    {
     "name": "stdout",
     "output_type": "stream",
     "text": [
      "Index(['Timestamp', 'Turbine_ID', 'Gen_RPM_Max', 'Gen_RPM_Min', 'Gen_RPM_Avg',\n",
      "       'Gen_RPM_Std', 'Gen_Bear_Temp_Avg', 'Gen_Phase1_Temp_Avg',\n",
      "       'Gen_Phase2_Temp_Avg', 'Gen_Phase3_Temp_Avg',\n",
      "       'Prod_LatestAvg_ActPwrGen0', 'Prod_LatestAvg_ActPwrGen1',\n",
      "       'Prod_LatestAvg_ReactPwrGen0', 'Prod_LatestAvg_ReactPwrGen1',\n",
      "       'Gen_SlipRing_Temp_Avg', 'Gen_Bear2_Temp_Avg', 'Rtr_RPM_Max',\n",
      "       'Rtr_RPM_Min', 'Rtr_RPM_Avg', 'Grd_RtrInvPhase1_Temp_Avg',\n",
      "       'Grd_RtrInvPhase2_Temp_Avg', 'Grd_RtrInvPhase3_Temp_Avg', 'Rtr_RPM_Std',\n",
      "       'Amb_WindSpeed_Max', 'Amb_WindSpeed_Min', 'Amb_WindSpeed_Avg',\n",
      "       'Amb_WindSpeed_Std', 'Amb_WindDir_Relative_Avg', 'Amb_WindDir_Abs_Avg',\n",
      "       'Amb_Temp_Avg', 'Amb_WindSpeed_Est_Avg', 'Blds_PitchAngle_Min',\n",
      "       'Blds_PitchAngle_Max', 'Blds_PitchAngle_Avg', 'Blds_PitchAngle_Std',\n",
      "       'Cont_Top_Temp_Avg', 'Cont_Hub_Temp_Avg', 'Cont_VCP_Temp_Avg',\n",
      "       'Cont_VCP_ChokcoilTemp_Avg', 'Cont_VCP_WtrTemp_Avg', 'Nac_Temp_Avg',\n",
      "       'Nac_Direction_Avg', 'Spin_Temp_Avg', 'Grd_Busbar_Temp_Avg',\n",
      "       'Hyd_Oil_Temp_Avg', 'Component', 'TTF', '60_days', '45_days', '40_days',\n",
      "       '30_days', '10_days', '5_days'],\n",
      "      dtype='object')\n",
      "Index(['Timestamp', 'Turbine_ID', 'Hyd_Oil_Temp_Avg', 'Rtr_RPM_Max',\n",
      "       'Rtr_RPM_Min', 'Rtr_RPM_Avg', 'Grd_RtrInvPhase1_Temp_Avg',\n",
      "       'Grd_RtrInvPhase2_Temp_Avg', 'Grd_RtrInvPhase3_Temp_Avg', 'Rtr_RPM_Std',\n",
      "       'Amb_WindSpeed_Max', 'Amb_WindSpeed_Min', 'Amb_WindSpeed_Avg',\n",
      "       'Amb_WindSpeed_Std', 'Amb_WindDir_Relative_Avg', 'Amb_WindDir_Abs_Avg',\n",
      "       'Amb_Temp_Avg', 'Amb_WindSpeed_Est_Avg', 'Blds_PitchAngle_Min',\n",
      "       'Blds_PitchAngle_Max', 'Blds_PitchAngle_Avg', 'Blds_PitchAngle_Std',\n",
      "       'Cont_Top_Temp_Avg', 'Cont_Hub_Temp_Avg', 'Cont_VCP_Temp_Avg',\n",
      "       'Cont_VCP_ChokcoilTemp_Avg', 'Cont_VCP_WtrTemp_Avg', 'Nac_Temp_Avg',\n",
      "       'Nac_Direction_Avg', 'Spin_Temp_Avg', 'Grd_Busbar_Temp_Avg',\n",
      "       'Component', 'TTF', '60_days', '45_days', '40_days', '30_days',\n",
      "       '10_days', '5_days'],\n",
      "      dtype='object')\n",
      "Index(['Timestamp', 'Turbine_ID', 'Gen_RPM_Max', 'Gen_RPM_Min', 'Gen_RPM_Avg',\n",
      "       'Gen_RPM_Std', 'Gen_Bear_Temp_Avg', 'Gen_Phase1_Temp_Avg',\n",
      "       'Gen_Phase2_Temp_Avg', 'Gen_Phase3_Temp_Avg',\n",
      "       'Prod_LatestAvg_ActPwrGen0', 'Prod_LatestAvg_ActPwrGen1',\n",
      "       'Prod_LatestAvg_ReactPwrGen0', 'Prod_LatestAvg_ReactPwrGen1',\n",
      "       'Gen_SlipRing_Temp_Avg', 'Gen_Bear2_Temp_Avg', 'Rtr_RPM_Max',\n",
      "       'Rtr_RPM_Min', 'Rtr_RPM_Avg', 'Grd_RtrInvPhase1_Temp_Avg',\n",
      "       'Grd_RtrInvPhase2_Temp_Avg', 'Grd_RtrInvPhase3_Temp_Avg', 'Rtr_RPM_Std',\n",
      "       'Amb_WindSpeed_Max', 'Amb_WindSpeed_Min', 'Amb_WindSpeed_Avg',\n",
      "       'Amb_WindSpeed_Std', 'Amb_WindDir_Relative_Avg', 'Amb_WindDir_Abs_Avg',\n",
      "       'Amb_Temp_Avg', 'Amb_WindSpeed_Est_Avg', 'Blds_PitchAngle_Min',\n",
      "       'Blds_PitchAngle_Max', 'Blds_PitchAngle_Avg', 'Blds_PitchAngle_Std',\n",
      "       'Cont_Top_Temp_Avg', 'Cont_Hub_Temp_Avg', 'Cont_VCP_Temp_Avg',\n",
      "       'Cont_VCP_ChokcoilTemp_Avg', 'Cont_VCP_WtrTemp_Avg', 'Nac_Temp_Avg',\n",
      "       'Nac_Direction_Avg', 'Spin_Temp_Avg', 'Grd_Busbar_Temp_Avg',\n",
      "       'Hyd_Oil_Temp_Avg', 'Component', 'TTF', '60_days', '45_days', '40_days',\n",
      "       '30_days', '10_days', '5_days'],\n",
      "      dtype='object')\n",
      "Index(['Timestamp', 'Turbine_ID', 'HVTrafo_Phase1_Temp_Avg',\n",
      "       'HVTrafo_Phase2_Temp_Avg', 'HVTrafo_Phase3_Temp_Avg', 'Rtr_RPM_Max',\n",
      "       'Rtr_RPM_Min', 'Rtr_RPM_Avg', 'Grd_RtrInvPhase1_Temp_Avg',\n",
      "       'Grd_RtrInvPhase2_Temp_Avg', 'Grd_RtrInvPhase3_Temp_Avg', 'Rtr_RPM_Std',\n",
      "       'Amb_WindSpeed_Max', 'Amb_WindSpeed_Min', 'Amb_WindSpeed_Avg',\n",
      "       'Amb_WindSpeed_Std', 'Amb_WindDir_Relative_Avg', 'Amb_WindDir_Abs_Avg',\n",
      "       'Amb_Temp_Avg', 'Amb_WindSpeed_Est_Avg', 'Blds_PitchAngle_Min',\n",
      "       'Blds_PitchAngle_Max', 'Blds_PitchAngle_Avg', 'Blds_PitchAngle_Std',\n",
      "       'Cont_Top_Temp_Avg', 'Cont_Hub_Temp_Avg', 'Cont_VCP_Temp_Avg',\n",
      "       'Cont_VCP_ChokcoilTemp_Avg', 'Cont_VCP_WtrTemp_Avg', 'Nac_Temp_Avg',\n",
      "       'Nac_Direction_Avg', 'Spin_Temp_Avg', 'Grd_Busbar_Temp_Avg',\n",
      "       'Grd_Prod_VoltPhse1_Avg', 'Grd_Prod_VoltPhse2_Avg',\n",
      "       'Grd_Prod_VoltPhse3_Avg', 'Component', 'TTF', '60_days', '45_days',\n",
      "       '40_days', '30_days', '10_days', '5_days'],\n",
      "      dtype='object')\n",
      "Index(['Timestamp', 'Turbine_ID', 'Gear_Oil_Temp_Avg', 'Gear_Bear_Temp_Avg',\n",
      "       'Rtr_RPM_Max', 'Rtr_RPM_Min', 'Rtr_RPM_Avg',\n",
      "       'Grd_RtrInvPhase1_Temp_Avg', 'Grd_RtrInvPhase2_Temp_Avg',\n",
      "       'Grd_RtrInvPhase3_Temp_Avg', 'Rtr_RPM_Std', 'Amb_WindSpeed_Max',\n",
      "       'Amb_WindSpeed_Min', 'Amb_WindSpeed_Avg', 'Amb_WindSpeed_Std',\n",
      "       'Amb_WindDir_Relative_Avg', 'Amb_WindDir_Abs_Avg', 'Amb_Temp_Avg',\n",
      "       'Amb_WindSpeed_Est_Avg', 'Blds_PitchAngle_Min', 'Blds_PitchAngle_Max',\n",
      "       'Blds_PitchAngle_Avg', 'Blds_PitchAngle_Std', 'Cont_Top_Temp_Avg',\n",
      "       'Cont_Hub_Temp_Avg', 'Cont_VCP_Temp_Avg', 'Cont_VCP_ChokcoilTemp_Avg',\n",
      "       'Cont_VCP_WtrTemp_Avg', 'Nac_Temp_Avg', 'Nac_Direction_Avg',\n",
      "       'Spin_Temp_Avg', 'Grd_Busbar_Temp_Avg', 'Hyd_Oil_Temp_Avg', 'Component',\n",
      "       'TTF', '60_days', '45_days', '40_days', '30_days', '10_days', '5_days'],\n",
      "      dtype='object')\n"
     ]
    }
   ],
   "source": [
    "for i in comp_df_list:\n",
    "    print(i.keys())"
   ]
  },
  {
   "cell_type": "code",
   "execution_count": 18,
   "metadata": {
    "ExecuteTime": {
     "end_time": "2021-02-06T17:54:31.844458Z",
     "start_time": "2021-02-06T17:54:31.799483Z"
    }
   },
   "outputs": [],
   "source": [
    "gen_features_drop = [\n",
    "    'Gen_RPM_Max', 'Gen_RPM_Min', 'Gen_Phase1_Temp_Avg', 'Gen_Phase3_Temp_Avg',\n",
    "    'Amb_WindSpeed_Est_Avg', 'Grd_RtrInvPhase1_Temp_Avg',\n",
    "    'Grd_RtrInvPhase3_Temp_Avg', 'Rtr_RPM_Max', 'Rtr_RPM_Min',\n",
    "    'Blds_PitchAngle_Max', 'Blds_PitchAngle_Min',\n",
    "    'Prod_LatestAvg_ReactPwrGen1', 'Cont_Hub_Temp_Avg', 'Spin_Temp_Avg',\n",
    "    'Rtr_RPM_Std', 'Rtr_RPM_Avg', 'Cont_VCP_Temp_Avg'\n",
    "]"
   ]
  },
  {
   "cell_type": "code",
   "execution_count": 19,
   "metadata": {
    "ExecuteTime": {
     "end_time": "2021-02-06T17:54:31.881212Z",
     "start_time": "2021-02-06T17:54:31.848427Z"
    }
   },
   "outputs": [],
   "source": [
    "gen_bear_features_drop = [\n",
    "    'Gen_RPM_Max', 'Gen_RPM_Min', 'Gen_Phase1_Temp_Avg', 'Gen_Phase3_Temp_Avg',\n",
    "    'Amb_WindSpeed_Est_Avg', 'Grd_RtrInvPhase1_Temp_Avg',\n",
    "    'Grd_RtrInvPhase3_Temp_Avg', 'Rtr_RPM_Max', 'Rtr_RPM_Min',\n",
    "    'Blds_PitchAngle_Max', 'Blds_PitchAngle_Min',\n",
    "    'Prod_LatestAvg_ReactPwrGen1', 'Cont_Hub_Temp_Avg', 'Spin_Temp_Avg',\n",
    "    'Rtr_RPM_Std', 'Rtr_RPM_Avg', 'Cont_VCP_Temp_Avg'\n",
    "]"
   ]
  },
  {
   "cell_type": "code",
   "execution_count": 20,
   "metadata": {
    "ExecuteTime": {
     "end_time": "2021-02-06T17:54:31.918019Z",
     "start_time": "2021-02-06T17:54:31.884096Z"
    }
   },
   "outputs": [],
   "source": [
    "hyd_features_drop = [\n",
    "    'Rtr_RPM_Max', 'Rtr_RPM_Min', 'Blds_PitchAngle_Max', 'Blds_PitchAngle_Min',\n",
    "    'Blds_PitchAngle_Max', 'Grd_RtrInvPhase3_Temp_Avg', 'Grd_Busbar_Temp_Avg',\n",
    "    'Amb_WindSpeed_Est_Avg', 'Spin_Temp_Avg', 'Cont_Hub_Temp_Avg',\n",
    "    'Grd_RtrInvPhase1_Temp_Avg', 'Cont_VCP_Temp_Avg'\n",
    "]"
   ]
  },
  {
   "cell_type": "code",
   "execution_count": 21,
   "metadata": {
    "ExecuteTime": {
     "end_time": "2021-02-06T17:54:31.960893Z",
     "start_time": "2021-02-06T17:54:31.922054Z"
    }
   },
   "outputs": [],
   "source": [
    "gearbox_features_drop = [\n",
    "    'Rtr_RPM_Max', 'Rtr_RPM_Min', 'Grd_RtrInvPhase1_Temp_Avg',\n",
    "    'Grd_RtrInvPhase3_Temp_Avg', 'Blds_PitchAngle_Min', 'Blds_PitchAngle_Max',\n",
    "    'Cont_VCP_Temp_Avg', 'Grd_Busbar_Temp_Avg', 'Amb_WindSpeed_Est_Avg',\n",
    "    'Spin_Temp_Avg'\n",
    "]"
   ]
  },
  {
   "cell_type": "code",
   "execution_count": 22,
   "metadata": {
    "ExecuteTime": {
     "end_time": "2021-02-06T17:54:31.999042Z",
     "start_time": "2021-02-06T17:54:31.964387Z"
    }
   },
   "outputs": [],
   "source": [
    "transf_features_drop = [\n",
    "    'HVTrafo_Phase1_Temp_Avg', 'HVTrafo_Phase3_Temp_Avg', 'Rtr_RPM_Max',\n",
    "    'Rtr_RPM_Min', 'Grd_RtrInvPhase1_Temp_Avg', 'Grd_RtrInvPhase3_Temp_Avg',\n",
    "    'Blds_PitchAngle_Min', 'Blds_PitchAngle_Max', 'Amb_WindSpeed_Est_Avg',\n",
    "    'Spin_Temp_Avg', 'Cont_VCP_Temp_Avg'\n",
    "]"
   ]
  },
  {
   "cell_type": "code",
   "execution_count": 23,
   "metadata": {
    "ExecuteTime": {
     "end_time": "2021-02-06T17:54:32.039279Z",
     "start_time": "2021-02-06T17:54:32.008160Z"
    }
   },
   "outputs": [],
   "source": [
    "feat_drop_list = [\n",
    "    gen_features_drop, hyd_features_drop, gen_bear_features_drop,\n",
    "    transf_features_drop, gearbox_features_drop\n",
    "]"
   ]
  },
  {
   "cell_type": "code",
   "execution_count": 24,
   "metadata": {
    "ExecuteTime": {
     "end_time": "2021-02-06T17:54:32.651131Z",
     "start_time": "2021-02-06T17:54:32.043221Z"
    }
   },
   "outputs": [
    {
     "name": "stdout",
     "output_type": "stream",
     "text": [
      "A actualizar dataframe 1 de 5\n",
      "A actualizar dataframe 2 de 5\n",
      "A actualizar dataframe 3 de 5\n",
      "A actualizar dataframe 4 de 5\n",
      "A actualizar dataframe 5 de 5\n"
     ]
    }
   ],
   "source": [
    "for df in range(len(comp_df_list)):\n",
    "    print(f'A actualizar dataframe {df+1} de {len(comp_df_list)}')\n",
    "#     for col in feat_drop_list:\n",
    "#         print(f'A apagar a coluna {col}')\n",
    "    comp_df_list[df] = comp_df_list[df].drop(columns=feat_drop_list[df])"
   ]
  },
  {
   "cell_type": "code",
   "execution_count": 25,
   "metadata": {
    "ExecuteTime": {
     "end_time": "2021-02-06T17:54:32.708376Z",
     "start_time": "2021-02-06T17:54:32.655103Z"
    }
   },
   "outputs": [
    {
     "name": "stdout",
     "output_type": "stream",
     "text": [
      "(434147, 36)\n",
      "(434145, 28)\n",
      "(434145, 36)\n",
      "(434145, 33)\n",
      "(434145, 31)\n"
     ]
    }
   ],
   "source": [
    "for i in comp_df_list:\n",
    "    print(i.shape)"
   ]
  },
  {
   "cell_type": "code",
   "execution_count": 26,
   "metadata": {
    "ExecuteTime": {
     "end_time": "2021-02-06T17:54:32.748207Z",
     "start_time": "2021-02-06T17:54:32.711946Z"
    }
   },
   "outputs": [
    {
     "name": "stdout",
     "output_type": "stream",
     "text": [
      "Index(['Timestamp', 'Turbine_ID', 'Gen_RPM_Avg', 'Gen_RPM_Std',\n",
      "       'Gen_Bear_Temp_Avg', 'Gen_Phase2_Temp_Avg', 'Prod_LatestAvg_ActPwrGen0',\n",
      "       'Prod_LatestAvg_ActPwrGen1', 'Prod_LatestAvg_ReactPwrGen0',\n",
      "       'Gen_SlipRing_Temp_Avg', 'Gen_Bear2_Temp_Avg',\n",
      "       'Grd_RtrInvPhase2_Temp_Avg', 'Amb_WindSpeed_Max', 'Amb_WindSpeed_Min',\n",
      "       'Amb_WindSpeed_Avg', 'Amb_WindSpeed_Std', 'Amb_WindDir_Relative_Avg',\n",
      "       'Amb_WindDir_Abs_Avg', 'Amb_Temp_Avg', 'Blds_PitchAngle_Avg',\n",
      "       'Blds_PitchAngle_Std', 'Cont_Top_Temp_Avg', 'Cont_VCP_ChokcoilTemp_Avg',\n",
      "       'Cont_VCP_WtrTemp_Avg', 'Nac_Temp_Avg', 'Nac_Direction_Avg',\n",
      "       'Grd_Busbar_Temp_Avg', 'Hyd_Oil_Temp_Avg', 'Component', 'TTF',\n",
      "       '60_days', '45_days', '40_days', '30_days', '10_days', '5_days'],\n",
      "      dtype='object')\n",
      "Index(['Timestamp', 'Turbine_ID', 'Hyd_Oil_Temp_Avg', 'Rtr_RPM_Avg',\n",
      "       'Grd_RtrInvPhase2_Temp_Avg', 'Rtr_RPM_Std', 'Amb_WindSpeed_Max',\n",
      "       'Amb_WindSpeed_Min', 'Amb_WindSpeed_Avg', 'Amb_WindSpeed_Std',\n",
      "       'Amb_WindDir_Relative_Avg', 'Amb_WindDir_Abs_Avg', 'Amb_Temp_Avg',\n",
      "       'Blds_PitchAngle_Avg', 'Blds_PitchAngle_Std', 'Cont_Top_Temp_Avg',\n",
      "       'Cont_VCP_ChokcoilTemp_Avg', 'Cont_VCP_WtrTemp_Avg', 'Nac_Temp_Avg',\n",
      "       'Nac_Direction_Avg', 'Component', 'TTF', '60_days', '45_days',\n",
      "       '40_days', '30_days', '10_days', '5_days'],\n",
      "      dtype='object')\n",
      "Index(['Timestamp', 'Turbine_ID', 'Gen_RPM_Avg', 'Gen_RPM_Std',\n",
      "       'Gen_Bear_Temp_Avg', 'Gen_Phase2_Temp_Avg', 'Prod_LatestAvg_ActPwrGen0',\n",
      "       'Prod_LatestAvg_ActPwrGen1', 'Prod_LatestAvg_ReactPwrGen0',\n",
      "       'Gen_SlipRing_Temp_Avg', 'Gen_Bear2_Temp_Avg',\n",
      "       'Grd_RtrInvPhase2_Temp_Avg', 'Amb_WindSpeed_Max', 'Amb_WindSpeed_Min',\n",
      "       'Amb_WindSpeed_Avg', 'Amb_WindSpeed_Std', 'Amb_WindDir_Relative_Avg',\n",
      "       'Amb_WindDir_Abs_Avg', 'Amb_Temp_Avg', 'Blds_PitchAngle_Avg',\n",
      "       'Blds_PitchAngle_Std', 'Cont_Top_Temp_Avg', 'Cont_VCP_ChokcoilTemp_Avg',\n",
      "       'Cont_VCP_WtrTemp_Avg', 'Nac_Temp_Avg', 'Nac_Direction_Avg',\n",
      "       'Grd_Busbar_Temp_Avg', 'Hyd_Oil_Temp_Avg', 'Component', 'TTF',\n",
      "       '60_days', '45_days', '40_days', '30_days', '10_days', '5_days'],\n",
      "      dtype='object')\n",
      "Index(['Timestamp', 'Turbine_ID', 'HVTrafo_Phase2_Temp_Avg', 'Rtr_RPM_Avg',\n",
      "       'Grd_RtrInvPhase2_Temp_Avg', 'Rtr_RPM_Std', 'Amb_WindSpeed_Max',\n",
      "       'Amb_WindSpeed_Min', 'Amb_WindSpeed_Avg', 'Amb_WindSpeed_Std',\n",
      "       'Amb_WindDir_Relative_Avg', 'Amb_WindDir_Abs_Avg', 'Amb_Temp_Avg',\n",
      "       'Blds_PitchAngle_Avg', 'Blds_PitchAngle_Std', 'Cont_Top_Temp_Avg',\n",
      "       'Cont_Hub_Temp_Avg', 'Cont_VCP_ChokcoilTemp_Avg',\n",
      "       'Cont_VCP_WtrTemp_Avg', 'Nac_Temp_Avg', 'Nac_Direction_Avg',\n",
      "       'Grd_Busbar_Temp_Avg', 'Grd_Prod_VoltPhse1_Avg',\n",
      "       'Grd_Prod_VoltPhse2_Avg', 'Grd_Prod_VoltPhse3_Avg', 'Component', 'TTF',\n",
      "       '60_days', '45_days', '40_days', '30_days', '10_days', '5_days'],\n",
      "      dtype='object')\n",
      "Index(['Timestamp', 'Turbine_ID', 'Gear_Oil_Temp_Avg', 'Gear_Bear_Temp_Avg',\n",
      "       'Rtr_RPM_Avg', 'Grd_RtrInvPhase2_Temp_Avg', 'Rtr_RPM_Std',\n",
      "       'Amb_WindSpeed_Max', 'Amb_WindSpeed_Min', 'Amb_WindSpeed_Avg',\n",
      "       'Amb_WindSpeed_Std', 'Amb_WindDir_Relative_Avg', 'Amb_WindDir_Abs_Avg',\n",
      "       'Amb_Temp_Avg', 'Blds_PitchAngle_Avg', 'Blds_PitchAngle_Std',\n",
      "       'Cont_Top_Temp_Avg', 'Cont_Hub_Temp_Avg', 'Cont_VCP_ChokcoilTemp_Avg',\n",
      "       'Cont_VCP_WtrTemp_Avg', 'Nac_Temp_Avg', 'Nac_Direction_Avg',\n",
      "       'Hyd_Oil_Temp_Avg', 'Component', 'TTF', '60_days', '45_days', '40_days',\n",
      "       '30_days', '10_days', '5_days'],\n",
      "      dtype='object')\n"
     ]
    }
   ],
   "source": [
    "for i in comp_df_list:\n",
    "    print(i.keys())"
   ]
  },
  {
   "cell_type": "markdown",
   "metadata": {},
   "source": [
    "# Train and test split"
   ]
  },
  {
   "cell_type": "code",
   "execution_count": 27,
   "metadata": {
    "ExecuteTime": {
     "end_time": "2021-02-06T17:54:33.301574Z",
     "start_time": "2021-02-06T17:54:32.751948Z"
    }
   },
   "outputs": [],
   "source": [
    "# Preparar a lista de X_train\n",
    "df_train = [0, 0, 0, 0, 0]\n",
    "df_test = [0, 0, 0, 0, 0]\n",
    "\n",
    "for i in range(len(comp_df_list)):\n",
    "    df_train[i] = dprep.prepare_train_df(comp_df_list[i])\n",
    "    df_test[i] = dprep.prepare_test_df(comp_df_list[i])"
   ]
  },
  {
   "cell_type": "code",
   "execution_count": 28,
   "metadata": {
    "ExecuteTime": {
     "end_time": "2021-02-06T17:54:33.336183Z",
     "start_time": "2021-02-06T17:54:33.303847Z"
    }
   },
   "outputs": [
    {
     "name": "stdout",
     "output_type": "stream",
     "text": [
      "x_train 0 com a forma (368857, 36)\n",
      "x_test 0 com a forma (65290, 36)\n",
      "x_train 1 com a forma (368855, 28)\n",
      "x_test 1 com a forma (65290, 28)\n",
      "x_train 2 com a forma (368855, 36)\n",
      "x_test 2 com a forma (65290, 36)\n",
      "x_train 3 com a forma (368855, 33)\n",
      "x_test 3 com a forma (65290, 33)\n",
      "x_train 4 com a forma (368855, 31)\n",
      "x_test 4 com a forma (65290, 31)\n"
     ]
    }
   ],
   "source": [
    "for i in range(len(df_train)):\n",
    "    print(f'x_train {i} com a forma {df_train[i].shape}')\n",
    "    print(f'x_test {i} com a forma {df_test[i].shape}')"
   ]
  },
  {
   "cell_type": "code",
   "execution_count": null,
   "metadata": {},
   "outputs": [],
   "source": []
  },
  {
   "cell_type": "code",
   "execution_count": 30,
   "metadata": {
    "ExecuteTime": {
     "end_time": "2021-02-06T18:04:12.016070Z",
     "start_time": "2021-02-06T18:04:11.164031Z"
    }
   },
   "outputs": [
    {
     "data": {
      "text/plain": [
       "[                Timestamp Turbine_ID  Gen_RPM_Avg  Gen_RPM_Std  \\\n",
       " 0     2016-01-01 00:00:00        T11       1270.9         18.8   \n",
       " 1     2016-01-01 00:10:00        T11       1303.6         40.2   \n",
       " 2     2016-01-01 00:20:00        T11       1344.3         27.2   \n",
       " 3     2016-01-01 00:30:00        T11       1377.5         48.9   \n",
       " 4     2016-01-01 00:40:00        T11       1396.2         66.8   \n",
       " ...                   ...        ...          ...          ...   \n",
       " 87202 2017-08-31 23:20:00        T07       1250.0          8.6   \n",
       " 87203 2017-08-31 23:30:00        T07       1251.8          8.0   \n",
       " 87204 2017-08-31 23:40:00        T07       1250.7          7.9   \n",
       " 87205 2017-08-31 23:50:00        T07       1253.0         12.6   \n",
       " 87206 2017-09-01 00:00:00        T07       1251.9          9.6   \n",
       " \n",
       "        Gen_Bear_Temp_Avg  Gen_Phase2_Temp_Avg  Prod_LatestAvg_ActPwrGen0  \\\n",
       " 0                   42.0                 61.0                        0.0   \n",
       " 1                   43.0                 61.0                        0.0   \n",
       " 2                   43.0                 61.0                        0.0   \n",
       " 3                   43.0                 62.0                        0.0   \n",
       " 4                   43.0                 62.0                        0.0   \n",
       " ...                  ...                  ...                        ...   \n",
       " 87202               48.0                 64.0                        0.0   \n",
       " 87203               48.0                 65.0                        0.0   \n",
       " 87204               48.0                 65.0                        0.0   \n",
       " 87205               48.0                 66.0                        0.0   \n",
       " 87206               48.0                 67.0                        0.0   \n",
       " \n",
       "        Prod_LatestAvg_ActPwrGen1  Prod_LatestAvg_ReactPwrGen0  \\\n",
       " 0                        41059.0                          0.0   \n",
       " 1                        50808.0                          0.0   \n",
       " 2                        60667.0                          0.0   \n",
       " 3                        77486.0                          0.0   \n",
       " 4                        67378.0                          0.0   \n",
       " ...                          ...                          ...   \n",
       " 87202                    33349.0                          0.0   \n",
       " 87203                    32818.0                          0.0   \n",
       " 87204                    20452.0                          0.0   \n",
       " 87205                    34969.0                          0.0   \n",
       " 87206                    36971.0                          0.0   \n",
       " \n",
       "        Gen_SlipRing_Temp_Avg  ...  Grd_Busbar_Temp_Avg  Hyd_Oil_Temp_Avg  \\\n",
       " 0                       27.0  ...                 39.0              30.0   \n",
       " 1                       27.0  ...                 39.0              30.0   \n",
       " 2                       27.0  ...                 39.0              30.0   \n",
       " 3                       27.0  ...                 39.0              30.0   \n",
       " 4                       27.0  ...                 40.0              30.0   \n",
       " ...                      ...  ...                  ...               ...   \n",
       " 87202                   35.0  ...                 39.0              41.0   \n",
       " 87203                   34.0  ...                 39.0              41.0   \n",
       " 87204                   34.0  ...                 39.0              41.0   \n",
       " 87205                   34.0  ...                 39.0              41.0   \n",
       " 87206                   34.0  ...                 39.0              40.0   \n",
       " \n",
       "        Component   TTF  60_days  45_days  40_days  30_days  10_days  5_days  \n",
       " 0            0.0  63.0        0        0        0        0        0       0  \n",
       " 1            0.0  63.0        0        0        0        0        0       0  \n",
       " 2            0.0  63.0        0        0        0        0        0       0  \n",
       " 3            0.0  63.0        0        0        0        0        0       0  \n",
       " 4            0.0  63.0        0        0        0        0        0       0  \n",
       " ...          ...   ...      ...      ...      ...      ...      ...     ...  \n",
       " 87202        0.0   0.0        0        0        0        0        0       0  \n",
       " 87203        0.0   0.0        0        0        0        0        0       0  \n",
       " 87204        0.0   0.0        0        0        0        0        0       0  \n",
       " 87205        0.0   0.0        0        0        0        0        0       0  \n",
       " 87206        0.0   0.0        0        0        0        0        0       0  \n",
       " \n",
       " [434147 rows x 36 columns],\n",
       "                 Timestamp Turbine_ID Hyd_Oil_Temp_Avg  Rtr_RPM_Avg  \\\n",
       " 0     2016-01-01 00:00:00        T11               30         11.3   \n",
       " 1     2016-01-01 00:10:00        T11               30         11.5   \n",
       " 2     2016-01-01 00:20:00        T11               30         11.9   \n",
       " 3     2016-01-01 00:30:00        T11               30         12.2   \n",
       " 4     2016-01-01 00:40:00        T11               30         12.4   \n",
       " ...                   ...        ...              ...          ...   \n",
       " 87202 2017-08-31 23:20:00        T07               41         11.1   \n",
       " 87203 2017-08-31 23:30:00        T07               41         11.1   \n",
       " 87204 2017-08-31 23:40:00        T07               41         11.1   \n",
       " 87205 2017-08-31 23:50:00        T07               41         11.1   \n",
       " 87206 2017-09-01 00:00:00        T07               40         11.1   \n",
       " \n",
       "       Grd_RtrInvPhase2_Temp_Avg  Rtr_RPM_Std  Amb_WindSpeed_Max  \\\n",
       " 0                            40          0.2                8.6   \n",
       " 1                            40          0.4               11.1   \n",
       " 2                            40          0.2                9.9   \n",
       " 3                            41          0.4                9.4   \n",
       " 4                            40          0.6               11.6   \n",
       " ...                         ...          ...                ...   \n",
       " 87202                        39          0.1                8.1   \n",
       " 87203                        39          0.1               10.0   \n",
       " 87204                        38          0.1                8.0   \n",
       " 87205                        38          0.1                8.7   \n",
       " 87206                        39          0.1                8.1   \n",
       " \n",
       "        Amb_WindSpeed_Min  Amb_WindSpeed_Avg  Amb_WindSpeed_Std  ...  \\\n",
       " 0                    2.6                5.3                0.7  ...   \n",
       " 1                    1.7                5.7                0.9  ...   \n",
       " 2                    1.5                6.1                0.8  ...   \n",
       " 3                    2.7                6.3                0.8  ...   \n",
       " 4                    1.7                6.4                0.9  ...   \n",
       " ...                  ...                ...                ...  ...   \n",
       " 87202                2.1                4.8                0.6  ...   \n",
       " 87203                2.1                4.9                0.8  ...   \n",
       " 87204                1.7                4.3                0.7  ...   \n",
       " 87205                2.7                5.1                0.7  ...   \n",
       " 87206                2.5                5.2                0.7  ...   \n",
       " \n",
       "        Nac_Temp_Avg  Nac_Direction_Avg Component    TTF  60_days 45_days  \\\n",
       " 0                27              206.9       0.0  291.0        0       0   \n",
       " 1                27              206.9       0.0  291.0        0       0   \n",
       " 2                27              206.9       0.0  291.0        0       0   \n",
       " 3                27              206.9       0.0  291.0        0       0   \n",
       " 4                27              206.9       0.0  291.0        0       0   \n",
       " ...             ...                ...       ...    ...      ...     ...   \n",
       " 87202            34              102.8       0.0    0.0        0       0   \n",
       " 87203            33               95.3       0.0    0.0        0       0   \n",
       " 87204            33               91.9       0.0    0.0        0       0   \n",
       " 87205            33               87.2       0.0    0.0        0       0   \n",
       " 87206            33               90.1       0.0    0.0        0       0   \n",
       " \n",
       "       40_days 30_days 10_days  5_days  \n",
       " 0           0       0       0       0  \n",
       " 1           0       0       0       0  \n",
       " 2           0       0       0       0  \n",
       " 3           0       0       0       0  \n",
       " 4           0       0       0       0  \n",
       " ...       ...     ...     ...     ...  \n",
       " 87202       0       0       0       0  \n",
       " 87203       0       0       0       0  \n",
       " 87204       0       0       0       0  \n",
       " 87205       0       0       0       0  \n",
       " 87206       0       0       0       0  \n",
       " \n",
       " [434145 rows x 28 columns],\n",
       "                 Timestamp Turbine_ID  Gen_RPM_Avg  Gen_RPM_Std  \\\n",
       " 0     2016-01-01 00:00:00        T11       1270.9         18.8   \n",
       " 9     2016-01-01 00:10:00        T11       1303.6         40.2   \n",
       " 10    2016-01-01 00:20:00        T11       1344.3         27.2   \n",
       " 17    2016-01-01 00:30:00        T11       1377.5         48.9   \n",
       " 22    2016-01-01 00:40:00        T11       1396.2         66.8   \n",
       " ...                   ...        ...          ...          ...   \n",
       " 87202 2017-08-31 23:20:00        T07       1250.0          8.6   \n",
       " 87203 2017-08-31 23:30:00        T07       1251.8          8.0   \n",
       " 87204 2017-08-31 23:40:00        T07       1250.7          7.9   \n",
       " 87205 2017-08-31 23:50:00        T07       1253.0         12.6   \n",
       " 87206 2017-09-01 00:00:00        T07       1251.9          9.6   \n",
       " \n",
       "        Gen_Bear_Temp_Avg Gen_Phase2_Temp_Avg Prod_LatestAvg_ActPwrGen0  \\\n",
       " 0                   42.0                  61                         0   \n",
       " 9                   43.0                  61                         0   \n",
       " 10                  43.0                  61                         0   \n",
       " 17                  43.0                  62                         0   \n",
       " 22                  43.0                  62                         0   \n",
       " ...                  ...                 ...                       ...   \n",
       " 87202               48.0                  64                         0   \n",
       " 87203               48.0                  65                         0   \n",
       " 87204               48.0                  65                         0   \n",
       " 87205               48.0                  66                         0   \n",
       " 87206               48.0                  67                         0   \n",
       " \n",
       "        Prod_LatestAvg_ActPwrGen1 Prod_LatestAvg_ReactPwrGen0  \\\n",
       " 0                        41059.0                           0   \n",
       " 9                        50808.0                           0   \n",
       " 10                       60667.0                           0   \n",
       " 17                       77486.0                           0   \n",
       " 22                       67378.0                           0   \n",
       " ...                          ...                         ...   \n",
       " 87202                    33349.0                           0   \n",
       " 87203                    32818.0                           0   \n",
       " 87204                    20452.0                           0   \n",
       " 87205                    34969.0                           0   \n",
       " 87206                    36971.0                           0   \n",
       " \n",
       "       Gen_SlipRing_Temp_Avg  ... Grd_Busbar_Temp_Avg Hyd_Oil_Temp_Avg  \\\n",
       " 0                        27  ...                  39               30   \n",
       " 9                        27  ...                  39               30   \n",
       " 10                       27  ...                  39               30   \n",
       " 17                       27  ...                  39               30   \n",
       " 22                       27  ...                  40               30   \n",
       " ...                     ...  ...                 ...              ...   \n",
       " 87202                    35  ...                  39               41   \n",
       " 87203                    34  ...                  39               41   \n",
       " 87204                    34  ...                  39               41   \n",
       " 87205                    34  ...                  39               41   \n",
       " 87206                    34  ...                  39               40   \n",
       " \n",
       "        Component  TTF  60_days  45_days  40_days  30_days 10_days  5_days  \n",
       " 0            0.0  0.0        0        0        0        0       0       0  \n",
       " 9            0.0  0.0        0        0        0        0       0       0  \n",
       " 10           0.0  0.0        0        0        0        0       0       0  \n",
       " 17           0.0  0.0        0        0        0        0       0       0  \n",
       " 22           0.0  0.0        0        0        0        0       0       0  \n",
       " ...          ...  ...      ...      ...      ...      ...     ...     ...  \n",
       " 87202        0.0  0.0        0        0        0        0       0       0  \n",
       " 87203        0.0  0.0        0        0        0        0       0       0  \n",
       " 87204        0.0  0.0        0        0        0        0       0       0  \n",
       " 87205        0.0  0.0        0        0        0        0       0       0  \n",
       " 87206        0.0  0.0        0        0        0        0       0       0  \n",
       " \n",
       " [434145 rows x 36 columns],\n",
       "                 Timestamp Turbine_ID HVTrafo_Phase2_Temp_Avg  Rtr_RPM_Avg  \\\n",
       " 0     2016-01-01 00:00:00        T11                      51         11.3   \n",
       " 9     2016-01-01 00:10:00        T11                      51         11.5   \n",
       " 10    2016-01-01 00:20:00        T11                      52         11.9   \n",
       " 17    2016-01-01 00:30:00        T11                      52         12.2   \n",
       " 22    2016-01-01 00:40:00        T11                      52         12.4   \n",
       " ...                   ...        ...                     ...          ...   \n",
       " 87202 2017-08-31 23:20:00        T07                      83         11.1   \n",
       " 87203 2017-08-31 23:30:00        T07                      83         11.1   \n",
       " 87204 2017-08-31 23:40:00        T07                      83         11.1   \n",
       " 87205 2017-08-31 23:50:00        T07                      83         11.1   \n",
       " 87206 2017-09-01 00:00:00        T07                      83         11.1   \n",
       " \n",
       "       Grd_RtrInvPhase2_Temp_Avg  Rtr_RPM_Std  Amb_WindSpeed_Max  \\\n",
       " 0                            40          0.2                8.6   \n",
       " 9                            40          0.4               11.1   \n",
       " 10                           40          0.2                9.9   \n",
       " 17                           41          0.4                9.4   \n",
       " 22                           40          0.6               11.6   \n",
       " ...                         ...          ...                ...   \n",
       " 87202                        39          0.1                8.1   \n",
       " 87203                        39          0.1               10.0   \n",
       " 87204                        38          0.1                8.0   \n",
       " 87205                        38          0.1                8.7   \n",
       " 87206                        39          0.1                8.1   \n",
       " \n",
       "        Amb_WindSpeed_Min  Amb_WindSpeed_Avg  Amb_WindSpeed_Std  ...  \\\n",
       " 0                    2.6                5.3                0.7  ...   \n",
       " 9                    1.7                5.7                0.9  ...   \n",
       " 10                   1.5                6.1                0.8  ...   \n",
       " 17                   2.7                6.3                0.8  ...   \n",
       " 22                   1.7                6.4                0.9  ...   \n",
       " ...                  ...                ...                ...  ...   \n",
       " 87202                2.1                4.8                0.6  ...   \n",
       " 87203                2.1                4.9                0.8  ...   \n",
       " 87204                1.7                4.3                0.7  ...   \n",
       " 87205                2.7                5.1                0.7  ...   \n",
       " 87206                2.5                5.2                0.7  ...   \n",
       " \n",
       "        Grd_Prod_VoltPhse2_Avg  Grd_Prod_VoltPhse3_Avg Component  TTF  60_days  \\\n",
       " 0                       398.2                   398.0       0.0  0.0        0   \n",
       " 9                       398.2                   397.9       0.0  0.0        0   \n",
       " 10                      397.7                   397.3       0.0  0.0        0   \n",
       " 17                      397.3                   397.0       0.0  0.0        0   \n",
       " 22                      396.7                   396.6       0.0  0.0        0   \n",
       " ...                       ...                     ...       ...  ...      ...   \n",
       " 87202                   396.5                   396.2       0.0  0.0        0   \n",
       " 87203                   398.1                   397.8       0.0  0.0        0   \n",
       " 87204                   398.0                   397.8       0.0  0.0        0   \n",
       " 87205                   398.4                   398.1       0.0  0.0        0   \n",
       " 87206                   399.1                   398.8       0.0  0.0        0   \n",
       " \n",
       "       45_days 40_days 30_days 10_days 5_days  \n",
       " 0           0       0       0       0      0  \n",
       " 9           0       0       0       0      0  \n",
       " 10          0       0       0       0      0  \n",
       " 17          0       0       0       0      0  \n",
       " 22          0       0       0       0      0  \n",
       " ...       ...     ...     ...     ...    ...  \n",
       " 87202       0       0       0       0      0  \n",
       " 87203       0       0       0       0      0  \n",
       " 87204       0       0       0       0      0  \n",
       " 87205       0       0       0       0      0  \n",
       " 87206       0       0       0       0      0  \n",
       " \n",
       " [434145 rows x 33 columns],\n",
       "                  Timestamp Turbine_ID Gear_Oil_Temp_Avg Gear_Bear_Temp_Avg  \\\n",
       " 0      2016-01-01 00:00:00        T11                48                 55   \n",
       " 9      2016-01-01 00:10:00        T11                48                 55   \n",
       " 10     2016-01-01 00:20:00        T11                49                 56   \n",
       " 17     2016-01-01 00:30:00        T11                49                 57   \n",
       " 22     2016-01-01 00:40:00        T11                50                 57   \n",
       " ...                    ...        ...               ...                ...   \n",
       " 434123 2017-08-31 23:20:00        T07                51                 54   \n",
       " 434127 2017-08-31 23:30:00        T07                50                 54   \n",
       " 434130 2017-08-31 23:40:00        T07                50                 53   \n",
       " 434139 2017-08-31 23:50:00        T07                50                 53   \n",
       " 434144 2017-09-01 00:00:00        T07                50                 53   \n",
       " \n",
       "         Rtr_RPM_Avg Grd_RtrInvPhase2_Temp_Avg  Rtr_RPM_Std  Amb_WindSpeed_Max  \\\n",
       " 0              11.3                        40          0.2                8.6   \n",
       " 9              11.5                        40          0.4               11.1   \n",
       " 10             11.9                        40          0.2                9.9   \n",
       " 17             12.2                        41          0.4                9.4   \n",
       " 22             12.4                        40          0.6               11.6   \n",
       " ...             ...                       ...          ...                ...   \n",
       " 434123         11.1                        39          0.1                8.1   \n",
       " 434127         11.1                        39          0.1               10.0   \n",
       " 434130         11.1                        38          0.1                8.0   \n",
       " 434139         11.1                        38          0.1                8.7   \n",
       " 434144         11.1                        39          0.1                8.1   \n",
       " \n",
       "         Amb_WindSpeed_Min  Amb_WindSpeed_Avg  ...  Nac_Direction_Avg  \\\n",
       " 0                     2.6                5.3  ...              206.9   \n",
       " 9                     1.7                5.7  ...              206.9   \n",
       " 10                    1.5                6.1  ...              206.9   \n",
       " 17                    2.7                6.3  ...              206.9   \n",
       " 22                    1.7                6.4  ...              206.9   \n",
       " ...                   ...                ...  ...                ...   \n",
       " 434123                2.1                4.8  ...              102.8   \n",
       " 434127                2.1                4.9  ...               95.3   \n",
       " 434130                1.7                4.3  ...               91.9   \n",
       " 434139                2.7                5.1  ...               87.2   \n",
       " 434144                2.5                5.2  ...               90.1   \n",
       " \n",
       "         Hyd_Oil_Temp_Avg  Component  TTF  60_days  45_days 40_days 30_days  \\\n",
       " 0                     30        0.0  0.0        0        0       0       0   \n",
       " 9                     30        0.0  0.0        0        0       0       0   \n",
       " 10                    30        0.0  0.0        0        0       0       0   \n",
       " 17                    30        0.0  0.0        0        0       0       0   \n",
       " 22                    30        0.0  0.0        0        0       0       0   \n",
       " ...                  ...        ...  ...      ...      ...     ...     ...   \n",
       " 434123                41        0.0  0.0        0        0       0       0   \n",
       " 434127                41        0.0  0.0        0        0       0       0   \n",
       " 434130                41        0.0  0.0        0        0       0       0   \n",
       " 434139                41        0.0  0.0        0        0       0       0   \n",
       " 434144                40        0.0  0.0        0        0       0       0   \n",
       " \n",
       "        10_days 5_days  \n",
       " 0            0      0  \n",
       " 9            0      0  \n",
       " 10           0      0  \n",
       " 17           0      0  \n",
       " 22           0      0  \n",
       " ...        ...    ...  \n",
       " 434123       0      0  \n",
       " 434127       0      0  \n",
       " 434130       0      0  \n",
       " 434139       0      0  \n",
       " 434144       0      0  \n",
       " \n",
       " [434145 rows x 31 columns]]"
      ]
     },
     "execution_count": 30,
     "metadata": {},
     "output_type": "execute_result"
    }
   ],
   "source": [
    "comp_df_list"
   ]
  },
  {
   "cell_type": "code",
   "execution_count": 31,
   "metadata": {
    "ExecuteTime": {
     "end_time": "2021-02-06T19:44:00.115573Z",
     "start_time": "2021-02-06T19:43:59.948367Z"
    }
   },
   "outputs": [],
   "source": [
    "df_train_generator   = df_train[0]\n",
    "df_train_hydraulic   = df_train[1]\n",
    "df_train_gen_bear    = df_train[2]\n",
    "df_train_transformer = df_train[3]\n",
    "df_train_gearbox     = df_train[4]\n",
    "\n"
   ]
  },
  {
   "cell_type": "code",
   "execution_count": 40,
   "metadata": {
    "ExecuteTime": {
     "end_time": "2021-02-06T19:50:47.125854Z",
     "start_time": "2021-02-06T19:50:47.084903Z"
    }
   },
   "outputs": [],
   "source": [
    "\n",
    "df_test_generator   = df_test[0]\n",
    "df_test_hydraulic   = df_test[1]\n",
    "df_test_gen_bear    = df_test[2]\n",
    "df_test_transformer = df_test[3]\n",
    "df_test_gearbox     = df_test[4]"
   ]
  },
  {
   "cell_type": "code",
   "execution_count": 38,
   "metadata": {
    "ExecuteTime": {
     "end_time": "2021-02-06T19:48:34.715086Z",
     "start_time": "2021-02-06T19:48:34.578211Z"
    }
   },
   "outputs": [
    {
     "data": {
      "text/html": [
       "<div>\n",
       "<style scoped>\n",
       "    .dataframe tbody tr th:only-of-type {\n",
       "        vertical-align: middle;\n",
       "    }\n",
       "\n",
       "    .dataframe tbody tr th {\n",
       "        vertical-align: top;\n",
       "    }\n",
       "\n",
       "    .dataframe thead th {\n",
       "        text-align: right;\n",
       "    }\n",
       "</style>\n",
       "<table border=\"1\" class=\"dataframe\">\n",
       "  <thead>\n",
       "    <tr style=\"text-align: right;\">\n",
       "      <th></th>\n",
       "      <th>Timestamp</th>\n",
       "      <th>Turbine_ID</th>\n",
       "      <th>Gen_RPM_Avg</th>\n",
       "      <th>Gen_RPM_Std</th>\n",
       "      <th>Gen_Bear_Temp_Avg</th>\n",
       "      <th>Gen_Phase2_Temp_Avg</th>\n",
       "      <th>Prod_LatestAvg_ActPwrGen0</th>\n",
       "      <th>Prod_LatestAvg_ActPwrGen1</th>\n",
       "      <th>Prod_LatestAvg_ReactPwrGen0</th>\n",
       "      <th>Gen_SlipRing_Temp_Avg</th>\n",
       "      <th>...</th>\n",
       "      <th>Grd_Busbar_Temp_Avg</th>\n",
       "      <th>Hyd_Oil_Temp_Avg</th>\n",
       "      <th>Component</th>\n",
       "      <th>TTF</th>\n",
       "      <th>60_days</th>\n",
       "      <th>45_days</th>\n",
       "      <th>40_days</th>\n",
       "      <th>30_days</th>\n",
       "      <th>10_days</th>\n",
       "      <th>5_days</th>\n",
       "    </tr>\n",
       "  </thead>\n",
       "  <tbody>\n",
       "    <tr>\n",
       "      <th>0</th>\n",
       "      <td>2016-01-01 00:00:00</td>\n",
       "      <td>T11</td>\n",
       "      <td>1270.9</td>\n",
       "      <td>18.8</td>\n",
       "      <td>42.0</td>\n",
       "      <td>61.0</td>\n",
       "      <td>0.0</td>\n",
       "      <td>41059.0</td>\n",
       "      <td>0.0</td>\n",
       "      <td>27.0</td>\n",
       "      <td>...</td>\n",
       "      <td>39.0</td>\n",
       "      <td>30.0</td>\n",
       "      <td>0.0</td>\n",
       "      <td>63.0</td>\n",
       "      <td>0</td>\n",
       "      <td>0</td>\n",
       "      <td>0</td>\n",
       "      <td>0</td>\n",
       "      <td>0</td>\n",
       "      <td>0</td>\n",
       "    </tr>\n",
       "    <tr>\n",
       "      <th>1</th>\n",
       "      <td>2016-01-01 00:10:00</td>\n",
       "      <td>T11</td>\n",
       "      <td>1303.6</td>\n",
       "      <td>40.2</td>\n",
       "      <td>43.0</td>\n",
       "      <td>61.0</td>\n",
       "      <td>0.0</td>\n",
       "      <td>50808.0</td>\n",
       "      <td>0.0</td>\n",
       "      <td>27.0</td>\n",
       "      <td>...</td>\n",
       "      <td>39.0</td>\n",
       "      <td>30.0</td>\n",
       "      <td>0.0</td>\n",
       "      <td>63.0</td>\n",
       "      <td>0</td>\n",
       "      <td>0</td>\n",
       "      <td>0</td>\n",
       "      <td>0</td>\n",
       "      <td>0</td>\n",
       "      <td>0</td>\n",
       "    </tr>\n",
       "    <tr>\n",
       "      <th>2</th>\n",
       "      <td>2016-01-01 00:20:00</td>\n",
       "      <td>T11</td>\n",
       "      <td>1344.3</td>\n",
       "      <td>27.2</td>\n",
       "      <td>43.0</td>\n",
       "      <td>61.0</td>\n",
       "      <td>0.0</td>\n",
       "      <td>60667.0</td>\n",
       "      <td>0.0</td>\n",
       "      <td>27.0</td>\n",
       "      <td>...</td>\n",
       "      <td>39.0</td>\n",
       "      <td>30.0</td>\n",
       "      <td>0.0</td>\n",
       "      <td>63.0</td>\n",
       "      <td>0</td>\n",
       "      <td>0</td>\n",
       "      <td>0</td>\n",
       "      <td>0</td>\n",
       "      <td>0</td>\n",
       "      <td>0</td>\n",
       "    </tr>\n",
       "    <tr>\n",
       "      <th>3</th>\n",
       "      <td>2016-01-01 00:30:00</td>\n",
       "      <td>T11</td>\n",
       "      <td>1377.5</td>\n",
       "      <td>48.9</td>\n",
       "      <td>43.0</td>\n",
       "      <td>62.0</td>\n",
       "      <td>0.0</td>\n",
       "      <td>77486.0</td>\n",
       "      <td>0.0</td>\n",
       "      <td>27.0</td>\n",
       "      <td>...</td>\n",
       "      <td>39.0</td>\n",
       "      <td>30.0</td>\n",
       "      <td>0.0</td>\n",
       "      <td>63.0</td>\n",
       "      <td>0</td>\n",
       "      <td>0</td>\n",
       "      <td>0</td>\n",
       "      <td>0</td>\n",
       "      <td>0</td>\n",
       "      <td>0</td>\n",
       "    </tr>\n",
       "    <tr>\n",
       "      <th>4</th>\n",
       "      <td>2016-01-01 00:40:00</td>\n",
       "      <td>T11</td>\n",
       "      <td>1396.2</td>\n",
       "      <td>66.8</td>\n",
       "      <td>43.0</td>\n",
       "      <td>62.0</td>\n",
       "      <td>0.0</td>\n",
       "      <td>67378.0</td>\n",
       "      <td>0.0</td>\n",
       "      <td>27.0</td>\n",
       "      <td>...</td>\n",
       "      <td>40.0</td>\n",
       "      <td>30.0</td>\n",
       "      <td>0.0</td>\n",
       "      <td>63.0</td>\n",
       "      <td>0</td>\n",
       "      <td>0</td>\n",
       "      <td>0</td>\n",
       "      <td>0</td>\n",
       "      <td>0</td>\n",
       "      <td>0</td>\n",
       "    </tr>\n",
       "    <tr>\n",
       "      <th>...</th>\n",
       "      <td>...</td>\n",
       "      <td>...</td>\n",
       "      <td>...</td>\n",
       "      <td>...</td>\n",
       "      <td>...</td>\n",
       "      <td>...</td>\n",
       "      <td>...</td>\n",
       "      <td>...</td>\n",
       "      <td>...</td>\n",
       "      <td>...</td>\n",
       "      <td>...</td>\n",
       "      <td>...</td>\n",
       "      <td>...</td>\n",
       "      <td>...</td>\n",
       "      <td>...</td>\n",
       "      <td>...</td>\n",
       "      <td>...</td>\n",
       "      <td>...</td>\n",
       "      <td>...</td>\n",
       "      <td>...</td>\n",
       "      <td>...</td>\n",
       "    </tr>\n",
       "    <tr>\n",
       "      <th>74167</th>\n",
       "      <td>2017-05-31 23:10:00</td>\n",
       "      <td>T07</td>\n",
       "      <td>1349.3</td>\n",
       "      <td>76.8</td>\n",
       "      <td>69.0</td>\n",
       "      <td>103.0</td>\n",
       "      <td>0.0</td>\n",
       "      <td>63761.0</td>\n",
       "      <td>0.0</td>\n",
       "      <td>41.0</td>\n",
       "      <td>...</td>\n",
       "      <td>44.0</td>\n",
       "      <td>43.0</td>\n",
       "      <td>0.0</td>\n",
       "      <td>82.0</td>\n",
       "      <td>0</td>\n",
       "      <td>0</td>\n",
       "      <td>0</td>\n",
       "      <td>0</td>\n",
       "      <td>0</td>\n",
       "      <td>0</td>\n",
       "    </tr>\n",
       "    <tr>\n",
       "      <th>74168</th>\n",
       "      <td>2017-05-31 23:20:00</td>\n",
       "      <td>T07</td>\n",
       "      <td>1329.5</td>\n",
       "      <td>71.5</td>\n",
       "      <td>67.0</td>\n",
       "      <td>98.0</td>\n",
       "      <td>0.0</td>\n",
       "      <td>55821.0</td>\n",
       "      <td>0.0</td>\n",
       "      <td>39.0</td>\n",
       "      <td>...</td>\n",
       "      <td>42.0</td>\n",
       "      <td>42.0</td>\n",
       "      <td>0.0</td>\n",
       "      <td>82.0</td>\n",
       "      <td>0</td>\n",
       "      <td>0</td>\n",
       "      <td>0</td>\n",
       "      <td>0</td>\n",
       "      <td>0</td>\n",
       "      <td>0</td>\n",
       "    </tr>\n",
       "    <tr>\n",
       "      <th>74169</th>\n",
       "      <td>2017-05-31 23:30:00</td>\n",
       "      <td>T07</td>\n",
       "      <td>1339.7</td>\n",
       "      <td>89.6</td>\n",
       "      <td>65.0</td>\n",
       "      <td>93.0</td>\n",
       "      <td>0.0</td>\n",
       "      <td>52651.0</td>\n",
       "      <td>0.0</td>\n",
       "      <td>38.0</td>\n",
       "      <td>...</td>\n",
       "      <td>40.0</td>\n",
       "      <td>43.0</td>\n",
       "      <td>0.0</td>\n",
       "      <td>82.0</td>\n",
       "      <td>0</td>\n",
       "      <td>0</td>\n",
       "      <td>0</td>\n",
       "      <td>0</td>\n",
       "      <td>0</td>\n",
       "      <td>0</td>\n",
       "    </tr>\n",
       "    <tr>\n",
       "      <th>74170</th>\n",
       "      <td>2017-05-31 23:40:00</td>\n",
       "      <td>T07</td>\n",
       "      <td>1479.7</td>\n",
       "      <td>89.2</td>\n",
       "      <td>63.0</td>\n",
       "      <td>90.0</td>\n",
       "      <td>0.0</td>\n",
       "      <td>85663.0</td>\n",
       "      <td>0.0</td>\n",
       "      <td>38.0</td>\n",
       "      <td>...</td>\n",
       "      <td>39.0</td>\n",
       "      <td>44.0</td>\n",
       "      <td>0.0</td>\n",
       "      <td>82.0</td>\n",
       "      <td>0</td>\n",
       "      <td>0</td>\n",
       "      <td>0</td>\n",
       "      <td>0</td>\n",
       "      <td>0</td>\n",
       "      <td>0</td>\n",
       "    </tr>\n",
       "    <tr>\n",
       "      <th>74171</th>\n",
       "      <td>2017-05-31 23:50:00</td>\n",
       "      <td>T07</td>\n",
       "      <td>1417.1</td>\n",
       "      <td>61.0</td>\n",
       "      <td>61.0</td>\n",
       "      <td>87.0</td>\n",
       "      <td>0.0</td>\n",
       "      <td>79866.0</td>\n",
       "      <td>0.0</td>\n",
       "      <td>37.0</td>\n",
       "      <td>...</td>\n",
       "      <td>39.0</td>\n",
       "      <td>45.0</td>\n",
       "      <td>0.0</td>\n",
       "      <td>82.0</td>\n",
       "      <td>0</td>\n",
       "      <td>0</td>\n",
       "      <td>0</td>\n",
       "      <td>0</td>\n",
       "      <td>0</td>\n",
       "      <td>0</td>\n",
       "    </tr>\n",
       "  </tbody>\n",
       "</table>\n",
       "<p>368857 rows × 36 columns</p>\n",
       "</div>"
      ],
      "text/plain": [
       "                Timestamp Turbine_ID  Gen_RPM_Avg  Gen_RPM_Std  \\\n",
       "0     2016-01-01 00:00:00        T11       1270.9         18.8   \n",
       "1     2016-01-01 00:10:00        T11       1303.6         40.2   \n",
       "2     2016-01-01 00:20:00        T11       1344.3         27.2   \n",
       "3     2016-01-01 00:30:00        T11       1377.5         48.9   \n",
       "4     2016-01-01 00:40:00        T11       1396.2         66.8   \n",
       "...                   ...        ...          ...          ...   \n",
       "74167 2017-05-31 23:10:00        T07       1349.3         76.8   \n",
       "74168 2017-05-31 23:20:00        T07       1329.5         71.5   \n",
       "74169 2017-05-31 23:30:00        T07       1339.7         89.6   \n",
       "74170 2017-05-31 23:40:00        T07       1479.7         89.2   \n",
       "74171 2017-05-31 23:50:00        T07       1417.1         61.0   \n",
       "\n",
       "       Gen_Bear_Temp_Avg  Gen_Phase2_Temp_Avg  Prod_LatestAvg_ActPwrGen0  \\\n",
       "0                   42.0                 61.0                        0.0   \n",
       "1                   43.0                 61.0                        0.0   \n",
       "2                   43.0                 61.0                        0.0   \n",
       "3                   43.0                 62.0                        0.0   \n",
       "4                   43.0                 62.0                        0.0   \n",
       "...                  ...                  ...                        ...   \n",
       "74167               69.0                103.0                        0.0   \n",
       "74168               67.0                 98.0                        0.0   \n",
       "74169               65.0                 93.0                        0.0   \n",
       "74170               63.0                 90.0                        0.0   \n",
       "74171               61.0                 87.0                        0.0   \n",
       "\n",
       "       Prod_LatestAvg_ActPwrGen1  Prod_LatestAvg_ReactPwrGen0  \\\n",
       "0                        41059.0                          0.0   \n",
       "1                        50808.0                          0.0   \n",
       "2                        60667.0                          0.0   \n",
       "3                        77486.0                          0.0   \n",
       "4                        67378.0                          0.0   \n",
       "...                          ...                          ...   \n",
       "74167                    63761.0                          0.0   \n",
       "74168                    55821.0                          0.0   \n",
       "74169                    52651.0                          0.0   \n",
       "74170                    85663.0                          0.0   \n",
       "74171                    79866.0                          0.0   \n",
       "\n",
       "       Gen_SlipRing_Temp_Avg  ...  Grd_Busbar_Temp_Avg  Hyd_Oil_Temp_Avg  \\\n",
       "0                       27.0  ...                 39.0              30.0   \n",
       "1                       27.0  ...                 39.0              30.0   \n",
       "2                       27.0  ...                 39.0              30.0   \n",
       "3                       27.0  ...                 39.0              30.0   \n",
       "4                       27.0  ...                 40.0              30.0   \n",
       "...                      ...  ...                  ...               ...   \n",
       "74167                   41.0  ...                 44.0              43.0   \n",
       "74168                   39.0  ...                 42.0              42.0   \n",
       "74169                   38.0  ...                 40.0              43.0   \n",
       "74170                   38.0  ...                 39.0              44.0   \n",
       "74171                   37.0  ...                 39.0              45.0   \n",
       "\n",
       "       Component   TTF  60_days  45_days  40_days  30_days  10_days  5_days  \n",
       "0            0.0  63.0        0        0        0        0        0       0  \n",
       "1            0.0  63.0        0        0        0        0        0       0  \n",
       "2            0.0  63.0        0        0        0        0        0       0  \n",
       "3            0.0  63.0        0        0        0        0        0       0  \n",
       "4            0.0  63.0        0        0        0        0        0       0  \n",
       "...          ...   ...      ...      ...      ...      ...      ...     ...  \n",
       "74167        0.0  82.0        0        0        0        0        0       0  \n",
       "74168        0.0  82.0        0        0        0        0        0       0  \n",
       "74169        0.0  82.0        0        0        0        0        0       0  \n",
       "74170        0.0  82.0        0        0        0        0        0       0  \n",
       "74171        0.0  82.0        0        0        0        0        0       0  \n",
       "\n",
       "[368857 rows x 36 columns]"
      ]
     },
     "execution_count": 38,
     "metadata": {},
     "output_type": "execute_result"
    }
   ],
   "source": [
    "df_train_generator"
   ]
  },
  {
   "cell_type": "code",
   "execution_count": 39,
   "metadata": {
    "ExecuteTime": {
     "end_time": "2021-02-06T19:49:55.146336Z",
     "start_time": "2021-02-06T19:49:55.077267Z"
    }
   },
   "outputs": [],
   "source": [
    "def bin_classify(model, clf, features,target, df_train, df_test ,params=None, score=None, ):\n",
    "    \n",
    "    \"\"\"Perfor Grid Search hyper parameter tuning on a classifier.\n",
    "    \n",
    "    Args:\n",
    "        model (str): The model name identifier\n",
    "        clf (clssifier object): The classifier to be tuned\n",
    "        features (list): The set of input features names\n",
    "        params (dict): Grid Search parameters\n",
    "        score (str): Grid Search score\n",
    "        \n",
    "    Returns:\n",
    "        Tuned Clssifier object\n",
    "        dataframe of model predictions and scores\n",
    "    \n",
    "    \"\"\"\n",
    "    \n",
    "    \n",
    "    X_train = df_train[features]\n",
    "\n",
    "    X_test = df_test[features] \n",
    "    y_train = df_train[target]\n",
    "    y_test = df_test[target]\n",
    "\n",
    "    \n",
    "    grid_search = model_selection.GridSearchCV(estimator=clf, param_grid=params, cv=5, scoring=score, n_jobs=-1)\n",
    "\n",
    "    grid_search.fit(X_train, y_train)\n",
    "    y_pred = grid_search.predict(X_test)\n",
    "    \n",
    "    if hasattr(grid_search, 'predict_proba'):   \n",
    "        y_score = grid_search.predict_proba(X_test)[:,1]\n",
    "    elif hasattr(grid_search, 'decision_function'):\n",
    "        y_score = grid_search.decision_function(X_test)\n",
    "    else:\n",
    "        y_score = y_pred\n",
    "        \n",
    "    predictions = {'y_pred' : y_pred, 'y_score' : y_score}\n",
    "    df_predictions = pd.DataFrame.from_dict(predictions)\n",
    "    \n",
    "    return grid_search.best_estimator_, df_predictions"
   ]
  },
  {
   "cell_type": "code",
   "execution_count": null,
   "metadata": {},
   "outputs": [],
   "source": []
  },
  {
   "cell_type": "code",
   "execution_count": null,
   "metadata": {},
   "outputs": [],
   "source": []
  },
  {
   "cell_type": "code",
   "execution_count": null,
   "metadata": {},
   "outputs": [],
   "source": []
  },
  {
   "cell_type": "code",
   "execution_count": null,
   "metadata": {},
   "outputs": [],
   "source": []
  }
 ],
 "metadata": {
  "kernelspec": {
   "display_name": "Python 3",
   "language": "python",
   "name": "python3"
  },
  "language_info": {
   "codemirror_mode": {
    "name": "ipython",
    "version": 3
   },
   "file_extension": ".py",
   "mimetype": "text/x-python",
   "name": "python",
   "nbconvert_exporter": "python",
   "pygments_lexer": "ipython3",
   "version": "3.8.5"
  },
  "toc": {
   "base_numbering": "",
   "nav_menu": {},
   "number_sections": true,
   "sideBar": true,
   "skip_h1_title": true,
   "title_cell": "Table of Contents",
   "title_sidebar": "Contents",
   "toc_cell": true,
   "toc_position": {},
   "toc_section_display": false,
   "toc_window_display": true
  }
 },
 "nbformat": 4,
 "nbformat_minor": 4
}
