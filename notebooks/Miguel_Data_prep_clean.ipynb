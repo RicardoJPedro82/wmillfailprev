{
 "cells": [
  {
   "cell_type": "markdown",
   "metadata": {
    "toc": true
   },
   "source": [
    "<h1>Table of Contents<span class=\"tocSkip\"></span></h1>\n",
    "<div class=\"toc\"><ul class=\"toc-item\"></ul></div>"
   ]
  },
  {
   "cell_type": "markdown",
   "metadata": {},
   "source": [
    "# Importar os módulos"
   ]
  },
  {
   "cell_type": "code",
   "execution_count": 158,
   "metadata": {
    "ExecuteTime": {
     "end_time": "2021-02-07T18:46:28.664210Z",
     "start_time": "2021-02-07T18:46:28.581885Z"
    }
   },
   "outputs": [
    {
     "name": "stdout",
     "output_type": "stream",
     "text": [
      "The autoreload extension is already loaded. To reload it, use:\n",
      "  %reload_ext autoreload\n"
     ]
    }
   ],
   "source": [
    "%load_ext autoreload\n",
    "%autoreload 2\n",
    "import os\n",
    "import pandas as pd\n",
    "import numpy as np\n",
    "import datetime\n",
    "import seaborn as sns\n",
    "import matplotlib.pyplot as plt\n",
    "plt.style.use('ggplot')\n",
    "%matplotlib inline  \n",
    "import Dataset_transf as dprep\n",
    "from sklearn.preprocessing import OneHotEncoder\n",
    "from sklearn.preprocessing import StandardScaler\n",
    "\n",
    "\n",
    "from sklearn import metrics\n",
    "\n",
    "from sklearn import model_selection\n",
    "\n",
    "from sklearn.linear_model import LogisticRegression\n",
    "from sklearn.ensemble import RandomForestClassifier\n",
    "from sklearn.svm import SVC, LinearSVC\n",
    "from sklearn.tree import DecisionTreeClassifier, export_graphviz\n",
    "from sklearn.neighbors import KNeighborsClassifier\n",
    "from sklearn.naive_bayes import GaussianNB\n",
    "from sklearn.metrics import roc_auc_score, accuracy_score, log_loss, roc_curve, precision_score, recall_score,confusion_matrix,f1_score,fbeta_score, make_scorer\n"
   ]
  },
  {
   "cell_type": "markdown",
   "metadata": {},
   "source": [
    "# Obter os dataframes dos ficheiros"
   ]
  },
  {
   "cell_type": "code",
   "execution_count": 159,
   "metadata": {
    "ExecuteTime": {
     "end_time": "2021-02-07T18:46:54.197047Z",
     "start_time": "2021-02-07T18:46:29.457135Z"
    }
   },
   "outputs": [],
   "source": [
    "failures_df, signals_df, logs_df = dprep.get_data()"
   ]
  },
  {
   "cell_type": "code",
   "execution_count": 160,
   "metadata": {
    "ExecuteTime": {
     "end_time": "2021-02-07T18:46:54.274517Z",
     "start_time": "2021-02-07T18:46:54.199165Z"
    }
   },
   "outputs": [],
   "source": [
    "df_list = [failures_df, signals_df, logs_df]"
   ]
  },
  {
   "cell_type": "markdown",
   "metadata": {},
   "source": [
    "# Criação de datasets de components"
   ]
  },
  {
   "cell_type": "code",
   "execution_count": 4,
   "metadata": {
    "ExecuteTime": {
     "end_time": "2021-02-07T16:33:41.913138Z",
     "start_time": "2021-02-07T16:33:41.528364Z"
    }
   },
   "outputs": [],
   "source": [
    "df_generator, df_gen_bear, df_transformer, df_hydraulic, df_gearbox = dprep.component_df_creation(signals_df)"
   ]
  },
  {
   "cell_type": "code",
   "execution_count": 5,
   "metadata": {
    "ExecuteTime": {
     "end_time": "2021-02-07T16:33:41.939682Z",
     "start_time": "2021-02-07T16:33:41.915672Z"
    }
   },
   "outputs": [],
   "source": [
    "comp_df_list = [df_generator, df_hydraulic, df_gen_bear, df_transformer,  df_gearbox]"
   ]
  },
  {
   "cell_type": "code",
   "execution_count": 6,
   "metadata": {
    "ExecuteTime": {
     "end_time": "2021-02-07T16:33:41.966774Z",
     "start_time": "2021-02-07T16:33:41.941939Z"
    }
   },
   "outputs": [
    {
     "name": "stdout",
     "output_type": "stream",
     "text": [
      "(434145, 45)\n",
      "(434145, 31)\n",
      "(434145, 45)\n",
      "(434145, 36)\n",
      "(434145, 33)\n"
     ]
    }
   ],
   "source": [
    "for i in comp_df_list:\n",
    "    print(i.shape)"
   ]
  },
  {
   "cell_type": "code",
   "execution_count": 7,
   "metadata": {
    "ExecuteTime": {
     "end_time": "2021-02-07T16:33:42.003896Z",
     "start_time": "2021-02-07T16:33:41.970170Z"
    }
   },
   "outputs": [
    {
     "data": {
      "text/plain": [
       "array(['GENERATOR', 'HYDRAULIC_GROUP', 'GENERATOR_BEARING', 'TRANSFORMER',\n",
       "       'GEARBOX'], dtype=object)"
      ]
     },
     "execution_count": 7,
     "metadata": {},
     "output_type": "execute_result"
    }
   ],
   "source": [
    "component_list = failures_df.Component.unique()\n",
    "component_list"
   ]
  },
  {
   "cell_type": "markdown",
   "metadata": {},
   "source": [
    "# Merge dos DF com o DF de failures"
   ]
  },
  {
   "cell_type": "code",
   "execution_count": 8,
   "metadata": {
    "ExecuteTime": {
     "end_time": "2021-02-07T16:33:46.061105Z",
     "start_time": "2021-02-07T16:33:42.009140Z"
    }
   },
   "outputs": [],
   "source": [
    "for i in range(len(component_list)):\n",
    "    comp_df_list[i] = dprep.sig_fail_merge_dfs(sig_df=comp_df_list[i],\n",
    "                                               fail_df=failures_df,\n",
    "                                               component=component_list[i])"
   ]
  },
  {
   "cell_type": "code",
   "execution_count": 9,
   "metadata": {
    "ExecuteTime": {
     "end_time": "2021-02-07T16:33:46.102413Z",
     "start_time": "2021-02-07T16:33:46.067207Z"
    }
   },
   "outputs": [
    {
     "name": "stdout",
     "output_type": "stream",
     "text": [
      "(434147, 46)\n",
      "(434145, 32)\n",
      "(434145, 46)\n",
      "(434145, 37)\n",
      "(434145, 34)\n"
     ]
    }
   ],
   "source": [
    "for i in comp_df_list:\n",
    "    print(i.shape)"
   ]
  },
  {
   "cell_type": "markdown",
   "metadata": {},
   "source": [
    "# Fillna by turbine"
   ]
  },
  {
   "cell_type": "code",
   "execution_count": 10,
   "metadata": {
    "ExecuteTime": {
     "end_time": "2021-02-07T16:33:46.167784Z",
     "start_time": "2021-02-07T16:33:46.105240Z"
    }
   },
   "outputs": [
    {
     "data": {
      "text/plain": [
       "array(['T11', 'T06', 'T01', 'T09', 'T07'], dtype=object)"
      ]
     },
     "execution_count": 10,
     "metadata": {},
     "output_type": "execute_result"
    }
   ],
   "source": [
    "turbine_list = signals_df.Turbine_ID.unique()\n",
    "turbine_list"
   ]
  },
  {
   "cell_type": "code",
   "execution_count": 11,
   "metadata": {
    "ExecuteTime": {
     "end_time": "2021-02-07T16:33:54.573924Z",
     "start_time": "2021-02-07T16:33:46.175270Z"
    }
   },
   "outputs": [
    {
     "name": "stderr",
     "output_type": "stream",
     "text": [
      "/Users/miguelamaro/code/miguelamaro4/Final_Project/wmillfailprev/notebooks/Dataset_transf.py:149: SettingWithCopyWarning: \n",
      "A value is trying to be set on a copy of a slice from a DataFrame.\n",
      "Try using .loc[row_indexer,col_indexer] = value instead\n",
      "\n",
      "See the caveats in the documentation: https://pandas.pydata.org/pandas-docs/stable/user_guide/indexing.html#returning-a-view-versus-a-copy\n",
      "  index['date'] = index['Timestamp']\n",
      "/Users/miguelamaro/code/miguelamaro4/Final_Project/wmillfailprev/notebooks/Dataset_transf.py:149: SettingWithCopyWarning: \n",
      "A value is trying to be set on a copy of a slice from a DataFrame.\n",
      "Try using .loc[row_indexer,col_indexer] = value instead\n",
      "\n",
      "See the caveats in the documentation: https://pandas.pydata.org/pandas-docs/stable/user_guide/indexing.html#returning-a-view-versus-a-copy\n",
      "  index['date'] = index['Timestamp']\n",
      "/Users/miguelamaro/code/miguelamaro4/Final_Project/wmillfailprev/notebooks/Dataset_transf.py:162: SettingWithCopyWarning: \n",
      "A value is trying to be set on a copy of a slice from a DataFrame.\n",
      "Try using .loc[row_indexer,col_indexer] = value instead\n",
      "\n",
      "See the caveats in the documentation: https://pandas.pydata.org/pandas-docs/stable/user_guide/indexing.html#returning-a-view-versus-a-copy\n",
      "  df_merged['date'] = df_merged['Timestamp']\n",
      "/Users/miguelamaro/code/miguelamaro4/Final_Project/wmillfailprev/notebooks/Dataset_transf.py:163: SettingWithCopyWarning: \n",
      "A value is trying to be set on a copy of a slice from a DataFrame.\n",
      "Try using .loc[row_indexer,col_indexer] = value instead\n",
      "\n",
      "See the caveats in the documentation: https://pandas.pydata.org/pandas-docs/stable/user_guide/indexing.html#returning-a-view-versus-a-copy\n",
      "  df_merged['TTF'] = 0 # df_merged['date'] - df_merged['Timestamp']\n",
      "/Users/miguelamaro/code/miguelamaro4/Final_Project/wmillfailprev/notebooks/Dataset_transf.py:149: SettingWithCopyWarning: \n",
      "A value is trying to be set on a copy of a slice from a DataFrame.\n",
      "Try using .loc[row_indexer,col_indexer] = value instead\n",
      "\n",
      "See the caveats in the documentation: https://pandas.pydata.org/pandas-docs/stable/user_guide/indexing.html#returning-a-view-versus-a-copy\n",
      "  index['date'] = index['Timestamp']\n",
      "/Users/miguelamaro/code/miguelamaro4/Final_Project/wmillfailprev/notebooks/Dataset_transf.py:149: SettingWithCopyWarning: \n",
      "A value is trying to be set on a copy of a slice from a DataFrame.\n",
      "Try using .loc[row_indexer,col_indexer] = value instead\n",
      "\n",
      "See the caveats in the documentation: https://pandas.pydata.org/pandas-docs/stable/user_guide/indexing.html#returning-a-view-versus-a-copy\n",
      "  index['date'] = index['Timestamp']\n",
      "/Users/miguelamaro/code/miguelamaro4/Final_Project/wmillfailprev/notebooks/Dataset_transf.py:149: SettingWithCopyWarning: \n",
      "A value is trying to be set on a copy of a slice from a DataFrame.\n",
      "Try using .loc[row_indexer,col_indexer] = value instead\n",
      "\n",
      "See the caveats in the documentation: https://pandas.pydata.org/pandas-docs/stable/user_guide/indexing.html#returning-a-view-versus-a-copy\n",
      "  index['date'] = index['Timestamp']\n",
      "/Users/miguelamaro/code/miguelamaro4/Final_Project/wmillfailprev/notebooks/Dataset_transf.py:162: SettingWithCopyWarning: \n",
      "A value is trying to be set on a copy of a slice from a DataFrame.\n",
      "Try using .loc[row_indexer,col_indexer] = value instead\n",
      "\n",
      "See the caveats in the documentation: https://pandas.pydata.org/pandas-docs/stable/user_guide/indexing.html#returning-a-view-versus-a-copy\n",
      "  df_merged['date'] = df_merged['Timestamp']\n",
      "/Users/miguelamaro/code/miguelamaro4/Final_Project/wmillfailprev/notebooks/Dataset_transf.py:163: SettingWithCopyWarning: \n",
      "A value is trying to be set on a copy of a slice from a DataFrame.\n",
      "Try using .loc[row_indexer,col_indexer] = value instead\n",
      "\n",
      "See the caveats in the documentation: https://pandas.pydata.org/pandas-docs/stable/user_guide/indexing.html#returning-a-view-versus-a-copy\n",
      "  df_merged['TTF'] = 0 # df_merged['date'] - df_merged['Timestamp']\n",
      "/Users/miguelamaro/code/miguelamaro4/Final_Project/wmillfailprev/notebooks/Dataset_transf.py:149: SettingWithCopyWarning: \n",
      "A value is trying to be set on a copy of a slice from a DataFrame.\n",
      "Try using .loc[row_indexer,col_indexer] = value instead\n",
      "\n",
      "See the caveats in the documentation: https://pandas.pydata.org/pandas-docs/stable/user_guide/indexing.html#returning-a-view-versus-a-copy\n",
      "  index['date'] = index['Timestamp']\n",
      "/Users/miguelamaro/code/miguelamaro4/Final_Project/wmillfailprev/notebooks/Dataset_transf.py:162: SettingWithCopyWarning: \n",
      "A value is trying to be set on a copy of a slice from a DataFrame.\n",
      "Try using .loc[row_indexer,col_indexer] = value instead\n",
      "\n",
      "See the caveats in the documentation: https://pandas.pydata.org/pandas-docs/stable/user_guide/indexing.html#returning-a-view-versus-a-copy\n",
      "  df_merged['date'] = df_merged['Timestamp']\n",
      "/Users/miguelamaro/code/miguelamaro4/Final_Project/wmillfailprev/notebooks/Dataset_transf.py:163: SettingWithCopyWarning: \n",
      "A value is trying to be set on a copy of a slice from a DataFrame.\n",
      "Try using .loc[row_indexer,col_indexer] = value instead\n",
      "\n",
      "See the caveats in the documentation: https://pandas.pydata.org/pandas-docs/stable/user_guide/indexing.html#returning-a-view-versus-a-copy\n",
      "  df_merged['TTF'] = 0 # df_merged['date'] - df_merged['Timestamp']\n",
      "/Users/miguelamaro/code/miguelamaro4/Final_Project/wmillfailprev/notebooks/Dataset_transf.py:149: SettingWithCopyWarning: \n",
      "A value is trying to be set on a copy of a slice from a DataFrame.\n",
      "Try using .loc[row_indexer,col_indexer] = value instead\n",
      "\n",
      "See the caveats in the documentation: https://pandas.pydata.org/pandas-docs/stable/user_guide/indexing.html#returning-a-view-versus-a-copy\n",
      "  index['date'] = index['Timestamp']\n",
      "/Users/miguelamaro/code/miguelamaro4/Final_Project/wmillfailprev/notebooks/Dataset_transf.py:149: SettingWithCopyWarning: \n",
      "A value is trying to be set on a copy of a slice from a DataFrame.\n",
      "Try using .loc[row_indexer,col_indexer] = value instead\n",
      "\n",
      "See the caveats in the documentation: https://pandas.pydata.org/pandas-docs/stable/user_guide/indexing.html#returning-a-view-versus-a-copy\n",
      "  index['date'] = index['Timestamp']\n",
      "/Users/miguelamaro/code/miguelamaro4/Final_Project/wmillfailprev/notebooks/Dataset_transf.py:162: SettingWithCopyWarning: \n",
      "A value is trying to be set on a copy of a slice from a DataFrame.\n",
      "Try using .loc[row_indexer,col_indexer] = value instead\n",
      "\n",
      "See the caveats in the documentation: https://pandas.pydata.org/pandas-docs/stable/user_guide/indexing.html#returning-a-view-versus-a-copy\n",
      "  df_merged['date'] = df_merged['Timestamp']\n",
      "/Users/miguelamaro/code/miguelamaro4/Final_Project/wmillfailprev/notebooks/Dataset_transf.py:163: SettingWithCopyWarning: \n",
      "A value is trying to be set on a copy of a slice from a DataFrame.\n",
      "Try using .loc[row_indexer,col_indexer] = value instead\n",
      "\n",
      "See the caveats in the documentation: https://pandas.pydata.org/pandas-docs/stable/user_guide/indexing.html#returning-a-view-versus-a-copy\n",
      "  df_merged['TTF'] = 0 # df_merged['date'] - df_merged['Timestamp']\n",
      "/Users/miguelamaro/code/miguelamaro4/Final_Project/wmillfailprev/notebooks/Dataset_transf.py:149: SettingWithCopyWarning: \n",
      "A value is trying to be set on a copy of a slice from a DataFrame.\n",
      "Try using .loc[row_indexer,col_indexer] = value instead\n",
      "\n",
      "See the caveats in the documentation: https://pandas.pydata.org/pandas-docs/stable/user_guide/indexing.html#returning-a-view-versus-a-copy\n",
      "  index['date'] = index['Timestamp']\n",
      "/Users/miguelamaro/code/miguelamaro4/Final_Project/wmillfailprev/notebooks/Dataset_transf.py:162: SettingWithCopyWarning: \n",
      "A value is trying to be set on a copy of a slice from a DataFrame.\n",
      "Try using .loc[row_indexer,col_indexer] = value instead\n",
      "\n",
      "See the caveats in the documentation: https://pandas.pydata.org/pandas-docs/stable/user_guide/indexing.html#returning-a-view-versus-a-copy\n",
      "  df_merged['date'] = df_merged['Timestamp']\n",
      "/Users/miguelamaro/code/miguelamaro4/Final_Project/wmillfailprev/notebooks/Dataset_transf.py:163: SettingWithCopyWarning: \n",
      "A value is trying to be set on a copy of a slice from a DataFrame.\n",
      "Try using .loc[row_indexer,col_indexer] = value instead\n",
      "\n",
      "See the caveats in the documentation: https://pandas.pydata.org/pandas-docs/stable/user_guide/indexing.html#returning-a-view-versus-a-copy\n",
      "  df_merged['TTF'] = 0 # df_merged['date'] - df_merged['Timestamp']\n"
     ]
    },
    {
     "name": "stderr",
     "output_type": "stream",
     "text": [
      "/Users/miguelamaro/code/miguelamaro4/Final_Project/wmillfailprev/notebooks/Dataset_transf.py:149: SettingWithCopyWarning: \n",
      "A value is trying to be set on a copy of a slice from a DataFrame.\n",
      "Try using .loc[row_indexer,col_indexer] = value instead\n",
      "\n",
      "See the caveats in the documentation: https://pandas.pydata.org/pandas-docs/stable/user_guide/indexing.html#returning-a-view-versus-a-copy\n",
      "  index['date'] = index['Timestamp']\n",
      "/Users/miguelamaro/code/miguelamaro4/Final_Project/wmillfailprev/notebooks/Dataset_transf.py:162: SettingWithCopyWarning: \n",
      "A value is trying to be set on a copy of a slice from a DataFrame.\n",
      "Try using .loc[row_indexer,col_indexer] = value instead\n",
      "\n",
      "See the caveats in the documentation: https://pandas.pydata.org/pandas-docs/stable/user_guide/indexing.html#returning-a-view-versus-a-copy\n",
      "  df_merged['date'] = df_merged['Timestamp']\n",
      "/Users/miguelamaro/code/miguelamaro4/Final_Project/wmillfailprev/notebooks/Dataset_transf.py:163: SettingWithCopyWarning: \n",
      "A value is trying to be set on a copy of a slice from a DataFrame.\n",
      "Try using .loc[row_indexer,col_indexer] = value instead\n",
      "\n",
      "See the caveats in the documentation: https://pandas.pydata.org/pandas-docs/stable/user_guide/indexing.html#returning-a-view-versus-a-copy\n",
      "  df_merged['TTF'] = 0 # df_merged['date'] - df_merged['Timestamp']\n",
      "/Users/miguelamaro/code/miguelamaro4/Final_Project/wmillfailprev/notebooks/Dataset_transf.py:149: SettingWithCopyWarning: \n",
      "A value is trying to be set on a copy of a slice from a DataFrame.\n",
      "Try using .loc[row_indexer,col_indexer] = value instead\n",
      "\n",
      "See the caveats in the documentation: https://pandas.pydata.org/pandas-docs/stable/user_guide/indexing.html#returning-a-view-versus-a-copy\n",
      "  index['date'] = index['Timestamp']\n",
      "/Users/miguelamaro/code/miguelamaro4/Final_Project/wmillfailprev/notebooks/Dataset_transf.py:149: SettingWithCopyWarning: \n",
      "A value is trying to be set on a copy of a slice from a DataFrame.\n",
      "Try using .loc[row_indexer,col_indexer] = value instead\n",
      "\n",
      "See the caveats in the documentation: https://pandas.pydata.org/pandas-docs/stable/user_guide/indexing.html#returning-a-view-versus-a-copy\n",
      "  index['date'] = index['Timestamp']\n",
      "/Users/miguelamaro/code/miguelamaro4/Final_Project/wmillfailprev/notebooks/Dataset_transf.py:162: SettingWithCopyWarning: \n",
      "A value is trying to be set on a copy of a slice from a DataFrame.\n",
      "Try using .loc[row_indexer,col_indexer] = value instead\n",
      "\n",
      "See the caveats in the documentation: https://pandas.pydata.org/pandas-docs/stable/user_guide/indexing.html#returning-a-view-versus-a-copy\n",
      "  df_merged['date'] = df_merged['Timestamp']\n",
      "/Users/miguelamaro/code/miguelamaro4/Final_Project/wmillfailprev/notebooks/Dataset_transf.py:163: SettingWithCopyWarning: \n",
      "A value is trying to be set on a copy of a slice from a DataFrame.\n",
      "Try using .loc[row_indexer,col_indexer] = value instead\n",
      "\n",
      "See the caveats in the documentation: https://pandas.pydata.org/pandas-docs/stable/user_guide/indexing.html#returning-a-view-versus-a-copy\n",
      "  df_merged['TTF'] = 0 # df_merged['date'] - df_merged['Timestamp']\n"
     ]
    }
   ],
   "source": [
    "for i in range(len(component_list)):\n",
    "    comp_df_list[i] = dprep.fill_na_by_turbine(comp_df_list[i], turbine_list)"
   ]
  },
  {
   "cell_type": "code",
   "execution_count": 12,
   "metadata": {
    "ExecuteTime": {
     "end_time": "2021-02-07T16:33:54.607677Z",
     "start_time": "2021-02-07T16:33:54.577148Z"
    }
   },
   "outputs": [
    {
     "name": "stdout",
     "output_type": "stream",
     "text": [
      "(434147, 47)\n",
      "(434145, 33)\n",
      "(434145, 47)\n",
      "(434145, 38)\n",
      "(434145, 35)\n"
     ]
    }
   ],
   "source": [
    "for i in comp_df_list:\n",
    "    print(i.shape)"
   ]
  },
  {
   "cell_type": "markdown",
   "metadata": {},
   "source": [
    "# Criação de Variável alvo"
   ]
  },
  {
   "cell_type": "code",
   "execution_count": 13,
   "metadata": {
    "ExecuteTime": {
     "end_time": "2021-02-07T16:33:55.778456Z",
     "start_time": "2021-02-07T16:33:54.611289Z"
    }
   },
   "outputs": [
    {
     "name": "stdout",
     "output_type": "stream",
     "text": [
      "0    47\n",
      "dtype: int64\n",
      "0    33\n",
      "dtype: int64\n",
      "0    47\n",
      "dtype: int64\n",
      "0    38\n",
      "dtype: int64\n",
      "0    35\n",
      "dtype: int64\n"
     ]
    }
   ],
   "source": [
    "for i in range(len(comp_df_list)):\n",
    "    print(comp_df_list[i].isna().sum().value_counts())"
   ]
  },
  {
   "cell_type": "code",
   "execution_count": 14,
   "metadata": {
    "ExecuteTime": {
     "end_time": "2021-02-07T16:33:55.813908Z",
     "start_time": "2021-02-07T16:33:55.782674Z"
    }
   },
   "outputs": [],
   "source": [
    "days_list = [60,30,10]"
   ]
  },
  {
   "cell_type": "code",
   "execution_count": 15,
   "metadata": {
    "ExecuteTime": {
     "end_time": "2021-02-07T16:35:28.042081Z",
     "start_time": "2021-02-07T16:33:55.816854Z"
    }
   },
   "outputs": [],
   "source": [
    "for day in days_list:\n",
    "    for i in range(len(comp_df_list)):\n",
    "        comp_df_list[i] = dprep.aplic_var_target(comp_df_list[i], day)"
   ]
  },
  {
   "cell_type": "code",
   "execution_count": 16,
   "metadata": {
    "ExecuteTime": {
     "end_time": "2021-02-07T16:35:28.081267Z",
     "start_time": "2021-02-07T16:35:28.044291Z"
    }
   },
   "outputs": [
    {
     "name": "stdout",
     "output_type": "stream",
     "text": [
      "(434147, 50)\n",
      "(434145, 36)\n",
      "(434145, 50)\n",
      "(434145, 41)\n",
      "(434145, 38)\n"
     ]
    }
   ],
   "source": [
    "for i in comp_df_list:\n",
    "    print(i.shape)"
   ]
  },
  {
   "cell_type": "markdown",
   "metadata": {},
   "source": [
    "# Feature selection"
   ]
  },
  {
   "cell_type": "code",
   "execution_count": 17,
   "metadata": {
    "ExecuteTime": {
     "end_time": "2021-02-07T16:35:28.128421Z",
     "start_time": "2021-02-07T16:35:28.086890Z"
    }
   },
   "outputs": [
    {
     "name": "stdout",
     "output_type": "stream",
     "text": [
      "Index(['Timestamp', 'Turbine_ID', 'Gen_RPM_Max', 'Gen_RPM_Min', 'Gen_RPM_Avg',\n",
      "       'Gen_RPM_Std', 'Gen_Bear_Temp_Avg', 'Gen_Phase1_Temp_Avg',\n",
      "       'Gen_Phase2_Temp_Avg', 'Gen_Phase3_Temp_Avg',\n",
      "       'Prod_LatestAvg_ActPwrGen0', 'Prod_LatestAvg_ActPwrGen1',\n",
      "       'Prod_LatestAvg_ReactPwrGen0', 'Prod_LatestAvg_ReactPwrGen1',\n",
      "       'Gen_SlipRing_Temp_Avg', 'Gen_Bear2_Temp_Avg', 'Rtr_RPM_Max',\n",
      "       'Rtr_RPM_Min', 'Rtr_RPM_Avg', 'Grd_RtrInvPhase1_Temp_Avg',\n",
      "       'Grd_RtrInvPhase2_Temp_Avg', 'Grd_RtrInvPhase3_Temp_Avg', 'Rtr_RPM_Std',\n",
      "       'Amb_WindSpeed_Max', 'Amb_WindSpeed_Min', 'Amb_WindSpeed_Avg',\n",
      "       'Amb_WindSpeed_Std', 'Amb_WindDir_Relative_Avg', 'Amb_WindDir_Abs_Avg',\n",
      "       'Amb_Temp_Avg', 'Amb_WindSpeed_Est_Avg', 'Blds_PitchAngle_Min',\n",
      "       'Blds_PitchAngle_Max', 'Blds_PitchAngle_Avg', 'Blds_PitchAngle_Std',\n",
      "       'Cont_Top_Temp_Avg', 'Cont_Hub_Temp_Avg', 'Cont_VCP_Temp_Avg',\n",
      "       'Cont_VCP_ChokcoilTemp_Avg', 'Cont_VCP_WtrTemp_Avg', 'Nac_Temp_Avg',\n",
      "       'Nac_Direction_Avg', 'Spin_Temp_Avg', 'Grd_Busbar_Temp_Avg',\n",
      "       'Hyd_Oil_Temp_Avg', 'Component', 'TTF', '60_days', '30_days',\n",
      "       '10_days'],\n",
      "      dtype='object')\n",
      "Index(['Timestamp', 'Turbine_ID', 'Hyd_Oil_Temp_Avg', 'Rtr_RPM_Max',\n",
      "       'Rtr_RPM_Min', 'Rtr_RPM_Avg', 'Grd_RtrInvPhase1_Temp_Avg',\n",
      "       'Grd_RtrInvPhase2_Temp_Avg', 'Grd_RtrInvPhase3_Temp_Avg', 'Rtr_RPM_Std',\n",
      "       'Amb_WindSpeed_Max', 'Amb_WindSpeed_Min', 'Amb_WindSpeed_Avg',\n",
      "       'Amb_WindSpeed_Std', 'Amb_WindDir_Relative_Avg', 'Amb_WindDir_Abs_Avg',\n",
      "       'Amb_Temp_Avg', 'Amb_WindSpeed_Est_Avg', 'Blds_PitchAngle_Min',\n",
      "       'Blds_PitchAngle_Max', 'Blds_PitchAngle_Avg', 'Blds_PitchAngle_Std',\n",
      "       'Cont_Top_Temp_Avg', 'Cont_Hub_Temp_Avg', 'Cont_VCP_Temp_Avg',\n",
      "       'Cont_VCP_ChokcoilTemp_Avg', 'Cont_VCP_WtrTemp_Avg', 'Nac_Temp_Avg',\n",
      "       'Nac_Direction_Avg', 'Spin_Temp_Avg', 'Grd_Busbar_Temp_Avg',\n",
      "       'Component', 'TTF', '60_days', '30_days', '10_days'],\n",
      "      dtype='object')\n",
      "Index(['Timestamp', 'Turbine_ID', 'Gen_RPM_Max', 'Gen_RPM_Min', 'Gen_RPM_Avg',\n",
      "       'Gen_RPM_Std', 'Gen_Bear_Temp_Avg', 'Gen_Phase1_Temp_Avg',\n",
      "       'Gen_Phase2_Temp_Avg', 'Gen_Phase3_Temp_Avg',\n",
      "       'Prod_LatestAvg_ActPwrGen0', 'Prod_LatestAvg_ActPwrGen1',\n",
      "       'Prod_LatestAvg_ReactPwrGen0', 'Prod_LatestAvg_ReactPwrGen1',\n",
      "       'Gen_SlipRing_Temp_Avg', 'Gen_Bear2_Temp_Avg', 'Rtr_RPM_Max',\n",
      "       'Rtr_RPM_Min', 'Rtr_RPM_Avg', 'Grd_RtrInvPhase1_Temp_Avg',\n",
      "       'Grd_RtrInvPhase2_Temp_Avg', 'Grd_RtrInvPhase3_Temp_Avg', 'Rtr_RPM_Std',\n",
      "       'Amb_WindSpeed_Max', 'Amb_WindSpeed_Min', 'Amb_WindSpeed_Avg',\n",
      "       'Amb_WindSpeed_Std', 'Amb_WindDir_Relative_Avg', 'Amb_WindDir_Abs_Avg',\n",
      "       'Amb_Temp_Avg', 'Amb_WindSpeed_Est_Avg', 'Blds_PitchAngle_Min',\n",
      "       'Blds_PitchAngle_Max', 'Blds_PitchAngle_Avg', 'Blds_PitchAngle_Std',\n",
      "       'Cont_Top_Temp_Avg', 'Cont_Hub_Temp_Avg', 'Cont_VCP_Temp_Avg',\n",
      "       'Cont_VCP_ChokcoilTemp_Avg', 'Cont_VCP_WtrTemp_Avg', 'Nac_Temp_Avg',\n",
      "       'Nac_Direction_Avg', 'Spin_Temp_Avg', 'Grd_Busbar_Temp_Avg',\n",
      "       'Hyd_Oil_Temp_Avg', 'Component', 'TTF', '60_days', '30_days',\n",
      "       '10_days'],\n",
      "      dtype='object')\n",
      "Index(['Timestamp', 'Turbine_ID', 'HVTrafo_Phase1_Temp_Avg',\n",
      "       'HVTrafo_Phase2_Temp_Avg', 'HVTrafo_Phase3_Temp_Avg', 'Rtr_RPM_Max',\n",
      "       'Rtr_RPM_Min', 'Rtr_RPM_Avg', 'Grd_RtrInvPhase1_Temp_Avg',\n",
      "       'Grd_RtrInvPhase2_Temp_Avg', 'Grd_RtrInvPhase3_Temp_Avg', 'Rtr_RPM_Std',\n",
      "       'Amb_WindSpeed_Max', 'Amb_WindSpeed_Min', 'Amb_WindSpeed_Avg',\n",
      "       'Amb_WindSpeed_Std', 'Amb_WindDir_Relative_Avg', 'Amb_WindDir_Abs_Avg',\n",
      "       'Amb_Temp_Avg', 'Amb_WindSpeed_Est_Avg', 'Blds_PitchAngle_Min',\n",
      "       'Blds_PitchAngle_Max', 'Blds_PitchAngle_Avg', 'Blds_PitchAngle_Std',\n",
      "       'Cont_Top_Temp_Avg', 'Cont_Hub_Temp_Avg', 'Cont_VCP_Temp_Avg',\n",
      "       'Cont_VCP_ChokcoilTemp_Avg', 'Cont_VCP_WtrTemp_Avg', 'Nac_Temp_Avg',\n",
      "       'Nac_Direction_Avg', 'Spin_Temp_Avg', 'Grd_Busbar_Temp_Avg',\n",
      "       'Grd_Prod_VoltPhse1_Avg', 'Grd_Prod_VoltPhse2_Avg',\n",
      "       'Grd_Prod_VoltPhse3_Avg', 'Component', 'TTF', '60_days', '30_days',\n",
      "       '10_days'],\n",
      "      dtype='object')\n",
      "Index(['Timestamp', 'Turbine_ID', 'Gear_Oil_Temp_Avg', 'Gear_Bear_Temp_Avg',\n",
      "       'Rtr_RPM_Max', 'Rtr_RPM_Min', 'Rtr_RPM_Avg',\n",
      "       'Grd_RtrInvPhase1_Temp_Avg', 'Grd_RtrInvPhase2_Temp_Avg',\n",
      "       'Grd_RtrInvPhase3_Temp_Avg', 'Rtr_RPM_Std', 'Amb_WindSpeed_Max',\n",
      "       'Amb_WindSpeed_Min', 'Amb_WindSpeed_Avg', 'Amb_WindSpeed_Std',\n",
      "       'Amb_WindDir_Relative_Avg', 'Amb_WindDir_Abs_Avg', 'Amb_Temp_Avg',\n",
      "       'Amb_WindSpeed_Est_Avg', 'Blds_PitchAngle_Min', 'Blds_PitchAngle_Max',\n",
      "       'Blds_PitchAngle_Avg', 'Blds_PitchAngle_Std', 'Cont_Top_Temp_Avg',\n",
      "       'Cont_Hub_Temp_Avg', 'Cont_VCP_Temp_Avg', 'Cont_VCP_ChokcoilTemp_Avg',\n",
      "       'Cont_VCP_WtrTemp_Avg', 'Nac_Temp_Avg', 'Nac_Direction_Avg',\n",
      "       'Spin_Temp_Avg', 'Grd_Busbar_Temp_Avg', 'Hyd_Oil_Temp_Avg', 'Component',\n",
      "       'TTF', '60_days', '30_days', '10_days'],\n",
      "      dtype='object')\n"
     ]
    }
   ],
   "source": [
    "for i in comp_df_list:\n",
    "    print(i.keys())"
   ]
  },
  {
   "cell_type": "code",
   "execution_count": 18,
   "metadata": {
    "ExecuteTime": {
     "end_time": "2021-02-07T16:35:28.184944Z",
     "start_time": "2021-02-07T16:35:28.133052Z"
    }
   },
   "outputs": [],
   "source": [
    "gen_features_drop = [\n",
    "    'Gen_RPM_Max', 'Gen_RPM_Min', 'Gen_Phase1_Temp_Avg', 'Gen_Phase3_Temp_Avg',\n",
    "    'Amb_WindSpeed_Est_Avg', 'Grd_RtrInvPhase1_Temp_Avg',\n",
    "    'Grd_RtrInvPhase3_Temp_Avg', 'Rtr_RPM_Max', 'Rtr_RPM_Min',\n",
    "    'Blds_PitchAngle_Max', 'Blds_PitchAngle_Min',\n",
    "    'Prod_LatestAvg_ReactPwrGen1', 'Cont_Hub_Temp_Avg', 'Spin_Temp_Avg',\n",
    "    'Rtr_RPM_Std', 'Rtr_RPM_Avg', 'Cont_VCP_Temp_Avg'\n",
    "]"
   ]
  },
  {
   "cell_type": "code",
   "execution_count": 19,
   "metadata": {
    "ExecuteTime": {
     "end_time": "2021-02-07T16:35:28.221879Z",
     "start_time": "2021-02-07T16:35:28.188857Z"
    }
   },
   "outputs": [],
   "source": [
    "gen_bear_features_drop = [\n",
    "    'Gen_RPM_Max', 'Gen_RPM_Min', 'Gen_Phase1_Temp_Avg', 'Gen_Phase3_Temp_Avg',\n",
    "    'Amb_WindSpeed_Est_Avg', 'Grd_RtrInvPhase1_Temp_Avg',\n",
    "    'Grd_RtrInvPhase3_Temp_Avg', 'Rtr_RPM_Max', 'Rtr_RPM_Min',\n",
    "    'Blds_PitchAngle_Max', 'Blds_PitchAngle_Min',\n",
    "    'Prod_LatestAvg_ReactPwrGen1', 'Cont_Hub_Temp_Avg', 'Spin_Temp_Avg',\n",
    "    'Rtr_RPM_Std', 'Rtr_RPM_Avg', 'Cont_VCP_Temp_Avg'\n",
    "]"
   ]
  },
  {
   "cell_type": "code",
   "execution_count": 20,
   "metadata": {
    "ExecuteTime": {
     "end_time": "2021-02-07T16:35:28.277567Z",
     "start_time": "2021-02-07T16:35:28.225997Z"
    }
   },
   "outputs": [],
   "source": [
    "hyd_features_drop = [\n",
    "    'Rtr_RPM_Max', 'Rtr_RPM_Min', 'Blds_PitchAngle_Max', 'Blds_PitchAngle_Min',\n",
    "    'Blds_PitchAngle_Max', 'Grd_RtrInvPhase3_Temp_Avg', 'Grd_Busbar_Temp_Avg',\n",
    "    'Amb_WindSpeed_Est_Avg', 'Spin_Temp_Avg', 'Cont_Hub_Temp_Avg',\n",
    "    'Grd_RtrInvPhase1_Temp_Avg', 'Cont_VCP_Temp_Avg'\n",
    "]"
   ]
  },
  {
   "cell_type": "code",
   "execution_count": 21,
   "metadata": {
    "ExecuteTime": {
     "end_time": "2021-02-07T16:35:28.330869Z",
     "start_time": "2021-02-07T16:35:28.280882Z"
    }
   },
   "outputs": [],
   "source": [
    "gearbox_features_drop = [\n",
    "    'Rtr_RPM_Max', 'Rtr_RPM_Min', 'Grd_RtrInvPhase1_Temp_Avg',\n",
    "    'Grd_RtrInvPhase3_Temp_Avg', 'Blds_PitchAngle_Min', 'Blds_PitchAngle_Max',\n",
    "    'Cont_VCP_Temp_Avg', 'Grd_Busbar_Temp_Avg', 'Amb_WindSpeed_Est_Avg',\n",
    "    'Spin_Temp_Avg'\n",
    "]"
   ]
  },
  {
   "cell_type": "code",
   "execution_count": 22,
   "metadata": {
    "ExecuteTime": {
     "end_time": "2021-02-07T16:35:28.370414Z",
     "start_time": "2021-02-07T16:35:28.334836Z"
    }
   },
   "outputs": [],
   "source": [
    "transf_features_drop = [\n",
    "    'HVTrafo_Phase1_Temp_Avg', 'HVTrafo_Phase3_Temp_Avg', 'Rtr_RPM_Max',\n",
    "    'Rtr_RPM_Min', 'Grd_RtrInvPhase1_Temp_Avg', 'Grd_RtrInvPhase3_Temp_Avg',\n",
    "    'Blds_PitchAngle_Min', 'Blds_PitchAngle_Max', 'Amb_WindSpeed_Est_Avg',\n",
    "    'Spin_Temp_Avg', 'Cont_VCP_Temp_Avg'\n",
    "]"
   ]
  },
  {
   "cell_type": "code",
   "execution_count": 23,
   "metadata": {
    "ExecuteTime": {
     "end_time": "2021-02-07T16:35:28.418788Z",
     "start_time": "2021-02-07T16:35:28.383614Z"
    }
   },
   "outputs": [],
   "source": [
    "feat_drop_list = [\n",
    "    gen_features_drop, hyd_features_drop, gen_bear_features_drop,\n",
    "    transf_features_drop, gearbox_features_drop\n",
    "]"
   ]
  },
  {
   "cell_type": "code",
   "execution_count": 24,
   "metadata": {
    "ExecuteTime": {
     "end_time": "2021-02-07T16:35:28.846383Z",
     "start_time": "2021-02-07T16:35:28.425864Z"
    }
   },
   "outputs": [
    {
     "name": "stdout",
     "output_type": "stream",
     "text": [
      "A actualizar dataframe 1 de 5\n",
      "A actualizar dataframe 2 de 5\n",
      "A actualizar dataframe 3 de 5\n",
      "A actualizar dataframe 4 de 5\n",
      "A actualizar dataframe 5 de 5\n"
     ]
    }
   ],
   "source": [
    "for df in range(len(comp_df_list)):\n",
    "    print(f'A actualizar dataframe {df+1} de {len(comp_df_list)}')\n",
    "#     for col in feat_drop_list:\n",
    "#         print(f'A apagar a coluna {col}')\n",
    "    comp_df_list[df] = comp_df_list[df].drop(columns=feat_drop_list[df])"
   ]
  },
  {
   "cell_type": "code",
   "execution_count": 25,
   "metadata": {
    "ExecuteTime": {
     "end_time": "2021-02-07T16:35:28.904706Z",
     "start_time": "2021-02-07T16:35:28.848755Z"
    }
   },
   "outputs": [
    {
     "name": "stdout",
     "output_type": "stream",
     "text": [
      "(434147, 33)\n",
      "(434145, 25)\n",
      "(434145, 33)\n",
      "(434145, 30)\n",
      "(434145, 28)\n"
     ]
    }
   ],
   "source": [
    "for i in comp_df_list:\n",
    "    print(i.shape)"
   ]
  },
  {
   "cell_type": "code",
   "execution_count": 26,
   "metadata": {
    "ExecuteTime": {
     "end_time": "2021-02-07T16:35:28.949687Z",
     "start_time": "2021-02-07T16:35:28.909697Z"
    }
   },
   "outputs": [
    {
     "name": "stdout",
     "output_type": "stream",
     "text": [
      "Index(['Timestamp', 'Turbine_ID', 'Gen_RPM_Avg', 'Gen_RPM_Std',\n",
      "       'Gen_Bear_Temp_Avg', 'Gen_Phase2_Temp_Avg', 'Prod_LatestAvg_ActPwrGen0',\n",
      "       'Prod_LatestAvg_ActPwrGen1', 'Prod_LatestAvg_ReactPwrGen0',\n",
      "       'Gen_SlipRing_Temp_Avg', 'Gen_Bear2_Temp_Avg',\n",
      "       'Grd_RtrInvPhase2_Temp_Avg', 'Amb_WindSpeed_Max', 'Amb_WindSpeed_Min',\n",
      "       'Amb_WindSpeed_Avg', 'Amb_WindSpeed_Std', 'Amb_WindDir_Relative_Avg',\n",
      "       'Amb_WindDir_Abs_Avg', 'Amb_Temp_Avg', 'Blds_PitchAngle_Avg',\n",
      "       'Blds_PitchAngle_Std', 'Cont_Top_Temp_Avg', 'Cont_VCP_ChokcoilTemp_Avg',\n",
      "       'Cont_VCP_WtrTemp_Avg', 'Nac_Temp_Avg', 'Nac_Direction_Avg',\n",
      "       'Grd_Busbar_Temp_Avg', 'Hyd_Oil_Temp_Avg', 'Component', 'TTF',\n",
      "       '60_days', '30_days', '10_days'],\n",
      "      dtype='object')\n",
      "Index(['Timestamp', 'Turbine_ID', 'Hyd_Oil_Temp_Avg', 'Rtr_RPM_Avg',\n",
      "       'Grd_RtrInvPhase2_Temp_Avg', 'Rtr_RPM_Std', 'Amb_WindSpeed_Max',\n",
      "       'Amb_WindSpeed_Min', 'Amb_WindSpeed_Avg', 'Amb_WindSpeed_Std',\n",
      "       'Amb_WindDir_Relative_Avg', 'Amb_WindDir_Abs_Avg', 'Amb_Temp_Avg',\n",
      "       'Blds_PitchAngle_Avg', 'Blds_PitchAngle_Std', 'Cont_Top_Temp_Avg',\n",
      "       'Cont_VCP_ChokcoilTemp_Avg', 'Cont_VCP_WtrTemp_Avg', 'Nac_Temp_Avg',\n",
      "       'Nac_Direction_Avg', 'Component', 'TTF', '60_days', '30_days',\n",
      "       '10_days'],\n",
      "      dtype='object')\n",
      "Index(['Timestamp', 'Turbine_ID', 'Gen_RPM_Avg', 'Gen_RPM_Std',\n",
      "       'Gen_Bear_Temp_Avg', 'Gen_Phase2_Temp_Avg', 'Prod_LatestAvg_ActPwrGen0',\n",
      "       'Prod_LatestAvg_ActPwrGen1', 'Prod_LatestAvg_ReactPwrGen0',\n",
      "       'Gen_SlipRing_Temp_Avg', 'Gen_Bear2_Temp_Avg',\n",
      "       'Grd_RtrInvPhase2_Temp_Avg', 'Amb_WindSpeed_Max', 'Amb_WindSpeed_Min',\n",
      "       'Amb_WindSpeed_Avg', 'Amb_WindSpeed_Std', 'Amb_WindDir_Relative_Avg',\n",
      "       'Amb_WindDir_Abs_Avg', 'Amb_Temp_Avg', 'Blds_PitchAngle_Avg',\n",
      "       'Blds_PitchAngle_Std', 'Cont_Top_Temp_Avg', 'Cont_VCP_ChokcoilTemp_Avg',\n",
      "       'Cont_VCP_WtrTemp_Avg', 'Nac_Temp_Avg', 'Nac_Direction_Avg',\n",
      "       'Grd_Busbar_Temp_Avg', 'Hyd_Oil_Temp_Avg', 'Component', 'TTF',\n",
      "       '60_days', '30_days', '10_days'],\n",
      "      dtype='object')\n",
      "Index(['Timestamp', 'Turbine_ID', 'HVTrafo_Phase2_Temp_Avg', 'Rtr_RPM_Avg',\n",
      "       'Grd_RtrInvPhase2_Temp_Avg', 'Rtr_RPM_Std', 'Amb_WindSpeed_Max',\n",
      "       'Amb_WindSpeed_Min', 'Amb_WindSpeed_Avg', 'Amb_WindSpeed_Std',\n",
      "       'Amb_WindDir_Relative_Avg', 'Amb_WindDir_Abs_Avg', 'Amb_Temp_Avg',\n",
      "       'Blds_PitchAngle_Avg', 'Blds_PitchAngle_Std', 'Cont_Top_Temp_Avg',\n",
      "       'Cont_Hub_Temp_Avg', 'Cont_VCP_ChokcoilTemp_Avg',\n",
      "       'Cont_VCP_WtrTemp_Avg', 'Nac_Temp_Avg', 'Nac_Direction_Avg',\n",
      "       'Grd_Busbar_Temp_Avg', 'Grd_Prod_VoltPhse1_Avg',\n",
      "       'Grd_Prod_VoltPhse2_Avg', 'Grd_Prod_VoltPhse3_Avg', 'Component', 'TTF',\n",
      "       '60_days', '30_days', '10_days'],\n",
      "      dtype='object')\n",
      "Index(['Timestamp', 'Turbine_ID', 'Gear_Oil_Temp_Avg', 'Gear_Bear_Temp_Avg',\n",
      "       'Rtr_RPM_Avg', 'Grd_RtrInvPhase2_Temp_Avg', 'Rtr_RPM_Std',\n",
      "       'Amb_WindSpeed_Max', 'Amb_WindSpeed_Min', 'Amb_WindSpeed_Avg',\n",
      "       'Amb_WindSpeed_Std', 'Amb_WindDir_Relative_Avg', 'Amb_WindDir_Abs_Avg',\n",
      "       'Amb_Temp_Avg', 'Blds_PitchAngle_Avg', 'Blds_PitchAngle_Std',\n",
      "       'Cont_Top_Temp_Avg', 'Cont_Hub_Temp_Avg', 'Cont_VCP_ChokcoilTemp_Avg',\n",
      "       'Cont_VCP_WtrTemp_Avg', 'Nac_Temp_Avg', 'Nac_Direction_Avg',\n",
      "       'Hyd_Oil_Temp_Avg', 'Component', 'TTF', '60_days', '30_days',\n",
      "       '10_days'],\n",
      "      dtype='object')\n"
     ]
    }
   ],
   "source": [
    "for i in comp_df_list:\n",
    "    print(i.keys())"
   ]
  },
  {
   "cell_type": "markdown",
   "metadata": {},
   "source": [
    "# Agrupar pela medida de tempo seleccionada."
   ]
  },
  {
   "cell_type": "code",
   "execution_count": 27,
   "metadata": {
    "ExecuteTime": {
     "end_time": "2021-02-07T16:35:28.997347Z",
     "start_time": "2021-02-07T16:35:28.954343Z"
    }
   },
   "outputs": [
    {
     "name": "stdout",
     "output_type": "stream",
     "text": [
      "(434147, 33)\n",
      "(434145, 25)\n",
      "(434145, 33)\n",
      "(434145, 30)\n",
      "(434145, 28)\n"
     ]
    }
   ],
   "source": [
    "for i in range(len(comp_df_list)):\n",
    "    print(comp_df_list[i].shape)"
   ]
  },
  {
   "cell_type": "code",
   "execution_count": 28,
   "metadata": {
    "ExecuteTime": {
     "end_time": "2021-02-07T16:35:30.854762Z",
     "start_time": "2021-02-07T16:35:29.001664Z"
    }
   },
   "outputs": [],
   "source": [
    "# Passagem para dias \n",
    "for i in range(len(comp_df_list)):\n",
    "    comp_df_list[i] = dprep.group_por_frequency(comp_df_list[i])"
   ]
  },
  {
   "cell_type": "code",
   "execution_count": 29,
   "metadata": {
    "ExecuteTime": {
     "end_time": "2021-02-07T16:35:30.894203Z",
     "start_time": "2021-02-07T16:35:30.856506Z"
    }
   },
   "outputs": [
    {
     "name": "stdout",
     "output_type": "stream",
     "text": [
      "(3042, 33)\n",
      "(3041, 18)\n",
      "(3041, 20)\n",
      "(3041, 21)\n",
      "(3041, 18)\n"
     ]
    }
   ],
   "source": [
    "# Passagem para dias \n",
    "for i in range(len(comp_df_list)):\n",
    "    print(comp_df_list[i].shape)"
   ]
  },
  {
   "cell_type": "markdown",
   "metadata": {},
   "source": [
    "# Adicionar as medidas de alisamento"
   ]
  },
  {
   "cell_type": "code",
   "execution_count": 30,
   "metadata": {
    "ExecuteTime": {
     "end_time": "2021-02-07T16:35:31.181327Z",
     "start_time": "2021-02-07T16:35:30.898884Z"
    }
   },
   "outputs": [],
   "source": [
    "for i in range(len(comp_df_list)):\n",
    "    comp_df_list[i] = dprep.add_features(comp_df_list[i])"
   ]
  },
  {
   "cell_type": "code",
   "execution_count": 31,
   "metadata": {
    "ExecuteTime": {
     "end_time": "2021-02-07T16:35:31.213145Z",
     "start_time": "2021-02-07T16:35:31.183368Z"
    }
   },
   "outputs": [
    {
     "name": "stdout",
     "output_type": "stream",
     "text": [
      "(3042, 87)\n",
      "(3041, 42)\n",
      "(3041, 48)\n",
      "(3041, 51)\n",
      "(3041, 42)\n"
     ]
    }
   ],
   "source": [
    "for i in range(len(comp_df_list)):\n",
    "    print(comp_df_list[i].shape)"
   ]
  },
  {
   "cell_type": "code",
   "execution_count": 32,
   "metadata": {
    "ExecuteTime": {
     "end_time": "2021-02-07T16:35:31.255390Z",
     "start_time": "2021-02-07T16:35:31.216214Z"
    }
   },
   "outputs": [],
   "source": [
    "def prepare_train_df_mig(df, meses=3):\n",
    "    last_date = df['Date'].iloc[-1]\n",
    "    split = last_date - pd.DateOffset(months=3)\n",
    "    df_train = df[df['Date'] < split]\n",
    "    # df_test = df[df['Timestamp'] >= split]\n",
    "    return df_train\n",
    "\n",
    "def prepare_test_df_mig(df):\n",
    "    last_date = df['Date'].iloc[-1]\n",
    "    split = last_date - pd.DateOffset(months=3)\n",
    "    # df_train = df[df['Timestamp'] < split]\n",
    "    df_test = df[df['Date'] >= split]\n",
    "    return df_test"
   ]
  },
  {
   "cell_type": "code",
   "execution_count": 33,
   "metadata": {
    "ExecuteTime": {
     "end_time": "2021-02-07T16:35:31.308535Z",
     "start_time": "2021-02-07T16:35:31.258452Z"
    }
   },
   "outputs": [],
   "source": [
    "#comp_df_list[0].columns"
   ]
  },
  {
   "cell_type": "markdown",
   "metadata": {},
   "source": [
    "# Train and test split"
   ]
  },
  {
   "cell_type": "code",
   "execution_count": 34,
   "metadata": {
    "ExecuteTime": {
     "end_time": "2021-02-07T16:35:31.372551Z",
     "start_time": "2021-02-07T16:35:31.314442Z"
    }
   },
   "outputs": [],
   "source": [
    "# Preparar a lista de X_train\n",
    "df_train = [0, 0, 0, 0, 0]\n",
    "df_test = [0, 0, 0, 0, 0]\n",
    "\n",
    "#for i in range(len(comp_df_list)):\n",
    "#    df_train[i] = dprep.prepare_train_df(comp_df_list[i])\n",
    "#    df_test[i] = dprep.prepare_test_df(comp_df_list[i])\n",
    "\n",
    "for i in range(len(comp_df_list)):\n",
    "    df_train[i] = prepare_train_df_mig(comp_df_list[i])\n",
    "    df_test[i] = prepare_test_df_mig(comp_df_list[i])"
   ]
  },
  {
   "cell_type": "code",
   "execution_count": 35,
   "metadata": {
    "ExecuteTime": {
     "end_time": "2021-02-07T16:35:31.404206Z",
     "start_time": "2021-02-07T16:35:31.375012Z"
    }
   },
   "outputs": [
    {
     "name": "stdout",
     "output_type": "stream",
     "text": [
      "x_train 0 com a forma (2577, 87)\n",
      "x_test 0 com a forma (465, 87)\n",
      "x_train 1 com a forma (2576, 42)\n",
      "x_test 1 com a forma (465, 42)\n",
      "x_train 2 com a forma (2576, 48)\n",
      "x_test 2 com a forma (465, 48)\n",
      "x_train 3 com a forma (2576, 51)\n",
      "x_test 3 com a forma (465, 51)\n",
      "x_train 4 com a forma (2576, 42)\n",
      "x_test 4 com a forma (465, 42)\n"
     ]
    }
   ],
   "source": [
    "for i in range(len(df_train)):\n",
    "    print(f'x_train {i} com a forma {df_train[i].shape}')\n",
    "    print(f'x_test {i} com a forma {df_test[i].shape}')"
   ]
  },
  {
   "cell_type": "code",
   "execution_count": 36,
   "metadata": {
    "ExecuteTime": {
     "end_time": "2021-02-07T16:35:31.440388Z",
     "start_time": "2021-02-07T16:35:31.407337Z"
    }
   },
   "outputs": [],
   "source": [
    "df_train_generator   = df_train[0]\n",
    "df_train_hydraulic   = df_train[1]\n",
    "df_train_gen_bear    = df_train[2]\n",
    "df_train_transformer = df_train[3]\n",
    "df_train_gearbox     = df_train[4]\n",
    "\n",
    "df_test_generator   = df_test[0]\n",
    "df_test_hydraulic   = df_test[1]\n",
    "df_test_gen_bear    = df_test[2]\n",
    "df_test_transformer = df_test[3]\n",
    "df_test_gearbox     = df_test[4]"
   ]
  },
  {
   "cell_type": "markdown",
   "metadata": {
    "ExecuteTime": {
     "end_time": "2021-02-07T11:58:36.301661Z",
     "start_time": "2021-02-07T11:58:36.249842Z"
    }
   },
   "source": [
    "Alterações que fiz ao código do Ricardo:\n",
    "\n",
    "-> adicionei mais variaveis alvo (pois so estava a 60 dias)\n",
    "-> usei uma versao adaptada da funçao criada para fazer train/test split"
   ]
  },
  {
   "cell_type": "code",
   "execution_count": 257,
   "metadata": {
    "ExecuteTime": {
     "end_time": "2021-02-08T19:04:54.475363Z",
     "start_time": "2021-02-08T19:04:54.447471Z"
    }
   },
   "outputs": [],
   "source": [
    "#pred_LogReg[['y_score']].hist()\n",
    "#pred_LogReg[['y_score']][df_test.eq(1).values].hist()\n",
    "\n",
    "#plt.show()"
   ]
  },
  {
   "cell_type": "code",
   "execution_count": 258,
   "metadata": {
    "ExecuteTime": {
     "end_time": "2021-02-08T19:04:59.208051Z",
     "start_time": "2021-02-08T19:04:59.176204Z"
    }
   },
   "outputs": [],
   "source": [
    "#pred_rfca[['y_score']].hist()\n",
    "#pred_rfca[['y_score']][df_test.eq(1).values].hist()\n",
    "\n",
    "#plt.show()"
   ]
  },
  {
   "cell_type": "code",
   "execution_count": 256,
   "metadata": {
    "ExecuteTime": {
     "end_time": "2021-02-08T19:04:35.373708Z",
     "start_time": "2021-02-08T19:04:35.323284Z"
    }
   },
   "outputs": [],
   "source": [
    "#df_signals = pd.read_csv('../rawdata/wind-farm-1-signals-training.csv', sep=';')#, nrows=100000)\n",
    "#df_signals['Timestamp']=pd.to_datetime(df_signals['Timestamp']).dt.tz_convert(None)\n",
    "#df_signals['Timestamp'].tail(n=10)"
   ]
  },
  {
   "cell_type": "code",
   "execution_count": 48,
   "metadata": {
    "ExecuteTime": {
     "end_time": "2021-02-07T16:36:01.425975Z",
     "start_time": "2021-02-07T16:36:01.383899Z"
    }
   },
   "outputs": [],
   "source": [
    "def classifier(model, clf, features,target, df_train, df_test ,params=None, score=None, ):\n",
    "    \n",
    "    X_train = df_train[features]\n",
    "\n",
    "    X_test = df_test[features] \n",
    "    y_train = df_train[target]\n",
    "    y_test = df_test[target]\n",
    "\n",
    "    \n",
    "    grid_search = model_selection.GridSearchCV(estimator=clf, param_grid=params, cv=5, scoring=score, n_jobs=-1)\n",
    "\n",
    "    grid_search.fit(X_train, y_train)\n",
    "    y_test_pred = grid_search.predict(X_test)\n",
    "    y_train_pred = grid_search.predict(X_train)\n",
    "\n",
    "    \n",
    "    if hasattr(grid_search, 'predict_proba'):   \n",
    "        y_test_prob = grid_search.predict_proba(X_test)[:,1]\n",
    "        y_train_prob = grid_search.predict_proba(X_train)[:,1]\n",
    "        \n",
    "    elif hasattr(grid_search, 'decision_function'):\n",
    "        y_test_prob = grid_search.decision_function(X_test)\n",
    "        y_train_prob = grid_search.decision_function(X_train)\n",
    "        \n",
    "        \n",
    "    else:\n",
    "        y_test_prob = y_pred_test\n",
    "        y_train_prob = y_pred_train\n",
    "        \n",
    "\n",
    "        \n",
    "    predictions_test = {'y_test_pred' : y_test_pred, 'y_test_prob' : y_test_prob}\n",
    "    predictions_train = {'y_train_pred' : y_train_pred, 'y_train_prob' : y_train_prob}\n",
    "   \n",
    "    df_predictions_test = pd.DataFrame.from_dict(predictions_test)\n",
    "    df_predictions_train = pd.DataFrame.from_dict(predictions_train)\n",
    "\n",
    "    \n",
    "    return grid_search.best_estimator_, df_predictions_test,df_predictions_train"
   ]
  },
  {
   "cell_type": "code",
   "execution_count": 242,
   "metadata": {
    "ExecuteTime": {
     "end_time": "2021-02-07T20:36:49.395738Z",
     "start_time": "2021-02-07T20:36:49.340339Z"
    }
   },
   "outputs": [],
   "source": [
    "def metrics (y_train, y_train_prob, y_test, y_test_pred, y_test_prob):\n",
    "    cm2 = confusion_matrix(y_test.values,y_test_pred)\n",
    "\n",
    "    total1=sum(sum(cm2))\n",
    "    \n",
    "    \n",
    "    metrics_dict = {\n",
    "    'AUC_Train': roc_auc_score(y_train, y_train_prob) if len(y_train.value_counts())>1 else np.nan,\n",
    "    'AUC_Test': roc_auc_score(y_test, y_test_prob) if len(y_test.value_counts())>1 else np.nan,\n",
    "    'Accuracy':     (cm2[0,0]+cm2[1,1])/total1 if len(y_test.value_counts())>1 else np.nan,\n",
    "    'Recall': cm2[1,1]/(cm2[1,0]+cm2[1,1]) if len(y_test.value_counts())>1 else np.nan,\n",
    "    'Specificity':  cm2[0,0]/(cm2[0,0]+cm2[0,1]) if len(y_test.value_counts())>1 else np.nan,\n",
    "    'Precision':    cm2[1,1]/(cm2[0,1]+cm2[1,1]) if len(y_test.value_counts())>1 else np.nan,\n",
    "    'F1 Score':    f1_score(y_test,y_test_pred) if len(y_test.value_counts())>1 else np.nan,\n",
    "#    'Log Loss':    log_loss(y_test, y_test_prob) if len(y_test.value_counts())>1 else np.nan,\n",
    "#    'FBeta Score':  fbeta_score(y_test,y_test_pred, beta=10)\n",
    "        }\n",
    "\n",
    "    return metrics_dict\n",
    "\n",
    "def conf_matrix ( y_test, y_test_pred):\n",
    "\n",
    "    return pd.crosstab(y_test, y_test_pred, rownames=['Actual Class'], colnames=['Predicted Class'])\n",
    "\n",
    "\n",
    "def roc_curve_plot (y_test, y_test_prob):\n",
    "\n",
    "    sns.set(style='white')\n",
    "    fpr, tpr, threshold = roc_curve(y_test, y_test_prob)\n",
    "    plt.plot(fpr, tpr, label='model')\n",
    "    plt.legend(loc='center right')\n",
    "    plt.plot([0,1],[0,1],'k')\n",
    "    plt.xlabel('False Positive Rate')\n",
    "    plt.ylabel('True Positive Rate')\n",
    "    plt.title('ROC Curve')\n",
    "    plt.show()"
   ]
  },
  {
   "cell_type": "code",
   "execution_count": 244,
   "metadata": {
    "ExecuteTime": {
     "end_time": "2021-02-07T20:36:51.934836Z",
     "start_time": "2021-02-07T20:36:51.897934Z"
    }
   },
   "outputs": [],
   "source": [
    "dict_mod={\n",
    "    'LogReg_60':'60_days',\n",
    "    'LogReg_30':'30_days',\n",
    "    'LogReg_10':'10_days',\n",
    "    \n",
    "    'RF_60':'60_days',\n",
    "    'RF_30':'30_days',\n",
    "    'RF_10':'10_days',\n",
    "    \n",
    "    'KNN_60':'60_days',\n",
    "    'KNN_30':'30_days',\n",
    "    'KNN_10':'10_days'    \n",
    "        }"
   ]
  },
  {
   "cell_type": "code",
   "execution_count": 243,
   "metadata": {
    "ExecuteTime": {
     "end_time": "2021-02-07T20:36:50.062900Z",
     "start_time": "2021-02-07T20:36:50.015830Z"
    }
   },
   "outputs": [],
   "source": [
    "\n",
    "def several_models_results():\n",
    "\n",
    "    for key,target_ in dict_mod.items():\n",
    "\n",
    "        target=target_\n",
    "        df_train[target]=df_train[target].round().astype(int)#.value_counts()\n",
    "        df_test[target]=df_test[target].round().astype(int)#.value_counts()\n",
    "        y_test=df_test[target]\n",
    "    \n",
    "\n",
    "        if 'LogReg' in key:\n",
    "            model = 'Logistic Regression'\n",
    "            clf_LogReg = LogisticRegression(random_state=42)\n",
    "            gs_params = {'C': [.01, 0.1, 1.0, 10], 'solver': ['liblinear', 'lbfgs'], 'class_weight': ['balanced',None]}\n",
    "            #gs_score = 'roc_auc' 68\n",
    "            gs_score = 'f1'\n",
    "\n",
    "            clf_LogReg, pred_LogReg_test, pred_LogReg_train = classifier(model, clf_LogReg, features,target, df_train,df_test, params=gs_params, score=gs_score)\n",
    "            dict_results[key]=metrics(df_train[target], pred_LogReg_train['y_train_prob'], df_test[target], pred_LogReg_test['y_test_pred'], pred_LogReg_test['y_test_prob'])\n",
    "\n",
    "\n",
    "        if  'RF' in key:  \n",
    "            model = 'Random Forest'\n",
    "            clf_rfc = RandomForestClassifier(n_estimators=50, random_state=42)\n",
    "            gs_params = {'max_depth': [3,4, 5, 6, 7, 8], 'criterion': ['gini', 'entropy'], 'class_weight': ['balanced',None]}\n",
    "            gs_score = 'f1'\n",
    "\n",
    "            clf_rfc, pred_RandForest_test, pred_RandForest_train = classifier(model, clf_rfc, features,target, df_train,df_test,  params=gs_params, score=gs_score)\n",
    "            dict_results[key]=metrics(df_train[target], pred_RandForest_train['y_train_prob'], df_test[target], pred_RandForest_test['y_test_pred'], pred_RandForest_test['y_test_prob'])\n",
    "\n",
    "\n",
    "        if  'KNN' in key:\n",
    "            model = 'KNN'\n",
    "            clf_knn = KNeighborsClassifier(n_jobs=-1)\n",
    "            gs_params = {'n_neighbors': [5, 9 , 10, 11, 12]}\n",
    "            gs_score = 'f1'\n",
    "\n",
    "            clf_knn, pred_KNN_test, pred_KNN_train = classifier(model, clf_knn, features,target, df_train,df_test,  params=gs_params, score=gs_score)\n",
    "            dict_results[key]=metrics(df_train[target], pred_KNN_train['y_train_prob'], df_test[target], pred_KNN_test['y_test_pred'], pred_KNN_test['y_test_prob'])\n",
    "    \n",
    "\n",
    "    return dict_results"
   ]
  },
  {
   "cell_type": "code",
   "execution_count": 245,
   "metadata": {
    "ExecuteTime": {
     "end_time": "2021-02-07T20:36:52.586452Z",
     "start_time": "2021-02-07T20:36:52.549657Z"
    }
   },
   "outputs": [],
   "source": [
    "dict_df = {'generator_results':(df_train_generator,df_test_generator),\n",
    "           'hydraulic_results':(df_train_hydraulic, df_test_hydraulic),\n",
    "           'genbear_results':(df_train_gen_bear,df_test_gen_bear), \n",
    "           'transformer_results':(df_train_transformer,df_test_transformer),\n",
    "           'gearbox_results':(df_train_gearbox,df_test_gearbox)}"
   ]
  },
  {
   "cell_type": "code",
   "execution_count": 246,
   "metadata": {
    "ExecuteTime": {
     "end_time": "2021-02-07T20:47:42.926031Z",
     "start_time": "2021-02-07T20:36:53.490543Z"
    }
   },
   "outputs": [
    {
     "name": "stderr",
     "output_type": "stream",
     "text": [
      "<ipython-input-243-ba6271b24b78>:6: SettingWithCopyWarning: \n",
      "A value is trying to be set on a copy of a slice from a DataFrame.\n",
      "Try using .loc[row_indexer,col_indexer] = value instead\n",
      "\n",
      "See the caveats in the documentation: https://pandas.pydata.org/pandas-docs/stable/user_guide/indexing.html#returning-a-view-versus-a-copy\n",
      "  df_train[target]=df_train[target].round().astype(int)#.value_counts()\n",
      "<ipython-input-243-ba6271b24b78>:7: SettingWithCopyWarning: \n",
      "A value is trying to be set on a copy of a slice from a DataFrame.\n",
      "Try using .loc[row_indexer,col_indexer] = value instead\n",
      "\n",
      "See the caveats in the documentation: https://pandas.pydata.org/pandas-docs/stable/user_guide/indexing.html#returning-a-view-versus-a-copy\n",
      "  df_test[target]=df_test[target].round().astype(int)#.value_counts()\n",
      "/Users/miguelamaro/.pyenv/versions/3.8.5/envs/lewagon/lib/python3.8/site-packages/sklearn/svm/_base.py:946: ConvergenceWarning: Liblinear failed to converge, increase the number of iterations.\n",
      "  warnings.warn(\"Liblinear failed to converge, increase \"\n",
      "<ipython-input-243-ba6271b24b78>:6: SettingWithCopyWarning: \n",
      "A value is trying to be set on a copy of a slice from a DataFrame.\n",
      "Try using .loc[row_indexer,col_indexer] = value instead\n",
      "\n",
      "See the caveats in the documentation: https://pandas.pydata.org/pandas-docs/stable/user_guide/indexing.html#returning-a-view-versus-a-copy\n",
      "  df_train[target]=df_train[target].round().astype(int)#.value_counts()\n",
      "<ipython-input-243-ba6271b24b78>:7: SettingWithCopyWarning: \n",
      "A value is trying to be set on a copy of a slice from a DataFrame.\n",
      "Try using .loc[row_indexer,col_indexer] = value instead\n",
      "\n",
      "See the caveats in the documentation: https://pandas.pydata.org/pandas-docs/stable/user_guide/indexing.html#returning-a-view-versus-a-copy\n",
      "  df_test[target]=df_test[target].round().astype(int)#.value_counts()\n",
      "<ipython-input-243-ba6271b24b78>:6: SettingWithCopyWarning: \n",
      "A value is trying to be set on a copy of a slice from a DataFrame.\n",
      "Try using .loc[row_indexer,col_indexer] = value instead\n",
      "\n",
      "See the caveats in the documentation: https://pandas.pydata.org/pandas-docs/stable/user_guide/indexing.html#returning-a-view-versus-a-copy\n",
      "  df_train[target]=df_train[target].round().astype(int)#.value_counts()\n",
      "<ipython-input-243-ba6271b24b78>:7: SettingWithCopyWarning: \n",
      "A value is trying to be set on a copy of a slice from a DataFrame.\n",
      "Try using .loc[row_indexer,col_indexer] = value instead\n",
      "\n",
      "See the caveats in the documentation: https://pandas.pydata.org/pandas-docs/stable/user_guide/indexing.html#returning-a-view-versus-a-copy\n",
      "  df_test[target]=df_test[target].round().astype(int)#.value_counts()\n",
      "<ipython-input-243-ba6271b24b78>:6: SettingWithCopyWarning: \n",
      "A value is trying to be set on a copy of a slice from a DataFrame.\n",
      "Try using .loc[row_indexer,col_indexer] = value instead\n",
      "\n",
      "See the caveats in the documentation: https://pandas.pydata.org/pandas-docs/stable/user_guide/indexing.html#returning-a-view-versus-a-copy\n",
      "  df_train[target]=df_train[target].round().astype(int)#.value_counts()\n",
      "<ipython-input-243-ba6271b24b78>:7: SettingWithCopyWarning: \n",
      "A value is trying to be set on a copy of a slice from a DataFrame.\n",
      "Try using .loc[row_indexer,col_indexer] = value instead\n",
      "\n",
      "See the caveats in the documentation: https://pandas.pydata.org/pandas-docs/stable/user_guide/indexing.html#returning-a-view-versus-a-copy\n",
      "  df_test[target]=df_test[target].round().astype(int)#.value_counts()\n",
      "<ipython-input-243-ba6271b24b78>:6: SettingWithCopyWarning: \n",
      "A value is trying to be set on a copy of a slice from a DataFrame.\n",
      "Try using .loc[row_indexer,col_indexer] = value instead\n",
      "\n",
      "See the caveats in the documentation: https://pandas.pydata.org/pandas-docs/stable/user_guide/indexing.html#returning-a-view-versus-a-copy\n",
      "  df_train[target]=df_train[target].round().astype(int)#.value_counts()\n",
      "<ipython-input-243-ba6271b24b78>:7: SettingWithCopyWarning: \n",
      "A value is trying to be set on a copy of a slice from a DataFrame.\n",
      "Try using .loc[row_indexer,col_indexer] = value instead\n",
      "\n",
      "See the caveats in the documentation: https://pandas.pydata.org/pandas-docs/stable/user_guide/indexing.html#returning-a-view-versus-a-copy\n",
      "  df_test[target]=df_test[target].round().astype(int)#.value_counts()\n",
      "<ipython-input-243-ba6271b24b78>:6: SettingWithCopyWarning: \n",
      "A value is trying to be set on a copy of a slice from a DataFrame.\n",
      "Try using .loc[row_indexer,col_indexer] = value instead\n",
      "\n",
      "See the caveats in the documentation: https://pandas.pydata.org/pandas-docs/stable/user_guide/indexing.html#returning-a-view-versus-a-copy\n",
      "  df_train[target]=df_train[target].round().astype(int)#.value_counts()\n",
      "<ipython-input-243-ba6271b24b78>:7: SettingWithCopyWarning: \n",
      "A value is trying to be set on a copy of a slice from a DataFrame.\n",
      "Try using .loc[row_indexer,col_indexer] = value instead\n",
      "\n",
      "See the caveats in the documentation: https://pandas.pydata.org/pandas-docs/stable/user_guide/indexing.html#returning-a-view-versus-a-copy\n",
      "  df_test[target]=df_test[target].round().astype(int)#.value_counts()\n",
      "<ipython-input-243-ba6271b24b78>:6: SettingWithCopyWarning: \n",
      "A value is trying to be set on a copy of a slice from a DataFrame.\n",
      "Try using .loc[row_indexer,col_indexer] = value instead\n",
      "\n",
      "See the caveats in the documentation: https://pandas.pydata.org/pandas-docs/stable/user_guide/indexing.html#returning-a-view-versus-a-copy\n",
      "  df_train[target]=df_train[target].round().astype(int)#.value_counts()\n",
      "<ipython-input-243-ba6271b24b78>:7: SettingWithCopyWarning: \n",
      "A value is trying to be set on a copy of a slice from a DataFrame.\n",
      "Try using .loc[row_indexer,col_indexer] = value instead\n",
      "\n",
      "See the caveats in the documentation: https://pandas.pydata.org/pandas-docs/stable/user_guide/indexing.html#returning-a-view-versus-a-copy\n",
      "  df_test[target]=df_test[target].round().astype(int)#.value_counts()\n",
      "<ipython-input-242-572980321cf2>:13: RuntimeWarning: invalid value encountered in long_scalars\n",
      "  'Precision':    cm2[1,1]/(cm2[0,1]+cm2[1,1]) if len(y_test.value_counts())>1 else np.nan,\n",
      "<ipython-input-243-ba6271b24b78>:6: SettingWithCopyWarning: \n",
      "A value is trying to be set on a copy of a slice from a DataFrame.\n",
      "Try using .loc[row_indexer,col_indexer] = value instead\n",
      "\n",
      "See the caveats in the documentation: https://pandas.pydata.org/pandas-docs/stable/user_guide/indexing.html#returning-a-view-versus-a-copy\n",
      "  df_train[target]=df_train[target].round().astype(int)#.value_counts()\n",
      "<ipython-input-243-ba6271b24b78>:7: SettingWithCopyWarning: \n",
      "A value is trying to be set on a copy of a slice from a DataFrame.\n",
      "Try using .loc[row_indexer,col_indexer] = value instead\n",
      "\n",
      "See the caveats in the documentation: https://pandas.pydata.org/pandas-docs/stable/user_guide/indexing.html#returning-a-view-versus-a-copy\n",
      "  df_test[target]=df_test[target].round().astype(int)#.value_counts()\n",
      "<ipython-input-242-572980321cf2>:13: RuntimeWarning: invalid value encountered in long_scalars\n",
      "  'Precision':    cm2[1,1]/(cm2[0,1]+cm2[1,1]) if len(y_test.value_counts())>1 else np.nan,\n",
      "<ipython-input-243-ba6271b24b78>:6: SettingWithCopyWarning: \n",
      "A value is trying to be set on a copy of a slice from a DataFrame.\n",
      "Try using .loc[row_indexer,col_indexer] = value instead\n",
      "\n",
      "See the caveats in the documentation: https://pandas.pydata.org/pandas-docs/stable/user_guide/indexing.html#returning-a-view-versus-a-copy\n",
      "  df_train[target]=df_train[target].round().astype(int)#.value_counts()\n",
      "<ipython-input-243-ba6271b24b78>:7: SettingWithCopyWarning: \n",
      "A value is trying to be set on a copy of a slice from a DataFrame.\n",
      "Try using .loc[row_indexer,col_indexer] = value instead\n",
      "\n",
      "See the caveats in the documentation: https://pandas.pydata.org/pandas-docs/stable/user_guide/indexing.html#returning-a-view-versus-a-copy\n",
      "  df_test[target]=df_test[target].round().astype(int)#.value_counts()\n",
      "<ipython-input-242-572980321cf2>:13: RuntimeWarning: invalid value encountered in long_scalars\n",
      "  'Precision':    cm2[1,1]/(cm2[0,1]+cm2[1,1]) if len(y_test.value_counts())>1 else np.nan,\n",
      "<ipython-input-243-ba6271b24b78>:6: SettingWithCopyWarning: \n",
      "A value is trying to be set on a copy of a slice from a DataFrame.\n",
      "Try using .loc[row_indexer,col_indexer] = value instead\n",
      "\n",
      "See the caveats in the documentation: https://pandas.pydata.org/pandas-docs/stable/user_guide/indexing.html#returning-a-view-versus-a-copy\n",
      "  df_train[target]=df_train[target].round().astype(int)#.value_counts()\n",
      "<ipython-input-243-ba6271b24b78>:7: SettingWithCopyWarning: \n",
      "A value is trying to be set on a copy of a slice from a DataFrame.\n",
      "Try using .loc[row_indexer,col_indexer] = value instead\n",
      "\n",
      "See the caveats in the documentation: https://pandas.pydata.org/pandas-docs/stable/user_guide/indexing.html#returning-a-view-versus-a-copy\n",
      "  df_test[target]=df_test[target].round().astype(int)#.value_counts()\n"
     ]
    },
    {
     "name": "stderr",
     "output_type": "stream",
     "text": [
      "/Users/miguelamaro/.pyenv/versions/3.8.5/envs/lewagon/lib/python3.8/site-packages/sklearn/linear_model/_logistic.py:937: ConvergenceWarning: lbfgs failed to converge (status=1):\n",
      "STOP: TOTAL NO. of ITERATIONS REACHED LIMIT.\n",
      "\n",
      "Increase the number of iterations (max_iter) or scale the data as shown in:\n",
      "    https://scikit-learn.org/stable/modules/preprocessing.html.\n",
      "Please also refer to the documentation for alternative solver options:\n",
      "    https://scikit-learn.org/stable/modules/linear_model.html#logistic-regression\n",
      "  n_iter_i = _check_optimize_result(\n",
      "<ipython-input-243-ba6271b24b78>:6: SettingWithCopyWarning: \n",
      "A value is trying to be set on a copy of a slice from a DataFrame.\n",
      "Try using .loc[row_indexer,col_indexer] = value instead\n",
      "\n",
      "See the caveats in the documentation: https://pandas.pydata.org/pandas-docs/stable/user_guide/indexing.html#returning-a-view-versus-a-copy\n",
      "  df_train[target]=df_train[target].round().astype(int)#.value_counts()\n",
      "<ipython-input-243-ba6271b24b78>:7: SettingWithCopyWarning: \n",
      "A value is trying to be set on a copy of a slice from a DataFrame.\n",
      "Try using .loc[row_indexer,col_indexer] = value instead\n",
      "\n",
      "See the caveats in the documentation: https://pandas.pydata.org/pandas-docs/stable/user_guide/indexing.html#returning-a-view-versus-a-copy\n",
      "  df_test[target]=df_test[target].round().astype(int)#.value_counts()\n",
      "<ipython-input-243-ba6271b24b78>:6: SettingWithCopyWarning: \n",
      "A value is trying to be set on a copy of a slice from a DataFrame.\n",
      "Try using .loc[row_indexer,col_indexer] = value instead\n",
      "\n",
      "See the caveats in the documentation: https://pandas.pydata.org/pandas-docs/stable/user_guide/indexing.html#returning-a-view-versus-a-copy\n",
      "  df_train[target]=df_train[target].round().astype(int)#.value_counts()\n",
      "<ipython-input-243-ba6271b24b78>:7: SettingWithCopyWarning: \n",
      "A value is trying to be set on a copy of a slice from a DataFrame.\n",
      "Try using .loc[row_indexer,col_indexer] = value instead\n",
      "\n",
      "See the caveats in the documentation: https://pandas.pydata.org/pandas-docs/stable/user_guide/indexing.html#returning-a-view-versus-a-copy\n",
      "  df_test[target]=df_test[target].round().astype(int)#.value_counts()\n",
      "<ipython-input-243-ba6271b24b78>:6: SettingWithCopyWarning: \n",
      "A value is trying to be set on a copy of a slice from a DataFrame.\n",
      "Try using .loc[row_indexer,col_indexer] = value instead\n",
      "\n",
      "See the caveats in the documentation: https://pandas.pydata.org/pandas-docs/stable/user_guide/indexing.html#returning-a-view-versus-a-copy\n",
      "  df_train[target]=df_train[target].round().astype(int)#.value_counts()\n",
      "<ipython-input-243-ba6271b24b78>:7: SettingWithCopyWarning: \n",
      "A value is trying to be set on a copy of a slice from a DataFrame.\n",
      "Try using .loc[row_indexer,col_indexer] = value instead\n",
      "\n",
      "See the caveats in the documentation: https://pandas.pydata.org/pandas-docs/stable/user_guide/indexing.html#returning-a-view-versus-a-copy\n",
      "  df_test[target]=df_test[target].round().astype(int)#.value_counts()\n",
      "<ipython-input-243-ba6271b24b78>:6: SettingWithCopyWarning: \n",
      "A value is trying to be set on a copy of a slice from a DataFrame.\n",
      "Try using .loc[row_indexer,col_indexer] = value instead\n",
      "\n",
      "See the caveats in the documentation: https://pandas.pydata.org/pandas-docs/stable/user_guide/indexing.html#returning-a-view-versus-a-copy\n",
      "  df_train[target]=df_train[target].round().astype(int)#.value_counts()\n",
      "<ipython-input-243-ba6271b24b78>:7: SettingWithCopyWarning: \n",
      "A value is trying to be set on a copy of a slice from a DataFrame.\n",
      "Try using .loc[row_indexer,col_indexer] = value instead\n",
      "\n",
      "See the caveats in the documentation: https://pandas.pydata.org/pandas-docs/stable/user_guide/indexing.html#returning-a-view-versus-a-copy\n",
      "  df_test[target]=df_test[target].round().astype(int)#.value_counts()\n",
      "<ipython-input-243-ba6271b24b78>:6: SettingWithCopyWarning: \n",
      "A value is trying to be set on a copy of a slice from a DataFrame.\n",
      "Try using .loc[row_indexer,col_indexer] = value instead\n",
      "\n",
      "See the caveats in the documentation: https://pandas.pydata.org/pandas-docs/stable/user_guide/indexing.html#returning-a-view-versus-a-copy\n",
      "  df_train[target]=df_train[target].round().astype(int)#.value_counts()\n",
      "<ipython-input-243-ba6271b24b78>:7: SettingWithCopyWarning: \n",
      "A value is trying to be set on a copy of a slice from a DataFrame.\n",
      "Try using .loc[row_indexer,col_indexer] = value instead\n",
      "\n",
      "See the caveats in the documentation: https://pandas.pydata.org/pandas-docs/stable/user_guide/indexing.html#returning-a-view-versus-a-copy\n",
      "  df_test[target]=df_test[target].round().astype(int)#.value_counts()\n",
      "<ipython-input-243-ba6271b24b78>:6: SettingWithCopyWarning: \n",
      "A value is trying to be set on a copy of a slice from a DataFrame.\n",
      "Try using .loc[row_indexer,col_indexer] = value instead\n",
      "\n",
      "See the caveats in the documentation: https://pandas.pydata.org/pandas-docs/stable/user_guide/indexing.html#returning-a-view-versus-a-copy\n",
      "  df_train[target]=df_train[target].round().astype(int)#.value_counts()\n",
      "<ipython-input-243-ba6271b24b78>:7: SettingWithCopyWarning: \n",
      "A value is trying to be set on a copy of a slice from a DataFrame.\n",
      "Try using .loc[row_indexer,col_indexer] = value instead\n",
      "\n",
      "See the caveats in the documentation: https://pandas.pydata.org/pandas-docs/stable/user_guide/indexing.html#returning-a-view-versus-a-copy\n",
      "  df_test[target]=df_test[target].round().astype(int)#.value_counts()\n",
      "<ipython-input-243-ba6271b24b78>:6: SettingWithCopyWarning: \n",
      "A value is trying to be set on a copy of a slice from a DataFrame.\n",
      "Try using .loc[row_indexer,col_indexer] = value instead\n",
      "\n",
      "See the caveats in the documentation: https://pandas.pydata.org/pandas-docs/stable/user_guide/indexing.html#returning-a-view-versus-a-copy\n",
      "  df_train[target]=df_train[target].round().astype(int)#.value_counts()\n",
      "<ipython-input-243-ba6271b24b78>:7: SettingWithCopyWarning: \n",
      "A value is trying to be set on a copy of a slice from a DataFrame.\n",
      "Try using .loc[row_indexer,col_indexer] = value instead\n",
      "\n",
      "See the caveats in the documentation: https://pandas.pydata.org/pandas-docs/stable/user_guide/indexing.html#returning-a-view-versus-a-copy\n",
      "  df_test[target]=df_test[target].round().astype(int)#.value_counts()\n",
      "<ipython-input-243-ba6271b24b78>:6: SettingWithCopyWarning: \n",
      "A value is trying to be set on a copy of a slice from a DataFrame.\n",
      "Try using .loc[row_indexer,col_indexer] = value instead\n",
      "\n",
      "See the caveats in the documentation: https://pandas.pydata.org/pandas-docs/stable/user_guide/indexing.html#returning-a-view-versus-a-copy\n",
      "  df_train[target]=df_train[target].round().astype(int)#.value_counts()\n",
      "<ipython-input-243-ba6271b24b78>:7: SettingWithCopyWarning: \n",
      "A value is trying to be set on a copy of a slice from a DataFrame.\n",
      "Try using .loc[row_indexer,col_indexer] = value instead\n",
      "\n",
      "See the caveats in the documentation: https://pandas.pydata.org/pandas-docs/stable/user_guide/indexing.html#returning-a-view-versus-a-copy\n",
      "  df_test[target]=df_test[target].round().astype(int)#.value_counts()\n",
      "<ipython-input-242-572980321cf2>:13: RuntimeWarning: invalid value encountered in long_scalars\n",
      "  'Precision':    cm2[1,1]/(cm2[0,1]+cm2[1,1]) if len(y_test.value_counts())>1 else np.nan,\n",
      "<ipython-input-243-ba6271b24b78>:6: SettingWithCopyWarning: \n",
      "A value is trying to be set on a copy of a slice from a DataFrame.\n",
      "Try using .loc[row_indexer,col_indexer] = value instead\n",
      "\n",
      "See the caveats in the documentation: https://pandas.pydata.org/pandas-docs/stable/user_guide/indexing.html#returning-a-view-versus-a-copy\n",
      "  df_train[target]=df_train[target].round().astype(int)#.value_counts()\n",
      "<ipython-input-243-ba6271b24b78>:7: SettingWithCopyWarning: \n",
      "A value is trying to be set on a copy of a slice from a DataFrame.\n",
      "Try using .loc[row_indexer,col_indexer] = value instead\n",
      "\n",
      "See the caveats in the documentation: https://pandas.pydata.org/pandas-docs/stable/user_guide/indexing.html#returning-a-view-versus-a-copy\n",
      "  df_test[target]=df_test[target].round().astype(int)#.value_counts()\n",
      "<ipython-input-243-ba6271b24b78>:6: SettingWithCopyWarning: \n",
      "A value is trying to be set on a copy of a slice from a DataFrame.\n",
      "Try using .loc[row_indexer,col_indexer] = value instead\n",
      "\n",
      "See the caveats in the documentation: https://pandas.pydata.org/pandas-docs/stable/user_guide/indexing.html#returning-a-view-versus-a-copy\n",
      "  df_train[target]=df_train[target].round().astype(int)#.value_counts()\n",
      "<ipython-input-243-ba6271b24b78>:7: SettingWithCopyWarning: \n",
      "A value is trying to be set on a copy of a slice from a DataFrame.\n",
      "Try using .loc[row_indexer,col_indexer] = value instead\n",
      "\n",
      "See the caveats in the documentation: https://pandas.pydata.org/pandas-docs/stable/user_guide/indexing.html#returning-a-view-versus-a-copy\n",
      "  df_test[target]=df_test[target].round().astype(int)#.value_counts()\n"
     ]
    },
    {
     "name": "stderr",
     "output_type": "stream",
     "text": [
      "<ipython-input-243-ba6271b24b78>:6: SettingWithCopyWarning: \n",
      "A value is trying to be set on a copy of a slice from a DataFrame.\n",
      "Try using .loc[row_indexer,col_indexer] = value instead\n",
      "\n",
      "See the caveats in the documentation: https://pandas.pydata.org/pandas-docs/stable/user_guide/indexing.html#returning-a-view-versus-a-copy\n",
      "  df_train[target]=df_train[target].round().astype(int)#.value_counts()\n",
      "<ipython-input-243-ba6271b24b78>:7: SettingWithCopyWarning: \n",
      "A value is trying to be set on a copy of a slice from a DataFrame.\n",
      "Try using .loc[row_indexer,col_indexer] = value instead\n",
      "\n",
      "See the caveats in the documentation: https://pandas.pydata.org/pandas-docs/stable/user_guide/indexing.html#returning-a-view-versus-a-copy\n",
      "  df_test[target]=df_test[target].round().astype(int)#.value_counts()\n",
      "<ipython-input-243-ba6271b24b78>:6: SettingWithCopyWarning: \n",
      "A value is trying to be set on a copy of a slice from a DataFrame.\n",
      "Try using .loc[row_indexer,col_indexer] = value instead\n",
      "\n",
      "See the caveats in the documentation: https://pandas.pydata.org/pandas-docs/stable/user_guide/indexing.html#returning-a-view-versus-a-copy\n",
      "  df_train[target]=df_train[target].round().astype(int)#.value_counts()\n",
      "<ipython-input-243-ba6271b24b78>:7: SettingWithCopyWarning: \n",
      "A value is trying to be set on a copy of a slice from a DataFrame.\n",
      "Try using .loc[row_indexer,col_indexer] = value instead\n",
      "\n",
      "See the caveats in the documentation: https://pandas.pydata.org/pandas-docs/stable/user_guide/indexing.html#returning-a-view-versus-a-copy\n",
      "  df_test[target]=df_test[target].round().astype(int)#.value_counts()\n",
      "<ipython-input-243-ba6271b24b78>:6: SettingWithCopyWarning: \n",
      "A value is trying to be set on a copy of a slice from a DataFrame.\n",
      "Try using .loc[row_indexer,col_indexer] = value instead\n",
      "\n",
      "See the caveats in the documentation: https://pandas.pydata.org/pandas-docs/stable/user_guide/indexing.html#returning-a-view-versus-a-copy\n",
      "  df_train[target]=df_train[target].round().astype(int)#.value_counts()\n",
      "<ipython-input-243-ba6271b24b78>:7: SettingWithCopyWarning: \n",
      "A value is trying to be set on a copy of a slice from a DataFrame.\n",
      "Try using .loc[row_indexer,col_indexer] = value instead\n",
      "\n",
      "See the caveats in the documentation: https://pandas.pydata.org/pandas-docs/stable/user_guide/indexing.html#returning-a-view-versus-a-copy\n",
      "  df_test[target]=df_test[target].round().astype(int)#.value_counts()\n",
      "<ipython-input-243-ba6271b24b78>:6: SettingWithCopyWarning: \n",
      "A value is trying to be set on a copy of a slice from a DataFrame.\n",
      "Try using .loc[row_indexer,col_indexer] = value instead\n",
      "\n",
      "See the caveats in the documentation: https://pandas.pydata.org/pandas-docs/stable/user_guide/indexing.html#returning-a-view-versus-a-copy\n",
      "  df_train[target]=df_train[target].round().astype(int)#.value_counts()\n",
      "<ipython-input-243-ba6271b24b78>:7: SettingWithCopyWarning: \n",
      "A value is trying to be set on a copy of a slice from a DataFrame.\n",
      "Try using .loc[row_indexer,col_indexer] = value instead\n",
      "\n",
      "See the caveats in the documentation: https://pandas.pydata.org/pandas-docs/stable/user_guide/indexing.html#returning-a-view-versus-a-copy\n",
      "  df_test[target]=df_test[target].round().astype(int)#.value_counts()\n",
      "<ipython-input-242-572980321cf2>:13: RuntimeWarning: invalid value encountered in long_scalars\n",
      "  'Precision':    cm2[1,1]/(cm2[0,1]+cm2[1,1]) if len(y_test.value_counts())>1 else np.nan,\n",
      "<ipython-input-243-ba6271b24b78>:6: SettingWithCopyWarning: \n",
      "A value is trying to be set on a copy of a slice from a DataFrame.\n",
      "Try using .loc[row_indexer,col_indexer] = value instead\n",
      "\n",
      "See the caveats in the documentation: https://pandas.pydata.org/pandas-docs/stable/user_guide/indexing.html#returning-a-view-versus-a-copy\n",
      "  df_train[target]=df_train[target].round().astype(int)#.value_counts()\n",
      "<ipython-input-243-ba6271b24b78>:7: SettingWithCopyWarning: \n",
      "A value is trying to be set on a copy of a slice from a DataFrame.\n",
      "Try using .loc[row_indexer,col_indexer] = value instead\n",
      "\n",
      "See the caveats in the documentation: https://pandas.pydata.org/pandas-docs/stable/user_guide/indexing.html#returning-a-view-versus-a-copy\n",
      "  df_test[target]=df_test[target].round().astype(int)#.value_counts()\n",
      "<ipython-input-242-572980321cf2>:13: RuntimeWarning: invalid value encountered in long_scalars\n",
      "  'Precision':    cm2[1,1]/(cm2[0,1]+cm2[1,1]) if len(y_test.value_counts())>1 else np.nan,\n",
      "<ipython-input-243-ba6271b24b78>:6: SettingWithCopyWarning: \n",
      "A value is trying to be set on a copy of a slice from a DataFrame.\n",
      "Try using .loc[row_indexer,col_indexer] = value instead\n",
      "\n",
      "See the caveats in the documentation: https://pandas.pydata.org/pandas-docs/stable/user_guide/indexing.html#returning-a-view-versus-a-copy\n",
      "  df_train[target]=df_train[target].round().astype(int)#.value_counts()\n",
      "<ipython-input-243-ba6271b24b78>:7: SettingWithCopyWarning: \n",
      "A value is trying to be set on a copy of a slice from a DataFrame.\n",
      "Try using .loc[row_indexer,col_indexer] = value instead\n",
      "\n",
      "See the caveats in the documentation: https://pandas.pydata.org/pandas-docs/stable/user_guide/indexing.html#returning-a-view-versus-a-copy\n",
      "  df_test[target]=df_test[target].round().astype(int)#.value_counts()\n",
      "<ipython-input-242-572980321cf2>:13: RuntimeWarning: invalid value encountered in long_scalars\n",
      "  'Precision':    cm2[1,1]/(cm2[0,1]+cm2[1,1]) if len(y_test.value_counts())>1 else np.nan,\n",
      "<ipython-input-243-ba6271b24b78>:6: SettingWithCopyWarning: \n",
      "A value is trying to be set on a copy of a slice from a DataFrame.\n",
      "Try using .loc[row_indexer,col_indexer] = value instead\n",
      "\n",
      "See the caveats in the documentation: https://pandas.pydata.org/pandas-docs/stable/user_guide/indexing.html#returning-a-view-versus-a-copy\n",
      "  df_train[target]=df_train[target].round().astype(int)#.value_counts()\n",
      "<ipython-input-243-ba6271b24b78>:7: SettingWithCopyWarning: \n",
      "A value is trying to be set on a copy of a slice from a DataFrame.\n",
      "Try using .loc[row_indexer,col_indexer] = value instead\n",
      "\n",
      "See the caveats in the documentation: https://pandas.pydata.org/pandas-docs/stable/user_guide/indexing.html#returning-a-view-versus-a-copy\n",
      "  df_test[target]=df_test[target].round().astype(int)#.value_counts()\n",
      "<ipython-input-242-572980321cf2>:13: RuntimeWarning: invalid value encountered in long_scalars\n",
      "  'Precision':    cm2[1,1]/(cm2[0,1]+cm2[1,1]) if len(y_test.value_counts())>1 else np.nan,\n",
      "<ipython-input-243-ba6271b24b78>:6: SettingWithCopyWarning: \n",
      "A value is trying to be set on a copy of a slice from a DataFrame.\n",
      "Try using .loc[row_indexer,col_indexer] = value instead\n",
      "\n",
      "See the caveats in the documentation: https://pandas.pydata.org/pandas-docs/stable/user_guide/indexing.html#returning-a-view-versus-a-copy\n",
      "  df_train[target]=df_train[target].round().astype(int)#.value_counts()\n",
      "<ipython-input-243-ba6271b24b78>:7: SettingWithCopyWarning: \n",
      "A value is trying to be set on a copy of a slice from a DataFrame.\n",
      "Try using .loc[row_indexer,col_indexer] = value instead\n",
      "\n",
      "See the caveats in the documentation: https://pandas.pydata.org/pandas-docs/stable/user_guide/indexing.html#returning-a-view-versus-a-copy\n",
      "  df_test[target]=df_test[target].round().astype(int)#.value_counts()\n",
      "<ipython-input-243-ba6271b24b78>:6: SettingWithCopyWarning: \n",
      "A value is trying to be set on a copy of a slice from a DataFrame.\n",
      "Try using .loc[row_indexer,col_indexer] = value instead\n",
      "\n",
      "See the caveats in the documentation: https://pandas.pydata.org/pandas-docs/stable/user_guide/indexing.html#returning-a-view-versus-a-copy\n",
      "  df_train[target]=df_train[target].round().astype(int)#.value_counts()\n",
      "<ipython-input-243-ba6271b24b78>:7: SettingWithCopyWarning: \n",
      "A value is trying to be set on a copy of a slice from a DataFrame.\n",
      "Try using .loc[row_indexer,col_indexer] = value instead\n",
      "\n",
      "See the caveats in the documentation: https://pandas.pydata.org/pandas-docs/stable/user_guide/indexing.html#returning-a-view-versus-a-copy\n",
      "  df_test[target]=df_test[target].round().astype(int)#.value_counts()\n",
      "/Users/miguelamaro/.pyenv/versions/3.8.5/envs/lewagon/lib/python3.8/site-packages/joblib/externals/loky/process_executor.py:688: UserWarning: A worker stopped while some jobs were given to the executor. This can be caused by a too short worker timeout or by a memory leak.\n",
      "  warnings.warn(\n",
      "<ipython-input-243-ba6271b24b78>:6: SettingWithCopyWarning: \n",
      "A value is trying to be set on a copy of a slice from a DataFrame.\n",
      "Try using .loc[row_indexer,col_indexer] = value instead\n",
      "\n",
      "See the caveats in the documentation: https://pandas.pydata.org/pandas-docs/stable/user_guide/indexing.html#returning-a-view-versus-a-copy\n",
      "  df_train[target]=df_train[target].round().astype(int)#.value_counts()\n",
      "<ipython-input-243-ba6271b24b78>:7: SettingWithCopyWarning: \n",
      "A value is trying to be set on a copy of a slice from a DataFrame.\n",
      "Try using .loc[row_indexer,col_indexer] = value instead\n",
      "\n",
      "See the caveats in the documentation: https://pandas.pydata.org/pandas-docs/stable/user_guide/indexing.html#returning-a-view-versus-a-copy\n",
      "  df_test[target]=df_test[target].round().astype(int)#.value_counts()\n"
     ]
    },
    {
     "name": "stderr",
     "output_type": "stream",
     "text": [
      "<ipython-input-243-ba6271b24b78>:6: SettingWithCopyWarning: \n",
      "A value is trying to be set on a copy of a slice from a DataFrame.\n",
      "Try using .loc[row_indexer,col_indexer] = value instead\n",
      "\n",
      "See the caveats in the documentation: https://pandas.pydata.org/pandas-docs/stable/user_guide/indexing.html#returning-a-view-versus-a-copy\n",
      "  df_train[target]=df_train[target].round().astype(int)#.value_counts()\n",
      "<ipython-input-243-ba6271b24b78>:7: SettingWithCopyWarning: \n",
      "A value is trying to be set on a copy of a slice from a DataFrame.\n",
      "Try using .loc[row_indexer,col_indexer] = value instead\n",
      "\n",
      "See the caveats in the documentation: https://pandas.pydata.org/pandas-docs/stable/user_guide/indexing.html#returning-a-view-versus-a-copy\n",
      "  df_test[target]=df_test[target].round().astype(int)#.value_counts()\n",
      "<ipython-input-243-ba6271b24b78>:6: SettingWithCopyWarning: \n",
      "A value is trying to be set on a copy of a slice from a DataFrame.\n",
      "Try using .loc[row_indexer,col_indexer] = value instead\n",
      "\n",
      "See the caveats in the documentation: https://pandas.pydata.org/pandas-docs/stable/user_guide/indexing.html#returning-a-view-versus-a-copy\n",
      "  df_train[target]=df_train[target].round().astype(int)#.value_counts()\n",
      "<ipython-input-243-ba6271b24b78>:7: SettingWithCopyWarning: \n",
      "A value is trying to be set on a copy of a slice from a DataFrame.\n",
      "Try using .loc[row_indexer,col_indexer] = value instead\n",
      "\n",
      "See the caveats in the documentation: https://pandas.pydata.org/pandas-docs/stable/user_guide/indexing.html#returning-a-view-versus-a-copy\n",
      "  df_test[target]=df_test[target].round().astype(int)#.value_counts()\n",
      "<ipython-input-242-572980321cf2>:13: RuntimeWarning: invalid value encountered in long_scalars\n",
      "  'Precision':    cm2[1,1]/(cm2[0,1]+cm2[1,1]) if len(y_test.value_counts())>1 else np.nan,\n",
      "<ipython-input-243-ba6271b24b78>:6: SettingWithCopyWarning: \n",
      "A value is trying to be set on a copy of a slice from a DataFrame.\n",
      "Try using .loc[row_indexer,col_indexer] = value instead\n",
      "\n",
      "See the caveats in the documentation: https://pandas.pydata.org/pandas-docs/stable/user_guide/indexing.html#returning-a-view-versus-a-copy\n",
      "  df_train[target]=df_train[target].round().astype(int)#.value_counts()\n",
      "<ipython-input-243-ba6271b24b78>:7: SettingWithCopyWarning: \n",
      "A value is trying to be set on a copy of a slice from a DataFrame.\n",
      "Try using .loc[row_indexer,col_indexer] = value instead\n",
      "\n",
      "See the caveats in the documentation: https://pandas.pydata.org/pandas-docs/stable/user_guide/indexing.html#returning-a-view-versus-a-copy\n",
      "  df_test[target]=df_test[target].round().astype(int)#.value_counts()\n",
      "<ipython-input-242-572980321cf2>:13: RuntimeWarning: invalid value encountered in long_scalars\n",
      "  'Precision':    cm2[1,1]/(cm2[0,1]+cm2[1,1]) if len(y_test.value_counts())>1 else np.nan,\n",
      "<ipython-input-243-ba6271b24b78>:6: SettingWithCopyWarning: \n",
      "A value is trying to be set on a copy of a slice from a DataFrame.\n",
      "Try using .loc[row_indexer,col_indexer] = value instead\n",
      "\n",
      "See the caveats in the documentation: https://pandas.pydata.org/pandas-docs/stable/user_guide/indexing.html#returning-a-view-versus-a-copy\n",
      "  df_train[target]=df_train[target].round().astype(int)#.value_counts()\n",
      "<ipython-input-243-ba6271b24b78>:7: SettingWithCopyWarning: \n",
      "A value is trying to be set on a copy of a slice from a DataFrame.\n",
      "Try using .loc[row_indexer,col_indexer] = value instead\n",
      "\n",
      "See the caveats in the documentation: https://pandas.pydata.org/pandas-docs/stable/user_guide/indexing.html#returning-a-view-versus-a-copy\n",
      "  df_test[target]=df_test[target].round().astype(int)#.value_counts()\n",
      "<ipython-input-243-ba6271b24b78>:6: SettingWithCopyWarning: \n",
      "A value is trying to be set on a copy of a slice from a DataFrame.\n",
      "Try using .loc[row_indexer,col_indexer] = value instead\n",
      "\n",
      "See the caveats in the documentation: https://pandas.pydata.org/pandas-docs/stable/user_guide/indexing.html#returning-a-view-versus-a-copy\n",
      "  df_train[target]=df_train[target].round().astype(int)#.value_counts()\n",
      "<ipython-input-243-ba6271b24b78>:7: SettingWithCopyWarning: \n",
      "A value is trying to be set on a copy of a slice from a DataFrame.\n",
      "Try using .loc[row_indexer,col_indexer] = value instead\n",
      "\n",
      "See the caveats in the documentation: https://pandas.pydata.org/pandas-docs/stable/user_guide/indexing.html#returning-a-view-versus-a-copy\n",
      "  df_test[target]=df_test[target].round().astype(int)#.value_counts()\n",
      "<ipython-input-243-ba6271b24b78>:6: SettingWithCopyWarning: \n",
      "A value is trying to be set on a copy of a slice from a DataFrame.\n",
      "Try using .loc[row_indexer,col_indexer] = value instead\n",
      "\n",
      "See the caveats in the documentation: https://pandas.pydata.org/pandas-docs/stable/user_guide/indexing.html#returning-a-view-versus-a-copy\n",
      "  df_train[target]=df_train[target].round().astype(int)#.value_counts()\n",
      "<ipython-input-243-ba6271b24b78>:7: SettingWithCopyWarning: \n",
      "A value is trying to be set on a copy of a slice from a DataFrame.\n",
      "Try using .loc[row_indexer,col_indexer] = value instead\n",
      "\n",
      "See the caveats in the documentation: https://pandas.pydata.org/pandas-docs/stable/user_guide/indexing.html#returning-a-view-versus-a-copy\n",
      "  df_test[target]=df_test[target].round().astype(int)#.value_counts()\n",
      "<ipython-input-242-572980321cf2>:13: RuntimeWarning: invalid value encountered in long_scalars\n",
      "  'Precision':    cm2[1,1]/(cm2[0,1]+cm2[1,1]) if len(y_test.value_counts())>1 else np.nan,\n",
      "<ipython-input-243-ba6271b24b78>:6: SettingWithCopyWarning: \n",
      "A value is trying to be set on a copy of a slice from a DataFrame.\n",
      "Try using .loc[row_indexer,col_indexer] = value instead\n",
      "\n",
      "See the caveats in the documentation: https://pandas.pydata.org/pandas-docs/stable/user_guide/indexing.html#returning-a-view-versus-a-copy\n",
      "  df_train[target]=df_train[target].round().astype(int)#.value_counts()\n",
      "<ipython-input-243-ba6271b24b78>:7: SettingWithCopyWarning: \n",
      "A value is trying to be set on a copy of a slice from a DataFrame.\n",
      "Try using .loc[row_indexer,col_indexer] = value instead\n",
      "\n",
      "See the caveats in the documentation: https://pandas.pydata.org/pandas-docs/stable/user_guide/indexing.html#returning-a-view-versus-a-copy\n",
      "  df_test[target]=df_test[target].round().astype(int)#.value_counts()\n",
      "<ipython-input-243-ba6271b24b78>:6: SettingWithCopyWarning: \n",
      "A value is trying to be set on a copy of a slice from a DataFrame.\n",
      "Try using .loc[row_indexer,col_indexer] = value instead\n",
      "\n",
      "See the caveats in the documentation: https://pandas.pydata.org/pandas-docs/stable/user_guide/indexing.html#returning-a-view-versus-a-copy\n",
      "  df_train[target]=df_train[target].round().astype(int)#.value_counts()\n",
      "<ipython-input-243-ba6271b24b78>:7: SettingWithCopyWarning: \n",
      "A value is trying to be set on a copy of a slice from a DataFrame.\n",
      "Try using .loc[row_indexer,col_indexer] = value instead\n",
      "\n",
      "See the caveats in the documentation: https://pandas.pydata.org/pandas-docs/stable/user_guide/indexing.html#returning-a-view-versus-a-copy\n",
      "  df_test[target]=df_test[target].round().astype(int)#.value_counts()\n",
      "/Users/miguelamaro/.pyenv/versions/3.8.5/envs/lewagon/lib/python3.8/site-packages/sklearn/linear_model/_logistic.py:937: ConvergenceWarning: lbfgs failed to converge (status=1):\n",
      "STOP: TOTAL NO. of ITERATIONS REACHED LIMIT.\n",
      "\n",
      "Increase the number of iterations (max_iter) or scale the data as shown in:\n",
      "    https://scikit-learn.org/stable/modules/preprocessing.html.\n",
      "Please also refer to the documentation for alternative solver options:\n",
      "    https://scikit-learn.org/stable/modules/linear_model.html#logistic-regression\n",
      "  n_iter_i = _check_optimize_result(\n",
      "<ipython-input-243-ba6271b24b78>:6: SettingWithCopyWarning: \n",
      "A value is trying to be set on a copy of a slice from a DataFrame.\n",
      "Try using .loc[row_indexer,col_indexer] = value instead\n",
      "\n",
      "See the caveats in the documentation: https://pandas.pydata.org/pandas-docs/stable/user_guide/indexing.html#returning-a-view-versus-a-copy\n",
      "  df_train[target]=df_train[target].round().astype(int)#.value_counts()\n",
      "<ipython-input-243-ba6271b24b78>:7: SettingWithCopyWarning: \n",
      "A value is trying to be set on a copy of a slice from a DataFrame.\n",
      "Try using .loc[row_indexer,col_indexer] = value instead\n",
      "\n",
      "See the caveats in the documentation: https://pandas.pydata.org/pandas-docs/stable/user_guide/indexing.html#returning-a-view-versus-a-copy\n",
      "  df_test[target]=df_test[target].round().astype(int)#.value_counts()\n"
     ]
    },
    {
     "name": "stderr",
     "output_type": "stream",
     "text": [
      "/Users/miguelamaro/.pyenv/versions/3.8.5/envs/lewagon/lib/python3.8/site-packages/sklearn/linear_model/_logistic.py:937: ConvergenceWarning: lbfgs failed to converge (status=1):\n",
      "STOP: TOTAL NO. of ITERATIONS REACHED LIMIT.\n",
      "\n",
      "Increase the number of iterations (max_iter) or scale the data as shown in:\n",
      "    https://scikit-learn.org/stable/modules/preprocessing.html.\n",
      "Please also refer to the documentation for alternative solver options:\n",
      "    https://scikit-learn.org/stable/modules/linear_model.html#logistic-regression\n",
      "  n_iter_i = _check_optimize_result(\n",
      "<ipython-input-243-ba6271b24b78>:6: SettingWithCopyWarning: \n",
      "A value is trying to be set on a copy of a slice from a DataFrame.\n",
      "Try using .loc[row_indexer,col_indexer] = value instead\n",
      "\n",
      "See the caveats in the documentation: https://pandas.pydata.org/pandas-docs/stable/user_guide/indexing.html#returning-a-view-versus-a-copy\n",
      "  df_train[target]=df_train[target].round().astype(int)#.value_counts()\n",
      "<ipython-input-243-ba6271b24b78>:7: SettingWithCopyWarning: \n",
      "A value is trying to be set on a copy of a slice from a DataFrame.\n",
      "Try using .loc[row_indexer,col_indexer] = value instead\n",
      "\n",
      "See the caveats in the documentation: https://pandas.pydata.org/pandas-docs/stable/user_guide/indexing.html#returning-a-view-versus-a-copy\n",
      "  df_test[target]=df_test[target].round().astype(int)#.value_counts()\n",
      "<ipython-input-243-ba6271b24b78>:6: SettingWithCopyWarning: \n",
      "A value is trying to be set on a copy of a slice from a DataFrame.\n",
      "Try using .loc[row_indexer,col_indexer] = value instead\n",
      "\n",
      "See the caveats in the documentation: https://pandas.pydata.org/pandas-docs/stable/user_guide/indexing.html#returning-a-view-versus-a-copy\n",
      "  df_train[target]=df_train[target].round().astype(int)#.value_counts()\n",
      "<ipython-input-243-ba6271b24b78>:7: SettingWithCopyWarning: \n",
      "A value is trying to be set on a copy of a slice from a DataFrame.\n",
      "Try using .loc[row_indexer,col_indexer] = value instead\n",
      "\n",
      "See the caveats in the documentation: https://pandas.pydata.org/pandas-docs/stable/user_guide/indexing.html#returning-a-view-versus-a-copy\n",
      "  df_test[target]=df_test[target].round().astype(int)#.value_counts()\n",
      "<ipython-input-243-ba6271b24b78>:6: SettingWithCopyWarning: \n",
      "A value is trying to be set on a copy of a slice from a DataFrame.\n",
      "Try using .loc[row_indexer,col_indexer] = value instead\n",
      "\n",
      "See the caveats in the documentation: https://pandas.pydata.org/pandas-docs/stable/user_guide/indexing.html#returning-a-view-versus-a-copy\n",
      "  df_train[target]=df_train[target].round().astype(int)#.value_counts()\n",
      "<ipython-input-243-ba6271b24b78>:7: SettingWithCopyWarning: \n",
      "A value is trying to be set on a copy of a slice from a DataFrame.\n",
      "Try using .loc[row_indexer,col_indexer] = value instead\n",
      "\n",
      "See the caveats in the documentation: https://pandas.pydata.org/pandas-docs/stable/user_guide/indexing.html#returning-a-view-versus-a-copy\n",
      "  df_test[target]=df_test[target].round().astype(int)#.value_counts()\n",
      "<ipython-input-243-ba6271b24b78>:6: SettingWithCopyWarning: \n",
      "A value is trying to be set on a copy of a slice from a DataFrame.\n",
      "Try using .loc[row_indexer,col_indexer] = value instead\n",
      "\n",
      "See the caveats in the documentation: https://pandas.pydata.org/pandas-docs/stable/user_guide/indexing.html#returning-a-view-versus-a-copy\n",
      "  df_train[target]=df_train[target].round().astype(int)#.value_counts()\n",
      "<ipython-input-243-ba6271b24b78>:7: SettingWithCopyWarning: \n",
      "A value is trying to be set on a copy of a slice from a DataFrame.\n",
      "Try using .loc[row_indexer,col_indexer] = value instead\n",
      "\n",
      "See the caveats in the documentation: https://pandas.pydata.org/pandas-docs/stable/user_guide/indexing.html#returning-a-view-versus-a-copy\n",
      "  df_test[target]=df_test[target].round().astype(int)#.value_counts()\n",
      "<ipython-input-243-ba6271b24b78>:6: SettingWithCopyWarning: \n",
      "A value is trying to be set on a copy of a slice from a DataFrame.\n",
      "Try using .loc[row_indexer,col_indexer] = value instead\n",
      "\n",
      "See the caveats in the documentation: https://pandas.pydata.org/pandas-docs/stable/user_guide/indexing.html#returning-a-view-versus-a-copy\n",
      "  df_train[target]=df_train[target].round().astype(int)#.value_counts()\n",
      "<ipython-input-243-ba6271b24b78>:7: SettingWithCopyWarning: \n",
      "A value is trying to be set on a copy of a slice from a DataFrame.\n",
      "Try using .loc[row_indexer,col_indexer] = value instead\n",
      "\n",
      "See the caveats in the documentation: https://pandas.pydata.org/pandas-docs/stable/user_guide/indexing.html#returning-a-view-versus-a-copy\n",
      "  df_test[target]=df_test[target].round().astype(int)#.value_counts()\n",
      "<ipython-input-243-ba6271b24b78>:6: SettingWithCopyWarning: \n",
      "A value is trying to be set on a copy of a slice from a DataFrame.\n",
      "Try using .loc[row_indexer,col_indexer] = value instead\n",
      "\n",
      "See the caveats in the documentation: https://pandas.pydata.org/pandas-docs/stable/user_guide/indexing.html#returning-a-view-versus-a-copy\n",
      "  df_train[target]=df_train[target].round().astype(int)#.value_counts()\n",
      "<ipython-input-243-ba6271b24b78>:7: SettingWithCopyWarning: \n",
      "A value is trying to be set on a copy of a slice from a DataFrame.\n",
      "Try using .loc[row_indexer,col_indexer] = value instead\n",
      "\n",
      "See the caveats in the documentation: https://pandas.pydata.org/pandas-docs/stable/user_guide/indexing.html#returning-a-view-versus-a-copy\n",
      "  df_test[target]=df_test[target].round().astype(int)#.value_counts()\n"
     ]
    }
   ],
   "source": [
    "dict_results_by_component={}\n",
    "    \n",
    "for   key,df_ in dict_df.items():\n",
    "    \n",
    "    df_train=df_[0]\n",
    "    df_test=df_[1]\n",
    "    features=df_[0].drop(columns=['60_days', '30_days', '10_days', 'Date', 'Turbine_ID']).columns\n",
    "\n",
    "    \n",
    "    dict_results_by_component[key]=pd.DataFrame(several_models_results())"
   ]
  },
  {
   "cell_type": "code",
   "execution_count": 253,
   "metadata": {
    "ExecuteTime": {
     "end_time": "2021-02-07T21:01:44.633241Z",
     "start_time": "2021-02-07T21:01:43.526652Z"
    }
   },
   "outputs": [
    {
     "data": {
      "image/png": "[encoded data removed]",
      "text/plain": [
       "<Figure size 864x360 with 1 Axes>"
      ]
     },
     "metadata": {},
     "output_type": "display_data"
    },
    {
     "data": {
      "image/png": "[encoded data removed]",
      "text/plain": [
       "<Figure size 864x360 with 1 Axes>"
      ]
     },
     "metadata": {},
     "output_type": "display_data"
    },
    {
     "data": {
      "image/png": "[encoded data removed]",
      "text/plain": [
       "<Figure size 864x360 with 1 Axes>"
      ]
     },
     "metadata": {},
     "output_type": "display_data"
    },
    {
     "data": {
      "image/png": "[encoded data removed]",
      "text/plain": [
       "<Figure size 864x360 with 1 Axes>"
      ]
     },
     "metadata": {},
     "output_type": "display_data"
    },
    {
     "data": {
      "image/png": "[encoded data removed]",
      "text/plain": [
       "<Figure size 864x360 with 1 Axes>"
      ]
     },
     "metadata": {},
     "output_type": "display_data"
    }
   ],
   "source": [
    "sns.set_theme()\n",
    "\n",
    "fig, ax = plt.subplots(figsize=(12,5))\n",
    "\n",
    "for i in dict_results_by_component.keys():\n",
    "    dict_results_by_component[i].loc['AUC_Train', :].plot()\n",
    "plt.title('AUC_Train')\n",
    "plt.show()\n",
    "\n",
    "fig, ax = plt.subplots(figsize=(12,5))\n",
    "\n",
    "\n",
    "for i in dict_results_by_component.keys():\n",
    "    dict_results_by_component[i].loc['AUC_Test', :].plot()\n",
    "plt.title('AUC_Test')\n",
    "plt.show()\n",
    "\n",
    "fig, ax = plt.subplots(figsize=(12,5))\n",
    "\n",
    "\n",
    "for i in dict_results_by_component.keys():\n",
    "    dict_results_by_component[i].loc['Recall', :].plot()\n",
    "plt.title('Recall')\n",
    "plt.show()\n",
    "\n",
    "\n",
    "fig, ax = plt.subplots(figsize=(12,5))\n",
    "\n",
    "\n",
    "for i in dict_results_by_component.keys():\n",
    "    dict_results_by_component[i].loc['Precision', :].plot()\n",
    "plt.title('Precision')\n",
    "plt.show()\n",
    "\n",
    "fig, ax = plt.subplots(figsize=(12,5))\n",
    "\n",
    "\n",
    "for i in dict_results_by_component.keys():\n",
    "    dict_results_by_component[i].loc['F1 Score', :].plot()\n",
    "plt.title('F1 Score')\n",
    "plt.show()"
   ]
  },
  {
   "cell_type": "code",
   "execution_count": 255,
   "metadata": {
    "ExecuteTime": {
     "end_time": "2021-02-08T18:18:20.217840Z",
     "start_time": "2021-02-08T18:18:20.146948Z"
    }
   },
   "outputs": [
    {
     "data": {
      "text/html": [
       "<div>\n",
       "<style scoped>\n",
       "    .dataframe tbody tr th:only-of-type {\n",
       "        vertical-align: middle;\n",
       "    }\n",
       "\n",
       "    .dataframe tbody tr th {\n",
       "        vertical-align: top;\n",
       "    }\n",
       "\n",
       "    .dataframe thead th {\n",
       "        text-align: right;\n",
       "    }\n",
       "</style>\n",
       "<table border=\"1\" class=\"dataframe\">\n",
       "  <thead>\n",
       "    <tr style=\"text-align: right;\">\n",
       "      <th></th>\n",
       "      <th>LogReg_60</th>\n",
       "      <th>LogReg_30</th>\n",
       "      <th>LogReg_10</th>\n",
       "      <th>RF_60</th>\n",
       "      <th>RF_30</th>\n",
       "      <th>RF_10</th>\n",
       "      <th>KNN_60</th>\n",
       "      <th>KNN_30</th>\n",
       "      <th>KNN_10</th>\n",
       "    </tr>\n",
       "  </thead>\n",
       "  <tbody>\n",
       "    <tr>\n",
       "      <th>AUC_Train</th>\n",
       "      <td>0.995066</td>\n",
       "      <td>0.995507</td>\n",
       "      <td>0.992215</td>\n",
       "      <td>0.999998</td>\n",
       "      <td>0.999871</td>\n",
       "      <td>0.999753</td>\n",
       "      <td>0.866246</td>\n",
       "      <td>0.902861</td>\n",
       "      <td>0.943444</td>\n",
       "    </tr>\n",
       "    <tr>\n",
       "      <th>AUC_Test</th>\n",
       "      <td>0.267930</td>\n",
       "      <td>0.693135</td>\n",
       "      <td>0.322612</td>\n",
       "      <td>0.865283</td>\n",
       "      <td>0.818966</td>\n",
       "      <td>0.447612</td>\n",
       "      <td>0.515008</td>\n",
       "      <td>0.614125</td>\n",
       "      <td>0.610380</td>\n",
       "    </tr>\n",
       "    <tr>\n",
       "      <th>Accuracy</th>\n",
       "      <td>0.748387</td>\n",
       "      <td>0.821505</td>\n",
       "      <td>0.817204</td>\n",
       "      <td>0.877419</td>\n",
       "      <td>0.933333</td>\n",
       "      <td>0.976344</td>\n",
       "      <td>0.873118</td>\n",
       "      <td>0.937634</td>\n",
       "      <td>0.980645</td>\n",
       "    </tr>\n",
       "    <tr>\n",
       "      <th>Recall</th>\n",
       "      <td>0.016949</td>\n",
       "      <td>0.241379</td>\n",
       "      <td>0.000000</td>\n",
       "      <td>0.033898</td>\n",
       "      <td>0.034483</td>\n",
       "      <td>0.000000</td>\n",
       "      <td>0.000000</td>\n",
       "      <td>0.000000</td>\n",
       "      <td>0.000000</td>\n",
       "    </tr>\n",
       "    <tr>\n",
       "      <th>Specificity</th>\n",
       "      <td>0.854680</td>\n",
       "      <td>0.860092</td>\n",
       "      <td>0.833333</td>\n",
       "      <td>1.000000</td>\n",
       "      <td>0.993119</td>\n",
       "      <td>0.995614</td>\n",
       "      <td>1.000000</td>\n",
       "      <td>1.000000</td>\n",
       "      <td>1.000000</td>\n",
       "    </tr>\n",
       "    <tr>\n",
       "      <th>Precision</th>\n",
       "      <td>0.016667</td>\n",
       "      <td>0.102941</td>\n",
       "      <td>0.000000</td>\n",
       "      <td>1.000000</td>\n",
       "      <td>0.250000</td>\n",
       "      <td>0.000000</td>\n",
       "      <td>NaN</td>\n",
       "      <td>NaN</td>\n",
       "      <td>NaN</td>\n",
       "    </tr>\n",
       "    <tr>\n",
       "      <th>F1 Score</th>\n",
       "      <td>0.016807</td>\n",
       "      <td>0.144330</td>\n",
       "      <td>0.000000</td>\n",
       "      <td>0.065574</td>\n",
       "      <td>0.060606</td>\n",
       "      <td>0.000000</td>\n",
       "      <td>0.000000</td>\n",
       "      <td>0.000000</td>\n",
       "      <td>0.000000</td>\n",
       "    </tr>\n",
       "  </tbody>\n",
       "</table>\n",
       "</div>"
      ],
      "text/plain": [
       "             LogReg_60  LogReg_30  LogReg_10     RF_60     RF_30     RF_10  \\\n",
       "AUC_Train     0.995066   0.995507   0.992215  0.999998  0.999871  0.999753   \n",
       "AUC_Test      0.267930   0.693135   0.322612  0.865283  0.818966  0.447612   \n",
       "Accuracy      0.748387   0.821505   0.817204  0.877419  0.933333  0.976344   \n",
       "Recall        0.016949   0.241379   0.000000  0.033898  0.034483  0.000000   \n",
       "Specificity   0.854680   0.860092   0.833333  1.000000  0.993119  0.995614   \n",
       "Precision     0.016667   0.102941   0.000000  1.000000  0.250000  0.000000   \n",
       "F1 Score      0.016807   0.144330   0.000000  0.065574  0.060606  0.000000   \n",
       "\n",
       "               KNN_60    KNN_30    KNN_10  \n",
       "AUC_Train    0.866246  0.902861  0.943444  \n",
       "AUC_Test     0.515008  0.614125  0.610380  \n",
       "Accuracy     0.873118  0.937634  0.980645  \n",
       "Recall       0.000000  0.000000  0.000000  \n",
       "Specificity  1.000000  1.000000  1.000000  \n",
       "Precision         NaN       NaN       NaN  \n",
       "F1 Score     0.000000  0.000000  0.000000  "
      ]
     },
     "execution_count": 255,
     "metadata": {},
     "output_type": "execute_result"
    }
   ],
   "source": [
    "dict_results_by_component['generator_results']"
   ]
  },
  {
   "cell_type": "code",
   "execution_count": 193,
   "metadata": {
    "ExecuteTime": {
     "end_time": "2021-02-07T19:40:22.151378Z",
     "start_time": "2021-02-07T19:40:22.113291Z"
    }
   },
   "outputs": [
    {
     "data": {
      "text/plain": [
       "dict_keys(['generator_results', 'hydraulic_results', 'genbear_results', 'transformer_results'])"
      ]
     },
     "execution_count": 193,
     "metadata": {},
     "output_type": "execute_result"
    }
   ],
   "source": [
    "dict_results_by_component.keys()"
   ]
  },
  {
   "cell_type": "code",
   "execution_count": 70,
   "metadata": {
    "ExecuteTime": {
     "end_time": "2021-02-07T16:39:22.874063Z",
     "start_time": "2021-02-07T16:39:22.616582Z"
    }
   },
   "outputs": [
    {
     "data": {
      "image/png": "[encoded data removed]",
      "text/plain": [
       "<Figure size 432x288 with 1 Axes>"
      ]
     },
     "metadata": {},
     "output_type": "display_data"
    },
    {
     "name": "stdout",
     "output_type": "stream",
     "text": [
      "Predicted Class    0   1\n",
      "Actual Class            \n",
      "0                375  61\n",
      "1                 22   7\n"
     ]
    },
    {
     "data": {
      "text/plain": [
       "{'AUC_Train': 0.9955067706196143,\n",
       " 'AUC_Test': 0.6931350838342296,\n",
       " 'Accuracy': 0.821505376344086,\n",
       " 'Sensitivity': 0.2413793103448276,\n",
       " 'Specificity': 0.8600917431192661,\n",
       " 'Precision': 0.10294117647058823,\n",
       " 'F1 Score': 0.14432989690721648,\n",
       " 'Log Loss': 0.7378004671732987,\n",
       " 'FBeta Score': 0.23820754716981135}"
      ]
     },
     "execution_count": 70,
     "metadata": {},
     "output_type": "execute_result"
    }
   ],
   "source": [
    "\n",
    "roc_curve_plot(df_test[target], pred_LogReg_test['y_test_prob'])\n",
    "#roc_curve_plot(df_train[target], pred_LogReg_train['y_train_prob'])\n",
    "\n",
    "conf_matrix (df_test[target].values,  pred_LogReg_test['y_test_pred'])\n",
    "\n",
    "metrics (df_train[target], pred_LogReg_train['y_train_prob'], df_test[target], pred_LogReg_test['y_test_pred'], pred_LogReg_test['y_test_prob'])\n",
    "     "
   ]
  },
  {
   "cell_type": "code",
   "execution_count": null,
   "metadata": {},
   "outputs": [],
   "source": []
  }
 ],
 "metadata": {
  "kernelspec": {
   "display_name": "Python 3",
   "language": "python",
   "name": "python3"
  },
  "language_info": {
   "codemirror_mode": {
    "name": "ipython",
    "version": 3
   },
   "file_extension": ".py",
   "mimetype": "text/x-python",
   "name": "python",
   "nbconvert_exporter": "python",
   "pygments_lexer": "ipython3",
   "version": "3.8.5"
  },
  "toc": {
   "base_numbering": "",
   "nav_menu": {},
   "number_sections": true,
   "sideBar": true,
   "skip_h1_title": true,
   "title_cell": "Table of Contents",
   "title_sidebar": "Contents",
   "toc_cell": true,
   "toc_position": {},
   "toc_section_display": false,
   "toc_window_display": true
  }
 },
 "nbformat": 4,
 "nbformat_minor": 4
}
